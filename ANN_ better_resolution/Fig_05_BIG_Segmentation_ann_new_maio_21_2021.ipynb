{
  "nbformat": 4,
  "nbformat_minor": 0,
  "metadata": {
    "colab": {
      "name": "Fig_05_BIG_Segmentation_ann_new_maio_21_2021.ipynb",
      "provenance": [],
      "collapsed_sections": [],
      "include_colab_link": true
    },
    "kernelspec": {
      "name": "python3",
      "display_name": "Python 3"
    }
  },
  "cells": [
    {
      "cell_type": "markdown",
      "metadata": {
        "id": "view-in-github",
        "colab_type": "text"
      },
      "source": [
        "<a href=\"https://colab.research.google.com/github/ucfilho/marquesgabi_paper_fev_2021/blob/main/ANN_%20better_resolution/Fig_05_BIG_Segmentation_ann_new_maio_21_2021.ipynb\" target=\"_parent\"><img src=\"https://colab.research.google.com/assets/colab-badge.svg\" alt=\"Open In Colab\"/></a>"
      ]
    },
    {
      "cell_type": "code",
      "metadata": {
        "id": "Sog7Z9pyhUD_"
      },
      "source": [
        "import matplotlib.pyplot as plt\n",
        "import numpy as np\n",
        "import cv2\n",
        "import zipfile\n",
        "#import random\n",
        "from random import randint\n",
        "from PIL import Image\n",
        "import re\n",
        "from sklearn.model_selection import train_test_split\n",
        "#import scikit-image\n",
        "import skimage\n",
        "import pandas as pd\n",
        "from google.colab import files"
      ],
      "execution_count": null,
      "outputs": []
    },
    {
      "cell_type": "code",
      "metadata": {
        "id": "uZEvJvfoibE4",
        "colab": {
          "base_uri": "https://localhost:8080/"
        },
        "outputId": "4c723654-e657-4e43-a42b-0481d5e65ffc"
      },
      "source": [
        "!pip install mahotas"
      ],
      "execution_count": null,
      "outputs": [
        {
          "output_type": "stream",
          "text": [
            "Collecting mahotas\n",
            "\u001b[?25l  Downloading https://files.pythonhosted.org/packages/19/ad/553b246b0a35dccc3ed58dc8889a67124bf5ab858e9c6b7255d56086e70c/mahotas-1.4.11-cp37-cp37m-manylinux2010_x86_64.whl (5.7MB)\n",
            "\u001b[K     |████████████████████████████████| 5.7MB 1.2MB/s \n",
            "\u001b[?25hRequirement already satisfied: numpy in /usr/local/lib/python3.7/dist-packages (from mahotas) (1.19.5)\n",
            "Installing collected packages: mahotas\n",
            "Successfully installed mahotas-1.4.11\n"
          ],
          "name": "stdout"
        }
      ]
    },
    {
      "cell_type": "code",
      "metadata": {
        "id": "nf_a6PJ1iUnT"
      },
      "source": [
        "import mahotas.features.texture as mht\n",
        "import mahotas.features"
      ],
      "execution_count": null,
      "outputs": []
    },
    {
      "cell_type": "code",
      "metadata": {
        "id": "_VcTdaNVh9EE",
        "colab": {
          "base_uri": "https://localhost:8080/"
        },
        "outputId": "4d4698fc-92dd-4fda-d718-9007919ccc82"
      },
      "source": [
        "!git clone https://github.com/ucfilho/marquesgabi_fev_2020 #clonar do Github\n",
        "%cd marquesgabi_fev_2020\n",
        "import Go2BlackWhite\n",
        "import Go2Mahotas"
      ],
      "execution_count": null,
      "outputs": [
        {
          "output_type": "stream",
          "text": [
            "Cloning into 'marquesgabi_fev_2020'...\n",
            "remote: Enumerating objects: 73, done.\u001b[K\n",
            "remote: Counting objects: 100% (73/73), done.\u001b[K\n",
            "remote: Compressing objects: 100% (71/71), done.\u001b[K\n",
            "remote: Total 73 (delta 37), reused 0 (delta 0), pack-reused 0\u001b[K\n",
            "Unpacking objects: 100% (73/73), done.\n",
            "/content/marquesgabi_fev_2020\n"
          ],
          "name": "stdout"
        }
      ]
    },
    {
      "cell_type": "code",
      "metadata": {
        "id": "1v7SRrc8mH2N",
        "colab": {
          "base_uri": "https://localhost:8080/"
        },
        "outputId": "ab524006-d34d-4da2-a341-19fff1fecfc0"
      },
      "source": [
        "!git clone https://github.com/marquesgabi/Doutorado\n",
        "%cd Doutorado\n",
        "\n",
        "Transfere='Fotos_Grandes_3cdAmostra.zip'\n",
        "file_name = zipfile.ZipFile(Transfere, 'r')\n",
        "file_name.extractall()"
      ],
      "execution_count": null,
      "outputs": [
        {
          "output_type": "stream",
          "text": [
            "Cloning into 'Doutorado'...\n",
            "remote: Enumerating objects: 311, done.\u001b[K\n",
            "remote: Counting objects: 100% (61/61), done.\u001b[K\n",
            "remote: Compressing objects: 100% (61/61), done.\u001b[K\n",
            "remote: Total 311 (delta 24), reused 0 (delta 0), pack-reused 250\u001b[K\n",
            "Receiving objects: 100% (311/311), 91.61 MiB | 34.25 MiB/s, done.\n",
            "Resolving deltas: 100% (147/147), done.\n",
            "/content/marquesgabi_fev_2020/Doutorado\n"
          ],
          "name": "stdout"
        }
      ]
    },
    {
      "cell_type": "code",
      "metadata": {
        "id": "0kA4IWSmasoD"
      },
      "source": [
        "Size=1200 # tamanho da foto\n",
        "ww,img_name=Go2BlackWhite.BlackWhite(Transfere,Size) #Pegamos a primeira foto Grande\n",
        "img=ww[0]  #  numbers 4, 13 and 25 (change to the correct one: this is wrong to PSD)\n",
        "# this is the big image we want to segment \n",
        "# ww[0], change it if you want to segment another picture"
      ],
      "execution_count": null,
      "outputs": []
    },
    {
      "cell_type": "code",
      "metadata": {
        "id": "tHgqAnaFyCjp",
        "colab": {
          "base_uri": "https://localhost:8080/"
        },
        "outputId": "312bfb11-354d-4984-d35a-7731f62ea69f"
      },
      "source": [
        "!git clone https://github.com/ucfilho/MarquesGabi_Routines\n",
        "%cd MarquesGabi_Routines"
      ],
      "execution_count": null,
      "outputs": [
        {
          "output_type": "stream",
          "text": [
            "Cloning into 'MarquesGabi_Routines'...\n",
            "remote: Enumerating objects: 120, done.\u001b[K\n",
            "remote: Counting objects: 100% (120/120), done.\u001b[K\n",
            "remote: Compressing objects: 100% (117/117), done.\u001b[K\n",
            "remote: Total 120 (delta 55), reused 3 (delta 1), pack-reused 0\u001b[K\n",
            "Receiving objects: 100% (120/120), 124.74 MiB | 23.39 MiB/s, done.\n",
            "Resolving deltas: 100% (55/55), done.\n",
            "/content/marquesgabi_fev_2020/Doutorado/MarquesGabi_Routines\n"
          ],
          "name": "stdout"
        }
      ]
    },
    {
      "cell_type": "code",
      "metadata": {
        "id": "qc4rFvzkyWCi"
      },
      "source": [
        "# from segment_filter_not_conclude import Segmenta  # got image provided segmented\n",
        "from segment_filter_not_conclude_parte_03 import Segmenta  "
      ],
      "execution_count": null,
      "outputs": []
    },
    {
      "cell_type": "code",
      "metadata": {
        "id": "rA9E4BK4VQVy"
      },
      "source": [
        "c =10 # size to segment\n",
        "d = 1000  # size to segment"
      ],
      "execution_count": null,
      "outputs": []
    },
    {
      "cell_type": "code",
      "metadata": {
        "id": "SnTtH3KDP863"
      },
      "source": [
        "df=Segmenta(img,c,d)\n",
        "df = df.dropna()"
      ],
      "execution_count": null,
      "outputs": []
    },
    {
      "cell_type": "code",
      "metadata": {
        "id": "YN5MN5a_v4np",
        "colab": {
          "base_uri": "https://localhost:8080/"
        },
        "outputId": "45fdd891-5ad3-43ab-b402-839734c79b29"
      },
      "source": [
        "print(df)"
      ],
      "execution_count": null,
      "outputs": [
        {
          "output_type": "stream",
          "text": [
            "    Width           0           1  ...        9997        9998        9999\n",
            "0     272   51.897060   53.280277  ...   26.794334   31.925606   33.789146\n",
            "1     451   80.385452   81.252205  ...   55.748775   57.633209   58.481819\n",
            "2     762   82.952782   82.386551  ...    3.219067    1.655403    1.054002\n",
            "3     400  109.500000  111.312500  ...    1.937500    1.812500    1.500000\n",
            "4     561    3.777012    3.739201  ...    0.000000    0.000000    0.000000\n",
            "5     242   96.685814   95.362953  ...   95.361389   97.167679  101.354553\n",
            "6     484   31.916468   33.755482  ...   45.980804   20.697630    1.016461\n",
            "7     873  105.952621  100.429993  ...    3.072298    1.734614    0.929501\n",
            "8     732   71.409264   77.981758  ...    4.243603    4.048762    3.812864\n",
            "9     489  100.470650  101.681091  ...    2.234961    1.663505    1.408998\n",
            "10    308  122.690491  137.780746  ...    0.025974    0.009782    0.000000\n",
            "11    946   63.922615   63.526646  ...    2.991919    1.859652    0.856840\n",
            "12    867  106.898659   99.490578  ...    3.083678    1.726778    0.936025\n",
            "13     56  108.000000  107.571426  ...    0.000000    0.000000    0.000000\n",
            "14    605   50.200668   46.938049  ...   58.528652   59.218426   55.942829\n",
            "15    393   43.365814   53.935490  ...   99.232460  101.315292   98.486557\n",
            "16    975   57.369495   58.493752  ...    2.990796    1.889547    0.831032\n",
            "17    166   92.000015   90.888664  ...   17.608652   17.036146   16.843374\n",
            "18    630   86.959946   89.629631  ...    3.084404    1.627110    1.209373\n",
            "19    945   64.380257   63.957031  ...    2.992666    1.857787    0.857759\n",
            "20    947   63.490349   63.209183  ...    2.991171    1.861509    0.855924\n",
            "21    436   90.956978   84.068596  ...   99.168327  101.036179  103.744385\n",
            "22    163   33.000000   32.268398  ...   65.262566   65.211678   63.773010\n",
            "23    922   52.329224   66.685173  ...    3.009449    1.812724    0.879442\n",
            "24    427   52.031578   60.693634  ...   70.753525   65.118958   66.855072\n",
            "25    353   57.882034   57.246006  ...   91.344353   96.348442   98.962288\n",
            "26     53   81.000000   81.226410  ...   50.000000   50.886795   51.000000\n",
            "27    582  120.265251  121.683075  ...    6.739186    6.508320    7.131836\n",
            "28     34   95.000000   95.000000  ...  108.000000  108.000000  108.000000\n",
            "29    441   48.280132   50.470184  ...    0.895769    0.445606    0.381014\n",
            "30    974   57.305717   58.815765  ...    2.990775    1.888687    0.831896\n",
            "31    163   83.061653   86.725777  ...  144.629456  146.609222  152.237122\n",
            "32    369   23.110039   22.666122  ...   35.524864   32.290047   18.133863\n",
            "33    433   51.708668   51.942635  ...   97.520157   98.719452  100.445007\n",
            "34    503  103.245468  103.966393  ...    2.306206    1.634831    1.394057\n",
            "35    379   64.443466   65.517990  ...   57.840004   57.489574   57.333057\n",
            "36    670   79.173309   83.912453  ...    0.000000    0.000000    0.000000\n",
            "37    846   79.894699   84.177200  ...    2.855076    1.675452    0.338006\n",
            "38    798   94.035477   90.899506  ...    3.189384    1.656397    1.017581\n",
            "39    679   75.414368   77.809303  ...    5.962899    6.120369    5.852063\n",
            "40    724   79.859589   85.393822  ...    3.173224    1.655169    1.095052\n",
            "41    192  143.437500  140.747375  ...   59.893661   60.500866   61.542534\n",
            "42     22    1.000000    1.000000  ...   81.000000   81.000000   81.000000\n",
            "43    386   79.355827   74.717194  ...    8.696663    8.773363    8.949153\n",
            "44    310  108.503632   99.873047  ...    6.599375    0.395421    0.332986\n",
            "45    760   77.189758   81.163437  ...    6.557479    1.453601    0.262465\n",
            "46    882   40.591919   67.526169  ...    3.460651    3.002669    1.583959\n",
            "47    609   83.221169   85.302254  ...    0.096104    0.000000    0.551390\n",
            "48    992   71.822502   64.151115  ...    2.990521    1.903665    0.816614\n",
            "49    358   72.506874   73.926804  ...   10.907057   10.877687    9.352516\n",
            "\n",
            "[50 rows x 10001 columns]\n"
          ],
          "name": "stdout"
        }
      ]
    },
    {
      "cell_type": "code",
      "metadata": {
        "id": "xzpQ1Pz0fX5L",
        "colab": {
          "base_uri": "https://localhost:8080/",
          "height": 34
        },
        "outputId": "bd514b3d-bbcf-4292-ebcf-1a98b994c286"
      },
      "source": [
        "\n",
        "Arq = \"output_01.xlsx\" # change the name in each new file\n",
        "df.to_excel(Arq)\n",
        "files.download(Arq)"
      ],
      "execution_count": null,
      "outputs": [
        {
          "output_type": "display_data",
          "data": {
            "application/javascript": [
              "\n",
              "    async function download(id, filename, size) {\n",
              "      if (!google.colab.kernel.accessAllowed) {\n",
              "        return;\n",
              "      }\n",
              "      const div = document.createElement('div');\n",
              "      const label = document.createElement('label');\n",
              "      label.textContent = `Downloading \"${filename}\": `;\n",
              "      div.appendChild(label);\n",
              "      const progress = document.createElement('progress');\n",
              "      progress.max = size;\n",
              "      div.appendChild(progress);\n",
              "      document.body.appendChild(div);\n",
              "\n",
              "      const buffers = [];\n",
              "      let downloaded = 0;\n",
              "\n",
              "      const channel = await google.colab.kernel.comms.open(id);\n",
              "      // Send a message to notify the kernel that we're ready.\n",
              "      channel.send({})\n",
              "\n",
              "      for await (const message of channel.messages) {\n",
              "        // Send a message to notify the kernel that we're ready.\n",
              "        channel.send({})\n",
              "        if (message.buffers) {\n",
              "          for (const buffer of message.buffers) {\n",
              "            buffers.push(buffer);\n",
              "            downloaded += buffer.byteLength;\n",
              "            progress.value = downloaded;\n",
              "          }\n",
              "        }\n",
              "      }\n",
              "      const blob = new Blob(buffers, {type: 'application/binary'});\n",
              "      const a = document.createElement('a');\n",
              "      a.href = window.URL.createObjectURL(blob);\n",
              "      a.download = filename;\n",
              "      div.appendChild(a);\n",
              "      a.click();\n",
              "      div.remove();\n",
              "    }\n",
              "  "
            ],
            "text/plain": [
              "<IPython.core.display.Javascript object>"
            ]
          },
          "metadata": {
            "tags": []
          }
        },
        {
          "output_type": "display_data",
          "data": {
            "application/javascript": [
              "download(\"download_f80bbf6a-c035-4ae2-9c3a-9cc0260e467a\", \"output_01.xlsx\", 5380430)"
            ],
            "text/plain": [
              "<IPython.core.display.Javascript object>"
            ]
          },
          "metadata": {
            "tags": []
          }
        }
      ]
    },
    {
      "cell_type": "code",
      "metadata": {
        "id": "QISvYcJBgWbE",
        "colab": {
          "base_uri": "https://localhost:8080/",
          "height": 69
        },
        "outputId": "55a6302d-72c3-41b5-f93f-5d19c737e2c1"
      },
      "source": [
        "'''\n",
        "cont = 0; num =25\n",
        "img_graos = []\n",
        "img=ww[0] \n",
        "while( cont < num):\n",
        "  df=Segmenta(img,c,d)\n",
        "  del df['Width']\n",
        "  result = np.array(df)/255\n",
        "  prediction = model.predict(result)\n",
        "  loc_grao =[];k=0\n",
        "  for i in prediction:\n",
        "    if( i == 0):\n",
        "      img_graos.append(df.iloc[k,:])\n",
        "      cont = cont + 1\n",
        "    k = k +1\n",
        "img_graos = pd.DataFrame(img_graos)\n",
        "print(img_graos)\n",
        "'''"
      ],
      "execution_count": null,
      "outputs": [
        {
          "output_type": "execute_result",
          "data": {
            "application/vnd.google.colaboratory.intrinsic+json": {
              "type": "string"
            },
            "text/plain": [
              "\"\\ncont = 0; num =25\\nimg_graos = []\\nimg=ww[0] \\nwhile( cont < num):\\n  df=Segmenta(img,c,d)\\n  del df['Width']\\n  result = np.array(df)/255\\n  prediction = model.predict(result)\\n  loc_grao =[];k=0\\n  for i in prediction:\\n    if( i == 0):\\n      img_graos.append(df.iloc[k,:])\\n      cont = cont + 1\\n    k = k +1\\nimg_graos = pd.DataFrame(img_graos)\\nprint(img_graos)\\n\""
            ]
          },
          "metadata": {
            "tags": []
          },
          "execution_count": 13
        }
      ]
    },
    {
      "cell_type": "code",
      "metadata": {
        "id": "Z4qH6wM2qyZ9"
      },
      "source": [
        " num =25 #\n",
        " File_name = 'fotos_01.xlxs' # alterar para salvar os proximos"
      ],
      "execution_count": null,
      "outputs": []
    },
    {
      "cell_type": "code",
      "metadata": {
        "id": "q0IpT0WmaP-a",
        "colab": {
          "base_uri": "https://localhost:8080/"
        },
        "outputId": "8bd1bd5d-7c33-4c9e-ce7d-800f78720133"
      },
      "source": [
        "k = 0; cont = 0;\n",
        "img_graos = []\n",
        "img = ww[0] \n",
        "while( cont < num):\n",
        "  df=Segmenta(img,c,d)\n",
        "  print('k=',k)\n",
        "  del df['Width']\n",
        "  img_graos.append(df.iloc[k,:])\n",
        "  cont = cont + 1\n",
        "  k = k +1\n",
        "img_graos = pd.DataFrame(img_graos)\n",
        "# print(img_graos)\n",
        "''''''"
      ],
      "execution_count": null,
      "outputs": [
        {
          "output_type": "stream",
          "text": [
            "k= 0\n",
            "k= 1\n",
            "k= 2\n",
            "k= 3\n"
          ],
          "name": "stdout"
        }
      ]
    },
    {
      "cell_type": "code",
      "metadata": {
        "id": "hjMm5kklvYKV"
      },
      "source": [
        "#np.sum(np.array(img_graos.iloc[[1],:]))/(28*28)"
      ],
      "execution_count": null,
      "outputs": []
    },
    {
      "cell_type": "code",
      "metadata": {
        "id": "4FO1yItczAZh"
      },
      "source": [
        "Size = 100\n",
        "data=np.array(img_graos.iloc[[2],:]).reshape(Size,Size)\n",
        "img = Image.fromarray(data.astype('uint8'), mode='L')\n",
        "img=np.float32(img)\n",
        "\n",
        "img28=cv2.resize(img,(Size,Size), interpolation = cv2.INTER_AREA)\n",
        "Foto=np.array(img28).reshape(Size,Size)\n",
        "plt.xticks([])\n",
        "plt.yticks([])\n",
        "plt.grid(False)\n",
        "plt.imshow(Foto, cmap = \"gray\")"
      ],
      "execution_count": null,
      "outputs": []
    },
    {
      "cell_type": "code",
      "metadata": {
        "id": "Z5d-VeZ8lioj"
      },
      "source": [
        "img_graos"
      ],
      "execution_count": null,
      "outputs": []
    },
    {
      "cell_type": "code",
      "metadata": {
        "id": "RhBIKFLBwwYj"
      },
      "source": [
        "np.sum(np.array(img_graos.iloc[[3],:]))/(28*28)"
      ],
      "execution_count": null,
      "outputs": []
    },
    {
      "cell_type": "code",
      "metadata": {
        "id": "sS0qqr7RwKax"
      },
      "source": [
        "img_graos.iloc[[3],:]"
      ],
      "execution_count": null,
      "outputs": []
    },
    {
      "cell_type": "code",
      "metadata": {
        "id": "qeQVSq6AyIF0"
      },
      "source": [
        "data=np.array(img_graos.iloc[[3],:]).reshape(Size,Size)\n",
        "img = Image.fromarray(data.astype('uint8'), mode='L')\n",
        "img=np.float32(img)\n",
        "\n",
        "img28=cv2.resize(img,(Size,Size), interpolation = cv2.INTER_AREA)\n",
        "Foto=np.array(img28).reshape(Size,Size)\n",
        "plt.xticks([])\n",
        "plt.yticks([])\n",
        "plt.grid(False)\n",
        "plt.imshow(Foto, cmap = \"gray\")"
      ],
      "execution_count": null,
      "outputs": []
    },
    {
      "cell_type": "code",
      "metadata": {
        "id": "_tN9BV7KM-y5"
      },
      "source": [
        "Num = 3\n",
        "Size=100\n",
        "Picture_Size = 25\n",
        "fig = plt.gcf()\n",
        "fig.set_size_inches(Picture_Size, Picture_Size)\n",
        "for i in range(Num):\n",
        "  data=np.array(img_graos.iloc[i,:]).reshape(Size,Size)\n",
        "  img = Image.fromarray(data.astype('uint8'), mode='L')\n",
        "  img=np.float32(img)\n",
        "\n",
        "  img28=cv2.resize(img,(Size,Size), interpolation = cv2.INTER_AREA)\n",
        "  Foto=np.array(img28).reshape(Size,Size)\n",
        "  plt.subplot(25,5,i+1)\n",
        "  plt.xticks([])\n",
        "  plt.yticks([])\n",
        "  plt.grid(False)\n",
        "  plt.imshow(Foto, cmap = \"gray\")\n",
        "  #plt.xlabel(i)\n",
        "\n",
        "plt.subplots_adjust(bottom=0.15,left=0.4, right=0.8, top=2,hspace=0.1, wspace=0.01)\n",
        "#plt.subplots_adjust(bottom=0.2, right=2, top=3,hspace=0.4, wspace=0.4)"
      ],
      "execution_count": null,
      "outputs": []
    },
    {
      "cell_type": "code",
      "metadata": {
        "id": "7_p9olz_sJ0f"
      },
      "source": [
        "print(np.random.rand(1,3))"
      ],
      "execution_count": null,
      "outputs": []
    }
  ]
}