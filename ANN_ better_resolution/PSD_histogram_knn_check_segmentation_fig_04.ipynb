{
  "nbformat": 4,
  "nbformat_minor": 0,
  "metadata": {
    "colab": {
      "name": "PSD_histogram_knn_check_segmentation_fig_04.ipynb",
      "provenance": [],
      "collapsed_sections": [],
      "include_colab_link": true
    },
    "kernelspec": {
      "name": "python3",
      "display_name": "Python 3"
    }
  },
  "cells": [
    {
      "cell_type": "markdown",
      "metadata": {
        "id": "view-in-github",
        "colab_type": "text"
      },
      "source": [
        "<a href=\"https://colab.research.google.com/github/ucfilho/marquesgabi_paper_fev_2021/blob/main/ANN_%20better_resolution/PSD_histogram_knn_check_segmentation_fig_04.ipynb\" target=\"_parent\"><img src=\"https://colab.research.google.com/assets/colab-badge.svg\" alt=\"Open In Colab\"/></a>"
      ]
    },
    {
      "cell_type": "code",
      "metadata": {
        "id": "Sog7Z9pyhUD_"
      },
      "source": [
        "import matplotlib.pyplot as plt\n",
        "import numpy as np\n",
        "import cv2\n",
        "import zipfile\n",
        "#import random\n",
        "from random import randint\n",
        "from PIL import Image\n",
        "import re\n",
        "from sklearn.model_selection import train_test_split\n",
        "# from sklearn.neural_network import MLPClassifier\n",
        "from sklearn.neighbors import KNeighborsClassifier\n",
        "#import scikit-image\n",
        "import skimage\n",
        "import pandas as pd\n",
        "from collections import Counter"
      ],
      "execution_count": 1,
      "outputs": []
    },
    {
      "cell_type": "code",
      "metadata": {
        "id": "uZEvJvfoibE4",
        "colab": {
          "base_uri": "https://localhost:8080/"
        },
        "outputId": "0010b4d6-3003-467c-d120-fea30e605481"
      },
      "source": [
        "!pip install mahotas"
      ],
      "execution_count": 2,
      "outputs": [
        {
          "output_type": "stream",
          "text": [
            "Requirement already satisfied: mahotas in /usr/local/lib/python3.7/dist-packages (1.4.11)\n",
            "Requirement already satisfied: numpy in /usr/local/lib/python3.7/dist-packages (from mahotas) (1.19.5)\n"
          ],
          "name": "stdout"
        }
      ]
    },
    {
      "cell_type": "code",
      "metadata": {
        "id": "nf_a6PJ1iUnT"
      },
      "source": [
        "import mahotas.features.texture as mht\n",
        "import mahotas.features"
      ],
      "execution_count": 3,
      "outputs": []
    },
    {
      "cell_type": "code",
      "metadata": {
        "id": "_VcTdaNVh9EE",
        "colab": {
          "base_uri": "https://localhost:8080/"
        },
        "outputId": "a4aea635-1f42-4512-bf9a-b18c16d507cb"
      },
      "source": [
        "!git clone https://github.com/ucfilho/marquesgabi_fev_2020 #clonar do Github\n",
        "%cd marquesgabi_fev_2020\n",
        "import Go2BlackWhite\n",
        "import Go2Mahotas"
      ],
      "execution_count": 4,
      "outputs": [
        {
          "output_type": "stream",
          "text": [
            "fatal: destination path 'marquesgabi_fev_2020' already exists and is not an empty directory.\n",
            "/content/marquesgabi_fev_2020\n"
          ],
          "name": "stdout"
        }
      ]
    },
    {
      "cell_type": "code",
      "metadata": {
        "id": "1v7SRrc8mH2N",
        "colab": {
          "base_uri": "https://localhost:8080/"
        },
        "outputId": "a7d42c34-02ec-43db-cb14-82790641624c"
      },
      "source": [
        "!git clone https://github.com/ucfilho/MarquesGabi_Routines\n",
        "%cd MarquesGabi_Routines\n",
        "df = pd.read_excel ('segment_may_08.xlsx')\n",
        "df_classfica = df.copy()"
      ],
      "execution_count": 5,
      "outputs": [
        {
          "output_type": "stream",
          "text": [
            "fatal: destination path 'MarquesGabi_Routines' already exists and is not an empty directory.\n",
            "/content/marquesgabi_fev_2020/MarquesGabi_Routines\n"
          ],
          "name": "stdout"
        }
      ]
    },
    {
      "cell_type": "code",
      "metadata": {
        "id": "ilIvas1OBle3"
      },
      "source": [
        "n1 = 20 # neurons in hidden layer\n",
        "n2 = 20 # neurons in hidden layer\n"
      ],
      "execution_count": 6,
      "outputs": []
    },
    {
      "cell_type": "code",
      "metadata": {
        "id": "YN5MN5a_v4np",
        "colab": {
          "base_uri": "https://localhost:8080/"
        },
        "outputId": "49fcd4c0-ce5d-480c-a13f-cbb58322bd0d"
      },
      "source": [
        "print(df)"
      ],
      "execution_count": 7,
      "outputs": [
        {
          "output_type": "stream",
          "text": [
            "    Unnamed: 0  Width           0  ...        9997        9998        9999\n",
            "0            0     51  122.000000  ...   59.000000   58.039215   58.000000\n",
            "1            1    141  158.709213  ...    0.836879    1.418440    3.212213\n",
            "2            2    117   97.688286  ...  147.581192  145.017105  142.311707\n",
            "3            3     71   84.000000  ...  124.816895  125.816895  127.000000\n",
            "4            4     70  171.000000  ...  129.000000  135.571426  143.000000\n",
            "5            5    120  149.500000  ...   56.166668   53.833336   48.861107\n",
            "6            6     45  123.000000  ...  121.000000  121.000000  121.000000\n",
            "7            7     95   64.000000  ...    1.000000    1.000000    1.000000\n",
            "8            8     50    0.000000  ...  110.000000  116.000000  116.000000\n",
            "9            9    105  175.004532  ...   76.863945   77.043083   77.047623\n",
            "10          10     35  128.000000  ...  109.285713  109.000000  109.000000\n",
            "11          11    146  247.421280  ...    1.982736    1.431601    1.000000\n",
            "12          12    114  152.877197  ...  123.122803  122.000000  120.877182\n",
            "13          13    136    2.000000  ...  120.264694  129.228378  139.022491\n",
            "14          14    150  121.666672  ...    1.000000    1.333333    2.000000\n",
            "15          15    123  146.391891  ...  164.000000  162.930069  161.813019\n",
            "16          16     59    2.000000  ...  125.000000  125.694916  126.000000\n",
            "17          17     52  231.000000  ...  138.000000  136.153839  136.000000\n",
            "18          18    148   88.814461  ...  146.666916  146.113953  145.675674\n",
            "19          19     47  179.000000  ...  106.127663  107.000000  107.000000\n",
            "20          20     73  182.000000  ...  182.000000  181.630127  181.000000\n",
            "21          21     75  109.000000  ...    1.000000    1.000000    1.000000\n",
            "22          22    149  157.878433  ...  140.982178  141.328857  142.000000\n",
            "23          23    142  152.087479  ...  185.034698  176.412216  165.566360\n",
            "24          24    138    1.000000  ...   81.730095   78.304344   75.428062\n",
            "25          25    134  209.144562  ...  207.552231  203.904877  198.950546\n",
            "26          26    133  148.867493  ...    1.000000    1.503759    2.000000\n",
            "27          27    103  219.466858  ...  158.766998  158.881775  159.910919\n",
            "28          28     89  133.000000  ...  133.000000  133.000000  133.000000\n",
            "29          29     37    1.000000  ...    2.000000    2.000000    2.000000\n",
            "30          30     45   73.000000  ...   94.000000   94.000000   94.000000\n",
            "31          31     89  102.000000  ...    2.000000    2.000000    2.000000\n",
            "32          32    140  217.489807  ...  135.530609  135.285721  135.285721\n",
            "33          33    147  123.143044  ...  150.427460  151.680267  152.537231\n",
            "34          34     74  113.000000  ...   16.162163    8.135135    1.000000\n",
            "35          35     99  204.000000  ...  232.121201  238.060608  244.000000\n",
            "36          36     64  191.000000  ...   98.000000   96.312500   95.000000\n",
            "37          37    108  169.740738  ...  164.979431  162.433456  161.222214\n",
            "38          38     78  113.000000  ...    0.000000    0.000000    0.000000\n",
            "39          39    127   80.922684  ...  143.787399  143.787399  142.999985\n",
            "40          40    115  163.103958  ...  164.102066  163.608688  164.478256\n",
            "41          41     64   95.000000  ...  165.000000  164.437500  164.000000\n",
            "42          42    122  161.246170  ...  143.442627  143.425690  143.573502\n",
            "43          43     40  150.000000  ...   94.500000   93.000000   93.000000\n",
            "44          44     50  161.000000  ...  142.000000  142.000000  142.000000\n",
            "45          45     46  182.000000  ...  157.826096  157.000000  157.000000\n",
            "46          46    109  203.752289  ...  125.979546  126.068939  126.924240\n",
            "47          47    117  130.004028  ...    1.000000    1.000000    1.000000\n",
            "48          48     49    2.000000  ...   82.204079   87.000000   87.000000\n",
            "49          49     45  207.000000  ...  168.777771  168.000000  168.000000\n",
            "\n",
            "[50 rows x 10002 columns]\n"
          ],
          "name": "stdout"
        }
      ]
    },
    {
      "cell_type": "code",
      "metadata": {
        "id": "UuaAzbXy9UwP"
      },
      "source": [
        "# leitura dos dados\n",
        "df1=pd.read_excel(\"ImgGrao_a.xlsx\")\n",
        "df2=pd.read_excel(\"ImgGrao_b.xlsx\")\n",
        "df3=pd.read_excel(\"ImgIndef.xlsx\")\n",
        "df4=pd.read_excel(\"ImgVarios.xlsx\")\n",
        "df5=pd.read_excel(\"ImgBuraco.xlsx\")"
      ],
      "execution_count": 8,
      "outputs": []
    },
    {
      "cell_type": "code",
      "metadata": {
        "id": "txde4lbo9Xw9"
      },
      "source": [
        "df = pd.concat([df1, df2, df3, df4, df5], ignore_index=True)\n",
        "df.head()\n",
        "df_all = df.copy()"
      ],
      "execution_count": 9,
      "outputs": []
    },
    {
      "cell_type": "code",
      "metadata": {
        "colab": {
          "base_uri": "https://localhost:8080/"
        },
        "id": "GIyJVxqB90I-",
        "outputId": "5a39131c-f151-4d4c-f288-accddb3134e8"
      },
      "source": [
        "print(df1.shape)\n",
        "print(df2.shape)\n",
        "print(df3.shape)\n",
        "print(df4.shape)\n",
        "print(df5.shape)"
      ],
      "execution_count": 10,
      "outputs": [
        {
          "output_type": "stream",
          "text": [
            "(180, 10002)\n",
            "(179, 10002)\n",
            "(180, 10002)\n",
            "(162, 10002)\n",
            "(180, 10002)\n"
          ],
          "name": "stdout"
        }
      ]
    },
    {
      "cell_type": "code",
      "metadata": {
        "id": "8CUYBGXl-v2l"
      },
      "source": [
        "w = df_all['Type']\n",
        "y = []\n",
        "for wi in w:\n",
        "  if(wi == 'G'):\n",
        "    y.append(1)\n",
        "  elif(wi == 'B'):\n",
        "    y.append(2)\n",
        "  elif(wi == 'I'):\n",
        "    y.append(2)\n",
        "  elif(wi == 'V'):\n",
        "    y.append(2)"
      ],
      "execution_count": 11,
      "outputs": []
    },
    {
      "cell_type": "code",
      "metadata": {
        "id": "_3BTDVex_zmH"
      },
      "source": [
        "df_all.drop(['Unnamed: 0','Type'], axis='columns', inplace=True)"
      ],
      "execution_count": 12,
      "outputs": []
    },
    {
      "cell_type": "code",
      "metadata": {
        "id": "YDkHBPKeBbkz"
      },
      "source": [
        "y_ann = y.copy()\n",
        "X =np.array(df_all.copy())\n",
        "X_train, X_test, y_train, y_test = train_test_split(X, y, test_size=0.30, shuffle=True, random_state=42)"
      ],
      "execution_count": 13,
      "outputs": []
    },
    {
      "cell_type": "code",
      "metadata": {
        "colab": {
          "base_uri": "https://localhost:8080/"
        },
        "id": "zntmbKMH9iLw",
        "outputId": "77d4f17a-8464-4397-862f-bc7c5add9fc9"
      },
      "source": [
        "X_test.shape"
      ],
      "execution_count": 14,
      "outputs": [
        {
          "output_type": "execute_result",
          "data": {
            "text/plain": [
              "(265, 10000)"
            ]
          },
          "metadata": {
            "tags": []
          },
          "execution_count": 14
        }
      ]
    },
    {
      "cell_type": "code",
      "metadata": {
        "id": "Mz-aTpaBBuhD",
        "colab": {
          "base_uri": "https://localhost:8080/"
        },
        "outputId": "a87ea7bc-5782-4fe3-dbf3-0a4cfbff6df0"
      },
      "source": [
        "'''\n",
        "model = MLPClassifier(hidden_layer_sizes=(n1,n2), activation='tanh',\n",
        "                      solver='adam',random_state=1, max_iter=300).fit(X_train,y_train)\n",
        "'''\n",
        "model = KNeighborsClassifier(n_neighbors=4).fit(X_train,y_train)\n",
        "\n",
        "prediction = model.predict(X_test)\n",
        "  \n",
        "y =np.copy(y_test)\n",
        "data = {'y_true': y_test,'y_predict': prediction}  # este dado esta no formato de dicionario\n",
        "\n",
        "df = pd.DataFrame(data, columns=['y_true','y_predict'])\n",
        "\n",
        "confusion_matrix = pd.crosstab(df['y_true'], df['y_predict'], rownames=['Actual'], colnames=['Predict'])\n",
        "# print(confusion_matrix)\n",
        "\n",
        "y_true = df['y_true']\n",
        "y_pred = df['y_predict']\n",
        "print('n1, n2 =',n1,n2,'true',Counter(y_true),'calc',Counter(y_pred))"
      ],
      "execution_count": 15,
      "outputs": [
        {
          "output_type": "stream",
          "text": [
            "n1, n2 = 20 20 true Counter({2: 159, 1: 106}) calc Counter({2: 148, 1: 117})\n"
          ],
          "name": "stdout"
        }
      ]
    },
    {
      "cell_type": "code",
      "metadata": {
        "colab": {
          "base_uri": "https://localhost:8080/"
        },
        "id": "ov16h0C3Qnks",
        "outputId": "a2d41ebc-675e-412e-adba-3d193a2771eb"
      },
      "source": [
        "!git clone https://github.com/ucfilho/MarquesGabi_Routines\n",
        "%cd MarquesGabi_Routines\n",
        "\n",
        "Files = ['segment_may_01.xlsx','segment_may_02.xlsx','segment_may_03.xlsx',\n",
        "         'segment_may_04.xlsx','segment_may_05.xlsx','segment_may_06.xlsx',\n",
        "         'segment_may_07.xlsx','segment_may_08.xlsx']\n",
        "for nome in Files:\n",
        "  df = pd.read_excel (nome)\n",
        "  df_ann =df.copy()\n",
        "  Width = df['Width']\n",
        "  del df_ann['Width']\n",
        "  del df_ann['Unnamed: 0']\n",
        "  result = np.array(df_ann)/255\n",
        "  df = df.dropna()\n",
        "  prediction = model.predict(result)\n",
        "  print('======',nome,'======')\n",
        "  print('prediction =',prediction)"
      ],
      "execution_count": 16,
      "outputs": [
        {
          "output_type": "stream",
          "text": [
            "Cloning into 'MarquesGabi_Routines'...\n",
            "remote: Enumerating objects: 140, done.\u001b[K\n",
            "remote: Counting objects: 100% (140/140), done.\u001b[K\n",
            "remote: Compressing objects: 100% (138/138), done.\u001b[K\n",
            "remote: Total 140 (delta 61), reused 0 (delta 0), pack-reused 0\u001b[K\n",
            "Receiving objects: 100% (140/140), 157.80 MiB | 18.35 MiB/s, done.\n",
            "Resolving deltas: 100% (61/61), done.\n",
            "/content/marquesgabi_fev_2020/MarquesGabi_Routines/MarquesGabi_Routines\n",
            "====== segment_may_01.xlsx ======\n",
            "prediction = [2 2 1 2 2 1 2 2 2 2 2 2 2 2 2 2 2 2 2 2 1 2 1 1 2 2 2 2 2 1 2 2 2 2 2 2 2\n",
            " 2 2 2 2 2 2 1 1 2 1 2 2 2]\n",
            "====== segment_may_02.xlsx ======\n",
            "prediction = [2 2 1 2 2 1 2 2 2 2 2 2 2 2 2 2 2 2 2 2 1 2 1 1 2 2 2 2 2 1 2 2 2 2 2 2 2\n",
            " 2 2 2 2 2 2 1 1 2 1 2 2 2]\n",
            "====== segment_may_03.xlsx ======\n",
            "prediction = [2 1 2 2 1 2 2 2 2 2 2 2 1 2 1 2 2 1 2 1 2 2 2 1 2 2 2 2 2 1 2 1 2 1 2 1 2\n",
            " 1 1 2 1 2 2 1 2 2 2 2 2 1]\n",
            "====== segment_may_04.xlsx ======\n",
            "prediction = [1 2 2 2 2 2 2 1 2 2 2 2 2 2 2 1 1 2 2 1 1 1 1 2 1 2 2 2 1 2 2 1 2 2 1 2 2\n",
            " 2 2 1 2 2 2 1 2 2 2 1 1 1]\n",
            "====== segment_may_05.xlsx ======\n",
            "prediction = [2 2 2 2 2 2 2 2 2 1 2 2 1 2 2 2 2 2 1 2 2 2 2 1 2 1 2 2 2 2 2 2 1 2 1 2 2\n",
            " 2 2 2 2 2 2 2 2 2 2 2 2 1]\n",
            "====== segment_may_06.xlsx ======\n",
            "prediction = [2 2 2 2 1 2 2 1 2 2 2 2 2 2 1 2 2 1 2 2 2 1 2 1 2 2 2 2 2 2 2 2 2 2 2 1 1\n",
            " 2 1 2 2 2 2 2 1 2 2 2 2 2]\n",
            "====== segment_may_07.xlsx ======\n",
            "prediction = [2 1 1 1 1 2 2 2 2 2 1 2 1 2 1 2 2 1 2 2 1 2 2 2 2 2 2 1 1 2 2 2 2 2 2 1 1\n",
            " 2 2 2 2 2 2 2 2 1 2 2 2 1]\n",
            "====== segment_may_08.xlsx ======\n",
            "prediction = [2 2 2 1 2 2 2 2 2 2 2 1 1 1 2 2 2 2 1 2 2 2 2 2 1 1 2 1 2 2 2 2 2 2 2 1 2\n",
            " 2 2 2 1 2 1 2 2 2 2 1 2 2]\n"
          ],
          "name": "stdout"
        }
      ]
    },
    {
      "cell_type": "code",
      "metadata": {
        "id": "3LdsoVIfFpdE",
        "colab": {
          "base_uri": "https://localhost:8080/"
        },
        "outputId": "1472c26e-9e45-4ef2-da19-ebab11141510"
      },
      "source": [
        "df_ann =df.copy()\n",
        "Width = df['Width']\n",
        "del df_ann['Width']\n",
        "del df_ann['Unnamed: 0']\n",
        "result = np.array(df_ann)/255\n",
        "df = df.dropna()\n",
        "prediction = model.predict(result)\n",
        "print('prediction =',prediction)"
      ],
      "execution_count": 17,
      "outputs": [
        {
          "output_type": "stream",
          "text": [
            "prediction = [2 2 2 1 2 2 2 2 2 2 2 1 1 1 2 2 2 2 1 2 2 2 2 2 1 1 2 1 2 2 2 2 2 2 2 1 2\n",
            " 2 2 2 1 2 1 2 2 2 2 1 2 2]\n"
          ],
          "name": "stdout"
        }
      ]
    }
  ]
}