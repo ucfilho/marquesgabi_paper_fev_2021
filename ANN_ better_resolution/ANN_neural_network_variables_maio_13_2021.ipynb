{
  "nbformat": 4,
  "nbformat_minor": 0,
  "metadata": {
    "colab": {
      "name": "ANN_neural_network_variables_maio_13_2021.ipynb",
      "provenance": [],
      "collapsed_sections": [],
      "include_colab_link": true
    },
    "kernelspec": {
      "name": "python3",
      "display_name": "Python 3"
    }
  },
  "cells": [
    {
      "cell_type": "markdown",
      "metadata": {
        "id": "view-in-github",
        "colab_type": "text"
      },
      "source": [
        "<a href=\"https://colab.research.google.com/github/ucfilho/marquesgabi_paper_fev_2021/blob/main/ANN_%20better_resolution/ANN_neural_network_variables_maio_13_2021.ipynb\" target=\"_parent\"><img src=\"https://colab.research.google.com/assets/colab-badge.svg\" alt=\"Open In Colab\"/></a>"
      ]
    },
    {
      "cell_type": "code",
      "metadata": {
        "id": "Sog7Z9pyhUD_",
        "colab": {
          "base_uri": "https://localhost:8080/"
        },
        "outputId": "bbecfa87-d95d-4af4-a1f9-b89cca872641"
      },
      "source": [
        "import matplotlib.pyplot as plt\n",
        "import numpy as np\n",
        "import cv2\n",
        "import zipfile\n",
        "#import random\n",
        "from random import randint\n",
        "from PIL import Image\n",
        "import re\n",
        "from sklearn.model_selection import train_test_split\n",
        "#import scikit-image\n",
        "import skimage\n",
        "import pandas as pd\n",
        "#import statsmodels.api as sm\n",
        "#import statsmodels.formula.api as smf\n",
        "from sklearn.neural_network import MLPClassifier\n",
        "import sklearn\n",
        "from sklearn.externals import joblib"
      ],
      "execution_count": 1,
      "outputs": [
        {
          "output_type": "stream",
          "text": [
            "/usr/local/lib/python3.7/dist-packages/sklearn/externals/joblib/__init__.py:15: FutureWarning: sklearn.externals.joblib is deprecated in 0.21 and will be removed in 0.23. Please import this functionality directly from joblib, which can be installed with: pip install joblib. If this warning is raised when loading pickled models, you may need to re-serialize those models with scikit-learn 0.21+.\n",
            "  warnings.warn(msg, category=FutureWarning)\n"
          ],
          "name": "stderr"
        }
      ]
    },
    {
      "cell_type": "code",
      "metadata": {
        "id": "h4ELNAEunkox",
        "colab": {
          "base_uri": "https://localhost:8080/"
        },
        "outputId": "552c05f3-ce82-4b71-d9e8-e5bd91277494"
      },
      "source": [
        "!git clone https://github.com/ucfilho/MarquesGabi_Routines\n",
        "%cd MarquesGabi_Routines"
      ],
      "execution_count": 2,
      "outputs": [
        {
          "output_type": "stream",
          "text": [
            "fatal: destination path 'MarquesGabi_Routines' already exists and is not an empty directory.\n",
            "/content/MarquesGabi_Routines\n"
          ],
          "name": "stdout"
        }
      ]
    },
    {
      "cell_type": "code",
      "metadata": {
        "id": "2WBboSx5TUCd"
      },
      "source": [
        "# leitura dos dados\n",
        "df1=pd.read_excel(\"ImgGrao_a28.xlsx\")\n",
        "df2=pd.read_excel(\"ImgGrao_b28.xlsx\")\n",
        "df3=pd.read_excel(\"ImgIndef28.xlsx\")\n",
        "df4=pd.read_excel(\"ImgVarios28.xlsx\")\n",
        "df5=pd.read_excel(\"ImgBuraco28.xlsx\")"
      ],
      "execution_count": 3,
      "outputs": []
    },
    {
      "cell_type": "code",
      "metadata": {
        "id": "juA6kckB5rBL"
      },
      "source": [
        "df = pd.concat([df1, df2, df3, df4, df5], ignore_index=True)\n",
        "df.head()\n",
        "df_all = df.copy()"
      ],
      "execution_count": 4,
      "outputs": []
    },
    {
      "cell_type": "code",
      "metadata": {
        "id": "LOUmlVfN9B-1"
      },
      "source": [
        "# rede 1 G e B --> r1\n",
        "# rede 2 G e I --> r2\n",
        "# rede 3 G e V --> r3\n",
        "\n",
        "df_r1 = pd.concat([df1, df2, df5], ignore_index=True) # df5 buraco\n",
        "df_r2 = pd.concat([df1, df2, df3], ignore_index=True) # df3 indefinido\n",
        "df_r3 = pd.concat([df1, df2, df4], ignore_index=True) # df4 indefinido"
      ],
      "execution_count": 5,
      "outputs": []
    },
    {
      "cell_type": "code",
      "metadata": {
        "id": "AAbUxeV97OZR"
      },
      "source": [
        "w = df['Type']\n",
        "y = []\n",
        "for wi in w:\n",
        "  if(wi == 'G'):\n",
        "    y.append(1)\n",
        "  elif(wi == 'B'):\n",
        "    y.append(2)\n",
        "  elif(wi == 'I'):\n",
        "    y.append(3)\n",
        "  elif(wi == 'V'):\n",
        "    y.append(4)"
      ],
      "execution_count": 6,
      "outputs": []
    },
    {
      "cell_type": "code",
      "metadata": {
        "colab": {
          "base_uri": "https://localhost:8080/"
        },
        "id": "6APDXw713SeK",
        "outputId": "7f6aab56-2dfa-4612-fd0b-77064a7c49fa"
      },
      "source": [
        " from collections import Counter\n",
        " Counter(y)"
      ],
      "execution_count": 7,
      "outputs": [
        {
          "output_type": "execute_result",
          "data": {
            "text/plain": [
              "Counter({1: 359, 2: 180, 3: 180, 4: 162})"
            ]
          },
          "metadata": {
            "tags": []
          },
          "execution_count": 7
        }
      ]
    },
    {
      "cell_type": "code",
      "metadata": {
        "colab": {
          "base_uri": "https://localhost:8080/"
        },
        "id": "nePBL2yA62DC",
        "outputId": "f228fad4-3f68-4f07-9265-28bcedf35c2d"
      },
      "source": [
        "Counter(y)"
      ],
      "execution_count": 8,
      "outputs": [
        {
          "output_type": "execute_result",
          "data": {
            "text/plain": [
              "Counter({1: 359, 2: 180, 3: 180, 4: 162})"
            ]
          },
          "metadata": {
            "tags": []
          },
          "execution_count": 8
        }
      ]
    },
    {
      "cell_type": "code",
      "metadata": {
        "colab": {
          "base_uri": "https://localhost:8080/"
        },
        "id": "VXPBp_Mr7ODk",
        "outputId": "464f446a-b6af-48a4-f93f-52e2363f0adb"
      },
      "source": [
        "Counter(w)"
      ],
      "execution_count": 9,
      "outputs": [
        {
          "output_type": "execute_result",
          "data": {
            "text/plain": [
              "Counter({'B': 180, 'G': 359, 'I': 180, 'V': 162})"
            ]
          },
          "metadata": {
            "tags": []
          },
          "execution_count": 9
        }
      ]
    },
    {
      "cell_type": "code",
      "metadata": {
        "id": "C6XWfn3XBAc3"
      },
      "source": [
        "w = df_r1['Type']\n",
        "y_r1 = []\n",
        "for wi in w:\n",
        "  if(wi == 'G'):\n",
        "    y_r1.append(1)\n",
        "  elif(wi == 'B'):\n",
        "    y_r1.append(2)\n",
        "  elif(wi == 'I'):\n",
        "    y_r1.append(3)\n",
        "  elif(wi == 'V'):\n",
        "    y_r1.append(4)"
      ],
      "execution_count": 10,
      "outputs": []
    },
    {
      "cell_type": "code",
      "metadata": {
        "colab": {
          "base_uri": "https://localhost:8080/"
        },
        "id": "Z_XyU46lJeOL",
        "outputId": "b3c014c2-a4ee-4a8a-9b0b-2caa528e5449"
      },
      "source": [
        "Counter(w)"
      ],
      "execution_count": 11,
      "outputs": [
        {
          "output_type": "execute_result",
          "data": {
            "text/plain": [
              "Counter({'B': 180, 'G': 359})"
            ]
          },
          "metadata": {
            "tags": []
          },
          "execution_count": 11
        }
      ]
    },
    {
      "cell_type": "code",
      "metadata": {
        "id": "oRI4xaaLBJgP"
      },
      "source": [
        "\n",
        "w = df_r2['Type']\n",
        "y_r2 = []\n",
        "for wi in w:\n",
        "  if(wi == 'G'):\n",
        "    y_r2.append(1)\n",
        "  elif(wi == 'B'):\n",
        "    y_r2.append(2)\n",
        "  elif(wi == 'I'):\n",
        "    y_r2.append(3)\n",
        "  elif(wi == 'V'):\n",
        "    y_r2.append(4)\n"
      ],
      "execution_count": 12,
      "outputs": []
    },
    {
      "cell_type": "code",
      "metadata": {
        "id": "1I8R6BRWBS73"
      },
      "source": [
        "\n",
        "w = df_r3['Type']\n",
        "y_r3 = []\n",
        "for wi in w:\n",
        "  if(wi == 'G'):\n",
        "    y_r3.append(1)\n",
        "  elif(wi == 'B'):\n",
        "    y_r3.append(2)\n",
        "  elif(wi == 'I'):\n",
        "    y_r3.append(3)\n",
        "  elif(wi == 'V'):\n",
        "    y_r3.append(4)\n",
        " "
      ],
      "execution_count": 13,
      "outputs": []
    },
    {
      "cell_type": "code",
      "metadata": {
        "id": "TleL3cjSA0-2"
      },
      "source": [
        "df_r1.drop(['Unnamed: 0','Type'], axis='columns', inplace=True)\n",
        "\n",
        "df_r2.drop(['Unnamed: 0','Type'], axis='columns', inplace=True)\n",
        "df_r3.drop(['Unnamed: 0','Type'], axis='columns', inplace=True)\n"
      ],
      "execution_count": 14,
      "outputs": []
    },
    {
      "cell_type": "code",
      "metadata": {
        "id": "n62rt5Bb7OiO"
      },
      "source": [
        "\n",
        "df.drop(['Unnamed: 0','Type'], axis='columns', inplace=True)\n"
      ],
      "execution_count": 15,
      "outputs": []
    },
    {
      "cell_type": "code",
      "metadata": {
        "colab": {
          "base_uri": "https://localhost:8080/",
          "height": 247
        },
        "id": "8-H9oT-HTcOr",
        "outputId": "9559798d-9fe1-4519-f17d-9020182f05b3"
      },
      "source": [
        "\n",
        "df.head()\n"
      ],
      "execution_count": 16,
      "outputs": [
        {
          "output_type": "execute_result",
          "data": {
            "text/html": [
              "<div>\n",
              "<style scoped>\n",
              "    .dataframe tbody tr th:only-of-type {\n",
              "        vertical-align: middle;\n",
              "    }\n",
              "\n",
              "    .dataframe tbody tr th {\n",
              "        vertical-align: top;\n",
              "    }\n",
              "\n",
              "    .dataframe thead th {\n",
              "        text-align: right;\n",
              "    }\n",
              "</style>\n",
              "<table border=\"1\" class=\"dataframe\">\n",
              "  <thead>\n",
              "    <tr style=\"text-align: right;\">\n",
              "      <th></th>\n",
              "      <th>0</th>\n",
              "      <th>1</th>\n",
              "      <th>2</th>\n",
              "      <th>3</th>\n",
              "      <th>4</th>\n",
              "      <th>5</th>\n",
              "      <th>6</th>\n",
              "      <th>7</th>\n",
              "      <th>8</th>\n",
              "      <th>9</th>\n",
              "      <th>10</th>\n",
              "      <th>11</th>\n",
              "      <th>12</th>\n",
              "      <th>13</th>\n",
              "      <th>14</th>\n",
              "      <th>15</th>\n",
              "      <th>16</th>\n",
              "      <th>17</th>\n",
              "      <th>18</th>\n",
              "      <th>19</th>\n",
              "      <th>20</th>\n",
              "      <th>21</th>\n",
              "      <th>22</th>\n",
              "      <th>23</th>\n",
              "      <th>24</th>\n",
              "      <th>25</th>\n",
              "      <th>26</th>\n",
              "      <th>27</th>\n",
              "      <th>28</th>\n",
              "      <th>29</th>\n",
              "      <th>30</th>\n",
              "      <th>31</th>\n",
              "      <th>32</th>\n",
              "      <th>33</th>\n",
              "      <th>34</th>\n",
              "      <th>35</th>\n",
              "      <th>36</th>\n",
              "      <th>37</th>\n",
              "      <th>38</th>\n",
              "      <th>39</th>\n",
              "      <th>...</th>\n",
              "      <th>744</th>\n",
              "      <th>745</th>\n",
              "      <th>746</th>\n",
              "      <th>747</th>\n",
              "      <th>748</th>\n",
              "      <th>749</th>\n",
              "      <th>750</th>\n",
              "      <th>751</th>\n",
              "      <th>752</th>\n",
              "      <th>753</th>\n",
              "      <th>754</th>\n",
              "      <th>755</th>\n",
              "      <th>756</th>\n",
              "      <th>757</th>\n",
              "      <th>758</th>\n",
              "      <th>759</th>\n",
              "      <th>760</th>\n",
              "      <th>761</th>\n",
              "      <th>762</th>\n",
              "      <th>763</th>\n",
              "      <th>764</th>\n",
              "      <th>765</th>\n",
              "      <th>766</th>\n",
              "      <th>767</th>\n",
              "      <th>768</th>\n",
              "      <th>769</th>\n",
              "      <th>770</th>\n",
              "      <th>771</th>\n",
              "      <th>772</th>\n",
              "      <th>773</th>\n",
              "      <th>774</th>\n",
              "      <th>775</th>\n",
              "      <th>776</th>\n",
              "      <th>777</th>\n",
              "      <th>778</th>\n",
              "      <th>779</th>\n",
              "      <th>780</th>\n",
              "      <th>781</th>\n",
              "      <th>782</th>\n",
              "      <th>783</th>\n",
              "    </tr>\n",
              "  </thead>\n",
              "  <tbody>\n",
              "    <tr>\n",
              "      <th>0</th>\n",
              "      <td>0.000000</td>\n",
              "      <td>0.000000</td>\n",
              "      <td>0.003151</td>\n",
              "      <td>0.008512</td>\n",
              "      <td>0.046079</td>\n",
              "      <td>0.161025</td>\n",
              "      <td>0.249250</td>\n",
              "      <td>0.341634</td>\n",
              "      <td>0.401510</td>\n",
              "      <td>0.423633</td>\n",
              "      <td>0.465140</td>\n",
              "      <td>0.524040</td>\n",
              "      <td>0.542127</td>\n",
              "      <td>0.529071</td>\n",
              "      <td>0.493682</td>\n",
              "      <td>0.476558</td>\n",
              "      <td>0.465347</td>\n",
              "      <td>0.442932</td>\n",
              "      <td>0.434578</td>\n",
              "      <td>0.549604</td>\n",
              "      <td>0.621820</td>\n",
              "      <td>0.654017</td>\n",
              "      <td>0.670046</td>\n",
              "      <td>0.684038</td>\n",
              "      <td>0.701010</td>\n",
              "      <td>0.721879</td>\n",
              "      <td>0.729558</td>\n",
              "      <td>0.725416</td>\n",
              "      <td>0.000000</td>\n",
              "      <td>0.000000</td>\n",
              "      <td>0.000897</td>\n",
              "      <td>0.008161</td>\n",
              "      <td>0.041225</td>\n",
              "      <td>0.167225</td>\n",
              "      <td>0.280238</td>\n",
              "      <td>0.369286</td>\n",
              "      <td>0.435753</td>\n",
              "      <td>0.485960</td>\n",
              "      <td>0.527570</td>\n",
              "      <td>0.553342</td>\n",
              "      <td>...</td>\n",
              "      <td>0.688366</td>\n",
              "      <td>0.572467</td>\n",
              "      <td>0.505769</td>\n",
              "      <td>0.400344</td>\n",
              "      <td>0.420051</td>\n",
              "      <td>0.494477</td>\n",
              "      <td>0.540214</td>\n",
              "      <td>0.632394</td>\n",
              "      <td>0.669126</td>\n",
              "      <td>0.676557</td>\n",
              "      <td>0.676553</td>\n",
              "      <td>0.680999</td>\n",
              "      <td>0.001299</td>\n",
              "      <td>0.010381</td>\n",
              "      <td>0.015902</td>\n",
              "      <td>0.091375</td>\n",
              "      <td>0.492179</td>\n",
              "      <td>0.668307</td>\n",
              "      <td>0.698669</td>\n",
              "      <td>0.709305</td>\n",
              "      <td>0.707501</td>\n",
              "      <td>0.694637</td>\n",
              "      <td>0.676150</td>\n",
              "      <td>0.654286</td>\n",
              "      <td>0.650667</td>\n",
              "      <td>0.745061</td>\n",
              "      <td>0.726222</td>\n",
              "      <td>0.594198</td>\n",
              "      <td>0.536752</td>\n",
              "      <td>0.403542</td>\n",
              "      <td>0.287626</td>\n",
              "      <td>0.325233</td>\n",
              "      <td>0.406265</td>\n",
              "      <td>0.473597</td>\n",
              "      <td>0.507009</td>\n",
              "      <td>0.632702</td>\n",
              "      <td>0.673565</td>\n",
              "      <td>0.686423</td>\n",
              "      <td>0.686308</td>\n",
              "      <td>0.687691</td>\n",
              "    </tr>\n",
              "    <tr>\n",
              "      <th>1</th>\n",
              "      <td>0.593498</td>\n",
              "      <td>0.595789</td>\n",
              "      <td>0.604417</td>\n",
              "      <td>0.629339</td>\n",
              "      <td>0.690502</td>\n",
              "      <td>0.723617</td>\n",
              "      <td>0.752180</td>\n",
              "      <td>0.807498</td>\n",
              "      <td>0.926054</td>\n",
              "      <td>0.979227</td>\n",
              "      <td>0.981462</td>\n",
              "      <td>0.981662</td>\n",
              "      <td>0.978794</td>\n",
              "      <td>0.969066</td>\n",
              "      <td>0.915592</td>\n",
              "      <td>0.648638</td>\n",
              "      <td>0.646689</td>\n",
              "      <td>0.697683</td>\n",
              "      <td>0.645514</td>\n",
              "      <td>0.564038</td>\n",
              "      <td>0.551704</td>\n",
              "      <td>0.526761</td>\n",
              "      <td>0.513103</td>\n",
              "      <td>0.523835</td>\n",
              "      <td>0.528594</td>\n",
              "      <td>0.538076</td>\n",
              "      <td>0.539289</td>\n",
              "      <td>0.544340</td>\n",
              "      <td>0.577254</td>\n",
              "      <td>0.576924</td>\n",
              "      <td>0.598542</td>\n",
              "      <td>0.617434</td>\n",
              "      <td>0.672270</td>\n",
              "      <td>0.722497</td>\n",
              "      <td>0.742164</td>\n",
              "      <td>0.749833</td>\n",
              "      <td>0.811081</td>\n",
              "      <td>0.934974</td>\n",
              "      <td>0.974534</td>\n",
              "      <td>0.975640</td>\n",
              "      <td>...</td>\n",
              "      <td>0.499430</td>\n",
              "      <td>0.512641</td>\n",
              "      <td>0.514502</td>\n",
              "      <td>0.513723</td>\n",
              "      <td>0.507830</td>\n",
              "      <td>0.497376</td>\n",
              "      <td>0.490627</td>\n",
              "      <td>0.486552</td>\n",
              "      <td>0.484075</td>\n",
              "      <td>0.487450</td>\n",
              "      <td>0.524998</td>\n",
              "      <td>0.540638</td>\n",
              "      <td>0.879749</td>\n",
              "      <td>0.911084</td>\n",
              "      <td>0.940911</td>\n",
              "      <td>0.921216</td>\n",
              "      <td>0.818403</td>\n",
              "      <td>0.564881</td>\n",
              "      <td>0.498511</td>\n",
              "      <td>0.508182</td>\n",
              "      <td>0.476045</td>\n",
              "      <td>0.422849</td>\n",
              "      <td>0.370371</td>\n",
              "      <td>0.307812</td>\n",
              "      <td>0.273039</td>\n",
              "      <td>0.244343</td>\n",
              "      <td>0.298105</td>\n",
              "      <td>0.404935</td>\n",
              "      <td>0.484637</td>\n",
              "      <td>0.514005</td>\n",
              "      <td>0.519816</td>\n",
              "      <td>0.520208</td>\n",
              "      <td>0.518087</td>\n",
              "      <td>0.502853</td>\n",
              "      <td>0.499150</td>\n",
              "      <td>0.500908</td>\n",
              "      <td>0.494672</td>\n",
              "      <td>0.493535</td>\n",
              "      <td>0.517529</td>\n",
              "      <td>0.543134</td>\n",
              "    </tr>\n",
              "    <tr>\n",
              "      <th>2</th>\n",
              "      <td>0.587986</td>\n",
              "      <td>0.427366</td>\n",
              "      <td>0.589358</td>\n",
              "      <td>0.652953</td>\n",
              "      <td>0.687684</td>\n",
              "      <td>0.753252</td>\n",
              "      <td>0.804099</td>\n",
              "      <td>0.831786</td>\n",
              "      <td>0.807506</td>\n",
              "      <td>0.664805</td>\n",
              "      <td>0.633399</td>\n",
              "      <td>0.621664</td>\n",
              "      <td>0.600515</td>\n",
              "      <td>0.579862</td>\n",
              "      <td>0.533493</td>\n",
              "      <td>0.489556</td>\n",
              "      <td>0.463801</td>\n",
              "      <td>0.469392</td>\n",
              "      <td>0.503838</td>\n",
              "      <td>0.554225</td>\n",
              "      <td>0.576228</td>\n",
              "      <td>0.583792</td>\n",
              "      <td>0.589118</td>\n",
              "      <td>0.594311</td>\n",
              "      <td>0.576755</td>\n",
              "      <td>0.538420</td>\n",
              "      <td>0.514096</td>\n",
              "      <td>0.494460</td>\n",
              "      <td>0.663203</td>\n",
              "      <td>0.433938</td>\n",
              "      <td>0.594435</td>\n",
              "      <td>0.648392</td>\n",
              "      <td>0.682222</td>\n",
              "      <td>0.791105</td>\n",
              "      <td>0.865560</td>\n",
              "      <td>0.922267</td>\n",
              "      <td>0.932037</td>\n",
              "      <td>0.780094</td>\n",
              "      <td>0.638023</td>\n",
              "      <td>0.645592</td>\n",
              "      <td>...</td>\n",
              "      <td>0.654959</td>\n",
              "      <td>0.625850</td>\n",
              "      <td>0.612988</td>\n",
              "      <td>0.613666</td>\n",
              "      <td>0.622968</td>\n",
              "      <td>0.638038</td>\n",
              "      <td>0.651894</td>\n",
              "      <td>0.664243</td>\n",
              "      <td>0.681647</td>\n",
              "      <td>0.701033</td>\n",
              "      <td>0.704188</td>\n",
              "      <td>0.703184</td>\n",
              "      <td>0.548568</td>\n",
              "      <td>0.538412</td>\n",
              "      <td>0.525069</td>\n",
              "      <td>0.523385</td>\n",
              "      <td>0.466286</td>\n",
              "      <td>0.390800</td>\n",
              "      <td>0.372922</td>\n",
              "      <td>0.410038</td>\n",
              "      <td>0.440351</td>\n",
              "      <td>0.506673</td>\n",
              "      <td>0.554724</td>\n",
              "      <td>0.569067</td>\n",
              "      <td>0.615107</td>\n",
              "      <td>0.645189</td>\n",
              "      <td>0.622219</td>\n",
              "      <td>0.580629</td>\n",
              "      <td>0.582461</td>\n",
              "      <td>0.618082</td>\n",
              "      <td>0.627595</td>\n",
              "      <td>0.630058</td>\n",
              "      <td>0.626357</td>\n",
              "      <td>0.646389</td>\n",
              "      <td>0.661905</td>\n",
              "      <td>0.665701</td>\n",
              "      <td>0.678941</td>\n",
              "      <td>0.689788</td>\n",
              "      <td>0.695541</td>\n",
              "      <td>0.695541</td>\n",
              "    </tr>\n",
              "    <tr>\n",
              "      <th>3</th>\n",
              "      <td>0.727229</td>\n",
              "      <td>0.687880</td>\n",
              "      <td>0.670692</td>\n",
              "      <td>0.660795</td>\n",
              "      <td>0.637017</td>\n",
              "      <td>0.488887</td>\n",
              "      <td>0.376375</td>\n",
              "      <td>0.524831</td>\n",
              "      <td>0.570277</td>\n",
              "      <td>0.573198</td>\n",
              "      <td>0.569857</td>\n",
              "      <td>0.559231</td>\n",
              "      <td>0.526318</td>\n",
              "      <td>0.497592</td>\n",
              "      <td>0.488839</td>\n",
              "      <td>0.480199</td>\n",
              "      <td>0.466926</td>\n",
              "      <td>0.460341</td>\n",
              "      <td>0.462675</td>\n",
              "      <td>0.482001</td>\n",
              "      <td>0.501951</td>\n",
              "      <td>0.507048</td>\n",
              "      <td>0.482857</td>\n",
              "      <td>0.457522</td>\n",
              "      <td>0.457101</td>\n",
              "      <td>0.434442</td>\n",
              "      <td>0.400832</td>\n",
              "      <td>0.386404</td>\n",
              "      <td>0.703582</td>\n",
              "      <td>0.673856</td>\n",
              "      <td>0.663522</td>\n",
              "      <td>0.656166</td>\n",
              "      <td>0.624028</td>\n",
              "      <td>0.423041</td>\n",
              "      <td>0.411778</td>\n",
              "      <td>0.572507</td>\n",
              "      <td>0.590737</td>\n",
              "      <td>0.585116</td>\n",
              "      <td>0.590082</td>\n",
              "      <td>0.589829</td>\n",
              "      <td>...</td>\n",
              "      <td>0.355051</td>\n",
              "      <td>0.364760</td>\n",
              "      <td>0.389176</td>\n",
              "      <td>0.414246</td>\n",
              "      <td>0.450312</td>\n",
              "      <td>0.490831</td>\n",
              "      <td>0.500149</td>\n",
              "      <td>0.477737</td>\n",
              "      <td>0.457269</td>\n",
              "      <td>0.461118</td>\n",
              "      <td>0.471348</td>\n",
              "      <td>0.477327</td>\n",
              "      <td>0.235094</td>\n",
              "      <td>0.113944</td>\n",
              "      <td>0.085397</td>\n",
              "      <td>0.250834</td>\n",
              "      <td>0.461685</td>\n",
              "      <td>0.494516</td>\n",
              "      <td>0.481737</td>\n",
              "      <td>0.407362</td>\n",
              "      <td>0.306164</td>\n",
              "      <td>0.288932</td>\n",
              "      <td>0.292907</td>\n",
              "      <td>0.321772</td>\n",
              "      <td>0.342878</td>\n",
              "      <td>0.353627</td>\n",
              "      <td>0.357084</td>\n",
              "      <td>0.353334</td>\n",
              "      <td>0.349745</td>\n",
              "      <td>0.355269</td>\n",
              "      <td>0.387140</td>\n",
              "      <td>0.412857</td>\n",
              "      <td>0.432040</td>\n",
              "      <td>0.455037</td>\n",
              "      <td>0.459986</td>\n",
              "      <td>0.447637</td>\n",
              "      <td>0.435232</td>\n",
              "      <td>0.442874</td>\n",
              "      <td>0.449708</td>\n",
              "      <td>0.449618</td>\n",
              "    </tr>\n",
              "    <tr>\n",
              "      <th>4</th>\n",
              "      <td>0.346747</td>\n",
              "      <td>0.328336</td>\n",
              "      <td>0.316983</td>\n",
              "      <td>0.292060</td>\n",
              "      <td>0.260045</td>\n",
              "      <td>0.259185</td>\n",
              "      <td>0.274774</td>\n",
              "      <td>0.319253</td>\n",
              "      <td>0.352122</td>\n",
              "      <td>0.368492</td>\n",
              "      <td>0.383739</td>\n",
              "      <td>0.388587</td>\n",
              "      <td>0.382272</td>\n",
              "      <td>0.380055</td>\n",
              "      <td>0.370397</td>\n",
              "      <td>0.372779</td>\n",
              "      <td>0.454790</td>\n",
              "      <td>0.557607</td>\n",
              "      <td>0.577452</td>\n",
              "      <td>0.617980</td>\n",
              "      <td>0.710386</td>\n",
              "      <td>0.793994</td>\n",
              "      <td>0.844264</td>\n",
              "      <td>0.834000</td>\n",
              "      <td>0.772092</td>\n",
              "      <td>0.731631</td>\n",
              "      <td>0.699343</td>\n",
              "      <td>0.656586</td>\n",
              "      <td>0.301617</td>\n",
              "      <td>0.311780</td>\n",
              "      <td>0.316563</td>\n",
              "      <td>0.307221</td>\n",
              "      <td>0.282560</td>\n",
              "      <td>0.275510</td>\n",
              "      <td>0.292306</td>\n",
              "      <td>0.329139</td>\n",
              "      <td>0.349825</td>\n",
              "      <td>0.360148</td>\n",
              "      <td>0.380456</td>\n",
              "      <td>0.396704</td>\n",
              "      <td>...</td>\n",
              "      <td>0.476276</td>\n",
              "      <td>0.534314</td>\n",
              "      <td>0.574553</td>\n",
              "      <td>0.597715</td>\n",
              "      <td>0.617800</td>\n",
              "      <td>0.605077</td>\n",
              "      <td>0.607609</td>\n",
              "      <td>0.612715</td>\n",
              "      <td>0.591327</td>\n",
              "      <td>0.570459</td>\n",
              "      <td>0.557535</td>\n",
              "      <td>0.567326</td>\n",
              "      <td>0.667555</td>\n",
              "      <td>0.345705</td>\n",
              "      <td>0.353206</td>\n",
              "      <td>0.409876</td>\n",
              "      <td>0.440420</td>\n",
              "      <td>0.452865</td>\n",
              "      <td>0.455447</td>\n",
              "      <td>0.443904</td>\n",
              "      <td>0.421134</td>\n",
              "      <td>0.419620</td>\n",
              "      <td>0.416170</td>\n",
              "      <td>0.404058</td>\n",
              "      <td>0.369182</td>\n",
              "      <td>0.353626</td>\n",
              "      <td>0.338508</td>\n",
              "      <td>0.334283</td>\n",
              "      <td>0.375410</td>\n",
              "      <td>0.450229</td>\n",
              "      <td>0.517118</td>\n",
              "      <td>0.550337</td>\n",
              "      <td>0.558875</td>\n",
              "      <td>0.557515</td>\n",
              "      <td>0.557534</td>\n",
              "      <td>0.575872</td>\n",
              "      <td>0.584820</td>\n",
              "      <td>0.581976</td>\n",
              "      <td>0.592841</td>\n",
              "      <td>0.591267</td>\n",
              "    </tr>\n",
              "  </tbody>\n",
              "</table>\n",
              "<p>5 rows × 784 columns</p>\n",
              "</div>"
            ],
            "text/plain": [
              "        0         1         2    ...       781       782       783\n",
              "0  0.000000  0.000000  0.003151  ...  0.686423  0.686308  0.687691\n",
              "1  0.593498  0.595789  0.604417  ...  0.493535  0.517529  0.543134\n",
              "2  0.587986  0.427366  0.589358  ...  0.689788  0.695541  0.695541\n",
              "3  0.727229  0.687880  0.670692  ...  0.442874  0.449708  0.449618\n",
              "4  0.346747  0.328336  0.316983  ...  0.581976  0.592841  0.591267\n",
              "\n",
              "[5 rows x 784 columns]"
            ]
          },
          "metadata": {
            "tags": []
          },
          "execution_count": 16
        }
      ]
    },
    {
      "cell_type": "code",
      "metadata": {
        "colab": {
          "base_uri": "https://localhost:8080/"
        },
        "id": "aobZmEXHAxIP",
        "outputId": "9edb161f-b513-496e-e1bd-1ae4cbb274d8"
      },
      "source": [
        "\n",
        "#X =np.array(df.copy())/255.0 \n",
        "X =np.array(df.copy())\n",
        "\n",
        "X_train, X_test, y_train, y_test = train_test_split(X, y, test_size=0.30, shuffle=True, random_state=42)\n",
        "\n",
        "model = MLPClassifier(hidden_layer_sizes=(200,10), activation='tanh', \n",
        "                      solver='adam',random_state=1, max_iter=300).fit(X_train,y_train)\n",
        "  \n",
        "prediction = model.predict(X_test)\n",
        "  \n",
        "y =np.copy(y_test)\n",
        "data = {'y_true': y_test,'y_predict': prediction}  # este dado esta no formato de dicionario\n",
        "\n",
        "df = pd.DataFrame(data, columns=['y_true','y_predict'])\n",
        "\n",
        "\n",
        "confusion_matrix = pd.crosstab(df['y_true'], df['y_predict'], rownames=['Actual'], colnames=['Predict'])\n",
        "print(confusion_matrix)\n",
        "\n",
        "y_true = df['y_true']\n",
        "y_pred = df['y_predict']\n",
        "\n",
        "  \n",
        "METRICS=sklearn.metrics.classification_report(y_true, y_pred)\n"
      ],
      "execution_count": 17,
      "outputs": [
        {
          "output_type": "stream",
          "text": [
            "Predict    1   2   3   4\n",
            "Actual                  \n",
            "1        104   0   1   1\n",
            "2          0  51   0   0\n",
            "3         21  11  19  12\n",
            "4         21   2   6  16\n"
          ],
          "name": "stdout"
        }
      ]
    },
    {
      "cell_type": "code",
      "metadata": {
        "colab": {
          "base_uri": "https://localhost:8080/"
        },
        "id": "jCe9ihVdBlNS",
        "outputId": "f708934f-98d0-4a8e-9ea6-8739c8c7fb55"
      },
      "source": [
        "#X =np.array(df.copy())/255.0 \n",
        "df = df_r1.copy()\n",
        "y = y_r1.copy()\n",
        "X =np.array(df.copy())\n",
        "\n",
        "X_train, X_test, y_train, y_test = train_test_split(X, y, test_size=0.30, shuffle=True, random_state=42)\n",
        "\n",
        "model = MLPClassifier(hidden_layer_sizes=(200,10), activation='tanh', \n",
        "                      solver='adam',random_state=1, max_iter=300).fit(X_train,y_train)\n",
        "  \n",
        "prediction = model.predict(X_test)\n",
        "  \n",
        "y =np.copy(y_test)\n",
        "data = {'y_true': y_test,'y_predict': prediction}  # este dado esta no formato de dicionario\n",
        "\n",
        "df = pd.DataFrame(data, columns=['y_true','y_predict'])\n",
        "\n",
        "\n",
        "confusion_matrix = pd.crosstab(df['y_true'], df['y_predict'], rownames=['Actual'], colnames=['Predict'])\n",
        "print('rede 1 G e B --> r1') \n",
        "print(confusion_matrix)\n",
        "\n",
        "y_true = df['y_true']\n",
        "y_pred = df['y_predict']\n",
        "\n",
        "  \n",
        "METRICS=sklearn.metrics.classification_report(y_true, y_pred)"
      ],
      "execution_count": 18,
      "outputs": [
        {
          "output_type": "stream",
          "text": [
            "rede 1 G e B --> r1\n",
            "Predict    1   2\n",
            "Actual          \n",
            "1        105   1\n",
            "2          1  55\n"
          ],
          "name": "stdout"
        }
      ]
    },
    {
      "cell_type": "code",
      "metadata": {
        "colab": {
          "base_uri": "https://localhost:8080/"
        },
        "id": "GO6fwLGIB1eR",
        "outputId": "76342a17-8f31-4492-afb7-3abbf303951e"
      },
      "source": [
        "\n",
        "#X =np.array(df.copy())/255.0 \n",
        "df = df_r2.copy()\n",
        "y = y_r2.copy()\n",
        "X =np.array(df.copy())\n",
        "\n",
        "X_train, X_test, y_train, y_test = train_test_split(X, y, test_size=0.30, shuffle=True, random_state=42)\n",
        "\n",
        "model = MLPClassifier(hidden_layer_sizes=(200,10), activation='tanh', \n",
        "                      solver='adam',random_state=1, max_iter=300).fit(X_train,y_train)\n",
        "  \n",
        "prediction = model.predict(X_test)\n",
        "  \n",
        "y =np.copy(y_test)\n",
        "data = {'y_true': y_test,'y_predict': prediction}  # este dado esta no formato de dicionario\n",
        "\n",
        "df = pd.DataFrame(data, columns=['y_true','y_predict'])\n",
        "\n",
        "\n",
        "confusion_matrix = pd.crosstab(df['y_true'], df['y_predict'], rownames=['Actual'], colnames=['Predict'])\n",
        "print(' rede 2 G e I --> r2')\n",
        "print(confusion_matrix)\n",
        "\n",
        "y_true = df['y_true']\n",
        "y_pred = df['y_predict']\n",
        "\n",
        "  \n",
        "METRICS=sklearn.metrics.classification_report(y_true, y_pred)\n"
      ],
      "execution_count": 19,
      "outputs": [
        {
          "output_type": "stream",
          "text": [
            " rede 2 G e I --> r2\n",
            "Predict   1   3\n",
            "Actual         \n",
            "1        94  12\n",
            "3         3  53\n"
          ],
          "name": "stdout"
        }
      ]
    },
    {
      "cell_type": "code",
      "metadata": {
        "colab": {
          "base_uri": "https://localhost:8080/"
        },
        "id": "yE-qa5pVB5Dl",
        "outputId": "2cf34560-fd85-4e4b-b391-0353b4472ab8"
      },
      "source": [
        "\n",
        "#X =np.array(df.copy())/255.0 \n",
        "df = df_r3.copy()\n",
        "y = y_r3.copy()\n",
        "X =np.array(df.copy())\n",
        "\n",
        "X_train, X_test, y_train, y_test = train_test_split(X, y, test_size=0.30, shuffle=True, random_state=42)\n",
        "\n",
        "model = MLPClassifier(hidden_layer_sizes=(200,10), activation='tanh', \n",
        "                      solver='adam',random_state=1, max_iter=300).fit(X_train,y_train)\n",
        "  \n",
        "prediction = model.predict(X_test)\n",
        "  \n",
        "y =np.copy(y_test)\n",
        "data = {'y_true': y_test,'y_predict': prediction}  # este dado esta no formato de dicionario\n",
        "\n",
        "df = pd.DataFrame(data, columns=['y_true','y_predict'])\n",
        "\n",
        "\n",
        "confusion_matrix = pd.crosstab(df['y_true'], df['y_predict'], rownames=['Actual'], colnames=['Predict'])\n",
        "print('rede 3 G e V --> r3')\n",
        "print(confusion_matrix)\n",
        "\n",
        "y_true = df['y_true']\n",
        "y_pred = df['y_predict']\n",
        "\n",
        "  \n",
        "METRICS=sklearn.metrics.classification_report(y_true, y_pred)\n"
      ],
      "execution_count": 20,
      "outputs": [
        {
          "output_type": "stream",
          "text": [
            "rede 3 G e V --> r3\n",
            "Predict   1   4\n",
            "Actual         \n",
            "1        98  12\n",
            "4        10  37\n"
          ],
          "name": "stdout"
        }
      ]
    },
    {
      "cell_type": "code",
      "metadata": {
        "id": "E-WgUqQhHeQp"
      },
      "source": [
        "# joblib.dump(model,'model_ANN_new.pkl')"
      ],
      "execution_count": 21,
      "outputs": []
    },
    {
      "cell_type": "code",
      "metadata": {
        "colab": {
          "base_uri": "https://localhost:8080/",
          "height": 35
        },
        "id": "jjpqjbw3_jQc",
        "outputId": "336d8ef8-e2bb-421a-d436-d84293a98211"
      },
      "source": [
        "'''\n",
        "Arq = 'model_ANN_new.pkl'\n",
        "from google.colab import files\n",
        "files.download(Arq)\n",
        "'''"
      ],
      "execution_count": 22,
      "outputs": [
        {
          "output_type": "execute_result",
          "data": {
            "application/vnd.google.colaboratory.intrinsic+json": {
              "type": "string"
            },
            "text/plain": [
              "\"\\nArq = 'model_ANN_new.pkl'\\nfrom google.colab import files\\nfiles.download(Arq)\\n\""
            ]
          },
          "metadata": {
            "tags": []
          },
          "execution_count": 22
        }
      ]
    },
    {
      "cell_type": "code",
      "metadata": {
        "id": "OKgBk8efNkQP"
      },
      "source": [
        "w = df_all['Type']\n",
        "y = []\n",
        "for wi in w:\n",
        "  if(wi == 'G'):\n",
        "    y.append(1)\n",
        "  elif(wi == 'B'):\n",
        "    y.append(2)\n",
        "  elif(wi == 'I'):\n",
        "    y.append(2)\n",
        "  elif(wi == 'V'):\n",
        "    y.append(2)"
      ],
      "execution_count": 23,
      "outputs": []
    },
    {
      "cell_type": "code",
      "metadata": {
        "id": "UrTH3pNpORyZ"
      },
      "source": [
        "df_all.drop(['Unnamed: 0','Type'], axis='columns', inplace=True)"
      ],
      "execution_count": 24,
      "outputs": []
    },
    {
      "cell_type": "code",
      "metadata": {
        "colab": {
          "base_uri": "https://localhost:8080/"
        },
        "id": "cqNPfdzqNjH8",
        "outputId": "e9ba5831-0226-4cc2-db81-45b35945e6b2"
      },
      "source": [
        "Hidden_one = [10,20,50,80,100,150,200,250]\n",
        "Hidden_two = [10,20,50,80,100,150,200,250]\n",
        "y_ann = y.copy()\n",
        "X =np.array(df_all.copy())\n",
        "X_train, X_test, y_train, y_test = train_test_split(X, y, test_size=0.30, shuffle=True, random_state=42)\n",
        "#X =np.array(df.copy())/255.0 \n",
        "for n1 in Hidden_one:\n",
        "  for n2 in Hidden_two:\n",
        "    model = MLPClassifier(hidden_layer_sizes=(n1,n2), activation='tanh',\n",
        "                          solver='adam',random_state=1, max_iter=300).fit(X_train,y_train)\n",
        "    prediction = model.predict(X_test)\n",
        "  \n",
        "    y =np.copy(y_test)\n",
        "    data = {'y_true': y_test,'y_predict': prediction}  # este dado esta no formato de dicionario\n",
        "\n",
        "    df = pd.DataFrame(data, columns=['y_true','y_predict'])\n",
        "\n",
        "    confusion_matrix = pd.crosstab(df['y_true'], df['y_predict'], rownames=['Actual'], colnames=['Predict'])\n",
        "    # print(confusion_matrix)\n",
        "\n",
        "    y_true = df['y_true']\n",
        "    y_pred = df['y_predict']\n",
        "    print('n1, n2 =',n1,n2,'true',Counter(y_true),'calc',Counter(y_pred))\n"
      ],
      "execution_count": 25,
      "outputs": [
        {
          "output_type": "stream",
          "text": [
            "n1, n2 = 10 10 true Counter({2: 159, 1: 106}) calc Counter({2: 162, 1: 103})\n",
            "n1, n2 = 10 20 true Counter({2: 159, 1: 106}) calc Counter({2: 162, 1: 103})\n",
            "n1, n2 = 10 50 true Counter({2: 159, 1: 106}) calc Counter({2: 157, 1: 108})\n",
            "n1, n2 = 10 80 true Counter({2: 159, 1: 106}) calc Counter({2: 172, 1: 93})\n",
            "n1, n2 = 10 100 true Counter({2: 159, 1: 106}) calc Counter({2: 162, 1: 103})\n",
            "n1, n2 = 10 150 true Counter({2: 159, 1: 106}) calc Counter({2: 161, 1: 104})\n",
            "n1, n2 = 10 200 true Counter({2: 159, 1: 106}) calc Counter({2: 190, 1: 75})\n",
            "n1, n2 = 10 250 true Counter({2: 159, 1: 106}) calc Counter({2: 193, 1: 72})\n",
            "n1, n2 = 20 10 true Counter({2: 159, 1: 106}) calc Counter({2: 138, 1: 127})\n",
            "n1, n2 = 20 20 true Counter({2: 159, 1: 106}) calc Counter({2: 158, 1: 107})\n",
            "n1, n2 = 20 50 true Counter({2: 159, 1: 106}) calc Counter({2: 161, 1: 104})\n",
            "n1, n2 = 20 80 true Counter({2: 159, 1: 106}) calc Counter({2: 181, 1: 84})\n",
            "n1, n2 = 20 100 true Counter({2: 159, 1: 106}) calc Counter({2: 163, 1: 102})\n",
            "n1, n2 = 20 150 true Counter({2: 159, 1: 106}) calc Counter({1: 140, 2: 125})\n",
            "n1, n2 = 20 200 true Counter({2: 159, 1: 106}) calc Counter({2: 167, 1: 98})\n",
            "n1, n2 = 20 250 true Counter({2: 159, 1: 106}) calc Counter({2: 147, 1: 118})\n",
            "n1, n2 = 50 10 true Counter({2: 159, 1: 106}) calc Counter({2: 158, 1: 107})\n",
            "n1, n2 = 50 20 true Counter({2: 159, 1: 106}) calc Counter({2: 176, 1: 89})\n",
            "n1, n2 = 50 50 true Counter({2: 159, 1: 106}) calc Counter({2: 150, 1: 115})\n",
            "n1, n2 = 50 80 true Counter({2: 159, 1: 106}) calc Counter({1: 140, 2: 125})\n",
            "n1, n2 = 50 100 true Counter({2: 159, 1: 106}) calc Counter({2: 166, 1: 99})\n",
            "n1, n2 = 50 150 true Counter({2: 159, 1: 106}) calc Counter({2: 165, 1: 100})\n",
            "n1, n2 = 50 200 true Counter({2: 159, 1: 106}) calc Counter({2: 181, 1: 84})\n",
            "n1, n2 = 50 250 true Counter({2: 159, 1: 106}) calc Counter({2: 178, 1: 87})\n",
            "n1, n2 = 80 10 true Counter({2: 159, 1: 106}) calc Counter({2: 163, 1: 102})\n",
            "n1, n2 = 80 20 true Counter({2: 159, 1: 106}) calc Counter({2: 172, 1: 93})\n",
            "n1, n2 = 80 50 true Counter({2: 159, 1: 106}) calc Counter({1: 147, 2: 118})\n",
            "n1, n2 = 80 80 true Counter({2: 159, 1: 106}) calc Counter({2: 167, 1: 98})\n",
            "n1, n2 = 80 100 true Counter({2: 159, 1: 106}) calc Counter({2: 135, 1: 130})\n",
            "n1, n2 = 80 150 true Counter({2: 159, 1: 106}) calc Counter({2: 185, 1: 80})\n",
            "n1, n2 = 80 200 true Counter({2: 159, 1: 106}) calc Counter({2: 171, 1: 94})\n",
            "n1, n2 = 80 250 true Counter({2: 159, 1: 106}) calc Counter({2: 170, 1: 95})\n",
            "n1, n2 = 100 10 true Counter({2: 159, 1: 106}) calc Counter({2: 150, 1: 115})\n",
            "n1, n2 = 100 20 true Counter({2: 159, 1: 106}) calc Counter({2: 174, 1: 91})\n",
            "n1, n2 = 100 50 true Counter({2: 159, 1: 106}) calc Counter({2: 147, 1: 118})\n",
            "n1, n2 = 100 80 true Counter({2: 159, 1: 106}) calc Counter({2: 173, 1: 92})\n",
            "n1, n2 = 100 100 true Counter({2: 159, 1: 106}) calc Counter({2: 166, 1: 99})\n",
            "n1, n2 = 100 150 true Counter({2: 159, 1: 106}) calc Counter({2: 137, 1: 128})\n",
            "n1, n2 = 100 200 true Counter({2: 159, 1: 106}) calc Counter({2: 172, 1: 93})\n",
            "n1, n2 = 100 250 true Counter({2: 159, 1: 106}) calc Counter({2: 153, 1: 112})\n",
            "n1, n2 = 150 10 true Counter({2: 159, 1: 106}) calc Counter({2: 135, 1: 130})\n",
            "n1, n2 = 150 20 true Counter({2: 159, 1: 106}) calc Counter({2: 152, 1: 113})\n",
            "n1, n2 = 150 50 true Counter({2: 159, 1: 106}) calc Counter({2: 139, 1: 126})\n",
            "n1, n2 = 150 80 true Counter({2: 159, 1: 106}) calc Counter({1: 155, 2: 110})\n",
            "n1, n2 = 150 100 true Counter({2: 159, 1: 106}) calc Counter({2: 148, 1: 117})\n",
            "n1, n2 = 150 150 true Counter({2: 159, 1: 106}) calc Counter({2: 165, 1: 100})\n",
            "n1, n2 = 150 200 true Counter({2: 159, 1: 106}) calc Counter({2: 198, 1: 67})\n",
            "n1, n2 = 150 250 true Counter({2: 159, 1: 106}) calc Counter({2: 149, 1: 116})\n",
            "n1, n2 = 200 10 true Counter({2: 159, 1: 106}) calc Counter({2: 144, 1: 121})\n",
            "n1, n2 = 200 20 true Counter({2: 159, 1: 106}) calc Counter({1: 140, 2: 125})\n",
            "n1, n2 = 200 50 true Counter({2: 159, 1: 106}) calc Counter({2: 142, 1: 123})\n",
            "n1, n2 = 200 80 true Counter({2: 159, 1: 106}) calc Counter({2: 157, 1: 108})\n",
            "n1, n2 = 200 100 true Counter({2: 159, 1: 106}) calc Counter({2: 163, 1: 102})\n",
            "n1, n2 = 200 150 true Counter({2: 159, 1: 106}) calc Counter({2: 182, 1: 83})\n",
            "n1, n2 = 200 200 true Counter({2: 159, 1: 106}) calc Counter({2: 172, 1: 93})\n",
            "n1, n2 = 200 250 true Counter({2: 159, 1: 106}) calc Counter({2: 179, 1: 86})\n",
            "n1, n2 = 250 10 true Counter({2: 159, 1: 106}) calc Counter({2: 167, 1: 98})\n",
            "n1, n2 = 250 20 true Counter({2: 159, 1: 106}) calc Counter({2: 187, 1: 78})\n",
            "n1, n2 = 250 50 true Counter({2: 159, 1: 106}) calc Counter({2: 157, 1: 108})\n",
            "n1, n2 = 250 80 true Counter({2: 159, 1: 106}) calc Counter({2: 178, 1: 87})\n",
            "n1, n2 = 250 100 true Counter({2: 159, 1: 106}) calc Counter({2: 152, 1: 113})\n",
            "n1, n2 = 250 150 true Counter({2: 159, 1: 106}) calc Counter({1: 144, 2: 121})\n",
            "n1, n2 = 250 200 true Counter({2: 159, 1: 106}) calc Counter({2: 141, 1: 124})\n",
            "n1, n2 = 250 250 true Counter({2: 159, 1: 106}) calc Counter({2: 179, 1: 86})\n"
          ],
          "name": "stdout"
        }
      ]
    },
    {
      "cell_type": "code",
      "metadata": {
        "id": "-8jiK2YCN1ja",
        "colab": {
          "base_uri": "https://localhost:8080/"
        },
        "outputId": "4ef633ef-52f6-4d57-95a4-7f46f936a513"
      },
      "source": [
        "Hidden_one = [10,20,50,80,100,110,120,130,140,150,180,200,250]\n",
        "y = y_ann.copy()\n",
        "X =np.array(df_all.copy())\n",
        "X_train, X_test, y_train, y_test = train_test_split(X, y, test_size=0.30, shuffle=True, random_state=42)\n",
        "#X =np.array(df.copy())/255.0 \n",
        "for n1 in Hidden_one:\n",
        "  model = MLPClassifier(hidden_layer_sizes=(n1), activation='tanh',\n",
        "                        solver='adam',random_state=1, max_iter=300).fit(X_train,y_train)\n",
        "  prediction = model.predict(X_test)\n",
        "  \n",
        "  y =np.copy(y_test)\n",
        "  data = {'y_true': y_test,'y_predict': prediction}  # este dado esta no formato de dicionario\n",
        "\n",
        "  df = pd.DataFrame(data, columns=['y_true','y_predict'])\n",
        "\n",
        "  confusion_matrix = pd.crosstab(df['y_true'], df['y_predict'], rownames=['Actual'], colnames=['Predict'])\n",
        "    # print(confusion_matrix)\n",
        "\n",
        "  y_true = df['y_true']\n",
        "  y_pred = df['y_predict']\n",
        "  print('n1 =',n1,'true',Counter(y_true),'calc',Counter(y_pred))"
      ],
      "execution_count": 27,
      "outputs": [
        {
          "output_type": "stream",
          "text": [
            "n1 = 10 true Counter({2: 159, 1: 106}) calc Counter({2: 175, 1: 90})\n",
            "n1 = 20 true Counter({2: 159, 1: 106}) calc Counter({2: 172, 1: 93})\n",
            "n1 = 50 true Counter({2: 159, 1: 106}) calc Counter({2: 168, 1: 97})\n",
            "n1 = 80 true Counter({2: 159, 1: 106}) calc Counter({2: 146, 1: 119})\n",
            "n1 = 100 true Counter({2: 159, 1: 106}) calc Counter({2: 147, 1: 118})\n",
            "n1 = 110 true Counter({2: 159, 1: 106}) calc Counter({2: 155, 1: 110})\n",
            "n1 = 120 true Counter({2: 159, 1: 106}) calc Counter({2: 165, 1: 100})\n",
            "n1 = 130 true Counter({2: 159, 1: 106}) calc Counter({2: 175, 1: 90})\n",
            "n1 = 140 true Counter({2: 159, 1: 106}) calc Counter({2: 171, 1: 94})\n",
            "n1 = 150 true Counter({2: 159, 1: 106}) calc Counter({2: 158, 1: 107})\n",
            "n1 = 180 true Counter({2: 159, 1: 106}) calc Counter({2: 174, 1: 91})\n",
            "n1 = 200 true Counter({2: 159, 1: 106}) calc Counter({2: 177, 1: 88})\n",
            "n1 = 250 true Counter({2: 159, 1: 106}) calc Counter({1: 137, 2: 128})\n"
          ],
          "name": "stdout"
        }
      ]
    },
    {
      "cell_type": "code",
      "metadata": {
        "id": "bG4bucJiSt1B"
      },
      "source": [
        "# Best results:\n",
        "'''\n",
        "n1, n2 = 10 50 true Counter({2: 159, 1: 106}) calc Counter({2: 157, 1: 108})\n",
        "n1, n2 = 20 20 true Counter({2: 159, 1: 106}) calc Counter({2: 158, 1: 107})\n",
        "n1, n2 = 50 10 true Counter({2: 159, 1: 106}) calc Counter({2: 158, 1: 107})\n",
        "n1 = 150 true Counter({2: 159, 1: 106}) calc Counter({2: 158, 1: 107})\n",
        "'''"
      ],
      "execution_count": null,
      "outputs": []
    }
  ]
}