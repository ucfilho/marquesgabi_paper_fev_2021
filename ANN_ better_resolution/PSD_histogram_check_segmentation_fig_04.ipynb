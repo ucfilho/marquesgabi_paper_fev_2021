{
  "nbformat": 4,
  "nbformat_minor": 0,
  "metadata": {
    "colab": {
      "name": "PSD_histogram_check_segmentation_fig_04.ipynb",
      "provenance": [],
      "collapsed_sections": [],
      "include_colab_link": true
    },
    "kernelspec": {
      "name": "python3",
      "display_name": "Python 3"
    }
  },
  "cells": [
    {
      "cell_type": "markdown",
      "metadata": {
        "id": "view-in-github",
        "colab_type": "text"
      },
      "source": [
        "<a href=\"https://colab.research.google.com/github/ucfilho/marquesgabi_paper_fev_2021/blob/main/ANN_%20better_resolution/PSD_histogram_check_segmentation_fig_04.ipynb\" target=\"_parent\"><img src=\"https://colab.research.google.com/assets/colab-badge.svg\" alt=\"Open In Colab\"/></a>"
      ]
    },
    {
      "cell_type": "code",
      "metadata": {
        "id": "Sog7Z9pyhUD_"
      },
      "source": [
        "import matplotlib.pyplot as plt\n",
        "import numpy as np\n",
        "import cv2\n",
        "import zipfile\n",
        "#import random\n",
        "from random import randint\n",
        "from PIL import Image\n",
        "import re\n",
        "from sklearn.model_selection import train_test_split\n",
        "from sklearn.neural_network import MLPClassifier\n",
        "#import scikit-image\n",
        "import skimage\n",
        "import pandas as pd\n",
        "from collections import Counter"
      ],
      "execution_count": 1,
      "outputs": []
    },
    {
      "cell_type": "code",
      "metadata": {
        "id": "uZEvJvfoibE4",
        "colab": {
          "base_uri": "https://localhost:8080/"
        },
        "outputId": "e06e1957-c21d-4a85-c7dc-2d9b678e5c5a"
      },
      "source": [
        "!pip install mahotas"
      ],
      "execution_count": 2,
      "outputs": [
        {
          "output_type": "stream",
          "text": [
            "Requirement already satisfied: mahotas in /usr/local/lib/python3.7/dist-packages (1.4.11)\n",
            "Requirement already satisfied: numpy in /usr/local/lib/python3.7/dist-packages (from mahotas) (1.19.5)\n"
          ],
          "name": "stdout"
        }
      ]
    },
    {
      "cell_type": "code",
      "metadata": {
        "id": "nf_a6PJ1iUnT"
      },
      "source": [
        "import mahotas.features.texture as mht\n",
        "import mahotas.features"
      ],
      "execution_count": 3,
      "outputs": []
    },
    {
      "cell_type": "code",
      "metadata": {
        "id": "_VcTdaNVh9EE",
        "colab": {
          "base_uri": "https://localhost:8080/"
        },
        "outputId": "de829d30-f2b4-48bc-ac56-970551ba50ed"
      },
      "source": [
        "!git clone https://github.com/ucfilho/marquesgabi_fev_2020 #clonar do Github\n",
        "%cd marquesgabi_fev_2020\n",
        "import Go2BlackWhite\n",
        "import Go2Mahotas"
      ],
      "execution_count": 4,
      "outputs": [
        {
          "output_type": "stream",
          "text": [
            "fatal: destination path 'marquesgabi_fev_2020' already exists and is not an empty directory.\n",
            "/content/marquesgabi_fev_2020\n"
          ],
          "name": "stdout"
        }
      ]
    },
    {
      "cell_type": "code",
      "metadata": {
        "id": "1v7SRrc8mH2N",
        "colab": {
          "base_uri": "https://localhost:8080/"
        },
        "outputId": "89fff853-84ab-457b-b97e-357f7fa63e9b"
      },
      "source": [
        "!git clone https://github.com/ucfilho/MarquesGabi_Routines\n",
        "%cd MarquesGabi_Routines\n",
        "df = pd.read_excel ('segment_may_07.xlsx')\n",
        "df_classfica = df.copy()"
      ],
      "execution_count": 5,
      "outputs": [
        {
          "output_type": "stream",
          "text": [
            "fatal: destination path 'MarquesGabi_Routines' already exists and is not an empty directory.\n",
            "/content/marquesgabi_fev_2020/MarquesGabi_Routines\n"
          ],
          "name": "stdout"
        }
      ]
    },
    {
      "cell_type": "code",
      "metadata": {
        "id": "ilIvas1OBle3"
      },
      "source": [
        "n1 = 20 # neurons in hidden layer\n",
        "n2 = 20 # neurons in hidden layer\n"
      ],
      "execution_count": 6,
      "outputs": []
    },
    {
      "cell_type": "code",
      "metadata": {
        "id": "YN5MN5a_v4np",
        "colab": {
          "base_uri": "https://localhost:8080/"
        },
        "outputId": "3f348ca4-850c-41ef-bbd7-91c9ebae82a9"
      },
      "source": [
        "print(df)"
      ],
      "execution_count": 7,
      "outputs": [
        {
          "output_type": "stream",
          "text": [
            "    Unnamed: 0  Width           0  ...        9997        9998        9999\n",
            "0            0    106  161.943390  ...  155.452820  154.056595  152.946579\n",
            "1            1    112  235.522964  ...  154.001266  156.571426  158.881363\n",
            "2            2    150  131.000015  ...  143.444458  149.444458  152.555573\n",
            "3            3     50  147.000000  ...  148.000000  150.000000  150.000000\n",
            "4            4    150  190.444458  ...  112.222229  105.333344   97.555557\n",
            "5            5    124  147.494278  ...    1.000000    1.000000    1.000000\n",
            "6            6    110   69.900826  ...  156.892578  164.925629  172.214890\n",
            "7            7     73  114.000000  ...  106.958908  108.369858  109.000000\n",
            "8            8    103  138.087372  ...  157.529373  163.529358  170.556778\n",
            "9            9    139  151.482437  ...  122.769791  119.525185  115.683456\n",
            "10          10     83  125.000000  ...  116.771088  118.891571  134.000000\n",
            "11          11     43    2.000000  ...    2.000000    2.000000    2.000000\n",
            "12          12     97  102.000000  ...  143.061844  144.000000  144.000000\n",
            "13          13     96    2.000000  ...   40.666668   48.250000   54.000000\n",
            "14          14    115  102.364838  ...   44.739132   47.739132   51.017010\n",
            "15          15    124  197.682617  ...  158.531738  147.677414  138.236221\n",
            "16          16     97  252.000000  ...  135.752579  131.969070  131.000000\n",
            "17          17     85  127.000000  ...  133.705887  135.176483  136.000000\n",
            "18          18     55  138.000000  ...  157.000000  157.818176  158.000000\n",
            "19          19     93  159.000000  ...    1.000000    1.000000    1.000000\n",
            "20          20    108  158.296280  ...  178.539108  179.629654  179.777771\n",
            "21          21     74  146.000000  ...  157.756760  145.972961  133.000000\n",
            "22          22    146  197.325394  ...  165.297806  164.630127  164.215790\n",
            "23          23    118    1.718184  ...  176.082733  177.411087  176.197067\n",
            "24          24    136  159.205902  ...  130.592560  130.264709  131.929932\n",
            "25          25     70  193.000000  ...  197.285721  195.714279  194.000000\n",
            "26          26     41    0.000000  ...    0.000000    0.000000    0.000000\n",
            "27          27    122  142.032516  ...  144.623749  142.901642  141.360657\n",
            "28          28    105  132.097504  ...  121.904762  122.995468  124.909302\n",
            "29          29    118  140.457626  ...  164.239304  155.889679  147.470276\n",
            "30          30     49  106.000000  ...  187.959198  187.000000  187.000000\n",
            "31          31     93    3.000000  ...   90.354836   98.602150  106.000000\n",
            "32          32     49  217.000000  ...  117.163269  121.000000  121.000000\n",
            "33          33     92  251.000000  ...  169.000000  168.913055  168.000000\n",
            "34          34    141  150.170776  ...  141.780151  139.709213  139.709213\n",
            "35          35    127   85.271812  ...    1.000000    1.000000    1.000000\n",
            "36          36     63  144.000000  ...  140.000000  140.587296  141.000000\n",
            "37          37    114  144.877197  ...  170.245605  169.030151  167.877182\n",
            "38          38     71  104.000000  ...    1.183099    1.000000    1.000000\n",
            "39          39     99  216.000000  ...   85.979797   85.000000   85.000000\n",
            "40          40    116  128.858505  ...  164.863266  165.648026  165.218781\n",
            "41          41    110  211.636368  ...  191.636383  196.892578  204.099197\n",
            "42          42    132  134.668503  ...  194.484848  192.000000  191.030304\n",
            "43          43     63  179.000000  ...  107.000000  107.000000  107.000000\n",
            "44          44     47  117.000000  ...  253.127670  254.000000  254.000000\n",
            "45          45     73  143.000000  ...  137.041092  133.410950  129.000000\n",
            "46          46     90  133.000000  ...  132.555557  122.333336  109.000000\n",
            "47          47     61  152.000000  ...  159.000000  159.000000  159.000000\n",
            "48          48    102  188.862747  ...  148.058823  146.156082  146.059204\n",
            "49          49     67  116.000000  ...  174.970154  173.522385  172.000000\n",
            "\n",
            "[50 rows x 10002 columns]\n"
          ],
          "name": "stdout"
        }
      ]
    },
    {
      "cell_type": "code",
      "metadata": {
        "id": "UuaAzbXy9UwP"
      },
      "source": [
        "# leitura dos dados\n",
        "df1=pd.read_excel(\"ImgGrao_a.xlsx\")\n",
        "df2=pd.read_excel(\"ImgGrao_b.xlsx\")\n",
        "df3=pd.read_excel(\"ImgIndef.xlsx\")\n",
        "df4=pd.read_excel(\"ImgVarios.xlsx\")\n",
        "df5=pd.read_excel(\"ImgBuraco.xlsx\")"
      ],
      "execution_count": 8,
      "outputs": []
    },
    {
      "cell_type": "code",
      "metadata": {
        "id": "txde4lbo9Xw9"
      },
      "source": [
        "df = pd.concat([df1, df2, df3, df4, df5], ignore_index=True)\n",
        "df.head()\n",
        "df_all = df.copy()"
      ],
      "execution_count": 9,
      "outputs": []
    },
    {
      "cell_type": "code",
      "metadata": {
        "colab": {
          "base_uri": "https://localhost:8080/"
        },
        "id": "GIyJVxqB90I-",
        "outputId": "9ddc0fd6-fbb4-4d31-9f7f-30244f972658"
      },
      "source": [
        "print(df1.shape)\n",
        "print(df2.shape)\n",
        "print(df3.shape)\n",
        "print(df4.shape)\n",
        "print(df5.shape)"
      ],
      "execution_count": 10,
      "outputs": [
        {
          "output_type": "stream",
          "text": [
            "(180, 10002)\n",
            "(179, 10002)\n",
            "(180, 10002)\n",
            "(162, 10002)\n",
            "(180, 10002)\n"
          ],
          "name": "stdout"
        }
      ]
    },
    {
      "cell_type": "code",
      "metadata": {
        "id": "8CUYBGXl-v2l"
      },
      "source": [
        "w = df_all['Type']\n",
        "y = []\n",
        "for wi in w:\n",
        "  if(wi == 'G'):\n",
        "    y.append(1)\n",
        "  elif(wi == 'B'):\n",
        "    y.append(2)\n",
        "  elif(wi == 'I'):\n",
        "    y.append(2)\n",
        "  elif(wi == 'V'):\n",
        "    y.append(2)"
      ],
      "execution_count": 11,
      "outputs": []
    },
    {
      "cell_type": "code",
      "metadata": {
        "id": "_3BTDVex_zmH"
      },
      "source": [
        "df_all.drop(['Unnamed: 0','Type'], axis='columns', inplace=True)"
      ],
      "execution_count": 12,
      "outputs": []
    },
    {
      "cell_type": "code",
      "metadata": {
        "id": "YDkHBPKeBbkz"
      },
      "source": [
        "y_ann = y.copy()\n",
        "X =np.array(df_all.copy())\n",
        "X_train, X_test, y_train, y_test = train_test_split(X, y, test_size=0.30, shuffle=True, random_state=42)"
      ],
      "execution_count": 13,
      "outputs": []
    },
    {
      "cell_type": "code",
      "metadata": {
        "colab": {
          "base_uri": "https://localhost:8080/"
        },
        "id": "zntmbKMH9iLw",
        "outputId": "ade9323b-b470-4026-be35-594d63fc3a21"
      },
      "source": [
        "X_test.shape"
      ],
      "execution_count": 14,
      "outputs": [
        {
          "output_type": "execute_result",
          "data": {
            "text/plain": [
              "(265, 10000)"
            ]
          },
          "metadata": {
            "tags": []
          },
          "execution_count": 14
        }
      ]
    },
    {
      "cell_type": "code",
      "metadata": {
        "id": "Mz-aTpaBBuhD",
        "colab": {
          "base_uri": "https://localhost:8080/"
        },
        "outputId": "fa87b4f0-c8e2-4cf8-e064-05d370d38fe4"
      },
      "source": [
        "model = MLPClassifier(hidden_layer_sizes=(n1,n2), activation='tanh',solver='adam',random_state=1, max_iter=300).fit(X_train,y_train)\n",
        "prediction = model.predict(X_test)\n",
        "  \n",
        "y =np.copy(y_test)\n",
        "data = {'y_true': y_test,'y_predict': prediction}  # este dado esta no formato de dicionario\n",
        "\n",
        "df = pd.DataFrame(data, columns=['y_true','y_predict'])\n",
        "\n",
        "confusion_matrix = pd.crosstab(df['y_true'], df['y_predict'], rownames=['Actual'], colnames=['Predict'])\n",
        "# print(confusion_matrix)\n",
        "\n",
        "y_true = df['y_true']\n",
        "y_pred = df['y_predict']\n",
        "print('n1, n2 =',n1,n2,'true',Counter(y_true),'calc',Counter(y_pred))"
      ],
      "execution_count": 15,
      "outputs": [
        {
          "output_type": "stream",
          "text": [
            "n1, n2 = 20 20 true Counter({2: 159, 1: 106}) calc Counter({2: 265})\n"
          ],
          "name": "stdout"
        }
      ]
    },
    {
      "cell_type": "code",
      "metadata": {
        "colab": {
          "base_uri": "https://localhost:8080/"
        },
        "id": "ov16h0C3Qnks",
        "outputId": "50832772-1484-41cc-b2d7-c1a468e3eded"
      },
      "source": [
        "!git clone https://github.com/ucfilho/MarquesGabi_Routines\n",
        "%cd MarquesGabi_Routines\n",
        "\n",
        "Files = ['segment_may_01.xlsx','segment_may_02.xlsx','segment_may_03.xlsx',\n",
        "         'segment_may_04.xlsx','segment_may_05.xlsx','segment_may_06.xlsx',\n",
        "         'segment_may_07.xlsx']\n",
        "for nome in Files:\n",
        "  df = pd.read_excel (nome)\n",
        "  df_ann =df.copy()\n",
        "  Width = df['Width']\n",
        "  del df_ann['Width']\n",
        "  del df_ann['Unnamed: 0']\n",
        "  result = np.array(df_ann)/255\n",
        "  df = df.dropna()\n",
        "  prediction = model.predict(result)\n",
        "  print('prediction =',prediction)"
      ],
      "execution_count": 16,
      "outputs": [
        {
          "output_type": "stream",
          "text": [
            "Cloning into 'MarquesGabi_Routines'...\n",
            "remote: Enumerating objects: 137, done.\u001b[K\n",
            "remote: Counting objects: 100% (137/137), done.\u001b[K\n",
            "remote: Compressing objects: 100% (134/134), done.\u001b[K\n",
            "remote: Total 137 (delta 60), reused 3 (delta 1), pack-reused 0\u001b[K\n",
            "Receiving objects: 100% (137/137), 154.21 MiB | 13.49 MiB/s, done.\n",
            "Resolving deltas: 100% (60/60), done.\n",
            "/content/marquesgabi_fev_2020/MarquesGabi_Routines/MarquesGabi_Routines\n",
            "prediction = [2 2 2 2 2 2 2 2 2 2 2 2 2 2 2 2 2 2 2 2 2 2 2 2 2 2 2 2 2 2 2 2 2 2 2 2 2\n",
            " 2 2 2 2 2 2 2 2 2 2 2 2 2]\n",
            "prediction = [2 2 2 2 2 2 2 2 2 2 2 2 2 2 2 2 2 2 2 2 2 2 2 2 2 2 2 2 2 2 2 2 2 2 2 2 2\n",
            " 2 2 2 2 2 2 2 2 2 2 2 2 2]\n",
            "prediction = [2 2 2 2 2 2 2 2 2 2 2 2 2 2 2 2 2 2 2 2 2 2 2 2 2 2 2 2 2 2 2 2 2 2 2 2 2\n",
            " 2 2 2 2 2 2 2 2 2 2 2 2 2]\n",
            "prediction = [2 2 2 2 2 2 2 2 2 2 2 2 2 2 2 2 2 2 2 2 2 2 2 2 2 2 2 2 2 2 2 2 2 2 2 2 2\n",
            " 2 2 2 2 2 2 2 2 2 2 2 2 2]\n",
            "prediction = [2 2 2 2 2 2 2 2 2 2 2 2 2 2 2 2 2 2 2 2 2 2 2 2 2 2 2 2 2 2 2 2 2 2 2 2 2\n",
            " 2 2 2 2 2 2 2 2 2 2 2 2 2]\n",
            "prediction = [2 2 2 2 2 2 2 2 2 2 2 2 2 2 2 2 2 2 2 2 2 2 2 2 2 2 2 2 2 2 2 2 2 2 2 2 2\n",
            " 2 2 2 2 2 2 2 2 2 2 2 2 2]\n",
            "prediction = [2 2 2 2 2 2 2 2 2 2 2 2 2 2 2 2 2 2 2 2 2 2 2 2 2 2 2 2 2 2 2 2 2 2 2 2 2\n",
            " 2 2 2 2 2 2 2 2 2 2 2 2 2]\n"
          ],
          "name": "stdout"
        }
      ]
    },
    {
      "cell_type": "code",
      "metadata": {
        "id": "3LdsoVIfFpdE",
        "colab": {
          "base_uri": "https://localhost:8080/"
        },
        "outputId": "d8903f94-9d4d-4f17-d3f6-1bbb5ccab2ed"
      },
      "source": [
        "df_ann =df.copy()\n",
        "Width = df['Width']\n",
        "del df_ann['Width']\n",
        "del df_ann['Unnamed: 0']\n",
        "result = np.array(df_ann)/255\n",
        "df = df.dropna()\n",
        "prediction = model.predict(result)\n",
        "print('prediction =',prediction)"
      ],
      "execution_count": 17,
      "outputs": [
        {
          "output_type": "stream",
          "text": [
            "prediction = [2 2 2 2 2 2 2 2 2 2 2 2 2 2 2 2 2 2 2 2 2 2 2 2 2 2 2 2 2 2 2 2 2 2 2 2 2\n",
            " 2 2 2 2 2 2 2 2 2 2 2 2 2]\n"
          ],
          "name": "stdout"
        }
      ]
    }
  ]
}