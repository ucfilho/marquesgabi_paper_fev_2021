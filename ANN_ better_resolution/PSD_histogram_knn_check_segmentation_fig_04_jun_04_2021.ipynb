{
  "nbformat": 4,
  "nbformat_minor": 0,
  "metadata": {
    "colab": {
      "name": "PSD_histogram_knn_check_segmentation_fig_04.ipynb",
      "provenance": [],
      "collapsed_sections": [],
      "include_colab_link": true
    },
    "kernelspec": {
      "name": "python3",
      "display_name": "Python 3"
    }
  },
  "cells": [
    {
      "cell_type": "markdown",
      "metadata": {
        "id": "view-in-github",
        "colab_type": "text"
      },
      "source": [
        "<a href=\"https://colab.research.google.com/github/ucfilho/marquesgabi_paper_fev_2021/blob/main/ANN_%20better_resolution/PSD_histogram_knn_check_segmentation_fig_04_jun_04_2021.ipynb\" target=\"_parent\"><img src=\"https://colab.research.google.com/assets/colab-badge.svg\" alt=\"Open In Colab\"/></a>"
      ]
    },
    {
      "cell_type": "code",
      "metadata": {
        "id": "Sog7Z9pyhUD_"
      },
      "source": [
        "import matplotlib.pyplot as plt\n",
        "import numpy as np\n",
        "import cv2\n",
        "import zipfile\n",
        "#import random\n",
        "from random import randint\n",
        "from PIL import Image\n",
        "import re\n",
        "from sklearn.model_selection import train_test_split\n",
        "# from sklearn.neural_network import MLPClassifier\n",
        "from sklearn.neighbors import KNeighborsClassifier\n",
        "#import scikit-image\n",
        "import skimage\n",
        "import pandas as pd\n",
        "from collections import Counter"
      ],
      "execution_count": 1,
      "outputs": []
    },
    {
      "cell_type": "code",
      "metadata": {
        "id": "uZEvJvfoibE4",
        "colab": {
          "base_uri": "https://localhost:8080/"
        },
        "outputId": "810d2d6b-ccd2-4cdf-c7b7-e7202f6ca504"
      },
      "source": [
        "!pip install mahotas"
      ],
      "execution_count": 2,
      "outputs": [
        {
          "output_type": "stream",
          "text": [
            "Requirement already satisfied: mahotas in /usr/local/lib/python3.7/dist-packages (1.4.11)\n",
            "Requirement already satisfied: numpy in /usr/local/lib/python3.7/dist-packages (from mahotas) (1.19.5)\n"
          ],
          "name": "stdout"
        }
      ]
    },
    {
      "cell_type": "code",
      "metadata": {
        "id": "nf_a6PJ1iUnT"
      },
      "source": [
        "import mahotas.features.texture as mht\n",
        "import mahotas.features"
      ],
      "execution_count": 3,
      "outputs": []
    },
    {
      "cell_type": "code",
      "metadata": {
        "id": "_VcTdaNVh9EE",
        "colab": {
          "base_uri": "https://localhost:8080/"
        },
        "outputId": "2e6c8f1e-ce2d-4967-fe57-463371a330f7"
      },
      "source": [
        "!git clone https://github.com/ucfilho/marquesgabi_fev_2020 #clonar do Github\n",
        "%cd marquesgabi_fev_2020\n",
        "import Go2BlackWhite\n",
        "import Go2Mahotas"
      ],
      "execution_count": 4,
      "outputs": [
        {
          "output_type": "stream",
          "text": [
            "fatal: destination path 'marquesgabi_fev_2020' already exists and is not an empty directory.\n",
            "/content/marquesgabi_fev_2020\n"
          ],
          "name": "stdout"
        }
      ]
    },
    {
      "cell_type": "code",
      "metadata": {
        "id": "1v7SRrc8mH2N",
        "colab": {
          "base_uri": "https://localhost:8080/"
        },
        "outputId": "b170c643-693c-4f59-9deb-4313165b443a"
      },
      "source": [
        "!git clone https://github.com/ucfilho/MarquesGabi_Routines\n",
        "%cd MarquesGabi_Routines\n",
        "df = pd.read_excel('segment_may_08.xlsx')\n",
        "df_classfica = df.copy()"
      ],
      "execution_count": 5,
      "outputs": [
        {
          "output_type": "stream",
          "text": [
            "fatal: destination path 'MarquesGabi_Routines' already exists and is not an empty directory.\n",
            "/content/marquesgabi_fev_2020/MarquesGabi_Routines\n"
          ],
          "name": "stdout"
        }
      ]
    },
    {
      "cell_type": "code",
      "metadata": {
        "id": "ilIvas1OBle3"
      },
      "source": [
        "n1 = 20 # neurons in hidden layer\n",
        "n2 = 20 # neurons in hidden layer\n"
      ],
      "execution_count": 6,
      "outputs": []
    },
    {
      "cell_type": "code",
      "metadata": {
        "id": "YN5MN5a_v4np",
        "colab": {
          "base_uri": "https://localhost:8080/"
        },
        "outputId": "82da6083-6ab0-4f5b-eebf-d64b1b175dd1"
      },
      "source": [
        "print(df)"
      ],
      "execution_count": 7,
      "outputs": [
        {
          "output_type": "stream",
          "text": [
            "    Unnamed: 0  Width           0  ...        9997        9998        9999\n",
            "0            0    121  145.335907  ...  103.867767  101.520676   99.030121\n",
            "1            1     89    1.000000  ...  173.258438  170.752808  169.000000\n",
            "2            2     74  172.000000  ...  185.594589  184.648651  184.000000\n",
            "3            3    118  148.610168  ...  245.525421  243.114334  244.870728\n",
            "4            4     88  118.000000  ...    1.000000    1.136364    2.000000\n",
            "5            5     90  157.000000  ...  109.666672  112.333336  115.000000\n",
            "6            6    109  182.752289  ...  147.959091  146.986359  150.428833\n",
            "7            7     46  122.000000  ...  142.782608  137.000000  137.000000\n",
            "8            8     39  251.000000  ...  182.000000  182.000000  182.000000\n",
            "9            9     58  155.000000  ...  107.000000  108.448273  109.000000\n",
            "10          10    109  191.343903  ...  192.805237  188.812042  186.406021\n",
            "11          11    105    1.000000  ...   51.374153   49.285713   49.911564\n",
            "12          12    140  149.489792  ...    1.000000    1.000000    1.000000\n",
            "13          13     79    1.000000  ...  100.000000  100.000000  100.000000\n",
            "14          14    110  159.181824  ...   78.206619   79.545448   82.719009\n",
            "15          15    126  125.684052  ...    1.000000    1.000000    1.000000\n",
            "16          16     90  145.000000  ...  150.555557  149.111115  150.000000\n",
            "17          17    147  171.217499  ...    1.013050    1.564996    2.000000\n",
            "18          18     40  107.000000  ...   98.000000   98.000000   98.000000\n",
            "19          19    144  127.295517  ...    3.343364    4.388889    5.482253\n",
            "20          20     52  167.000000  ...  108.000000  120.923080  122.000000\n",
            "21          21     58  119.000000  ...    1.000000    1.000000    1.000000\n",
            "22          22    140   88.081635  ...  156.142868  156.122467  154.693878\n",
            "23          23    150  199.444473  ...    0.000000    0.000000    0.666667\n",
            "24          24     76  195.000000  ...  189.368423  188.368423  187.000000\n",
            "25          25     65  158.000000  ...  196.000000  196.000000  196.000000\n",
            "26          26     39  201.000000  ...  182.871796  182.000000  182.000000\n",
            "27          27     33  120.000000  ...  181.000000  181.000000  181.000000\n",
            "28          28    137  153.729919  ...    1.000000    1.459854    2.000000\n",
            "29          29    102  151.980392  ...  203.551315  195.335632  186.138412\n",
            "30          30    102  130.019608  ...  120.001152  120.000000  120.019218\n",
            "31          31     71  143.000000  ...  123.183105  122.591545  122.000000\n",
            "32          32    136  136.988754  ...  139.705872  142.536346  142.805374\n",
            "33          33    134  253.621277  ...  131.779892  132.378693  133.571838\n",
            "34          34    132  156.602386  ...  236.763092  234.526169  229.335159\n",
            "35          35    104  125.000000  ...  165.576904  169.766266  172.000000\n",
            "36          36    116  149.256836  ...  111.803810  118.731270  123.015457\n",
            "37          37     64  158.000000  ...    0.000000    1.125000    2.000000\n",
            "38          38     61    0.000000  ...  124.000000  125.918030  127.000000\n",
            "39          39     82  240.000000  ...  174.121948  172.780487  172.000000\n",
            "40          40    127  116.362206  ...  100.125984   98.728188   98.017799\n",
            "41          41    115  149.000000  ...  252.601120  252.164459  252.886566\n",
            "42          42    108  164.216736  ...  189.666672  194.185181  194.846375\n",
            "43          43     82  250.000000  ...  102.560974  102.219513  103.000000\n",
            "44          44     94  109.000000  ...  151.510635  155.063828  156.000000\n",
            "45          45    130  142.408295  ...  104.005920   94.165680   86.591728\n",
            "46          46     38  129.000000  ...  173.368423  173.000000  173.000000\n",
            "47          47    106  139.716980  ...  121.763969  121.773582  121.826981\n",
            "48          48     48   83.000000  ...    1.000000    1.000000    1.000000\n",
            "49          49     62  101.000000  ...    0.000000    0.000000    0.000000\n",
            "\n",
            "[50 rows x 10002 columns]\n"
          ],
          "name": "stdout"
        }
      ]
    },
    {
      "cell_type": "code",
      "metadata": {
        "id": "UuaAzbXy9UwP"
      },
      "source": [
        "# leitura dos dados\n",
        "df1=pd.read_excel(\"ImgGrao_a.xlsx\")\n",
        "df2=pd.read_excel(\"ImgGrao_b.xlsx\")\n",
        "df3=pd.read_excel(\"ImgIndef.xlsx\")\n",
        "df4=pd.read_excel(\"ImgVarios.xlsx\")\n",
        "df5=pd.read_excel(\"ImgBuraco.xlsx\")"
      ],
      "execution_count": 8,
      "outputs": []
    },
    {
      "cell_type": "code",
      "metadata": {
        "id": "txde4lbo9Xw9"
      },
      "source": [
        "df = pd.concat([df1, df2, df3, df4, df5], ignore_index=True)\n",
        "df.head()\n",
        "df_all = df.copy()"
      ],
      "execution_count": 9,
      "outputs": []
    },
    {
      "cell_type": "code",
      "metadata": {
        "colab": {
          "base_uri": "https://localhost:8080/"
        },
        "id": "GIyJVxqB90I-",
        "outputId": "551cb24a-4f2a-45eb-d9ba-682ec6afb0f3"
      },
      "source": [
        "print(df1.shape)\n",
        "print(df2.shape)\n",
        "print(df3.shape)\n",
        "print(df4.shape)\n",
        "print(df5.shape)"
      ],
      "execution_count": 10,
      "outputs": [
        {
          "output_type": "stream",
          "text": [
            "(180, 10002)\n",
            "(179, 10002)\n",
            "(180, 10002)\n",
            "(162, 10002)\n",
            "(180, 10002)\n"
          ],
          "name": "stdout"
        }
      ]
    },
    {
      "cell_type": "code",
      "metadata": {
        "id": "8CUYBGXl-v2l"
      },
      "source": [
        "w = df_all['Type']\n",
        "y = []\n",
        "for wi in w:\n",
        "  if(wi == 'G'):\n",
        "    y.append(1)\n",
        "  elif(wi == 'B'):\n",
        "    y.append(2)\n",
        "  elif(wi == 'I'):\n",
        "    y.append(2)\n",
        "  elif(wi == 'V'):\n",
        "    y.append(2)"
      ],
      "execution_count": 11,
      "outputs": []
    },
    {
      "cell_type": "code",
      "metadata": {
        "id": "_3BTDVex_zmH"
      },
      "source": [
        "df_all.drop(['Unnamed: 0','Type'], axis='columns', inplace=True)"
      ],
      "execution_count": 12,
      "outputs": []
    },
    {
      "cell_type": "code",
      "metadata": {
        "id": "YDkHBPKeBbkz"
      },
      "source": [
        "y_ann = y.copy()\n",
        "X =np.array(df_all.copy())\n",
        "X_train, X_test, y_train, y_test = train_test_split(X, y, test_size=0.30, shuffle=True, random_state=42)"
      ],
      "execution_count": 13,
      "outputs": []
    },
    {
      "cell_type": "code",
      "metadata": {
        "colab": {
          "base_uri": "https://localhost:8080/"
        },
        "id": "zntmbKMH9iLw",
        "outputId": "d6b232d4-3d53-410b-b1ae-359d07e0ab4c"
      },
      "source": [
        "X_test.shape"
      ],
      "execution_count": 14,
      "outputs": [
        {
          "output_type": "execute_result",
          "data": {
            "text/plain": [
              "(265, 10000)"
            ]
          },
          "metadata": {
            "tags": []
          },
          "execution_count": 14
        }
      ]
    },
    {
      "cell_type": "code",
      "metadata": {
        "id": "Mz-aTpaBBuhD",
        "colab": {
          "base_uri": "https://localhost:8080/"
        },
        "outputId": "716a3e14-e56d-4c28-e9e0-166d2ed65065"
      },
      "source": [
        "'''\n",
        "model = MLPClassifier(hidden_layer_sizes=(n1,n2), activation='tanh',\n",
        "                      solver='adam',random_state=1, max_iter=300).fit(X_train,y_train)\n",
        "'''\n",
        "model = KNeighborsClassifier(n_neighbors=4).fit(X_train,y_train)\n",
        "\n",
        "prediction = model.predict(X_test)\n",
        "  \n",
        "y =np.copy(y_test)\n",
        "data = {'y_true': y_test,'y_predict': prediction}  # este dado esta no formato de dicionario\n",
        "\n",
        "df = pd.DataFrame(data, columns=['y_true','y_predict'])\n",
        "\n",
        "confusion_matrix = pd.crosstab(df['y_true'], df['y_predict'], rownames=['Actual'], colnames=['Predict'])\n",
        "# print(confusion_matrix)\n",
        "\n",
        "y_true = df['y_true']\n",
        "y_pred = df['y_predict']\n",
        "print('n1, n2 =',n1,n2,'true',Counter(y_true),'calc',Counter(y_pred))"
      ],
      "execution_count": 15,
      "outputs": [
        {
          "output_type": "stream",
          "text": [
            "n1, n2 = 20 20 true Counter({2: 159, 1: 106}) calc Counter({2: 148, 1: 117})\n"
          ],
          "name": "stdout"
        }
      ]
    },
    {
      "cell_type": "code",
      "metadata": {
        "colab": {
          "base_uri": "https://localhost:8080/"
        },
        "id": "ov16h0C3Qnks",
        "outputId": "77295e1f-2766-421a-a173-9be0263c5902"
      },
      "source": [
        "!git clone https://github.com/ucfilho/MarquesGabi_Routines\n",
        "%cd MarquesGabi_Routines\n",
        "\n",
        "Files = ['segment_may_01.xlsx','segment_may_02.xlsx','segment_may_03.xlsx',\n",
        "         'segment_may_04.xlsx','segment_may_05.xlsx','segment_may_06.xlsx',\n",
        "         'segment_may_07.xlsx','segment_may_08.xlsx']\n",
        "\n",
        "!git clone https://github.com/ucfilho/MarquesGabi_Routines\n",
        "%cd MarquesGabi_Routines\n",
        "\n",
        "Files = [\"segment_may_08.xlsx\",\"segment_may_09.xlsx\",\n",
        "         \"segment_may_10.xlsx\",\"segment_may_11.xlsx\",\"segment_may_12.xlsx\",\n",
        "         \"segment_may_13.xlsx\",\"segment_may_14.xlsx\",\"segment_may_15.xlsx\",\n",
        "         \"segment_may_16.xlsx\",\"segment_may_17.xlsx\",\"segment_may_18.xlsx\",\n",
        "         \"segment_may_19.xlsx\",\"segment_may_20.xlsx\",\"segment_may_21.xlsx\",\n",
        "         \"segment_may_22.xlsx\" ]\n",
        "df_grain = []\n",
        "df_width  = []\n",
        "for nome in Files:\n",
        "  df = pd.read_excel (nome)\n",
        "  df_ann =df.copy()\n",
        "  Width = df['Width']\n",
        "  df_psd = df_ann.copy()\n",
        "  del df_ann['Width']\n",
        "  del df_ann['Unnamed: 0']\n",
        "  result = np.array(df_ann)/255\n",
        "  df = df.dropna()\n",
        "  prediction = model.predict(result)\n",
        "  kk = 0\n",
        "  for yi in prediction:\n",
        "    if(yi == 1):\n",
        "      df_grain.append(df_psd.iloc[kk,:])\n",
        "      df_width.append(Width.iloc[kk])\n",
        "    kk = kk +1\n",
        "Names = df_psd.columns"
      ],
      "execution_count": 16,
      "outputs": [
        {
          "output_type": "stream",
          "text": [
            "fatal: destination path 'MarquesGabi_Routines' already exists and is not an empty directory.\n",
            "/content/marquesgabi_fev_2020/MarquesGabi_Routines/MarquesGabi_Routines\n",
            "fatal: destination path 'MarquesGabi_Routines' already exists and is not an empty directory.\n",
            "/content/marquesgabi_fev_2020/MarquesGabi_Routines/MarquesGabi_Routines/MarquesGabi_Routines\n"
          ],
          "name": "stdout"
        }
      ]
    },
    {
      "cell_type": "code",
      "metadata": {
        "id": "EfttzQvyk0jk",
        "outputId": "91e8bd06-ed87-4f0b-d484-7017a5ff9a40",
        "colab": {
          "base_uri": "https://localhost:8080/"
        }
      },
      "source": [
        "df_grain = pd.DataFrame(df_grain, columns= Names)\n",
        "del df_grain['Unnamed: 0']\n",
        "print(df_grain)"
      ],
      "execution_count": 17,
      "outputs": [
        {
          "output_type": "stream",
          "text": [
            "    Width           0           1  ...        9997        9998        9999\n",
            "1    89.0    1.000000    1.000000  ...  173.258438  170.752808  169.000000\n",
            "10  109.0  191.343903  189.357559  ...  192.805237  188.812042  186.406021\n",
            "16   90.0  145.000000  144.111115  ...  150.555557  149.111115  150.000000\n",
            "25   65.0  158.000000  158.923080  ...  196.000000  196.000000  196.000000\n",
            "34  132.0  156.602386  160.980713  ...  236.763092  234.526169  229.335159\n",
            "..    ...         ...         ...  ...         ...         ...         ...\n",
            "18  140.0  209.387772  179.285736  ...  190.755127  192.428589  193.000000\n",
            "24  144.0  225.398926  225.611115  ...  151.610336  132.459869  117.757721\n",
            "33   56.0  202.000000  201.571426  ...  200.000000  199.214279  199.000000\n",
            "35   51.0  161.000000  161.039215  ...  159.000000  156.117645  156.000000\n",
            "45   36.0  142.000000  142.000000  ...   92.777779   93.000000   93.000000\n",
            "\n",
            "[147 rows x 10001 columns]\n"
          ],
          "name": "stdout"
        }
      ]
    },
    {
      "cell_type": "code",
      "metadata": {
        "id": "94_gEIySx7S2",
        "outputId": "6bbfd834-65ef-4a7d-a27e-fa269d14e007",
        "colab": {
          "base_uri": "https://localhost:8080/"
        }
      },
      "source": [
        "!git clone https://github.com/ucfilho/marquesgabi_paper_fev_2021\n",
        "%cd marquesgabi_paper_fev_2021\n",
        "\n",
        "from Get_PSDArea_New import PSDArea\n",
        "from histogram_fev_2021 import PSD\n",
        "from GetBetterSegm import GetBetter"
      ],
      "execution_count": 20,
      "outputs": [
        {
          "output_type": "stream",
          "text": [
            "Cloning into 'marquesgabi_paper_fev_2021'...\n",
            "remote: Enumerating objects: 561, done.\u001b[K\n",
            "remote: Counting objects: 100% (322/322), done.\u001b[K\n",
            "remote: Compressing objects: 100% (321/321), done.\u001b[K\n",
            "remote: Total 561 (delta 196), reused 0 (delta 0), pack-reused 239\u001b[K\n",
            "Receiving objects: 100% (561/561), 4.91 MiB | 12.59 MiB/s, done.\n",
            "Resolving deltas: 100% (333/333), done.\n",
            "/content/marquesgabi_fev_2020/MarquesGabi_Routines/MarquesGabi_Routines/MarquesGabi_Routines/marquesgabi_paper_fev_2021\n"
          ],
          "name": "stdout"
        }
      ]
    },
    {
      "cell_type": "code",
      "metadata": {
        "id": "2GHMop7FxuTt",
        "outputId": "7ca13d3c-c869-4e96-ce1e-7c03153a0302",
        "colab": {
          "base_uri": "https://localhost:8080/",
          "height": 316
        }
      },
      "source": [
        "Area_All, Diameter_All=PSDArea(df_grain) "
      ],
      "execution_count": 22,
      "outputs": [
        {
          "output_type": "error",
          "ename": "ValueError",
          "evalue": "ignored",
          "traceback": [
            "\u001b[0;31m---------------------------------------------------------------------------\u001b[0m",
            "\u001b[0;31mValueError\u001b[0m                                Traceback (most recent call last)",
            "\u001b[0;32m<ipython-input-22-636f8b875ead>\u001b[0m in \u001b[0;36m<module>\u001b[0;34m()\u001b[0m\n\u001b[0;32m----> 1\u001b[0;31m \u001b[0mArea_All\u001b[0m\u001b[0;34m,\u001b[0m \u001b[0mDiameter_All\u001b[0m\u001b[0;34m=\u001b[0m\u001b[0mPSDArea\u001b[0m\u001b[0;34m(\u001b[0m\u001b[0mdf_grain\u001b[0m\u001b[0;34m)\u001b[0m\u001b[0;34m\u001b[0m\u001b[0;34m\u001b[0m\u001b[0m\n\u001b[0m",
            "\u001b[0;32m/content/marquesgabi_fev_2020/MarquesGabi_Routines/MarquesGabi_Routines/MarquesGabi_Routines/marquesgabi_paper_fev_2021/Get_PSDArea_New.py\u001b[0m in \u001b[0;36mPSDArea\u001b[0;34m(df_size)\u001b[0m\n\u001b[1;32m     16\u001b[0m   \u001b[0;32mfor\u001b[0m \u001b[0mqual_img\u001b[0m \u001b[0;32min\u001b[0m \u001b[0mrange\u001b[0m\u001b[0;34m(\u001b[0m\u001b[0mNx\u001b[0m\u001b[0;34m)\u001b[0m\u001b[0;34m:\u001b[0m\u001b[0;34m\u001b[0m\u001b[0;34m\u001b[0m\u001b[0m\n\u001b[1;32m     17\u001b[0m     \u001b[0mL\u001b[0m \u001b[0;34m=\u001b[0m \u001b[0mWidth\u001b[0m\u001b[0;34m[\u001b[0m\u001b[0mqual_img\u001b[0m\u001b[0;34m]\u001b[0m\u001b[0;34m*\u001b[0m\u001b[0mfc\u001b[0m\u001b[0;34m\u001b[0m\u001b[0;34m\u001b[0m\u001b[0m\n\u001b[0;32m---> 18\u001b[0;31m     \u001b[0mdata\u001b[0m\u001b[0;34m=\u001b[0m\u001b[0mnp\u001b[0m\u001b[0;34m.\u001b[0m\u001b[0marray\u001b[0m\u001b[0;34m(\u001b[0m\u001b[0mdf_size\u001b[0m\u001b[0;34m.\u001b[0m\u001b[0mdrop\u001b[0m\u001b[0;34m(\u001b[0m\u001b[0;34m'Width'\u001b[0m\u001b[0;34m,\u001b[0m\u001b[0maxis\u001b[0m\u001b[0;34m=\u001b[0m\u001b[0;36m1\u001b[0m\u001b[0;34m)\u001b[0m\u001b[0;34m.\u001b[0m\u001b[0miloc\u001b[0m\u001b[0;34m[\u001b[0m\u001b[0mqual_img\u001b[0m\u001b[0;34m]\u001b[0m\u001b[0;34m)\u001b[0m\u001b[0;34m.\u001b[0m\u001b[0mreshape\u001b[0m\u001b[0;34m(\u001b[0m\u001b[0mSize\u001b[0m\u001b[0;34m,\u001b[0m\u001b[0mSize\u001b[0m\u001b[0;34m)\u001b[0m\u001b[0;34m\u001b[0m\u001b[0;34m\u001b[0m\u001b[0m\n\u001b[0m\u001b[1;32m     19\u001b[0m     \u001b[0mimg\u001b[0m \u001b[0;34m=\u001b[0m \u001b[0mImage\u001b[0m\u001b[0;34m.\u001b[0m\u001b[0mfromarray\u001b[0m\u001b[0;34m(\u001b[0m\u001b[0mdata\u001b[0m\u001b[0;34m.\u001b[0m\u001b[0mastype\u001b[0m\u001b[0;34m(\u001b[0m\u001b[0;34m'uint8'\u001b[0m\u001b[0;34m)\u001b[0m\u001b[0;34m,\u001b[0m \u001b[0mmode\u001b[0m\u001b[0;34m=\u001b[0m\u001b[0;34m'L'\u001b[0m\u001b[0;34m)\u001b[0m\u001b[0;34m\u001b[0m\u001b[0;34m\u001b[0m\u001b[0m\n\u001b[1;32m     20\u001b[0m     \u001b[0mimg\u001b[0m\u001b[0;34m=\u001b[0m\u001b[0mnp\u001b[0m\u001b[0;34m.\u001b[0m\u001b[0mfloat32\u001b[0m\u001b[0;34m(\u001b[0m\u001b[0mimg\u001b[0m\u001b[0;34m)\u001b[0m\u001b[0;34m\u001b[0m\u001b[0;34m\u001b[0m\u001b[0m\n",
            "\u001b[0;31mValueError\u001b[0m: cannot reshape array of size 10000 into shape (28,28)"
          ]
        }
      ]
    },
    {
      "cell_type": "code",
      "metadata": {
        "id": "UgKB9-5KteRk",
        "outputId": "4ee32bda-bf7f-4ec1-d418-580031e3b1d8",
        "colab": {
          "base_uri": "https://localhost:8080/"
        }
      },
      "source": [
        "Names"
      ],
      "execution_count": 18,
      "outputs": [
        {
          "output_type": "execute_result",
          "data": {
            "text/plain": [
              "Index(['Unnamed: 0',      'Width',            0,            1,            2,\n",
              "                  3,            4,            5,            6,            7,\n",
              "       ...\n",
              "               9990,         9991,         9992,         9993,         9994,\n",
              "               9995,         9996,         9997,         9998,         9999],\n",
              "      dtype='object', length=10002)"
            ]
          },
          "metadata": {
            "tags": []
          },
          "execution_count": 18
        }
      ]
    },
    {
      "cell_type": "code",
      "metadata": {
        "id": "3LdsoVIfFpdE",
        "colab": {
          "base_uri": "https://localhost:8080/"
        },
        "outputId": "e74fdce3-ea9f-4584-e093-19d60d61d8dd"
      },
      "source": [
        "df_ann =df.copy()\n",
        "Width = df['Width']\n",
        "del df_ann['Width']\n",
        "del df_ann['Unnamed: 0']\n",
        "result = np.array(df_ann)/255\n",
        "df = df.dropna()\n",
        "prediction = model.predict(result)\n",
        "print('prediction =',prediction)"
      ],
      "execution_count": 19,
      "outputs": [
        {
          "output_type": "stream",
          "text": [
            "prediction = [1 1 2 2 2 1 2 2 2 2 2 1 2 2 2 1 2 2 1 2 2 2 2 2 1 2 2 2 2 2 2 2 2 1 2 1 2\n",
            " 2 2 2 2 2 2 2 2 1 2 2 2 2]\n"
          ],
          "name": "stdout"
        }
      ]
    },
    {
      "cell_type": "code",
      "metadata": {
        "id": "uoByBJJyoS6s"
      },
      "source": [
        ""
      ],
      "execution_count": 19,
      "outputs": []
    }
  ]
}