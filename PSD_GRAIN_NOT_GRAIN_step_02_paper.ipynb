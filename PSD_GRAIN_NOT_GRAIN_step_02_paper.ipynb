{
  "nbformat": 4,
  "nbformat_minor": 0,
  "metadata": {
    "colab": {
      "name": "PSD_GRAIN_NOT_GRAIN_step_02_paper.ipynb",
      "provenance": [],
      "collapsed_sections": [],
      "include_colab_link": true
    },
    "kernelspec": {
      "name": "python3",
      "display_name": "Python 3"
    }
  },
  "cells": [
    {
      "cell_type": "markdown",
      "metadata": {
        "id": "view-in-github",
        "colab_type": "text"
      },
      "source": [
        "<a href=\"https://colab.research.google.com/github/ucfilho/marquesgabi_paper_fev_2021/blob/main/PSD_GRAIN_NOT_GRAIN_step_02_paper.ipynb\" target=\"_parent\"><img src=\"https://colab.research.google.com/assets/colab-badge.svg\" alt=\"Open In Colab\"/></a>"
      ]
    },
    {
      "cell_type": "code",
      "metadata": {
        "id": "nAX4-ooKfFaF"
      },
      "source": [
        "# step one in paper represents describe images\r\n",
        "# step two in paper (this file) represents description related to classification...."
      ],
      "execution_count": 1,
      "outputs": []
    },
    {
      "cell_type": "code",
      "metadata": {
        "id": "Sog7Z9pyhUD_",
        "colab": {
          "base_uri": "https://localhost:8080/"
        },
        "outputId": "d63f57d4-6040-49f0-b55b-fef9eaf4a30b"
      },
      "source": [
        "import matplotlib.pyplot as plt\n",
        "import numpy as np\n",
        "import cv2\n",
        "import zipfile\n",
        "#import random\n",
        "from random import randint\n",
        "from PIL import Image\n",
        "import re\n",
        "from sklearn.model_selection import train_test_split\n",
        "#import scikit-image\n",
        "import skimage\n",
        "import pandas as pd\n",
        "import statsmodels.api as sm\n",
        "import statsmodels.formula.api as smf"
      ],
      "execution_count": 2,
      "outputs": [
        {
          "output_type": "stream",
          "text": [
            "/usr/local/lib/python3.6/dist-packages/statsmodels/tools/_testing.py:19: FutureWarning: pandas.util.testing is deprecated. Use the functions in the public API at pandas.testing instead.\n",
            "  import pandas.util.testing as tm\n"
          ],
          "name": "stderr"
        }
      ]
    },
    {
      "cell_type": "code",
      "metadata": {
        "id": "uZEvJvfoibE4",
        "colab": {
          "base_uri": "https://localhost:8080/"
        },
        "outputId": "656138d9-0399-4a53-f7d7-0093b13df971"
      },
      "source": [
        "!pip install mahotas"
      ],
      "execution_count": 3,
      "outputs": [
        {
          "output_type": "stream",
          "text": [
            "Collecting mahotas\n",
            "\u001b[?25l  Downloading https://files.pythonhosted.org/packages/ce/3b/1f3fe2f86ffdb4a2fbc6baaf4ef0e6cebdd3e127de44ddd188dc2ed0d412/mahotas-1.4.11-cp36-cp36m-manylinux2010_x86_64.whl (5.7MB)\n",
            "\u001b[K     |████████████████████████████████| 5.7MB 5.5MB/s \n",
            "\u001b[?25hRequirement already satisfied: numpy in /usr/local/lib/python3.6/dist-packages (from mahotas) (1.19.5)\n",
            "Installing collected packages: mahotas\n",
            "Successfully installed mahotas-1.4.11\n"
          ],
          "name": "stdout"
        }
      ]
    },
    {
      "cell_type": "code",
      "metadata": {
        "id": "_VcTdaNVh9EE",
        "colab": {
          "base_uri": "https://localhost:8080/"
        },
        "outputId": "eabd35e8-52bc-4077-cf08-c9f4c8ef4d8e"
      },
      "source": [
        "!git clone https://github.com/ucfilho/marquesgabi_fev_2020 #clonar do Github\n",
        "%cd marquesgabi_fev_2020\n",
        "import Go2BlackWhite\n",
        "import Go2Mahotas"
      ],
      "execution_count": 4,
      "outputs": [
        {
          "output_type": "stream",
          "text": [
            "Cloning into 'marquesgabi_fev_2020'...\n",
            "remote: Enumerating objects: 73, done.\u001b[K\n",
            "remote: Counting objects: 100% (73/73), done.\u001b[K\n",
            "remote: Compressing objects: 100% (71/71), done.\u001b[K\n",
            "remote: Total 73 (delta 37), reused 0 (delta 0), pack-reused 0\u001b[K\n",
            "Unpacking objects: 100% (73/73), done.\n",
            "/content/marquesgabi_fev_2020\n"
          ],
          "name": "stdout"
        }
      ]
    },
    {
      "cell_type": "code",
      "metadata": {
        "id": "nf_a6PJ1iUnT"
      },
      "source": [
        "import mahotas.features.texture as mht\n",
        "import mahotas.features"
      ],
      "execution_count": 5,
      "outputs": []
    },
    {
      "cell_type": "code",
      "metadata": {
        "id": "wj62HANgnpnR",
        "colab": {
          "base_uri": "https://localhost:8080/"
        },
        "outputId": "b9e19a3b-80d1-48cc-c983-fbdc739a0968"
      },
      "source": [
        "!git clone https://github.com/ucfilho/marquesgabi_out_2020/\n",
        "%cd marquesgabi_out_2020\n",
        "\n",
        "from Get_PSDArea import PSDArea\n",
        "from histogram import PSD\n",
        "from GetBetterSegm import GetBetter"
      ],
      "execution_count": 6,
      "outputs": [
        {
          "output_type": "stream",
          "text": [
            "Cloning into 'marquesgabi_out_2020'...\n",
            "remote: Enumerating objects: 134, done.\u001b[K\n",
            "remote: Counting objects: 100% (134/134), done.\u001b[K\n",
            "remote: Compressing objects: 100% (130/130), done.\u001b[K\n",
            "remote: Total 134 (delta 69), reused 0 (delta 0), pack-reused 0\u001b[K\n",
            "Receiving objects: 100% (134/134), 1.00 MiB | 5.57 MiB/s, done.\n",
            "Resolving deltas: 100% (69/69), done.\n",
            "/content/marquesgabi_fev_2020/marquesgabi_out_2020\n"
          ],
          "name": "stdout"
        }
      ]
    },
    {
      "cell_type": "code",
      "metadata": {
        "id": "8L6KJ4jc3ahG",
        "colab": {
          "base_uri": "https://localhost:8080/"
        },
        "outputId": "fb5c71de-7dfa-4e60-f11c-aad72b0664e5"
      },
      "source": [
        "!ls"
      ],
      "execution_count": 7,
      "outputs": [
        {
          "output_type": "stream",
          "text": [
            "Areas_ImageJ.csv\t\t PSD_GRAIN_NOT_GRAIN_nov_13_2020.ipynb\n",
            "Areas_ImageJ.xlsx\t\t PSD_GRAIN_NOT_GRAIN_out_09_2020.ipynb\n",
            "GetBetterSegm.py\t\t PSD_GRAIN_NOT_GRAIN_out_19_2020.ipynb\n",
            "Get_PSDArea.py\t\t\t PSD_GRAIN_NOT_GRAIN_out_28_2020.ipynb\n",
            "Histogram_PSD_out_19_2020.ipynb  PSD_USA_ROTINAS_out_05_2020.ipynb\n",
            "Histogram_PSD_out_23_2020.ipynb  __pycache__\n",
            "histogram.py\t\t\t README.md\n",
            "imageJ_jpg.zip\t\t\t Teste\n",
            "IMAGEJ_Zuados.zip\n"
          ],
          "name": "stdout"
        }
      ]
    },
    {
      "cell_type": "code",
      "metadata": {
        "id": "1v7SRrc8mH2N",
        "colab": {
          "base_uri": "https://localhost:8080/"
        },
        "outputId": "c87aca61-f8ad-4c92-bbef-688b2ca2c3ef"
      },
      "source": [
        "!git clone https://github.com/marquesgabi/Doutorado\n",
        "%cd Doutorado\n",
        "\n",
        "Transfere='Fotos_Grandes_3cdAmostra.zip'\n",
        "file_name = zipfile.ZipFile(Transfere, 'r')\n",
        "file_name.extractall()"
      ],
      "execution_count": 8,
      "outputs": [
        {
          "output_type": "stream",
          "text": [
            "Cloning into 'Doutorado'...\n",
            "remote: Enumerating objects: 52, done.\u001b[K\n",
            "remote: Counting objects: 100% (52/52), done.\u001b[K\n",
            "remote: Compressing objects: 100% (52/52), done.\u001b[K\n",
            "remote: Total 302 (delta 21), reused 0 (delta 0), pack-reused 250\u001b[K\n",
            "Receiving objects: 100% (302/302), 115.75 MiB | 41.07 MiB/s, done.\n",
            "Resolving deltas: 100% (138/138), done.\n",
            "/content/marquesgabi_fev_2020/marquesgabi_out_2020/Doutorado\n"
          ],
          "name": "stdout"
        }
      ]
    },
    {
      "cell_type": "code",
      "metadata": {
        "id": "0kA4IWSmasoD"
      },
      "source": [
        "Size=1200 # tamanho da foto\n",
        "ww,img_name=Go2BlackWhite.BlackWhite(Transfere,Size) #Pegamos a primeira foto Grande\n",
        "img=ww[0] \n",
        "# this is the big image we want to segment \n",
        "# ww[0], change it if you want to segment another picture"
      ],
      "execution_count": 9,
      "outputs": []
    },
    {
      "cell_type": "code",
      "metadata": {
        "id": "g_k1Ktz3izJv",
        "colab": {
          "base_uri": "https://localhost:8080/"
        },
        "outputId": "d1676fb6-7625-49e9-f4e2-6f68ddfe540e"
      },
      "source": [
        "!git clone https://github.com/marquesgabi/Doutorado\n",
        "# %cd Doutorado\n",
        "Transfere='FotosTreino882_and_Segm.zip'\n",
        "file_name = zipfile.ZipFile(Transfere, 'r')\n",
        "file_name.extractall()\n",
        "\n",
        "\"\"\"# First step: get the segmented file (photos stored in csv file)\"\"\"\n",
        "\n",
        "labels = [] #name files\n",
        "\n",
        "with zipfile.ZipFile(Transfere, \"r\") as f:\n",
        "  for f in f.namelist():\n",
        "    labels.append(f)\n",
        "\n",
        "Num=len(labels)\n",
        "df=pd.read_csv(labels[0])\n",
        "for i in range(1,Num):\n",
        "  df_new=pd.read_csv(labels[i])\n",
        "  df_new = df_new[~df_new['Type'].isin(['G'])] # drop grain row which is not in 882\n",
        "  frames = [df, df_new]\n",
        "  df= pd.concat(frames, ignore_index=True)"
      ],
      "execution_count": 10,
      "outputs": [
        {
          "output_type": "stream",
          "text": [
            "Cloning into 'Doutorado'...\n",
            "remote: Enumerating objects: 52, done.\u001b[K\n",
            "remote: Counting objects: 100% (52/52), done.\u001b[K\n",
            "remote: Compressing objects: 100% (52/52), done.\u001b[K\n",
            "remote: Total 302 (delta 21), reused 0 (delta 0), pack-reused 250\n",
            "Receiving objects: 100% (302/302), 78.58 MiB | 40.60 MiB/s, done.\n",
            "Resolving deltas: 100% (144/144), done.\n"
          ],
          "name": "stdout"
        }
      ]
    },
    {
      "cell_type": "code",
      "metadata": {
        "id": "tHgqAnaFyCjp",
        "colab": {
          "base_uri": "https://localhost:8080/"
        },
        "outputId": "07eedd4e-46a8-4d37-cd4e-a7e0edf924b5"
      },
      "source": [
        "!git clone https://github.com/ucfilho/marquesgabi_set_2020\n",
        "%cd marquesgabi_set_2020"
      ],
      "execution_count": 11,
      "outputs": [
        {
          "output_type": "stream",
          "text": [
            "Cloning into 'marquesgabi_set_2020'...\n",
            "remote: Enumerating objects: 72, done.\u001b[K\n",
            "remote: Counting objects:   1% (1/72)\u001b[K\rremote: Counting objects:   2% (2/72)\u001b[K\rremote: Counting objects:   4% (3/72)\u001b[K\rremote: Counting objects:   5% (4/72)\u001b[K\rremote: Counting objects:   6% (5/72)\u001b[K\rremote: Counting objects:   8% (6/72)\u001b[K\rremote: Counting objects:   9% (7/72)\u001b[K\rremote: Counting objects:  11% (8/72)\u001b[K\rremote: Counting objects:  12% (9/72)\u001b[K\rremote: Counting objects:  13% (10/72)\u001b[K\rremote: Counting objects:  15% (11/72)\u001b[K\rremote: Counting objects:  16% (12/72)\u001b[K\rremote: Counting objects:  18% (13/72)\u001b[K\rremote: Counting objects:  19% (14/72)\u001b[K\rremote: Counting objects:  20% (15/72)\u001b[K\rremote: Counting objects:  22% (16/72)\u001b[K\rremote: Counting objects:  23% (17/72)\u001b[K\rremote: Counting objects:  25% (18/72)\u001b[K\rremote: Counting objects:  26% (19/72)\u001b[K\rremote: Counting objects:  27% (20/72)\u001b[K\rremote: Counting objects:  29% (21/72)\u001b[K\rremote: Counting objects:  30% (22/72)\u001b[K\rremote: Counting objects:  31% (23/72)\u001b[K\rremote: Counting objects:  33% (24/72)\u001b[K\rremote: Counting objects:  34% (25/72)\u001b[K\rremote: Counting objects:  36% (26/72)\u001b[K\rremote: Counting objects:  37% (27/72)\u001b[K\rremote: Counting objects:  38% (28/72)\u001b[K\rremote: Counting objects:  40% (29/72)\u001b[K\rremote: Counting objects:  41% (30/72)\u001b[K\rremote: Counting objects:  43% (31/72)\u001b[K\rremote: Counting objects:  44% (32/72)\u001b[K\rremote: Counting objects:  45% (33/72)\u001b[K\rremote: Counting objects:  47% (34/72)\u001b[K\rremote: Counting objects:  48% (35/72)\u001b[K\rremote: Counting objects:  50% (36/72)\u001b[K\rremote: Counting objects:  51% (37/72)\u001b[K\rremote: Counting objects:  52% (38/72)\u001b[K\rremote: Counting objects:  54% (39/72)\u001b[K\rremote: Counting objects:  55% (40/72)\u001b[K\rremote: Counting objects:  56% (41/72)\u001b[K\rremote: Counting objects:  58% (42/72)\u001b[K\rremote: Counting objects:  59% (43/72)\u001b[K\rremote: Counting objects:  61% (44/72)\u001b[K\rremote: Counting objects:  62% (45/72)\u001b[K\rremote: Counting objects:  63% (46/72)\u001b[K\rremote: Counting objects:  65% (47/72)\u001b[K\rremote: Counting objects:  66% (48/72)\u001b[K\rremote: Counting objects:  68% (49/72)\u001b[K\rremote: Counting objects:  69% (50/72)\u001b[K\rremote: Counting objects:  70% (51/72)\u001b[K\rremote: Counting objects:  72% (52/72)\u001b[K\rremote: Counting objects:  73% (53/72)\u001b[K\rremote: Counting objects:  75% (54/72)\u001b[K\rremote: Counting objects:  76% (55/72)\u001b[K\rremote: Counting objects:  77% (56/72)\u001b[K\rremote: Counting objects:  79% (57/72)\u001b[K\rremote: Counting objects:  80% (58/72)\u001b[K\rremote: Counting objects:  81% (59/72)\u001b[K\rremote: Counting objects:  83% (60/72)\u001b[K\rremote: Counting objects:  84% (61/72)\u001b[K\rremote: Counting objects:  86% (62/72)\u001b[K\rremote: Counting objects:  87% (63/72)\u001b[K\rremote: Counting objects:  88% (64/72)\u001b[K\rremote: Counting objects:  90% (65/72)\u001b[K\rremote: Counting objects:  91% (66/72)\u001b[K\rremote: Counting objects:  93% (67/72)\u001b[K\rremote: Counting objects:  94% (68/72)\u001b[K\rremote: Counting objects:  95% (69/72)\u001b[K\rremote: Counting objects:  97% (70/72)\u001b[K\rremote: Counting objects:  98% (71/72)\u001b[K\rremote: Counting objects: 100% (72/72)\u001b[K\rremote: Counting objects: 100% (72/72), done.\u001b[K\n",
            "remote: Compressing objects: 100% (72/72), done.\u001b[K\n",
            "remote: Total 266 (delta 44), reused 0 (delta 0), pack-reused 194\u001b[K\n",
            "Receiving objects: 100% (266/266), 7.00 MiB | 26.65 MiB/s, done.\n",
            "Resolving deltas: 100% (162/162), done.\n",
            "/content/marquesgabi_fev_2020/marquesgabi_out_2020/Doutorado/marquesgabi_set_2020\n"
          ],
          "name": "stdout"
        }
      ]
    },
    {
      "cell_type": "code",
      "metadata": {
        "id": "qc4rFvzkyWCi"
      },
      "source": [
        "from big_segment import Segmenta  # got image provided segmented\n",
        "from psd_mahotas import Mahotas"
      ],
      "execution_count": 12,
      "outputs": []
    },
    {
      "cell_type": "code",
      "metadata": {
        "colab": {
          "base_uri": "https://localhost:8080/"
        },
        "id": "V9mAfS7ffnVO",
        "outputId": "84e16602-9c1b-43dc-a058-a64ec4fdf72a"
      },
      "source": [
        "!git clone https://github.com/ucfilho/marquesgabi_paper_fev_2021\r\n",
        "%cd marquesgabi_paper_fev_2021\r\n",
        "from ANN_FIND_GRAIN_PAPER_STEP_02 import AnnGrain  # got image provided segmented"
      ],
      "execution_count": 13,
      "outputs": [
        {
          "output_type": "stream",
          "text": [
            "Cloning into 'marquesgabi_paper_fev_2021'...\n",
            "remote: Enumerating objects: 12, done.\u001b[K\n",
            "remote: Counting objects:   8% (1/12)\u001b[K\rremote: Counting objects:  16% (2/12)\u001b[K\rremote: Counting objects:  25% (3/12)\u001b[K\rremote: Counting objects:  33% (4/12)\u001b[K\rremote: Counting objects:  41% (5/12)\u001b[K\rremote: Counting objects:  50% (6/12)\u001b[K\rremote: Counting objects:  58% (7/12)\u001b[K\rremote: Counting objects:  66% (8/12)\u001b[K\rremote: Counting objects:  75% (9/12)\u001b[K\rremote: Counting objects:  83% (10/12)\u001b[K\rremote: Counting objects:  91% (11/12)\u001b[K\rremote: Counting objects: 100% (12/12)\u001b[K\rremote: Counting objects: 100% (12/12), done.\u001b[K\n",
            "remote: Compressing objects:  10% (1/10)\u001b[K\rremote: Compressing objects:  20% (2/10)\u001b[K\rremote: Compressing objects:  30% (3/10)\u001b[K\rremote: Compressing objects:  40% (4/10)\u001b[K\rremote: Compressing objects:  50% (5/10)\u001b[K\rremote: Compressing objects:  60% (6/10)\u001b[K\rremote: Compressing objects:  70% (7/10)\u001b[K\rremote: Compressing objects:  80% (8/10)\u001b[K\rremote: Compressing objects:  90% (9/10)\u001b[K\rremote: Compressing objects: 100% (10/10)\u001b[K\rremote: Compressing objects: 100% (10/10), done.\u001b[K\n",
            "remote: Total 12 (delta 2), reused 0 (delta 0), pack-reused 0\u001b[K\n",
            "Unpacking objects:   8% (1/12)   \rUnpacking objects:  16% (2/12)   \rUnpacking objects:  25% (3/12)   \rUnpacking objects:  33% (4/12)   \rUnpacking objects:  41% (5/12)   \rUnpacking objects:  50% (6/12)   \rUnpacking objects:  58% (7/12)   \rUnpacking objects:  66% (8/12)   \rUnpacking objects:  75% (9/12)   \rUnpacking objects:  83% (10/12)   \rUnpacking objects:  91% (11/12)   \rUnpacking objects: 100% (12/12)   \rUnpacking objects: 100% (12/12), done.\n",
            "/content/marquesgabi_fev_2020/marquesgabi_out_2020/Doutorado/marquesgabi_set_2020/marquesgabi_paper_fev_2021\n"
          ],
          "name": "stdout"
        }
      ]
    },
    {
      "cell_type": "code",
      "metadata": {
        "id": "YPoCxCp4kuRm",
        "colab": {
          "base_uri": "https://localhost:8080/"
        },
        "outputId": "6346938f-6216-4430-caf9-be69c2551777"
      },
      "source": [
        "!git clone https://github.com/marquesgabi/Doutorado\n",
        "%cd Doutorado\n",
        "Transfere='FotosTreino882_and_Segm.zip'\n",
        "file_name = zipfile.ZipFile(Transfere, 'r')\n",
        "file_name.extractall()\n",
        "\n",
        "\"\"\"# First step: get the segmented file (photos stored in csv file)\"\"\"\n",
        "\n",
        "labels = [] #name files\n",
        "\n",
        "with zipfile.ZipFile(Transfere, \"r\") as f:\n",
        "  for f in f.namelist():\n",
        "    labels.append(f)\n",
        "\n",
        "Num=len(labels)\n",
        "ANN_dat=pd.read_csv(labels[0])\n",
        "for i in range(1,Num):\n",
        "  df_new=pd.read_csv(labels[i])\n",
        "  df_new = df_new[~df_new['Type'].isin(['G'])] # drop grain row which is not in 882\n",
        "  frames = [ANN_dat, df_new]\n",
        "  ANN_dat= pd.concat(frames, ignore_index=True)"
      ],
      "execution_count": 14,
      "outputs": [
        {
          "output_type": "stream",
          "text": [
            "Cloning into 'Doutorado'...\n",
            "remote: Enumerating objects: 52, done.\u001b[K\n",
            "remote: Counting objects: 100% (52/52), done.\u001b[K\n",
            "remote: Compressing objects: 100% (52/52), done.\u001b[K\n",
            "remote: Total 302 (delta 21), reused 0 (delta 0), pack-reused 250\u001b[K\n",
            "Receiving objects: 100% (302/302), 115.75 MiB | 42.34 MiB/s, done.\n",
            "Resolving deltas: 100% (138/138), done.\n",
            "/content/marquesgabi_fev_2020/marquesgabi_out_2020/Doutorado/marquesgabi_set_2020/marquesgabi_paper_fev_2021/Doutorado\n"
          ],
          "name": "stdout"
        }
      ]
    },
    {
      "cell_type": "code",
      "metadata": {
        "id": "mv01JmHfmz-1"
      },
      "source": [
        "# open file to get df \n",
        "# use df and ANN to get grains and no grains\n",
        "# use grains to obtain psd"
      ],
      "execution_count": 15,
      "outputs": []
    },
    {
      "cell_type": "code",
      "metadata": {
        "id": "h4ELNAEunkox",
        "colab": {
          "base_uri": "https://localhost:8080/"
        },
        "outputId": "27f3b19b-2c0f-4d88-d4f9-dab3c0704c84"
      },
      "source": [
        "!git clone https://github.com/marquesgabi/Doutorado\n",
        "%cd Doutorado"
      ],
      "execution_count": 16,
      "outputs": [
        {
          "output_type": "stream",
          "text": [
            "Cloning into 'Doutorado'...\n",
            "remote: Enumerating objects: 52, done.\u001b[K\n",
            "remote: Counting objects: 100% (52/52), done.\u001b[K\n",
            "remote: Compressing objects: 100% (52/52), done.\u001b[K\n",
            "remote: Total 302 (delta 21), reused 0 (delta 0), pack-reused 250\u001b[K\n",
            "Receiving objects: 100% (302/302), 78.58 MiB | 40.48 MiB/s, done.\n",
            "Resolving deltas: 100% (144/144), done.\n",
            "/content/marquesgabi_fev_2020/marquesgabi_out_2020/Doutorado/marquesgabi_set_2020/marquesgabi_paper_fev_2021/Doutorado/Doutorado\n"
          ],
          "name": "stdout"
        }
      ]
    },
    {
      "cell_type": "code",
      "metadata": {
        "id": "QmPJiuSnnxT9",
        "colab": {
          "base_uri": "https://localhost:8080/"
        },
        "outputId": "e720f50b-a2ac-4414-bcd2-8364084d0146"
      },
      "source": [
        "k=0\n",
        "for Item in img_name:\n",
        "  print(k,Item)\n",
        "  k=k+1\n",
        "\n",
        "img=ww[21]\n"
      ],
      "execution_count": 17,
      "outputs": [
        {
          "output_type": "stream",
          "text": [
            "0 Fotos_Grandes-3cdAmostra/Q6-8-4.jpg\n",
            "1 Fotos_Grandes-3cdAmostra/Q6-5-3.jpg\n",
            "2 Fotos_Grandes-3cdAmostra/Q6-7-4.jpg\n",
            "3 Fotos_Grandes-3cdAmostra/Q6-8-2.jpg\n",
            "4 Fotos_Grandes-3cdAmostra/Q6-3-2.jpg\n",
            "5 Fotos_Grandes-3cdAmostra/Q6-7-2.jpg\n",
            "6 Fotos_Grandes-3cdAmostra/Q6-4-4.jpg\n",
            "7 Fotos_Grandes-3cdAmostra/Q6-9-5.jpg\n",
            "8 Fotos_Grandes-3cdAmostra/Q6-2-5.jpg\n",
            "9 Fotos_Grandes-3cdAmostra/Q6-8-3.jpg\n",
            "10 Fotos_Grandes-3cdAmostra/Q6-9-3.jpg\n",
            "11 Fotos_Grandes-3cdAmostra/Q6-1-2.jpg\n",
            "12 Fotos_Grandes-3cdAmostra/Q6-6-3.jpg\n",
            "13 Fotos_Grandes-3cdAmostra/Q6-3-4.jpg\n",
            "14 Fotos_Grandes-3cdAmostra/Q6-1-4.jpg\n",
            "15 Fotos_Grandes-3cdAmostra/Q6-6-2.jpg\n",
            "16 Fotos_Grandes-3cdAmostra/Q6-4-3.jpg\n",
            "17 Fotos_Grandes-3cdAmostra/Q6-7-3.jpg\n",
            "18 Fotos_Grandes-3cdAmostra/Q6-2-2.jpg\n",
            "19 Fotos_Grandes-3cdAmostra/Q6-9-2.jpg\n",
            "20 Fotos_Grandes-3cdAmostra/Q6-1-5.jpg\n",
            "21 Fotos_Grandes-3cdAmostra/Q6-6-5.jpg\n",
            "22 Fotos_Grandes-3cdAmostra/Q6-2-1.jpg\n",
            "23 Fotos_Grandes-3cdAmostra/Q6-5-2.jpg\n",
            "24 Fotos_Grandes-3cdAmostra/Q6-4-1.jpg\n",
            "25 Fotos_Grandes-3cdAmostra/Q6-3-1.jpg\n",
            "26 Fotos_Grandes-3cdAmostra/Q6-5-4.jpg\n"
          ],
          "name": "stdout"
        }
      ]
    },
    {
      "cell_type": "code",
      "metadata": {
        "id": "Fg08LdDEsYLd"
      },
      "source": [
        "df=Segmenta(img)"
      ],
      "execution_count": 18,
      "outputs": []
    },
    {
      "cell_type": "code",
      "metadata": {
        "id": "3O2xFH1Ishc2",
        "colab": {
          "base_uri": "https://localhost:8080/"
        },
        "outputId": "ebef1972-c395-45bf-efd0-99cd29a28bea"
      },
      "source": [
        "y_pred_train,confusion_matrix_train,METRICS_train, y_pred_test,confusion_matrix_test,METRICS_test=AnnGrain(ANN_dat,df.drop('Width',axis=1)) "
      ],
      "execution_count": 19,
      "outputs": [
        {
          "output_type": "stream",
          "text": [
            "Epoch 1/200\n",
            "WARNING:tensorflow:Model was constructed with shape (None, 28, 28) for input KerasTensor(type_spec=TensorSpec(shape=(None, 28, 28), dtype=tf.float32, name='flatten_input'), name='flatten_input', description=\"created by layer 'flatten_input'\"), but it was called on an input with incompatible shape (None, 784).\n",
            "WARNING:tensorflow:Model was constructed with shape (None, 28, 28) for input KerasTensor(type_spec=TensorSpec(shape=(None, 28, 28), dtype=tf.float32, name='flatten_input'), name='flatten_input', description=\"created by layer 'flatten_input'\"), but it was called on an input with incompatible shape (None, 784).\n",
            "11/11 [==============================] - 1s 2ms/step - loss: 40.6427 - accuracy: 0.3641 \n",
            "Epoch 2/200\n",
            "11/11 [==============================] - 0s 2ms/step - loss: 1.1363 - accuracy: 0.4980\n",
            "Epoch 3/200\n",
            "11/11 [==============================] - 0s 2ms/step - loss: 1.3075 - accuracy: 0.5006\n",
            "Epoch 4/200\n",
            "11/11 [==============================] - 0s 2ms/step - loss: 1.0329 - accuracy: 0.4727\n",
            "Epoch 5/200\n",
            "11/11 [==============================] - 0s 2ms/step - loss: 1.0142 - accuracy: 0.5101\n",
            "Epoch 6/200\n",
            "11/11 [==============================] - 0s 2ms/step - loss: 1.5918 - accuracy: 0.5095\n",
            "Epoch 7/200\n",
            "11/11 [==============================] - 0s 2ms/step - loss: 0.8587 - accuracy: 0.5144\n",
            "Epoch 8/200\n",
            "11/11 [==============================] - 0s 2ms/step - loss: 0.8864 - accuracy: 0.5152\n",
            "Epoch 9/200\n",
            "11/11 [==============================] - 0s 2ms/step - loss: 1.5586 - accuracy: 0.5021\n",
            "Epoch 10/200\n",
            "11/11 [==============================] - 0s 2ms/step - loss: 0.9230 - accuracy: 0.5048\n",
            "Epoch 11/200\n",
            "11/11 [==============================] - 0s 2ms/step - loss: 0.6366 - accuracy: 0.7994\n",
            "Epoch 12/200\n",
            "11/11 [==============================] - 0s 3ms/step - loss: 1.3153 - accuracy: 0.5355\n",
            "Epoch 13/200\n",
            "11/11 [==============================] - 0s 2ms/step - loss: 0.9567 - accuracy: 0.5281\n",
            "Epoch 14/200\n",
            "11/11 [==============================] - 0s 2ms/step - loss: 0.3963 - accuracy: 0.7921\n",
            "Epoch 15/200\n",
            "11/11 [==============================] - 0s 2ms/step - loss: 0.5941 - accuracy: 0.5992\n",
            "Epoch 16/200\n",
            "11/11 [==============================] - 0s 2ms/step - loss: 0.4790 - accuracy: 0.6709\n",
            "Epoch 17/200\n",
            "11/11 [==============================] - 0s 2ms/step - loss: 0.2562 - accuracy: 0.9695\n",
            "Epoch 18/200\n",
            "11/11 [==============================] - 0s 2ms/step - loss: 0.3792 - accuracy: 0.7447\n",
            "Epoch 19/200\n",
            "11/11 [==============================] - 0s 2ms/step - loss: 0.1924 - accuracy: 0.9911\n",
            "Epoch 20/200\n",
            "11/11 [==============================] - 0s 2ms/step - loss: 0.5537 - accuracy: 0.6795\n",
            "Epoch 21/200\n",
            "11/11 [==============================] - 0s 2ms/step - loss: 0.8778 - accuracy: 0.5432\n",
            "Epoch 22/200\n",
            "11/11 [==============================] - 0s 2ms/step - loss: 0.4029 - accuracy: 0.7432\n",
            "Epoch 23/200\n",
            "11/11 [==============================] - 0s 2ms/step - loss: 0.4117 - accuracy: 0.8760\n",
            "Epoch 24/200\n",
            "11/11 [==============================] - 0s 2ms/step - loss: 1.3316 - accuracy: 0.5102\n",
            "Epoch 25/200\n",
            "11/11 [==============================] - 0s 2ms/step - loss: 1.0153 - accuracy: 0.5236\n",
            "Epoch 26/200\n",
            "11/11 [==============================] - 0s 2ms/step - loss: 0.2539 - accuracy: 0.8944\n",
            "Epoch 27/200\n",
            "11/11 [==============================] - 0s 3ms/step - loss: 0.6900 - accuracy: 0.9072\n",
            "Epoch 28/200\n",
            "11/11 [==============================] - 0s 2ms/step - loss: 1.3337 - accuracy: 0.5186\n",
            "Epoch 29/200\n",
            "11/11 [==============================] - 0s 2ms/step - loss: 0.8741 - accuracy: 0.6017\n",
            "Epoch 30/200\n",
            "11/11 [==============================] - 0s 2ms/step - loss: 0.2637 - accuracy: 0.8686\n",
            "Epoch 31/200\n",
            "11/11 [==============================] - 0s 3ms/step - loss: 0.1860 - accuracy: 0.9692\n",
            "Epoch 32/200\n",
            "11/11 [==============================] - 0s 2ms/step - loss: 0.6930 - accuracy: 0.6042\n",
            "Epoch 33/200\n",
            "11/11 [==============================] - 0s 2ms/step - loss: 0.4529 - accuracy: 0.7206\n",
            "Epoch 34/200\n",
            "11/11 [==============================] - 0s 2ms/step - loss: 0.1447 - accuracy: 0.9914\n",
            "Epoch 35/200\n",
            "11/11 [==============================] - 0s 2ms/step - loss: 0.1408 - accuracy: 0.9678\n",
            "Epoch 36/200\n",
            "11/11 [==============================] - 0s 2ms/step - loss: 0.2880 - accuracy: 0.8369\n",
            "Epoch 37/200\n",
            "11/11 [==============================] - 0s 2ms/step - loss: 0.1483 - accuracy: 0.9864\n",
            "Epoch 38/200\n",
            "11/11 [==============================] - 0s 2ms/step - loss: 0.0488 - accuracy: 1.0000\n",
            "Epoch 39/200\n",
            "11/11 [==============================] - 0s 2ms/step - loss: 0.5630 - accuracy: 0.8810\n",
            "Epoch 40/200\n",
            "11/11 [==============================] - 0s 2ms/step - loss: 2.2121 - accuracy: 0.4805\n",
            "Epoch 41/200\n",
            "11/11 [==============================] - 0s 2ms/step - loss: 1.8075 - accuracy: 0.4868\n",
            "Epoch 42/200\n",
            "11/11 [==============================] - 0s 2ms/step - loss: 0.6238 - accuracy: 0.6982\n",
            "Epoch 43/200\n",
            "11/11 [==============================] - 0s 2ms/step - loss: 0.0981 - accuracy: 1.0000\n",
            "Epoch 44/200\n",
            "11/11 [==============================] - 0s 2ms/step - loss: 0.1118 - accuracy: 0.9971\n",
            "Epoch 45/200\n",
            "11/11 [==============================] - 0s 2ms/step - loss: 0.3398 - accuracy: 0.8047\n",
            "Epoch 46/200\n",
            "11/11 [==============================] - 0s 2ms/step - loss: 0.3039 - accuracy: 0.8424\n",
            "Epoch 47/200\n",
            "11/11 [==============================] - 0s 2ms/step - loss: 0.1212 - accuracy: 1.0000\n",
            "Epoch 48/200\n",
            "11/11 [==============================] - 0s 2ms/step - loss: 0.0406 - accuracy: 1.0000\n",
            "Epoch 49/200\n",
            "11/11 [==============================] - 0s 2ms/step - loss: 0.0570 - accuracy: 0.9973\n",
            "Epoch 50/200\n",
            "11/11 [==============================] - 0s 2ms/step - loss: 0.1393 - accuracy: 0.9784\n",
            "Epoch 51/200\n",
            "11/11 [==============================] - 0s 2ms/step - loss: 0.1544 - accuracy: 0.9890\n",
            "Epoch 52/200\n",
            "11/11 [==============================] - 0s 2ms/step - loss: 0.0751 - accuracy: 1.0000\n",
            "Epoch 53/200\n",
            "11/11 [==============================] - 0s 2ms/step - loss: 0.0312 - accuracy: 1.0000\n",
            "Epoch 54/200\n",
            "11/11 [==============================] - 0s 2ms/step - loss: 0.0318 - accuracy: 1.0000\n",
            "Epoch 55/200\n",
            "11/11 [==============================] - 0s 2ms/step - loss: 0.0361 - accuracy: 1.0000\n",
            "Epoch 56/200\n",
            "11/11 [==============================] - 0s 3ms/step - loss: 0.0328 - accuracy: 1.0000\n",
            "Epoch 57/200\n",
            "11/11 [==============================] - 0s 2ms/step - loss: 0.0263 - accuracy: 1.0000\n",
            "Epoch 58/200\n",
            "11/11 [==============================] - 0s 2ms/step - loss: 0.0813 - accuracy: 0.9973\n",
            "Epoch 59/200\n",
            "11/11 [==============================] - 0s 2ms/step - loss: 0.2704 - accuracy: 0.8419\n",
            "Epoch 60/200\n",
            "11/11 [==============================] - 0s 2ms/step - loss: 0.2413 - accuracy: 0.8899\n",
            "Epoch 61/200\n",
            "11/11 [==============================] - 0s 2ms/step - loss: 0.0778 - accuracy: 1.0000\n",
            "Epoch 62/200\n",
            "11/11 [==============================] - 0s 3ms/step - loss: 0.0319 - accuracy: 1.0000\n",
            "Epoch 63/200\n",
            "11/11 [==============================] - 0s 2ms/step - loss: 0.1302 - accuracy: 0.9973\n",
            "Epoch 64/200\n",
            "11/11 [==============================] - 0s 2ms/step - loss: 0.2207 - accuracy: 0.9109\n",
            "Epoch 65/200\n",
            "11/11 [==============================] - 0s 3ms/step - loss: 0.2078 - accuracy: 0.9175\n",
            "Epoch 66/200\n",
            "11/11 [==============================] - 0s 2ms/step - loss: 0.0625 - accuracy: 1.0000\n",
            "Epoch 67/200\n",
            "11/11 [==============================] - 0s 2ms/step - loss: 0.0294 - accuracy: 1.0000\n",
            "Epoch 68/200\n",
            "11/11 [==============================] - 0s 2ms/step - loss: 0.0175 - accuracy: 1.0000\n",
            "Epoch 69/200\n",
            "11/11 [==============================] - 0s 2ms/step - loss: 0.0650 - accuracy: 0.9958\n",
            "Epoch 70/200\n",
            "11/11 [==============================] - 0s 2ms/step - loss: 0.1612 - accuracy: 0.9699\n",
            "Epoch 71/200\n",
            "11/11 [==============================] - 0s 2ms/step - loss: 0.1154 - accuracy: 1.0000\n",
            "Epoch 72/200\n",
            "11/11 [==============================] - 0s 2ms/step - loss: 0.0473 - accuracy: 1.0000\n",
            "Epoch 73/200\n",
            "11/11 [==============================] - 0s 2ms/step - loss: 0.0239 - accuracy: 1.0000\n",
            "Epoch 74/200\n",
            "11/11 [==============================] - 0s 3ms/step - loss: 0.0599 - accuracy: 0.9967\n",
            "Epoch 75/200\n",
            "11/11 [==============================] - 0s 2ms/step - loss: 0.1859 - accuracy: 0.9382\n",
            "Epoch 76/200\n",
            "11/11 [==============================] - 0s 2ms/step - loss: 0.1551 - accuracy: 0.9610\n",
            "Epoch 77/200\n",
            "11/11 [==============================] - 0s 2ms/step - loss: 0.0531 - accuracy: 1.0000\n",
            "Epoch 78/200\n",
            "11/11 [==============================] - 0s 2ms/step - loss: 0.0239 - accuracy: 1.0000\n",
            "Epoch 79/200\n",
            "11/11 [==============================] - 0s 2ms/step - loss: 0.0269 - accuracy: 0.9990\n",
            "Epoch 80/200\n",
            "11/11 [==============================] - 0s 2ms/step - loss: 0.0985 - accuracy: 0.9768\n",
            "Epoch 81/200\n",
            "11/11 [==============================] - 0s 2ms/step - loss: 0.2091 - accuracy: 0.8970\n",
            "Epoch 82/200\n",
            "11/11 [==============================] - 0s 2ms/step - loss: 0.0694 - accuracy: 1.0000\n",
            "Epoch 83/200\n",
            "11/11 [==============================] - 0s 3ms/step - loss: 0.0261 - accuracy: 1.0000\n",
            "Epoch 84/200\n",
            "11/11 [==============================] - 0s 2ms/step - loss: 0.0158 - accuracy: 1.0000\n",
            "Epoch 85/200\n",
            "11/11 [==============================] - 0s 2ms/step - loss: 0.0122 - accuracy: 0.9995\n",
            "Epoch 86/200\n",
            "11/11 [==============================] - 0s 2ms/step - loss: 0.2850 - accuracy: 0.8854\n",
            "Epoch 87/200\n",
            "11/11 [==============================] - 0s 2ms/step - loss: 1.0646 - accuracy: 0.6286\n",
            "Epoch 88/200\n",
            "11/11 [==============================] - 0s 2ms/step - loss: 0.3602 - accuracy: 0.8069\n",
            "Epoch 89/200\n",
            "11/11 [==============================] - 0s 2ms/step - loss: 0.0245 - accuracy: 1.0000\n",
            "Epoch 90/200\n",
            "11/11 [==============================] - 0s 2ms/step - loss: 0.1285 - accuracy: 0.9946\n",
            "Epoch 91/200\n",
            "11/11 [==============================] - 0s 2ms/step - loss: 0.2046 - accuracy: 0.8907\n",
            "Epoch 92/200\n",
            "11/11 [==============================] - 0s 2ms/step - loss: 0.1384 - accuracy: 0.9635\n",
            "Epoch 93/200\n",
            "11/11 [==============================] - 0s 2ms/step - loss: 0.0504 - accuracy: 1.0000\n",
            "Epoch 94/200\n",
            "11/11 [==============================] - 0s 2ms/step - loss: 0.0197 - accuracy: 1.0000\n",
            "Epoch 95/200\n",
            "11/11 [==============================] - 0s 3ms/step - loss: 0.0113 - accuracy: 1.0000\n",
            "Epoch 96/200\n",
            "11/11 [==============================] - 0s 2ms/step - loss: 0.0094 - accuracy: 1.0000\n",
            "Epoch 97/200\n",
            "11/11 [==============================] - 0s 2ms/step - loss: 0.0078 - accuracy: 1.0000\n",
            "Epoch 98/200\n",
            "11/11 [==============================] - 0s 2ms/step - loss: 0.0072 - accuracy: 1.0000\n",
            "Epoch 99/200\n",
            "11/11 [==============================] - 0s 2ms/step - loss: 0.0920 - accuracy: 0.9575\n",
            "Epoch 100/200\n",
            "11/11 [==============================] - 0s 3ms/step - loss: 0.9630 - accuracy: 0.5931\n",
            "Epoch 101/200\n",
            "11/11 [==============================] - 0s 2ms/step - loss: 0.4971 - accuracy: 0.7343\n",
            "Epoch 102/200\n",
            "11/11 [==============================] - 0s 2ms/step - loss: 0.0572 - accuracy: 1.0000\n",
            "Epoch 103/200\n",
            "11/11 [==============================] - 0s 2ms/step - loss: 0.0140 - accuracy: 1.0000\n",
            "Epoch 104/200\n",
            "11/11 [==============================] - 0s 2ms/step - loss: 0.0077 - accuracy: 1.0000\n",
            "Epoch 105/200\n",
            "11/11 [==============================] - 0s 2ms/step - loss: 0.0058 - accuracy: 1.0000\n",
            "Epoch 106/200\n",
            "11/11 [==============================] - 0s 2ms/step - loss: 0.0168 - accuracy: 0.9983\n",
            "Epoch 107/200\n",
            "11/11 [==============================] - 0s 3ms/step - loss: 0.1570 - accuracy: 0.9460\n",
            "Epoch 108/200\n",
            "11/11 [==============================] - 0s 2ms/step - loss: 0.2414 - accuracy: 0.8552\n",
            "Epoch 109/200\n",
            "11/11 [==============================] - 0s 2ms/step - loss: 0.0674 - accuracy: 1.0000\n",
            "Epoch 110/200\n",
            "11/11 [==============================] - 0s 2ms/step - loss: 0.0203 - accuracy: 1.0000\n",
            "Epoch 111/200\n",
            "11/11 [==============================] - 0s 3ms/step - loss: 0.0120 - accuracy: 1.0000\n",
            "Epoch 112/200\n",
            "11/11 [==============================] - 0s 2ms/step - loss: 0.0077 - accuracy: 1.0000\n",
            "Epoch 113/200\n",
            "11/11 [==============================] - 0s 3ms/step - loss: 0.0063 - accuracy: 1.0000\n",
            "Epoch 114/200\n",
            "11/11 [==============================] - 0s 3ms/step - loss: 0.0058 - accuracy: 1.0000\n",
            "Epoch 115/200\n",
            "11/11 [==============================] - 0s 2ms/step - loss: 0.0056 - accuracy: 1.0000\n",
            "Epoch 116/200\n",
            "11/11 [==============================] - 0s 2ms/step - loss: 0.0051 - accuracy: 1.0000\n",
            "Epoch 117/200\n",
            "11/11 [==============================] - 0s 2ms/step - loss: 0.0045 - accuracy: 1.0000\n",
            "Epoch 118/200\n",
            "11/11 [==============================] - 0s 2ms/step - loss: 0.0038 - accuracy: 1.0000\n",
            "Epoch 119/200\n",
            "11/11 [==============================] - 0s 2ms/step - loss: 0.0044 - accuracy: 1.0000\n",
            "Epoch 120/200\n",
            "11/11 [==============================] - 0s 2ms/step - loss: 0.0047 - accuracy: 1.0000\n",
            "Epoch 121/200\n",
            "11/11 [==============================] - 0s 2ms/step - loss: 0.0048 - accuracy: 1.0000\n",
            "Epoch 122/200\n",
            "11/11 [==============================] - 0s 2ms/step - loss: 0.0040 - accuracy: 1.0000\n",
            "Epoch 123/200\n",
            "11/11 [==============================] - 0s 2ms/step - loss: 0.0043 - accuracy: 1.0000\n",
            "Epoch 124/200\n",
            "11/11 [==============================] - 0s 2ms/step - loss: 0.0043 - accuracy: 1.0000\n",
            "Epoch 125/200\n",
            "11/11 [==============================] - 0s 2ms/step - loss: 0.0124 - accuracy: 0.9958\n",
            "Epoch 126/200\n",
            "11/11 [==============================] - 0s 2ms/step - loss: 0.0742 - accuracy: 0.9993\n",
            "Epoch 127/200\n",
            "11/11 [==============================] - 0s 2ms/step - loss: 0.0793 - accuracy: 1.0000\n",
            "Epoch 128/200\n",
            "11/11 [==============================] - 0s 3ms/step - loss: 0.0334 - accuracy: 1.0000\n",
            "Epoch 129/200\n",
            "11/11 [==============================] - 0s 3ms/step - loss: 0.0195 - accuracy: 1.0000\n",
            "Epoch 130/200\n",
            "11/11 [==============================] - 0s 2ms/step - loss: 0.0115 - accuracy: 1.0000\n",
            "Epoch 131/200\n",
            "11/11 [==============================] - 0s 3ms/step - loss: 0.0079 - accuracy: 1.0000\n",
            "Epoch 132/200\n",
            "11/11 [==============================] - 0s 2ms/step - loss: 0.0083 - accuracy: 1.0000\n",
            "Epoch 133/200\n",
            "11/11 [==============================] - 0s 2ms/step - loss: 0.0062 - accuracy: 1.0000\n",
            "Epoch 134/200\n",
            "11/11 [==============================] - 0s 2ms/step - loss: 0.0052 - accuracy: 1.0000\n",
            "Epoch 135/200\n",
            "11/11 [==============================] - 0s 2ms/step - loss: 0.0049 - accuracy: 1.0000\n",
            "Epoch 136/200\n",
            "11/11 [==============================] - 0s 2ms/step - loss: 0.0045 - accuracy: 1.0000\n",
            "Epoch 137/200\n",
            "11/11 [==============================] - 0s 2ms/step - loss: 0.0041 - accuracy: 1.0000\n",
            "Epoch 138/200\n",
            "11/11 [==============================] - 0s 2ms/step - loss: 0.0039 - accuracy: 1.0000\n",
            "Epoch 139/200\n",
            "11/11 [==============================] - 0s 2ms/step - loss: 0.0037 - accuracy: 1.0000\n",
            "Epoch 140/200\n",
            "11/11 [==============================] - 0s 2ms/step - loss: 0.0034 - accuracy: 1.0000\n",
            "Epoch 141/200\n",
            "11/11 [==============================] - 0s 2ms/step - loss: 0.0797 - accuracy: 0.9628\n",
            "Epoch 142/200\n",
            "11/11 [==============================] - 0s 2ms/step - loss: 1.2306 - accuracy: 0.5971\n",
            "Epoch 143/200\n",
            "11/11 [==============================] - 0s 2ms/step - loss: 0.6883 - accuracy: 0.7188\n",
            "Epoch 144/200\n",
            "11/11 [==============================] - 0s 2ms/step - loss: 0.0445 - accuracy: 1.0000\n",
            "Epoch 145/200\n",
            "11/11 [==============================] - 0s 2ms/step - loss: 0.0063 - accuracy: 1.0000\n",
            "Epoch 146/200\n",
            "11/11 [==============================] - 0s 2ms/step - loss: 0.0195 - accuracy: 0.9978\n",
            "Epoch 147/200\n",
            "11/11 [==============================] - 0s 2ms/step - loss: 0.1139 - accuracy: 0.9545\n",
            "Epoch 148/200\n",
            "11/11 [==============================] - 0s 2ms/step - loss: 0.1535 - accuracy: 0.9235\n",
            "Epoch 149/200\n",
            "11/11 [==============================] - 0s 3ms/step - loss: 0.0396 - accuracy: 1.0000\n",
            "Epoch 150/200\n",
            "11/11 [==============================] - 0s 2ms/step - loss: 0.0126 - accuracy: 1.0000\n",
            "Epoch 151/200\n",
            "11/11 [==============================] - 0s 2ms/step - loss: 0.0091 - accuracy: 1.0000\n",
            "Epoch 152/200\n",
            "11/11 [==============================] - 0s 2ms/step - loss: 0.0066 - accuracy: 1.0000\n",
            "Epoch 153/200\n",
            "11/11 [==============================] - 0s 2ms/step - loss: 0.0054 - accuracy: 1.0000\n",
            "Epoch 154/200\n",
            "11/11 [==============================] - 0s 2ms/step - loss: 0.0049 - accuracy: 1.0000\n",
            "Epoch 155/200\n",
            "11/11 [==============================] - 0s 2ms/step - loss: 0.0047 - accuracy: 1.0000\n",
            "Epoch 156/200\n",
            "11/11 [==============================] - 0s 2ms/step - loss: 0.0043 - accuracy: 1.0000\n",
            "Epoch 157/200\n",
            "11/11 [==============================] - 0s 2ms/step - loss: 0.0040 - accuracy: 1.0000\n",
            "Epoch 158/200\n",
            "11/11 [==============================] - 0s 3ms/step - loss: 0.0037 - accuracy: 1.0000\n",
            "Epoch 159/200\n",
            "11/11 [==============================] - 0s 2ms/step - loss: 0.0033 - accuracy: 1.0000\n",
            "Epoch 160/200\n",
            "11/11 [==============================] - 0s 3ms/step - loss: 0.0035 - accuracy: 1.0000\n",
            "Epoch 161/200\n",
            "11/11 [==============================] - 0s 3ms/step - loss: 0.0036 - accuracy: 1.0000\n",
            "Epoch 162/200\n",
            "11/11 [==============================] - 0s 2ms/step - loss: 0.0047 - accuracy: 1.0000\n",
            "Epoch 163/200\n",
            "11/11 [==============================] - 0s 2ms/step - loss: 0.0051 - accuracy: 1.0000\n",
            "Epoch 164/200\n",
            "11/11 [==============================] - 0s 2ms/step - loss: 0.0055 - accuracy: 1.0000\n",
            "Epoch 165/200\n",
            "11/11 [==============================] - 0s 2ms/step - loss: 0.0050 - accuracy: 1.0000\n",
            "Epoch 166/200\n",
            "11/11 [==============================] - 0s 3ms/step - loss: 0.0044 - accuracy: 1.0000\n",
            "Epoch 167/200\n",
            "11/11 [==============================] - 0s 2ms/step - loss: 0.0041 - accuracy: 1.0000\n",
            "Epoch 168/200\n",
            "11/11 [==============================] - 0s 2ms/step - loss: 0.0033 - accuracy: 1.0000\n",
            "Epoch 169/200\n",
            "11/11 [==============================] - 0s 3ms/step - loss: 0.0036 - accuracy: 1.0000\n",
            "Epoch 170/200\n",
            "11/11 [==============================] - 0s 3ms/step - loss: 0.0032 - accuracy: 1.0000\n",
            "Epoch 171/200\n",
            "11/11 [==============================] - 0s 3ms/step - loss: 0.0027 - accuracy: 1.0000\n",
            "Epoch 172/200\n",
            "11/11 [==============================] - 0s 2ms/step - loss: 0.0028 - accuracy: 1.0000\n",
            "Epoch 173/200\n",
            "11/11 [==============================] - 0s 2ms/step - loss: 0.0025 - accuracy: 1.0000\n",
            "Epoch 174/200\n",
            "11/11 [==============================] - 0s 3ms/step - loss: 0.0027 - accuracy: 1.0000\n",
            "Epoch 175/200\n",
            "11/11 [==============================] - 0s 3ms/step - loss: 0.0024 - accuracy: 1.0000\n",
            "Epoch 176/200\n",
            "11/11 [==============================] - 0s 3ms/step - loss: 0.0023 - accuracy: 1.0000\n",
            "Epoch 177/200\n",
            "11/11 [==============================] - 0s 2ms/step - loss: 0.0204 - accuracy: 0.9972\n",
            "Epoch 178/200\n",
            "11/11 [==============================] - 0s 2ms/step - loss: 1.2529 - accuracy: 0.5975\n",
            "Epoch 179/200\n",
            "11/11 [==============================] - 0s 2ms/step - loss: 1.6012 - accuracy: 0.5978\n",
            "Epoch 180/200\n",
            "11/11 [==============================] - 0s 2ms/step - loss: 0.3577 - accuracy: 0.8348\n",
            "Epoch 181/200\n",
            "11/11 [==============================] - 0s 2ms/step - loss: 0.0080 - accuracy: 1.0000\n",
            "Epoch 182/200\n",
            "11/11 [==============================] - 0s 3ms/step - loss: 0.2296 - accuracy: 0.9217\n",
            "Epoch 183/200\n",
            "11/11 [==============================] - 0s 2ms/step - loss: 1.2746 - accuracy: 0.5917\n",
            "Epoch 184/200\n",
            "11/11 [==============================] - 0s 2ms/step - loss: 0.2575 - accuracy: 0.8828\n",
            "Epoch 185/200\n",
            "11/11 [==============================] - 0s 3ms/step - loss: 0.0195 - accuracy: 1.0000\n",
            "Epoch 186/200\n",
            "11/11 [==============================] - 0s 3ms/step - loss: 0.0059 - accuracy: 1.0000\n",
            "Epoch 187/200\n",
            "11/11 [==============================] - 0s 3ms/step - loss: 0.0033 - accuracy: 1.0000\n",
            "Epoch 188/200\n",
            "11/11 [==============================] - 0s 2ms/step - loss: 0.0029 - accuracy: 1.0000\n",
            "Epoch 189/200\n",
            "11/11 [==============================] - 0s 2ms/step - loss: 0.0026 - accuracy: 1.0000\n",
            "Epoch 190/200\n",
            "11/11 [==============================] - 0s 3ms/step - loss: 0.0025 - accuracy: 1.0000\n",
            "Epoch 191/200\n",
            "11/11 [==============================] - 0s 3ms/step - loss: 0.0024 - accuracy: 1.0000\n",
            "Epoch 192/200\n",
            "11/11 [==============================] - 0s 2ms/step - loss: 0.0020 - accuracy: 1.0000\n",
            "Epoch 193/200\n",
            "11/11 [==============================] - 0s 2ms/step - loss: 0.0020 - accuracy: 1.0000\n",
            "Epoch 194/200\n",
            "11/11 [==============================] - 0s 2ms/step - loss: 0.0021 - accuracy: 1.0000\n",
            "Epoch 195/200\n",
            "11/11 [==============================] - 0s 3ms/step - loss: 0.0021 - accuracy: 1.0000\n",
            "Epoch 196/200\n",
            "11/11 [==============================] - 0s 2ms/step - loss: 0.0019 - accuracy: 1.0000\n",
            "Epoch 197/200\n",
            "11/11 [==============================] - 0s 2ms/step - loss: 0.0019 - accuracy: 1.0000\n",
            "Epoch 198/200\n",
            "11/11 [==============================] - 0s 3ms/step - loss: 0.0018 - accuracy: 1.0000\n",
            "Epoch 199/200\n",
            "11/11 [==============================] - 0s 2ms/step - loss: 0.0018 - accuracy: 1.0000\n",
            "Epoch 200/200\n",
            "11/11 [==============================] - 0s 2ms/step - loss: 0.0019 - accuracy: 1.0000\n",
            "Predicted   0   1\n",
            "Actual           \n",
            "0          72   0\n",
            "1           5  70\n",
            "Predicted    0    1\n",
            "Actual             \n",
            "0          173    0\n",
            "1            0  170\n"
          ],
          "name": "stdout"
        }
      ]
    },
    {
      "cell_type": "code",
      "metadata": {
        "id": "6S5a4-cashbB",
        "colab": {
          "base_uri": "https://localhost:8080/"
        },
        "outputId": "8933bc9e-97a7-469f-95a9-714cf0e1b68a"
      },
      "source": [
        "print(y_pred_train.ravel())"
      ],
      "execution_count": 20,
      "outputs": [
        {
          "output_type": "stream",
          "text": [
            "[1 1 1 1 1 1 1 1 1 0 0 1 1 1 1 1 1 1 1 1 0 1 1 1 1 1 0 1 1 1 1 1 1 1 1 1 1\n",
            " 1 1 1 1 1 1 1 1 1 1 1 1 1 1 1 1 1 1 1 1 1 1 1 1 1 1 1 1 1 1 1 1 1 1 1 0 1\n",
            " 0 1 1 1 1 1 1 1 1 1 1 1 1 1 1 1 1 1 1 1 1 1 1 1 1 1 1 1 1 1 1 1 1 1 0 1 1\n",
            " 1 1 1 1 1 1 1 1 1 1 1 0 1 1 1 1 1 1 1 1 1 1 1 1 1 1 1 1 1 1 0 1 1 1 1 1 1\n",
            " 1 1]\n"
          ],
          "name": "stdout"
        }
      ]
    },
    {
      "cell_type": "code",
      "metadata": {
        "colab": {
          "base_uri": "https://localhost:8080/"
        },
        "id": "h67E84hbZRX6",
        "outputId": "6ce4b90f-a64d-4a30-9d6e-71f106211381"
      },
      "source": [
        "print(confusion_matrix_train)"
      ],
      "execution_count": 21,
      "outputs": [
        {
          "output_type": "stream",
          "text": [
            "Predicted    0    1\n",
            "Actual             \n",
            "0          173    0\n",
            "1            0  170\n"
          ],
          "name": "stdout"
        }
      ]
    },
    {
      "cell_type": "code",
      "metadata": {
        "colab": {
          "base_uri": "https://localhost:8080/"
        },
        "id": "FzCWwY-jhD3e",
        "outputId": "7e510842-151e-4138-875b-2a08648eeb67"
      },
      "source": [
        "print(METRICS_train)"
      ],
      "execution_count": 22,
      "outputs": [
        {
          "output_type": "stream",
          "text": [
            "              precision    recall  f1-score   support\n",
            "\n",
            "           0       1.00      1.00      1.00       173\n",
            "           1       1.00      1.00      1.00       170\n",
            "\n",
            "    accuracy                           1.00       343\n",
            "   macro avg       1.00      1.00      1.00       343\n",
            "weighted avg       1.00      1.00      1.00       343\n",
            "\n"
          ],
          "name": "stdout"
        }
      ]
    },
    {
      "cell_type": "code",
      "metadata": {
        "colab": {
          "base_uri": "https://localhost:8080/"
        },
        "id": "_Nmb3edhg5dy",
        "outputId": "0323ad78-555c-4e9e-cf39-f785c55a3d72"
      },
      "source": [
        "print(y_pred_test.ravel())"
      ],
      "execution_count": 23,
      "outputs": [
        {
          "output_type": "stream",
          "text": [
            "[1 1 1 1 1 1 1 1 1 0 0 1 1 1 1 1 1 1 1 1 0 1 1 1 1 1 0 1 1 1 1 1 1 1 1 1 1\n",
            " 1 1 1 1 1 1 1 1 1 1 1 1 1 1 1 1 1 1 1 1 1 1 1 1 1 1 1 1 1 1 1 1 1 1 1 0 1\n",
            " 0 1 1 1 1 1 1 1 1 1 1 1 1 1 1 1 1 1 1 1 1 1 1 1 1 1 1 1 1 1 1 1 1 1 0 1 1\n",
            " 1 1 1 1 1 1 1 1 1 1 1 0 1 1 1 1 1 1 1 1 1 1 1 1 1 1 1 1 1 1 0 1 1 1 1 1 1\n",
            " 1 1]\n"
          ],
          "name": "stdout"
        }
      ]
    },
    {
      "cell_type": "code",
      "metadata": {
        "colab": {
          "base_uri": "https://localhost:8080/"
        },
        "id": "NViGeRJZZvbF",
        "outputId": "741b5207-c05f-464a-931f-f9537b01eac9"
      },
      "source": [
        "print(confusion_matrix_test)"
      ],
      "execution_count": 24,
      "outputs": [
        {
          "output_type": "stream",
          "text": [
            "Predicted   0   1\n",
            "Actual           \n",
            "0          72   0\n",
            "1           5  70\n"
          ],
          "name": "stdout"
        }
      ]
    },
    {
      "cell_type": "code",
      "metadata": {
        "colab": {
          "base_uri": "https://localhost:8080/"
        },
        "id": "CZk0OxiJZVl0",
        "outputId": "6bc8acc3-fddf-49a7-ebab-0f951300772c"
      },
      "source": [
        "print(METRICS_test)"
      ],
      "execution_count": 25,
      "outputs": [
        {
          "output_type": "stream",
          "text": [
            "              precision    recall  f1-score   support\n",
            "\n",
            "           0       0.94      1.00      0.97        72\n",
            "           1       1.00      0.93      0.97        75\n",
            "\n",
            "    accuracy                           0.97       147\n",
            "   macro avg       0.97      0.97      0.97       147\n",
            "weighted avg       0.97      0.97      0.97       147\n",
            "\n"
          ],
          "name": "stdout"
        }
      ]
    }
  ]
}