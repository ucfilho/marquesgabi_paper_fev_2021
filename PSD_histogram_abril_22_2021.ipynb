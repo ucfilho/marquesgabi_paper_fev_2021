{
  "nbformat": 4,
  "nbformat_minor": 0,
  "metadata": {
    "colab": {
      "name": "PSD_histogram_abril_22_2021.ipynb",
      "provenance": [],
      "collapsed_sections": [],
      "include_colab_link": true
    },
    "kernelspec": {
      "name": "python3",
      "display_name": "Python 3"
    }
  },
  "cells": [
    {
      "cell_type": "markdown",
      "metadata": {
        "id": "view-in-github",
        "colab_type": "text"
      },
      "source": [
        "<a href=\"https://colab.research.google.com/github/ucfilho/marquesgabi_paper_fev_2021/blob/main/PSD_histogram_abril_22_2021.ipynb\" target=\"_parent\"><img src=\"https://colab.research.google.com/assets/colab-badge.svg\" alt=\"Open In Colab\"/></a>"
      ]
    },
    {
      "cell_type": "code",
      "metadata": {
        "id": "Sog7Z9pyhUD_",
        "colab": {
          "base_uri": "https://localhost:8080/"
        },
        "outputId": "30cfd370-6e0f-49e1-d4de-cb84b8d12a4e"
      },
      "source": [
        "import matplotlib.pyplot as plt\n",
        "import numpy as np\n",
        "import cv2\n",
        "import zipfile\n",
        "#import random\n",
        "from random import randint\n",
        "from PIL import Image\n",
        "import re\n",
        "from sklearn.model_selection import train_test_split\n",
        "#import scikit-image\n",
        "import skimage\n",
        "import pandas as pd\n",
        "from sklearn.externals import joblib"
      ],
      "execution_count": 1,
      "outputs": [
        {
          "output_type": "stream",
          "text": [
            "/usr/local/lib/python3.7/dist-packages/sklearn/externals/joblib/__init__.py:15: FutureWarning: sklearn.externals.joblib is deprecated in 0.21 and will be removed in 0.23. Please import this functionality directly from joblib, which can be installed with: pip install joblib. If this warning is raised when loading pickled models, you may need to re-serialize those models with scikit-learn 0.21+.\n",
            "  warnings.warn(msg, category=FutureWarning)\n"
          ],
          "name": "stderr"
        }
      ]
    },
    {
      "cell_type": "code",
      "metadata": {
        "id": "uZEvJvfoibE4",
        "colab": {
          "base_uri": "https://localhost:8080/"
        },
        "outputId": "e21ce0fc-7138-467c-8dc5-2ef9890c543f"
      },
      "source": [
        "!pip install mahotas"
      ],
      "execution_count": 2,
      "outputs": [
        {
          "output_type": "stream",
          "text": [
            "Requirement already satisfied: mahotas in /usr/local/lib/python3.7/dist-packages (1.4.11)\n",
            "Requirement already satisfied: numpy in /usr/local/lib/python3.7/dist-packages (from mahotas) (1.19.5)\n"
          ],
          "name": "stdout"
        }
      ]
    },
    {
      "cell_type": "code",
      "metadata": {
        "id": "nf_a6PJ1iUnT"
      },
      "source": [
        "import mahotas.features.texture as mht\n",
        "import mahotas.features"
      ],
      "execution_count": 3,
      "outputs": []
    },
    {
      "cell_type": "code",
      "metadata": {
        "id": "_VcTdaNVh9EE",
        "colab": {
          "base_uri": "https://localhost:8080/"
        },
        "outputId": "e41eedc3-b93a-4929-9ee6-5daae6b97b08"
      },
      "source": [
        "!git clone https://github.com/ucfilho/marquesgabi_fev_2020 #clonar do Github\n",
        "%cd marquesgabi_fev_2020\n",
        "import Go2BlackWhite\n",
        "import Go2Mahotas"
      ],
      "execution_count": 4,
      "outputs": [
        {
          "output_type": "stream",
          "text": [
            "fatal: destination path 'marquesgabi_fev_2020' already exists and is not an empty directory.\n",
            "/content/marquesgabi_fev_2020\n"
          ],
          "name": "stdout"
        }
      ]
    },
    {
      "cell_type": "code",
      "metadata": {
        "id": "1v7SRrc8mH2N",
        "colab": {
          "base_uri": "https://localhost:8080/"
        },
        "outputId": "dacba6e2-587d-4806-94ee-430f17c701b3"
      },
      "source": [
        "!git clone https://github.com/marquesgabi/Doutorado\n",
        "%cd Doutorado\n",
        "\n",
        "Transfere='Fotos_Grandes_3cdAmostra.zip'\n",
        "file_name = zipfile.ZipFile(Transfere, 'r')\n",
        "file_name.extractall()"
      ],
      "execution_count": 5,
      "outputs": [
        {
          "output_type": "stream",
          "text": [
            "fatal: destination path 'Doutorado' already exists and is not an empty directory.\n",
            "/content/marquesgabi_fev_2020/Doutorado\n"
          ],
          "name": "stdout"
        }
      ]
    },
    {
      "cell_type": "code",
      "metadata": {
        "id": "0kA4IWSmasoD"
      },
      "source": [
        "Size=1200 # tamanho da foto\n",
        "ww,img_name=Go2BlackWhite.BlackWhite(Transfere,Size) #Pegamos a primeira foto Grande\n",
        "img=ww[0] \n",
        "# this is the big image we want to segment \n",
        "# ww[0], change it if you want to segment another picture"
      ],
      "execution_count": 6,
      "outputs": []
    },
    {
      "cell_type": "code",
      "metadata": {
        "id": "tHgqAnaFyCjp",
        "colab": {
          "base_uri": "https://localhost:8080/"
        },
        "outputId": "4d60dbc7-0b93-4a11-a57e-a54c859035bf"
      },
      "source": [
        "!git clone https://github.com/ucfilho/MarquesGabi_Routines\n",
        "%cd MarquesGabi_Routines"
      ],
      "execution_count": 7,
      "outputs": [
        {
          "output_type": "stream",
          "text": [
            "fatal: destination path 'MarquesGabi_Routines' already exists and is not an empty directory.\n",
            "/content/marquesgabi_fev_2020/Doutorado/MarquesGabi_Routines\n"
          ],
          "name": "stdout"
        }
      ]
    },
    {
      "cell_type": "code",
      "metadata": {
        "id": "qc4rFvzkyWCi"
      },
      "source": [
        "from segment_filter_not_conclude import Segmenta  # got image provided segmented"
      ],
      "execution_count": 8,
      "outputs": []
    },
    {
      "cell_type": "code",
      "metadata": {
        "id": "SnTtH3KDP863"
      },
      "source": [
        "df=Segmenta(img)\n"
      ],
      "execution_count": 9,
      "outputs": []
    },
    {
      "cell_type": "code",
      "metadata": {
        "id": "YN5MN5a_v4np",
        "colab": {
          "base_uri": "https://localhost:8080/"
        },
        "outputId": "aadfe796-446b-45a7-d004-2725d900d8fd"
      },
      "source": [
        "print(df)"
      ],
      "execution_count": 10,
      "outputs": [
        {
          "output_type": "stream",
          "text": [
            "    Width           0           1  ...         781         782         783\n",
            "0     115    4.887788   42.937538  ...   62.228127   82.863434   98.878258\n",
            "1     151    1.713478    1.062629  ...   31.351871   30.429321   28.864481\n",
            "2     122  116.287552  117.957535  ...    0.000000    0.000000    0.000000\n",
            "3     165   87.267403   88.717545  ...   59.711227   55.926937   52.065422\n",
            "4     157  114.302483  114.038620  ...   20.326748   20.609196   22.152542\n",
            "5     166   65.057335   73.046005  ...   90.043549   92.882561   90.485695\n",
            "6     192  104.579857  107.234802  ...   41.308594   40.270828   32.210068\n",
            "7     152   43.723682   32.319946  ...  127.026314  127.328949  122.109421\n",
            "8     164  100.493759   96.118973  ...    6.382510    6.301012    6.176085\n",
            "9     186   91.792122  101.136559  ...    1.869465    0.777547    0.791190\n",
            "10    103   17.500706    7.077481  ...   73.287109   73.040710   73.566872\n",
            "11    180   97.502708   93.366425  ...    9.167408    6.458272    6.316544\n",
            "12    180   39.071606   51.771854  ...    0.435062    0.280000    0.466667\n",
            "13    186  113.761604  111.466530  ...   65.749565   70.606316   80.267548\n",
            "14    188   70.470795   67.434135  ...   80.376183   82.818016   81.645531\n",
            "15    151   79.787155   82.435112  ...    5.821193    5.883821    6.343099\n",
            "16    135   67.822105   76.457932  ...   32.384472   31.904198   30.157585\n",
            "17    141   28.809870   30.440876  ...    5.757507    6.274383    6.203964\n",
            "18    171   65.323044   63.526035  ...   69.780418   74.025002   79.363937\n",
            "19    174   39.995911   39.509449  ...  104.619110  107.058151  107.226196\n",
            "20    155  100.609573   97.879593  ...   87.550392   86.791389   84.607422\n",
            "21    163   40.979713   52.528587  ...   70.374611   73.989685   75.715683\n",
            "22    112  109.187500  100.187500  ...  101.187500  111.500000  117.750000\n",
            "23    111   81.651978   77.085617  ...   52.093422   50.918430   50.174988\n",
            "24    138   44.917877   43.822731  ...   95.695236   98.918076   99.708252\n",
            "25    196   46.142857   43.265305  ...   75.326530   73.979591   95.244896\n",
            "26    130   30.183670   27.950769  ...   47.945801   42.012779   26.420357\n",
            "27    190   88.707695   80.425812  ...   50.186924   41.622715   39.434345\n",
            "28    105   81.248894   94.146675  ...   36.008892   37.151115   37.506672\n",
            "29    194   90.198212   90.958969  ...    9.207248    1.142842    0.696461\n",
            "30    183   46.055180   45.525097  ...   51.315449   58.081455   59.506760\n",
            "31    180   79.551117   64.359016  ...    0.639012    0.000000    0.000000\n",
            "32    135  170.045532  149.127136  ...   45.319283   44.657887   45.064362\n",
            "33    157   83.825066   85.667984  ...   69.713783   68.016228   68.911034\n",
            "34    131  113.415123  109.338562  ...   88.925056   91.601471   91.623268\n",
            "35    130   57.834560   66.761429  ...   51.774437   52.405682   56.136333\n",
            "36    165   88.998642   87.000702  ...  142.292389  164.723572  151.788544\n",
            "37    167   95.212921   98.673851  ...   64.413857   63.152645   69.899399\n",
            "38    182   97.621307  109.029602  ...   53.698231   68.639061   84.627228\n",
            "39    107  109.672546  107.785568  ...   87.514809   82.875626   79.997299\n",
            "40    112   98.000000   95.125000  ...   76.437500   45.500000   38.562500\n",
            "41    113  113.000000  116.475914  ...   11.501214   11.481791   10.361109\n",
            "42    182   99.207100   99.952667  ...   34.863907   33.201187   35.142014\n",
            "43    160   56.601242   56.280624  ...   96.257492   92.249374   84.186249\n",
            "44    114   31.016005   71.246223  ...  116.963074  114.542625  114.259468\n",
            "45    113   41.812984   41.799831  ...   80.756439   80.053177   72.485001\n",
            "46    173  111.618423  111.491051  ...    5.334091    4.929299    4.570049\n",
            "47    106    0.544678    0.742613  ...   58.247063   56.683876   56.705948\n",
            "48    116   15.265161   30.829966  ...   10.822830    9.341261    7.537455\n",
            "49    179   78.389557   99.232613  ...    5.832528    5.824694    5.824694\n",
            "\n",
            "[50 rows x 785 columns]\n"
          ],
          "name": "stdout"
        }
      ]
    },
    {
      "cell_type": "code",
      "metadata": {
        "id": "xzpQ1Pz0fX5L",
        "colab": {
          "base_uri": "https://localhost:8080/"
        },
        "outputId": "8ba4fd46-cf6b-432d-abb8-0f6bdfb2279f"
      },
      "source": [
        "!git clone https://github.com/ucfilho/MarquesGabi_Routines\n",
        "%cd MarquesGabi_Routines\n",
        "# filename = 'model_ANN.pkl'\n",
        "filename = 'model_ANN_new.pkl'\n",
        "model = joblib.load(filename)"
      ],
      "execution_count": 11,
      "outputs": [
        {
          "output_type": "stream",
          "text": [
            "fatal: destination path 'MarquesGabi_Routines' already exists and is not an empty directory.\n",
            "/content/marquesgabi_fev_2020/Doutorado/MarquesGabi_Routines/MarquesGabi_Routines\n"
          ],
          "name": "stdout"
        }
      ]
    },
    {
      "cell_type": "code",
      "metadata": {
        "id": "QISvYcJBgWbE",
        "colab": {
          "base_uri": "https://localhost:8080/"
        },
        "outputId": "a5ee773b-a96a-4de3-c38b-e837c82a96a7"
      },
      "source": [
        "cont = 0; num =25\n",
        "img_graos = []\n",
        "Width_new = []\n",
        "img=ww[0] \n",
        "while( cont < num):\n",
        "  df=Segmenta(img)\n",
        "  df_ann =df.copy()\n",
        "  Width = df['Width']\n",
        "  del df_ann['Width']\n",
        "  result = np.array(df_ann)/255\n",
        "  prediction = model.predict(result)\n",
        "  loc_grao =[];k=0\n",
        "  for i in prediction:\n",
        "    if( i == 0):\n",
        "      img_graos.append(df.iloc[k,:])\n",
        "      Width_new.append(Width.iloc[k])\n",
        "      cont = cont + 1\n",
        "    k = k +1\n",
        "img_graos = pd.DataFrame(img_graos)\n",
        "print(img_graos)"
      ],
      "execution_count": 12,
      "outputs": [
        {
          "output_type": "stream",
          "text": [
            "    Width           0           1  ...         781         782         783\n",
            "3   180.0   31.674572   34.286423  ...  116.056305  128.465683  140.763474\n",
            "7   135.0   31.798899   32.345951  ...    0.816845    0.013992    0.721920\n",
            "29  122.0   16.843321   18.071484  ...   97.373291  102.479973  108.003220\n",
            "9   120.0   87.041122   86.066673  ...   41.434448   50.097778   63.225555\n",
            "15  146.0    0.261775    0.784575  ...    0.000000    0.000000    0.000000\n",
            "26  181.0    0.911938    0.828241  ...  107.285553  107.176895  109.236534\n",
            "41  127.0    6.364623    5.371381  ...   37.147499   38.038380   39.166901\n",
            "47  197.0   60.456730   63.081432  ...   53.422096   59.112865   79.182175\n",
            "8   182.0   90.751480   86.195274  ...   58.857990   63.650894   65.284027\n",
            "22  197.0    4.728027    5.362932  ...   90.450005   89.722321   90.942963\n",
            "36  111.0   37.006737   37.464172  ...  115.160141  119.324486  124.897568\n",
            "42  197.0   60.189777   64.387520  ...   95.557350   72.755089   67.434509\n",
            "10  174.0  111.659943  108.751762  ...   37.808826   38.989563   38.548031\n",
            "12  198.0   57.029995   58.334343  ...   91.213440   85.945816   85.680130\n",
            "27  100.0  145.278397  140.492798  ...   71.331200   73.107201   78.225601\n",
            "29  175.0  127.470383  159.630386  ...    2.718400    3.131200    4.580800\n",
            "41  132.0   80.236008   72.067039  ...   99.742889   96.911850   98.957764\n",
            "44  196.0  161.224487  204.795914  ...   28.183672   27.367346   28.795918\n",
            "14  178.0   19.134203   21.195808  ...   59.412193   61.287590   60.373566\n",
            "47  147.0   67.396820   64.589569  ...   46.235828   49.215424   61.070297\n",
            "14  185.0   90.960167   87.557098  ...   41.410717   40.154072   43.360260\n",
            "19  156.0   55.551609   58.168972  ...   57.360950   73.728470   89.701515\n",
            "24  177.0   84.604935   81.888023  ...   81.824631   81.616356   83.488167\n",
            "41  150.0   80.355019   78.927467  ...   90.847290   83.322128   93.314667\n",
            "42  153.0    0.448545    0.790722  ...   72.393700   50.746639   39.110004\n",
            "\n",
            "[25 rows x 785 columns]\n"
          ],
          "name": "stdout"
        }
      ]
    },
    {
      "cell_type": "code",
      "metadata": {
        "id": "6LkA4vHp-f6_"
      },
      "source": [
        "Width=np.array(Width_new)"
      ],
      "execution_count": 13,
      "outputs": []
    },
    {
      "cell_type": "code",
      "metadata": {
        "colab": {
          "base_uri": "https://localhost:8080/"
        },
        "id": "MjRbWgmX_LFH",
        "outputId": "a1c326f2-b20d-4da3-8246-e843a3d2db68"
      },
      "source": [
        "!git clone https://github.com/ucfilho/marquesgabi_paper_fev_2021\n",
        "%cd marquesgabi_paper_fev_2021\n",
        "\n",
        "from Get_PSDArea_New import PSDArea\n",
        "from histogram_fev_2021 import PSD\n",
        "from GetBetterSegm import GetBetter"
      ],
      "execution_count": 14,
      "outputs": [
        {
          "output_type": "stream",
          "text": [
            "fatal: destination path 'marquesgabi_paper_fev_2021' already exists and is not an empty directory.\n",
            "/content/marquesgabi_fev_2020/Doutorado/MarquesGabi_Routines/MarquesGabi_Routines/marquesgabi_paper_fev_2021\n"
          ],
          "name": "stdout"
        }
      ]
    },
    {
      "cell_type": "code",
      "metadata": {
        "colab": {
          "base_uri": "https://localhost:8080/"
        },
        "id": "WAG_I6FwCvFr",
        "outputId": "7268e62c-c01b-46e4-c3a7-7216519d0ff5"
      },
      "source": [
        "!git clone https://github.com/ucfilho/marquesgabi_out_2020\n",
        "%cd marquesgabi_out_2020\n",
        "PSD_imageJ = 'Areas_ImageJ.csv'\n",
        "PSD_new = pd.read_csv(PSD_imageJ)\n",
        "print(PSD_new.head(3))"
      ],
      "execution_count": 15,
      "outputs": [
        {
          "output_type": "stream",
          "text": [
            "fatal: destination path 'marquesgabi_out_2020' already exists and is not an empty directory.\n",
            "/content/marquesgabi_fev_2020/Doutorado/MarquesGabi_Routines/MarquesGabi_Routines/marquesgabi_paper_fev_2021/marquesgabi_out_2020\n",
            "   Juntas   Area\n",
            "0       1  2.001\n",
            "1       2  0.820\n",
            "2       3  1.270\n"
          ],
          "name": "stdout"
        }
      ]
    },
    {
      "cell_type": "code",
      "metadata": {
        "id": "t_1WIM8w7poO"
      },
      "source": [
        "Area_All, Diameter_All=PSDArea(img_graos) "
      ],
      "execution_count": 16,
      "outputs": []
    },
    {
      "cell_type": "code",
      "metadata": {
        "colab": {
          "base_uri": "https://localhost:8080/",
          "height": 244
        },
        "id": "PekBHQOT_6CP",
        "outputId": "bab4fb2e-04c8-4da3-8520-0d0ee54117ae"
      },
      "source": [
        "img_graos.head()"
      ],
      "execution_count": 17,
      "outputs": [
        {
          "output_type": "execute_result",
          "data": {
            "text/html": [
              "<div>\n",
              "<style scoped>\n",
              "    .dataframe tbody tr th:only-of-type {\n",
              "        vertical-align: middle;\n",
              "    }\n",
              "\n",
              "    .dataframe tbody tr th {\n",
              "        vertical-align: top;\n",
              "    }\n",
              "\n",
              "    .dataframe thead th {\n",
              "        text-align: right;\n",
              "    }\n",
              "</style>\n",
              "<table border=\"1\" class=\"dataframe\">\n",
              "  <thead>\n",
              "    <tr style=\"text-align: right;\">\n",
              "      <th></th>\n",
              "      <th>Width</th>\n",
              "      <th>0</th>\n",
              "      <th>1</th>\n",
              "      <th>2</th>\n",
              "      <th>3</th>\n",
              "      <th>4</th>\n",
              "      <th>5</th>\n",
              "      <th>6</th>\n",
              "      <th>7</th>\n",
              "      <th>8</th>\n",
              "      <th>9</th>\n",
              "      <th>10</th>\n",
              "      <th>11</th>\n",
              "      <th>12</th>\n",
              "      <th>13</th>\n",
              "      <th>14</th>\n",
              "      <th>15</th>\n",
              "      <th>16</th>\n",
              "      <th>17</th>\n",
              "      <th>18</th>\n",
              "      <th>19</th>\n",
              "      <th>20</th>\n",
              "      <th>21</th>\n",
              "      <th>22</th>\n",
              "      <th>23</th>\n",
              "      <th>24</th>\n",
              "      <th>25</th>\n",
              "      <th>26</th>\n",
              "      <th>27</th>\n",
              "      <th>28</th>\n",
              "      <th>29</th>\n",
              "      <th>30</th>\n",
              "      <th>31</th>\n",
              "      <th>32</th>\n",
              "      <th>33</th>\n",
              "      <th>34</th>\n",
              "      <th>35</th>\n",
              "      <th>36</th>\n",
              "      <th>37</th>\n",
              "      <th>38</th>\n",
              "      <th>...</th>\n",
              "      <th>744</th>\n",
              "      <th>745</th>\n",
              "      <th>746</th>\n",
              "      <th>747</th>\n",
              "      <th>748</th>\n",
              "      <th>749</th>\n",
              "      <th>750</th>\n",
              "      <th>751</th>\n",
              "      <th>752</th>\n",
              "      <th>753</th>\n",
              "      <th>754</th>\n",
              "      <th>755</th>\n",
              "      <th>756</th>\n",
              "      <th>757</th>\n",
              "      <th>758</th>\n",
              "      <th>759</th>\n",
              "      <th>760</th>\n",
              "      <th>761</th>\n",
              "      <th>762</th>\n",
              "      <th>763</th>\n",
              "      <th>764</th>\n",
              "      <th>765</th>\n",
              "      <th>766</th>\n",
              "      <th>767</th>\n",
              "      <th>768</th>\n",
              "      <th>769</th>\n",
              "      <th>770</th>\n",
              "      <th>771</th>\n",
              "      <th>772</th>\n",
              "      <th>773</th>\n",
              "      <th>774</th>\n",
              "      <th>775</th>\n",
              "      <th>776</th>\n",
              "      <th>777</th>\n",
              "      <th>778</th>\n",
              "      <th>779</th>\n",
              "      <th>780</th>\n",
              "      <th>781</th>\n",
              "      <th>782</th>\n",
              "      <th>783</th>\n",
              "    </tr>\n",
              "  </thead>\n",
              "  <tbody>\n",
              "    <tr>\n",
              "      <th>3</th>\n",
              "      <td>180.0</td>\n",
              "      <td>31.674572</td>\n",
              "      <td>34.286423</td>\n",
              "      <td>27.984200</td>\n",
              "      <td>18.503212</td>\n",
              "      <td>6.501235</td>\n",
              "      <td>2.946667</td>\n",
              "      <td>1.448889</td>\n",
              "      <td>1.429630</td>\n",
              "      <td>1.002469</td>\n",
              "      <td>1.000000</td>\n",
              "      <td>1.103704</td>\n",
              "      <td>0.280988</td>\n",
              "      <td>0.502222</td>\n",
              "      <td>0.083951</td>\n",
              "      <td>0.000000</td>\n",
              "      <td>0.000000</td>\n",
              "      <td>0.000000</td>\n",
              "      <td>0.000000</td>\n",
              "      <td>0.000000</td>\n",
              "      <td>0.000000</td>\n",
              "      <td>0.000000</td>\n",
              "      <td>0.000000</td>\n",
              "      <td>0.157531</td>\n",
              "      <td>0.295309</td>\n",
              "      <td>0.000000</td>\n",
              "      <td>0.008395</td>\n",
              "      <td>0.632593</td>\n",
              "      <td>1.218765</td>\n",
              "      <td>57.338768</td>\n",
              "      <td>59.865685</td>\n",
              "      <td>59.083954</td>\n",
              "      <td>57.958031</td>\n",
              "      <td>49.368401</td>\n",
              "      <td>30.951115</td>\n",
              "      <td>12.684938</td>\n",
              "      <td>4.266667</td>\n",
              "      <td>1.705679</td>\n",
              "      <td>1.141235</td>\n",
              "      <td>0.975802</td>\n",
              "      <td>...</td>\n",
              "      <td>83.703217</td>\n",
              "      <td>83.460251</td>\n",
              "      <td>83.262718</td>\n",
              "      <td>84.646423</td>\n",
              "      <td>88.653831</td>\n",
              "      <td>91.768410</td>\n",
              "      <td>102.280006</td>\n",
              "      <td>107.411873</td>\n",
              "      <td>106.598030</td>\n",
              "      <td>112.907669</td>\n",
              "      <td>124.360992</td>\n",
              "      <td>129.785675</td>\n",
              "      <td>58.805439</td>\n",
              "      <td>56.381729</td>\n",
              "      <td>56.376297</td>\n",
              "      <td>57.028152</td>\n",
              "      <td>60.090374</td>\n",
              "      <td>60.762478</td>\n",
              "      <td>61.865189</td>\n",
              "      <td>67.287910</td>\n",
              "      <td>73.574821</td>\n",
              "      <td>74.091858</td>\n",
              "      <td>72.465195</td>\n",
              "      <td>76.811363</td>\n",
              "      <td>75.664200</td>\n",
              "      <td>77.841980</td>\n",
              "      <td>82.380249</td>\n",
              "      <td>82.473587</td>\n",
              "      <td>83.569382</td>\n",
              "      <td>83.220253</td>\n",
              "      <td>83.943710</td>\n",
              "      <td>84.292847</td>\n",
              "      <td>86.146179</td>\n",
              "      <td>85.744698</td>\n",
              "      <td>98.616806</td>\n",
              "      <td>108.306679</td>\n",
              "      <td>110.657784</td>\n",
              "      <td>116.056305</td>\n",
              "      <td>128.465683</td>\n",
              "      <td>140.763474</td>\n",
              "    </tr>\n",
              "    <tr>\n",
              "      <th>7</th>\n",
              "      <td>135.0</td>\n",
              "      <td>31.798899</td>\n",
              "      <td>32.345951</td>\n",
              "      <td>40.048721</td>\n",
              "      <td>42.747215</td>\n",
              "      <td>42.882195</td>\n",
              "      <td>41.077316</td>\n",
              "      <td>41.971409</td>\n",
              "      <td>42.624580</td>\n",
              "      <td>50.800053</td>\n",
              "      <td>72.412338</td>\n",
              "      <td>66.611298</td>\n",
              "      <td>50.896187</td>\n",
              "      <td>49.742168</td>\n",
              "      <td>49.089546</td>\n",
              "      <td>48.401588</td>\n",
              "      <td>48.254429</td>\n",
              "      <td>46.435715</td>\n",
              "      <td>44.334103</td>\n",
              "      <td>44.866390</td>\n",
              "      <td>43.820580</td>\n",
              "      <td>42.541397</td>\n",
              "      <td>38.545570</td>\n",
              "      <td>26.652727</td>\n",
              "      <td>5.380960</td>\n",
              "      <td>1.252675</td>\n",
              "      <td>0.821289</td>\n",
              "      <td>0.363786</td>\n",
              "      <td>0.000000</td>\n",
              "      <td>35.386501</td>\n",
              "      <td>35.998077</td>\n",
              "      <td>42.928501</td>\n",
              "      <td>45.035282</td>\n",
              "      <td>44.501396</td>\n",
              "      <td>45.228863</td>\n",
              "      <td>48.598244</td>\n",
              "      <td>48.909901</td>\n",
              "      <td>68.609322</td>\n",
              "      <td>79.167137</td>\n",
              "      <td>70.115280</td>\n",
              "      <td>...</td>\n",
              "      <td>54.502552</td>\n",
              "      <td>51.845650</td>\n",
              "      <td>50.638794</td>\n",
              "      <td>51.288006</td>\n",
              "      <td>56.501560</td>\n",
              "      <td>59.188309</td>\n",
              "      <td>51.536461</td>\n",
              "      <td>32.672920</td>\n",
              "      <td>6.199232</td>\n",
              "      <td>0.908148</td>\n",
              "      <td>0.516927</td>\n",
              "      <td>0.534815</td>\n",
              "      <td>52.772617</td>\n",
              "      <td>52.374378</td>\n",
              "      <td>51.436813</td>\n",
              "      <td>50.344467</td>\n",
              "      <td>47.750011</td>\n",
              "      <td>45.930534</td>\n",
              "      <td>49.363121</td>\n",
              "      <td>51.919945</td>\n",
              "      <td>51.355991</td>\n",
              "      <td>50.559174</td>\n",
              "      <td>50.876709</td>\n",
              "      <td>52.993137</td>\n",
              "      <td>53.862659</td>\n",
              "      <td>54.227215</td>\n",
              "      <td>53.548473</td>\n",
              "      <td>51.591599</td>\n",
              "      <td>50.447128</td>\n",
              "      <td>50.005867</td>\n",
              "      <td>50.523781</td>\n",
              "      <td>52.077694</td>\n",
              "      <td>57.518074</td>\n",
              "      <td>57.380791</td>\n",
              "      <td>51.256622</td>\n",
              "      <td>29.591221</td>\n",
              "      <td>8.078189</td>\n",
              "      <td>0.816845</td>\n",
              "      <td>0.013992</td>\n",
              "      <td>0.721920</td>\n",
              "    </tr>\n",
              "    <tr>\n",
              "      <th>29</th>\n",
              "      <td>122.0</td>\n",
              "      <td>16.843321</td>\n",
              "      <td>18.071484</td>\n",
              "      <td>20.665949</td>\n",
              "      <td>20.466002</td>\n",
              "      <td>22.093790</td>\n",
              "      <td>35.327332</td>\n",
              "      <td>61.546360</td>\n",
              "      <td>88.880402</td>\n",
              "      <td>107.578339</td>\n",
              "      <td>114.820473</td>\n",
              "      <td>116.783119</td>\n",
              "      <td>118.793327</td>\n",
              "      <td>120.449074</td>\n",
              "      <td>121.138672</td>\n",
              "      <td>119.817245</td>\n",
              "      <td>120.191345</td>\n",
              "      <td>120.509003</td>\n",
              "      <td>118.046227</td>\n",
              "      <td>109.670784</td>\n",
              "      <td>107.836876</td>\n",
              "      <td>107.385910</td>\n",
              "      <td>102.402847</td>\n",
              "      <td>93.856209</td>\n",
              "      <td>73.674553</td>\n",
              "      <td>46.575653</td>\n",
              "      <td>37.808117</td>\n",
              "      <td>36.069336</td>\n",
              "      <td>34.987904</td>\n",
              "      <td>20.762699</td>\n",
              "      <td>21.641495</td>\n",
              "      <td>22.370329</td>\n",
              "      <td>23.480785</td>\n",
              "      <td>24.371674</td>\n",
              "      <td>27.103735</td>\n",
              "      <td>42.807312</td>\n",
              "      <td>78.225212</td>\n",
              "      <td>101.893303</td>\n",
              "      <td>110.856491</td>\n",
              "      <td>112.937378</td>\n",
              "      <td>...</td>\n",
              "      <td>54.988983</td>\n",
              "      <td>35.652779</td>\n",
              "      <td>17.880945</td>\n",
              "      <td>18.938189</td>\n",
              "      <td>25.425423</td>\n",
              "      <td>26.405270</td>\n",
              "      <td>53.968555</td>\n",
              "      <td>78.117439</td>\n",
              "      <td>87.091644</td>\n",
              "      <td>96.883629</td>\n",
              "      <td>102.947060</td>\n",
              "      <td>109.458214</td>\n",
              "      <td>191.745758</td>\n",
              "      <td>217.609772</td>\n",
              "      <td>150.712433</td>\n",
              "      <td>15.739586</td>\n",
              "      <td>20.292124</td>\n",
              "      <td>35.121471</td>\n",
              "      <td>35.761623</td>\n",
              "      <td>36.958611</td>\n",
              "      <td>35.814293</td>\n",
              "      <td>33.561138</td>\n",
              "      <td>33.707069</td>\n",
              "      <td>36.621872</td>\n",
              "      <td>42.610321</td>\n",
              "      <td>49.591774</td>\n",
              "      <td>52.050793</td>\n",
              "      <td>51.084919</td>\n",
              "      <td>45.065304</td>\n",
              "      <td>32.238106</td>\n",
              "      <td>21.094059</td>\n",
              "      <td>25.045151</td>\n",
              "      <td>27.618919</td>\n",
              "      <td>28.319267</td>\n",
              "      <td>58.157753</td>\n",
              "      <td>78.993546</td>\n",
              "      <td>87.726418</td>\n",
              "      <td>97.373291</td>\n",
              "      <td>102.479973</td>\n",
              "      <td>108.003220</td>\n",
              "    </tr>\n",
              "    <tr>\n",
              "      <th>9</th>\n",
              "      <td>120.0</td>\n",
              "      <td>87.041122</td>\n",
              "      <td>86.066673</td>\n",
              "      <td>84.397781</td>\n",
              "      <td>84.501114</td>\n",
              "      <td>86.203339</td>\n",
              "      <td>88.107780</td>\n",
              "      <td>87.183334</td>\n",
              "      <td>86.708885</td>\n",
              "      <td>86.793335</td>\n",
              "      <td>87.388885</td>\n",
              "      <td>86.971115</td>\n",
              "      <td>87.083328</td>\n",
              "      <td>86.690002</td>\n",
              "      <td>87.675552</td>\n",
              "      <td>88.303329</td>\n",
              "      <td>90.213333</td>\n",
              "      <td>92.083336</td>\n",
              "      <td>93.803329</td>\n",
              "      <td>92.866669</td>\n",
              "      <td>92.760002</td>\n",
              "      <td>89.427780</td>\n",
              "      <td>86.501106</td>\n",
              "      <td>82.110001</td>\n",
              "      <td>87.031105</td>\n",
              "      <td>122.874451</td>\n",
              "      <td>120.017784</td>\n",
              "      <td>121.142220</td>\n",
              "      <td>114.436661</td>\n",
              "      <td>86.411110</td>\n",
              "      <td>85.015564</td>\n",
              "      <td>82.776672</td>\n",
              "      <td>82.696663</td>\n",
              "      <td>84.495560</td>\n",
              "      <td>85.941109</td>\n",
              "      <td>86.566666</td>\n",
              "      <td>87.290001</td>\n",
              "      <td>87.201111</td>\n",
              "      <td>87.021111</td>\n",
              "      <td>88.291115</td>\n",
              "      <td>...</td>\n",
              "      <td>74.854446</td>\n",
              "      <td>86.081116</td>\n",
              "      <td>89.233330</td>\n",
              "      <td>86.241112</td>\n",
              "      <td>78.584450</td>\n",
              "      <td>68.315559</td>\n",
              "      <td>55.758888</td>\n",
              "      <td>40.756668</td>\n",
              "      <td>39.564442</td>\n",
              "      <td>37.871113</td>\n",
              "      <td>38.226669</td>\n",
              "      <td>43.847775</td>\n",
              "      <td>119.507774</td>\n",
              "      <td>123.116669</td>\n",
              "      <td>127.846672</td>\n",
              "      <td>130.752228</td>\n",
              "      <td>133.033325</td>\n",
              "      <td>131.376678</td>\n",
              "      <td>124.027771</td>\n",
              "      <td>110.098892</td>\n",
              "      <td>91.226669</td>\n",
              "      <td>80.250000</td>\n",
              "      <td>72.392227</td>\n",
              "      <td>67.487778</td>\n",
              "      <td>69.146667</td>\n",
              "      <td>68.713333</td>\n",
              "      <td>64.964447</td>\n",
              "      <td>68.543335</td>\n",
              "      <td>70.834442</td>\n",
              "      <td>81.173340</td>\n",
              "      <td>87.276665</td>\n",
              "      <td>87.417786</td>\n",
              "      <td>78.455551</td>\n",
              "      <td>64.776672</td>\n",
              "      <td>48.632225</td>\n",
              "      <td>37.011116</td>\n",
              "      <td>36.873333</td>\n",
              "      <td>41.434448</td>\n",
              "      <td>50.097778</td>\n",
              "      <td>63.225555</td>\n",
              "    </tr>\n",
              "    <tr>\n",
              "      <th>15</th>\n",
              "      <td>146.0</td>\n",
              "      <td>0.261775</td>\n",
              "      <td>0.784575</td>\n",
              "      <td>0.926440</td>\n",
              "      <td>1.000000</td>\n",
              "      <td>0.668418</td>\n",
              "      <td>0.031526</td>\n",
              "      <td>0.556952</td>\n",
              "      <td>0.257459</td>\n",
              "      <td>0.000000</td>\n",
              "      <td>0.000000</td>\n",
              "      <td>0.000000</td>\n",
              "      <td>0.000000</td>\n",
              "      <td>0.000000</td>\n",
              "      <td>0.000000</td>\n",
              "      <td>0.044661</td>\n",
              "      <td>0.028898</td>\n",
              "      <td>0.000000</td>\n",
              "      <td>0.210171</td>\n",
              "      <td>0.157628</td>\n",
              "      <td>0.000000</td>\n",
              "      <td>0.000000</td>\n",
              "      <td>0.165885</td>\n",
              "      <td>0.102083</td>\n",
              "      <td>0.044661</td>\n",
              "      <td>0.000000</td>\n",
              "      <td>0.000000</td>\n",
              "      <td>0.000000</td>\n",
              "      <td>0.000000</td>\n",
              "      <td>0.224995</td>\n",
              "      <td>0.600676</td>\n",
              "      <td>0.377744</td>\n",
              "      <td>0.855132</td>\n",
              "      <td>0.668043</td>\n",
              "      <td>0.200038</td>\n",
              "      <td>0.091950</td>\n",
              "      <td>0.082192</td>\n",
              "      <td>0.082192</td>\n",
              "      <td>0.118972</td>\n",
              "      <td>0.168887</td>\n",
              "      <td>...</td>\n",
              "      <td>44.997372</td>\n",
              "      <td>54.690750</td>\n",
              "      <td>59.010136</td>\n",
              "      <td>49.394447</td>\n",
              "      <td>15.211859</td>\n",
              "      <td>0.956652</td>\n",
              "      <td>0.246575</td>\n",
              "      <td>0.000000</td>\n",
              "      <td>0.000000</td>\n",
              "      <td>0.000000</td>\n",
              "      <td>0.000000</td>\n",
              "      <td>0.000000</td>\n",
              "      <td>140.114090</td>\n",
              "      <td>143.048599</td>\n",
              "      <td>140.275665</td>\n",
              "      <td>136.140930</td>\n",
              "      <td>122.615692</td>\n",
              "      <td>113.107712</td>\n",
              "      <td>54.353348</td>\n",
              "      <td>33.776131</td>\n",
              "      <td>36.923061</td>\n",
              "      <td>37.142616</td>\n",
              "      <td>33.402889</td>\n",
              "      <td>22.632013</td>\n",
              "      <td>20.298929</td>\n",
              "      <td>22.909552</td>\n",
              "      <td>30.991745</td>\n",
              "      <td>39.382809</td>\n",
              "      <td>45.995308</td>\n",
              "      <td>53.834675</td>\n",
              "      <td>55.371178</td>\n",
              "      <td>40.176956</td>\n",
              "      <td>7.193470</td>\n",
              "      <td>0.806906</td>\n",
              "      <td>0.151998</td>\n",
              "      <td>0.000000</td>\n",
              "      <td>0.000000</td>\n",
              "      <td>0.000000</td>\n",
              "      <td>0.000000</td>\n",
              "      <td>0.000000</td>\n",
              "    </tr>\n",
              "  </tbody>\n",
              "</table>\n",
              "<p>5 rows × 785 columns</p>\n",
              "</div>"
            ],
            "text/plain": [
              "    Width          0          1  ...         781         782         783\n",
              "3   180.0  31.674572  34.286423  ...  116.056305  128.465683  140.763474\n",
              "7   135.0  31.798899  32.345951  ...    0.816845    0.013992    0.721920\n",
              "29  122.0  16.843321  18.071484  ...   97.373291  102.479973  108.003220\n",
              "9   120.0  87.041122  86.066673  ...   41.434448   50.097778   63.225555\n",
              "15  146.0   0.261775   0.784575  ...    0.000000    0.000000    0.000000\n",
              "\n",
              "[5 rows x 785 columns]"
            ]
          },
          "metadata": {
            "tags": []
          },
          "execution_count": 17
        }
      ]
    },
    {
      "cell_type": "code",
      "metadata": {
        "id": "4vmhG2LgCabC"
      },
      "source": [
        "Area = np.array(PSD_new['Area'])\n",
        "diam_teste = []\n",
        "for A in Area:\n",
        "  diam_teste.append((4*A/np.pi)**0.5) \n",
        "\n",
        "Diam1 = [ (4*A/np.pi)**0.5 for A in Area]"
      ],
      "execution_count": 18,
      "outputs": []
    },
    {
      "cell_type": "code",
      "metadata": {
        "colab": {
          "base_uri": "https://localhost:8080/",
          "height": 335
        },
        "id": "Vfk_fNXGDK5_",
        "outputId": "647b5ce7-b0a4-4f2c-db07-20714dc3548c"
      },
      "source": [
        "plt.hist([Diam1,Diameter_All],)\n",
        "plt.legend(['Image J','CNN'])"
      ],
      "execution_count": 20,
      "outputs": [
        {
          "output_type": "stream",
          "text": [
            "/usr/local/lib/python3.7/dist-packages/numpy/core/_asarray.py:83: VisibleDeprecationWarning: Creating an ndarray from ragged nested sequences (which is a list-or-tuple of lists-or-tuples-or ndarrays with different lengths or shapes) is deprecated. If you meant to do this, you must specify 'dtype=object' when creating the ndarray\n",
            "  return array(a, dtype, copy=False, order=order)\n"
          ],
          "name": "stderr"
        },
        {
          "output_type": "execute_result",
          "data": {
            "text/plain": [
              "<matplotlib.legend.Legend at 0x7fe9f1a59350>"
            ]
          },
          "metadata": {
            "tags": []
          },
          "execution_count": 20
        },
        {
          "output_type": "display_data",
          "data": {
            "image/png": "[encoded data removed]",
            "text/plain": [
              "<Figure size 432x288 with 1 Axes>"
            ]
          },
          "metadata": {
            "tags": [],
            "needs_background": "light"
          }
        }
      ]
    }
  ]
}