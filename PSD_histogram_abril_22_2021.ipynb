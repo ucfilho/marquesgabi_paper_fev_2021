{
  "nbformat": 4,
  "nbformat_minor": 0,
  "metadata": {
    "colab": {
      "name": "PSD_histogram_abril_22_2021.ipynb",
      "provenance": [],
      "collapsed_sections": [],
      "include_colab_link": true
    },
    "kernelspec": {
      "name": "python3",
      "display_name": "Python 3"
    }
  },
  "cells": [
    {
      "cell_type": "markdown",
      "metadata": {
        "id": "view-in-github",
        "colab_type": "text"
      },
      "source": [
        "<a href=\"https://colab.research.google.com/github/ucfilho/marquesgabi_paper_fev_2021/blob/main/PSD_histogram_abril_22_2021.ipynb\" target=\"_parent\"><img src=\"https://colab.research.google.com/assets/colab-badge.svg\" alt=\"Open In Colab\"/></a>"
      ]
    },
    {
      "cell_type": "code",
      "metadata": {
        "id": "Sog7Z9pyhUD_",
        "colab": {
          "base_uri": "https://localhost:8080/"
        },
        "outputId": "c27f7cdb-9693-4f61-cace-b45146b0a478"
      },
      "source": [
        "import matplotlib.pyplot as plt\n",
        "import numpy as np\n",
        "import cv2\n",
        "import zipfile\n",
        "#import random\n",
        "from random import randint\n",
        "from PIL import Image\n",
        "import re\n",
        "from sklearn.model_selection import train_test_split\n",
        "#import scikit-image\n",
        "import skimage\n",
        "import pandas as pd\n",
        "from sklearn.externals import joblib"
      ],
      "execution_count": 1,
      "outputs": [
        {
          "output_type": "stream",
          "text": [
            "/usr/local/lib/python3.7/dist-packages/sklearn/externals/joblib/__init__.py:15: FutureWarning: sklearn.externals.joblib is deprecated in 0.21 and will be removed in 0.23. Please import this functionality directly from joblib, which can be installed with: pip install joblib. If this warning is raised when loading pickled models, you may need to re-serialize those models with scikit-learn 0.21+.\n",
            "  warnings.warn(msg, category=FutureWarning)\n"
          ],
          "name": "stderr"
        }
      ]
    },
    {
      "cell_type": "code",
      "metadata": {
        "id": "uZEvJvfoibE4",
        "colab": {
          "base_uri": "https://localhost:8080/"
        },
        "outputId": "a534cdca-c515-4c07-a151-199ab611d1e4"
      },
      "source": [
        "!pip install mahotas"
      ],
      "execution_count": 2,
      "outputs": [
        {
          "output_type": "stream",
          "text": [
            "Requirement already satisfied: mahotas in /usr/local/lib/python3.7/dist-packages (1.4.11)\n",
            "Requirement already satisfied: numpy in /usr/local/lib/python3.7/dist-packages (from mahotas) (1.19.5)\n"
          ],
          "name": "stdout"
        }
      ]
    },
    {
      "cell_type": "code",
      "metadata": {
        "id": "nf_a6PJ1iUnT"
      },
      "source": [
        "import mahotas.features.texture as mht\n",
        "import mahotas.features"
      ],
      "execution_count": 3,
      "outputs": []
    },
    {
      "cell_type": "code",
      "metadata": {
        "id": "_VcTdaNVh9EE",
        "colab": {
          "base_uri": "https://localhost:8080/"
        },
        "outputId": "c69594f3-0e5d-4e6e-a9e9-9f6b126ceb97"
      },
      "source": [
        "!git clone https://github.com/ucfilho/marquesgabi_fev_2020 #clonar do Github\n",
        "%cd marquesgabi_fev_2020\n",
        "import Go2BlackWhite\n",
        "import Go2Mahotas"
      ],
      "execution_count": 4,
      "outputs": [
        {
          "output_type": "stream",
          "text": [
            "fatal: destination path 'marquesgabi_fev_2020' already exists and is not an empty directory.\n",
            "/content/marquesgabi_fev_2020\n"
          ],
          "name": "stdout"
        }
      ]
    },
    {
      "cell_type": "code",
      "metadata": {
        "id": "1v7SRrc8mH2N",
        "colab": {
          "base_uri": "https://localhost:8080/"
        },
        "outputId": "5008b053-2390-420a-ed0f-8c36c25d93a9"
      },
      "source": [
        "!git clone https://github.com/marquesgabi/Doutorado\n",
        "%cd Doutorado\n",
        "\n",
        "Transfere='Fotos_Grandes_3cdAmostra.zip'\n",
        "file_name = zipfile.ZipFile(Transfere, 'r')\n",
        "file_name.extractall()"
      ],
      "execution_count": 5,
      "outputs": [
        {
          "output_type": "stream",
          "text": [
            "fatal: destination path 'Doutorado' already exists and is not an empty directory.\n",
            "/content/marquesgabi_fev_2020/Doutorado\n"
          ],
          "name": "stdout"
        }
      ]
    },
    {
      "cell_type": "code",
      "metadata": {
        "id": "0kA4IWSmasoD"
      },
      "source": [
        "Size=1200 # tamanho da foto\n",
        "ww,img_name=Go2BlackWhite.BlackWhite(Transfere,Size) #Pegamos a primeira foto Grande\n",
        "img=ww[0] \n",
        "# this is the big image we want to segment \n",
        "# ww[0], change it if you want to segment another picture"
      ],
      "execution_count": 6,
      "outputs": []
    },
    {
      "cell_type": "code",
      "metadata": {
        "id": "tHgqAnaFyCjp",
        "colab": {
          "base_uri": "https://localhost:8080/"
        },
        "outputId": "2f3325b6-972a-4b8e-aa26-9e75d21b76a4"
      },
      "source": [
        "!git clone https://github.com/ucfilho/MarquesGabi_Routines\n",
        "%cd MarquesGabi_Routines"
      ],
      "execution_count": 7,
      "outputs": [
        {
          "output_type": "stream",
          "text": [
            "fatal: destination path 'MarquesGabi_Routines' already exists and is not an empty directory.\n",
            "/content/marquesgabi_fev_2020/Doutorado/MarquesGabi_Routines\n"
          ],
          "name": "stdout"
        }
      ]
    },
    {
      "cell_type": "code",
      "metadata": {
        "id": "qc4rFvzkyWCi"
      },
      "source": [
        "from segment_filter_not_conclude import Segmenta  # got image provided segmented"
      ],
      "execution_count": 8,
      "outputs": []
    },
    {
      "cell_type": "code",
      "metadata": {
        "id": "SnTtH3KDP863"
      },
      "source": [
        "df=Segmenta(img)\n"
      ],
      "execution_count": 9,
      "outputs": []
    },
    {
      "cell_type": "code",
      "metadata": {
        "id": "YN5MN5a_v4np",
        "colab": {
          "base_uri": "https://localhost:8080/"
        },
        "outputId": "5185777e-b418-466a-e069-1f5b84ba56b7"
      },
      "source": [
        "print(df)"
      ],
      "execution_count": 10,
      "outputs": [
        {
          "output_type": "stream",
          "text": [
            "    Width           0           1  ...         781         782         783\n",
            "0     136  128.716263  133.314026  ...  108.254326   99.762115   81.287201\n",
            "1     186  112.098289  124.064064  ...    4.870274    4.472078    4.854088\n",
            "2     143   88.342758   90.062729  ...    0.000000    0.000000    0.000000\n",
            "3     119   62.193771   53.086502  ...    8.238754    8.349482    8.570934\n",
            "4     171   59.002537   61.139801  ...    0.654971    0.553469    0.247050\n",
            "5     173   80.309265   89.598984  ...   53.722275   48.317116   43.632027\n",
            "6     127   83.314331   82.188789  ...    7.938806    7.957901    8.761671\n",
            "7     170   60.751556   53.904774  ...   19.248859   25.007198   25.767891\n",
            "8     157  113.726524  119.929771  ...    0.000000    0.000000    0.000000\n",
            "9     160   82.030624   84.691879  ...   51.284374   31.736874    1.740000\n",
            "10    198   53.874908   54.865623  ...    5.828078    5.772370    5.663810\n",
            "11    200   34.755199   34.215603  ...   95.333199   92.532799   87.271202\n",
            "12    128   92.793945   94.885742  ...   81.104492   83.089844   85.110352\n",
            "13    198   79.908577   78.318535  ...   90.907661   84.638191   77.092850\n",
            "14    179   46.804218   50.045189  ...   26.575762   24.622234   24.510628\n",
            "15    137   49.468380   52.103359  ...    4.284298    1.960200    2.061644\n",
            "16    106    1.471698    2.647917  ...   88.178711   89.778931   91.893562\n",
            "17    168   43.722221   27.111111  ...   45.250000   42.555557   27.250000\n",
            "18    139  112.658035  122.774704  ...    0.000000    0.000000    0.000000\n",
            "19    200   56.777996   55.305603  ...   14.879200    7.492800    0.561200\n",
            "20    155  146.948807  147.060440  ...   43.841461   45.103603   42.840378\n",
            "21    121   25.638960   20.946384  ...   27.246429    7.347449    1.804932\n",
            "22    131   58.869648   58.587723  ...   30.133966   20.915564   17.586271\n",
            "23    112   51.500000   52.812500  ...  143.500000  144.562500  152.937500\n",
            "24    172  132.356415  114.905357  ...   75.688484   38.170364   38.214172\n",
            "25    161   91.342163   97.606804  ...   64.054817   49.400757   47.461246\n",
            "26    117   29.150488   28.245087  ...   31.108700   29.828184   29.235006\n",
            "27    103   60.564232   61.018192  ...   46.092468   80.751915   97.932419\n",
            "28    163   19.383453   87.173279  ...   91.297829   91.786560   82.636345\n",
            "29    120   95.498886   85.027779  ...   45.010002   55.787777   59.966667\n",
            "30    172   77.121147   90.145493  ...  119.460251  121.822617  114.700928\n",
            "31    159   77.567413   75.461578  ...    1.208734    0.743285    0.708714\n",
            "32    140   81.599998   81.040001  ...    7.920000    8.040000    7.720000\n",
            "33    118   37.198792   62.394428  ...  104.602982  104.424011  101.115196\n",
            "34    174   29.920998   31.662573  ...  104.184845   99.500206  101.125259\n",
            "35    170   92.402634   90.286369  ...   50.098965   59.708241   65.309898\n",
            "36    103  115.687607  113.106987  ...   25.795456   22.908474   19.851068\n",
            "37    102  100.250687  101.341026  ...   76.693581   81.305267   83.697433\n",
            "38    200   64.864799   61.961601  ...    7.224400    5.936400    8.025200\n",
            "39    176   79.802162   73.319725  ...    5.160124    0.253616    0.470041\n",
            "40    100   59.220795   59.950401  ...  116.699203  117.841599  118.375992\n",
            "41    168    4.666667    7.055556  ...   77.055557   78.611115   79.277779\n",
            "42    180    1.412346    2.352099  ...   86.335808   87.561981   88.095810\n",
            "43    112   50.000000   53.437500  ...   62.812500   62.375000   63.750000\n",
            "44    134   80.509468   80.608383  ...  103.965248   69.086433   53.159054\n",
            "45    186    4.309631    6.813273  ...  107.841385  102.930641  104.077118\n",
            "46    177  104.723724  107.463432  ...    5.785087    5.863736    5.736825\n",
            "47    195   97.307022   95.353615  ...    5.996187    5.407101    5.040395\n",
            "48    166   58.959503   60.417183  ...    4.156481    0.366091    0.000000\n",
            "49    194   85.150375   88.233604  ...   52.225525   53.989048   65.167702\n",
            "\n",
            "[50 rows x 785 columns]\n"
          ],
          "name": "stdout"
        }
      ]
    },
    {
      "cell_type": "code",
      "metadata": {
        "id": "xzpQ1Pz0fX5L",
        "colab": {
          "base_uri": "https://localhost:8080/"
        },
        "outputId": "69f8f2f5-6550-4473-885a-689d5e660375"
      },
      "source": [
        "!git clone https://github.com/ucfilho/MarquesGabi_Routines\n",
        "%cd MarquesGabi_Routines\n",
        "# filename = 'model_ANN.pkl'\n",
        "filename = 'model_ANN_new.pkl'\n",
        "model = joblib.load(filename)"
      ],
      "execution_count": 11,
      "outputs": [
        {
          "output_type": "stream",
          "text": [
            "fatal: destination path 'MarquesGabi_Routines' already exists and is not an empty directory.\n",
            "/content/marquesgabi_fev_2020/Doutorado/MarquesGabi_Routines/MarquesGabi_Routines\n"
          ],
          "name": "stdout"
        }
      ]
    },
    {
      "cell_type": "code",
      "metadata": {
        "id": "QISvYcJBgWbE",
        "colab": {
          "base_uri": "https://localhost:8080/"
        },
        "outputId": "bc15dabb-f127-4b61-b4ee-81b9b3f49994"
      },
      "source": [
        "cont = 0; num =25\n",
        "img_graos = []\n",
        "Width_new = []\n",
        "img=ww[0] \n",
        "while( cont < num):\n",
        "  df=Segmenta(img)\n",
        "  df_ann =df.copy()\n",
        "  Width = df['Width']\n",
        "  del df_ann['Width']\n",
        "  result = np.array(df_ann)/255\n",
        "  prediction = model.predict(result)\n",
        "  loc_grao =[];k=0\n",
        "  for i in prediction:\n",
        "    if( i == 0):\n",
        "      img_graos.append(df.iloc[k,:])\n",
        "      Width_new.append(Width.iloc[k])\n",
        "      cont = cont + 1\n",
        "    k = k +1\n",
        "img_graos = pd.DataFrame(img_graos)\n",
        "print(img_graos)"
      ],
      "execution_count": 12,
      "outputs": [
        {
          "output_type": "stream",
          "text": [
            "    Width           0           1  ...         781         782         783\n",
            "5   112.0   59.125000   59.437500  ...   91.937500   87.437500   80.687500\n",
            "9   160.0    3.476875    2.741250  ...    0.000000    0.000000    0.000000\n",
            "17  184.0   92.003777   92.127594  ...   40.937141   40.793476   40.622868\n",
            "23  172.0    1.389400    0.905895  ...   76.699303   77.916718   76.061661\n",
            "44  168.0   51.000000   52.333332  ...    6.555556    6.583333    6.833333\n",
            "4   134.0   54.660065   54.334824  ...   81.544678   41.962578   35.457344\n",
            "20  150.0   53.873596   53.640709  ...   56.908623   57.128357   58.966221\n",
            "32  107.0   43.004890   43.888111  ...  108.413406  105.225868  100.240807\n",
            "45  127.0    2.692789    3.357679  ...   64.731163   67.126472   71.626572\n",
            "16  192.0  108.471779  114.869347  ...   38.780815   35.999565   17.714844\n",
            "22  171.0  101.437248  105.583832  ...   68.736061   79.192680   81.515785\n",
            "24  179.0  101.130241   95.896637  ...   60.834404   67.437408   84.319656\n",
            "33  167.0   73.826103   67.766937  ...   91.428345   86.340858   78.946327\n",
            "14  187.0   37.860592   42.001171  ...   73.171288   73.249359   74.739937\n",
            "33  156.0   20.059172   62.763973  ...   71.397774   72.410255   74.291260\n",
            "7   131.0   47.610222   46.359127  ...   88.074707   73.254524   64.665520\n",
            "24  116.0   64.834717   65.838287  ...  100.739594  100.858498  100.502975\n",
            "36  178.0   99.341759  103.634148  ...  104.038139  112.628342  119.644119\n",
            "45  137.0   18.981085   18.539400  ...   55.833553   64.569283   70.661781\n",
            "47  165.0   91.466599   89.527054  ...   86.733406   85.676620   81.392845\n",
            "0   197.0   98.570625   97.653053  ...    3.113273    1.653637    1.118297\n",
            "15  135.0   88.602570   83.646858  ...   87.321915   84.097397   76.393692\n",
            "30  197.0   98.570625   97.653053  ...    3.113273    1.653637    1.118297\n",
            "1   110.0  103.281654  100.176193  ...  105.881317  108.530907  109.841980\n",
            "37  196.0   63.285713   37.061222  ...    4.000000    0.755102    0.714286\n",
            "\n",
            "[25 rows x 785 columns]\n"
          ],
          "name": "stdout"
        }
      ]
    },
    {
      "cell_type": "code",
      "metadata": {
        "id": "6LkA4vHp-f6_"
      },
      "source": [
        "Width=np.array(Width_new)"
      ],
      "execution_count": 13,
      "outputs": []
    },
    {
      "cell_type": "code",
      "metadata": {
        "colab": {
          "base_uri": "https://localhost:8080/"
        },
        "id": "MjRbWgmX_LFH",
        "outputId": "02f55f6a-aa79-4be4-842a-37f476ac4cbc"
      },
      "source": [
        "!git clone https://github.com/ucfilho/marquesgabi_paper_fev_2021\n",
        "%cd marquesgabi_paper_fev_2021\n",
        "\n",
        "from Get_PSDArea_New import PSDArea\n",
        "from histogram_fev_2021 import PSD\n",
        "from GetBetterSegm import GetBetter"
      ],
      "execution_count": 14,
      "outputs": [
        {
          "output_type": "stream",
          "text": [
            "fatal: destination path 'marquesgabi_paper_fev_2021' already exists and is not an empty directory.\n",
            "/content/marquesgabi_fev_2020/Doutorado/MarquesGabi_Routines/MarquesGabi_Routines/marquesgabi_paper_fev_2021\n"
          ],
          "name": "stdout"
        }
      ]
    },
    {
      "cell_type": "code",
      "metadata": {
        "colab": {
          "base_uri": "https://localhost:8080/"
        },
        "id": "WAG_I6FwCvFr",
        "outputId": "8acf1dd9-4d4d-4249-de48-25e94b842a33"
      },
      "source": [
        "!git clone https://github.com/ucfilho/marquesgabi_out_2020\n",
        "%cd marquesgabi_out_2020\n",
        "PSD_imageJ = 'Areas_ImageJ.csv'\n",
        "PSD_new = pd.read_csv(PSD_imageJ)\n",
        "print(PSD_new.head(3))"
      ],
      "execution_count": 15,
      "outputs": [
        {
          "output_type": "stream",
          "text": [
            "fatal: destination path 'marquesgabi_out_2020' already exists and is not an empty directory.\n",
            "/content/marquesgabi_fev_2020/Doutorado/MarquesGabi_Routines/MarquesGabi_Routines/marquesgabi_paper_fev_2021/marquesgabi_out_2020\n",
            "   Juntas   Area\n",
            "0       1  2.001\n",
            "1       2  0.820\n",
            "2       3  1.270\n"
          ],
          "name": "stdout"
        }
      ]
    },
    {
      "cell_type": "code",
      "metadata": {
        "id": "t_1WIM8w7poO"
      },
      "source": [
        "Area_All, Diameter_All=PSDArea(img_graos) "
      ],
      "execution_count": 16,
      "outputs": []
    },
    {
      "cell_type": "code",
      "metadata": {
        "colab": {
          "base_uri": "https://localhost:8080/",
          "height": 244
        },
        "id": "PekBHQOT_6CP",
        "outputId": "7dbf1874-4792-482a-cc95-61f2e04c13d5"
      },
      "source": [
        "img_graos.head()"
      ],
      "execution_count": 17,
      "outputs": [
        {
          "output_type": "execute_result",
          "data": {
            "text/html": [
              "<div>\n",
              "<style scoped>\n",
              "    .dataframe tbody tr th:only-of-type {\n",
              "        vertical-align: middle;\n",
              "    }\n",
              "\n",
              "    .dataframe tbody tr th {\n",
              "        vertical-align: top;\n",
              "    }\n",
              "\n",
              "    .dataframe thead th {\n",
              "        text-align: right;\n",
              "    }\n",
              "</style>\n",
              "<table border=\"1\" class=\"dataframe\">\n",
              "  <thead>\n",
              "    <tr style=\"text-align: right;\">\n",
              "      <th></th>\n",
              "      <th>Width</th>\n",
              "      <th>0</th>\n",
              "      <th>1</th>\n",
              "      <th>2</th>\n",
              "      <th>3</th>\n",
              "      <th>4</th>\n",
              "      <th>5</th>\n",
              "      <th>6</th>\n",
              "      <th>7</th>\n",
              "      <th>8</th>\n",
              "      <th>9</th>\n",
              "      <th>10</th>\n",
              "      <th>11</th>\n",
              "      <th>12</th>\n",
              "      <th>13</th>\n",
              "      <th>14</th>\n",
              "      <th>15</th>\n",
              "      <th>16</th>\n",
              "      <th>17</th>\n",
              "      <th>18</th>\n",
              "      <th>19</th>\n",
              "      <th>20</th>\n",
              "      <th>21</th>\n",
              "      <th>22</th>\n",
              "      <th>23</th>\n",
              "      <th>24</th>\n",
              "      <th>25</th>\n",
              "      <th>26</th>\n",
              "      <th>27</th>\n",
              "      <th>28</th>\n",
              "      <th>29</th>\n",
              "      <th>30</th>\n",
              "      <th>31</th>\n",
              "      <th>32</th>\n",
              "      <th>33</th>\n",
              "      <th>34</th>\n",
              "      <th>35</th>\n",
              "      <th>36</th>\n",
              "      <th>37</th>\n",
              "      <th>38</th>\n",
              "      <th>...</th>\n",
              "      <th>744</th>\n",
              "      <th>745</th>\n",
              "      <th>746</th>\n",
              "      <th>747</th>\n",
              "      <th>748</th>\n",
              "      <th>749</th>\n",
              "      <th>750</th>\n",
              "      <th>751</th>\n",
              "      <th>752</th>\n",
              "      <th>753</th>\n",
              "      <th>754</th>\n",
              "      <th>755</th>\n",
              "      <th>756</th>\n",
              "      <th>757</th>\n",
              "      <th>758</th>\n",
              "      <th>759</th>\n",
              "      <th>760</th>\n",
              "      <th>761</th>\n",
              "      <th>762</th>\n",
              "      <th>763</th>\n",
              "      <th>764</th>\n",
              "      <th>765</th>\n",
              "      <th>766</th>\n",
              "      <th>767</th>\n",
              "      <th>768</th>\n",
              "      <th>769</th>\n",
              "      <th>770</th>\n",
              "      <th>771</th>\n",
              "      <th>772</th>\n",
              "      <th>773</th>\n",
              "      <th>774</th>\n",
              "      <th>775</th>\n",
              "      <th>776</th>\n",
              "      <th>777</th>\n",
              "      <th>778</th>\n",
              "      <th>779</th>\n",
              "      <th>780</th>\n",
              "      <th>781</th>\n",
              "      <th>782</th>\n",
              "      <th>783</th>\n",
              "    </tr>\n",
              "  </thead>\n",
              "  <tbody>\n",
              "    <tr>\n",
              "      <th>5</th>\n",
              "      <td>112.0</td>\n",
              "      <td>59.125000</td>\n",
              "      <td>59.437500</td>\n",
              "      <td>60.750000</td>\n",
              "      <td>62.812500</td>\n",
              "      <td>65.437500</td>\n",
              "      <td>67.625000</td>\n",
              "      <td>68.312500</td>\n",
              "      <td>68.562500</td>\n",
              "      <td>74.562500</td>\n",
              "      <td>84.500000</td>\n",
              "      <td>94.875000</td>\n",
              "      <td>99.437500</td>\n",
              "      <td>91.687500</td>\n",
              "      <td>79.250000</td>\n",
              "      <td>78.562500</td>\n",
              "      <td>77.125000</td>\n",
              "      <td>76.875000</td>\n",
              "      <td>74.625000</td>\n",
              "      <td>73.687500</td>\n",
              "      <td>75.437500</td>\n",
              "      <td>74.812500</td>\n",
              "      <td>76.312500</td>\n",
              "      <td>76.812500</td>\n",
              "      <td>75.562500</td>\n",
              "      <td>71.437500</td>\n",
              "      <td>68.125000</td>\n",
              "      <td>67.250000</td>\n",
              "      <td>64.687500</td>\n",
              "      <td>55.500000</td>\n",
              "      <td>55.937500</td>\n",
              "      <td>58.437500</td>\n",
              "      <td>60.875000</td>\n",
              "      <td>61.562500</td>\n",
              "      <td>65.187500</td>\n",
              "      <td>67.687500</td>\n",
              "      <td>66.812500</td>\n",
              "      <td>72.000000</td>\n",
              "      <td>81.625000</td>\n",
              "      <td>91.687500</td>\n",
              "      <td>...</td>\n",
              "      <td>102.000000</td>\n",
              "      <td>100.937500</td>\n",
              "      <td>100.562500</td>\n",
              "      <td>98.625000</td>\n",
              "      <td>99.875000</td>\n",
              "      <td>102.125000</td>\n",
              "      <td>103.375000</td>\n",
              "      <td>100.500000</td>\n",
              "      <td>96.500000</td>\n",
              "      <td>94.625000</td>\n",
              "      <td>92.000000</td>\n",
              "      <td>90.562500</td>\n",
              "      <td>69.062500</td>\n",
              "      <td>69.687500</td>\n",
              "      <td>76.375000</td>\n",
              "      <td>81.812500</td>\n",
              "      <td>103.812500</td>\n",
              "      <td>126.625000</td>\n",
              "      <td>145.187500</td>\n",
              "      <td>92.437500</td>\n",
              "      <td>53.812500</td>\n",
              "      <td>80.375000</td>\n",
              "      <td>83.437500</td>\n",
              "      <td>84.750000</td>\n",
              "      <td>85.125000</td>\n",
              "      <td>87.187500</td>\n",
              "      <td>88.687500</td>\n",
              "      <td>89.250000</td>\n",
              "      <td>92.687500</td>\n",
              "      <td>96.750000</td>\n",
              "      <td>99.500000</td>\n",
              "      <td>101.062500</td>\n",
              "      <td>101.937500</td>\n",
              "      <td>104.312500</td>\n",
              "      <td>103.875000</td>\n",
              "      <td>102.875000</td>\n",
              "      <td>96.437500</td>\n",
              "      <td>91.937500</td>\n",
              "      <td>87.437500</td>\n",
              "      <td>80.687500</td>\n",
              "    </tr>\n",
              "    <tr>\n",
              "      <th>9</th>\n",
              "      <td>160.0</td>\n",
              "      <td>3.476875</td>\n",
              "      <td>2.741250</td>\n",
              "      <td>2.086250</td>\n",
              "      <td>3.851250</td>\n",
              "      <td>4.463125</td>\n",
              "      <td>4.924375</td>\n",
              "      <td>5.026249</td>\n",
              "      <td>0.319375</td>\n",
              "      <td>0.180000</td>\n",
              "      <td>3.934375</td>\n",
              "      <td>2.601250</td>\n",
              "      <td>0.013125</td>\n",
              "      <td>0.000000</td>\n",
              "      <td>0.000000</td>\n",
              "      <td>0.000000</td>\n",
              "      <td>0.000000</td>\n",
              "      <td>0.000000</td>\n",
              "      <td>0.000000</td>\n",
              "      <td>0.000000</td>\n",
              "      <td>0.000000</td>\n",
              "      <td>0.000000</td>\n",
              "      <td>0.227500</td>\n",
              "      <td>0.000000</td>\n",
              "      <td>0.000000</td>\n",
              "      <td>0.056875</td>\n",
              "      <td>0.026250</td>\n",
              "      <td>0.000000</td>\n",
              "      <td>0.000000</td>\n",
              "      <td>2.584375</td>\n",
              "      <td>1.974375</td>\n",
              "      <td>1.939375</td>\n",
              "      <td>2.574375</td>\n",
              "      <td>2.066875</td>\n",
              "      <td>3.658750</td>\n",
              "      <td>3.436875</td>\n",
              "      <td>0.078750</td>\n",
              "      <td>0.065000</td>\n",
              "      <td>0.893125</td>\n",
              "      <td>0.848750</td>\n",
              "      <td>...</td>\n",
              "      <td>37.645626</td>\n",
              "      <td>45.162502</td>\n",
              "      <td>55.309376</td>\n",
              "      <td>58.197498</td>\n",
              "      <td>41.945000</td>\n",
              "      <td>4.723125</td>\n",
              "      <td>0.750000</td>\n",
              "      <td>0.000000</td>\n",
              "      <td>0.000000</td>\n",
              "      <td>0.000000</td>\n",
              "      <td>0.000000</td>\n",
              "      <td>0.000000</td>\n",
              "      <td>127.472496</td>\n",
              "      <td>131.928741</td>\n",
              "      <td>138.571884</td>\n",
              "      <td>144.211868</td>\n",
              "      <td>143.088135</td>\n",
              "      <td>139.659363</td>\n",
              "      <td>125.527496</td>\n",
              "      <td>113.559364</td>\n",
              "      <td>46.743752</td>\n",
              "      <td>35.262497</td>\n",
              "      <td>37.310623</td>\n",
              "      <td>36.413124</td>\n",
              "      <td>25.664375</td>\n",
              "      <td>18.471249</td>\n",
              "      <td>18.937498</td>\n",
              "      <td>27.976250</td>\n",
              "      <td>38.334999</td>\n",
              "      <td>46.040001</td>\n",
              "      <td>54.104374</td>\n",
              "      <td>53.041870</td>\n",
              "      <td>29.844374</td>\n",
              "      <td>1.826875</td>\n",
              "      <td>0.505000</td>\n",
              "      <td>0.000000</td>\n",
              "      <td>0.000000</td>\n",
              "      <td>0.000000</td>\n",
              "      <td>0.000000</td>\n",
              "      <td>0.000000</td>\n",
              "    </tr>\n",
              "    <tr>\n",
              "      <th>17</th>\n",
              "      <td>184.0</td>\n",
              "      <td>92.003777</td>\n",
              "      <td>92.127594</td>\n",
              "      <td>88.908302</td>\n",
              "      <td>88.662094</td>\n",
              "      <td>100.844978</td>\n",
              "      <td>107.148376</td>\n",
              "      <td>99.926262</td>\n",
              "      <td>73.953201</td>\n",
              "      <td>39.147446</td>\n",
              "      <td>16.767014</td>\n",
              "      <td>5.043478</td>\n",
              "      <td>1.300567</td>\n",
              "      <td>0.717391</td>\n",
              "      <td>0.460775</td>\n",
              "      <td>0.023157</td>\n",
              "      <td>0.000000</td>\n",
              "      <td>0.000000</td>\n",
              "      <td>0.043478</td>\n",
              "      <td>1.172968</td>\n",
              "      <td>1.921077</td>\n",
              "      <td>3.743384</td>\n",
              "      <td>3.948015</td>\n",
              "      <td>3.210302</td>\n",
              "      <td>3.553402</td>\n",
              "      <td>4.017013</td>\n",
              "      <td>4.206521</td>\n",
              "      <td>4.543005</td>\n",
              "      <td>4.452268</td>\n",
              "      <td>95.843094</td>\n",
              "      <td>97.003761</td>\n",
              "      <td>95.508972</td>\n",
              "      <td>93.120506</td>\n",
              "      <td>100.302917</td>\n",
              "      <td>110.843094</td>\n",
              "      <td>116.008499</td>\n",
              "      <td>109.357269</td>\n",
              "      <td>92.658791</td>\n",
              "      <td>75.591675</td>\n",
              "      <td>57.579865</td>\n",
              "      <td>...</td>\n",
              "      <td>135.262268</td>\n",
              "      <td>139.298676</td>\n",
              "      <td>143.918213</td>\n",
              "      <td>124.069458</td>\n",
              "      <td>86.456039</td>\n",
              "      <td>58.724003</td>\n",
              "      <td>42.559071</td>\n",
              "      <td>41.469276</td>\n",
              "      <td>42.025040</td>\n",
              "      <td>42.302929</td>\n",
              "      <td>41.004723</td>\n",
              "      <td>39.785915</td>\n",
              "      <td>40.163509</td>\n",
              "      <td>58.258499</td>\n",
              "      <td>64.991013</td>\n",
              "      <td>67.736290</td>\n",
              "      <td>68.950371</td>\n",
              "      <td>68.771263</td>\n",
              "      <td>64.695648</td>\n",
              "      <td>42.088371</td>\n",
              "      <td>19.670130</td>\n",
              "      <td>21.473532</td>\n",
              "      <td>56.897915</td>\n",
              "      <td>88.670593</td>\n",
              "      <td>100.277870</td>\n",
              "      <td>106.654991</td>\n",
              "      <td>112.789696</td>\n",
              "      <td>124.919647</td>\n",
              "      <td>134.261322</td>\n",
              "      <td>137.432404</td>\n",
              "      <td>139.367188</td>\n",
              "      <td>114.312843</td>\n",
              "      <td>88.505188</td>\n",
              "      <td>55.841202</td>\n",
              "      <td>42.216915</td>\n",
              "      <td>40.532135</td>\n",
              "      <td>41.071831</td>\n",
              "      <td>40.937141</td>\n",
              "      <td>40.793476</td>\n",
              "      <td>40.622868</td>\n",
              "    </tr>\n",
              "    <tr>\n",
              "      <th>23</th>\n",
              "      <td>172.0</td>\n",
              "      <td>1.389400</td>\n",
              "      <td>0.905895</td>\n",
              "      <td>0.833424</td>\n",
              "      <td>0.857761</td>\n",
              "      <td>0.798810</td>\n",
              "      <td>1.365603</td>\n",
              "      <td>3.590049</td>\n",
              "      <td>4.822607</td>\n",
              "      <td>5.628988</td>\n",
              "      <td>12.618714</td>\n",
              "      <td>18.351002</td>\n",
              "      <td>19.700378</td>\n",
              "      <td>14.429963</td>\n",
              "      <td>7.645754</td>\n",
              "      <td>4.010276</td>\n",
              "      <td>3.347215</td>\n",
              "      <td>2.530557</td>\n",
              "      <td>2.405084</td>\n",
              "      <td>1.387777</td>\n",
              "      <td>1.083288</td>\n",
              "      <td>0.681990</td>\n",
              "      <td>0.807464</td>\n",
              "      <td>0.998378</td>\n",
              "      <td>0.821525</td>\n",
              "      <td>0.782044</td>\n",
              "      <td>2.597620</td>\n",
              "      <td>4.118984</td>\n",
              "      <td>5.653327</td>\n",
              "      <td>1.636020</td>\n",
              "      <td>1.381287</td>\n",
              "      <td>1.261222</td>\n",
              "      <td>1.330449</td>\n",
              "      <td>1.886425</td>\n",
              "      <td>2.649000</td>\n",
              "      <td>4.639265</td>\n",
              "      <td>13.335317</td>\n",
              "      <td>29.199026</td>\n",
              "      <td>41.731750</td>\n",
              "      <td>46.433754</td>\n",
              "      <td>...</td>\n",
              "      <td>51.383991</td>\n",
              "      <td>49.460796</td>\n",
              "      <td>48.609524</td>\n",
              "      <td>49.468361</td>\n",
              "      <td>49.742561</td>\n",
              "      <td>57.231480</td>\n",
              "      <td>75.753922</td>\n",
              "      <td>78.534348</td>\n",
              "      <td>78.940514</td>\n",
              "      <td>78.829651</td>\n",
              "      <td>77.023254</td>\n",
              "      <td>74.844238</td>\n",
              "      <td>60.943752</td>\n",
              "      <td>60.537590</td>\n",
              "      <td>62.139000</td>\n",
              "      <td>64.499733</td>\n",
              "      <td>66.326668</td>\n",
              "      <td>64.230400</td>\n",
              "      <td>58.192539</td>\n",
              "      <td>49.737698</td>\n",
              "      <td>47.887505</td>\n",
              "      <td>48.520824</td>\n",
              "      <td>51.346676</td>\n",
              "      <td>52.460255</td>\n",
              "      <td>49.979996</td>\n",
              "      <td>48.090858</td>\n",
              "      <td>47.015144</td>\n",
              "      <td>46.332077</td>\n",
              "      <td>48.886425</td>\n",
              "      <td>46.489456</td>\n",
              "      <td>48.271496</td>\n",
              "      <td>49.762577</td>\n",
              "      <td>53.183884</td>\n",
              "      <td>59.243378</td>\n",
              "      <td>73.439697</td>\n",
              "      <td>80.149269</td>\n",
              "      <td>78.586258</td>\n",
              "      <td>76.699303</td>\n",
              "      <td>77.916718</td>\n",
              "      <td>76.061661</td>\n",
              "    </tr>\n",
              "    <tr>\n",
              "      <th>44</th>\n",
              "      <td>168.0</td>\n",
              "      <td>51.000000</td>\n",
              "      <td>52.333332</td>\n",
              "      <td>54.611111</td>\n",
              "      <td>57.583332</td>\n",
              "      <td>62.861111</td>\n",
              "      <td>65.916664</td>\n",
              "      <td>67.194443</td>\n",
              "      <td>69.472221</td>\n",
              "      <td>92.111115</td>\n",
              "      <td>110.166664</td>\n",
              "      <td>107.138893</td>\n",
              "      <td>96.305557</td>\n",
              "      <td>90.250000</td>\n",
              "      <td>92.888893</td>\n",
              "      <td>93.000000</td>\n",
              "      <td>94.277779</td>\n",
              "      <td>94.472221</td>\n",
              "      <td>95.305557</td>\n",
              "      <td>98.194443</td>\n",
              "      <td>101.972221</td>\n",
              "      <td>103.444443</td>\n",
              "      <td>76.361115</td>\n",
              "      <td>25.166666</td>\n",
              "      <td>16.833334</td>\n",
              "      <td>31.166666</td>\n",
              "      <td>69.694443</td>\n",
              "      <td>84.611115</td>\n",
              "      <td>88.638893</td>\n",
              "      <td>52.000000</td>\n",
              "      <td>37.611111</td>\n",
              "      <td>34.555557</td>\n",
              "      <td>43.694447</td>\n",
              "      <td>45.166668</td>\n",
              "      <td>40.138889</td>\n",
              "      <td>36.444447</td>\n",
              "      <td>36.027779</td>\n",
              "      <td>67.666664</td>\n",
              "      <td>112.305557</td>\n",
              "      <td>118.555557</td>\n",
              "      <td>...</td>\n",
              "      <td>0.361111</td>\n",
              "      <td>0.416667</td>\n",
              "      <td>0.666667</td>\n",
              "      <td>0.666667</td>\n",
              "      <td>0.555556</td>\n",
              "      <td>0.500000</td>\n",
              "      <td>0.500000</td>\n",
              "      <td>0.500000</td>\n",
              "      <td>0.500000</td>\n",
              "      <td>0.500000</td>\n",
              "      <td>0.500000</td>\n",
              "      <td>0.666667</td>\n",
              "      <td>7.027778</td>\n",
              "      <td>7.722222</td>\n",
              "      <td>7.555556</td>\n",
              "      <td>6.527778</td>\n",
              "      <td>6.361111</td>\n",
              "      <td>6.500000</td>\n",
              "      <td>6.916667</td>\n",
              "      <td>6.250000</td>\n",
              "      <td>6.333333</td>\n",
              "      <td>6.388889</td>\n",
              "      <td>6.111111</td>\n",
              "      <td>5.527778</td>\n",
              "      <td>6.305556</td>\n",
              "      <td>5.583333</td>\n",
              "      <td>6.166667</td>\n",
              "      <td>6.194445</td>\n",
              "      <td>6.333333</td>\n",
              "      <td>5.888889</td>\n",
              "      <td>6.138889</td>\n",
              "      <td>6.388889</td>\n",
              "      <td>6.416667</td>\n",
              "      <td>6.722222</td>\n",
              "      <td>6.638889</td>\n",
              "      <td>6.722222</td>\n",
              "      <td>6.527778</td>\n",
              "      <td>6.555556</td>\n",
              "      <td>6.583333</td>\n",
              "      <td>6.833333</td>\n",
              "    </tr>\n",
              "  </tbody>\n",
              "</table>\n",
              "<p>5 rows × 785 columns</p>\n",
              "</div>"
            ],
            "text/plain": [
              "    Width          0          1  ...        781        782        783\n",
              "5   112.0  59.125000  59.437500  ...  91.937500  87.437500  80.687500\n",
              "9   160.0   3.476875   2.741250  ...   0.000000   0.000000   0.000000\n",
              "17  184.0  92.003777  92.127594  ...  40.937141  40.793476  40.622868\n",
              "23  172.0   1.389400   0.905895  ...  76.699303  77.916718  76.061661\n",
              "44  168.0  51.000000  52.333332  ...   6.555556   6.583333   6.833333\n",
              "\n",
              "[5 rows x 785 columns]"
            ]
          },
          "metadata": {
            "tags": []
          },
          "execution_count": 17
        }
      ]
    },
    {
      "cell_type": "code",
      "metadata": {
        "id": "4vmhG2LgCabC"
      },
      "source": [
        "Area = np.array(PSD_new['Area'])\n",
        "diam_teste = []\n",
        "for A in Area:\n",
        "  diam_teste.append((4*A/np.pi)**0.5) \n",
        "\n",
        "Diam1 = [ (4*A/np.pi)**0.5 for A in Area]"
      ],
      "execution_count": 18,
      "outputs": []
    },
    {
      "cell_type": "code",
      "metadata": {
        "colab": {
          "base_uri": "https://localhost:8080/",
          "height": 282
        },
        "id": "Vfk_fNXGDK5_",
        "outputId": "91f9321b-a61a-41bc-d2b0-1a2763e95730"
      },
      "source": [
        " wt1 = np.ones(len(Diam1)) / len(Diam1)*100\n",
        " wt2 = np.ones(len(Diameter_All)) / len(Diameter_All)*100\n",
        " X = pd.DataFrame([Diam1,Diameter_All])\n",
        " wts = pd.DataFrame([wt1,wt2])\n",
        "plt.hist(X,weights=wts)\n",
        "plt.legend(['Image J','CNN'])"
      ],
      "execution_count": 19,
      "outputs": [
        {
          "output_type": "execute_result",
          "data": {
            "text/plain": [
              "<matplotlib.legend.Legend at 0x7f975304c5d0>"
            ]
          },
          "metadata": {
            "tags": []
          },
          "execution_count": 19
        },
        {
          "output_type": "display_data",
          "data": {
            "image/png": "[encoded data removed]",
            "text/plain": [
              "<Figure size 432x288 with 1 Axes>"
            ]
          },
          "metadata": {
            "tags": [],
            "needs_background": "light"
          }
        }
      ]
    },
    {
      "cell_type": "code",
      "metadata": {
        "colab": {
          "base_uri": "https://localhost:8080/",
          "height": 335
        },
        "id": "KcH52-6iJQ8t",
        "outputId": "3612d477-5f0f-43a9-a7e1-c77ba8881954"
      },
      "source": [
        "\n",
        "plt.hist([Diam1,Diameter_All])\n",
        "plt.legend(['Image J','CNN'])\n"
      ],
      "execution_count": 21,
      "outputs": [
        {
          "output_type": "stream",
          "text": [
            "/usr/local/lib/python3.7/dist-packages/numpy/core/_asarray.py:83: VisibleDeprecationWarning: Creating an ndarray from ragged nested sequences (which is a list-or-tuple of lists-or-tuples-or ndarrays with different lengths or shapes) is deprecated. If you meant to do this, you must specify 'dtype=object' when creating the ndarray\n",
            "  return array(a, dtype, copy=False, order=order)\n"
          ],
          "name": "stderr"
        },
        {
          "output_type": "execute_result",
          "data": {
            "text/plain": [
              "<matplotlib.legend.Legend at 0x7f9749c5db50>"
            ]
          },
          "metadata": {
            "tags": []
          },
          "execution_count": 21
        },
        {
          "output_type": "display_data",
          "data": {
            "image/png": "[encoded data removed]",
            "text/plain": [
              "<Figure size 432x288 with 1 Axes>"
            ]
          },
          "metadata": {
            "tags": [],
            "needs_background": "light"
          }
        }
      ]
    },
    {
      "cell_type": "code",
      "metadata": {
        "colab": {
          "base_uri": "https://localhost:8080/"
        },
        "id": "r11AxFK_JIii",
        "outputId": "94e71866-186a-4c4d-95d3-d93077f3e4c9"
      },
      "source": [
        "[Diam1,Diameter_All]"
      ],
      "execution_count": 20,
      "outputs": [
        {
          "output_type": "execute_result",
          "data": {
            "text/plain": [
              "[[1.59616801403081,\n",
              "  1.0217907939900581,\n",
              "  1.2716187407449044,\n",
              "  1.104429030701514,\n",
              "  1.2163487785097904,\n",
              "  1.6013445735058454,\n",
              "  1.1715597420637607,\n",
              "  1.2534662333717612,\n",
              "  1.2676073151634049,\n",
              "  1.309600575274104,\n",
              "  1.292966945531582,\n",
              "  1.7658322811231006,\n",
              "  1.3564037533648712,\n",
              "  1.2407040781688483,\n",
              "  2.130217298173151,\n",
              "  1.4228319915327,\n",
              "  1.0651086490865755,\n",
              "  1.3008210311003705,\n",
              "  1.336545951796433,\n",
              "  0.8927754224911278,\n",
              "  1.4494292838262302,\n",
              "  1.4052738287907582,\n",
              "  1.6421697097891788,\n",
              "  1.2329833804288621,\n",
              "  1.19042665178928,\n",
              "  1.1682948223612457,\n",
              "  1.1518314137121108,\n",
              "  0.9607802401865855,\n",
              "  2.317439190074449,\n",
              "  1.0591147430338594,\n",
              "  1.4308630919602832,\n",
              "  0.7535680705496237,\n",
              "  0.8608283307581511,\n",
              "  1.2776122636975893,\n",
              "  1.3745862957220916,\n",
              "  1.259546137598783,\n",
              "  1.2978813187979172,\n",
              "  1.2412170838050638,\n",
              "  1.6009469708743893,\n",
              "  1.3149369953539032,\n",
              "  1.417901703622935,\n",
              "  1.2478669653497139,\n",
              "  1.1055812783082735,\n",
              "  0.9561307405997607,\n",
              "  0.9487783503683882,\n",
              "  1.1238565871041026,\n",
              "  1.2058356273089446,\n",
              "  1.2801012827406097,\n",
              "  0.8733100751144249,\n",
              "  0.9194732501297403,\n",
              "  1.6425573339441792,\n",
              "  1.085826790250066,\n",
              "  1.0639125693728595,\n",
              "  1.0875842666474016,\n",
              "  1.417901703622935,\n",
              "  1.550443891425932,\n",
              "  0.7825779328716171,\n",
              "  1.4690612745308145,\n",
              "  1.053086721720641,\n",
              "  1.2676073151634049,\n",
              "  0.7744003006005755,\n",
              "  1.3787482149724068,\n",
              "  1.363892581861956,\n",
              "  1.299352006316543,\n",
              "  1.2870449283923413,\n",
              "  1.11817763925502,\n",
              "  0.9474354220939228,\n",
              "  1.5218484589055707,\n",
              "  1.3526437911676632,\n",
              "  1.1556938532445284,\n",
              "  1.6013445735058454,\n",
              "  1.274619025074578,\n",
              "  1.422384489715834,\n",
              "  1.3408259533459403,\n",
              "  1.172646028567008,\n",
              "  1.1490645795125545,\n",
              "  1.459060149136146,\n",
              "  1.2483770274864237,\n",
              "  1.336545951796433,\n",
              "  0.9601174044814821,\n",
              "  1.4867225193896279,\n",
              "  1.4277452542806772,\n",
              "  1.35028849808504,\n",
              "  0.7560982446653928,\n",
              "  1.259040600296622,\n",
              "  1.13456827900627,\n",
              "  1.6549133695530214,\n",
              "  1.1204526724091788,\n",
              "  1.1176081573544434,\n",
              "  0.9153095762832032,\n",
              "  1.1639273497938836,\n",
              "  1.3066806149514323,\n",
              "  1.1529362882239027,\n",
              "  1.3047303442899274,\n",
              "  1.3066806149514323],\n",
              " [0.807578597090005,\n",
              "  1.2411102704798136,\n",
              "  1.5146719823772987,\n",
              "  1.364083184363135,\n",
              "  1.4105052733004246,\n",
              "  1.04947288528523,\n",
              "  1.2060670373609623,\n",
              "  0.6643967815163889,\n",
              "  0.8878747979454749,\n",
              "  1.9869810288340606,\n",
              "  1.337125224039381,\n",
              "  1.4392399979174149,\n",
              "  1.3668058835192614,\n",
              "  1.489915209970895,\n",
              "  1.3312865569219583,\n",
              "  1.0029186111925548,\n",
              "  0.879184745932687,\n",
              "  1.3851963674230194,\n",
              "  1.0797595548604713,\n",
              "  1.3641076660684612,\n",
              "  1.8583840669856624,\n",
              "  0.8673868746855342,\n",
              "  1.8583840669856624,\n",
              "  0.8322954060764471,\n",
              "  1.922342169550516]]"
            ]
          },
          "metadata": {
            "tags": []
          },
          "execution_count": 20
        }
      ]
    }
  ]
}