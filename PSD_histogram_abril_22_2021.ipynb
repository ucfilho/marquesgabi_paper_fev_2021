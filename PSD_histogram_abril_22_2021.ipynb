{
  "nbformat": 4,
  "nbformat_minor": 0,
  "metadata": {
    "colab": {
      "name": "PSD_histogram_abril_22_2021.ipynb",
      "provenance": [],
      "collapsed_sections": [],
      "include_colab_link": true
    },
    "kernelspec": {
      "name": "python3",
      "display_name": "Python 3"
    }
  },
  "cells": [
    {
      "cell_type": "markdown",
      "metadata": {
        "id": "view-in-github",
        "colab_type": "text"
      },
      "source": [
        "<a href=\"https://colab.research.google.com/github/ucfilho/marquesgabi_paper_fev_2021/blob/main/PSD_histogram_abril_22_2021.ipynb\" target=\"_parent\"><img src=\"https://colab.research.google.com/assets/colab-badge.svg\" alt=\"Open In Colab\"/></a>"
      ]
    },
    {
      "cell_type": "code",
      "metadata": {
        "id": "Sog7Z9pyhUD_",
        "colab": {
          "base_uri": "https://localhost:8080/"
        },
        "outputId": "dcf03b02-16d7-4148-f59c-36cb6eb18dd8"
      },
      "source": [
        "import matplotlib.pyplot as plt\n",
        "import numpy as np\n",
        "import cv2\n",
        "import zipfile\n",
        "#import random\n",
        "from random import randint\n",
        "from PIL import Image\n",
        "import re\n",
        "from sklearn.model_selection import train_test_split\n",
        "#import scikit-image\n",
        "import skimage\n",
        "import pandas as pd\n",
        "from sklearn.externals import joblib"
      ],
      "execution_count": 1,
      "outputs": [
        {
          "output_type": "stream",
          "text": [
            "/usr/local/lib/python3.7/dist-packages/sklearn/externals/joblib/__init__.py:15: FutureWarning: sklearn.externals.joblib is deprecated in 0.21 and will be removed in 0.23. Please import this functionality directly from joblib, which can be installed with: pip install joblib. If this warning is raised when loading pickled models, you may need to re-serialize those models with scikit-learn 0.21+.\n",
            "  warnings.warn(msg, category=FutureWarning)\n"
          ],
          "name": "stderr"
        }
      ]
    },
    {
      "cell_type": "code",
      "metadata": {
        "id": "uZEvJvfoibE4",
        "colab": {
          "base_uri": "https://localhost:8080/"
        },
        "outputId": "13aeacbe-17e9-497e-ef8c-c698fa31736b"
      },
      "source": [
        "!pip install mahotas"
      ],
      "execution_count": 2,
      "outputs": [
        {
          "output_type": "stream",
          "text": [
            "Collecting mahotas\n",
            "\u001b[?25l  Downloading https://files.pythonhosted.org/packages/19/ad/553b246b0a35dccc3ed58dc8889a67124bf5ab858e9c6b7255d56086e70c/mahotas-1.4.11-cp37-cp37m-manylinux2010_x86_64.whl (5.7MB)\n",
            "\u001b[K     |████████████████████████████████| 5.7MB 7.1MB/s \n",
            "\u001b[?25hRequirement already satisfied: numpy in /usr/local/lib/python3.7/dist-packages (from mahotas) (1.19.5)\n",
            "Installing collected packages: mahotas\n",
            "Successfully installed mahotas-1.4.11\n"
          ],
          "name": "stdout"
        }
      ]
    },
    {
      "cell_type": "code",
      "metadata": {
        "id": "nf_a6PJ1iUnT"
      },
      "source": [
        "import mahotas.features.texture as mht\n",
        "import mahotas.features"
      ],
      "execution_count": 3,
      "outputs": []
    },
    {
      "cell_type": "code",
      "metadata": {
        "id": "_VcTdaNVh9EE",
        "colab": {
          "base_uri": "https://localhost:8080/"
        },
        "outputId": "6b88dd37-5d9c-4dcd-8bbc-268e81006913"
      },
      "source": [
        "!git clone https://github.com/ucfilho/marquesgabi_fev_2020 #clonar do Github\n",
        "%cd marquesgabi_fev_2020\n",
        "import Go2BlackWhite\n",
        "import Go2Mahotas"
      ],
      "execution_count": 4,
      "outputs": [
        {
          "output_type": "stream",
          "text": [
            "Cloning into 'marquesgabi_fev_2020'...\n",
            "remote: Enumerating objects: 73, done.\u001b[K\n",
            "remote: Counting objects: 100% (73/73), done.\u001b[K\n",
            "remote: Compressing objects: 100% (71/71), done.\u001b[K\n",
            "remote: Total 73 (delta 37), reused 0 (delta 0), pack-reused 0\u001b[K\n",
            "Unpacking objects: 100% (73/73), done.\n",
            "/content/marquesgabi_fev_2020\n"
          ],
          "name": "stdout"
        }
      ]
    },
    {
      "cell_type": "code",
      "metadata": {
        "id": "1v7SRrc8mH2N",
        "colab": {
          "base_uri": "https://localhost:8080/"
        },
        "outputId": "8be11714-fe7b-4e93-f6a7-0b58df963822"
      },
      "source": [
        "!git clone https://github.com/marquesgabi/Doutorado\n",
        "%cd Doutorado\n",
        "\n",
        "Transfere='Fotos_Grandes_3cdAmostra.zip'\n",
        "file_name = zipfile.ZipFile(Transfere, 'r')\n",
        "file_name.extractall()"
      ],
      "execution_count": 5,
      "outputs": [
        {
          "output_type": "stream",
          "text": [
            "Cloning into 'Doutorado'...\n",
            "remote: Enumerating objects: 308, done.\u001b[K\n",
            "remote: Counting objects: 100% (58/58), done.\u001b[K\n",
            "remote: Compressing objects: 100% (58/58), done.\u001b[K\n",
            "remote: Total 308 (delta 23), reused 0 (delta 0), pack-reused 250\u001b[K\n",
            "Receiving objects: 100% (308/308), 115.76 MiB | 33.65 MiB/s, done.\n",
            "Resolving deltas: 100% (140/140), done.\n",
            "/content/marquesgabi_fev_2020/Doutorado\n"
          ],
          "name": "stdout"
        }
      ]
    },
    {
      "cell_type": "code",
      "metadata": {
        "id": "0kA4IWSmasoD"
      },
      "source": [
        "Size=1200 # tamanho da foto\n",
        "ww,img_name=Go2BlackWhite.BlackWhite(Transfere,Size) #Pegamos a primeira foto Grande\n",
        "img=ww[0] \n",
        "# this is the big image we want to segment \n",
        "# ww[0], change it if you want to segment another picture"
      ],
      "execution_count": 6,
      "outputs": []
    },
    {
      "cell_type": "code",
      "metadata": {
        "id": "tHgqAnaFyCjp",
        "colab": {
          "base_uri": "https://localhost:8080/"
        },
        "outputId": "2d5a44fc-c84f-411f-f8ac-14a015c8da64"
      },
      "source": [
        "!git clone https://github.com/ucfilho/MarquesGabi_Routines\n",
        "%cd MarquesGabi_Routines"
      ],
      "execution_count": 7,
      "outputs": [
        {
          "output_type": "stream",
          "text": [
            "Cloning into 'MarquesGabi_Routines'...\n",
            "remote: Enumerating objects: 71, done.\u001b[K\n",
            "remote: Counting objects: 100% (71/71), done.\u001b[K\n",
            "remote: Compressing objects: 100% (69/69), done.\u001b[K\n",
            "remote: Total 71 (delta 35), reused 0 (delta 0), pack-reused 0\u001b[K\n",
            "Unpacking objects: 100% (71/71), done.\n",
            "/content/marquesgabi_fev_2020/Doutorado/MarquesGabi_Routines\n"
          ],
          "name": "stdout"
        }
      ]
    },
    {
      "cell_type": "code",
      "metadata": {
        "id": "qc4rFvzkyWCi"
      },
      "source": [
        "from segment_filter_not_conclude import Segmenta  # got image provided segmented"
      ],
      "execution_count": 8,
      "outputs": []
    },
    {
      "cell_type": "code",
      "metadata": {
        "id": "SnTtH3KDP863"
      },
      "source": [
        "df=Segmenta(img)\n"
      ],
      "execution_count": 9,
      "outputs": []
    },
    {
      "cell_type": "code",
      "metadata": {
        "id": "YN5MN5a_v4np",
        "colab": {
          "base_uri": "https://localhost:8080/"
        },
        "outputId": "a40f789d-f2bc-4cc4-c0c8-5ec329fa2802"
      },
      "source": [
        "print(df)"
      ],
      "execution_count": 10,
      "outputs": [
        {
          "output_type": "stream",
          "text": [
            "    Width           0           1  ...         781         782         783\n",
            "0     147   80.693878   75.278915  ...  166.213150  160.820877  146.884369\n",
            "1     193   32.943623   37.320011  ...   40.174419   41.386429   44.162605\n",
            "2     180    0.385679    2.412840  ...   87.240990   83.783211   81.361488\n",
            "3     155   90.941437   64.478165  ...   34.592258   36.447289   39.362331\n",
            "4     170   69.891914   74.885399  ...   31.761524   30.380211   30.144361\n",
            "5     158   64.016022   68.620087  ...   95.528282  100.581474  109.282639\n",
            "6     109   30.989813   30.781584  ...   49.405937   47.185333   47.460400\n",
            "7     113    8.809147    9.987000  ...    2.238938    2.350850    2.545853\n",
            "8     180   55.400497   56.846920  ...   71.572350   69.038033   53.556545\n",
            "9     185  133.469086  135.259872  ...   73.800926   68.716843   67.810722\n",
            "10    156   29.553583   48.671268  ...    5.321499    5.629849    5.666667\n",
            "11    147  226.387756  197.349213  ...   88.201813   90.714294   90.437653\n",
            "12    179  102.061111  103.870361  ...   51.691612   51.298435   41.022408\n",
            "13    154  114.760353  118.231415  ...   29.388432   29.231407   51.842979\n",
            "14    174   83.637741   73.475502  ...   74.538651   78.817162   80.517258\n",
            "15    163   88.529869   85.987801  ...   40.066319   39.077385   36.273438\n",
            "16    121   76.778572   75.467041  ...   57.311386   66.344925   94.617989\n",
            "17    168   81.638893   81.777779  ...   68.333336   66.194443   68.611115\n",
            "18    115  128.538284  132.028061  ...   76.700638   74.150238   73.005592\n",
            "19    120    0.000000    0.528889  ...    0.200000    0.000000    0.000000\n",
            "20    170   62.534813   58.400280  ...  148.518921  133.665466   74.685814\n",
            "21    132   69.797066   69.594124  ...   75.216721   76.661163   79.667587\n",
            "22    154   66.388435   60.140495  ...   50.950420   50.504135   48.289257\n",
            "23    161   43.903595   43.824200  ...   89.697548  100.580338  100.780724\n",
            "24    153   73.849983   63.016708  ...   86.804016   86.653389   79.048965\n",
            "25    107   71.760590   71.025497  ...  165.155823  147.625732  118.699890\n",
            "26    182   41.656811   57.715981  ...   91.804741   77.923088   78.834320\n",
            "27    174   98.992477  108.666130  ...   67.144676   80.355263   91.409836\n",
            "28    147   74.639465   73.015869  ...    0.287982    0.000000    0.000000\n",
            "29    178   55.866817   53.701683  ...   87.968323   89.913147   90.533020\n",
            "30    150  107.888542  107.863998  ...    0.000000    0.000000    0.151822\n",
            "31    143   98.718994   90.313210  ...   80.886353   83.809822   90.325928\n",
            "32    152    0.378116    0.198753  ...    0.164127    0.000000    0.000000\n",
            "33    177   65.145676   66.676651  ...    0.000000    0.000000    0.000000\n",
            "34    156  100.996719   98.202515  ...    2.709402    1.587114    1.303748\n",
            "35    129   42.518299   38.669132  ...   28.797131   54.480679   69.986481\n",
            "36    187  111.400955  100.163635  ...   42.742886   25.933113    2.939317\n",
            "37    150   68.572449   69.363556  ...    1.096533    0.974044    0.721244\n",
            "38    161   90.003784   92.332703  ...    6.618148    7.706995    8.735350\n",
            "39    161   43.005672   45.686199  ...  107.638939  106.767487   88.884689\n",
            "40    132   40.094585   36.449959  ...    2.876951    3.301194    3.121212\n",
            "41    154   92.090904   89.661163  ...    1.057851    0.000000    0.000000\n",
            "42    154   89.685951   95.371910  ...   35.454548   36.925621   36.628101\n",
            "43    140  123.519997  116.919998  ...    0.000000    0.000000    0.000000\n",
            "44    152   68.054008   89.067863  ...   70.424515   72.057487   69.541550\n",
            "45    152   17.691135   20.236843  ...   75.567871   80.877419   91.459145\n",
            "46    100   59.011200   59.948803  ...   53.238400   54.777599   55.552002\n",
            "47    187   91.411819   84.027740  ...   61.035263   67.948074   92.135719\n",
            "48    183   96.736595   95.786980  ...    5.676282    5.836842    5.783273\n",
            "49    184   72.210297   73.248573  ...   63.899803   70.513702   73.044891\n",
            "\n",
            "[50 rows x 785 columns]\n"
          ],
          "name": "stdout"
        }
      ]
    },
    {
      "cell_type": "code",
      "metadata": {
        "id": "xzpQ1Pz0fX5L",
        "colab": {
          "base_uri": "https://localhost:8080/"
        },
        "outputId": "82ef93ee-8866-49fe-a2c1-8bec97d55ba1"
      },
      "source": [
        "!git clone https://github.com/ucfilho/MarquesGabi_Routines\n",
        "%cd MarquesGabi_Routines\n",
        "# filename = 'model_ANN.pkl'\n",
        "filename = 'model_ANN_new.pkl'\n",
        "model = joblib.load(filename)"
      ],
      "execution_count": 11,
      "outputs": [
        {
          "output_type": "stream",
          "text": [
            "Cloning into 'MarquesGabi_Routines'...\n",
            "remote: Enumerating objects: 71, done.\u001b[K\n",
            "remote: Counting objects: 100% (71/71), done.\u001b[K\n",
            "remote: Compressing objects: 100% (69/69), done.\u001b[K\n",
            "remote: Total 71 (delta 35), reused 0 (delta 0), pack-reused 0\u001b[K\n",
            "Unpacking objects: 100% (71/71), done.\n",
            "/content/marquesgabi_fev_2020/Doutorado/MarquesGabi_Routines/MarquesGabi_Routines\n"
          ],
          "name": "stdout"
        }
      ]
    },
    {
      "cell_type": "code",
      "metadata": {
        "id": "QISvYcJBgWbE",
        "colab": {
          "base_uri": "https://localhost:8080/"
        },
        "outputId": "4e397eb5-d741-4e14-8dbe-cffd2217c40e"
      },
      "source": [
        "cont = 0; num =25\n",
        "img_graos = []\n",
        "Width_new = []\n",
        "img=ww[0] \n",
        "while( cont < num):\n",
        "  df=Segmenta(img)\n",
        "  df_ann =df.copy()\n",
        "  Width = df['Width']\n",
        "  del df_ann['Width']\n",
        "  result = np.array(df_ann)/255\n",
        "  prediction = model.predict(result)\n",
        "  loc_grao =[];k=0\n",
        "  for i in prediction:\n",
        "    if( i == 0):\n",
        "      img_graos.append(df.iloc[k,:])\n",
        "      Width_new.append(Width.iloc[k])\n",
        "      cont = cont + 1\n",
        "    k = k +1\n",
        "img_graos = pd.DataFrame(img_graos)\n",
        "print(img_graos)"
      ],
      "execution_count": 12,
      "outputs": [
        {
          "output_type": "stream",
          "text": [
            "    Width           0           1  ...         781         782         783\n",
            "6   135.0   82.308472   84.588081  ...   42.183922   48.425678   55.889378\n",
            "15  141.0   77.332176   73.970673  ...   90.999756   84.897591   93.619087\n",
            "18  200.0   70.346794   64.415199  ...   59.788406   80.221207   85.628006\n",
            "10  142.0   54.466179   57.008533  ...   34.264233   74.571510   87.831581\n",
            "13  126.0   38.691357   42.296295  ...   72.716049   74.049385   73.234566\n",
            "33  200.0   56.842003   59.633198  ...   63.698395   56.684803   57.392399\n",
            "13  116.0   87.705109   83.474434  ...   96.870392   82.510101   87.923897\n",
            "24  197.0   98.570625   97.653053  ...    3.113273    1.653637    1.118297\n",
            "29  170.0   87.274887   73.259102  ...   45.929138   44.691490   43.653149\n",
            "46  160.0    0.733125    0.899375  ...   71.543747   72.357498   71.388748\n",
            "2   104.0   54.673084   54.465984  ...   95.852081   94.718948   96.486694\n",
            "4   165.0   73.289658   73.672325  ...  140.087387   64.844849   50.089371\n",
            "21  175.0  104.267181   70.020798  ...   39.985596   40.851196   40.518398\n",
            "33  171.0   75.288879   73.622452  ...   55.509453   50.283127   49.083305\n",
            "42  125.0    0.050176    0.218752  ...    4.346112    0.632704    0.000000\n",
            "5   189.0   57.264751   53.624146  ...    0.475995    0.333333    0.451303\n",
            "8   179.0  150.599274  127.994484  ...   45.742580   57.612907   59.839493\n",
            "37  113.0   93.888405   93.982544  ...   98.637634   98.166496   99.249588\n",
            "28  120.0   24.184443   19.792223  ...    5.811111    7.824445   13.417778\n",
            "4   113.0   83.282951   83.822220  ...   55.092724   27.017933   40.921921\n",
            "13  160.0    3.048750    5.606875  ...    0.000000    0.000000    0.000000\n",
            "33  148.0   43.895546   44.422207  ...   59.364502   78.667648   90.294388\n",
            "45  188.0    1.538705    0.102761  ...   75.153458   82.549568   89.150291\n",
            "49  111.0   49.527069   44.256554  ...  116.838409  112.682404  111.413841\n",
            "7   133.0  116.670357   19.080332  ...    6.886426    2.786704    0.842105\n",
            "24  142.0   65.058914   65.309265  ...   21.628647   21.552668   25.748661\n",
            "27  182.0   58.733730   60.556217  ...   92.739655   97.343201  112.644974\n",
            "45  148.0   65.946678   62.179699  ...  111.027039  118.003662  125.698326\n",
            "\n",
            "[28 rows x 785 columns]\n"
          ],
          "name": "stdout"
        }
      ]
    },
    {
      "cell_type": "code",
      "metadata": {
        "id": "6LkA4vHp-f6_"
      },
      "source": [
        "Width=np.array(Width_new)"
      ],
      "execution_count": 13,
      "outputs": []
    },
    {
      "cell_type": "code",
      "metadata": {
        "colab": {
          "base_uri": "https://localhost:8080/"
        },
        "id": "MjRbWgmX_LFH",
        "outputId": "829dd0e8-a2e2-42f9-b144-ed300fd6ef4e"
      },
      "source": [
        "!git clone https://github.com/ucfilho/marquesgabi_paper_fev_2021\n",
        "%cd marquesgabi_paper_fev_2021\n",
        "\n",
        "from Get_PSDArea_New import PSDArea\n",
        "from histogram_fev_2021 import PSD\n",
        "from GetBetterSegm import GetBetter"
      ],
      "execution_count": 14,
      "outputs": [
        {
          "output_type": "stream",
          "text": [
            "Cloning into 'marquesgabi_paper_fev_2021'...\n",
            "remote: Enumerating objects: 428, done.\u001b[K\n",
            "remote: Counting objects: 100% (189/189), done.\u001b[K\n",
            "remote: Compressing objects: 100% (188/188), done.\u001b[K\n",
            "remote: Total 428 (delta 112), reused 0 (delta 0), pack-reused 239\u001b[K\n",
            "Receiving objects: 100% (428/428), 2.83 MiB | 10.62 MiB/s, done.\n",
            "Resolving deltas: 100% (249/249), done.\n",
            "/content/marquesgabi_fev_2020/Doutorado/MarquesGabi_Routines/MarquesGabi_Routines/marquesgabi_paper_fev_2021\n"
          ],
          "name": "stdout"
        }
      ]
    },
    {
      "cell_type": "code",
      "metadata": {
        "colab": {
          "base_uri": "https://localhost:8080/"
        },
        "id": "WAG_I6FwCvFr",
        "outputId": "d8e08083-5250-4273-ffc7-5266028968f1"
      },
      "source": [
        "!git clone https://github.com/ucfilho/marquesgabi_out_2020\n",
        "%cd marquesgabi_out_2020\n",
        "PSD_imageJ = 'Areas_ImageJ.csv'\n",
        "PSD_new = pd.read_csv(PSD_imageJ)\n",
        "print(PSD_new.head(3))"
      ],
      "execution_count": 15,
      "outputs": [
        {
          "output_type": "stream",
          "text": [
            "Cloning into 'marquesgabi_out_2020'...\n",
            "remote: Enumerating objects: 146, done.\u001b[K\n",
            "remote: Counting objects: 100% (146/146), done.\u001b[K\n",
            "remote: Compressing objects: 100% (142/142), done.\u001b[K\n",
            "remote: Total 146 (delta 75), reused 0 (delta 0), pack-reused 0\u001b[K\n",
            "Receiving objects: 100% (146/146), 1.00 MiB | 6.67 MiB/s, done.\n",
            "Resolving deltas: 100% (75/75), done.\n",
            "/content/marquesgabi_fev_2020/Doutorado/MarquesGabi_Routines/MarquesGabi_Routines/marquesgabi_paper_fev_2021/marquesgabi_out_2020\n",
            "   Juntas   Area\n",
            "0       1  2.001\n",
            "1       2  0.820\n",
            "2       3  1.270\n"
          ],
          "name": "stdout"
        }
      ]
    },
    {
      "cell_type": "code",
      "metadata": {
        "id": "t_1WIM8w7poO"
      },
      "source": [
        "Area_All, Diameter_All=PSDArea(img_graos) "
      ],
      "execution_count": 16,
      "outputs": []
    },
    {
      "cell_type": "code",
      "metadata": {
        "colab": {
          "base_uri": "https://localhost:8080/",
          "height": 246
        },
        "id": "PekBHQOT_6CP",
        "outputId": "1c89f706-d9b3-4aaf-8023-da799e2e6c36"
      },
      "source": [
        "img_graos.head()"
      ],
      "execution_count": 17,
      "outputs": [
        {
          "output_type": "execute_result",
          "data": {
            "text/html": [
              "<div>\n",
              "<style scoped>\n",
              "    .dataframe tbody tr th:only-of-type {\n",
              "        vertical-align: middle;\n",
              "    }\n",
              "\n",
              "    .dataframe tbody tr th {\n",
              "        vertical-align: top;\n",
              "    }\n",
              "\n",
              "    .dataframe thead th {\n",
              "        text-align: right;\n",
              "    }\n",
              "</style>\n",
              "<table border=\"1\" class=\"dataframe\">\n",
              "  <thead>\n",
              "    <tr style=\"text-align: right;\">\n",
              "      <th></th>\n",
              "      <th>Width</th>\n",
              "      <th>0</th>\n",
              "      <th>1</th>\n",
              "      <th>2</th>\n",
              "      <th>3</th>\n",
              "      <th>4</th>\n",
              "      <th>5</th>\n",
              "      <th>6</th>\n",
              "      <th>7</th>\n",
              "      <th>8</th>\n",
              "      <th>9</th>\n",
              "      <th>10</th>\n",
              "      <th>11</th>\n",
              "      <th>12</th>\n",
              "      <th>13</th>\n",
              "      <th>14</th>\n",
              "      <th>15</th>\n",
              "      <th>16</th>\n",
              "      <th>17</th>\n",
              "      <th>18</th>\n",
              "      <th>19</th>\n",
              "      <th>20</th>\n",
              "      <th>21</th>\n",
              "      <th>22</th>\n",
              "      <th>23</th>\n",
              "      <th>24</th>\n",
              "      <th>25</th>\n",
              "      <th>26</th>\n",
              "      <th>27</th>\n",
              "      <th>28</th>\n",
              "      <th>29</th>\n",
              "      <th>30</th>\n",
              "      <th>31</th>\n",
              "      <th>32</th>\n",
              "      <th>33</th>\n",
              "      <th>34</th>\n",
              "      <th>35</th>\n",
              "      <th>36</th>\n",
              "      <th>37</th>\n",
              "      <th>38</th>\n",
              "      <th>...</th>\n",
              "      <th>744</th>\n",
              "      <th>745</th>\n",
              "      <th>746</th>\n",
              "      <th>747</th>\n",
              "      <th>748</th>\n",
              "      <th>749</th>\n",
              "      <th>750</th>\n",
              "      <th>751</th>\n",
              "      <th>752</th>\n",
              "      <th>753</th>\n",
              "      <th>754</th>\n",
              "      <th>755</th>\n",
              "      <th>756</th>\n",
              "      <th>757</th>\n",
              "      <th>758</th>\n",
              "      <th>759</th>\n",
              "      <th>760</th>\n",
              "      <th>761</th>\n",
              "      <th>762</th>\n",
              "      <th>763</th>\n",
              "      <th>764</th>\n",
              "      <th>765</th>\n",
              "      <th>766</th>\n",
              "      <th>767</th>\n",
              "      <th>768</th>\n",
              "      <th>769</th>\n",
              "      <th>770</th>\n",
              "      <th>771</th>\n",
              "      <th>772</th>\n",
              "      <th>773</th>\n",
              "      <th>774</th>\n",
              "      <th>775</th>\n",
              "      <th>776</th>\n",
              "      <th>777</th>\n",
              "      <th>778</th>\n",
              "      <th>779</th>\n",
              "      <th>780</th>\n",
              "      <th>781</th>\n",
              "      <th>782</th>\n",
              "      <th>783</th>\n",
              "    </tr>\n",
              "  </thead>\n",
              "  <tbody>\n",
              "    <tr>\n",
              "      <th>6</th>\n",
              "      <td>135.0</td>\n",
              "      <td>82.308472</td>\n",
              "      <td>84.588081</td>\n",
              "      <td>87.764442</td>\n",
              "      <td>90.314346</td>\n",
              "      <td>90.201912</td>\n",
              "      <td>88.132233</td>\n",
              "      <td>84.679565</td>\n",
              "      <td>83.004822</td>\n",
              "      <td>91.736618</td>\n",
              "      <td>100.527397</td>\n",
              "      <td>107.393295</td>\n",
              "      <td>112.307327</td>\n",
              "      <td>114.848061</td>\n",
              "      <td>110.970421</td>\n",
              "      <td>103.488220</td>\n",
              "      <td>89.186111</td>\n",
              "      <td>80.277359</td>\n",
              "      <td>82.095413</td>\n",
              "      <td>82.987267</td>\n",
              "      <td>87.613106</td>\n",
              "      <td>88.079056</td>\n",
              "      <td>85.505783</td>\n",
              "      <td>83.110016</td>\n",
              "      <td>71.784904</td>\n",
              "      <td>53.600166</td>\n",
              "      <td>43.021507</td>\n",
              "      <td>40.374046</td>\n",
              "      <td>38.013332</td>\n",
              "      <td>69.257935</td>\n",
              "      <td>77.832420</td>\n",
              "      <td>83.777939</td>\n",
              "      <td>86.418488</td>\n",
              "      <td>88.847298</td>\n",
              "      <td>90.630783</td>\n",
              "      <td>96.150284</td>\n",
              "      <td>101.382332</td>\n",
              "      <td>104.823372</td>\n",
              "      <td>108.072533</td>\n",
              "      <td>113.680267</td>\n",
              "      <td>...</td>\n",
              "      <td>71.389519</td>\n",
              "      <td>70.844765</td>\n",
              "      <td>67.284332</td>\n",
              "      <td>62.169712</td>\n",
              "      <td>58.566746</td>\n",
              "      <td>56.784252</td>\n",
              "      <td>50.529819</td>\n",
              "      <td>45.428696</td>\n",
              "      <td>44.611359</td>\n",
              "      <td>47.570694</td>\n",
              "      <td>53.151821</td>\n",
              "      <td>58.364109</td>\n",
              "      <td>75.005981</td>\n",
              "      <td>75.546112</td>\n",
              "      <td>74.590775</td>\n",
              "      <td>74.024414</td>\n",
              "      <td>77.148804</td>\n",
              "      <td>73.740082</td>\n",
              "      <td>68.235336</td>\n",
              "      <td>67.011520</td>\n",
              "      <td>66.619141</td>\n",
              "      <td>66.290260</td>\n",
              "      <td>64.912697</td>\n",
              "      <td>63.371407</td>\n",
              "      <td>67.183044</td>\n",
              "      <td>68.311493</td>\n",
              "      <td>68.694702</td>\n",
              "      <td>67.673798</td>\n",
              "      <td>67.218323</td>\n",
              "      <td>69.270676</td>\n",
              "      <td>66.910667</td>\n",
              "      <td>60.976952</td>\n",
              "      <td>55.861122</td>\n",
              "      <td>49.056953</td>\n",
              "      <td>40.318462</td>\n",
              "      <td>38.177666</td>\n",
              "      <td>38.929161</td>\n",
              "      <td>42.183922</td>\n",
              "      <td>48.425678</td>\n",
              "      <td>55.889378</td>\n",
              "    </tr>\n",
              "    <tr>\n",
              "      <th>15</th>\n",
              "      <td>141.0</td>\n",
              "      <td>77.332176</td>\n",
              "      <td>73.970673</td>\n",
              "      <td>66.070068</td>\n",
              "      <td>43.950760</td>\n",
              "      <td>25.222021</td>\n",
              "      <td>23.054625</td>\n",
              "      <td>35.714352</td>\n",
              "      <td>51.545849</td>\n",
              "      <td>93.269302</td>\n",
              "      <td>109.129669</td>\n",
              "      <td>108.767464</td>\n",
              "      <td>106.047783</td>\n",
              "      <td>102.101654</td>\n",
              "      <td>100.411896</td>\n",
              "      <td>99.869125</td>\n",
              "      <td>101.114738</td>\n",
              "      <td>107.816658</td>\n",
              "      <td>109.359741</td>\n",
              "      <td>105.997284</td>\n",
              "      <td>101.458481</td>\n",
              "      <td>97.872940</td>\n",
              "      <td>93.677887</td>\n",
              "      <td>92.927628</td>\n",
              "      <td>91.761589</td>\n",
              "      <td>91.804344</td>\n",
              "      <td>91.529999</td>\n",
              "      <td>92.230774</td>\n",
              "      <td>94.150703</td>\n",
              "      <td>73.575829</td>\n",
              "      <td>61.197678</td>\n",
              "      <td>36.926865</td>\n",
              "      <td>16.066044</td>\n",
              "      <td>10.632815</td>\n",
              "      <td>11.427645</td>\n",
              "      <td>24.493385</td>\n",
              "      <td>40.278809</td>\n",
              "      <td>85.906700</td>\n",
              "      <td>108.856850</td>\n",
              "      <td>109.775963</td>\n",
              "      <td>...</td>\n",
              "      <td>86.803581</td>\n",
              "      <td>90.546852</td>\n",
              "      <td>95.329659</td>\n",
              "      <td>96.400734</td>\n",
              "      <td>98.289925</td>\n",
              "      <td>99.789749</td>\n",
              "      <td>100.625931</td>\n",
              "      <td>99.883209</td>\n",
              "      <td>98.026459</td>\n",
              "      <td>91.325089</td>\n",
              "      <td>81.384193</td>\n",
              "      <td>80.764297</td>\n",
              "      <td>102.354355</td>\n",
              "      <td>87.016800</td>\n",
              "      <td>48.814045</td>\n",
              "      <td>27.257181</td>\n",
              "      <td>23.615261</td>\n",
              "      <td>28.956642</td>\n",
              "      <td>35.864044</td>\n",
              "      <td>38.008198</td>\n",
              "      <td>39.145111</td>\n",
              "      <td>41.055382</td>\n",
              "      <td>41.135506</td>\n",
              "      <td>41.784771</td>\n",
              "      <td>45.277302</td>\n",
              "      <td>72.672409</td>\n",
              "      <td>91.213425</td>\n",
              "      <td>90.427040</td>\n",
              "      <td>87.503654</td>\n",
              "      <td>89.461304</td>\n",
              "      <td>91.845139</td>\n",
              "      <td>95.138229</td>\n",
              "      <td>100.970276</td>\n",
              "      <td>102.589005</td>\n",
              "      <td>99.601730</td>\n",
              "      <td>98.083588</td>\n",
              "      <td>96.114487</td>\n",
              "      <td>90.999756</td>\n",
              "      <td>84.897591</td>\n",
              "      <td>93.619087</td>\n",
              "    </tr>\n",
              "    <tr>\n",
              "      <th>18</th>\n",
              "      <td>200.0</td>\n",
              "      <td>70.346794</td>\n",
              "      <td>64.415199</td>\n",
              "      <td>44.897598</td>\n",
              "      <td>27.142801</td>\n",
              "      <td>34.241600</td>\n",
              "      <td>51.602402</td>\n",
              "      <td>63.986797</td>\n",
              "      <td>66.385597</td>\n",
              "      <td>66.321999</td>\n",
              "      <td>67.583199</td>\n",
              "      <td>70.060799</td>\n",
              "      <td>67.977997</td>\n",
              "      <td>61.641998</td>\n",
              "      <td>59.718399</td>\n",
              "      <td>48.238003</td>\n",
              "      <td>29.762798</td>\n",
              "      <td>26.225603</td>\n",
              "      <td>32.166000</td>\n",
              "      <td>39.192398</td>\n",
              "      <td>40.158798</td>\n",
              "      <td>41.246002</td>\n",
              "      <td>60.579205</td>\n",
              "      <td>73.926796</td>\n",
              "      <td>78.189995</td>\n",
              "      <td>84.837608</td>\n",
              "      <td>88.065994</td>\n",
              "      <td>78.198006</td>\n",
              "      <td>68.532799</td>\n",
              "      <td>68.893196</td>\n",
              "      <td>64.899200</td>\n",
              "      <td>45.783199</td>\n",
              "      <td>29.095997</td>\n",
              "      <td>37.731197</td>\n",
              "      <td>55.451199</td>\n",
              "      <td>63.162395</td>\n",
              "      <td>59.818401</td>\n",
              "      <td>59.564800</td>\n",
              "      <td>60.648003</td>\n",
              "      <td>59.612801</td>\n",
              "      <td>...</td>\n",
              "      <td>44.378799</td>\n",
              "      <td>44.595600</td>\n",
              "      <td>45.962402</td>\n",
              "      <td>44.595200</td>\n",
              "      <td>41.658001</td>\n",
              "      <td>29.951199</td>\n",
              "      <td>25.248402</td>\n",
              "      <td>26.928801</td>\n",
              "      <td>28.753998</td>\n",
              "      <td>32.853996</td>\n",
              "      <td>61.053604</td>\n",
              "      <td>79.407204</td>\n",
              "      <td>103.500793</td>\n",
              "      <td>105.443604</td>\n",
              "      <td>105.798401</td>\n",
              "      <td>102.666397</td>\n",
              "      <td>91.875198</td>\n",
              "      <td>62.223598</td>\n",
              "      <td>49.089600</td>\n",
              "      <td>53.605598</td>\n",
              "      <td>49.540798</td>\n",
              "      <td>44.993198</td>\n",
              "      <td>42.749599</td>\n",
              "      <td>40.897999</td>\n",
              "      <td>41.653999</td>\n",
              "      <td>40.402397</td>\n",
              "      <td>39.925594</td>\n",
              "      <td>39.982796</td>\n",
              "      <td>39.928398</td>\n",
              "      <td>40.450798</td>\n",
              "      <td>39.969200</td>\n",
              "      <td>37.584797</td>\n",
              "      <td>29.527601</td>\n",
              "      <td>25.198799</td>\n",
              "      <td>27.748400</td>\n",
              "      <td>29.105598</td>\n",
              "      <td>34.716000</td>\n",
              "      <td>59.788406</td>\n",
              "      <td>80.221207</td>\n",
              "      <td>85.628006</td>\n",
              "    </tr>\n",
              "    <tr>\n",
              "      <th>10</th>\n",
              "      <td>142.0</td>\n",
              "      <td>54.466179</td>\n",
              "      <td>57.008533</td>\n",
              "      <td>74.185486</td>\n",
              "      <td>91.148781</td>\n",
              "      <td>102.049599</td>\n",
              "      <td>99.370361</td>\n",
              "      <td>98.040070</td>\n",
              "      <td>98.659798</td>\n",
              "      <td>99.997025</td>\n",
              "      <td>102.006554</td>\n",
              "      <td>103.780609</td>\n",
              "      <td>105.124390</td>\n",
              "      <td>104.591949</td>\n",
              "      <td>104.985924</td>\n",
              "      <td>104.219406</td>\n",
              "      <td>102.783180</td>\n",
              "      <td>104.589767</td>\n",
              "      <td>107.794693</td>\n",
              "      <td>112.471138</td>\n",
              "      <td>114.056931</td>\n",
              "      <td>111.720695</td>\n",
              "      <td>117.101768</td>\n",
              "      <td>146.810959</td>\n",
              "      <td>150.253922</td>\n",
              "      <td>127.656219</td>\n",
              "      <td>49.582428</td>\n",
              "      <td>26.357269</td>\n",
              "      <td>26.592939</td>\n",
              "      <td>57.014084</td>\n",
              "      <td>55.051777</td>\n",
              "      <td>77.825630</td>\n",
              "      <td>97.877213</td>\n",
              "      <td>106.997437</td>\n",
              "      <td>98.170212</td>\n",
              "      <td>94.730423</td>\n",
              "      <td>97.209282</td>\n",
              "      <td>98.698074</td>\n",
              "      <td>100.572716</td>\n",
              "      <td>102.370163</td>\n",
              "      <td>...</td>\n",
              "      <td>1.817298</td>\n",
              "      <td>1.672882</td>\n",
              "      <td>3.053958</td>\n",
              "      <td>6.676254</td>\n",
              "      <td>13.180718</td>\n",
              "      <td>27.652056</td>\n",
              "      <td>52.374134</td>\n",
              "      <td>64.499107</td>\n",
              "      <td>63.047012</td>\n",
              "      <td>80.805008</td>\n",
              "      <td>92.726250</td>\n",
              "      <td>101.095215</td>\n",
              "      <td>127.233887</td>\n",
              "      <td>133.431458</td>\n",
              "      <td>135.270981</td>\n",
              "      <td>137.135284</td>\n",
              "      <td>135.774857</td>\n",
              "      <td>127.886337</td>\n",
              "      <td>110.596909</td>\n",
              "      <td>18.423130</td>\n",
              "      <td>0.967864</td>\n",
              "      <td>0.109304</td>\n",
              "      <td>0.000000</td>\n",
              "      <td>0.000000</td>\n",
              "      <td>0.000000</td>\n",
              "      <td>0.438802</td>\n",
              "      <td>0.486015</td>\n",
              "      <td>0.500298</td>\n",
              "      <td>0.633406</td>\n",
              "      <td>0.783376</td>\n",
              "      <td>1.354692</td>\n",
              "      <td>3.201944</td>\n",
              "      <td>4.182504</td>\n",
              "      <td>5.701647</td>\n",
              "      <td>11.530252</td>\n",
              "      <td>23.416388</td>\n",
              "      <td>10.690736</td>\n",
              "      <td>34.264233</td>\n",
              "      <td>74.571510</td>\n",
              "      <td>87.831581</td>\n",
              "    </tr>\n",
              "    <tr>\n",
              "      <th>13</th>\n",
              "      <td>126.0</td>\n",
              "      <td>38.691357</td>\n",
              "      <td>42.296295</td>\n",
              "      <td>75.160500</td>\n",
              "      <td>85.629639</td>\n",
              "      <td>90.765434</td>\n",
              "      <td>92.938271</td>\n",
              "      <td>89.925926</td>\n",
              "      <td>88.641975</td>\n",
              "      <td>88.074074</td>\n",
              "      <td>86.938278</td>\n",
              "      <td>86.481476</td>\n",
              "      <td>83.864197</td>\n",
              "      <td>80.320984</td>\n",
              "      <td>80.345673</td>\n",
              "      <td>83.259262</td>\n",
              "      <td>83.160492</td>\n",
              "      <td>80.839516</td>\n",
              "      <td>77.851852</td>\n",
              "      <td>74.814812</td>\n",
              "      <td>74.024689</td>\n",
              "      <td>73.123459</td>\n",
              "      <td>74.679008</td>\n",
              "      <td>78.358032</td>\n",
              "      <td>80.283958</td>\n",
              "      <td>80.555557</td>\n",
              "      <td>78.802475</td>\n",
              "      <td>77.320992</td>\n",
              "      <td>65.493828</td>\n",
              "      <td>81.679016</td>\n",
              "      <td>73.086418</td>\n",
              "      <td>68.222221</td>\n",
              "      <td>82.938278</td>\n",
              "      <td>89.604950</td>\n",
              "      <td>91.629623</td>\n",
              "      <td>93.135796</td>\n",
              "      <td>93.283943</td>\n",
              "      <td>91.234566</td>\n",
              "      <td>89.160500</td>\n",
              "      <td>86.382713</td>\n",
              "      <td>...</td>\n",
              "      <td>123.358025</td>\n",
              "      <td>123.530869</td>\n",
              "      <td>118.888901</td>\n",
              "      <td>102.888885</td>\n",
              "      <td>80.839508</td>\n",
              "      <td>78.493835</td>\n",
              "      <td>73.407410</td>\n",
              "      <td>74.888885</td>\n",
              "      <td>77.358025</td>\n",
              "      <td>77.333328</td>\n",
              "      <td>78.148148</td>\n",
              "      <td>77.975311</td>\n",
              "      <td>100.604942</td>\n",
              "      <td>110.604942</td>\n",
              "      <td>113.222229</td>\n",
              "      <td>112.629631</td>\n",
              "      <td>109.370369</td>\n",
              "      <td>112.703705</td>\n",
              "      <td>108.358025</td>\n",
              "      <td>102.753082</td>\n",
              "      <td>98.358025</td>\n",
              "      <td>98.209877</td>\n",
              "      <td>103.765434</td>\n",
              "      <td>110.283951</td>\n",
              "      <td>115.506172</td>\n",
              "      <td>118.592590</td>\n",
              "      <td>121.814819</td>\n",
              "      <td>124.185188</td>\n",
              "      <td>124.098770</td>\n",
              "      <td>122.000000</td>\n",
              "      <td>113.555557</td>\n",
              "      <td>88.864197</td>\n",
              "      <td>73.111115</td>\n",
              "      <td>72.938278</td>\n",
              "      <td>70.320992</td>\n",
              "      <td>71.012352</td>\n",
              "      <td>71.851852</td>\n",
              "      <td>72.716049</td>\n",
              "      <td>74.049385</td>\n",
              "      <td>73.234566</td>\n",
              "    </tr>\n",
              "  </tbody>\n",
              "</table>\n",
              "<p>5 rows × 785 columns</p>\n",
              "</div>"
            ],
            "text/plain": [
              "    Width          0          1  ...        781        782        783\n",
              "6   135.0  82.308472  84.588081  ...  42.183922  48.425678  55.889378\n",
              "15  141.0  77.332176  73.970673  ...  90.999756  84.897591  93.619087\n",
              "18  200.0  70.346794  64.415199  ...  59.788406  80.221207  85.628006\n",
              "10  142.0  54.466179  57.008533  ...  34.264233  74.571510  87.831581\n",
              "13  126.0  38.691357  42.296295  ...  72.716049  74.049385  73.234566\n",
              "\n",
              "[5 rows x 785 columns]"
            ]
          },
          "metadata": {
            "tags": []
          },
          "execution_count": 17
        }
      ]
    },
    {
      "cell_type": "code",
      "metadata": {
        "id": "4vmhG2LgCabC"
      },
      "source": [
        "Area = np.array(PSD_new['Area'])\n",
        "diam_teste = []\n",
        "for A in Area:\n",
        "  diam_teste.append((4*A/np.pi)**0.5) \n",
        "\n",
        "Diam1 = [ (4*A/np.pi)**0.5 for A in Area]"
      ],
      "execution_count": 18,
      "outputs": []
    },
    {
      "cell_type": "code",
      "metadata": {
        "colab": {
          "base_uri": "https://localhost:8080/",
          "height": 282
        },
        "id": "Vfk_fNXGDK5_",
        "outputId": "cf6e136c-fd80-4f62-d461-e943ca5cebc0"
      },
      "source": [
        " wt1 = np.ones(len(Diam1)) / len(Diam1)*100\n",
        " wt2 = np.ones(len(Diameter_All)) / len(Diameter_All)*100\n",
        " X = pd.DataFrame([Diam1,Diameter_All])\n",
        " wts = pd.DataFrame([wt1,wt2])\n",
        "plt.hist(X,weights=wts)\n",
        "plt.legend(['Image J','CNN'])"
      ],
      "execution_count": 19,
      "outputs": [
        {
          "output_type": "execute_result",
          "data": {
            "text/plain": [
              "<matplotlib.legend.Legend at 0x7f8ffcbc1210>"
            ]
          },
          "metadata": {
            "tags": []
          },
          "execution_count": 19
        },
        {
          "output_type": "display_data",
          "data": {
            "image/png": "[encoded data removed]",
            "text/plain": [
              "<Figure size 432x288 with 1 Axes>"
            ]
          },
          "metadata": {
            "tags": [],
            "needs_background": "light"
          }
        }
      ]
    },
    {
      "cell_type": "code",
      "metadata": {
        "colab": {
          "base_uri": "https://localhost:8080/",
          "height": 388
        },
        "id": "ZZHa1j4HT9Dq",
        "outputId": "369b365f-907d-401a-b827-a2bf260c3ed0"
      },
      "source": [
        "counts, bins, bars = plt.hist(X,weights=wts)\n",
        "print(bars)\n",
        "print(bins)\n",
        "print(counts)"
      ],
      "execution_count": 20,
      "outputs": [
        {
          "output_type": "stream",
          "text": [
            "<a list of 2 Lists of Patches objects>\n",
            "[0.71150074 0.87209458 1.03268843 1.19328227 1.35387612 1.51446996\n",
            " 1.67506381 1.83565765 1.9962515  2.15684534 2.31743919]\n",
            "[[ 5.26315789 10.52631579 23.15789474 32.63157895 15.78947368  9.47368421\n",
            "   1.05263158  0.          1.05263158  1.05263158]\n",
            " [14.28571429 17.85714286 32.14285714 10.71428571 10.71428571 10.71428571\n",
            "   0.          3.57142857  0.          0.        ]]\n"
          ],
          "name": "stdout"
        },
        {
          "output_type": "display_data",
          "data": {
            "image/png": "[encoded data removed]",
            "text/plain": [
              "<Figure size 432x288 with 1 Axes>"
            ]
          },
          "metadata": {
            "tags": [],
            "needs_background": "light"
          }
        }
      ]
    },
    {
      "cell_type": "code",
      "metadata": {
        "colab": {
          "base_uri": "https://localhost:8080/"
        },
        "id": "8o_vDGeWUwIZ",
        "outputId": "8d19efec-4784-4980-f8ab-205f1190ef43"
      },
      "source": [
        "print(counts.sum())"
      ],
      "execution_count": 24,
      "outputs": [
        {
          "output_type": "stream",
          "text": [
            "200.00000000000006\n"
          ],
          "name": "stdout"
        }
      ]
    },
    {
      "cell_type": "code",
      "metadata": {
        "colab": {
          "base_uri": "https://localhost:8080/",
          "height": 337
        },
        "id": "KcH52-6iJQ8t",
        "outputId": "d31b4c2a-aeea-4347-c4fa-cdfde0fe6667"
      },
      "source": [
        "\n",
        "plt.hist([Diam1,Diameter_All])\n",
        "plt.legend(['Image J','CNN'])\n"
      ],
      "execution_count": 21,
      "outputs": [
        {
          "output_type": "stream",
          "text": [
            "/usr/local/lib/python3.7/dist-packages/numpy/core/_asarray.py:83: VisibleDeprecationWarning: Creating an ndarray from ragged nested sequences (which is a list-or-tuple of lists-or-tuples-or ndarrays with different lengths or shapes) is deprecated. If you meant to do this, you must specify 'dtype=object' when creating the ndarray\n",
            "  return array(a, dtype, copy=False, order=order)\n"
          ],
          "name": "stderr"
        },
        {
          "output_type": "execute_result",
          "data": {
            "text/plain": [
              "<matplotlib.legend.Legend at 0x7f8fdbb39c90>"
            ]
          },
          "metadata": {
            "tags": []
          },
          "execution_count": 21
        },
        {
          "output_type": "display_data",
          "data": {
            "image/png": "[encoded data removed]",
            "text/plain": [
              "<Figure size 432x288 with 1 Axes>"
            ]
          },
          "metadata": {
            "tags": [],
            "needs_background": "light"
          }
        }
      ]
    },
    {
      "cell_type": "code",
      "metadata": {
        "colab": {
          "base_uri": "https://localhost:8080/"
        },
        "id": "r11AxFK_JIii",
        "outputId": "3a9e2813-8e54-4532-d2ae-fac6180c3d37"
      },
      "source": [
        "[Diam1,Diameter_All]"
      ],
      "execution_count": 22,
      "outputs": [
        {
          "output_type": "execute_result",
          "data": {
            "text/plain": [
              "[[1.59616801403081,\n",
              "  1.0217907939900581,\n",
              "  1.2716187407449044,\n",
              "  1.104429030701514,\n",
              "  1.2163487785097904,\n",
              "  1.6013445735058454,\n",
              "  1.1715597420637607,\n",
              "  1.2534662333717612,\n",
              "  1.2676073151634049,\n",
              "  1.309600575274104,\n",
              "  1.292966945531582,\n",
              "  1.7658322811231006,\n",
              "  1.3564037533648712,\n",
              "  1.2407040781688483,\n",
              "  2.130217298173151,\n",
              "  1.4228319915327,\n",
              "  1.0651086490865755,\n",
              "  1.3008210311003705,\n",
              "  1.336545951796433,\n",
              "  0.8927754224911278,\n",
              "  1.4494292838262302,\n",
              "  1.4052738287907582,\n",
              "  1.6421697097891788,\n",
              "  1.2329833804288621,\n",
              "  1.19042665178928,\n",
              "  1.1682948223612457,\n",
              "  1.1518314137121108,\n",
              "  0.9607802401865855,\n",
              "  2.317439190074449,\n",
              "  1.0591147430338594,\n",
              "  1.4308630919602832,\n",
              "  0.7535680705496237,\n",
              "  0.8608283307581511,\n",
              "  1.2776122636975893,\n",
              "  1.3745862957220916,\n",
              "  1.259546137598783,\n",
              "  1.2978813187979172,\n",
              "  1.2412170838050638,\n",
              "  1.6009469708743893,\n",
              "  1.3149369953539032,\n",
              "  1.417901703622935,\n",
              "  1.2478669653497139,\n",
              "  1.1055812783082735,\n",
              "  0.9561307405997607,\n",
              "  0.9487783503683882,\n",
              "  1.1238565871041026,\n",
              "  1.2058356273089446,\n",
              "  1.2801012827406097,\n",
              "  0.8733100751144249,\n",
              "  0.9194732501297403,\n",
              "  1.6425573339441792,\n",
              "  1.085826790250066,\n",
              "  1.0639125693728595,\n",
              "  1.0875842666474016,\n",
              "  1.417901703622935,\n",
              "  1.550443891425932,\n",
              "  0.7825779328716171,\n",
              "  1.4690612745308145,\n",
              "  1.053086721720641,\n",
              "  1.2676073151634049,\n",
              "  0.7744003006005755,\n",
              "  1.3787482149724068,\n",
              "  1.363892581861956,\n",
              "  1.299352006316543,\n",
              "  1.2870449283923413,\n",
              "  1.11817763925502,\n",
              "  0.9474354220939228,\n",
              "  1.5218484589055707,\n",
              "  1.3526437911676632,\n",
              "  1.1556938532445284,\n",
              "  1.6013445735058454,\n",
              "  1.274619025074578,\n",
              "  1.422384489715834,\n",
              "  1.3408259533459403,\n",
              "  1.172646028567008,\n",
              "  1.1490645795125545,\n",
              "  1.459060149136146,\n",
              "  1.2483770274864237,\n",
              "  1.336545951796433,\n",
              "  0.9601174044814821,\n",
              "  1.4867225193896279,\n",
              "  1.4277452542806772,\n",
              "  1.35028849808504,\n",
              "  0.7560982446653928,\n",
              "  1.259040600296622,\n",
              "  1.13456827900627,\n",
              "  1.6549133695530214,\n",
              "  1.1204526724091788,\n",
              "  1.1176081573544434,\n",
              "  0.9153095762832032,\n",
              "  1.1639273497938836,\n",
              "  1.3066806149514323,\n",
              "  1.1529362882239027,\n",
              "  1.3047303442899274,\n",
              "  1.3066806149514323],\n",
              " [1.0539429046060464,\n",
              "  1.1405121034583836,\n",
              "  1.5337148206767943,\n",
              "  1.115652961588272,\n",
              "  0.9517338203113466,\n",
              "  1.6177476644799769,\n",
              "  0.9128148492509961,\n",
              "  1.8583840669856624,\n",
              "  1.1621593734555171,\n",
              "  1.127460200131468,\n",
              "  0.7720362706941337,\n",
              "  1.2334911552613208,\n",
              "  1.129681671245303,\n",
              "  1.395469377177179,\n",
              "  0.9130539540727931,\n",
              "  1.4589273454118072,\n",
              "  1.5498673982028894,\n",
              "  0.7627768771268392,\n",
              "  0.8829066565987699,\n",
              "  0.8314037682971749,\n",
              "  1.2290015880472653,\n",
              "  1.0591335779483975,\n",
              "  1.3530374417793325,\n",
              "  0.7115007358642832,\n",
              "  1.002892108195188,\n",
              "  1.0853257796540716,\n",
              "  1.4699580422992768,\n",
              "  1.175561535982492]]"
            ]
          },
          "metadata": {
            "tags": []
          },
          "execution_count": 22
        }
      ]
    }
  ]
}