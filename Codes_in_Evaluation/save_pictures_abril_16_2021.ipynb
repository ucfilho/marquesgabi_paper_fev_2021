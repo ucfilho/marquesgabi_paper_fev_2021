{
  "nbformat": 4,
  "nbformat_minor": 0,
  "metadata": {
    "colab": {
      "name": "save_pictures_abril_16_2021.ipynb",
      "provenance": [],
      "collapsed_sections": [],
      "include_colab_link": true
    },
    "kernelspec": {
      "name": "python3",
      "display_name": "Python 3"
    }
  },
  "cells": [
    {
      "cell_type": "markdown",
      "metadata": {
        "id": "view-in-github",
        "colab_type": "text"
      },
      "source": [
        "<a href=\"https://colab.research.google.com/github/ucfilho/marquesgabi_paper_fev_2021/blob/main/Codes_in_Evaluation/save_pictures_abril_16_2021.ipynb\" target=\"_parent\"><img src=\"https://colab.research.google.com/assets/colab-badge.svg\" alt=\"Open In Colab\"/></a>"
      ]
    },
    {
      "cell_type": "code",
      "metadata": {
        "id": "Sog7Z9pyhUD_",
        "colab": {
          "base_uri": "https://localhost:8080/"
        },
        "outputId": "bc26df29-bb1e-4768-9338-e5ab1d09dcdc"
      },
      "source": [
        "import matplotlib.pyplot as plt\n",
        "import numpy as np\n",
        "import cv2\n",
        "import zipfile\n",
        "#import random\n",
        "from random import randint\n",
        "from skimage import filters\n",
        "from PIL import Image\n",
        "import re\n",
        "from sklearn.model_selection import train_test_split\n",
        "#import scikit-image\n",
        "import skimage\n",
        "import pandas as pd\n",
        "#import statsmodels.api as sm\n",
        "#import statsmodels.formula.api as smf\n",
        "from sklearn.neural_network import MLPClassifier\n",
        "import sklearn\n",
        "from scipy import ndimage as ndi\n",
        "from skimage import feature\n",
        "from sklearn.externals import joblib\n",
        "from skimage import measure"
      ],
      "execution_count": 1,
      "outputs": [
        {
          "output_type": "stream",
          "text": [
            "/usr/local/lib/python3.7/dist-packages/sklearn/externals/joblib/__init__.py:15: FutureWarning: sklearn.externals.joblib is deprecated in 0.21 and will be removed in 0.23. Please import this functionality directly from joblib, which can be installed with: pip install joblib. If this warning is raised when loading pickled models, you may need to re-serialize those models with scikit-learn 0.21+.\n",
            "  warnings.warn(msg, category=FutureWarning)\n"
          ],
          "name": "stderr"
        }
      ]
    },
    {
      "cell_type": "code",
      "metadata": {
        "id": "uZEvJvfoibE4",
        "colab": {
          "base_uri": "https://localhost:8080/"
        },
        "outputId": "11293725-eb1a-4f4c-9fe8-aa6d591bdd9a"
      },
      "source": [
        "!pip install mahotas"
      ],
      "execution_count": 2,
      "outputs": [
        {
          "output_type": "stream",
          "text": [
            "Requirement already satisfied: mahotas in /usr/local/lib/python3.7/dist-packages (1.4.11)\n",
            "Requirement already satisfied: numpy in /usr/local/lib/python3.7/dist-packages (from mahotas) (1.19.5)\n"
          ],
          "name": "stdout"
        }
      ]
    },
    {
      "cell_type": "code",
      "metadata": {
        "id": "_VcTdaNVh9EE",
        "colab": {
          "base_uri": "https://localhost:8080/"
        },
        "outputId": "5c75dd96-4d26-441f-c50a-4320f3ffa5cd"
      },
      "source": [
        "!git clone https://github.com/ucfilho/marquesgabi_fev_2020 #clonar do Github\n",
        "%cd marquesgabi_fev_2020\n",
        "import Go2BlackWhite\n",
        "import Go2Mahotas"
      ],
      "execution_count": 3,
      "outputs": [
        {
          "output_type": "stream",
          "text": [
            "fatal: destination path 'marquesgabi_fev_2020' already exists and is not an empty directory.\n",
            "/content/marquesgabi_fev_2020\n"
          ],
          "name": "stdout"
        }
      ]
    },
    {
      "cell_type": "code",
      "metadata": {
        "id": "nf_a6PJ1iUnT"
      },
      "source": [
        "import mahotas.features.texture as mht\n",
        "import mahotas.features"
      ],
      "execution_count": 4,
      "outputs": []
    },
    {
      "cell_type": "code",
      "metadata": {
        "id": "wj62HANgnpnR",
        "colab": {
          "base_uri": "https://localhost:8080/"
        },
        "outputId": "b42ad2ed-d3bd-4818-e88b-12cd140415bb"
      },
      "source": [
        "!git clone https://github.com/ucfilho/marquesgabi_paper_fev_2021\n",
        "%cd marquesgabi_paper_fev_2021\n",
        "\n",
        "from Get_PSDArea_New import PSDArea\n",
        "from histogram_fev_2021 import PSD\n",
        "from GetBetterSegm import GetBetter"
      ],
      "execution_count": 5,
      "outputs": [
        {
          "output_type": "stream",
          "text": [
            "fatal: destination path 'marquesgabi_paper_fev_2021' already exists and is not an empty directory.\n",
            "/content/marquesgabi_fev_2020/marquesgabi_paper_fev_2021\n"
          ],
          "name": "stdout"
        }
      ]
    },
    {
      "cell_type": "code",
      "metadata": {
        "id": "8L6KJ4jc3ahG",
        "colab": {
          "base_uri": "https://localhost:8080/"
        },
        "outputId": "b5be4a6e-e19f-4ccc-b457-ada30578894e"
      },
      "source": [
        "!ls"
      ],
      "execution_count": 6,
      "outputs": [
        {
          "output_type": "stream",
          "text": [
            "ANN_Ajuste_mar_2021\n",
            "ANN_FIND_GRAIN_MAR_2021.py\n",
            "ANN_FIND_GRAIN_NOVO.py\n",
            "ANN_FIND_GRAIN_PAPER_STEP_02.py\n",
            "big_segment.py\n",
            "CNN_classify_grain_feb_15_2021.ipynb\n",
            "CNN_DESCRIPTION.ipynb\n",
            "CNN_FIND_GRAIN_PAPER_STEP_02.py\n",
            "Codes_in_Evaluation\n",
            "Doutorado\n",
            "EPOCHS_graphic.csv\n",
            "EPOCHS_graphic.txt\n",
            "Fig_05_BIG_Segmentation_jan_25_2021.ipynb\n",
            "GetBetterSegm.py\n",
            "Get_PSDArea_New.py\n",
            "Graphic_Epochs_fev_09_2020.ipynb\n",
            "histogram_fev_2021.py\n",
            "PSD_CNN_GRAIN_NOT_GRAIN_step_02_paper.ipynb\n",
            "PSD_GRAIN_NOT_GRAIN_dez_04_2020.ipynb\n",
            "PSD_GRAIN_NOT_GRAIN_fev_18_2021.ipynb\n",
            "PSD_GRAIN_NOT_GRAIN_mar_11_2021.ipynb\n",
            "PSD_GRAIN_NOT_GRAIN_mar_12_2021.ipynb\n",
            "PSD_GRAIN_NOT_GRAIN_step_02_paper.ipynb\n",
            "psd_mahotas.py\n",
            "__pycache__\n",
            "README.md\n",
            "Segment_Ajuste_mar_2021\n",
            "SEGMENT_NOT_CONCLUDED.ipynb\n"
          ],
          "name": "stdout"
        }
      ]
    },
    {
      "cell_type": "code",
      "metadata": {
        "id": "1v7SRrc8mH2N",
        "colab": {
          "base_uri": "https://localhost:8080/"
        },
        "outputId": "27902c82-c592-4091-e61c-5f39e5a4b444"
      },
      "source": [
        "!git clone https://github.com/marquesgabi/Doutorado\n",
        "%cd Doutorado\n",
        "\n",
        "Transfere='Fotos_Grandes_3cdAmostra.zip'\n",
        "file_name = zipfile.ZipFile(Transfere, 'r')\n",
        "file_name.extractall()"
      ],
      "execution_count": 7,
      "outputs": [
        {
          "output_type": "stream",
          "text": [
            "fatal: destination path 'Doutorado' already exists and is not an empty directory.\n",
            "/content/marquesgabi_fev_2020/marquesgabi_paper_fev_2021/Doutorado\n"
          ],
          "name": "stdout"
        }
      ]
    },
    {
      "cell_type": "code",
      "metadata": {
        "id": "0kA4IWSmasoD"
      },
      "source": [
        "Size=1200 # tamanho da foto\n",
        "ww,img_name=Go2BlackWhite.BlackWhite(Transfere,Size) #Pegamos a primeira foto Grande\n",
        "img=ww[0] \n",
        "# this is the big image we want to segment \n",
        "# ww[0], change it if you want to segment another picture"
      ],
      "execution_count": 8,
      "outputs": []
    },
    {
      "cell_type": "code",
      "metadata": {
        "id": "g_k1Ktz3izJv",
        "colab": {
          "base_uri": "https://localhost:8080/"
        },
        "outputId": "121a85da-9746-4d55-ee66-aecfc55235f3"
      },
      "source": [
        "!git clone https://github.com/marquesgabi/Doutorado\n",
        "# %cd Doutorado\n",
        "Transfere='FotosTreino882_and_Segm.zip'\n",
        "file_name = zipfile.ZipFile(Transfere, 'r')\n",
        "file_name.extractall()\n",
        "\n",
        "\"\"\"# First step: get the segmented file (photos stored in csv file)\"\"\"\n",
        "\n",
        "labels = [] #name files\n",
        "\n",
        "with zipfile.ZipFile(Transfere, \"r\") as f:\n",
        "  for f in f.namelist():\n",
        "    labels.append(f)\n",
        "\n",
        "Num=len(labels)\n",
        "df=pd.read_csv(labels[0])\n",
        "for i in range(1,Num):\n",
        "  df_new=pd.read_csv(labels[i])\n",
        "  df_new = df_new[~df_new['Type'].isin(['G'])] # drop grain row which is not in 882\n",
        "  frames = [df, df_new]\n",
        "  df= pd.concat(frames, ignore_index=True)"
      ],
      "execution_count": 9,
      "outputs": [
        {
          "output_type": "stream",
          "text": [
            "fatal: destination path 'Doutorado' already exists and is not an empty directory.\n"
          ],
          "name": "stdout"
        }
      ]
    },
    {
      "cell_type": "code",
      "metadata": {
        "id": "tHgqAnaFyCjp",
        "colab": {
          "base_uri": "https://localhost:8080/"
        },
        "outputId": "4359747d-95e4-47ea-d3ab-c414e6e76650"
      },
      "source": [
        "!git clone https://github.com/ucfilho/marquesgabi_paper_fev_2021\n",
        "%cd marquesgabi_paper_fev_2021"
      ],
      "execution_count": 10,
      "outputs": [
        {
          "output_type": "stream",
          "text": [
            "fatal: destination path 'marquesgabi_paper_fev_2021' already exists and is not an empty directory.\n",
            "/content/marquesgabi_fev_2020/marquesgabi_paper_fev_2021/Doutorado/marquesgabi_paper_fev_2021\n"
          ],
          "name": "stdout"
        }
      ]
    },
    {
      "cell_type": "code",
      "metadata": {
        "id": "qc4rFvzkyWCi"
      },
      "source": [
        "from big_segment import Segmenta  # got image provided segmented\n",
        "# from ANN_FIND_GRAIN_NOVO import AnnGrain  # got image provided segmented\n",
        "from psd_mahotas import Mahotas"
      ],
      "execution_count": 11,
      "outputs": []
    },
    {
      "cell_type": "code",
      "metadata": {
        "colab": {
          "base_uri": "https://localhost:8080/"
        },
        "id": "N-R1so5EcKXE",
        "outputId": "0ad0e5ea-4d16-4dcc-851d-34e6c098ad0f"
      },
      "source": [
        "!git clone https://github.com/ucfilho/marquesgabi_paper_fev_2021/ANN_Ajuste_mar_2021\n",
        "%cd ANN_Ajuste_mar_2021"
      ],
      "execution_count": 12,
      "outputs": [
        {
          "output_type": "stream",
          "text": [
            "fatal: destination path 'ANN_Ajuste_mar_2021' already exists and is not an empty directory.\n",
            "/content/marquesgabi_fev_2020/marquesgabi_paper_fev_2021/Doutorado/marquesgabi_paper_fev_2021/ANN_Ajuste_mar_2021\n"
          ],
          "name": "stdout"
        }
      ]
    },
    {
      "cell_type": "code",
      "metadata": {
        "id": "aPT8qYAVcdPP"
      },
      "source": [
        "from ANN_FIND_GRAIN_change_ann import AnnGrain  # got image provided segmented"
      ],
      "execution_count": 13,
      "outputs": []
    },
    {
      "cell_type": "code",
      "metadata": {
        "colab": {
          "base_uri": "https://localhost:8080/"
        },
        "id": "knhoH5ve0gyq",
        "outputId": "4f3e2378-1edb-46c2-d3cd-d41fe0fe1e1a"
      },
      "source": [
        "!ls"
      ],
      "execution_count": 14,
      "outputs": [
        {
          "output_type": "stream",
          "text": [
            "ANN_Ajuste_mar_2021\n",
            "ANN_deploy_neural_network_mar_22_2021.ipynb\n",
            "ANN_FIND_GRAIN_change_ann.py\n",
            "ANN_load_neural_network_mar_23_2021.ipynb\n",
            "ANN_load_top_okay_neural_network_mar_23_2021.ipynb\n",
            "ANN_neural_network_load_mar_22_2021.ipynb\n",
            "big_segment_new.py\n",
            "Doutorado\n",
            "kNN_deploy_abril_09_2021.ipynb\n",
            "knn_find_grain_change_classification.py\n",
            "kNN_load_abril_09_2021.ipynb\n",
            "PSD_find_neural_network_mar_18_2021.ipynb\n",
            "PSD_GRAIN_NOT_GRAIN_kNN_abril_07_2021.ipynb\n",
            "PSD_GRAIN_NOT_GRAIN_kNN_abril_09_2021.ipynb\n",
            "PSD_GRAIN_NOT_GRAIN_mar_18_2021.ipynb\n",
            "__pycache__\n"
          ],
          "name": "stdout"
        }
      ]
    },
    {
      "cell_type": "code",
      "metadata": {
        "id": "YPoCxCp4kuRm",
        "colab": {
          "base_uri": "https://localhost:8080/"
        },
        "outputId": "30d5ab79-53f8-42cd-c711-02db904ad096"
      },
      "source": [
        "!git clone https://github.com/marquesgabi/Doutorado\n",
        "%cd Doutorado\n",
        "Transfere='FotosTreino882_and_Segm.zip'\n",
        "file_name = zipfile.ZipFile(Transfere, 'r')\n",
        "file_name.extractall()\n",
        "\n",
        "\"\"\"# First step: get the segmented file (photos stored in csv file)\"\"\"\n",
        "\n",
        "labels = [] #name files\n",
        "\n",
        "with zipfile.ZipFile(Transfere, \"r\") as f:\n",
        "  for f in f.namelist():\n",
        "    labels.append(f)\n",
        "\n",
        "Num=len(labels)\n",
        "ANN_dat=pd.read_csv(labels[0])\n",
        "for i in range(1,Num):\n",
        "  df_new=pd.read_csv(labels[i])\n",
        "  df_new = df_new[~df_new['Type'].isin(['G'])] # drop grain row which is not in 882\n",
        "  frames = [ANN_dat, df_new]\n",
        "  ANN_dat= pd.concat(frames, ignore_index=True)"
      ],
      "execution_count": 15,
      "outputs": [
        {
          "output_type": "stream",
          "text": [
            "fatal: destination path 'Doutorado' already exists and is not an empty directory.\n",
            "/content/marquesgabi_fev_2020/marquesgabi_paper_fev_2021/Doutorado/marquesgabi_paper_fev_2021/ANN_Ajuste_mar_2021/Doutorado\n"
          ],
          "name": "stdout"
        }
      ]
    },
    {
      "cell_type": "code",
      "metadata": {
        "id": "mv01JmHfmz-1"
      },
      "source": [
        "# open file to get df \n",
        "# use df and ANN to get grains and no grains\n",
        "# use grains to obtain psd"
      ],
      "execution_count": 16,
      "outputs": []
    },
    {
      "cell_type": "code",
      "metadata": {
        "id": "h4ELNAEunkox",
        "colab": {
          "base_uri": "https://localhost:8080/"
        },
        "outputId": "339b11be-de62-4b2e-91d7-d3d44b1ac8d6"
      },
      "source": [
        "!git clone https://github.com/marquesgabi/Doutorado\n",
        "%cd Doutorado"
      ],
      "execution_count": 17,
      "outputs": [
        {
          "output_type": "stream",
          "text": [
            "fatal: destination path 'Doutorado' already exists and is not an empty directory.\n",
            "/content/marquesgabi_fev_2020/marquesgabi_paper_fev_2021/Doutorado/marquesgabi_paper_fev_2021/ANN_Ajuste_mar_2021/Doutorado/Doutorado\n"
          ],
          "name": "stdout"
        }
      ]
    },
    {
      "cell_type": "code",
      "metadata": {
        "id": "aobZmEXHAxIP"
      },
      "source": [
        "y_valor=df['Type']\n",
        "\n",
        "quantidade= df.groupby('Type').size()\n",
        "\n",
        "df_G = df[df[\"Type\"] == \"G\"] \n",
        "Cut=['Unnamed: 0','Type','Width']\n",
        "FotosG= df_G.drop(Cut,axis=1)\n",
        "\n",
        "\n",
        "Size=28\n",
        "img_G=[]\n",
        "\n",
        "Num,cols=FotosG.shape\n",
        "for i in range(Num):\n",
        "  data=np.array(FotosG.iloc[i]).reshape(Size,Size)\n",
        "  img = Image.fromarray(data.astype('uint8'), mode='L')\n",
        "  img=np.float32(img)\n",
        "  img28=cv2.resize(img,(Size,Size), interpolation = cv2.INTER_AREA)\n",
        "  img_G.append(img28)\n",
        "\n",
        "df_Z = df[df[\"Type\"] == \"Z\"] \n",
        "Cut=['Unnamed: 0','Type','Width']\n",
        "FotosZ= df_Z.drop(Cut,axis=1)\n",
        "\n",
        "# We'll choose which is grain and withdraw from 750 segmented photos\n",
        "\n",
        "Size=28\n",
        "img_Z=[]\n",
        "\n",
        "Num,cols=FotosZ.shape\n",
        "for i in range(Num):\n",
        "  data=np.array(FotosZ.iloc[i]).reshape(Size,Size)\n",
        "  img = Image.fromarray(data.astype('uint8'), mode='L')\n",
        "  img=np.float32(img)\n",
        "  img28=cv2.resize(img,(Size,Size), interpolation = cv2.INTER_AREA)\n",
        "  img_Z.append(img28)\n",
        "\n",
        "GRAO=[0,146,149,166,217,222,223,257,268,286,455,482,538,612,644,647,651,677] # 0 ate 749\n",
        "GRAO=np.array(GRAO)\n",
        "Ind=FotosZ.index\n",
        "FotosNG=FotosZ.copy()\n",
        "for i in GRAO:\n",
        "  FotosNG=FotosNG.drop(Ind[i])\n",
        "\n",
        "PERCENT=245.0/(len(FotosNG.index))\n",
        "FotosNG=FotosNG.sample(frac=PERCENT, replace=True)\n",
        "\n",
        "rows,col=FotosG.shape\n",
        "y_total=[] # grao-->zero, nao grao-->1\n",
        "for i in range(rows):\n",
        "  y_total.append(0) #  # grao-->zero\n",
        "for i in range(rows,(2*rows)):\n",
        "  y_total.append(1) #  # nao grao-->zero\n",
        "\n",
        "frames = [FotosG,FotosNG]\n",
        "result = np.array(pd.concat(frames))/255\n",
        "\n"
      ],
      "execution_count": 18,
      "outputs": []
    },
    {
      "cell_type": "code",
      "metadata": {
        "colab": {
          "base_uri": "https://localhost:8080/"
        },
        "id": "CsSK3GZmMO66",
        "outputId": "4059eea6-4e17-4e1f-aad3-83195cab934e"
      },
      "source": [
        "FotosNG.shape"
      ],
      "execution_count": 19,
      "outputs": [
        {
          "output_type": "execute_result",
          "data": {
            "text/plain": [
              "(245, 784)"
            ]
          },
          "metadata": {
            "tags": []
          },
          "execution_count": 19
        }
      ]
    },
    {
      "cell_type": "code",
      "metadata": {
        "colab": {
          "base_uri": "https://localhost:8080/"
        },
        "id": "7U1RIZXNMoYC",
        "outputId": "25427f26-dbe5-47c2-a985-efb9ddba0856"
      },
      "source": [
        "FotosG.shape"
      ],
      "execution_count": 20,
      "outputs": [
        {
          "output_type": "execute_result",
          "data": {
            "text/plain": [
              "(245, 784)"
            ]
          },
          "metadata": {
            "tags": []
          },
          "execution_count": 20
        }
      ]
    },
    {
      "cell_type": "code",
      "metadata": {
        "colab": {
          "base_uri": "https://localhost:8080/"
        },
        "id": "bKoFHuDtObVX",
        "outputId": "89d49653-1905-40b2-d08c-7e526befe85b"
      },
      "source": [
        "len(y_total)"
      ],
      "execution_count": 21,
      "outputs": [
        {
          "output_type": "execute_result",
          "data": {
            "text/plain": [
              "490"
            ]
          },
          "metadata": {
            "tags": []
          },
          "execution_count": 21
        }
      ]
    },
    {
      "cell_type": "code",
      "metadata": {
        "id": "fUJ2GlgBNf3d"
      },
      "source": [
        "FotosG = pd.DataFrame((np.array(FotosG)*255.0))\n",
        "FotosG =FotosG.reset_index(drop=True)\n",
        "FotosNG =FotosNG.reset_index(drop=True)\n",
        "frames = [FotosG,FotosNG]\n",
        "result_fotos = pd.concat(frames, axis=1)\n"
      ],
      "execution_count": 22,
      "outputs": []
    },
    {
      "cell_type": "code",
      "metadata": {
        "id": "N4lY8FhqVOcc"
      },
      "source": [
        "FotosLista = FotosG.values.tolist()\n",
        "for i in range(FotosNG.shape[0]):\n",
        "  FotosLista.append(FotosNG.iloc[i,:])\n",
        "\n",
        "FotosLista = pd.DataFrame(FotosLista)\n",
        "\n",
        "FotosLista['y']=y_total"
      ],
      "execution_count": 23,
      "outputs": []
    },
    {
      "cell_type": "code",
      "metadata": {
        "colab": {
          "base_uri": "https://localhost:8080/"
        },
        "id": "xPgFTzmoVvr1",
        "outputId": "bad32672-3f66-492a-da00-b75e822ed664"
      },
      "source": [
        "FotosLista.shape\n"
      ],
      "execution_count": 24,
      "outputs": [
        {
          "output_type": "execute_result",
          "data": {
            "text/plain": [
              "(490, 785)"
            ]
          },
          "metadata": {
            "tags": []
          },
          "execution_count": 24
        }
      ]
    },
    {
      "cell_type": "code",
      "metadata": {
        "colab": {
          "base_uri": "https://localhost:8080/"
        },
        "id": "e9u0ExlGWLWr",
        "outputId": "37309c8e-e856-44b4-940f-0dcb09d46547"
      },
      "source": [
        "FotosNG.shape[0]"
      ],
      "execution_count": 25,
      "outputs": [
        {
          "output_type": "execute_result",
          "data": {
            "text/plain": [
              "245"
            ]
          },
          "metadata": {
            "tags": []
          },
          "execution_count": 25
        }
      ]
    },
    {
      "cell_type": "code",
      "metadata": {
        "colab": {
          "base_uri": "https://localhost:8080/",
          "height": 17
        },
        "id": "E-WgUqQhHeQp",
        "outputId": "61c554c5-6ba3-48da-fc9e-5247c3ee2fc9"
      },
      "source": [
        "df = FotosLista\n",
        "\n",
        "Arq = \"output.xlsx\"\n",
        "df.to_excel(Arq)\n",
        "from google.colab import files\n",
        "files.download(Arq)\n"
      ],
      "execution_count": 26,
      "outputs": [
        {
          "output_type": "display_data",
          "data": {
            "application/javascript": [
              "\n",
              "    async function download(id, filename, size) {\n",
              "      if (!google.colab.kernel.accessAllowed) {\n",
              "        return;\n",
              "      }\n",
              "      const div = document.createElement('div');\n",
              "      const label = document.createElement('label');\n",
              "      label.textContent = `Downloading \"${filename}\": `;\n",
              "      div.appendChild(label);\n",
              "      const progress = document.createElement('progress');\n",
              "      progress.max = size;\n",
              "      div.appendChild(progress);\n",
              "      document.body.appendChild(div);\n",
              "\n",
              "      const buffers = [];\n",
              "      let downloaded = 0;\n",
              "\n",
              "      const channel = await google.colab.kernel.comms.open(id);\n",
              "      // Send a message to notify the kernel that we're ready.\n",
              "      channel.send({})\n",
              "\n",
              "      for await (const message of channel.messages) {\n",
              "        // Send a message to notify the kernel that we're ready.\n",
              "        channel.send({})\n",
              "        if (message.buffers) {\n",
              "          for (const buffer of message.buffers) {\n",
              "            buffers.push(buffer);\n",
              "            downloaded += buffer.byteLength;\n",
              "            progress.value = downloaded;\n",
              "          }\n",
              "        }\n",
              "      }\n",
              "      const blob = new Blob(buffers, {type: 'application/binary'});\n",
              "      const a = document.createElement('a');\n",
              "      a.href = window.URL.createObjectURL(blob);\n",
              "      a.download = filename;\n",
              "      div.appendChild(a);\n",
              "      a.click();\n",
              "      div.remove();\n",
              "    }\n",
              "  "
            ],
            "text/plain": [
              "<IPython.core.display.Javascript object>"
            ]
          },
          "metadata": {
            "tags": []
          }
        },
        {
          "output_type": "display_data",
          "data": {
            "application/javascript": [
              "download(\"download_a40f9415-c60b-4eee-af11-1e9e1fd6eede\", \"output.xlsx\", 2924086)"
            ],
            "text/plain": [
              "<IPython.core.display.Javascript object>"
            ]
          },
          "metadata": {
            "tags": []
          }
        }
      ]
    },
    {
      "cell_type": "code",
      "metadata": {
        "colab": {
          "base_uri": "https://localhost:8080/",
          "height": 244
        },
        "id": "pTcG1wXMA8ml",
        "outputId": "9d79be38-ff27-4faa-a197-2967f21d4171"
      },
      "source": [
        "FotosG.head()"
      ],
      "execution_count": 27,
      "outputs": [
        {
          "output_type": "execute_result",
          "data": {
            "text/html": [
              "<div>\n",
              "<style scoped>\n",
              "    .dataframe tbody tr th:only-of-type {\n",
              "        vertical-align: middle;\n",
              "    }\n",
              "\n",
              "    .dataframe tbody tr th {\n",
              "        vertical-align: top;\n",
              "    }\n",
              "\n",
              "    .dataframe thead th {\n",
              "        text-align: right;\n",
              "    }\n",
              "</style>\n",
              "<table border=\"1\" class=\"dataframe\">\n",
              "  <thead>\n",
              "    <tr style=\"text-align: right;\">\n",
              "      <th></th>\n",
              "      <th>0</th>\n",
              "      <th>1</th>\n",
              "      <th>2</th>\n",
              "      <th>3</th>\n",
              "      <th>4</th>\n",
              "      <th>5</th>\n",
              "      <th>6</th>\n",
              "      <th>7</th>\n",
              "      <th>8</th>\n",
              "      <th>9</th>\n",
              "      <th>10</th>\n",
              "      <th>11</th>\n",
              "      <th>12</th>\n",
              "      <th>13</th>\n",
              "      <th>14</th>\n",
              "      <th>15</th>\n",
              "      <th>16</th>\n",
              "      <th>17</th>\n",
              "      <th>18</th>\n",
              "      <th>19</th>\n",
              "      <th>20</th>\n",
              "      <th>21</th>\n",
              "      <th>22</th>\n",
              "      <th>23</th>\n",
              "      <th>24</th>\n",
              "      <th>25</th>\n",
              "      <th>26</th>\n",
              "      <th>27</th>\n",
              "      <th>28</th>\n",
              "      <th>29</th>\n",
              "      <th>30</th>\n",
              "      <th>31</th>\n",
              "      <th>32</th>\n",
              "      <th>33</th>\n",
              "      <th>34</th>\n",
              "      <th>35</th>\n",
              "      <th>36</th>\n",
              "      <th>37</th>\n",
              "      <th>38</th>\n",
              "      <th>39</th>\n",
              "      <th>...</th>\n",
              "      <th>744</th>\n",
              "      <th>745</th>\n",
              "      <th>746</th>\n",
              "      <th>747</th>\n",
              "      <th>748</th>\n",
              "      <th>749</th>\n",
              "      <th>750</th>\n",
              "      <th>751</th>\n",
              "      <th>752</th>\n",
              "      <th>753</th>\n",
              "      <th>754</th>\n",
              "      <th>755</th>\n",
              "      <th>756</th>\n",
              "      <th>757</th>\n",
              "      <th>758</th>\n",
              "      <th>759</th>\n",
              "      <th>760</th>\n",
              "      <th>761</th>\n",
              "      <th>762</th>\n",
              "      <th>763</th>\n",
              "      <th>764</th>\n",
              "      <th>765</th>\n",
              "      <th>766</th>\n",
              "      <th>767</th>\n",
              "      <th>768</th>\n",
              "      <th>769</th>\n",
              "      <th>770</th>\n",
              "      <th>771</th>\n",
              "      <th>772</th>\n",
              "      <th>773</th>\n",
              "      <th>774</th>\n",
              "      <th>775</th>\n",
              "      <th>776</th>\n",
              "      <th>777</th>\n",
              "      <th>778</th>\n",
              "      <th>779</th>\n",
              "      <th>780</th>\n",
              "      <th>781</th>\n",
              "      <th>782</th>\n",
              "      <th>783</th>\n",
              "    </tr>\n",
              "  </thead>\n",
              "  <tbody>\n",
              "    <tr>\n",
              "      <th>0</th>\n",
              "      <td>0.00000</td>\n",
              "      <td>0.00000</td>\n",
              "      <td>0.80325</td>\n",
              "      <td>2.17005</td>\n",
              "      <td>11.75040</td>\n",
              "      <td>41.06265</td>\n",
              "      <td>63.55875</td>\n",
              "      <td>87.11565</td>\n",
              "      <td>102.38505</td>\n",
              "      <td>108.02565</td>\n",
              "      <td>118.61070</td>\n",
              "      <td>133.63020</td>\n",
              "      <td>138.24315</td>\n",
              "      <td>134.91285</td>\n",
              "      <td>125.88840</td>\n",
              "      <td>121.52280</td>\n",
              "      <td>118.66425</td>\n",
              "      <td>112.94715</td>\n",
              "      <td>110.8179</td>\n",
              "      <td>140.14800</td>\n",
              "      <td>158.56410</td>\n",
              "      <td>166.77510</td>\n",
              "      <td>170.86275</td>\n",
              "      <td>174.43020</td>\n",
              "      <td>178.75755</td>\n",
              "      <td>184.07940</td>\n",
              "      <td>186.03780</td>\n",
              "      <td>184.98210</td>\n",
              "      <td>0.0000</td>\n",
              "      <td>0.00000</td>\n",
              "      <td>0.22950</td>\n",
              "      <td>2.08080</td>\n",
              "      <td>10.51365</td>\n",
              "      <td>42.64110</td>\n",
              "      <td>71.46120</td>\n",
              "      <td>94.16895</td>\n",
              "      <td>111.11625</td>\n",
              "      <td>123.91980</td>\n",
              "      <td>134.53035</td>\n",
              "      <td>141.10170</td>\n",
              "      <td>...</td>\n",
              "      <td>175.53435</td>\n",
              "      <td>145.97985</td>\n",
              "      <td>128.97135</td>\n",
              "      <td>102.08670</td>\n",
              "      <td>107.11275</td>\n",
              "      <td>126.09240</td>\n",
              "      <td>137.75355</td>\n",
              "      <td>161.25945</td>\n",
              "      <td>170.62815</td>\n",
              "      <td>172.5228</td>\n",
              "      <td>172.52025</td>\n",
              "      <td>173.6550</td>\n",
              "      <td>0.33150</td>\n",
              "      <td>2.6469</td>\n",
              "      <td>4.05450</td>\n",
              "      <td>23.30190</td>\n",
              "      <td>125.50590</td>\n",
              "      <td>170.41905</td>\n",
              "      <td>178.16085</td>\n",
              "      <td>180.87150</td>\n",
              "      <td>180.41250</td>\n",
              "      <td>177.13320</td>\n",
              "      <td>172.41825</td>\n",
              "      <td>166.84395</td>\n",
              "      <td>165.92085</td>\n",
              "      <td>189.9903</td>\n",
              "      <td>185.18610</td>\n",
              "      <td>151.52100</td>\n",
              "      <td>136.87125</td>\n",
              "      <td>102.90270</td>\n",
              "      <td>73.34565</td>\n",
              "      <td>82.93365</td>\n",
              "      <td>103.59630</td>\n",
              "      <td>120.76800</td>\n",
              "      <td>129.28755</td>\n",
              "      <td>161.33850</td>\n",
              "      <td>171.75780</td>\n",
              "      <td>175.03710</td>\n",
              "      <td>175.00905</td>\n",
              "      <td>175.36095</td>\n",
              "    </tr>\n",
              "    <tr>\n",
              "      <th>1</th>\n",
              "      <td>0.00000</td>\n",
              "      <td>0.00000</td>\n",
              "      <td>0.00000</td>\n",
              "      <td>0.78795</td>\n",
              "      <td>1.99155</td>\n",
              "      <td>21.13440</td>\n",
              "      <td>64.03050</td>\n",
              "      <td>97.49415</td>\n",
              "      <td>131.09805</td>\n",
              "      <td>145.15620</td>\n",
              "      <td>147.96885</td>\n",
              "      <td>153.23460</td>\n",
              "      <td>155.00940</td>\n",
              "      <td>153.33150</td>\n",
              "      <td>151.51845</td>\n",
              "      <td>150.91665</td>\n",
              "      <td>155.02725</td>\n",
              "      <td>164.73255</td>\n",
              "      <td>173.0124</td>\n",
              "      <td>177.67635</td>\n",
              "      <td>179.88975</td>\n",
              "      <td>186.65490</td>\n",
              "      <td>189.57720</td>\n",
              "      <td>190.42890</td>\n",
              "      <td>190.72725</td>\n",
              "      <td>179.81835</td>\n",
              "      <td>163.10820</td>\n",
              "      <td>159.16845</td>\n",
              "      <td>0.0000</td>\n",
              "      <td>0.00000</td>\n",
              "      <td>0.00000</td>\n",
              "      <td>0.78795</td>\n",
              "      <td>3.46800</td>\n",
              "      <td>10.59780</td>\n",
              "      <td>50.71695</td>\n",
              "      <td>97.69050</td>\n",
              "      <td>138.08760</td>\n",
              "      <td>152.76540</td>\n",
              "      <td>155.69280</td>\n",
              "      <td>156.80460</td>\n",
              "      <td>...</td>\n",
              "      <td>212.42010</td>\n",
              "      <td>222.98220</td>\n",
              "      <td>224.37195</td>\n",
              "      <td>213.82515</td>\n",
              "      <td>174.09870</td>\n",
              "      <td>134.84145</td>\n",
              "      <td>129.83835</td>\n",
              "      <td>132.25830</td>\n",
              "      <td>126.98745</td>\n",
              "      <td>117.1419</td>\n",
              "      <td>123.70050</td>\n",
              "      <td>133.7067</td>\n",
              "      <td>1.99920</td>\n",
              "      <td>0.9996</td>\n",
              "      <td>1.78755</td>\n",
              "      <td>2.62905</td>\n",
              "      <td>12.43380</td>\n",
              "      <td>85.18530</td>\n",
              "      <td>96.63990</td>\n",
              "      <td>92.71035</td>\n",
              "      <td>88.75530</td>\n",
              "      <td>80.89365</td>\n",
              "      <td>76.10475</td>\n",
              "      <td>77.49705</td>\n",
              "      <td>80.95740</td>\n",
              "      <td>99.5928</td>\n",
              "      <td>124.77660</td>\n",
              "      <td>128.69085</td>\n",
              "      <td>137.03445</td>\n",
              "      <td>137.89380</td>\n",
              "      <td>134.19885</td>\n",
              "      <td>127.33680</td>\n",
              "      <td>123.71070</td>\n",
              "      <td>124.90410</td>\n",
              "      <td>127.20420</td>\n",
              "      <td>128.90505</td>\n",
              "      <td>125.11575</td>\n",
              "      <td>120.55635</td>\n",
              "      <td>125.61810</td>\n",
              "      <td>129.81795</td>\n",
              "    </tr>\n",
              "    <tr>\n",
              "      <th>2</th>\n",
              "      <td>115.56855</td>\n",
              "      <td>133.25535</td>\n",
              "      <td>144.43710</td>\n",
              "      <td>145.32195</td>\n",
              "      <td>111.35850</td>\n",
              "      <td>92.05500</td>\n",
              "      <td>95.71170</td>\n",
              "      <td>94.19445</td>\n",
              "      <td>90.15015</td>\n",
              "      <td>90.50970</td>\n",
              "      <td>90.50970</td>\n",
              "      <td>79.32030</td>\n",
              "      <td>62.48520</td>\n",
              "      <td>61.89870</td>\n",
              "      <td>70.23210</td>\n",
              "      <td>68.27370</td>\n",
              "      <td>66.62895</td>\n",
              "      <td>65.81805</td>\n",
              "      <td>65.8155</td>\n",
              "      <td>67.94220</td>\n",
              "      <td>74.86545</td>\n",
              "      <td>78.65220</td>\n",
              "      <td>80.35050</td>\n",
              "      <td>82.64805</td>\n",
              "      <td>86.53170</td>\n",
              "      <td>91.11915</td>\n",
              "      <td>96.05850</td>\n",
              "      <td>101.96940</td>\n",
              "      <td>11.0313</td>\n",
              "      <td>14.15760</td>\n",
              "      <td>19.25505</td>\n",
              "      <td>24.73245</td>\n",
              "      <td>48.40665</td>\n",
              "      <td>83.89755</td>\n",
              "      <td>91.27980</td>\n",
              "      <td>92.80725</td>\n",
              "      <td>91.90200</td>\n",
              "      <td>92.15700</td>\n",
              "      <td>91.12680</td>\n",
              "      <td>81.76575</td>\n",
              "      <td>...</td>\n",
              "      <td>134.45130</td>\n",
              "      <td>138.88065</td>\n",
              "      <td>140.83395</td>\n",
              "      <td>139.67115</td>\n",
              "      <td>135.41520</td>\n",
              "      <td>134.74710</td>\n",
              "      <td>135.09900</td>\n",
              "      <td>134.76240</td>\n",
              "      <td>135.74670</td>\n",
              "      <td>135.5427</td>\n",
              "      <td>134.72160</td>\n",
              "      <td>133.3548</td>\n",
              "      <td>89.81865</td>\n",
              "      <td>100.1640</td>\n",
              "      <td>114.96165</td>\n",
              "      <td>127.65555</td>\n",
              "      <td>140.02305</td>\n",
              "      <td>146.78565</td>\n",
              "      <td>137.30730</td>\n",
              "      <td>114.69135</td>\n",
              "      <td>107.68395</td>\n",
              "      <td>98.43510</td>\n",
              "      <td>85.52445</td>\n",
              "      <td>82.17375</td>\n",
              "      <td>89.10210</td>\n",
              "      <td>103.1985</td>\n",
              "      <td>113.15880</td>\n",
              "      <td>123.85605</td>\n",
              "      <td>135.80790</td>\n",
              "      <td>140.40300</td>\n",
              "      <td>145.00065</td>\n",
              "      <td>140.30355</td>\n",
              "      <td>133.69395</td>\n",
              "      <td>132.56685</td>\n",
              "      <td>132.54135</td>\n",
              "      <td>133.47465</td>\n",
              "      <td>136.34340</td>\n",
              "      <td>139.34475</td>\n",
              "      <td>140.04345</td>\n",
              "      <td>141.36945</td>\n",
              "    </tr>\n",
              "    <tr>\n",
              "      <th>3</th>\n",
              "      <td>192.18585</td>\n",
              "      <td>164.70450</td>\n",
              "      <td>159.36735</td>\n",
              "      <td>160.94835</td>\n",
              "      <td>154.96860</td>\n",
              "      <td>152.44155</td>\n",
              "      <td>151.14360</td>\n",
              "      <td>148.59360</td>\n",
              "      <td>146.05125</td>\n",
              "      <td>143.50635</td>\n",
              "      <td>141.00480</td>\n",
              "      <td>140.47185</td>\n",
              "      <td>136.89675</td>\n",
              "      <td>129.75420</td>\n",
              "      <td>122.26995</td>\n",
              "      <td>121.04085</td>\n",
              "      <td>119.64855</td>\n",
              "      <td>119.10030</td>\n",
              "      <td>118.2027</td>\n",
              "      <td>107.72730</td>\n",
              "      <td>90.72135</td>\n",
              "      <td>85.15215</td>\n",
              "      <td>84.13470</td>\n",
              "      <td>82.12785</td>\n",
              "      <td>120.93375</td>\n",
              "      <td>169.44240</td>\n",
              "      <td>181.96800</td>\n",
              "      <td>181.62630</td>\n",
              "      <td>194.6109</td>\n",
              "      <td>162.86595</td>\n",
              "      <td>150.00120</td>\n",
              "      <td>144.03165</td>\n",
              "      <td>138.91125</td>\n",
              "      <td>139.20450</td>\n",
              "      <td>137.89635</td>\n",
              "      <td>136.75905</td>\n",
              "      <td>134.92050</td>\n",
              "      <td>134.93580</td>\n",
              "      <td>137.43735</td>\n",
              "      <td>136.95795</td>\n",
              "      <td>...</td>\n",
              "      <td>124.91685</td>\n",
              "      <td>125.99805</td>\n",
              "      <td>125.05965</td>\n",
              "      <td>118.50615</td>\n",
              "      <td>106.20240</td>\n",
              "      <td>98.76150</td>\n",
              "      <td>96.00750</td>\n",
              "      <td>103.17810</td>\n",
              "      <td>108.27555</td>\n",
              "      <td>105.3558</td>\n",
              "      <td>122.14245</td>\n",
              "      <td>156.5088</td>\n",
              "      <td>118.52655</td>\n",
              "      <td>119.2635</td>\n",
              "      <td>120.69150</td>\n",
              "      <td>122.10930</td>\n",
              "      <td>118.53675</td>\n",
              "      <td>114.75000</td>\n",
              "      <td>112.51365</td>\n",
              "      <td>111.64665</td>\n",
              "      <td>111.72060</td>\n",
              "      <td>112.76355</td>\n",
              "      <td>114.94380</td>\n",
              "      <td>116.71860</td>\n",
              "      <td>116.56305</td>\n",
              "      <td>116.8665</td>\n",
              "      <td>120.07695</td>\n",
              "      <td>123.34860</td>\n",
              "      <td>125.66910</td>\n",
              "      <td>129.30285</td>\n",
              "      <td>129.76695</td>\n",
              "      <td>131.29695</td>\n",
              "      <td>128.79285</td>\n",
              "      <td>117.53205</td>\n",
              "      <td>108.08685</td>\n",
              "      <td>107.10510</td>\n",
              "      <td>111.59820</td>\n",
              "      <td>110.55780</td>\n",
              "      <td>123.73620</td>\n",
              "      <td>157.78380</td>\n",
              "    </tr>\n",
              "    <tr>\n",
              "      <th>4</th>\n",
              "      <td>241.02855</td>\n",
              "      <td>228.82680</td>\n",
              "      <td>157.72260</td>\n",
              "      <td>130.33560</td>\n",
              "      <td>122.93805</td>\n",
              "      <td>112.64880</td>\n",
              "      <td>122.25465</td>\n",
              "      <td>140.27805</td>\n",
              "      <td>147.75210</td>\n",
              "      <td>148.16265</td>\n",
              "      <td>150.11850</td>\n",
              "      <td>149.04750</td>\n",
              "      <td>144.50595</td>\n",
              "      <td>140.05620</td>\n",
              "      <td>141.73665</td>\n",
              "      <td>172.73190</td>\n",
              "      <td>178.12515</td>\n",
              "      <td>179.72910</td>\n",
              "      <td>182.6055</td>\n",
              "      <td>186.49425</td>\n",
              "      <td>187.92990</td>\n",
              "      <td>190.82925</td>\n",
              "      <td>191.01795</td>\n",
              "      <td>186.65235</td>\n",
              "      <td>182.82735</td>\n",
              "      <td>182.50350</td>\n",
              "      <td>181.27695</td>\n",
              "      <td>179.05080</td>\n",
              "      <td>241.5003</td>\n",
              "      <td>226.96785</td>\n",
              "      <td>164.25315</td>\n",
              "      <td>143.90670</td>\n",
              "      <td>154.27500</td>\n",
              "      <td>168.09600</td>\n",
              "      <td>179.15790</td>\n",
              "      <td>182.88855</td>\n",
              "      <td>178.26030</td>\n",
              "      <td>168.29235</td>\n",
              "      <td>166.55325</td>\n",
              "      <td>167.08875</td>\n",
              "      <td>...</td>\n",
              "      <td>178.35720</td>\n",
              "      <td>175.30485</td>\n",
              "      <td>170.87295</td>\n",
              "      <td>145.76055</td>\n",
              "      <td>130.81245</td>\n",
              "      <td>158.22495</td>\n",
              "      <td>197.89530</td>\n",
              "      <td>242.40045</td>\n",
              "      <td>251.19030</td>\n",
              "      <td>252.0777</td>\n",
              "      <td>251.16990</td>\n",
              "      <td>248.0691</td>\n",
              "      <td>158.51820</td>\n",
              "      <td>162.1545</td>\n",
              "      <td>168.01695</td>\n",
              "      <td>169.90905</td>\n",
              "      <td>172.71150</td>\n",
              "      <td>171.88785</td>\n",
              "      <td>161.74650</td>\n",
              "      <td>144.70740</td>\n",
              "      <td>135.42540</td>\n",
              "      <td>139.46205</td>\n",
              "      <td>150.96255</td>\n",
              "      <td>162.98070</td>\n",
              "      <td>170.21760</td>\n",
              "      <td>173.2470</td>\n",
              "      <td>174.29760</td>\n",
              "      <td>178.34955</td>\n",
              "      <td>180.43800</td>\n",
              "      <td>178.39800</td>\n",
              "      <td>175.02435</td>\n",
              "      <td>157.28145</td>\n",
              "      <td>133.64295</td>\n",
              "      <td>173.83860</td>\n",
              "      <td>235.89030</td>\n",
              "      <td>249.46395</td>\n",
              "      <td>252.21795</td>\n",
              "      <td>252.30210</td>\n",
              "      <td>250.17540</td>\n",
              "      <td>244.38690</td>\n",
              "    </tr>\n",
              "  </tbody>\n",
              "</table>\n",
              "<p>5 rows × 784 columns</p>\n",
              "</div>"
            ],
            "text/plain": [
              "         0          1          2    ...        781        782        783\n",
              "0    0.00000    0.00000    0.80325  ...  175.03710  175.00905  175.36095\n",
              "1    0.00000    0.00000    0.00000  ...  120.55635  125.61810  129.81795\n",
              "2  115.56855  133.25535  144.43710  ...  139.34475  140.04345  141.36945\n",
              "3  192.18585  164.70450  159.36735  ...  110.55780  123.73620  157.78380\n",
              "4  241.02855  228.82680  157.72260  ...  252.30210  250.17540  244.38690\n",
              "\n",
              "[5 rows x 784 columns]"
            ]
          },
          "metadata": {
            "tags": []
          },
          "execution_count": 27
        }
      ]
    },
    {
      "cell_type": "code",
      "metadata": {
        "colab": {
          "base_uri": "https://localhost:8080/"
        },
        "id": "jjpqjbw3_jQc",
        "outputId": "495255fb-9442-44a3-be3d-679463115df2"
      },
      "source": [
        "df.shape"
      ],
      "execution_count": 28,
      "outputs": [
        {
          "output_type": "execute_result",
          "data": {
            "text/plain": [
              "(490, 785)"
            ]
          },
          "metadata": {
            "tags": []
          },
          "execution_count": 28
        }
      ]
    },
    {
      "cell_type": "code",
      "metadata": {
        "colab": {
          "base_uri": "https://localhost:8080/",
          "height": 244
        },
        "id": "qY1otkdMS5xk",
        "outputId": "f3cc6337-5d58-471d-a845-4bf9342a1887"
      },
      "source": [
        "df.tail()"
      ],
      "execution_count": 31,
      "outputs": [
        {
          "output_type": "execute_result",
          "data": {
            "text/html": [
              "<div>\n",
              "<style scoped>\n",
              "    .dataframe tbody tr th:only-of-type {\n",
              "        vertical-align: middle;\n",
              "    }\n",
              "\n",
              "    .dataframe tbody tr th {\n",
              "        vertical-align: top;\n",
              "    }\n",
              "\n",
              "    .dataframe thead th {\n",
              "        text-align: right;\n",
              "    }\n",
              "</style>\n",
              "<table border=\"1\" class=\"dataframe\">\n",
              "  <thead>\n",
              "    <tr style=\"text-align: right;\">\n",
              "      <th></th>\n",
              "      <th>0</th>\n",
              "      <th>1</th>\n",
              "      <th>2</th>\n",
              "      <th>3</th>\n",
              "      <th>4</th>\n",
              "      <th>5</th>\n",
              "      <th>6</th>\n",
              "      <th>7</th>\n",
              "      <th>8</th>\n",
              "      <th>9</th>\n",
              "      <th>10</th>\n",
              "      <th>11</th>\n",
              "      <th>12</th>\n",
              "      <th>13</th>\n",
              "      <th>14</th>\n",
              "      <th>15</th>\n",
              "      <th>16</th>\n",
              "      <th>17</th>\n",
              "      <th>18</th>\n",
              "      <th>19</th>\n",
              "      <th>20</th>\n",
              "      <th>21</th>\n",
              "      <th>22</th>\n",
              "      <th>23</th>\n",
              "      <th>24</th>\n",
              "      <th>25</th>\n",
              "      <th>26</th>\n",
              "      <th>27</th>\n",
              "      <th>28</th>\n",
              "      <th>29</th>\n",
              "      <th>30</th>\n",
              "      <th>31</th>\n",
              "      <th>32</th>\n",
              "      <th>33</th>\n",
              "      <th>34</th>\n",
              "      <th>35</th>\n",
              "      <th>36</th>\n",
              "      <th>37</th>\n",
              "      <th>38</th>\n",
              "      <th>39</th>\n",
              "      <th>...</th>\n",
              "      <th>745</th>\n",
              "      <th>746</th>\n",
              "      <th>747</th>\n",
              "      <th>748</th>\n",
              "      <th>749</th>\n",
              "      <th>750</th>\n",
              "      <th>751</th>\n",
              "      <th>752</th>\n",
              "      <th>753</th>\n",
              "      <th>754</th>\n",
              "      <th>755</th>\n",
              "      <th>756</th>\n",
              "      <th>757</th>\n",
              "      <th>758</th>\n",
              "      <th>759</th>\n",
              "      <th>760</th>\n",
              "      <th>761</th>\n",
              "      <th>762</th>\n",
              "      <th>763</th>\n",
              "      <th>764</th>\n",
              "      <th>765</th>\n",
              "      <th>766</th>\n",
              "      <th>767</th>\n",
              "      <th>768</th>\n",
              "      <th>769</th>\n",
              "      <th>770</th>\n",
              "      <th>771</th>\n",
              "      <th>772</th>\n",
              "      <th>773</th>\n",
              "      <th>774</th>\n",
              "      <th>775</th>\n",
              "      <th>776</th>\n",
              "      <th>777</th>\n",
              "      <th>778</th>\n",
              "      <th>779</th>\n",
              "      <th>780</th>\n",
              "      <th>781</th>\n",
              "      <th>782</th>\n",
              "      <th>783</th>\n",
              "      <th>y</th>\n",
              "    </tr>\n",
              "  </thead>\n",
              "  <tbody>\n",
              "    <tr>\n",
              "      <th>485</th>\n",
              "      <td>59.54250</td>\n",
              "      <td>59.91923</td>\n",
              "      <td>51.78403</td>\n",
              "      <td>91.88225</td>\n",
              "      <td>112.39494</td>\n",
              "      <td>109.89882</td>\n",
              "      <td>108.19972</td>\n",
              "      <td>107.08718</td>\n",
              "      <td>104.35901</td>\n",
              "      <td>107.43829</td>\n",
              "      <td>106.74881</td>\n",
              "      <td>92.46578</td>\n",
              "      <td>87.17728</td>\n",
              "      <td>87.77854</td>\n",
              "      <td>87.70140</td>\n",
              "      <td>93.71654</td>\n",
              "      <td>98.20927</td>\n",
              "      <td>95.61679</td>\n",
              "      <td>94.29601</td>\n",
              "      <td>89.32471</td>\n",
              "      <td>88.02051</td>\n",
              "      <td>86.06760</td>\n",
              "      <td>92.96883</td>\n",
              "      <td>104.85459</td>\n",
              "      <td>108.99265</td>\n",
              "      <td>111.88713</td>\n",
              "      <td>113.55616</td>\n",
              "      <td>114.22906</td>\n",
              "      <td>53.64115</td>\n",
              "      <td>53.67747</td>\n",
              "      <td>53.69042</td>\n",
              "      <td>62.00307</td>\n",
              "      <td>81.02892</td>\n",
              "      <td>94.04005</td>\n",
              "      <td>100.04466</td>\n",
              "      <td>97.78709</td>\n",
              "      <td>92.81004</td>\n",
              "      <td>98.66113</td>\n",
              "      <td>106.02376</td>\n",
              "      <td>96.85635</td>\n",
              "      <td>...</td>\n",
              "      <td>0.63940</td>\n",
              "      <td>0.79424</td>\n",
              "      <td>0.69580</td>\n",
              "      <td>0.63128</td>\n",
              "      <td>0.59287</td>\n",
              "      <td>0.49147</td>\n",
              "      <td>0.25904</td>\n",
              "      <td>0.03512</td>\n",
              "      <td>0.02085</td>\n",
              "      <td>0.01893</td>\n",
              "      <td>0.12307</td>\n",
              "      <td>10.70206</td>\n",
              "      <td>11.47451</td>\n",
              "      <td>9.91117</td>\n",
              "      <td>10.36252</td>\n",
              "      <td>11.14063</td>\n",
              "      <td>10.55846</td>\n",
              "      <td>9.61086</td>\n",
              "      <td>9.49180</td>\n",
              "      <td>10.12444</td>\n",
              "      <td>11.43484</td>\n",
              "      <td>10.96477</td>\n",
              "      <td>9.87396</td>\n",
              "      <td>10.38557</td>\n",
              "      <td>10.12055</td>\n",
              "      <td>10.54919</td>\n",
              "      <td>10.49882</td>\n",
              "      <td>9.60861</td>\n",
              "      <td>10.05383</td>\n",
              "      <td>10.97081</td>\n",
              "      <td>10.35945</td>\n",
              "      <td>10.80346</td>\n",
              "      <td>10.49772</td>\n",
              "      <td>10.46085</td>\n",
              "      <td>10.21876</td>\n",
              "      <td>10.45048</td>\n",
              "      <td>9.81333</td>\n",
              "      <td>9.62321</td>\n",
              "      <td>10.16126</td>\n",
              "      <td>1</td>\n",
              "    </tr>\n",
              "    <tr>\n",
              "      <th>486</th>\n",
              "      <td>150.52072</td>\n",
              "      <td>151.88167</td>\n",
              "      <td>148.70415</td>\n",
              "      <td>177.00000</td>\n",
              "      <td>198.00592</td>\n",
              "      <td>156.83432</td>\n",
              "      <td>108.54438</td>\n",
              "      <td>108.55622</td>\n",
              "      <td>103.09468</td>\n",
              "      <td>106.68048</td>\n",
              "      <td>110.66865</td>\n",
              "      <td>111.22485</td>\n",
              "      <td>110.96450</td>\n",
              "      <td>111.97042</td>\n",
              "      <td>112.46746</td>\n",
              "      <td>117.23669</td>\n",
              "      <td>118.78699</td>\n",
              "      <td>117.20119</td>\n",
              "      <td>127.40237</td>\n",
              "      <td>144.26630</td>\n",
              "      <td>150.31953</td>\n",
              "      <td>155.39645</td>\n",
              "      <td>156.95267</td>\n",
              "      <td>157.65089</td>\n",
              "      <td>160.47339</td>\n",
              "      <td>165.65683</td>\n",
              "      <td>144.85208</td>\n",
              "      <td>105.66864</td>\n",
              "      <td>148.88759</td>\n",
              "      <td>152.99409</td>\n",
              "      <td>155.49706</td>\n",
              "      <td>168.66866</td>\n",
              "      <td>197.56805</td>\n",
              "      <td>187.68642</td>\n",
              "      <td>109.44379</td>\n",
              "      <td>111.68048</td>\n",
              "      <td>102.33728</td>\n",
              "      <td>103.88758</td>\n",
              "      <td>109.57990</td>\n",
              "      <td>109.99409</td>\n",
              "      <td>...</td>\n",
              "      <td>150.97043</td>\n",
              "      <td>152.34320</td>\n",
              "      <td>151.25444</td>\n",
              "      <td>122.66865</td>\n",
              "      <td>125.55623</td>\n",
              "      <td>151.60358</td>\n",
              "      <td>156.82251</td>\n",
              "      <td>153.62131</td>\n",
              "      <td>149.02960</td>\n",
              "      <td>145.92900</td>\n",
              "      <td>154.13019</td>\n",
              "      <td>91.83433</td>\n",
              "      <td>101.26627</td>\n",
              "      <td>99.49113</td>\n",
              "      <td>99.70414</td>\n",
              "      <td>99.94083</td>\n",
              "      <td>99.60947</td>\n",
              "      <td>99.85207</td>\n",
              "      <td>100.58580</td>\n",
              "      <td>103.90533</td>\n",
              "      <td>119.42012</td>\n",
              "      <td>148.02959</td>\n",
              "      <td>154.27811</td>\n",
              "      <td>149.94084</td>\n",
              "      <td>148.47339</td>\n",
              "      <td>150.91718</td>\n",
              "      <td>151.41422</td>\n",
              "      <td>151.98817</td>\n",
              "      <td>153.50298</td>\n",
              "      <td>153.83434</td>\n",
              "      <td>154.47337</td>\n",
              "      <td>155.26036</td>\n",
              "      <td>162.19528</td>\n",
              "      <td>166.25446</td>\n",
              "      <td>167.21301</td>\n",
              "      <td>167.07695</td>\n",
              "      <td>165.20712</td>\n",
              "      <td>166.68640</td>\n",
              "      <td>168.33138</td>\n",
              "      <td>1</td>\n",
              "    </tr>\n",
              "    <tr>\n",
              "      <th>487</th>\n",
              "      <td>175.47449</td>\n",
              "      <td>172.98299</td>\n",
              "      <td>169.61436</td>\n",
              "      <td>162.24576</td>\n",
              "      <td>149.00378</td>\n",
              "      <td>142.94330</td>\n",
              "      <td>133.35728</td>\n",
              "      <td>125.38752</td>\n",
              "      <td>124.12665</td>\n",
              "      <td>127.52552</td>\n",
              "      <td>139.03214</td>\n",
              "      <td>161.04349</td>\n",
              "      <td>176.82797</td>\n",
              "      <td>141.12288</td>\n",
              "      <td>162.97922</td>\n",
              "      <td>167.35728</td>\n",
              "      <td>162.81097</td>\n",
              "      <td>160.95842</td>\n",
              "      <td>158.64084</td>\n",
              "      <td>150.55009</td>\n",
              "      <td>151.37619</td>\n",
              "      <td>140.82420</td>\n",
              "      <td>136.79773</td>\n",
              "      <td>144.42345</td>\n",
              "      <td>144.22307</td>\n",
              "      <td>125.46314</td>\n",
              "      <td>155.88847</td>\n",
              "      <td>208.30812</td>\n",
              "      <td>166.86957</td>\n",
              "      <td>167.19093</td>\n",
              "      <td>169.52364</td>\n",
              "      <td>165.84500</td>\n",
              "      <td>154.34595</td>\n",
              "      <td>143.31001</td>\n",
              "      <td>132.66164</td>\n",
              "      <td>129.84122</td>\n",
              "      <td>126.89414</td>\n",
              "      <td>127.68431</td>\n",
              "      <td>139.74670</td>\n",
              "      <td>164.01134</td>\n",
              "      <td>...</td>\n",
              "      <td>144.21361</td>\n",
              "      <td>117.37618</td>\n",
              "      <td>124.22684</td>\n",
              "      <td>156.69566</td>\n",
              "      <td>156.96788</td>\n",
              "      <td>147.09074</td>\n",
              "      <td>145.09073</td>\n",
              "      <td>155.69376</td>\n",
              "      <td>159.50095</td>\n",
              "      <td>154.22307</td>\n",
              "      <td>149.60681</td>\n",
              "      <td>118.26466</td>\n",
              "      <td>113.92062</td>\n",
              "      <td>142.36673</td>\n",
              "      <td>160.70700</td>\n",
              "      <td>164.81476</td>\n",
              "      <td>163.48772</td>\n",
              "      <td>162.13800</td>\n",
              "      <td>165.31760</td>\n",
              "      <td>172.97920</td>\n",
              "      <td>174.60870</td>\n",
              "      <td>167.79774</td>\n",
              "      <td>158.33838</td>\n",
              "      <td>149.84879</td>\n",
              "      <td>142.32893</td>\n",
              "      <td>161.85446</td>\n",
              "      <td>168.37997</td>\n",
              "      <td>158.94708</td>\n",
              "      <td>145.98300</td>\n",
              "      <td>137.93951</td>\n",
              "      <td>140.67674</td>\n",
              "      <td>153.25142</td>\n",
              "      <td>150.98300</td>\n",
              "      <td>144.67865</td>\n",
              "      <td>143.41211</td>\n",
              "      <td>154.41588</td>\n",
              "      <td>162.42723</td>\n",
              "      <td>161.31570</td>\n",
              "      <td>152.04160</td>\n",
              "      <td>1</td>\n",
              "    </tr>\n",
              "    <tr>\n",
              "      <th>488</th>\n",
              "      <td>114.16779</td>\n",
              "      <td>115.47778</td>\n",
              "      <td>106.15445</td>\n",
              "      <td>31.90000</td>\n",
              "      <td>14.45667</td>\n",
              "      <td>17.23889</td>\n",
              "      <td>23.95667</td>\n",
              "      <td>35.88556</td>\n",
              "      <td>42.69445</td>\n",
              "      <td>46.25445</td>\n",
              "      <td>47.65223</td>\n",
              "      <td>51.51111</td>\n",
              "      <td>56.05777</td>\n",
              "      <td>62.29111</td>\n",
              "      <td>73.88111</td>\n",
              "      <td>82.24777</td>\n",
              "      <td>89.62667</td>\n",
              "      <td>98.99334</td>\n",
              "      <td>101.66000</td>\n",
              "      <td>104.08890</td>\n",
              "      <td>108.53667</td>\n",
              "      <td>112.70667</td>\n",
              "      <td>115.95890</td>\n",
              "      <td>119.99001</td>\n",
              "      <td>120.90890</td>\n",
              "      <td>117.59555</td>\n",
              "      <td>117.08667</td>\n",
              "      <td>116.73667</td>\n",
              "      <td>114.47000</td>\n",
              "      <td>114.45222</td>\n",
              "      <td>88.58778</td>\n",
              "      <td>18.71778</td>\n",
              "      <td>16.38778</td>\n",
              "      <td>24.09222</td>\n",
              "      <td>31.62556</td>\n",
              "      <td>39.90223</td>\n",
              "      <td>43.05667</td>\n",
              "      <td>43.71556</td>\n",
              "      <td>46.14667</td>\n",
              "      <td>47.49667</td>\n",
              "      <td>...</td>\n",
              "      <td>97.06445</td>\n",
              "      <td>95.33556</td>\n",
              "      <td>91.27223</td>\n",
              "      <td>86.84333</td>\n",
              "      <td>85.43555</td>\n",
              "      <td>85.92111</td>\n",
              "      <td>85.28223</td>\n",
              "      <td>85.39890</td>\n",
              "      <td>86.55111</td>\n",
              "      <td>88.46222</td>\n",
              "      <td>90.54111</td>\n",
              "      <td>56.74333</td>\n",
              "      <td>57.90334</td>\n",
              "      <td>60.09111</td>\n",
              "      <td>60.41889</td>\n",
              "      <td>60.10334</td>\n",
              "      <td>62.66445</td>\n",
              "      <td>65.90222</td>\n",
              "      <td>67.05889</td>\n",
              "      <td>65.52556</td>\n",
              "      <td>67.55556</td>\n",
              "      <td>68.81556</td>\n",
              "      <td>70.18333</td>\n",
              "      <td>71.30444</td>\n",
              "      <td>76.65556</td>\n",
              "      <td>84.58667</td>\n",
              "      <td>94.65112</td>\n",
              "      <td>99.68667</td>\n",
              "      <td>99.39445</td>\n",
              "      <td>96.38667</td>\n",
              "      <td>93.44667</td>\n",
              "      <td>88.79778</td>\n",
              "      <td>85.07445</td>\n",
              "      <td>84.34889</td>\n",
              "      <td>85.50111</td>\n",
              "      <td>86.06333</td>\n",
              "      <td>85.84555</td>\n",
              "      <td>88.72222</td>\n",
              "      <td>91.09556</td>\n",
              "      <td>1</td>\n",
              "    </tr>\n",
              "    <tr>\n",
              "      <th>489</th>\n",
              "      <td>43.10861</td>\n",
              "      <td>43.31586</td>\n",
              "      <td>42.46126</td>\n",
              "      <td>25.74237</td>\n",
              "      <td>14.07631</td>\n",
              "      <td>32.25422</td>\n",
              "      <td>62.95599</td>\n",
              "      <td>72.16313</td>\n",
              "      <td>76.96173</td>\n",
              "      <td>84.00669</td>\n",
              "      <td>88.25156</td>\n",
              "      <td>87.13221</td>\n",
              "      <td>84.64809</td>\n",
              "      <td>90.55797</td>\n",
              "      <td>94.26793</td>\n",
              "      <td>97.26802</td>\n",
              "      <td>96.34285</td>\n",
              "      <td>92.74184</td>\n",
              "      <td>90.19066</td>\n",
              "      <td>84.69572</td>\n",
              "      <td>85.94334</td>\n",
              "      <td>90.36996</td>\n",
              "      <td>90.51365</td>\n",
              "      <td>90.54787</td>\n",
              "      <td>94.71643</td>\n",
              "      <td>99.04293</td>\n",
              "      <td>101.92910</td>\n",
              "      <td>107.70485</td>\n",
              "      <td>40.38506</td>\n",
              "      <td>39.18599</td>\n",
              "      <td>39.79700</td>\n",
              "      <td>39.39823</td>\n",
              "      <td>35.84716</td>\n",
              "      <td>48.88702</td>\n",
              "      <td>63.48400</td>\n",
              "      <td>69.79137</td>\n",
              "      <td>75.84705</td>\n",
              "      <td>82.03028</td>\n",
              "      <td>85.62302</td>\n",
              "      <td>83.19555</td>\n",
              "      <td>...</td>\n",
              "      <td>94.34105</td>\n",
              "      <td>88.46497</td>\n",
              "      <td>87.09628</td>\n",
              "      <td>85.79009</td>\n",
              "      <td>83.00105</td>\n",
              "      <td>72.19598</td>\n",
              "      <td>54.35498</td>\n",
              "      <td>50.08492</td>\n",
              "      <td>49.48634</td>\n",
              "      <td>48.91497</td>\n",
              "      <td>56.24582</td>\n",
              "      <td>37.57679</td>\n",
              "      <td>34.36178</td>\n",
              "      <td>35.34924</td>\n",
              "      <td>40.92007</td>\n",
              "      <td>49.97980</td>\n",
              "      <td>45.06876</td>\n",
              "      <td>36.19003</td>\n",
              "      <td>37.79870</td>\n",
              "      <td>37.55266</td>\n",
              "      <td>31.83112</td>\n",
              "      <td>30.72951</td>\n",
              "      <td>31.54979</td>\n",
              "      <td>45.58614</td>\n",
              "      <td>78.45806</td>\n",
              "      <td>88.41470</td>\n",
              "      <td>92.53289</td>\n",
              "      <td>92.04261</td>\n",
              "      <td>88.29301</td>\n",
              "      <td>86.52194</td>\n",
              "      <td>86.28409</td>\n",
              "      <td>83.85768</td>\n",
              "      <td>77.52395</td>\n",
              "      <td>62.30502</td>\n",
              "      <td>52.73227</td>\n",
              "      <td>49.12371</td>\n",
              "      <td>49.19428</td>\n",
              "      <td>50.11573</td>\n",
              "      <td>52.67073</td>\n",
              "      <td>1</td>\n",
              "    </tr>\n",
              "  </tbody>\n",
              "</table>\n",
              "<p>5 rows × 785 columns</p>\n",
              "</div>"
            ],
            "text/plain": [
              "             0          1          2  ...        782        783  y\n",
              "485   59.54250   59.91923   51.78403  ...    9.62321   10.16126  1\n",
              "486  150.52072  151.88167  148.70415  ...  166.68640  168.33138  1\n",
              "487  175.47449  172.98299  169.61436  ...  161.31570  152.04160  1\n",
              "488  114.16779  115.47778  106.15445  ...   88.72222   91.09556  1\n",
              "489   43.10861   43.31586   42.46126  ...   50.11573   52.67073  1\n",
              "\n",
              "[5 rows x 785 columns]"
            ]
          },
          "metadata": {
            "tags": []
          },
          "execution_count": 31
        }
      ]
    }
  ]
}