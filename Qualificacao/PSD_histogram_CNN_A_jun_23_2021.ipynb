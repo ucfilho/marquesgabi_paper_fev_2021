{
  "nbformat": 4,
  "nbformat_minor": 0,
  "metadata": {
    "colab": {
      "name": "PSD_histogram_CNN_A_jun_23_2021.ipynb",
      "provenance": [],
      "collapsed_sections": [],
      "include_colab_link": true
    },
    "kernelspec": {
      "name": "python3",
      "display_name": "Python 3"
    }
  },
  "cells": [
    {
      "cell_type": "markdown",
      "metadata": {
        "id": "view-in-github",
        "colab_type": "text"
      },
      "source": [
        "<a href=\"https://colab.research.google.com/github/ucfilho/marquesgabi_paper_fev_2021/blob/main/Qualificacao/PSD_histogram_CNN_A_jun_23_2021.ipynb\" target=\"_parent\"><img src=\"https://colab.research.google.com/assets/colab-badge.svg\" alt=\"Open In Colab\"/></a>"
      ]
    },
    {
      "cell_type": "code",
      "metadata": {
        "id": "Sog7Z9pyhUD_"
      },
      "source": [
        "import matplotlib.pyplot as plt\n",
        "import numpy as np\n",
        "import cv2\n",
        "import zipfile\n",
        "#import random\n",
        "from random import randint\n",
        "from PIL import Image\n",
        "import re\n",
        "from sklearn.model_selection import train_test_split\n",
        "#import scikit-image\n",
        "import skimage\n",
        "import sklearn\n",
        "import pandas as pd\n",
        "from keras.models import Sequential\n",
        "from keras.layers import Dense, Activation, Conv2D, MaxPooling2D, Flatten, Dropout, BatchNormalization"
      ],
      "execution_count": 1,
      "outputs": []
    },
    {
      "cell_type": "code",
      "metadata": {
        "id": "uZEvJvfoibE4",
        "colab": {
          "base_uri": "https://localhost:8080/"
        },
        "outputId": "5a702747-8e2c-48d9-bee5-84848a222661"
      },
      "source": [
        "!pip install mahotas"
      ],
      "execution_count": 2,
      "outputs": [
        {
          "output_type": "stream",
          "text": [
            "Requirement already satisfied: mahotas in /usr/local/lib/python3.7/dist-packages (1.4.11)\n",
            "Requirement already satisfied: numpy in /usr/local/lib/python3.7/dist-packages (from mahotas) (1.19.5)\n"
          ],
          "name": "stdout"
        }
      ]
    },
    {
      "cell_type": "code",
      "metadata": {
        "id": "nf_a6PJ1iUnT"
      },
      "source": [
        "import mahotas.features.texture as mht\n",
        "import mahotas.features"
      ],
      "execution_count": 3,
      "outputs": []
    },
    {
      "cell_type": "code",
      "metadata": {
        "id": "_VcTdaNVh9EE",
        "colab": {
          "base_uri": "https://localhost:8080/"
        },
        "outputId": "20106f4c-7cfd-44a4-fed0-9b64ccc264e6"
      },
      "source": [
        "!git clone https://github.com/ucfilho/marquesgabi_fev_2020 #clonar do Github\n",
        "%cd marquesgabi_fev_2020\n",
        "import Go2BlackWhite\n",
        "import Go2Mahotas"
      ],
      "execution_count": 4,
      "outputs": [
        {
          "output_type": "stream",
          "text": [
            "fatal: destination path 'marquesgabi_fev_2020' already exists and is not an empty directory.\n",
            "/content/marquesgabi_fev_2020\n"
          ],
          "name": "stdout"
        }
      ]
    },
    {
      "cell_type": "code",
      "metadata": {
        "id": "1v7SRrc8mH2N",
        "colab": {
          "base_uri": "https://localhost:8080/"
        },
        "outputId": "df1e241f-30ec-465a-bea9-b8daa22ccd47"
      },
      "source": [
        "!git clone https://github.com/marquesgabi/Doutorado\n",
        "%cd Doutorado\n",
        "\n",
        "Transfere='Fotos_Grandes_3cdAmostra.zip'\n",
        "file_name = zipfile.ZipFile(Transfere, 'r')\n",
        "file_name.extractall()"
      ],
      "execution_count": 5,
      "outputs": [
        {
          "output_type": "stream",
          "text": [
            "fatal: destination path 'Doutorado' already exists and is not an empty directory.\n",
            "/content/marquesgabi_fev_2020/Doutorado\n"
          ],
          "name": "stdout"
        }
      ]
    },
    {
      "cell_type": "code",
      "metadata": {
        "id": "0kA4IWSmasoD"
      },
      "source": [
        "Size=1200 # tamanho da foto\n",
        "ww,img_name=Go2BlackWhite.BlackWhite(Transfere,Size) #Pegamos a primeira foto Grande\n",
        "img=ww[4] \n",
        "# this is the big image we want to segment \n",
        "# ww[0], change it if you want to segment another picture"
      ],
      "execution_count": 6,
      "outputs": []
    },
    {
      "cell_type": "code",
      "metadata": {
        "id": "tHgqAnaFyCjp",
        "colab": {
          "base_uri": "https://localhost:8080/"
        },
        "outputId": "0cc3e8dc-e2ab-43a1-b8ba-4964070a9df1"
      },
      "source": [
        "!git clone https://github.com/ucfilho/MarquesGabi_Routines\n",
        "%cd MarquesGabi_Routines"
      ],
      "execution_count": 7,
      "outputs": [
        {
          "output_type": "stream",
          "text": [
            "fatal: destination path 'MarquesGabi_Routines' already exists and is not an empty directory.\n",
            "/content/marquesgabi_fev_2020/Doutorado/MarquesGabi_Routines\n"
          ],
          "name": "stdout"
        }
      ]
    },
    {
      "cell_type": "code",
      "metadata": {
        "id": "qc4rFvzkyWCi"
      },
      "source": [
        "from segment_filter_not_conclude import Segmenta  # got image provided segmented"
      ],
      "execution_count": 8,
      "outputs": []
    },
    {
      "cell_type": "code",
      "metadata": {
        "id": "SnTtH3KDP863"
      },
      "source": [
        "df=Segmenta(img)\n",
        "Img_Size = 28"
      ],
      "execution_count": 9,
      "outputs": []
    },
    {
      "cell_type": "code",
      "metadata": {
        "id": "YN5MN5a_v4np",
        "colab": {
          "base_uri": "https://localhost:8080/"
        },
        "outputId": "d3ed47b5-421e-4fe7-906f-fbdc563ccac8"
      },
      "source": [
        "print(df)"
      ],
      "execution_count": 10,
      "outputs": [
        {
          "output_type": "stream",
          "text": [
            "    Width           0           1  ...         781         782         783\n",
            "0     191  128.548599  129.177902  ...    1.000000    0.461884    0.078287\n",
            "1     164   74.713860   87.283760  ...  125.985733  120.003578  106.640694\n",
            "2     123  102.769325   93.195786  ...  178.165466  174.524490  109.244957\n",
            "3     115    0.479168    3.363402  ...  158.468124  166.030548  166.098892\n",
            "4     109  147.899414  149.716766  ...  110.039215  106.948311  113.472183\n",
            "5     200   72.569206   97.820000  ...    1.499600    0.216400    1.282400\n",
            "6     101  168.973343  160.603195  ...   93.655037   96.467606  101.931580\n",
            "7     128  178.843750  180.738281  ...    0.183594    0.558594    1.464844\n",
            "8     147  176.287979  180.315216  ...  132.292526  134.852615  134.653061\n",
            "9     195  215.762329  205.546799  ...  129.759674  142.191956  154.994431\n",
            "10    186  116.805191  119.399010  ...  115.107880  129.352325  132.515213\n",
            "11    192  237.805099  241.253006  ...  126.153641  129.982193  132.050339\n",
            "12    137  248.554367  253.052216  ...  186.238693  166.204849  163.750916\n",
            "13    167  153.861267  150.245880  ...  109.196678   96.232925   85.794334\n",
            "14    150    0.288178    1.354844  ...  112.780624  106.711288  114.649422\n",
            "15    182  147.088760  139.562149  ...   10.550297   19.082844   52.420124\n",
            "16    136  224.088242  201.435135  ...  158.407440  160.048447  164.027679\n",
            "17    188    0.299683    1.459937  ...   63.939789   65.413315   66.616119\n",
            "18    184    0.645085    0.514650  ...    0.170132    1.327505    1.000000\n",
            "19    150    0.474844    1.495289  ...   54.718754   53.387733   45.924271\n",
            "20    179  177.795700  150.936676  ...    1.180550    0.138666    1.337318\n",
            "21    146  112.034897  122.009750  ...  141.336823  134.318253  141.194595\n",
            "22    144    0.265432    1.270062  ...  132.954468  145.300934  165.526245\n",
            "23    147  254.464859  253.793640  ...    0.839002    1.333333    1.129252\n",
            "24    184  188.662079  186.494324  ...  205.815674  234.594025  247.463120\n",
            "25    173    0.516422    0.574226  ...    0.432223    0.204885    1.117979\n",
            "26    103  155.506927  143.525589  ...    0.032237    0.920822    1.593835\n",
            "27    197  118.960442  121.140587  ...  203.075150  207.903809  211.729523\n",
            "28    100   88.023994   82.806404  ...  133.783997  132.404816  128.723190\n",
            "29    170    1.284983    1.360554  ...  139.019104  131.982010  128.176605\n",
            "30    166   84.938591   75.538101  ...    1.000000    1.000000    0.916679\n",
            "31    129  109.049103  111.381523  ...  138.032333  142.826813  146.706146\n",
            "32    194  150.808685  154.352097  ...    1.422893    0.175683    1.309491\n",
            "33    126  113.407417  115.555557  ...    0.160494    0.604938    1.493827\n",
            "34    168  145.388885  145.805557  ...    0.527778    0.527778    1.694444\n",
            "35    144   94.851860   93.938271  ...  147.027786  155.887344  155.226089\n",
            "36    161  180.075638  175.448029  ...   74.742912   71.623817   74.069939\n",
            "37    156  186.996719  185.661407  ...  126.226845  121.096649  113.926369\n",
            "38    199  198.731812  168.460999  ...    1.489255    0.212343    1.290599\n",
            "39    194  176.555511  193.542023  ...  164.380692  151.772873  152.151642\n",
            "40    146  191.630127  220.947830  ...  193.625992  196.497101  203.063049\n",
            "41    112  121.500000  122.625000  ...  182.375000  184.625000  191.937500\n",
            "42    159  237.306351  245.187195  ...  186.546967  188.675369  188.351959\n",
            "43    183   66.363609   67.585152  ...  148.135666  153.842514  165.055695\n",
            "44    149  155.549225  156.860764  ...  176.134155  174.237518  172.287140\n",
            "45    164   35.236168  102.095192  ...  113.022011   83.491379   98.149918\n",
            "46    107  242.639969  238.176849  ...   70.655869   78.646957   82.253731\n",
            "47    178    1.000000    1.049489  ...  134.647522  133.234329  129.014404\n",
            "48    200  249.984818  244.992401  ...  118.190010  118.961998  115.221191\n",
            "49    125   97.878784  103.596558  ...  131.609100  134.784775  134.923019\n",
            "\n",
            "[50 rows x 785 columns]\n"
          ],
          "name": "stdout"
        }
      ]
    },
    {
      "cell_type": "code",
      "metadata": {
        "id": "xzpQ1Pz0fX5L",
        "colab": {
          "base_uri": "https://localhost:8080/",
          "height": 52
        },
        "outputId": "9772b8c9-9cac-48d2-afa6-a23815110a31"
      },
      "source": [
        "'''\n",
        "!git clone https://github.com/ucfilho/MarquesGabi_Routines\n",
        "%cd MarquesGabi_Routines\n",
        "# filename = 'model_ANN.pkl'\n",
        "filename = 'model_ANN_new.pkl'\n",
        "model = joblib.load(filename)\n",
        "'''"
      ],
      "execution_count": 11,
      "outputs": [
        {
          "output_type": "execute_result",
          "data": {
            "application/vnd.google.colaboratory.intrinsic+json": {
              "type": "string"
            },
            "text/plain": [
              "\"\\n!git clone https://github.com/ucfilho/MarquesGabi_Routines\\n%cd MarquesGabi_Routines\\n# filename = 'model_ANN.pkl'\\nfilename = 'model_ANN_new.pkl'\\nmodel = joblib.load(filename)\\n\""
            ]
          },
          "metadata": {
            "tags": []
          },
          "execution_count": 11
        }
      ]
    },
    {
      "cell_type": "code",
      "metadata": {
        "colab": {
          "base_uri": "https://localhost:8080/"
        },
        "id": "xR2emP4rNjQy",
        "outputId": "c80663f9-ad9a-4c23-fbe8-7e5a9693c7ed"
      },
      "source": [
        "!git clone https://github.com/ucfilho/MarquesGabi_Routines\n",
        "%cd MarquesGabi_Routines"
      ],
      "execution_count": 12,
      "outputs": [
        {
          "output_type": "stream",
          "text": [
            "fatal: destination path 'MarquesGabi_Routines' already exists and is not an empty directory.\n",
            "/content/marquesgabi_fev_2020/Doutorado/MarquesGabi_Routines/MarquesGabi_Routines\n"
          ],
          "name": "stdout"
        }
      ]
    },
    {
      "cell_type": "code",
      "metadata": {
        "id": "O6cMHOrlNliO"
      },
      "source": [
        "# leitura dos dados\n",
        "df=pd.read_excel(\"FotosTreinoRede.xlsx\")\n",
        "y = df['y']\n",
        "df.drop(['Unnamed: 0','y'], axis='columns', inplace=True)"
      ],
      "execution_count": 13,
      "outputs": []
    },
    {
      "cell_type": "code",
      "metadata": {
        "colab": {
          "base_uri": "https://localhost:8080/",
          "height": 119
        },
        "id": "zQO8d2QbNqj0",
        "outputId": "946d6363-3f3d-4b1c-9638-d9c314e4eef8"
      },
      "source": [
        "X =np.array(df.copy())/255.0 \n",
        "\n",
        "\n",
        "X_train, X_test, Y_train, Y_test = train_test_split(X, y, test_size=0.30, shuffle=True, random_state=42)\n",
        "\n",
        "'''\n",
        "model = MLPClassifier(hidden_layer_sizes=(200,10), activation='tanh', \n",
        "                      solver='adam',random_state=1, max_iter=300).fit(X_train,y_train)\n",
        "  \n",
        "prediction = model.predict(X_test)\n",
        "  \n",
        "y =np.copy(y_test)\n",
        "data = {'y_true': y_test,'y_predict': prediction}  # este dado esta no formato de dicionario\n",
        "\n",
        "df = pd.DataFrame(data, columns=['y_true','y_predict'])\n",
        "\n",
        "\n",
        "confusion_matrix = pd.crosstab(df['y_true'], df['y_predict'], rownames=['Actual'], colnames=['Predict'])\n",
        "print(confusion_matrix)\n",
        "\n",
        "y_true = df['y_true']\n",
        "y_pred = df['y_predict']\n",
        "\n",
        "  \n",
        "METRICS=sklearn.metrics.classification_report(y_true, y_pred)\n",
        "'''"
      ],
      "execution_count": 14,
      "outputs": [
        {
          "output_type": "execute_result",
          "data": {
            "application/vnd.google.colaboratory.intrinsic+json": {
              "type": "string"
            },
            "text/plain": [
              "\"\\nmodel = MLPClassifier(hidden_layer_sizes=(200,10), activation='tanh', \\n                      solver='adam',random_state=1, max_iter=300).fit(X_train,y_train)\\n  \\nprediction = model.predict(X_test)\\n  \\ny =np.copy(y_test)\\ndata = {'y_true': y_test,'y_predict': prediction}  # este dado esta no formato de dicionario\\n\\ndf = pd.DataFrame(data, columns=['y_true','y_predict'])\\n\\n\\nconfusion_matrix = pd.crosstab(df['y_true'], df['y_predict'], rownames=['Actual'], colnames=['Predict'])\\nprint(confusion_matrix)\\n\\ny_true = df['y_true']\\ny_pred = df['y_predict']\\n\\n  \\nMETRICS=sklearn.metrics.classification_report(y_true, y_pred)\\n\""
            ]
          },
          "metadata": {
            "tags": []
          },
          "execution_count": 14
        }
      ]
    },
    {
      "cell_type": "code",
      "metadata": {
        "id": "23iKv6bDPWQl"
      },
      "source": [
        "# helper\n",
        "def ynindicator(Y):\n",
        "  N = len(Y)\n",
        "  K = len(set(Y))\n",
        "  I = np.zeros((N, K))\n",
        "  I[np.arange(N), Y] = 1\n",
        "  return I\n",
        "\n",
        "def yback(Y_test):\n",
        "  nrow, ncol = Y_test.shape\n",
        "  y_class = np.zeros(nrow,dtype=int)\n",
        "  y_resp = Y_test\n",
        "  for k in range(nrow):\n",
        "    for kk in range(K):\n",
        "      if(y_resp[k,kk] == 1):\n",
        "        y_class[k] = kk\n",
        "  Y_test = y_class.copy()\n",
        "  return Y_test\n",
        "\n",
        "X_train = np.array(X_train)\n",
        "Y_train = np.array(Y_train)\n",
        "K = len(set(Y_train))\n",
        "\n",
        "X_train = X_train.reshape(-1, Img_Size, Img_Size, 1) / 255.0\n",
        "Y_train = Y_train.astype(np.int32)\n",
        "Y_train = ynindicator(Y_train)\n",
        "\n",
        "X_test = np.array(X_test )\n",
        "Y_test = np.array(Y_test)\n",
        "X_test = X_test.reshape(-1, Img_Size, Img_Size, 1) / 255.0\n",
        "Y_test = Y_test.astype(np.int32)\n",
        "Y_test = ynindicator(Y_test)\n",
        "\n",
        "# the model will be a sequence of layers\n",
        "\n",
        "model = Sequential()\n",
        "\n",
        "\n",
        "# make the CNN\n",
        "# model.add(Input(shape=(28, 28, 1)))\n",
        "model.add(Conv2D(input_shape=(Img_Size, Img_Size, 1), filters=32, kernel_size=(3, 3)))\n",
        "model.add(BatchNormalization())\n",
        "model.add(Activation('relu'))\n",
        "model.add(MaxPooling2D())\n",
        "\n",
        "model.add(Conv2D(filters=64, kernel_size=(3, 3)))\n",
        "model.add(BatchNormalization())\n",
        "model.add(Activation('relu'))\n",
        "model.add(MaxPooling2D())\n",
        "\n",
        "model.add(Conv2D(filters=128, kernel_size=(3, 3)))\n",
        "model.add(BatchNormalization())\n",
        "model.add(Activation('relu'))\n",
        "model.add(MaxPooling2D())\n",
        "\n",
        "model.add(Flatten())\n",
        "model.add(Dense(units=20))\n",
        "model.add(Activation('relu'))\n",
        "model.add(Dropout(0.2))\n",
        "model.add(Dense(units=K))\n",
        "model.add(Activation('softmax'))\n",
        "\n",
        "\n",
        "# list of losses: https://keras.io/losses/\n",
        "# list of optimizers: https://keras.io/optimizers/\n",
        "# list of metrics: https://keras.io/metrics/\n",
        "model.compile(\n",
        "  loss='categorical_crossentropy',\n",
        "  optimizer='adam',\n",
        "  metrics=['accuracy']\n",
        ")"
      ],
      "execution_count": 15,
      "outputs": []
    },
    {
      "cell_type": "code",
      "metadata": {
        "colab": {
          "base_uri": "https://localhost:8080/"
        },
        "id": "FpbPQ1FSRG6A",
        "outputId": "e3f8bf98-3fec-4fea-a1ec-1e57573b9fb2"
      },
      "source": [
        "\n",
        "# gives us back a <keras.callbacks.History object at 0x112e61a90>\n",
        "model.fit(X_train, Y_train, epochs=15, batch_size=32)\n"
      ],
      "execution_count": 16,
      "outputs": [
        {
          "output_type": "stream",
          "text": [
            "Epoch 1/15\n",
            "11/11 [==============================] - 15s 30ms/step - loss: 0.6932 - accuracy: 0.5020\n",
            "Epoch 2/15\n",
            "11/11 [==============================] - 0s 31ms/step - loss: 0.6931 - accuracy: 0.5148\n",
            "Epoch 3/15\n",
            "11/11 [==============================] - 0s 30ms/step - loss: 0.6936 - accuracy: 0.4783\n",
            "Epoch 4/15\n",
            "11/11 [==============================] - 0s 30ms/step - loss: 0.6937 - accuracy: 0.4404\n",
            "Epoch 5/15\n",
            "11/11 [==============================] - 0s 29ms/step - loss: 0.6933 - accuracy: 0.4802\n",
            "Epoch 6/15\n",
            "11/11 [==============================] - 0s 29ms/step - loss: 0.6933 - accuracy: 0.4765\n",
            "Epoch 7/15\n",
            "11/11 [==============================] - 0s 29ms/step - loss: 0.6926 - accuracy: 0.5205\n",
            "Epoch 8/15\n",
            "11/11 [==============================] - 0s 29ms/step - loss: 0.6930 - accuracy: 0.5380\n",
            "Epoch 9/15\n",
            "11/11 [==============================] - 0s 29ms/step - loss: 0.6928 - accuracy: 0.5183\n",
            "Epoch 10/15\n",
            "11/11 [==============================] - 0s 29ms/step - loss: 0.6940 - accuracy: 0.4646\n",
            "Epoch 11/15\n",
            "11/11 [==============================] - 0s 30ms/step - loss: 0.6929 - accuracy: 0.4651\n",
            "Epoch 12/15\n",
            "11/11 [==============================] - 0s 30ms/step - loss: 0.6929 - accuracy: 0.5192\n",
            "Epoch 13/15\n",
            "11/11 [==============================] - 0s 29ms/step - loss: 0.6933 - accuracy: 0.5205\n",
            "Epoch 14/15\n",
            "11/11 [==============================] - 0s 30ms/step - loss: 0.6945 - accuracy: 0.4615\n",
            "Epoch 15/15\n",
            "11/11 [==============================] - 0s 29ms/step - loss: 0.6925 - accuracy: 0.5187\n"
          ],
          "name": "stdout"
        },
        {
          "output_type": "execute_result",
          "data": {
            "text/plain": [
              "<keras.callbacks.History at 0x7f59123cced0>"
            ]
          },
          "metadata": {
            "tags": []
          },
          "execution_count": 16
        }
      ]
    },
    {
      "cell_type": "code",
      "metadata": {
        "id": "cSTlOSUBWMpj"
      },
      "source": [
        "Y_test = yback(Y_test)"
      ],
      "execution_count": 17,
      "outputs": []
    },
    {
      "cell_type": "code",
      "metadata": {
        "colab": {
          "base_uri": "https://localhost:8080/"
        },
        "id": "qpf0XlSARX78",
        "outputId": "8d370e5d-f43d-4963-a7e5-097c66f35744"
      },
      "source": [
        "pred_test= model.predict_classes(X_test)\n",
        "\n",
        "data = {'y_true': Y_test,'y_predict': pred_test}  # este dado esta no formato de dicionario\n",
        "\n",
        "df = pd.DataFrame(data, columns=['y_true','y_predict'])\n",
        "\n",
        "\n",
        "confusion_matrix = pd.crosstab(df['y_true'], df['y_predict'], rownames=['Actual'], colnames=['Predict'])\n",
        "print(confusion_matrix)\n",
        "\n",
        "y_true = df['y_true']\n",
        "y_pred = df['y_predict']\n",
        "\n",
        "  \n",
        "METRICS=sklearn.metrics.classification_report(y_true, y_pred)"
      ],
      "execution_count": 18,
      "outputs": [
        {
          "output_type": "stream",
          "text": [
            "/usr/local/lib/python3.7/dist-packages/keras/engine/sequential.py:450: UserWarning: `model.predict_classes()` is deprecated and will be removed after 2021-01-01. Please use instead:* `np.argmax(model.predict(x), axis=-1)`,   if your model does multi-class classification   (e.g. if it uses a `softmax` last-layer activation).* `(model.predict(x) > 0.5).astype(\"int32\")`,   if your model does binary classification   (e.g. if it uses a `sigmoid` last-layer activation).\n",
            "  warnings.warn('`model.predict_classes()` is deprecated and '\n"
          ],
          "name": "stderr"
        },
        {
          "output_type": "stream",
          "text": [
            "Predict   0\n",
            "Actual     \n",
            "0        72\n",
            "1        75\n"
          ],
          "name": "stdout"
        },
        {
          "output_type": "stream",
          "text": [
            "/usr/local/lib/python3.7/dist-packages/sklearn/metrics/_classification.py:1272: UndefinedMetricWarning: Precision and F-score are ill-defined and being set to 0.0 in labels with no predicted samples. Use `zero_division` parameter to control this behavior.\n",
            "  _warn_prf(average, modifier, msg_start, len(result))\n"
          ],
          "name": "stderr"
        }
      ]
    },
    {
      "cell_type": "code",
      "metadata": {
        "colab": {
          "base_uri": "https://localhost:8080/"
        },
        "id": "_iFNNrlWV9tH",
        "outputId": "5f4cb835-6443-4675-881f-96d0613e4202"
      },
      "source": [
        "pred_test"
      ],
      "execution_count": 19,
      "outputs": [
        {
          "output_type": "execute_result",
          "data": {
            "text/plain": [
              "array([0, 0, 0, 0, 0, 0, 0, 0, 0, 0, 0, 0, 0, 0, 0, 0, 0, 0, 0, 0, 0, 0,\n",
              "       0, 0, 0, 0, 0, 0, 0, 0, 0, 0, 0, 0, 0, 0, 0, 0, 0, 0, 0, 0, 0, 0,\n",
              "       0, 0, 0, 0, 0, 0, 0, 0, 0, 0, 0, 0, 0, 0, 0, 0, 0, 0, 0, 0, 0, 0,\n",
              "       0, 0, 0, 0, 0, 0, 0, 0, 0, 0, 0, 0, 0, 0, 0, 0, 0, 0, 0, 0, 0, 0,\n",
              "       0, 0, 0, 0, 0, 0, 0, 0, 0, 0, 0, 0, 0, 0, 0, 0, 0, 0, 0, 0, 0, 0,\n",
              "       0, 0, 0, 0, 0, 0, 0, 0, 0, 0, 0, 0, 0, 0, 0, 0, 0, 0, 0, 0, 0, 0,\n",
              "       0, 0, 0, 0, 0, 0, 0, 0, 0, 0, 0, 0, 0, 0, 0])"
            ]
          },
          "metadata": {
            "tags": []
          },
          "execution_count": 19
        }
      ]
    },
    {
      "cell_type": "code",
      "metadata": {
        "id": "QISvYcJBgWbE",
        "colab": {
          "base_uri": "https://localhost:8080/"
        },
        "outputId": "2a5c71e9-98df-407b-be0f-319d3c9a8711"
      },
      "source": [
        "cont = 0; num =25\n",
        "img_graos = []\n",
        "Width_new = []\n",
        "img=ww[0] \n",
        "while( cont < num):\n",
        "  df=Segmenta(img)\n",
        "  df_ann =df.copy()\n",
        "  Width = df['Width']\n",
        "  del df_ann['Width']\n",
        "  result = np.array(df_ann)\n",
        "  result = result.reshape(-1, Img_Size, Img_Size, 1) / 255.0\n",
        "  prediction = model.predict_classes(result)\n",
        "  loc_grao =[];k=0\n",
        "  for i in prediction:\n",
        "    if( i == 0):\n",
        "      img_graos.append(df.iloc[k,:])\n",
        "      Width_new.append(Width.iloc[k])\n",
        "      cont = cont + 1\n",
        "    k = k +1\n",
        "img_graos = pd.DataFrame(img_graos)\n",
        "print(img_graos)"
      ],
      "execution_count": 20,
      "outputs": [
        {
          "output_type": "stream",
          "text": [
            "    Width           0           1  ...         781         782         783\n",
            "0   144.0   65.260803   65.020065  ...  100.412811  106.258499  110.693680\n",
            "1   197.0   67.919121   63.767452  ...    0.099565    0.142132    0.142132\n",
            "2   165.0   42.823174   47.074341  ...   96.804298   99.042213  101.761398\n",
            "3   165.0   96.870705   74.091202  ...   39.628136   39.416862   39.030819\n",
            "4   180.0   96.648911  100.000504  ...  104.133835  106.869644  109.506187\n",
            "5   101.0    9.093324   10.262622  ...   88.491135   88.955200   90.050392\n",
            "6   159.0  117.536644  105.274788  ...   72.369171  105.308266  237.003342\n",
            "7   155.0   54.860355   56.828724  ...    0.193465    0.230760    0.230760\n",
            "8   164.0   63.926826   69.195122  ...  103.287933  107.361107  109.018440\n",
            "9   144.0   96.114212   94.211426  ...   66.362656   62.998459   64.635033\n",
            "10  124.0   32.419353   32.938606  ...    2.060354    1.753382    1.451613\n",
            "11  163.0   34.937107   30.548611  ...   53.200424   41.609959   31.659569\n",
            "12  136.0   59.606407   54.861591  ...   96.678200   98.245682   99.548447\n",
            "13  137.0  125.402840  109.398788  ...   64.551498   68.008041   69.505730\n",
            "14  106.0   82.488434   82.647926  ...   73.162338   70.319687   67.787109\n",
            "15  111.0   46.997646   25.395828  ...    2.320347    3.072640    4.872819\n",
            "16  101.0   74.785904   71.713852  ...  100.910400  103.723854  106.803360\n",
            "17  160.0   53.722500   55.963127  ...    5.697500    9.200624    8.054999\n",
            "18  113.0   45.912209   46.920902  ...   99.219048  101.021927  100.443176\n",
            "19  103.0   48.949852   48.283249  ...   55.240356   54.780655   57.084175\n",
            "20  128.0  108.502930   95.666016  ...   16.903320   15.470703   12.903320\n",
            "21  162.0   74.539093   76.072395  ...   63.489403   55.813438   56.509983\n",
            "22  158.0   65.331680   63.734818  ...    0.000000    0.000000    0.000000\n",
            "23  198.0  130.317291   55.628807  ...   91.712463   89.518005   86.665840\n",
            "24  146.0   84.953262   89.160820  ...  117.962662  121.039215  121.054230\n",
            "25  127.0   65.914871   65.774384  ...   49.963917   54.068760   56.649078\n",
            "26  126.0   53.765434   54.382717  ...   81.024689   83.925926   85.037041\n",
            "27  138.0    1.785339    2.288175  ...  105.933205  110.949379  115.484970\n",
            "28  107.0   18.494280   18.627741  ...   81.350334   79.815796   79.972832\n",
            "29  147.0   80.435379   80.149658  ...   41.952385   44.034016   38.845810\n",
            "30  104.0   71.961548   69.520714  ...   10.014793   10.118344    9.642013\n",
            "31  104.0  112.150894  118.954147  ...    9.646451    9.692308   10.192308\n",
            "32  164.0    2.033908   10.912552  ...  119.276024  119.143959  125.792976\n",
            "33  139.0  134.150192   58.077011  ...   94.256035   91.043518   91.759422\n",
            "34  109.0   75.099060   75.181213  ...   65.593460   68.533455   69.006302\n",
            "35  120.0  116.381119  119.544441  ...    0.000000    0.000000    0.000000\n",
            "36  125.0   38.347519   41.608067  ...   95.231049   95.038338   84.711555\n",
            "37  126.0   67.703705   64.765434  ...  196.518539  213.925934  233.555557\n",
            "38  181.0   42.346172   38.974178  ...   91.726204   96.889565   99.125397\n",
            "39  147.0  120.140594  122.430840  ...   85.712021   88.530609   94.521545\n",
            "40  200.0   85.423203   84.921211  ...   97.494408  101.941193  107.688416\n",
            "41  106.0   97.892136   93.221428  ...   87.064796   84.656822   83.607330\n",
            "42  168.0   78.638893   83.722221  ...  126.583336   77.555557   22.055555\n",
            "43  181.0  107.736855  115.602966  ...    0.612893    0.840084    1.176948\n",
            "44  141.0   73.426239   94.520752  ...  105.515060  106.133698  104.748047\n",
            "45  139.0   90.807259   89.987000  ...   63.708969   59.856525   72.819626\n",
            "46  188.0   63.719330   59.401085  ...   86.406059   86.985962   91.596649\n",
            "47  191.0  105.276093  101.063103  ...   58.221458   58.217155   54.894005\n",
            "48  122.0   51.115826   52.310665  ...   37.058853   61.284599   67.564629\n",
            "49  140.0   73.879997   69.639999  ...   98.360001  104.279999  102.959999\n",
            "\n",
            "[50 rows x 785 columns]\n"
          ],
          "name": "stdout"
        },
        {
          "output_type": "stream",
          "text": [
            "/usr/local/lib/python3.7/dist-packages/keras/engine/sequential.py:450: UserWarning: `model.predict_classes()` is deprecated and will be removed after 2021-01-01. Please use instead:* `np.argmax(model.predict(x), axis=-1)`,   if your model does multi-class classification   (e.g. if it uses a `softmax` last-layer activation).* `(model.predict(x) > 0.5).astype(\"int32\")`,   if your model does binary classification   (e.g. if it uses a `sigmoid` last-layer activation).\n",
            "  warnings.warn('`model.predict_classes()` is deprecated and '\n"
          ],
          "name": "stderr"
        }
      ]
    },
    {
      "cell_type": "code",
      "metadata": {
        "id": "6LkA4vHp-f6_"
      },
      "source": [
        "Width=np.array(Width_new)"
      ],
      "execution_count": 21,
      "outputs": []
    },
    {
      "cell_type": "code",
      "metadata": {
        "colab": {
          "base_uri": "https://localhost:8080/"
        },
        "id": "MjRbWgmX_LFH",
        "outputId": "8b600f21-edb3-4661-f021-a2d97db5e8a2"
      },
      "source": [
        "!git clone https://github.com/ucfilho/marquesgabi_paper_fev_2021\n",
        "%cd marquesgabi_paper_fev_2021\n",
        "\n",
        "from Get_PSDArea_New import PSDArea\n",
        "from histogram_fev_2021 import PSD\n",
        "from GetBetterSegm import GetBetter"
      ],
      "execution_count": 22,
      "outputs": [
        {
          "output_type": "stream",
          "text": [
            "Cloning into 'marquesgabi_paper_fev_2021'...\n",
            "remote: Enumerating objects: 580, done.\u001b[K\n",
            "remote: Counting objects: 100% (341/341), done.\u001b[K\n",
            "remote: Compressing objects: 100% (340/340), done.\u001b[K\n",
            "remote: Total 580 (delta 205), reused 0 (delta 0), pack-reused 239\u001b[K\n",
            "Receiving objects: 100% (580/580), 5.02 MiB | 14.36 MiB/s, done.\n",
            "Resolving deltas: 100% (342/342), done.\n",
            "/content/marquesgabi_fev_2020/Doutorado/MarquesGabi_Routines/MarquesGabi_Routines/marquesgabi_paper_fev_2021\n"
          ],
          "name": "stdout"
        }
      ]
    },
    {
      "cell_type": "code",
      "metadata": {
        "colab": {
          "base_uri": "https://localhost:8080/"
        },
        "id": "WAG_I6FwCvFr",
        "outputId": "c3b5b039-2ae1-427b-9211-005ede419b9a"
      },
      "source": [
        "!git clone https://github.com/ucfilho/marquesgabi_out_2020\n",
        "%cd marquesgabi_out_2020\n",
        "PSD_imageJ = 'Areas_ImageJ.csv'\n",
        "PSD_new = pd.read_csv(PSD_imageJ)\n",
        "print(PSD_new.head(3))"
      ],
      "execution_count": 23,
      "outputs": [
        {
          "output_type": "stream",
          "text": [
            "Cloning into 'marquesgabi_out_2020'...\n",
            "remote: Enumerating objects: 146, done.\u001b[K\n",
            "remote: Counting objects: 100% (146/146), done.\u001b[K\n",
            "remote: Compressing objects: 100% (142/142), done.\u001b[K\n",
            "remote: Total 146 (delta 75), reused 0 (delta 0), pack-reused 0\u001b[K\n",
            "Receiving objects: 100% (146/146), 1.00 MiB | 14.27 MiB/s, done.\n",
            "Resolving deltas: 100% (75/75), done.\n",
            "/content/marquesgabi_fev_2020/Doutorado/MarquesGabi_Routines/MarquesGabi_Routines/marquesgabi_paper_fev_2021/marquesgabi_out_2020\n",
            "   Juntas   Area\n",
            "0       1  2.001\n",
            "1       2  0.820\n",
            "2       3  1.270\n"
          ],
          "name": "stdout"
        }
      ]
    },
    {
      "cell_type": "code",
      "metadata": {
        "id": "t_1WIM8w7poO"
      },
      "source": [
        "Area_All, Diameter_All=PSDArea(img_graos) "
      ],
      "execution_count": 24,
      "outputs": []
    },
    {
      "cell_type": "code",
      "metadata": {
        "colab": {
          "base_uri": "https://localhost:8080/",
          "height": 252
        },
        "id": "PekBHQOT_6CP",
        "outputId": "32d721c8-b1a9-4e8c-8d10-d7b47b40040d"
      },
      "source": [
        "img_graos.head()"
      ],
      "execution_count": 25,
      "outputs": [
        {
          "output_type": "execute_result",
          "data": {
            "text/html": [
              "<div>\n",
              "<style scoped>\n",
              "    .dataframe tbody tr th:only-of-type {\n",
              "        vertical-align: middle;\n",
              "    }\n",
              "\n",
              "    .dataframe tbody tr th {\n",
              "        vertical-align: top;\n",
              "    }\n",
              "\n",
              "    .dataframe thead th {\n",
              "        text-align: right;\n",
              "    }\n",
              "</style>\n",
              "<table border=\"1\" class=\"dataframe\">\n",
              "  <thead>\n",
              "    <tr style=\"text-align: right;\">\n",
              "      <th></th>\n",
              "      <th>Width</th>\n",
              "      <th>0</th>\n",
              "      <th>1</th>\n",
              "      <th>2</th>\n",
              "      <th>3</th>\n",
              "      <th>4</th>\n",
              "      <th>5</th>\n",
              "      <th>6</th>\n",
              "      <th>7</th>\n",
              "      <th>8</th>\n",
              "      <th>9</th>\n",
              "      <th>10</th>\n",
              "      <th>11</th>\n",
              "      <th>12</th>\n",
              "      <th>13</th>\n",
              "      <th>14</th>\n",
              "      <th>15</th>\n",
              "      <th>16</th>\n",
              "      <th>17</th>\n",
              "      <th>18</th>\n",
              "      <th>19</th>\n",
              "      <th>20</th>\n",
              "      <th>21</th>\n",
              "      <th>22</th>\n",
              "      <th>23</th>\n",
              "      <th>24</th>\n",
              "      <th>25</th>\n",
              "      <th>26</th>\n",
              "      <th>27</th>\n",
              "      <th>28</th>\n",
              "      <th>29</th>\n",
              "      <th>30</th>\n",
              "      <th>31</th>\n",
              "      <th>32</th>\n",
              "      <th>33</th>\n",
              "      <th>34</th>\n",
              "      <th>35</th>\n",
              "      <th>36</th>\n",
              "      <th>37</th>\n",
              "      <th>38</th>\n",
              "      <th>...</th>\n",
              "      <th>744</th>\n",
              "      <th>745</th>\n",
              "      <th>746</th>\n",
              "      <th>747</th>\n",
              "      <th>748</th>\n",
              "      <th>749</th>\n",
              "      <th>750</th>\n",
              "      <th>751</th>\n",
              "      <th>752</th>\n",
              "      <th>753</th>\n",
              "      <th>754</th>\n",
              "      <th>755</th>\n",
              "      <th>756</th>\n",
              "      <th>757</th>\n",
              "      <th>758</th>\n",
              "      <th>759</th>\n",
              "      <th>760</th>\n",
              "      <th>761</th>\n",
              "      <th>762</th>\n",
              "      <th>763</th>\n",
              "      <th>764</th>\n",
              "      <th>765</th>\n",
              "      <th>766</th>\n",
              "      <th>767</th>\n",
              "      <th>768</th>\n",
              "      <th>769</th>\n",
              "      <th>770</th>\n",
              "      <th>771</th>\n",
              "      <th>772</th>\n",
              "      <th>773</th>\n",
              "      <th>774</th>\n",
              "      <th>775</th>\n",
              "      <th>776</th>\n",
              "      <th>777</th>\n",
              "      <th>778</th>\n",
              "      <th>779</th>\n",
              "      <th>780</th>\n",
              "      <th>781</th>\n",
              "      <th>782</th>\n",
              "      <th>783</th>\n",
              "    </tr>\n",
              "  </thead>\n",
              "  <tbody>\n",
              "    <tr>\n",
              "      <th>0</th>\n",
              "      <td>144.0</td>\n",
              "      <td>65.260803</td>\n",
              "      <td>65.020065</td>\n",
              "      <td>66.556328</td>\n",
              "      <td>73.575615</td>\n",
              "      <td>81.037811</td>\n",
              "      <td>82.474548</td>\n",
              "      <td>84.463737</td>\n",
              "      <td>89.010803</td>\n",
              "      <td>90.485336</td>\n",
              "      <td>93.443672</td>\n",
              "      <td>96.580246</td>\n",
              "      <td>100.034721</td>\n",
              "      <td>101.052475</td>\n",
              "      <td>98.611122</td>\n",
              "      <td>102.033958</td>\n",
              "      <td>103.009262</td>\n",
              "      <td>97.207565</td>\n",
              "      <td>88.152000</td>\n",
              "      <td>87.017746</td>\n",
              "      <td>87.770065</td>\n",
              "      <td>88.904320</td>\n",
              "      <td>92.404320</td>\n",
              "      <td>98.035507</td>\n",
              "      <td>101.797844</td>\n",
              "      <td>103.154327</td>\n",
              "      <td>108.332565</td>\n",
              "      <td>117.173615</td>\n",
              "      <td>120.432098</td>\n",
              "      <td>68.163582</td>\n",
              "      <td>68.465279</td>\n",
              "      <td>68.887344</td>\n",
              "      <td>73.960648</td>\n",
              "      <td>80.470680</td>\n",
              "      <td>83.872681</td>\n",
              "      <td>85.349533</td>\n",
              "      <td>84.329483</td>\n",
              "      <td>85.087196</td>\n",
              "      <td>88.989204</td>\n",
              "      <td>92.189049</td>\n",
              "      <td>...</td>\n",
              "      <td>68.417442</td>\n",
              "      <td>69.786270</td>\n",
              "      <td>70.236885</td>\n",
              "      <td>66.469910</td>\n",
              "      <td>62.410496</td>\n",
              "      <td>58.708332</td>\n",
              "      <td>55.368832</td>\n",
              "      <td>50.969139</td>\n",
              "      <td>53.419758</td>\n",
              "      <td>75.950615</td>\n",
              "      <td>98.716827</td>\n",
              "      <td>108.754639</td>\n",
              "      <td>51.983799</td>\n",
              "      <td>52.302467</td>\n",
              "      <td>54.456017</td>\n",
              "      <td>57.996918</td>\n",
              "      <td>59.375004</td>\n",
              "      <td>58.717594</td>\n",
              "      <td>54.343365</td>\n",
              "      <td>41.321762</td>\n",
              "      <td>30.340281</td>\n",
              "      <td>58.716824</td>\n",
              "      <td>73.827164</td>\n",
              "      <td>77.272369</td>\n",
              "      <td>75.186737</td>\n",
              "      <td>72.716820</td>\n",
              "      <td>71.494598</td>\n",
              "      <td>71.981483</td>\n",
              "      <td>72.456024</td>\n",
              "      <td>71.236115</td>\n",
              "      <td>72.442902</td>\n",
              "      <td>69.592590</td>\n",
              "      <td>66.980705</td>\n",
              "      <td>60.001549</td>\n",
              "      <td>54.126549</td>\n",
              "      <td>57.466824</td>\n",
              "      <td>81.394302</td>\n",
              "      <td>100.412811</td>\n",
              "      <td>106.258499</td>\n",
              "      <td>110.693680</td>\n",
              "    </tr>\n",
              "    <tr>\n",
              "      <th>1</th>\n",
              "      <td>197.0</td>\n",
              "      <td>67.919121</td>\n",
              "      <td>63.767452</td>\n",
              "      <td>58.730457</td>\n",
              "      <td>58.434128</td>\n",
              "      <td>67.755028</td>\n",
              "      <td>82.103920</td>\n",
              "      <td>96.267593</td>\n",
              "      <td>100.796288</td>\n",
              "      <td>101.608589</td>\n",
              "      <td>103.084389</td>\n",
              "      <td>103.947441</td>\n",
              "      <td>105.596802</td>\n",
              "      <td>105.514343</td>\n",
              "      <td>104.189087</td>\n",
              "      <td>105.909103</td>\n",
              "      <td>112.869339</td>\n",
              "      <td>119.309853</td>\n",
              "      <td>120.337715</td>\n",
              "      <td>133.980194</td>\n",
              "      <td>139.558075</td>\n",
              "      <td>86.306358</td>\n",
              "      <td>31.355486</td>\n",
              "      <td>27.386097</td>\n",
              "      <td>28.457705</td>\n",
              "      <td>36.855347</td>\n",
              "      <td>103.139923</td>\n",
              "      <td>109.175354</td>\n",
              "      <td>111.259094</td>\n",
              "      <td>65.759674</td>\n",
              "      <td>62.683540</td>\n",
              "      <td>58.869499</td>\n",
              "      <td>54.473705</td>\n",
              "      <td>71.247627</td>\n",
              "      <td>97.213303</td>\n",
              "      <td>102.403442</td>\n",
              "      <td>96.901260</td>\n",
              "      <td>98.715561</td>\n",
              "      <td>100.813377</td>\n",
              "      <td>103.517548</td>\n",
              "      <td>...</td>\n",
              "      <td>0.000000</td>\n",
              "      <td>0.000000</td>\n",
              "      <td>0.000000</td>\n",
              "      <td>0.000000</td>\n",
              "      <td>0.000000</td>\n",
              "      <td>0.000000</td>\n",
              "      <td>0.000000</td>\n",
              "      <td>0.000000</td>\n",
              "      <td>0.000000</td>\n",
              "      <td>0.000000</td>\n",
              "      <td>0.000000</td>\n",
              "      <td>0.000000</td>\n",
              "      <td>0.405499</td>\n",
              "      <td>1.447371</td>\n",
              "      <td>1.919761</td>\n",
              "      <td>0.000000</td>\n",
              "      <td>0.000000</td>\n",
              "      <td>0.064933</td>\n",
              "      <td>0.142132</td>\n",
              "      <td>0.142132</td>\n",
              "      <td>0.054833</td>\n",
              "      <td>0.128424</td>\n",
              "      <td>0.073591</td>\n",
              "      <td>0.000000</td>\n",
              "      <td>0.676364</td>\n",
              "      <td>0.450591</td>\n",
              "      <td>0.010101</td>\n",
              "      <td>0.092350</td>\n",
              "      <td>0.142132</td>\n",
              "      <td>0.142132</td>\n",
              "      <td>0.142132</td>\n",
              "      <td>0.142132</td>\n",
              "      <td>0.142132</td>\n",
              "      <td>0.142132</td>\n",
              "      <td>0.142132</td>\n",
              "      <td>0.142132</td>\n",
              "      <td>0.103893</td>\n",
              "      <td>0.099565</td>\n",
              "      <td>0.142132</td>\n",
              "      <td>0.142132</td>\n",
              "    </tr>\n",
              "    <tr>\n",
              "      <th>2</th>\n",
              "      <td>165.0</td>\n",
              "      <td>42.823174</td>\n",
              "      <td>47.074341</td>\n",
              "      <td>51.331787</td>\n",
              "      <td>51.747440</td>\n",
              "      <td>49.877609</td>\n",
              "      <td>42.974770</td>\n",
              "      <td>31.068134</td>\n",
              "      <td>20.241985</td>\n",
              "      <td>17.039890</td>\n",
              "      <td>17.321102</td>\n",
              "      <td>16.688450</td>\n",
              "      <td>16.355080</td>\n",
              "      <td>16.828796</td>\n",
              "      <td>18.616714</td>\n",
              "      <td>20.581745</td>\n",
              "      <td>23.127642</td>\n",
              "      <td>44.840221</td>\n",
              "      <td>80.432213</td>\n",
              "      <td>107.132515</td>\n",
              "      <td>115.239479</td>\n",
              "      <td>118.220718</td>\n",
              "      <td>120.797607</td>\n",
              "      <td>120.860870</td>\n",
              "      <td>120.514282</td>\n",
              "      <td>120.656158</td>\n",
              "      <td>114.659615</td>\n",
              "      <td>107.534218</td>\n",
              "      <td>106.592361</td>\n",
              "      <td>22.069237</td>\n",
              "      <td>25.174988</td>\n",
              "      <td>34.517685</td>\n",
              "      <td>38.620094</td>\n",
              "      <td>33.256710</td>\n",
              "      <td>27.578182</td>\n",
              "      <td>23.344574</td>\n",
              "      <td>19.361250</td>\n",
              "      <td>18.918386</td>\n",
              "      <td>17.978512</td>\n",
              "      <td>17.453701</td>\n",
              "      <td>...</td>\n",
              "      <td>103.420837</td>\n",
              "      <td>108.763718</td>\n",
              "      <td>106.519012</td>\n",
              "      <td>100.728157</td>\n",
              "      <td>100.821671</td>\n",
              "      <td>101.399010</td>\n",
              "      <td>99.933235</td>\n",
              "      <td>98.943626</td>\n",
              "      <td>95.956985</td>\n",
              "      <td>96.819130</td>\n",
              "      <td>99.445152</td>\n",
              "      <td>99.775513</td>\n",
              "      <td>122.877365</td>\n",
              "      <td>114.342560</td>\n",
              "      <td>111.492821</td>\n",
              "      <td>118.588203</td>\n",
              "      <td>120.651611</td>\n",
              "      <td>124.590569</td>\n",
              "      <td>127.835373</td>\n",
              "      <td>125.559456</td>\n",
              "      <td>123.141640</td>\n",
              "      <td>126.524109</td>\n",
              "      <td>152.611832</td>\n",
              "      <td>181.086548</td>\n",
              "      <td>195.870804</td>\n",
              "      <td>231.351028</td>\n",
              "      <td>218.717850</td>\n",
              "      <td>61.089184</td>\n",
              "      <td>105.432510</td>\n",
              "      <td>108.258286</td>\n",
              "      <td>103.880409</td>\n",
              "      <td>101.169380</td>\n",
              "      <td>100.466492</td>\n",
              "      <td>102.350121</td>\n",
              "      <td>102.841370</td>\n",
              "      <td>101.764648</td>\n",
              "      <td>96.231003</td>\n",
              "      <td>96.804298</td>\n",
              "      <td>99.042213</td>\n",
              "      <td>101.761398</td>\n",
              "    </tr>\n",
              "    <tr>\n",
              "      <th>3</th>\n",
              "      <td>165.0</td>\n",
              "      <td>96.870705</td>\n",
              "      <td>74.091202</td>\n",
              "      <td>52.187107</td>\n",
              "      <td>32.733150</td>\n",
              "      <td>9.930175</td>\n",
              "      <td>1.862443</td>\n",
              "      <td>0.798421</td>\n",
              "      <td>0.242461</td>\n",
              "      <td>0.103765</td>\n",
              "      <td>0.024793</td>\n",
              "      <td>0.000000</td>\n",
              "      <td>0.194233</td>\n",
              "      <td>1.650174</td>\n",
              "      <td>6.980349</td>\n",
              "      <td>12.926171</td>\n",
              "      <td>15.237282</td>\n",
              "      <td>14.175537</td>\n",
              "      <td>14.081800</td>\n",
              "      <td>14.729513</td>\n",
              "      <td>15.668504</td>\n",
              "      <td>16.269789</td>\n",
              "      <td>16.989422</td>\n",
              "      <td>16.294106</td>\n",
              "      <td>17.001102</td>\n",
              "      <td>19.110304</td>\n",
              "      <td>19.841248</td>\n",
              "      <td>17.976198</td>\n",
              "      <td>15.677282</td>\n",
              "      <td>114.865791</td>\n",
              "      <td>105.828804</td>\n",
              "      <td>96.664474</td>\n",
              "      <td>82.374435</td>\n",
              "      <td>65.678276</td>\n",
              "      <td>16.120148</td>\n",
              "      <td>1.830634</td>\n",
              "      <td>0.756327</td>\n",
              "      <td>0.782626</td>\n",
              "      <td>0.367493</td>\n",
              "      <td>0.589899</td>\n",
              "      <td>...</td>\n",
              "      <td>50.766907</td>\n",
              "      <td>39.255207</td>\n",
              "      <td>41.716328</td>\n",
              "      <td>40.441101</td>\n",
              "      <td>39.723450</td>\n",
              "      <td>34.992146</td>\n",
              "      <td>34.457481</td>\n",
              "      <td>36.956882</td>\n",
              "      <td>36.544132</td>\n",
              "      <td>38.657997</td>\n",
              "      <td>39.304756</td>\n",
              "      <td>39.148506</td>\n",
              "      <td>68.921799</td>\n",
              "      <td>58.589828</td>\n",
              "      <td>29.965363</td>\n",
              "      <td>31.886171</td>\n",
              "      <td>82.989609</td>\n",
              "      <td>94.902184</td>\n",
              "      <td>101.723465</td>\n",
              "      <td>103.993645</td>\n",
              "      <td>108.865562</td>\n",
              "      <td>129.913788</td>\n",
              "      <td>140.649292</td>\n",
              "      <td>143.006012</td>\n",
              "      <td>145.412094</td>\n",
              "      <td>139.757584</td>\n",
              "      <td>102.777969</td>\n",
              "      <td>86.477356</td>\n",
              "      <td>46.871449</td>\n",
              "      <td>43.214581</td>\n",
              "      <td>44.478130</td>\n",
              "      <td>44.634239</td>\n",
              "      <td>44.402832</td>\n",
              "      <td>40.646358</td>\n",
              "      <td>37.371132</td>\n",
              "      <td>38.938583</td>\n",
              "      <td>39.084007</td>\n",
              "      <td>39.628136</td>\n",
              "      <td>39.416862</td>\n",
              "      <td>39.030819</td>\n",
              "    </tr>\n",
              "    <tr>\n",
              "      <th>4</th>\n",
              "      <td>180.0</td>\n",
              "      <td>96.648911</td>\n",
              "      <td>100.000504</td>\n",
              "      <td>100.693832</td>\n",
              "      <td>101.726929</td>\n",
              "      <td>100.216309</td>\n",
              "      <td>94.821243</td>\n",
              "      <td>65.648399</td>\n",
              "      <td>47.664204</td>\n",
              "      <td>47.722473</td>\n",
              "      <td>46.744694</td>\n",
              "      <td>44.823708</td>\n",
              "      <td>45.240993</td>\n",
              "      <td>50.071117</td>\n",
              "      <td>52.505688</td>\n",
              "      <td>51.207413</td>\n",
              "      <td>60.171860</td>\n",
              "      <td>80.333344</td>\n",
              "      <td>92.051857</td>\n",
              "      <td>93.564445</td>\n",
              "      <td>97.345688</td>\n",
              "      <td>100.217300</td>\n",
              "      <td>103.591118</td>\n",
              "      <td>104.178276</td>\n",
              "      <td>101.885941</td>\n",
              "      <td>93.780251</td>\n",
              "      <td>74.363960</td>\n",
              "      <td>56.343212</td>\n",
              "      <td>54.939270</td>\n",
              "      <td>97.437042</td>\n",
              "      <td>102.238533</td>\n",
              "      <td>100.512108</td>\n",
              "      <td>100.882980</td>\n",
              "      <td>95.489883</td>\n",
              "      <td>70.792099</td>\n",
              "      <td>47.040005</td>\n",
              "      <td>47.691360</td>\n",
              "      <td>48.146675</td>\n",
              "      <td>47.795067</td>\n",
              "      <td>46.325436</td>\n",
              "      <td>...</td>\n",
              "      <td>92.909637</td>\n",
              "      <td>101.554588</td>\n",
              "      <td>101.116554</td>\n",
              "      <td>98.422729</td>\n",
              "      <td>96.223213</td>\n",
              "      <td>99.118530</td>\n",
              "      <td>102.920509</td>\n",
              "      <td>107.311127</td>\n",
              "      <td>110.497787</td>\n",
              "      <td>111.991615</td>\n",
              "      <td>111.434570</td>\n",
              "      <td>113.209869</td>\n",
              "      <td>117.090866</td>\n",
              "      <td>107.226173</td>\n",
              "      <td>94.520996</td>\n",
              "      <td>94.898781</td>\n",
              "      <td>93.714081</td>\n",
              "      <td>90.633591</td>\n",
              "      <td>90.356049</td>\n",
              "      <td>95.836067</td>\n",
              "      <td>101.637039</td>\n",
              "      <td>100.886429</td>\n",
              "      <td>91.547173</td>\n",
              "      <td>62.418278</td>\n",
              "      <td>49.509636</td>\n",
              "      <td>45.800495</td>\n",
              "      <td>45.568398</td>\n",
              "      <td>72.236549</td>\n",
              "      <td>103.861748</td>\n",
              "      <td>107.733841</td>\n",
              "      <td>104.052841</td>\n",
              "      <td>98.513092</td>\n",
              "      <td>96.236061</td>\n",
              "      <td>98.687416</td>\n",
              "      <td>101.744209</td>\n",
              "      <td>103.113106</td>\n",
              "      <td>102.013344</td>\n",
              "      <td>104.133835</td>\n",
              "      <td>106.869644</td>\n",
              "      <td>109.506187</td>\n",
              "    </tr>\n",
              "  </tbody>\n",
              "</table>\n",
              "<p>5 rows × 785 columns</p>\n",
              "</div>"
            ],
            "text/plain": [
              "   Width          0           1  ...         781         782         783\n",
              "0  144.0  65.260803   65.020065  ...  100.412811  106.258499  110.693680\n",
              "1  197.0  67.919121   63.767452  ...    0.099565    0.142132    0.142132\n",
              "2  165.0  42.823174   47.074341  ...   96.804298   99.042213  101.761398\n",
              "3  165.0  96.870705   74.091202  ...   39.628136   39.416862   39.030819\n",
              "4  180.0  96.648911  100.000504  ...  104.133835  106.869644  109.506187\n",
              "\n",
              "[5 rows x 785 columns]"
            ]
          },
          "metadata": {
            "tags": []
          },
          "execution_count": 25
        }
      ]
    },
    {
      "cell_type": "code",
      "metadata": {
        "id": "4vmhG2LgCabC"
      },
      "source": [
        "Area = np.array(PSD_new['Area'])\n",
        "diam_teste = []\n",
        "for A in Area:\n",
        "  diam_teste.append((4*A/np.pi)**0.5) \n",
        "\n",
        "Diam1 = [ (4*A/np.pi)**0.5 for A in Area]"
      ],
      "execution_count": 26,
      "outputs": []
    },
    {
      "cell_type": "code",
      "metadata": {
        "colab": {
          "base_uri": "https://localhost:8080/",
          "height": 282
        },
        "id": "Vfk_fNXGDK5_",
        "outputId": "f9c6ea36-4820-4a4c-f411-84ccd7b5f628"
      },
      "source": [
        " wt1 = np.ones(len(Diam1)) / len(Diam1)*100\n",
        " wt2 = np.ones(len(Diameter_All)) / len(Diameter_All)*100\n",
        " X = pd.DataFrame([Diam1,Diameter_All])\n",
        " wts = pd.DataFrame([wt1,wt2])\n",
        "plt.hist(X,weights=wts)\n",
        "plt.legend(['Image J','CNN'])"
      ],
      "execution_count": 27,
      "outputs": [
        {
          "output_type": "execute_result",
          "data": {
            "text/plain": [
              "<matplotlib.legend.Legend at 0x7f5911cca450>"
            ]
          },
          "metadata": {
            "tags": []
          },
          "execution_count": 27
        },
        {
          "output_type": "display_data",
          "data": {
            "image/png": "[encoded data removed]",
            "text/plain": [
              "<Figure size 432x288 with 1 Axes>"
            ]
          },
          "metadata": {
            "tags": [],
            "needs_background": "light"
          }
        }
      ]
    },
    {
      "cell_type": "code",
      "metadata": {
        "colab": {
          "base_uri": "https://localhost:8080/",
          "height": 382
        },
        "id": "ZZHa1j4HT9Dq",
        "outputId": "140eb715-961c-489d-8b9f-3a8bedaf9b84"
      },
      "source": [
        "counts, bins, bars = plt.hist(X,weights=wts)\n",
        "print(bars)\n",
        "print(bins)\n",
        "print(counts)"
      ],
      "execution_count": 28,
      "outputs": [
        {
          "output_type": "stream",
          "text": [
            "<a list of 2 Lists of Patches objects>\n",
            "[0.75356807 0.90995518 1.06634229 1.22272941 1.37911652 1.53550363\n",
            " 1.69189074 1.84827785 2.00466497 2.16105208 2.31743919]\n",
            "[[ 7.36842105 12.63157895 21.05263158 34.73684211 12.63157895  8.42105263\n",
            "   1.05263158  0.          1.05263158  1.05263158]\n",
            " [16.         24.         16.         24.         16.          4.\n",
            "   0.          0.          0.          0.        ]]\n"
          ],
          "name": "stdout"
        },
        {
          "output_type": "display_data",
          "data": {
            "image/png": "[encoded data removed]",
            "text/plain": [
              "<Figure size 432x288 with 1 Axes>"
            ]
          },
          "metadata": {
            "tags": [],
            "needs_background": "light"
          }
        }
      ]
    },
    {
      "cell_type": "code",
      "metadata": {
        "colab": {
          "base_uri": "https://localhost:8080/"
        },
        "id": "8o_vDGeWUwIZ",
        "outputId": "9932210d-342e-4ad0-d234-ebfb57f176dc"
      },
      "source": [
        "print(counts.sum())"
      ],
      "execution_count": 29,
      "outputs": [
        {
          "output_type": "stream",
          "text": [
            "200.0000000000001\n"
          ],
          "name": "stdout"
        }
      ]
    },
    {
      "cell_type": "code",
      "metadata": {
        "colab": {
          "base_uri": "https://localhost:8080/",
          "height": 335
        },
        "id": "KcH52-6iJQ8t",
        "outputId": "ab52e647-713d-4851-8782-85291c338cd8"
      },
      "source": [
        "\n",
        "plt.hist([Diam1,Diameter_All])\n",
        "plt.legend(['Image J','CNN'])\n"
      ],
      "execution_count": 30,
      "outputs": [
        {
          "output_type": "stream",
          "text": [
            "/usr/local/lib/python3.7/dist-packages/numpy/core/_asarray.py:83: VisibleDeprecationWarning: Creating an ndarray from ragged nested sequences (which is a list-or-tuple of lists-or-tuples-or ndarrays with different lengths or shapes) is deprecated. If you meant to do this, you must specify 'dtype=object' when creating the ndarray\n",
            "  return array(a, dtype, copy=False, order=order)\n"
          ],
          "name": "stderr"
        },
        {
          "output_type": "execute_result",
          "data": {
            "text/plain": [
              "<matplotlib.legend.Legend at 0x7f5911f67210>"
            ]
          },
          "metadata": {
            "tags": []
          },
          "execution_count": 30
        },
        {
          "output_type": "display_data",
          "data": {
            "image/png": "[encoded data removed]",
            "text/plain": [
              "<Figure size 432x288 with 1 Axes>"
            ]
          },
          "metadata": {
            "tags": [],
            "needs_background": "light"
          }
        }
      ]
    },
    {
      "cell_type": "code",
      "metadata": {
        "colab": {
          "base_uri": "https://localhost:8080/"
        },
        "id": "r11AxFK_JIii",
        "outputId": "f8b57993-769e-4a93-f29d-fccf3c704618"
      },
      "source": [
        "[Diam1,Diameter_All]"
      ],
      "execution_count": 31,
      "outputs": [
        {
          "output_type": "execute_result",
          "data": {
            "text/plain": [
              "[[1.59616801403081,\n",
              "  1.0217907939900581,\n",
              "  1.2716187407449044,\n",
              "  1.104429030701514,\n",
              "  1.2163487785097904,\n",
              "  1.6013445735058454,\n",
              "  1.1715597420637607,\n",
              "  1.2534662333717612,\n",
              "  1.2676073151634049,\n",
              "  1.309600575274104,\n",
              "  1.292966945531582,\n",
              "  1.7658322811231006,\n",
              "  1.3564037533648712,\n",
              "  1.2407040781688483,\n",
              "  2.130217298173151,\n",
              "  1.4228319915327,\n",
              "  1.0651086490865755,\n",
              "  1.3008210311003705,\n",
              "  1.336545951796433,\n",
              "  0.8927754224911278,\n",
              "  1.4494292838262302,\n",
              "  1.4052738287907582,\n",
              "  1.6421697097891788,\n",
              "  1.2329833804288621,\n",
              "  1.19042665178928,\n",
              "  1.1682948223612457,\n",
              "  1.1518314137121108,\n",
              "  0.9607802401865855,\n",
              "  2.317439190074449,\n",
              "  1.0591147430338594,\n",
              "  1.4308630919602832,\n",
              "  0.7535680705496237,\n",
              "  0.8608283307581511,\n",
              "  1.2776122636975893,\n",
              "  1.3745862957220916,\n",
              "  1.259546137598783,\n",
              "  1.2978813187979172,\n",
              "  1.2412170838050638,\n",
              "  1.6009469708743893,\n",
              "  1.3149369953539032,\n",
              "  1.417901703622935,\n",
              "  1.2478669653497139,\n",
              "  1.1055812783082735,\n",
              "  0.9561307405997607,\n",
              "  0.9487783503683882,\n",
              "  1.1238565871041026,\n",
              "  1.2058356273089446,\n",
              "  1.2801012827406097,\n",
              "  0.8733100751144249,\n",
              "  0.9194732501297403,\n",
              "  1.6425573339441792,\n",
              "  1.085826790250066,\n",
              "  1.0639125693728595,\n",
              "  1.0875842666474016,\n",
              "  1.417901703622935,\n",
              "  1.550443891425932,\n",
              "  0.7825779328716171,\n",
              "  1.4690612745308145,\n",
              "  1.053086721720641,\n",
              "  1.2676073151634049,\n",
              "  0.7744003006005755,\n",
              "  1.3787482149724068,\n",
              "  1.363892581861956,\n",
              "  1.299352006316543,\n",
              "  1.2870449283923413,\n",
              "  1.11817763925502,\n",
              "  0.9474354220939228,\n",
              "  1.5218484589055707,\n",
              "  1.3526437911676632,\n",
              "  1.1556938532445284,\n",
              "  1.6013445735058454,\n",
              "  1.274619025074578,\n",
              "  1.422384489715834,\n",
              "  1.3408259533459403,\n",
              "  1.172646028567008,\n",
              "  1.1490645795125545,\n",
              "  1.459060149136146,\n",
              "  1.2483770274864237,\n",
              "  1.336545951796433,\n",
              "  0.9601174044814821,\n",
              "  1.4867225193896279,\n",
              "  1.4277452542806772,\n",
              "  1.35028849808504,\n",
              "  0.7560982446653928,\n",
              "  1.259040600296622,\n",
              "  1.13456827900627,\n",
              "  1.6549133695530214,\n",
              "  1.1204526724091788,\n",
              "  1.1176081573544434,\n",
              "  0.9153095762832032,\n",
              "  1.1639273497938836,\n",
              "  1.3066806149514323,\n",
              "  1.1529362882239027,\n",
              "  1.3047303442899274,\n",
              "  1.3066806149514323],\n",
              " [1.309990373586257,\n",
              "  1.5719953231812198,\n",
              "  1.4543922082835399,\n",
              "  1.6001793320037117,\n",
              "  1.4075002358309272,\n",
              "  0.7732425933621988,\n",
              "  1.297541701585798,\n",
              "  1.1587341155485134,\n",
              "  1.2823891037570672,\n",
              "  1.2564986257762356,\n",
              "  1.216175658287061,\n",
              "  1.2684663364604054,\n",
              "  1.260286691728978,\n",
              "  1.2937919758745444,\n",
              "  0.7714387755563514,\n",
              "  0.9124285445137893,\n",
              "  0.7654970632689775,\n",
              "  1.4365849103608739,\n",
              "  1.0279785570503266,\n",
              "  0.8281660323211941,\n",
              "  0.9880566148820705,\n",
              "  1.225744143494404,\n",
              "  1.1791016596749924,\n",
              "  1.4409894109448826,\n",
              "  0.9834266281142892,\n",
              "  0.9803374225783044,\n",
              "  1.0401972815207259,\n",
              "  1.0352354967773747,\n",
              "  0.8095964404561804,\n",
              "  1.0459601914453895,\n",
              "  1.1222641204371935,\n",
              "  1.0555342320083037,\n",
              "  1.3692933800104252,\n",
              "  0.9342646999048578,\n",
              "  0.8077225343144296,\n",
              "  1.041712500505301,\n",
              "  1.2097446171135837,\n",
              "  1.2117931608387822,\n",
              "  1.360155997884145,\n",
              "  1.2941064981011974,\n",
              "  1.518402808400245,\n",
              "  0.8182343841992148,\n",
              "  1.5247218098781141,\n",
              "  1.3787891400601995,\n",
              "  0.989670261507547,\n",
              "  1.2190583547103704,\n",
              "  1.4653666167092194,\n",
              "  1.4743657300193396,\n",
              "  0.8596884026002443,\n",
              "  1.1557747572452508]]"
            ]
          },
          "metadata": {
            "tags": []
          },
          "execution_count": 31
        }
      ]
    }
  ]
}