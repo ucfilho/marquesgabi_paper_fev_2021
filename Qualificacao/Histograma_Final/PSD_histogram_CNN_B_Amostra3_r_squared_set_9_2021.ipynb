{
  "nbformat": 4,
  "nbformat_minor": 0,
  "metadata": {
    "colab": {
      "name": "PSD_histogram_CNN_B_Amostra3_r_squared_set_9_2021.ipynb",
      "provenance": [],
      "collapsed_sections": [],
      "include_colab_link": true
    },
    "kernelspec": {
      "display_name": "Python 3",
      "name": "python3"
    }
  },
  "cells": [
    {
      "cell_type": "markdown",
      "metadata": {
        "id": "view-in-github",
        "colab_type": "text"
      },
      "source": [
        "<a href=\"https://colab.research.google.com/github/ucfilho/marquesgabi_paper_fev_2021/blob/main/Qualificacao/Histograma_Final/PSD_histogram_CNN_B_Amostra3_r_squared_set_9_2021.ipynb\" target=\"_parent\"><img src=\"https://colab.research.google.com/assets/colab-badge.svg\" alt=\"Open In Colab\"/></a>"
      ]
    },
    {
      "cell_type": "code",
      "metadata": {
        "id": "Sog7Z9pyhUD_"
      },
      "source": [
        "import matplotlib.pyplot as plt\n",
        "import numpy as np\n",
        "import cv2\n",
        "import zipfile\n",
        "#import random\n",
        "from random import randint\n",
        "from PIL import Image\n",
        "import re\n",
        "from sklearn.model_selection import train_test_split\n",
        "#import scikit-image\n",
        "import skimage\n",
        "import sklearn\n",
        "import pandas as pd\n",
        "from keras.models import Sequential\n",
        "from keras.layers import Dense, Activation, Conv2D, MaxPooling2D, Flatten, Dropout, BatchNormalization\n",
        "from sklearn.metrics import r2_score\n",
        "from google.colab import files"
      ],
      "execution_count": null,
      "outputs": []
    },
    {
      "cell_type": "code",
      "metadata": {
        "colab": {
          "base_uri": "https://localhost:8080/"
        },
        "id": "uZEvJvfoibE4",
        "outputId": "2b9b3336-b83b-40f3-dcd0-729a61da4fa9"
      },
      "source": [
        "!pip install mahotas"
      ],
      "execution_count": null,
      "outputs": [
        {
          "output_type": "stream",
          "name": "stdout",
          "text": [
            "Requirement already satisfied: mahotas in /usr/local/lib/python3.7/dist-packages (1.4.11)\n",
            "Requirement already satisfied: numpy in /usr/local/lib/python3.7/dist-packages (from mahotas) (1.19.5)\n"
          ]
        }
      ]
    },
    {
      "cell_type": "code",
      "metadata": {
        "id": "nf_a6PJ1iUnT"
      },
      "source": [
        "import mahotas.features.texture as mht\n",
        "import mahotas.features"
      ],
      "execution_count": null,
      "outputs": []
    },
    {
      "cell_type": "code",
      "metadata": {
        "colab": {
          "base_uri": "https://localhost:8080/"
        },
        "id": "_VcTdaNVh9EE",
        "outputId": "a2a55779-5475-4102-d6a6-08e16158a036"
      },
      "source": [
        "!git clone https://github.com/ucfilho/marquesgabi_fev_2020 #clonar do Github\n",
        "%cd marquesgabi_fev_2020\n",
        "import Go2BlackWhite\n",
        "import Go2Mahotas"
      ],
      "execution_count": null,
      "outputs": [
        {
          "output_type": "stream",
          "name": "stdout",
          "text": [
            "Cloning into 'marquesgabi_fev_2020'...\n",
            "remote: Enumerating objects: 73, done.\u001b[K\n",
            "remote: Counting objects: 100% (73/73), done.\u001b[K\n",
            "remote: Compressing objects: 100% (71/71), done.\u001b[K\n",
            "remote: Total 73 (delta 37), reused 0 (delta 0), pack-reused 0\u001b[K\n",
            "Unpacking objects: 100% (73/73), done.\n",
            "/content/marquesgabi_fev_2020/Doutorado/MarquesGabi_Routines/MarquesGabi_Routines/marquesgabi_paper_fev_2021/Doutorado/marquesgabi_fev_2020\n"
          ]
        }
      ]
    },
    {
      "cell_type": "code",
      "metadata": {
        "colab": {
          "base_uri": "https://localhost:8080/"
        },
        "id": "1v7SRrc8mH2N",
        "outputId": "3613c435-1c44-411d-d0b5-70bd170af8bd"
      },
      "source": [
        "!git clone https://github.com/marquesgabi/Doutorado\n",
        "%cd Doutorado\n",
        "\n",
        "Transfere='Fotos_Grandes_3cdAmostra.zip' \n",
        "file_name = zipfile.ZipFile(Transfere, 'r')\n",
        "file_name.extractall()"
      ],
      "execution_count": null,
      "outputs": [
        {
          "output_type": "stream",
          "name": "stdout",
          "text": [
            "Cloning into 'Doutorado'...\n",
            "remote: Enumerating objects: 414, done.\u001b[K\n",
            "remote: Counting objects: 100% (164/164), done.\u001b[K\n",
            "remote: Compressing objects: 100% (163/163), done.\u001b[K\n",
            "remote: Total 414 (delta 70), reused 0 (delta 0), pack-reused 250\u001b[K\n",
            "Receiving objects: 100% (414/414), 165.62 MiB | 28.54 MiB/s, done.\n",
            "Resolving deltas: 100% (193/193), done.\n",
            "Checking out files: 100% (82/82), done.\n",
            "/content/marquesgabi_fev_2020/Doutorado/MarquesGabi_Routines/MarquesGabi_Routines/marquesgabi_paper_fev_2021/Doutorado/marquesgabi_fev_2020/Doutorado\n"
          ]
        }
      ]
    },
    {
      "cell_type": "code",
      "metadata": {
        "colab": {
          "base_uri": "https://localhost:8080/"
        },
        "id": "NqIYzUcnrdMp",
        "outputId": "c4aaa3ce-5cec-48db-b56c-a1e379b0c834"
      },
      "source": [
        "labels =[]\n",
        "with zipfile.ZipFile(Transfere, \"r\") as f:\n",
        "  for f in f.namelist():\n",
        "    labels.append(f)\n",
        "print(labels)"
      ],
      "execution_count": null,
      "outputs": [
        {
          "output_type": "stream",
          "name": "stdout",
          "text": [
            "['Fotos_Grandes-3cdAmostra/Q6-8-4.jpg', 'Fotos_Grandes-3cdAmostra/Q6-5-3.jpg', 'Fotos_Grandes-3cdAmostra/Q6-7-4.jpg', 'Fotos_Grandes-3cdAmostra/Q6-8-2.jpg', 'Fotos_Grandes-3cdAmostra/Q6-3-2.jpg', 'Fotos_Grandes-3cdAmostra/Q6-7-2.jpg', 'Fotos_Grandes-3cdAmostra/Q6-4-4.jpg', 'Fotos_Grandes-3cdAmostra/Q6-9-5.jpg', 'Fotos_Grandes-3cdAmostra/Q6-2-5.jpg', 'Fotos_Grandes-3cdAmostra/Q6-8-3.jpg', 'Fotos_Grandes-3cdAmostra/Q6-9-3.jpg', 'Fotos_Grandes-3cdAmostra/Q6-1-2.jpg', 'Fotos_Grandes-3cdAmostra/Q6-6-3.jpg', 'Fotos_Grandes-3cdAmostra/Q6-3-4.jpg', 'Fotos_Grandes-3cdAmostra/Q6-1-4.jpg', 'Fotos_Grandes-3cdAmostra/Q6-6-2.jpg', 'Fotos_Grandes-3cdAmostra/Q6-4-3.jpg', 'Fotos_Grandes-3cdAmostra/Q6-7-3.jpg', 'Fotos_Grandes-3cdAmostra/Q6-2-2.jpg', 'Fotos_Grandes-3cdAmostra/Q6-9-2.jpg', 'Fotos_Grandes-3cdAmostra/Q6-1-5.jpg', 'Fotos_Grandes-3cdAmostra/Q6-6-5.jpg', 'Fotos_Grandes-3cdAmostra/Q6-2-1.jpg', 'Fotos_Grandes-3cdAmostra/Q6-5-2.jpg', 'Fotos_Grandes-3cdAmostra/Q6-4-1.jpg', 'Fotos_Grandes-3cdAmostra/Q6-3-1.jpg', 'Fotos_Grandes-3cdAmostra/Q6-5-4.jpg']\n"
          ]
        }
      ]
    },
    {
      "cell_type": "code",
      "metadata": {
        "id": "0kA4IWSmasoD"
      },
      "source": [
        "Size=1200 # tamanho da foto\n",
        "ww,img_name=Go2BlackWhite.BlackWhite(Transfere,Size) #Pegamos a primeira foto Grande\n",
        "img=ww[4] \n",
        "# this is the big image we want to segment \n",
        "# ww[0], change it if you want to segment another picture"
      ],
      "execution_count": null,
      "outputs": []
    },
    {
      "cell_type": "code",
      "metadata": {
        "colab": {
          "base_uri": "https://localhost:8080/"
        },
        "id": "tHgqAnaFyCjp",
        "outputId": "c9b3620c-9609-4047-f523-1dab973c4dc3"
      },
      "source": [
        "!git clone https://github.com/ucfilho/MarquesGabi_Routines\n",
        "%cd MarquesGabi_Routines"
      ],
      "execution_count": null,
      "outputs": [
        {
          "output_type": "stream",
          "name": "stdout",
          "text": [
            "Cloning into 'MarquesGabi_Routines'...\n",
            "remote: Enumerating objects: 163, done.\u001b[K\n",
            "remote: Counting objects: 100% (163/163), done.\u001b[K\n",
            "remote: Compressing objects: 100% (161/161), done.\u001b[K\n",
            "remote: Total 163 (delta 65), reused 0 (delta 0), pack-reused 0\u001b[K\n",
            "Receiving objects: 100% (163/163), 211.71 MiB | 22.13 MiB/s, done.\n",
            "Resolving deltas: 100% (65/65), done.\n",
            "Checking out files: 100% (46/46), done.\n",
            "/content/marquesgabi_fev_2020/Doutorado/MarquesGabi_Routines/MarquesGabi_Routines/marquesgabi_paper_fev_2021/Doutorado/marquesgabi_fev_2020/Doutorado/MarquesGabi_Routines\n"
          ]
        }
      ]
    },
    {
      "cell_type": "code",
      "metadata": {
        "id": "qc4rFvzkyWCi"
      },
      "source": [
        "from segment_filter_not_conclude import Segmenta  # got image provided segmented"
      ],
      "execution_count": null,
      "outputs": []
    },
    {
      "cell_type": "code",
      "metadata": {
        "id": "SnTtH3KDP863"
      },
      "source": [
        "df=Segmenta(img)\n",
        "Img_Size = 28"
      ],
      "execution_count": null,
      "outputs": []
    },
    {
      "cell_type": "code",
      "metadata": {
        "colab": {
          "base_uri": "https://localhost:8080/"
        },
        "id": "YN5MN5a_v4np",
        "outputId": "bc05d5dc-ebed-482a-978a-83c653b95d86"
      },
      "source": [
        "print(df)"
      ],
      "execution_count": null,
      "outputs": [
        {
          "output_type": "stream",
          "name": "stdout",
          "text": [
            "    Width           0           1  ...         781         782         783\n",
            "0     169  204.691132  202.333740  ...  175.423401  174.197296  179.782242\n",
            "1     175  162.678375  178.905579  ...  178.294388  150.742401  120.387199\n",
            "2     176  193.907532  185.662186  ...  132.257217  137.289764  143.347610\n",
            "3     141  182.239990  188.042282  ...  137.020218  120.394257   98.208847\n",
            "4     109  163.498611  179.412079  ...  167.349304  189.258545  208.610291\n",
            "5     177  110.681267  127.315964  ...  155.879791  168.057755  175.063339\n",
            "6     125  113.056007  122.395912  ...  135.351746  124.916550  117.979080\n",
            "7     182  164.349121  175.224869  ...  185.142029  192.532562  221.242645\n",
            "8     157  116.019554  121.931679  ...  151.203705  139.459732  100.625381\n",
            "9     186  146.540298  140.680206  ...    1.335646    0.187421    1.346398\n",
            "10    146  228.697311  229.509842  ...  173.879730  175.464249  170.906921\n",
            "11    100  230.011200  242.521606  ...   50.518402   78.248001  104.119995\n",
            "12    182  113.911255  110.396454  ...   99.715988  133.455627  131.053268\n",
            "13    176  133.556824  140.658066  ...    1.000000    1.000000    1.000000\n",
            "14    172  148.919968  144.847504  ...  151.513779  150.239059  145.395905\n",
            "15    123   66.638382   85.001915  ...  106.142181  107.913681  111.497261\n",
            "16    142  101.878403   84.943268  ...    0.623289    1.432652    1.052966\n",
            "17    123  118.913879  113.702431  ...  152.234909  156.873154  149.555145\n",
            "18    134  127.491646  128.151047  ...  206.910446  133.084869  156.910217\n",
            "19    200  131.466385  140.199600  ...  132.787201  141.151199  162.375198\n",
            "20    185  105.140739  103.561310  ...    1.298583    0.137706    1.325610\n",
            "21    145  169.930267  164.252762  ...    1.000000    1.389013    0.492461\n",
            "22    180    1.656790    0.749136  ...  172.029160  132.335815  100.557045\n",
            "23    133  187.556778  203.634338  ...  161.808868  171.404419  179.432129\n",
            "24    199  203.792572  199.352875  ...  204.015656  203.779022  201.976074\n",
            "25    136  141.141876  153.731827  ...  123.820076  155.101212  173.826996\n",
            "26    154  143.958679  156.338852  ...  113.214882   79.338852   82.644630\n",
            "27    107    2.582583    2.841820  ...    0.000000    0.831776    1.523364\n",
            "28    199  252.461700  254.104172  ...  139.202240  142.298553  130.480408\n",
            "29    194  208.785187  212.605804  ...   92.568275   92.296616   94.342964\n",
            "30    119  119.072662   90.477509  ...  125.335640  129.937714  135.750854\n",
            "31    133   66.119118   78.240997  ...    1.085873    1.360111    0.412742\n",
            "32    130   75.258926   79.969940  ...    0.831716    0.550059    0.384379\n",
            "33    144  115.727638  105.702171  ...  206.658981  207.158966  203.041687\n",
            "34    158  184.021454  182.133957  ...  112.399620  110.862503  111.733543\n",
            "35    126   26.419754   42.617283  ...    0.950617    0.000000    0.000000\n",
            "36    200   95.733612   94.659203  ...  216.858795  227.338806  232.086792\n",
            "37    150   80.039284   94.554497  ...  118.536179  116.557693  117.375465\n",
            "38    162  138.769562  138.345520  ...    0.793629    0.239750    1.375553\n",
            "39    185  111.122101  164.550064  ...   63.899956  120.818779  122.030174\n",
            "40    118   98.206841   92.754951  ...  236.788269  231.867554  197.544662\n",
            "41    100  148.838409  145.564804  ...  236.907196  242.835220  244.411194\n",
            "42    177  162.393036  169.694641  ...  152.875641  160.015182  152.413544\n",
            "43    106  176.843384  179.585983  ...  181.866852  190.886093  191.094696\n",
            "44    193  104.255844  124.848434  ...  162.555496  158.763077  163.379364\n",
            "45    107  162.931519  162.739883  ...  162.895630  164.336700  166.626343\n",
            "46    156  172.923080  171.741623  ...  146.559509  158.841553  157.815277\n",
            "47    184    0.833648    0.362476  ...    1.000000    1.000000    0.722117\n",
            "48    153    0.781067    0.218976  ...  118.227905  118.683418  116.442657\n",
            "49    104  133.106522  132.034042  ...  155.285507  156.213028  156.782562\n",
            "\n",
            "[50 rows x 785 columns]\n"
          ]
        }
      ]
    },
    {
      "cell_type": "code",
      "metadata": {
        "colab": {
          "base_uri": "https://localhost:8080/",
          "height": 52
        },
        "id": "xzpQ1Pz0fX5L",
        "outputId": "300260d7-f9df-4332-8e18-1e3d9641a5f0"
      },
      "source": [
        "'''\n",
        "!git clone https://github.com/ucfilho/MarquesGabi_Routines\n",
        "%cd MarquesGabi_Routines\n",
        "# filename = 'model_ANN.pkl'\n",
        "filename = 'model_ANN_new.pkl'\n",
        "model = joblib.load(filename)\n",
        "'''"
      ],
      "execution_count": null,
      "outputs": [
        {
          "output_type": "execute_result",
          "data": {
            "application/vnd.google.colaboratory.intrinsic+json": {
              "type": "string"
            },
            "text/plain": [
              "\"\\n!git clone https://github.com/ucfilho/MarquesGabi_Routines\\n%cd MarquesGabi_Routines\\n# filename = 'model_ANN.pkl'\\nfilename = 'model_ANN_new.pkl'\\nmodel = joblib.load(filename)\\n\""
            ]
          },
          "metadata": {},
          "execution_count": 61
        }
      ]
    },
    {
      "cell_type": "code",
      "metadata": {
        "colab": {
          "base_uri": "https://localhost:8080/"
        },
        "id": "xR2emP4rNjQy",
        "outputId": "b19ce108-bcd4-4a3d-cb63-93ebcd05f40a"
      },
      "source": [
        "!git clone https://github.com/ucfilho/MarquesGabi_Routines\n",
        "%cd MarquesGabi_Routines"
      ],
      "execution_count": null,
      "outputs": [
        {
          "output_type": "stream",
          "name": "stdout",
          "text": [
            "Cloning into 'MarquesGabi_Routines'...\n",
            "remote: Enumerating objects: 163, done.\u001b[K\n",
            "remote: Counting objects: 100% (163/163), done.\u001b[K\n",
            "remote: Compressing objects: 100% (160/160), done.\u001b[K\n",
            "remote: Total 163 (delta 65), reused 3 (delta 1), pack-reused 0\u001b[K\n",
            "Receiving objects: 100% (163/163), 211.71 MiB | 24.29 MiB/s, done.\n",
            "Resolving deltas: 100% (65/65), done.\n",
            "Checking out files: 100% (46/46), done.\n",
            "/content/marquesgabi_fev_2020/Doutorado/MarquesGabi_Routines/MarquesGabi_Routines/marquesgabi_paper_fev_2021/Doutorado/marquesgabi_fev_2020/Doutorado/MarquesGabi_Routines/MarquesGabi_Routines\n"
          ]
        }
      ]
    },
    {
      "cell_type": "code",
      "metadata": {
        "id": "O6cMHOrlNliO"
      },
      "source": [
        "# leitura dos dados\n",
        "df=pd.read_excel(\"FotosTreinoRede.xlsx\")\n",
        "y = df['y']\n",
        "df.drop(['Unnamed: 0','y'], axis='columns', inplace=True)"
      ],
      "execution_count": null,
      "outputs": []
    },
    {
      "cell_type": "code",
      "metadata": {
        "id": "zQO8d2QbNqj0"
      },
      "source": [
        "X =np.array(df.copy())/255.0 \n",
        "\n",
        "\n",
        "X_train, X_test, Y_train, Y_test = train_test_split(X, y, test_size=0.30, shuffle=True, random_state=42)"
      ],
      "execution_count": null,
      "outputs": []
    },
    {
      "cell_type": "code",
      "metadata": {
        "id": "gIFPGE_-vx3T"
      },
      "source": [
        ""
      ],
      "execution_count": null,
      "outputs": []
    },
    {
      "cell_type": "code",
      "metadata": {
        "id": "23iKv6bDPWQl"
      },
      "source": [
        "# helper\n",
        "def ynindicator(Y):\n",
        "  N = len(Y)\n",
        "  K = len(set(Y))\n",
        "  I = np.zeros((N, K))\n",
        "  I[np.arange(N), Y] = 1\n",
        "  return I\n",
        "\n",
        "def yback(Y_test):\n",
        "  nrow, ncol = Y_test.shape\n",
        "  y_class = np.zeros(nrow,dtype=int)\n",
        "  y_resp = Y_test\n",
        "  for k in range(nrow):\n",
        "    for kk in range(K):\n",
        "      if(y_resp[k,kk] == 1):\n",
        "        y_class[k] = kk\n",
        "  Y_test = y_class.copy()\n",
        "  return Y_test\n",
        "\n",
        "X_train = np.array(X_train)\n",
        "Y_train = np.array(Y_train)\n",
        "K = len(set(Y_train))\n",
        "\n",
        "X_train = X_train.reshape(-1, Img_Size, Img_Size, 1) / 255.0\n",
        "Y_train = Y_train.astype(np.int32)\n",
        "Y_train = ynindicator(Y_train)\n",
        "\n",
        "X_test = np.array(X_test )\n",
        "Y_test = np.array(Y_test)\n",
        "X_test = X_test.reshape(-1, Img_Size, Img_Size, 1) / 255.0\n",
        "Y_test = Y_test.astype(np.int32)\n",
        "Y_test = ynindicator(Y_test)\n",
        "\n",
        "# the model will be a sequence of layers\n",
        "\n",
        "Description = '3 layers of Convolution: 64, 128, 256 '\n",
        "N1 = 20\n",
        "N2 = 20\n",
        "\n",
        "# make the CNN\n",
        "model = Sequential()\n",
        "model.add(Conv2D(input_shape=(Img_Size, Img_Size, 1), filters=64, kernel_size=(3, 3)))\n",
        "model.add(BatchNormalization())\n",
        "model.add(Activation('relu'))\n",
        "model.add(MaxPooling2D())\n",
        "\n",
        "model.add(Conv2D(filters=128, kernel_size=(3, 3)))\n",
        "model.add(BatchNormalization())\n",
        "model.add(Activation('relu'))\n",
        "model.add(MaxPooling2D())\n",
        "\n",
        "model.add(Conv2D(filters=256, kernel_size=(3, 3)))\n",
        "model.add(BatchNormalization())\n",
        "model.add(Activation('relu'))\n",
        "model.add(MaxPooling2D())\n",
        "\n",
        "model.add(Flatten())\n",
        "model.add(Dense(units=N1))\n",
        "model.add(Dropout(0.2))\n",
        "model.add(Dense(units=N2))\n",
        "model.add(Activation('relu'))\n",
        "#model.add(Dropout(0.2))\n",
        "model.add(Dense(units=K))\n",
        "model.add(Activation('softmax'))\n",
        "\n",
        "\n",
        "# list of losses: https://keras.io/losses/\n",
        "# list of optimizers: https://keras.io/optimizers/\n",
        "# list of metrics: https://keras.io/metrics/\n",
        "model.compile(\n",
        "  loss='categorical_crossentropy',\n",
        "  optimizer='adam',\n",
        "  metrics=['accuracy']\n",
        ")"
      ],
      "execution_count": null,
      "outputs": []
    },
    {
      "cell_type": "code",
      "metadata": {
        "colab": {
          "base_uri": "https://localhost:8080/"
        },
        "id": "FpbPQ1FSRG6A",
        "outputId": "7b9f4d7c-45f3-46dd-aaaa-87fca0efa4a1"
      },
      "source": [
        "\n",
        "# training the model\n",
        "r = model.fit(X_train, Y_train, validation_data=(X_test,Y_test), \n",
        "              epochs=200, batch_size=32)"
      ],
      "execution_count": null,
      "outputs": [
        {
          "output_type": "stream",
          "name": "stdout",
          "text": [
            "Epoch 1/200\n",
            "11/11 [==============================] - 2s 140ms/step - loss: 0.6555 - accuracy: 0.6851 - val_loss: 0.6933 - val_accuracy: 0.4898\n",
            "Epoch 2/200\n",
            "11/11 [==============================] - 1s 118ms/step - loss: 0.4249 - accuracy: 0.7901 - val_loss: 0.6930 - val_accuracy: 0.5102\n",
            "Epoch 3/200\n",
            "11/11 [==============================] - 1s 118ms/step - loss: 0.2732 - accuracy: 0.8921 - val_loss: 0.6928 - val_accuracy: 0.5102\n",
            "Epoch 4/200\n",
            "11/11 [==============================] - 1s 121ms/step - loss: 0.1600 - accuracy: 0.9388 - val_loss: 0.6927 - val_accuracy: 0.5102\n",
            "Epoch 5/200\n",
            "11/11 [==============================] - 1s 121ms/step - loss: 0.1238 - accuracy: 0.9650 - val_loss: 0.6927 - val_accuracy: 0.5102\n",
            "Epoch 6/200\n",
            "11/11 [==============================] - 1s 120ms/step - loss: 0.1200 - accuracy: 0.9534 - val_loss: 0.6928 - val_accuracy: 0.5102\n",
            "Epoch 7/200\n",
            "11/11 [==============================] - 1s 116ms/step - loss: 0.0762 - accuracy: 0.9708 - val_loss: 0.6932 - val_accuracy: 0.5102\n",
            "Epoch 8/200\n",
            "11/11 [==============================] - 1s 117ms/step - loss: 0.0813 - accuracy: 0.9738 - val_loss: 0.6934 - val_accuracy: 0.5102\n",
            "Epoch 9/200\n",
            "11/11 [==============================] - 1s 120ms/step - loss: 0.0554 - accuracy: 0.9767 - val_loss: 0.6930 - val_accuracy: 0.5102\n",
            "Epoch 10/200\n",
            "11/11 [==============================] - 1s 117ms/step - loss: 0.0468 - accuracy: 0.9854 - val_loss: 0.6922 - val_accuracy: 0.5102\n",
            "Epoch 11/200\n",
            "11/11 [==============================] - 1s 114ms/step - loss: 0.0334 - accuracy: 0.9913 - val_loss: 0.6926 - val_accuracy: 0.5102\n",
            "Epoch 12/200\n",
            "11/11 [==============================] - 1s 115ms/step - loss: 0.0200 - accuracy: 0.9883 - val_loss: 0.6923 - val_accuracy: 0.5102\n",
            "Epoch 13/200\n",
            "11/11 [==============================] - 1s 115ms/step - loss: 0.0144 - accuracy: 0.9942 - val_loss: 0.6919 - val_accuracy: 0.5102\n",
            "Epoch 14/200\n",
            "11/11 [==============================] - 1s 118ms/step - loss: 0.0292 - accuracy: 0.9883 - val_loss: 0.6924 - val_accuracy: 0.5102\n",
            "Epoch 15/200\n",
            "11/11 [==============================] - 1s 125ms/step - loss: 0.0245 - accuracy: 0.9883 - val_loss: 0.6949 - val_accuracy: 0.5102\n",
            "Epoch 16/200\n",
            "11/11 [==============================] - 1s 120ms/step - loss: 0.0105 - accuracy: 1.0000 - val_loss: 0.6955 - val_accuracy: 0.5102\n",
            "Epoch 17/200\n",
            "11/11 [==============================] - 1s 115ms/step - loss: 0.0083 - accuracy: 0.9971 - val_loss: 0.7006 - val_accuracy: 0.5102\n",
            "Epoch 18/200\n",
            "11/11 [==============================] - 1s 117ms/step - loss: 0.0099 - accuracy: 0.9971 - val_loss: 0.7126 - val_accuracy: 0.5102\n",
            "Epoch 19/200\n",
            "11/11 [==============================] - 1s 115ms/step - loss: 0.0074 - accuracy: 0.9971 - val_loss: 0.7360 - val_accuracy: 0.5102\n",
            "Epoch 20/200\n",
            "11/11 [==============================] - 1s 115ms/step - loss: 0.0049 - accuracy: 1.0000 - val_loss: 0.7431 - val_accuracy: 0.5102\n",
            "Epoch 21/200\n",
            "11/11 [==============================] - 1s 115ms/step - loss: 0.0040 - accuracy: 1.0000 - val_loss: 0.7612 - val_accuracy: 0.5102\n",
            "Epoch 22/200\n",
            "11/11 [==============================] - 1s 116ms/step - loss: 0.0061 - accuracy: 0.9971 - val_loss: 0.8674 - val_accuracy: 0.5102\n",
            "Epoch 23/200\n",
            "11/11 [==============================] - 1s 119ms/step - loss: 0.0078 - accuracy: 0.9971 - val_loss: 0.9695 - val_accuracy: 0.5102\n",
            "Epoch 24/200\n",
            "11/11 [==============================] - 1s 116ms/step - loss: 0.0021 - accuracy: 1.0000 - val_loss: 0.7596 - val_accuracy: 0.5102\n",
            "Epoch 25/200\n",
            "11/11 [==============================] - 1s 116ms/step - loss: 0.0058 - accuracy: 1.0000 - val_loss: 0.7727 - val_accuracy: 0.5102\n",
            "Epoch 26/200\n",
            "11/11 [==============================] - 1s 115ms/step - loss: 0.0025 - accuracy: 1.0000 - val_loss: 0.7985 - val_accuracy: 0.5102\n",
            "Epoch 27/200\n",
            "11/11 [==============================] - 1s 117ms/step - loss: 9.3927e-04 - accuracy: 1.0000 - val_loss: 0.8040 - val_accuracy: 0.5102\n",
            "Epoch 28/200\n",
            "11/11 [==============================] - 1s 115ms/step - loss: 6.8685e-04 - accuracy: 1.0000 - val_loss: 0.8022 - val_accuracy: 0.5102\n",
            "Epoch 29/200\n",
            "11/11 [==============================] - 1s 117ms/step - loss: 0.0016 - accuracy: 1.0000 - val_loss: 0.7704 - val_accuracy: 0.5102\n",
            "Epoch 30/200\n",
            "11/11 [==============================] - 1s 116ms/step - loss: 7.7968e-04 - accuracy: 1.0000 - val_loss: 0.7430 - val_accuracy: 0.5102\n",
            "Epoch 31/200\n",
            "11/11 [==============================] - 1s 115ms/step - loss: 0.0023 - accuracy: 1.0000 - val_loss: 0.6899 - val_accuracy: 0.5102\n",
            "Epoch 32/200\n",
            "11/11 [==============================] - 1s 116ms/step - loss: 5.4737e-04 - accuracy: 1.0000 - val_loss: 0.6696 - val_accuracy: 0.5102\n",
            "Epoch 33/200\n",
            "11/11 [==============================] - 1s 114ms/step - loss: 5.5322e-04 - accuracy: 1.0000 - val_loss: 0.6647 - val_accuracy: 0.5102\n",
            "Epoch 34/200\n",
            "11/11 [==============================] - 1s 117ms/step - loss: 4.9609e-04 - accuracy: 1.0000 - val_loss: 0.6730 - val_accuracy: 0.5102\n",
            "Epoch 35/200\n",
            "11/11 [==============================] - 1s 117ms/step - loss: 8.9940e-04 - accuracy: 1.0000 - val_loss: 0.6968 - val_accuracy: 0.5102\n",
            "Epoch 36/200\n",
            "11/11 [==============================] - 1s 117ms/step - loss: 0.0022 - accuracy: 1.0000 - val_loss: 0.8341 - val_accuracy: 0.5102\n",
            "Epoch 37/200\n",
            "11/11 [==============================] - 1s 119ms/step - loss: 3.8998e-04 - accuracy: 1.0000 - val_loss: 1.0847 - val_accuracy: 0.5102\n",
            "Epoch 38/200\n",
            "11/11 [==============================] - 1s 119ms/step - loss: 1.5756e-04 - accuracy: 1.0000 - val_loss: 1.1831 - val_accuracy: 0.5102\n",
            "Epoch 39/200\n",
            "11/11 [==============================] - 1s 118ms/step - loss: 0.0010 - accuracy: 1.0000 - val_loss: 0.9379 - val_accuracy: 0.5102\n",
            "Epoch 40/200\n",
            "11/11 [==============================] - 1s 119ms/step - loss: 6.4292e-04 - accuracy: 1.0000 - val_loss: 0.8038 - val_accuracy: 0.5102\n",
            "Epoch 41/200\n",
            "11/11 [==============================] - 1s 115ms/step - loss: 1.7539e-04 - accuracy: 1.0000 - val_loss: 0.7536 - val_accuracy: 0.5102\n",
            "Epoch 42/200\n",
            "11/11 [==============================] - 1s 116ms/step - loss: 7.4363e-04 - accuracy: 1.0000 - val_loss: 0.6212 - val_accuracy: 0.5442\n",
            "Epoch 43/200\n",
            "11/11 [==============================] - 1s 114ms/step - loss: 2.6363e-04 - accuracy: 1.0000 - val_loss: 0.6961 - val_accuracy: 0.5170\n",
            "Epoch 44/200\n",
            "11/11 [==============================] - 1s 117ms/step - loss: 1.8379e-04 - accuracy: 1.0000 - val_loss: 0.7263 - val_accuracy: 0.5170\n",
            "Epoch 45/200\n",
            "11/11 [==============================] - 1s 119ms/step - loss: 2.7352e-04 - accuracy: 1.0000 - val_loss: 0.6766 - val_accuracy: 0.5306\n",
            "Epoch 46/200\n",
            "11/11 [==============================] - 1s 115ms/step - loss: 1.6661e-04 - accuracy: 1.0000 - val_loss: 0.5949 - val_accuracy: 0.5510\n",
            "Epoch 47/200\n",
            "11/11 [==============================] - 1s 117ms/step - loss: 1.7739e-04 - accuracy: 1.0000 - val_loss: 0.5538 - val_accuracy: 0.5850\n",
            "Epoch 48/200\n",
            "11/11 [==============================] - 1s 118ms/step - loss: 3.8057e-04 - accuracy: 1.0000 - val_loss: 0.7019 - val_accuracy: 0.5578\n",
            "Epoch 49/200\n",
            "11/11 [==============================] - 1s 116ms/step - loss: 2.5430e-04 - accuracy: 1.0000 - val_loss: 0.9040 - val_accuracy: 0.5374\n",
            "Epoch 50/200\n",
            "11/11 [==============================] - 1s 117ms/step - loss: 9.1612e-04 - accuracy: 1.0000 - val_loss: 0.9018 - val_accuracy: 0.5510\n",
            "Epoch 51/200\n",
            "11/11 [==============================] - 1s 116ms/step - loss: 7.6376e-04 - accuracy: 1.0000 - val_loss: 1.1395 - val_accuracy: 0.5442\n",
            "Epoch 52/200\n",
            "11/11 [==============================] - 1s 118ms/step - loss: 3.3879e-04 - accuracy: 1.0000 - val_loss: 1.4653 - val_accuracy: 0.5306\n",
            "Epoch 53/200\n",
            "11/11 [==============================] - 1s 120ms/step - loss: 7.7517e-04 - accuracy: 1.0000 - val_loss: 0.8793 - val_accuracy: 0.5782\n",
            "Epoch 54/200\n",
            "11/11 [==============================] - 1s 117ms/step - loss: 0.0029 - accuracy: 1.0000 - val_loss: 1.0977 - val_accuracy: 0.5102\n",
            "Epoch 55/200\n",
            "11/11 [==============================] - 1s 119ms/step - loss: 0.0036 - accuracy: 1.0000 - val_loss: 2.9499 - val_accuracy: 0.5102\n",
            "Epoch 56/200\n",
            "11/11 [==============================] - 1s 118ms/step - loss: 0.0170 - accuracy: 0.9942 - val_loss: 38.9900 - val_accuracy: 0.5102\n",
            "Epoch 57/200\n",
            "11/11 [==============================] - 1s 116ms/step - loss: 0.0681 - accuracy: 0.9738 - val_loss: 66.3807 - val_accuracy: 0.5102\n",
            "Epoch 58/200\n",
            "11/11 [==============================] - 1s 116ms/step - loss: 0.1323 - accuracy: 0.9679 - val_loss: 0.7117 - val_accuracy: 0.5102\n",
            "Epoch 59/200\n",
            "11/11 [==============================] - 1s 116ms/step - loss: 0.0333 - accuracy: 0.9854 - val_loss: 23.8228 - val_accuracy: 0.5102\n",
            "Epoch 60/200\n",
            "11/11 [==============================] - 1s 113ms/step - loss: 0.0202 - accuracy: 0.9942 - val_loss: 35.4765 - val_accuracy: 0.5102\n",
            "Epoch 61/200\n",
            "11/11 [==============================] - 1s 118ms/step - loss: 0.0057 - accuracy: 0.9971 - val_loss: 69.0302 - val_accuracy: 0.5102\n",
            "Epoch 62/200\n",
            "11/11 [==============================] - 1s 116ms/step - loss: 0.0030 - accuracy: 1.0000 - val_loss: 68.9147 - val_accuracy: 0.5102\n",
            "Epoch 63/200\n",
            "11/11 [==============================] - 1s 120ms/step - loss: 0.0039 - accuracy: 0.9971 - val_loss: 53.9351 - val_accuracy: 0.5102\n",
            "Epoch 64/200\n",
            "11/11 [==============================] - 1s 116ms/step - loss: 0.0022 - accuracy: 1.0000 - val_loss: 43.0505 - val_accuracy: 0.5102\n",
            "Epoch 65/200\n",
            "11/11 [==============================] - 1s 115ms/step - loss: 0.0046 - accuracy: 1.0000 - val_loss: 22.8862 - val_accuracy: 0.5102\n",
            "Epoch 66/200\n",
            "11/11 [==============================] - 1s 115ms/step - loss: 0.0032 - accuracy: 1.0000 - val_loss: 17.3583 - val_accuracy: 0.5102\n",
            "Epoch 67/200\n",
            "11/11 [==============================] - 1s 118ms/step - loss: 0.0012 - accuracy: 1.0000 - val_loss: 15.4695 - val_accuracy: 0.5102\n",
            "Epoch 68/200\n",
            "11/11 [==============================] - 1s 116ms/step - loss: 7.0410e-04 - accuracy: 1.0000 - val_loss: 13.4105 - val_accuracy: 0.5102\n",
            "Epoch 69/200\n",
            "11/11 [==============================] - 1s 120ms/step - loss: 5.3225e-04 - accuracy: 1.0000 - val_loss: 12.5760 - val_accuracy: 0.5102\n",
            "Epoch 70/200\n",
            "11/11 [==============================] - 1s 120ms/step - loss: 3.3336e-04 - accuracy: 1.0000 - val_loss: 11.3236 - val_accuracy: 0.5102\n",
            "Epoch 71/200\n",
            "11/11 [==============================] - 1s 114ms/step - loss: 0.0068 - accuracy: 0.9971 - val_loss: 10.4783 - val_accuracy: 0.5102\n",
            "Epoch 72/200\n",
            "11/11 [==============================] - 1s 117ms/step - loss: 0.0029 - accuracy: 0.9971 - val_loss: 12.5477 - val_accuracy: 0.5102\n",
            "Epoch 73/200\n",
            "11/11 [==============================] - 1s 115ms/step - loss: 0.0023 - accuracy: 1.0000 - val_loss: 16.9291 - val_accuracy: 0.5102\n",
            "Epoch 74/200\n",
            "11/11 [==============================] - 1s 114ms/step - loss: 8.8263e-04 - accuracy: 1.0000 - val_loss: 19.0849 - val_accuracy: 0.5102\n",
            "Epoch 75/200\n",
            "11/11 [==============================] - 1s 114ms/step - loss: 0.0028 - accuracy: 1.0000 - val_loss: 17.4193 - val_accuracy: 0.5102\n",
            "Epoch 76/200\n",
            "11/11 [==============================] - 1s 113ms/step - loss: 6.8244e-04 - accuracy: 1.0000 - val_loss: 15.7354 - val_accuracy: 0.5102\n",
            "Epoch 77/200\n",
            "11/11 [==============================] - 1s 117ms/step - loss: 0.0013 - accuracy: 1.0000 - val_loss: 12.7385 - val_accuracy: 0.5102\n",
            "Epoch 78/200\n",
            "11/11 [==============================] - 1s 115ms/step - loss: 2.7993e-04 - accuracy: 1.0000 - val_loss: 9.0816 - val_accuracy: 0.5102\n",
            "Epoch 79/200\n",
            "11/11 [==============================] - 1s 112ms/step - loss: 0.0020 - accuracy: 1.0000 - val_loss: 8.2408 - val_accuracy: 0.5102\n",
            "Epoch 80/200\n",
            "11/11 [==============================] - 1s 114ms/step - loss: 1.7980e-04 - accuracy: 1.0000 - val_loss: 7.5303 - val_accuracy: 0.5102\n",
            "Epoch 81/200\n",
            "11/11 [==============================] - 1s 116ms/step - loss: 3.3547e-04 - accuracy: 1.0000 - val_loss: 6.7755 - val_accuracy: 0.5102\n",
            "Epoch 82/200\n",
            "11/11 [==============================] - 1s 114ms/step - loss: 4.3795e-04 - accuracy: 1.0000 - val_loss: 5.7431 - val_accuracy: 0.5102\n",
            "Epoch 83/200\n",
            "11/11 [==============================] - 1s 114ms/step - loss: 5.6277e-04 - accuracy: 1.0000 - val_loss: 4.7332 - val_accuracy: 0.5102\n",
            "Epoch 84/200\n",
            "11/11 [==============================] - 1s 111ms/step - loss: 0.0018 - accuracy: 1.0000 - val_loss: 3.0856 - val_accuracy: 0.5102\n",
            "Epoch 85/200\n",
            "11/11 [==============================] - 1s 113ms/step - loss: 4.1869e-04 - accuracy: 1.0000 - val_loss: 3.2339 - val_accuracy: 0.5102\n",
            "Epoch 86/200\n",
            "11/11 [==============================] - 1s 116ms/step - loss: 2.3431e-04 - accuracy: 1.0000 - val_loss: 3.7407 - val_accuracy: 0.5102\n",
            "Epoch 87/200\n",
            "11/11 [==============================] - 1s 118ms/step - loss: 8.3205e-05 - accuracy: 1.0000 - val_loss: 4.0365 - val_accuracy: 0.5102\n",
            "Epoch 88/200\n",
            "11/11 [==============================] - 1s 115ms/step - loss: 2.4870e-04 - accuracy: 1.0000 - val_loss: 3.5577 - val_accuracy: 0.5102\n",
            "Epoch 89/200\n",
            "11/11 [==============================] - 1s 118ms/step - loss: 3.9049e-04 - accuracy: 1.0000 - val_loss: 2.4851 - val_accuracy: 0.5238\n",
            "Epoch 90/200\n",
            "11/11 [==============================] - 1s 114ms/step - loss: 1.6603e-04 - accuracy: 1.0000 - val_loss: 1.2285 - val_accuracy: 0.5782\n",
            "Epoch 91/200\n",
            "11/11 [==============================] - 1s 115ms/step - loss: 4.4882e-04 - accuracy: 1.0000 - val_loss: 0.9667 - val_accuracy: 0.6190\n",
            "Epoch 92/200\n",
            "11/11 [==============================] - 1s 111ms/step - loss: 7.5228e-05 - accuracy: 1.0000 - val_loss: 0.8820 - val_accuracy: 0.6531\n",
            "Epoch 93/200\n",
            "11/11 [==============================] - 1s 114ms/step - loss: 7.8102e-05 - accuracy: 1.0000 - val_loss: 0.7681 - val_accuracy: 0.6939\n",
            "Epoch 94/200\n",
            "11/11 [==============================] - 1s 118ms/step - loss: 1.6222e-04 - accuracy: 1.0000 - val_loss: 0.6112 - val_accuracy: 0.7483\n",
            "Epoch 95/200\n",
            "11/11 [==============================] - 1s 113ms/step - loss: 5.9664e-05 - accuracy: 1.0000 - val_loss: 0.4843 - val_accuracy: 0.7959\n",
            "Epoch 96/200\n",
            "11/11 [==============================] - 1s 115ms/step - loss: 6.5701e-05 - accuracy: 1.0000 - val_loss: 0.3996 - val_accuracy: 0.8435\n",
            "Epoch 97/200\n",
            "11/11 [==============================] - 1s 116ms/step - loss: 3.0916e-04 - accuracy: 1.0000 - val_loss: 0.4202 - val_accuracy: 0.8299\n",
            "Epoch 98/200\n",
            "11/11 [==============================] - 1s 115ms/step - loss: 5.5551e-04 - accuracy: 1.0000 - val_loss: 0.2717 - val_accuracy: 0.9252\n",
            "Epoch 99/200\n",
            "11/11 [==============================] - 1s 112ms/step - loss: 1.9315e-04 - accuracy: 1.0000 - val_loss: 0.3621 - val_accuracy: 0.9048\n",
            "Epoch 100/200\n",
            "11/11 [==============================] - 1s 120ms/step - loss: 2.6279e-04 - accuracy: 1.0000 - val_loss: 0.6691 - val_accuracy: 0.7891\n",
            "Epoch 101/200\n",
            "11/11 [==============================] - 1s 114ms/step - loss: 1.2235e-04 - accuracy: 1.0000 - val_loss: 0.9961 - val_accuracy: 0.7551\n",
            "Epoch 102/200\n",
            "11/11 [==============================] - 1s 118ms/step - loss: 1.2245e-04 - accuracy: 1.0000 - val_loss: 1.1298 - val_accuracy: 0.7483\n",
            "Epoch 103/200\n",
            "11/11 [==============================] - 1s 119ms/step - loss: 1.3597e-04 - accuracy: 1.0000 - val_loss: 1.0560 - val_accuracy: 0.7619\n",
            "Epoch 104/200\n",
            "11/11 [==============================] - 1s 115ms/step - loss: 3.9826e-05 - accuracy: 1.0000 - val_loss: 0.8233 - val_accuracy: 0.7823\n",
            "Epoch 105/200\n",
            "11/11 [==============================] - 1s 113ms/step - loss: 1.0195e-04 - accuracy: 1.0000 - val_loss: 0.6741 - val_accuracy: 0.8367\n",
            "Epoch 106/200\n",
            "11/11 [==============================] - 1s 113ms/step - loss: 5.5379e-05 - accuracy: 1.0000 - val_loss: 0.5621 - val_accuracy: 0.8707\n",
            "Epoch 107/200\n",
            "11/11 [==============================] - 1s 116ms/step - loss: 5.1787e-05 - accuracy: 1.0000 - val_loss: 0.4438 - val_accuracy: 0.8912\n",
            "Epoch 108/200\n",
            "11/11 [==============================] - 1s 115ms/step - loss: 1.7577e-04 - accuracy: 1.0000 - val_loss: 0.4102 - val_accuracy: 0.9116\n",
            "Epoch 109/200\n",
            "11/11 [==============================] - 1s 118ms/step - loss: 5.8209e-05 - accuracy: 1.0000 - val_loss: 0.3619 - val_accuracy: 0.9116\n",
            "Epoch 110/200\n",
            "11/11 [==============================] - 1s 116ms/step - loss: 4.1554e-05 - accuracy: 1.0000 - val_loss: 0.3395 - val_accuracy: 0.9184\n",
            "Epoch 111/200\n",
            "11/11 [==============================] - 1s 116ms/step - loss: 1.9053e-04 - accuracy: 1.0000 - val_loss: 0.4370 - val_accuracy: 0.9116\n",
            "Epoch 112/200\n",
            "11/11 [==============================] - 1s 117ms/step - loss: 1.8651e-04 - accuracy: 1.0000 - val_loss: 0.4637 - val_accuracy: 0.9116\n",
            "Epoch 113/200\n",
            "11/11 [==============================] - 1s 117ms/step - loss: 6.3963e-05 - accuracy: 1.0000 - val_loss: 0.4009 - val_accuracy: 0.9116\n",
            "Epoch 114/200\n",
            "11/11 [==============================] - 1s 118ms/step - loss: 5.7239e-05 - accuracy: 1.0000 - val_loss: 0.3380 - val_accuracy: 0.9252\n",
            "Epoch 115/200\n",
            "11/11 [==============================] - 1s 117ms/step - loss: 9.6471e-05 - accuracy: 1.0000 - val_loss: 0.3305 - val_accuracy: 0.9252\n",
            "Epoch 116/200\n",
            "11/11 [==============================] - 1s 115ms/step - loss: 6.5453e-05 - accuracy: 1.0000 - val_loss: 0.3210 - val_accuracy: 0.9252\n",
            "Epoch 117/200\n",
            "11/11 [==============================] - 1s 117ms/step - loss: 1.1076e-04 - accuracy: 1.0000 - val_loss: 0.2765 - val_accuracy: 0.9252\n",
            "Epoch 118/200\n",
            "11/11 [==============================] - 1s 117ms/step - loss: 3.5455e-04 - accuracy: 1.0000 - val_loss: 0.3629 - val_accuracy: 0.9048\n",
            "Epoch 119/200\n",
            "11/11 [==============================] - 1s 117ms/step - loss: 3.2843e-05 - accuracy: 1.0000 - val_loss: 0.3388 - val_accuracy: 0.9048\n",
            "Epoch 120/200\n",
            "11/11 [==============================] - 1s 116ms/step - loss: 8.1632e-05 - accuracy: 1.0000 - val_loss: 0.2921 - val_accuracy: 0.9116\n",
            "Epoch 121/200\n",
            "11/11 [==============================] - 1s 116ms/step - loss: 2.6663e-05 - accuracy: 1.0000 - val_loss: 0.2942 - val_accuracy: 0.9116\n",
            "Epoch 122/200\n",
            "11/11 [==============================] - 1s 115ms/step - loss: 1.7891e-04 - accuracy: 1.0000 - val_loss: 0.2356 - val_accuracy: 0.9184\n",
            "Epoch 123/200\n",
            "11/11 [==============================] - 1s 117ms/step - loss: 1.5597e-04 - accuracy: 1.0000 - val_loss: 0.1738 - val_accuracy: 0.9252\n",
            "Epoch 124/200\n",
            "11/11 [==============================] - 1s 116ms/step - loss: 8.1390e-05 - accuracy: 1.0000 - val_loss: 0.2120 - val_accuracy: 0.9048\n",
            "Epoch 125/200\n",
            "11/11 [==============================] - 1s 115ms/step - loss: 2.0577e-05 - accuracy: 1.0000 - val_loss: 0.2288 - val_accuracy: 0.9048\n",
            "Epoch 126/200\n",
            "11/11 [==============================] - 1s 119ms/step - loss: 4.8890e-05 - accuracy: 1.0000 - val_loss: 0.1865 - val_accuracy: 0.9048\n",
            "Epoch 127/200\n",
            "11/11 [==============================] - 1s 115ms/step - loss: 3.2424e-05 - accuracy: 1.0000 - val_loss: 0.1657 - val_accuracy: 0.9320\n",
            "Epoch 128/200\n",
            "11/11 [==============================] - 1s 115ms/step - loss: 4.1966e-05 - accuracy: 1.0000 - val_loss: 0.1454 - val_accuracy: 0.9592\n",
            "Epoch 129/200\n",
            "11/11 [==============================] - 1s 118ms/step - loss: 8.0603e-05 - accuracy: 1.0000 - val_loss: 0.1254 - val_accuracy: 0.9592\n",
            "Epoch 130/200\n",
            "11/11 [==============================] - 1s 115ms/step - loss: 7.7109e-05 - accuracy: 1.0000 - val_loss: 0.1126 - val_accuracy: 0.9592\n",
            "Epoch 131/200\n",
            "11/11 [==============================] - 1s 118ms/step - loss: 8.0528e-05 - accuracy: 1.0000 - val_loss: 0.1198 - val_accuracy: 0.9796\n",
            "Epoch 132/200\n",
            "11/11 [==============================] - 1s 116ms/step - loss: 1.5690e-04 - accuracy: 1.0000 - val_loss: 0.1890 - val_accuracy: 0.9660\n",
            "Epoch 133/200\n",
            "11/11 [==============================] - 1s 116ms/step - loss: 1.9989e-04 - accuracy: 1.0000 - val_loss: 0.1734 - val_accuracy: 0.9660\n",
            "Epoch 134/200\n",
            "11/11 [==============================] - 1s 117ms/step - loss: 2.5240e-05 - accuracy: 1.0000 - val_loss: 0.1667 - val_accuracy: 0.9660\n",
            "Epoch 135/200\n",
            "11/11 [==============================] - 1s 117ms/step - loss: 1.1218e-04 - accuracy: 1.0000 - val_loss: 0.1480 - val_accuracy: 0.9660\n",
            "Epoch 136/200\n",
            "11/11 [==============================] - 1s 115ms/step - loss: 1.6314e-05 - accuracy: 1.0000 - val_loss: 0.1456 - val_accuracy: 0.9660\n",
            "Epoch 137/200\n",
            "11/11 [==============================] - 1s 118ms/step - loss: 1.9293e-04 - accuracy: 1.0000 - val_loss: 0.1280 - val_accuracy: 0.9728\n",
            "Epoch 138/200\n",
            "11/11 [==============================] - 1s 117ms/step - loss: 4.1484e-05 - accuracy: 1.0000 - val_loss: 0.1226 - val_accuracy: 0.9728\n",
            "Epoch 139/200\n",
            "11/11 [==============================] - 1s 116ms/step - loss: 6.0227e-05 - accuracy: 1.0000 - val_loss: 0.1353 - val_accuracy: 0.9728\n",
            "Epoch 140/200\n",
            "11/11 [==============================] - 1s 116ms/step - loss: 4.9777e-05 - accuracy: 1.0000 - val_loss: 0.1506 - val_accuracy: 0.9660\n",
            "Epoch 141/200\n",
            "11/11 [==============================] - 1s 115ms/step - loss: 5.1584e-05 - accuracy: 1.0000 - val_loss: 0.1626 - val_accuracy: 0.9592\n",
            "Epoch 142/200\n",
            "11/11 [==============================] - 1s 115ms/step - loss: 7.3086e-05 - accuracy: 1.0000 - val_loss: 0.1662 - val_accuracy: 0.9660\n",
            "Epoch 143/200\n",
            "11/11 [==============================] - 1s 118ms/step - loss: 5.0059e-05 - accuracy: 1.0000 - val_loss: 0.1638 - val_accuracy: 0.9660\n",
            "Epoch 144/200\n",
            "11/11 [==============================] - 1s 114ms/step - loss: 1.4521e-04 - accuracy: 1.0000 - val_loss: 0.1568 - val_accuracy: 0.9660\n",
            "Epoch 145/200\n",
            "11/11 [==============================] - 1s 117ms/step - loss: 3.1550e-05 - accuracy: 1.0000 - val_loss: 0.1447 - val_accuracy: 0.9728\n",
            "Epoch 146/200\n",
            "11/11 [==============================] - 1s 117ms/step - loss: 8.2508e-05 - accuracy: 1.0000 - val_loss: 0.1423 - val_accuracy: 0.9796\n",
            "Epoch 147/200\n",
            "11/11 [==============================] - 1s 116ms/step - loss: 6.4130e-05 - accuracy: 1.0000 - val_loss: 0.1460 - val_accuracy: 0.9796\n",
            "Epoch 148/200\n",
            "11/11 [==============================] - 1s 116ms/step - loss: 2.3767e-05 - accuracy: 1.0000 - val_loss: 0.1602 - val_accuracy: 0.9796\n",
            "Epoch 149/200\n",
            "11/11 [==============================] - 1s 114ms/step - loss: 9.7167e-05 - accuracy: 1.0000 - val_loss: 0.1698 - val_accuracy: 0.9728\n",
            "Epoch 150/200\n",
            "11/11 [==============================] - 1s 116ms/step - loss: 5.3189e-05 - accuracy: 1.0000 - val_loss: 0.1540 - val_accuracy: 0.9796\n",
            "Epoch 151/200\n",
            "11/11 [==============================] - 1s 115ms/step - loss: 2.6333e-05 - accuracy: 1.0000 - val_loss: 0.1513 - val_accuracy: 0.9796\n",
            "Epoch 152/200\n",
            "11/11 [==============================] - 1s 115ms/step - loss: 1.3339e-04 - accuracy: 1.0000 - val_loss: 0.1558 - val_accuracy: 0.9796\n",
            "Epoch 153/200\n",
            "11/11 [==============================] - 1s 115ms/step - loss: 2.4539e-05 - accuracy: 1.0000 - val_loss: 0.1631 - val_accuracy: 0.9728\n",
            "Epoch 154/200\n",
            "11/11 [==============================] - 1s 117ms/step - loss: 2.3003e-05 - accuracy: 1.0000 - val_loss: 0.1692 - val_accuracy: 0.9728\n",
            "Epoch 155/200\n",
            "11/11 [==============================] - 1s 116ms/step - loss: 9.3899e-06 - accuracy: 1.0000 - val_loss: 0.1769 - val_accuracy: 0.9728\n",
            "Epoch 156/200\n",
            "11/11 [==============================] - 1s 116ms/step - loss: 3.2316e-05 - accuracy: 1.0000 - val_loss: 0.1897 - val_accuracy: 0.9728\n",
            "Epoch 157/200\n",
            "11/11 [==============================] - 1s 116ms/step - loss: 2.5084e-05 - accuracy: 1.0000 - val_loss: 0.1999 - val_accuracy: 0.9728\n",
            "Epoch 158/200\n",
            "11/11 [==============================] - 1s 116ms/step - loss: 2.0845e-05 - accuracy: 1.0000 - val_loss: 0.2085 - val_accuracy: 0.9728\n",
            "Epoch 159/200\n",
            "11/11 [==============================] - 1s 118ms/step - loss: 2.7616e-05 - accuracy: 1.0000 - val_loss: 0.2127 - val_accuracy: 0.9728\n",
            "Epoch 160/200\n",
            "11/11 [==============================] - 1s 114ms/step - loss: 1.9619e-05 - accuracy: 1.0000 - val_loss: 0.2167 - val_accuracy: 0.9728\n",
            "Epoch 161/200\n",
            "11/11 [==============================] - 1s 118ms/step - loss: 9.0130e-05 - accuracy: 1.0000 - val_loss: 0.2740 - val_accuracy: 0.9320\n",
            "Epoch 162/200\n",
            "11/11 [==============================] - 1s 115ms/step - loss: 8.7839e-06 - accuracy: 1.0000 - val_loss: 0.4375 - val_accuracy: 0.8707\n",
            "Epoch 163/200\n",
            "11/11 [==============================] - 1s 117ms/step - loss: 2.5584e-05 - accuracy: 1.0000 - val_loss: 0.4122 - val_accuracy: 0.8776\n",
            "Epoch 164/200\n",
            "11/11 [==============================] - 1s 119ms/step - loss: 6.5488e-05 - accuracy: 1.0000 - val_loss: 0.3161 - val_accuracy: 0.9252\n",
            "Epoch 165/200\n",
            "11/11 [==============================] - 1s 122ms/step - loss: 1.7186e-05 - accuracy: 1.0000 - val_loss: 0.2686 - val_accuracy: 0.9388\n",
            "Epoch 166/200\n",
            "11/11 [==============================] - 1s 119ms/step - loss: 2.9492e-05 - accuracy: 1.0000 - val_loss: 0.2483 - val_accuracy: 0.9524\n",
            "Epoch 167/200\n",
            "11/11 [==============================] - 1s 119ms/step - loss: 1.6250e-05 - accuracy: 1.0000 - val_loss: 0.2279 - val_accuracy: 0.9524\n",
            "Epoch 168/200\n",
            "11/11 [==============================] - 1s 116ms/step - loss: 9.7709e-05 - accuracy: 1.0000 - val_loss: 0.2132 - val_accuracy: 0.9524\n",
            "Epoch 169/200\n",
            "11/11 [==============================] - 1s 117ms/step - loss: 2.4103e-05 - accuracy: 1.0000 - val_loss: 0.2032 - val_accuracy: 0.9660\n",
            "Epoch 170/200\n",
            "11/11 [==============================] - 1s 116ms/step - loss: 2.4053e-05 - accuracy: 1.0000 - val_loss: 0.1917 - val_accuracy: 0.9728\n",
            "Epoch 171/200\n",
            "11/11 [==============================] - 1s 118ms/step - loss: 1.6355e-05 - accuracy: 1.0000 - val_loss: 0.1841 - val_accuracy: 0.9728\n",
            "Epoch 172/200\n",
            "11/11 [==============================] - 1s 115ms/step - loss: 2.0182e-04 - accuracy: 1.0000 - val_loss: 0.2238 - val_accuracy: 0.9660\n",
            "Epoch 173/200\n",
            "11/11 [==============================] - 1s 116ms/step - loss: 7.0849e-05 - accuracy: 1.0000 - val_loss: 0.2328 - val_accuracy: 0.9524\n",
            "Epoch 174/200\n",
            "11/11 [==============================] - 1s 115ms/step - loss: 5.4505e-05 - accuracy: 1.0000 - val_loss: 0.2187 - val_accuracy: 0.9660\n",
            "Epoch 175/200\n",
            "11/11 [==============================] - 1s 115ms/step - loss: 3.5852e-05 - accuracy: 1.0000 - val_loss: 0.2005 - val_accuracy: 0.9728\n",
            "Epoch 176/200\n",
            "11/11 [==============================] - 1s 116ms/step - loss: 1.6172e-05 - accuracy: 1.0000 - val_loss: 0.1927 - val_accuracy: 0.9728\n",
            "Epoch 177/200\n",
            "11/11 [==============================] - 1s 120ms/step - loss: 5.7172e-05 - accuracy: 1.0000 - val_loss: 0.1913 - val_accuracy: 0.9728\n",
            "Epoch 178/200\n",
            "11/11 [==============================] - 1s 117ms/step - loss: 8.0645e-06 - accuracy: 1.0000 - val_loss: 0.1888 - val_accuracy: 0.9728\n",
            "Epoch 179/200\n",
            "11/11 [==============================] - 1s 121ms/step - loss: 1.0316e-05 - accuracy: 1.0000 - val_loss: 0.1860 - val_accuracy: 0.9796\n",
            "Epoch 180/200\n",
            "11/11 [==============================] - 1s 120ms/step - loss: 9.2412e-06 - accuracy: 1.0000 - val_loss: 0.1823 - val_accuracy: 0.9796\n",
            "Epoch 181/200\n",
            "11/11 [==============================] - 1s 117ms/step - loss: 3.4395e-05 - accuracy: 1.0000 - val_loss: 0.1799 - val_accuracy: 0.9796\n",
            "Epoch 182/200\n",
            "11/11 [==============================] - 1s 115ms/step - loss: 1.1901e-05 - accuracy: 1.0000 - val_loss: 0.1804 - val_accuracy: 0.9796\n",
            "Epoch 183/200\n",
            "11/11 [==============================] - 1s 119ms/step - loss: 1.0317e-05 - accuracy: 1.0000 - val_loss: 0.1814 - val_accuracy: 0.9728\n",
            "Epoch 184/200\n",
            "11/11 [==============================] - 1s 117ms/step - loss: 6.3092e-06 - accuracy: 1.0000 - val_loss: 0.1849 - val_accuracy: 0.9728\n",
            "Epoch 185/200\n",
            "11/11 [==============================] - 1s 117ms/step - loss: 8.3524e-06 - accuracy: 1.0000 - val_loss: 0.1918 - val_accuracy: 0.9796\n",
            "Epoch 186/200\n",
            "11/11 [==============================] - 1s 120ms/step - loss: 1.4626e-05 - accuracy: 1.0000 - val_loss: 0.2007 - val_accuracy: 0.9728\n",
            "Epoch 187/200\n",
            "11/11 [==============================] - 1s 123ms/step - loss: 2.4117e-05 - accuracy: 1.0000 - val_loss: 0.2108 - val_accuracy: 0.9728\n",
            "Epoch 188/200\n",
            "11/11 [==============================] - 1s 116ms/step - loss: 4.1344e-05 - accuracy: 1.0000 - val_loss: 0.2265 - val_accuracy: 0.9728\n",
            "Epoch 189/200\n",
            "11/11 [==============================] - 1s 114ms/step - loss: 1.7124e-05 - accuracy: 1.0000 - val_loss: 0.2439 - val_accuracy: 0.9660\n",
            "Epoch 190/200\n",
            "11/11 [==============================] - 1s 117ms/step - loss: 5.0066e-05 - accuracy: 1.0000 - val_loss: 0.2093 - val_accuracy: 0.9728\n",
            "Epoch 191/200\n",
            "11/11 [==============================] - 1s 116ms/step - loss: 9.6802e-06 - accuracy: 1.0000 - val_loss: 0.2017 - val_accuracy: 0.9660\n",
            "Epoch 192/200\n",
            "11/11 [==============================] - 1s 116ms/step - loss: 2.3959e-05 - accuracy: 1.0000 - val_loss: 0.2003 - val_accuracy: 0.9728\n",
            "Epoch 193/200\n",
            "11/11 [==============================] - 1s 118ms/step - loss: 3.0520e-05 - accuracy: 1.0000 - val_loss: 0.1922 - val_accuracy: 0.9660\n",
            "Epoch 194/200\n",
            "11/11 [==============================] - 1s 123ms/step - loss: 6.0444e-05 - accuracy: 1.0000 - val_loss: 0.1880 - val_accuracy: 0.9660\n",
            "Epoch 195/200\n",
            "11/11 [==============================] - 1s 119ms/step - loss: 2.9151e-05 - accuracy: 1.0000 - val_loss: 0.1804 - val_accuracy: 0.9728\n",
            "Epoch 196/200\n",
            "11/11 [==============================] - 1s 116ms/step - loss: 1.1717e-05 - accuracy: 1.0000 - val_loss: 0.1805 - val_accuracy: 0.9728\n",
            "Epoch 197/200\n",
            "11/11 [==============================] - 1s 119ms/step - loss: 1.6424e-05 - accuracy: 1.0000 - val_loss: 0.1902 - val_accuracy: 0.9728\n",
            "Epoch 198/200\n",
            "11/11 [==============================] - 1s 115ms/step - loss: 1.2988e-05 - accuracy: 1.0000 - val_loss: 0.1969 - val_accuracy: 0.9728\n",
            "Epoch 199/200\n",
            "11/11 [==============================] - 1s 115ms/step - loss: 3.7743e-06 - accuracy: 1.0000 - val_loss: 0.2042 - val_accuracy: 0.9728\n",
            "Epoch 200/200\n",
            "11/11 [==============================] - 1s 120ms/step - loss: 2.4033e-05 - accuracy: 1.0000 - val_loss: 0.2076 - val_accuracy: 0.9728\n"
          ]
        }
      ]
    },
    {
      "cell_type": "code",
      "metadata": {
        "id": "cSTlOSUBWMpj"
      },
      "source": [
        "Y_test = yback(Y_test)"
      ],
      "execution_count": null,
      "outputs": []
    },
    {
      "cell_type": "code",
      "metadata": {
        "colab": {
          "base_uri": "https://localhost:8080/"
        },
        "id": "FDVY6HbxMOlH",
        "outputId": "75d52095-7377-47b1-8a61-882837e50ade"
      },
      "source": [
        "# pred_test= model.predict_classes(X_test)\n",
        "pred_test = np.argmax(model.predict(X_test), axis=-1)\n",
        "\n",
        "data = {'y_true': Y_test,'y_predict': pred_test}  # este dado esta no formato de dicionario\n",
        "\n",
        "df = pd.DataFrame(data, columns=['y_true','y_predict'])\n",
        "\n",
        "\n",
        "confusion_matrix = pd.crosstab(df['y_true'], df['y_predict'], rownames=['Actual'], colnames=['Predict'])\n",
        "print(confusion_matrix)\n",
        "\n",
        "y_true = df['y_true']\n",
        "y_pred = df['y_predict']\n",
        "\n",
        "  \n",
        "METRICS=sklearn.metrics.classification_report(y_true, y_pred)"
      ],
      "execution_count": null,
      "outputs": [
        {
          "output_type": "stream",
          "name": "stdout",
          "text": [
            "Predict   0   1\n",
            "Actual         \n",
            "0        71   1\n",
            "1         3  72\n"
          ]
        }
      ]
    },
    {
      "cell_type": "code",
      "metadata": {
        "colab": {
          "base_uri": "https://localhost:8080/"
        },
        "id": "_iFNNrlWV9tH",
        "outputId": "9adfb82a-d8c4-496d-8cab-e255b0d649f4"
      },
      "source": [
        "pred_test"
      ],
      "execution_count": null,
      "outputs": [
        {
          "output_type": "execute_result",
          "data": {
            "text/plain": [
              "array([1, 0, 1, 1, 1, 1, 0, 0, 1, 0, 0, 0, 1, 0, 1, 0, 1, 1, 1, 0, 0, 0,\n",
              "       1, 0, 0, 0, 0, 1, 0, 1, 0, 0, 1, 1, 0, 0, 0, 0, 0, 0, 1, 1, 1, 0,\n",
              "       0, 0, 0, 1, 1, 1, 1, 0, 0, 1, 0, 0, 1, 0, 1, 0, 1, 1, 0, 1, 1, 1,\n",
              "       0, 1, 1, 1, 1, 0, 1, 1, 0, 0, 1, 1, 0, 0, 1, 1, 1, 1, 0, 1, 0, 0,\n",
              "       1, 0, 0, 1, 0, 1, 1, 0, 1, 1, 1, 0, 1, 1, 1, 0, 1, 0, 1, 1, 0, 0,\n",
              "       0, 1, 1, 1, 1, 1, 1, 1, 0, 1, 0, 0, 0, 1, 1, 0, 0, 0, 0, 0, 0, 0,\n",
              "       0, 1, 0, 0, 0, 1, 0, 0, 1, 1, 1, 0, 0, 0, 1])"
            ]
          },
          "metadata": {},
          "execution_count": 69
        }
      ]
    },
    {
      "cell_type": "code",
      "metadata": {
        "colab": {
          "base_uri": "https://localhost:8080/"
        },
        "id": "Jv5I61yhPQmk",
        "outputId": "020e8d46-ab31-4058-a9b1-d763652e9ef7"
      },
      "source": [
        "cont = 0; num =25\n",
        "img_graos = []\n",
        "Width_new = []\n",
        "img=ww[4] \n",
        "while( cont < num):\n",
        "  df=Segmenta(img)\n",
        "  df_ann =df.copy()\n",
        "  Width = df['Width']\n",
        "  del df_ann['Width']\n",
        "  result = np.array(df_ann)\n",
        "  result = result.reshape(-1, Img_Size, Img_Size, 1) / 255.0\n",
        "  #prediction = model.predict_classes(result)\n",
        "  prediction= np.argmax(model.predict(result), axis=-1)\n",
        "  loc_grao =[];k=0\n",
        "  for i in prediction:\n",
        "    if( i == 0):\n",
        "      img_graos.append(df.iloc[k,:])\n",
        "      Width_new.append(Width.iloc[k])\n",
        "      cont = cont + 1\n",
        "    k = k +1\n",
        "img_graos = pd.DataFrame(img_graos)\n",
        "print(img_graos)"
      ],
      "execution_count": null,
      "outputs": [
        {
          "output_type": "stream",
          "name": "stdout",
          "text": [
            "    Width           0           1  ...         781         782         783\n",
            "4   169.0  161.130905  152.162445  ...  139.152344  150.631836  150.875381\n",
            "7   153.0  140.016541  142.684830  ...  192.382660  196.781845  196.238129\n",
            "11  142.0  176.223953  154.511200  ...  143.704834  162.581635  157.849243\n",
            "14  128.0  182.095703  188.249023  ...  121.837891  133.629883  157.823242\n",
            "15  182.0  139.739670  131.443787  ...  179.982269  177.023666  151.532547\n",
            "18  119.0  105.671288  102.141869  ...  139.083054  142.941177  141.653992\n",
            "19  118.0  209.326050  204.869293  ...  161.045685  159.618790  171.819885\n",
            "21  165.0  252.144318  247.891479  ...  146.588623  120.728485  171.728897\n",
            "23  168.0  155.138885  154.583328  ...  116.527779  116.833336  143.500000\n",
            "25  115.0  208.045135  175.759323  ...  152.755829  153.669037  152.564453\n",
            "32  150.0  127.668266  131.744003  ...  190.252274  177.184357  177.326584\n",
            "37  166.0  162.587891  165.190872  ...  225.170700  252.272141  252.284653\n",
            "40  173.0  120.947937  146.786758  ...  140.772354  143.536224  151.396225\n",
            "41  124.0  117.325699  114.252861  ...  215.799164  222.713821  225.629532\n",
            "42  186.0  132.299347  135.243744  ...  202.998047  188.920471  160.973419\n",
            "43  117.0  205.624496  200.957840  ...  177.678345  182.972015  185.177734\n",
            "44  192.0  124.513885  107.484810  ...  130.226120  128.208771  119.427933\n",
            "1   136.0  139.083923  145.116776  ...  140.533752  130.487900  124.050179\n",
            "7   183.0   81.335571  100.981964  ...  105.685753  163.518799  188.848373\n",
            "10  130.0  187.556702  180.022491  ...  172.053024  173.321411  170.054672\n",
            "15  119.0  104.747406  102.512115  ...   12.640140    1.913495    3.076125\n",
            "17  139.0  167.772064  172.209915  ...  252.544739  251.826538  250.610046\n",
            "18  193.0  200.545227  127.301331  ...  142.635666  136.007660  134.998184\n",
            "19  124.0  178.888657  174.883453  ...  174.144623  181.623291  188.329849\n",
            "24  141.0  166.959427  173.666718  ...   69.848846   66.182640   81.663849\n",
            "28  110.0  250.210236  206.921646  ...  158.623474  138.322296  150.218506\n",
            "31  172.0  183.170914  175.778259  ...  175.163330  159.043274  179.359131\n",
            "37  114.0  182.343811  180.452759  ...  233.313019  230.090805  227.152054\n",
            "38  108.0  182.436203  180.836746  ...  188.812073  196.375854  202.987656\n",
            "40  113.0  141.578674  163.713226  ...  128.102661  126.852142  122.632545\n",
            "41  198.0  171.571472  157.814484  ...  174.010910  180.861130  192.502197\n",
            "43  153.0  176.321991  183.723053  ...  196.751953  205.330765  213.903961\n",
            "44  195.0  136.445038  132.607101  ...  197.873093  165.877563  165.895874\n",
            "47  163.0  164.258591  155.428665  ...  160.871140  173.031845  161.497116\n",
            "\n",
            "[34 rows x 785 columns]\n"
          ]
        }
      ]
    },
    {
      "cell_type": "code",
      "metadata": {
        "id": "6LkA4vHp-f6_"
      },
      "source": [
        "Width=np.array(Width_new)"
      ],
      "execution_count": null,
      "outputs": []
    },
    {
      "cell_type": "code",
      "metadata": {
        "colab": {
          "base_uri": "https://localhost:8080/"
        },
        "id": "MjRbWgmX_LFH",
        "outputId": "ccab9023-45a3-4105-fdb3-7fbfa404a266"
      },
      "source": [
        "!git clone https://github.com/ucfilho/marquesgabi_paper_fev_2021\n",
        "%cd marquesgabi_paper_fev_2021\n",
        "\n",
        "from Get_PSDArea_New import PSDArea\n",
        "from histogram_fev_2021 import PSD\n",
        "from GetBetterSegm import GetBetter"
      ],
      "execution_count": null,
      "outputs": [
        {
          "output_type": "stream",
          "name": "stdout",
          "text": [
            "Cloning into 'marquesgabi_paper_fev_2021'...\n",
            "remote: Enumerating objects: 687, done.\u001b[K\n",
            "remote: Counting objects: 100% (448/448), done.\u001b[K\n",
            "remote: Compressing objects: 100% (446/446), done.\u001b[K\n",
            "remote: Total 687 (delta 282), reused 0 (delta 0), pack-reused 239\u001b[K\n",
            "Receiving objects: 100% (687/687), 5.59 MiB | 13.23 MiB/s, done.\n",
            "Resolving deltas: 100% (419/419), done.\n",
            "/content/marquesgabi_fev_2020/Doutorado/MarquesGabi_Routines/MarquesGabi_Routines/marquesgabi_paper_fev_2021/Doutorado/marquesgabi_fev_2020/Doutorado/MarquesGabi_Routines/MarquesGabi_Routines/marquesgabi_paper_fev_2021\n"
          ]
        }
      ]
    },
    {
      "cell_type": "code",
      "metadata": {
        "colab": {
          "base_uri": "https://localhost:8080/"
        },
        "id": "WAG_I6FwCvFr",
        "outputId": "9bf65995-a6a6-4b0b-f0b8-3caa0f86d95c"
      },
      "source": [
        "!git clone https://github.com/ucfilho/marquesgabi_out_2020\n",
        "#!git clone https://github.com/marquesgabi/Doutorado\n",
        "%cd marquesgabi_out_2020\n",
        "#%cd Doutorado\n",
        "#PSD_imageJ = 'Amostra7.csv' \n",
        "#PSD_new = pd.read_csv(PSD_imageJ,sep=';')\n",
        "#encoding='utf8'\n",
        "\n",
        "PSD_imageJ = 'Areas_ImageJ.csv'\n",
        "PSD_new = pd.read_csv(PSD_imageJ)\n",
        "print(PSD_new.head(3))"
      ],
      "execution_count": null,
      "outputs": [
        {
          "output_type": "stream",
          "name": "stdout",
          "text": [
            "Cloning into 'marquesgabi_out_2020'...\n",
            "remote: Enumerating objects: 146, done.\u001b[K\n",
            "remote: Counting objects: 100% (146/146), done.\u001b[K\n",
            "remote: Compressing objects: 100% (142/142), done.\u001b[K\n",
            "remote: Total 146 (delta 75), reused 0 (delta 0), pack-reused 0\u001b[K\n",
            "Receiving objects: 100% (146/146), 1.00 MiB | 3.53 MiB/s, done.\n",
            "Resolving deltas: 100% (75/75), done.\n",
            "/content/marquesgabi_fev_2020/Doutorado/MarquesGabi_Routines/MarquesGabi_Routines/marquesgabi_paper_fev_2021/Doutorado/marquesgabi_fev_2020/Doutorado/MarquesGabi_Routines/MarquesGabi_Routines/marquesgabi_paper_fev_2021/marquesgabi_out_2020\n",
            "   Juntas   Area\n",
            "0       1  2.001\n",
            "1       2  0.820\n",
            "2       3  1.270\n"
          ]
        }
      ]
    },
    {
      "cell_type": "code",
      "metadata": {
        "colab": {
          "base_uri": "https://localhost:8080/"
        },
        "id": "7tEPjIBnv_xM",
        "outputId": "45745916-9f67-4bd7-d5ef-fe91a11dc6f7"
      },
      "source": [
        "PSD_new.shape"
      ],
      "execution_count": null,
      "outputs": [
        {
          "output_type": "execute_result",
          "data": {
            "text/plain": [
              "(95, 2)"
            ]
          },
          "metadata": {},
          "execution_count": 74
        }
      ]
    },
    {
      "cell_type": "code",
      "metadata": {
        "id": "t_1WIM8w7poO"
      },
      "source": [
        "Area_All, Diameter_All=PSDArea(img_graos) "
      ],
      "execution_count": null,
      "outputs": []
    },
    {
      "cell_type": "code",
      "metadata": {
        "id": "nfagXc-Mv3oa"
      },
      "source": [
        ""
      ],
      "execution_count": null,
      "outputs": []
    },
    {
      "cell_type": "code",
      "metadata": {
        "colab": {
          "base_uri": "https://localhost:8080/",
          "height": 253
        },
        "id": "PekBHQOT_6CP",
        "outputId": "f991e252-12ae-468a-a0b5-641d62820087"
      },
      "source": [
        "img_graos.head()"
      ],
      "execution_count": null,
      "outputs": [
        {
          "output_type": "execute_result",
          "data": {
            "text/html": [
              "<div>\n",
              "<style scoped>\n",
              "    .dataframe tbody tr th:only-of-type {\n",
              "        vertical-align: middle;\n",
              "    }\n",
              "\n",
              "    .dataframe tbody tr th {\n",
              "        vertical-align: top;\n",
              "    }\n",
              "\n",
              "    .dataframe thead th {\n",
              "        text-align: right;\n",
              "    }\n",
              "</style>\n",
              "<table border=\"1\" class=\"dataframe\">\n",
              "  <thead>\n",
              "    <tr style=\"text-align: right;\">\n",
              "      <th></th>\n",
              "      <th>Width</th>\n",
              "      <th>0</th>\n",
              "      <th>1</th>\n",
              "      <th>2</th>\n",
              "      <th>3</th>\n",
              "      <th>4</th>\n",
              "      <th>5</th>\n",
              "      <th>6</th>\n",
              "      <th>7</th>\n",
              "      <th>8</th>\n",
              "      <th>9</th>\n",
              "      <th>10</th>\n",
              "      <th>11</th>\n",
              "      <th>12</th>\n",
              "      <th>13</th>\n",
              "      <th>14</th>\n",
              "      <th>15</th>\n",
              "      <th>16</th>\n",
              "      <th>17</th>\n",
              "      <th>18</th>\n",
              "      <th>19</th>\n",
              "      <th>20</th>\n",
              "      <th>21</th>\n",
              "      <th>22</th>\n",
              "      <th>23</th>\n",
              "      <th>24</th>\n",
              "      <th>25</th>\n",
              "      <th>26</th>\n",
              "      <th>27</th>\n",
              "      <th>28</th>\n",
              "      <th>29</th>\n",
              "      <th>30</th>\n",
              "      <th>31</th>\n",
              "      <th>32</th>\n",
              "      <th>33</th>\n",
              "      <th>34</th>\n",
              "      <th>35</th>\n",
              "      <th>36</th>\n",
              "      <th>37</th>\n",
              "      <th>38</th>\n",
              "      <th>...</th>\n",
              "      <th>744</th>\n",
              "      <th>745</th>\n",
              "      <th>746</th>\n",
              "      <th>747</th>\n",
              "      <th>748</th>\n",
              "      <th>749</th>\n",
              "      <th>750</th>\n",
              "      <th>751</th>\n",
              "      <th>752</th>\n",
              "      <th>753</th>\n",
              "      <th>754</th>\n",
              "      <th>755</th>\n",
              "      <th>756</th>\n",
              "      <th>757</th>\n",
              "      <th>758</th>\n",
              "      <th>759</th>\n",
              "      <th>760</th>\n",
              "      <th>761</th>\n",
              "      <th>762</th>\n",
              "      <th>763</th>\n",
              "      <th>764</th>\n",
              "      <th>765</th>\n",
              "      <th>766</th>\n",
              "      <th>767</th>\n",
              "      <th>768</th>\n",
              "      <th>769</th>\n",
              "      <th>770</th>\n",
              "      <th>771</th>\n",
              "      <th>772</th>\n",
              "      <th>773</th>\n",
              "      <th>774</th>\n",
              "      <th>775</th>\n",
              "      <th>776</th>\n",
              "      <th>777</th>\n",
              "      <th>778</th>\n",
              "      <th>779</th>\n",
              "      <th>780</th>\n",
              "      <th>781</th>\n",
              "      <th>782</th>\n",
              "      <th>783</th>\n",
              "    </tr>\n",
              "  </thead>\n",
              "  <tbody>\n",
              "    <tr>\n",
              "      <th>4</th>\n",
              "      <td>169.0</td>\n",
              "      <td>161.130905</td>\n",
              "      <td>152.162445</td>\n",
              "      <td>148.640076</td>\n",
              "      <td>137.798889</td>\n",
              "      <td>128.561600</td>\n",
              "      <td>130.872849</td>\n",
              "      <td>126.796196</td>\n",
              "      <td>122.715515</td>\n",
              "      <td>141.776199</td>\n",
              "      <td>154.142075</td>\n",
              "      <td>150.951599</td>\n",
              "      <td>145.922638</td>\n",
              "      <td>139.733795</td>\n",
              "      <td>136.969940</td>\n",
              "      <td>137.136230</td>\n",
              "      <td>140.028275</td>\n",
              "      <td>136.636154</td>\n",
              "      <td>110.701057</td>\n",
              "      <td>63.819645</td>\n",
              "      <td>90.663239</td>\n",
              "      <td>131.916626</td>\n",
              "      <td>155.619019</td>\n",
              "      <td>147.192444</td>\n",
              "      <td>154.713974</td>\n",
              "      <td>206.772385</td>\n",
              "      <td>214.731033</td>\n",
              "      <td>212.560135</td>\n",
              "      <td>216.139420</td>\n",
              "      <td>144.953873</td>\n",
              "      <td>147.407013</td>\n",
              "      <td>150.034454</td>\n",
              "      <td>143.072495</td>\n",
              "      <td>129.205414</td>\n",
              "      <td>131.400284</td>\n",
              "      <td>128.078552</td>\n",
              "      <td>126.741776</td>\n",
              "      <td>141.998322</td>\n",
              "      <td>154.944138</td>\n",
              "      <td>147.260422</td>\n",
              "      <td>...</td>\n",
              "      <td>178.662186</td>\n",
              "      <td>176.093918</td>\n",
              "      <td>180.368347</td>\n",
              "      <td>180.863159</td>\n",
              "      <td>170.332581</td>\n",
              "      <td>157.239136</td>\n",
              "      <td>153.908264</td>\n",
              "      <td>125.549316</td>\n",
              "      <td>122.077446</td>\n",
              "      <td>137.868896</td>\n",
              "      <td>145.461197</td>\n",
              "      <td>149.194550</td>\n",
              "      <td>204.588089</td>\n",
              "      <td>204.530243</td>\n",
              "      <td>203.799530</td>\n",
              "      <td>192.729202</td>\n",
              "      <td>175.749786</td>\n",
              "      <td>231.238174</td>\n",
              "      <td>250.519516</td>\n",
              "      <td>251.137009</td>\n",
              "      <td>249.647476</td>\n",
              "      <td>249.969940</td>\n",
              "      <td>248.039032</td>\n",
              "      <td>248.421371</td>\n",
              "      <td>250.738174</td>\n",
              "      <td>247.071136</td>\n",
              "      <td>241.639648</td>\n",
              "      <td>233.543839</td>\n",
              "      <td>187.268677</td>\n",
              "      <td>180.771133</td>\n",
              "      <td>187.165604</td>\n",
              "      <td>185.425598</td>\n",
              "      <td>183.308731</td>\n",
              "      <td>176.186371</td>\n",
              "      <td>162.766922</td>\n",
              "      <td>131.620529</td>\n",
              "      <td>124.196281</td>\n",
              "      <td>139.152344</td>\n",
              "      <td>150.631836</td>\n",
              "      <td>150.875381</td>\n",
              "    </tr>\n",
              "    <tr>\n",
              "      <th>7</th>\n",
              "      <td>153.0</td>\n",
              "      <td>140.016541</td>\n",
              "      <td>142.684830</td>\n",
              "      <td>144.865280</td>\n",
              "      <td>151.376190</td>\n",
              "      <td>139.293747</td>\n",
              "      <td>147.815659</td>\n",
              "      <td>191.846970</td>\n",
              "      <td>239.585037</td>\n",
              "      <td>249.305832</td>\n",
              "      <td>245.560028</td>\n",
              "      <td>197.859039</td>\n",
              "      <td>159.591293</td>\n",
              "      <td>174.493073</td>\n",
              "      <td>193.069168</td>\n",
              "      <td>185.711578</td>\n",
              "      <td>181.393585</td>\n",
              "      <td>172.545731</td>\n",
              "      <td>161.697952</td>\n",
              "      <td>153.236969</td>\n",
              "      <td>155.282761</td>\n",
              "      <td>151.434753</td>\n",
              "      <td>148.119522</td>\n",
              "      <td>126.220261</td>\n",
              "      <td>128.061508</td>\n",
              "      <td>130.696198</td>\n",
              "      <td>124.625023</td>\n",
              "      <td>126.775551</td>\n",
              "      <td>129.844467</td>\n",
              "      <td>140.248917</td>\n",
              "      <td>141.633957</td>\n",
              "      <td>147.101349</td>\n",
              "      <td>146.574615</td>\n",
              "      <td>142.965240</td>\n",
              "      <td>122.341286</td>\n",
              "      <td>142.618408</td>\n",
              "      <td>183.186569</td>\n",
              "      <td>203.606735</td>\n",
              "      <td>186.909821</td>\n",
              "      <td>169.667831</td>\n",
              "      <td>...</td>\n",
              "      <td>172.639420</td>\n",
              "      <td>168.105530</td>\n",
              "      <td>166.995819</td>\n",
              "      <td>170.622803</td>\n",
              "      <td>177.749603</td>\n",
              "      <td>183.259689</td>\n",
              "      <td>189.812012</td>\n",
              "      <td>189.520172</td>\n",
              "      <td>188.299774</td>\n",
              "      <td>191.206451</td>\n",
              "      <td>197.726868</td>\n",
              "      <td>189.607590</td>\n",
              "      <td>230.291763</td>\n",
              "      <td>229.581451</td>\n",
              "      <td>230.562042</td>\n",
              "      <td>224.663406</td>\n",
              "      <td>224.111984</td>\n",
              "      <td>210.849548</td>\n",
              "      <td>204.352234</td>\n",
              "      <td>198.918930</td>\n",
              "      <td>195.384186</td>\n",
              "      <td>196.784912</td>\n",
              "      <td>214.838104</td>\n",
              "      <td>217.864120</td>\n",
              "      <td>197.213318</td>\n",
              "      <td>161.845016</td>\n",
              "      <td>182.493362</td>\n",
              "      <td>176.744049</td>\n",
              "      <td>168.501770</td>\n",
              "      <td>168.997742</td>\n",
              "      <td>174.076019</td>\n",
              "      <td>172.130585</td>\n",
              "      <td>177.757370</td>\n",
              "      <td>187.600342</td>\n",
              "      <td>193.769028</td>\n",
              "      <td>193.318100</td>\n",
              "      <td>192.214081</td>\n",
              "      <td>192.382660</td>\n",
              "      <td>196.781845</td>\n",
              "      <td>196.238129</td>\n",
              "    </tr>\n",
              "    <tr>\n",
              "      <th>11</th>\n",
              "      <td>142.0</td>\n",
              "      <td>176.223953</td>\n",
              "      <td>154.511200</td>\n",
              "      <td>150.508835</td>\n",
              "      <td>168.189850</td>\n",
              "      <td>173.908539</td>\n",
              "      <td>191.285263</td>\n",
              "      <td>204.805420</td>\n",
              "      <td>197.286240</td>\n",
              "      <td>197.329498</td>\n",
              "      <td>196.248383</td>\n",
              "      <td>192.281281</td>\n",
              "      <td>185.400146</td>\n",
              "      <td>183.550491</td>\n",
              "      <td>184.788727</td>\n",
              "      <td>184.095245</td>\n",
              "      <td>187.622681</td>\n",
              "      <td>198.784775</td>\n",
              "      <td>208.808182</td>\n",
              "      <td>207.845886</td>\n",
              "      <td>137.286057</td>\n",
              "      <td>140.956161</td>\n",
              "      <td>142.472122</td>\n",
              "      <td>138.849442</td>\n",
              "      <td>141.569916</td>\n",
              "      <td>143.341202</td>\n",
              "      <td>147.352707</td>\n",
              "      <td>139.502869</td>\n",
              "      <td>119.457649</td>\n",
              "      <td>165.704224</td>\n",
              "      <td>154.723465</td>\n",
              "      <td>155.312256</td>\n",
              "      <td>167.258682</td>\n",
              "      <td>182.124771</td>\n",
              "      <td>201.212265</td>\n",
              "      <td>203.212067</td>\n",
              "      <td>200.015091</td>\n",
              "      <td>198.164261</td>\n",
              "      <td>196.868881</td>\n",
              "      <td>190.864105</td>\n",
              "      <td>...</td>\n",
              "      <td>219.964096</td>\n",
              "      <td>201.047607</td>\n",
              "      <td>210.538391</td>\n",
              "      <td>224.926804</td>\n",
              "      <td>235.447723</td>\n",
              "      <td>239.916275</td>\n",
              "      <td>241.402298</td>\n",
              "      <td>250.148178</td>\n",
              "      <td>224.214630</td>\n",
              "      <td>150.903397</td>\n",
              "      <td>166.268997</td>\n",
              "      <td>165.841309</td>\n",
              "      <td>213.978394</td>\n",
              "      <td>228.146606</td>\n",
              "      <td>228.252136</td>\n",
              "      <td>220.366409</td>\n",
              "      <td>211.510010</td>\n",
              "      <td>210.020248</td>\n",
              "      <td>205.597305</td>\n",
              "      <td>178.956970</td>\n",
              "      <td>162.483841</td>\n",
              "      <td>159.061096</td>\n",
              "      <td>156.952988</td>\n",
              "      <td>163.090668</td>\n",
              "      <td>167.170807</td>\n",
              "      <td>150.188446</td>\n",
              "      <td>187.151566</td>\n",
              "      <td>213.122208</td>\n",
              "      <td>205.480072</td>\n",
              "      <td>207.153946</td>\n",
              "      <td>220.835190</td>\n",
              "      <td>241.204926</td>\n",
              "      <td>250.457855</td>\n",
              "      <td>252.468964</td>\n",
              "      <td>252.508835</td>\n",
              "      <td>248.899231</td>\n",
              "      <td>229.722275</td>\n",
              "      <td>143.704834</td>\n",
              "      <td>162.581635</td>\n",
              "      <td>157.849243</td>\n",
              "    </tr>\n",
              "    <tr>\n",
              "      <th>14</th>\n",
              "      <td>128.0</td>\n",
              "      <td>182.095703</td>\n",
              "      <td>188.249023</td>\n",
              "      <td>191.224609</td>\n",
              "      <td>201.102539</td>\n",
              "      <td>211.599609</td>\n",
              "      <td>209.492188</td>\n",
              "      <td>183.307617</td>\n",
              "      <td>153.131836</td>\n",
              "      <td>153.527344</td>\n",
              "      <td>150.036133</td>\n",
              "      <td>146.350586</td>\n",
              "      <td>145.016602</td>\n",
              "      <td>143.360352</td>\n",
              "      <td>174.087891</td>\n",
              "      <td>186.300781</td>\n",
              "      <td>180.305664</td>\n",
              "      <td>165.322266</td>\n",
              "      <td>127.995117</td>\n",
              "      <td>99.549805</td>\n",
              "      <td>106.437500</td>\n",
              "      <td>108.374023</td>\n",
              "      <td>108.400391</td>\n",
              "      <td>107.944336</td>\n",
              "      <td>91.815430</td>\n",
              "      <td>84.475586</td>\n",
              "      <td>102.211914</td>\n",
              "      <td>121.024414</td>\n",
              "      <td>130.831055</td>\n",
              "      <td>177.901367</td>\n",
              "      <td>185.008789</td>\n",
              "      <td>190.787109</td>\n",
              "      <td>196.005859</td>\n",
              "      <td>202.800781</td>\n",
              "      <td>207.274414</td>\n",
              "      <td>192.493164</td>\n",
              "      <td>157.775391</td>\n",
              "      <td>151.229492</td>\n",
              "      <td>150.102539</td>\n",
              "      <td>144.070312</td>\n",
              "      <td>...</td>\n",
              "      <td>132.040039</td>\n",
              "      <td>131.260742</td>\n",
              "      <td>130.478516</td>\n",
              "      <td>125.935547</td>\n",
              "      <td>127.543945</td>\n",
              "      <td>147.665039</td>\n",
              "      <td>162.330078</td>\n",
              "      <td>152.559570</td>\n",
              "      <td>162.611328</td>\n",
              "      <td>189.807617</td>\n",
              "      <td>211.606445</td>\n",
              "      <td>213.746094</td>\n",
              "      <td>236.146484</td>\n",
              "      <td>203.703125</td>\n",
              "      <td>168.809570</td>\n",
              "      <td>177.120117</td>\n",
              "      <td>156.483398</td>\n",
              "      <td>154.493164</td>\n",
              "      <td>152.723633</td>\n",
              "      <td>142.418945</td>\n",
              "      <td>127.339844</td>\n",
              "      <td>128.083984</td>\n",
              "      <td>135.321289</td>\n",
              "      <td>138.105469</td>\n",
              "      <td>140.213867</td>\n",
              "      <td>142.546875</td>\n",
              "      <td>142.659180</td>\n",
              "      <td>139.455078</td>\n",
              "      <td>136.168945</td>\n",
              "      <td>135.162109</td>\n",
              "      <td>134.677734</td>\n",
              "      <td>129.364258</td>\n",
              "      <td>128.702148</td>\n",
              "      <td>146.549805</td>\n",
              "      <td>165.455078</td>\n",
              "      <td>150.869141</td>\n",
              "      <td>131.588867</td>\n",
              "      <td>121.837891</td>\n",
              "      <td>133.629883</td>\n",
              "      <td>157.823242</td>\n",
              "    </tr>\n",
              "    <tr>\n",
              "      <th>15</th>\n",
              "      <td>182.0</td>\n",
              "      <td>139.739670</td>\n",
              "      <td>131.443787</td>\n",
              "      <td>120.840256</td>\n",
              "      <td>121.420128</td>\n",
              "      <td>116.408295</td>\n",
              "      <td>130.396454</td>\n",
              "      <td>112.917160</td>\n",
              "      <td>113.662727</td>\n",
              "      <td>131.739655</td>\n",
              "      <td>147.751495</td>\n",
              "      <td>152.940826</td>\n",
              "      <td>160.029587</td>\n",
              "      <td>164.585815</td>\n",
              "      <td>165.165695</td>\n",
              "      <td>166.994095</td>\n",
              "      <td>175.325455</td>\n",
              "      <td>189.609482</td>\n",
              "      <td>204.118362</td>\n",
              "      <td>190.349121</td>\n",
              "      <td>175.035522</td>\n",
              "      <td>161.402374</td>\n",
              "      <td>153.899414</td>\n",
              "      <td>132.822495</td>\n",
              "      <td>142.597641</td>\n",
              "      <td>152.911255</td>\n",
              "      <td>156.804749</td>\n",
              "      <td>156.065094</td>\n",
              "      <td>159.011841</td>\n",
              "      <td>150.828415</td>\n",
              "      <td>156.260376</td>\n",
              "      <td>156.508881</td>\n",
              "      <td>145.159760</td>\n",
              "      <td>149.639069</td>\n",
              "      <td>171.153870</td>\n",
              "      <td>156.964508</td>\n",
              "      <td>117.000015</td>\n",
              "      <td>117.029594</td>\n",
              "      <td>151.550308</td>\n",
              "      <td>162.136108</td>\n",
              "      <td>...</td>\n",
              "      <td>156.828400</td>\n",
              "      <td>182.840271</td>\n",
              "      <td>184.041428</td>\n",
              "      <td>182.538483</td>\n",
              "      <td>185.704163</td>\n",
              "      <td>191.585815</td>\n",
              "      <td>193.745575</td>\n",
              "      <td>205.911255</td>\n",
              "      <td>193.816589</td>\n",
              "      <td>175.603561</td>\n",
              "      <td>175.568054</td>\n",
              "      <td>151.449738</td>\n",
              "      <td>146.337280</td>\n",
              "      <td>164.952682</td>\n",
              "      <td>173.284042</td>\n",
              "      <td>190.645004</td>\n",
              "      <td>187.514816</td>\n",
              "      <td>160.852097</td>\n",
              "      <td>142.491135</td>\n",
              "      <td>174.136124</td>\n",
              "      <td>178.627228</td>\n",
              "      <td>192.402359</td>\n",
              "      <td>197.165680</td>\n",
              "      <td>193.662750</td>\n",
              "      <td>187.562164</td>\n",
              "      <td>174.556229</td>\n",
              "      <td>171.124268</td>\n",
              "      <td>167.207123</td>\n",
              "      <td>170.698212</td>\n",
              "      <td>176.686401</td>\n",
              "      <td>171.142014</td>\n",
              "      <td>173.023682</td>\n",
              "      <td>176.568054</td>\n",
              "      <td>179.633148</td>\n",
              "      <td>182.988190</td>\n",
              "      <td>184.952682</td>\n",
              "      <td>187.426041</td>\n",
              "      <td>179.982269</td>\n",
              "      <td>177.023666</td>\n",
              "      <td>151.532547</td>\n",
              "    </tr>\n",
              "  </tbody>\n",
              "</table>\n",
              "<p>5 rows × 785 columns</p>\n",
              "</div>"
            ],
            "text/plain": [
              "    Width           0           1  ...         781         782         783\n",
              "4   169.0  161.130905  152.162445  ...  139.152344  150.631836  150.875381\n",
              "7   153.0  140.016541  142.684830  ...  192.382660  196.781845  196.238129\n",
              "11  142.0  176.223953  154.511200  ...  143.704834  162.581635  157.849243\n",
              "14  128.0  182.095703  188.249023  ...  121.837891  133.629883  157.823242\n",
              "15  182.0  139.739670  131.443787  ...  179.982269  177.023666  151.532547\n",
              "\n",
              "[5 rows x 785 columns]"
            ]
          },
          "metadata": {},
          "execution_count": 76
        }
      ]
    },
    {
      "cell_type": "code",
      "metadata": {
        "colab": {
          "base_uri": "https://localhost:8080/",
          "height": 204
        },
        "id": "VaZPe_AxNBK9",
        "outputId": "53b0c84e-c364-4d86-e1d5-de2e436e38d0"
      },
      "source": [
        "PSD_new.head()"
      ],
      "execution_count": null,
      "outputs": [
        {
          "output_type": "execute_result",
          "data": {
            "text/html": [
              "<div>\n",
              "<style scoped>\n",
              "    .dataframe tbody tr th:only-of-type {\n",
              "        vertical-align: middle;\n",
              "    }\n",
              "\n",
              "    .dataframe tbody tr th {\n",
              "        vertical-align: top;\n",
              "    }\n",
              "\n",
              "    .dataframe thead th {\n",
              "        text-align: right;\n",
              "    }\n",
              "</style>\n",
              "<table border=\"1\" class=\"dataframe\">\n",
              "  <thead>\n",
              "    <tr style=\"text-align: right;\">\n",
              "      <th></th>\n",
              "      <th>Juntas</th>\n",
              "      <th>Area</th>\n",
              "    </tr>\n",
              "  </thead>\n",
              "  <tbody>\n",
              "    <tr>\n",
              "      <th>0</th>\n",
              "      <td>1</td>\n",
              "      <td>2.001</td>\n",
              "    </tr>\n",
              "    <tr>\n",
              "      <th>1</th>\n",
              "      <td>2</td>\n",
              "      <td>0.820</td>\n",
              "    </tr>\n",
              "    <tr>\n",
              "      <th>2</th>\n",
              "      <td>3</td>\n",
              "      <td>1.270</td>\n",
              "    </tr>\n",
              "    <tr>\n",
              "      <th>3</th>\n",
              "      <td>4</td>\n",
              "      <td>0.958</td>\n",
              "    </tr>\n",
              "    <tr>\n",
              "      <th>4</th>\n",
              "      <td>5</td>\n",
              "      <td>1.162</td>\n",
              "    </tr>\n",
              "  </tbody>\n",
              "</table>\n",
              "</div>"
            ],
            "text/plain": [
              "   Juntas   Area\n",
              "0       1  2.001\n",
              "1       2  0.820\n",
              "2       3  1.270\n",
              "3       4  0.958\n",
              "4       5  1.162"
            ]
          },
          "metadata": {},
          "execution_count": 77
        }
      ]
    },
    {
      "cell_type": "code",
      "metadata": {
        "id": "4vmhG2LgCabC"
      },
      "source": [
        "#lost_value = float(PSD_new.columns[1])\n",
        "\n",
        "# Area = np.array(PSD_new.iloc[:,1])\n",
        "Area = PSD_new['Area'].values\n",
        "# Area = np.concatenate( (Area, [lost_value] ) )\n",
        "# Area = np.concatenate( (Area, [lost_value] ) )\n",
        "diam_teste = []\n",
        "for A in Area:\n",
        "  diam_teste.append((4*A/np.pi)**0.5) \n",
        "\n",
        "Diam1 = [ (4*A/np.pi)**0.5 for A in Area]"
      ],
      "execution_count": null,
      "outputs": []
    },
    {
      "cell_type": "code",
      "metadata": {
        "colab": {
          "base_uri": "https://localhost:8080/"
        },
        "id": "1aUb2_-jsY1Z",
        "outputId": "87652864-ea94-431b-e146-ce4b50733689"
      },
      "source": [
        "PSD_new.iloc[:,1].values"
      ],
      "execution_count": null,
      "outputs": [
        {
          "output_type": "execute_result",
          "data": {
            "text/plain": [
              "array([2.001, 0.82 , 1.27 , 0.958, 1.162, 2.014, 1.078, 1.234, 1.262,\n",
              "       1.347, 1.313, 2.449, 1.445, 1.209, 3.564, 1.59 , 0.891, 1.329,\n",
              "       1.403, 0.626, 1.65 , 1.551, 2.118, 1.194, 1.113, 1.072, 1.042,\n",
              "       0.725, 4.218, 0.881, 1.608, 0.446, 0.582, 1.282, 1.484, 1.246,\n",
              "       1.323, 1.21 , 2.013, 1.358, 1.579, 1.223, 0.96 , 0.718, 0.707,\n",
              "       0.992, 1.142, 1.287, 0.599, 0.664, 2.119, 0.926, 0.889, 0.929,\n",
              "       1.579, 1.888, 0.481, 1.695, 0.871, 1.262, 0.471, 1.493, 1.461,\n",
              "       1.326, 1.301, 0.982, 0.705, 1.819, 1.437, 1.049, 2.014, 1.276,\n",
              "       1.589, 1.412, 1.08 , 1.037, 1.672, 1.224, 1.403, 0.724, 1.736,\n",
              "       1.601, 1.432, 0.449, 1.245, 1.011, 2.151, 0.986, 0.981, 0.658,\n",
              "       1.064, 1.341, 1.044, 1.337, 1.341])"
            ]
          },
          "metadata": {},
          "execution_count": 79
        }
      ]
    },
    {
      "cell_type": "code",
      "metadata": {
        "colab": {
          "base_uri": "https://localhost:8080/"
        },
        "id": "9J705kDqsE8f",
        "outputId": "0731d914-406a-45dc-e4cf-2e0737c7190e"
      },
      "source": [
        "X.shape"
      ],
      "execution_count": null,
      "outputs": [
        {
          "output_type": "execute_result",
          "data": {
            "text/plain": [
              "(490, 784)"
            ]
          },
          "metadata": {},
          "execution_count": 80
        }
      ]
    },
    {
      "cell_type": "code",
      "metadata": {
        "colab": {
          "base_uri": "https://localhost:8080/",
          "height": 282
        },
        "id": "mK1GBUHWiIr4",
        "outputId": "a2de3de2-9b22-4745-ae19-9d20b2529b7d"
      },
      "source": [
        "Freq = [10.52631579, 24.21052632, 36.84210526, 14.73684211,  7.36842105, 0.]\n",
        "Freq2 = [12.90153, 28.11527, 27.66761, 20.21617, 10.34227, 0.]\n",
        "Freq3 = [22.22489, 30.15078, 25.10463, 19.30926, 2.810434, 0.]\n",
        "barWidth = 0.25\n",
        "\n",
        "br1 = range(len(Freq))\n",
        "# Set position of bar on X axis\n",
        "br2 = [x + barWidth for x in br1]\n",
        "br3 = [x + barWidth for x in br2]\n",
        "labels = [0.8, 1.0, 1.2, 1.4, 1.6, 1.8]\n",
        "\n",
        "xx=[]\n",
        "for a in labels:\n",
        "  xx.append(str(a))\n",
        "plt.bar(br1, Freq , color=\"green\", align=\"center\", width=0.3, tick_label= xx) \n",
        "plt.bar(br2, Freq2 , color=\"red\", align=\"center\", width=0.3, tick_label= xx)\n",
        "plt.bar(br3, Freq3 , color=\"blue\", align=\"center\", width=0.3, tick_label= xx)"
      ],
      "execution_count": null,
      "outputs": [
        {
          "output_type": "execute_result",
          "data": {
            "text/plain": [
              "<BarContainer object of 6 artists>"
            ]
          },
          "metadata": {},
          "execution_count": 81
        },
        {
          "output_type": "display_data",
          "data": {
            "image/png": "[encoded data removed]",
            "text/plain": [
              "<Figure size 432x288 with 1 Axes>"
            ]
          },
          "metadata": {
            "needs_background": "light"
          }
        }
      ]
    },
    {
      "cell_type": "code",
      "metadata": {
        "id": "Vfk_fNXGDK5_",
        "colab": {
          "base_uri": "https://localhost:8080/",
          "height": 282
        },
        "outputId": "4cf88695-f226-4da3-e5db-7c15d2a74fb9"
      },
      "source": [
        " wt1 = np.ones(len(Diam1)) / len(Diam1)*100\n",
        " wt2 = np.ones(len(Diameter_All)) / len(Diameter_All)*100\n",
        " X = pd.DataFrame([Diam1,Diameter_All])\n",
        " wts = pd.DataFrame([wt1,wt2])\n",
        "plt.hist(X,weights=wts)\n",
        "plt.legend(['Image J','CNN'])"
      ],
      "execution_count": null,
      "outputs": [
        {
          "output_type": "execute_result",
          "data": {
            "text/plain": [
              "<matplotlib.legend.Legend at 0x7f986b15a250>"
            ]
          },
          "metadata": {},
          "execution_count": 82
        },
        {
          "output_type": "display_data",
          "data": {
            "image/png": "[encoded data removed]",
            "text/plain": [
              "<Figure size 432x288 with 1 Axes>"
            ]
          },
          "metadata": {
            "needs_background": "light"
          }
        }
      ]
    },
    {
      "cell_type": "code",
      "metadata": {
        "id": "-nGDbBEeiUij",
        "colab": {
          "base_uri": "https://localhost:8080/",
          "height": 401
        },
        "outputId": "12951e1f-4843-4f53-8ad7-fecc758e67e4"
      },
      "source": [
        "# plt.hist(x, bins=bins, density=True, histtype='step', cumulative=-1,label='Reversed emp.')\n",
        "plt.hist(X, density=True, histtype='step', cumulative=True,label='Reversed emp.')"
      ],
      "execution_count": null,
      "outputs": [
        {
          "output_type": "execute_result",
          "data": {
            "text/plain": [
              "(array([[0.07368421, 0.2       , 0.41052632, 0.75789474, 0.88421053,\n",
              "         0.96842105, 0.97894737, 0.97894737, 0.98947368, 1.        ],\n",
              "        [0.        , 0.35294118, 0.5       , 0.61764706, 0.82352941,\n",
              "         1.        , 1.        , 1.        , 1.        , 1.        ]]),\n",
              " array([0.75356807, 0.90995518, 1.06634229, 1.22272941, 1.37911652,\n",
              "        1.53550363, 1.69189074, 1.84827785, 2.00466497, 2.16105208,\n",
              "        2.31743919]),\n",
              " <a list of 2 Lists of Patches objects>)"
            ]
          },
          "metadata": {},
          "execution_count": 83
        },
        {
          "output_type": "display_data",
          "data": {
            "image/png": "[encoded data removed]",
            "text/plain": [
              "<Figure size 432x288 with 1 Axes>"
            ]
          },
          "metadata": {
            "needs_background": "light"
          }
        }
      ]
    },
    {
      "cell_type": "code",
      "metadata": {
        "id": "9xENlBUUxfTu",
        "colab": {
          "base_uri": "https://localhost:8080/",
          "height": 282
        },
        "outputId": "6d9ebe80-d654-4940-c7b8-8cfb630a9d69"
      },
      "source": [
        "Obj = plt.hist(X, density=True, histtype='step', cumulative=True,label='Reversed emp.')\n",
        "Y1, Y2 = Obj[0]\n",
        "Rsquared = r2_score(Y1, Y2)\n",
        "print('r_squared =',Rsquared)"
      ],
      "execution_count": null,
      "outputs": [
        {
          "output_type": "stream",
          "name": "stdout",
          "text": [
            "r_squared = 0.9463553026765299\n"
          ]
        },
        {
          "output_type": "display_data",
          "data": {
            "image/png": "[encoded data removed]",
            "text/plain": [
              "<Figure size 432x288 with 1 Axes>"
            ]
          },
          "metadata": {
            "needs_background": "light"
          }
        }
      ]
    },
    {
      "cell_type": "code",
      "metadata": {
        "id": "O2XboMiFbkaa"
      },
      "source": [
        "acc_train = r.history['accuracy'][-1]\n",
        "acc_test = r.history['val_accuracy'][-1]\n",
        "loss_train = r.history['loss'][-1]\n",
        "loss_test = r.history['val_loss'][-1]"
      ],
      "execution_count": null,
      "outputs": []
    },
    {
      "cell_type": "code",
      "metadata": {
        "id": "euTd_-CYN1v0"
      },
      "source": [
        "df = pd.DataFrame({'N1':N1, 'N2':N2,'R^2':Rsquared,\n",
        "                   'acc train':acc_train,'acc test':acc_test,\n",
        "                   'loss train':loss_train,'loss test':loss_test,\n",
        "                   'Details':Description},\n",
        "                  index= [0])\n"
      ],
      "execution_count": null,
      "outputs": []
    },
    {
      "cell_type": "code",
      "metadata": {
        "id": "-KukfpGTTKlj",
        "colab": {
          "base_uri": "https://localhost:8080/",
          "height": 80
        },
        "outputId": "651c9209-9bfe-48ef-a8da-52c69c2b6963"
      },
      "source": [
        "df"
      ],
      "execution_count": null,
      "outputs": [
        {
          "output_type": "execute_result",
          "data": {
            "text/html": [
              "<div>\n",
              "<style scoped>\n",
              "    .dataframe tbody tr th:only-of-type {\n",
              "        vertical-align: middle;\n",
              "    }\n",
              "\n",
              "    .dataframe tbody tr th {\n",
              "        vertical-align: top;\n",
              "    }\n",
              "\n",
              "    .dataframe thead th {\n",
              "        text-align: right;\n",
              "    }\n",
              "</style>\n",
              "<table border=\"1\" class=\"dataframe\">\n",
              "  <thead>\n",
              "    <tr style=\"text-align: right;\">\n",
              "      <th></th>\n",
              "      <th>N1</th>\n",
              "      <th>N2</th>\n",
              "      <th>R^2</th>\n",
              "      <th>acc train</th>\n",
              "      <th>acc test</th>\n",
              "      <th>loss train</th>\n",
              "      <th>loss test</th>\n",
              "      <th>Details</th>\n",
              "    </tr>\n",
              "  </thead>\n",
              "  <tbody>\n",
              "    <tr>\n",
              "      <th>0</th>\n",
              "      <td>20</td>\n",
              "      <td>20</td>\n",
              "      <td>0.946355</td>\n",
              "      <td>1.0</td>\n",
              "      <td>0.972789</td>\n",
              "      <td>0.000024</td>\n",
              "      <td>0.207611</td>\n",
              "      <td>3 layers of Convolution: 64, 128, 256</td>\n",
              "    </tr>\n",
              "  </tbody>\n",
              "</table>\n",
              "</div>"
            ],
            "text/plain": [
              "   N1  N2  ...  loss test                                 Details\n",
              "0  20  20  ...   0.207611  3 layers of Convolution: 64, 128, 256 \n",
              "\n",
              "[1 rows x 8 columns]"
            ]
          },
          "metadata": {},
          "execution_count": 87
        }
      ]
    },
    {
      "cell_type": "code",
      "metadata": {
        "id": "ZZHa1j4HT9Dq",
        "colab": {
          "base_uri": "https://localhost:8080/",
          "height": 384
        },
        "outputId": "c806e5f5-6af1-4877-cb87-18877bd46344"
      },
      "source": [
        "counts, bins, bars = plt.hist(X,weights=wts)\n",
        "print(bars)\n",
        "print(bins)\n",
        "print(counts)"
      ],
      "execution_count": null,
      "outputs": [
        {
          "output_type": "stream",
          "name": "stdout",
          "text": [
            "<a list of 2 Lists of Patches objects>\n",
            "[0.75356807 0.90995518 1.06634229 1.22272941 1.37911652 1.53550363\n",
            " 1.69189074 1.84827785 2.00466497 2.16105208 2.31743919]\n",
            "[[ 7.36842105 12.63157895 21.05263158 34.73684211 12.63157895  8.42105263\n",
            "   1.05263158  0.          1.05263158  1.05263158]\n",
            " [ 0.         35.29411765 14.70588235 11.76470588 20.58823529 17.64705882\n",
            "   0.          0.          0.          0.        ]]\n"
          ]
        },
        {
          "output_type": "display_data",
          "data": {
            "image/png": "[encoded data removed]",
            "text/plain": [
              "<Figure size 432x288 with 1 Axes>"
            ]
          },
          "metadata": {
            "needs_background": "light"
          }
        }
      ]
    },
    {
      "cell_type": "code",
      "metadata": {
        "id": "8o_vDGeWUwIZ",
        "colab": {
          "base_uri": "https://localhost:8080/"
        },
        "outputId": "97eb39e1-74b4-4629-aa48-18b2e956a793"
      },
      "source": [
        "print(counts.sum())"
      ],
      "execution_count": null,
      "outputs": [
        {
          "output_type": "stream",
          "name": "stdout",
          "text": [
            "200.00000000000003\n"
          ]
        }
      ]
    },
    {
      "cell_type": "code",
      "metadata": {
        "id": "KcH52-6iJQ8t",
        "colab": {
          "base_uri": "https://localhost:8080/",
          "height": 336
        },
        "outputId": "58a22cdf-96af-4e30-c29b-7b70b632011c"
      },
      "source": [
        "\n",
        "plt.hist([Diam1,Diameter_All])\n",
        "plt.legend(['Image J','CNN'])\n"
      ],
      "execution_count": null,
      "outputs": [
        {
          "output_type": "stream",
          "name": "stderr",
          "text": [
            "/usr/local/lib/python3.7/dist-packages/numpy/core/_asarray.py:83: VisibleDeprecationWarning: Creating an ndarray from ragged nested sequences (which is a list-or-tuple of lists-or-tuples-or ndarrays with different lengths or shapes) is deprecated. If you meant to do this, you must specify 'dtype=object' when creating the ndarray\n",
            "  return array(a, dtype, copy=False, order=order)\n"
          ]
        },
        {
          "output_type": "execute_result",
          "data": {
            "text/plain": [
              "<matplotlib.legend.Legend at 0x7f9866adfa50>"
            ]
          },
          "metadata": {},
          "execution_count": 90
        },
        {
          "output_type": "display_data",
          "data": {
            "image/png": "[encoded data removed]",
            "text/plain": [
              "<Figure size 432x288 with 1 Axes>"
            ]
          },
          "metadata": {
            "needs_background": "light"
          }
        }
      ]
    },
    {
      "cell_type": "code",
      "metadata": {
        "id": "r11AxFK_JIii",
        "colab": {
          "base_uri": "https://localhost:8080/"
        },
        "outputId": "0b116f83-4a65-4d1d-b86d-5b5906c23f69"
      },
      "source": [
        "[Diam1,Diameter_All]"
      ],
      "execution_count": null,
      "outputs": [
        {
          "output_type": "execute_result",
          "data": {
            "text/plain": [
              "[[1.59616801403081,\n",
              "  1.0217907939900581,\n",
              "  1.2716187407449044,\n",
              "  1.104429030701514,\n",
              "  1.2163487785097904,\n",
              "  1.6013445735058454,\n",
              "  1.1715597420637607,\n",
              "  1.2534662333717612,\n",
              "  1.2676073151634049,\n",
              "  1.309600575274104,\n",
              "  1.292966945531582,\n",
              "  1.7658322811231006,\n",
              "  1.3564037533648712,\n",
              "  1.2407040781688483,\n",
              "  2.130217298173151,\n",
              "  1.4228319915327,\n",
              "  1.0651086490865755,\n",
              "  1.3008210311003705,\n",
              "  1.336545951796433,\n",
              "  0.8927754224911278,\n",
              "  1.4494292838262302,\n",
              "  1.4052738287907582,\n",
              "  1.6421697097891788,\n",
              "  1.2329833804288621,\n",
              "  1.19042665178928,\n",
              "  1.1682948223612457,\n",
              "  1.1518314137121108,\n",
              "  0.9607802401865855,\n",
              "  2.317439190074449,\n",
              "  1.0591147430338594,\n",
              "  1.4308630919602832,\n",
              "  0.7535680705496237,\n",
              "  0.8608283307581511,\n",
              "  1.2776122636975893,\n",
              "  1.3745862957220916,\n",
              "  1.259546137598783,\n",
              "  1.2978813187979172,\n",
              "  1.2412170838050638,\n",
              "  1.6009469708743893,\n",
              "  1.3149369953539032,\n",
              "  1.417901703622935,\n",
              "  1.2478669653497139,\n",
              "  1.1055812783082735,\n",
              "  0.9561307405997607,\n",
              "  0.9487783503683882,\n",
              "  1.1238565871041026,\n",
              "  1.2058356273089446,\n",
              "  1.2801012827406097,\n",
              "  0.8733100751144249,\n",
              "  0.9194732501297403,\n",
              "  1.6425573339441792,\n",
              "  1.085826790250066,\n",
              "  1.0639125693728595,\n",
              "  1.0875842666474016,\n",
              "  1.417901703622935,\n",
              "  1.550443891425932,\n",
              "  0.7825779328716171,\n",
              "  1.4690612745308145,\n",
              "  1.053086721720641,\n",
              "  1.2676073151634049,\n",
              "  0.7744003006005755,\n",
              "  1.3787482149724068,\n",
              "  1.363892581861956,\n",
              "  1.299352006316543,\n",
              "  1.2870449283923413,\n",
              "  1.11817763925502,\n",
              "  0.9474354220939228,\n",
              "  1.5218484589055707,\n",
              "  1.3526437911676632,\n",
              "  1.1556938532445284,\n",
              "  1.6013445735058454,\n",
              "  1.274619025074578,\n",
              "  1.422384489715834,\n",
              "  1.3408259533459403,\n",
              "  1.172646028567008,\n",
              "  1.1490645795125545,\n",
              "  1.459060149136146,\n",
              "  1.2483770274864237,\n",
              "  1.336545951796433,\n",
              "  0.9601174044814821,\n",
              "  1.4867225193896279,\n",
              "  1.4277452542806772,\n",
              "  1.35028849808504,\n",
              "  0.7560982446653928,\n",
              "  1.259040600296622,\n",
              "  1.13456827900627,\n",
              "  1.6549133695530214,\n",
              "  1.1204526724091788,\n",
              "  1.1176081573544434,\n",
              "  0.9153095762832032,\n",
              "  1.1639273497938836,\n",
              "  1.3066806149514323,\n",
              "  1.1529362882239027,\n",
              "  1.3047303442899274,\n",
              "  1.3066806149514323],\n",
              " [1.5045099226567904,\n",
              "  1.2738772361521302,\n",
              "  1.1672509308194423,\n",
              "  1.036898072668185,\n",
              "  1.557314967271325,\n",
              "  0.9245682072690926,\n",
              "  1.0083441622628753,\n",
              "  1.3465055393814884,\n",
              "  1.4356086377979917,\n",
              "  0.916258016827021,\n",
              "  1.345170801988433,\n",
              "  1.5065703597605176,\n",
              "  1.5018021882284756,\n",
              "  0.9788312395425637,\n",
              "  1.576657185627985,\n",
              "  1.0403034186855877,\n",
              "  1.5714175427287318,\n",
              "  1.1790811812524313,\n",
              "  1.519371122651826,\n",
              "  1.094473350380707,\n",
              "  0.9639911769337032,\n",
              "  1.1654121683670275,\n",
              "  1.653633002851484,\n",
              "  1.0353193848859312,\n",
              "  1.2583223595909574,\n",
              "  0.9412343208782733,\n",
              "  1.4834444070400106,\n",
              "  1.008623366288934,\n",
              "  0.9423739693321765,\n",
              "  1.014588092942367,\n",
              "  1.6851858636728063,\n",
              "  1.192559001896333,\n",
              "  1.5959709418338686,\n",
              "  1.4828363256566661]]"
            ]
          },
          "metadata": {},
          "execution_count": 91
        }
      ]
    },
    {
      "cell_type": "code",
      "metadata": {
        "id": "4xS7NSM92s_8",
        "colab": {
          "base_uri": "https://localhost:8080/",
          "height": 282
        },
        "outputId": "36e830f2-a031-402e-d6f3-657e594ebac6"
      },
      "source": [
        " bins_list = [0.8, 1.0, 1.2, 1.4,1.6, 1.8,2.0]\n",
        " wt1 = np.ones(len(Diam1)) / len(Diam1)*100\n",
        " wt2 = np.ones(len(Diameter_All)) / len(Diameter_All)*100\n",
        " X = pd.DataFrame([Diam1,Diameter_All])\n",
        " wts = pd.DataFrame([wt1,wt2])\n",
        "plt.hist(X,weights=wts,bins = bins_list)\n",
        "plt.legend(['Image J','CNN'])"
      ],
      "execution_count": null,
      "outputs": [
        {
          "output_type": "execute_result",
          "data": {
            "text/plain": [
              "<matplotlib.legend.Legend at 0x7f9862408e90>"
            ]
          },
          "metadata": {},
          "execution_count": 92
        },
        {
          "output_type": "display_data",
          "data": {
            "image/png": "[encoded data removed]",
            "text/plain": [
              "<Figure size 432x288 with 1 Axes>"
            ]
          },
          "metadata": {
            "needs_background": "light"
          }
        }
      ]
    },
    {
      "cell_type": "code",
      "metadata": {
        "id": "jD80rFZs37Wm",
        "colab": {
          "base_uri": "https://localhost:8080/",
          "height": 265
        },
        "outputId": "ce588e10-dfa9-4a25-eb02-a054a9c5d3d6"
      },
      "source": [
        "yy = plt.hist(X,weights=wts,bins = bins_list)"
      ],
      "execution_count": null,
      "outputs": [
        {
          "output_type": "display_data",
          "data": {
            "image/png": "[encoded data removed]",
            "text/plain": [
              "<Figure size 432x288 with 1 Axes>"
            ]
          },
          "metadata": {
            "needs_background": "light"
          }
        }
      ]
    },
    {
      "cell_type": "code",
      "metadata": {
        "id": "edcwJoJP4GBs",
        "colab": {
          "base_uri": "https://localhost:8080/"
        },
        "outputId": "454c8048-6585-40d2-9108-d261fc476e59"
      },
      "source": [
        "yy[0][0]"
      ],
      "execution_count": null,
      "outputs": [
        {
          "output_type": "execute_result",
          "data": {
            "text/plain": [
              "array([10.52631579, 24.21052632, 36.84210526, 14.73684211,  7.36842105,\n",
              "        0.        ])"
            ]
          },
          "metadata": {},
          "execution_count": 94
        }
      ]
    },
    {
      "cell_type": "code",
      "metadata": {
        "id": "_0zY-NBY6Rgx",
        "colab": {
          "base_uri": "https://localhost:8080/"
        },
        "outputId": "93d632e1-a623-4b3e-cdaf-0c42db0ff4cb"
      },
      "source": [
        "bins_list"
      ],
      "execution_count": null,
      "outputs": [
        {
          "output_type": "execute_result",
          "data": {
            "text/plain": [
              "[0.8, 1.0, 1.2, 1.4, 1.6, 1.8, 2.0]"
            ]
          },
          "metadata": {},
          "execution_count": 95
        }
      ]
    },
    {
      "cell_type": "code",
      "metadata": {
        "id": "9ujCjAa85RG5"
      },
      "source": [
        "k =0\n",
        "for kk in yy[0][0]:\n",
        "  name = str(bins_list[k])\n",
        "  df[name] = yy[0][1][k]\n",
        "  k = k+1"
      ],
      "execution_count": null,
      "outputs": []
    },
    {
      "cell_type": "code",
      "metadata": {
        "id": "iMQRVn4D69RC",
        "colab": {
          "base_uri": "https://localhost:8080/",
          "height": 80
        },
        "outputId": "5845fce1-3b84-4fe1-b966-469a32ea268d"
      },
      "source": [
        "df"
      ],
      "execution_count": null,
      "outputs": [
        {
          "output_type": "execute_result",
          "data": {
            "text/html": [
              "<div>\n",
              "<style scoped>\n",
              "    .dataframe tbody tr th:only-of-type {\n",
              "        vertical-align: middle;\n",
              "    }\n",
              "\n",
              "    .dataframe tbody tr th {\n",
              "        vertical-align: top;\n",
              "    }\n",
              "\n",
              "    .dataframe thead th {\n",
              "        text-align: right;\n",
              "    }\n",
              "</style>\n",
              "<table border=\"1\" class=\"dataframe\">\n",
              "  <thead>\n",
              "    <tr style=\"text-align: right;\">\n",
              "      <th></th>\n",
              "      <th>N1</th>\n",
              "      <th>N2</th>\n",
              "      <th>R^2</th>\n",
              "      <th>acc train</th>\n",
              "      <th>acc test</th>\n",
              "      <th>loss train</th>\n",
              "      <th>loss test</th>\n",
              "      <th>Details</th>\n",
              "      <th>0.8</th>\n",
              "      <th>1.0</th>\n",
              "      <th>1.2</th>\n",
              "      <th>1.4</th>\n",
              "      <th>1.6</th>\n",
              "      <th>1.8</th>\n",
              "    </tr>\n",
              "  </thead>\n",
              "  <tbody>\n",
              "    <tr>\n",
              "      <th>0</th>\n",
              "      <td>20</td>\n",
              "      <td>20</td>\n",
              "      <td>0.946355</td>\n",
              "      <td>1.0</td>\n",
              "      <td>0.972789</td>\n",
              "      <td>0.000024</td>\n",
              "      <td>0.207611</td>\n",
              "      <td>3 layers of Convolution: 64, 128, 256</td>\n",
              "      <td>17.647059</td>\n",
              "      <td>32.352941</td>\n",
              "      <td>11.764706</td>\n",
              "      <td>32.352941</td>\n",
              "      <td>5.882353</td>\n",
              "      <td>0.0</td>\n",
              "    </tr>\n",
              "  </tbody>\n",
              "</table>\n",
              "</div>"
            ],
            "text/plain": [
              "   N1  N2       R^2  acc train  ...        1.2        1.4       1.6  1.8\n",
              "0  20  20  0.946355        1.0  ...  11.764706  32.352941  5.882353  0.0\n",
              "\n",
              "[1 rows x 14 columns]"
            ]
          },
          "metadata": {},
          "execution_count": 97
        }
      ]
    },
    {
      "cell_type": "code",
      "metadata": {
        "id": "JMWpAwMq5Hw2",
        "colab": {
          "base_uri": "https://localhost:8080/",
          "height": 17
        },
        "outputId": "586dc2dc-dfdb-414b-d4d9-9074ea38bbce"
      },
      "source": [
        "Arq = \"output.xlsx\"\n",
        "df.to_excel(Arq)\n",
        "files.download(Arq)"
      ],
      "execution_count": null,
      "outputs": [
        {
          "output_type": "display_data",
          "data": {
            "application/javascript": [
              "\n",
              "    async function download(id, filename, size) {\n",
              "      if (!google.colab.kernel.accessAllowed) {\n",
              "        return;\n",
              "      }\n",
              "      const div = document.createElement('div');\n",
              "      const label = document.createElement('label');\n",
              "      label.textContent = `Downloading \"${filename}\": `;\n",
              "      div.appendChild(label);\n",
              "      const progress = document.createElement('progress');\n",
              "      progress.max = size;\n",
              "      div.appendChild(progress);\n",
              "      document.body.appendChild(div);\n",
              "\n",
              "      const buffers = [];\n",
              "      let downloaded = 0;\n",
              "\n",
              "      const channel = await google.colab.kernel.comms.open(id);\n",
              "      // Send a message to notify the kernel that we're ready.\n",
              "      channel.send({})\n",
              "\n",
              "      for await (const message of channel.messages) {\n",
              "        // Send a message to notify the kernel that we're ready.\n",
              "        channel.send({})\n",
              "        if (message.buffers) {\n",
              "          for (const buffer of message.buffers) {\n",
              "            buffers.push(buffer);\n",
              "            downloaded += buffer.byteLength;\n",
              "            progress.value = downloaded;\n",
              "          }\n",
              "        }\n",
              "      }\n",
              "      const blob = new Blob(buffers, {type: 'application/binary'});\n",
              "      const a = document.createElement('a');\n",
              "      a.href = window.URL.createObjectURL(blob);\n",
              "      a.download = filename;\n",
              "      div.appendChild(a);\n",
              "      a.click();\n",
              "      div.remove();\n",
              "    }\n",
              "  "
            ],
            "text/plain": [
              "<IPython.core.display.Javascript object>"
            ]
          },
          "metadata": {}
        },
        {
          "output_type": "display_data",
          "data": {
            "application/javascript": [
              "download(\"download_ab9c8abf-f032-41cd-bb24-867707aa89a6\", \"output.xlsx\", 5266)"
            ],
            "text/plain": [
              "<IPython.core.display.Javascript object>"
            ]
          },
          "metadata": {}
        }
      ]
    }
  ]
}