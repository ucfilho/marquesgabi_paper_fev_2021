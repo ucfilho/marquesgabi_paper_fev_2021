{
  "nbformat": 4,
  "nbformat_minor": 0,
  "metadata": {
    "colab": {
      "name": "PSD_histogram_CNN_AA_jun_23_2021.ipynb",
      "provenance": [],
      "collapsed_sections": [],
      "include_colab_link": true
    },
    "kernelspec": {
      "name": "python3",
      "display_name": "Python 3"
    }
  },
  "cells": [
    {
      "cell_type": "markdown",
      "metadata": {
        "id": "view-in-github",
        "colab_type": "text"
      },
      "source": [
        "<a href=\"https://colab.research.google.com/github/ucfilho/marquesgabi_paper_fev_2021/blob/main/Qualificacao/PSD_histogram_CNN_AA_jun_23_2021.ipynb\" target=\"_parent\"><img src=\"https://colab.research.google.com/assets/colab-badge.svg\" alt=\"Open In Colab\"/></a>"
      ]
    },
    {
      "cell_type": "code",
      "metadata": {
        "id": "Sog7Z9pyhUD_"
      },
      "source": [
        "import matplotlib.pyplot as plt\n",
        "import numpy as np\n",
        "import cv2\n",
        "import zipfile\n",
        "#import random\n",
        "from random import randint\n",
        "from PIL import Image\n",
        "import re\n",
        "from sklearn.model_selection import train_test_split\n",
        "#import scikit-image\n",
        "import skimage\n",
        "import sklearn\n",
        "import pandas as pd\n",
        "from keras.models import Sequential\n",
        "from keras.layers import Dense, Activation, Conv2D, MaxPooling2D, Flatten, Dropout, BatchNormalization"
      ],
      "execution_count": null,
      "outputs": []
    },
    {
      "cell_type": "code",
      "metadata": {
        "id": "uZEvJvfoibE4",
        "colab": {
          "base_uri": "https://localhost:8080/"
        },
        "outputId": "2a91a8d7-ec3a-4a1a-e9fe-843159ceac46"
      },
      "source": [
        "!pip install mahotas"
      ],
      "execution_count": null,
      "outputs": [
        {
          "output_type": "stream",
          "text": [
            "Collecting mahotas\n",
            "  Using cached https://files.pythonhosted.org/packages/19/ad/553b246b0a35dccc3ed58dc8889a67124bf5ab858e9c6b7255d56086e70c/mahotas-1.4.11-cp37-cp37m-manylinux2010_x86_64.whl\n",
            "Requirement already satisfied: numpy in /usr/local/lib/python3.7/dist-packages (from mahotas) (1.19.5)\n",
            "Installing collected packages: mahotas\n",
            "Successfully installed mahotas-1.4.11\n"
          ],
          "name": "stdout"
        }
      ]
    },
    {
      "cell_type": "code",
      "metadata": {
        "id": "nf_a6PJ1iUnT"
      },
      "source": [
        "import mahotas.features.texture as mht\n",
        "import mahotas.features"
      ],
      "execution_count": null,
      "outputs": []
    },
    {
      "cell_type": "code",
      "metadata": {
        "id": "_VcTdaNVh9EE",
        "colab": {
          "base_uri": "https://localhost:8080/"
        },
        "outputId": "9535fd04-f7f8-482a-f103-6f3ee2ce0dba"
      },
      "source": [
        "!git clone https://github.com/ucfilho/marquesgabi_fev_2020 #clonar do Github\n",
        "%cd marquesgabi_fev_2020\n",
        "import Go2BlackWhite\n",
        "import Go2Mahotas"
      ],
      "execution_count": null,
      "outputs": [
        {
          "output_type": "stream",
          "text": [
            "Cloning into 'marquesgabi_fev_2020'...\n",
            "remote: Enumerating objects: 73, done.\u001b[K\n",
            "remote: Counting objects: 100% (73/73), done.\u001b[K\n",
            "remote: Compressing objects: 100% (71/71), done.\u001b[K\n",
            "remote: Total 73 (delta 37), reused 0 (delta 0), pack-reused 0\u001b[K\n",
            "Unpacking objects: 100% (73/73), done.\n",
            "/content/marquesgabi_fev_2020\n"
          ],
          "name": "stdout"
        }
      ]
    },
    {
      "cell_type": "code",
      "metadata": {
        "id": "1v7SRrc8mH2N",
        "colab": {
          "base_uri": "https://localhost:8080/"
        },
        "outputId": "c37d1b8f-0708-427c-8186-55ae2fc45817"
      },
      "source": [
        "!git clone https://github.com/marquesgabi/Doutorado\n",
        "%cd Doutorado\n",
        "\n",
        "Transfere='Fotos_Grandes_3cdAmostra.zip'\n",
        "file_name = zipfile.ZipFile(Transfere, 'r')\n",
        "file_name.extractall()"
      ],
      "execution_count": null,
      "outputs": [
        {
          "output_type": "stream",
          "text": [
            "Cloning into 'Doutorado'...\n",
            "remote: Enumerating objects: 361, done.\u001b[K\n",
            "remote: Counting objects: 100% (111/111), done.\u001b[K\n",
            "remote: Compressing objects: 100% (110/110), done.\u001b[K\n",
            "remote: Total 361 (delta 38), reused 0 (delta 0), pack-reused 250\u001b[K\n",
            "Receiving objects: 100% (361/361), 202.49 MiB | 20.90 MiB/s, done.\n",
            "Resolving deltas: 100% (155/155), done.\n",
            "/content/marquesgabi_fev_2020/Doutorado\n"
          ],
          "name": "stdout"
        }
      ]
    },
    {
      "cell_type": "code",
      "metadata": {
        "id": "0kA4IWSmasoD"
      },
      "source": [
        "Size=1200 # tamanho da foto\n",
        "ww,img_name=Go2BlackWhite.BlackWhite(Transfere,Size) #Pegamos a primeira foto Grande\n",
        "img=ww[4] \n",
        "# this is the big image we want to segment \n",
        "# ww[0], change it if you want to segment another picture"
      ],
      "execution_count": null,
      "outputs": []
    },
    {
      "cell_type": "code",
      "metadata": {
        "id": "tHgqAnaFyCjp",
        "colab": {
          "base_uri": "https://localhost:8080/"
        },
        "outputId": "82018366-da1d-4a74-937c-27ee08414d0f"
      },
      "source": [
        "!git clone https://github.com/ucfilho/MarquesGabi_Routines\n",
        "%cd MarquesGabi_Routines"
      ],
      "execution_count": null,
      "outputs": [
        {
          "output_type": "stream",
          "text": [
            "Cloning into 'MarquesGabi_Routines'...\n",
            "remote: Enumerating objects: 163, done.\u001b[K\n",
            "remote: Counting objects: 100% (163/163), done.\u001b[K\n",
            "remote: Compressing objects: 100% (161/161), done.\u001b[K\n",
            "remote: Total 163 (delta 65), reused 0 (delta 0), pack-reused 0\u001b[K\n",
            "Receiving objects: 100% (163/163), 211.71 MiB | 20.26 MiB/s, done.\n",
            "Resolving deltas: 100% (65/65), done.\n",
            "Checking out files: 100% (46/46), done.\n",
            "/content/marquesgabi_fev_2020/Doutorado/MarquesGabi_Routines\n"
          ],
          "name": "stdout"
        }
      ]
    },
    {
      "cell_type": "code",
      "metadata": {
        "id": "qc4rFvzkyWCi"
      },
      "source": [
        "from segment_filter_not_conclude import Segmenta  # got image provided segmented"
      ],
      "execution_count": null,
      "outputs": []
    },
    {
      "cell_type": "code",
      "metadata": {
        "id": "SnTtH3KDP863"
      },
      "source": [
        "df=Segmenta(img)\n",
        "Img_Size = 28"
      ],
      "execution_count": null,
      "outputs": []
    },
    {
      "cell_type": "code",
      "metadata": {
        "id": "YN5MN5a_v4np",
        "colab": {
          "base_uri": "https://localhost:8080/"
        },
        "outputId": "0a2b9c98-5e9e-42b9-a461-be7b6c84f3bf"
      },
      "source": [
        "print(df)"
      ],
      "execution_count": null,
      "outputs": [
        {
          "output_type": "stream",
          "text": [
            "    Width           0           1  ...         781         782         783\n",
            "0     172  128.560852  104.868042  ...    1.000000    1.000000    1.000000\n",
            "1     132  159.814514  113.319565  ...    0.837466    1.000000    1.000000\n",
            "2     126   68.740738   70.617287  ...  163.666656  161.024704  161.716064\n",
            "3     160  133.569992  121.837494  ...    0.995625    1.000000    1.000000\n",
            "4     185  133.480072  126.348328  ...  172.583511  174.186264  173.315018\n",
            "5     120  193.071106  194.115555  ...  207.606659  200.387802  196.745575\n",
            "6     119  165.121109  176.560562  ...  152.944641  157.851212  153.380615\n",
            "7     188  174.279297  162.649155  ...    2.896786    1.196016    2.277049\n",
            "8     170  121.297722  135.785187  ...  139.556000  181.818832  169.552811\n",
            "9     143  111.593330  107.247688  ...  147.044403  175.823410  202.266861\n",
            "10    165  145.679565  147.861084  ...  160.245636  145.103928  146.523560\n",
            "11    176  130.520645  127.806816  ...  144.679245  128.433884  122.654442\n",
            "12    169    0.698085    1.718567  ...   47.107281   49.796078   62.128143\n",
            "13    134   75.197594   72.413902  ...   46.837158   29.646248    2.886612\n",
            "14    168  163.222229  176.166672  ...  137.416672  129.611115  124.972221\n",
            "15    173  189.730652  179.863708  ...  242.870117  184.462646  148.915787\n",
            "16    139   96.412918   92.504105  ...    0.421873    0.450650    1.443455\n",
            "17    147  173.263031  162.387772  ...  189.265320   44.460316    4.310658\n",
            "18    176   89.464874   90.374481  ...    1.104339    0.153409    1.343492\n",
            "19    139  217.192703  214.096878  ...  137.523575  137.297501  132.515869\n",
            "20    100   98.503998   96.511993  ...  158.515198  167.417603  169.979202\n",
            "21    127  117.762779  126.865021  ...  131.102539  119.997215  133.166779\n",
            "22    163  184.880188  159.898834  ...  211.017654  201.442535  190.183716\n",
            "23    128   53.902344   53.287109  ...  177.951172  177.833008  178.738281\n",
            "24    179   79.571991   88.995049  ...    1.180550    0.138666    1.337318\n",
            "25    133  155.620483  161.149567  ...  136.570633   96.060936   67.041550\n",
            "26    143  176.462311  180.333908  ...  149.765945  145.233459  137.588486\n",
            "27    160  153.466248  156.910629  ...  134.006866  126.571243  119.009995\n",
            "28    164  119.428314  128.032120  ...    0.032124    0.691850    1.000000\n",
            "29    163  143.254242  142.988373  ...  109.448540  134.920517  152.429565\n",
            "30    151  131.760147  133.029297  ...  107.389908  124.588486  116.733658\n",
            "31    123  179.017273  176.628204  ...  177.727554  174.273346  169.420135\n",
            "32    197  165.426514  164.927338  ...  174.339386  193.576767  190.704239\n",
            "33    151  126.142365  133.618881  ...  202.769836  211.521790  226.692337\n",
            "34    102  165.090759  166.937714  ...   45.388313   16.448292   11.162630\n",
            "35    106  129.558212  130.637589  ...    0.000000    0.849057    1.528302\n",
            "36    166  165.579605  171.553772  ...  146.325150  148.382767  145.272888\n",
            "37    158  124.639320  134.861725  ...    0.747797    0.292101    1.406025\n",
            "38    158  128.258270  134.354431  ...   12.980772   47.221279   73.874054\n",
            "39    106  137.794586  137.235672  ...  201.524750  198.012817  193.069427\n",
            "40    163  139.019943  141.114258  ...   76.319542   57.243217   53.191425\n",
            "41    125    1.919296    1.026880  ...   57.213249   61.985607   64.913605\n",
            "42    134  147.770111  146.680771  ...    0.327244    0.506349    1.461573\n",
            "43    184  132.958878  124.664925  ...    1.260869    1.000000    1.000000\n",
            "44    110  177.605621  176.668762  ...  249.184464  252.535217  253.323944\n",
            "45    147  138.580505  148.566910  ...    1.052154    1.004535    0.963719\n",
            "46    127  160.528610  177.467773  ...    0.182466    0.591915    1.489553\n",
            "47    118  187.601822  186.142487  ...  209.611313  216.983612  217.571396\n",
            "48    107  103.884789  103.318451  ...    1.000000    1.000000    1.000000\n",
            "49    169  150.733215  146.802902  ...  165.253540  161.246170  164.452713\n",
            "\n",
            "[50 rows x 785 columns]\n"
          ],
          "name": "stdout"
        }
      ]
    },
    {
      "cell_type": "code",
      "metadata": {
        "id": "xzpQ1Pz0fX5L",
        "colab": {
          "base_uri": "https://localhost:8080/",
          "height": 52
        },
        "outputId": "9af42877-8fe8-4768-a746-bf0a787ea651"
      },
      "source": [
        "'''\n",
        "!git clone https://github.com/ucfilho/MarquesGabi_Routines\n",
        "%cd MarquesGabi_Routines\n",
        "# filename = 'model_ANN.pkl'\n",
        "filename = 'model_ANN_new.pkl'\n",
        "model = joblib.load(filename)\n",
        "'''"
      ],
      "execution_count": null,
      "outputs": [
        {
          "output_type": "execute_result",
          "data": {
            "application/vnd.google.colaboratory.intrinsic+json": {
              "type": "string"
            },
            "text/plain": [
              "\"\\n!git clone https://github.com/ucfilho/MarquesGabi_Routines\\n%cd MarquesGabi_Routines\\n# filename = 'model_ANN.pkl'\\nfilename = 'model_ANN_new.pkl'\\nmodel = joblib.load(filename)\\n\""
            ]
          },
          "metadata": {
            "tags": []
          },
          "execution_count": 11
        }
      ]
    },
    {
      "cell_type": "code",
      "metadata": {
        "colab": {
          "base_uri": "https://localhost:8080/"
        },
        "id": "xR2emP4rNjQy",
        "outputId": "aeaf00ea-19f8-451e-e855-dd3e0321d318"
      },
      "source": [
        "!git clone https://github.com/ucfilho/MarquesGabi_Routines\n",
        "%cd MarquesGabi_Routines"
      ],
      "execution_count": null,
      "outputs": [
        {
          "output_type": "stream",
          "text": [
            "Cloning into 'MarquesGabi_Routines'...\n",
            "remote: Enumerating objects: 163, done.\u001b[K\n",
            "remote: Counting objects: 100% (163/163), done.\u001b[K\n",
            "remote: Compressing objects: 100% (161/161), done.\u001b[K\n",
            "remote: Total 163 (delta 65), reused 0 (delta 0), pack-reused 0\u001b[K\n",
            "Receiving objects: 100% (163/163), 211.71 MiB | 20.54 MiB/s, done.\n",
            "Resolving deltas: 100% (65/65), done.\n",
            "Checking out files: 100% (46/46), done.\n",
            "/content/marquesgabi_fev_2020/Doutorado/MarquesGabi_Routines/MarquesGabi_Routines\n"
          ],
          "name": "stdout"
        }
      ]
    },
    {
      "cell_type": "code",
      "metadata": {
        "id": "O6cMHOrlNliO"
      },
      "source": [
        "# leitura dos dados\n",
        "df=pd.read_excel(\"FotosTreinoRede.xlsx\")\n",
        "y = df['y']\n",
        "df.drop(['Unnamed: 0','y'], axis='columns', inplace=True)"
      ],
      "execution_count": null,
      "outputs": []
    },
    {
      "cell_type": "code",
      "metadata": {
        "colab": {
          "base_uri": "https://localhost:8080/",
          "height": 119
        },
        "id": "zQO8d2QbNqj0",
        "outputId": "f30e8eb6-75a4-4262-bdf9-9aa1614db950"
      },
      "source": [
        "X =np.array(df.copy())/255.0 \n",
        "\n",
        "\n",
        "X_train, X_test, Y_train, Y_test = train_test_split(X, y, test_size=0.30, shuffle=True, random_state=42)\n",
        "\n",
        "'''\n",
        "model = MLPClassifier(hidden_layer_sizes=(200,10), activation='tanh', \n",
        "                      solver='adam',random_state=1, max_iter=300).fit(X_train,y_train)\n",
        "  \n",
        "prediction = model.predict(X_test)\n",
        "  \n",
        "y =np.copy(y_test)\n",
        "data = {'y_true': y_test,'y_predict': prediction}  # este dado esta no formato de dicionario\n",
        "\n",
        "df = pd.DataFrame(data, columns=['y_true','y_predict'])\n",
        "\n",
        "\n",
        "confusion_matrix = pd.crosstab(df['y_true'], df['y_predict'], rownames=['Actual'], colnames=['Predict'])\n",
        "print(confusion_matrix)\n",
        "\n",
        "y_true = df['y_true']\n",
        "y_pred = df['y_predict']\n",
        "\n",
        "  \n",
        "METRICS=sklearn.metrics.classification_report(y_true, y_pred)\n",
        "'''"
      ],
      "execution_count": null,
      "outputs": [
        {
          "output_type": "execute_result",
          "data": {
            "application/vnd.google.colaboratory.intrinsic+json": {
              "type": "string"
            },
            "text/plain": [
              "\"\\nmodel = MLPClassifier(hidden_layer_sizes=(200,10), activation='tanh', \\n                      solver='adam',random_state=1, max_iter=300).fit(X_train,y_train)\\n  \\nprediction = model.predict(X_test)\\n  \\ny =np.copy(y_test)\\ndata = {'y_true': y_test,'y_predict': prediction}  # este dado esta no formato de dicionario\\n\\ndf = pd.DataFrame(data, columns=['y_true','y_predict'])\\n\\n\\nconfusion_matrix = pd.crosstab(df['y_true'], df['y_predict'], rownames=['Actual'], colnames=['Predict'])\\nprint(confusion_matrix)\\n\\ny_true = df['y_true']\\ny_pred = df['y_predict']\\n\\n  \\nMETRICS=sklearn.metrics.classification_report(y_true, y_pred)\\n\""
            ]
          },
          "metadata": {
            "tags": []
          },
          "execution_count": 14
        }
      ]
    },
    {
      "cell_type": "code",
      "metadata": {
        "id": "23iKv6bDPWQl"
      },
      "source": [
        "# helper\n",
        "def ynindicator(Y):\n",
        "  N = len(Y)\n",
        "  K = len(set(Y))\n",
        "  I = np.zeros((N, K))\n",
        "  I[np.arange(N), Y] = 1\n",
        "  return I\n",
        "\n",
        "def yback(Y_test):\n",
        "  nrow, ncol = Y_test.shape\n",
        "  y_class = np.zeros(nrow,dtype=int)\n",
        "  y_resp = Y_test\n",
        "  for k in range(nrow):\n",
        "    for kk in range(K):\n",
        "      if(y_resp[k,kk] == 1):\n",
        "        y_class[k] = kk\n",
        "  Y_test = y_class.copy()\n",
        "  return Y_test\n",
        "\n",
        "X_train = np.array(X_train)\n",
        "Y_train = np.array(Y_train)\n",
        "K = len(set(Y_train))\n",
        "\n",
        "X_train = X_train.reshape(-1, Img_Size, Img_Size, 1) / 255.0\n",
        "Y_train = Y_train.astype(np.int32)\n",
        "Y_train = ynindicator(Y_train)\n",
        "\n",
        "X_test = np.array(X_test )\n",
        "Y_test = np.array(Y_test)\n",
        "X_test = X_test.reshape(-1, Img_Size, Img_Size, 1) / 255.0\n",
        "Y_test = Y_test.astype(np.int32)\n",
        "Y_test = ynindicator(Y_test)\n",
        "\n",
        "# the model will be a sequence of layers\n",
        "\n",
        "model = Sequential()\n",
        "\n",
        "\n",
        "# make the CNN\n",
        "# model.add(Input(shape=(28, 28, 1)))\n",
        "model.add(Conv2D(input_shape=(Img_Size, Img_Size, 1), filters=32, kernel_size=(3, 3)))\n",
        "model.add(BatchNormalization())\n",
        "model.add(Activation('relu'))\n",
        "model.add(MaxPooling2D())\n",
        "\n",
        "model.add(Conv2D(filters=64, kernel_size=(3, 3)))\n",
        "model.add(BatchNormalization())\n",
        "model.add(Activation('relu'))\n",
        "model.add(MaxPooling2D())\n",
        "\n",
        "model.add(Conv2D(filters=128, kernel_size=(3, 3)))\n",
        "model.add(BatchNormalization())\n",
        "model.add(Activation('relu'))\n",
        "model.add(MaxPooling2D())\n",
        "\n",
        "model.add(Flatten())\n",
        "model.add(Dense(units=200))\n",
        "model.add(Activation('relu'))\n",
        "model.add(Dropout(0.2))\n",
        "model.add(Dense(units=K))\n",
        "model.add(Activation('softmax'))\n",
        "\n",
        "\n",
        "# list of losses: https://keras.io/losses/\n",
        "# list of optimizers: https://keras.io/optimizers/\n",
        "# list of metrics: https://keras.io/metrics/\n",
        "model.compile(\n",
        "  loss='categorical_crossentropy',\n",
        "  optimizer='adam',\n",
        "  metrics=['accuracy']\n",
        ")"
      ],
      "execution_count": null,
      "outputs": []
    },
    {
      "cell_type": "code",
      "metadata": {
        "colab": {
          "base_uri": "https://localhost:8080/"
        },
        "id": "FpbPQ1FSRG6A",
        "outputId": "2f1dac6e-11a6-4b5a-da95-11f55b5aa648"
      },
      "source": [
        "\n",
        "# gives us back a <keras.callbacks.History object at 0x112e61a90>\n",
        "model.fit(X_train, Y_train, epochs=15, batch_size=32)\n"
      ],
      "execution_count": null,
      "outputs": [
        {
          "output_type": "stream",
          "text": [
            "Epoch 1/15\n",
            "11/11 [==============================] - 19s 43ms/step - loss: 0.6628 - accuracy: 0.6747\n",
            "Epoch 2/15\n",
            "11/11 [==============================] - 0s 42ms/step - loss: 0.2613 - accuracy: 0.9046\n",
            "Epoch 3/15\n",
            "11/11 [==============================] - 0s 41ms/step - loss: 0.1423 - accuracy: 0.9618\n",
            "Epoch 4/15\n",
            "11/11 [==============================] - 0s 43ms/step - loss: 0.1559 - accuracy: 0.9347\n",
            "Epoch 5/15\n",
            "11/11 [==============================] - 0s 42ms/step - loss: 0.0819 - accuracy: 0.9680\n",
            "Epoch 6/15\n",
            "11/11 [==============================] - 0s 42ms/step - loss: 0.0523 - accuracy: 0.9847\n",
            "Epoch 7/15\n",
            "11/11 [==============================] - 0s 42ms/step - loss: 0.0354 - accuracy: 0.9911\n",
            "Epoch 8/15\n",
            "11/11 [==============================] - 0s 41ms/step - loss: 0.0436 - accuracy: 0.9719\n",
            "Epoch 9/15\n",
            "11/11 [==============================] - 0s 42ms/step - loss: 0.0398 - accuracy: 0.9855\n",
            "Epoch 10/15\n",
            "11/11 [==============================] - 0s 43ms/step - loss: 0.0192 - accuracy: 0.9917\n",
            "Epoch 11/15\n",
            "11/11 [==============================] - 0s 44ms/step - loss: 0.0130 - accuracy: 1.0000\n",
            "Epoch 12/15\n",
            "11/11 [==============================] - 0s 41ms/step - loss: 0.0106 - accuracy: 1.0000\n",
            "Epoch 13/15\n",
            "11/11 [==============================] - 0s 43ms/step - loss: 0.0093 - accuracy: 1.0000\n",
            "Epoch 14/15\n",
            "11/11 [==============================] - 0s 42ms/step - loss: 0.0072 - accuracy: 0.9955\n",
            "Epoch 15/15\n",
            "11/11 [==============================] - 0s 43ms/step - loss: 0.0027 - accuracy: 1.0000\n"
          ],
          "name": "stdout"
        },
        {
          "output_type": "execute_result",
          "data": {
            "text/plain": [
              "<keras.callbacks.History at 0x7fc48375fed0>"
            ]
          },
          "metadata": {
            "tags": []
          },
          "execution_count": 16
        }
      ]
    },
    {
      "cell_type": "code",
      "metadata": {
        "id": "cSTlOSUBWMpj"
      },
      "source": [
        "Y_test = yback(Y_test)"
      ],
      "execution_count": null,
      "outputs": []
    },
    {
      "cell_type": "code",
      "metadata": {
        "colab": {
          "base_uri": "https://localhost:8080/"
        },
        "id": "qpf0XlSARX78",
        "outputId": "0667613e-b67b-455e-a789-a37e55328a19"
      },
      "source": [
        "pred_test= model.predict_classes(X_test)\n",
        "\n",
        "data = {'y_true': Y_test,'y_predict': pred_test}  # este dado esta no formato de dicionario\n",
        "\n",
        "df = pd.DataFrame(data, columns=['y_true','y_predict'])\n",
        "\n",
        "\n",
        "confusion_matrix = pd.crosstab(df['y_true'], df['y_predict'], rownames=['Actual'], colnames=['Predict'])\n",
        "print(confusion_matrix)\n",
        "\n",
        "y_true = df['y_true']\n",
        "y_pred = df['y_predict']\n",
        "\n",
        "  \n",
        "METRICS=sklearn.metrics.classification_report(y_true, y_pred)"
      ],
      "execution_count": null,
      "outputs": [
        {
          "output_type": "stream",
          "text": [
            "/usr/local/lib/python3.7/dist-packages/keras/engine/sequential.py:450: UserWarning: `model.predict_classes()` is deprecated and will be removed after 2021-01-01. Please use instead:* `np.argmax(model.predict(x), axis=-1)`,   if your model does multi-class classification   (e.g. if it uses a `softmax` last-layer activation).* `(model.predict(x) > 0.5).astype(\"int32\")`,   if your model does binary classification   (e.g. if it uses a `sigmoid` last-layer activation).\n",
            "  warnings.warn('`model.predict_classes()` is deprecated and '\n"
          ],
          "name": "stderr"
        },
        {
          "output_type": "stream",
          "text": [
            "Predict   1\n",
            "Actual     \n",
            "0        72\n",
            "1        75\n"
          ],
          "name": "stdout"
        },
        {
          "output_type": "stream",
          "text": [
            "/usr/local/lib/python3.7/dist-packages/sklearn/metrics/_classification.py:1272: UndefinedMetricWarning: Precision and F-score are ill-defined and being set to 0.0 in labels with no predicted samples. Use `zero_division` parameter to control this behavior.\n",
            "  _warn_prf(average, modifier, msg_start, len(result))\n"
          ],
          "name": "stderr"
        }
      ]
    },
    {
      "cell_type": "code",
      "metadata": {
        "colab": {
          "base_uri": "https://localhost:8080/"
        },
        "id": "_iFNNrlWV9tH",
        "outputId": "9a53ec16-214e-4485-deb9-7ad3b34cdccf"
      },
      "source": [
        "pred_test"
      ],
      "execution_count": null,
      "outputs": [
        {
          "output_type": "execute_result",
          "data": {
            "text/plain": [
              "array([1, 1, 1, 1, 1, 1, 1, 1, 1, 1, 1, 1, 1, 1, 1, 1, 1, 1, 1, 1, 1, 1,\n",
              "       1, 1, 1, 1, 1, 1, 1, 1, 1, 1, 1, 1, 1, 1, 1, 1, 1, 1, 1, 1, 1, 1,\n",
              "       1, 1, 1, 1, 1, 1, 1, 1, 1, 1, 1, 1, 1, 1, 1, 1, 1, 1, 1, 1, 1, 1,\n",
              "       1, 1, 1, 1, 1, 1, 1, 1, 1, 1, 1, 1, 1, 1, 1, 1, 1, 1, 1, 1, 1, 1,\n",
              "       1, 1, 1, 1, 1, 1, 1, 1, 1, 1, 1, 1, 1, 1, 1, 1, 1, 1, 1, 1, 1, 1,\n",
              "       1, 1, 1, 1, 1, 1, 1, 1, 1, 1, 1, 1, 1, 1, 1, 1, 1, 1, 1, 1, 1, 1,\n",
              "       1, 1, 1, 1, 1, 1, 1, 1, 1, 1, 1, 1, 1, 1, 1])"
            ]
          },
          "metadata": {
            "tags": []
          },
          "execution_count": 19
        }
      ]
    },
    {
      "cell_type": "code",
      "metadata": {
        "id": "QISvYcJBgWbE",
        "colab": {
          "base_uri": "https://localhost:8080/"
        },
        "outputId": "eb0536c1-b131-4aab-f9b6-f99d66c4e976"
      },
      "source": [
        "cont = 0; num =25\n",
        "img_graos = []\n",
        "Width_new = []\n",
        "img=ww[0] \n",
        "while( cont < num):\n",
        "  df=Segmenta(img)\n",
        "  df_ann =df.copy()\n",
        "  Width = df['Width']\n",
        "  del df_ann['Width']\n",
        "  result = np.array(df_ann)\n",
        "  result = result.reshape(-1, Img_Size, Img_Size, 1) / 255.0\n",
        "  prediction = model.predict_classes(result)\n",
        "  loc_grao =[];k=0\n",
        "  for i in prediction:\n",
        "    if( i == 0):\n",
        "      img_graos.append(df.iloc[k,:])\n",
        "      Width_new.append(Width.iloc[k])\n",
        "      cont = cont + 1\n",
        "    k = k +1\n",
        "img_graos = pd.DataFrame(img_graos)\n",
        "print(img_graos)"
      ],
      "execution_count": null,
      "outputs": [
        {
          "output_type": "stream",
          "text": [
            "/usr/local/lib/python3.7/dist-packages/keras/engine/sequential.py:450: UserWarning: `model.predict_classes()` is deprecated and will be removed after 2021-01-01. Please use instead:* `np.argmax(model.predict(x), axis=-1)`,   if your model does multi-class classification   (e.g. if it uses a `softmax` last-layer activation).* `(model.predict(x) > 0.5).astype(\"int32\")`,   if your model does binary classification   (e.g. if it uses a `sigmoid` last-layer activation).\n",
            "  warnings.warn('`model.predict_classes()` is deprecated and '\n"
          ],
          "name": "stderr"
        },
        {
          "output_type": "stream",
          "text": [
            "    Width           0           1  ...         781         782         783\n",
            "1   124.0   25.505722   29.328823  ...   34.349632   33.451611   32.123825\n",
            "2   190.0   45.199112   56.401764  ...   76.960884   76.430916   78.788589\n",
            "3   118.0    2.875323    3.463660  ...  103.385513  101.955193  102.375183\n",
            "4   127.0   44.303741   46.770599  ...   35.613117   38.468102   40.135406\n",
            "5   129.0  122.393661  123.243370  ...   31.328587   33.250168   33.818760\n",
            "7   180.0  108.672607  114.212364  ...   41.209385   44.285431   48.787163\n",
            "8   174.0   64.076500   64.455673  ...   94.820724   92.970940   86.108742\n",
            "9   166.0  104.227753  110.923058  ...    2.932356    1.630280    1.258093\n",
            "10  129.0   79.254066   80.119522  ...   84.817261   85.166031   86.938400\n",
            "11  155.0    5.583018    6.897398  ...   45.605865   45.838085   45.679504\n",
            "12  179.0   93.198898   97.309822  ...   48.526669   42.601009   44.481228\n",
            "13  126.0   15.641974   66.901237  ...    0.123457    0.111111    0.283951\n",
            "14  128.0  100.817383  102.554688  ...   50.749023   46.331055   46.763672\n",
            "15  160.0   44.153748   59.313122  ...   50.226246   38.868748   33.998749\n",
            "16  190.0   84.828804   86.730858  ...   71.002655   65.977173   61.502045\n",
            "17  176.0   74.684914   75.826958  ...    0.000000    0.392045    0.761364\n",
            "18  183.0   55.477322   55.474873  ...    2.509989    1.091164    0.158022\n",
            "19  150.0   86.647469   84.868622  ...   59.080715   61.316093   61.459023\n",
            "20  129.0   64.705788   72.151978  ...   44.792919   41.119347   39.520523\n",
            "21  136.0   50.886681   73.351212  ...   88.117661   87.564011  100.797585\n",
            "22  161.0  131.245758  123.873352  ...   44.854443   46.884689   47.542534\n",
            "23  108.0  100.412888   99.654320  ...   78.814812   74.113861   74.074066\n",
            "25  100.0   85.630402    6.214400  ...   10.249600   10.208000   10.369600\n",
            "27  174.0   64.701424   71.571022  ...   46.460831   22.617916    2.013608\n",
            "28  100.0   69.171196   70.663994  ...   44.411198   43.081596   40.745602\n",
            "29  166.0    3.414719    5.033242  ...   77.304253   78.863403   76.246765\n",
            "30  125.0    1.840576    1.248960  ...   59.484039   58.005314   54.501827\n",
            "31  115.0   47.745781   50.424492  ...   87.836143   90.388275   95.478485\n",
            "32  179.0   65.846260   40.602978  ...   25.226242   17.990294    5.775880\n",
            "33  170.0   78.524155   71.657158  ...    6.481800    6.078754    6.458547\n",
            "34  143.0   40.244072   52.519096  ...   77.108711   79.896034   82.405296\n",
            "36  192.0   57.157982   56.373695  ...    9.925780    1.771267    0.231337\n",
            "37  181.0   58.192360   75.001068  ...   19.976284   16.723269   16.539268\n",
            "39  183.0   81.142403   90.648804  ...   63.460056   62.408947   62.275108\n",
            "41  149.0   51.706142   51.084908  ...   40.016487   42.897980   42.360706\n",
            "42  154.0   61.917358   42.198349  ...   71.041328   74.487610   79.958679\n",
            "43  140.0  104.919998  107.399994  ...   81.839996   62.439999   57.840000\n",
            "44  156.0   69.767265   74.250504  ...    0.000000    0.000000    0.000000\n",
            "45  148.0    0.926224    1.972243  ...   62.658150   61.045292   60.341862\n",
            "46  192.0   61.247391   67.272133  ...   94.317268   97.482628   92.135406\n",
            "47  171.0  121.223114  119.712158  ...    9.036045    7.143565    6.600356\n",
            "49  192.0   71.924477   78.007805  ...    5.545138    5.147135    5.469184\n",
            "\n",
            "[42 rows x 785 columns]\n"
          ],
          "name": "stdout"
        }
      ]
    },
    {
      "cell_type": "code",
      "metadata": {
        "id": "6LkA4vHp-f6_"
      },
      "source": [
        "Width=np.array(Width_new)"
      ],
      "execution_count": null,
      "outputs": []
    },
    {
      "cell_type": "code",
      "metadata": {
        "colab": {
          "base_uri": "https://localhost:8080/"
        },
        "id": "MjRbWgmX_LFH",
        "outputId": "6bc30bda-cf43-4c0f-c1eb-2a9da6a37ab8"
      },
      "source": [
        "!git clone https://github.com/ucfilho/marquesgabi_paper_fev_2021\n",
        "%cd marquesgabi_paper_fev_2021\n",
        "\n",
        "from Get_PSDArea_New import PSDArea\n",
        "from histogram_fev_2021 import PSD\n",
        "from GetBetterSegm import GetBetter"
      ],
      "execution_count": null,
      "outputs": [
        {
          "output_type": "stream",
          "text": [
            "Cloning into 'marquesgabi_paper_fev_2021'...\n",
            "remote: Enumerating objects: 588, done.\u001b[K\n",
            "remote: Counting objects: 100% (349/349), done.\u001b[K\n",
            "remote: Compressing objects: 100% (348/348), done.\u001b[K\n",
            "remote: Total 588 (delta 212), reused 0 (delta 0), pack-reused 239\u001b[K\n",
            "Receiving objects: 100% (588/588), 5.07 MiB | 5.94 MiB/s, done.\n",
            "Resolving deltas: 100% (349/349), done.\n",
            "/content/marquesgabi_fev_2020/Doutorado/MarquesGabi_Routines/MarquesGabi_Routines/marquesgabi_paper_fev_2021\n"
          ],
          "name": "stdout"
        }
      ]
    },
    {
      "cell_type": "code",
      "metadata": {
        "colab": {
          "base_uri": "https://localhost:8080/"
        },
        "id": "WAG_I6FwCvFr",
        "outputId": "78579aee-6732-402d-fa0b-96c2901552ba"
      },
      "source": [
        "!git clone https://github.com/ucfilho/marquesgabi_out_2020\n",
        "%cd marquesgabi_out_2020\n",
        "PSD_imageJ = 'Areas_ImageJ.csv'\n",
        "PSD_new = pd.read_csv(PSD_imageJ)\n",
        "print(PSD_new.head(3))"
      ],
      "execution_count": null,
      "outputs": [
        {
          "output_type": "stream",
          "text": [
            "Cloning into 'marquesgabi_out_2020'...\n",
            "remote: Enumerating objects: 146, done.\u001b[K\n",
            "remote: Counting objects: 100% (146/146), done.\u001b[K\n",
            "remote: Compressing objects: 100% (142/142), done.\u001b[K\n",
            "remote: Total 146 (delta 75), reused 0 (delta 0), pack-reused 0\u001b[K\n",
            "Receiving objects: 100% (146/146), 1.00 MiB | 5.68 MiB/s, done.\n",
            "Resolving deltas: 100% (75/75), done.\n",
            "/content/marquesgabi_fev_2020/Doutorado/MarquesGabi_Routines/MarquesGabi_Routines/marquesgabi_paper_fev_2021/marquesgabi_out_2020\n",
            "   Juntas   Area\n",
            "0       1  2.001\n",
            "1       2  0.820\n",
            "2       3  1.270\n"
          ],
          "name": "stdout"
        }
      ]
    },
    {
      "cell_type": "code",
      "metadata": {
        "id": "t_1WIM8w7poO"
      },
      "source": [
        "Area_All, Diameter_All=PSDArea(img_graos) "
      ],
      "execution_count": null,
      "outputs": []
    },
    {
      "cell_type": "code",
      "metadata": {
        "colab": {
          "base_uri": "https://localhost:8080/",
          "height": 252
        },
        "id": "PekBHQOT_6CP",
        "outputId": "38dee21d-e948-4e44-87bb-e054b6e7f602"
      },
      "source": [
        "img_graos.head()"
      ],
      "execution_count": null,
      "outputs": [
        {
          "output_type": "execute_result",
          "data": {
            "text/html": [
              "<div>\n",
              "<style scoped>\n",
              "    .dataframe tbody tr th:only-of-type {\n",
              "        vertical-align: middle;\n",
              "    }\n",
              "\n",
              "    .dataframe tbody tr th {\n",
              "        vertical-align: top;\n",
              "    }\n",
              "\n",
              "    .dataframe thead th {\n",
              "        text-align: right;\n",
              "    }\n",
              "</style>\n",
              "<table border=\"1\" class=\"dataframe\">\n",
              "  <thead>\n",
              "    <tr style=\"text-align: right;\">\n",
              "      <th></th>\n",
              "      <th>Width</th>\n",
              "      <th>0</th>\n",
              "      <th>1</th>\n",
              "      <th>2</th>\n",
              "      <th>3</th>\n",
              "      <th>4</th>\n",
              "      <th>5</th>\n",
              "      <th>6</th>\n",
              "      <th>7</th>\n",
              "      <th>8</th>\n",
              "      <th>9</th>\n",
              "      <th>10</th>\n",
              "      <th>11</th>\n",
              "      <th>12</th>\n",
              "      <th>13</th>\n",
              "      <th>14</th>\n",
              "      <th>15</th>\n",
              "      <th>16</th>\n",
              "      <th>17</th>\n",
              "      <th>18</th>\n",
              "      <th>19</th>\n",
              "      <th>20</th>\n",
              "      <th>21</th>\n",
              "      <th>22</th>\n",
              "      <th>23</th>\n",
              "      <th>24</th>\n",
              "      <th>25</th>\n",
              "      <th>26</th>\n",
              "      <th>27</th>\n",
              "      <th>28</th>\n",
              "      <th>29</th>\n",
              "      <th>30</th>\n",
              "      <th>31</th>\n",
              "      <th>32</th>\n",
              "      <th>33</th>\n",
              "      <th>34</th>\n",
              "      <th>35</th>\n",
              "      <th>36</th>\n",
              "      <th>37</th>\n",
              "      <th>38</th>\n",
              "      <th>...</th>\n",
              "      <th>744</th>\n",
              "      <th>745</th>\n",
              "      <th>746</th>\n",
              "      <th>747</th>\n",
              "      <th>748</th>\n",
              "      <th>749</th>\n",
              "      <th>750</th>\n",
              "      <th>751</th>\n",
              "      <th>752</th>\n",
              "      <th>753</th>\n",
              "      <th>754</th>\n",
              "      <th>755</th>\n",
              "      <th>756</th>\n",
              "      <th>757</th>\n",
              "      <th>758</th>\n",
              "      <th>759</th>\n",
              "      <th>760</th>\n",
              "      <th>761</th>\n",
              "      <th>762</th>\n",
              "      <th>763</th>\n",
              "      <th>764</th>\n",
              "      <th>765</th>\n",
              "      <th>766</th>\n",
              "      <th>767</th>\n",
              "      <th>768</th>\n",
              "      <th>769</th>\n",
              "      <th>770</th>\n",
              "      <th>771</th>\n",
              "      <th>772</th>\n",
              "      <th>773</th>\n",
              "      <th>774</th>\n",
              "      <th>775</th>\n",
              "      <th>776</th>\n",
              "      <th>777</th>\n",
              "      <th>778</th>\n",
              "      <th>779</th>\n",
              "      <th>780</th>\n",
              "      <th>781</th>\n",
              "      <th>782</th>\n",
              "      <th>783</th>\n",
              "    </tr>\n",
              "  </thead>\n",
              "  <tbody>\n",
              "    <tr>\n",
              "      <th>1</th>\n",
              "      <td>124.0</td>\n",
              "      <td>25.505722</td>\n",
              "      <td>29.328823</td>\n",
              "      <td>26.470341</td>\n",
              "      <td>24.184181</td>\n",
              "      <td>90.517159</td>\n",
              "      <td>121.400620</td>\n",
              "      <td>125.195633</td>\n",
              "      <td>115.778351</td>\n",
              "      <td>112.759613</td>\n",
              "      <td>111.614975</td>\n",
              "      <td>109.709671</td>\n",
              "      <td>109.064514</td>\n",
              "      <td>107.268471</td>\n",
              "      <td>98.953171</td>\n",
              "      <td>95.650360</td>\n",
              "      <td>97.568153</td>\n",
              "      <td>101.071793</td>\n",
              "      <td>103.157127</td>\n",
              "      <td>101.575432</td>\n",
              "      <td>109.122787</td>\n",
              "      <td>118.390213</td>\n",
              "      <td>126.406860</td>\n",
              "      <td>125.708626</td>\n",
              "      <td>84.303848</td>\n",
              "      <td>42.976063</td>\n",
              "      <td>45.126953</td>\n",
              "      <td>40.655563</td>\n",
              "      <td>35.252861</td>\n",
              "      <td>23.706554</td>\n",
              "      <td>28.963579</td>\n",
              "      <td>25.386055</td>\n",
              "      <td>26.882414</td>\n",
              "      <td>59.874084</td>\n",
              "      <td>120.341301</td>\n",
              "      <td>132.835587</td>\n",
              "      <td>127.740891</td>\n",
              "      <td>115.763779</td>\n",
              "      <td>109.947960</td>\n",
              "      <td>110.431839</td>\n",
              "      <td>...</td>\n",
              "      <td>41.744015</td>\n",
              "      <td>25.424557</td>\n",
              "      <td>30.678459</td>\n",
              "      <td>28.447449</td>\n",
              "      <td>29.847033</td>\n",
              "      <td>30.881372</td>\n",
              "      <td>33.792923</td>\n",
              "      <td>35.340271</td>\n",
              "      <td>35.316334</td>\n",
              "      <td>35.189384</td>\n",
              "      <td>33.249737</td>\n",
              "      <td>32.896980</td>\n",
              "      <td>104.377731</td>\n",
              "      <td>114.875122</td>\n",
              "      <td>128.752335</td>\n",
              "      <td>114.244530</td>\n",
              "      <td>89.235168</td>\n",
              "      <td>86.793961</td>\n",
              "      <td>83.522369</td>\n",
              "      <td>85.724243</td>\n",
              "      <td>90.934433</td>\n",
              "      <td>99.817902</td>\n",
              "      <td>109.027054</td>\n",
              "      <td>81.600418</td>\n",
              "      <td>73.636826</td>\n",
              "      <td>76.096771</td>\n",
              "      <td>74.782516</td>\n",
              "      <td>64.272629</td>\n",
              "      <td>32.397503</td>\n",
              "      <td>19.904264</td>\n",
              "      <td>19.446409</td>\n",
              "      <td>19.838707</td>\n",
              "      <td>20.585848</td>\n",
              "      <td>23.657646</td>\n",
              "      <td>27.592091</td>\n",
              "      <td>31.272633</td>\n",
              "      <td>33.270550</td>\n",
              "      <td>34.349632</td>\n",
              "      <td>33.451611</td>\n",
              "      <td>32.123825</td>\n",
              "    </tr>\n",
              "    <tr>\n",
              "      <th>2</th>\n",
              "      <td>190.0</td>\n",
              "      <td>45.199112</td>\n",
              "      <td>56.401764</td>\n",
              "      <td>59.520992</td>\n",
              "      <td>44.005867</td>\n",
              "      <td>27.170414</td>\n",
              "      <td>24.518890</td>\n",
              "      <td>26.055067</td>\n",
              "      <td>31.495953</td>\n",
              "      <td>35.826702</td>\n",
              "      <td>45.940388</td>\n",
              "      <td>56.992905</td>\n",
              "      <td>72.822044</td>\n",
              "      <td>82.100609</td>\n",
              "      <td>87.551468</td>\n",
              "      <td>89.665924</td>\n",
              "      <td>90.172073</td>\n",
              "      <td>94.365532</td>\n",
              "      <td>102.049522</td>\n",
              "      <td>109.018829</td>\n",
              "      <td>116.499168</td>\n",
              "      <td>119.318100</td>\n",
              "      <td>112.305145</td>\n",
              "      <td>95.245865</td>\n",
              "      <td>84.311798</td>\n",
              "      <td>83.445869</td>\n",
              "      <td>90.353348</td>\n",
              "      <td>89.840668</td>\n",
              "      <td>94.938057</td>\n",
              "      <td>39.948368</td>\n",
              "      <td>43.793690</td>\n",
              "      <td>45.887756</td>\n",
              "      <td>44.336952</td>\n",
              "      <td>44.537502</td>\n",
              "      <td>44.347588</td>\n",
              "      <td>44.526867</td>\n",
              "      <td>41.854733</td>\n",
              "      <td>42.705151</td>\n",
              "      <td>46.835453</td>\n",
              "      <td>49.106144</td>\n",
              "      <td>...</td>\n",
              "      <td>77.237671</td>\n",
              "      <td>73.573181</td>\n",
              "      <td>70.953789</td>\n",
              "      <td>70.038116</td>\n",
              "      <td>73.532631</td>\n",
              "      <td>97.991577</td>\n",
              "      <td>109.292740</td>\n",
              "      <td>81.878006</td>\n",
              "      <td>70.292740</td>\n",
              "      <td>73.139725</td>\n",
              "      <td>75.985703</td>\n",
              "      <td>75.693405</td>\n",
              "      <td>125.897049</td>\n",
              "      <td>122.791237</td>\n",
              "      <td>119.355125</td>\n",
              "      <td>117.920876</td>\n",
              "      <td>117.924316</td>\n",
              "      <td>117.812180</td>\n",
              "      <td>117.504913</td>\n",
              "      <td>120.430801</td>\n",
              "      <td>122.099396</td>\n",
              "      <td>132.443771</td>\n",
              "      <td>141.310791</td>\n",
              "      <td>143.300369</td>\n",
              "      <td>141.639648</td>\n",
              "      <td>137.338257</td>\n",
              "      <td>118.549133</td>\n",
              "      <td>86.786476</td>\n",
              "      <td>76.821503</td>\n",
              "      <td>75.413406</td>\n",
              "      <td>74.044319</td>\n",
              "      <td>71.348701</td>\n",
              "      <td>83.840439</td>\n",
              "      <td>108.347252</td>\n",
              "      <td>110.109146</td>\n",
              "      <td>79.654396</td>\n",
              "      <td>73.180939</td>\n",
              "      <td>76.960884</td>\n",
              "      <td>76.430916</td>\n",
              "      <td>78.788589</td>\n",
              "    </tr>\n",
              "    <tr>\n",
              "      <th>3</th>\n",
              "      <td>118.0</td>\n",
              "      <td>2.875323</td>\n",
              "      <td>3.463660</td>\n",
              "      <td>5.651824</td>\n",
              "      <td>9.828784</td>\n",
              "      <td>27.769608</td>\n",
              "      <td>75.118065</td>\n",
              "      <td>88.331230</td>\n",
              "      <td>88.824760</td>\n",
              "      <td>85.514221</td>\n",
              "      <td>81.766449</td>\n",
              "      <td>80.630844</td>\n",
              "      <td>78.603844</td>\n",
              "      <td>76.353638</td>\n",
              "      <td>69.490662</td>\n",
              "      <td>58.093079</td>\n",
              "      <td>45.730537</td>\n",
              "      <td>37.853489</td>\n",
              "      <td>32.052856</td>\n",
              "      <td>30.843145</td>\n",
              "      <td>31.248777</td>\n",
              "      <td>30.863832</td>\n",
              "      <td>32.688019</td>\n",
              "      <td>38.385231</td>\n",
              "      <td>46.354206</td>\n",
              "      <td>51.644642</td>\n",
              "      <td>56.653549</td>\n",
              "      <td>60.572247</td>\n",
              "      <td>60.289570</td>\n",
              "      <td>6.755243</td>\n",
              "      <td>9.297041</td>\n",
              "      <td>10.910083</td>\n",
              "      <td>13.015224</td>\n",
              "      <td>18.089630</td>\n",
              "      <td>51.723640</td>\n",
              "      <td>81.754959</td>\n",
              "      <td>84.943123</td>\n",
              "      <td>81.344154</td>\n",
              "      <td>77.165466</td>\n",
              "      <td>76.791145</td>\n",
              "      <td>...</td>\n",
              "      <td>32.734268</td>\n",
              "      <td>31.046249</td>\n",
              "      <td>30.410801</td>\n",
              "      <td>30.076988</td>\n",
              "      <td>46.536339</td>\n",
              "      <td>89.170639</td>\n",
              "      <td>101.519394</td>\n",
              "      <td>106.845451</td>\n",
              "      <td>110.519104</td>\n",
              "      <td>110.509903</td>\n",
              "      <td>108.021835</td>\n",
              "      <td>101.628838</td>\n",
              "      <td>66.249634</td>\n",
              "      <td>57.141338</td>\n",
              "      <td>43.103127</td>\n",
              "      <td>43.579430</td>\n",
              "      <td>44.693192</td>\n",
              "      <td>50.688591</td>\n",
              "      <td>54.197067</td>\n",
              "      <td>55.699512</td>\n",
              "      <td>58.005741</td>\n",
              "      <td>57.781101</td>\n",
              "      <td>60.872162</td>\n",
              "      <td>58.192474</td>\n",
              "      <td>58.477158</td>\n",
              "      <td>51.120079</td>\n",
              "      <td>43.193619</td>\n",
              "      <td>34.405342</td>\n",
              "      <td>28.560183</td>\n",
              "      <td>28.334961</td>\n",
              "      <td>29.785120</td>\n",
              "      <td>32.441254</td>\n",
              "      <td>35.228668</td>\n",
              "      <td>62.671928</td>\n",
              "      <td>91.084457</td>\n",
              "      <td>100.416252</td>\n",
              "      <td>102.994827</td>\n",
              "      <td>103.385513</td>\n",
              "      <td>101.955193</td>\n",
              "      <td>102.375183</td>\n",
              "    </tr>\n",
              "    <tr>\n",
              "      <th>4</th>\n",
              "      <td>127.0</td>\n",
              "      <td>44.303741</td>\n",
              "      <td>46.770599</td>\n",
              "      <td>46.652554</td>\n",
              "      <td>45.918720</td>\n",
              "      <td>46.405540</td>\n",
              "      <td>45.002357</td>\n",
              "      <td>45.373238</td>\n",
              "      <td>44.815739</td>\n",
              "      <td>41.871040</td>\n",
              "      <td>36.130943</td>\n",
              "      <td>31.993055</td>\n",
              "      <td>31.200075</td>\n",
              "      <td>31.416889</td>\n",
              "      <td>29.198895</td>\n",
              "      <td>29.071238</td>\n",
              "      <td>30.967203</td>\n",
              "      <td>33.760677</td>\n",
              "      <td>36.380554</td>\n",
              "      <td>35.652737</td>\n",
              "      <td>38.486019</td>\n",
              "      <td>48.448448</td>\n",
              "      <td>62.913078</td>\n",
              "      <td>78.175514</td>\n",
              "      <td>86.525955</td>\n",
              "      <td>96.883629</td>\n",
              "      <td>102.631531</td>\n",
              "      <td>101.784798</td>\n",
              "      <td>102.425262</td>\n",
              "      <td>54.779778</td>\n",
              "      <td>53.353031</td>\n",
              "      <td>49.419739</td>\n",
              "      <td>45.265984</td>\n",
              "      <td>43.673069</td>\n",
              "      <td>43.633888</td>\n",
              "      <td>43.219730</td>\n",
              "      <td>39.822861</td>\n",
              "      <td>31.543308</td>\n",
              "      <td>24.937443</td>\n",
              "      <td>26.061134</td>\n",
              "      <td>...</td>\n",
              "      <td>128.674683</td>\n",
              "      <td>128.396667</td>\n",
              "      <td>116.114265</td>\n",
              "      <td>18.181475</td>\n",
              "      <td>36.099945</td>\n",
              "      <td>37.740097</td>\n",
              "      <td>36.948231</td>\n",
              "      <td>34.388744</td>\n",
              "      <td>34.121647</td>\n",
              "      <td>36.165413</td>\n",
              "      <td>38.304047</td>\n",
              "      <td>40.904331</td>\n",
              "      <td>103.197968</td>\n",
              "      <td>107.120087</td>\n",
              "      <td>107.974152</td>\n",
              "      <td>108.576416</td>\n",
              "      <td>106.841713</td>\n",
              "      <td>101.814743</td>\n",
              "      <td>90.929878</td>\n",
              "      <td>84.630417</td>\n",
              "      <td>82.426437</td>\n",
              "      <td>81.049789</td>\n",
              "      <td>84.455025</td>\n",
              "      <td>87.748100</td>\n",
              "      <td>92.427734</td>\n",
              "      <td>100.588196</td>\n",
              "      <td>111.059517</td>\n",
              "      <td>120.589432</td>\n",
              "      <td>125.971977</td>\n",
              "      <td>126.168900</td>\n",
              "      <td>117.728256</td>\n",
              "      <td>21.854610</td>\n",
              "      <td>35.571701</td>\n",
              "      <td>36.883255</td>\n",
              "      <td>34.351791</td>\n",
              "      <td>33.638912</td>\n",
              "      <td>34.159344</td>\n",
              "      <td>35.613117</td>\n",
              "      <td>38.468102</td>\n",
              "      <td>40.135406</td>\n",
              "    </tr>\n",
              "    <tr>\n",
              "      <th>5</th>\n",
              "      <td>129.0</td>\n",
              "      <td>122.393661</td>\n",
              "      <td>123.243370</td>\n",
              "      <td>127.656624</td>\n",
              "      <td>135.031555</td>\n",
              "      <td>148.597580</td>\n",
              "      <td>155.364456</td>\n",
              "      <td>160.182327</td>\n",
              "      <td>165.797852</td>\n",
              "      <td>162.872772</td>\n",
              "      <td>151.072403</td>\n",
              "      <td>97.280151</td>\n",
              "      <td>62.324562</td>\n",
              "      <td>69.369446</td>\n",
              "      <td>66.254005</td>\n",
              "      <td>62.048553</td>\n",
              "      <td>60.409107</td>\n",
              "      <td>60.722488</td>\n",
              "      <td>64.037560</td>\n",
              "      <td>66.778496</td>\n",
              "      <td>67.879028</td>\n",
              "      <td>69.217354</td>\n",
              "      <td>78.205879</td>\n",
              "      <td>85.704880</td>\n",
              "      <td>92.796768</td>\n",
              "      <td>106.325508</td>\n",
              "      <td>115.969177</td>\n",
              "      <td>118.451599</td>\n",
              "      <td>124.222160</td>\n",
              "      <td>123.575439</td>\n",
              "      <td>124.877052</td>\n",
              "      <td>128.443008</td>\n",
              "      <td>134.684341</td>\n",
              "      <td>146.042557</td>\n",
              "      <td>154.534821</td>\n",
              "      <td>157.188629</td>\n",
              "      <td>156.933838</td>\n",
              "      <td>153.858673</td>\n",
              "      <td>142.809204</td>\n",
              "      <td>95.202271</td>\n",
              "      <td>...</td>\n",
              "      <td>8.626044</td>\n",
              "      <td>4.350821</td>\n",
              "      <td>6.020311</td>\n",
              "      <td>9.459528</td>\n",
              "      <td>14.666247</td>\n",
              "      <td>23.558859</td>\n",
              "      <td>29.207382</td>\n",
              "      <td>33.761673</td>\n",
              "      <td>37.934917</td>\n",
              "      <td>39.037018</td>\n",
              "      <td>39.558201</td>\n",
              "      <td>40.123913</td>\n",
              "      <td>80.148010</td>\n",
              "      <td>80.396439</td>\n",
              "      <td>80.349083</td>\n",
              "      <td>77.167419</td>\n",
              "      <td>72.882576</td>\n",
              "      <td>69.376183</td>\n",
              "      <td>68.871223</td>\n",
              "      <td>66.761009</td>\n",
              "      <td>64.007507</td>\n",
              "      <td>62.566975</td>\n",
              "      <td>60.506699</td>\n",
              "      <td>60.893578</td>\n",
              "      <td>56.705605</td>\n",
              "      <td>45.439938</td>\n",
              "      <td>20.853674</td>\n",
              "      <td>4.783247</td>\n",
              "      <td>2.558140</td>\n",
              "      <td>2.875909</td>\n",
              "      <td>3.566252</td>\n",
              "      <td>5.463494</td>\n",
              "      <td>8.212789</td>\n",
              "      <td>11.427619</td>\n",
              "      <td>16.470524</td>\n",
              "      <td>21.769005</td>\n",
              "      <td>27.463673</td>\n",
              "      <td>31.328587</td>\n",
              "      <td>33.250168</td>\n",
              "      <td>33.818760</td>\n",
              "    </tr>\n",
              "  </tbody>\n",
              "</table>\n",
              "<p>5 rows × 785 columns</p>\n",
              "</div>"
            ],
            "text/plain": [
              "   Width           0           1  ...         781         782         783\n",
              "1  124.0   25.505722   29.328823  ...   34.349632   33.451611   32.123825\n",
              "2  190.0   45.199112   56.401764  ...   76.960884   76.430916   78.788589\n",
              "3  118.0    2.875323    3.463660  ...  103.385513  101.955193  102.375183\n",
              "4  127.0   44.303741   46.770599  ...   35.613117   38.468102   40.135406\n",
              "5  129.0  122.393661  123.243370  ...   31.328587   33.250168   33.818760\n",
              "\n",
              "[5 rows x 785 columns]"
            ]
          },
          "metadata": {
            "tags": []
          },
          "execution_count": 25
        }
      ]
    },
    {
      "cell_type": "code",
      "metadata": {
        "id": "4vmhG2LgCabC"
      },
      "source": [
        "Area = np.array(PSD_new['Area'])\n",
        "diam_teste = []\n",
        "for A in Area:\n",
        "  diam_teste.append((4*A/np.pi)**0.5) \n",
        "\n",
        "Diam1 = [ (4*A/np.pi)**0.5 for A in Area]"
      ],
      "execution_count": null,
      "outputs": []
    },
    {
      "cell_type": "code",
      "metadata": {
        "colab": {
          "base_uri": "https://localhost:8080/",
          "height": 282
        },
        "id": "Vfk_fNXGDK5_",
        "outputId": "90ece6bc-c1bf-4051-e2e5-aab792765559"
      },
      "source": [
        " wt1 = np.ones(len(Diam1)) / len(Diam1)*100\n",
        " wt2 = np.ones(len(Diameter_All)) / len(Diameter_All)*100\n",
        " X = pd.DataFrame([Diam1,Diameter_All])\n",
        " wts = pd.DataFrame([wt1,wt2])\n",
        "plt.hist(X,weights=wts)\n",
        "plt.legend(['Image J','CNN'])"
      ],
      "execution_count": null,
      "outputs": [
        {
          "output_type": "execute_result",
          "data": {
            "text/plain": [
              "<matplotlib.legend.Legend at 0x7fc483cff050>"
            ]
          },
          "metadata": {
            "tags": []
          },
          "execution_count": 27
        },
        {
          "output_type": "display_data",
          "data": {
            "image/png": "[encoded data removed]",
            "text/plain": [
              "<Figure size 432x288 with 1 Axes>"
            ]
          },
          "metadata": {
            "tags": [],
            "needs_background": "light"
          }
        }
      ]
    },
    {
      "cell_type": "code",
      "metadata": {
        "colab": {
          "base_uri": "https://localhost:8080/",
          "height": 382
        },
        "id": "ZZHa1j4HT9Dq",
        "outputId": "dd0ea30c-cd42-4fc6-de27-dab8a26ae31a"
      },
      "source": [
        "counts, bins, bars = plt.hist(X,weights=wts)\n",
        "print(bars)\n",
        "print(bins)\n",
        "print(counts)"
      ],
      "execution_count": null,
      "outputs": [
        {
          "output_type": "stream",
          "text": [
            "<a list of 2 Lists of Patches objects>\n",
            "[0.75356807 0.90995518 1.06634229 1.22272941 1.37911652 1.53550363\n",
            " 1.69189074 1.84827785 2.00466497 2.16105208 2.31743919]\n",
            "[[ 7.36842105 12.63157895 21.05263158 34.73684211 12.63157895  8.42105263\n",
            "   1.05263158  0.          1.05263158  1.05263158]\n",
            " [ 7.14285714 26.19047619 11.9047619  19.04761905 21.42857143 11.9047619\n",
            "   2.38095238  0.          0.          0.        ]]\n"
          ],
          "name": "stdout"
        },
        {
          "output_type": "display_data",
          "data": {
            "image/png": "[encoded data removed]",
            "text/plain": [
              "<Figure size 432x288 with 1 Axes>"
            ]
          },
          "metadata": {
            "tags": [],
            "needs_background": "light"
          }
        }
      ]
    },
    {
      "cell_type": "code",
      "metadata": {
        "colab": {
          "base_uri": "https://localhost:8080/"
        },
        "id": "8o_vDGeWUwIZ",
        "outputId": "3bb7614f-68b3-43aa-dd58-627d1f7dac12"
      },
      "source": [
        "print(counts.sum())"
      ],
      "execution_count": null,
      "outputs": [
        {
          "output_type": "stream",
          "text": [
            "200.00000000000009\n"
          ],
          "name": "stdout"
        }
      ]
    },
    {
      "cell_type": "code",
      "metadata": {
        "colab": {
          "base_uri": "https://localhost:8080/",
          "height": 335
        },
        "id": "KcH52-6iJQ8t",
        "outputId": "d53688b6-e71b-4d7c-8d29-4c672a5b3750"
      },
      "source": [
        "\n",
        "plt.hist([Diam1,Diameter_All])\n",
        "plt.legend(['Image J','CNN'])\n"
      ],
      "execution_count": null,
      "outputs": [
        {
          "output_type": "stream",
          "text": [
            "/usr/local/lib/python3.7/dist-packages/numpy/core/_asarray.py:83: VisibleDeprecationWarning: Creating an ndarray from ragged nested sequences (which is a list-or-tuple of lists-or-tuples-or ndarrays with different lengths or shapes) is deprecated. If you meant to do this, you must specify 'dtype=object' when creating the ndarray\n",
            "  return array(a, dtype, copy=False, order=order)\n"
          ],
          "name": "stderr"
        },
        {
          "output_type": "execute_result",
          "data": {
            "text/plain": [
              "<matplotlib.legend.Legend at 0x7fc47f1db650>"
            ]
          },
          "metadata": {
            "tags": []
          },
          "execution_count": 30
        },
        {
          "output_type": "display_data",
          "data": {
            "image/png": "[encoded data removed]",
            "text/plain": [
              "<Figure size 432x288 with 1 Axes>"
            ]
          },
          "metadata": {
            "tags": [],
            "needs_background": "light"
          }
        }
      ]
    },
    {
      "cell_type": "code",
      "metadata": {
        "colab": {
          "base_uri": "https://localhost:8080/"
        },
        "id": "r11AxFK_JIii",
        "outputId": "f399c36f-74a8-4276-971e-b6362f7716c5"
      },
      "source": [
        "[Diam1,Diameter_All]"
      ],
      "execution_count": null,
      "outputs": [
        {
          "output_type": "execute_result",
          "data": {
            "text/plain": [
              "[[1.59616801403081,\n",
              "  1.0217907939900581,\n",
              "  1.2716187407449044,\n",
              "  1.104429030701514,\n",
              "  1.2163487785097904,\n",
              "  1.6013445735058454,\n",
              "  1.1715597420637607,\n",
              "  1.2534662333717612,\n",
              "  1.2676073151634049,\n",
              "  1.309600575274104,\n",
              "  1.292966945531582,\n",
              "  1.7658322811231006,\n",
              "  1.3564037533648712,\n",
              "  1.2407040781688483,\n",
              "  2.130217298173151,\n",
              "  1.4228319915327,\n",
              "  1.0651086490865755,\n",
              "  1.3008210311003705,\n",
              "  1.336545951796433,\n",
              "  0.8927754224911278,\n",
              "  1.4494292838262302,\n",
              "  1.4052738287907582,\n",
              "  1.6421697097891788,\n",
              "  1.2329833804288621,\n",
              "  1.19042665178928,\n",
              "  1.1682948223612457,\n",
              "  1.1518314137121108,\n",
              "  0.9607802401865855,\n",
              "  2.317439190074449,\n",
              "  1.0591147430338594,\n",
              "  1.4308630919602832,\n",
              "  0.7535680705496237,\n",
              "  0.8608283307581511,\n",
              "  1.2776122636975893,\n",
              "  1.3745862957220916,\n",
              "  1.259546137598783,\n",
              "  1.2978813187979172,\n",
              "  1.2412170838050638,\n",
              "  1.6009469708743893,\n",
              "  1.3149369953539032,\n",
              "  1.417901703622935,\n",
              "  1.2478669653497139,\n",
              "  1.1055812783082735,\n",
              "  0.9561307405997607,\n",
              "  0.9487783503683882,\n",
              "  1.1238565871041026,\n",
              "  1.2058356273089446,\n",
              "  1.2801012827406097,\n",
              "  0.8733100751144249,\n",
              "  0.9194732501297403,\n",
              "  1.6425573339441792,\n",
              "  1.085826790250066,\n",
              "  1.0639125693728595,\n",
              "  1.0875842666474016,\n",
              "  1.417901703622935,\n",
              "  1.550443891425932,\n",
              "  0.7825779328716171,\n",
              "  1.4690612745308145,\n",
              "  1.053086721720641,\n",
              "  1.2676073151634049,\n",
              "  0.7744003006005755,\n",
              "  1.3787482149724068,\n",
              "  1.363892581861956,\n",
              "  1.299352006316543,\n",
              "  1.2870449283923413,\n",
              "  1.11817763925502,\n",
              "  0.9474354220939228,\n",
              "  1.5218484589055707,\n",
              "  1.3526437911676632,\n",
              "  1.1556938532445284,\n",
              "  1.6013445735058454,\n",
              "  1.274619025074578,\n",
              "  1.422384489715834,\n",
              "  1.3408259533459403,\n",
              "  1.172646028567008,\n",
              "  1.1490645795125545,\n",
              "  1.459060149136146,\n",
              "  1.2483770274864237,\n",
              "  1.336545951796433,\n",
              "  0.9601174044814821,\n",
              "  1.4867225193896279,\n",
              "  1.4277452542806772,\n",
              "  1.35028849808504,\n",
              "  0.7560982446653928,\n",
              "  1.259040600296622,\n",
              "  1.13456827900627,\n",
              "  1.6549133695530214,\n",
              "  1.1204526724091788,\n",
              "  1.1176081573544434,\n",
              "  0.9153095762832032,\n",
              "  1.1639273497938836,\n",
              "  1.3066806149514323,\n",
              "  1.1529362882239027,\n",
              "  1.3047303442899274,\n",
              "  1.3066806149514323],\n",
              " [0.9524762307366305,\n",
              "  1.6852154445222194,\n",
              "  1.028313311959154,\n",
              "  0.886104357902804,\n",
              "  1.2115740377167576,\n",
              "  1.6220030993802572,\n",
              "  1.5509238585680494,\n",
              "  1.5312988405088495,\n",
              "  1.0054909231674964,\n",
              "  1.0684095430476097,\n",
              "  1.3334803124520955,\n",
              "  1.2320332773580962,\n",
              "  1.0229585548974753,\n",
              "  1.2044190729505853,\n",
              "  1.4228561389288812,\n",
              "  1.395806049115766,\n",
              "  1.3318235464793613,\n",
              "  1.4711802317988643,\n",
              "  1.0588608883201178,\n",
              "  0.9769514740146689,\n",
              "  1.3404851962123725,\n",
              "  0.8282060031654689,\n",
              "  1.023534026506007,\n",
              "  1.5006937606102433,\n",
              "  0.8325995007530262,\n",
              "  1.3743285449435585,\n",
              "  0.9522024447929553,\n",
              "  0.9439457531535934,\n",
              "  1.4819566840054035,\n",
              "  1.3523893716707465,\n",
              "  1.0819840278993813,\n",
              "  1.4378335719702378,\n",
              "  1.764410497653971,\n",
              "  1.6049473303021426,\n",
              "  1.1944126256789116,\n",
              "  1.3036342958952678,\n",
              "  1.03927959516518,\n",
              "  1.2580820874297476,\n",
              "  1.0138679250442206,\n",
              "  1.5156096612271954,\n",
              "  1.4651359766197085,\n",
              "  1.5484087229904584]]"
            ]
          },
          "metadata": {
            "tags": []
          },
          "execution_count": 31
        }
      ]
    }
  ]
}