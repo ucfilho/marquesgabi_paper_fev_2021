{
  "nbformat": 4,
  "nbformat_minor": 0,
  "metadata": {
    "colab": {
      "name": "PSD_histogram_CNN_B_r_squared_jun_23_2021.ipynb",
      "provenance": [],
      "collapsed_sections": [],
      "include_colab_link": true
    },
    "kernelspec": {
      "name": "python3",
      "display_name": "Python 3"
    }
  },
  "cells": [
    {
      "cell_type": "markdown",
      "metadata": {
        "id": "view-in-github",
        "colab_type": "text"
      },
      "source": [
        "<a href=\"https://colab.research.google.com/github/ucfilho/marquesgabi_paper_fev_2021/blob/main/Qualificacao/Comparative_ANNs/ANN_%20better_resolution/PSD_histogram_CNN_B_r_squared_jun_23_2021.ipynb\" target=\"_parent\"><img src=\"https://colab.research.google.com/assets/colab-badge.svg\" alt=\"Open In Colab\"/></a>"
      ]
    },
    {
      "cell_type": "code",
      "metadata": {
        "id": "Sog7Z9pyhUD_"
      },
      "source": [
        "import matplotlib.pyplot as plt\n",
        "import numpy as np\n",
        "import cv2\n",
        "import zipfile\n",
        "#import random\n",
        "from random import randint\n",
        "from PIL import Image\n",
        "import re\n",
        "from sklearn.model_selection import train_test_split\n",
        "#import scikit-image\n",
        "import skimage\n",
        "import sklearn\n",
        "import pandas as pd\n",
        "from keras.models import Sequential\n",
        "from keras.layers import Dense, Activation, Conv2D, MaxPooling2D, Flatten, Dropout, BatchNormalization\n",
        "from sklearn.metrics import r2_score\n",
        "from google.colab import files"
      ],
      "execution_count": null,
      "outputs": []
    },
    {
      "cell_type": "code",
      "metadata": {
        "id": "uZEvJvfoibE4",
        "colab": {
          "base_uri": "https://localhost:8080/"
        },
        "outputId": "b2e907f7-b3c5-443f-bf6f-7b9dcb107db0"
      },
      "source": [
        "!pip install mahotas"
      ],
      "execution_count": null,
      "outputs": [
        {
          "output_type": "stream",
          "text": [
            "Collecting mahotas\n",
            "  Downloading mahotas-1.4.11-cp37-cp37m-manylinux2010_x86_64.whl (5.7 MB)\n",
            "\u001b[K     |████████████████████████████████| 5.7 MB 14.1 MB/s \n",
            "\u001b[?25hRequirement already satisfied: numpy in /usr/local/lib/python3.7/dist-packages (from mahotas) (1.19.5)\n",
            "Installing collected packages: mahotas\n",
            "Successfully installed mahotas-1.4.11\n"
          ],
          "name": "stdout"
        }
      ]
    },
    {
      "cell_type": "code",
      "metadata": {
        "id": "nf_a6PJ1iUnT"
      },
      "source": [
        "import mahotas.features.texture as mht\n",
        "import mahotas.features"
      ],
      "execution_count": null,
      "outputs": []
    },
    {
      "cell_type": "code",
      "metadata": {
        "id": "_VcTdaNVh9EE",
        "colab": {
          "base_uri": "https://localhost:8080/"
        },
        "outputId": "5e8300e3-6c0e-41d5-bff9-37f354cec049"
      },
      "source": [
        "!git clone https://github.com/ucfilho/marquesgabi_fev_2020 #clonar do Github\n",
        "%cd marquesgabi_fev_2020\n",
        "import Go2BlackWhite\n",
        "import Go2Mahotas"
      ],
      "execution_count": null,
      "outputs": [
        {
          "output_type": "stream",
          "text": [
            "Cloning into 'marquesgabi_fev_2020'...\n",
            "remote: Enumerating objects: 73, done.\u001b[K\n",
            "remote: Counting objects: 100% (73/73), done.\u001b[K\n",
            "remote: Compressing objects: 100% (71/71), done.\u001b[K\n",
            "remote: Total 73 (delta 37), reused 0 (delta 0), pack-reused 0\u001b[K\n",
            "Unpacking objects: 100% (73/73), done.\n",
            "/content/marquesgabi_fev_2020\n"
          ],
          "name": "stdout"
        }
      ]
    },
    {
      "cell_type": "code",
      "metadata": {
        "id": "1v7SRrc8mH2N",
        "colab": {
          "base_uri": "https://localhost:8080/"
        },
        "outputId": "e5329118-e37d-4e1e-f5c9-db35052d2aef"
      },
      "source": [
        "!git clone https://github.com/marquesgabi/Doutorado\n",
        "%cd Doutorado\n",
        "\n",
        "Transfere='Fotos_Grandes_3cdAmostra.zip'\n",
        "file_name = zipfile.ZipFile(Transfere, 'r')\n",
        "file_name.extractall()"
      ],
      "execution_count": null,
      "outputs": [
        {
          "output_type": "stream",
          "text": [
            "Cloning into 'Doutorado'...\n",
            "remote: Enumerating objects: 365, done.\u001b[K\n",
            "remote: Counting objects: 100% (115/115), done.\u001b[K\n",
            "remote: Compressing objects: 100% (114/114), done.\u001b[K\n",
            "remote: Total 365 (delta 40), reused 0 (delta 0), pack-reused 250\u001b[K\n",
            "Receiving objects: 100% (365/365), 165.37 MiB | 16.42 MiB/s, done.\n",
            "Resolving deltas: 100% (163/163), done.\n",
            "/content/marquesgabi_fev_2020/Doutorado\n"
          ],
          "name": "stdout"
        }
      ]
    },
    {
      "cell_type": "code",
      "metadata": {
        "id": "0kA4IWSmasoD"
      },
      "source": [
        "Size=1200 # tamanho da foto\n",
        "ww,img_name=Go2BlackWhite.BlackWhite(Transfere,Size) #Pegamos a primeira foto Grande\n",
        "img=ww[4] \n",
        "# this is the big image we want to segment \n",
        "# ww[0], change it if you want to segment another picture"
      ],
      "execution_count": null,
      "outputs": []
    },
    {
      "cell_type": "code",
      "metadata": {
        "id": "tHgqAnaFyCjp",
        "colab": {
          "base_uri": "https://localhost:8080/"
        },
        "outputId": "71755b1e-6853-4902-c979-1bf9306c2ff0"
      },
      "source": [
        "!git clone https://github.com/ucfilho/MarquesGabi_Routines\n",
        "%cd MarquesGabi_Routines"
      ],
      "execution_count": null,
      "outputs": [
        {
          "output_type": "stream",
          "text": [
            "Cloning into 'MarquesGabi_Routines'...\n",
            "remote: Enumerating objects: 163, done.\u001b[K\n",
            "remote: Counting objects: 100% (163/163), done.\u001b[K\n",
            "remote: Compressing objects: 100% (161/161), done.\u001b[K\n",
            "remote: Total 163 (delta 65), reused 0 (delta 0), pack-reused 0\u001b[K\n",
            "Receiving objects: 100% (163/163), 211.71 MiB | 21.70 MiB/s, done.\n",
            "Resolving deltas: 100% (65/65), done.\n",
            "Checking out files: 100% (46/46), done.\n",
            "/content/marquesgabi_fev_2020/Doutorado/MarquesGabi_Routines\n"
          ],
          "name": "stdout"
        }
      ]
    },
    {
      "cell_type": "code",
      "metadata": {
        "id": "qc4rFvzkyWCi"
      },
      "source": [
        "from segment_filter_not_conclude import Segmenta  # got image provided segmented"
      ],
      "execution_count": null,
      "outputs": []
    },
    {
      "cell_type": "code",
      "metadata": {
        "id": "SnTtH3KDP863"
      },
      "source": [
        "df=Segmenta(img)\n",
        "Img_Size = 28"
      ],
      "execution_count": null,
      "outputs": []
    },
    {
      "cell_type": "code",
      "metadata": {
        "id": "YN5MN5a_v4np",
        "colab": {
          "base_uri": "https://localhost:8080/"
        },
        "outputId": "0245a475-a99d-4ef0-f490-7bd36e0ff19b"
      },
      "source": [
        "print(df)"
      ],
      "execution_count": null,
      "outputs": [
        {
          "output_type": "stream",
          "text": [
            "    Width           0           1  ...         781         782         783\n",
            "0     169  148.459702  144.008743  ...    1.678337    0.905991    0.194111\n",
            "1     131  129.627472  132.874954  ...  140.929489  140.702515  142.926743\n",
            "2     115  151.296402  158.510452  ...  153.334579  162.392426  170.470001\n",
            "3     117  148.841766  137.787781  ...  201.365479  202.481339  185.461548\n",
            "4     193  123.784027  144.643372  ...  131.337830  118.064262  108.706863\n",
            "5     196  186.387756  187.204071  ...  150.857147  148.551010  145.040817\n",
            "6     130  123.551254  128.767807  ...    5.760236   74.263901  125.439774\n",
            "7     107  130.404922  131.528870  ...  149.418198  148.958954  149.312531\n",
            "8     134    2.943640   45.607040  ...   46.423256   20.918243   18.400089\n",
            "9     134  195.728455  207.188461  ...  185.331039  183.144806  185.807739\n",
            "10    189  142.581619  149.588486  ...  116.657066  116.108368  109.320992\n",
            "11    162  179.211411  234.431351  ...    0.114617    1.375553    1.023472\n",
            "12    112  165.000000  165.500000  ...  145.500000  136.562500  156.312500\n",
            "13    100  206.337616  203.593582  ...  198.768005  197.393616  207.998413\n",
            "14    193    1.316707    1.347794  ...    0.000000    0.801579    1.016779\n",
            "15    126  156.691376  162.222229  ...  206.037048  187.938293  185.098770\n",
            "16    193  161.208389  139.615631  ...    1.428441    0.209214    1.329995\n",
            "17    156  162.934265  166.226837  ...   60.973701   38.470745   63.986198\n",
            "18    109  171.527893  167.460556  ...  205.561554  184.145691  161.293579\n",
            "19    135  140.236816  148.532990  ...   76.886688  103.345726  124.264908\n",
            "20    195  148.643234  157.687897  ...  163.654953  174.505081  186.616943\n",
            "21    148  219.888229  225.510605  ...  175.228653  178.073792  187.325790\n",
            "22    197  131.580139  134.069077  ...  191.337952  177.646301  132.494247\n",
            "23    151  133.573761  140.450912  ...    0.623788    0.332398    1.405245\n",
            "24    121  135.174789  130.370193  ...  180.318695  180.081192  180.073700\n",
            "25    117  125.398499  131.021698  ...  158.682068  156.724091  155.225662\n",
            "26    177  143.404404  155.051437  ...    1.163970    0.189569    1.366434\n",
            "27    126  159.901230  148.098770  ...  139.234573  133.370361  133.839523\n",
            "28    182  213.224869  218.550308  ...  112.319534   94.159767   92.834328\n",
            "29    111   79.000000   79.429672  ...    0.004545    0.824852    1.568136\n",
            "30    140   51.079998   52.759998  ...  131.399994  143.440002  167.800003\n",
            "31    180  171.714081  158.395081  ...  147.759018  147.076065  144.948654\n",
            "32    198  192.556351   66.796135  ...    1.474543    0.200184    1.294153\n",
            "33    110  129.985458  133.440002  ...  110.373878  101.778503   17.603966\n",
            "34    128  140.275391  139.227539  ...   93.503906   98.175781  105.844727\n",
            "35    196  183.857132  184.061218  ...  160.469391  158.448975  137.551010\n",
            "36    180  218.954086  223.041977  ...  166.363968  166.643478  180.250381\n",
            "37    133  125.853188  127.432129  ...   72.041550   69.385040   68.260391\n",
            "38    155  203.194626  186.736618  ...   91.821274   86.353348  102.190765\n",
            "39    122   61.109108   54.274384  ...  154.509262  153.406876  153.030624\n",
            "40    138   59.577187  151.930893  ...  129.417786  125.837219  130.850037\n",
            "41    172  133.989716  110.487297  ...  110.514877  129.980530  139.127090\n",
            "42    124  106.278862  105.620178  ...   33.408947  114.142548  148.078033\n",
            "43    181  150.836395  148.426270  ...    1.230060    0.129025    1.333323\n",
            "44    161    0.922495    0.124764  ...   95.491501   94.138000   72.266541\n",
            "45    116  112.431625  150.463745  ...  106.028534  106.871582  101.519615\n",
            "46    108  159.903976  163.489716  ...  138.300415  148.796967  157.725647\n",
            "47    109    0.743119    1.458716  ...   57.854889   61.271355   64.830994\n",
            "48    102  186.403320  191.774323  ...   79.660904  123.832001  156.922348\n",
            "49    139  157.585938  162.410233  ...    0.421873    0.450649    1.443455\n",
            "\n",
            "[50 rows x 785 columns]\n"
          ],
          "name": "stdout"
        }
      ]
    },
    {
      "cell_type": "code",
      "metadata": {
        "id": "xzpQ1Pz0fX5L",
        "colab": {
          "base_uri": "https://localhost:8080/",
          "height": 52
        },
        "outputId": "9c58e3b8-d4d4-4649-8658-f8f90a6bfd6d"
      },
      "source": [
        "'''\n",
        "!git clone https://github.com/ucfilho/MarquesGabi_Routines\n",
        "%cd MarquesGabi_Routines\n",
        "# filename = 'model_ANN.pkl'\n",
        "filename = 'model_ANN_new.pkl'\n",
        "model = joblib.load(filename)\n",
        "'''"
      ],
      "execution_count": null,
      "outputs": [
        {
          "output_type": "execute_result",
          "data": {
            "application/vnd.google.colaboratory.intrinsic+json": {
              "type": "string"
            },
            "text/plain": [
              "\"\\n!git clone https://github.com/ucfilho/MarquesGabi_Routines\\n%cd MarquesGabi_Routines\\n# filename = 'model_ANN.pkl'\\nfilename = 'model_ANN_new.pkl'\\nmodel = joblib.load(filename)\\n\""
            ]
          },
          "metadata": {
            "tags": []
          },
          "execution_count": 11
        }
      ]
    },
    {
      "cell_type": "code",
      "metadata": {
        "colab": {
          "base_uri": "https://localhost:8080/"
        },
        "id": "xR2emP4rNjQy",
        "outputId": "6d7e0a84-9005-4f07-a5f5-26f1416a3dd8"
      },
      "source": [
        "!git clone https://github.com/ucfilho/MarquesGabi_Routines\n",
        "%cd MarquesGabi_Routines"
      ],
      "execution_count": null,
      "outputs": [
        {
          "output_type": "stream",
          "text": [
            "Cloning into 'MarquesGabi_Routines'...\n",
            "remote: Enumerating objects: 163, done.\u001b[K\n",
            "remote: Counting objects: 100% (163/163), done.\u001b[K\n",
            "remote: Compressing objects: 100% (161/161), done.\u001b[K\n",
            "remote: Total 163 (delta 65), reused 0 (delta 0), pack-reused 0\u001b[K\n",
            "Receiving objects: 100% (163/163), 211.71 MiB | 21.28 MiB/s, done.\n",
            "Resolving deltas: 100% (65/65), done.\n",
            "Checking out files: 100% (46/46), done.\n",
            "/content/marquesgabi_fev_2020/Doutorado/MarquesGabi_Routines/MarquesGabi_Routines\n"
          ],
          "name": "stdout"
        }
      ]
    },
    {
      "cell_type": "code",
      "metadata": {
        "id": "O6cMHOrlNliO"
      },
      "source": [
        "# leitura dos dados\n",
        "df=pd.read_excel(\"FotosTreinoRede.xlsx\")\n",
        "y = df['y']\n",
        "df.drop(['Unnamed: 0','y'], axis='columns', inplace=True)"
      ],
      "execution_count": null,
      "outputs": []
    },
    {
      "cell_type": "code",
      "metadata": {
        "id": "zQO8d2QbNqj0"
      },
      "source": [
        "X =np.array(df.copy())/255.0 \n",
        "\n",
        "\n",
        "X_train, X_test, Y_train, Y_test = train_test_split(X, y, test_size=0.30, shuffle=True, random_state=42)"
      ],
      "execution_count": null,
      "outputs": []
    },
    {
      "cell_type": "code",
      "metadata": {
        "id": "23iKv6bDPWQl"
      },
      "source": [
        "# helper\n",
        "def ynindicator(Y):\n",
        "  N = len(Y)\n",
        "  K = len(set(Y))\n",
        "  I = np.zeros((N, K))\n",
        "  I[np.arange(N), Y] = 1\n",
        "  return I\n",
        "\n",
        "def yback(Y_test):\n",
        "  nrow, ncol = Y_test.shape\n",
        "  y_class = np.zeros(nrow,dtype=int)\n",
        "  y_resp = Y_test\n",
        "  for k in range(nrow):\n",
        "    for kk in range(K):\n",
        "      if(y_resp[k,kk] == 1):\n",
        "        y_class[k] = kk\n",
        "  Y_test = y_class.copy()\n",
        "  return Y_test\n",
        "\n",
        "X_train = np.array(X_train)\n",
        "Y_train = np.array(Y_train)\n",
        "K = len(set(Y_train))\n",
        "\n",
        "X_train = X_train.reshape(-1, Img_Size, Img_Size, 1) / 255.0\n",
        "Y_train = Y_train.astype(np.int32)\n",
        "Y_train = ynindicator(Y_train)\n",
        "\n",
        "X_test = np.array(X_test )\n",
        "Y_test = np.array(Y_test)\n",
        "X_test = X_test.reshape(-1, Img_Size, Img_Size, 1) / 255.0\n",
        "Y_test = Y_test.astype(np.int32)\n",
        "Y_test = ynindicator(Y_test)\n",
        "\n",
        "# the model will be a sequence of layers\n",
        "\n",
        "Description = '3 layers of Convolution: 32, 64, 128 '\n",
        "N1 = 200\n",
        "N2 = 10\n",
        "\n",
        "# make the CNN\n",
        "model = Sequential()\n",
        "model.add(Conv2D(input_shape=(Img_Size, Img_Size, 1), filters=32, kernel_size=(3, 3)))\n",
        "model.add(BatchNormalization())\n",
        "model.add(Activation('relu'))\n",
        "model.add(MaxPooling2D())\n",
        "\n",
        "model.add(Conv2D(filters=64, kernel_size=(3, 3)))\n",
        "model.add(BatchNormalization())\n",
        "model.add(Activation('relu'))\n",
        "model.add(MaxPooling2D())\n",
        "\n",
        "model.add(Conv2D(filters=128, kernel_size=(3, 3)))\n",
        "model.add(BatchNormalization())\n",
        "model.add(Activation('relu'))\n",
        "model.add(MaxPooling2D())\n",
        "\n",
        "model.add(Flatten())\n",
        "model.add(Dense(units=N1))\n",
        "model.add(Dropout(0.2))\n",
        "model.add(Dense(units=N2))\n",
        "model.add(Activation('relu'))\n",
        "#model.add(Dropout(0.2))\n",
        "model.add(Dense(units=K))\n",
        "model.add(Activation('softmax'))\n",
        "\n",
        "\n",
        "# list of losses: https://keras.io/losses/\n",
        "# list of optimizers: https://keras.io/optimizers/\n",
        "# list of metrics: https://keras.io/metrics/\n",
        "model.compile(\n",
        "  loss='categorical_crossentropy',\n",
        "  optimizer='adam',\n",
        "  metrics=['accuracy']\n",
        ")"
      ],
      "execution_count": null,
      "outputs": []
    },
    {
      "cell_type": "code",
      "metadata": {
        "colab": {
          "base_uri": "https://localhost:8080/"
        },
        "id": "FpbPQ1FSRG6A",
        "outputId": "92f1b3ce-cd1e-4a26-ef55-80239463e28f"
      },
      "source": [
        "\n",
        "# training the model\n",
        "r = model.fit(X_train, Y_train, validation_data=(X_test,Y_test), \n",
        "              epochs=200, batch_size=32)"
      ],
      "execution_count": null,
      "outputs": [
        {
          "output_type": "stream",
          "text": [
            "Epoch 1/200\n",
            "11/11 [==============================] - 20s 131ms/step - loss: 0.5424 - accuracy: 0.6991 - val_loss: 0.6929 - val_accuracy: 0.5102\n",
            "Epoch 2/200\n",
            "11/11 [==============================] - 1s 47ms/step - loss: 0.2885 - accuracy: 0.8470 - val_loss: 0.6929 - val_accuracy: 0.5102\n",
            "Epoch 3/200\n",
            "11/11 [==============================] - 1s 48ms/step - loss: 0.1933 - accuracy: 0.9137 - val_loss: 0.6935 - val_accuracy: 0.5102\n",
            "Epoch 4/200\n",
            "11/11 [==============================] - 1s 47ms/step - loss: 0.1165 - accuracy: 0.9449 - val_loss: 0.6946 - val_accuracy: 0.5102\n",
            "Epoch 5/200\n",
            "11/11 [==============================] - 1s 48ms/step - loss: 0.0836 - accuracy: 0.9648 - val_loss: 0.6943 - val_accuracy: 0.5102\n",
            "Epoch 6/200\n",
            "11/11 [==============================] - 1s 49ms/step - loss: 0.0409 - accuracy: 0.9850 - val_loss: 0.6936 - val_accuracy: 0.5102\n",
            "Epoch 7/200\n",
            "11/11 [==============================] - 1s 47ms/step - loss: 0.0511 - accuracy: 0.9850 - val_loss: 0.6940 - val_accuracy: 0.5102\n",
            "Epoch 8/200\n",
            "11/11 [==============================] - 1s 48ms/step - loss: 0.0314 - accuracy: 0.9888 - val_loss: 0.6949 - val_accuracy: 0.5102\n",
            "Epoch 9/200\n",
            "11/11 [==============================] - 1s 48ms/step - loss: 0.0277 - accuracy: 0.9982 - val_loss: 0.6965 - val_accuracy: 0.5102\n",
            "Epoch 10/200\n",
            "11/11 [==============================] - 1s 49ms/step - loss: 0.0164 - accuracy: 0.9986 - val_loss: 0.6961 - val_accuracy: 0.5102\n",
            "Epoch 11/200\n",
            "11/11 [==============================] - 1s 48ms/step - loss: 0.0084 - accuracy: 0.9945 - val_loss: 0.6971 - val_accuracy: 0.5102\n",
            "Epoch 12/200\n",
            "11/11 [==============================] - 1s 47ms/step - loss: 0.0161 - accuracy: 0.9940 - val_loss: 0.6972 - val_accuracy: 0.5102\n",
            "Epoch 13/200\n",
            "11/11 [==============================] - 1s 51ms/step - loss: 0.0277 - accuracy: 0.9897 - val_loss: 0.6957 - val_accuracy: 0.5102\n",
            "Epoch 14/200\n",
            "11/11 [==============================] - 1s 51ms/step - loss: 0.0441 - accuracy: 0.9877 - val_loss: 0.7009 - val_accuracy: 0.5102\n",
            "Epoch 15/200\n",
            "11/11 [==============================] - 1s 47ms/step - loss: 0.0205 - accuracy: 0.9920 - val_loss: 0.6981 - val_accuracy: 0.5102\n",
            "Epoch 16/200\n",
            "11/11 [==============================] - 1s 48ms/step - loss: 0.0166 - accuracy: 0.9983 - val_loss: 0.7118 - val_accuracy: 0.5102\n",
            "Epoch 17/200\n",
            "11/11 [==============================] - 1s 49ms/step - loss: 0.0199 - accuracy: 0.9944 - val_loss: 0.7154 - val_accuracy: 0.5102\n",
            "Epoch 18/200\n",
            "11/11 [==============================] - 1s 50ms/step - loss: 0.0019 - accuracy: 1.0000 - val_loss: 0.7053 - val_accuracy: 0.5102\n",
            "Epoch 19/200\n",
            "11/11 [==============================] - 1s 47ms/step - loss: 0.0063 - accuracy: 0.9958 - val_loss: 0.7121 - val_accuracy: 0.5102\n",
            "Epoch 20/200\n",
            "11/11 [==============================] - 1s 47ms/step - loss: 0.0085 - accuracy: 0.9958 - val_loss: 0.7067 - val_accuracy: 0.5102\n",
            "Epoch 21/200\n",
            "11/11 [==============================] - 1s 48ms/step - loss: 0.0157 - accuracy: 0.9908 - val_loss: 0.6972 - val_accuracy: 0.5102\n",
            "Epoch 22/200\n",
            "11/11 [==============================] - 1s 49ms/step - loss: 0.0077 - accuracy: 0.9985 - val_loss: 0.7032 - val_accuracy: 0.5102\n",
            "Epoch 23/200\n",
            "11/11 [==============================] - 1s 49ms/step - loss: 0.0658 - accuracy: 0.9861 - val_loss: 0.6935 - val_accuracy: 0.5102\n",
            "Epoch 24/200\n",
            "11/11 [==============================] - 1s 49ms/step - loss: 0.0261 - accuracy: 0.9892 - val_loss: 0.7372 - val_accuracy: 0.5102\n",
            "Epoch 25/200\n",
            "11/11 [==============================] - 1s 49ms/step - loss: 0.0028 - accuracy: 1.0000 - val_loss: 0.7704 - val_accuracy: 0.5102\n",
            "Epoch 26/200\n",
            "11/11 [==============================] - 1s 50ms/step - loss: 0.0030 - accuracy: 1.0000 - val_loss: 0.7257 - val_accuracy: 0.5102\n",
            "Epoch 27/200\n",
            "11/11 [==============================] - 1s 48ms/step - loss: 0.0040 - accuracy: 1.0000 - val_loss: 0.7173 - val_accuracy: 0.5102\n",
            "Epoch 28/200\n",
            "11/11 [==============================] - 1s 49ms/step - loss: 0.0020 - accuracy: 1.0000 - val_loss: 0.7152 - val_accuracy: 0.5102\n",
            "Epoch 29/200\n",
            "11/11 [==============================] - 1s 48ms/step - loss: 0.0064 - accuracy: 0.9958 - val_loss: 0.7223 - val_accuracy: 0.5102\n",
            "Epoch 30/200\n",
            "11/11 [==============================] - 1s 49ms/step - loss: 0.0010 - accuracy: 1.0000 - val_loss: 0.7655 - val_accuracy: 0.5102\n",
            "Epoch 31/200\n",
            "11/11 [==============================] - 1s 50ms/step - loss: 0.0019 - accuracy: 0.9993 - val_loss: 0.8207 - val_accuracy: 0.5102\n",
            "Epoch 32/200\n",
            "11/11 [==============================] - 1s 49ms/step - loss: 0.0017 - accuracy: 0.9983 - val_loss: 0.9012 - val_accuracy: 0.5102\n",
            "Epoch 33/200\n",
            "11/11 [==============================] - 1s 50ms/step - loss: 0.0093 - accuracy: 0.9983 - val_loss: 0.8821 - val_accuracy: 0.5102\n",
            "Epoch 34/200\n",
            "11/11 [==============================] - 1s 49ms/step - loss: 0.0127 - accuracy: 0.9978 - val_loss: 0.8169 - val_accuracy: 0.5102\n",
            "Epoch 35/200\n",
            "11/11 [==============================] - 1s 50ms/step - loss: 0.0049 - accuracy: 1.0000 - val_loss: 1.1410 - val_accuracy: 0.5102\n",
            "Epoch 36/200\n",
            "11/11 [==============================] - 1s 48ms/step - loss: 0.0020 - accuracy: 1.0000 - val_loss: 0.8680 - val_accuracy: 0.5102\n",
            "Epoch 37/200\n",
            "11/11 [==============================] - 1s 51ms/step - loss: 7.3306e-04 - accuracy: 1.0000 - val_loss: 0.7563 - val_accuracy: 0.5102\n",
            "Epoch 38/200\n",
            "11/11 [==============================] - 1s 48ms/step - loss: 0.0163 - accuracy: 0.9953 - val_loss: 0.9381 - val_accuracy: 0.5102\n",
            "Epoch 39/200\n",
            "11/11 [==============================] - 1s 50ms/step - loss: 0.0073 - accuracy: 0.9983 - val_loss: 1.4863 - val_accuracy: 0.5102\n",
            "Epoch 40/200\n",
            "11/11 [==============================] - 1s 48ms/step - loss: 0.0017 - accuracy: 0.9993 - val_loss: 1.9960 - val_accuracy: 0.5102\n",
            "Epoch 41/200\n",
            "11/11 [==============================] - 1s 50ms/step - loss: 9.6603e-04 - accuracy: 1.0000 - val_loss: 3.0640 - val_accuracy: 0.5102\n",
            "Epoch 42/200\n",
            "11/11 [==============================] - 1s 48ms/step - loss: 0.0029 - accuracy: 0.9986 - val_loss: 3.0759 - val_accuracy: 0.5102\n",
            "Epoch 43/200\n",
            "11/11 [==============================] - 1s 49ms/step - loss: 0.0015 - accuracy: 1.0000 - val_loss: 3.4191 - val_accuracy: 0.5102\n",
            "Epoch 44/200\n",
            "11/11 [==============================] - 1s 49ms/step - loss: 0.0026 - accuracy: 1.0000 - val_loss: 5.3025 - val_accuracy: 0.5102\n",
            "Epoch 45/200\n",
            "11/11 [==============================] - 1s 50ms/step - loss: 0.0022 - accuracy: 1.0000 - val_loss: 6.0449 - val_accuracy: 0.5102\n",
            "Epoch 46/200\n",
            "11/11 [==============================] - 1s 48ms/step - loss: 0.0013 - accuracy: 1.0000 - val_loss: 5.0195 - val_accuracy: 0.5102\n",
            "Epoch 47/200\n",
            "11/11 [==============================] - 1s 49ms/step - loss: 0.0018 - accuracy: 1.0000 - val_loss: 5.5027 - val_accuracy: 0.5102\n",
            "Epoch 48/200\n",
            "11/11 [==============================] - 1s 50ms/step - loss: 1.1281e-04 - accuracy: 1.0000 - val_loss: 5.8225 - val_accuracy: 0.5102\n",
            "Epoch 49/200\n",
            "11/11 [==============================] - 1s 50ms/step - loss: 1.1020e-04 - accuracy: 1.0000 - val_loss: 5.9692 - val_accuracy: 0.5102\n",
            "Epoch 50/200\n",
            "11/11 [==============================] - 1s 49ms/step - loss: 0.0027 - accuracy: 1.0000 - val_loss: 6.0200 - val_accuracy: 0.5102\n",
            "Epoch 51/200\n",
            "11/11 [==============================] - 1s 49ms/step - loss: 3.2045e-04 - accuracy: 1.0000 - val_loss: 7.1857 - val_accuracy: 0.5102\n",
            "Epoch 52/200\n",
            "11/11 [==============================] - 1s 50ms/step - loss: 2.6379e-04 - accuracy: 1.0000 - val_loss: 7.7809 - val_accuracy: 0.5102\n",
            "Epoch 53/200\n",
            "11/11 [==============================] - 1s 49ms/step - loss: 1.6459e-04 - accuracy: 1.0000 - val_loss: 8.0584 - val_accuracy: 0.5102\n",
            "Epoch 54/200\n",
            "11/11 [==============================] - 1s 51ms/step - loss: 8.6116e-05 - accuracy: 1.0000 - val_loss: 8.2245 - val_accuracy: 0.5102\n",
            "Epoch 55/200\n",
            "11/11 [==============================] - 1s 50ms/step - loss: 5.2792e-05 - accuracy: 1.0000 - val_loss: 8.2309 - val_accuracy: 0.5102\n",
            "Epoch 56/200\n",
            "11/11 [==============================] - 1s 51ms/step - loss: 1.2040e-04 - accuracy: 1.0000 - val_loss: 8.1345 - val_accuracy: 0.5102\n",
            "Epoch 57/200\n",
            "11/11 [==============================] - 1s 50ms/step - loss: 1.2933e-04 - accuracy: 1.0000 - val_loss: 8.0621 - val_accuracy: 0.5102\n",
            "Epoch 58/200\n",
            "11/11 [==============================] - 1s 50ms/step - loss: 3.5173e-05 - accuracy: 1.0000 - val_loss: 8.1202 - val_accuracy: 0.5102\n",
            "Epoch 59/200\n",
            "11/11 [==============================] - 1s 50ms/step - loss: 5.1862e-05 - accuracy: 1.0000 - val_loss: 7.9933 - val_accuracy: 0.5102\n",
            "Epoch 60/200\n",
            "11/11 [==============================] - 1s 50ms/step - loss: 4.1012e-04 - accuracy: 1.0000 - val_loss: 7.4929 - val_accuracy: 0.5102\n",
            "Epoch 61/200\n",
            "11/11 [==============================] - 1s 50ms/step - loss: 1.1233e-04 - accuracy: 1.0000 - val_loss: 7.1954 - val_accuracy: 0.5102\n",
            "Epoch 62/200\n",
            "11/11 [==============================] - 1s 49ms/step - loss: 3.4092e-04 - accuracy: 1.0000 - val_loss: 6.8804 - val_accuracy: 0.5102\n",
            "Epoch 63/200\n",
            "11/11 [==============================] - 1s 51ms/step - loss: 2.6740e-05 - accuracy: 1.0000 - val_loss: 6.5921 - val_accuracy: 0.5102\n",
            "Epoch 64/200\n",
            "11/11 [==============================] - 1s 50ms/step - loss: 4.3558e-05 - accuracy: 1.0000 - val_loss: 6.3042 - val_accuracy: 0.5102\n",
            "Epoch 65/200\n",
            "11/11 [==============================] - 1s 50ms/step - loss: 1.5743e-04 - accuracy: 1.0000 - val_loss: 5.8662 - val_accuracy: 0.5102\n",
            "Epoch 66/200\n",
            "11/11 [==============================] - 1s 49ms/step - loss: 4.8649e-05 - accuracy: 1.0000 - val_loss: 5.4872 - val_accuracy: 0.5102\n",
            "Epoch 67/200\n",
            "11/11 [==============================] - 1s 50ms/step - loss: 3.8640e-05 - accuracy: 1.0000 - val_loss: 5.1831 - val_accuracy: 0.5102\n",
            "Epoch 68/200\n",
            "11/11 [==============================] - 1s 49ms/step - loss: 5.0690e-05 - accuracy: 1.0000 - val_loss: 5.0007 - val_accuracy: 0.5102\n",
            "Epoch 69/200\n",
            "11/11 [==============================] - 1s 50ms/step - loss: 2.5069e-04 - accuracy: 1.0000 - val_loss: 3.1511 - val_accuracy: 0.5306\n",
            "Epoch 70/200\n",
            "11/11 [==============================] - 1s 49ms/step - loss: 8.7251e-05 - accuracy: 1.0000 - val_loss: 1.7178 - val_accuracy: 0.6463\n",
            "Epoch 71/200\n",
            "11/11 [==============================] - 1s 50ms/step - loss: 3.5372e-05 - accuracy: 1.0000 - val_loss: 1.1759 - val_accuracy: 0.6939\n",
            "Epoch 72/200\n",
            "11/11 [==============================] - 1s 52ms/step - loss: 1.9201e-04 - accuracy: 1.0000 - val_loss: 0.5618 - val_accuracy: 0.8231\n",
            "Epoch 73/200\n",
            "11/11 [==============================] - 1s 48ms/step - loss: 5.8527e-05 - accuracy: 1.0000 - val_loss: 0.3436 - val_accuracy: 0.8912\n",
            "Epoch 74/200\n",
            "11/11 [==============================] - 1s 50ms/step - loss: 4.0823e-05 - accuracy: 1.0000 - val_loss: 0.2608 - val_accuracy: 0.9116\n",
            "Epoch 75/200\n",
            "11/11 [==============================] - 1s 50ms/step - loss: 1.6378e-05 - accuracy: 1.0000 - val_loss: 0.2196 - val_accuracy: 0.9456\n",
            "Epoch 76/200\n",
            "11/11 [==============================] - 1s 50ms/step - loss: 9.4808e-05 - accuracy: 1.0000 - val_loss: 0.1988 - val_accuracy: 0.9456\n",
            "Epoch 77/200\n",
            "11/11 [==============================] - 1s 48ms/step - loss: 1.3686e-04 - accuracy: 1.0000 - val_loss: 0.1899 - val_accuracy: 0.9456\n",
            "Epoch 78/200\n",
            "11/11 [==============================] - 1s 51ms/step - loss: 3.5039e-05 - accuracy: 1.0000 - val_loss: 0.2068 - val_accuracy: 0.9524\n",
            "Epoch 79/200\n",
            "11/11 [==============================] - 1s 49ms/step - loss: 2.0912e-05 - accuracy: 1.0000 - val_loss: 0.2221 - val_accuracy: 0.9524\n",
            "Epoch 80/200\n",
            "11/11 [==============================] - 1s 51ms/step - loss: 1.8873e-04 - accuracy: 1.0000 - val_loss: 0.2553 - val_accuracy: 0.9388\n",
            "Epoch 81/200\n",
            "11/11 [==============================] - 1s 49ms/step - loss: 3.0634e-05 - accuracy: 1.0000 - val_loss: 0.2876 - val_accuracy: 0.9320\n",
            "Epoch 82/200\n",
            "11/11 [==============================] - 1s 50ms/step - loss: 2.3354e-05 - accuracy: 1.0000 - val_loss: 0.2894 - val_accuracy: 0.9252\n",
            "Epoch 83/200\n",
            "11/11 [==============================] - 1s 49ms/step - loss: 1.2137e-04 - accuracy: 1.0000 - val_loss: 0.2503 - val_accuracy: 0.9320\n",
            "Epoch 84/200\n",
            "11/11 [==============================] - 1s 50ms/step - loss: 3.8263e-05 - accuracy: 1.0000 - val_loss: 0.2154 - val_accuracy: 0.9456\n",
            "Epoch 85/200\n",
            "11/11 [==============================] - 1s 50ms/step - loss: 1.9264e-05 - accuracy: 1.0000 - val_loss: 0.2002 - val_accuracy: 0.9456\n",
            "Epoch 86/200\n",
            "11/11 [==============================] - 1s 49ms/step - loss: 3.2089e-05 - accuracy: 1.0000 - val_loss: 0.1931 - val_accuracy: 0.9592\n",
            "Epoch 87/200\n",
            "11/11 [==============================] - 1s 50ms/step - loss: 3.1718e-05 - accuracy: 1.0000 - val_loss: 0.2082 - val_accuracy: 0.9660\n",
            "Epoch 88/200\n",
            "11/11 [==============================] - 1s 49ms/step - loss: 9.9164e-06 - accuracy: 1.0000 - val_loss: 0.2258 - val_accuracy: 0.9660\n",
            "Epoch 89/200\n",
            "11/11 [==============================] - 1s 50ms/step - loss: 4.3080e-05 - accuracy: 1.0000 - val_loss: 0.2296 - val_accuracy: 0.9660\n",
            "Epoch 90/200\n",
            "11/11 [==============================] - 1s 48ms/step - loss: 7.7638e-06 - accuracy: 1.0000 - val_loss: 0.2340 - val_accuracy: 0.9660\n",
            "Epoch 91/200\n",
            "11/11 [==============================] - 1s 49ms/step - loss: 3.3793e-05 - accuracy: 1.0000 - val_loss: 0.2325 - val_accuracy: 0.9660\n",
            "Epoch 92/200\n",
            "11/11 [==============================] - 1s 50ms/step - loss: 2.0899e-05 - accuracy: 1.0000 - val_loss: 0.2208 - val_accuracy: 0.9728\n",
            "Epoch 93/200\n",
            "11/11 [==============================] - 1s 53ms/step - loss: 5.8896e-05 - accuracy: 1.0000 - val_loss: 0.2169 - val_accuracy: 0.9660\n",
            "Epoch 94/200\n",
            "11/11 [==============================] - 1s 50ms/step - loss: 1.5313e-05 - accuracy: 1.0000 - val_loss: 0.2217 - val_accuracy: 0.9660\n",
            "Epoch 95/200\n",
            "11/11 [==============================] - 1s 49ms/step - loss: 2.5039e-05 - accuracy: 1.0000 - val_loss: 0.1995 - val_accuracy: 0.9728\n",
            "Epoch 96/200\n",
            "11/11 [==============================] - 1s 49ms/step - loss: 2.1258e-04 - accuracy: 1.0000 - val_loss: 0.2004 - val_accuracy: 0.9660\n",
            "Epoch 97/200\n",
            "11/11 [==============================] - 1s 51ms/step - loss: 1.9131e-05 - accuracy: 1.0000 - val_loss: 0.1872 - val_accuracy: 0.9524\n",
            "Epoch 98/200\n",
            "11/11 [==============================] - 1s 51ms/step - loss: 1.5848e-05 - accuracy: 1.0000 - val_loss: 0.1949 - val_accuracy: 0.9524\n",
            "Epoch 99/200\n",
            "11/11 [==============================] - 1s 50ms/step - loss: 2.2060e-05 - accuracy: 1.0000 - val_loss: 0.2171 - val_accuracy: 0.9524\n",
            "Epoch 100/200\n",
            "11/11 [==============================] - 1s 50ms/step - loss: 1.7996e-05 - accuracy: 1.0000 - val_loss: 0.2264 - val_accuracy: 0.9592\n",
            "Epoch 101/200\n",
            "11/11 [==============================] - 1s 50ms/step - loss: 9.6551e-06 - accuracy: 1.0000 - val_loss: 0.2362 - val_accuracy: 0.9660\n",
            "Epoch 102/200\n",
            "11/11 [==============================] - 1s 50ms/step - loss: 2.3298e-05 - accuracy: 1.0000 - val_loss: 0.2775 - val_accuracy: 0.9524\n",
            "Epoch 103/200\n",
            "11/11 [==============================] - 1s 49ms/step - loss: 9.3711e-06 - accuracy: 1.0000 - val_loss: 0.3118 - val_accuracy: 0.9524\n",
            "Epoch 104/200\n",
            "11/11 [==============================] - 1s 50ms/step - loss: 1.2275e-05 - accuracy: 1.0000 - val_loss: 0.3224 - val_accuracy: 0.9524\n",
            "Epoch 105/200\n",
            "11/11 [==============================] - 1s 52ms/step - loss: 2.5795e-05 - accuracy: 1.0000 - val_loss: 0.3301 - val_accuracy: 0.9524\n",
            "Epoch 106/200\n",
            "11/11 [==============================] - 1s 51ms/step - loss: 9.5602e-06 - accuracy: 1.0000 - val_loss: 0.3402 - val_accuracy: 0.9524\n",
            "Epoch 107/200\n",
            "11/11 [==============================] - 1s 51ms/step - loss: 2.1417e-05 - accuracy: 1.0000 - val_loss: 0.3421 - val_accuracy: 0.9456\n",
            "Epoch 108/200\n",
            "11/11 [==============================] - 1s 52ms/step - loss: 1.3050e-04 - accuracy: 1.0000 - val_loss: 0.3084 - val_accuracy: 0.9456\n",
            "Epoch 109/200\n",
            "11/11 [==============================] - 1s 50ms/step - loss: 3.3065e-05 - accuracy: 1.0000 - val_loss: 0.2982 - val_accuracy: 0.9456\n",
            "Epoch 110/200\n",
            "11/11 [==============================] - 1s 50ms/step - loss: 7.4575e-06 - accuracy: 1.0000 - val_loss: 0.2918 - val_accuracy: 0.9456\n",
            "Epoch 111/200\n",
            "11/11 [==============================] - 1s 52ms/step - loss: 5.3908e-06 - accuracy: 1.0000 - val_loss: 0.2829 - val_accuracy: 0.9524\n",
            "Epoch 112/200\n",
            "11/11 [==============================] - 1s 54ms/step - loss: 1.5160e-05 - accuracy: 1.0000 - val_loss: 0.2838 - val_accuracy: 0.9524\n",
            "Epoch 113/200\n",
            "11/11 [==============================] - 1s 50ms/step - loss: 2.5754e-05 - accuracy: 1.0000 - val_loss: 0.2883 - val_accuracy: 0.9592\n",
            "Epoch 114/200\n",
            "11/11 [==============================] - 1s 50ms/step - loss: 1.6367e-05 - accuracy: 1.0000 - val_loss: 0.2858 - val_accuracy: 0.9524\n",
            "Epoch 115/200\n",
            "11/11 [==============================] - 1s 51ms/step - loss: 4.2950e-06 - accuracy: 1.0000 - val_loss: 0.2852 - val_accuracy: 0.9524\n",
            "Epoch 116/200\n",
            "11/11 [==============================] - 1s 50ms/step - loss: 1.3689e-05 - accuracy: 1.0000 - val_loss: 0.2822 - val_accuracy: 0.9524\n",
            "Epoch 117/200\n",
            "11/11 [==============================] - 1s 50ms/step - loss: 8.8882e-05 - accuracy: 1.0000 - val_loss: 0.1345 - val_accuracy: 0.9660\n",
            "Epoch 118/200\n",
            "11/11 [==============================] - 1s 51ms/step - loss: 1.0447e-05 - accuracy: 1.0000 - val_loss: 0.8716 - val_accuracy: 0.7959\n",
            "Epoch 119/200\n",
            "11/11 [==============================] - 1s 52ms/step - loss: 7.1846e-06 - accuracy: 1.0000 - val_loss: 1.0217 - val_accuracy: 0.7619\n",
            "Epoch 120/200\n",
            "11/11 [==============================] - 1s 51ms/step - loss: 6.1459e-06 - accuracy: 1.0000 - val_loss: 0.8071 - val_accuracy: 0.8095\n",
            "Epoch 121/200\n",
            "11/11 [==============================] - 1s 50ms/step - loss: 3.1592e-05 - accuracy: 1.0000 - val_loss: 0.3418 - val_accuracy: 0.8844\n",
            "Epoch 122/200\n",
            "11/11 [==============================] - 1s 53ms/step - loss: 1.1568e-05 - accuracy: 1.0000 - val_loss: 0.1548 - val_accuracy: 0.9524\n",
            "Epoch 123/200\n",
            "11/11 [==============================] - 1s 50ms/step - loss: 7.3063e-06 - accuracy: 1.0000 - val_loss: 0.1271 - val_accuracy: 0.9796\n",
            "Epoch 124/200\n",
            "11/11 [==============================] - 1s 51ms/step - loss: 2.4214e-05 - accuracy: 1.0000 - val_loss: 0.1323 - val_accuracy: 0.9796\n",
            "Epoch 125/200\n",
            "11/11 [==============================] - 1s 54ms/step - loss: 8.3321e-06 - accuracy: 1.0000 - val_loss: 0.1326 - val_accuracy: 0.9796\n",
            "Epoch 126/200\n",
            "11/11 [==============================] - 1s 51ms/step - loss: 4.2173e-06 - accuracy: 1.0000 - val_loss: 0.1440 - val_accuracy: 0.9728\n",
            "Epoch 127/200\n",
            "11/11 [==============================] - 1s 51ms/step - loss: 1.4460e-05 - accuracy: 1.0000 - val_loss: 0.1738 - val_accuracy: 0.9728\n",
            "Epoch 128/200\n",
            "11/11 [==============================] - 1s 51ms/step - loss: 3.1127e-06 - accuracy: 1.0000 - val_loss: 0.2056 - val_accuracy: 0.9660\n",
            "Epoch 129/200\n",
            "11/11 [==============================] - 1s 51ms/step - loss: 7.9943e-06 - accuracy: 1.0000 - val_loss: 0.2325 - val_accuracy: 0.9592\n",
            "Epoch 130/200\n",
            "11/11 [==============================] - 1s 51ms/step - loss: 2.0527e-04 - accuracy: 1.0000 - val_loss: 0.1498 - val_accuracy: 0.9660\n",
            "Epoch 131/200\n",
            "11/11 [==============================] - 1s 50ms/step - loss: 2.5113e-05 - accuracy: 1.0000 - val_loss: 0.1461 - val_accuracy: 0.9660\n",
            "Epoch 132/200\n",
            "11/11 [==============================] - 1s 52ms/step - loss: 4.0310e-05 - accuracy: 1.0000 - val_loss: 0.1406 - val_accuracy: 0.9660\n",
            "Epoch 133/200\n",
            "11/11 [==============================] - 1s 52ms/step - loss: 4.2952e-06 - accuracy: 1.0000 - val_loss: 0.1475 - val_accuracy: 0.9592\n",
            "Epoch 134/200\n",
            "11/11 [==============================] - 1s 51ms/step - loss: 1.0173e-05 - accuracy: 1.0000 - val_loss: 0.1397 - val_accuracy: 0.9660\n",
            "Epoch 135/200\n",
            "11/11 [==============================] - 1s 54ms/step - loss: 9.2186e-06 - accuracy: 1.0000 - val_loss: 0.1420 - val_accuracy: 0.9728\n",
            "Epoch 136/200\n",
            "11/11 [==============================] - 1s 51ms/step - loss: 9.3748e-06 - accuracy: 1.0000 - val_loss: 0.1519 - val_accuracy: 0.9660\n",
            "Epoch 137/200\n",
            "11/11 [==============================] - 1s 52ms/step - loss: 1.0894e-05 - accuracy: 1.0000 - val_loss: 0.1617 - val_accuracy: 0.9660\n",
            "Epoch 138/200\n",
            "11/11 [==============================] - 1s 51ms/step - loss: 2.0746e-05 - accuracy: 1.0000 - val_loss: 0.1511 - val_accuracy: 0.9660\n",
            "Epoch 139/200\n",
            "11/11 [==============================] - 1s 50ms/step - loss: 6.9456e-06 - accuracy: 1.0000 - val_loss: 0.1269 - val_accuracy: 0.9796\n",
            "Epoch 140/200\n",
            "11/11 [==============================] - 1s 52ms/step - loss: 3.6416e-06 - accuracy: 1.0000 - val_loss: 0.1317 - val_accuracy: 0.9864\n",
            "Epoch 141/200\n",
            "11/11 [==============================] - 1s 51ms/step - loss: 8.4310e-06 - accuracy: 1.0000 - val_loss: 0.1463 - val_accuracy: 0.9728\n",
            "Epoch 142/200\n",
            "11/11 [==============================] - 1s 51ms/step - loss: 1.4497e-05 - accuracy: 1.0000 - val_loss: 0.1563 - val_accuracy: 0.9728\n",
            "Epoch 143/200\n",
            "11/11 [==============================] - 1s 49ms/step - loss: 1.2812e-05 - accuracy: 1.0000 - val_loss: 0.1620 - val_accuracy: 0.9728\n",
            "Epoch 144/200\n",
            "11/11 [==============================] - 1s 53ms/step - loss: 2.4794e-06 - accuracy: 1.0000 - val_loss: 0.1698 - val_accuracy: 0.9728\n",
            "Epoch 145/200\n",
            "11/11 [==============================] - 1s 50ms/step - loss: 2.0942e-05 - accuracy: 1.0000 - val_loss: 0.1749 - val_accuracy: 0.9660\n",
            "Epoch 146/200\n",
            "11/11 [==============================] - 1s 51ms/step - loss: 3.0413e-05 - accuracy: 1.0000 - val_loss: 0.1893 - val_accuracy: 0.9796\n",
            "Epoch 147/200\n",
            "11/11 [==============================] - 1s 51ms/step - loss: 1.6194e-04 - accuracy: 1.0000 - val_loss: 0.1593 - val_accuracy: 0.9728\n",
            "Epoch 148/200\n",
            "11/11 [==============================] - 1s 50ms/step - loss: 3.5625e-06 - accuracy: 1.0000 - val_loss: 0.1755 - val_accuracy: 0.9660\n",
            "Epoch 149/200\n",
            "11/11 [==============================] - 1s 49ms/step - loss: 1.0452e-05 - accuracy: 1.0000 - val_loss: 0.1770 - val_accuracy: 0.9660\n",
            "Epoch 150/200\n",
            "11/11 [==============================] - 1s 49ms/step - loss: 1.4742e-05 - accuracy: 1.0000 - val_loss: 0.1669 - val_accuracy: 0.9660\n",
            "Epoch 151/200\n",
            "11/11 [==============================] - 1s 52ms/step - loss: 3.6079e-06 - accuracy: 1.0000 - val_loss: 0.1665 - val_accuracy: 0.9592\n",
            "Epoch 152/200\n",
            "11/11 [==============================] - 1s 49ms/step - loss: 5.0849e-06 - accuracy: 1.0000 - val_loss: 0.1610 - val_accuracy: 0.9592\n",
            "Epoch 153/200\n",
            "11/11 [==============================] - 1s 51ms/step - loss: 1.9354e-05 - accuracy: 1.0000 - val_loss: 0.1727 - val_accuracy: 0.9660\n",
            "Epoch 154/200\n",
            "11/11 [==============================] - 1s 50ms/step - loss: 1.5172e-05 - accuracy: 1.0000 - val_loss: 0.1746 - val_accuracy: 0.9660\n",
            "Epoch 155/200\n",
            "11/11 [==============================] - 1s 51ms/step - loss: 2.4340e-06 - accuracy: 1.0000 - val_loss: 0.1769 - val_accuracy: 0.9660\n",
            "Epoch 156/200\n",
            "11/11 [==============================] - 1s 49ms/step - loss: 9.3338e-06 - accuracy: 1.0000 - val_loss: 0.1762 - val_accuracy: 0.9660\n",
            "Epoch 157/200\n",
            "11/11 [==============================] - 1s 52ms/step - loss: 7.5919e-06 - accuracy: 1.0000 - val_loss: 0.1809 - val_accuracy: 0.9592\n",
            "Epoch 158/200\n",
            "11/11 [==============================] - 1s 52ms/step - loss: 1.1719e-05 - accuracy: 1.0000 - val_loss: 0.1804 - val_accuracy: 0.9592\n",
            "Epoch 159/200\n",
            "11/11 [==============================] - 1s 53ms/step - loss: 2.5570e-06 - accuracy: 1.0000 - val_loss: 0.1832 - val_accuracy: 0.9592\n",
            "Epoch 160/200\n",
            "11/11 [==============================] - 1s 52ms/step - loss: 9.8059e-06 - accuracy: 1.0000 - val_loss: 0.2027 - val_accuracy: 0.9660\n",
            "Epoch 161/200\n",
            "11/11 [==============================] - 1s 50ms/step - loss: 1.2781e-04 - accuracy: 1.0000 - val_loss: 0.1347 - val_accuracy: 0.9592\n",
            "Epoch 162/200\n",
            "11/11 [==============================] - 1s 53ms/step - loss: 2.3992e-05 - accuracy: 1.0000 - val_loss: 0.2364 - val_accuracy: 0.8844\n",
            "Epoch 163/200\n",
            "11/11 [==============================] - 1s 53ms/step - loss: 2.0103e-05 - accuracy: 1.0000 - val_loss: 0.3001 - val_accuracy: 0.8776\n",
            "Epoch 164/200\n",
            "11/11 [==============================] - 1s 51ms/step - loss: 1.1829e-04 - accuracy: 1.0000 - val_loss: 0.2811 - val_accuracy: 0.8776\n",
            "Epoch 165/200\n",
            "11/11 [==============================] - 1s 51ms/step - loss: 3.4838e-05 - accuracy: 1.0000 - val_loss: 1.3688 - val_accuracy: 0.7211\n",
            "Epoch 166/200\n",
            "11/11 [==============================] - 1s 52ms/step - loss: 2.1649e-05 - accuracy: 1.0000 - val_loss: 3.3528 - val_accuracy: 0.5714\n",
            "Epoch 167/200\n",
            "11/11 [==============================] - 1s 55ms/step - loss: 1.1445e-05 - accuracy: 1.0000 - val_loss: 3.5736 - val_accuracy: 0.5646\n",
            "Epoch 168/200\n",
            "11/11 [==============================] - 1s 51ms/step - loss: 3.2197e-05 - accuracy: 1.0000 - val_loss: 3.3963 - val_accuracy: 0.5646\n",
            "Epoch 169/200\n",
            "11/11 [==============================] - 1s 51ms/step - loss: 4.9236e-06 - accuracy: 1.0000 - val_loss: 2.7756 - val_accuracy: 0.5850\n",
            "Epoch 170/200\n",
            "11/11 [==============================] - 1s 49ms/step - loss: 4.3617e-06 - accuracy: 1.0000 - val_loss: 2.2479 - val_accuracy: 0.6395\n",
            "Epoch 171/200\n",
            "11/11 [==============================] - 1s 51ms/step - loss: 2.0161e-06 - accuracy: 1.0000 - val_loss: 1.8173 - val_accuracy: 0.7007\n",
            "Epoch 172/200\n",
            "11/11 [==============================] - 1s 51ms/step - loss: 6.3196e-06 - accuracy: 1.0000 - val_loss: 1.3450 - val_accuracy: 0.7755\n",
            "Epoch 173/200\n",
            "11/11 [==============================] - 1s 54ms/step - loss: 2.2689e-06 - accuracy: 1.0000 - val_loss: 0.9604 - val_accuracy: 0.7891\n",
            "Epoch 174/200\n",
            "11/11 [==============================] - 1s 51ms/step - loss: 2.1488e-06 - accuracy: 1.0000 - val_loss: 0.5848 - val_accuracy: 0.8503\n",
            "Epoch 175/200\n",
            "11/11 [==============================] - 1s 51ms/step - loss: 2.7416e-06 - accuracy: 1.0000 - val_loss: 0.3523 - val_accuracy: 0.8980\n",
            "Epoch 176/200\n",
            "11/11 [==============================] - 1s 54ms/step - loss: 3.3333e-06 - accuracy: 1.0000 - val_loss: 0.2294 - val_accuracy: 0.9252\n",
            "Epoch 177/200\n",
            "11/11 [==============================] - 1s 51ms/step - loss: 1.0106e-05 - accuracy: 1.0000 - val_loss: 0.1575 - val_accuracy: 0.9592\n",
            "Epoch 178/200\n",
            "11/11 [==============================] - 1s 53ms/step - loss: 4.1747e-06 - accuracy: 1.0000 - val_loss: 0.1558 - val_accuracy: 0.9524\n",
            "Epoch 179/200\n",
            "11/11 [==============================] - 1s 52ms/step - loss: 2.3004e-06 - accuracy: 1.0000 - val_loss: 0.1864 - val_accuracy: 0.9320\n",
            "Epoch 180/200\n",
            "11/11 [==============================] - 1s 54ms/step - loss: 2.8748e-06 - accuracy: 1.0000 - val_loss: 0.2096 - val_accuracy: 0.9320\n",
            "Epoch 181/200\n",
            "11/11 [==============================] - 1s 51ms/step - loss: 1.1094e-06 - accuracy: 1.0000 - val_loss: 0.2291 - val_accuracy: 0.9320\n",
            "Epoch 182/200\n",
            "11/11 [==============================] - 1s 53ms/step - loss: 1.8354e-06 - accuracy: 1.0000 - val_loss: 0.2454 - val_accuracy: 0.9320\n",
            "Epoch 183/200\n",
            "11/11 [==============================] - 1s 52ms/step - loss: 8.5182e-06 - accuracy: 1.0000 - val_loss: 0.2587 - val_accuracy: 0.9320\n",
            "Epoch 184/200\n",
            "11/11 [==============================] - 1s 50ms/step - loss: 2.6679e-06 - accuracy: 1.0000 - val_loss: 0.2627 - val_accuracy: 0.9456\n",
            "Epoch 185/200\n",
            "11/11 [==============================] - 1s 53ms/step - loss: 5.1979e-06 - accuracy: 1.0000 - val_loss: 0.2600 - val_accuracy: 0.9388\n",
            "Epoch 186/200\n",
            "11/11 [==============================] - 1s 50ms/step - loss: 5.3042e-06 - accuracy: 1.0000 - val_loss: 0.2509 - val_accuracy: 0.9456\n",
            "Epoch 187/200\n",
            "11/11 [==============================] - 1s 52ms/step - loss: 6.0558e-06 - accuracy: 1.0000 - val_loss: 0.2632 - val_accuracy: 0.9456\n",
            "Epoch 188/200\n",
            "11/11 [==============================] - 1s 51ms/step - loss: 1.3656e-05 - accuracy: 1.0000 - val_loss: 0.3096 - val_accuracy: 0.9388\n",
            "Epoch 189/200\n",
            "11/11 [==============================] - 1s 50ms/step - loss: 5.8670e-06 - accuracy: 1.0000 - val_loss: 0.3207 - val_accuracy: 0.9388\n",
            "Epoch 190/200\n",
            "11/11 [==============================] - 1s 52ms/step - loss: 3.1476e-06 - accuracy: 1.0000 - val_loss: 0.3202 - val_accuracy: 0.9388\n",
            "Epoch 191/200\n",
            "11/11 [==============================] - 1s 51ms/step - loss: 1.0062e-05 - accuracy: 1.0000 - val_loss: 0.3583 - val_accuracy: 0.9388\n",
            "Epoch 192/200\n",
            "11/11 [==============================] - 1s 52ms/step - loss: 2.8304e-06 - accuracy: 1.0000 - val_loss: 0.3716 - val_accuracy: 0.9388\n",
            "Epoch 193/200\n",
            "11/11 [==============================] - 1s 51ms/step - loss: 3.4249e-06 - accuracy: 1.0000 - val_loss: 0.3752 - val_accuracy: 0.9456\n",
            "Epoch 194/200\n",
            "11/11 [==============================] - 1s 52ms/step - loss: 4.1921e-06 - accuracy: 1.0000 - val_loss: 0.3793 - val_accuracy: 0.9524\n",
            "Epoch 195/200\n",
            "11/11 [==============================] - 1s 51ms/step - loss: 1.1206e-05 - accuracy: 1.0000 - val_loss: 0.3800 - val_accuracy: 0.9456\n",
            "Epoch 196/200\n",
            "11/11 [==============================] - 1s 53ms/step - loss: 2.3684e-06 - accuracy: 1.0000 - val_loss: 0.3753 - val_accuracy: 0.9456\n",
            "Epoch 197/200\n",
            "11/11 [==============================] - 1s 53ms/step - loss: 3.0547e-06 - accuracy: 1.0000 - val_loss: 0.3650 - val_accuracy: 0.9456\n",
            "Epoch 198/200\n",
            "11/11 [==============================] - 1s 53ms/step - loss: 7.8588e-06 - accuracy: 1.0000 - val_loss: 0.3460 - val_accuracy: 0.9456\n",
            "Epoch 199/200\n",
            "11/11 [==============================] - 1s 54ms/step - loss: 6.1290e-06 - accuracy: 1.0000 - val_loss: 0.3342 - val_accuracy: 0.9456\n",
            "Epoch 200/200\n",
            "11/11 [==============================] - 1s 52ms/step - loss: 3.2860e-06 - accuracy: 1.0000 - val_loss: 0.3284 - val_accuracy: 0.9456\n"
          ],
          "name": "stdout"
        }
      ]
    },
    {
      "cell_type": "code",
      "metadata": {
        "id": "cSTlOSUBWMpj"
      },
      "source": [
        "Y_test = yback(Y_test)"
      ],
      "execution_count": null,
      "outputs": []
    },
    {
      "cell_type": "code",
      "metadata": {
        "colab": {
          "base_uri": "https://localhost:8080/"
        },
        "id": "qpf0XlSARX78",
        "outputId": "04b43a78-1a12-43ad-d8a8-679e3268b67d"
      },
      "source": [
        "pred_test= model.predict_classes(X_test)\n",
        "\n",
        "data = {'y_true': Y_test,'y_predict': pred_test}  # este dado esta no formato de dicionario\n",
        "\n",
        "df = pd.DataFrame(data, columns=['y_true','y_predict'])\n",
        "\n",
        "\n",
        "confusion_matrix = pd.crosstab(df['y_true'], df['y_predict'], rownames=['Actual'], colnames=['Predict'])\n",
        "print(confusion_matrix)\n",
        "\n",
        "y_true = df['y_true']\n",
        "y_pred = df['y_predict']\n",
        "\n",
        "  \n",
        "METRICS=sklearn.metrics.classification_report(y_true, y_pred)"
      ],
      "execution_count": null,
      "outputs": [
        {
          "output_type": "stream",
          "text": [
            "/usr/local/lib/python3.7/dist-packages/keras/engine/sequential.py:450: UserWarning: `model.predict_classes()` is deprecated and will be removed after 2021-01-01. Please use instead:* `np.argmax(model.predict(x), axis=-1)`,   if your model does multi-class classification   (e.g. if it uses a `softmax` last-layer activation).* `(model.predict(x) > 0.5).astype(\"int32\")`,   if your model does binary classification   (e.g. if it uses a `sigmoid` last-layer activation).\n",
            "  warnings.warn('`model.predict_classes()` is deprecated and '\n"
          ],
          "name": "stderr"
        },
        {
          "output_type": "stream",
          "text": [
            "Predict   0   1\n",
            "Actual         \n",
            "0        70   2\n",
            "1         6  69\n"
          ],
          "name": "stdout"
        }
      ]
    },
    {
      "cell_type": "code",
      "metadata": {
        "colab": {
          "base_uri": "https://localhost:8080/"
        },
        "id": "_iFNNrlWV9tH",
        "outputId": "987cfe4f-683c-4375-9294-94b3e2dd83af"
      },
      "source": [
        "pred_test"
      ],
      "execution_count": null,
      "outputs": [
        {
          "output_type": "execute_result",
          "data": {
            "text/plain": [
              "array([1, 0, 1, 1, 1, 1, 0, 0, 1, 0, 0, 0, 1, 0, 1, 0, 1, 1, 1, 0, 0, 0,\n",
              "       1, 0, 0, 0, 0, 1, 0, 1, 0, 0, 1, 1, 0, 0, 0, 0, 0, 0, 1, 1, 1, 0,\n",
              "       0, 0, 0, 1, 1, 1, 1, 0, 0, 1, 0, 0, 1, 0, 1, 0, 0, 1, 0, 1, 1, 1,\n",
              "       0, 1, 1, 1, 1, 0, 1, 1, 0, 0, 1, 1, 0, 0, 1, 1, 1, 1, 0, 1, 0, 0,\n",
              "       1, 0, 0, 1, 0, 0, 1, 0, 1, 1, 1, 0, 1, 1, 1, 1, 1, 0, 1, 1, 0, 0,\n",
              "       0, 1, 1, 1, 1, 1, 1, 1, 0, 1, 0, 0, 0, 1, 1, 0, 0, 0, 0, 0, 0, 0,\n",
              "       0, 0, 0, 0, 0, 1, 0, 0, 1, 1, 1, 0, 0, 0, 1])"
            ]
          },
          "metadata": {
            "tags": []
          },
          "execution_count": 19
        }
      ]
    },
    {
      "cell_type": "code",
      "metadata": {
        "id": "QISvYcJBgWbE",
        "colab": {
          "base_uri": "https://localhost:8080/"
        },
        "outputId": "f90a053d-b298-4682-da55-9e6ec05fc96c"
      },
      "source": [
        "cont = 0; num =25\n",
        "img_graos = []\n",
        "Width_new = []\n",
        "img=ww[4] \n",
        "while( cont < num):\n",
        "  df=Segmenta(img)\n",
        "  df_ann =df.copy()\n",
        "  Width = df['Width']\n",
        "  del df_ann['Width']\n",
        "  result = np.array(df_ann)\n",
        "  result = result.reshape(-1, Img_Size, Img_Size, 1) / 255.0\n",
        "  prediction = model.predict_classes(result)\n",
        "  loc_grao =[];k=0\n",
        "  for i in prediction:\n",
        "    if( i == 0):\n",
        "      img_graos.append(df.iloc[k,:])\n",
        "      Width_new.append(Width.iloc[k])\n",
        "      cont = cont + 1\n",
        "    k = k +1\n",
        "img_graos = pd.DataFrame(img_graos)\n",
        "print(img_graos)"
      ],
      "execution_count": null,
      "outputs": [
        {
          "output_type": "stream",
          "text": [
            "/usr/local/lib/python3.7/dist-packages/keras/engine/sequential.py:450: UserWarning: `model.predict_classes()` is deprecated and will be removed after 2021-01-01. Please use instead:* `np.argmax(model.predict(x), axis=-1)`,   if your model does multi-class classification   (e.g. if it uses a `softmax` last-layer activation).* `(model.predict(x) > 0.5).astype(\"int32\")`,   if your model does binary classification   (e.g. if it uses a `sigmoid` last-layer activation).\n",
            "  warnings.warn('`model.predict_classes()` is deprecated and '\n"
          ],
          "name": "stderr"
        },
        {
          "output_type": "stream",
          "text": [
            "    Width           0           1  ...         781         782         783\n",
            "7   148.0   93.258591  112.881683  ...  148.254196  144.523010  144.244720\n",
            "10  118.0  148.542664  151.592361  ...  174.581726  176.222641  171.440674\n",
            "31  127.0  203.345963  212.448456  ...  144.418137  144.455826  147.431961\n",
            "33  149.0  175.012482  176.067123  ...  159.641495  144.050949  148.073563\n",
            "4   112.0  154.750000  153.625000  ...  149.312500  147.812500  149.250000\n",
            "12  195.0  195.908798  198.681229  ...  149.547119  152.324432  153.910873\n",
            "21  179.0  148.781616  157.625290  ...  169.549179  168.662445  166.787186\n",
            "24  114.0    0.249923    0.285011  ...   40.348106   25.417974   23.478916\n",
            "28  118.0    1.012065    1.857799  ...    1.896581    1.024131    0.107153\n",
            "30  127.0  160.710953  170.662109  ...   95.448380  114.565071  127.864464\n",
            "18  150.0   38.912357   36.943642  ...  139.385590  144.016006  145.510056\n",
            "22  186.0  160.819641  174.907501  ...  151.140030  117.872711  114.200607\n",
            "25  113.0  157.093582  165.453995  ...  156.155762  153.006897  154.285919\n",
            "35  120.0  146.961105  139.251114  ...  156.944458  155.202225  139.695557\n",
            "11  161.0  182.924393  190.663513  ...  231.406433  224.618149  203.427216\n",
            "13  145.0  116.277374  153.462067  ...  246.235855  251.884232  253.269150\n",
            "20  126.0  166.185196  162.259277  ...  172.938278  164.135803  156.827164\n",
            "21  161.0  172.988663  168.814743  ...  121.971649   96.695663  107.436684\n",
            "26  151.0  142.456833  145.334412  ...  166.408340  176.217010  178.467987\n",
            "38  102.0  186.771240  197.397949  ...  137.037689  140.292587  140.098053\n",
            "42  164.0  160.055939  160.214157  ...  177.453293  192.838776  208.217728\n",
            "44  160.0   79.428116   91.693741  ...  133.042496  132.888123  133.463745\n",
            "38  177.0  177.424698  163.817245  ...  199.303879  198.032089  202.550201\n",
            "42  182.0  161.473389  154.834335  ...  121.213028  117.775154  127.834335\n",
            "49  124.0   45.969822   45.422474  ...  152.744019  154.550476  154.535889\n",
            "\n",
            "[25 rows x 785 columns]\n"
          ],
          "name": "stdout"
        }
      ]
    },
    {
      "cell_type": "code",
      "metadata": {
        "id": "6LkA4vHp-f6_"
      },
      "source": [
        "Width=np.array(Width_new)"
      ],
      "execution_count": null,
      "outputs": []
    },
    {
      "cell_type": "code",
      "metadata": {
        "colab": {
          "base_uri": "https://localhost:8080/"
        },
        "id": "MjRbWgmX_LFH",
        "outputId": "61d87103-4238-4fef-b82a-0709c1397115"
      },
      "source": [
        "!git clone https://github.com/ucfilho/marquesgabi_paper_fev_2021\n",
        "%cd marquesgabi_paper_fev_2021\n",
        "\n",
        "from Get_PSDArea_New import PSDArea\n",
        "from histogram_fev_2021 import PSD\n",
        "from GetBetterSegm import GetBetter"
      ],
      "execution_count": null,
      "outputs": [
        {
          "output_type": "stream",
          "text": [
            "Cloning into 'marquesgabi_paper_fev_2021'...\n",
            "remote: Enumerating objects: 660, done.\u001b[K\n",
            "remote: Counting objects: 100% (421/421), done.\u001b[K\n",
            "remote: Compressing objects: 100% (419/419), done.\u001b[K\n",
            "remote: Total 660 (delta 263), reused 0 (delta 0), pack-reused 239\u001b[K\n",
            "Receiving objects: 100% (660/660), 5.45 MiB | 12.98 MiB/s, done.\n",
            "Resolving deltas: 100% (400/400), done.\n",
            "/content/marquesgabi_fev_2020/Doutorado/MarquesGabi_Routines/MarquesGabi_Routines/marquesgabi_paper_fev_2021\n"
          ],
          "name": "stdout"
        }
      ]
    },
    {
      "cell_type": "code",
      "metadata": {
        "colab": {
          "base_uri": "https://localhost:8080/"
        },
        "id": "WAG_I6FwCvFr",
        "outputId": "f0495183-b637-4068-b1b4-d97fe6da713b"
      },
      "source": [
        "!git clone https://github.com/ucfilho/marquesgabi_out_2020\n",
        "%cd marquesgabi_out_2020\n",
        "PSD_imageJ = 'Areas_ImageJ.csv'\n",
        "PSD_new = pd.read_csv(PSD_imageJ)\n",
        "print(PSD_new.head(3))"
      ],
      "execution_count": null,
      "outputs": [
        {
          "output_type": "stream",
          "text": [
            "Cloning into 'marquesgabi_out_2020'...\n",
            "remote: Enumerating objects: 146, done.\u001b[K\n",
            "remote: Counting objects: 100% (146/146), done.\u001b[K\n",
            "remote: Compressing objects: 100% (142/142), done.\u001b[K\n",
            "remote: Total 146 (delta 75), reused 0 (delta 0), pack-reused 0\u001b[K\n",
            "Receiving objects: 100% (146/146), 1.00 MiB | 6.58 MiB/s, done.\n",
            "Resolving deltas: 100% (75/75), done.\n",
            "/content/marquesgabi_fev_2020/Doutorado/MarquesGabi_Routines/MarquesGabi_Routines/marquesgabi_paper_fev_2021/marquesgabi_out_2020\n",
            "   Juntas   Area\n",
            "0       1  2.001\n",
            "1       2  0.820\n",
            "2       3  1.270\n"
          ],
          "name": "stdout"
        }
      ]
    },
    {
      "cell_type": "code",
      "metadata": {
        "id": "t_1WIM8w7poO"
      },
      "source": [
        "Area_All, Diameter_All=PSDArea(img_graos) "
      ],
      "execution_count": null,
      "outputs": []
    },
    {
      "cell_type": "code",
      "metadata": {
        "colab": {
          "base_uri": "https://localhost:8080/",
          "height": 252
        },
        "id": "PekBHQOT_6CP",
        "outputId": "7450d4cf-fb8c-481f-db89-3e265ab3a19d"
      },
      "source": [
        "img_graos.head()"
      ],
      "execution_count": null,
      "outputs": [
        {
          "output_type": "execute_result",
          "data": {
            "text/html": [
              "<div>\n",
              "<style scoped>\n",
              "    .dataframe tbody tr th:only-of-type {\n",
              "        vertical-align: middle;\n",
              "    }\n",
              "\n",
              "    .dataframe tbody tr th {\n",
              "        vertical-align: top;\n",
              "    }\n",
              "\n",
              "    .dataframe thead th {\n",
              "        text-align: right;\n",
              "    }\n",
              "</style>\n",
              "<table border=\"1\" class=\"dataframe\">\n",
              "  <thead>\n",
              "    <tr style=\"text-align: right;\">\n",
              "      <th></th>\n",
              "      <th>Width</th>\n",
              "      <th>0</th>\n",
              "      <th>1</th>\n",
              "      <th>2</th>\n",
              "      <th>3</th>\n",
              "      <th>4</th>\n",
              "      <th>5</th>\n",
              "      <th>6</th>\n",
              "      <th>7</th>\n",
              "      <th>8</th>\n",
              "      <th>9</th>\n",
              "      <th>10</th>\n",
              "      <th>11</th>\n",
              "      <th>12</th>\n",
              "      <th>13</th>\n",
              "      <th>14</th>\n",
              "      <th>15</th>\n",
              "      <th>16</th>\n",
              "      <th>17</th>\n",
              "      <th>18</th>\n",
              "      <th>19</th>\n",
              "      <th>20</th>\n",
              "      <th>21</th>\n",
              "      <th>22</th>\n",
              "      <th>23</th>\n",
              "      <th>24</th>\n",
              "      <th>25</th>\n",
              "      <th>26</th>\n",
              "      <th>27</th>\n",
              "      <th>28</th>\n",
              "      <th>29</th>\n",
              "      <th>30</th>\n",
              "      <th>31</th>\n",
              "      <th>32</th>\n",
              "      <th>33</th>\n",
              "      <th>34</th>\n",
              "      <th>35</th>\n",
              "      <th>36</th>\n",
              "      <th>37</th>\n",
              "      <th>38</th>\n",
              "      <th>...</th>\n",
              "      <th>744</th>\n",
              "      <th>745</th>\n",
              "      <th>746</th>\n",
              "      <th>747</th>\n",
              "      <th>748</th>\n",
              "      <th>749</th>\n",
              "      <th>750</th>\n",
              "      <th>751</th>\n",
              "      <th>752</th>\n",
              "      <th>753</th>\n",
              "      <th>754</th>\n",
              "      <th>755</th>\n",
              "      <th>756</th>\n",
              "      <th>757</th>\n",
              "      <th>758</th>\n",
              "      <th>759</th>\n",
              "      <th>760</th>\n",
              "      <th>761</th>\n",
              "      <th>762</th>\n",
              "      <th>763</th>\n",
              "      <th>764</th>\n",
              "      <th>765</th>\n",
              "      <th>766</th>\n",
              "      <th>767</th>\n",
              "      <th>768</th>\n",
              "      <th>769</th>\n",
              "      <th>770</th>\n",
              "      <th>771</th>\n",
              "      <th>772</th>\n",
              "      <th>773</th>\n",
              "      <th>774</th>\n",
              "      <th>775</th>\n",
              "      <th>776</th>\n",
              "      <th>777</th>\n",
              "      <th>778</th>\n",
              "      <th>779</th>\n",
              "      <th>780</th>\n",
              "      <th>781</th>\n",
              "      <th>782</th>\n",
              "      <th>783</th>\n",
              "    </tr>\n",
              "  </thead>\n",
              "  <tbody>\n",
              "    <tr>\n",
              "      <th>7</th>\n",
              "      <td>148.0</td>\n",
              "      <td>93.258591</td>\n",
              "      <td>112.881683</td>\n",
              "      <td>133.175323</td>\n",
              "      <td>141.144638</td>\n",
              "      <td>149.059891</td>\n",
              "      <td>164.183334</td>\n",
              "      <td>170.430252</td>\n",
              "      <td>169.368881</td>\n",
              "      <td>164.439743</td>\n",
              "      <td>162.267365</td>\n",
              "      <td>161.605560</td>\n",
              "      <td>164.470428</td>\n",
              "      <td>167.387146</td>\n",
              "      <td>167.598251</td>\n",
              "      <td>163.008774</td>\n",
              "      <td>145.810822</td>\n",
              "      <td>172.452148</td>\n",
              "      <td>205.658157</td>\n",
              "      <td>186.296570</td>\n",
              "      <td>169.445602</td>\n",
              "      <td>165.505493</td>\n",
              "      <td>160.199402</td>\n",
              "      <td>143.132935</td>\n",
              "      <td>112.874359</td>\n",
              "      <td>87.141716</td>\n",
              "      <td>90.060638</td>\n",
              "      <td>94.523750</td>\n",
              "      <td>130.550766</td>\n",
              "      <td>104.710014</td>\n",
              "      <td>112.001472</td>\n",
              "      <td>124.338943</td>\n",
              "      <td>137.790375</td>\n",
              "      <td>159.728271</td>\n",
              "      <td>166.655960</td>\n",
              "      <td>174.161438</td>\n",
              "      <td>179.821045</td>\n",
              "      <td>168.804993</td>\n",
              "      <td>163.490860</td>\n",
              "      <td>164.403229</td>\n",
              "      <td>...</td>\n",
              "      <td>122.842957</td>\n",
              "      <td>141.652313</td>\n",
              "      <td>139.415634</td>\n",
              "      <td>132.777206</td>\n",
              "      <td>132.421478</td>\n",
              "      <td>140.658875</td>\n",
              "      <td>144.873627</td>\n",
              "      <td>144.111755</td>\n",
              "      <td>145.959106</td>\n",
              "      <td>147.414902</td>\n",
              "      <td>143.234482</td>\n",
              "      <td>140.417831</td>\n",
              "      <td>145.570496</td>\n",
              "      <td>147.941574</td>\n",
              "      <td>154.729004</td>\n",
              "      <td>157.956177</td>\n",
              "      <td>154.830551</td>\n",
              "      <td>147.845154</td>\n",
              "      <td>142.497452</td>\n",
              "      <td>140.604828</td>\n",
              "      <td>139.566849</td>\n",
              "      <td>139.965668</td>\n",
              "      <td>139.529602</td>\n",
              "      <td>131.157791</td>\n",
              "      <td>121.100082</td>\n",
              "      <td>118.794022</td>\n",
              "      <td>122.852455</td>\n",
              "      <td>127.370346</td>\n",
              "      <td>133.222061</td>\n",
              "      <td>146.593872</td>\n",
              "      <td>147.162903</td>\n",
              "      <td>135.451431</td>\n",
              "      <td>130.235214</td>\n",
              "      <td>138.084015</td>\n",
              "      <td>143.191391</td>\n",
              "      <td>143.298767</td>\n",
              "      <td>145.892639</td>\n",
              "      <td>148.254196</td>\n",
              "      <td>144.523010</td>\n",
              "      <td>144.244720</td>\n",
              "    </tr>\n",
              "    <tr>\n",
              "      <th>10</th>\n",
              "      <td>118.0</td>\n",
              "      <td>148.542664</td>\n",
              "      <td>151.592361</td>\n",
              "      <td>150.369705</td>\n",
              "      <td>160.234131</td>\n",
              "      <td>168.911514</td>\n",
              "      <td>176.801788</td>\n",
              "      <td>174.722488</td>\n",
              "      <td>180.635147</td>\n",
              "      <td>173.162018</td>\n",
              "      <td>105.781372</td>\n",
              "      <td>102.812126</td>\n",
              "      <td>104.847748</td>\n",
              "      <td>106.505028</td>\n",
              "      <td>109.091057</td>\n",
              "      <td>111.406494</td>\n",
              "      <td>108.495827</td>\n",
              "      <td>96.600983</td>\n",
              "      <td>79.495544</td>\n",
              "      <td>69.486649</td>\n",
              "      <td>68.601257</td>\n",
              "      <td>73.881638</td>\n",
              "      <td>85.599541</td>\n",
              "      <td>87.449867</td>\n",
              "      <td>80.765587</td>\n",
              "      <td>114.431190</td>\n",
              "      <td>130.239304</td>\n",
              "      <td>130.318298</td>\n",
              "      <td>165.600693</td>\n",
              "      <td>147.729095</td>\n",
              "      <td>155.149963</td>\n",
              "      <td>155.006882</td>\n",
              "      <td>164.148514</td>\n",
              "      <td>170.079575</td>\n",
              "      <td>178.574265</td>\n",
              "      <td>180.225494</td>\n",
              "      <td>179.356216</td>\n",
              "      <td>168.333511</td>\n",
              "      <td>109.729668</td>\n",
              "      <td>110.382935</td>\n",
              "      <td>...</td>\n",
              "      <td>169.930191</td>\n",
              "      <td>165.318878</td>\n",
              "      <td>161.974152</td>\n",
              "      <td>147.855194</td>\n",
              "      <td>164.570816</td>\n",
              "      <td>171.949142</td>\n",
              "      <td>169.829636</td>\n",
              "      <td>168.998276</td>\n",
              "      <td>173.818146</td>\n",
              "      <td>174.619064</td>\n",
              "      <td>174.469696</td>\n",
              "      <td>169.228088</td>\n",
              "      <td>192.266571</td>\n",
              "      <td>190.585464</td>\n",
              "      <td>168.122955</td>\n",
              "      <td>170.367706</td>\n",
              "      <td>171.620499</td>\n",
              "      <td>151.299332</td>\n",
              "      <td>139.720764</td>\n",
              "      <td>155.446701</td>\n",
              "      <td>169.038773</td>\n",
              "      <td>165.724213</td>\n",
              "      <td>168.435501</td>\n",
              "      <td>162.733109</td>\n",
              "      <td>163.091919</td>\n",
              "      <td>163.051132</td>\n",
              "      <td>166.831390</td>\n",
              "      <td>164.960068</td>\n",
              "      <td>169.882507</td>\n",
              "      <td>167.687729</td>\n",
              "      <td>125.087036</td>\n",
              "      <td>130.941681</td>\n",
              "      <td>170.697784</td>\n",
              "      <td>171.065491</td>\n",
              "      <td>174.160019</td>\n",
              "      <td>173.752655</td>\n",
              "      <td>175.692886</td>\n",
              "      <td>174.581726</td>\n",
              "      <td>176.222641</td>\n",
              "      <td>171.440674</td>\n",
              "    </tr>\n",
              "    <tr>\n",
              "      <th>31</th>\n",
              "      <td>127.0</td>\n",
              "      <td>203.345963</td>\n",
              "      <td>212.448456</td>\n",
              "      <td>208.235535</td>\n",
              "      <td>171.894409</td>\n",
              "      <td>140.617096</td>\n",
              "      <td>149.033722</td>\n",
              "      <td>156.599548</td>\n",
              "      <td>173.593399</td>\n",
              "      <td>200.601227</td>\n",
              "      <td>231.985809</td>\n",
              "      <td>237.137451</td>\n",
              "      <td>234.926758</td>\n",
              "      <td>231.299088</td>\n",
              "      <td>225.539032</td>\n",
              "      <td>216.179810</td>\n",
              "      <td>197.724716</td>\n",
              "      <td>137.303253</td>\n",
              "      <td>168.804260</td>\n",
              "      <td>176.924850</td>\n",
              "      <td>180.117233</td>\n",
              "      <td>184.823807</td>\n",
              "      <td>183.205704</td>\n",
              "      <td>211.370087</td>\n",
              "      <td>245.703262</td>\n",
              "      <td>251.445465</td>\n",
              "      <td>252.417496</td>\n",
              "      <td>251.890686</td>\n",
              "      <td>246.366745</td>\n",
              "      <td>196.903275</td>\n",
              "      <td>201.834900</td>\n",
              "      <td>191.397903</td>\n",
              "      <td>169.897659</td>\n",
              "      <td>157.488174</td>\n",
              "      <td>154.426132</td>\n",
              "      <td>149.253143</td>\n",
              "      <td>138.789139</td>\n",
              "      <td>129.266235</td>\n",
              "      <td>139.653351</td>\n",
              "      <td>151.411758</td>\n",
              "      <td>...</td>\n",
              "      <td>121.589737</td>\n",
              "      <td>122.293198</td>\n",
              "      <td>120.065659</td>\n",
              "      <td>125.154747</td>\n",
              "      <td>136.985611</td>\n",
              "      <td>141.741531</td>\n",
              "      <td>135.948105</td>\n",
              "      <td>136.571579</td>\n",
              "      <td>135.823547</td>\n",
              "      <td>142.404861</td>\n",
              "      <td>144.244034</td>\n",
              "      <td>143.874374</td>\n",
              "      <td>140.500977</td>\n",
              "      <td>118.769295</td>\n",
              "      <td>109.855667</td>\n",
              "      <td>108.507156</td>\n",
              "      <td>108.480255</td>\n",
              "      <td>105.905640</td>\n",
              "      <td>100.012215</td>\n",
              "      <td>99.360962</td>\n",
              "      <td>99.728630</td>\n",
              "      <td>95.924545</td>\n",
              "      <td>96.737114</td>\n",
              "      <td>98.276703</td>\n",
              "      <td>103.992432</td>\n",
              "      <td>107.415710</td>\n",
              "      <td>109.434929</td>\n",
              "      <td>111.774933</td>\n",
              "      <td>114.636543</td>\n",
              "      <td>112.888519</td>\n",
              "      <td>116.144150</td>\n",
              "      <td>121.172729</td>\n",
              "      <td>138.308945</td>\n",
              "      <td>140.661484</td>\n",
              "      <td>141.011673</td>\n",
              "      <td>142.834961</td>\n",
              "      <td>147.104828</td>\n",
              "      <td>144.418137</td>\n",
              "      <td>144.455826</td>\n",
              "      <td>147.431961</td>\n",
              "    </tr>\n",
              "    <tr>\n",
              "      <th>33</th>\n",
              "      <td>149.0</td>\n",
              "      <td>175.012482</td>\n",
              "      <td>176.067123</td>\n",
              "      <td>171.606415</td>\n",
              "      <td>162.359909</td>\n",
              "      <td>151.592499</td>\n",
              "      <td>132.698227</td>\n",
              "      <td>128.440353</td>\n",
              "      <td>125.656235</td>\n",
              "      <td>130.852859</td>\n",
              "      <td>134.804825</td>\n",
              "      <td>137.914825</td>\n",
              "      <td>138.349396</td>\n",
              "      <td>138.753662</td>\n",
              "      <td>133.816681</td>\n",
              "      <td>122.404716</td>\n",
              "      <td>120.988571</td>\n",
              "      <td>124.657051</td>\n",
              "      <td>123.229446</td>\n",
              "      <td>117.881233</td>\n",
              "      <td>118.514084</td>\n",
              "      <td>117.433136</td>\n",
              "      <td>115.531425</td>\n",
              "      <td>164.200806</td>\n",
              "      <td>188.596008</td>\n",
              "      <td>202.860992</td>\n",
              "      <td>212.608658</td>\n",
              "      <td>203.084885</td>\n",
              "      <td>173.190704</td>\n",
              "      <td>178.619156</td>\n",
              "      <td>177.437698</td>\n",
              "      <td>171.025711</td>\n",
              "      <td>166.828171</td>\n",
              "      <td>153.778702</td>\n",
              "      <td>127.686012</td>\n",
              "      <td>133.200577</td>\n",
              "      <td>135.076797</td>\n",
              "      <td>132.457275</td>\n",
              "      <td>130.615829</td>\n",
              "      <td>135.030350</td>\n",
              "      <td>...</td>\n",
              "      <td>157.103241</td>\n",
              "      <td>149.810959</td>\n",
              "      <td>144.729019</td>\n",
              "      <td>168.925598</td>\n",
              "      <td>185.569763</td>\n",
              "      <td>196.237305</td>\n",
              "      <td>206.641327</td>\n",
              "      <td>205.386337</td>\n",
              "      <td>204.469040</td>\n",
              "      <td>196.736847</td>\n",
              "      <td>175.191895</td>\n",
              "      <td>156.799103</td>\n",
              "      <td>136.594437</td>\n",
              "      <td>129.934814</td>\n",
              "      <td>114.800247</td>\n",
              "      <td>107.379494</td>\n",
              "      <td>110.839478</td>\n",
              "      <td>133.543579</td>\n",
              "      <td>151.675690</td>\n",
              "      <td>156.685745</td>\n",
              "      <td>155.808487</td>\n",
              "      <td>157.738220</td>\n",
              "      <td>158.638580</td>\n",
              "      <td>155.154770</td>\n",
              "      <td>150.416153</td>\n",
              "      <td>153.688080</td>\n",
              "      <td>152.995956</td>\n",
              "      <td>152.330750</td>\n",
              "      <td>151.700790</td>\n",
              "      <td>158.429489</td>\n",
              "      <td>157.677277</td>\n",
              "      <td>167.956635</td>\n",
              "      <td>175.961731</td>\n",
              "      <td>181.739212</td>\n",
              "      <td>194.563766</td>\n",
              "      <td>195.466156</td>\n",
              "      <td>183.637451</td>\n",
              "      <td>159.641495</td>\n",
              "      <td>144.050949</td>\n",
              "      <td>148.073563</td>\n",
              "    </tr>\n",
              "    <tr>\n",
              "      <th>4</th>\n",
              "      <td>112.0</td>\n",
              "      <td>154.750000</td>\n",
              "      <td>153.625000</td>\n",
              "      <td>156.687500</td>\n",
              "      <td>163.500000</td>\n",
              "      <td>168.250000</td>\n",
              "      <td>175.062500</td>\n",
              "      <td>178.062500</td>\n",
              "      <td>174.750000</td>\n",
              "      <td>172.062500</td>\n",
              "      <td>169.187500</td>\n",
              "      <td>159.312500</td>\n",
              "      <td>150.062500</td>\n",
              "      <td>150.687500</td>\n",
              "      <td>149.875000</td>\n",
              "      <td>144.312500</td>\n",
              "      <td>143.625000</td>\n",
              "      <td>146.437500</td>\n",
              "      <td>146.625000</td>\n",
              "      <td>144.312500</td>\n",
              "      <td>145.000000</td>\n",
              "      <td>146.562500</td>\n",
              "      <td>148.125000</td>\n",
              "      <td>151.437500</td>\n",
              "      <td>153.125000</td>\n",
              "      <td>147.437500</td>\n",
              "      <td>154.187500</td>\n",
              "      <td>171.000000</td>\n",
              "      <td>181.625000</td>\n",
              "      <td>156.312500</td>\n",
              "      <td>156.312500</td>\n",
              "      <td>160.375000</td>\n",
              "      <td>169.375000</td>\n",
              "      <td>175.562500</td>\n",
              "      <td>181.437500</td>\n",
              "      <td>181.125000</td>\n",
              "      <td>175.062500</td>\n",
              "      <td>170.812500</td>\n",
              "      <td>170.000000</td>\n",
              "      <td>159.375000</td>\n",
              "      <td>...</td>\n",
              "      <td>138.875000</td>\n",
              "      <td>131.125000</td>\n",
              "      <td>123.750000</td>\n",
              "      <td>125.437500</td>\n",
              "      <td>134.000000</td>\n",
              "      <td>141.562500</td>\n",
              "      <td>147.187500</td>\n",
              "      <td>147.562500</td>\n",
              "      <td>149.437500</td>\n",
              "      <td>152.000000</td>\n",
              "      <td>152.125000</td>\n",
              "      <td>153.125000</td>\n",
              "      <td>187.625000</td>\n",
              "      <td>184.375000</td>\n",
              "      <td>200.187500</td>\n",
              "      <td>190.562500</td>\n",
              "      <td>116.937500</td>\n",
              "      <td>81.250000</td>\n",
              "      <td>156.125000</td>\n",
              "      <td>164.375000</td>\n",
              "      <td>162.000000</td>\n",
              "      <td>157.750000</td>\n",
              "      <td>154.125000</td>\n",
              "      <td>148.875000</td>\n",
              "      <td>145.437500</td>\n",
              "      <td>143.062500</td>\n",
              "      <td>144.187500</td>\n",
              "      <td>146.000000</td>\n",
              "      <td>147.500000</td>\n",
              "      <td>144.750000</td>\n",
              "      <td>138.187500</td>\n",
              "      <td>136.312500</td>\n",
              "      <td>140.437500</td>\n",
              "      <td>145.750000</td>\n",
              "      <td>148.375000</td>\n",
              "      <td>149.000000</td>\n",
              "      <td>149.250000</td>\n",
              "      <td>149.312500</td>\n",
              "      <td>147.812500</td>\n",
              "      <td>149.250000</td>\n",
              "    </tr>\n",
              "  </tbody>\n",
              "</table>\n",
              "<p>5 rows × 785 columns</p>\n",
              "</div>"
            ],
            "text/plain": [
              "    Width           0           1  ...         781         782         783\n",
              "7   148.0   93.258591  112.881683  ...  148.254196  144.523010  144.244720\n",
              "10  118.0  148.542664  151.592361  ...  174.581726  176.222641  171.440674\n",
              "31  127.0  203.345963  212.448456  ...  144.418137  144.455826  147.431961\n",
              "33  149.0  175.012482  176.067123  ...  159.641495  144.050949  148.073563\n",
              "4   112.0  154.750000  153.625000  ...  149.312500  147.812500  149.250000\n",
              "\n",
              "[5 rows x 785 columns]"
            ]
          },
          "metadata": {
            "tags": []
          },
          "execution_count": 25
        }
      ]
    },
    {
      "cell_type": "code",
      "metadata": {
        "id": "4vmhG2LgCabC"
      },
      "source": [
        "Area = np.array(PSD_new['Area'])\n",
        "diam_teste = []\n",
        "for A in Area:\n",
        "  diam_teste.append((4*A/np.pi)**0.5) \n",
        "\n",
        "Diam1 = [ (4*A/np.pi)**0.5 for A in Area]"
      ],
      "execution_count": null,
      "outputs": []
    },
    {
      "cell_type": "code",
      "metadata": {
        "colab": {
          "base_uri": "https://localhost:8080/"
        },
        "id": "9J705kDqsE8f",
        "outputId": "250d1ce3-7bea-4f8f-acf4-4286d76457b2"
      },
      "source": [
        "X.shape"
      ],
      "execution_count": null,
      "outputs": [
        {
          "output_type": "execute_result",
          "data": {
            "text/plain": [
              "(490, 784)"
            ]
          },
          "metadata": {
            "tags": []
          },
          "execution_count": 27
        }
      ]
    },
    {
      "cell_type": "code",
      "metadata": {
        "id": "mK1GBUHWiIr4",
        "colab": {
          "base_uri": "https://localhost:8080/",
          "height": 282
        },
        "outputId": "15b83efa-f93e-4a54-da8d-68354e4bb704"
      },
      "source": [
        "Freq = [10.52631579, 24.21052632, 36.84210526, 14.73684211,  7.36842105, 0.]\n",
        "Freq2 = [12.90153, 28.11527, 27.66761, 20.21617, 10.34227, 0.]\n",
        "Freq3 = [22.22489, 30.15078, 25.10463, 19.30926, 2.810434, 0.]\n",
        "barWidth = 0.25\n",
        "\n",
        "br1 = range(len(Freq))\n",
        "# Set position of bar on X axis\n",
        "br2 = [x + barWidth for x in br1]\n",
        "br3 = [x + barWidth for x in br2]\n",
        "labels = [0.8, 1.0, 1.2, 1.4, 1.6, 1.8]\n",
        "\n",
        "xx=[]\n",
        "for a in labels:\n",
        "  xx.append(str(a))\n",
        "plt.bar(br1, Freq , color=\"green\", align=\"center\", width=0.3, tick_label= xx) \n",
        "plt.bar(br2, Freq2 , color=\"red\", align=\"center\", width=0.3, tick_label= xx)\n",
        "plt.bar(br3, Freq3 , color=\"blue\", align=\"center\", width=0.3, tick_label= xx)"
      ],
      "execution_count": null,
      "outputs": [
        {
          "output_type": "execute_result",
          "data": {
            "text/plain": [
              "<BarContainer object of 6 artists>"
            ]
          },
          "metadata": {
            "tags": []
          },
          "execution_count": 62
        },
        {
          "output_type": "display_data",
          "data": {
            "image/png": "[encoded data removed]",
            "text/plain": [
              "<Figure size 432x288 with 1 Axes>"
            ]
          },
          "metadata": {
            "tags": [],
            "needs_background": "light"
          }
        }
      ]
    },
    {
      "cell_type": "code",
      "metadata": {
        "id": "txZTb-m6mUub",
        "colab": {
          "base_uri": "https://localhost:8080/"
        },
        "outputId": "85129572-c2ac-4c20-d323-4407ea36354f"
      },
      "source": [
        "yy[0][0]\n"
      ],
      "execution_count": null,
      "outputs": [
        {
          "output_type": "execute_result",
          "data": {
            "text/plain": [
              "array([10.52631579, 24.21052632, 36.84210526, 14.73684211,  7.36842105,\n",
              "        0.        ])"
            ]
          },
          "metadata": {
            "tags": []
          },
          "execution_count": 55
        }
      ]
    },
    {
      "cell_type": "code",
      "metadata": {
        "id": "lZ4mccpNoCMK",
        "colab": {
          "base_uri": "https://localhost:8080/"
        },
        "outputId": "7b584ad2-0769-4a74-feaf-fb93af3e4f4f"
      },
      "source": [
        "yy[0][1]"
      ],
      "execution_count": null,
      "outputs": [
        {
          "output_type": "execute_result",
          "data": {
            "text/plain": [
              "array([20., 16., 44., 12.,  8.,  0.])"
            ]
          },
          "metadata": {
            "tags": []
          },
          "execution_count": 56
        }
      ]
    },
    {
      "cell_type": "code",
      "metadata": {
        "colab": {
          "base_uri": "https://localhost:8080/",
          "height": 282
        },
        "id": "Vfk_fNXGDK5_",
        "outputId": "3ba275f0-b19d-4ded-bd9c-ccdb84fd28f1"
      },
      "source": [
        " wt1 = np.ones(len(Diam1)) / len(Diam1)*100\n",
        " wt2 = np.ones(len(Diameter_All)) / len(Diameter_All)*100\n",
        " X = pd.DataFrame([Diam1,Diameter_All])\n",
        " wts = pd.DataFrame([wt1,wt2])\n",
        "plt.hist(X,weights=wts)\n",
        "plt.legend(['Image J','CNN'])"
      ],
      "execution_count": null,
      "outputs": [
        {
          "output_type": "execute_result",
          "data": {
            "text/plain": [
              "<matplotlib.legend.Legend at 0x7f959cdcde50>"
            ]
          },
          "metadata": {
            "tags": []
          },
          "execution_count": 29
        },
        {
          "output_type": "display_data",
          "data": {
            "image/png": "[encoded data removed]",
            "text/plain": [
              "<Figure size 432x288 with 1 Axes>"
            ]
          },
          "metadata": {
            "tags": [],
            "needs_background": "light"
          }
        }
      ]
    },
    {
      "cell_type": "code",
      "metadata": {
        "id": "-nGDbBEeiUij",
        "colab": {
          "base_uri": "https://localhost:8080/",
          "height": 399
        },
        "outputId": "01052f10-1714-4722-d730-235575355cd8"
      },
      "source": [
        "# plt.hist(x, bins=bins, density=True, histtype='step', cumulative=-1,label='Reversed emp.')\n",
        "plt.hist(X, density=True, histtype='step', cumulative=True,label='Reversed emp.')"
      ],
      "execution_count": null,
      "outputs": [
        {
          "output_type": "execute_result",
          "data": {
            "text/plain": [
              "(array([[0.07368421, 0.2       , 0.41052632, 0.75789474, 0.88421053,\n",
              "         0.96842105, 0.97894737, 0.97894737, 0.98947368, 1.        ],\n",
              "        [0.12      , 0.32      , 0.44      , 0.8       , 0.84      ,\n",
              "         1.        , 1.        , 1.        , 1.        , 1.        ]]),\n",
              " array([0.75356807, 0.90995518, 1.06634229, 1.22272941, 1.37911652,\n",
              "        1.53550363, 1.69189074, 1.84827785, 2.00466497, 2.16105208,\n",
              "        2.31743919]),\n",
              " <a list of 2 Lists of Patches objects>)"
            ]
          },
          "metadata": {
            "tags": []
          },
          "execution_count": 30
        },
        {
          "output_type": "display_data",
          "data": {
            "image/png": "[encoded data removed]",
            "text/plain": [
              "<Figure size 432x288 with 1 Axes>"
            ]
          },
          "metadata": {
            "tags": [],
            "needs_background": "light"
          }
        }
      ]
    },
    {
      "cell_type": "code",
      "metadata": {
        "colab": {
          "base_uri": "https://localhost:8080/",
          "height": 282
        },
        "id": "9xENlBUUxfTu",
        "outputId": "7e892ae0-3132-4cc9-f829-875ff828a590"
      },
      "source": [
        "Obj = plt.hist(X, density=True, histtype='step', cumulative=True,label='Reversed emp.')\n",
        "Y1, Y2 = Obj[0]\n",
        "Rsquared = r2_score(Y1, Y2)\n",
        "print('r_squared =',Rsquared)"
      ],
      "execution_count": null,
      "outputs": [
        {
          "output_type": "stream",
          "text": [
            "r_squared = 0.9800374775326016\n"
          ],
          "name": "stdout"
        },
        {
          "output_type": "display_data",
          "data": {
            "image/png": "[encoded data removed]",
            "text/plain": [
              "<Figure size 432x288 with 1 Axes>"
            ]
          },
          "metadata": {
            "tags": [],
            "needs_background": "light"
          }
        }
      ]
    },
    {
      "cell_type": "code",
      "metadata": {
        "id": "O2XboMiFbkaa"
      },
      "source": [
        "acc_train = r.history['accuracy'][-1]\n",
        "acc_test = r.history['val_accuracy'][-1]\n",
        "loss_train = r.history['loss'][-1]\n",
        "loss_test = r.history['val_loss'][-1]"
      ],
      "execution_count": null,
      "outputs": []
    },
    {
      "cell_type": "code",
      "metadata": {
        "id": "euTd_-CYN1v0"
      },
      "source": [
        "df = pd.DataFrame({'N1':N1, 'N2':N2,'R^2':Rsquared,\n",
        "                   'acc train':acc_train,'acc test':acc_test,\n",
        "                   'loss train':loss_train,'loss test':loss_test,\n",
        "                   'Details':Description},\n",
        "                  index= [0])\n"
      ],
      "execution_count": null,
      "outputs": []
    },
    {
      "cell_type": "code",
      "metadata": {
        "colab": {
          "base_uri": "https://localhost:8080/",
          "height": 80
        },
        "id": "-KukfpGTTKlj",
        "outputId": "4be1e912-280e-46aa-e67c-30462e2b61eb"
      },
      "source": [
        "df"
      ],
      "execution_count": null,
      "outputs": [
        {
          "output_type": "execute_result",
          "data": {
            "text/html": [
              "<div>\n",
              "<style scoped>\n",
              "    .dataframe tbody tr th:only-of-type {\n",
              "        vertical-align: middle;\n",
              "    }\n",
              "\n",
              "    .dataframe tbody tr th {\n",
              "        vertical-align: top;\n",
              "    }\n",
              "\n",
              "    .dataframe thead th {\n",
              "        text-align: right;\n",
              "    }\n",
              "</style>\n",
              "<table border=\"1\" class=\"dataframe\">\n",
              "  <thead>\n",
              "    <tr style=\"text-align: right;\">\n",
              "      <th></th>\n",
              "      <th>N1</th>\n",
              "      <th>N2</th>\n",
              "      <th>R^2</th>\n",
              "      <th>acc train</th>\n",
              "      <th>acc test</th>\n",
              "      <th>loss train</th>\n",
              "      <th>loss test</th>\n",
              "      <th>Details</th>\n",
              "    </tr>\n",
              "  </thead>\n",
              "  <tbody>\n",
              "    <tr>\n",
              "      <th>0</th>\n",
              "      <td>200</td>\n",
              "      <td>10</td>\n",
              "      <td>0.980037</td>\n",
              "      <td>1.0</td>\n",
              "      <td>0.945578</td>\n",
              "      <td>0.000003</td>\n",
              "      <td>0.328443</td>\n",
              "      <td>3 layers of Convolution: 32, 64, 128</td>\n",
              "    </tr>\n",
              "  </tbody>\n",
              "</table>\n",
              "</div>"
            ],
            "text/plain": [
              "    N1  N2  ...  loss test                                Details\n",
              "0  200  10  ...   0.328443  3 layers of Convolution: 32, 64, 128 \n",
              "\n",
              "[1 rows x 8 columns]"
            ]
          },
          "metadata": {
            "tags": []
          },
          "execution_count": 34
        }
      ]
    },
    {
      "cell_type": "code",
      "metadata": {
        "colab": {
          "base_uri": "https://localhost:8080/",
          "height": 382
        },
        "id": "ZZHa1j4HT9Dq",
        "outputId": "3d872b66-49cc-436a-890b-fdd636ef293b"
      },
      "source": [
        "counts, bins, bars = plt.hist(X,weights=wts)\n",
        "print(bars)\n",
        "print(bins)\n",
        "print(counts)"
      ],
      "execution_count": null,
      "outputs": [
        {
          "output_type": "stream",
          "text": [
            "<a list of 2 Lists of Patches objects>\n",
            "[0.75356807 0.90995518 1.06634229 1.22272941 1.37911652 1.53550363\n",
            " 1.69189074 1.84827785 2.00466497 2.16105208 2.31743919]\n",
            "[[ 7.36842105 12.63157895 21.05263158 34.73684211 12.63157895  8.42105263\n",
            "   1.05263158  0.          1.05263158  1.05263158]\n",
            " [12.         20.         12.         36.          4.         16.\n",
            "   0.          0.          0.          0.        ]]\n"
          ],
          "name": "stdout"
        },
        {
          "output_type": "display_data",
          "data": {
            "image/png": "[encoded data removed]",
            "text/plain": [
              "<Figure size 432x288 with 1 Axes>"
            ]
          },
          "metadata": {
            "tags": [],
            "needs_background": "light"
          }
        }
      ]
    },
    {
      "cell_type": "code",
      "metadata": {
        "colab": {
          "base_uri": "https://localhost:8080/"
        },
        "id": "8o_vDGeWUwIZ",
        "outputId": "ff71a725-e31c-424f-de3a-e2ee802bd0d4"
      },
      "source": [
        "print(counts.sum())"
      ],
      "execution_count": null,
      "outputs": [
        {
          "output_type": "stream",
          "text": [
            "200.0000000000001\n"
          ],
          "name": "stdout"
        }
      ]
    },
    {
      "cell_type": "code",
      "metadata": {
        "colab": {
          "base_uri": "https://localhost:8080/",
          "height": 335
        },
        "id": "KcH52-6iJQ8t",
        "outputId": "9614c791-9e87-47e8-a8af-5c99109e1278"
      },
      "source": [
        "\n",
        "plt.hist([Diam1,Diameter_All])\n",
        "plt.legend(['Image J','CNN'])\n"
      ],
      "execution_count": null,
      "outputs": [
        {
          "output_type": "stream",
          "text": [
            "/usr/local/lib/python3.7/dist-packages/numpy/core/_asarray.py:83: VisibleDeprecationWarning: Creating an ndarray from ragged nested sequences (which is a list-or-tuple of lists-or-tuples-or ndarrays with different lengths or shapes) is deprecated. If you meant to do this, you must specify 'dtype=object' when creating the ndarray\n",
            "  return array(a, dtype, copy=False, order=order)\n"
          ],
          "name": "stderr"
        },
        {
          "output_type": "execute_result",
          "data": {
            "text/plain": [
              "<matplotlib.legend.Legend at 0x7f959cd8ed10>"
            ]
          },
          "metadata": {
            "tags": []
          },
          "execution_count": 37
        },
        {
          "output_type": "display_data",
          "data": {
            "image/png": "[encoded data removed]",
            "text/plain": [
              "<Figure size 432x288 with 1 Axes>"
            ]
          },
          "metadata": {
            "tags": [],
            "needs_background": "light"
          }
        }
      ]
    },
    {
      "cell_type": "code",
      "metadata": {
        "colab": {
          "base_uri": "https://localhost:8080/"
        },
        "id": "r11AxFK_JIii",
        "outputId": "1e14a83d-a234-4a82-850b-bede5c37eea0"
      },
      "source": [
        "[Diam1,Diameter_All]"
      ],
      "execution_count": null,
      "outputs": [
        {
          "output_type": "execute_result",
          "data": {
            "text/plain": [
              "[[1.59616801403081,\n",
              "  1.0217907939900581,\n",
              "  1.2716187407449044,\n",
              "  1.104429030701514,\n",
              "  1.2163487785097904,\n",
              "  1.6013445735058454,\n",
              "  1.1715597420637607,\n",
              "  1.2534662333717612,\n",
              "  1.2676073151634049,\n",
              "  1.309600575274104,\n",
              "  1.292966945531582,\n",
              "  1.7658322811231006,\n",
              "  1.3564037533648712,\n",
              "  1.2407040781688483,\n",
              "  2.130217298173151,\n",
              "  1.4228319915327,\n",
              "  1.0651086490865755,\n",
              "  1.3008210311003705,\n",
              "  1.336545951796433,\n",
              "  0.8927754224911278,\n",
              "  1.4494292838262302,\n",
              "  1.4052738287907582,\n",
              "  1.6421697097891788,\n",
              "  1.2329833804288621,\n",
              "  1.19042665178928,\n",
              "  1.1682948223612457,\n",
              "  1.1518314137121108,\n",
              "  0.9607802401865855,\n",
              "  2.317439190074449,\n",
              "  1.0591147430338594,\n",
              "  1.4308630919602832,\n",
              "  0.7535680705496237,\n",
              "  0.8608283307581511,\n",
              "  1.2776122636975893,\n",
              "  1.3745862957220916,\n",
              "  1.259546137598783,\n",
              "  1.2978813187979172,\n",
              "  1.2412170838050638,\n",
              "  1.6009469708743893,\n",
              "  1.3149369953539032,\n",
              "  1.417901703622935,\n",
              "  1.2478669653497139,\n",
              "  1.1055812783082735,\n",
              "  0.9561307405997607,\n",
              "  0.9487783503683882,\n",
              "  1.1238565871041026,\n",
              "  1.2058356273089446,\n",
              "  1.2801012827406097,\n",
              "  0.8733100751144249,\n",
              "  0.9194732501297403,\n",
              "  1.6425573339441792,\n",
              "  1.085826790250066,\n",
              "  1.0639125693728595,\n",
              "  1.0875842666474016,\n",
              "  1.417901703622935,\n",
              "  1.550443891425932,\n",
              "  0.7825779328716171,\n",
              "  1.4690612745308145,\n",
              "  1.053086721720641,\n",
              "  1.2676073151634049,\n",
              "  0.7744003006005755,\n",
              "  1.3787482149724068,\n",
              "  1.363892581861956,\n",
              "  1.299352006316543,\n",
              "  1.2870449283923413,\n",
              "  1.11817763925502,\n",
              "  0.9474354220939228,\n",
              "  1.5218484589055707,\n",
              "  1.3526437911676632,\n",
              "  1.1556938532445284,\n",
              "  1.6013445735058454,\n",
              "  1.274619025074578,\n",
              "  1.422384489715834,\n",
              "  1.3408259533459403,\n",
              "  1.172646028567008,\n",
              "  1.1490645795125545,\n",
              "  1.459060149136146,\n",
              "  1.2483770274864237,\n",
              "  1.336545951796433,\n",
              "  0.9601174044814821,\n",
              "  1.4867225193896279,\n",
              "  1.4277452542806772,\n",
              "  1.35028849808504,\n",
              "  0.7560982446653928,\n",
              "  1.259040600296622,\n",
              "  1.13456827900627,\n",
              "  1.6549133695530214,\n",
              "  1.1204526724091788,\n",
              "  1.1176081573544434,\n",
              "  0.9153095762832032,\n",
              "  1.1639273497938836,\n",
              "  1.3066806149514323,\n",
              "  1.1529362882239027,\n",
              "  1.3047303442899274,\n",
              "  1.3066806149514323],\n",
              " [1.2545444272738806,\n",
              "  0.9530497197324984,\n",
              "  1.2175473714324692,\n",
              "  1.2884365247313312,\n",
              "  0.9086309378423031,\n",
              "  1.6862088746483865,\n",
              "  1.5856842086332537,\n",
              "  1.1592130430805836,\n",
              "  1.279710177126108,\n",
              "  1.0633252294833648,\n",
              "  1.202428817797562,\n",
              "  1.5245217997788632,\n",
              "  0.8821892460776537,\n",
              "  1.0484203128949652,\n",
              "  1.2669240580121583,\n",
              "  1.284492794702915,\n",
              "  0.9710276842711509,\n",
              "  1.3610373872962498,\n",
              "  1.2730179478624046,\n",
              "  0.8622721335665681,\n",
              "  1.2966044607925333,\n",
              "  1.282590738984066,\n",
              "  1.536525938245319,\n",
              "  1.608254300726017,\n",
              "  1.020757205515136]]"
            ]
          },
          "metadata": {
            "tags": []
          },
          "execution_count": 38
        }
      ]
    },
    {
      "cell_type": "code",
      "metadata": {
        "id": "4xS7NSM92s_8",
        "colab": {
          "base_uri": "https://localhost:8080/",
          "height": 282
        },
        "outputId": "a41faba9-ed0f-4fa6-bdcb-5250bf06716f"
      },
      "source": [
        " bins_list = [0.8, 1.0, 1.2, 1.4,1.6, 1.8,2.0]\n",
        " wt1 = np.ones(len(Diam1)) / len(Diam1)*100\n",
        " wt2 = np.ones(len(Diameter_All)) / len(Diameter_All)*100\n",
        " X = pd.DataFrame([Diam1,Diameter_All])\n",
        " wts = pd.DataFrame([wt1,wt2])\n",
        "plt.hist(X,weights=wts,bins = bins_list)\n",
        "plt.legend(['Image J','CNN'])"
      ],
      "execution_count": null,
      "outputs": [
        {
          "output_type": "execute_result",
          "data": {
            "text/plain": [
              "<matplotlib.legend.Legend at 0x7f959d51ae90>"
            ]
          },
          "metadata": {
            "tags": []
          },
          "execution_count": 39
        },
        {
          "output_type": "display_data",
          "data": {
            "image/png": "[encoded data removed]",
            "text/plain": [
              "<Figure size 432x288 with 1 Axes>"
            ]
          },
          "metadata": {
            "tags": [],
            "needs_background": "light"
          }
        }
      ]
    },
    {
      "cell_type": "code",
      "metadata": {
        "id": "jD80rFZs37Wm",
        "colab": {
          "base_uri": "https://localhost:8080/",
          "height": 265
        },
        "outputId": "e4ebfc8c-9668-4a69-e68f-69bf39fdfdaa"
      },
      "source": [
        "yy = plt.hist(X,weights=wts,bins = bins_list)"
      ],
      "execution_count": null,
      "outputs": [
        {
          "output_type": "display_data",
          "data": {
            "image/png": "[encoded data removed]",
            "text/plain": [
              "<Figure size 432x288 with 1 Axes>"
            ]
          },
          "metadata": {
            "tags": [],
            "needs_background": "light"
          }
        }
      ]
    },
    {
      "cell_type": "code",
      "metadata": {
        "id": "edcwJoJP4GBs",
        "colab": {
          "base_uri": "https://localhost:8080/"
        },
        "outputId": "cee99bb3-5911-4c56-a138-12f6274f79ff"
      },
      "source": [
        "yy[0][0]"
      ],
      "execution_count": null,
      "outputs": [
        {
          "output_type": "execute_result",
          "data": {
            "text/plain": [
              "array([10.52631579, 24.21052632, 36.84210526, 14.73684211,  7.36842105,\n",
              "        0.        ])"
            ]
          },
          "metadata": {
            "tags": []
          },
          "execution_count": 41
        }
      ]
    },
    {
      "cell_type": "code",
      "metadata": {
        "id": "_0zY-NBY6Rgx",
        "colab": {
          "base_uri": "https://localhost:8080/"
        },
        "outputId": "f6c931ed-922c-4624-bc3e-55ffe90961ee"
      },
      "source": [
        "bins_list"
      ],
      "execution_count": null,
      "outputs": [
        {
          "output_type": "execute_result",
          "data": {
            "text/plain": [
              "[0.8, 1.0, 1.2, 1.4, 1.6, 1.8, 2.0]"
            ]
          },
          "metadata": {
            "tags": []
          },
          "execution_count": 42
        }
      ]
    },
    {
      "cell_type": "code",
      "metadata": {
        "id": "9ujCjAa85RG5"
      },
      "source": [
        "k =0\n",
        "for kk in yy[0][0]:\n",
        "  name = str(bins_list[k])\n",
        "  df[name] = yy[0][1][k]\n",
        "  k = k+1"
      ],
      "execution_count": null,
      "outputs": []
    },
    {
      "cell_type": "code",
      "metadata": {
        "id": "iMQRVn4D69RC",
        "colab": {
          "base_uri": "https://localhost:8080/",
          "height": 80
        },
        "outputId": "0e1c308d-abf2-4f78-c436-e48c934dd34e"
      },
      "source": [
        "df"
      ],
      "execution_count": null,
      "outputs": [
        {
          "output_type": "execute_result",
          "data": {
            "text/html": [
              "<div>\n",
              "<style scoped>\n",
              "    .dataframe tbody tr th:only-of-type {\n",
              "        vertical-align: middle;\n",
              "    }\n",
              "\n",
              "    .dataframe tbody tr th {\n",
              "        vertical-align: top;\n",
              "    }\n",
              "\n",
              "    .dataframe thead th {\n",
              "        text-align: right;\n",
              "    }\n",
              "</style>\n",
              "<table border=\"1\" class=\"dataframe\">\n",
              "  <thead>\n",
              "    <tr style=\"text-align: right;\">\n",
              "      <th></th>\n",
              "      <th>N1</th>\n",
              "      <th>N2</th>\n",
              "      <th>R^2</th>\n",
              "      <th>acc train</th>\n",
              "      <th>acc test</th>\n",
              "      <th>loss train</th>\n",
              "      <th>loss test</th>\n",
              "      <th>Details</th>\n",
              "      <th>0.8</th>\n",
              "      <th>1.0</th>\n",
              "      <th>1.2</th>\n",
              "      <th>1.4</th>\n",
              "      <th>1.6</th>\n",
              "      <th>1.8</th>\n",
              "    </tr>\n",
              "  </thead>\n",
              "  <tbody>\n",
              "    <tr>\n",
              "      <th>0</th>\n",
              "      <td>200</td>\n",
              "      <td>10</td>\n",
              "      <td>0.980037</td>\n",
              "      <td>1.0</td>\n",
              "      <td>0.945578</td>\n",
              "      <td>0.000003</td>\n",
              "      <td>0.328443</td>\n",
              "      <td>3 layers of Convolution: 32, 64, 128</td>\n",
              "      <td>20.0</td>\n",
              "      <td>16.0</td>\n",
              "      <td>44.0</td>\n",
              "      <td>12.0</td>\n",
              "      <td>8.0</td>\n",
              "      <td>0.0</td>\n",
              "    </tr>\n",
              "  </tbody>\n",
              "</table>\n",
              "</div>"
            ],
            "text/plain": [
              "    N1  N2       R^2  acc train  acc test  ...   1.0   1.2   1.4  1.6  1.8\n",
              "0  200  10  0.980037        1.0  0.945578  ...  16.0  44.0  12.0  8.0  0.0\n",
              "\n",
              "[1 rows x 14 columns]"
            ]
          },
          "metadata": {
            "tags": []
          },
          "execution_count": 44
        }
      ]
    },
    {
      "cell_type": "code",
      "metadata": {
        "id": "JMWpAwMq5Hw2",
        "colab": {
          "base_uri": "https://localhost:8080/",
          "height": 17
        },
        "outputId": "99f8a502-43b3-4f4d-c700-bbed5fe886c3"
      },
      "source": [
        "Arq = \"output.xlsx\"\n",
        "df.to_excel(Arq)\n",
        "files.download(Arq)"
      ],
      "execution_count": null,
      "outputs": [
        {
          "output_type": "display_data",
          "data": {
            "application/javascript": [
              "\n",
              "    async function download(id, filename, size) {\n",
              "      if (!google.colab.kernel.accessAllowed) {\n",
              "        return;\n",
              "      }\n",
              "      const div = document.createElement('div');\n",
              "      const label = document.createElement('label');\n",
              "      label.textContent = `Downloading \"${filename}\": `;\n",
              "      div.appendChild(label);\n",
              "      const progress = document.createElement('progress');\n",
              "      progress.max = size;\n",
              "      div.appendChild(progress);\n",
              "      document.body.appendChild(div);\n",
              "\n",
              "      const buffers = [];\n",
              "      let downloaded = 0;\n",
              "\n",
              "      const channel = await google.colab.kernel.comms.open(id);\n",
              "      // Send a message to notify the kernel that we're ready.\n",
              "      channel.send({})\n",
              "\n",
              "      for await (const message of channel.messages) {\n",
              "        // Send a message to notify the kernel that we're ready.\n",
              "        channel.send({})\n",
              "        if (message.buffers) {\n",
              "          for (const buffer of message.buffers) {\n",
              "            buffers.push(buffer);\n",
              "            downloaded += buffer.byteLength;\n",
              "            progress.value = downloaded;\n",
              "          }\n",
              "        }\n",
              "      }\n",
              "      const blob = new Blob(buffers, {type: 'application/binary'});\n",
              "      const a = document.createElement('a');\n",
              "      a.href = window.URL.createObjectURL(blob);\n",
              "      a.download = filename;\n",
              "      div.appendChild(a);\n",
              "      a.click();\n",
              "      div.remove();\n",
              "    }\n",
              "  "
            ],
            "text/plain": [
              "<IPython.core.display.Javascript object>"
            ]
          },
          "metadata": {
            "tags": []
          }
        },
        {
          "output_type": "display_data",
          "data": {
            "application/javascript": [
              "download(\"download_a8a51e24-ed52-44ab-bc0e-11f525aa4758\", \"output.xlsx\", 5239)"
            ],
            "text/plain": [
              "<IPython.core.display.Javascript object>"
            ]
          },
          "metadata": {
            "tags": []
          }
        }
      ]
    }
  ]
}