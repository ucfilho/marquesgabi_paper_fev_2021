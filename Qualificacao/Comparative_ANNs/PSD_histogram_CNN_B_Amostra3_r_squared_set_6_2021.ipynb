{
  "nbformat": 4,
  "nbformat_minor": 0,
  "metadata": {
    "colab": {
      "name": "PSD_histogram_CNN_B_Amostra3_r_squared_set_09_2021.ipynb",
      "provenance": [],
      "collapsed_sections": [],
      "include_colab_link": true
    },
    "kernelspec": {
      "display_name": "Python 3",
      "name": "python3"
    }
  },
  "cells": [
    {
      "cell_type": "markdown",
      "metadata": {
        "id": "view-in-github",
        "colab_type": "text"
      },
      "source": [
        "<a href=\"https://colab.research.google.com/github/ucfilho/marquesgabi_paper_fev_2021/blob/main/Qualificacao/Comparative_ANNs/PSD_histogram_CNN_B_Amostra3_r_squared_set_6_2021.ipynb\" target=\"_parent\"><img src=\"https://colab.research.google.com/assets/colab-badge.svg\" alt=\"Open In Colab\"/></a>"
      ]
    },
    {
      "cell_type": "code",
      "metadata": {
        "id": "Sog7Z9pyhUD_"
      },
      "source": [
        "import matplotlib.pyplot as plt\n",
        "import numpy as np\n",
        "import cv2\n",
        "import zipfile\n",
        "#import random\n",
        "from random import randint\n",
        "from PIL import Image\n",
        "import re\n",
        "from sklearn.model_selection import train_test_split\n",
        "#import scikit-image\n",
        "import skimage\n",
        "import sklearn\n",
        "import pandas as pd\n",
        "from keras.models import Sequential\n",
        "from keras.layers import Dense, Activation, Conv2D, MaxPooling2D, Flatten, Dropout, BatchNormalization\n",
        "from sklearn.metrics import r2_score\n",
        "from google.colab import files"
      ],
      "execution_count": 51,
      "outputs": []
    },
    {
      "cell_type": "code",
      "metadata": {
        "colab": {
          "base_uri": "https://localhost:8080/"
        },
        "id": "uZEvJvfoibE4",
        "outputId": "ca9fb5c5-e950-4688-f9ab-206b58773010"
      },
      "source": [
        "!pip install mahotas"
      ],
      "execution_count": 52,
      "outputs": [
        {
          "output_type": "stream",
          "name": "stdout",
          "text": [
            "Requirement already satisfied: mahotas in /usr/local/lib/python3.7/dist-packages (1.4.11)\n",
            "Requirement already satisfied: numpy in /usr/local/lib/python3.7/dist-packages (from mahotas) (1.19.5)\n"
          ]
        }
      ]
    },
    {
      "cell_type": "code",
      "metadata": {
        "id": "nf_a6PJ1iUnT"
      },
      "source": [
        "import mahotas.features.texture as mht\n",
        "import mahotas.features"
      ],
      "execution_count": 53,
      "outputs": []
    },
    {
      "cell_type": "code",
      "metadata": {
        "colab": {
          "base_uri": "https://localhost:8080/"
        },
        "id": "_VcTdaNVh9EE",
        "outputId": "22f079b6-ffff-4a87-dea2-b30ad5775252"
      },
      "source": [
        "!git clone https://github.com/ucfilho/marquesgabi_fev_2020 #clonar do Github\n",
        "%cd marquesgabi_fev_2020\n",
        "import Go2BlackWhite\n",
        "import Go2Mahotas"
      ],
      "execution_count": 54,
      "outputs": [
        {
          "output_type": "stream",
          "name": "stdout",
          "text": [
            "Cloning into 'marquesgabi_fev_2020'...\n",
            "remote: Enumerating objects: 73, done.\u001b[K\n",
            "remote: Counting objects:   1% (1/73)\u001b[K\rremote: Counting objects:   2% (2/73)\u001b[K\rremote: Counting objects:   4% (3/73)\u001b[K\rremote: Counting objects:   5% (4/73)\u001b[K\rremote: Counting objects:   6% (5/73)\u001b[K\rremote: Counting objects:   8% (6/73)\u001b[K\rremote: Counting objects:   9% (7/73)\u001b[K\rremote: Counting objects:  10% (8/73)\u001b[K\rremote: Counting objects:  12% (9/73)\u001b[K\rremote: Counting objects:  13% (10/73)\u001b[K\rremote: Counting objects:  15% (11/73)\u001b[K\rremote: Counting objects:  16% (12/73)\u001b[K\rremote: Counting objects:  17% (13/73)\u001b[K\rremote: Counting objects:  19% (14/73)\u001b[K\rremote: Counting objects:  20% (15/73)\u001b[K\rremote: Counting objects:  21% (16/73)\u001b[K\rremote: Counting objects:  23% (17/73)\u001b[K\rremote: Counting objects:  24% (18/73)\u001b[K\rremote: Counting objects:  26% (19/73)\u001b[K\rremote: Counting objects:  27% (20/73)\u001b[K\rremote: Counting objects:  28% (21/73)\u001b[K\rremote: Counting objects:  30% (22/73)\u001b[K\rremote: Counting objects:  31% (23/73)\u001b[K\rremote: Counting objects:  32% (24/73)\u001b[K\rremote: Counting objects:  34% (25/73)\u001b[K\rremote: Counting objects:  35% (26/73)\u001b[K\rremote: Counting objects:  36% (27/73)\u001b[K\rremote: Counting objects:  38% (28/73)\u001b[K\rremote: Counting objects:  39% (29/73)\u001b[K\rremote: Counting objects:  41% (30/73)\u001b[K\rremote: Counting objects:  42% (31/73)\u001b[K\rremote: Counting objects:  43% (32/73)\u001b[K\rremote: Counting objects:  45% (33/73)\u001b[K\rremote: Counting objects:  46% (34/73)\u001b[K\rremote: Counting objects:  47% (35/73)\u001b[K\rremote: Counting objects:  49% (36/73)\u001b[K\rremote: Counting objects:  50% (37/73)\u001b[K\rremote: Counting objects:  52% (38/73)\u001b[K\rremote: Counting objects:  53% (39/73)\u001b[K\rremote: Counting objects:  54% (40/73)\u001b[K\rremote: Counting objects:  56% (41/73)\u001b[K\rremote: Counting objects:  57% (42/73)\u001b[K\rremote: Counting objects:  58% (43/73)\u001b[K\rremote: Counting objects:  60% (44/73)\u001b[K\rremote: Counting objects:  61% (45/73)\u001b[K\rremote: Counting objects:  63% (46/73)\u001b[K\rremote: Counting objects:  64% (47/73)\u001b[K\rremote: Counting objects:  65% (48/73)\u001b[K\rremote: Counting objects:  67% (49/73)\u001b[K\rremote: Counting objects:  68% (50/73)\u001b[K\rremote: Counting objects:  69% (51/73)\u001b[K\rremote: Counting objects:  71% (52/73)\u001b[K\rremote: Counting objects:  72% (53/73)\u001b[K\rremote: Counting objects:  73% (54/73)\u001b[K\rremote: Counting objects:  75% (55/73)\u001b[K\rremote: Counting objects:  76% (56/73)\u001b[K\rremote: Counting objects:  78% (57/73)\u001b[K\rremote: Counting objects:  79% (58/73)\u001b[K\rremote: Counting objects:  80% (59/73)\u001b[K\rremote: Counting objects:  82% (60/73)\u001b[K\rremote: Counting objects:  83% (61/73)\u001b[K\rremote: Counting objects:  84% (62/73)\u001b[K\rremote: Counting objects:  86% (63/73)\u001b[K\rremote: Counting objects:  87% (64/73)\u001b[K\rremote: Counting objects:  89% (65/73)\u001b[K\rremote: Counting objects:  90% (66/73)\u001b[K\rremote: Counting objects:  91% (67/73)\u001b[K\rremote: Counting objects:  93% (68/73)\u001b[K\rremote: Counting objects:  94% (69/73)\u001b[K\rremote: Counting objects:  95% (70/73)\u001b[K\rremote: Counting objects:  97% (71/73)\u001b[K\rremote: Counting objects:  98% (72/73)\u001b[K\rremote: Counting objects: 100% (73/73)\u001b[K\rremote: Counting objects: 100% (73/73), done.\u001b[K\n",
            "remote: Compressing objects: 100% (71/71), done.\u001b[K\n",
            "remote: Total 73 (delta 37), reused 0 (delta 0), pack-reused 0\u001b[K\n",
            "Unpacking objects: 100% (73/73), done.\n",
            "/content/marquesgabi_fev_2020/Doutorado/MarquesGabi_Routines/MarquesGabi_Routines/marquesgabi_paper_fev_2021/marquesgabi_out_2020/marquesgabi_fev_2020\n"
          ]
        }
      ]
    },
    {
      "cell_type": "code",
      "metadata": {
        "colab": {
          "base_uri": "https://localhost:8080/"
        },
        "id": "1v7SRrc8mH2N",
        "outputId": "2f6313b0-bc3c-4070-d499-040d0b880c71"
      },
      "source": [
        "!git clone https://github.com/marquesgabi/Doutorado\n",
        "%cd Doutorado\n",
        "\n",
        "Transfere='Fotos_Grandes_3cdAmostra.zip' \n",
        "file_name = zipfile.ZipFile(Transfere, 'r')\n",
        "file_name.extractall()"
      ],
      "execution_count": 55,
      "outputs": [
        {
          "output_type": "stream",
          "name": "stdout",
          "text": [
            "Cloning into 'Doutorado'...\n",
            "remote: Enumerating objects: 446, done.\u001b[K\n",
            "remote: Counting objects: 100% (196/196), done.\u001b[K\n",
            "remote: Compressing objects: 100% (195/195), done.\u001b[K\n",
            "remote: Total 446 (delta 90), reused 0 (delta 0), pack-reused 250\u001b[K\n",
            "Receiving objects: 100% (446/446), 165.87 MiB | 29.80 MiB/s, done.\n",
            "Resolving deltas: 100% (213/213), done.\n",
            "/content/marquesgabi_fev_2020/Doutorado/MarquesGabi_Routines/MarquesGabi_Routines/marquesgabi_paper_fev_2021/marquesgabi_out_2020/marquesgabi_fev_2020/Doutorado\n"
          ]
        }
      ]
    },
    {
      "cell_type": "code",
      "metadata": {
        "colab": {
          "base_uri": "https://localhost:8080/"
        },
        "id": "NqIYzUcnrdMp",
        "outputId": "b954e5ec-197a-497f-e418-eeace99152de"
      },
      "source": [
        "labels =[]\n",
        "with zipfile.ZipFile(Transfere, \"r\") as f:\n",
        "  for f in f.namelist():\n",
        "    labels.append(f)\n",
        "print(labels)"
      ],
      "execution_count": 56,
      "outputs": [
        {
          "output_type": "stream",
          "name": "stdout",
          "text": [
            "['Fotos_Grandes-3cdAmostra/Q6-8-4.jpg', 'Fotos_Grandes-3cdAmostra/Q6-5-3.jpg', 'Fotos_Grandes-3cdAmostra/Q6-7-4.jpg', 'Fotos_Grandes-3cdAmostra/Q6-8-2.jpg', 'Fotos_Grandes-3cdAmostra/Q6-3-2.jpg', 'Fotos_Grandes-3cdAmostra/Q6-7-2.jpg', 'Fotos_Grandes-3cdAmostra/Q6-4-4.jpg', 'Fotos_Grandes-3cdAmostra/Q6-9-5.jpg', 'Fotos_Grandes-3cdAmostra/Q6-2-5.jpg', 'Fotos_Grandes-3cdAmostra/Q6-8-3.jpg', 'Fotos_Grandes-3cdAmostra/Q6-9-3.jpg', 'Fotos_Grandes-3cdAmostra/Q6-1-2.jpg', 'Fotos_Grandes-3cdAmostra/Q6-6-3.jpg', 'Fotos_Grandes-3cdAmostra/Q6-3-4.jpg', 'Fotos_Grandes-3cdAmostra/Q6-1-4.jpg', 'Fotos_Grandes-3cdAmostra/Q6-6-2.jpg', 'Fotos_Grandes-3cdAmostra/Q6-4-3.jpg', 'Fotos_Grandes-3cdAmostra/Q6-7-3.jpg', 'Fotos_Grandes-3cdAmostra/Q6-2-2.jpg', 'Fotos_Grandes-3cdAmostra/Q6-9-2.jpg', 'Fotos_Grandes-3cdAmostra/Q6-1-5.jpg', 'Fotos_Grandes-3cdAmostra/Q6-6-5.jpg', 'Fotos_Grandes-3cdAmostra/Q6-2-1.jpg', 'Fotos_Grandes-3cdAmostra/Q6-5-2.jpg', 'Fotos_Grandes-3cdAmostra/Q6-4-1.jpg', 'Fotos_Grandes-3cdAmostra/Q6-3-1.jpg', 'Fotos_Grandes-3cdAmostra/Q6-5-4.jpg']\n"
          ]
        }
      ]
    },
    {
      "cell_type": "code",
      "metadata": {
        "id": "0kA4IWSmasoD"
      },
      "source": [
        "Size=1200 # tamanho da foto\n",
        "ww,img_name=Go2BlackWhite.BlackWhite(Transfere,Size) #Pegamos a primeira foto Grande\n",
        "img=ww[4] \n",
        "# this is the big image we want to segment \n",
        "# ww[0], change it if you want to segment another picture"
      ],
      "execution_count": 57,
      "outputs": []
    },
    {
      "cell_type": "code",
      "metadata": {
        "colab": {
          "base_uri": "https://localhost:8080/"
        },
        "id": "tHgqAnaFyCjp",
        "outputId": "c817bc2e-c603-4faa-e1b7-cdd7c496213c"
      },
      "source": [
        "!git clone https://github.com/ucfilho/MarquesGabi_Routines\n",
        "%cd MarquesGabi_Routines"
      ],
      "execution_count": 58,
      "outputs": [
        {
          "output_type": "stream",
          "name": "stdout",
          "text": [
            "Cloning into 'MarquesGabi_Routines'...\n",
            "remote: Enumerating objects: 163, done.\u001b[K\n",
            "remote: Counting objects: 100% (163/163), done.\u001b[K\n",
            "remote: Compressing objects: 100% (160/160), done.\u001b[K\n",
            "remote: Total 163 (delta 65), reused 3 (delta 1), pack-reused 0\u001b[K\n",
            "Receiving objects: 100% (163/163), 211.71 MiB | 24.34 MiB/s, done.\n",
            "Resolving deltas: 100% (65/65), done.\n",
            "Checking out files: 100% (46/46), done.\n",
            "/content/marquesgabi_fev_2020/Doutorado/MarquesGabi_Routines/MarquesGabi_Routines/marquesgabi_paper_fev_2021/marquesgabi_out_2020/marquesgabi_fev_2020/Doutorado/MarquesGabi_Routines\n"
          ]
        }
      ]
    },
    {
      "cell_type": "code",
      "metadata": {
        "id": "qc4rFvzkyWCi"
      },
      "source": [
        "from segment_filter_not_conclude import Segmenta  # got image provided segmented"
      ],
      "execution_count": 59,
      "outputs": []
    },
    {
      "cell_type": "code",
      "metadata": {
        "id": "SnTtH3KDP863"
      },
      "source": [
        "df=Segmenta(img)\n",
        "Img_Size = 28"
      ],
      "execution_count": 60,
      "outputs": []
    },
    {
      "cell_type": "code",
      "metadata": {
        "colab": {
          "base_uri": "https://localhost:8080/"
        },
        "id": "YN5MN5a_v4np",
        "outputId": "01d3215b-acbc-4d04-e680-d5708f069225"
      },
      "source": [
        "print(df)"
      ],
      "execution_count": 61,
      "outputs": [
        {
          "output_type": "stream",
          "name": "stdout",
          "text": [
            "    Width           0           1  ...         781         782         783\n",
            "0     112  129.562500  119.625000  ...  251.875000  235.437500  208.000000\n",
            "1     134    9.139453   58.908669  ...  147.801071  145.053253  146.228561\n",
            "2     116  136.763382  143.142685  ...    1.003567    0.077289    0.491082\n",
            "3     132   94.502304   86.445366  ...    1.000000    1.115703    0.955005\n",
            "4     144  216.364212  196.842590  ...  152.687500  169.604950  182.882736\n",
            "5     136  104.370247  112.321800  ...    1.001730    1.983564    1.649654\n",
            "6     177  148.768127  139.079727  ...  245.814804  252.034821  253.785660\n",
            "7     172  191.705276  191.127640  ...   41.689026   70.091942   82.190376\n",
            "8     193  131.069153  133.545090  ...  168.317856  149.592987  145.165100\n",
            "9     115  110.326042  108.850807  ...  133.522400  169.111664  166.988876\n",
            "10    165    0.368191    0.228320  ...  115.246948  114.279968  109.948196\n",
            "11    134  190.111389  196.545792  ...  196.518387  207.346848  145.773224\n",
            "12    182  147.443787  155.988190  ...    1.254438    0.124260    1.331361\n",
            "13    140  104.399994  100.720001  ...  156.279999  152.160004  149.599991\n",
            "14    143  179.143234  183.623550  ...  134.325058  127.940880  123.685516\n",
            "15    142  122.264038  120.421944  ...    0.475501    0.419163    1.433248\n",
            "16    110  141.494537  138.723633  ...    1.069422    0.930909    0.509091\n",
            "17    100  181.356812  147.337601  ...  130.135986  130.937592  131.270401\n",
            "18    179    1.693861    0.799320  ...  143.311234  124.483063  123.638092\n",
            "19    113  118.147079  120.332207  ...  177.568954  174.575684  171.434326\n",
            "20    148  137.883865  145.134415  ...    0.188459    1.000000    1.000000\n",
            "21    173  163.226456  146.647842  ...  134.249847  162.550781  166.583267\n",
            "22    191  180.367706  165.506607  ...  177.801926  148.047791  124.951607\n",
            "23    148  160.138062  170.520844  ...  169.312653  186.162170  186.965683\n",
            "24    111   18.175310   33.121986  ...  147.350449  143.811218  140.695404\n",
            "25    152  161.621185  170.652344  ...   16.409971    6.574099    2.308172\n",
            "26    148  143.809357  138.940109  ...    0.197955    0.738495    1.460190\n",
            "27    116    0.001189    0.800238  ...  117.611176  130.504166  134.323410\n",
            "28    156  165.864563  164.831711  ...  130.188690  135.486526  137.512817\n",
            "29    123    0.824179    1.685968  ...  129.176880  134.997360  143.939514\n",
            "30    171  167.086243  182.412262  ...  175.329941  162.283539  160.529099\n",
            "31    157  168.102234  165.544983  ...  174.636261  168.194092  159.448349\n",
            "32    133  168.883652  166.850403  ...    0.024931    0.919668    1.867036\n",
            "33    152  198.166901  193.051941  ...    0.639197    0.323407    1.402355\n",
            "34    149  131.313782  126.053650  ...  121.914696  120.723495  121.279144\n",
            "35    153  206.920547  179.225220  ...    1.079029    0.160280    0.582511\n",
            "36    130  151.278351  149.064392  ...  180.634338  181.588654  190.994080\n",
            "37    179  168.260513  141.763824  ...  191.738739  191.355713  194.041687\n",
            "38    183  144.753860  147.672791  ...  253.162735  251.031036  251.425568\n",
            "39    188  193.299683  191.906738  ...    0.011770    0.408330    0.944771\n",
            "40    193  188.025513  182.443787  ...    1.409649    0.171629    1.311203\n",
            "41    148  158.934998  159.279053  ...  198.258606  202.596069  199.074524\n",
            "42    102   78.000015   77.574013  ...    3.276048    1.826221   10.449059\n",
            "43    102  133.549042  131.152252  ...  163.123428  153.973114  128.197632\n",
            "44    163  108.207603  120.242012  ...    0.845572    0.256201    1.397305\n",
            "45    185    0.476961    0.665654  ...  102.239174  102.872650   96.346794\n",
            "46    111   91.229118   83.809273  ...  154.001526  156.338684  155.359222\n",
            "47    119  140.491364  147.155701  ...  148.304504  144.266434  138.169556\n",
            "48    148  162.764801  166.685181  ...  165.493073  165.745087  165.245453\n",
            "49    117    1.578640    1.397034  ...  166.459473  179.602524  188.450653\n",
            "\n",
            "[50 rows x 785 columns]\n"
          ]
        }
      ]
    },
    {
      "cell_type": "code",
      "metadata": {
        "colab": {
          "base_uri": "https://localhost:8080/",
          "height": 52
        },
        "id": "xzpQ1Pz0fX5L",
        "outputId": "ac937d98-ec1f-4ca7-99e5-a30d64db6486"
      },
      "source": [
        "'''\n",
        "!git clone https://github.com/ucfilho/MarquesGabi_Routines\n",
        "%cd MarquesGabi_Routines\n",
        "# filename = 'model_ANN.pkl'\n",
        "filename = 'model_ANN_new.pkl'\n",
        "model = joblib.load(filename)\n",
        "'''"
      ],
      "execution_count": 62,
      "outputs": [
        {
          "output_type": "execute_result",
          "data": {
            "application/vnd.google.colaboratory.intrinsic+json": {
              "type": "string"
            },
            "text/plain": [
              "\"\\n!git clone https://github.com/ucfilho/MarquesGabi_Routines\\n%cd MarquesGabi_Routines\\n# filename = 'model_ANN.pkl'\\nfilename = 'model_ANN_new.pkl'\\nmodel = joblib.load(filename)\\n\""
            ]
          },
          "metadata": {},
          "execution_count": 62
        }
      ]
    },
    {
      "cell_type": "code",
      "metadata": {
        "colab": {
          "base_uri": "https://localhost:8080/"
        },
        "id": "xR2emP4rNjQy",
        "outputId": "9c30012c-86cc-43bd-b4e8-fd1381707624"
      },
      "source": [
        "!git clone https://github.com/ucfilho/MarquesGabi_Routines\n",
        "%cd MarquesGabi_Routines"
      ],
      "execution_count": 63,
      "outputs": [
        {
          "output_type": "stream",
          "name": "stdout",
          "text": [
            "Cloning into 'MarquesGabi_Routines'...\n",
            "remote: Enumerating objects: 163, done.\u001b[K\n",
            "remote: Counting objects: 100% (163/163), done.\u001b[K\n",
            "remote: Compressing objects: 100% (161/161), done.\u001b[K\n",
            "remote: Total 163 (delta 65), reused 0 (delta 0), pack-reused 0\u001b[K\n",
            "Receiving objects: 100% (163/163), 211.71 MiB | 21.68 MiB/s, done.\n",
            "Resolving deltas: 100% (65/65), done.\n",
            "Checking out files: 100% (46/46), done.\n",
            "/content/marquesgabi_fev_2020/Doutorado/MarquesGabi_Routines/MarquesGabi_Routines/marquesgabi_paper_fev_2021/marquesgabi_out_2020/marquesgabi_fev_2020/Doutorado/MarquesGabi_Routines/MarquesGabi_Routines\n"
          ]
        }
      ]
    },
    {
      "cell_type": "code",
      "metadata": {
        "id": "O6cMHOrlNliO"
      },
      "source": [
        "# leitura dos dados\n",
        "df=pd.read_excel(\"FotosTreinoRede.xlsx\")\n",
        "y = df['y']\n",
        "df.drop(['Unnamed: 0','y'], axis='columns', inplace=True)"
      ],
      "execution_count": 64,
      "outputs": []
    },
    {
      "cell_type": "code",
      "metadata": {
        "id": "zQO8d2QbNqj0"
      },
      "source": [
        "X =np.array(df.copy())/255.0 \n",
        "\n",
        "\n",
        "X_train, X_test, Y_train, Y_test = train_test_split(X, y, test_size=0.30, shuffle=True, random_state=42)"
      ],
      "execution_count": 65,
      "outputs": []
    },
    {
      "cell_type": "code",
      "metadata": {
        "id": "gIFPGE_-vx3T"
      },
      "source": [
        ""
      ],
      "execution_count": 65,
      "outputs": []
    },
    {
      "cell_type": "code",
      "metadata": {
        "id": "23iKv6bDPWQl"
      },
      "source": [
        "# helper\n",
        "def ynindicator(Y):\n",
        "  N = len(Y)\n",
        "  K = len(set(Y))\n",
        "  I = np.zeros((N, K))\n",
        "  I[np.arange(N), Y] = 1\n",
        "  return I\n",
        "\n",
        "def yback(Y_test):\n",
        "  nrow, ncol = Y_test.shape\n",
        "  y_class = np.zeros(nrow,dtype=int)\n",
        "  y_resp = Y_test\n",
        "  for k in range(nrow):\n",
        "    for kk in range(K):\n",
        "      if(y_resp[k,kk] == 1):\n",
        "        y_class[k] = kk\n",
        "  Y_test = y_class.copy()\n",
        "  return Y_test\n",
        "\n",
        "X_train = np.array(X_train)\n",
        "Y_train = np.array(Y_train)\n",
        "K = len(set(Y_train))\n",
        "\n",
        "X_train = X_train.reshape(-1, Img_Size, Img_Size, 1) / 255.0\n",
        "Y_train = Y_train.astype(np.int32)\n",
        "Y_train = ynindicator(Y_train)\n",
        "\n",
        "X_test = np.array(X_test )\n",
        "Y_test = np.array(Y_test)\n",
        "X_test = X_test.reshape(-1, Img_Size, Img_Size, 1) / 255.0\n",
        "Y_test = Y_test.astype(np.int32)\n",
        "Y_test = ynindicator(Y_test)\n",
        "\n",
        "# the model will be a sequence of layers\n",
        "\n",
        "Description = '3 layers of Convolution: 64, 128, 256 '\n",
        "N1 = 20\n",
        "N2 = 20\n",
        "\n",
        "# make the CNN\n",
        "model = Sequential()\n",
        "model.add(Conv2D(input_shape=(Img_Size, Img_Size, 1), filters=64, kernel_size=(3, 3)))\n",
        "model.add(BatchNormalization())\n",
        "model.add(Activation('relu'))\n",
        "model.add(MaxPooling2D())\n",
        "\n",
        "model.add(Conv2D(filters=128, kernel_size=(3, 3)))\n",
        "model.add(BatchNormalization())\n",
        "model.add(Activation('relu'))\n",
        "model.add(MaxPooling2D())\n",
        "\n",
        "model.add(Conv2D(filters=256, kernel_size=(3, 3)))\n",
        "model.add(BatchNormalization())\n",
        "model.add(Activation('relu'))\n",
        "model.add(MaxPooling2D())\n",
        "\n",
        "model.add(Flatten())\n",
        "model.add(Dense(units=N1))\n",
        "model.add(Dropout(0.2))\n",
        "model.add(Dense(units=N2))\n",
        "model.add(Activation('relu'))\n",
        "#model.add(Dropout(0.2))\n",
        "model.add(Dense(units=K))\n",
        "model.add(Activation('softmax'))\n",
        "\n",
        "\n",
        "# list of losses: https://keras.io/losses/\n",
        "# list of optimizers: https://keras.io/optimizers/\n",
        "# list of metrics: https://keras.io/metrics/\n",
        "model.compile(\n",
        "  loss='categorical_crossentropy',\n",
        "  optimizer='adam',\n",
        "  metrics=['accuracy']\n",
        ")"
      ],
      "execution_count": 66,
      "outputs": []
    },
    {
      "cell_type": "code",
      "metadata": {
        "colab": {
          "base_uri": "https://localhost:8080/"
        },
        "id": "FpbPQ1FSRG6A",
        "outputId": "855f04b8-2f45-476d-d15c-cff662226057"
      },
      "source": [
        "\n",
        "# training the model\n",
        "r = model.fit(X_train, Y_train, validation_data=(X_test,Y_test), \n",
        "              epochs=200, batch_size=32)"
      ],
      "execution_count": 67,
      "outputs": [
        {
          "output_type": "stream",
          "name": "stdout",
          "text": [
            "Epoch 1/200\n",
            "11/11 [==============================] - 2s 140ms/step - loss: 0.5707 - accuracy: 0.7289 - val_loss: 0.6930 - val_accuracy: 0.5102\n",
            "Epoch 2/200\n",
            "11/11 [==============================] - 1s 119ms/step - loss: 0.2864 - accuracy: 0.8746 - val_loss: 0.6931 - val_accuracy: 0.5102\n",
            "Epoch 3/200\n",
            "11/11 [==============================] - 1s 119ms/step - loss: 0.2015 - accuracy: 0.9242 - val_loss: 0.6934 - val_accuracy: 0.5102\n",
            "Epoch 4/200\n",
            "11/11 [==============================] - 1s 120ms/step - loss: 0.1385 - accuracy: 0.9504 - val_loss: 0.6935 - val_accuracy: 0.5102\n",
            "Epoch 5/200\n",
            "11/11 [==============================] - 1s 119ms/step - loss: 0.1055 - accuracy: 0.9592 - val_loss: 0.6931 - val_accuracy: 0.5102\n",
            "Epoch 6/200\n",
            "11/11 [==============================] - 1s 119ms/step - loss: 0.1047 - accuracy: 0.9475 - val_loss: 0.6933 - val_accuracy: 0.5102\n",
            "Epoch 7/200\n",
            "11/11 [==============================] - 1s 119ms/step - loss: 0.0546 - accuracy: 0.9825 - val_loss: 0.6936 - val_accuracy: 0.5102\n",
            "Epoch 8/200\n",
            "11/11 [==============================] - 1s 118ms/step - loss: 0.0235 - accuracy: 0.9971 - val_loss: 0.6937 - val_accuracy: 0.5102\n",
            "Epoch 9/200\n",
            "11/11 [==============================] - 1s 118ms/step - loss: 0.0244 - accuracy: 0.9913 - val_loss: 0.6955 - val_accuracy: 0.5102\n",
            "Epoch 10/200\n",
            "11/11 [==============================] - 1s 117ms/step - loss: 0.0215 - accuracy: 0.9913 - val_loss: 0.6962 - val_accuracy: 0.5102\n",
            "Epoch 11/200\n",
            "11/11 [==============================] - 1s 118ms/step - loss: 0.0205 - accuracy: 0.9913 - val_loss: 0.6988 - val_accuracy: 0.5102\n",
            "Epoch 12/200\n",
            "11/11 [==============================] - 1s 119ms/step - loss: 0.0239 - accuracy: 0.9913 - val_loss: 0.6979 - val_accuracy: 0.5102\n",
            "Epoch 13/200\n",
            "11/11 [==============================] - 1s 118ms/step - loss: 0.0217 - accuracy: 0.9883 - val_loss: 0.7006 - val_accuracy: 0.5102\n",
            "Epoch 14/200\n",
            "11/11 [==============================] - 1s 116ms/step - loss: 0.0081 - accuracy: 0.9971 - val_loss: 0.7007 - val_accuracy: 0.5102\n",
            "Epoch 15/200\n",
            "11/11 [==============================] - 1s 118ms/step - loss: 0.0063 - accuracy: 1.0000 - val_loss: 0.7068 - val_accuracy: 0.5102\n",
            "Epoch 16/200\n",
            "11/11 [==============================] - 1s 121ms/step - loss: 0.0049 - accuracy: 1.0000 - val_loss: 0.7151 - val_accuracy: 0.5102\n",
            "Epoch 17/200\n",
            "11/11 [==============================] - 1s 118ms/step - loss: 0.0039 - accuracy: 1.0000 - val_loss: 0.7154 - val_accuracy: 0.5102\n",
            "Epoch 18/200\n",
            "11/11 [==============================] - 1s 117ms/step - loss: 0.0056 - accuracy: 1.0000 - val_loss: 0.7209 - val_accuracy: 0.5102\n",
            "Epoch 19/200\n",
            "11/11 [==============================] - 1s 118ms/step - loss: 0.0084 - accuracy: 0.9971 - val_loss: 0.7195 - val_accuracy: 0.5102\n",
            "Epoch 20/200\n",
            "11/11 [==============================] - 1s 120ms/step - loss: 0.0057 - accuracy: 1.0000 - val_loss: 0.7093 - val_accuracy: 0.5102\n",
            "Epoch 21/200\n",
            "11/11 [==============================] - 1s 118ms/step - loss: 0.0027 - accuracy: 1.0000 - val_loss: 0.7086 - val_accuracy: 0.5102\n",
            "Epoch 22/200\n",
            "11/11 [==============================] - 1s 118ms/step - loss: 0.0020 - accuracy: 1.0000 - val_loss: 0.7079 - val_accuracy: 0.5102\n",
            "Epoch 23/200\n",
            "11/11 [==============================] - 1s 118ms/step - loss: 0.0088 - accuracy: 0.9971 - val_loss: 0.7282 - val_accuracy: 0.5102\n",
            "Epoch 24/200\n",
            "11/11 [==============================] - 1s 120ms/step - loss: 0.0041 - accuracy: 1.0000 - val_loss: 0.7626 - val_accuracy: 0.5102\n",
            "Epoch 25/200\n",
            "11/11 [==============================] - 1s 117ms/step - loss: 0.0095 - accuracy: 0.9971 - val_loss: 0.7564 - val_accuracy: 0.5102\n",
            "Epoch 26/200\n",
            "11/11 [==============================] - 1s 117ms/step - loss: 0.0181 - accuracy: 0.9971 - val_loss: 0.7477 - val_accuracy: 0.5102\n",
            "Epoch 27/200\n",
            "11/11 [==============================] - 1s 119ms/step - loss: 0.0093 - accuracy: 0.9971 - val_loss: 0.9367 - val_accuracy: 0.5102\n",
            "Epoch 28/200\n",
            "11/11 [==============================] - 1s 121ms/step - loss: 0.0051 - accuracy: 1.0000 - val_loss: 1.0086 - val_accuracy: 0.5102\n",
            "Epoch 29/200\n",
            "11/11 [==============================] - 1s 119ms/step - loss: 0.0038 - accuracy: 1.0000 - val_loss: 1.0855 - val_accuracy: 0.5102\n",
            "Epoch 30/200\n",
            "11/11 [==============================] - 1s 118ms/step - loss: 0.0020 - accuracy: 1.0000 - val_loss: 1.1219 - val_accuracy: 0.5102\n",
            "Epoch 31/200\n",
            "11/11 [==============================] - 1s 117ms/step - loss: 0.0042 - accuracy: 1.0000 - val_loss: 0.8609 - val_accuracy: 0.5102\n",
            "Epoch 32/200\n",
            "11/11 [==============================] - 1s 118ms/step - loss: 0.0057 - accuracy: 1.0000 - val_loss: 0.7461 - val_accuracy: 0.5102\n",
            "Epoch 33/200\n",
            "11/11 [==============================] - 1s 118ms/step - loss: 0.0065 - accuracy: 0.9971 - val_loss: 0.9264 - val_accuracy: 0.5102\n",
            "Epoch 34/200\n",
            "11/11 [==============================] - 1s 117ms/step - loss: 0.0049 - accuracy: 0.9971 - val_loss: 1.2783 - val_accuracy: 0.5102\n",
            "Epoch 35/200\n",
            "11/11 [==============================] - 1s 118ms/step - loss: 0.0256 - accuracy: 0.9913 - val_loss: 1.2508 - val_accuracy: 0.5102\n",
            "Epoch 36/200\n",
            "11/11 [==============================] - 1s 119ms/step - loss: 0.0357 - accuracy: 0.9942 - val_loss: 2.5025 - val_accuracy: 0.5102\n",
            "Epoch 37/200\n",
            "11/11 [==============================] - 1s 117ms/step - loss: 0.0120 - accuracy: 0.9971 - val_loss: 1.4511 - val_accuracy: 0.5102\n",
            "Epoch 38/200\n",
            "11/11 [==============================] - 1s 122ms/step - loss: 0.0082 - accuracy: 0.9971 - val_loss: 1.2407 - val_accuracy: 0.5102\n",
            "Epoch 39/200\n",
            "11/11 [==============================] - 1s 121ms/step - loss: 0.0048 - accuracy: 0.9971 - val_loss: 1.3068 - val_accuracy: 0.5102\n",
            "Epoch 40/200\n",
            "11/11 [==============================] - 1s 117ms/step - loss: 0.0029 - accuracy: 1.0000 - val_loss: 1.8217 - val_accuracy: 0.5102\n",
            "Epoch 41/200\n",
            "11/11 [==============================] - 1s 118ms/step - loss: 0.0063 - accuracy: 1.0000 - val_loss: 6.3251 - val_accuracy: 0.5102\n",
            "Epoch 42/200\n",
            "11/11 [==============================] - 1s 121ms/step - loss: 0.0022 - accuracy: 1.0000 - val_loss: 7.5528 - val_accuracy: 0.5102\n",
            "Epoch 43/200\n",
            "11/11 [==============================] - 1s 118ms/step - loss: 0.0041 - accuracy: 0.9971 - val_loss: 5.9925 - val_accuracy: 0.5102\n",
            "Epoch 44/200\n",
            "11/11 [==============================] - 1s 121ms/step - loss: 0.0033 - accuracy: 1.0000 - val_loss: 4.8239 - val_accuracy: 0.5102\n",
            "Epoch 45/200\n",
            "11/11 [==============================] - 1s 120ms/step - loss: 0.0054 - accuracy: 0.9971 - val_loss: 3.7426 - val_accuracy: 0.5102\n",
            "Epoch 46/200\n",
            "11/11 [==============================] - 1s 121ms/step - loss: 7.1635e-04 - accuracy: 1.0000 - val_loss: 3.7258 - val_accuracy: 0.5102\n",
            "Epoch 47/200\n",
            "11/11 [==============================] - 1s 120ms/step - loss: 0.0024 - accuracy: 1.0000 - val_loss: 1.9317 - val_accuracy: 0.5102\n",
            "Epoch 48/200\n",
            "11/11 [==============================] - 1s 119ms/step - loss: 0.0034 - accuracy: 0.9971 - val_loss: 1.5891 - val_accuracy: 0.5102\n",
            "Epoch 49/200\n",
            "11/11 [==============================] - 1s 119ms/step - loss: 0.0148 - accuracy: 0.9942 - val_loss: 0.6052 - val_accuracy: 0.6803\n",
            "Epoch 50/200\n",
            "11/11 [==============================] - 1s 120ms/step - loss: 0.0143 - accuracy: 0.9942 - val_loss: 0.9864 - val_accuracy: 0.4898\n",
            "Epoch 51/200\n",
            "11/11 [==============================] - 1s 121ms/step - loss: 0.0432 - accuracy: 0.9854 - val_loss: 2.3743 - val_accuracy: 0.5102\n",
            "Epoch 52/200\n",
            "11/11 [==============================] - 1s 119ms/step - loss: 0.0159 - accuracy: 0.9971 - val_loss: 6.9440 - val_accuracy: 0.5102\n",
            "Epoch 53/200\n",
            "11/11 [==============================] - 1s 117ms/step - loss: 0.0042 - accuracy: 1.0000 - val_loss: 15.1377 - val_accuracy: 0.5102\n",
            "Epoch 54/200\n",
            "11/11 [==============================] - 1s 118ms/step - loss: 0.0125 - accuracy: 0.9942 - val_loss: 8.8067 - val_accuracy: 0.5102\n",
            "Epoch 55/200\n",
            "11/11 [==============================] - 1s 119ms/step - loss: 0.0025 - accuracy: 1.0000 - val_loss: 5.1890 - val_accuracy: 0.5102\n",
            "Epoch 56/200\n",
            "11/11 [==============================] - 1s 118ms/step - loss: 0.0060 - accuracy: 0.9971 - val_loss: 2.9654 - val_accuracy: 0.5102\n",
            "Epoch 57/200\n",
            "11/11 [==============================] - 1s 124ms/step - loss: 0.0070 - accuracy: 0.9971 - val_loss: 2.9330 - val_accuracy: 0.4898\n",
            "Epoch 58/200\n",
            "11/11 [==============================] - 1s 121ms/step - loss: 0.0047 - accuracy: 1.0000 - val_loss: 1.8008 - val_accuracy: 0.4898\n",
            "Epoch 59/200\n",
            "11/11 [==============================] - 1s 122ms/step - loss: 6.9415e-04 - accuracy: 1.0000 - val_loss: 0.5508 - val_accuracy: 0.7823\n",
            "Epoch 60/200\n",
            "11/11 [==============================] - 1s 118ms/step - loss: 0.0042 - accuracy: 0.9971 - val_loss: 4.2754 - val_accuracy: 0.5102\n",
            "Epoch 61/200\n",
            "11/11 [==============================] - 1s 119ms/step - loss: 0.0036 - accuracy: 1.0000 - val_loss: 5.1864 - val_accuracy: 0.5102\n",
            "Epoch 62/200\n",
            "11/11 [==============================] - 1s 120ms/step - loss: 0.0028 - accuracy: 1.0000 - val_loss: 3.9291 - val_accuracy: 0.5102\n",
            "Epoch 63/200\n",
            "11/11 [==============================] - 1s 124ms/step - loss: 8.8448e-04 - accuracy: 1.0000 - val_loss: 2.0815 - val_accuracy: 0.5102\n",
            "Epoch 64/200\n",
            "11/11 [==============================] - 1s 123ms/step - loss: 5.7434e-04 - accuracy: 1.0000 - val_loss: 1.3216 - val_accuracy: 0.5102\n",
            "Epoch 65/200\n",
            "11/11 [==============================] - 1s 120ms/step - loss: 3.8983e-04 - accuracy: 1.0000 - val_loss: 0.9623 - val_accuracy: 0.5102\n",
            "Epoch 66/200\n",
            "11/11 [==============================] - 1s 121ms/step - loss: 9.9887e-05 - accuracy: 1.0000 - val_loss: 0.7728 - val_accuracy: 0.5102\n",
            "Epoch 67/200\n",
            "11/11 [==============================] - 1s 118ms/step - loss: 7.8060e-04 - accuracy: 1.0000 - val_loss: 0.9945 - val_accuracy: 0.5102\n",
            "Epoch 68/200\n",
            "11/11 [==============================] - 1s 121ms/step - loss: 1.5779e-04 - accuracy: 1.0000 - val_loss: 1.1664 - val_accuracy: 0.5102\n",
            "Epoch 69/200\n",
            "11/11 [==============================] - 1s 120ms/step - loss: 1.2335e-04 - accuracy: 1.0000 - val_loss: 1.0233 - val_accuracy: 0.5102\n",
            "Epoch 70/200\n",
            "11/11 [==============================] - 1s 120ms/step - loss: 1.2180e-04 - accuracy: 1.0000 - val_loss: 0.9900 - val_accuracy: 0.5102\n",
            "Epoch 71/200\n",
            "11/11 [==============================] - 1s 121ms/step - loss: 5.1358e-04 - accuracy: 1.0000 - val_loss: 0.8503 - val_accuracy: 0.5102\n",
            "Epoch 72/200\n",
            "11/11 [==============================] - 1s 118ms/step - loss: 2.4949e-05 - accuracy: 1.0000 - val_loss: 0.6673 - val_accuracy: 0.5238\n",
            "Epoch 73/200\n",
            "11/11 [==============================] - 1s 120ms/step - loss: 1.0735e-04 - accuracy: 1.0000 - val_loss: 0.6699 - val_accuracy: 0.5238\n",
            "Epoch 74/200\n",
            "11/11 [==============================] - 1s 121ms/step - loss: 7.1118e-05 - accuracy: 1.0000 - val_loss: 0.7378 - val_accuracy: 0.5170\n",
            "Epoch 75/200\n",
            "11/11 [==============================] - 1s 121ms/step - loss: 1.2801e-04 - accuracy: 1.0000 - val_loss: 0.7703 - val_accuracy: 0.5170\n",
            "Epoch 76/200\n",
            "11/11 [==============================] - 1s 119ms/step - loss: 1.9067e-04 - accuracy: 1.0000 - val_loss: 0.8757 - val_accuracy: 0.5102\n",
            "Epoch 77/200\n",
            "11/11 [==============================] - 1s 118ms/step - loss: 1.6534e-04 - accuracy: 1.0000 - val_loss: 0.9180 - val_accuracy: 0.5102\n",
            "Epoch 78/200\n",
            "11/11 [==============================] - 1s 120ms/step - loss: 1.5513e-04 - accuracy: 1.0000 - val_loss: 0.9792 - val_accuracy: 0.5170\n",
            "Epoch 79/200\n",
            "11/11 [==============================] - 1s 122ms/step - loss: 1.7158e-04 - accuracy: 1.0000 - val_loss: 0.9537 - val_accuracy: 0.5170\n",
            "Epoch 80/200\n",
            "11/11 [==============================] - 1s 117ms/step - loss: 5.3445e-05 - accuracy: 1.0000 - val_loss: 0.9373 - val_accuracy: 0.5238\n",
            "Epoch 81/200\n",
            "11/11 [==============================] - 1s 124ms/step - loss: 1.8352e-04 - accuracy: 1.0000 - val_loss: 0.7758 - val_accuracy: 0.5714\n",
            "Epoch 82/200\n",
            "11/11 [==============================] - 1s 117ms/step - loss: 2.4398e-05 - accuracy: 1.0000 - val_loss: 0.5838 - val_accuracy: 0.6531\n",
            "Epoch 83/200\n",
            "11/11 [==============================] - 1s 118ms/step - loss: 7.0950e-05 - accuracy: 1.0000 - val_loss: 0.5500 - val_accuracy: 0.6803\n",
            "Epoch 84/200\n",
            "11/11 [==============================] - 1s 119ms/step - loss: 8.1190e-05 - accuracy: 1.0000 - val_loss: 0.5464 - val_accuracy: 0.6735\n",
            "Epoch 85/200\n",
            "11/11 [==============================] - 1s 118ms/step - loss: 1.1606e-04 - accuracy: 1.0000 - val_loss: 0.6055 - val_accuracy: 0.6463\n",
            "Epoch 86/200\n",
            "11/11 [==============================] - 1s 118ms/step - loss: 5.7090e-05 - accuracy: 1.0000 - val_loss: 0.6905 - val_accuracy: 0.6327\n",
            "Epoch 87/200\n",
            "11/11 [==============================] - 1s 117ms/step - loss: 7.1523e-05 - accuracy: 1.0000 - val_loss: 0.6611 - val_accuracy: 0.6735\n",
            "Epoch 88/200\n",
            "11/11 [==============================] - 1s 117ms/step - loss: 9.8849e-05 - accuracy: 1.0000 - val_loss: 0.5805 - val_accuracy: 0.7007\n",
            "Epoch 89/200\n",
            "11/11 [==============================] - 1s 117ms/step - loss: 1.0500e-04 - accuracy: 1.0000 - val_loss: 0.6586 - val_accuracy: 0.7075\n",
            "Epoch 90/200\n",
            "11/11 [==============================] - 1s 122ms/step - loss: 2.0008e-04 - accuracy: 1.0000 - val_loss: 0.6963 - val_accuracy: 0.6939\n",
            "Epoch 91/200\n",
            "11/11 [==============================] - 1s 118ms/step - loss: 1.0958e-04 - accuracy: 1.0000 - val_loss: 0.5934 - val_accuracy: 0.7143\n",
            "Epoch 92/200\n",
            "11/11 [==============================] - 1s 119ms/step - loss: 4.7532e-05 - accuracy: 1.0000 - val_loss: 0.4802 - val_accuracy: 0.7687\n",
            "Epoch 93/200\n",
            "11/11 [==============================] - 1s 120ms/step - loss: 5.3790e-05 - accuracy: 1.0000 - val_loss: 0.3231 - val_accuracy: 0.8503\n",
            "Epoch 94/200\n",
            "11/11 [==============================] - 1s 120ms/step - loss: 9.1265e-05 - accuracy: 1.0000 - val_loss: 0.2815 - val_accuracy: 0.8844\n",
            "Epoch 95/200\n",
            "11/11 [==============================] - 1s 119ms/step - loss: 2.1126e-04 - accuracy: 1.0000 - val_loss: 0.1379 - val_accuracy: 0.9592\n",
            "Epoch 96/200\n",
            "11/11 [==============================] - 1s 119ms/step - loss: 7.7770e-05 - accuracy: 1.0000 - val_loss: 0.1698 - val_accuracy: 0.9660\n",
            "Epoch 97/200\n",
            "11/11 [==============================] - 1s 119ms/step - loss: 1.1414e-04 - accuracy: 1.0000 - val_loss: 0.1425 - val_accuracy: 0.9660\n",
            "Epoch 98/200\n",
            "11/11 [==============================] - 1s 118ms/step - loss: 9.2012e-05 - accuracy: 1.0000 - val_loss: 0.1441 - val_accuracy: 0.9592\n",
            "Epoch 99/200\n",
            "11/11 [==============================] - 1s 121ms/step - loss: 1.3465e-04 - accuracy: 1.0000 - val_loss: 0.1959 - val_accuracy: 0.9456\n",
            "Epoch 100/200\n",
            "11/11 [==============================] - 1s 119ms/step - loss: 0.0018 - accuracy: 1.0000 - val_loss: 0.9127 - val_accuracy: 0.6259\n",
            "Epoch 101/200\n",
            "11/11 [==============================] - 1s 120ms/step - loss: 0.0019 - accuracy: 1.0000 - val_loss: 0.8025 - val_accuracy: 0.6327\n",
            "Epoch 102/200\n",
            "11/11 [==============================] - 1s 122ms/step - loss: 0.0255 - accuracy: 0.9913 - val_loss: 9.3555 - val_accuracy: 0.5102\n",
            "Epoch 103/200\n",
            "11/11 [==============================] - 1s 121ms/step - loss: 0.0458 - accuracy: 0.9854 - val_loss: 37.1334 - val_accuracy: 0.5102\n",
            "Epoch 104/200\n",
            "11/11 [==============================] - 1s 121ms/step - loss: 0.0495 - accuracy: 0.9854 - val_loss: 16.6181 - val_accuracy: 0.5102\n",
            "Epoch 105/200\n",
            "11/11 [==============================] - 1s 120ms/step - loss: 0.0347 - accuracy: 0.9854 - val_loss: 81.8325 - val_accuracy: 0.5102\n",
            "Epoch 106/200\n",
            "11/11 [==============================] - 1s 118ms/step - loss: 0.0685 - accuracy: 0.9767 - val_loss: 1.8881 - val_accuracy: 0.5646\n",
            "Epoch 107/200\n",
            "11/11 [==============================] - 1s 119ms/step - loss: 0.0266 - accuracy: 0.9883 - val_loss: 117.6477 - val_accuracy: 0.5102\n",
            "Epoch 108/200\n",
            "11/11 [==============================] - 1s 120ms/step - loss: 0.0087 - accuracy: 0.9971 - val_loss: 123.5753 - val_accuracy: 0.5102\n",
            "Epoch 109/200\n",
            "11/11 [==============================] - 1s 122ms/step - loss: 0.0043 - accuracy: 0.9971 - val_loss: 130.6807 - val_accuracy: 0.5102\n",
            "Epoch 110/200\n",
            "11/11 [==============================] - 1s 120ms/step - loss: 0.0061 - accuracy: 1.0000 - val_loss: 127.2423 - val_accuracy: 0.5102\n",
            "Epoch 111/200\n",
            "11/11 [==============================] - 1s 119ms/step - loss: 0.0121 - accuracy: 0.9971 - val_loss: 101.3484 - val_accuracy: 0.5102\n",
            "Epoch 112/200\n",
            "11/11 [==============================] - 1s 119ms/step - loss: 0.0018 - accuracy: 1.0000 - val_loss: 87.0657 - val_accuracy: 0.5102\n",
            "Epoch 113/200\n",
            "11/11 [==============================] - 1s 118ms/step - loss: 0.0022 - accuracy: 1.0000 - val_loss: 77.5595 - val_accuracy: 0.5102\n",
            "Epoch 114/200\n",
            "11/11 [==============================] - 1s 120ms/step - loss: 3.4762e-04 - accuracy: 1.0000 - val_loss: 68.6483 - val_accuracy: 0.5102\n",
            "Epoch 115/200\n",
            "11/11 [==============================] - 1s 120ms/step - loss: 5.0751e-04 - accuracy: 1.0000 - val_loss: 59.5480 - val_accuracy: 0.5102\n",
            "Epoch 116/200\n",
            "11/11 [==============================] - 1s 120ms/step - loss: 4.7007e-04 - accuracy: 1.0000 - val_loss: 51.4182 - val_accuracy: 0.5102\n",
            "Epoch 117/200\n",
            "11/11 [==============================] - 1s 119ms/step - loss: 3.0875e-04 - accuracy: 1.0000 - val_loss: 45.1132 - val_accuracy: 0.5102\n",
            "Epoch 118/200\n",
            "11/11 [==============================] - 1s 121ms/step - loss: 0.0029 - accuracy: 1.0000 - val_loss: 39.7781 - val_accuracy: 0.5102\n",
            "Epoch 119/200\n",
            "11/11 [==============================] - 1s 121ms/step - loss: 2.9933e-04 - accuracy: 1.0000 - val_loss: 32.3309 - val_accuracy: 0.5102\n",
            "Epoch 120/200\n",
            "11/11 [==============================] - 1s 119ms/step - loss: 2.6055e-04 - accuracy: 1.0000 - val_loss: 26.7932 - val_accuracy: 0.5102\n",
            "Epoch 121/200\n",
            "11/11 [==============================] - 1s 119ms/step - loss: 3.7474e-04 - accuracy: 1.0000 - val_loss: 23.4143 - val_accuracy: 0.5102\n",
            "Epoch 122/200\n",
            "11/11 [==============================] - 1s 118ms/step - loss: 4.5225e-04 - accuracy: 1.0000 - val_loss: 20.0356 - val_accuracy: 0.5102\n",
            "Epoch 123/200\n",
            "11/11 [==============================] - 1s 117ms/step - loss: 2.0527e-04 - accuracy: 1.0000 - val_loss: 17.4267 - val_accuracy: 0.5102\n",
            "Epoch 124/200\n",
            "11/11 [==============================] - 1s 119ms/step - loss: 3.6585e-04 - accuracy: 1.0000 - val_loss: 15.6055 - val_accuracy: 0.5102\n",
            "Epoch 125/200\n",
            "11/11 [==============================] - 1s 119ms/step - loss: 2.4278e-04 - accuracy: 1.0000 - val_loss: 14.4424 - val_accuracy: 0.5102\n",
            "Epoch 126/200\n",
            "11/11 [==============================] - 1s 121ms/step - loss: 1.2509e-04 - accuracy: 1.0000 - val_loss: 13.2151 - val_accuracy: 0.5102\n",
            "Epoch 127/200\n",
            "11/11 [==============================] - 1s 119ms/step - loss: 2.1159e-04 - accuracy: 1.0000 - val_loss: 11.8372 - val_accuracy: 0.5102\n",
            "Epoch 128/200\n",
            "11/11 [==============================] - 1s 118ms/step - loss: 1.0182e-04 - accuracy: 1.0000 - val_loss: 10.6148 - val_accuracy: 0.5102\n",
            "Epoch 129/200\n",
            "11/11 [==============================] - 1s 118ms/step - loss: 2.7360e-04 - accuracy: 1.0000 - val_loss: 9.7406 - val_accuracy: 0.5102\n",
            "Epoch 130/200\n",
            "11/11 [==============================] - 1s 120ms/step - loss: 5.1398e-05 - accuracy: 1.0000 - val_loss: 8.8340 - val_accuracy: 0.5102\n",
            "Epoch 131/200\n",
            "11/11 [==============================] - 1s 119ms/step - loss: 1.3473e-04 - accuracy: 1.0000 - val_loss: 8.0178 - val_accuracy: 0.5102\n",
            "Epoch 132/200\n",
            "11/11 [==============================] - 1s 120ms/step - loss: 3.9078e-05 - accuracy: 1.0000 - val_loss: 7.3964 - val_accuracy: 0.5102\n",
            "Epoch 133/200\n",
            "11/11 [==============================] - 1s 119ms/step - loss: 3.7453e-04 - accuracy: 1.0000 - val_loss: 6.4221 - val_accuracy: 0.5102\n",
            "Epoch 134/200\n",
            "11/11 [==============================] - 1s 119ms/step - loss: 4.5325e-05 - accuracy: 1.0000 - val_loss: 5.8048 - val_accuracy: 0.5102\n",
            "Epoch 135/200\n",
            "11/11 [==============================] - 1s 120ms/step - loss: 1.2904e-04 - accuracy: 1.0000 - val_loss: 5.5873 - val_accuracy: 0.5102\n",
            "Epoch 136/200\n",
            "11/11 [==============================] - 1s 118ms/step - loss: 2.7530e-04 - accuracy: 1.0000 - val_loss: 5.6092 - val_accuracy: 0.5102\n",
            "Epoch 137/200\n",
            "11/11 [==============================] - 1s 121ms/step - loss: 5.7016e-05 - accuracy: 1.0000 - val_loss: 5.1792 - val_accuracy: 0.5170\n",
            "Epoch 138/200\n",
            "11/11 [==============================] - 1s 119ms/step - loss: 9.8503e-05 - accuracy: 1.0000 - val_loss: 4.1894 - val_accuracy: 0.5170\n",
            "Epoch 139/200\n",
            "11/11 [==============================] - 1s 120ms/step - loss: 1.7088e-04 - accuracy: 1.0000 - val_loss: 3.0625 - val_accuracy: 0.5442\n",
            "Epoch 140/200\n",
            "11/11 [==============================] - 1s 119ms/step - loss: 1.1717e-04 - accuracy: 1.0000 - val_loss: 2.6545 - val_accuracy: 0.5646\n",
            "Epoch 141/200\n",
            "11/11 [==============================] - 1s 121ms/step - loss: 8.8398e-05 - accuracy: 1.0000 - val_loss: 2.2182 - val_accuracy: 0.6122\n",
            "Epoch 142/200\n",
            "11/11 [==============================] - 1s 122ms/step - loss: 6.5679e-05 - accuracy: 1.0000 - val_loss: 1.8547 - val_accuracy: 0.6667\n",
            "Epoch 143/200\n",
            "11/11 [==============================] - 1s 119ms/step - loss: 5.6689e-05 - accuracy: 1.0000 - val_loss: 1.5787 - val_accuracy: 0.6871\n",
            "Epoch 144/200\n",
            "11/11 [==============================] - 1s 118ms/step - loss: 1.0293e-04 - accuracy: 1.0000 - val_loss: 1.1323 - val_accuracy: 0.7619\n",
            "Epoch 145/200\n",
            "11/11 [==============================] - 1s 120ms/step - loss: 1.0960e-04 - accuracy: 1.0000 - val_loss: 0.7418 - val_accuracy: 0.7891\n",
            "Epoch 146/200\n",
            "11/11 [==============================] - 1s 119ms/step - loss: 2.4016e-04 - accuracy: 1.0000 - val_loss: 0.2468 - val_accuracy: 0.9116\n",
            "Epoch 147/200\n",
            "11/11 [==============================] - 1s 118ms/step - loss: 8.1809e-05 - accuracy: 1.0000 - val_loss: 0.1703 - val_accuracy: 0.9524\n",
            "Epoch 148/200\n",
            "11/11 [==============================] - 1s 119ms/step - loss: 6.7578e-05 - accuracy: 1.0000 - val_loss: 0.1816 - val_accuracy: 0.9524\n",
            "Epoch 149/200\n",
            "11/11 [==============================] - 1s 121ms/step - loss: 2.5405e-04 - accuracy: 1.0000 - val_loss: 0.1637 - val_accuracy: 0.9524\n",
            "Epoch 150/200\n",
            "11/11 [==============================] - 1s 121ms/step - loss: 5.0350e-05 - accuracy: 1.0000 - val_loss: 0.1622 - val_accuracy: 0.9524\n",
            "Epoch 151/200\n",
            "11/11 [==============================] - 1s 120ms/step - loss: 5.7998e-05 - accuracy: 1.0000 - val_loss: 0.1522 - val_accuracy: 0.9524\n",
            "Epoch 152/200\n",
            "11/11 [==============================] - 1s 119ms/step - loss: 3.4931e-04 - accuracy: 1.0000 - val_loss: 0.1133 - val_accuracy: 0.9660\n",
            "Epoch 153/200\n",
            "11/11 [==============================] - 1s 120ms/step - loss: 3.2544e-04 - accuracy: 1.0000 - val_loss: 0.1151 - val_accuracy: 0.9796\n",
            "Epoch 154/200\n",
            "11/11 [==============================] - 1s 120ms/step - loss: 1.1235e-04 - accuracy: 1.0000 - val_loss: 0.1184 - val_accuracy: 0.9796\n",
            "Epoch 155/200\n",
            "11/11 [==============================] - 1s 120ms/step - loss: 1.1226e-04 - accuracy: 1.0000 - val_loss: 0.1178 - val_accuracy: 0.9796\n",
            "Epoch 156/200\n",
            "11/11 [==============================] - 1s 122ms/step - loss: 1.2507e-04 - accuracy: 1.0000 - val_loss: 0.1235 - val_accuracy: 0.9660\n",
            "Epoch 157/200\n",
            "11/11 [==============================] - 1s 121ms/step - loss: 9.1624e-05 - accuracy: 1.0000 - val_loss: 0.1283 - val_accuracy: 0.9728\n",
            "Epoch 158/200\n",
            "11/11 [==============================] - 1s 119ms/step - loss: 9.7911e-05 - accuracy: 1.0000 - val_loss: 0.1404 - val_accuracy: 0.9728\n",
            "Epoch 159/200\n",
            "11/11 [==============================] - 1s 118ms/step - loss: 9.5373e-05 - accuracy: 1.0000 - val_loss: 0.2540 - val_accuracy: 0.9388\n",
            "Epoch 160/200\n",
            "11/11 [==============================] - 1s 119ms/step - loss: 5.0021e-05 - accuracy: 1.0000 - val_loss: 0.2748 - val_accuracy: 0.9320\n",
            "Epoch 161/200\n",
            "11/11 [==============================] - 1s 117ms/step - loss: 7.2191e-05 - accuracy: 1.0000 - val_loss: 0.2302 - val_accuracy: 0.9592\n",
            "Epoch 162/200\n",
            "11/11 [==============================] - 1s 119ms/step - loss: 7.4476e-05 - accuracy: 1.0000 - val_loss: 0.2041 - val_accuracy: 0.9592\n",
            "Epoch 163/200\n",
            "11/11 [==============================] - 1s 120ms/step - loss: 9.9767e-05 - accuracy: 1.0000 - val_loss: 0.2906 - val_accuracy: 0.9252\n",
            "Epoch 164/200\n",
            "11/11 [==============================] - 1s 119ms/step - loss: 1.9334e-05 - accuracy: 1.0000 - val_loss: 0.5760 - val_accuracy: 0.8980\n",
            "Epoch 165/200\n",
            "11/11 [==============================] - 1s 119ms/step - loss: 3.9531e-05 - accuracy: 1.0000 - val_loss: 0.5777 - val_accuracy: 0.8912\n",
            "Epoch 166/200\n",
            "11/11 [==============================] - 1s 121ms/step - loss: 1.4842e-04 - accuracy: 1.0000 - val_loss: 0.9816 - val_accuracy: 0.7959\n",
            "Epoch 167/200\n",
            "11/11 [==============================] - 1s 120ms/step - loss: 6.0784e-05 - accuracy: 1.0000 - val_loss: 1.2076 - val_accuracy: 0.7755\n",
            "Epoch 168/200\n",
            "11/11 [==============================] - 1s 119ms/step - loss: 2.5492e-05 - accuracy: 1.0000 - val_loss: 0.9808 - val_accuracy: 0.7823\n",
            "Epoch 169/200\n",
            "11/11 [==============================] - 1s 117ms/step - loss: 2.1553e-05 - accuracy: 1.0000 - val_loss: 0.6785 - val_accuracy: 0.8571\n",
            "Epoch 170/200\n",
            "11/11 [==============================] - 1s 119ms/step - loss: 3.6788e-05 - accuracy: 1.0000 - val_loss: 0.4716 - val_accuracy: 0.8980\n",
            "Epoch 171/200\n",
            "11/11 [==============================] - 1s 119ms/step - loss: 1.7167e-05 - accuracy: 1.0000 - val_loss: 0.3339 - val_accuracy: 0.9320\n",
            "Epoch 172/200\n",
            "11/11 [==============================] - 1s 120ms/step - loss: 3.4588e-05 - accuracy: 1.0000 - val_loss: 0.2676 - val_accuracy: 0.9456\n",
            "Epoch 173/200\n",
            "11/11 [==============================] - 1s 122ms/step - loss: 7.0606e-05 - accuracy: 1.0000 - val_loss: 0.2457 - val_accuracy: 0.9524\n",
            "Epoch 174/200\n",
            "11/11 [==============================] - 1s 119ms/step - loss: 1.0143e-04 - accuracy: 1.0000 - val_loss: 0.2243 - val_accuracy: 0.9592\n",
            "Epoch 175/200\n",
            "11/11 [==============================] - 1s 120ms/step - loss: 8.1674e-05 - accuracy: 1.0000 - val_loss: 0.2115 - val_accuracy: 0.9592\n",
            "Epoch 176/200\n",
            "11/11 [==============================] - 1s 119ms/step - loss: 6.6135e-05 - accuracy: 1.0000 - val_loss: 0.2210 - val_accuracy: 0.9524\n",
            "Epoch 177/200\n",
            "11/11 [==============================] - 1s 121ms/step - loss: 3.7897e-05 - accuracy: 1.0000 - val_loss: 0.2045 - val_accuracy: 0.9592\n",
            "Epoch 178/200\n",
            "11/11 [==============================] - 1s 118ms/step - loss: 1.2345e-05 - accuracy: 1.0000 - val_loss: 0.1708 - val_accuracy: 0.9592\n",
            "Epoch 179/200\n",
            "11/11 [==============================] - 1s 120ms/step - loss: 4.1702e-05 - accuracy: 1.0000 - val_loss: 0.1499 - val_accuracy: 0.9728\n",
            "Epoch 180/200\n",
            "11/11 [==============================] - 1s 121ms/step - loss: 0.0010 - accuracy: 1.0000 - val_loss: 0.1576 - val_accuracy: 0.9524\n",
            "Epoch 181/200\n",
            "11/11 [==============================] - 1s 121ms/step - loss: 6.0232e-05 - accuracy: 1.0000 - val_loss: 0.2737 - val_accuracy: 0.9048\n",
            "Epoch 182/200\n",
            "11/11 [==============================] - 1s 118ms/step - loss: 1.9840e-05 - accuracy: 1.0000 - val_loss: 0.2811 - val_accuracy: 0.9048\n",
            "Epoch 183/200\n",
            "11/11 [==============================] - 1s 119ms/step - loss: 2.2705e-04 - accuracy: 1.0000 - val_loss: 0.1216 - val_accuracy: 0.9592\n",
            "Epoch 184/200\n",
            "11/11 [==============================] - 1s 118ms/step - loss: 2.9717e-05 - accuracy: 1.0000 - val_loss: 0.1044 - val_accuracy: 0.9864\n",
            "Epoch 185/200\n",
            "11/11 [==============================] - 1s 122ms/step - loss: 3.5909e-05 - accuracy: 1.0000 - val_loss: 0.1091 - val_accuracy: 0.9796\n",
            "Epoch 186/200\n",
            "11/11 [==============================] - 1s 118ms/step - loss: 9.3663e-05 - accuracy: 1.0000 - val_loss: 0.1100 - val_accuracy: 0.9864\n",
            "Epoch 187/200\n",
            "11/11 [==============================] - 1s 119ms/step - loss: 2.4924e-05 - accuracy: 1.0000 - val_loss: 0.1144 - val_accuracy: 0.9796\n",
            "Epoch 188/200\n",
            "11/11 [==============================] - 1s 121ms/step - loss: 5.4455e-05 - accuracy: 1.0000 - val_loss: 0.1184 - val_accuracy: 0.9796\n",
            "Epoch 189/200\n",
            "11/11 [==============================] - 1s 121ms/step - loss: 5.5799e-05 - accuracy: 1.0000 - val_loss: 0.1354 - val_accuracy: 0.9796\n",
            "Epoch 190/200\n",
            "11/11 [==============================] - 1s 124ms/step - loss: 7.1975e-05 - accuracy: 1.0000 - val_loss: 0.1478 - val_accuracy: 0.9728\n",
            "Epoch 191/200\n",
            "11/11 [==============================] - 1s 121ms/step - loss: 3.0839e-05 - accuracy: 1.0000 - val_loss: 0.1494 - val_accuracy: 0.9728\n",
            "Epoch 192/200\n",
            "11/11 [==============================] - 1s 123ms/step - loss: 3.1014e-05 - accuracy: 1.0000 - val_loss: 0.1518 - val_accuracy: 0.9728\n",
            "Epoch 193/200\n",
            "11/11 [==============================] - 1s 122ms/step - loss: 3.6143e-05 - accuracy: 1.0000 - val_loss: 0.1528 - val_accuracy: 0.9728\n",
            "Epoch 194/200\n",
            "11/11 [==============================] - 1s 123ms/step - loss: 3.7738e-05 - accuracy: 1.0000 - val_loss: 0.1636 - val_accuracy: 0.9728\n",
            "Epoch 195/200\n",
            "11/11 [==============================] - 1s 123ms/step - loss: 2.6058e-05 - accuracy: 1.0000 - val_loss: 0.1733 - val_accuracy: 0.9660\n",
            "Epoch 196/200\n",
            "11/11 [==============================] - 1s 124ms/step - loss: 1.2347e-05 - accuracy: 1.0000 - val_loss: 0.1801 - val_accuracy: 0.9660\n",
            "Epoch 197/200\n",
            "11/11 [==============================] - 1s 121ms/step - loss: 2.0097e-05 - accuracy: 1.0000 - val_loss: 0.1930 - val_accuracy: 0.9660\n",
            "Epoch 198/200\n",
            "11/11 [==============================] - 1s 122ms/step - loss: 1.2701e-05 - accuracy: 1.0000 - val_loss: 0.2054 - val_accuracy: 0.9660\n",
            "Epoch 199/200\n",
            "11/11 [==============================] - 1s 119ms/step - loss: 5.5532e-05 - accuracy: 1.0000 - val_loss: 0.2107 - val_accuracy: 0.9592\n",
            "Epoch 200/200\n",
            "11/11 [==============================] - 1s 121ms/step - loss: 4.2277e-05 - accuracy: 1.0000 - val_loss: 0.1915 - val_accuracy: 0.9660\n"
          ]
        }
      ]
    },
    {
      "cell_type": "code",
      "metadata": {
        "id": "cSTlOSUBWMpj"
      },
      "source": [
        "Y_test = yback(Y_test)"
      ],
      "execution_count": 68,
      "outputs": []
    },
    {
      "cell_type": "code",
      "metadata": {
        "colab": {
          "base_uri": "https://localhost:8080/"
        },
        "id": "FDVY6HbxMOlH",
        "outputId": "5f1dc511-ef85-4cae-daa0-b409a11610a6"
      },
      "source": [
        "# pred_test= model.predict_classes(X_test)\n",
        "pred_test = np.argmax(model.predict(X_test), axis=-1)\n",
        "\n",
        "data = {'y_true': Y_test,'y_predict': pred_test}  # este dado esta no formato de dicionario\n",
        "\n",
        "df = pd.DataFrame(data, columns=['y_true','y_predict'])\n",
        "\n",
        "\n",
        "confusion_matrix = pd.crosstab(df['y_true'], df['y_predict'], rownames=['Actual'], colnames=['Predict'])\n",
        "print(confusion_matrix)\n",
        "\n",
        "y_true = df['y_true']\n",
        "y_pred = df['y_predict']\n",
        "\n",
        "  \n",
        "METRICS=sklearn.metrics.classification_report(y_true, y_pred)"
      ],
      "execution_count": 69,
      "outputs": [
        {
          "output_type": "stream",
          "name": "stdout",
          "text": [
            "Predict   0   1\n",
            "Actual         \n",
            "0        70   2\n",
            "1         3  72\n"
          ]
        }
      ]
    },
    {
      "cell_type": "code",
      "metadata": {
        "id": "m7pT2q7traXg",
        "outputId": "0053f16d-aaf4-4d63-86c5-92b026c1cfa7",
        "colab": {
          "base_uri": "https://localhost:8080/"
        }
      },
      "source": [
        "print(METRICS)"
      ],
      "execution_count": 70,
      "outputs": [
        {
          "output_type": "stream",
          "name": "stdout",
          "text": [
            "              precision    recall  f1-score   support\n",
            "\n",
            "           0       0.96      0.97      0.97        72\n",
            "           1       0.97      0.96      0.97        75\n",
            "\n",
            "    accuracy                           0.97       147\n",
            "   macro avg       0.97      0.97      0.97       147\n",
            "weighted avg       0.97      0.97      0.97       147\n",
            "\n"
          ]
        }
      ]
    },
    {
      "cell_type": "code",
      "metadata": {
        "id": "ElpxWbBnpgLX",
        "outputId": "5760b465-5769-4b15-e5ef-7d4d35036dac",
        "colab": {
          "base_uri": "https://localhost:8080/",
          "height": 154
        }
      },
      "source": [
        "'''\n",
        "#X =np.array(df.copy())/255.0 \n",
        "X =np.array(df.copy())\n",
        "X_train, X_test, y_train, y_test = train_test_split(X, y, test_size=0.30, shuffle=True, random_state=42)\n",
        "model = MLPClassifier(hidden_layer_sizes=(200,10), activation='tanh', solver='adam',random_state=1, max_iter=300).fit(X_train,y_train)  \n",
        "prediction = model.predict(X_test)  \n",
        "y =np.copy(y_test)\n",
        "data = {'y_true': y_test,'y_predict': prediction}  \n",
        "# este dado esta no formato de dicionario\n",
        "df = pd.DataFrame(data, columns=['y_true','y_predict'])\n",
        "confusion_matrix = pd.crosstab(df['y_true'], df['y_predict'], rownames=['Actual'], colnames=['Predict'])\n",
        "print(confusion_matrix)\n",
        "y_true = df['y_true']\n",
        "y_pred = df['y_predict']  \n",
        "METRICS=sklearn.metrics.classification_report(y_true, y_pred)\n",
        "print(METRICS)\n",
        "#X =np.array(df.copy())/255.0 X =np.array(df_all.copy())X_train, X_test, y_train, y_test = train_test_split(X, y, test_size=0.30, shuffle=True, random_state=42)model = MLPClassifier(hidden_layer_sizes=(200,10), activation='tanh',                       solver='adam',random_state=1, max_iter=300).fit(X_train,y_train)  prediction = model.predict(X_test)  y =np.copy(y_test)data = {'y_true': y_test,'y_predict': prediction}  # este dado esta no formato de dicionariodf = pd.DataFrame(data, columns=['y_true','y_predict'])confusion_matrix = pd.crosstab(df['y_true'], df['y_predict'], rownames=['Actual'], colnames=['Predict'])print(confusion_matrix)y_true = df['y_true']y_pred = df['y_predict']\n",
        "'''"
      ],
      "execution_count": 71,
      "outputs": [
        {
          "output_type": "execute_result",
          "data": {
            "application/vnd.google.colaboratory.intrinsic+json": {
              "type": "string"
            },
            "text/plain": [
              "\"\\n#X =np.array(df.copy())/255.0 \\nX =np.array(df.copy())\\nX_train, X_test, y_train, y_test = train_test_split(X, y, test_size=0.30, shuffle=True, random_state=42)\\nmodel = MLPClassifier(hidden_layer_sizes=(200,10), activation='tanh', solver='adam',random_state=1, max_iter=300).fit(X_train,y_train)  \\nprediction = model.predict(X_test)  \\ny =np.copy(y_test)\\ndata = {'y_true': y_test,'y_predict': prediction}  \\n# este dado esta no formato de dicionario\\ndf = pd.DataFrame(data, columns=['y_true','y_predict'])\\nconfusion_matrix = pd.crosstab(df['y_true'], df['y_predict'], rownames=['Actual'], colnames=['Predict'])\\nprint(confusion_matrix)\\ny_true = df['y_true']\\ny_pred = df['y_predict']  \\nMETRICS=sklearn.metrics.classification_report(y_true, y_pred)\\nprint(METRICS)\\n#X =np.array(df.copy())/255.0 X =np.array(df_all.copy())X_train, X_test, y_train, y_test = train_test_split(X, y, test_size=0.30, shuffle=True, random_state=42)model = MLPClassifier(hidden_layer_sizes=(200,10), activation='tanh',                       solver='adam',random_state=1, max_iter=300).fit(X_train,y_train)  prediction = model.predict(X_test)  y =np.copy(y_test)data = {'y_true': y_test,'y_predict': prediction}  # este dado esta no formato de dicionariodf = pd.DataFrame(data, columns=['y_true','y_predict'])confusion_matrix = pd.crosstab(df['y_true'], df['y_predict'], rownames=['Actual'], colnames=['Predict'])print(confusion_matrix)y_true = df['y_true']y_pred = df['y_predict']\\n\""
            ]
          },
          "metadata": {},
          "execution_count": 71
        }
      ]
    },
    {
      "cell_type": "code",
      "metadata": {
        "colab": {
          "base_uri": "https://localhost:8080/"
        },
        "id": "_iFNNrlWV9tH",
        "outputId": "ff2bb7c4-0710-4231-968d-d80b1f08f7e5"
      },
      "source": [
        "pred_test"
      ],
      "execution_count": 72,
      "outputs": [
        {
          "output_type": "execute_result",
          "data": {
            "text/plain": [
              "array([1, 0, 1, 1, 1, 1, 0, 0, 1, 0, 0, 0, 1, 0, 1, 0, 1, 1, 1, 0, 0, 0,\n",
              "       1, 0, 0, 0, 0, 1, 1, 1, 0, 0, 1, 1, 0, 0, 0, 0, 0, 0, 1, 1, 1, 0,\n",
              "       0, 0, 0, 1, 1, 1, 1, 0, 0, 1, 0, 0, 1, 0, 1, 0, 1, 1, 0, 1, 1, 1,\n",
              "       0, 1, 1, 1, 1, 0, 1, 1, 0, 0, 1, 1, 0, 0, 1, 1, 1, 1, 0, 1, 0, 0,\n",
              "       1, 0, 0, 1, 0, 0, 1, 0, 1, 1, 1, 0, 1, 1, 1, 1, 1, 0, 1, 1, 0, 0,\n",
              "       0, 1, 1, 1, 1, 1, 1, 1, 0, 1, 0, 0, 0, 1, 1, 0, 0, 0, 0, 0, 0, 0,\n",
              "       0, 1, 0, 0, 0, 1, 0, 0, 1, 1, 1, 0, 0, 0, 1])"
            ]
          },
          "metadata": {},
          "execution_count": 72
        }
      ]
    },
    {
      "cell_type": "code",
      "metadata": {
        "colab": {
          "base_uri": "https://localhost:8080/"
        },
        "id": "Jv5I61yhPQmk",
        "outputId": "b2302c48-3efb-467b-a701-86baf6c02308"
      },
      "source": [
        "cont = 0; num =25\n",
        "img_graos = []\n",
        "Width_new = []\n",
        "img=ww[4] \n",
        "while( cont < num):\n",
        "  df=Segmenta(img)\n",
        "  df_ann =df.copy()\n",
        "  Width = df['Width']\n",
        "  del df_ann['Width']\n",
        "  result = np.array(df_ann)\n",
        "  result = result.reshape(-1, Img_Size, Img_Size, 1) / 255.0\n",
        "  #prediction = model.predict_classes(result)\n",
        "  prediction= np.argmax(model.predict(result), axis=-1)\n",
        "  loc_grao =[];k=0\n",
        "  for i in prediction:\n",
        "    if( i == 0):\n",
        "      img_graos.append(df.iloc[k,:])\n",
        "      Width_new.append(Width.iloc[k])\n",
        "      cont = cont + 1\n",
        "    k = k +1\n",
        "img_graos = pd.DataFrame(img_graos)\n",
        "print(img_graos)"
      ],
      "execution_count": 73,
      "outputs": [
        {
          "output_type": "stream",
          "name": "stdout",
          "text": [
            "    Width           0           1  ...         781         782         783\n",
            "8   101.0  200.792480  200.673660  ...  199.070206  199.851776  191.333603\n",
            "34  167.0   49.156483   27.630573  ...  161.937302  150.168365  139.190979\n",
            "26  155.0    0.393923    0.587471  ...   54.961250   62.228561   66.152885\n",
            "44  123.0    0.368894    1.230683  ...   25.648952   27.793245   26.763039\n",
            "25  123.0   32.833038   42.460773  ...  139.180847  136.063446  136.153610\n",
            "29  149.0   79.198059   64.989426  ...  157.176971  181.940460  205.831116\n",
            "17  106.0    1.528302    0.849057  ...  137.405121  149.798157  149.929871\n",
            "46  117.0  200.651978  211.265305  ...  138.721741  151.502380  158.793335\n",
            "23  105.0   53.800007   95.942238  ...  106.435570  106.280014  106.653343\n",
            "7   115.0    0.572325    1.354934  ...  103.092171  114.634544  121.618889\n",
            "31  103.0    1.543689    0.902913  ...   47.536057   45.089260   35.819397\n",
            "44  193.0   87.013962   87.744019  ...  142.346268  127.952408  119.629379\n",
            "36  101.0    0.522400    1.136261  ...  155.680145  158.255569  156.601028\n",
            "32  129.0   72.554054   84.701874  ...  109.619858  112.033585  111.434113\n",
            "26  144.0  195.036301  200.915909  ...  127.891983  116.853409  120.308640\n",
            "48  182.0   62.952663   82.786987  ...  142.201187  144.455627  145.071014\n",
            "5   111.0    1.063631    0.324892  ...  252.043259  250.120697  252.190979\n",
            "13  100.0   12.212801   19.964800  ...  143.361603  142.049591  140.889587\n",
            "14  114.0    0.569098    1.341028  ...  177.716522  231.573410  243.848572\n",
            "34  109.0    1.000000    1.781584  ...   92.421593   97.233818   93.771484\n",
            "37  102.0    1.624375    0.943099  ...   42.043446   41.835449   45.036530\n",
            "15  118.0    1.293594    0.480034  ...  101.052856  108.409653  115.087616\n",
            "17  102.0  127.696671  128.437927  ...   96.528275  100.818916   65.993088\n",
            "32  100.0  202.932816  212.972809  ...  162.892822  207.872009  234.440002\n",
            "10  105.0    1.337778    0.671111  ...   53.382229   53.342224   51.617783\n",
            "\n",
            "[25 rows x 785 columns]\n"
          ]
        }
      ]
    },
    {
      "cell_type": "code",
      "metadata": {
        "id": "6LkA4vHp-f6_"
      },
      "source": [
        "Width=np.array(Width_new)"
      ],
      "execution_count": 74,
      "outputs": []
    },
    {
      "cell_type": "code",
      "metadata": {
        "colab": {
          "base_uri": "https://localhost:8080/"
        },
        "id": "MjRbWgmX_LFH",
        "outputId": "e47c8024-cffd-467a-b73d-2de4deab0881"
      },
      "source": [
        "!git clone https://github.com/ucfilho/marquesgabi_paper_fev_2021\n",
        "%cd marquesgabi_paper_fev_2021\n",
        "\n",
        "from Get_PSDArea_New import PSDArea\n",
        "from histogram_fev_2021 import PSD\n",
        "from GetBetterSegm import GetBetter"
      ],
      "execution_count": 75,
      "outputs": [
        {
          "output_type": "stream",
          "name": "stdout",
          "text": [
            "Cloning into 'marquesgabi_paper_fev_2021'...\n",
            "remote: Enumerating objects: 687, done.\u001b[K\n",
            "remote: Counting objects: 100% (448/448), done.\u001b[K\n",
            "remote: Compressing objects: 100% (446/446), done.\u001b[K\n",
            "remote: Total 687 (delta 282), reused 0 (delta 0), pack-reused 239\u001b[K\n",
            "Receiving objects: 100% (687/687), 5.59 MiB | 12.35 MiB/s, done.\n",
            "Resolving deltas: 100% (419/419), done.\n",
            "/content/marquesgabi_fev_2020/Doutorado/MarquesGabi_Routines/MarquesGabi_Routines/marquesgabi_paper_fev_2021/marquesgabi_out_2020/marquesgabi_fev_2020/Doutorado/MarquesGabi_Routines/MarquesGabi_Routines/marquesgabi_paper_fev_2021\n"
          ]
        }
      ]
    },
    {
      "cell_type": "code",
      "metadata": {
        "colab": {
          "base_uri": "https://localhost:8080/"
        },
        "id": "WAG_I6FwCvFr",
        "outputId": "9ab2e4c2-57c9-496b-ee8b-d0f332f83985"
      },
      "source": [
        "!git clone https://github.com/ucfilho/marquesgabi_out_2020\n",
        "#!git clone https://github.com/marquesgabi/Doutorado\n",
        "%cd marquesgabi_out_2020\n",
        "#%cd Doutorado\n",
        "#PSD_imageJ = 'Amostra7.csv' \n",
        "#PSD_new = pd.read_csv(PSD_imageJ,sep=';')\n",
        "#encoding='utf8'\n",
        "\n",
        "PSD_imageJ = 'Areas_ImageJ.csv'\n",
        "PSD_new = pd.read_csv(PSD_imageJ)\n",
        "print(PSD_new.head(3))"
      ],
      "execution_count": 76,
      "outputs": [
        {
          "output_type": "stream",
          "name": "stdout",
          "text": [
            "Cloning into 'marquesgabi_out_2020'...\n",
            "remote: Enumerating objects: 146, done.\u001b[K\n",
            "remote: Counting objects: 100% (146/146), done.\u001b[K\n",
            "remote: Compressing objects: 100% (142/142), done.\u001b[K\n",
            "remote: Total 146 (delta 75), reused 0 (delta 0), pack-reused 0\u001b[K\n",
            "Receiving objects: 100% (146/146), 1.00 MiB | 12.53 MiB/s, done.\n",
            "Resolving deltas: 100% (75/75), done.\n",
            "/content/marquesgabi_fev_2020/Doutorado/MarquesGabi_Routines/MarquesGabi_Routines/marquesgabi_paper_fev_2021/marquesgabi_out_2020/marquesgabi_fev_2020/Doutorado/MarquesGabi_Routines/MarquesGabi_Routines/marquesgabi_paper_fev_2021/marquesgabi_out_2020\n",
            "   Juntas   Area\n",
            "0       1  2.001\n",
            "1       2  0.820\n",
            "2       3  1.270\n"
          ]
        }
      ]
    },
    {
      "cell_type": "code",
      "metadata": {
        "colab": {
          "base_uri": "https://localhost:8080/"
        },
        "id": "7tEPjIBnv_xM",
        "outputId": "f3e3ea0a-3f5b-4b9a-da72-edde31aec42c"
      },
      "source": [
        "PSD_new.shape"
      ],
      "execution_count": 77,
      "outputs": [
        {
          "output_type": "execute_result",
          "data": {
            "text/plain": [
              "(95, 2)"
            ]
          },
          "metadata": {},
          "execution_count": 77
        }
      ]
    },
    {
      "cell_type": "code",
      "metadata": {
        "id": "t_1WIM8w7poO"
      },
      "source": [
        "Area_All, Diameter_All=PSDArea(img_graos) "
      ],
      "execution_count": 78,
      "outputs": []
    },
    {
      "cell_type": "code",
      "metadata": {
        "id": "nfagXc-Mv3oa"
      },
      "source": [
        ""
      ],
      "execution_count": 78,
      "outputs": []
    },
    {
      "cell_type": "code",
      "metadata": {
        "colab": {
          "base_uri": "https://localhost:8080/",
          "height": 252
        },
        "id": "PekBHQOT_6CP",
        "outputId": "403dbf12-b7b5-4911-dd14-d6a9d2d3d915"
      },
      "source": [
        "img_graos.head()"
      ],
      "execution_count": 79,
      "outputs": [
        {
          "output_type": "execute_result",
          "data": {
            "text/html": [
              "<div>\n",
              "<style scoped>\n",
              "    .dataframe tbody tr th:only-of-type {\n",
              "        vertical-align: middle;\n",
              "    }\n",
              "\n",
              "    .dataframe tbody tr th {\n",
              "        vertical-align: top;\n",
              "    }\n",
              "\n",
              "    .dataframe thead th {\n",
              "        text-align: right;\n",
              "    }\n",
              "</style>\n",
              "<table border=\"1\" class=\"dataframe\">\n",
              "  <thead>\n",
              "    <tr style=\"text-align: right;\">\n",
              "      <th></th>\n",
              "      <th>Width</th>\n",
              "      <th>0</th>\n",
              "      <th>1</th>\n",
              "      <th>2</th>\n",
              "      <th>3</th>\n",
              "      <th>4</th>\n",
              "      <th>5</th>\n",
              "      <th>6</th>\n",
              "      <th>7</th>\n",
              "      <th>8</th>\n",
              "      <th>9</th>\n",
              "      <th>10</th>\n",
              "      <th>11</th>\n",
              "      <th>12</th>\n",
              "      <th>13</th>\n",
              "      <th>14</th>\n",
              "      <th>15</th>\n",
              "      <th>16</th>\n",
              "      <th>17</th>\n",
              "      <th>18</th>\n",
              "      <th>19</th>\n",
              "      <th>20</th>\n",
              "      <th>21</th>\n",
              "      <th>22</th>\n",
              "      <th>23</th>\n",
              "      <th>24</th>\n",
              "      <th>25</th>\n",
              "      <th>26</th>\n",
              "      <th>27</th>\n",
              "      <th>28</th>\n",
              "      <th>29</th>\n",
              "      <th>30</th>\n",
              "      <th>31</th>\n",
              "      <th>32</th>\n",
              "      <th>33</th>\n",
              "      <th>34</th>\n",
              "      <th>35</th>\n",
              "      <th>36</th>\n",
              "      <th>37</th>\n",
              "      <th>38</th>\n",
              "      <th>...</th>\n",
              "      <th>744</th>\n",
              "      <th>745</th>\n",
              "      <th>746</th>\n",
              "      <th>747</th>\n",
              "      <th>748</th>\n",
              "      <th>749</th>\n",
              "      <th>750</th>\n",
              "      <th>751</th>\n",
              "      <th>752</th>\n",
              "      <th>753</th>\n",
              "      <th>754</th>\n",
              "      <th>755</th>\n",
              "      <th>756</th>\n",
              "      <th>757</th>\n",
              "      <th>758</th>\n",
              "      <th>759</th>\n",
              "      <th>760</th>\n",
              "      <th>761</th>\n",
              "      <th>762</th>\n",
              "      <th>763</th>\n",
              "      <th>764</th>\n",
              "      <th>765</th>\n",
              "      <th>766</th>\n",
              "      <th>767</th>\n",
              "      <th>768</th>\n",
              "      <th>769</th>\n",
              "      <th>770</th>\n",
              "      <th>771</th>\n",
              "      <th>772</th>\n",
              "      <th>773</th>\n",
              "      <th>774</th>\n",
              "      <th>775</th>\n",
              "      <th>776</th>\n",
              "      <th>777</th>\n",
              "      <th>778</th>\n",
              "      <th>779</th>\n",
              "      <th>780</th>\n",
              "      <th>781</th>\n",
              "      <th>782</th>\n",
              "      <th>783</th>\n",
              "    </tr>\n",
              "  </thead>\n",
              "  <tbody>\n",
              "    <tr>\n",
              "      <th>8</th>\n",
              "      <td>101.0</td>\n",
              "      <td>200.792480</td>\n",
              "      <td>200.673660</td>\n",
              "      <td>199.393707</td>\n",
              "      <td>199.138214</td>\n",
              "      <td>200.540436</td>\n",
              "      <td>201.923645</td>\n",
              "      <td>200.887970</td>\n",
              "      <td>202.914032</td>\n",
              "      <td>204.711304</td>\n",
              "      <td>207.534363</td>\n",
              "      <td>210.162262</td>\n",
              "      <td>211.465256</td>\n",
              "      <td>208.849716</td>\n",
              "      <td>200.614853</td>\n",
              "      <td>184.715118</td>\n",
              "      <td>162.691605</td>\n",
              "      <td>136.112244</td>\n",
              "      <td>50.451626</td>\n",
              "      <td>13.689541</td>\n",
              "      <td>36.838253</td>\n",
              "      <td>40.864918</td>\n",
              "      <td>43.241940</td>\n",
              "      <td>45.034019</td>\n",
              "      <td>47.425743</td>\n",
              "      <td>49.817371</td>\n",
              "      <td>50.317520</td>\n",
              "      <td>48.611900</td>\n",
              "      <td>46.673267</td>\n",
              "      <td>193.728653</td>\n",
              "      <td>192.308792</td>\n",
              "      <td>190.661026</td>\n",
              "      <td>189.904419</td>\n",
              "      <td>191.953629</td>\n",
              "      <td>194.948822</td>\n",
              "      <td>196.035110</td>\n",
              "      <td>194.361145</td>\n",
              "      <td>194.348816</td>\n",
              "      <td>196.943634</td>\n",
              "      <td>202.204407</td>\n",
              "      <td>...</td>\n",
              "      <td>149.101166</td>\n",
              "      <td>156.405548</td>\n",
              "      <td>160.093628</td>\n",
              "      <td>167.196457</td>\n",
              "      <td>175.118134</td>\n",
              "      <td>177.696106</td>\n",
              "      <td>180.745911</td>\n",
              "      <td>198.926483</td>\n",
              "      <td>208.313995</td>\n",
              "      <td>203.142334</td>\n",
              "      <td>203.811401</td>\n",
              "      <td>200.826767</td>\n",
              "      <td>36.218903</td>\n",
              "      <td>37.448387</td>\n",
              "      <td>39.232330</td>\n",
              "      <td>42.048332</td>\n",
              "      <td>42.848549</td>\n",
              "      <td>41.443390</td>\n",
              "      <td>51.768948</td>\n",
              "      <td>66.091858</td>\n",
              "      <td>83.638382</td>\n",
              "      <td>90.340073</td>\n",
              "      <td>91.013145</td>\n",
              "      <td>86.754730</td>\n",
              "      <td>84.933533</td>\n",
              "      <td>86.147141</td>\n",
              "      <td>99.622589</td>\n",
              "      <td>123.883545</td>\n",
              "      <td>143.264877</td>\n",
              "      <td>152.344391</td>\n",
              "      <td>160.075974</td>\n",
              "      <td>165.961288</td>\n",
              "      <td>173.958435</td>\n",
              "      <td>181.996674</td>\n",
              "      <td>187.861298</td>\n",
              "      <td>198.362610</td>\n",
              "      <td>201.598953</td>\n",
              "      <td>199.070206</td>\n",
              "      <td>199.851776</td>\n",
              "      <td>191.333603</td>\n",
              "    </tr>\n",
              "    <tr>\n",
              "      <th>34</th>\n",
              "      <td>167.0</td>\n",
              "      <td>49.156483</td>\n",
              "      <td>27.630573</td>\n",
              "      <td>125.826355</td>\n",
              "      <td>142.562714</td>\n",
              "      <td>172.574432</td>\n",
              "      <td>221.339691</td>\n",
              "      <td>241.458252</td>\n",
              "      <td>246.683258</td>\n",
              "      <td>250.348206</td>\n",
              "      <td>251.058304</td>\n",
              "      <td>243.352478</td>\n",
              "      <td>222.861969</td>\n",
              "      <td>209.903076</td>\n",
              "      <td>155.215286</td>\n",
              "      <td>92.578659</td>\n",
              "      <td>74.764526</td>\n",
              "      <td>70.113388</td>\n",
              "      <td>75.772743</td>\n",
              "      <td>84.212807</td>\n",
              "      <td>94.637718</td>\n",
              "      <td>113.405258</td>\n",
              "      <td>126.228874</td>\n",
              "      <td>126.416412</td>\n",
              "      <td>118.842323</td>\n",
              "      <td>110.415047</td>\n",
              "      <td>107.740440</td>\n",
              "      <td>82.856903</td>\n",
              "      <td>29.269819</td>\n",
              "      <td>62.306396</td>\n",
              "      <td>34.476929</td>\n",
              "      <td>116.563850</td>\n",
              "      <td>177.100708</td>\n",
              "      <td>244.685654</td>\n",
              "      <td>248.984344</td>\n",
              "      <td>253.283417</td>\n",
              "      <td>253.319977</td>\n",
              "      <td>250.981079</td>\n",
              "      <td>250.048950</td>\n",
              "      <td>250.197266</td>\n",
              "      <td>...</td>\n",
              "      <td>171.299286</td>\n",
              "      <td>185.202377</td>\n",
              "      <td>197.264130</td>\n",
              "      <td>226.735229</td>\n",
              "      <td>250.414444</td>\n",
              "      <td>244.674179</td>\n",
              "      <td>231.323563</td>\n",
              "      <td>178.757935</td>\n",
              "      <td>176.274643</td>\n",
              "      <td>170.296524</td>\n",
              "      <td>155.465439</td>\n",
              "      <td>144.628036</td>\n",
              "      <td>129.675583</td>\n",
              "      <td>124.085487</td>\n",
              "      <td>126.254044</td>\n",
              "      <td>129.664581</td>\n",
              "      <td>133.487335</td>\n",
              "      <td>134.721725</td>\n",
              "      <td>132.436844</td>\n",
              "      <td>137.547531</td>\n",
              "      <td>149.602859</td>\n",
              "      <td>168.074310</td>\n",
              "      <td>174.162018</td>\n",
              "      <td>163.476151</td>\n",
              "      <td>166.508667</td>\n",
              "      <td>150.813873</td>\n",
              "      <td>136.823822</td>\n",
              "      <td>149.781113</td>\n",
              "      <td>170.085678</td>\n",
              "      <td>192.652847</td>\n",
              "      <td>215.904678</td>\n",
              "      <td>243.185959</td>\n",
              "      <td>249.058487</td>\n",
              "      <td>245.812546</td>\n",
              "      <td>217.000549</td>\n",
              "      <td>182.907608</td>\n",
              "      <td>193.483643</td>\n",
              "      <td>161.937302</td>\n",
              "      <td>150.168365</td>\n",
              "      <td>139.190979</td>\n",
              "    </tr>\n",
              "    <tr>\n",
              "      <th>26</th>\n",
              "      <td>155.0</td>\n",
              "      <td>0.393923</td>\n",
              "      <td>0.587471</td>\n",
              "      <td>1.684246</td>\n",
              "      <td>1.082456</td>\n",
              "      <td>0.050114</td>\n",
              "      <td>1.023767</td>\n",
              "      <td>1.716504</td>\n",
              "      <td>0.619729</td>\n",
              "      <td>0.361665</td>\n",
              "      <td>1.393923</td>\n",
              "      <td>1.000000</td>\n",
              "      <td>1.000000</td>\n",
              "      <td>1.000000</td>\n",
              "      <td>1.067596</td>\n",
              "      <td>9.852737</td>\n",
              "      <td>46.475674</td>\n",
              "      <td>57.307060</td>\n",
              "      <td>59.501854</td>\n",
              "      <td>63.906063</td>\n",
              "      <td>66.739273</td>\n",
              "      <td>71.829353</td>\n",
              "      <td>85.423019</td>\n",
              "      <td>85.407043</td>\n",
              "      <td>91.612915</td>\n",
              "      <td>100.754921</td>\n",
              "      <td>104.775909</td>\n",
              "      <td>110.715218</td>\n",
              "      <td>119.203880</td>\n",
              "      <td>0.393923</td>\n",
              "      <td>0.587471</td>\n",
              "      <td>1.684246</td>\n",
              "      <td>1.082456</td>\n",
              "      <td>0.050114</td>\n",
              "      <td>1.023767</td>\n",
              "      <td>1.716504</td>\n",
              "      <td>0.619730</td>\n",
              "      <td>0.361665</td>\n",
              "      <td>1.441374</td>\n",
              "      <td>1.250905</td>\n",
              "      <td>...</td>\n",
              "      <td>1.326535</td>\n",
              "      <td>1.314298</td>\n",
              "      <td>6.800542</td>\n",
              "      <td>23.783852</td>\n",
              "      <td>36.809074</td>\n",
              "      <td>67.801041</td>\n",
              "      <td>74.885002</td>\n",
              "      <td>70.689453</td>\n",
              "      <td>61.468971</td>\n",
              "      <td>56.176987</td>\n",
              "      <td>62.434097</td>\n",
              "      <td>69.116722</td>\n",
              "      <td>0.411405</td>\n",
              "      <td>0.604953</td>\n",
              "      <td>1.701728</td>\n",
              "      <td>1.102435</td>\n",
              "      <td>0.076962</td>\n",
              "      <td>1.046868</td>\n",
              "      <td>1.733985</td>\n",
              "      <td>0.637211</td>\n",
              "      <td>0.379147</td>\n",
              "      <td>1.475921</td>\n",
              "      <td>1.346889</td>\n",
              "      <td>0.250114</td>\n",
              "      <td>0.766244</td>\n",
              "      <td>1.797752</td>\n",
              "      <td>0.888075</td>\n",
              "      <td>0.153340</td>\n",
              "      <td>1.257107</td>\n",
              "      <td>2.360541</td>\n",
              "      <td>2.725786</td>\n",
              "      <td>17.747307</td>\n",
              "      <td>42.915131</td>\n",
              "      <td>69.277924</td>\n",
              "      <td>74.044128</td>\n",
              "      <td>67.410446</td>\n",
              "      <td>55.323372</td>\n",
              "      <td>54.961250</td>\n",
              "      <td>62.228561</td>\n",
              "      <td>66.152885</td>\n",
              "    </tr>\n",
              "    <tr>\n",
              "      <th>44</th>\n",
              "      <td>123.0</td>\n",
              "      <td>0.368894</td>\n",
              "      <td>1.230683</td>\n",
              "      <td>2.194329</td>\n",
              "      <td>1.525679</td>\n",
              "      <td>13.921542</td>\n",
              "      <td>40.477028</td>\n",
              "      <td>44.565605</td>\n",
              "      <td>41.420250</td>\n",
              "      <td>45.680679</td>\n",
              "      <td>48.765617</td>\n",
              "      <td>64.701569</td>\n",
              "      <td>83.095245</td>\n",
              "      <td>89.856178</td>\n",
              "      <td>88.537384</td>\n",
              "      <td>92.256927</td>\n",
              "      <td>105.980110</td>\n",
              "      <td>110.169281</td>\n",
              "      <td>121.021149</td>\n",
              "      <td>126.625893</td>\n",
              "      <td>119.552719</td>\n",
              "      <td>111.121490</td>\n",
              "      <td>101.345032</td>\n",
              "      <td>93.836220</td>\n",
              "      <td>85.848503</td>\n",
              "      <td>86.092865</td>\n",
              "      <td>78.878647</td>\n",
              "      <td>53.333996</td>\n",
              "      <td>35.774475</td>\n",
              "      <td>0.368894</td>\n",
              "      <td>1.230683</td>\n",
              "      <td>1.200344</td>\n",
              "      <td>1.893582</td>\n",
              "      <td>14.318527</td>\n",
              "      <td>38.296448</td>\n",
              "      <td>39.041115</td>\n",
              "      <td>33.567520</td>\n",
              "      <td>34.934299</td>\n",
              "      <td>33.856106</td>\n",
              "      <td>37.651001</td>\n",
              "      <td>...</td>\n",
              "      <td>53.925838</td>\n",
              "      <td>52.250114</td>\n",
              "      <td>62.828941</td>\n",
              "      <td>70.516823</td>\n",
              "      <td>70.092407</td>\n",
              "      <td>69.349068</td>\n",
              "      <td>66.918579</td>\n",
              "      <td>62.150505</td>\n",
              "      <td>49.215614</td>\n",
              "      <td>34.161083</td>\n",
              "      <td>30.382313</td>\n",
              "      <td>28.603346</td>\n",
              "      <td>0.368894</td>\n",
              "      <td>1.230683</td>\n",
              "      <td>1.783528</td>\n",
              "      <td>0.899531</td>\n",
              "      <td>0.022209</td>\n",
              "      <td>0.816049</td>\n",
              "      <td>1.920748</td>\n",
              "      <td>2.338225</td>\n",
              "      <td>2.023465</td>\n",
              "      <td>10.265915</td>\n",
              "      <td>29.578955</td>\n",
              "      <td>59.124470</td>\n",
              "      <td>72.313446</td>\n",
              "      <td>73.879707</td>\n",
              "      <td>69.027496</td>\n",
              "      <td>57.950626</td>\n",
              "      <td>54.193802</td>\n",
              "      <td>56.654236</td>\n",
              "      <td>61.456749</td>\n",
              "      <td>64.445572</td>\n",
              "      <td>67.667526</td>\n",
              "      <td>69.820351</td>\n",
              "      <td>66.515236</td>\n",
              "      <td>61.357460</td>\n",
              "      <td>43.313305</td>\n",
              "      <td>25.648952</td>\n",
              "      <td>27.793245</td>\n",
              "      <td>26.763039</td>\n",
              "    </tr>\n",
              "    <tr>\n",
              "      <th>25</th>\n",
              "      <td>123.0</td>\n",
              "      <td>32.833038</td>\n",
              "      <td>42.460773</td>\n",
              "      <td>50.455750</td>\n",
              "      <td>50.838989</td>\n",
              "      <td>50.831589</td>\n",
              "      <td>51.126118</td>\n",
              "      <td>46.692116</td>\n",
              "      <td>45.097832</td>\n",
              "      <td>46.848373</td>\n",
              "      <td>45.600571</td>\n",
              "      <td>64.331879</td>\n",
              "      <td>83.852669</td>\n",
              "      <td>89.217278</td>\n",
              "      <td>88.247475</td>\n",
              "      <td>87.911301</td>\n",
              "      <td>63.151165</td>\n",
              "      <td>29.444248</td>\n",
              "      <td>5.847049</td>\n",
              "      <td>1.198163</td>\n",
              "      <td>1.295724</td>\n",
              "      <td>1.398374</td>\n",
              "      <td>0.131535</td>\n",
              "      <td>1.090687</td>\n",
              "      <td>0.911164</td>\n",
              "      <td>0.011633</td>\n",
              "      <td>0.752066</td>\n",
              "      <td>1.613854</td>\n",
              "      <td>1.337432</td>\n",
              "      <td>29.168421</td>\n",
              "      <td>33.638641</td>\n",
              "      <td>45.767799</td>\n",
              "      <td>50.375511</td>\n",
              "      <td>48.491180</td>\n",
              "      <td>50.061672</td>\n",
              "      <td>45.565933</td>\n",
              "      <td>46.766544</td>\n",
              "      <td>51.455948</td>\n",
              "      <td>63.949440</td>\n",
              "      <td>76.427193</td>\n",
              "      <td>...</td>\n",
              "      <td>78.346153</td>\n",
              "      <td>105.248398</td>\n",
              "      <td>125.422905</td>\n",
              "      <td>132.230759</td>\n",
              "      <td>134.630783</td>\n",
              "      <td>136.149307</td>\n",
              "      <td>134.128830</td>\n",
              "      <td>135.294937</td>\n",
              "      <td>136.960342</td>\n",
              "      <td>131.489395</td>\n",
              "      <td>121.610283</td>\n",
              "      <td>100.498787</td>\n",
              "      <td>111.699722</td>\n",
              "      <td>122.130417</td>\n",
              "      <td>138.446823</td>\n",
              "      <td>144.358124</td>\n",
              "      <td>146.818573</td>\n",
              "      <td>152.978790</td>\n",
              "      <td>155.236435</td>\n",
              "      <td>156.483459</td>\n",
              "      <td>149.663696</td>\n",
              "      <td>146.620148</td>\n",
              "      <td>154.062866</td>\n",
              "      <td>164.348541</td>\n",
              "      <td>198.995789</td>\n",
              "      <td>132.283234</td>\n",
              "      <td>84.752922</td>\n",
              "      <td>84.855911</td>\n",
              "      <td>108.603951</td>\n",
              "      <td>130.915802</td>\n",
              "      <td>136.847321</td>\n",
              "      <td>134.011978</td>\n",
              "      <td>132.206970</td>\n",
              "      <td>131.640762</td>\n",
              "      <td>132.633820</td>\n",
              "      <td>137.877121</td>\n",
              "      <td>144.109543</td>\n",
              "      <td>139.180847</td>\n",
              "      <td>136.063446</td>\n",
              "      <td>136.153610</td>\n",
              "    </tr>\n",
              "  </tbody>\n",
              "</table>\n",
              "<p>5 rows × 785 columns</p>\n",
              "</div>"
            ],
            "text/plain": [
              "    Width           0           1  ...         781         782         783\n",
              "8   101.0  200.792480  200.673660  ...  199.070206  199.851776  191.333603\n",
              "34  167.0   49.156483   27.630573  ...  161.937302  150.168365  139.190979\n",
              "26  155.0    0.393923    0.587471  ...   54.961250   62.228561   66.152885\n",
              "44  123.0    0.368894    1.230683  ...   25.648952   27.793245   26.763039\n",
              "25  123.0   32.833038   42.460773  ...  139.180847  136.063446  136.153610\n",
              "\n",
              "[5 rows x 785 columns]"
            ]
          },
          "metadata": {},
          "execution_count": 79
        }
      ]
    },
    {
      "cell_type": "code",
      "metadata": {
        "colab": {
          "base_uri": "https://localhost:8080/",
          "height": 203
        },
        "id": "VaZPe_AxNBK9",
        "outputId": "bebee213-d709-4d12-f496-134aacf8fb2c"
      },
      "source": [
        "PSD_new.head()"
      ],
      "execution_count": 80,
      "outputs": [
        {
          "output_type": "execute_result",
          "data": {
            "text/html": [
              "<div>\n",
              "<style scoped>\n",
              "    .dataframe tbody tr th:only-of-type {\n",
              "        vertical-align: middle;\n",
              "    }\n",
              "\n",
              "    .dataframe tbody tr th {\n",
              "        vertical-align: top;\n",
              "    }\n",
              "\n",
              "    .dataframe thead th {\n",
              "        text-align: right;\n",
              "    }\n",
              "</style>\n",
              "<table border=\"1\" class=\"dataframe\">\n",
              "  <thead>\n",
              "    <tr style=\"text-align: right;\">\n",
              "      <th></th>\n",
              "      <th>Juntas</th>\n",
              "      <th>Area</th>\n",
              "    </tr>\n",
              "  </thead>\n",
              "  <tbody>\n",
              "    <tr>\n",
              "      <th>0</th>\n",
              "      <td>1</td>\n",
              "      <td>2.001</td>\n",
              "    </tr>\n",
              "    <tr>\n",
              "      <th>1</th>\n",
              "      <td>2</td>\n",
              "      <td>0.820</td>\n",
              "    </tr>\n",
              "    <tr>\n",
              "      <th>2</th>\n",
              "      <td>3</td>\n",
              "      <td>1.270</td>\n",
              "    </tr>\n",
              "    <tr>\n",
              "      <th>3</th>\n",
              "      <td>4</td>\n",
              "      <td>0.958</td>\n",
              "    </tr>\n",
              "    <tr>\n",
              "      <th>4</th>\n",
              "      <td>5</td>\n",
              "      <td>1.162</td>\n",
              "    </tr>\n",
              "  </tbody>\n",
              "</table>\n",
              "</div>"
            ],
            "text/plain": [
              "   Juntas   Area\n",
              "0       1  2.001\n",
              "1       2  0.820\n",
              "2       3  1.270\n",
              "3       4  0.958\n",
              "4       5  1.162"
            ]
          },
          "metadata": {},
          "execution_count": 80
        }
      ]
    },
    {
      "cell_type": "code",
      "metadata": {
        "id": "4vmhG2LgCabC"
      },
      "source": [
        "#lost_value = float(PSD_new.columns[1])\n",
        "\n",
        "# Area = np.array(PSD_new.iloc[:,1])\n",
        "Area = PSD_new['Area'].values\n",
        "# Area = np.concatenate( (Area, [lost_value] ) )\n",
        "# Area = np.concatenate( (Area, [lost_value] ) )\n",
        "diam_teste = []\n",
        "for A in Area:\n",
        "  diam_teste.append((4*A/np.pi)**0.5) \n",
        "\n",
        "Diam1 = [ (4*A/np.pi)**0.5 for A in Area]"
      ],
      "execution_count": 81,
      "outputs": []
    },
    {
      "cell_type": "code",
      "metadata": {
        "colab": {
          "base_uri": "https://localhost:8080/"
        },
        "id": "1aUb2_-jsY1Z",
        "outputId": "7132364c-ffef-4a97-c7db-6e7a0630360c"
      },
      "source": [
        "PSD_new.iloc[:,1].values"
      ],
      "execution_count": 82,
      "outputs": [
        {
          "output_type": "execute_result",
          "data": {
            "text/plain": [
              "array([2.001, 0.82 , 1.27 , 0.958, 1.162, 2.014, 1.078, 1.234, 1.262,\n",
              "       1.347, 1.313, 2.449, 1.445, 1.209, 3.564, 1.59 , 0.891, 1.329,\n",
              "       1.403, 0.626, 1.65 , 1.551, 2.118, 1.194, 1.113, 1.072, 1.042,\n",
              "       0.725, 4.218, 0.881, 1.608, 0.446, 0.582, 1.282, 1.484, 1.246,\n",
              "       1.323, 1.21 , 2.013, 1.358, 1.579, 1.223, 0.96 , 0.718, 0.707,\n",
              "       0.992, 1.142, 1.287, 0.599, 0.664, 2.119, 0.926, 0.889, 0.929,\n",
              "       1.579, 1.888, 0.481, 1.695, 0.871, 1.262, 0.471, 1.493, 1.461,\n",
              "       1.326, 1.301, 0.982, 0.705, 1.819, 1.437, 1.049, 2.014, 1.276,\n",
              "       1.589, 1.412, 1.08 , 1.037, 1.672, 1.224, 1.403, 0.724, 1.736,\n",
              "       1.601, 1.432, 0.449, 1.245, 1.011, 2.151, 0.986, 0.981, 0.658,\n",
              "       1.064, 1.341, 1.044, 1.337, 1.341])"
            ]
          },
          "metadata": {},
          "execution_count": 82
        }
      ]
    },
    {
      "cell_type": "code",
      "metadata": {
        "colab": {
          "base_uri": "https://localhost:8080/"
        },
        "id": "9J705kDqsE8f",
        "outputId": "2b2adeaf-780b-4943-eb66-67b1a33ee737"
      },
      "source": [
        "X.shape"
      ],
      "execution_count": 83,
      "outputs": [
        {
          "output_type": "execute_result",
          "data": {
            "text/plain": [
              "(490, 784)"
            ]
          },
          "metadata": {},
          "execution_count": 83
        }
      ]
    },
    {
      "cell_type": "code",
      "metadata": {
        "colab": {
          "base_uri": "https://localhost:8080/",
          "height": 282
        },
        "id": "mK1GBUHWiIr4",
        "outputId": "c914123a-0e5a-43cd-c94b-cfb463368fa1"
      },
      "source": [
        "Freq = [10.52631579, 24.21052632, 36.84210526, 14.73684211,  7.36842105, 0.]\n",
        "Freq2 = [12.90153, 28.11527, 27.66761, 20.21617, 10.34227, 0.]\n",
        "Freq3 = [22.22489, 30.15078, 25.10463, 19.30926, 2.810434, 0.]\n",
        "barWidth = 0.25\n",
        "\n",
        "br1 = range(len(Freq))\n",
        "# Set position of bar on X axis\n",
        "br2 = [x + barWidth for x in br1]\n",
        "br3 = [x + barWidth for x in br2]\n",
        "labels = [0.8, 1.0, 1.2, 1.4, 1.6, 1.8]\n",
        "\n",
        "xx=[]\n",
        "for a in labels:\n",
        "  xx.append(str(a))\n",
        "plt.bar(br1, Freq , color=\"green\", align=\"center\", width=0.3, tick_label= xx) \n",
        "plt.bar(br2, Freq2 , color=\"red\", align=\"center\", width=0.3, tick_label= xx)\n",
        "plt.bar(br3, Freq3 , color=\"blue\", align=\"center\", width=0.3, tick_label= xx)"
      ],
      "execution_count": 84,
      "outputs": [
        {
          "output_type": "execute_result",
          "data": {
            "text/plain": [
              "<BarContainer object of 6 artists>"
            ]
          },
          "metadata": {},
          "execution_count": 84
        },
        {
          "output_type": "display_data",
          "data": {
            "image/png": "[encoded data removed]",
            "text/plain": [
              "<Figure size 432x288 with 1 Axes>"
            ]
          },
          "metadata": {
            "needs_background": "light"
          }
        }
      ]
    },
    {
      "cell_type": "code",
      "metadata": {
        "id": "Vfk_fNXGDK5_",
        "colab": {
          "base_uri": "https://localhost:8080/",
          "height": 282
        },
        "outputId": "8f864df4-85d7-4e04-83aa-ae6a99b2f151"
      },
      "source": [
        " wt1 = np.ones(len(Diam1)) / len(Diam1)*100\n",
        " wt2 = np.ones(len(Diameter_All)) / len(Diameter_All)*100\n",
        " X = pd.DataFrame([Diam1,Diameter_All])\n",
        " wts = pd.DataFrame([wt1,wt2])\n",
        "plt.hist(X,weights=wts)\n",
        "plt.legend(['Image J','CNN'])"
      ],
      "execution_count": 85,
      "outputs": [
        {
          "output_type": "execute_result",
          "data": {
            "text/plain": [
              "<matplotlib.legend.Legend at 0x7f5e710b6bd0>"
            ]
          },
          "metadata": {},
          "execution_count": 85
        },
        {
          "output_type": "display_data",
          "data": {
            "image/png": "[encoded data removed]",
            "text/plain": [
              "<Figure size 432x288 with 1 Axes>"
            ]
          },
          "metadata": {
            "needs_background": "light"
          }
        }
      ]
    },
    {
      "cell_type": "code",
      "metadata": {
        "id": "-nGDbBEeiUij",
        "colab": {
          "base_uri": "https://localhost:8080/",
          "height": 399
        },
        "outputId": "1331c22c-2680-4132-a8a5-63dbedcafd52"
      },
      "source": [
        "# plt.hist(x, bins=bins, density=True, histtype='step', cumulative=-1,label='Reversed emp.')\n",
        "plt.hist(X, density=True, histtype='step', cumulative=True,label='Reversed emp.')"
      ],
      "execution_count": 86,
      "outputs": [
        {
          "output_type": "execute_result",
          "data": {
            "text/plain": [
              "(array([[0.07368421, 0.2       , 0.41052632, 0.75789474, 0.88421053,\n",
              "         0.96842105, 0.97894737, 0.97894737, 0.98947368, 1.        ],\n",
              "        [0.08      , 0.48      , 0.8       , 0.84      , 1.        ,\n",
              "         1.        , 1.        , 1.        , 1.        , 1.        ]]),\n",
              " array([0.75356807, 0.90995518, 1.06634229, 1.22272941, 1.37911652,\n",
              "        1.53550363, 1.69189074, 1.84827785, 2.00466497, 2.16105208,\n",
              "        2.31743919]),\n",
              " <a list of 2 Lists of Patches objects>)"
            ]
          },
          "metadata": {},
          "execution_count": 86
        },
        {
          "output_type": "display_data",
          "data": {
            "image/png": "[encoded data removed]",
            "text/plain": [
              "<Figure size 432x288 with 1 Axes>"
            ]
          },
          "metadata": {
            "needs_background": "light"
          }
        }
      ]
    },
    {
      "cell_type": "code",
      "metadata": {
        "id": "9xENlBUUxfTu",
        "colab": {
          "base_uri": "https://localhost:8080/",
          "height": 282
        },
        "outputId": "c6368dc8-e259-4e59-f7a8-7dece4038dfa"
      },
      "source": [
        "Obj = plt.hist(X, density=True, histtype='step', cumulative=True,label='Reversed emp.')\n",
        "Y1, Y2 = Obj[0]\n",
        "Rsquared = r2_score(Y1, Y2)\n",
        "print('r_squared =',Rsquared)"
      ],
      "execution_count": 87,
      "outputs": [
        {
          "output_type": "stream",
          "name": "stdout",
          "text": [
            "r_squared = 0.7823281961069255\n"
          ]
        },
        {
          "output_type": "display_data",
          "data": {
            "image/png": "[encoded data removed]",
            "text/plain": [
              "<Figure size 432x288 with 1 Axes>"
            ]
          },
          "metadata": {
            "needs_background": "light"
          }
        }
      ]
    },
    {
      "cell_type": "code",
      "metadata": {
        "id": "O2XboMiFbkaa"
      },
      "source": [
        "acc_train = r.history['accuracy'][-1]\n",
        "acc_test = r.history['val_accuracy'][-1]\n",
        "loss_train = r.history['loss'][-1]\n",
        "loss_test = r.history['val_loss'][-1]"
      ],
      "execution_count": 88,
      "outputs": []
    },
    {
      "cell_type": "code",
      "metadata": {
        "id": "euTd_-CYN1v0"
      },
      "source": [
        "df = pd.DataFrame({'N1':N1, 'N2':N2,'R^2':Rsquared,\n",
        "                   'acc train':acc_train,'acc test':acc_test,\n",
        "                   'loss train':loss_train,'loss test':loss_test,\n",
        "                   'Details':Description},\n",
        "                  index= [0])\n"
      ],
      "execution_count": 89,
      "outputs": []
    },
    {
      "cell_type": "code",
      "metadata": {
        "id": "-KukfpGTTKlj",
        "colab": {
          "base_uri": "https://localhost:8080/",
          "height": 80
        },
        "outputId": "5287cdfe-dca8-4088-9193-4923c284b9db"
      },
      "source": [
        "df"
      ],
      "execution_count": 90,
      "outputs": [
        {
          "output_type": "execute_result",
          "data": {
            "text/html": [
              "<div>\n",
              "<style scoped>\n",
              "    .dataframe tbody tr th:only-of-type {\n",
              "        vertical-align: middle;\n",
              "    }\n",
              "\n",
              "    .dataframe tbody tr th {\n",
              "        vertical-align: top;\n",
              "    }\n",
              "\n",
              "    .dataframe thead th {\n",
              "        text-align: right;\n",
              "    }\n",
              "</style>\n",
              "<table border=\"1\" class=\"dataframe\">\n",
              "  <thead>\n",
              "    <tr style=\"text-align: right;\">\n",
              "      <th></th>\n",
              "      <th>N1</th>\n",
              "      <th>N2</th>\n",
              "      <th>R^2</th>\n",
              "      <th>acc train</th>\n",
              "      <th>acc test</th>\n",
              "      <th>loss train</th>\n",
              "      <th>loss test</th>\n",
              "      <th>Details</th>\n",
              "    </tr>\n",
              "  </thead>\n",
              "  <tbody>\n",
              "    <tr>\n",
              "      <th>0</th>\n",
              "      <td>20</td>\n",
              "      <td>20</td>\n",
              "      <td>0.782328</td>\n",
              "      <td>1.0</td>\n",
              "      <td>0.965986</td>\n",
              "      <td>0.000042</td>\n",
              "      <td>0.191508</td>\n",
              "      <td>3 layers of Convolution: 64, 128, 256</td>\n",
              "    </tr>\n",
              "  </tbody>\n",
              "</table>\n",
              "</div>"
            ],
            "text/plain": [
              "   N1  N2  ...  loss test                                 Details\n",
              "0  20  20  ...   0.191508  3 layers of Convolution: 64, 128, 256 \n",
              "\n",
              "[1 rows x 8 columns]"
            ]
          },
          "metadata": {},
          "execution_count": 90
        }
      ]
    },
    {
      "cell_type": "code",
      "metadata": {
        "id": "ZZHa1j4HT9Dq",
        "colab": {
          "base_uri": "https://localhost:8080/",
          "height": 382
        },
        "outputId": "a8ab780a-8f3b-4c85-9c2b-75fda94f26fb"
      },
      "source": [
        "counts, bins, bars = plt.hist(X,weights=wts)\n",
        "print(bars)\n",
        "print(bins)\n",
        "print(counts)"
      ],
      "execution_count": 91,
      "outputs": [
        {
          "output_type": "stream",
          "name": "stdout",
          "text": [
            "<a list of 2 Lists of Patches objects>\n",
            "[0.75356807 0.90995518 1.06634229 1.22272941 1.37911652 1.53550363\n",
            " 1.69189074 1.84827785 2.00466497 2.16105208 2.31743919]\n",
            "[[ 7.36842105 12.63157895 21.05263158 34.73684211 12.63157895  8.42105263\n",
            "   1.05263158  0.          1.05263158  1.05263158]\n",
            " [ 8.         40.         32.          4.         16.          0.\n",
            "   0.          0.          0.          0.        ]]\n"
          ]
        },
        {
          "output_type": "display_data",
          "data": {
            "image/png": "[encoded data removed]",
            "text/plain": [
              "<Figure size 432x288 with 1 Axes>"
            ]
          },
          "metadata": {
            "needs_background": "light"
          }
        }
      ]
    },
    {
      "cell_type": "code",
      "metadata": {
        "id": "8o_vDGeWUwIZ",
        "colab": {
          "base_uri": "https://localhost:8080/"
        },
        "outputId": "08bb7b45-f67d-4782-b212-2bba352bacc6"
      },
      "source": [
        "print(counts.sum())"
      ],
      "execution_count": 92,
      "outputs": [
        {
          "output_type": "stream",
          "name": "stdout",
          "text": [
            "200.0000000000001\n"
          ]
        }
      ]
    },
    {
      "cell_type": "code",
      "metadata": {
        "id": "KcH52-6iJQ8t",
        "colab": {
          "base_uri": "https://localhost:8080/",
          "height": 335
        },
        "outputId": "28cb5e38-83ff-4b90-d5b8-c31523b7672a"
      },
      "source": [
        "\n",
        "plt.hist([Diam1,Diameter_All])\n",
        "plt.legend(['Image J','CNN'])\n"
      ],
      "execution_count": 93,
      "outputs": [
        {
          "output_type": "stream",
          "name": "stderr",
          "text": [
            "/usr/local/lib/python3.7/dist-packages/numpy/core/_asarray.py:83: VisibleDeprecationWarning: Creating an ndarray from ragged nested sequences (which is a list-or-tuple of lists-or-tuples-or ndarrays with different lengths or shapes) is deprecated. If you meant to do this, you must specify 'dtype=object' when creating the ndarray\n",
            "  return array(a, dtype, copy=False, order=order)\n"
          ]
        },
        {
          "output_type": "execute_result",
          "data": {
            "text/plain": [
              "<matplotlib.legend.Legend at 0x7f5e6c3a9350>"
            ]
          },
          "metadata": {},
          "execution_count": 93
        },
        {
          "output_type": "display_data",
          "data": {
            "image/png": "[encoded data removed]",
            "text/plain": [
              "<Figure size 432x288 with 1 Axes>"
            ]
          },
          "metadata": {
            "needs_background": "light"
          }
        }
      ]
    },
    {
      "cell_type": "code",
      "metadata": {
        "id": "r11AxFK_JIii",
        "colab": {
          "base_uri": "https://localhost:8080/"
        },
        "outputId": "4abc28d5-fbf1-4617-9e83-858613c6d0be"
      },
      "source": [
        "[Diam1,Diameter_All]"
      ],
      "execution_count": 94,
      "outputs": [
        {
          "output_type": "execute_result",
          "data": {
            "text/plain": [
              "[[1.59616801403081,\n",
              "  1.0217907939900581,\n",
              "  1.2716187407449044,\n",
              "  1.104429030701514,\n",
              "  1.2163487785097904,\n",
              "  1.6013445735058454,\n",
              "  1.1715597420637607,\n",
              "  1.2534662333717612,\n",
              "  1.2676073151634049,\n",
              "  1.309600575274104,\n",
              "  1.292966945531582,\n",
              "  1.7658322811231006,\n",
              "  1.3564037533648712,\n",
              "  1.2407040781688483,\n",
              "  2.130217298173151,\n",
              "  1.4228319915327,\n",
              "  1.0651086490865755,\n",
              "  1.3008210311003705,\n",
              "  1.336545951796433,\n",
              "  0.8927754224911278,\n",
              "  1.4494292838262302,\n",
              "  1.4052738287907582,\n",
              "  1.6421697097891788,\n",
              "  1.2329833804288621,\n",
              "  1.19042665178928,\n",
              "  1.1682948223612457,\n",
              "  1.1518314137121108,\n",
              "  0.9607802401865855,\n",
              "  2.317439190074449,\n",
              "  1.0591147430338594,\n",
              "  1.4308630919602832,\n",
              "  0.7535680705496237,\n",
              "  0.8608283307581511,\n",
              "  1.2776122636975893,\n",
              "  1.3745862957220916,\n",
              "  1.259546137598783,\n",
              "  1.2978813187979172,\n",
              "  1.2412170838050638,\n",
              "  1.6009469708743893,\n",
              "  1.3149369953539032,\n",
              "  1.417901703622935,\n",
              "  1.2478669653497139,\n",
              "  1.1055812783082735,\n",
              "  0.9561307405997607,\n",
              "  0.9487783503683882,\n",
              "  1.1238565871041026,\n",
              "  1.2058356273089446,\n",
              "  1.2801012827406097,\n",
              "  0.8733100751144249,\n",
              "  0.9194732501297403,\n",
              "  1.6425573339441792,\n",
              "  1.085826790250066,\n",
              "  1.0639125693728595,\n",
              "  1.0875842666474016,\n",
              "  1.417901703622935,\n",
              "  1.550443891425932,\n",
              "  0.7825779328716171,\n",
              "  1.4690612745308145,\n",
              "  1.053086721720641,\n",
              "  1.2676073151634049,\n",
              "  0.7744003006005755,\n",
              "  1.3787482149724068,\n",
              "  1.363892581861956,\n",
              "  1.299352006316543,\n",
              "  1.2870449283923413,\n",
              "  1.11817763925502,\n",
              "  0.9474354220939228,\n",
              "  1.5218484589055707,\n",
              "  1.3526437911676632,\n",
              "  1.1556938532445284,\n",
              "  1.6013445735058454,\n",
              "  1.274619025074578,\n",
              "  1.422384489715834,\n",
              "  1.3408259533459403,\n",
              "  1.172646028567008,\n",
              "  1.1490645795125545,\n",
              "  1.459060149136146,\n",
              "  1.2483770274864237,\n",
              "  1.336545951796433,\n",
              "  0.9601174044814821,\n",
              "  1.4867225193896279,\n",
              "  1.4277452542806772,\n",
              "  1.35028849808504,\n",
              "  0.7560982446653928,\n",
              "  1.259040600296622,\n",
              "  1.13456827900627,\n",
              "  1.6549133695530214,\n",
              "  1.1204526724091788,\n",
              "  1.1176081573544434,\n",
              "  0.9153095762832032,\n",
              "  1.1639273497938836,\n",
              "  1.3066806149514323,\n",
              "  1.1529362882239027,\n",
              "  1.3047303442899274,\n",
              "  1.3066806149514323],\n",
              " [0.8790373360435388,\n",
              "  1.4213436324917104,\n",
              "  1.4249109046450532,\n",
              "  1.0081515127569904,\n",
              "  0.9663754526433623,\n",
              "  1.2766389503879334,\n",
              "  1.0839372849232416,\n",
              "  1.1311433003931644,\n",
              "  0.9991413265628266,\n",
              "  1.1381329061878152,\n",
              "  1.0254329372771298,\n",
              "  1.5235034615460874,\n",
              "  1.046184593985404,\n",
              "  1.0434472435895852,\n",
              "  1.1699666662353159,\n",
              "  1.4231391273401597,\n",
              "  1.0742532199968622,\n",
              "  0.7856710997100508,\n",
              "  1.1482457856866064,\n",
              "  0.9997226195686799,\n",
              "  1.0293478537909833,\n",
              "  1.1070376003315854,\n",
              "  0.9147161453521346,\n",
              "  0.9807868211992429,\n",
              "  1.0806869225272646]]"
            ]
          },
          "metadata": {},
          "execution_count": 94
        }
      ]
    },
    {
      "cell_type": "code",
      "metadata": {
        "id": "4xS7NSM92s_8",
        "colab": {
          "base_uri": "https://localhost:8080/",
          "height": 282
        },
        "outputId": "3aab61c1-5b82-477d-92dd-0b2e192e7464"
      },
      "source": [
        " bins_list = [0.8, 1.0, 1.2, 1.4,1.6, 1.8,2.0]\n",
        " wt1 = np.ones(len(Diam1)) / len(Diam1)*100\n",
        " wt2 = np.ones(len(Diameter_All)) / len(Diameter_All)*100\n",
        " X = pd.DataFrame([Diam1,Diameter_All])\n",
        " wts = pd.DataFrame([wt1,wt2])\n",
        "plt.hist(X,weights=wts,bins = bins_list)\n",
        "plt.legend(['Image J','CNN'])"
      ],
      "execution_count": 95,
      "outputs": [
        {
          "output_type": "execute_result",
          "data": {
            "text/plain": [
              "<matplotlib.legend.Legend at 0x7f5e634c8510>"
            ]
          },
          "metadata": {},
          "execution_count": 95
        },
        {
          "output_type": "display_data",
          "data": {
            "image/png": "[encoded data removed]",
            "text/plain": [
              "<Figure size 432x288 with 1 Axes>"
            ]
          },
          "metadata": {
            "needs_background": "light"
          }
        }
      ]
    },
    {
      "cell_type": "code",
      "metadata": {
        "id": "jD80rFZs37Wm",
        "colab": {
          "base_uri": "https://localhost:8080/",
          "height": 265
        },
        "outputId": "ead416a4-b91e-479c-f943-f67a206afe67"
      },
      "source": [
        "yy = plt.hist(X,weights=wts,bins = bins_list)"
      ],
      "execution_count": 96,
      "outputs": [
        {
          "output_type": "display_data",
          "data": {
            "image/png": "[encoded data removed]",
            "text/plain": [
              "<Figure size 432x288 with 1 Axes>"
            ]
          },
          "metadata": {
            "needs_background": "light"
          }
        }
      ]
    },
    {
      "cell_type": "code",
      "metadata": {
        "id": "edcwJoJP4GBs",
        "colab": {
          "base_uri": "https://localhost:8080/"
        },
        "outputId": "907d6b02-9c78-48ff-a020-c53ae202bbd1"
      },
      "source": [
        "yy[0][0]"
      ],
      "execution_count": 97,
      "outputs": [
        {
          "output_type": "execute_result",
          "data": {
            "text/plain": [
              "array([10.52631579, 24.21052632, 36.84210526, 14.73684211,  7.36842105,\n",
              "        0.        ])"
            ]
          },
          "metadata": {},
          "execution_count": 97
        }
      ]
    },
    {
      "cell_type": "code",
      "metadata": {
        "id": "_0zY-NBY6Rgx",
        "colab": {
          "base_uri": "https://localhost:8080/"
        },
        "outputId": "b1e4c712-4980-4b0c-c8b5-7d0c8b599536"
      },
      "source": [
        "bins_list"
      ],
      "execution_count": 98,
      "outputs": [
        {
          "output_type": "execute_result",
          "data": {
            "text/plain": [
              "[0.8, 1.0, 1.2, 1.4, 1.6, 1.8, 2.0]"
            ]
          },
          "metadata": {},
          "execution_count": 98
        }
      ]
    },
    {
      "cell_type": "code",
      "metadata": {
        "id": "9ujCjAa85RG5"
      },
      "source": [
        "k =0\n",
        "for kk in yy[0][0]:\n",
        "  name = str(bins_list[k])\n",
        "  df[name] = yy[0][1][k]\n",
        "  k = k+1"
      ],
      "execution_count": 99,
      "outputs": []
    },
    {
      "cell_type": "code",
      "metadata": {
        "id": "iMQRVn4D69RC",
        "colab": {
          "base_uri": "https://localhost:8080/",
          "height": 80
        },
        "outputId": "6b2b6479-fd90-4f50-d86e-10116b0fe2b3"
      },
      "source": [
        "df"
      ],
      "execution_count": 100,
      "outputs": [
        {
          "output_type": "execute_result",
          "data": {
            "text/html": [
              "<div>\n",
              "<style scoped>\n",
              "    .dataframe tbody tr th:only-of-type {\n",
              "        vertical-align: middle;\n",
              "    }\n",
              "\n",
              "    .dataframe tbody tr th {\n",
              "        vertical-align: top;\n",
              "    }\n",
              "\n",
              "    .dataframe thead th {\n",
              "        text-align: right;\n",
              "    }\n",
              "</style>\n",
              "<table border=\"1\" class=\"dataframe\">\n",
              "  <thead>\n",
              "    <tr style=\"text-align: right;\">\n",
              "      <th></th>\n",
              "      <th>N1</th>\n",
              "      <th>N2</th>\n",
              "      <th>R^2</th>\n",
              "      <th>acc train</th>\n",
              "      <th>acc test</th>\n",
              "      <th>loss train</th>\n",
              "      <th>loss test</th>\n",
              "      <th>Details</th>\n",
              "      <th>0.8</th>\n",
              "      <th>1.0</th>\n",
              "      <th>1.2</th>\n",
              "      <th>1.4</th>\n",
              "      <th>1.6</th>\n",
              "      <th>1.8</th>\n",
              "    </tr>\n",
              "  </thead>\n",
              "  <tbody>\n",
              "    <tr>\n",
              "      <th>0</th>\n",
              "      <td>20</td>\n",
              "      <td>20</td>\n",
              "      <td>0.782328</td>\n",
              "      <td>1.0</td>\n",
              "      <td>0.965986</td>\n",
              "      <td>0.000042</td>\n",
              "      <td>0.191508</td>\n",
              "      <td>3 layers of Convolution: 64, 128, 256</td>\n",
              "      <td>24.0</td>\n",
              "      <td>52.0</td>\n",
              "      <td>4.0</td>\n",
              "      <td>16.0</td>\n",
              "      <td>0.0</td>\n",
              "      <td>0.0</td>\n",
              "    </tr>\n",
              "  </tbody>\n",
              "</table>\n",
              "</div>"
            ],
            "text/plain": [
              "   N1  N2       R^2  acc train  acc test  ...   1.0  1.2   1.4  1.6  1.8\n",
              "0  20  20  0.782328        1.0  0.965986  ...  52.0  4.0  16.0  0.0  0.0\n",
              "\n",
              "[1 rows x 14 columns]"
            ]
          },
          "metadata": {},
          "execution_count": 100
        }
      ]
    },
    {
      "cell_type": "code",
      "metadata": {
        "id": "JMWpAwMq5Hw2",
        "colab": {
          "base_uri": "https://localhost:8080/",
          "height": 17
        },
        "outputId": "d6c396ec-ffe7-47c0-977b-8d52370967b7"
      },
      "source": [
        "Arq = \"output.xlsx\"\n",
        "df.to_excel(Arq)\n",
        "files.download(Arq)"
      ],
      "execution_count": 101,
      "outputs": [
        {
          "output_type": "display_data",
          "data": {
            "application/javascript": [
              "\n",
              "    async function download(id, filename, size) {\n",
              "      if (!google.colab.kernel.accessAllowed) {\n",
              "        return;\n",
              "      }\n",
              "      const div = document.createElement('div');\n",
              "      const label = document.createElement('label');\n",
              "      label.textContent = `Downloading \"${filename}\": `;\n",
              "      div.appendChild(label);\n",
              "      const progress = document.createElement('progress');\n",
              "      progress.max = size;\n",
              "      div.appendChild(progress);\n",
              "      document.body.appendChild(div);\n",
              "\n",
              "      const buffers = [];\n",
              "      let downloaded = 0;\n",
              "\n",
              "      const channel = await google.colab.kernel.comms.open(id);\n",
              "      // Send a message to notify the kernel that we're ready.\n",
              "      channel.send({})\n",
              "\n",
              "      for await (const message of channel.messages) {\n",
              "        // Send a message to notify the kernel that we're ready.\n",
              "        channel.send({})\n",
              "        if (message.buffers) {\n",
              "          for (const buffer of message.buffers) {\n",
              "            buffers.push(buffer);\n",
              "            downloaded += buffer.byteLength;\n",
              "            progress.value = downloaded;\n",
              "          }\n",
              "        }\n",
              "      }\n",
              "      const blob = new Blob(buffers, {type: 'application/binary'});\n",
              "      const a = document.createElement('a');\n",
              "      a.href = window.URL.createObjectURL(blob);\n",
              "      a.download = filename;\n",
              "      div.appendChild(a);\n",
              "      a.click();\n",
              "      div.remove();\n",
              "    }\n",
              "  "
            ],
            "text/plain": [
              "<IPython.core.display.Javascript object>"
            ]
          },
          "metadata": {}
        },
        {
          "output_type": "display_data",
          "data": {
            "application/javascript": [
              "download(\"download_7288a1a9-d543-4ab7-8c7b-920596c98ba6\", \"output.xlsx\", 5237)"
            ],
            "text/plain": [
              "<IPython.core.display.Javascript object>"
            ]
          },
          "metadata": {}
        }
      ]
    }
  ]
}