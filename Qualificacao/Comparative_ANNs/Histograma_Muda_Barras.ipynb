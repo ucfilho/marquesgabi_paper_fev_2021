{
  "nbformat": 4,
  "nbformat_minor": 0,
  "metadata": {
    "colab": {
      "name": "Histograma_Muda_Barras.ipynb",
      "provenance": [],
      "authorship_tag": "ABX9TyNIvCVDNW6lihv6dv/pHVmA",
      "include_colab_link": true
    },
    "kernelspec": {
      "name": "python3",
      "display_name": "Python 3"
    },
    "language_info": {
      "name": "python"
    }
  },
  "cells": [
    {
      "cell_type": "markdown",
      "metadata": {
        "id": "view-in-github",
        "colab_type": "text"
      },
      "source": [
        "<a href=\"https://colab.research.google.com/github/ucfilho/marquesgabi_paper_fev_2021/blob/main/Qualificacao/Comparative_ANNs/Histograma_Muda_Barras.ipynb\" target=\"_parent\"><img src=\"https://colab.research.google.com/assets/colab-badge.svg\" alt=\"Open In Colab\"/></a>"
      ]
    },
    {
      "cell_type": "code",
      "metadata": {
        "id": "HUWYly8VOpxM"
      },
      "source": [
        "import numpy as np\n",
        "import random\n",
        "import matplotlib.pyplot as plt\n"
      ],
      "execution_count": 1,
      "outputs": []
    },
    {
      "cell_type": "code",
      "metadata": {
        "colab": {
          "base_uri": "https://localhost:8080/",
          "height": 355
        },
        "id": "Nt6lzI84PGfk",
        "outputId": "767fc7c8-4a38-462a-8d81-5b92bad455ca"
      },
      "source": [
        "X = []\n",
        "low = 10\n",
        "high =50\n",
        "mode = 35\n",
        "Samples = 200\n",
        "for i in range(Samples):\n",
        "  X.append(random.triangular(low, high, mode))\n",
        "\n",
        "\n",
        "plt.hist(X)\n"
      ],
      "execution_count": 2,
      "outputs": [
        {
          "output_type": "execute_result",
          "data": {
            "text/plain": [
              "(array([ 7., 14., 12., 21., 31., 27., 39., 24., 14., 11.]),\n",
              " array([12.76365048, 16.35557096, 19.94749145, 23.53941193, 27.13133242,\n",
              "        30.7232529 , 34.31517339, 37.90709388, 41.49901436, 45.09093485,\n",
              "        48.68285533]),\n",
              " <a list of 10 Patch objects>)"
            ]
          },
          "metadata": {
            "tags": []
          },
          "execution_count": 2
        },
        {
          "output_type": "display_data",
          "data": {
            "image/png": "[encoded data removed]",
            "text/plain": [
              "<Figure size 432x288 with 1 Axes>"
            ]
          },
          "metadata": {
            "tags": [],
            "needs_background": "light"
          }
        }
      ]
    },
    {
      "cell_type": "code",
      "metadata": {
        "colab": {
          "base_uri": "https://localhost:8080/",
          "height": 283
        },
        "id": "NbHmAyswSvTT",
        "outputId": "36bf8aef-7339-445d-abd6-ff09bf4123b0"
      },
      "source": [
        "Freq = [10., 12., 16., 18., 26., 38., 27., 27., 18.,  8.]\n",
        "Freq2 = [11,13,15,18,25,37,27,27,17,7]\n",
        "barWidth = 0.25\n",
        "Bins = [12.90126555, 16.44966472, 19.99806389, 23.54646306, 27.09486223,\n",
        "        30.6432614 , 34.19166057, 37.74005974, 41.28845891, 44.83685808,\n",
        "        48.38525725]\n",
        "br1 = range(len(Freq))\n",
        "# Set position of bar on X axis\n",
        "br2 = [x + barWidth for x in br1]\n",
        "labels = ['a','b','c','d','e','f','c','d','e','f']\n",
        "plt.bar(br1, Freq , color=\"green\", align=\"center\", width=0.3, tick_label= labels) \n",
        "plt.bar(br2, Freq2 , color=\"red\", align=\"center\", width=0.3, tick_label= labels) "
      ],
      "execution_count": 6,
      "outputs": [
        {
          "output_type": "execute_result",
          "data": {
            "text/plain": [
              "<BarContainer object of 10 artists>"
            ]
          },
          "metadata": {
            "tags": []
          },
          "execution_count": 6
        },
        {
          "output_type": "display_data",
          "data": {
            "image/png": "[encoded data removed]",
            "text/plain": [
              "<Figure size 432x288 with 1 Axes>"
            ]
          },
          "metadata": {
            "tags": [],
            "needs_background": "light"
          }
        }
      ]
    },
    {
      "cell_type": "code",
      "metadata": {
        "id": "LWhkS_OxeEcX"
      },
      "source": [
        ""
      ],
      "execution_count": 3,
      "outputs": []
    }
  ]
}