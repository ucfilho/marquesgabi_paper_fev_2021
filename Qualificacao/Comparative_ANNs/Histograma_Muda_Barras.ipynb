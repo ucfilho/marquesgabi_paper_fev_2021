{
  "nbformat": 4,
  "nbformat_minor": 0,
  "metadata": {
    "colab": {
      "name": "Histograma_Muda_Barras.ipynb",
      "provenance": [],
      "authorship_tag": "ABX9TyMqUUPBHy6rzxr/b2umWp3h",
      "include_colab_link": true
    },
    "kernelspec": {
      "name": "python3",
      "display_name": "Python 3"
    },
    "language_info": {
      "name": "python"
    }
  },
  "cells": [
    {
      "cell_type": "markdown",
      "metadata": {
        "id": "view-in-github",
        "colab_type": "text"
      },
      "source": [
        "<a href=\"https://colab.research.google.com/github/ucfilho/marquesgabi_paper_fev_2021/blob/main/Qualificacao/Comparative_ANNs/Histograma_Muda_Barras.ipynb\" target=\"_parent\"><img src=\"https://colab.research.google.com/assets/colab-badge.svg\" alt=\"Open In Colab\"/></a>"
      ]
    },
    {
      "cell_type": "code",
      "metadata": {
        "id": "HUWYly8VOpxM"
      },
      "source": [
        "import numpy as np\n",
        "import random\n",
        "import matplotlib.pyplot as plt\n"
      ],
      "execution_count": 1,
      "outputs": []
    },
    {
      "cell_type": "code",
      "metadata": {
        "colab": {
          "base_uri": "https://localhost:8080/",
          "height": 355
        },
        "id": "Nt6lzI84PGfk",
        "outputId": "90ab8001-9fbf-48e5-b629-17118c09424e"
      },
      "source": [
        "X = []\n",
        "low = 10\n",
        "high =50\n",
        "mode = 35\n",
        "Samples = 200\n",
        "for i in range(Samples):\n",
        "  X.append(random.triangular(low, high, mode))\n",
        "\n",
        "\n",
        "plt.hist(X)\n"
      ],
      "execution_count": 2,
      "outputs": [
        {
          "output_type": "execute_result",
          "data": {
            "text/plain": [
              "(array([ 6., 14., 24., 17., 32., 25., 34., 20., 20.,  8.]),\n",
              " array([12.84356788, 16.43412813, 20.02468837, 23.61524862, 27.20580887,\n",
              "        30.79636912, 34.38692936, 37.97748961, 41.56804986, 45.1586101 ,\n",
              "        48.74917035]),\n",
              " <a list of 10 Patch objects>)"
            ]
          },
          "metadata": {
            "tags": []
          },
          "execution_count": 2
        },
        {
          "output_type": "display_data",
          "data": {
            "image/png": "[encoded data removed]",
            "text/plain": [
              "<Figure size 432x288 with 1 Axes>"
            ]
          },
          "metadata": {
            "tags": [],
            "needs_background": "light"
          }
        }
      ]
    },
    {
      "cell_type": "code",
      "metadata": {
        "colab": {
          "base_uri": "https://localhost:8080/",
          "height": 283
        },
        "id": "NbHmAyswSvTT",
        "outputId": "f969fce5-c070-41d8-8d5d-68d4e281e83f"
      },
      "source": [
        "Freq = [10., 12., 16., 18., 26., 38., 27., 27., 18.,  8.]\n",
        "Bins = [12.90126555, 16.44966472, 19.99806389, 23.54646306, 27.09486223,\n",
        "        30.6432614 , 34.19166057, 37.74005974, 41.28845891, 44.83685808,\n",
        "        48.38525725]\n",
        "x = range(len(Freq))\n",
        "labels = ['a','b','c','d','e','f','c','d','e','f']\n",
        "plt.bar(x, Freq , color=\"green\", align=\"center\", width=1.0, tick_label= labels) "
      ],
      "execution_count": 3,
      "outputs": [
        {
          "output_type": "execute_result",
          "data": {
            "text/plain": [
              "<BarContainer object of 10 artists>"
            ]
          },
          "metadata": {
            "tags": []
          },
          "execution_count": 3
        },
        {
          "output_type": "display_data",
          "data": {
            "image/png": "[encoded data removed]",
            "text/plain": [
              "<Figure size 432x288 with 1 Axes>"
            ]
          },
          "metadata": {
            "tags": [],
            "needs_background": "light"
          }
        }
      ]
    },
    {
      "cell_type": "code",
      "metadata": {
        "id": "LWhkS_OxeEcX"
      },
      "source": [
        ""
      ],
      "execution_count": null,
      "outputs": []
    }
  ]
}