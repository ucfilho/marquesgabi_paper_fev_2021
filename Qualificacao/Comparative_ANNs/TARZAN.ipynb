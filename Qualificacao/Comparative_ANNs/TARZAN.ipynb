{
  "nbformat": 4,
  "nbformat_minor": 0,
  "metadata": {
    "colab": {
      "name": "TARZAN.ipynb",
      "provenance": [],
      "collapsed_sections": [],
      "include_colab_link": true
    },
    "kernelspec": {
      "name": "python3",
      "display_name": "Python 3"
    },
    "accelerator": "GPU"
  },
  "cells": [
    {
      "cell_type": "markdown",
      "metadata": {
        "id": "view-in-github",
        "colab_type": "text"
      },
      "source": [
        "<a href=\"https://colab.research.google.com/github/ucfilho/marquesgabi_paper_fev_2021/blob/main/Qualificacao/Comparative_ANNs/TARZAN.ipynb\" target=\"_parent\"><img src=\"https://colab.research.google.com/assets/colab-badge.svg\" alt=\"Open In Colab\"/></a>"
      ]
    },
    {
      "cell_type": "code",
      "metadata": {
        "id": "Sog7Z9pyhUD_"
      },
      "source": [
        "import matplotlib.pyplot as plt\n",
        "import numpy as np\n",
        "import cv2\n",
        "import zipfile\n",
        "from random import randint\n",
        "from PIL import Image\n",
        "import re\n",
        "from sklearn.model_selection import train_test_split\n",
        "import skimage\n",
        "import pandas as pd\n",
        "import sklearn\n",
        "from keras.models import Sequential\n",
        "from keras.layers import Dense, Activation, Conv2D, MaxPooling2D, Flatten, Dropout, BatchNormalization\n",
        "from sklearn.metrics import r2_score"
      ],
      "execution_count": null,
      "outputs": []
    },
    {
      "cell_type": "code",
      "metadata": {
        "id": "uZEvJvfoibE4",
        "colab": {
          "base_uri": "https://localhost:8080/"
        },
        "outputId": "b3da3ebb-5380-4b44-876d-91e49c7cc6c3"
      },
      "source": [
        "!pip install mahotas"
      ],
      "execution_count": null,
      "outputs": [
        {
          "output_type": "stream",
          "text": [
            "Requirement already satisfied: mahotas in /usr/local/lib/python3.7/dist-packages (1.4.11)\n",
            "Requirement already satisfied: numpy in /usr/local/lib/python3.7/dist-packages (from mahotas) (1.19.5)\n"
          ],
          "name": "stdout"
        }
      ]
    },
    {
      "cell_type": "code",
      "metadata": {
        "id": "_VcTdaNVh9EE",
        "colab": {
          "base_uri": "https://localhost:8080/"
        },
        "outputId": "99813035-697f-41a7-c94d-c17a2e61d868"
      },
      "source": [
        "!git clone https://github.com/ucfilho/marquesgabi_fev_2020 #clonar do Github\n",
        "%cd marquesgabi_fev_2020\n",
        "import Go2BlackWhite\n",
        "import Go2Mahotas"
      ],
      "execution_count": null,
      "outputs": [
        {
          "output_type": "stream",
          "text": [
            "fatal: destination path 'marquesgabi_fev_2020' already exists and is not an empty directory.\n",
            "/content/marquesgabi_fev_2020\n"
          ],
          "name": "stdout"
        }
      ]
    },
    {
      "cell_type": "code",
      "metadata": {
        "id": "nf_a6PJ1iUnT"
      },
      "source": [
        "import mahotas.features.texture as mht\n",
        "import mahotas.features"
      ],
      "execution_count": null,
      "outputs": []
    },
    {
      "cell_type": "code",
      "metadata": {
        "id": "wj62HANgnpnR",
        "colab": {
          "base_uri": "https://localhost:8080/"
        },
        "outputId": "04699803-ceb3-471a-f78b-f77ab532933f"
      },
      "source": [
        "!git clone https://github.com/ucfilho/marquesgabi_paper_fev_2021\n",
        "%cd marquesgabi_paper_fev_2021\n",
        "\n",
        "from Get_PSDArea_New import PSDArea\n",
        "from histogram_fev_2021 import PSD\n",
        "from GetBetterSegm import GetBetter"
      ],
      "execution_count": null,
      "outputs": [
        {
          "output_type": "stream",
          "text": [
            "fatal: destination path 'marquesgabi_paper_fev_2021' already exists and is not an empty directory.\n",
            "/content/marquesgabi_fev_2020/marquesgabi_paper_fev_2021\n"
          ],
          "name": "stdout"
        }
      ]
    },
    {
      "cell_type": "code",
      "metadata": {
        "id": "8L6KJ4jc3ahG",
        "colab": {
          "base_uri": "https://localhost:8080/"
        },
        "outputId": "edae8b0f-71bd-47da-dfd0-4561a406b4d0"
      },
      "source": [
        "!ls"
      ],
      "execution_count": null,
      "outputs": [
        {
          "output_type": "stream",
          "text": [
            " ANN_Ajuste_mar_2021\n",
            "'ANN_ better_resolution'\n",
            " ANN_FIND_GRAIN_MAR_2021.py\n",
            " ANN_FIND_GRAIN_NOVO.py\n",
            " ANN_FIND_GRAIN_PAPER_STEP_02.py\n",
            " big_segment.py\n",
            " CNN_classify_grain_feb_15_2021.ipynb\n",
            " CNN_DESCRIPTION.ipynb\n",
            " CNN_FIND_GRAIN_PAPER_STEP_02.py\n",
            " Codes_in_Evaluation\n",
            " Doutorado\n",
            " EPOCHS_graphic.csv\n",
            " EPOCHS_graphic.txt\n",
            " Fig_05_BIG_Segmentation_jan_25_2021.ipynb\n",
            " Filter_Grain_abril_26_2021.ipynb\n",
            " GetBetterSegm.py\n",
            " Get_PSDArea_New.py\n",
            " Graphic_Epochs_fev_09_2020.ipynb\n",
            " histogram_fev_2021.py\n",
            " Other_resolution\n",
            " PSD_CNN_GRAIN_NOT_GRAIN_step_02_paper.ipynb\n",
            " PSD_GRAIN_NOT_GRAIN_dez_04_2020.ipynb\n",
            " PSD_GRAIN_NOT_GRAIN_fev_18_2021.ipynb\n",
            " PSD_GRAIN_NOT_GRAIN_mar_11_2021.ipynb\n",
            " PSD_GRAIN_NOT_GRAIN_mar_12_2021.ipynb\n",
            " PSD_GRAIN_NOT_GRAIN_step_02_paper.ipynb\n",
            " PSD_histogram_abril_22_2021.ipynb\n",
            " PSD_histogram_jun_07_2021.ipynb\n",
            " psd_mahotas.py\n",
            " __pycache__\n",
            " Qualificacao\n",
            " README.md\n",
            " regionprops_Grain_abril_26_2021.ipynb\n",
            " Segment_Ajuste_mar_2021\n",
            " SEGMENT_NOT_CONCLUDED.ipynb\n",
            " Size_Grain_regionprops_abril_26_2021.ipynb\n",
            " Tools\n"
          ],
          "name": "stdout"
        }
      ]
    },
    {
      "cell_type": "code",
      "metadata": {
        "id": "1v7SRrc8mH2N",
        "colab": {
          "base_uri": "https://localhost:8080/"
        },
        "outputId": "0599cceb-fd45-47c4-aca9-2d7fa6e12578"
      },
      "source": [
        "!git clone https://github.com/marquesgabi/Doutorado\n",
        "%cd Doutorado\n",
        "\n",
        "Transfere='Fotos_Grandes_3cdAmostra.zip'\n",
        "file_name = zipfile.ZipFile(Transfere, 'r')\n",
        "file_name.extractall()"
      ],
      "execution_count": null,
      "outputs": [
        {
          "output_type": "stream",
          "text": [
            "fatal: destination path 'Doutorado' already exists and is not an empty directory.\n",
            "/content/marquesgabi_fev_2020/marquesgabi_paper_fev_2021/Doutorado\n"
          ],
          "name": "stdout"
        }
      ]
    },
    {
      "cell_type": "code",
      "metadata": {
        "colab": {
          "base_uri": "https://localhost:8080/",
          "height": 35
        },
        "id": "d27DPBIAIy0d",
        "outputId": "f64019b1-9bd2-4311-eac0-ae7cb4b88d5c"
      },
      "source": [
        "'''\n",
        "# found drive\n",
        "from google.colab import drive\n",
        "drive.mount('drive')\n",
        "\n",
        "#drive.mount('/content/gdrive')\n",
        "'''"
      ],
      "execution_count": null,
      "outputs": [
        {
          "output_type": "execute_result",
          "data": {
            "application/vnd.google.colaboratory.intrinsic+json": {
              "type": "string"
            },
            "text/plain": [
              "\"\\n# found drive\\nfrom google.colab import drive\\ndrive.mount('drive')\\n\\n#drive.mount('/content/gdrive')\\n\""
            ]
          },
          "metadata": {
            "tags": []
          },
          "execution_count": 8
        }
      ]
    },
    {
      "cell_type": "code",
      "metadata": {
        "id": "0kA4IWSmasoD"
      },
      "source": [
        "Size=1200 # tamanho da foto\n",
        "ww,img_name=Go2BlackWhite.BlackWhite(Transfere,Size) #Pegamos a primeira foto Grande\n",
        "img=ww[0] \n",
        "# this is the big image we want to segment \n",
        "# ww[0], change it if you want to segment another picture"
      ],
      "execution_count": null,
      "outputs": []
    },
    {
      "cell_type": "code",
      "metadata": {
        "id": "g_k1Ktz3izJv",
        "colab": {
          "base_uri": "https://localhost:8080/"
        },
        "outputId": "8c0c6edb-0275-4768-cd13-0fd5770adba2"
      },
      "source": [
        "!git clone https://github.com/marquesgabi/Doutorado\n",
        "# %cd Doutorado\n",
        "Transfere='FotosTreino882_and_Segm.zip'\n",
        "file_name = zipfile.ZipFile(Transfere, 'r')\n",
        "file_name.extractall()\n",
        "\n",
        "\"\"\"# First step: get the segmented file (photos stored in csv file)\"\"\"\n",
        "\n",
        "labels = [] #name files\n",
        "\n",
        "with zipfile.ZipFile(Transfere, \"r\") as f:\n",
        "  for f in f.namelist():\n",
        "    labels.append(f)\n",
        "\n",
        "Num=len(labels)\n",
        "df=pd.read_csv(labels[0])\n",
        "for i in range(1,Num):\n",
        "  df_new=pd.read_csv(labels[i])\n",
        "  df_new = df_new[~df_new['Type'].isin(['G'])] # drop grain row which is not in 882\n",
        "  frames = [df, df_new]\n",
        "  df= pd.concat(frames, ignore_index=True)"
      ],
      "execution_count": null,
      "outputs": [
        {
          "output_type": "stream",
          "text": [
            "fatal: destination path 'Doutorado' already exists and is not an empty directory.\n"
          ],
          "name": "stdout"
        }
      ]
    },
    {
      "cell_type": "code",
      "metadata": {
        "id": "tHgqAnaFyCjp",
        "colab": {
          "base_uri": "https://localhost:8080/"
        },
        "outputId": "e437a601-eb4a-4c2c-b24c-1b86402cd281"
      },
      "source": [
        "!git clone https://github.com/ucfilho/marquesgabi_paper_fev_2021\n",
        "%cd marquesgabi_paper_fev_2021"
      ],
      "execution_count": null,
      "outputs": [
        {
          "output_type": "stream",
          "text": [
            "fatal: destination path 'marquesgabi_paper_fev_2021' already exists and is not an empty directory.\n",
            "/content/marquesgabi_fev_2020/marquesgabi_paper_fev_2021/Doutorado/marquesgabi_paper_fev_2021\n"
          ],
          "name": "stdout"
        }
      ]
    },
    {
      "cell_type": "code",
      "metadata": {
        "id": "qc4rFvzkyWCi"
      },
      "source": [
        "from big_segment import Segmenta  # got image provided segmented\n",
        "# from ANN_FIND_GRAIN_NOVO import AnnGrain  # got image provided segmented\n",
        "from psd_mahotas import Mahotas"
      ],
      "execution_count": null,
      "outputs": []
    },
    {
      "cell_type": "code",
      "metadata": {
        "colab": {
          "base_uri": "https://localhost:8080/"
        },
        "id": "N-R1so5EcKXE",
        "outputId": "9265d015-5811-4870-d94c-73fb8b92d2ef"
      },
      "source": [
        "!git clone https://github.com/ucfilho/marquesgabi_paper_fev_2021/ANN_Ajuste_mar_2021\n",
        "%cd ANN_Ajuste_mar_2021"
      ],
      "execution_count": null,
      "outputs": [
        {
          "output_type": "stream",
          "text": [
            "fatal: destination path 'ANN_Ajuste_mar_2021' already exists and is not an empty directory.\n",
            "/content/marquesgabi_fev_2020/marquesgabi_paper_fev_2021/Doutorado/marquesgabi_paper_fev_2021/ANN_Ajuste_mar_2021\n"
          ],
          "name": "stdout"
        }
      ]
    },
    {
      "cell_type": "code",
      "metadata": {
        "id": "aPT8qYAVcdPP"
      },
      "source": [
        "from ANN_FIND_GRAIN_change_ann import AnnGrain  # got image provided segmented"
      ],
      "execution_count": null,
      "outputs": []
    },
    {
      "cell_type": "code",
      "metadata": {
        "colab": {
          "base_uri": "https://localhost:8080/"
        },
        "id": "knhoH5ve0gyq",
        "outputId": "858f9adf-ab9f-49d6-ba82-0d3939a2a296"
      },
      "source": [
        "!ls"
      ],
      "execution_count": null,
      "outputs": [
        {
          "output_type": "stream",
          "text": [
            "ANN_Ajuste_mar_2021\n",
            "ANN_deploy_neural_network_mar_22_2021.ipynb\n",
            "ANN_deploy_neural_network_photos_excel_april_19_2021.ipynb\n",
            "ANN_FIND_GRAIN_change_ann.py\n",
            "ANN_load_neural_network_mar_23_2021.ipynb\n",
            "ANN_load_top_okay_neural_network_mar_23_2021.ipynb\n",
            "ANN_neural_network_load_mar_22_2021.ipynb\n",
            "big_segment_new.py\n",
            "Doutorado\n",
            "Fig_05_BIG_Segmentation_ann_new_abril_19_2021.ipynb\n",
            "kNN_deploy_abril_09_2021.ipynb\n",
            "knn_find_grain_change_classification.py\n",
            "kNN_load_abril_09_2021.ipynb\n",
            "PSD_find_neural_network_mar_18_2021.ipynb\n",
            "PSD_GRAIN_NOT_GRAIN_kNN_abril_07_2021.ipynb\n",
            "PSD_GRAIN_NOT_GRAIN_kNN_abril_09_2021.ipynb\n",
            "PSD_GRAIN_NOT_GRAIN_mar_18_2021.ipynb\n",
            "__pycache__\n"
          ],
          "name": "stdout"
        }
      ]
    },
    {
      "cell_type": "code",
      "metadata": {
        "id": "YPoCxCp4kuRm",
        "colab": {
          "base_uri": "https://localhost:8080/"
        },
        "outputId": "65c1c620-cdd3-4465-b7d3-7e5bcfcc6bd7"
      },
      "source": [
        "!git clone https://github.com/marquesgabi/Doutorado\n",
        "%cd Doutorado\n",
        "Transfere='FotosTreino882_and_Segm.zip'\n",
        "file_name = zipfile.ZipFile(Transfere, 'r')\n",
        "file_name.extractall()\n",
        "\n",
        "\"\"\"# First step: get the segmented file (photos stored in csv file)\"\"\"\n",
        "\n",
        "labels = [] #name files\n",
        "\n",
        "with zipfile.ZipFile(Transfere, \"r\") as f:\n",
        "  for f in f.namelist():\n",
        "    labels.append(f)\n",
        "\n",
        "Num=len(labels)\n",
        "ANN_dat=pd.read_csv(labels[0])\n",
        "for i in range(1,Num):\n",
        "  df_new=pd.read_csv(labels[i])\n",
        "  df_new = df_new[~df_new['Type'].isin(['G'])] # drop grain row which is not in 882\n",
        "  frames = [ANN_dat, df_new]\n",
        "  ANN_dat= pd.concat(frames, ignore_index=True)"
      ],
      "execution_count": null,
      "outputs": [
        {
          "output_type": "stream",
          "text": [
            "fatal: destination path 'Doutorado' already exists and is not an empty directory.\n",
            "/content/marquesgabi_fev_2020/marquesgabi_paper_fev_2021/Doutorado/marquesgabi_paper_fev_2021/ANN_Ajuste_mar_2021/Doutorado\n"
          ],
          "name": "stdout"
        }
      ]
    },
    {
      "cell_type": "code",
      "metadata": {
        "id": "mv01JmHfmz-1"
      },
      "source": [
        "# open file to get df \n",
        "# use df and ANN to get grains and no grains\n",
        "# use grains to obtain psd"
      ],
      "execution_count": null,
      "outputs": []
    },
    {
      "cell_type": "code",
      "metadata": {
        "id": "h4ELNAEunkox",
        "colab": {
          "base_uri": "https://localhost:8080/"
        },
        "outputId": "d2b9e8d6-c103-49f6-d2fd-8e1e1ca47804"
      },
      "source": [
        "!git clone https://github.com/marquesgabi/Doutorado\n",
        "%cd Doutorado"
      ],
      "execution_count": null,
      "outputs": [
        {
          "output_type": "stream",
          "text": [
            "fatal: destination path 'Doutorado' already exists and is not an empty directory.\n",
            "/content/marquesgabi_fev_2020/marquesgabi_paper_fev_2021/Doutorado/marquesgabi_paper_fev_2021/ANN_Ajuste_mar_2021/Doutorado/Doutorado\n"
          ],
          "name": "stdout"
        }
      ]
    },
    {
      "cell_type": "code",
      "metadata": {
        "id": "QmPJiuSnnxT9"
      },
      "source": [
        "'''\n",
        "k=0\n",
        "for Item in img_name:\n",
        "  print(k,Item)\n",
        "  k=k+1\n",
        "'''\n",
        "foto_segmentada=ww[21]\n"
      ],
      "execution_count": null,
      "outputs": []
    },
    {
      "cell_type": "code",
      "metadata": {
        "colab": {
          "base_uri": "https://localhost:8080/"
        },
        "id": "aobZmEXHAxIP",
        "outputId": "6e94cca2-4078-493a-b291-6c803a38251c"
      },
      "source": [
        "y_valor=df['Type']\n",
        "\n",
        "quantidade= df.groupby('Type').size()\n",
        "\n",
        "df_G = df[df[\"Type\"] == \"G\"] \n",
        "Cut=['Unnamed: 0','Type','Width']\n",
        "FotosG= df_G.drop(Cut,axis=1)\n",
        "\n",
        "\n",
        "Size=28\n",
        "img_G=[]\n",
        "\n",
        "Num,cols=FotosG.shape\n",
        "for i in range(Num):\n",
        "  data=np.array(FotosG.iloc[i]).reshape(Size,Size)\n",
        "  img = Image.fromarray(data.astype('uint8'), mode='L')\n",
        "  img=np.float32(img)\n",
        "  img28=cv2.resize(img,(Size,Size), interpolation = cv2.INTER_AREA)\n",
        "  img_G.append(img28)\n",
        "\n",
        "df_Z = df[df[\"Type\"] == \"Z\"] \n",
        "Cut=['Unnamed: 0','Type','Width']\n",
        "FotosZ= df_Z.drop(Cut,axis=1)\n",
        "\n",
        "# We'll choose which is grain and withdraw from 750 segmented photos\n",
        "\n",
        "Size=28\n",
        "img_Z=[]\n",
        "\n",
        "Num,cols=FotosZ.shape\n",
        "for i in range(Num):\n",
        "  data=np.array(FotosZ.iloc[i]).reshape(Size,Size)\n",
        "  img = Image.fromarray(data.astype('uint8'), mode='L')\n",
        "  img=np.float32(img)\n",
        "  img28=cv2.resize(img,(Size,Size), interpolation = cv2.INTER_AREA)\n",
        "  img_Z.append(img28)\n",
        "\n",
        "GRAO=[0,146,149,166,217,222,223,257,268,286,455,482,538,612,644,647,651,677] # 0 ate 749\n",
        "GRAO=np.array(GRAO)\n",
        "Ind=FotosZ.index\n",
        "FotosNG=FotosZ.copy()\n",
        "for i in GRAO:\n",
        "  FotosNG=FotosNG.drop(Ind[i])\n",
        "\n",
        "PERCENT=245.0/(len(FotosNG.index))\n",
        "FotosNG=FotosNG.sample(frac=PERCENT, replace=True)\n",
        "\n",
        "rows,col=FotosG.shape\n",
        "y_total=[] # grao-->zero, nao grao-->1\n",
        "for i in range(rows):\n",
        "  y_total.append(0) #  # grao-->zero\n",
        "for i in range(rows,(2*rows)):\n",
        "  y_total.append(1) #  # nao grao-->zero\n",
        "\n",
        "frames = [FotosG,FotosNG]\n",
        "result = np.array(pd.concat(frames))/255\n",
        "result_fotos = pd.concat(frames)\n",
        "\n",
        "#Define data train and data test\n",
        "\n",
        "W_train, W_test, yw_train, yw_test = train_test_split(result, np.array(y_total), \n",
        "                                                      test_size=0.30, shuffle=True, \n",
        "                                                      random_state=42)\n",
        "\n",
        "fotos_train, fotos_test, fotos_yw_train, fotos_yw_test = train_test_split(result_fotos, np.array(y_total), \n",
        "                                                                          test_size=0.30, shuffle=True, \n",
        "                                                                          random_state=42)\n",
        "\n",
        "train_images=W_train #imagens utilizadas para o treino\n",
        "train_labels=yw_train # resposta esperada para o treino\n",
        "test_images=W_test\n",
        "test_labels=yw_test\n",
        "\n",
        "X_train = train_images; Y_train = train_labels\n",
        "X_test = test_images; Y_test = test_labels\n",
        "#===================================\n",
        "N_hidden1 = 200\n",
        "N_hidden2  = 10\n",
        "K = 1 # binary\n",
        "# ===============================\n",
        "\n",
        "model = Sequential()\n",
        "model.add(Dense(units=N_hidden1))\n",
        "model.add(Activation('relu'))\n",
        "model.add(Dense(units=N_hidden2))\n",
        "model.add(Activation('relu'))\n",
        "model.add(Dense(units=K))\n",
        "model.add(Activation('softmax'))\n",
        "\n",
        "#===============================\n",
        "\n",
        "model.compile(\n",
        "  loss='categorical_crossentropy',\n",
        "  optimizer='adam',\n",
        "  metrics=['accuracy']\n",
        ")\n",
        "\n",
        "#===============================\n",
        "\n",
        "model.fit(X_train, Y_train, epochs=200, batch_size=32)\n",
        "\n",
        "#==============================\n",
        "\n",
        "\n",
        "# usa a rede neural treina em calculos para treino e teste\n",
        "y_calc_train=model.predict(X_train).flatten()\n",
        "y_calc_test=model.predict(X_test).flatten()\n",
        "\n",
        "\n",
        "#=============================================\n",
        "\n",
        "'''\n",
        "model = MLPClassifier(hidden_layer_sizes=(200,10), activation='tanh', \n",
        "                      solver='adam',random_state=1, max_iter=300).fit(train_images,train_labels)\n",
        "  \n",
        "prediction = model.predict(test_images)\n",
        "'''\n",
        "prediction = model.predict(X_test).ravel()\n",
        "y_valor=np.copy(yw_test)\n",
        "data = {'y_Actual': y_valor,'y_Predicted': prediction}  # este dado esta no formato de dicionario\n",
        "\n",
        "df = pd.DataFrame(data, columns=['y_Actual','y_Predicted'])\n",
        "\n",
        "\n",
        "confusion_matrix = pd.crosstab(df['y_Actual'], df['y_Predicted'], rownames=['Actual'], colnames=['Predicted'])\n",
        "print(confusion_matrix)\n",
        "\n",
        "y_true = df['y_Actual']\n",
        "y_pred = df['y_Predicted']\n",
        "  \n",
        "METRICS=sklearn.metrics.classification_report(y_true, y_pred)\n"
      ],
      "execution_count": null,
      "outputs": [
        {
          "output_type": "stream",
          "text": [
            "Epoch 1/200\n",
            "11/11 [==============================] - 18s 3ms/step - loss: 0.0000e+00 - accuracy: 0.5102\n",
            "Epoch 2/200\n",
            "11/11 [==============================] - 0s 2ms/step - loss: 0.0000e+00 - accuracy: 0.5020\n",
            "Epoch 3/200\n",
            "11/11 [==============================] - 0s 2ms/step - loss: 0.0000e+00 - accuracy: 0.4545\n",
            "Epoch 4/200\n",
            "11/11 [==============================] - 0s 3ms/step - loss: 0.0000e+00 - accuracy: 0.4663\n",
            "Epoch 5/200\n",
            "11/11 [==============================] - 0s 2ms/step - loss: 0.0000e+00 - accuracy: 0.5222\n",
            "Epoch 6/200\n",
            "11/11 [==============================] - 0s 3ms/step - loss: 0.0000e+00 - accuracy: 0.4932\n",
            "Epoch 7/200\n",
            "11/11 [==============================] - 0s 3ms/step - loss: 0.0000e+00 - accuracy: 0.5086\n",
            "Epoch 8/200\n",
            "11/11 [==============================] - 0s 3ms/step - loss: 0.0000e+00 - accuracy: 0.4698\n",
            "Epoch 9/200\n",
            "11/11 [==============================] - 0s 2ms/step - loss: 0.0000e+00 - accuracy: 0.4816\n",
            "Epoch 10/200\n",
            "11/11 [==============================] - 0s 2ms/step - loss: 0.0000e+00 - accuracy: 0.5137\n",
            "Epoch 11/200\n",
            "11/11 [==============================] - 0s 3ms/step - loss: 0.0000e+00 - accuracy: 0.4958\n",
            "Epoch 12/200\n",
            "11/11 [==============================] - 0s 2ms/step - loss: 0.0000e+00 - accuracy: 0.4933\n",
            "Epoch 13/200\n",
            "11/11 [==============================] - 0s 3ms/step - loss: 0.0000e+00 - accuracy: 0.4974\n",
            "Epoch 14/200\n",
            "11/11 [==============================] - 0s 3ms/step - loss: 0.0000e+00 - accuracy: 0.5077\n",
            "Epoch 15/200\n",
            "11/11 [==============================] - 0s 3ms/step - loss: 0.0000e+00 - accuracy: 0.4817\n",
            "Epoch 16/200\n",
            "11/11 [==============================] - 0s 3ms/step - loss: 0.0000e+00 - accuracy: 0.4669\n",
            "Epoch 17/200\n",
            "11/11 [==============================] - 0s 3ms/step - loss: 0.0000e+00 - accuracy: 0.5055\n",
            "Epoch 18/200\n",
            "11/11 [==============================] - 0s 3ms/step - loss: 0.0000e+00 - accuracy: 0.5066\n",
            "Epoch 19/200\n",
            "11/11 [==============================] - 0s 3ms/step - loss: 0.0000e+00 - accuracy: 0.5079\n",
            "Epoch 20/200\n",
            "11/11 [==============================] - 0s 3ms/step - loss: 0.0000e+00 - accuracy: 0.4705\n",
            "Epoch 21/200\n",
            "11/11 [==============================] - 0s 3ms/step - loss: 0.0000e+00 - accuracy: 0.5132\n",
            "Epoch 22/200\n",
            "11/11 [==============================] - 0s 2ms/step - loss: 0.0000e+00 - accuracy: 0.4802\n",
            "Epoch 23/200\n",
            "11/11 [==============================] - 0s 2ms/step - loss: 0.0000e+00 - accuracy: 0.4877\n",
            "Epoch 24/200\n",
            "11/11 [==============================] - 0s 3ms/step - loss: 0.0000e+00 - accuracy: 0.5169\n",
            "Epoch 25/200\n",
            "11/11 [==============================] - 0s 3ms/step - loss: 0.0000e+00 - accuracy: 0.4726\n",
            "Epoch 26/200\n",
            "11/11 [==============================] - 0s 3ms/step - loss: 0.0000e+00 - accuracy: 0.5232\n",
            "Epoch 27/200\n",
            "11/11 [==============================] - 0s 3ms/step - loss: 0.0000e+00 - accuracy: 0.4749\n",
            "Epoch 28/200\n",
            "11/11 [==============================] - 0s 3ms/step - loss: 0.0000e+00 - accuracy: 0.5005\n",
            "Epoch 29/200\n",
            "11/11 [==============================] - 0s 2ms/step - loss: 0.0000e+00 - accuracy: 0.5144\n",
            "Epoch 30/200\n",
            "11/11 [==============================] - 0s 2ms/step - loss: 0.0000e+00 - accuracy: 0.5051\n",
            "Epoch 31/200\n",
            "11/11 [==============================] - 0s 3ms/step - loss: 0.0000e+00 - accuracy: 0.4740\n",
            "Epoch 32/200\n",
            "11/11 [==============================] - 0s 3ms/step - loss: 0.0000e+00 - accuracy: 0.5000\n",
            "Epoch 33/200\n",
            "11/11 [==============================] - 0s 3ms/step - loss: 0.0000e+00 - accuracy: 0.4970\n",
            "Epoch 34/200\n",
            "11/11 [==============================] - 0s 3ms/step - loss: 0.0000e+00 - accuracy: 0.4818\n",
            "Epoch 35/200\n",
            "11/11 [==============================] - 0s 3ms/step - loss: 0.0000e+00 - accuracy: 0.4726\n",
            "Epoch 36/200\n",
            "11/11 [==============================] - 0s 3ms/step - loss: 0.0000e+00 - accuracy: 0.4636\n",
            "Epoch 37/200\n",
            "11/11 [==============================] - 0s 3ms/step - loss: 0.0000e+00 - accuracy: 0.5052\n",
            "Epoch 38/200\n",
            "11/11 [==============================] - 0s 3ms/step - loss: 0.0000e+00 - accuracy: 0.4807\n",
            "Epoch 39/200\n",
            "11/11 [==============================] - 0s 3ms/step - loss: 0.0000e+00 - accuracy: 0.5274\n",
            "Epoch 40/200\n",
            "11/11 [==============================] - 0s 3ms/step - loss: 0.0000e+00 - accuracy: 0.4365\n",
            "Epoch 41/200\n",
            "11/11 [==============================] - 0s 3ms/step - loss: 0.0000e+00 - accuracy: 0.4610\n",
            "Epoch 42/200\n",
            "11/11 [==============================] - 0s 3ms/step - loss: 0.0000e+00 - accuracy: 0.4573\n",
            "Epoch 43/200\n",
            "11/11 [==============================] - 0s 3ms/step - loss: 0.0000e+00 - accuracy: 0.5029\n",
            "Epoch 44/200\n",
            "11/11 [==============================] - 0s 3ms/step - loss: 0.0000e+00 - accuracy: 0.4946\n",
            "Epoch 45/200\n",
            "11/11 [==============================] - 0s 3ms/step - loss: 0.0000e+00 - accuracy: 0.4951\n",
            "Epoch 46/200\n",
            "11/11 [==============================] - 0s 3ms/step - loss: 0.0000e+00 - accuracy: 0.4914\n",
            "Epoch 47/200\n",
            "11/11 [==============================] - 0s 3ms/step - loss: 0.0000e+00 - accuracy: 0.5103\n",
            "Epoch 48/200\n",
            "11/11 [==============================] - 0s 3ms/step - loss: 0.0000e+00 - accuracy: 0.4757\n",
            "Epoch 49/200\n",
            "11/11 [==============================] - 0s 3ms/step - loss: 0.0000e+00 - accuracy: 0.5041\n",
            "Epoch 50/200\n",
            "11/11 [==============================] - 0s 3ms/step - loss: 0.0000e+00 - accuracy: 0.5043\n",
            "Epoch 51/200\n",
            "11/11 [==============================] - 0s 3ms/step - loss: 0.0000e+00 - accuracy: 0.4768\n",
            "Epoch 52/200\n",
            "11/11 [==============================] - 0s 3ms/step - loss: 0.0000e+00 - accuracy: 0.4846\n",
            "Epoch 53/200\n",
            "11/11 [==============================] - 0s 3ms/step - loss: 0.0000e+00 - accuracy: 0.4939\n",
            "Epoch 54/200\n",
            "11/11 [==============================] - 0s 3ms/step - loss: 0.0000e+00 - accuracy: 0.5165\n",
            "Epoch 55/200\n",
            "11/11 [==============================] - 0s 3ms/step - loss: 0.0000e+00 - accuracy: 0.5122\n",
            "Epoch 56/200\n",
            "11/11 [==============================] - 0s 3ms/step - loss: 0.0000e+00 - accuracy: 0.4748\n",
            "Epoch 57/200\n",
            "11/11 [==============================] - 0s 3ms/step - loss: 0.0000e+00 - accuracy: 0.4957\n",
            "Epoch 58/200\n",
            "11/11 [==============================] - 0s 3ms/step - loss: 0.0000e+00 - accuracy: 0.5160\n",
            "Epoch 59/200\n",
            "11/11 [==============================] - 0s 3ms/step - loss: 0.0000e+00 - accuracy: 0.4817\n",
            "Epoch 60/200\n",
            "11/11 [==============================] - 0s 2ms/step - loss: 0.0000e+00 - accuracy: 0.4661\n",
            "Epoch 61/200\n",
            "11/11 [==============================] - 0s 3ms/step - loss: 0.0000e+00 - accuracy: 0.5076\n",
            "Epoch 62/200\n",
            "11/11 [==============================] - 0s 3ms/step - loss: 0.0000e+00 - accuracy: 0.5164\n",
            "Epoch 63/200\n",
            "11/11 [==============================] - 0s 3ms/step - loss: 0.0000e+00 - accuracy: 0.4978\n",
            "Epoch 64/200\n",
            "11/11 [==============================] - 0s 3ms/step - loss: 0.0000e+00 - accuracy: 0.5012\n",
            "Epoch 65/200\n",
            "11/11 [==============================] - 0s 3ms/step - loss: 0.0000e+00 - accuracy: 0.4980\n",
            "Epoch 66/200\n",
            "11/11 [==============================] - 0s 3ms/step - loss: 0.0000e+00 - accuracy: 0.5264\n",
            "Epoch 67/200\n",
            "11/11 [==============================] - 0s 3ms/step - loss: 0.0000e+00 - accuracy: 0.4642\n",
            "Epoch 68/200\n",
            "11/11 [==============================] - 0s 3ms/step - loss: 0.0000e+00 - accuracy: 0.4773\n",
            "Epoch 69/200\n",
            "11/11 [==============================] - 0s 3ms/step - loss: 0.0000e+00 - accuracy: 0.5065\n",
            "Epoch 70/200\n",
            "11/11 [==============================] - 0s 3ms/step - loss: 0.0000e+00 - accuracy: 0.5161\n",
            "Epoch 71/200\n",
            "11/11 [==============================] - 0s 3ms/step - loss: 0.0000e+00 - accuracy: 0.4996\n",
            "Epoch 72/200\n",
            "11/11 [==============================] - 0s 3ms/step - loss: 0.0000e+00 - accuracy: 0.4570\n",
            "Epoch 73/200\n",
            "11/11 [==============================] - 0s 3ms/step - loss: 0.0000e+00 - accuracy: 0.5600\n",
            "Epoch 74/200\n",
            "11/11 [==============================] - 0s 3ms/step - loss: 0.0000e+00 - accuracy: 0.4988\n",
            "Epoch 75/200\n",
            "11/11 [==============================] - 0s 2ms/step - loss: 0.0000e+00 - accuracy: 0.5129\n",
            "Epoch 76/200\n",
            "11/11 [==============================] - 0s 3ms/step - loss: 0.0000e+00 - accuracy: 0.4832\n",
            "Epoch 77/200\n",
            "11/11 [==============================] - 0s 3ms/step - loss: 0.0000e+00 - accuracy: 0.5135\n",
            "Epoch 78/200\n",
            "11/11 [==============================] - 0s 3ms/step - loss: 0.0000e+00 - accuracy: 0.5035\n",
            "Epoch 79/200\n",
            "11/11 [==============================] - 0s 2ms/step - loss: 0.0000e+00 - accuracy: 0.4789\n",
            "Epoch 80/200\n",
            "11/11 [==============================] - 0s 2ms/step - loss: 0.0000e+00 - accuracy: 0.4778\n",
            "Epoch 81/200\n",
            "11/11 [==============================] - 0s 2ms/step - loss: 0.0000e+00 - accuracy: 0.4858\n",
            "Epoch 82/200\n",
            "11/11 [==============================] - 0s 2ms/step - loss: 0.0000e+00 - accuracy: 0.4946\n",
            "Epoch 83/200\n",
            "11/11 [==============================] - 0s 2ms/step - loss: 0.0000e+00 - accuracy: 0.4711\n",
            "Epoch 84/200\n",
            "11/11 [==============================] - 0s 3ms/step - loss: 0.0000e+00 - accuracy: 0.5107\n",
            "Epoch 85/200\n",
            "11/11 [==============================] - 0s 4ms/step - loss: 0.0000e+00 - accuracy: 0.4944\n",
            "Epoch 86/200\n",
            "11/11 [==============================] - 0s 3ms/step - loss: 0.0000e+00 - accuracy: 0.4751\n",
            "Epoch 87/200\n",
            "11/11 [==============================] - 0s 3ms/step - loss: 0.0000e+00 - accuracy: 0.5114\n",
            "Epoch 88/200\n",
            "11/11 [==============================] - 0s 3ms/step - loss: 0.0000e+00 - accuracy: 0.4993\n",
            "Epoch 89/200\n",
            "11/11 [==============================] - 0s 2ms/step - loss: 0.0000e+00 - accuracy: 0.4749\n",
            "Epoch 90/200\n",
            "11/11 [==============================] - 0s 3ms/step - loss: 0.0000e+00 - accuracy: 0.4997\n",
            "Epoch 91/200\n",
            "11/11 [==============================] - 0s 2ms/step - loss: 0.0000e+00 - accuracy: 0.5132\n",
            "Epoch 92/200\n",
            "11/11 [==============================] - 0s 3ms/step - loss: 0.0000e+00 - accuracy: 0.4894\n",
            "Epoch 93/200\n",
            "11/11 [==============================] - 0s 3ms/step - loss: 0.0000e+00 - accuracy: 0.4988\n",
            "Epoch 94/200\n",
            "11/11 [==============================] - 0s 3ms/step - loss: 0.0000e+00 - accuracy: 0.5078\n",
            "Epoch 95/200\n",
            "11/11 [==============================] - 0s 3ms/step - loss: 0.0000e+00 - accuracy: 0.5161\n",
            "Epoch 96/200\n",
            "11/11 [==============================] - 0s 4ms/step - loss: 0.0000e+00 - accuracy: 0.4746\n",
            "Epoch 97/200\n",
            "11/11 [==============================] - 0s 3ms/step - loss: 0.0000e+00 - accuracy: 0.4449\n",
            "Epoch 98/200\n",
            "11/11 [==============================] - 0s 3ms/step - loss: 0.0000e+00 - accuracy: 0.5155\n",
            "Epoch 99/200\n",
            "11/11 [==============================] - 0s 3ms/step - loss: 0.0000e+00 - accuracy: 0.4900\n",
            "Epoch 100/200\n",
            "11/11 [==============================] - 0s 3ms/step - loss: 0.0000e+00 - accuracy: 0.4862\n",
            "Epoch 101/200\n",
            "11/11 [==============================] - 0s 3ms/step - loss: 0.0000e+00 - accuracy: 0.4536\n",
            "Epoch 102/200\n",
            "11/11 [==============================] - 0s 3ms/step - loss: 0.0000e+00 - accuracy: 0.4522\n",
            "Epoch 103/200\n",
            "11/11 [==============================] - 0s 3ms/step - loss: 0.0000e+00 - accuracy: 0.5341\n",
            "Epoch 104/200\n",
            "11/11 [==============================] - 0s 3ms/step - loss: 0.0000e+00 - accuracy: 0.5147\n",
            "Epoch 105/200\n",
            "11/11 [==============================] - 0s 3ms/step - loss: 0.0000e+00 - accuracy: 0.4931\n",
            "Epoch 106/200\n",
            "11/11 [==============================] - 0s 3ms/step - loss: 0.0000e+00 - accuracy: 0.5114\n",
            "Epoch 107/200\n",
            "11/11 [==============================] - 0s 3ms/step - loss: 0.0000e+00 - accuracy: 0.4804\n",
            "Epoch 108/200\n",
            "11/11 [==============================] - 0s 3ms/step - loss: 0.0000e+00 - accuracy: 0.5268\n",
            "Epoch 109/200\n",
            "11/11 [==============================] - 0s 3ms/step - loss: 0.0000e+00 - accuracy: 0.4711\n",
            "Epoch 110/200\n",
            "11/11 [==============================] - 0s 3ms/step - loss: 0.0000e+00 - accuracy: 0.5400\n",
            "Epoch 111/200\n",
            "11/11 [==============================] - 0s 3ms/step - loss: 0.0000e+00 - accuracy: 0.4683\n",
            "Epoch 112/200\n",
            "11/11 [==============================] - 0s 3ms/step - loss: 0.0000e+00 - accuracy: 0.5229\n",
            "Epoch 113/200\n",
            "11/11 [==============================] - 0s 2ms/step - loss: 0.0000e+00 - accuracy: 0.4876\n",
            "Epoch 114/200\n",
            "11/11 [==============================] - 0s 2ms/step - loss: 0.0000e+00 - accuracy: 0.5033\n",
            "Epoch 115/200\n",
            "11/11 [==============================] - 0s 3ms/step - loss: 0.0000e+00 - accuracy: 0.4932\n",
            "Epoch 116/200\n",
            "11/11 [==============================] - 0s 3ms/step - loss: 0.0000e+00 - accuracy: 0.4854\n",
            "Epoch 117/200\n",
            "11/11 [==============================] - 0s 3ms/step - loss: 0.0000e+00 - accuracy: 0.5323\n",
            "Epoch 118/200\n",
            "11/11 [==============================] - 0s 3ms/step - loss: 0.0000e+00 - accuracy: 0.5376\n",
            "Epoch 119/200\n",
            "11/11 [==============================] - 0s 3ms/step - loss: 0.0000e+00 - accuracy: 0.4820\n",
            "Epoch 120/200\n",
            "11/11 [==============================] - 0s 3ms/step - loss: 0.0000e+00 - accuracy: 0.5355\n",
            "Epoch 121/200\n",
            "11/11 [==============================] - 0s 3ms/step - loss: 0.0000e+00 - accuracy: 0.5278\n",
            "Epoch 122/200\n",
            "11/11 [==============================] - 0s 3ms/step - loss: 0.0000e+00 - accuracy: 0.5238\n",
            "Epoch 123/200\n",
            "11/11 [==============================] - 0s 3ms/step - loss: 0.0000e+00 - accuracy: 0.4830\n",
            "Epoch 124/200\n",
            "11/11 [==============================] - 0s 3ms/step - loss: 0.0000e+00 - accuracy: 0.4619\n",
            "Epoch 125/200\n",
            "11/11 [==============================] - 0s 3ms/step - loss: 0.0000e+00 - accuracy: 0.4993\n",
            "Epoch 126/200\n",
            "11/11 [==============================] - 0s 3ms/step - loss: 0.0000e+00 - accuracy: 0.4799\n",
            "Epoch 127/200\n",
            "11/11 [==============================] - 0s 3ms/step - loss: 0.0000e+00 - accuracy: 0.4226\n",
            "Epoch 128/200\n",
            "11/11 [==============================] - 0s 3ms/step - loss: 0.0000e+00 - accuracy: 0.4865\n",
            "Epoch 129/200\n",
            "11/11 [==============================] - 0s 3ms/step - loss: 0.0000e+00 - accuracy: 0.5138\n",
            "Epoch 130/200\n",
            "11/11 [==============================] - 0s 3ms/step - loss: 0.0000e+00 - accuracy: 0.4970\n",
            "Epoch 131/200\n",
            "11/11 [==============================] - 0s 3ms/step - loss: 0.0000e+00 - accuracy: 0.5378\n",
            "Epoch 132/200\n",
            "11/11 [==============================] - 0s 3ms/step - loss: 0.0000e+00 - accuracy: 0.4942\n",
            "Epoch 133/200\n",
            "11/11 [==============================] - 0s 4ms/step - loss: 0.0000e+00 - accuracy: 0.4974\n",
            "Epoch 134/200\n",
            "11/11 [==============================] - 0s 3ms/step - loss: 0.0000e+00 - accuracy: 0.5247\n",
            "Epoch 135/200\n",
            "11/11 [==============================] - 0s 3ms/step - loss: 0.0000e+00 - accuracy: 0.5092\n",
            "Epoch 136/200\n",
            "11/11 [==============================] - 0s 3ms/step - loss: 0.0000e+00 - accuracy: 0.4612\n",
            "Epoch 137/200\n",
            "11/11 [==============================] - 0s 3ms/step - loss: 0.0000e+00 - accuracy: 0.4732\n",
            "Epoch 138/200\n",
            "11/11 [==============================] - 0s 3ms/step - loss: 0.0000e+00 - accuracy: 0.5137\n",
            "Epoch 139/200\n",
            "11/11 [==============================] - 0s 3ms/step - loss: 0.0000e+00 - accuracy: 0.5054\n",
            "Epoch 140/200\n",
            "11/11 [==============================] - 0s 3ms/step - loss: 0.0000e+00 - accuracy: 0.4665\n",
            "Epoch 141/200\n",
            "11/11 [==============================] - 0s 3ms/step - loss: 0.0000e+00 - accuracy: 0.5126\n",
            "Epoch 142/200\n",
            "11/11 [==============================] - 0s 3ms/step - loss: 0.0000e+00 - accuracy: 0.4689\n",
            "Epoch 143/200\n",
            "11/11 [==============================] - 0s 3ms/step - loss: 0.0000e+00 - accuracy: 0.4795\n",
            "Epoch 144/200\n",
            "11/11 [==============================] - 0s 3ms/step - loss: 0.0000e+00 - accuracy: 0.4829\n",
            "Epoch 145/200\n",
            "11/11 [==============================] - 0s 3ms/step - loss: 0.0000e+00 - accuracy: 0.5092\n",
            "Epoch 146/200\n",
            "11/11 [==============================] - 0s 3ms/step - loss: 0.0000e+00 - accuracy: 0.5021\n",
            "Epoch 147/200\n",
            "11/11 [==============================] - 0s 3ms/step - loss: 0.0000e+00 - accuracy: 0.4933\n",
            "Epoch 148/200\n",
            "11/11 [==============================] - 0s 3ms/step - loss: 0.0000e+00 - accuracy: 0.4980\n",
            "Epoch 149/200\n",
            "11/11 [==============================] - 0s 3ms/step - loss: 0.0000e+00 - accuracy: 0.5156\n",
            "Epoch 150/200\n",
            "11/11 [==============================] - 0s 3ms/step - loss: 0.0000e+00 - accuracy: 0.4740\n",
            "Epoch 151/200\n",
            "11/11 [==============================] - 0s 3ms/step - loss: 0.0000e+00 - accuracy: 0.4754\n",
            "Epoch 152/200\n",
            "11/11 [==============================] - 0s 3ms/step - loss: 0.0000e+00 - accuracy: 0.4934\n",
            "Epoch 153/200\n",
            "11/11 [==============================] - 0s 3ms/step - loss: 0.0000e+00 - accuracy: 0.4871\n",
            "Epoch 154/200\n",
            "11/11 [==============================] - 0s 3ms/step - loss: 0.0000e+00 - accuracy: 0.5077\n",
            "Epoch 155/200\n",
            "11/11 [==============================] - 0s 3ms/step - loss: 0.0000e+00 - accuracy: 0.4436\n",
            "Epoch 156/200\n",
            "11/11 [==============================] - 0s 3ms/step - loss: 0.0000e+00 - accuracy: 0.5103\n",
            "Epoch 157/200\n",
            "11/11 [==============================] - 0s 3ms/step - loss: 0.0000e+00 - accuracy: 0.4814\n",
            "Epoch 158/200\n",
            "11/11 [==============================] - 0s 3ms/step - loss: 0.0000e+00 - accuracy: 0.5101\n",
            "Epoch 159/200\n",
            "11/11 [==============================] - 0s 3ms/step - loss: 0.0000e+00 - accuracy: 0.4774\n",
            "Epoch 160/200\n",
            "11/11 [==============================] - 0s 3ms/step - loss: 0.0000e+00 - accuracy: 0.4922\n",
            "Epoch 161/200\n",
            "11/11 [==============================] - 0s 3ms/step - loss: 0.0000e+00 - accuracy: 0.4885\n",
            "Epoch 162/200\n",
            "11/11 [==============================] - 0s 3ms/step - loss: 0.0000e+00 - accuracy: 0.5127\n",
            "Epoch 163/200\n",
            "11/11 [==============================] - 0s 3ms/step - loss: 0.0000e+00 - accuracy: 0.5042\n",
            "Epoch 164/200\n",
            "11/11 [==============================] - 0s 3ms/step - loss: 0.0000e+00 - accuracy: 0.4776\n",
            "Epoch 165/200\n",
            "11/11 [==============================] - 0s 3ms/step - loss: 0.0000e+00 - accuracy: 0.5279\n",
            "Epoch 166/200\n",
            "11/11 [==============================] - 0s 3ms/step - loss: 0.0000e+00 - accuracy: 0.5202\n",
            "Epoch 167/200\n",
            "11/11 [==============================] - 0s 4ms/step - loss: 0.0000e+00 - accuracy: 0.5079\n",
            "Epoch 168/200\n",
            "11/11 [==============================] - 0s 3ms/step - loss: 0.0000e+00 - accuracy: 0.4719\n",
            "Epoch 169/200\n",
            "11/11 [==============================] - 0s 3ms/step - loss: 0.0000e+00 - accuracy: 0.4722\n",
            "Epoch 170/200\n",
            "11/11 [==============================] - 0s 3ms/step - loss: 0.0000e+00 - accuracy: 0.5062\n",
            "Epoch 171/200\n",
            "11/11 [==============================] - 0s 3ms/step - loss: 0.0000e+00 - accuracy: 0.5004\n",
            "Epoch 172/200\n",
            "11/11 [==============================] - 0s 3ms/step - loss: 0.0000e+00 - accuracy: 0.5272\n",
            "Epoch 173/200\n",
            "11/11 [==============================] - 0s 3ms/step - loss: 0.0000e+00 - accuracy: 0.4992\n",
            "Epoch 174/200\n",
            "11/11 [==============================] - 0s 3ms/step - loss: 0.0000e+00 - accuracy: 0.4930\n",
            "Epoch 175/200\n",
            "11/11 [==============================] - 0s 3ms/step - loss: 0.0000e+00 - accuracy: 0.5359\n",
            "Epoch 176/200\n",
            "11/11 [==============================] - 0s 3ms/step - loss: 0.0000e+00 - accuracy: 0.4844\n",
            "Epoch 177/200\n",
            "11/11 [==============================] - 0s 3ms/step - loss: 0.0000e+00 - accuracy: 0.5225\n",
            "Epoch 178/200\n",
            "11/11 [==============================] - 0s 3ms/step - loss: 0.0000e+00 - accuracy: 0.4981\n",
            "Epoch 179/200\n",
            "11/11 [==============================] - 0s 3ms/step - loss: 0.0000e+00 - accuracy: 0.4899\n",
            "Epoch 180/200\n",
            "11/11 [==============================] - 0s 3ms/step - loss: 0.0000e+00 - accuracy: 0.5020\n",
            "Epoch 181/200\n",
            "11/11 [==============================] - 0s 3ms/step - loss: 0.0000e+00 - accuracy: 0.5215\n",
            "Epoch 182/200\n",
            "11/11 [==============================] - 0s 3ms/step - loss: 0.0000e+00 - accuracy: 0.5207\n",
            "Epoch 183/200\n",
            "11/11 [==============================] - 0s 3ms/step - loss: 0.0000e+00 - accuracy: 0.5115\n",
            "Epoch 184/200\n",
            "11/11 [==============================] - 0s 3ms/step - loss: 0.0000e+00 - accuracy: 0.5016\n",
            "Epoch 185/200\n",
            "11/11 [==============================] - 0s 3ms/step - loss: 0.0000e+00 - accuracy: 0.4761\n",
            "Epoch 186/200\n",
            "11/11 [==============================] - 0s 4ms/step - loss: 0.0000e+00 - accuracy: 0.5250\n",
            "Epoch 187/200\n",
            "11/11 [==============================] - 0s 3ms/step - loss: 0.0000e+00 - accuracy: 0.4898\n",
            "Epoch 188/200\n",
            "11/11 [==============================] - 0s 3ms/step - loss: 0.0000e+00 - accuracy: 0.4937\n",
            "Epoch 189/200\n",
            "11/11 [==============================] - 0s 3ms/step - loss: 0.0000e+00 - accuracy: 0.4786\n",
            "Epoch 190/200\n",
            "11/11 [==============================] - 0s 3ms/step - loss: 0.0000e+00 - accuracy: 0.4999\n",
            "Epoch 191/200\n",
            "11/11 [==============================] - 0s 3ms/step - loss: 0.0000e+00 - accuracy: 0.4744\n",
            "Epoch 192/200\n",
            "11/11 [==============================] - 0s 3ms/step - loss: 0.0000e+00 - accuracy: 0.4803\n",
            "Epoch 193/200\n",
            "11/11 [==============================] - 0s 3ms/step - loss: 0.0000e+00 - accuracy: 0.4803\n",
            "Epoch 194/200\n",
            "11/11 [==============================] - 0s 3ms/step - loss: 0.0000e+00 - accuracy: 0.4836\n",
            "Epoch 195/200\n",
            "11/11 [==============================] - 0s 3ms/step - loss: 0.0000e+00 - accuracy: 0.5149\n",
            "Epoch 196/200\n",
            "11/11 [==============================] - 0s 3ms/step - loss: 0.0000e+00 - accuracy: 0.5085\n",
            "Epoch 197/200\n",
            "11/11 [==============================] - 0s 3ms/step - loss: 0.0000e+00 - accuracy: 0.4948\n",
            "Epoch 198/200\n",
            "11/11 [==============================] - 0s 3ms/step - loss: 0.0000e+00 - accuracy: 0.4765\n",
            "Epoch 199/200\n",
            "11/11 [==============================] - 0s 3ms/step - loss: 0.0000e+00 - accuracy: 0.4519\n",
            "Epoch 200/200\n",
            "11/11 [==============================] - 0s 3ms/step - loss: 0.0000e+00 - accuracy: 0.4900\n",
            "Predicted  1.0\n",
            "Actual        \n",
            "0           72\n",
            "1           75\n"
          ],
          "name": "stdout"
        },
        {
          "output_type": "stream",
          "text": [
            "/usr/local/lib/python3.7/dist-packages/sklearn/metrics/_classification.py:1272: UndefinedMetricWarning: Precision and F-score are ill-defined and being set to 0.0 in labels with no predicted samples. Use `zero_division` parameter to control this behavior.\n",
            "  _warn_prf(average, modifier, msg_start, len(result))\n"
          ],
          "name": "stderr"
        }
      ]
    },
    {
      "cell_type": "code",
      "metadata": {
        "colab": {
          "base_uri": "https://localhost:8080/"
        },
        "id": "_67KWgsinibL",
        "outputId": "ec5f0e6f-0859-4740-f100-56e26c817b1a"
      },
      "source": [
        "prediction.ravel()"
      ],
      "execution_count": null,
      "outputs": [
        {
          "output_type": "execute_result",
          "data": {
            "text/plain": [
              "array([1., 1., 1., 1., 1., 1., 1., 1., 1., 1., 1., 1., 1., 1., 1., 1., 1.,\n",
              "       1., 1., 1., 1., 1., 1., 1., 1., 1., 1., 1., 1., 1., 1., 1., 1., 1.,\n",
              "       1., 1., 1., 1., 1., 1., 1., 1., 1., 1., 1., 1., 1., 1., 1., 1., 1.,\n",
              "       1., 1., 1., 1., 1., 1., 1., 1., 1., 1., 1., 1., 1., 1., 1., 1., 1.,\n",
              "       1., 1., 1., 1., 1., 1., 1., 1., 1., 1., 1., 1., 1., 1., 1., 1., 1.,\n",
              "       1., 1., 1., 1., 1., 1., 1., 1., 1., 1., 1., 1., 1., 1., 1., 1., 1.,\n",
              "       1., 1., 1., 1., 1., 1., 1., 1., 1., 1., 1., 1., 1., 1., 1., 1., 1.,\n",
              "       1., 1., 1., 1., 1., 1., 1., 1., 1., 1., 1., 1., 1., 1., 1., 1., 1.,\n",
              "       1., 1., 1., 1., 1., 1., 1., 1., 1., 1., 1.], dtype=float32)"
            ]
          },
          "metadata": {
            "tags": []
          },
          "execution_count": 21
        }
      ]
    },
    {
      "cell_type": "code",
      "metadata": {
        "colab": {
          "base_uri": "https://localhost:8080/"
        },
        "id": "1j_KXcahnXy5",
        "outputId": "8d03c540-b792-4ada-ed06-b2cdf32b052e"
      },
      "source": [
        "data"
      ],
      "execution_count": null,
      "outputs": [
        {
          "output_type": "execute_result",
          "data": {
            "text/plain": [
              "{'y_Actual': array([1, 0, 1, 1, 1, 1, 0, 0, 1, 0, 0, 0, 1, 0, 1, 0, 1, 1, 1, 0, 0, 0,\n",
              "        1, 0, 0, 0, 0, 1, 1, 1, 0, 0, 1, 1, 0, 0, 0, 0, 0, 0, 1, 1, 1, 0,\n",
              "        0, 0, 0, 1, 1, 1, 1, 0, 0, 1, 0, 0, 1, 0, 1, 0, 1, 1, 0, 1, 1, 1,\n",
              "        0, 1, 1, 1, 1, 0, 1, 1, 1, 0, 1, 1, 0, 0, 1, 1, 1, 1, 0, 1, 0, 0,\n",
              "        1, 0, 0, 1, 0, 1, 1, 0, 1, 1, 1, 0, 1, 1, 1, 0, 1, 0, 1, 1, 0, 0,\n",
              "        0, 1, 1, 1, 1, 1, 1, 1, 0, 1, 0, 0, 0, 1, 1, 0, 0, 0, 0, 0, 0, 0,\n",
              "        0, 1, 0, 0, 1, 1, 0, 0, 1, 1, 0, 0, 0, 0, 1]),\n",
              " 'y_Predicted': array([1., 1., 1., 1., 1., 1., 1., 1., 1., 1., 1., 1., 1., 1., 1., 1., 1.,\n",
              "        1., 1., 1., 1., 1., 1., 1., 1., 1., 1., 1., 1., 1., 1., 1., 1., 1.,\n",
              "        1., 1., 1., 1., 1., 1., 1., 1., 1., 1., 1., 1., 1., 1., 1., 1., 1.,\n",
              "        1., 1., 1., 1., 1., 1., 1., 1., 1., 1., 1., 1., 1., 1., 1., 1., 1.,\n",
              "        1., 1., 1., 1., 1., 1., 1., 1., 1., 1., 1., 1., 1., 1., 1., 1., 1.,\n",
              "        1., 1., 1., 1., 1., 1., 1., 1., 1., 1., 1., 1., 1., 1., 1., 1., 1.,\n",
              "        1., 1., 1., 1., 1., 1., 1., 1., 1., 1., 1., 1., 1., 1., 1., 1., 1.,\n",
              "        1., 1., 1., 1., 1., 1., 1., 1., 1., 1., 1., 1., 1., 1., 1., 1., 1.,\n",
              "        1., 1., 1., 1., 1., 1., 1., 1., 1., 1., 1.], dtype=float32)}"
            ]
          },
          "metadata": {
            "tags": []
          },
          "execution_count": 22
        }
      ]
    },
    {
      "cell_type": "code",
      "metadata": {
        "colab": {
          "base_uri": "https://localhost:8080/"
        },
        "id": "m8jFuvnUj5T8",
        "outputId": "ec9b854f-f8a3-4a70-ac75-bce0dba775c4"
      },
      "source": [
        "Y_train"
      ],
      "execution_count": null,
      "outputs": [
        {
          "output_type": "execute_result",
          "data": {
            "text/plain": [
              "array([1, 0, 1, 1, 0, 0, 1, 1, 0, 0, 0, 0, 0, 1, 0, 0, 0, 1, 0, 0, 0, 0,\n",
              "       0, 1, 1, 0, 0, 1, 1, 0, 1, 0, 0, 0, 1, 1, 0, 0, 1, 0, 1, 0, 1, 0,\n",
              "       0, 1, 0, 1, 0, 0, 1, 1, 0, 0, 1, 1, 1, 1, 1, 0, 0, 1, 1, 0, 0, 0,\n",
              "       1, 1, 1, 1, 0, 0, 1, 1, 0, 1, 1, 1, 0, 0, 0, 1, 0, 1, 0, 1, 0, 0,\n",
              "       0, 1, 0, 1, 1, 1, 0, 1, 1, 1, 0, 0, 0, 0, 1, 0, 0, 0, 1, 0, 1, 0,\n",
              "       1, 0, 0, 0, 1, 0, 1, 0, 0, 0, 1, 1, 1, 1, 1, 1, 1, 0, 1, 0, 1, 0,\n",
              "       0, 1, 1, 1, 1, 1, 1, 1, 1, 1, 0, 0, 1, 1, 1, 1, 1, 0, 1, 0, 0, 0,\n",
              "       1, 0, 0, 0, 1, 0, 1, 1, 0, 1, 1, 0, 1, 1, 0, 1, 0, 1, 0, 1, 0, 0,\n",
              "       0, 0, 0, 0, 0, 0, 0, 1, 1, 0, 0, 0, 0, 1, 1, 0, 0, 1, 0, 1, 1, 1,\n",
              "       0, 1, 1, 0, 0, 1, 0, 0, 0, 1, 0, 0, 0, 0, 1, 1, 0, 1, 0, 1, 0, 1,\n",
              "       1, 0, 1, 0, 0, 0, 0, 1, 0, 1, 1, 0, 1, 0, 0, 0, 1, 1, 1, 0, 1, 1,\n",
              "       1, 1, 0, 0, 0, 1, 1, 1, 1, 1, 1, 1, 1, 0, 0, 0, 0, 1, 0, 1, 1, 0,\n",
              "       0, 1, 0, 1, 1, 0, 0, 0, 0, 1, 1, 0, 1, 1, 0, 1, 1, 0, 0, 1, 0, 1,\n",
              "       1, 0, 1, 1, 0, 1, 1, 1, 0, 0, 1, 0, 1, 0, 1, 0, 1, 0, 0, 0, 0, 1,\n",
              "       0, 1, 0, 1, 0, 1, 1, 0, 1, 1, 1, 1, 1, 1, 0, 0, 0, 1, 0, 1, 0, 1,\n",
              "       1, 0, 1, 0, 1, 0, 0, 0, 0, 1, 1, 1, 0])"
            ]
          },
          "metadata": {
            "tags": []
          },
          "execution_count": 23
        }
      ]
    },
    {
      "cell_type": "code",
      "metadata": {
        "id": "RUqwjzY2u-br"
      },
      "source": [
        "k =0; lista =[]\n",
        "for Ind in yw_train:\n",
        "  if(Ind == 0):\n",
        "    lista.append(k)\n",
        "  k = k +1\n"
      ],
      "execution_count": null,
      "outputs": []
    },
    {
      "cell_type": "code",
      "metadata": {
        "id": "0o4IM-QC7Q08"
      },
      "source": [
        "k =0; listaNG =[]\n",
        "for Ind in yw_train:\n",
        "  if(Ind == 1):\n",
        "    listaNG.append(k)\n",
        "  k = k +1"
      ],
      "execution_count": null,
      "outputs": []
    }
  ]
}