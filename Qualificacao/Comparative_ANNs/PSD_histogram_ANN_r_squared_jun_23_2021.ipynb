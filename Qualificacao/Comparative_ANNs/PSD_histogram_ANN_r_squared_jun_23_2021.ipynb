{
  "nbformat": 4,
  "nbformat_minor": 0,
  "metadata": {
    "colab": {
      "name": "PSD_histogram_ANN_r_squared_jun_23_2021.ipynb",
      "provenance": [],
      "collapsed_sections": [],
      "include_colab_link": true
    },
    "kernelspec": {
      "name": "python3",
      "display_name": "Python 3"
    }
  },
  "cells": [
    {
      "cell_type": "markdown",
      "metadata": {
        "id": "view-in-github",
        "colab_type": "text"
      },
      "source": [
        "<a href=\"https://colab.research.google.com/github/ucfilho/marquesgabi_paper_fev_2021/blob/main/Qualificacao/Comparative_ANNs/PSD_histogram_ANN_r_squared_jun_23_2021.ipynb\" target=\"_parent\"><img src=\"https://colab.research.google.com/assets/colab-badge.svg\" alt=\"Open In Colab\"/></a>"
      ]
    },
    {
      "cell_type": "code",
      "metadata": {
        "id": "Sog7Z9pyhUD_"
      },
      "source": [
        "import matplotlib.pyplot as plt\n",
        "import numpy as np\n",
        "import cv2\n",
        "import zipfile\n",
        "#import random\n",
        "from random import randint\n",
        "from PIL import Image\n",
        "import re\n",
        "from sklearn.model_selection import train_test_split\n",
        "#import scikit-image\n",
        "import skimage\n",
        "import sklearn\n",
        "import pandas as pd\n",
        "from keras.models import Sequential\n",
        "from keras.layers import Dense, Activation, Conv2D, MaxPooling2D, Flatten, Dropout, BatchNormalization\n",
        "from sklearn.metrics import r2_score\n",
        "from google.colab import files"
      ],
      "execution_count": 74,
      "outputs": []
    },
    {
      "cell_type": "code",
      "metadata": {
        "id": "uZEvJvfoibE4",
        "colab": {
          "base_uri": "https://localhost:8080/"
        },
        "outputId": "d54d2f8d-71e7-4635-f6a8-601636bbe122"
      },
      "source": [
        "!pip install mahotas"
      ],
      "execution_count": 75,
      "outputs": [
        {
          "output_type": "stream",
          "text": [
            "Requirement already satisfied: mahotas in /usr/local/lib/python3.7/dist-packages (1.4.11)\n",
            "Requirement already satisfied: numpy in /usr/local/lib/python3.7/dist-packages (from mahotas) (1.19.5)\n"
          ],
          "name": "stdout"
        }
      ]
    },
    {
      "cell_type": "code",
      "metadata": {
        "id": "nf_a6PJ1iUnT"
      },
      "source": [
        "import mahotas.features.texture as mht\n",
        "import mahotas.features"
      ],
      "execution_count": 76,
      "outputs": []
    },
    {
      "cell_type": "code",
      "metadata": {
        "id": "_VcTdaNVh9EE",
        "colab": {
          "base_uri": "https://localhost:8080/"
        },
        "outputId": "0d8fb548-dd0d-472e-9714-26ae78531e05"
      },
      "source": [
        "!git clone https://github.com/ucfilho/marquesgabi_fev_2020 #clonar do Github\n",
        "%cd marquesgabi_fev_2020\n",
        "import Go2BlackWhite\n",
        "import Go2Mahotas"
      ],
      "execution_count": 77,
      "outputs": [
        {
          "output_type": "stream",
          "text": [
            "Cloning into 'marquesgabi_fev_2020'...\n",
            "remote: Enumerating objects: 73, done.\u001b[K\n",
            "remote: Counting objects:   1% (1/73)\u001b[K\rremote: Counting objects:   2% (2/73)\u001b[K\rremote: Counting objects:   4% (3/73)\u001b[K\rremote: Counting objects:   5% (4/73)\u001b[K\rremote: Counting objects:   6% (5/73)\u001b[K\rremote: Counting objects:   8% (6/73)\u001b[K\rremote: Counting objects:   9% (7/73)\u001b[K\rremote: Counting objects:  10% (8/73)\u001b[K\rremote: Counting objects:  12% (9/73)\u001b[K\rremote: Counting objects:  13% (10/73)\u001b[K\rremote: Counting objects:  15% (11/73)\u001b[K\rremote: Counting objects:  16% (12/73)\u001b[K\rremote: Counting objects:  17% (13/73)\u001b[K\rremote: Counting objects:  19% (14/73)\u001b[K\rremote: Counting objects:  20% (15/73)\u001b[K\rremote: Counting objects:  21% (16/73)\u001b[K\rremote: Counting objects:  23% (17/73)\u001b[K\rremote: Counting objects:  24% (18/73)\u001b[K\rremote: Counting objects:  26% (19/73)\u001b[K\rremote: Counting objects:  27% (20/73)\u001b[K\rremote: Counting objects:  28% (21/73)\u001b[K\rremote: Counting objects:  30% (22/73)\u001b[K\rremote: Counting objects:  31% (23/73)\u001b[K\rremote: Counting objects:  32% (24/73)\u001b[K\rremote: Counting objects:  34% (25/73)\u001b[K\rremote: Counting objects:  35% (26/73)\u001b[K\rremote: Counting objects:  36% (27/73)\u001b[K\rremote: Counting objects:  38% (28/73)\u001b[K\rremote: Counting objects:  39% (29/73)\u001b[K\rremote: Counting objects:  41% (30/73)\u001b[K\rremote: Counting objects:  42% (31/73)\u001b[K\rremote: Counting objects:  43% (32/73)\u001b[K\rremote: Counting objects:  45% (33/73)\u001b[K\rremote: Counting objects:  46% (34/73)\u001b[K\rremote: Counting objects:  47% (35/73)\u001b[K\rremote: Counting objects:  49% (36/73)\u001b[K\rremote: Counting objects:  50% (37/73)\u001b[K\rremote: Counting objects:  52% (38/73)\u001b[K\rremote: Counting objects:  53% (39/73)\u001b[K\rremote: Counting objects:  54% (40/73)\u001b[K\rremote: Counting objects:  56% (41/73)\u001b[K\rremote: Counting objects:  57% (42/73)\u001b[K\rremote: Counting objects:  58% (43/73)\u001b[K\rremote: Counting objects:  60% (44/73)\u001b[K\rremote: Counting objects:  61% (45/73)\u001b[K\rremote: Counting objects:  63% (46/73)\u001b[K\rremote: Counting objects:  64% (47/73)\u001b[K\rremote: Counting objects:  65% (48/73)\u001b[K\rremote: Counting objects:  67% (49/73)\u001b[K\rremote: Counting objects:  68% (50/73)\u001b[K\rremote: Counting objects:  69% (51/73)\u001b[K\rremote: Counting objects:  71% (52/73)\u001b[K\rremote: Counting objects:  72% (53/73)\u001b[K\rremote: Counting objects:  73% (54/73)\u001b[K\rremote: Counting objects:  75% (55/73)\u001b[K\rremote: Counting objects:  76% (56/73)\u001b[K\rremote: Counting objects:  78% (57/73)\u001b[K\rremote: Counting objects:  79% (58/73)\u001b[K\rremote: Counting objects:  80% (59/73)\u001b[K\rremote: Counting objects:  82% (60/73)\u001b[K\rremote: Counting objects:  83% (61/73)\u001b[K\rremote: Counting objects:  84% (62/73)\u001b[K\rremote: Counting objects:  86% (63/73)\u001b[K\rremote: Counting objects:  87% (64/73)\u001b[K\rremote: Counting objects:  89% (65/73)\u001b[K\rremote: Counting objects:  90% (66/73)\u001b[K\rremote: Counting objects:  91% (67/73)\u001b[K\rremote: Counting objects:  93% (68/73)\u001b[K\rremote: Counting objects:  94% (69/73)\u001b[K\rremote: Counting objects:  95% (70/73)\u001b[K\rremote: Counting objects:  97% (71/73)\u001b[K\rremote: Counting objects:  98% (72/73)\u001b[K\rremote: Counting objects: 100% (73/73)\u001b[K\rremote: Counting objects: 100% (73/73), done.\u001b[K\n",
            "remote: Compressing objects: 100% (71/71), done.\u001b[K\n",
            "remote: Total 73 (delta 37), reused 0 (delta 0), pack-reused 0\u001b[K\n",
            "Unpacking objects: 100% (73/73), done.\n",
            "/content/marquesgabi_fev_2020/Doutorado/MarquesGabi_Routines/MarquesGabi_Routines/marquesgabi_paper_fev_2021/marquesgabi_out_2020/marquesgabi_fev_2020/Doutorado/MarquesGabi_Routines/MarquesGabi_Routines/marquesgabi_paper_fev_2021/marquesgabi_out_2020/marquesgabi_fev_2020\n"
          ],
          "name": "stdout"
        }
      ]
    },
    {
      "cell_type": "code",
      "metadata": {
        "id": "1v7SRrc8mH2N",
        "colab": {
          "base_uri": "https://localhost:8080/"
        },
        "outputId": "fa352f69-18a7-48b8-df0b-cc149eee8d17"
      },
      "source": [
        "!git clone https://github.com/marquesgabi/Doutorado\n",
        "%cd Doutorado\n",
        "\n",
        "Transfere='Fotos_Grandes_3cdAmostra.zip'\n",
        "file_name = zipfile.ZipFile(Transfere, 'r')\n",
        "file_name.extractall()"
      ],
      "execution_count": 78,
      "outputs": [
        {
          "output_type": "stream",
          "text": [
            "Cloning into 'Doutorado'...\n",
            "remote: Enumerating objects: 361, done.\u001b[K\n",
            "remote: Counting objects: 100% (111/111), done.\u001b[K\n",
            "remote: Compressing objects: 100% (110/110), done.\u001b[K\n",
            "remote: Total 361 (delta 38), reused 0 (delta 0), pack-reused 250\u001b[K\n",
            "Receiving objects: 100% (361/361), 165.33 MiB | 31.73 MiB/s, done.\n",
            "Resolving deltas: 100% (161/161), done.\n",
            "/content/marquesgabi_fev_2020/Doutorado/MarquesGabi_Routines/MarquesGabi_Routines/marquesgabi_paper_fev_2021/marquesgabi_out_2020/marquesgabi_fev_2020/Doutorado/MarquesGabi_Routines/MarquesGabi_Routines/marquesgabi_paper_fev_2021/marquesgabi_out_2020/marquesgabi_fev_2020/Doutorado\n"
          ],
          "name": "stdout"
        }
      ]
    },
    {
      "cell_type": "code",
      "metadata": {
        "id": "0kA4IWSmasoD"
      },
      "source": [
        "Size=1200 # tamanho da foto\n",
        "ww,img_name=Go2BlackWhite.BlackWhite(Transfere,Size) #Pegamos a primeira foto Grande\n",
        "img=ww[4] \n",
        "# this is the big image we want to segment \n",
        "# ww[0], change it if you want to segment another picture"
      ],
      "execution_count": 79,
      "outputs": []
    },
    {
      "cell_type": "code",
      "metadata": {
        "id": "tHgqAnaFyCjp",
        "colab": {
          "base_uri": "https://localhost:8080/"
        },
        "outputId": "3c988577-451a-498b-8f6a-ef31dd2a7b58"
      },
      "source": [
        "!git clone https://github.com/ucfilho/MarquesGabi_Routines\n",
        "%cd MarquesGabi_Routines"
      ],
      "execution_count": 80,
      "outputs": [
        {
          "output_type": "stream",
          "text": [
            "Cloning into 'MarquesGabi_Routines'...\n",
            "remote: Enumerating objects: 163, done.\u001b[K\n",
            "remote: Counting objects: 100% (163/163), done.\u001b[K\n",
            "remote: Compressing objects: 100% (161/161), done.\u001b[K\n",
            "remote: Total 163 (delta 65), reused 0 (delta 0), pack-reused 0\u001b[K\n",
            "Receiving objects: 100% (163/163), 211.71 MiB | 21.72 MiB/s, done.\n",
            "Resolving deltas: 100% (65/65), done.\n",
            "Checking out files: 100% (46/46), done.\n",
            "/content/marquesgabi_fev_2020/Doutorado/MarquesGabi_Routines/MarquesGabi_Routines/marquesgabi_paper_fev_2021/marquesgabi_out_2020/marquesgabi_fev_2020/Doutorado/MarquesGabi_Routines/MarquesGabi_Routines/marquesgabi_paper_fev_2021/marquesgabi_out_2020/marquesgabi_fev_2020/Doutorado/MarquesGabi_Routines\n"
          ],
          "name": "stdout"
        }
      ]
    },
    {
      "cell_type": "code",
      "metadata": {
        "id": "qc4rFvzkyWCi"
      },
      "source": [
        "from segment_filter_not_conclude import Segmenta  # got image provided segmented"
      ],
      "execution_count": 81,
      "outputs": []
    },
    {
      "cell_type": "code",
      "metadata": {
        "id": "SnTtH3KDP863"
      },
      "source": [
        "df=Segmenta(img)\n",
        "Img_Size = 28"
      ],
      "execution_count": 82,
      "outputs": []
    },
    {
      "cell_type": "code",
      "metadata": {
        "id": "YN5MN5a_v4np",
        "colab": {
          "base_uri": "https://localhost:8080/"
        },
        "outputId": "3b32797c-1f5e-4f4a-dfaf-48f37f633cfb"
      },
      "source": [
        "print(df)"
      ],
      "execution_count": 83,
      "outputs": [
        {
          "output_type": "stream",
          "text": [
            "    Width           0           1  ...         781         782         783\n",
            "0     144  147.479172  159.875778  ...  155.709106  168.168213  179.915115\n",
            "1     147  103.637192  116.712029  ...  146.040817  137.784592  116.936508\n",
            "2     127    1.895840    0.998202  ...  115.197350  133.523468  142.215027\n",
            "3     171  178.753815  179.852539  ...   87.565475   90.765358   96.423653\n",
            "4     161  194.718323  188.260895  ...  205.179596  238.911148  236.355408\n",
            "5     156  144.237366  143.147934  ...  194.593048  189.402374  183.839569\n",
            "6     133  156.246536  139.803329  ...  154.831039  148.775635  141.955673\n",
            "7     109  146.341553  163.114212  ...  166.536804  163.459564  168.297852\n",
            "8     146  155.061737  164.832809  ...    0.146369    1.187465    1.653218\n",
            "9     180  184.469635  167.120514  ...   84.734825  118.409393  131.910141\n",
            "10    174  108.655571  102.459770  ...  138.728363  133.424774  161.149445\n",
            "11    131  109.251083   93.127319  ...  159.361694  186.923355  194.181808\n",
            "12    127  153.093506  153.873459  ...  172.707489  171.533569  172.258728\n",
            "13    190  108.409073  104.377388  ...   54.076447   48.920113   54.304485\n",
            "14    118  179.682556  178.593796  ...  189.052002  185.801498  184.134140\n",
            "15    107  140.438461  147.054245  ...  168.521179  170.957458  161.576569\n",
            "16    131  193.949417  196.972305  ...  155.934036  154.373871  149.265778\n",
            "17    142   79.109909   83.512589  ...   57.283875   68.890495   77.658203\n",
            "18    108  218.261993  147.000000  ...  106.592598  105.794235   98.057610\n",
            "19    185  201.810043  196.630890  ...  156.540741  153.655121  153.688843\n",
            "20    200  101.732796  119.662010  ...    1.519200    0.252800    1.304800\n",
            "21    108  155.316864  151.178329  ...  166.215363  175.425232  177.027420\n",
            "22    117  116.950256  127.020676  ...  195.835495  189.821182  187.449768\n",
            "23    113  153.228287  157.493301  ...  177.515305  170.265884  164.803116\n",
            "24    124  175.104050  172.597290  ...  150.076996  133.175842  118.506752\n",
            "25    150   64.588448   74.395027  ...    0.797333    0.154844    1.221511\n",
            "26    187  120.004112  108.742432  ...  108.986107  111.286484  118.726494\n",
            "27    144  191.084885  180.902771  ...  154.683655  152.252319  136.746918\n",
            "28    178  145.577728  160.390747  ...  131.288361  119.876411  112.642723\n",
            "29    124  141.885529  146.300720  ...  173.332962  171.975021  169.242462\n",
            "30    118  132.623383  195.230103  ...  186.353333  161.517944  212.676239\n",
            "31    157    0.566838    0.426711  ...  116.357834  132.997696  128.851486\n",
            "32    115  167.474625  180.416931  ...  118.831978  107.752426   28.841133\n",
            "33    136  131.493942  123.746536  ...  148.506943  143.313141  142.914352\n",
            "34    116  116.016647  107.357903  ...  126.127228  124.901306  122.403084\n",
            "35    140  208.919998  206.239990  ...  130.720001  138.679993  135.919998\n",
            "36    124  134.680542  133.489059  ...  160.573349  163.058273  163.979172\n",
            "37    134  162.400330  160.377136  ...  203.142792  203.547806  205.104477\n",
            "38    168    0.694444    1.722222  ...  104.055557   94.166664   89.111115\n",
            "39    121  104.281944   86.986412  ...    0.599003    1.441978    1.590738\n",
            "40    152  129.366333  125.616341  ...    0.653740    0.337950    1.416898\n",
            "41    200  153.934799  155.065186  ...  208.534393  241.169601  250.127609\n",
            "42    151   54.856064   43.308056  ...  146.691833  150.797546  178.823547\n",
            "43    122  100.971779  123.214722  ...  148.494736  148.600372  151.474335\n",
            "44    188    1.282028    2.071073  ...    1.976912   18.401087   33.593483\n",
            "45    143  141.880768  133.280060  ...    0.492885    0.408969    1.429948\n",
            "46    132   83.201096   79.204773  ...    0.802571    1.741965    1.196511\n",
            "47    162    1.548392    0.412590  ...   94.984604   92.113548   97.213684\n",
            "48    156  163.970428  213.665375  ...  153.286011  150.784363  151.147278\n",
            "49    100  111.425606  109.374405  ...  131.924805  144.660797  147.023987\n",
            "\n",
            "[50 rows x 785 columns]\n"
          ],
          "name": "stdout"
        }
      ]
    },
    {
      "cell_type": "code",
      "metadata": {
        "id": "xzpQ1Pz0fX5L",
        "colab": {
          "base_uri": "https://localhost:8080/",
          "height": 69
        },
        "outputId": "09b6325b-1ce1-498a-8fc2-4efcc587fc96"
      },
      "source": [
        "'''\n",
        "!git clone https://github.com/ucfilho/MarquesGabi_Routines\n",
        "%cd MarquesGabi_Routines\n",
        "# filename = 'model_ANN.pkl'\n",
        "filename = 'model_ANN_new.pkl'\n",
        "model = joblib.load(filename)\n",
        "'''"
      ],
      "execution_count": 84,
      "outputs": [
        {
          "output_type": "execute_result",
          "data": {
            "application/vnd.google.colaboratory.intrinsic+json": {
              "type": "string"
            },
            "text/plain": [
              "\"\\n!git clone https://github.com/ucfilho/MarquesGabi_Routines\\n%cd MarquesGabi_Routines\\n# filename = 'model_ANN.pkl'\\nfilename = 'model_ANN_new.pkl'\\nmodel = joblib.load(filename)\\n\""
            ]
          },
          "metadata": {
            "tags": []
          },
          "execution_count": 84
        }
      ]
    },
    {
      "cell_type": "code",
      "metadata": {
        "colab": {
          "base_uri": "https://localhost:8080/"
        },
        "id": "xR2emP4rNjQy",
        "outputId": "12b33fa6-9b43-490e-dada-122433b2af31"
      },
      "source": [
        "!git clone https://github.com/ucfilho/MarquesGabi_Routines\n",
        "%cd MarquesGabi_Routines"
      ],
      "execution_count": 85,
      "outputs": [
        {
          "output_type": "stream",
          "text": [
            "Cloning into 'MarquesGabi_Routines'...\n",
            "remote: Enumerating objects: 163, done.\u001b[K\n",
            "remote: Counting objects: 100% (163/163), done.\u001b[K\n",
            "remote: Compressing objects: 100% (161/161), done.\u001b[K\n",
            "remote: Total 163 (delta 65), reused 0 (delta 0), pack-reused 0\u001b[K\n",
            "Receiving objects: 100% (163/163), 211.71 MiB | 22.80 MiB/s, done.\n",
            "Resolving deltas: 100% (65/65), done.\n",
            "Checking out files: 100% (46/46), done.\n",
            "/content/marquesgabi_fev_2020/Doutorado/MarquesGabi_Routines/MarquesGabi_Routines/marquesgabi_paper_fev_2021/marquesgabi_out_2020/marquesgabi_fev_2020/Doutorado/MarquesGabi_Routines/MarquesGabi_Routines/marquesgabi_paper_fev_2021/marquesgabi_out_2020/marquesgabi_fev_2020/Doutorado/MarquesGabi_Routines/MarquesGabi_Routines\n"
          ],
          "name": "stdout"
        }
      ]
    },
    {
      "cell_type": "code",
      "metadata": {
        "id": "O6cMHOrlNliO"
      },
      "source": [
        "# leitura dos dados\n",
        "df=pd.read_excel(\"FotosTreinoRede.xlsx\")\n",
        "y = df['y']\n",
        "df.drop(['Unnamed: 0','y'], axis='columns', inplace=True)"
      ],
      "execution_count": 86,
      "outputs": []
    },
    {
      "cell_type": "code",
      "metadata": {
        "id": "zQO8d2QbNqj0"
      },
      "source": [
        "X =np.array(df.copy())/255.0 \n",
        "\n",
        "\n",
        "X_train, X_test, Y_train, Y_test = train_test_split(X, y, test_size=0.30, shuffle=True, random_state=42)"
      ],
      "execution_count": 87,
      "outputs": []
    },
    {
      "cell_type": "code",
      "metadata": {
        "id": "23iKv6bDPWQl"
      },
      "source": [
        "# helper\n",
        "def ynindicator(Y):\n",
        "  N = len(Y)\n",
        "  K = len(set(Y))\n",
        "  I = np.zeros((N, K))\n",
        "  I[np.arange(N), Y] = 1\n",
        "  return I\n",
        "\n",
        "def yback(Y_test):\n",
        "  nrow, ncol = Y_test.shape\n",
        "  y_class = np.zeros(nrow,dtype=int)\n",
        "  y_resp = Y_test\n",
        "  for k in range(nrow):\n",
        "    for kk in range(K):\n",
        "      if(y_resp[k,kk] == 1):\n",
        "        y_class[k] = kk\n",
        "  Y_test = y_class.copy()\n",
        "  return Y_test\n",
        "\n",
        "X_train = np.array(X_train)\n",
        "Y_train = np.array(Y_train)\n",
        "K = len(set(Y_train))\n",
        "\n",
        "X_train = X_train.reshape(-1, Img_Size, Img_Size, 1) / 255.0\n",
        "Y_train = Y_train.astype(np.int32)\n",
        "Y_train = ynindicator(Y_train)\n",
        "\n",
        "X_test = np.array(X_test )\n",
        "Y_test = np.array(Y_test)\n",
        "X_test = X_test.reshape(-1, Img_Size, Img_Size, 1) / 255.0\n",
        "Y_test = Y_test.astype(np.int32)\n",
        "Y_test = ynindicator(Y_test)\n",
        "\n",
        "# the model will be a sequence of layers\n",
        "\n",
        "Description = 'ANN without convolution '\n",
        "N1 = 200\n",
        "N2 = 10\n",
        "\n",
        "# make the CNN\n",
        "model = Sequential()\n",
        "model.add(Flatten())\n",
        "model.add(Dense(units=N1))\n",
        "model.add(Activation('relu'))\n",
        "model.add(Dropout(0.2))\n",
        "model.add(Dense(units=N2))\n",
        "model.add(Activation('relu'))\n",
        "model.add(Dropout(0.2))\n",
        "model.add(Dense(units=K))\n",
        "model.add(Activation('softmax'))\n",
        "\n",
        "\n",
        "# list of losses: https://keras.io/losses/\n",
        "# list of optimizers: https://keras.io/optimizers/\n",
        "# list of metrics: https://keras.io/metrics/\n",
        "model.compile(\n",
        "  loss='categorical_crossentropy',\n",
        "  optimizer='adam',\n",
        "  metrics=['accuracy']\n",
        ")"
      ],
      "execution_count": 88,
      "outputs": []
    },
    {
      "cell_type": "code",
      "metadata": {
        "colab": {
          "base_uri": "https://localhost:8080/"
        },
        "id": "FpbPQ1FSRG6A",
        "outputId": "b3c3e32d-8736-4f96-ccc4-4094d067b792"
      },
      "source": [
        "\n",
        "# gives us back a <keras.callbacks.History object at 0x112e61a90>\n",
        "model.fit(X_train, Y_train, epochs=200, batch_size=32)\n"
      ],
      "execution_count": 89,
      "outputs": [
        {
          "output_type": "stream",
          "text": [
            "Epoch 1/200\n",
            "11/11 [==============================] - 2s 7ms/step - loss: 0.6923 - accuracy: 0.5469\n",
            "Epoch 2/200\n",
            "11/11 [==============================] - 0s 6ms/step - loss: 0.6892 - accuracy: 0.5070\n",
            "Epoch 3/200\n",
            "11/11 [==============================] - 0s 6ms/step - loss: 0.6841 - accuracy: 0.5652\n",
            "Epoch 4/200\n",
            "11/11 [==============================] - 0s 6ms/step - loss: 0.6868 - accuracy: 0.5667\n",
            "Epoch 5/200\n",
            "11/11 [==============================] - 0s 6ms/step - loss: 0.6758 - accuracy: 0.6604\n",
            "Epoch 6/200\n",
            "11/11 [==============================] - 0s 5ms/step - loss: 0.6723 - accuracy: 0.6741\n",
            "Epoch 7/200\n",
            "11/11 [==============================] - 0s 7ms/step - loss: 0.6547 - accuracy: 0.6878\n",
            "Epoch 8/200\n",
            "11/11 [==============================] - 0s 5ms/step - loss: 0.6478 - accuracy: 0.6779\n",
            "Epoch 9/200\n",
            "11/11 [==============================] - 0s 5ms/step - loss: 0.6380 - accuracy: 0.7313\n",
            "Epoch 10/200\n",
            "11/11 [==============================] - 0s 5ms/step - loss: 0.6194 - accuracy: 0.7533\n",
            "Epoch 11/200\n",
            "11/11 [==============================] - 0s 6ms/step - loss: 0.6112 - accuracy: 0.7384\n",
            "Epoch 12/200\n",
            "11/11 [==============================] - 0s 5ms/step - loss: 0.5779 - accuracy: 0.7873\n",
            "Epoch 13/200\n",
            "11/11 [==============================] - 0s 5ms/step - loss: 0.5713 - accuracy: 0.7622\n",
            "Epoch 14/200\n",
            "11/11 [==============================] - 0s 6ms/step - loss: 0.5481 - accuracy: 0.7860\n",
            "Epoch 15/200\n",
            "11/11 [==============================] - 0s 6ms/step - loss: 0.5361 - accuracy: 0.8183\n",
            "Epoch 16/200\n",
            "11/11 [==============================] - 0s 6ms/step - loss: 0.4862 - accuracy: 0.8289\n",
            "Epoch 17/200\n",
            "11/11 [==============================] - 0s 5ms/step - loss: 0.4867 - accuracy: 0.8296\n",
            "Epoch 18/200\n",
            "11/11 [==============================] - 0s 5ms/step - loss: 0.4589 - accuracy: 0.8133\n",
            "Epoch 19/200\n",
            "11/11 [==============================] - 0s 6ms/step - loss: 0.4585 - accuracy: 0.8235\n",
            "Epoch 20/200\n",
            "11/11 [==============================] - 0s 6ms/step - loss: 0.4254 - accuracy: 0.8591\n",
            "Epoch 21/200\n",
            "11/11 [==============================] - 0s 6ms/step - loss: 0.4048 - accuracy: 0.8447\n",
            "Epoch 22/200\n",
            "11/11 [==============================] - 0s 6ms/step - loss: 0.3858 - accuracy: 0.8522\n",
            "Epoch 23/200\n",
            "11/11 [==============================] - 0s 6ms/step - loss: 0.4137 - accuracy: 0.8329\n",
            "Epoch 24/200\n",
            "11/11 [==============================] - 0s 6ms/step - loss: 0.3887 - accuracy: 0.8644\n",
            "Epoch 25/200\n",
            "11/11 [==============================] - 0s 6ms/step - loss: 0.3669 - accuracy: 0.8751\n",
            "Epoch 26/200\n",
            "11/11 [==============================] - 0s 6ms/step - loss: 0.3628 - accuracy: 0.8689\n",
            "Epoch 27/200\n",
            "11/11 [==============================] - 0s 5ms/step - loss: 0.3266 - accuracy: 0.8919\n",
            "Epoch 28/200\n",
            "11/11 [==============================] - 0s 6ms/step - loss: 0.3255 - accuracy: 0.8827\n",
            "Epoch 29/200\n",
            "11/11 [==============================] - 0s 5ms/step - loss: 0.3231 - accuracy: 0.8825\n",
            "Epoch 30/200\n",
            "11/11 [==============================] - 0s 6ms/step - loss: 0.3669 - accuracy: 0.8571\n",
            "Epoch 31/200\n",
            "11/11 [==============================] - 0s 7ms/step - loss: 0.2842 - accuracy: 0.9020\n",
            "Epoch 32/200\n",
            "11/11 [==============================] - 0s 5ms/step - loss: 0.3366 - accuracy: 0.8595\n",
            "Epoch 33/200\n",
            "11/11 [==============================] - 0s 6ms/step - loss: 0.2895 - accuracy: 0.9172\n",
            "Epoch 34/200\n",
            "11/11 [==============================] - 0s 5ms/step - loss: 0.3221 - accuracy: 0.8885\n",
            "Epoch 35/200\n",
            "11/11 [==============================] - 0s 6ms/step - loss: 0.2643 - accuracy: 0.8952\n",
            "Epoch 36/200\n",
            "11/11 [==============================] - 0s 6ms/step - loss: 0.3049 - accuracy: 0.8725\n",
            "Epoch 37/200\n",
            "11/11 [==============================] - 0s 6ms/step - loss: 0.2905 - accuracy: 0.8827\n",
            "Epoch 38/200\n",
            "11/11 [==============================] - 0s 5ms/step - loss: 0.2640 - accuracy: 0.9114\n",
            "Epoch 39/200\n",
            "11/11 [==============================] - 0s 6ms/step - loss: 0.2955 - accuracy: 0.8978\n",
            "Epoch 40/200\n",
            "11/11 [==============================] - 0s 6ms/step - loss: 0.2898 - accuracy: 0.9072\n",
            "Epoch 41/200\n",
            "11/11 [==============================] - 0s 6ms/step - loss: 0.2707 - accuracy: 0.8778\n",
            "Epoch 42/200\n",
            "11/11 [==============================] - 0s 5ms/step - loss: 0.2535 - accuracy: 0.9083\n",
            "Epoch 43/200\n",
            "11/11 [==============================] - 0s 5ms/step - loss: 0.2896 - accuracy: 0.8940\n",
            "Epoch 44/200\n",
            "11/11 [==============================] - 0s 5ms/step - loss: 0.2516 - accuracy: 0.9229\n",
            "Epoch 45/200\n",
            "11/11 [==============================] - 0s 6ms/step - loss: 0.2311 - accuracy: 0.9327\n",
            "Epoch 46/200\n",
            "11/11 [==============================] - 0s 5ms/step - loss: 0.2678 - accuracy: 0.8962\n",
            "Epoch 47/200\n",
            "11/11 [==============================] - 0s 6ms/step - loss: 0.2445 - accuracy: 0.9054\n",
            "Epoch 48/200\n",
            "11/11 [==============================] - 0s 6ms/step - loss: 0.2606 - accuracy: 0.9085\n",
            "Epoch 49/200\n",
            "11/11 [==============================] - 0s 7ms/step - loss: 0.3146 - accuracy: 0.8722\n",
            "Epoch 50/200\n",
            "11/11 [==============================] - 0s 6ms/step - loss: 0.2383 - accuracy: 0.9355\n",
            "Epoch 51/200\n",
            "11/11 [==============================] - 0s 7ms/step - loss: 0.2401 - accuracy: 0.9207\n",
            "Epoch 52/200\n",
            "11/11 [==============================] - 0s 6ms/step - loss: 0.2433 - accuracy: 0.9135\n",
            "Epoch 53/200\n",
            "11/11 [==============================] - 0s 5ms/step - loss: 0.2359 - accuracy: 0.9170\n",
            "Epoch 54/200\n",
            "11/11 [==============================] - 0s 5ms/step - loss: 0.2218 - accuracy: 0.9369\n",
            "Epoch 55/200\n",
            "11/11 [==============================] - 0s 3ms/step - loss: 0.2497 - accuracy: 0.8960\n",
            "Epoch 56/200\n",
            "11/11 [==============================] - 0s 3ms/step - loss: 0.2368 - accuracy: 0.9177\n",
            "Epoch 57/200\n",
            "11/11 [==============================] - 0s 4ms/step - loss: 0.2075 - accuracy: 0.9247\n",
            "Epoch 58/200\n",
            "11/11 [==============================] - 0s 6ms/step - loss: 0.2071 - accuracy: 0.9270\n",
            "Epoch 59/200\n",
            "11/11 [==============================] - 0s 5ms/step - loss: 0.2236 - accuracy: 0.8987\n",
            "Epoch 60/200\n",
            "11/11 [==============================] - 0s 5ms/step - loss: 0.2475 - accuracy: 0.8872\n",
            "Epoch 61/200\n",
            "11/11 [==============================] - 0s 7ms/step - loss: 0.2397 - accuracy: 0.9026\n",
            "Epoch 62/200\n",
            "11/11 [==============================] - 0s 6ms/step - loss: 0.2272 - accuracy: 0.9211\n",
            "Epoch 63/200\n",
            "11/11 [==============================] - 0s 5ms/step - loss: 0.2299 - accuracy: 0.9259\n",
            "Epoch 64/200\n",
            "11/11 [==============================] - 0s 6ms/step - loss: 0.1863 - accuracy: 0.9430\n",
            "Epoch 65/200\n",
            "11/11 [==============================] - 0s 6ms/step - loss: 0.2050 - accuracy: 0.9227\n",
            "Epoch 66/200\n",
            "11/11 [==============================] - 0s 6ms/step - loss: 0.1970 - accuracy: 0.9296\n",
            "Epoch 67/200\n",
            "11/11 [==============================] - 0s 6ms/step - loss: 0.1974 - accuracy: 0.9224\n",
            "Epoch 68/200\n",
            "11/11 [==============================] - 0s 5ms/step - loss: 0.2085 - accuracy: 0.9194\n",
            "Epoch 69/200\n",
            "11/11 [==============================] - 0s 5ms/step - loss: 0.1788 - accuracy: 0.9371\n",
            "Epoch 70/200\n",
            "11/11 [==============================] - 0s 5ms/step - loss: 0.2183 - accuracy: 0.9238\n",
            "Epoch 71/200\n",
            "11/11 [==============================] - 0s 6ms/step - loss: 0.2231 - accuracy: 0.9316\n",
            "Epoch 72/200\n",
            "11/11 [==============================] - 0s 6ms/step - loss: 0.2363 - accuracy: 0.9056\n",
            "Epoch 73/200\n",
            "11/11 [==============================] - 0s 6ms/step - loss: 0.2270 - accuracy: 0.9166\n",
            "Epoch 74/200\n",
            "11/11 [==============================] - 0s 6ms/step - loss: 0.1718 - accuracy: 0.9403\n",
            "Epoch 75/200\n",
            "11/11 [==============================] - 0s 6ms/step - loss: 0.2017 - accuracy: 0.9366\n",
            "Epoch 76/200\n",
            "11/11 [==============================] - 0s 5ms/step - loss: 0.2128 - accuracy: 0.9109\n",
            "Epoch 77/200\n",
            "11/11 [==============================] - 0s 5ms/step - loss: 0.1985 - accuracy: 0.9384\n",
            "Epoch 78/200\n",
            "11/11 [==============================] - 0s 6ms/step - loss: 0.1610 - accuracy: 0.9350\n",
            "Epoch 79/200\n",
            "11/11 [==============================] - 0s 5ms/step - loss: 0.1896 - accuracy: 0.9341\n",
            "Epoch 80/200\n",
            "11/11 [==============================] - 0s 6ms/step - loss: 0.2004 - accuracy: 0.9346\n",
            "Epoch 81/200\n",
            "11/11 [==============================] - 0s 6ms/step - loss: 0.1853 - accuracy: 0.9286\n",
            "Epoch 82/200\n",
            "11/11 [==============================] - 0s 6ms/step - loss: 0.1569 - accuracy: 0.9487\n",
            "Epoch 83/200\n",
            "11/11 [==============================] - 0s 6ms/step - loss: 0.1666 - accuracy: 0.9409\n",
            "Epoch 84/200\n",
            "11/11 [==============================] - 0s 6ms/step - loss: 0.1768 - accuracy: 0.9322\n",
            "Epoch 85/200\n",
            "11/11 [==============================] - 0s 5ms/step - loss: 0.1483 - accuracy: 0.9493\n",
            "Epoch 86/200\n",
            "11/11 [==============================] - 0s 5ms/step - loss: 0.1854 - accuracy: 0.9306\n",
            "Epoch 87/200\n",
            "11/11 [==============================] - 0s 6ms/step - loss: 0.1866 - accuracy: 0.9333\n",
            "Epoch 88/200\n",
            "11/11 [==============================] - 0s 6ms/step - loss: 0.1633 - accuracy: 0.9464\n",
            "Epoch 89/200\n",
            "11/11 [==============================] - 0s 5ms/step - loss: 0.2072 - accuracy: 0.9012\n",
            "Epoch 90/200\n",
            "11/11 [==============================] - 0s 6ms/step - loss: 0.1782 - accuracy: 0.9393\n",
            "Epoch 91/200\n",
            "11/11 [==============================] - 0s 6ms/step - loss: 0.1820 - accuracy: 0.9217\n",
            "Epoch 92/200\n",
            "11/11 [==============================] - 0s 6ms/step - loss: 0.1679 - accuracy: 0.9361\n",
            "Epoch 93/200\n",
            "11/11 [==============================] - 0s 5ms/step - loss: 0.1845 - accuracy: 0.9269\n",
            "Epoch 94/200\n",
            "11/11 [==============================] - 0s 5ms/step - loss: 0.1738 - accuracy: 0.9428\n",
            "Epoch 95/200\n",
            "11/11 [==============================] - 0s 7ms/step - loss: 0.1674 - accuracy: 0.9395\n",
            "Epoch 96/200\n",
            "11/11 [==============================] - 0s 6ms/step - loss: 0.1810 - accuracy: 0.9469\n",
            "Epoch 97/200\n",
            "11/11 [==============================] - 0s 6ms/step - loss: 0.1806 - accuracy: 0.9449\n",
            "Epoch 98/200\n",
            "11/11 [==============================] - 0s 6ms/step - loss: 0.1798 - accuracy: 0.9321\n",
            "Epoch 99/200\n",
            "11/11 [==============================] - 0s 6ms/step - loss: 0.1435 - accuracy: 0.9607\n",
            "Epoch 100/200\n",
            "11/11 [==============================] - 0s 6ms/step - loss: 0.2113 - accuracy: 0.9120\n",
            "Epoch 101/200\n",
            "11/11 [==============================] - 0s 5ms/step - loss: 0.1731 - accuracy: 0.9437\n",
            "Epoch 102/200\n",
            "11/11 [==============================] - 0s 7ms/step - loss: 0.1797 - accuracy: 0.9392\n",
            "Epoch 103/200\n",
            "11/11 [==============================] - 0s 5ms/step - loss: 0.1790 - accuracy: 0.9358\n",
            "Epoch 104/200\n",
            "11/11 [==============================] - 0s 5ms/step - loss: 0.1912 - accuracy: 0.9255\n",
            "Epoch 105/200\n",
            "11/11 [==============================] - 0s 6ms/step - loss: 0.1793 - accuracy: 0.9416\n",
            "Epoch 106/200\n",
            "11/11 [==============================] - 0s 7ms/step - loss: 0.1400 - accuracy: 0.9450\n",
            "Epoch 107/200\n",
            "11/11 [==============================] - 0s 5ms/step - loss: 0.1709 - accuracy: 0.9539\n",
            "Epoch 108/200\n",
            "11/11 [==============================] - 0s 5ms/step - loss: 0.1758 - accuracy: 0.9477\n",
            "Epoch 109/200\n",
            "11/11 [==============================] - 0s 6ms/step - loss: 0.1694 - accuracy: 0.9497\n",
            "Epoch 110/200\n",
            "11/11 [==============================] - 0s 6ms/step - loss: 0.1555 - accuracy: 0.9495\n",
            "Epoch 111/200\n",
            "11/11 [==============================] - 0s 5ms/step - loss: 0.1468 - accuracy: 0.9530\n",
            "Epoch 112/200\n",
            "11/11 [==============================] - 0s 5ms/step - loss: 0.1580 - accuracy: 0.9382\n",
            "Epoch 113/200\n",
            "11/11 [==============================] - 0s 6ms/step - loss: 0.1734 - accuracy: 0.9250\n",
            "Epoch 114/200\n",
            "11/11 [==============================] - 0s 6ms/step - loss: 0.1469 - accuracy: 0.9463\n",
            "Epoch 115/200\n",
            "11/11 [==============================] - 0s 5ms/step - loss: 0.1578 - accuracy: 0.9572\n",
            "Epoch 116/200\n",
            "11/11 [==============================] - 0s 5ms/step - loss: 0.1573 - accuracy: 0.9490\n",
            "Epoch 117/200\n",
            "11/11 [==============================] - 0s 6ms/step - loss: 0.1195 - accuracy: 0.9573\n",
            "Epoch 118/200\n",
            "11/11 [==============================] - 0s 7ms/step - loss: 0.1644 - accuracy: 0.9427\n",
            "Epoch 119/200\n",
            "11/11 [==============================] - 0s 5ms/step - loss: 0.1451 - accuracy: 0.9414\n",
            "Epoch 120/200\n",
            "11/11 [==============================] - 0s 6ms/step - loss: 0.1560 - accuracy: 0.9462\n",
            "Epoch 121/200\n",
            "11/11 [==============================] - 0s 5ms/step - loss: 0.1471 - accuracy: 0.9506\n",
            "Epoch 122/200\n",
            "11/11 [==============================] - 0s 5ms/step - loss: 0.1371 - accuracy: 0.9574\n",
            "Epoch 123/200\n",
            "11/11 [==============================] - 0s 5ms/step - loss: 0.1595 - accuracy: 0.9447\n",
            "Epoch 124/200\n",
            "11/11 [==============================] - 0s 6ms/step - loss: 0.1585 - accuracy: 0.9439\n",
            "Epoch 125/200\n",
            "11/11 [==============================] - 0s 5ms/step - loss: 0.1311 - accuracy: 0.9708\n",
            "Epoch 126/200\n",
            "11/11 [==============================] - 0s 5ms/step - loss: 0.1601 - accuracy: 0.9506\n",
            "Epoch 127/200\n",
            "11/11 [==============================] - 0s 5ms/step - loss: 0.1409 - accuracy: 0.9601\n",
            "Epoch 128/200\n",
            "11/11 [==============================] - 0s 5ms/step - loss: 0.1977 - accuracy: 0.8986\n",
            "Epoch 129/200\n",
            "11/11 [==============================] - 0s 5ms/step - loss: 0.1102 - accuracy: 0.9580\n",
            "Epoch 130/200\n",
            "11/11 [==============================] - 0s 5ms/step - loss: 0.1413 - accuracy: 0.9545\n",
            "Epoch 131/200\n",
            "11/11 [==============================] - 0s 6ms/step - loss: 0.1325 - accuracy: 0.9492\n",
            "Epoch 132/200\n",
            "11/11 [==============================] - 0s 7ms/step - loss: 0.1526 - accuracy: 0.9494\n",
            "Epoch 133/200\n",
            "11/11 [==============================] - 0s 6ms/step - loss: 0.1696 - accuracy: 0.9384\n",
            "Epoch 134/200\n",
            "11/11 [==============================] - 0s 5ms/step - loss: 0.1512 - accuracy: 0.9394\n",
            "Epoch 135/200\n",
            "11/11 [==============================] - 0s 7ms/step - loss: 0.1748 - accuracy: 0.9481\n",
            "Epoch 136/200\n",
            "11/11 [==============================] - 0s 6ms/step - loss: 0.1531 - accuracy: 0.9442\n",
            "Epoch 137/200\n",
            "11/11 [==============================] - 0s 5ms/step - loss: 0.1404 - accuracy: 0.9627\n",
            "Epoch 138/200\n",
            "11/11 [==============================] - 0s 6ms/step - loss: 0.1227 - accuracy: 0.9669\n",
            "Epoch 139/200\n",
            "11/11 [==============================] - 0s 6ms/step - loss: 0.1248 - accuracy: 0.9471\n",
            "Epoch 140/200\n",
            "11/11 [==============================] - 0s 5ms/step - loss: 0.1838 - accuracy: 0.9440\n",
            "Epoch 141/200\n",
            "11/11 [==============================] - 0s 6ms/step - loss: 0.1388 - accuracy: 0.9441\n",
            "Epoch 142/200\n",
            "11/11 [==============================] - 0s 6ms/step - loss: 0.1546 - accuracy: 0.9622\n",
            "Epoch 143/200\n",
            "11/11 [==============================] - 0s 5ms/step - loss: 0.1734 - accuracy: 0.9202\n",
            "Epoch 144/200\n",
            "11/11 [==============================] - 0s 6ms/step - loss: 0.1338 - accuracy: 0.9547\n",
            "Epoch 145/200\n",
            "11/11 [==============================] - 0s 6ms/step - loss: 0.1429 - accuracy: 0.9469\n",
            "Epoch 146/200\n",
            "11/11 [==============================] - 0s 6ms/step - loss: 0.1298 - accuracy: 0.9609\n",
            "Epoch 147/200\n",
            "11/11 [==============================] - 0s 5ms/step - loss: 0.1188 - accuracy: 0.9559\n",
            "Epoch 148/200\n",
            "11/11 [==============================] - 0s 6ms/step - loss: 0.1133 - accuracy: 0.9709\n",
            "Epoch 149/200\n",
            "11/11 [==============================] - 0s 7ms/step - loss: 0.1008 - accuracy: 0.9655\n",
            "Epoch 150/200\n",
            "11/11 [==============================] - 0s 5ms/step - loss: 0.1062 - accuracy: 0.9625\n",
            "Epoch 151/200\n",
            "11/11 [==============================] - 0s 7ms/step - loss: 0.1229 - accuracy: 0.9568\n",
            "Epoch 152/200\n",
            "11/11 [==============================] - 0s 6ms/step - loss: 0.1430 - accuracy: 0.9395\n",
            "Epoch 153/200\n",
            "11/11 [==============================] - 0s 7ms/step - loss: 0.0930 - accuracy: 0.9722\n",
            "Epoch 154/200\n",
            "11/11 [==============================] - 0s 6ms/step - loss: 0.1132 - accuracy: 0.9693\n",
            "Epoch 155/200\n",
            "11/11 [==============================] - 0s 6ms/step - loss: 0.1152 - accuracy: 0.9564\n",
            "Epoch 156/200\n",
            "11/11 [==============================] - 0s 6ms/step - loss: 0.1456 - accuracy: 0.9368\n",
            "Epoch 157/200\n",
            "11/11 [==============================] - 0s 5ms/step - loss: 0.1402 - accuracy: 0.9501\n",
            "Epoch 158/200\n",
            "11/11 [==============================] - 0s 6ms/step - loss: 0.1195 - accuracy: 0.9653\n",
            "Epoch 159/200\n",
            "11/11 [==============================] - 0s 7ms/step - loss: 0.1438 - accuracy: 0.9464\n",
            "Epoch 160/200\n",
            "11/11 [==============================] - 0s 6ms/step - loss: 0.1227 - accuracy: 0.9562\n",
            "Epoch 161/200\n",
            "11/11 [==============================] - 0s 6ms/step - loss: 0.0986 - accuracy: 0.9697\n",
            "Epoch 162/200\n",
            "11/11 [==============================] - 0s 6ms/step - loss: 0.1275 - accuracy: 0.9518\n",
            "Epoch 163/200\n",
            "11/11 [==============================] - 0s 5ms/step - loss: 0.1370 - accuracy: 0.9540\n",
            "Epoch 164/200\n",
            "11/11 [==============================] - 0s 6ms/step - loss: 0.0871 - accuracy: 0.9768\n",
            "Epoch 165/200\n",
            "11/11 [==============================] - 0s 6ms/step - loss: 0.1166 - accuracy: 0.9607\n",
            "Epoch 166/200\n",
            "11/11 [==============================] - 0s 6ms/step - loss: 0.1279 - accuracy: 0.9565\n",
            "Epoch 167/200\n",
            "11/11 [==============================] - 0s 6ms/step - loss: 0.1261 - accuracy: 0.9555\n",
            "Epoch 168/200\n",
            "11/11 [==============================] - 0s 6ms/step - loss: 0.1282 - accuracy: 0.9477\n",
            "Epoch 169/200\n",
            "11/11 [==============================] - 0s 6ms/step - loss: 0.1348 - accuracy: 0.9587\n",
            "Epoch 170/200\n",
            "11/11 [==============================] - 0s 5ms/step - loss: 0.1280 - accuracy: 0.9579\n",
            "Epoch 171/200\n",
            "11/11 [==============================] - 0s 5ms/step - loss: 0.0999 - accuracy: 0.9754\n",
            "Epoch 172/200\n",
            "11/11 [==============================] - 0s 7ms/step - loss: 0.0802 - accuracy: 0.9823\n",
            "Epoch 173/200\n",
            "11/11 [==============================] - 0s 6ms/step - loss: 0.1893 - accuracy: 0.9372\n",
            "Epoch 174/200\n",
            "11/11 [==============================] - 0s 6ms/step - loss: 0.1204 - accuracy: 0.9599\n",
            "Epoch 175/200\n",
            "11/11 [==============================] - 0s 6ms/step - loss: 0.1097 - accuracy: 0.9672\n",
            "Epoch 176/200\n",
            "11/11 [==============================] - 0s 7ms/step - loss: 0.1101 - accuracy: 0.9438\n",
            "Epoch 177/200\n",
            "11/11 [==============================] - 0s 6ms/step - loss: 0.1217 - accuracy: 0.9601\n",
            "Epoch 178/200\n",
            "11/11 [==============================] - 0s 6ms/step - loss: 0.1160 - accuracy: 0.9655\n",
            "Epoch 179/200\n",
            "11/11 [==============================] - 0s 6ms/step - loss: 0.0785 - accuracy: 0.9748\n",
            "Epoch 180/200\n",
            "11/11 [==============================] - 0s 7ms/step - loss: 0.0987 - accuracy: 0.9675\n",
            "Epoch 181/200\n",
            "11/11 [==============================] - 0s 6ms/step - loss: 0.1037 - accuracy: 0.9534\n",
            "Epoch 182/200\n",
            "11/11 [==============================] - 0s 6ms/step - loss: 0.0820 - accuracy: 0.9718\n",
            "Epoch 183/200\n",
            "11/11 [==============================] - 0s 5ms/step - loss: 0.0874 - accuracy: 0.9692\n",
            "Epoch 184/200\n",
            "11/11 [==============================] - 0s 6ms/step - loss: 0.1147 - accuracy: 0.9680\n",
            "Epoch 185/200\n",
            "11/11 [==============================] - 0s 6ms/step - loss: 0.0735 - accuracy: 0.9782\n",
            "Epoch 186/200\n",
            "11/11 [==============================] - 0s 6ms/step - loss: 0.0958 - accuracy: 0.9577\n",
            "Epoch 187/200\n",
            "11/11 [==============================] - 0s 6ms/step - loss: 0.0810 - accuracy: 0.9672\n",
            "Epoch 188/200\n",
            "11/11 [==============================] - 0s 6ms/step - loss: 0.0929 - accuracy: 0.9751\n",
            "Epoch 189/200\n",
            "11/11 [==============================] - 0s 6ms/step - loss: 0.0994 - accuracy: 0.9647\n",
            "Epoch 190/200\n",
            "11/11 [==============================] - 0s 6ms/step - loss: 0.1020 - accuracy: 0.9600\n",
            "Epoch 191/200\n",
            "11/11 [==============================] - 0s 5ms/step - loss: 0.1377 - accuracy: 0.9483\n",
            "Epoch 192/200\n",
            "11/11 [==============================] - 0s 7ms/step - loss: 0.0859 - accuracy: 0.9756\n",
            "Epoch 193/200\n",
            "11/11 [==============================] - 0s 6ms/step - loss: 0.1323 - accuracy: 0.9577\n",
            "Epoch 194/200\n",
            "11/11 [==============================] - 0s 8ms/step - loss: 0.0899 - accuracy: 0.9654\n",
            "Epoch 195/200\n",
            "11/11 [==============================] - 0s 6ms/step - loss: 0.1152 - accuracy: 0.9549\n",
            "Epoch 196/200\n",
            "11/11 [==============================] - 0s 6ms/step - loss: 0.1069 - accuracy: 0.9643\n",
            "Epoch 197/200\n",
            "11/11 [==============================] - 0s 5ms/step - loss: 0.1112 - accuracy: 0.9494\n",
            "Epoch 198/200\n",
            "11/11 [==============================] - 0s 5ms/step - loss: 0.1067 - accuracy: 0.9718\n",
            "Epoch 199/200\n",
            "11/11 [==============================] - 0s 6ms/step - loss: 0.0785 - accuracy: 0.9754\n",
            "Epoch 200/200\n",
            "11/11 [==============================] - 0s 7ms/step - loss: 0.1027 - accuracy: 0.9593\n"
          ],
          "name": "stdout"
        },
        {
          "output_type": "execute_result",
          "data": {
            "text/plain": [
              "<keras.callbacks.History at 0x7fcb39d382d0>"
            ]
          },
          "metadata": {
            "tags": []
          },
          "execution_count": 89
        }
      ]
    },
    {
      "cell_type": "code",
      "metadata": {
        "id": "cSTlOSUBWMpj"
      },
      "source": [
        "Y_test = yback(Y_test)"
      ],
      "execution_count": 90,
      "outputs": []
    },
    {
      "cell_type": "code",
      "metadata": {
        "colab": {
          "base_uri": "https://localhost:8080/"
        },
        "id": "qpf0XlSARX78",
        "outputId": "46105944-6f29-46dd-88f3-e4e23671534e"
      },
      "source": [
        "pred_test= model.predict_classes(X_test)\n",
        "\n",
        "data = {'y_true': Y_test,'y_predict': pred_test}  # este dado esta no formato de dicionario\n",
        "\n",
        "df = pd.DataFrame(data, columns=['y_true','y_predict'])\n",
        "\n",
        "\n",
        "confusion_matrix = pd.crosstab(df['y_true'], df['y_predict'], rownames=['Actual'], colnames=['Predict'])\n",
        "print(confusion_matrix)\n",
        "\n",
        "y_true = df['y_true']\n",
        "y_pred = df['y_predict']\n",
        "\n",
        "  \n",
        "METRICS=sklearn.metrics.classification_report(y_true, y_pred)"
      ],
      "execution_count": 91,
      "outputs": [
        {
          "output_type": "stream",
          "text": [
            "/usr/local/lib/python3.7/dist-packages/keras/engine/sequential.py:450: UserWarning: `model.predict_classes()` is deprecated and will be removed after 2021-01-01. Please use instead:* `np.argmax(model.predict(x), axis=-1)`,   if your model does multi-class classification   (e.g. if it uses a `softmax` last-layer activation).* `(model.predict(x) > 0.5).astype(\"int32\")`,   if your model does binary classification   (e.g. if it uses a `sigmoid` last-layer activation).\n",
            "  warnings.warn('`model.predict_classes()` is deprecated and '\n"
          ],
          "name": "stderr"
        },
        {
          "output_type": "stream",
          "text": [
            "Predict   0   1\n",
            "Actual         \n",
            "0        67   5\n",
            "1         2  73\n"
          ],
          "name": "stdout"
        }
      ]
    },
    {
      "cell_type": "code",
      "metadata": {
        "colab": {
          "base_uri": "https://localhost:8080/"
        },
        "id": "_iFNNrlWV9tH",
        "outputId": "3a13d2c5-184c-45d5-9faa-aade9fd553f9"
      },
      "source": [
        "pred_test"
      ],
      "execution_count": 92,
      "outputs": [
        {
          "output_type": "execute_result",
          "data": {
            "text/plain": [
              "array([1, 0, 1, 1, 1, 1, 0, 0, 1, 0, 0, 0, 1, 1, 1, 0, 1, 1, 1, 0, 0, 0,\n",
              "       1, 0, 0, 0, 0, 1, 1, 1, 0, 0, 1, 1, 0, 0, 0, 0, 0, 0, 1, 1, 1, 0,\n",
              "       0, 0, 0, 1, 1, 1, 1, 0, 1, 1, 0, 0, 1, 0, 1, 0, 0, 1, 0, 1, 1, 1,\n",
              "       0, 1, 1, 1, 1, 0, 1, 1, 0, 0, 1, 1, 0, 0, 1, 1, 1, 1, 0, 1, 0, 0,\n",
              "       1, 0, 0, 1, 0, 1, 1, 0, 1, 1, 1, 0, 1, 1, 1, 1, 1, 0, 1, 1, 0, 0,\n",
              "       0, 1, 1, 1, 1, 1, 1, 1, 0, 1, 0, 0, 0, 1, 1, 0, 0, 0, 0, 0, 0, 1,\n",
              "       0, 1, 0, 0, 1, 1, 0, 0, 1, 1, 1, 0, 0, 0, 1])"
            ]
          },
          "metadata": {
            "tags": []
          },
          "execution_count": 92
        }
      ]
    },
    {
      "cell_type": "code",
      "metadata": {
        "id": "QISvYcJBgWbE",
        "colab": {
          "base_uri": "https://localhost:8080/"
        },
        "outputId": "79c47d56-8524-4a49-fcb1-6faa7444b81d"
      },
      "source": [
        "cont = 0; num =25\n",
        "img_graos = []\n",
        "Width_new = []\n",
        "img=ww[0] \n",
        "while( cont < num):\n",
        "  df=Segmenta(img)\n",
        "  df_ann =df.copy()\n",
        "  Width = df['Width']\n",
        "  del df_ann['Width']\n",
        "  result = np.array(df_ann)\n",
        "  result = result.reshape(-1, Img_Size, Img_Size, 1) / 255.0\n",
        "  prediction = model.predict_classes(result)\n",
        "  loc_grao =[];k=0\n",
        "  for i in prediction:\n",
        "    if( i == 0):\n",
        "      img_graos.append(df.iloc[k,:])\n",
        "      Width_new.append(Width.iloc[k])\n",
        "      cont = cont + 1\n",
        "    k = k +1\n",
        "img_graos = pd.DataFrame(img_graos)\n",
        "print(img_graos)"
      ],
      "execution_count": 93,
      "outputs": [
        {
          "output_type": "stream",
          "text": [
            "/usr/local/lib/python3.7/dist-packages/keras/engine/sequential.py:450: UserWarning: `model.predict_classes()` is deprecated and will be removed after 2021-01-01. Please use instead:* `np.argmax(model.predict(x), axis=-1)`,   if your model does multi-class classification   (e.g. if it uses a `softmax` last-layer activation).* `(model.predict(x) > 0.5).astype(\"int32\")`,   if your model does binary classification   (e.g. if it uses a `sigmoid` last-layer activation).\n",
            "  warnings.warn('`model.predict_classes()` is deprecated and '\n"
          ],
          "name": "stderr"
        },
        {
          "output_type": "stream",
          "text": [
            "    Width           0           1  ...         781         782         783\n",
            "2   111.0   51.827206   49.691013  ...  114.555389  108.466118   97.038635\n",
            "3   180.0   51.161488   52.928898  ...   85.184692   87.880997   89.884949\n",
            "4   106.0   56.151653   58.149521  ...  101.052696  102.817375  103.456749\n",
            "5   172.0   89.473236   65.237976  ...   42.630074   40.982693   33.161171\n",
            "6   178.0   78.385315   79.862144  ...   56.964783   54.549812   54.931835\n",
            "13  135.0   67.138100   74.988632  ...   54.706444   61.843895   69.594887\n",
            "18  200.0   98.253204  101.109993  ...    6.208000    8.592400    8.449200\n",
            "20  109.0   37.864151   36.529583  ...   85.808434   86.539597   87.579750\n",
            "23  122.0   62.458206   64.783920  ...   81.294540   81.873688   81.685562\n",
            "25  128.0   92.742188   74.519531  ...   40.524414   42.002930   42.824219\n",
            "28  133.0    1.036011    2.277008  ...   26.157894   23.764544   24.229916\n",
            "31  196.0   56.224487   71.734695  ...  116.653061  122.836731  129.306122\n",
            "32  136.0   70.573524   86.850357  ...   58.665230   57.781143   55.358131\n",
            "33  193.0   50.992996   50.971733  ...   74.572121   70.531799   66.931374\n",
            "35  145.0   80.645470   79.354240  ...  136.040909  130.142548  125.911964\n",
            "36  116.0  102.442329  114.463730  ...   93.273483   90.938156   84.409035\n",
            "38  120.0   88.592216   89.551117  ...   78.431122   76.733337   77.511116\n",
            "39  151.0    9.632735    5.123723  ...  101.723923   93.726196   57.950397\n",
            "40  118.0   45.632290   48.862396  ...   80.799194   80.586327   71.117783\n",
            "41  194.0   96.990852   91.867447  ...   83.207237   84.807526   88.309479\n",
            "42  149.0  121.559578  122.003616  ...   89.899643   92.924736   93.941986\n",
            "44  148.0   88.466042   94.945953  ...   37.052593   37.742882   35.783054\n",
            "45  104.0  102.927521   62.679001  ...    7.735208    4.880178    2.710059\n",
            "47  170.0   77.428101   79.270866  ...  115.692474  119.760284  129.677795\n",
            "1   156.0  135.145309  134.359650  ...    0.000000    0.000000    0.000000\n",
            "2   192.0   53.843746   55.256077  ...   48.612411   68.675339  103.145386\n",
            "4   119.0   80.986160   79.899658  ...  102.491364   95.155708   80.262978\n",
            "7   186.0   55.442139   62.425602  ...   76.356461   70.055847   66.611519\n",
            "13  129.0   26.474432   47.154198  ...    5.758729    1.305631    0.131783\n",
            "14  170.0  103.684303  111.305054  ...    3.003184    1.635709    1.240139\n",
            "15  184.0   61.073246   72.879013  ...   88.691399   73.557648   49.768429\n",
            "16  104.0   60.031071   61.035515  ...   75.294380   74.578415   73.982254\n",
            "19  136.0   28.038063   29.826128  ...   44.735294   44.392735   44.442909\n",
            "20  109.0  110.197960  111.424103  ...   88.400383   82.482864   71.637650\n",
            "21  132.0   60.834717   57.161613  ...   93.000000   90.211205   89.096420\n",
            "24  156.0    1.504274    1.117028  ...   48.671932   33.502304   39.679817\n",
            "26  129.0   91.967369   96.179253  ...    1.276005    2.500992    4.006670\n",
            "27  131.0   93.987122   88.418213  ...  102.531311  108.741089  114.409180\n",
            "28  152.0   74.483383   75.165504  ...   30.199444   43.168972   53.790855\n",
            "30  124.0   63.842869   65.408943  ...   75.026016   77.062439   79.038498\n",
            "31  173.0  104.454468  106.882286  ...    3.044472    1.631394    1.225567\n",
            "32  112.0   47.500000   53.875000  ...   57.312500   58.750000   59.500000\n",
            "35  139.0   29.130379   31.342167  ...  118.594315  125.701141  129.295471\n",
            "36  112.0   30.875000   40.812500  ...   34.062500   12.125000    3.937500\n",
            "37  188.0   75.412399   71.012222  ...   63.438210   57.821186   80.060204\n",
            "40  116.0    1.983353    2.851367  ...    3.822830    2.527943    3.857313\n",
            "41  200.0   85.108803   86.442802  ...   90.146393   89.319595   89.518791\n",
            "44  105.0   69.173340   79.448898  ...    0.071111    0.533333    0.106667\n",
            "47  158.0   34.422688   69.440796  ...   95.539970   98.494789   95.907700\n",
            "48  134.0   50.554020   50.948318  ...  104.712189  109.311646  119.457787\n",
            "\n",
            "[50 rows x 785 columns]\n"
          ],
          "name": "stdout"
        }
      ]
    },
    {
      "cell_type": "code",
      "metadata": {
        "id": "6LkA4vHp-f6_"
      },
      "source": [
        "Width=np.array(Width_new)"
      ],
      "execution_count": 94,
      "outputs": []
    },
    {
      "cell_type": "code",
      "metadata": {
        "colab": {
          "base_uri": "https://localhost:8080/"
        },
        "id": "MjRbWgmX_LFH",
        "outputId": "28dddb5b-faf5-4941-c797-229a22a90dd3"
      },
      "source": [
        "!git clone https://github.com/ucfilho/marquesgabi_paper_fev_2021\n",
        "%cd marquesgabi_paper_fev_2021\n",
        "\n",
        "from Get_PSDArea_New import PSDArea\n",
        "from histogram_fev_2021 import PSD\n",
        "from GetBetterSegm import GetBetter"
      ],
      "execution_count": 95,
      "outputs": [
        {
          "output_type": "stream",
          "text": [
            "Cloning into 'marquesgabi_paper_fev_2021'...\n",
            "remote: Enumerating objects: 635, done.\u001b[K\n",
            "remote: Counting objects: 100% (396/396), done.\u001b[K\n",
            "remote: Compressing objects: 100% (394/394), done.\u001b[K\n",
            "remote: Total 635 (delta 245), reused 0 (delta 0), pack-reused 239\u001b[K\n",
            "Receiving objects: 100% (635/635), 5.33 MiB | 10.63 MiB/s, done.\n",
            "Resolving deltas: 100% (382/382), done.\n",
            "/content/marquesgabi_fev_2020/Doutorado/MarquesGabi_Routines/MarquesGabi_Routines/marquesgabi_paper_fev_2021/marquesgabi_out_2020/marquesgabi_fev_2020/Doutorado/MarquesGabi_Routines/MarquesGabi_Routines/marquesgabi_paper_fev_2021/marquesgabi_out_2020/marquesgabi_fev_2020/Doutorado/MarquesGabi_Routines/MarquesGabi_Routines/marquesgabi_paper_fev_2021\n"
          ],
          "name": "stdout"
        }
      ]
    },
    {
      "cell_type": "code",
      "metadata": {
        "colab": {
          "base_uri": "https://localhost:8080/"
        },
        "id": "WAG_I6FwCvFr",
        "outputId": "8a90ec68-579d-471b-e66b-dbcbdb7b2b5f"
      },
      "source": [
        "!git clone https://github.com/ucfilho/marquesgabi_out_2020\n",
        "%cd marquesgabi_out_2020\n",
        "PSD_imageJ = 'Areas_ImageJ.csv'\n",
        "PSD_new = pd.read_csv(PSD_imageJ)\n",
        "print(PSD_new.head(3))"
      ],
      "execution_count": 96,
      "outputs": [
        {
          "output_type": "stream",
          "text": [
            "Cloning into 'marquesgabi_out_2020'...\n",
            "remote: Enumerating objects: 146, done.\u001b[K\n",
            "remote: Counting objects: 100% (146/146), done.\u001b[K\n",
            "remote: Compressing objects: 100% (142/142), done.\u001b[K\n",
            "remote: Total 146 (delta 75), reused 0 (delta 0), pack-reused 0\u001b[K\n",
            "Receiving objects: 100% (146/146), 1.00 MiB | 12.84 MiB/s, done.\n",
            "Resolving deltas: 100% (75/75), done.\n",
            "/content/marquesgabi_fev_2020/Doutorado/MarquesGabi_Routines/MarquesGabi_Routines/marquesgabi_paper_fev_2021/marquesgabi_out_2020/marquesgabi_fev_2020/Doutorado/MarquesGabi_Routines/MarquesGabi_Routines/marquesgabi_paper_fev_2021/marquesgabi_out_2020/marquesgabi_fev_2020/Doutorado/MarquesGabi_Routines/MarquesGabi_Routines/marquesgabi_paper_fev_2021/marquesgabi_out_2020\n",
            "   Juntas   Area\n",
            "0       1  2.001\n",
            "1       2  0.820\n",
            "2       3  1.270\n"
          ],
          "name": "stdout"
        }
      ]
    },
    {
      "cell_type": "code",
      "metadata": {
        "id": "t_1WIM8w7poO"
      },
      "source": [
        "Area_All, Diameter_All=PSDArea(img_graos) "
      ],
      "execution_count": 97,
      "outputs": []
    },
    {
      "cell_type": "code",
      "metadata": {
        "colab": {
          "base_uri": "https://localhost:8080/",
          "height": 254
        },
        "id": "PekBHQOT_6CP",
        "outputId": "dfd20822-b0e0-46f5-856f-4818311e5e20"
      },
      "source": [
        "img_graos.head()"
      ],
      "execution_count": 98,
      "outputs": [
        {
          "output_type": "execute_result",
          "data": {
            "text/html": [
              "<div>\n",
              "<style scoped>\n",
              "    .dataframe tbody tr th:only-of-type {\n",
              "        vertical-align: middle;\n",
              "    }\n",
              "\n",
              "    .dataframe tbody tr th {\n",
              "        vertical-align: top;\n",
              "    }\n",
              "\n",
              "    .dataframe thead th {\n",
              "        text-align: right;\n",
              "    }\n",
              "</style>\n",
              "<table border=\"1\" class=\"dataframe\">\n",
              "  <thead>\n",
              "    <tr style=\"text-align: right;\">\n",
              "      <th></th>\n",
              "      <th>Width</th>\n",
              "      <th>0</th>\n",
              "      <th>1</th>\n",
              "      <th>2</th>\n",
              "      <th>3</th>\n",
              "      <th>4</th>\n",
              "      <th>5</th>\n",
              "      <th>6</th>\n",
              "      <th>7</th>\n",
              "      <th>8</th>\n",
              "      <th>9</th>\n",
              "      <th>10</th>\n",
              "      <th>11</th>\n",
              "      <th>12</th>\n",
              "      <th>13</th>\n",
              "      <th>14</th>\n",
              "      <th>15</th>\n",
              "      <th>16</th>\n",
              "      <th>17</th>\n",
              "      <th>18</th>\n",
              "      <th>19</th>\n",
              "      <th>20</th>\n",
              "      <th>21</th>\n",
              "      <th>22</th>\n",
              "      <th>23</th>\n",
              "      <th>24</th>\n",
              "      <th>25</th>\n",
              "      <th>26</th>\n",
              "      <th>27</th>\n",
              "      <th>28</th>\n",
              "      <th>29</th>\n",
              "      <th>30</th>\n",
              "      <th>31</th>\n",
              "      <th>32</th>\n",
              "      <th>33</th>\n",
              "      <th>34</th>\n",
              "      <th>35</th>\n",
              "      <th>36</th>\n",
              "      <th>37</th>\n",
              "      <th>38</th>\n",
              "      <th>...</th>\n",
              "      <th>744</th>\n",
              "      <th>745</th>\n",
              "      <th>746</th>\n",
              "      <th>747</th>\n",
              "      <th>748</th>\n",
              "      <th>749</th>\n",
              "      <th>750</th>\n",
              "      <th>751</th>\n",
              "      <th>752</th>\n",
              "      <th>753</th>\n",
              "      <th>754</th>\n",
              "      <th>755</th>\n",
              "      <th>756</th>\n",
              "      <th>757</th>\n",
              "      <th>758</th>\n",
              "      <th>759</th>\n",
              "      <th>760</th>\n",
              "      <th>761</th>\n",
              "      <th>762</th>\n",
              "      <th>763</th>\n",
              "      <th>764</th>\n",
              "      <th>765</th>\n",
              "      <th>766</th>\n",
              "      <th>767</th>\n",
              "      <th>768</th>\n",
              "      <th>769</th>\n",
              "      <th>770</th>\n",
              "      <th>771</th>\n",
              "      <th>772</th>\n",
              "      <th>773</th>\n",
              "      <th>774</th>\n",
              "      <th>775</th>\n",
              "      <th>776</th>\n",
              "      <th>777</th>\n",
              "      <th>778</th>\n",
              "      <th>779</th>\n",
              "      <th>780</th>\n",
              "      <th>781</th>\n",
              "      <th>782</th>\n",
              "      <th>783</th>\n",
              "    </tr>\n",
              "  </thead>\n",
              "  <tbody>\n",
              "    <tr>\n",
              "      <th>2</th>\n",
              "      <td>111.0</td>\n",
              "      <td>51.827206</td>\n",
              "      <td>49.691013</td>\n",
              "      <td>50.941402</td>\n",
              "      <td>56.044235</td>\n",
              "      <td>58.279846</td>\n",
              "      <td>60.190407</td>\n",
              "      <td>62.282364</td>\n",
              "      <td>63.145119</td>\n",
              "      <td>58.665855</td>\n",
              "      <td>24.715851</td>\n",
              "      <td>15.161675</td>\n",
              "      <td>15.960636</td>\n",
              "      <td>17.135218</td>\n",
              "      <td>18.187567</td>\n",
              "      <td>18.645563</td>\n",
              "      <td>18.762764</td>\n",
              "      <td>19.544191</td>\n",
              "      <td>19.898548</td>\n",
              "      <td>20.203798</td>\n",
              "      <td>22.115334</td>\n",
              "      <td>22.910885</td>\n",
              "      <td>22.971432</td>\n",
              "      <td>26.804237</td>\n",
              "      <td>28.963314</td>\n",
              "      <td>30.292183</td>\n",
              "      <td>36.215729</td>\n",
              "      <td>46.188705</td>\n",
              "      <td>50.129456</td>\n",
              "      <td>50.186428</td>\n",
              "      <td>50.326675</td>\n",
              "      <td>50.518867</td>\n",
              "      <td>54.151367</td>\n",
              "      <td>56.628681</td>\n",
              "      <td>59.547924</td>\n",
              "      <td>63.813896</td>\n",
              "      <td>66.915428</td>\n",
              "      <td>68.950089</td>\n",
              "      <td>59.138706</td>\n",
              "      <td>25.216053</td>\n",
              "      <td>...</td>\n",
              "      <td>52.276276</td>\n",
              "      <td>76.258263</td>\n",
              "      <td>97.656281</td>\n",
              "      <td>104.639801</td>\n",
              "      <td>107.482918</td>\n",
              "      <td>116.087898</td>\n",
              "      <td>119.596542</td>\n",
              "      <td>113.580307</td>\n",
              "      <td>105.458405</td>\n",
              "      <td>98.440308</td>\n",
              "      <td>87.478851</td>\n",
              "      <td>65.373665</td>\n",
              "      <td>42.688580</td>\n",
              "      <td>42.083920</td>\n",
              "      <td>42.077915</td>\n",
              "      <td>43.796120</td>\n",
              "      <td>47.096176</td>\n",
              "      <td>48.350464</td>\n",
              "      <td>45.844574</td>\n",
              "      <td>44.709602</td>\n",
              "      <td>44.452236</td>\n",
              "      <td>45.091633</td>\n",
              "      <td>45.594513</td>\n",
              "      <td>47.079624</td>\n",
              "      <td>48.659279</td>\n",
              "      <td>50.647430</td>\n",
              "      <td>56.668041</td>\n",
              "      <td>56.059330</td>\n",
              "      <td>60.028084</td>\n",
              "      <td>75.937340</td>\n",
              "      <td>95.684685</td>\n",
              "      <td>104.071655</td>\n",
              "      <td>106.396149</td>\n",
              "      <td>110.487549</td>\n",
              "      <td>118.960068</td>\n",
              "      <td>119.766983</td>\n",
              "      <td>119.094795</td>\n",
              "      <td>114.555389</td>\n",
              "      <td>108.466118</td>\n",
              "      <td>97.038635</td>\n",
              "    </tr>\n",
              "    <tr>\n",
              "      <th>3</th>\n",
              "      <td>180.0</td>\n",
              "      <td>51.161488</td>\n",
              "      <td>52.928898</td>\n",
              "      <td>52.118031</td>\n",
              "      <td>49.982224</td>\n",
              "      <td>47.455311</td>\n",
              "      <td>48.364941</td>\n",
              "      <td>51.515068</td>\n",
              "      <td>50.979263</td>\n",
              "      <td>52.620747</td>\n",
              "      <td>51.698769</td>\n",
              "      <td>60.333336</td>\n",
              "      <td>83.656799</td>\n",
              "      <td>91.080002</td>\n",
              "      <td>91.739265</td>\n",
              "      <td>93.974327</td>\n",
              "      <td>97.138779</td>\n",
              "      <td>100.399521</td>\n",
              "      <td>106.199524</td>\n",
              "      <td>120.686920</td>\n",
              "      <td>131.066177</td>\n",
              "      <td>121.295319</td>\n",
              "      <td>118.787674</td>\n",
              "      <td>118.990623</td>\n",
              "      <td>118.243454</td>\n",
              "      <td>117.522972</td>\n",
              "      <td>121.509636</td>\n",
              "      <td>128.460251</td>\n",
              "      <td>128.553101</td>\n",
              "      <td>48.492844</td>\n",
              "      <td>52.457291</td>\n",
              "      <td>54.622227</td>\n",
              "      <td>52.356056</td>\n",
              "      <td>51.249886</td>\n",
              "      <td>50.328400</td>\n",
              "      <td>51.451363</td>\n",
              "      <td>51.347660</td>\n",
              "      <td>50.393089</td>\n",
              "      <td>54.688404</td>\n",
              "      <td>77.081985</td>\n",
              "      <td>...</td>\n",
              "      <td>80.162964</td>\n",
              "      <td>81.110123</td>\n",
              "      <td>82.379265</td>\n",
              "      <td>79.625191</td>\n",
              "      <td>78.361977</td>\n",
              "      <td>79.800987</td>\n",
              "      <td>79.802475</td>\n",
              "      <td>83.713585</td>\n",
              "      <td>84.225189</td>\n",
              "      <td>84.859268</td>\n",
              "      <td>88.214325</td>\n",
              "      <td>90.149643</td>\n",
              "      <td>58.240997</td>\n",
              "      <td>29.630127</td>\n",
              "      <td>31.457287</td>\n",
              "      <td>47.014324</td>\n",
              "      <td>58.627659</td>\n",
              "      <td>57.163956</td>\n",
              "      <td>56.914577</td>\n",
              "      <td>55.671612</td>\n",
              "      <td>55.498772</td>\n",
              "      <td>56.028648</td>\n",
              "      <td>53.177292</td>\n",
              "      <td>54.323463</td>\n",
              "      <td>53.110130</td>\n",
              "      <td>57.712105</td>\n",
              "      <td>61.074078</td>\n",
              "      <td>69.884453</td>\n",
              "      <td>80.773331</td>\n",
              "      <td>83.397537</td>\n",
              "      <td>84.229637</td>\n",
              "      <td>82.725433</td>\n",
              "      <td>80.648895</td>\n",
              "      <td>79.769882</td>\n",
              "      <td>80.218269</td>\n",
              "      <td>82.703705</td>\n",
              "      <td>83.315071</td>\n",
              "      <td>85.184692</td>\n",
              "      <td>87.880997</td>\n",
              "      <td>89.884949</td>\n",
              "    </tr>\n",
              "    <tr>\n",
              "      <th>4</th>\n",
              "      <td>106.0</td>\n",
              "      <td>56.151653</td>\n",
              "      <td>58.149521</td>\n",
              "      <td>61.217167</td>\n",
              "      <td>64.587036</td>\n",
              "      <td>63.269852</td>\n",
              "      <td>61.791737</td>\n",
              "      <td>61.314701</td>\n",
              "      <td>58.124954</td>\n",
              "      <td>55.481670</td>\n",
              "      <td>56.984695</td>\n",
              "      <td>59.683159</td>\n",
              "      <td>62.838024</td>\n",
              "      <td>68.696335</td>\n",
              "      <td>85.371307</td>\n",
              "      <td>96.313637</td>\n",
              "      <td>101.051262</td>\n",
              "      <td>101.249557</td>\n",
              "      <td>99.967957</td>\n",
              "      <td>101.381989</td>\n",
              "      <td>104.708435</td>\n",
              "      <td>107.253830</td>\n",
              "      <td>108.819511</td>\n",
              "      <td>110.171593</td>\n",
              "      <td>110.751160</td>\n",
              "      <td>111.752937</td>\n",
              "      <td>109.438232</td>\n",
              "      <td>105.939484</td>\n",
              "      <td>104.634399</td>\n",
              "      <td>51.598434</td>\n",
              "      <td>53.533646</td>\n",
              "      <td>56.302956</td>\n",
              "      <td>59.694199</td>\n",
              "      <td>60.977215</td>\n",
              "      <td>60.554287</td>\n",
              "      <td>60.087223</td>\n",
              "      <td>55.440727</td>\n",
              "      <td>54.301888</td>\n",
              "      <td>56.978287</td>\n",
              "      <td>61.485939</td>\n",
              "      <td>...</td>\n",
              "      <td>68.494125</td>\n",
              "      <td>79.611252</td>\n",
              "      <td>81.865440</td>\n",
              "      <td>84.093277</td>\n",
              "      <td>86.008911</td>\n",
              "      <td>89.858673</td>\n",
              "      <td>95.484161</td>\n",
              "      <td>98.148453</td>\n",
              "      <td>100.000359</td>\n",
              "      <td>103.393738</td>\n",
              "      <td>104.452118</td>\n",
              "      <td>105.490219</td>\n",
              "      <td>49.437168</td>\n",
              "      <td>41.871487</td>\n",
              "      <td>40.573162</td>\n",
              "      <td>40.299038</td>\n",
              "      <td>40.902100</td>\n",
              "      <td>40.754719</td>\n",
              "      <td>41.395870</td>\n",
              "      <td>41.427910</td>\n",
              "      <td>42.563545</td>\n",
              "      <td>45.632965</td>\n",
              "      <td>51.808121</td>\n",
              "      <td>58.374161</td>\n",
              "      <td>64.089714</td>\n",
              "      <td>66.046997</td>\n",
              "      <td>63.073341</td>\n",
              "      <td>59.803844</td>\n",
              "      <td>68.789612</td>\n",
              "      <td>77.421860</td>\n",
              "      <td>82.366684</td>\n",
              "      <td>85.750809</td>\n",
              "      <td>89.513351</td>\n",
              "      <td>94.028122</td>\n",
              "      <td>96.473129</td>\n",
              "      <td>96.730873</td>\n",
              "      <td>99.059097</td>\n",
              "      <td>101.052696</td>\n",
              "      <td>102.817375</td>\n",
              "      <td>103.456749</td>\n",
              "    </tr>\n",
              "    <tr>\n",
              "      <th>5</th>\n",
              "      <td>172.0</td>\n",
              "      <td>89.473236</td>\n",
              "      <td>65.237976</td>\n",
              "      <td>55.061115</td>\n",
              "      <td>57.867500</td>\n",
              "      <td>61.896702</td>\n",
              "      <td>58.036236</td>\n",
              "      <td>58.875069</td>\n",
              "      <td>61.704704</td>\n",
              "      <td>68.756088</td>\n",
              "      <td>65.904823</td>\n",
              "      <td>60.484589</td>\n",
              "      <td>55.603031</td>\n",
              "      <td>51.703091</td>\n",
              "      <td>47.446728</td>\n",
              "      <td>41.494324</td>\n",
              "      <td>38.616009</td>\n",
              "      <td>38.232021</td>\n",
              "      <td>38.057331</td>\n",
              "      <td>39.758789</td>\n",
              "      <td>39.228233</td>\n",
              "      <td>38.661980</td>\n",
              "      <td>36.546783</td>\n",
              "      <td>33.183346</td>\n",
              "      <td>33.139000</td>\n",
              "      <td>34.051922</td>\n",
              "      <td>23.831261</td>\n",
              "      <td>11.847486</td>\n",
              "      <td>0.980530</td>\n",
              "      <td>58.524609</td>\n",
              "      <td>55.469448</td>\n",
              "      <td>57.047596</td>\n",
              "      <td>56.830181</td>\n",
              "      <td>56.479176</td>\n",
              "      <td>59.462955</td>\n",
              "      <td>60.274208</td>\n",
              "      <td>59.050301</td>\n",
              "      <td>61.805843</td>\n",
              "      <td>61.685783</td>\n",
              "      <td>59.145481</td>\n",
              "      <td>...</td>\n",
              "      <td>38.731747</td>\n",
              "      <td>35.192539</td>\n",
              "      <td>31.285023</td>\n",
              "      <td>30.248785</td>\n",
              "      <td>31.154682</td>\n",
              "      <td>31.840996</td>\n",
              "      <td>33.062737</td>\n",
              "      <td>35.269875</td>\n",
              "      <td>39.087616</td>\n",
              "      <td>41.745266</td>\n",
              "      <td>39.789082</td>\n",
              "      <td>32.805840</td>\n",
              "      <td>62.246078</td>\n",
              "      <td>62.165497</td>\n",
              "      <td>63.558140</td>\n",
              "      <td>64.241760</td>\n",
              "      <td>60.748520</td>\n",
              "      <td>60.342888</td>\n",
              "      <td>59.016228</td>\n",
              "      <td>59.455379</td>\n",
              "      <td>54.737160</td>\n",
              "      <td>24.951868</td>\n",
              "      <td>8.948081</td>\n",
              "      <td>15.501893</td>\n",
              "      <td>30.954571</td>\n",
              "      <td>36.458626</td>\n",
              "      <td>37.327206</td>\n",
              "      <td>36.957817</td>\n",
              "      <td>35.619259</td>\n",
              "      <td>33.513252</td>\n",
              "      <td>31.762035</td>\n",
              "      <td>30.218494</td>\n",
              "      <td>30.595459</td>\n",
              "      <td>31.117905</td>\n",
              "      <td>32.343430</td>\n",
              "      <td>34.494865</td>\n",
              "      <td>39.692810</td>\n",
              "      <td>42.630074</td>\n",
              "      <td>40.982693</td>\n",
              "      <td>33.161171</td>\n",
              "    </tr>\n",
              "    <tr>\n",
              "      <th>6</th>\n",
              "      <td>178.0</td>\n",
              "      <td>78.385315</td>\n",
              "      <td>79.862144</td>\n",
              "      <td>81.952286</td>\n",
              "      <td>89.298576</td>\n",
              "      <td>99.144058</td>\n",
              "      <td>102.796371</td>\n",
              "      <td>109.365753</td>\n",
              "      <td>75.439720</td>\n",
              "      <td>52.494011</td>\n",
              "      <td>56.774529</td>\n",
              "      <td>54.191265</td>\n",
              "      <td>59.316380</td>\n",
              "      <td>69.835632</td>\n",
              "      <td>75.008461</td>\n",
              "      <td>74.908600</td>\n",
              "      <td>72.975510</td>\n",
              "      <td>70.536049</td>\n",
              "      <td>67.448311</td>\n",
              "      <td>77.264244</td>\n",
              "      <td>84.406013</td>\n",
              "      <td>82.355385</td>\n",
              "      <td>80.928802</td>\n",
              "      <td>81.258560</td>\n",
              "      <td>81.847885</td>\n",
              "      <td>81.645630</td>\n",
              "      <td>81.682999</td>\n",
              "      <td>84.392517</td>\n",
              "      <td>88.139008</td>\n",
              "      <td>72.570641</td>\n",
              "      <td>73.965668</td>\n",
              "      <td>75.896225</td>\n",
              "      <td>85.279648</td>\n",
              "      <td>98.789047</td>\n",
              "      <td>106.217659</td>\n",
              "      <td>116.075760</td>\n",
              "      <td>90.536049</td>\n",
              "      <td>58.708122</td>\n",
              "      <td>60.780331</td>\n",
              "      <td>66.367760</td>\n",
              "      <td>...</td>\n",
              "      <td>102.743095</td>\n",
              "      <td>99.865677</td>\n",
              "      <td>79.862274</td>\n",
              "      <td>62.809616</td>\n",
              "      <td>60.110973</td>\n",
              "      <td>60.087494</td>\n",
              "      <td>61.949501</td>\n",
              "      <td>63.034718</td>\n",
              "      <td>59.821495</td>\n",
              "      <td>56.902172</td>\n",
              "      <td>55.002281</td>\n",
              "      <td>56.053921</td>\n",
              "      <td>34.172203</td>\n",
              "      <td>36.870598</td>\n",
              "      <td>42.664570</td>\n",
              "      <td>69.889664</td>\n",
              "      <td>91.779572</td>\n",
              "      <td>95.804832</td>\n",
              "      <td>93.186096</td>\n",
              "      <td>91.230026</td>\n",
              "      <td>93.997604</td>\n",
              "      <td>98.113503</td>\n",
              "      <td>93.755470</td>\n",
              "      <td>86.139267</td>\n",
              "      <td>83.916435</td>\n",
              "      <td>84.502975</td>\n",
              "      <td>87.474197</td>\n",
              "      <td>93.469643</td>\n",
              "      <td>99.132942</td>\n",
              "      <td>102.804199</td>\n",
              "      <td>95.617096</td>\n",
              "      <td>71.057823</td>\n",
              "      <td>58.765438</td>\n",
              "      <td>59.968571</td>\n",
              "      <td>61.416492</td>\n",
              "      <td>63.293526</td>\n",
              "      <td>61.484413</td>\n",
              "      <td>56.964783</td>\n",
              "      <td>54.549812</td>\n",
              "      <td>54.931835</td>\n",
              "    </tr>\n",
              "  </tbody>\n",
              "</table>\n",
              "<p>5 rows × 785 columns</p>\n",
              "</div>"
            ],
            "text/plain": [
              "   Width          0          1  ...         781         782         783\n",
              "2  111.0  51.827206  49.691013  ...  114.555389  108.466118   97.038635\n",
              "3  180.0  51.161488  52.928898  ...   85.184692   87.880997   89.884949\n",
              "4  106.0  56.151653  58.149521  ...  101.052696  102.817375  103.456749\n",
              "5  172.0  89.473236  65.237976  ...   42.630074   40.982693   33.161171\n",
              "6  178.0  78.385315  79.862144  ...   56.964783   54.549812   54.931835\n",
              "\n",
              "[5 rows x 785 columns]"
            ]
          },
          "metadata": {
            "tags": []
          },
          "execution_count": 98
        }
      ]
    },
    {
      "cell_type": "code",
      "metadata": {
        "id": "4vmhG2LgCabC"
      },
      "source": [
        "Area = np.array(PSD_new['Area'])\n",
        "diam_teste = []\n",
        "for A in Area:\n",
        "  diam_teste.append((4*A/np.pi)**0.5) \n",
        "\n",
        "Diam1 = [ (4*A/np.pi)**0.5 for A in Area]"
      ],
      "execution_count": 99,
      "outputs": []
    },
    {
      "cell_type": "code",
      "metadata": {
        "colab": {
          "base_uri": "https://localhost:8080/"
        },
        "id": "9J705kDqsE8f",
        "outputId": "cb6ff2ca-c381-4445-d264-d2e0b3c257c2"
      },
      "source": [
        "X.shape"
      ],
      "execution_count": 100,
      "outputs": [
        {
          "output_type": "execute_result",
          "data": {
            "text/plain": [
              "(490, 784)"
            ]
          },
          "metadata": {
            "tags": []
          },
          "execution_count": 100
        }
      ]
    },
    {
      "cell_type": "code",
      "metadata": {
        "id": "3wCFDX8esLoQ"
      },
      "source": [
        ""
      ],
      "execution_count": 100,
      "outputs": []
    },
    {
      "cell_type": "code",
      "metadata": {
        "id": "Hn-F050Hr9Ui"
      },
      "source": [
        ""
      ],
      "execution_count": 100,
      "outputs": []
    },
    {
      "cell_type": "code",
      "metadata": {
        "colab": {
          "base_uri": "https://localhost:8080/",
          "height": 282
        },
        "id": "Vfk_fNXGDK5_",
        "outputId": "eeeec7ce-3e8b-4296-a115-0297a96d1574"
      },
      "source": [
        " wt1 = np.ones(len(Diam1)) / len(Diam1)*100\n",
        " wt2 = np.ones(len(Diameter_All)) / len(Diameter_All)*100\n",
        " X = pd.DataFrame([Diam1,Diameter_All])\n",
        " wts = pd.DataFrame([wt1,wt2])\n",
        "plt.hist(X,weights=wts)\n",
        "plt.legend(['Image J','CNN'])"
      ],
      "execution_count": 101,
      "outputs": [
        {
          "output_type": "execute_result",
          "data": {
            "text/plain": [
              "<matplotlib.legend.Legend at 0x7fcb3abaf590>"
            ]
          },
          "metadata": {
            "tags": []
          },
          "execution_count": 101
        },
        {
          "output_type": "display_data",
          "data": {
            "image/png": "[encoded data removed]",
            "text/plain": [
              "<Figure size 432x288 with 1 Axes>"
            ]
          },
          "metadata": {
            "tags": [],
            "needs_background": "light"
          }
        }
      ]
    },
    {
      "cell_type": "code",
      "metadata": {
        "id": "-nGDbBEeiUij",
        "colab": {
          "base_uri": "https://localhost:8080/",
          "height": 402
        },
        "outputId": "428adc37-514b-433d-fd8c-cb37574804e5"
      },
      "source": [
        "# plt.hist(x, bins=bins, density=True, histtype='step', cumulative=-1,label='Reversed emp.')\n",
        "plt.hist(X, density=True, histtype='step', cumulative=True,label='Reversed emp.')"
      ],
      "execution_count": 102,
      "outputs": [
        {
          "output_type": "execute_result",
          "data": {
            "text/plain": [
              "(array([[0.04210526, 0.14736842, 0.37894737, 0.69473684, 0.87368421,\n",
              "         0.96842105, 0.97894737, 0.97894737, 0.98947368, 1.        ],\n",
              "        [0.1       , 0.36      , 0.56      , 0.66      , 0.8       ,\n",
              "         0.94      , 1.        , 1.        , 1.        , 1.        ]]),\n",
              " array([0.69368497, 0.85606039, 1.01843581, 1.18081123, 1.34318666,\n",
              "        1.50556208, 1.6679375 , 1.83031292, 1.99268835, 2.15506377,\n",
              "        2.31743919]),\n",
              " <a list of 2 Lists of Patches objects>)"
            ]
          },
          "metadata": {
            "tags": []
          },
          "execution_count": 102
        },
        {
          "output_type": "display_data",
          "data": {
            "image/png": "[encoded data removed]",
            "text/plain": [
              "<Figure size 432x288 with 1 Axes>"
            ]
          },
          "metadata": {
            "tags": [],
            "needs_background": "light"
          }
        }
      ]
    },
    {
      "cell_type": "code",
      "metadata": {
        "colab": {
          "base_uri": "https://localhost:8080/",
          "height": 282
        },
        "id": "9xENlBUUxfTu",
        "outputId": "9069d82f-9117-4bb9-fc5a-85e4b3236830"
      },
      "source": [
        "Obj = plt.hist(X, density=True, histtype='step', cumulative=True,label='Reversed emp.')\n",
        "Y1, Y2 = Obj[0]\n",
        "Rsquared = r2_score(Y1, Y2)\n",
        "print('r_squared =',Rsquared)"
      ],
      "execution_count": 103,
      "outputs": [
        {
          "output_type": "stream",
          "text": [
            "r_squared = 0.9294523768065471\n"
          ],
          "name": "stdout"
        },
        {
          "output_type": "display_data",
          "data": {
            "image/png": "[encoded data removed]",
            "text/plain": [
              "<Figure size 432x288 with 1 Axes>"
            ]
          },
          "metadata": {
            "tags": [],
            "needs_background": "light"
          }
        }
      ]
    },
    {
      "cell_type": "code",
      "metadata": {
        "id": "euTd_-CYN1v0",
        "colab": {
          "base_uri": "https://localhost:8080/",
          "height": 17
        },
        "outputId": "5484ba72-3554-484e-94ed-b96e369c2040"
      },
      "source": [
        "\n",
        "df = pd.DataFrame({'N1':N1, 'N2':N2,'R^2':Rsquared,'Details':Description},\n",
        "                  index= [0])\n",
        "Arq = \"output.xlsx\"\n",
        "df.to_excel(Arq)\n",
        "files.download(Arq)"
      ],
      "execution_count": 104,
      "outputs": [
        {
          "output_type": "display_data",
          "data": {
            "application/javascript": [
              "\n",
              "    async function download(id, filename, size) {\n",
              "      if (!google.colab.kernel.accessAllowed) {\n",
              "        return;\n",
              "      }\n",
              "      const div = document.createElement('div');\n",
              "      const label = document.createElement('label');\n",
              "      label.textContent = `Downloading \"${filename}\": `;\n",
              "      div.appendChild(label);\n",
              "      const progress = document.createElement('progress');\n",
              "      progress.max = size;\n",
              "      div.appendChild(progress);\n",
              "      document.body.appendChild(div);\n",
              "\n",
              "      const buffers = [];\n",
              "      let downloaded = 0;\n",
              "\n",
              "      const channel = await google.colab.kernel.comms.open(id);\n",
              "      // Send a message to notify the kernel that we're ready.\n",
              "      channel.send({})\n",
              "\n",
              "      for await (const message of channel.messages) {\n",
              "        // Send a message to notify the kernel that we're ready.\n",
              "        channel.send({})\n",
              "        if (message.buffers) {\n",
              "          for (const buffer of message.buffers) {\n",
              "            buffers.push(buffer);\n",
              "            downloaded += buffer.byteLength;\n",
              "            progress.value = downloaded;\n",
              "          }\n",
              "        }\n",
              "      }\n",
              "      const blob = new Blob(buffers, {type: 'application/binary'});\n",
              "      const a = document.createElement('a');\n",
              "      a.href = window.URL.createObjectURL(blob);\n",
              "      a.download = filename;\n",
              "      div.appendChild(a);\n",
              "      a.click();\n",
              "      div.remove();\n",
              "    }\n",
              "  "
            ],
            "text/plain": [
              "<IPython.core.display.Javascript object>"
            ]
          },
          "metadata": {
            "tags": []
          }
        },
        {
          "output_type": "display_data",
          "data": {
            "application/javascript": [
              "download(\"download_4a198df7-8c07-4818-9bdb-2062dece07ef\", \"output.xlsx\", 5040)"
            ],
            "text/plain": [
              "<IPython.core.display.Javascript object>"
            ]
          },
          "metadata": {
            "tags": []
          }
        }
      ]
    },
    {
      "cell_type": "code",
      "metadata": {
        "colab": {
          "base_uri": "https://localhost:8080/",
          "height": 80
        },
        "id": "-KukfpGTTKlj",
        "outputId": "ac43bbdc-3411-43af-d482-ad6f879a0a4c"
      },
      "source": [
        "df"
      ],
      "execution_count": 105,
      "outputs": [
        {
          "output_type": "execute_result",
          "data": {
            "text/html": [
              "<div>\n",
              "<style scoped>\n",
              "    .dataframe tbody tr th:only-of-type {\n",
              "        vertical-align: middle;\n",
              "    }\n",
              "\n",
              "    .dataframe tbody tr th {\n",
              "        vertical-align: top;\n",
              "    }\n",
              "\n",
              "    .dataframe thead th {\n",
              "        text-align: right;\n",
              "    }\n",
              "</style>\n",
              "<table border=\"1\" class=\"dataframe\">\n",
              "  <thead>\n",
              "    <tr style=\"text-align: right;\">\n",
              "      <th></th>\n",
              "      <th>N1</th>\n",
              "      <th>N2</th>\n",
              "      <th>R^2</th>\n",
              "      <th>Details</th>\n",
              "    </tr>\n",
              "  </thead>\n",
              "  <tbody>\n",
              "    <tr>\n",
              "      <th>0</th>\n",
              "      <td>200</td>\n",
              "      <td>10</td>\n",
              "      <td>0.929452</td>\n",
              "      <td>ANN without convolution</td>\n",
              "    </tr>\n",
              "  </tbody>\n",
              "</table>\n",
              "</div>"
            ],
            "text/plain": [
              "    N1  N2       R^2                   Details\n",
              "0  200  10  0.929452  ANN without convolution "
            ]
          },
          "metadata": {
            "tags": []
          },
          "execution_count": 105
        }
      ]
    },
    {
      "cell_type": "code",
      "metadata": {
        "colab": {
          "base_uri": "https://localhost:8080/",
          "height": 385
        },
        "id": "ZZHa1j4HT9Dq",
        "outputId": "1bb6fcea-dae0-44f4-eb97-8d8ee3f95175"
      },
      "source": [
        "counts, bins, bars = plt.hist(X,weights=wts)\n",
        "print(bars)\n",
        "print(bins)\n",
        "print(counts)"
      ],
      "execution_count": 106,
      "outputs": [
        {
          "output_type": "stream",
          "text": [
            "<a list of 2 Lists of Patches objects>\n",
            "[0.69368497 0.85606039 1.01843581 1.18081123 1.34318666 1.50556208\n",
            " 1.6679375  1.83031292 1.99268835 2.15506377 2.31743919]\n",
            "[[ 4.21052632 10.52631579 23.15789474 31.57894737 17.89473684  9.47368421\n",
            "   1.05263158  0.          1.05263158  1.05263158]\n",
            " [10.         26.         20.         10.         14.         14.\n",
            "   6.          0.          0.          0.        ]]\n"
          ],
          "name": "stdout"
        },
        {
          "output_type": "display_data",
          "data": {
            "image/png": "[encoded data removed]",
            "text/plain": [
              "<Figure size 432x288 with 1 Axes>"
            ]
          },
          "metadata": {
            "tags": [],
            "needs_background": "light"
          }
        }
      ]
    },
    {
      "cell_type": "code",
      "metadata": {
        "colab": {
          "base_uri": "https://localhost:8080/"
        },
        "id": "8o_vDGeWUwIZ",
        "outputId": "5cfd95e9-daf9-4b12-aa08-a8a35e3fcf2f"
      },
      "source": [
        "print(counts.sum())"
      ],
      "execution_count": 107,
      "outputs": [
        {
          "output_type": "stream",
          "text": [
            "200.0000000000001\n"
          ],
          "name": "stdout"
        }
      ]
    },
    {
      "cell_type": "code",
      "metadata": {
        "colab": {
          "base_uri": "https://localhost:8080/",
          "height": 336
        },
        "id": "KcH52-6iJQ8t",
        "outputId": "b47036b3-e740-4328-d020-ac24355feef9"
      },
      "source": [
        "\n",
        "plt.hist([Diam1,Diameter_All])\n",
        "plt.legend(['Image J','CNN'])\n"
      ],
      "execution_count": 108,
      "outputs": [
        {
          "output_type": "stream",
          "text": [
            "/usr/local/lib/python3.7/dist-packages/numpy/core/_asarray.py:83: VisibleDeprecationWarning: Creating an ndarray from ragged nested sequences (which is a list-or-tuple of lists-or-tuples-or ndarrays with different lengths or shapes) is deprecated. If you meant to do this, you must specify 'dtype=object' when creating the ndarray\n",
            "  return array(a, dtype, copy=False, order=order)\n"
          ],
          "name": "stderr"
        },
        {
          "output_type": "execute_result",
          "data": {
            "text/plain": [
              "<matplotlib.legend.Legend at 0x7fcb377e20d0>"
            ]
          },
          "metadata": {
            "tags": []
          },
          "execution_count": 108
        },
        {
          "output_type": "display_data",
          "data": {
            "image/png": "[encoded data removed]",
            "text/plain": [
              "<Figure size 432x288 with 1 Axes>"
            ]
          },
          "metadata": {
            "tags": [],
            "needs_background": "light"
          }
        }
      ]
    },
    {
      "cell_type": "code",
      "metadata": {
        "colab": {
          "base_uri": "https://localhost:8080/"
        },
        "id": "r11AxFK_JIii",
        "outputId": "9b5beaa9-069b-4ec4-b5cf-aa48a6cdd4ce"
      },
      "source": [
        "[Diam1,Diameter_All]"
      ],
      "execution_count": 109,
      "outputs": [
        {
          "output_type": "execute_result",
          "data": {
            "text/plain": [
              "[[1.59616801403081,\n",
              "  1.0217907939900581,\n",
              "  1.2716187407449044,\n",
              "  1.104429030701514,\n",
              "  1.2163487785097904,\n",
              "  1.6013445735058454,\n",
              "  1.1715597420637607,\n",
              "  1.2534662333717612,\n",
              "  1.2676073151634049,\n",
              "  1.309600575274104,\n",
              "  1.292966945531582,\n",
              "  1.7658322811231006,\n",
              "  1.3564037533648712,\n",
              "  1.2407040781688483,\n",
              "  2.130217298173151,\n",
              "  1.4228319915327,\n",
              "  1.0651086490865755,\n",
              "  1.3008210311003705,\n",
              "  1.336545951796433,\n",
              "  0.8927754224911278,\n",
              "  1.4494292838262302,\n",
              "  1.4052738287907582,\n",
              "  1.6421697097891788,\n",
              "  1.2329833804288621,\n",
              "  1.19042665178928,\n",
              "  1.1682948223612457,\n",
              "  1.1518314137121108,\n",
              "  0.9607802401865855,\n",
              "  2.317439190074449,\n",
              "  1.0591147430338594,\n",
              "  1.4308630919602832,\n",
              "  0.7535680705496237,\n",
              "  0.8608283307581511,\n",
              "  1.2776122636975893,\n",
              "  1.3745862957220916,\n",
              "  1.259546137598783,\n",
              "  1.2978813187979172,\n",
              "  1.2412170838050638,\n",
              "  1.6009469708743893,\n",
              "  1.3149369953539032,\n",
              "  1.417901703622935,\n",
              "  1.2478669653497139,\n",
              "  1.1055812783082735,\n",
              "  0.9561307405997607,\n",
              "  0.9487783503683882,\n",
              "  1.1238565871041026,\n",
              "  1.2058356273089446,\n",
              "  1.2801012827406097,\n",
              "  0.8733100751144249,\n",
              "  0.9194732501297403,\n",
              "  1.6425573339441792,\n",
              "  1.085826790250066,\n",
              "  1.0639125693728595,\n",
              "  1.0875842666474016,\n",
              "  1.417901703622935,\n",
              "  1.550443891425932,\n",
              "  0.7825779328716171,\n",
              "  1.4690612745308145,\n",
              "  1.053086721720641,\n",
              "  1.2676073151634049,\n",
              "  0.7744003006005755,\n",
              "  1.3787482149724068,\n",
              "  1.363892581861956,\n",
              "  1.299352006316543,\n",
              "  1.2870449283923413,\n",
              "  1.11817763925502,\n",
              "  0.9474354220939228,\n",
              "  1.5218484589055707,\n",
              "  1.3526437911676632,\n",
              "  1.1556938532445284,\n",
              "  1.6013445735058454,\n",
              "  1.274619025074578,\n",
              "  1.422384489715834,\n",
              "  1.3408259533459403,\n",
              "  1.172646028567008,\n",
              "  1.1490645795125545,\n",
              "  1.459060149136146,\n",
              "  1.2483770274864237,\n",
              "  1.336545951796433,\n",
              "  0.9601174044814821,\n",
              "  1.4867225193896279,\n",
              "  1.4277452542806772,\n",
              "  1.35028849808504,\n",
              "  0.7560982446653928,\n",
              "  1.259040600296622,\n",
              "  1.13456827900627,\n",
              "  1.6549133695530214,\n",
              "  1.1204526724091788,\n",
              "  1.1176081573544434,\n",
              "  0.9153095762832032,\n",
              "  1.1639273497938836,\n",
              "  1.3066806149514323,\n",
              "  1.1529362882239027,\n",
              "  1.3047303442899274,\n",
              "  1.3066806149514323],\n",
              " [0.9097952676099669,\n",
              "  1.4516331778035547,\n",
              "  0.9082129445712814,\n",
              "  1.4015764238785704,\n",
              "  1.3695186198685918,\n",
              "  1.2135815464324007,\n",
              "  1.6440153955203414,\n",
              "  0.8091533990928902,\n",
              "  1.0887611905680623,\n",
              "  1.0672231193995558,\n",
              "  0.9481630826821943,\n",
              "  1.6478608316437875,\n",
              "  1.0219956669184735,\n",
              "  1.4148910426984336,\n",
              "  1.160585387870239,\n",
              "  0.8626374460163307,\n",
              "  0.9353403936441828,\n",
              "  1.138621867199048,\n",
              "  0.8650629172974879,\n",
              "  1.7035719084878245,\n",
              "  1.1871516913671838,\n",
              "  1.263015451438781,\n",
              "  0.8719630612242509,\n",
              "  1.2280822816068748,\n",
              "  1.4357551210020665,\n",
              "  1.6902615485403392,\n",
              "  0.8692273642772991,\n",
              "  1.6167391466654502,\n",
              "  0.8763448331718389,\n",
              "  1.5592004158410606,\n",
              "  1.5124941638787142,\n",
              "  0.6975100611119994,\n",
              "  1.4440736296932517,\n",
              "  0.9939203499053629,\n",
              "  0.920990356245434,\n",
              "  1.1763245780334535,\n",
              "  1.0680023029983077,\n",
              "  1.019442270406829,\n",
              "  1.4275911142088926,\n",
              "  1.0133976487817173,\n",
              "  1.601340134442186,\n",
              "  1.1007026398678508,\n",
              "  0.9600834637851962,\n",
              "  0.6936849669869889,\n",
              "  1.5784225677409511,\n",
              "  0.772923585552767,\n",
              "  1.773910994233915,\n",
              "  0.8493175238519879,\n",
              "  1.1995382186361934,\n",
              "  1.1587281497583783]]"
            ]
          },
          "metadata": {
            "tags": []
          },
          "execution_count": 109
        }
      ]
    }
  ]
}