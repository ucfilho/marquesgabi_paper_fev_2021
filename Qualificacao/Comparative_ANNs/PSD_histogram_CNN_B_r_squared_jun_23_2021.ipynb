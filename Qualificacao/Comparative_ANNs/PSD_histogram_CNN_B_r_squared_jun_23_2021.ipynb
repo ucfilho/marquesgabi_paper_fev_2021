{
  "nbformat": 4,
  "nbformat_minor": 0,
  "metadata": {
    "colab": {
      "name": "PSD_histogram_CNN_B_r_squared_jun_23_2021.ipynb",
      "provenance": [],
      "collapsed_sections": [],
      "include_colab_link": true
    },
    "kernelspec": {
      "name": "python3",
      "display_name": "Python 3"
    }
  },
  "cells": [
    {
      "cell_type": "markdown",
      "metadata": {
        "id": "view-in-github",
        "colab_type": "text"
      },
      "source": [
        "<a href=\"https://colab.research.google.com/github/ucfilho/marquesgabi_paper_fev_2021/blob/main/Qualificacao/Comparative_ANNs/PSD_histogram_CNN_B_r_squared_jun_23_2021.ipynb\" target=\"_parent\"><img src=\"https://colab.research.google.com/assets/colab-badge.svg\" alt=\"Open In Colab\"/></a>"
      ]
    },
    {
      "cell_type": "code",
      "metadata": {
        "id": "Sog7Z9pyhUD_"
      },
      "source": [
        "import matplotlib.pyplot as plt\n",
        "import numpy as np\n",
        "import cv2\n",
        "import zipfile\n",
        "#import random\n",
        "from random import randint\n",
        "from PIL import Image\n",
        "import re\n",
        "from sklearn.model_selection import train_test_split\n",
        "#import scikit-image\n",
        "import skimage\n",
        "import sklearn\n",
        "import pandas as pd\n",
        "from keras.models import Sequential\n",
        "from keras.layers import Dense, Activation, Conv2D, MaxPooling2D, Flatten, Dropout, BatchNormalization\n",
        "from sklearn.metrics import r2_score\n",
        "from google.colab import files"
      ],
      "execution_count": 1,
      "outputs": []
    },
    {
      "cell_type": "code",
      "metadata": {
        "id": "uZEvJvfoibE4",
        "colab": {
          "base_uri": "https://localhost:8080/"
        },
        "outputId": "3be2da34-37e6-4cf3-843e-ca452102de8f"
      },
      "source": [
        "!pip install mahotas"
      ],
      "execution_count": 2,
      "outputs": [
        {
          "output_type": "stream",
          "text": [
            "Collecting mahotas\n",
            "\u001b[?25l  Downloading https://files.pythonhosted.org/packages/19/ad/553b246b0a35dccc3ed58dc8889a67124bf5ab858e9c6b7255d56086e70c/mahotas-1.4.11-cp37-cp37m-manylinux2010_x86_64.whl (5.7MB)\n",
            "\u001b[K     |████████████████████████████████| 5.7MB 3.5MB/s \n",
            "\u001b[?25hRequirement already satisfied: numpy in /usr/local/lib/python3.7/dist-packages (from mahotas) (1.19.5)\n",
            "Installing collected packages: mahotas\n",
            "Successfully installed mahotas-1.4.11\n"
          ],
          "name": "stdout"
        }
      ]
    },
    {
      "cell_type": "code",
      "metadata": {
        "id": "nf_a6PJ1iUnT"
      },
      "source": [
        "import mahotas.features.texture as mht\n",
        "import mahotas.features"
      ],
      "execution_count": 3,
      "outputs": []
    },
    {
      "cell_type": "code",
      "metadata": {
        "id": "_VcTdaNVh9EE",
        "colab": {
          "base_uri": "https://localhost:8080/"
        },
        "outputId": "346eab46-3a5e-48df-c984-1feaa5321bb8"
      },
      "source": [
        "!git clone https://github.com/ucfilho/marquesgabi_fev_2020 #clonar do Github\n",
        "%cd marquesgabi_fev_2020\n",
        "import Go2BlackWhite\n",
        "import Go2Mahotas"
      ],
      "execution_count": 4,
      "outputs": [
        {
          "output_type": "stream",
          "text": [
            "Cloning into 'marquesgabi_fev_2020'...\n",
            "remote: Enumerating objects: 73, done.\u001b[K\n",
            "remote: Counting objects: 100% (73/73), done.\u001b[K\n",
            "remote: Compressing objects: 100% (71/71), done.\u001b[K\n",
            "remote: Total 73 (delta 37), reused 0 (delta 0), pack-reused 0\u001b[K\n",
            "Unpacking objects: 100% (73/73), done.\n",
            "/content/marquesgabi_fev_2020\n"
          ],
          "name": "stdout"
        }
      ]
    },
    {
      "cell_type": "code",
      "metadata": {
        "id": "1v7SRrc8mH2N",
        "colab": {
          "base_uri": "https://localhost:8080/"
        },
        "outputId": "5fab0a3c-dcb3-4a84-cb6e-6554cd51852f"
      },
      "source": [
        "!git clone https://github.com/marquesgabi/Doutorado\n",
        "%cd Doutorado\n",
        "\n",
        "Transfere='Fotos_Grandes_3cdAmostra.zip'\n",
        "file_name = zipfile.ZipFile(Transfere, 'r')\n",
        "file_name.extractall()"
      ],
      "execution_count": 5,
      "outputs": [
        {
          "output_type": "stream",
          "text": [
            "Cloning into 'Doutorado'...\n",
            "remote: Enumerating objects: 361, done.\u001b[K\n",
            "remote: Counting objects: 100% (111/111), done.\u001b[K\n",
            "remote: Compressing objects: 100% (110/110), done.\u001b[K\n",
            "remote: Total 361 (delta 38), reused 0 (delta 0), pack-reused 250\u001b[K\n",
            "Receiving objects: 100% (361/361), 202.49 MiB | 29.42 MiB/s, done.\n",
            "Resolving deltas: 100% (155/155), done.\n",
            "/content/marquesgabi_fev_2020/Doutorado\n"
          ],
          "name": "stdout"
        }
      ]
    },
    {
      "cell_type": "code",
      "metadata": {
        "id": "0kA4IWSmasoD"
      },
      "source": [
        "Size=1200 # tamanho da foto\n",
        "ww,img_name=Go2BlackWhite.BlackWhite(Transfere,Size) #Pegamos a primeira foto Grande\n",
        "img=ww[4] \n",
        "# this is the big image we want to segment \n",
        "# ww[0], change it if you want to segment another picture"
      ],
      "execution_count": 6,
      "outputs": []
    },
    {
      "cell_type": "code",
      "metadata": {
        "id": "tHgqAnaFyCjp",
        "colab": {
          "base_uri": "https://localhost:8080/"
        },
        "outputId": "859e682d-1525-4b1d-d785-2732b2d2c4ac"
      },
      "source": [
        "!git clone https://github.com/ucfilho/MarquesGabi_Routines\n",
        "%cd MarquesGabi_Routines"
      ],
      "execution_count": 7,
      "outputs": [
        {
          "output_type": "stream",
          "text": [
            "Cloning into 'MarquesGabi_Routines'...\n",
            "remote: Enumerating objects: 163, done.\u001b[K\n",
            "remote: Counting objects: 100% (163/163), done.\u001b[K\n",
            "remote: Compressing objects: 100% (161/161), done.\u001b[K\n",
            "remote: Total 163 (delta 65), reused 0 (delta 0), pack-reused 0\u001b[K\n",
            "Receiving objects: 100% (163/163), 211.71 MiB | 22.15 MiB/s, done.\n",
            "Resolving deltas: 100% (65/65), done.\n",
            "Checking out files: 100% (46/46), done.\n",
            "/content/marquesgabi_fev_2020/Doutorado/MarquesGabi_Routines\n"
          ],
          "name": "stdout"
        }
      ]
    },
    {
      "cell_type": "code",
      "metadata": {
        "id": "qc4rFvzkyWCi"
      },
      "source": [
        "from segment_filter_not_conclude import Segmenta  # got image provided segmented"
      ],
      "execution_count": 8,
      "outputs": []
    },
    {
      "cell_type": "code",
      "metadata": {
        "id": "SnTtH3KDP863"
      },
      "source": [
        "df=Segmenta(img)\n",
        "Img_Size = 28"
      ],
      "execution_count": 9,
      "outputs": []
    },
    {
      "cell_type": "code",
      "metadata": {
        "id": "YN5MN5a_v4np",
        "colab": {
          "base_uri": "https://localhost:8080/"
        },
        "outputId": "42705fd6-ceae-4c5a-e474-a9c34ba04e16"
      },
      "source": [
        "print(df)"
      ],
      "execution_count": 10,
      "outputs": [
        {
          "output_type": "stream",
          "text": [
            "    Width           0           1  ...         781         782         783\n",
            "0     130  128.476929  135.798111  ...  162.551483  174.763077  192.380600\n",
            "1     169  218.139496  216.005295  ...    1.183432    0.612794    0.773502\n",
            "2     194  135.596649  139.299271  ...  199.255280  197.183838  152.034958\n",
            "3     141  119.244408  116.487411  ...  145.617828  130.322861  124.465012\n",
            "4     197  152.838974  138.385208  ...  169.878799  218.168442  229.160919\n",
            "5     126  123.432106  108.493820  ...    1.000000    1.000000    0.802469\n",
            "6     196  150.061218  188.673462  ...    1.448980    0.183673    1.306122\n",
            "7     166  112.043243  107.135719  ...   80.328926   96.132950   95.035561\n",
            "8     185   51.852795   52.599037  ...    0.293177    1.536421    0.986355\n",
            "9     121   99.786629  108.390007  ...    0.025271    0.682535    1.000000\n",
            "10    139   95.318825   84.306442  ...    1.024740    0.039128    0.844884\n",
            "11    113  150.933823  137.092178  ...  183.742584  184.280518  184.094604\n",
            "12    177   94.348549  107.176605  ...   33.130390   21.517761    4.712375\n",
            "13    170  133.853149  141.275986  ...  172.487076  175.942566  166.239594\n",
            "14    169   97.136375  108.335625  ...    0.918735    0.190224    1.359791\n",
            "15    155  252.568832  254.056961  ...  164.977753  164.858994  158.938751\n",
            "16    113  126.626678   98.807114  ...  172.660492  161.701920  142.392029\n",
            "17    174  125.101746  113.900269  ...  170.443802  165.087341  161.301651\n",
            "18    164  237.176102  214.756699  ...  214.055313  211.340256  211.519928\n",
            "19    176  167.037186  162.177689  ...  190.200943  190.395142  180.533554\n",
            "20    143  171.515228  172.527206  ...  202.281555  198.322266  161.637329\n",
            "21    170   77.930107   88.057457  ...    0.944498    0.183945    1.356540\n",
            "22    192  252.623688  241.093292  ...  146.966995  148.204422  170.332901\n",
            "23    128   92.369141   93.980469  ...    1.000000    1.000000    1.000000\n",
            "24    144  105.523918   92.987656  ...    0.043210    0.987654    1.820988\n",
            "25    141  156.205490  155.667969  ...  223.768784  249.825256  250.554993\n",
            "26    137  136.743347  140.290802  ...  129.555328  132.770081  122.749748\n",
            "27    164  166.686508  171.370605  ...  160.129700  157.684113  161.239151\n",
            "28    159  252.044312  251.682785  ...  134.445755  137.414215  139.593002\n",
            "29    145   59.913910   59.583447  ...    1.000000    1.000000    1.000000\n",
            "30    199  247.148438  253.320007  ...  178.485916  193.148163  191.900574\n",
            "31    135  129.163162  124.709625  ...  110.690460  114.788139  137.392044\n",
            "32    171  153.188950  154.535690  ...   97.556648   79.790604   77.960571\n",
            "33    141  154.723907  149.355865  ...  209.467697  176.464325  175.311157\n",
            "34    189    1.039781    2.016461  ...   11.551440   38.362141   53.267490\n",
            "35    120  174.910004  177.556686  ...  197.024429  238.917786  252.854431\n",
            "36    112    1.062500    2.062500  ...   83.437500   77.625000   74.437500\n",
            "37    199   80.310394   90.177162  ...  149.346970  154.130112  148.057495\n",
            "38    116  196.428070  194.612366  ...  214.501770  232.120087  237.812134\n",
            "39    133    3.670360   11.238227  ...  128.994461  146.038788  152.005539\n",
            "40    126  136.246918  140.839508  ...  173.876556  175.469131  184.407410\n",
            "41    189  134.862839  103.680382  ...    1.355281    0.155007    1.318244\n",
            "42    164  112.022606  133.097565  ...  124.778702  138.849487  140.606186\n",
            "43    139  158.636292  167.766144  ...  200.294296  205.194244  211.265869\n",
            "44    186  122.525856  123.858032  ...   97.369873   88.327904   87.015152\n",
            "45    101  164.984421  164.528992  ...  194.061462  190.614746  186.653946\n",
            "46    106    0.318975    0.205767  ...   90.233185  103.171951  100.056252\n",
            "47    170    0.932042    0.242491  ...  113.085403  131.391556  125.497307\n",
            "48    182   11.213018   95.532555  ...  147.000015  165.112457  224.307709\n",
            "49    199  172.155930  186.842270  ...  162.290237  161.532379  160.009674\n",
            "\n",
            "[50 rows x 785 columns]\n"
          ],
          "name": "stdout"
        }
      ]
    },
    {
      "cell_type": "code",
      "metadata": {
        "id": "xzpQ1Pz0fX5L",
        "colab": {
          "base_uri": "https://localhost:8080/",
          "height": 52
        },
        "outputId": "d47f7688-e047-4a01-a159-0faaa4999d4a"
      },
      "source": [
        "'''\n",
        "!git clone https://github.com/ucfilho/MarquesGabi_Routines\n",
        "%cd MarquesGabi_Routines\n",
        "# filename = 'model_ANN.pkl'\n",
        "filename = 'model_ANN_new.pkl'\n",
        "model = joblib.load(filename)\n",
        "'''"
      ],
      "execution_count": 11,
      "outputs": [
        {
          "output_type": "execute_result",
          "data": {
            "application/vnd.google.colaboratory.intrinsic+json": {
              "type": "string"
            },
            "text/plain": [
              "\"\\n!git clone https://github.com/ucfilho/MarquesGabi_Routines\\n%cd MarquesGabi_Routines\\n# filename = 'model_ANN.pkl'\\nfilename = 'model_ANN_new.pkl'\\nmodel = joblib.load(filename)\\n\""
            ]
          },
          "metadata": {
            "tags": []
          },
          "execution_count": 11
        }
      ]
    },
    {
      "cell_type": "code",
      "metadata": {
        "colab": {
          "base_uri": "https://localhost:8080/"
        },
        "id": "xR2emP4rNjQy",
        "outputId": "7d992aa5-50f3-4870-ca99-d0f0431c47c9"
      },
      "source": [
        "!git clone https://github.com/ucfilho/MarquesGabi_Routines\n",
        "%cd MarquesGabi_Routines"
      ],
      "execution_count": 12,
      "outputs": [
        {
          "output_type": "stream",
          "text": [
            "Cloning into 'MarquesGabi_Routines'...\n",
            "remote: Enumerating objects: 163, done.\u001b[K\n",
            "remote: Counting objects: 100% (163/163), done.\u001b[K\n",
            "remote: Compressing objects: 100% (161/161), done.\u001b[K\n",
            "remote: Total 163 (delta 65), reused 0 (delta 0), pack-reused 0\u001b[K\n",
            "Receiving objects: 100% (163/163), 211.71 MiB | 21.93 MiB/s, done.\n",
            "Resolving deltas: 100% (65/65), done.\n",
            "Checking out files: 100% (46/46), done.\n",
            "/content/marquesgabi_fev_2020/Doutorado/MarquesGabi_Routines/MarquesGabi_Routines\n"
          ],
          "name": "stdout"
        }
      ]
    },
    {
      "cell_type": "code",
      "metadata": {
        "id": "O6cMHOrlNliO"
      },
      "source": [
        "# leitura dos dados\n",
        "df=pd.read_excel(\"FotosTreinoRede.xlsx\")\n",
        "y = df['y']\n",
        "df.drop(['Unnamed: 0','y'], axis='columns', inplace=True)"
      ],
      "execution_count": 13,
      "outputs": []
    },
    {
      "cell_type": "code",
      "metadata": {
        "id": "zQO8d2QbNqj0"
      },
      "source": [
        "X =np.array(df.copy())/255.0 \n",
        "\n",
        "\n",
        "X_train, X_test, Y_train, Y_test = train_test_split(X, y, test_size=0.30, shuffle=True, random_state=42)"
      ],
      "execution_count": 14,
      "outputs": []
    },
    {
      "cell_type": "code",
      "metadata": {
        "id": "23iKv6bDPWQl"
      },
      "source": [
        "# helper\n",
        "def ynindicator(Y):\n",
        "  N = len(Y)\n",
        "  K = len(set(Y))\n",
        "  I = np.zeros((N, K))\n",
        "  I[np.arange(N), Y] = 1\n",
        "  return I\n",
        "\n",
        "def yback(Y_test):\n",
        "  nrow, ncol = Y_test.shape\n",
        "  y_class = np.zeros(nrow,dtype=int)\n",
        "  y_resp = Y_test\n",
        "  for k in range(nrow):\n",
        "    for kk in range(K):\n",
        "      if(y_resp[k,kk] == 1):\n",
        "        y_class[k] = kk\n",
        "  Y_test = y_class.copy()\n",
        "  return Y_test\n",
        "\n",
        "X_train = np.array(X_train)\n",
        "Y_train = np.array(Y_train)\n",
        "K = len(set(Y_train))\n",
        "\n",
        "X_train = X_train.reshape(-1, Img_Size, Img_Size, 1) / 255.0\n",
        "Y_train = Y_train.astype(np.int32)\n",
        "Y_train = ynindicator(Y_train)\n",
        "\n",
        "X_test = np.array(X_test )\n",
        "Y_test = np.array(Y_test)\n",
        "X_test = X_test.reshape(-1, Img_Size, Img_Size, 1) / 255.0\n",
        "Y_test = Y_test.astype(np.int32)\n",
        "Y_test = ynindicator(Y_test)\n",
        "\n",
        "# the model will be a sequence of layers\n",
        "\n",
        "Description = '3 layers of Convolution: 32, 64, 128 '\n",
        "N1 = 200\n",
        "N2 = 10\n",
        "\n",
        "# make the CNN\n",
        "model = Sequential()\n",
        "model.add(Conv2D(input_shape=(Img_Size, Img_Size, 1), filters=32, kernel_size=(3, 3)))\n",
        "model.add(BatchNormalization())\n",
        "model.add(Activation('relu'))\n",
        "model.add(MaxPooling2D())\n",
        "\n",
        "model.add(Conv2D(filters=64, kernel_size=(3, 3)))\n",
        "model.add(BatchNormalization())\n",
        "model.add(Activation('relu'))\n",
        "model.add(MaxPooling2D())\n",
        "\n",
        "model.add(Conv2D(filters=128, kernel_size=(3, 3)))\n",
        "model.add(BatchNormalization())\n",
        "model.add(Activation('relu'))\n",
        "model.add(MaxPooling2D())\n",
        "\n",
        "model.add(Flatten())\n",
        "model.add(Dense(units=N1))\n",
        "model.add(Dropout(0.2))\n",
        "model.add(Dense(units=N2))\n",
        "model.add(Activation('relu'))\n",
        "#model.add(Dropout(0.2))\n",
        "model.add(Dense(units=K))\n",
        "model.add(Activation('softmax'))\n",
        "\n",
        "\n",
        "# list of losses: https://keras.io/losses/\n",
        "# list of optimizers: https://keras.io/optimizers/\n",
        "# list of metrics: https://keras.io/metrics/\n",
        "model.compile(\n",
        "  loss='categorical_crossentropy',\n",
        "  optimizer='adam',\n",
        "  metrics=['accuracy']\n",
        ")"
      ],
      "execution_count": 15,
      "outputs": []
    },
    {
      "cell_type": "code",
      "metadata": {
        "colab": {
          "base_uri": "https://localhost:8080/"
        },
        "id": "FpbPQ1FSRG6A",
        "outputId": "9a782457-5899-426c-b1ee-e732c260368b"
      },
      "source": [
        "\n",
        "# training the model\n",
        "r = model.fit(X_train, Y_train, validation_data=(X_test,Y_test), \n",
        "              epochs=200, batch_size=32)"
      ],
      "execution_count": 16,
      "outputs": [
        {
          "output_type": "stream",
          "text": [
            "Epoch 1/200\n",
            "11/11 [==============================] - 20s 147ms/step - loss: 0.5884 - accuracy: 0.6638 - val_loss: 0.6933 - val_accuracy: 0.4898\n",
            "Epoch 2/200\n",
            "11/11 [==============================] - 1s 50ms/step - loss: 0.3293 - accuracy: 0.8284 - val_loss: 0.6932 - val_accuracy: 0.4898\n",
            "Epoch 3/200\n",
            "11/11 [==============================] - 1s 51ms/step - loss: 0.2131 - accuracy: 0.9011 - val_loss: 0.6931 - val_accuracy: 0.4898\n",
            "Epoch 4/200\n",
            "11/11 [==============================] - 1s 50ms/step - loss: 0.1031 - accuracy: 0.9780 - val_loss: 0.6931 - val_accuracy: 0.4898\n",
            "Epoch 5/200\n",
            "11/11 [==============================] - 1s 49ms/step - loss: 0.0686 - accuracy: 0.9845 - val_loss: 0.6933 - val_accuracy: 0.4898\n",
            "Epoch 6/200\n",
            "11/11 [==============================] - 1s 52ms/step - loss: 0.0329 - accuracy: 0.9958 - val_loss: 0.6929 - val_accuracy: 0.4898\n",
            "Epoch 7/200\n",
            "11/11 [==============================] - 1s 50ms/step - loss: 0.0255 - accuracy: 0.9945 - val_loss: 0.6925 - val_accuracy: 0.5102\n",
            "Epoch 8/200\n",
            "11/11 [==============================] - 1s 49ms/step - loss: 0.0105 - accuracy: 0.9995 - val_loss: 0.6924 - val_accuracy: 0.5102\n",
            "Epoch 9/200\n",
            "11/11 [==============================] - 1s 51ms/step - loss: 0.0267 - accuracy: 0.9930 - val_loss: 0.6933 - val_accuracy: 0.4898\n",
            "Epoch 10/200\n",
            "11/11 [==============================] - 1s 51ms/step - loss: 0.0351 - accuracy: 0.9811 - val_loss: 0.6930 - val_accuracy: 0.4898\n",
            "Epoch 11/200\n",
            "11/11 [==============================] - 1s 51ms/step - loss: 0.0338 - accuracy: 0.9871 - val_loss: 0.6968 - val_accuracy: 0.4898\n",
            "Epoch 12/200\n",
            "11/11 [==============================] - 1s 53ms/step - loss: 0.0278 - accuracy: 0.9856 - val_loss: 0.6914 - val_accuracy: 0.5102\n",
            "Epoch 13/200\n",
            "11/11 [==============================] - 1s 51ms/step - loss: 0.0520 - accuracy: 0.9958 - val_loss: 0.6910 - val_accuracy: 0.5102\n",
            "Epoch 14/200\n",
            "11/11 [==============================] - 1s 50ms/step - loss: 0.0248 - accuracy: 0.9868 - val_loss: 0.6911 - val_accuracy: 0.5102\n",
            "Epoch 15/200\n",
            "11/11 [==============================] - 1s 52ms/step - loss: 0.0168 - accuracy: 0.9913 - val_loss: 0.6932 - val_accuracy: 0.5102\n",
            "Epoch 16/200\n",
            "11/11 [==============================] - 1s 49ms/step - loss: 0.0123 - accuracy: 0.9983 - val_loss: 0.6900 - val_accuracy: 0.5102\n",
            "Epoch 17/200\n",
            "11/11 [==============================] - 1s 50ms/step - loss: 0.0083 - accuracy: 1.0000 - val_loss: 0.6893 - val_accuracy: 0.5782\n",
            "Epoch 18/200\n",
            "11/11 [==============================] - 1s 51ms/step - loss: 0.0059 - accuracy: 1.0000 - val_loss: 0.6905 - val_accuracy: 0.4966\n",
            "Epoch 19/200\n",
            "11/11 [==============================] - 1s 52ms/step - loss: 0.0074 - accuracy: 1.0000 - val_loss: 0.6903 - val_accuracy: 0.6599\n",
            "Epoch 20/200\n",
            "11/11 [==============================] - 1s 53ms/step - loss: 0.0024 - accuracy: 1.0000 - val_loss: 0.6885 - val_accuracy: 0.5102\n",
            "Epoch 21/200\n",
            "11/11 [==============================] - 1s 51ms/step - loss: 0.0016 - accuracy: 1.0000 - val_loss: 0.6884 - val_accuracy: 0.5102\n",
            "Epoch 22/200\n",
            "11/11 [==============================] - 1s 51ms/step - loss: 0.0026 - accuracy: 1.0000 - val_loss: 0.6862 - val_accuracy: 0.5102\n",
            "Epoch 23/200\n",
            "11/11 [==============================] - 1s 51ms/step - loss: 0.0014 - accuracy: 1.0000 - val_loss: 0.6864 - val_accuracy: 0.5102\n",
            "Epoch 24/200\n",
            "11/11 [==============================] - 1s 51ms/step - loss: 0.0013 - accuracy: 1.0000 - val_loss: 0.6890 - val_accuracy: 0.5102\n",
            "Epoch 25/200\n",
            "11/11 [==============================] - 1s 50ms/step - loss: 3.9854e-04 - accuracy: 1.0000 - val_loss: 0.6934 - val_accuracy: 0.5102\n",
            "Epoch 26/200\n",
            "11/11 [==============================] - 1s 51ms/step - loss: 9.3304e-04 - accuracy: 1.0000 - val_loss: 0.6999 - val_accuracy: 0.5102\n",
            "Epoch 27/200\n",
            "11/11 [==============================] - 1s 50ms/step - loss: 6.5498e-04 - accuracy: 1.0000 - val_loss: 0.7081 - val_accuracy: 0.5102\n",
            "Epoch 28/200\n",
            "11/11 [==============================] - 1s 50ms/step - loss: 4.3456e-04 - accuracy: 1.0000 - val_loss: 0.7166 - val_accuracy: 0.5102\n",
            "Epoch 29/200\n",
            "11/11 [==============================] - 1s 50ms/step - loss: 3.1851e-04 - accuracy: 1.0000 - val_loss: 0.7259 - val_accuracy: 0.5102\n",
            "Epoch 30/200\n",
            "11/11 [==============================] - 1s 52ms/step - loss: 2.7731e-04 - accuracy: 1.0000 - val_loss: 0.7371 - val_accuracy: 0.5102\n",
            "Epoch 31/200\n",
            "11/11 [==============================] - 1s 50ms/step - loss: 4.1392e-04 - accuracy: 1.0000 - val_loss: 0.7509 - val_accuracy: 0.5102\n",
            "Epoch 32/200\n",
            "11/11 [==============================] - 1s 50ms/step - loss: 1.8961e-04 - accuracy: 1.0000 - val_loss: 0.7663 - val_accuracy: 0.5102\n",
            "Epoch 33/200\n",
            "11/11 [==============================] - 1s 51ms/step - loss: 3.5480e-04 - accuracy: 1.0000 - val_loss: 0.7734 - val_accuracy: 0.5102\n",
            "Epoch 34/200\n",
            "11/11 [==============================] - 1s 51ms/step - loss: 2.5783e-04 - accuracy: 1.0000 - val_loss: 0.7821 - val_accuracy: 0.5102\n",
            "Epoch 35/200\n",
            "11/11 [==============================] - 1s 51ms/step - loss: 3.4326e-04 - accuracy: 1.0000 - val_loss: 0.7805 - val_accuracy: 0.5102\n",
            "Epoch 36/200\n",
            "11/11 [==============================] - 1s 51ms/step - loss: 4.5203e-04 - accuracy: 1.0000 - val_loss: 0.7721 - val_accuracy: 0.5102\n",
            "Epoch 37/200\n",
            "11/11 [==============================] - 1s 52ms/step - loss: 4.3314e-04 - accuracy: 1.0000 - val_loss: 0.8689 - val_accuracy: 0.5102\n",
            "Epoch 38/200\n",
            "11/11 [==============================] - 1s 53ms/step - loss: 0.0014 - accuracy: 1.0000 - val_loss: 0.7978 - val_accuracy: 0.5102\n",
            "Epoch 39/200\n",
            "11/11 [==============================] - 1s 52ms/step - loss: 7.6844e-04 - accuracy: 1.0000 - val_loss: 0.7407 - val_accuracy: 0.5102\n",
            "Epoch 40/200\n",
            "11/11 [==============================] - 1s 50ms/step - loss: 6.9287e-04 - accuracy: 1.0000 - val_loss: 0.8210 - val_accuracy: 0.5102\n",
            "Epoch 41/200\n",
            "11/11 [==============================] - 1s 51ms/step - loss: 0.0021 - accuracy: 1.0000 - val_loss: 1.8093 - val_accuracy: 0.5102\n",
            "Epoch 42/200\n",
            "11/11 [==============================] - 1s 52ms/step - loss: 7.5250e-04 - accuracy: 1.0000 - val_loss: 2.5208 - val_accuracy: 0.5102\n",
            "Epoch 43/200\n",
            "11/11 [==============================] - 1s 50ms/step - loss: 0.0016 - accuracy: 0.9995 - val_loss: 2.8140 - val_accuracy: 0.5102\n",
            "Epoch 44/200\n",
            "11/11 [==============================] - 1s 51ms/step - loss: 0.0155 - accuracy: 0.9933 - val_loss: 0.9485 - val_accuracy: 0.5102\n",
            "Epoch 45/200\n",
            "11/11 [==============================] - 1s 51ms/step - loss: 0.0606 - accuracy: 0.9808 - val_loss: 4.9473 - val_accuracy: 0.5102\n",
            "Epoch 46/200\n",
            "11/11 [==============================] - 1s 52ms/step - loss: 0.0331 - accuracy: 0.9850 - val_loss: 9.9641 - val_accuracy: 0.5102\n",
            "Epoch 47/200\n",
            "11/11 [==============================] - 1s 50ms/step - loss: 0.0385 - accuracy: 0.9914 - val_loss: 29.6145 - val_accuracy: 0.5102\n",
            "Epoch 48/200\n",
            "11/11 [==============================] - 1s 51ms/step - loss: 0.0091 - accuracy: 0.9959 - val_loss: 39.0557 - val_accuracy: 0.5102\n",
            "Epoch 49/200\n",
            "11/11 [==============================] - 1s 50ms/step - loss: 0.0078 - accuracy: 0.9985 - val_loss: 31.0946 - val_accuracy: 0.5102\n",
            "Epoch 50/200\n",
            "11/11 [==============================] - 1s 51ms/step - loss: 0.0036 - accuracy: 0.9990 - val_loss: 28.9232 - val_accuracy: 0.5102\n",
            "Epoch 51/200\n",
            "11/11 [==============================] - 1s 51ms/step - loss: 0.0014 - accuracy: 1.0000 - val_loss: 26.3151 - val_accuracy: 0.5102\n",
            "Epoch 52/200\n",
            "11/11 [==============================] - 1s 49ms/step - loss: 0.0018 - accuracy: 1.0000 - val_loss: 29.6296 - val_accuracy: 0.5102\n",
            "Epoch 53/200\n",
            "11/11 [==============================] - 1s 50ms/step - loss: 3.7216e-04 - accuracy: 1.0000 - val_loss: 32.3727 - val_accuracy: 0.5102\n",
            "Epoch 54/200\n",
            "11/11 [==============================] - 1s 50ms/step - loss: 3.6342e-04 - accuracy: 1.0000 - val_loss: 32.9385 - val_accuracy: 0.5102\n",
            "Epoch 55/200\n",
            "11/11 [==============================] - 1s 51ms/step - loss: 3.6924e-04 - accuracy: 1.0000 - val_loss: 32.3553 - val_accuracy: 0.5102\n",
            "Epoch 56/200\n",
            "11/11 [==============================] - 1s 49ms/step - loss: 3.2318e-04 - accuracy: 1.0000 - val_loss: 31.5045 - val_accuracy: 0.5102\n",
            "Epoch 57/200\n",
            "11/11 [==============================] - 1s 52ms/step - loss: 3.9398e-04 - accuracy: 1.0000 - val_loss: 30.9985 - val_accuracy: 0.5102\n",
            "Epoch 58/200\n",
            "11/11 [==============================] - 1s 50ms/step - loss: 3.8958e-04 - accuracy: 1.0000 - val_loss: 29.9212 - val_accuracy: 0.5102\n",
            "Epoch 59/200\n",
            "11/11 [==============================] - 1s 50ms/step - loss: 5.9422e-04 - accuracy: 1.0000 - val_loss: 28.1722 - val_accuracy: 0.5102\n",
            "Epoch 60/200\n",
            "11/11 [==============================] - 1s 50ms/step - loss: 1.9305e-04 - accuracy: 1.0000 - val_loss: 26.7075 - val_accuracy: 0.5102\n",
            "Epoch 61/200\n",
            "11/11 [==============================] - 1s 50ms/step - loss: 4.5351e-04 - accuracy: 1.0000 - val_loss: 25.2623 - val_accuracy: 0.5102\n",
            "Epoch 62/200\n",
            "11/11 [==============================] - 1s 50ms/step - loss: 1.4785e-04 - accuracy: 1.0000 - val_loss: 22.6199 - val_accuracy: 0.5102\n",
            "Epoch 63/200\n",
            "11/11 [==============================] - 1s 51ms/step - loss: 4.3813e-04 - accuracy: 1.0000 - val_loss: 21.0701 - val_accuracy: 0.5102\n",
            "Epoch 64/200\n",
            "11/11 [==============================] - 1s 51ms/step - loss: 1.7349e-04 - accuracy: 1.0000 - val_loss: 19.7695 - val_accuracy: 0.5102\n",
            "Epoch 65/200\n",
            "11/11 [==============================] - 1s 53ms/step - loss: 1.9116e-04 - accuracy: 1.0000 - val_loss: 18.4622 - val_accuracy: 0.5102\n",
            "Epoch 66/200\n",
            "11/11 [==============================] - 1s 52ms/step - loss: 4.1411e-04 - accuracy: 1.0000 - val_loss: 18.2123 - val_accuracy: 0.5102\n",
            "Epoch 67/200\n",
            "11/11 [==============================] - 1s 50ms/step - loss: 1.2458e-04 - accuracy: 1.0000 - val_loss: 18.1553 - val_accuracy: 0.5102\n",
            "Epoch 68/200\n",
            "11/11 [==============================] - 1s 53ms/step - loss: 1.5903e-04 - accuracy: 1.0000 - val_loss: 17.0943 - val_accuracy: 0.5102\n",
            "Epoch 69/200\n",
            "11/11 [==============================] - 1s 51ms/step - loss: 1.9383e-04 - accuracy: 1.0000 - val_loss: 15.6380 - val_accuracy: 0.5102\n",
            "Epoch 70/200\n",
            "11/11 [==============================] - 1s 52ms/step - loss: 2.2189e-04 - accuracy: 1.0000 - val_loss: 14.4262 - val_accuracy: 0.5102\n",
            "Epoch 71/200\n",
            "11/11 [==============================] - 1s 51ms/step - loss: 8.0699e-05 - accuracy: 1.0000 - val_loss: 13.1860 - val_accuracy: 0.5102\n",
            "Epoch 72/200\n",
            "11/11 [==============================] - 1s 50ms/step - loss: 1.6512e-04 - accuracy: 1.0000 - val_loss: 11.9255 - val_accuracy: 0.5102\n",
            "Epoch 73/200\n",
            "11/11 [==============================] - 1s 52ms/step - loss: 1.4713e-04 - accuracy: 1.0000 - val_loss: 11.0607 - val_accuracy: 0.5102\n",
            "Epoch 74/200\n",
            "11/11 [==============================] - 1s 52ms/step - loss: 8.1780e-05 - accuracy: 1.0000 - val_loss: 10.0933 - val_accuracy: 0.5102\n",
            "Epoch 75/200\n",
            "11/11 [==============================] - 1s 56ms/step - loss: 2.0833e-04 - accuracy: 1.0000 - val_loss: 8.8203 - val_accuracy: 0.5102\n",
            "Epoch 76/200\n",
            "11/11 [==============================] - 1s 52ms/step - loss: 1.0613e-04 - accuracy: 1.0000 - val_loss: 7.5835 - val_accuracy: 0.5102\n",
            "Epoch 77/200\n",
            "11/11 [==============================] - 1s 52ms/step - loss: 7.0863e-05 - accuracy: 1.0000 - val_loss: 6.5569 - val_accuracy: 0.5102\n",
            "Epoch 78/200\n",
            "11/11 [==============================] - 1s 49ms/step - loss: 5.3365e-05 - accuracy: 1.0000 - val_loss: 5.5878 - val_accuracy: 0.5170\n",
            "Epoch 79/200\n",
            "11/11 [==============================] - 1s 52ms/step - loss: 5.0158e-05 - accuracy: 1.0000 - val_loss: 4.6566 - val_accuracy: 0.5238\n",
            "Epoch 80/200\n",
            "11/11 [==============================] - 1s 52ms/step - loss: 9.0841e-05 - accuracy: 1.0000 - val_loss: 3.9296 - val_accuracy: 0.5510\n",
            "Epoch 81/200\n",
            "11/11 [==============================] - 1s 49ms/step - loss: 1.3404e-04 - accuracy: 1.0000 - val_loss: 3.0919 - val_accuracy: 0.6190\n",
            "Epoch 82/200\n",
            "11/11 [==============================] - 1s 50ms/step - loss: 8.9266e-05 - accuracy: 1.0000 - val_loss: 2.4581 - val_accuracy: 0.6667\n",
            "Epoch 83/200\n",
            "11/11 [==============================] - 1s 49ms/step - loss: 4.5030e-05 - accuracy: 1.0000 - val_loss: 1.9309 - val_accuracy: 0.7075\n",
            "Epoch 84/200\n",
            "11/11 [==============================] - 1s 51ms/step - loss: 3.4162e-04 - accuracy: 1.0000 - val_loss: 1.1429 - val_accuracy: 0.7687\n",
            "Epoch 85/200\n",
            "11/11 [==============================] - 1s 50ms/step - loss: 7.6016e-04 - accuracy: 0.9995 - val_loss: 4.5042 - val_accuracy: 0.5578\n",
            "Epoch 86/200\n",
            "11/11 [==============================] - 1s 51ms/step - loss: 3.9227e-04 - accuracy: 1.0000 - val_loss: 13.0628 - val_accuracy: 0.5102\n",
            "Epoch 87/200\n",
            "11/11 [==============================] - 1s 51ms/step - loss: 0.0203 - accuracy: 0.9876 - val_loss: 43.2502 - val_accuracy: 0.5102\n",
            "Epoch 88/200\n",
            "11/11 [==============================] - 1s 50ms/step - loss: 0.0242 - accuracy: 0.9933 - val_loss: 52.4500 - val_accuracy: 0.5102\n",
            "Epoch 89/200\n",
            "11/11 [==============================] - 1s 50ms/step - loss: 0.0551 - accuracy: 0.9821 - val_loss: 54.9908 - val_accuracy: 0.5102\n",
            "Epoch 90/200\n",
            "11/11 [==============================] - 1s 51ms/step - loss: 0.0200 - accuracy: 0.9976 - val_loss: 58.5210 - val_accuracy: 0.5102\n",
            "Epoch 91/200\n",
            "11/11 [==============================] - 1s 52ms/step - loss: 0.0419 - accuracy: 0.9876 - val_loss: 30.4019 - val_accuracy: 0.4898\n",
            "Epoch 92/200\n",
            "11/11 [==============================] - 1s 51ms/step - loss: 0.1412 - accuracy: 0.9555 - val_loss: 55.5674 - val_accuracy: 0.5102\n",
            "Epoch 93/200\n",
            "11/11 [==============================] - 1s 50ms/step - loss: 0.0656 - accuracy: 0.9881 - val_loss: 51.0268 - val_accuracy: 0.5102\n",
            "Epoch 94/200\n",
            "11/11 [==============================] - 1s 54ms/step - loss: 0.0474 - accuracy: 0.9931 - val_loss: 62.2744 - val_accuracy: 0.5102\n",
            "Epoch 95/200\n",
            "11/11 [==============================] - 1s 54ms/step - loss: 0.0682 - accuracy: 0.9743 - val_loss: 26.5772 - val_accuracy: 0.5102\n",
            "Epoch 96/200\n",
            "11/11 [==============================] - 1s 53ms/step - loss: 0.0427 - accuracy: 0.9811 - val_loss: 13.9135 - val_accuracy: 0.5102\n",
            "Epoch 97/200\n",
            "11/11 [==============================] - 1s 53ms/step - loss: 0.0089 - accuracy: 0.9990 - val_loss: 28.3921 - val_accuracy: 0.5102\n",
            "Epoch 98/200\n",
            "11/11 [==============================] - 1s 54ms/step - loss: 0.0044 - accuracy: 1.0000 - val_loss: 32.5903 - val_accuracy: 0.5102\n",
            "Epoch 99/200\n",
            "11/11 [==============================] - 1s 50ms/step - loss: 0.0024 - accuracy: 0.9990 - val_loss: 34.5764 - val_accuracy: 0.5102\n",
            "Epoch 100/200\n",
            "11/11 [==============================] - 1s 53ms/step - loss: 3.9519e-04 - accuracy: 1.0000 - val_loss: 34.3287 - val_accuracy: 0.5102\n",
            "Epoch 101/200\n",
            "11/11 [==============================] - 1s 51ms/step - loss: 0.0014 - accuracy: 1.0000 - val_loss: 32.2075 - val_accuracy: 0.5102\n",
            "Epoch 102/200\n",
            "11/11 [==============================] - 1s 52ms/step - loss: 7.2523e-04 - accuracy: 1.0000 - val_loss: 31.3574 - val_accuracy: 0.5102\n",
            "Epoch 103/200\n",
            "11/11 [==============================] - 1s 52ms/step - loss: 5.9761e-04 - accuracy: 1.0000 - val_loss: 29.0783 - val_accuracy: 0.5102\n",
            "Epoch 104/200\n",
            "11/11 [==============================] - 1s 53ms/step - loss: 0.0018 - accuracy: 1.0000 - val_loss: 17.9800 - val_accuracy: 0.5102\n",
            "Epoch 105/200\n",
            "11/11 [==============================] - 1s 51ms/step - loss: 0.0020 - accuracy: 1.0000 - val_loss: 14.7344 - val_accuracy: 0.5102\n",
            "Epoch 106/200\n",
            "11/11 [==============================] - 1s 52ms/step - loss: 0.0026 - accuracy: 1.0000 - val_loss: 14.1880 - val_accuracy: 0.5102\n",
            "Epoch 107/200\n",
            "11/11 [==============================] - 1s 52ms/step - loss: 4.9130e-04 - accuracy: 1.0000 - val_loss: 12.6564 - val_accuracy: 0.5102\n",
            "Epoch 108/200\n",
            "11/11 [==============================] - 1s 50ms/step - loss: 3.2841e-04 - accuracy: 1.0000 - val_loss: 10.1948 - val_accuracy: 0.5102\n",
            "Epoch 109/200\n",
            "11/11 [==============================] - 1s 50ms/step - loss: 0.0045 - accuracy: 1.0000 - val_loss: 7.1393 - val_accuracy: 0.5102\n",
            "Epoch 110/200\n",
            "11/11 [==============================] - 1s 53ms/step - loss: 5.3539e-04 - accuracy: 1.0000 - val_loss: 3.2472 - val_accuracy: 0.5646\n",
            "Epoch 111/200\n",
            "11/11 [==============================] - 1s 52ms/step - loss: 7.9301e-04 - accuracy: 1.0000 - val_loss: 3.2608 - val_accuracy: 0.5646\n",
            "Epoch 112/200\n",
            "11/11 [==============================] - 1s 53ms/step - loss: 2.3268e-04 - accuracy: 1.0000 - val_loss: 3.3802 - val_accuracy: 0.5510\n",
            "Epoch 113/200\n",
            "11/11 [==============================] - 1s 51ms/step - loss: 7.4431e-05 - accuracy: 1.0000 - val_loss: 3.2004 - val_accuracy: 0.5510\n",
            "Epoch 114/200\n",
            "11/11 [==============================] - 1s 52ms/step - loss: 6.8465e-05 - accuracy: 1.0000 - val_loss: 2.6399 - val_accuracy: 0.5646\n",
            "Epoch 115/200\n",
            "11/11 [==============================] - 1s 51ms/step - loss: 2.0869e-04 - accuracy: 1.0000 - val_loss: 2.2275 - val_accuracy: 0.5918\n",
            "Epoch 116/200\n",
            "11/11 [==============================] - 1s 53ms/step - loss: 5.1250e-04 - accuracy: 1.0000 - val_loss: 1.9618 - val_accuracy: 0.6054\n",
            "Epoch 117/200\n",
            "11/11 [==============================] - 1s 51ms/step - loss: 4.8295e-05 - accuracy: 1.0000 - val_loss: 1.3920 - val_accuracy: 0.6395\n",
            "Epoch 118/200\n",
            "11/11 [==============================] - 1s 52ms/step - loss: 4.7110e-04 - accuracy: 1.0000 - val_loss: 1.3452 - val_accuracy: 0.6599\n",
            "Epoch 119/200\n",
            "11/11 [==============================] - 1s 52ms/step - loss: 2.3933e-05 - accuracy: 1.0000 - val_loss: 0.9116 - val_accuracy: 0.6871\n",
            "Epoch 120/200\n",
            "11/11 [==============================] - 1s 53ms/step - loss: 1.6395e-04 - accuracy: 1.0000 - val_loss: 0.5872 - val_accuracy: 0.7619\n",
            "Epoch 121/200\n",
            "11/11 [==============================] - 1s 50ms/step - loss: 6.5713e-05 - accuracy: 1.0000 - val_loss: 0.4413 - val_accuracy: 0.8299\n",
            "Epoch 122/200\n",
            "11/11 [==============================] - 1s 52ms/step - loss: 1.1286e-04 - accuracy: 1.0000 - val_loss: 0.2738 - val_accuracy: 0.8776\n",
            "Epoch 123/200\n",
            "11/11 [==============================] - 1s 51ms/step - loss: 4.7115e-05 - accuracy: 1.0000 - val_loss: 0.2409 - val_accuracy: 0.9320\n",
            "Epoch 124/200\n",
            "11/11 [==============================] - 1s 50ms/step - loss: 3.3324e-05 - accuracy: 1.0000 - val_loss: 0.2485 - val_accuracy: 0.8980\n",
            "Epoch 125/200\n",
            "11/11 [==============================] - 1s 52ms/step - loss: 1.1389e-04 - accuracy: 1.0000 - val_loss: 0.2404 - val_accuracy: 0.8912\n",
            "Epoch 126/200\n",
            "11/11 [==============================] - 1s 51ms/step - loss: 1.9778e-04 - accuracy: 1.0000 - val_loss: 0.1976 - val_accuracy: 0.9388\n",
            "Epoch 127/200\n",
            "11/11 [==============================] - 1s 53ms/step - loss: 3.1214e-05 - accuracy: 1.0000 - val_loss: 0.2113 - val_accuracy: 0.9456\n",
            "Epoch 128/200\n",
            "11/11 [==============================] - 1s 52ms/step - loss: 2.7198e-05 - accuracy: 1.0000 - val_loss: 0.2107 - val_accuracy: 0.9456\n",
            "Epoch 129/200\n",
            "11/11 [==============================] - 1s 51ms/step - loss: 1.0415e-04 - accuracy: 1.0000 - val_loss: 0.2405 - val_accuracy: 0.9116\n",
            "Epoch 130/200\n",
            "11/11 [==============================] - 1s 50ms/step - loss: 7.8084e-05 - accuracy: 1.0000 - val_loss: 0.2777 - val_accuracy: 0.8844\n",
            "Epoch 131/200\n",
            "11/11 [==============================] - 1s 51ms/step - loss: 3.7318e-05 - accuracy: 1.0000 - val_loss: 0.3165 - val_accuracy: 0.8639\n",
            "Epoch 132/200\n",
            "11/11 [==============================] - 1s 52ms/step - loss: 6.2608e-05 - accuracy: 1.0000 - val_loss: 0.3300 - val_accuracy: 0.8571\n",
            "Epoch 133/200\n",
            "11/11 [==============================] - 1s 51ms/step - loss: 8.3859e-05 - accuracy: 1.0000 - val_loss: 0.5260 - val_accuracy: 0.8027\n",
            "Epoch 134/200\n",
            "11/11 [==============================] - 1s 52ms/step - loss: 4.9321e-05 - accuracy: 1.0000 - val_loss: 0.8664 - val_accuracy: 0.7823\n",
            "Epoch 135/200\n",
            "11/11 [==============================] - 1s 51ms/step - loss: 2.1717e-05 - accuracy: 1.0000 - val_loss: 0.9321 - val_accuracy: 0.7483\n",
            "Epoch 136/200\n",
            "11/11 [==============================] - 1s 51ms/step - loss: 1.9160e-05 - accuracy: 1.0000 - val_loss: 0.9590 - val_accuracy: 0.7347\n",
            "Epoch 137/200\n",
            "11/11 [==============================] - 1s 50ms/step - loss: 4.9165e-04 - accuracy: 1.0000 - val_loss: 0.2961 - val_accuracy: 0.9388\n",
            "Epoch 138/200\n",
            "11/11 [==============================] - 1s 50ms/step - loss: 2.5567e-05 - accuracy: 1.0000 - val_loss: 1.3123 - val_accuracy: 0.7823\n",
            "Epoch 139/200\n",
            "11/11 [==============================] - 1s 50ms/step - loss: 3.4950e-05 - accuracy: 1.0000 - val_loss: 1.6979 - val_accuracy: 0.7483\n",
            "Epoch 140/200\n",
            "11/11 [==============================] - 1s 52ms/step - loss: 1.7986e-05 - accuracy: 1.0000 - val_loss: 1.5668 - val_accuracy: 0.7823\n",
            "Epoch 141/200\n",
            "11/11 [==============================] - 1s 49ms/step - loss: 9.6274e-05 - accuracy: 1.0000 - val_loss: 1.1575 - val_accuracy: 0.7959\n",
            "Epoch 142/200\n",
            "11/11 [==============================] - 1s 52ms/step - loss: 2.4393e-05 - accuracy: 1.0000 - val_loss: 0.9215 - val_accuracy: 0.8435\n",
            "Epoch 143/200\n",
            "11/11 [==============================] - 1s 51ms/step - loss: 2.4341e-05 - accuracy: 1.0000 - val_loss: 0.7908 - val_accuracy: 0.8776\n",
            "Epoch 144/200\n",
            "11/11 [==============================] - 1s 49ms/step - loss: 6.3762e-05 - accuracy: 1.0000 - val_loss: 0.6573 - val_accuracy: 0.8844\n",
            "Epoch 145/200\n",
            "11/11 [==============================] - 1s 51ms/step - loss: 1.9171e-05 - accuracy: 1.0000 - val_loss: 0.5249 - val_accuracy: 0.8912\n",
            "Epoch 146/200\n",
            "11/11 [==============================] - 1s 51ms/step - loss: 3.3127e-05 - accuracy: 1.0000 - val_loss: 0.4338 - val_accuracy: 0.9184\n",
            "Epoch 147/200\n",
            "11/11 [==============================] - 1s 51ms/step - loss: 6.2796e-05 - accuracy: 1.0000 - val_loss: 0.2070 - val_accuracy: 0.9592\n",
            "Epoch 148/200\n",
            "11/11 [==============================] - 1s 49ms/step - loss: 1.6597e-05 - accuracy: 1.0000 - val_loss: 0.1818 - val_accuracy: 0.9592\n",
            "Epoch 149/200\n",
            "11/11 [==============================] - 1s 52ms/step - loss: 3.2341e-05 - accuracy: 1.0000 - val_loss: 0.1851 - val_accuracy: 0.9660\n",
            "Epoch 150/200\n",
            "11/11 [==============================] - 1s 50ms/step - loss: 2.4443e-05 - accuracy: 1.0000 - val_loss: 0.1964 - val_accuracy: 0.9592\n",
            "Epoch 151/200\n",
            "11/11 [==============================] - 1s 51ms/step - loss: 1.1242e-05 - accuracy: 1.0000 - val_loss: 0.2098 - val_accuracy: 0.9592\n",
            "Epoch 152/200\n",
            "11/11 [==============================] - 1s 52ms/step - loss: 3.8984e-05 - accuracy: 1.0000 - val_loss: 0.2111 - val_accuracy: 0.9592\n",
            "Epoch 153/200\n",
            "11/11 [==============================] - 1s 49ms/step - loss: 2.2594e-05 - accuracy: 1.0000 - val_loss: 0.2174 - val_accuracy: 0.9592\n",
            "Epoch 154/200\n",
            "11/11 [==============================] - 1s 50ms/step - loss: 2.1110e-05 - accuracy: 1.0000 - val_loss: 0.2194 - val_accuracy: 0.9592\n",
            "Epoch 155/200\n",
            "11/11 [==============================] - 1s 50ms/step - loss: 2.5144e-04 - accuracy: 1.0000 - val_loss: 0.2559 - val_accuracy: 0.9592\n",
            "Epoch 156/200\n",
            "11/11 [==============================] - 1s 53ms/step - loss: 1.0160e-05 - accuracy: 1.0000 - val_loss: 0.3791 - val_accuracy: 0.9388\n",
            "Epoch 157/200\n",
            "11/11 [==============================] - 1s 50ms/step - loss: 2.7882e-05 - accuracy: 1.0000 - val_loss: 0.3678 - val_accuracy: 0.9456\n",
            "Epoch 158/200\n",
            "11/11 [==============================] - 1s 53ms/step - loss: 9.5196e-06 - accuracy: 1.0000 - val_loss: 0.3307 - val_accuracy: 0.9456\n",
            "Epoch 159/200\n",
            "11/11 [==============================] - 1s 52ms/step - loss: 6.8404e-05 - accuracy: 1.0000 - val_loss: 0.2873 - val_accuracy: 0.9524\n",
            "Epoch 160/200\n",
            "11/11 [==============================] - 1s 51ms/step - loss: 2.8741e-05 - accuracy: 1.0000 - val_loss: 0.2489 - val_accuracy: 0.9660\n",
            "Epoch 161/200\n",
            "11/11 [==============================] - 1s 52ms/step - loss: 1.1206e-05 - accuracy: 1.0000 - val_loss: 0.2251 - val_accuracy: 0.9660\n",
            "Epoch 162/200\n",
            "11/11 [==============================] - 1s 50ms/step - loss: 1.2314e-04 - accuracy: 1.0000 - val_loss: 0.1996 - val_accuracy: 0.9592\n",
            "Epoch 163/200\n",
            "11/11 [==============================] - 1s 52ms/step - loss: 1.7592e-05 - accuracy: 1.0000 - val_loss: 0.1959 - val_accuracy: 0.9592\n",
            "Epoch 164/200\n",
            "11/11 [==============================] - 1s 53ms/step - loss: 9.8712e-06 - accuracy: 1.0000 - val_loss: 0.1952 - val_accuracy: 0.9660\n",
            "Epoch 165/200\n",
            "11/11 [==============================] - 1s 52ms/step - loss: 5.3977e-05 - accuracy: 1.0000 - val_loss: 0.2007 - val_accuracy: 0.9660\n",
            "Epoch 166/200\n",
            "11/11 [==============================] - 1s 51ms/step - loss: 6.9226e-06 - accuracy: 1.0000 - val_loss: 0.2270 - val_accuracy: 0.9660\n",
            "Epoch 167/200\n",
            "11/11 [==============================] - 1s 53ms/step - loss: 1.6990e-05 - accuracy: 1.0000 - val_loss: 0.2151 - val_accuracy: 0.9660\n",
            "Epoch 168/200\n",
            "11/11 [==============================] - 1s 52ms/step - loss: 2.9182e-05 - accuracy: 1.0000 - val_loss: 0.2110 - val_accuracy: 0.9660\n",
            "Epoch 169/200\n",
            "11/11 [==============================] - 1s 54ms/step - loss: 1.0814e-05 - accuracy: 1.0000 - val_loss: 0.2067 - val_accuracy: 0.9660\n",
            "Epoch 170/200\n",
            "11/11 [==============================] - 1s 52ms/step - loss: 3.0099e-05 - accuracy: 1.0000 - val_loss: 0.2001 - val_accuracy: 0.9660\n",
            "Epoch 171/200\n",
            "11/11 [==============================] - 1s 52ms/step - loss: 2.0282e-05 - accuracy: 1.0000 - val_loss: 0.1954 - val_accuracy: 0.9660\n",
            "Epoch 172/200\n",
            "11/11 [==============================] - 1s 56ms/step - loss: 1.6009e-05 - accuracy: 1.0000 - val_loss: 0.1894 - val_accuracy: 0.9728\n",
            "Epoch 173/200\n",
            "11/11 [==============================] - 1s 54ms/step - loss: 6.9775e-06 - accuracy: 1.0000 - val_loss: 0.1902 - val_accuracy: 0.9728\n",
            "Epoch 174/200\n",
            "11/11 [==============================] - 1s 55ms/step - loss: 1.3737e-05 - accuracy: 1.0000 - val_loss: 0.1965 - val_accuracy: 0.9660\n",
            "Epoch 175/200\n",
            "11/11 [==============================] - 1s 56ms/step - loss: 1.3589e-04 - accuracy: 1.0000 - val_loss: 0.1911 - val_accuracy: 0.9796\n",
            "Epoch 176/200\n",
            "11/11 [==============================] - 1s 56ms/step - loss: 8.4243e-05 - accuracy: 1.0000 - val_loss: 0.1991 - val_accuracy: 0.9660\n",
            "Epoch 177/200\n",
            "11/11 [==============================] - 1s 55ms/step - loss: 8.8030e-05 - accuracy: 1.0000 - val_loss: 0.2236 - val_accuracy: 0.9592\n",
            "Epoch 178/200\n",
            "11/11 [==============================] - 1s 56ms/step - loss: 1.1462e-05 - accuracy: 1.0000 - val_loss: 0.2441 - val_accuracy: 0.9592\n",
            "Epoch 179/200\n",
            "11/11 [==============================] - 1s 54ms/step - loss: 1.2351e-05 - accuracy: 1.0000 - val_loss: 0.2525 - val_accuracy: 0.9592\n",
            "Epoch 180/200\n",
            "11/11 [==============================] - 1s 59ms/step - loss: 2.0980e-05 - accuracy: 1.0000 - val_loss: 0.2538 - val_accuracy: 0.9592\n",
            "Epoch 181/200\n",
            "11/11 [==============================] - 1s 55ms/step - loss: 3.6413e-05 - accuracy: 1.0000 - val_loss: 0.2373 - val_accuracy: 0.9592\n",
            "Epoch 182/200\n",
            "11/11 [==============================] - 1s 58ms/step - loss: 2.1863e-05 - accuracy: 1.0000 - val_loss: 0.2194 - val_accuracy: 0.9660\n",
            "Epoch 183/200\n",
            "11/11 [==============================] - 1s 52ms/step - loss: 1.1604e-05 - accuracy: 1.0000 - val_loss: 0.2129 - val_accuracy: 0.9660\n",
            "Epoch 184/200\n",
            "11/11 [==============================] - 1s 55ms/step - loss: 8.3232e-06 - accuracy: 1.0000 - val_loss: 0.2082 - val_accuracy: 0.9660\n",
            "Epoch 185/200\n",
            "11/11 [==============================] - 1s 56ms/step - loss: 2.9054e-05 - accuracy: 1.0000 - val_loss: 0.1989 - val_accuracy: 0.9660\n",
            "Epoch 186/200\n",
            "11/11 [==============================] - 1s 54ms/step - loss: 1.2697e-05 - accuracy: 1.0000 - val_loss: 0.2076 - val_accuracy: 0.9660\n",
            "Epoch 187/200\n",
            "11/11 [==============================] - 1s 58ms/step - loss: 1.2566e-05 - accuracy: 1.0000 - val_loss: 0.2153 - val_accuracy: 0.9728\n",
            "Epoch 188/200\n",
            "11/11 [==============================] - 1s 55ms/step - loss: 1.6736e-05 - accuracy: 1.0000 - val_loss: 0.2269 - val_accuracy: 0.9728\n",
            "Epoch 189/200\n",
            "11/11 [==============================] - 1s 55ms/step - loss: 4.4802e-05 - accuracy: 1.0000 - val_loss: 0.3218 - val_accuracy: 0.9456\n",
            "Epoch 190/200\n",
            "11/11 [==============================] - 1s 57ms/step - loss: 1.5369e-05 - accuracy: 1.0000 - val_loss: 0.3509 - val_accuracy: 0.9252\n",
            "Epoch 191/200\n",
            "11/11 [==============================] - 1s 56ms/step - loss: 1.1486e-05 - accuracy: 1.0000 - val_loss: 0.3396 - val_accuracy: 0.9320\n",
            "Epoch 192/200\n",
            "11/11 [==============================] - 1s 56ms/step - loss: 1.7072e-05 - accuracy: 1.0000 - val_loss: 0.3240 - val_accuracy: 0.9524\n",
            "Epoch 193/200\n",
            "11/11 [==============================] - 1s 56ms/step - loss: 1.3971e-05 - accuracy: 1.0000 - val_loss: 0.3050 - val_accuracy: 0.9524\n",
            "Epoch 194/200\n",
            "11/11 [==============================] - 1s 57ms/step - loss: 9.1477e-05 - accuracy: 1.0000 - val_loss: 0.2113 - val_accuracy: 0.9728\n",
            "Epoch 195/200\n",
            "11/11 [==============================] - 1s 56ms/step - loss: 5.9586e-06 - accuracy: 1.0000 - val_loss: 0.1957 - val_accuracy: 0.9864\n",
            "Epoch 196/200\n",
            "11/11 [==============================] - 1s 56ms/step - loss: 9.4477e-06 - accuracy: 1.0000 - val_loss: 0.2041 - val_accuracy: 0.9796\n",
            "Epoch 197/200\n",
            "11/11 [==============================] - 1s 56ms/step - loss: 2.9933e-05 - accuracy: 1.0000 - val_loss: 0.2208 - val_accuracy: 0.9728\n",
            "Epoch 198/200\n",
            "11/11 [==============================] - 1s 56ms/step - loss: 2.9387e-05 - accuracy: 1.0000 - val_loss: 0.2236 - val_accuracy: 0.9728\n",
            "Epoch 199/200\n",
            "11/11 [==============================] - 1s 58ms/step - loss: 5.1731e-05 - accuracy: 1.0000 - val_loss: 0.3914 - val_accuracy: 0.9252\n",
            "Epoch 200/200\n",
            "11/11 [==============================] - 1s 54ms/step - loss: 5.6386e-06 - accuracy: 1.0000 - val_loss: 0.3908 - val_accuracy: 0.9252\n"
          ],
          "name": "stdout"
        }
      ]
    },
    {
      "cell_type": "code",
      "metadata": {
        "id": "cSTlOSUBWMpj"
      },
      "source": [
        "Y_test = yback(Y_test)"
      ],
      "execution_count": 17,
      "outputs": []
    },
    {
      "cell_type": "code",
      "metadata": {
        "colab": {
          "base_uri": "https://localhost:8080/"
        },
        "id": "qpf0XlSARX78",
        "outputId": "ad35da97-3874-4616-b079-e838639f9508"
      },
      "source": [
        "pred_test= model.predict_classes(X_test)\n",
        "\n",
        "data = {'y_true': Y_test,'y_predict': pred_test}  # este dado esta no formato de dicionario\n",
        "\n",
        "df = pd.DataFrame(data, columns=['y_true','y_predict'])\n",
        "\n",
        "\n",
        "confusion_matrix = pd.crosstab(df['y_true'], df['y_predict'], rownames=['Actual'], colnames=['Predict'])\n",
        "print(confusion_matrix)\n",
        "\n",
        "y_true = df['y_true']\n",
        "y_pred = df['y_predict']\n",
        "\n",
        "  \n",
        "METRICS=sklearn.metrics.classification_report(y_true, y_pred)"
      ],
      "execution_count": 18,
      "outputs": [
        {
          "output_type": "stream",
          "text": [
            "/usr/local/lib/python3.7/dist-packages/keras/engine/sequential.py:450: UserWarning: `model.predict_classes()` is deprecated and will be removed after 2021-01-01. Please use instead:* `np.argmax(model.predict(x), axis=-1)`,   if your model does multi-class classification   (e.g. if it uses a `softmax` last-layer activation).* `(model.predict(x) > 0.5).astype(\"int32\")`,   if your model does binary classification   (e.g. if it uses a `sigmoid` last-layer activation).\n",
            "  warnings.warn('`model.predict_classes()` is deprecated and '\n"
          ],
          "name": "stderr"
        },
        {
          "output_type": "stream",
          "text": [
            "Predict   0   1\n",
            "Actual         \n",
            "0        62  10\n",
            "1         1  74\n"
          ],
          "name": "stdout"
        }
      ]
    },
    {
      "cell_type": "code",
      "metadata": {
        "colab": {
          "base_uri": "https://localhost:8080/"
        },
        "id": "_iFNNrlWV9tH",
        "outputId": "1d2f178d-01e4-4347-938d-93857e669e51"
      },
      "source": [
        "pred_test"
      ],
      "execution_count": 19,
      "outputs": [
        {
          "output_type": "execute_result",
          "data": {
            "text/plain": [
              "array([1, 0, 1, 1, 1, 1, 0, 0, 1, 0, 0, 0, 1, 0, 1, 0, 1, 1, 1, 0, 1, 0,\n",
              "       1, 1, 1, 0, 0, 1, 1, 1, 0, 0, 1, 1, 0, 0, 0, 0, 0, 0, 1, 1, 1, 0,\n",
              "       0, 0, 0, 1, 1, 1, 1, 0, 1, 1, 0, 0, 1, 1, 1, 0, 1, 1, 0, 1, 1, 1,\n",
              "       0, 1, 1, 1, 1, 0, 1, 1, 0, 0, 1, 1, 0, 0, 1, 1, 1, 1, 0, 1, 0, 0,\n",
              "       1, 0, 0, 1, 0, 1, 1, 0, 1, 1, 1, 0, 1, 1, 1, 1, 1, 0, 1, 1, 0, 0,\n",
              "       0, 1, 1, 1, 1, 1, 1, 1, 0, 1, 0, 0, 0, 1, 1, 0, 0, 0, 0, 0, 1, 1,\n",
              "       0, 1, 0, 1, 1, 1, 0, 0, 1, 1, 1, 0, 0, 0, 1])"
            ]
          },
          "metadata": {
            "tags": []
          },
          "execution_count": 19
        }
      ]
    },
    {
      "cell_type": "code",
      "metadata": {
        "id": "QISvYcJBgWbE",
        "colab": {
          "base_uri": "https://localhost:8080/"
        },
        "outputId": "1e526130-fdc5-4f16-c7a5-3969e3d90578"
      },
      "source": [
        "cont = 0; num =25\n",
        "img_graos = []\n",
        "Width_new = []\n",
        "img=ww[0] \n",
        "while( cont < num):\n",
        "  df=Segmenta(img)\n",
        "  df_ann =df.copy()\n",
        "  Width = df['Width']\n",
        "  del df_ann['Width']\n",
        "  result = np.array(df_ann)\n",
        "  result = result.reshape(-1, Img_Size, Img_Size, 1) / 255.0\n",
        "  prediction = model.predict_classes(result)\n",
        "  loc_grao =[];k=0\n",
        "  for i in prediction:\n",
        "    if( i == 0):\n",
        "      img_graos.append(df.iloc[k,:])\n",
        "      Width_new.append(Width.iloc[k])\n",
        "      cont = cont + 1\n",
        "    k = k +1\n",
        "img_graos = pd.DataFrame(img_graos)\n",
        "print(img_graos)"
      ],
      "execution_count": 20,
      "outputs": [
        {
          "output_type": "stream",
          "text": [
            "/usr/local/lib/python3.7/dist-packages/keras/engine/sequential.py:450: UserWarning: `model.predict_classes()` is deprecated and will be removed after 2021-01-01. Please use instead:* `np.argmax(model.predict(x), axis=-1)`,   if your model does multi-class classification   (e.g. if it uses a `softmax` last-layer activation).* `(model.predict(x) > 0.5).astype(\"int32\")`,   if your model does binary classification   (e.g. if it uses a `sigmoid` last-layer activation).\n",
            "  warnings.warn('`model.predict_classes()` is deprecated and '\n"
          ],
          "name": "stderr"
        },
        {
          "output_type": "stream",
          "text": [
            "    Width           0           1  ...         781         782         783\n",
            "3   123.0  126.321640  149.682999  ...   16.398506    9.290436    9.901316\n",
            "7   167.0   97.423691   87.658974  ...   52.425552   61.184086   70.082153\n",
            "15  108.0  218.030182  193.765427  ...    0.567901    0.587106    1.115226\n",
            "23  102.0   94.346413   97.222237  ...   78.223381   59.680515   47.980396\n",
            "26  122.0   59.502548   61.048370  ...    5.804622    0.637194    0.943563\n",
            "30  106.0   90.440369   92.909576  ...  122.928802  123.701324  125.370239\n",
            "31  135.0   80.397202   79.047409  ...   99.931244   92.554176   90.774536\n",
            "44  150.0   73.120888   75.500626  ...   62.993423   61.666309   57.215466\n",
            "17  151.0   82.716721   80.792862  ...   48.814579   48.426605   61.250690\n",
            "21  183.0   87.842781   86.051872  ...   45.935799   49.151276   51.449821\n",
            "28  167.0    0.916670    2.521317  ...    0.000000    0.000000    0.000000\n",
            "40  116.0   85.135551   84.946487  ...   91.442329  104.586212  112.882278\n",
            "6   169.0   84.213684   84.582008  ...    6.121389    5.610622    6.245894\n",
            "9   184.0    0.797259    0.492911  ...   81.352547   59.504246   57.748104\n",
            "13  191.0   95.360420   92.241592  ...   55.237606   60.445690   64.564934\n",
            "30  104.0    7.368343    8.924557  ...    0.000000    0.000000    0.000000\n",
            "36  130.0   76.548882  102.647354  ...  116.590057  110.959534   91.156929\n",
            "37  143.0  122.194916  122.018379  ...   37.029537   37.027435   35.694164\n",
            "40  144.0   51.272377   36.206791  ...   54.276237   48.660496   51.581020\n",
            "42  121.0  110.850151  102.764091  ...   97.365143   98.391228   90.756912\n",
            "43  151.0   86.926399   83.486473  ...  109.654099   80.291130   84.541115\n",
            "49  161.0  100.531189  107.321365  ...  107.013237   70.181473   44.725899\n",
            "16  114.0  107.587563  109.278549  ...   90.183136   90.341339   87.065865\n",
            "19  121.0   75.741074   88.446487  ...  121.609116  122.951576  123.912033\n",
            "26  151.0    0.206307    0.259111  ...    0.000000    0.000000    0.000000\n",
            "30  112.0   87.125000   26.062500  ...    0.000000    0.000000    0.000000\n",
            "31  114.0   65.012009   62.855034  ...    8.721760    8.445984    8.372730\n",
            "44  118.0  129.956619  127.432625  ...   88.891121   89.749214   88.467972\n",
            "49  120.0   84.902229   85.516670  ...   49.107780   47.165558   44.186668\n",
            "\n",
            "[29 rows x 785 columns]\n"
          ],
          "name": "stdout"
        }
      ]
    },
    {
      "cell_type": "code",
      "metadata": {
        "id": "6LkA4vHp-f6_"
      },
      "source": [
        "Width=np.array(Width_new)"
      ],
      "execution_count": 21,
      "outputs": []
    },
    {
      "cell_type": "code",
      "metadata": {
        "colab": {
          "base_uri": "https://localhost:8080/"
        },
        "id": "MjRbWgmX_LFH",
        "outputId": "c61c9439-eb8e-4649-e063-ae36955bba4d"
      },
      "source": [
        "!git clone https://github.com/ucfilho/marquesgabi_paper_fev_2021\n",
        "%cd marquesgabi_paper_fev_2021\n",
        "\n",
        "from Get_PSDArea_New import PSDArea\n",
        "from histogram_fev_2021 import PSD\n",
        "from GetBetterSegm import GetBetter"
      ],
      "execution_count": 22,
      "outputs": [
        {
          "output_type": "stream",
          "text": [
            "Cloning into 'marquesgabi_paper_fev_2021'...\n",
            "remote: Enumerating objects: 645, done.\u001b[K\n",
            "remote: Counting objects: 100% (406/406), done.\u001b[K\n",
            "remote: Compressing objects: 100% (404/404), done.\u001b[K\n",
            "remote: Total 645 (delta 252), reused 0 (delta 0), pack-reused 239\u001b[K\n",
            "Receiving objects: 100% (645/645), 5.39 MiB | 14.47 MiB/s, done.\n",
            "Resolving deltas: 100% (389/389), done.\n",
            "/content/marquesgabi_fev_2020/Doutorado/MarquesGabi_Routines/MarquesGabi_Routines/marquesgabi_paper_fev_2021\n"
          ],
          "name": "stdout"
        }
      ]
    },
    {
      "cell_type": "code",
      "metadata": {
        "colab": {
          "base_uri": "https://localhost:8080/"
        },
        "id": "WAG_I6FwCvFr",
        "outputId": "bbeb5fef-72e7-429a-dfee-8a2cfe688602"
      },
      "source": [
        "!git clone https://github.com/ucfilho/marquesgabi_out_2020\n",
        "%cd marquesgabi_out_2020\n",
        "PSD_imageJ = 'Areas_ImageJ.csv'\n",
        "PSD_new = pd.read_csv(PSD_imageJ)\n",
        "print(PSD_new.head(3))"
      ],
      "execution_count": 23,
      "outputs": [
        {
          "output_type": "stream",
          "text": [
            "Cloning into 'marquesgabi_out_2020'...\n",
            "remote: Enumerating objects: 146, done.\u001b[K\n",
            "remote: Counting objects: 100% (146/146), done.\u001b[K\n",
            "remote: Compressing objects: 100% (142/142), done.\u001b[K\n",
            "remote: Total 146 (delta 75), reused 0 (delta 0), pack-reused 0\u001b[K\n",
            "Receiving objects: 100% (146/146), 1.00 MiB | 7.13 MiB/s, done.\n",
            "Resolving deltas: 100% (75/75), done.\n",
            "/content/marquesgabi_fev_2020/Doutorado/MarquesGabi_Routines/MarquesGabi_Routines/marquesgabi_paper_fev_2021/marquesgabi_out_2020\n",
            "   Juntas   Area\n",
            "0       1  2.001\n",
            "1       2  0.820\n",
            "2       3  1.270\n"
          ],
          "name": "stdout"
        }
      ]
    },
    {
      "cell_type": "code",
      "metadata": {
        "id": "t_1WIM8w7poO"
      },
      "source": [
        "Area_All, Diameter_All=PSDArea(img_graos) "
      ],
      "execution_count": 24,
      "outputs": []
    },
    {
      "cell_type": "code",
      "metadata": {
        "colab": {
          "base_uri": "https://localhost:8080/",
          "height": 252
        },
        "id": "PekBHQOT_6CP",
        "outputId": "60fd0b27-0ca5-459b-8e1d-199b76b3fd59"
      },
      "source": [
        "img_graos.head()"
      ],
      "execution_count": 25,
      "outputs": [
        {
          "output_type": "execute_result",
          "data": {
            "text/html": [
              "<div>\n",
              "<style scoped>\n",
              "    .dataframe tbody tr th:only-of-type {\n",
              "        vertical-align: middle;\n",
              "    }\n",
              "\n",
              "    .dataframe tbody tr th {\n",
              "        vertical-align: top;\n",
              "    }\n",
              "\n",
              "    .dataframe thead th {\n",
              "        text-align: right;\n",
              "    }\n",
              "</style>\n",
              "<table border=\"1\" class=\"dataframe\">\n",
              "  <thead>\n",
              "    <tr style=\"text-align: right;\">\n",
              "      <th></th>\n",
              "      <th>Width</th>\n",
              "      <th>0</th>\n",
              "      <th>1</th>\n",
              "      <th>2</th>\n",
              "      <th>3</th>\n",
              "      <th>4</th>\n",
              "      <th>5</th>\n",
              "      <th>6</th>\n",
              "      <th>7</th>\n",
              "      <th>8</th>\n",
              "      <th>9</th>\n",
              "      <th>10</th>\n",
              "      <th>11</th>\n",
              "      <th>12</th>\n",
              "      <th>13</th>\n",
              "      <th>14</th>\n",
              "      <th>15</th>\n",
              "      <th>16</th>\n",
              "      <th>17</th>\n",
              "      <th>18</th>\n",
              "      <th>19</th>\n",
              "      <th>20</th>\n",
              "      <th>21</th>\n",
              "      <th>22</th>\n",
              "      <th>23</th>\n",
              "      <th>24</th>\n",
              "      <th>25</th>\n",
              "      <th>26</th>\n",
              "      <th>27</th>\n",
              "      <th>28</th>\n",
              "      <th>29</th>\n",
              "      <th>30</th>\n",
              "      <th>31</th>\n",
              "      <th>32</th>\n",
              "      <th>33</th>\n",
              "      <th>34</th>\n",
              "      <th>35</th>\n",
              "      <th>36</th>\n",
              "      <th>37</th>\n",
              "      <th>38</th>\n",
              "      <th>...</th>\n",
              "      <th>744</th>\n",
              "      <th>745</th>\n",
              "      <th>746</th>\n",
              "      <th>747</th>\n",
              "      <th>748</th>\n",
              "      <th>749</th>\n",
              "      <th>750</th>\n",
              "      <th>751</th>\n",
              "      <th>752</th>\n",
              "      <th>753</th>\n",
              "      <th>754</th>\n",
              "      <th>755</th>\n",
              "      <th>756</th>\n",
              "      <th>757</th>\n",
              "      <th>758</th>\n",
              "      <th>759</th>\n",
              "      <th>760</th>\n",
              "      <th>761</th>\n",
              "      <th>762</th>\n",
              "      <th>763</th>\n",
              "      <th>764</th>\n",
              "      <th>765</th>\n",
              "      <th>766</th>\n",
              "      <th>767</th>\n",
              "      <th>768</th>\n",
              "      <th>769</th>\n",
              "      <th>770</th>\n",
              "      <th>771</th>\n",
              "      <th>772</th>\n",
              "      <th>773</th>\n",
              "      <th>774</th>\n",
              "      <th>775</th>\n",
              "      <th>776</th>\n",
              "      <th>777</th>\n",
              "      <th>778</th>\n",
              "      <th>779</th>\n",
              "      <th>780</th>\n",
              "      <th>781</th>\n",
              "      <th>782</th>\n",
              "      <th>783</th>\n",
              "    </tr>\n",
              "  </thead>\n",
              "  <tbody>\n",
              "    <tr>\n",
              "      <th>3</th>\n",
              "      <td>123.0</td>\n",
              "      <td>126.321640</td>\n",
              "      <td>149.682999</td>\n",
              "      <td>164.413239</td>\n",
              "      <td>49.738255</td>\n",
              "      <td>33.192875</td>\n",
              "      <td>49.254215</td>\n",
              "      <td>45.334988</td>\n",
              "      <td>43.010448</td>\n",
              "      <td>40.823055</td>\n",
              "      <td>45.392693</td>\n",
              "      <td>50.675259</td>\n",
              "      <td>52.933571</td>\n",
              "      <td>53.862915</td>\n",
              "      <td>54.293079</td>\n",
              "      <td>53.039135</td>\n",
              "      <td>47.661777</td>\n",
              "      <td>36.027431</td>\n",
              "      <td>18.198757</td>\n",
              "      <td>5.274639</td>\n",
              "      <td>2.333532</td>\n",
              "      <td>0.804085</td>\n",
              "      <td>0.576046</td>\n",
              "      <td>0.434926</td>\n",
              "      <td>0.153612</td>\n",
              "      <td>0.000000</td>\n",
              "      <td>0.000000</td>\n",
              "      <td>0.000000</td>\n",
              "      <td>0.000000</td>\n",
              "      <td>130.997681</td>\n",
              "      <td>155.305573</td>\n",
              "      <td>166.455811</td>\n",
              "      <td>55.335587</td>\n",
              "      <td>27.947454</td>\n",
              "      <td>42.469498</td>\n",
              "      <td>39.772686</td>\n",
              "      <td>38.032719</td>\n",
              "      <td>42.111443</td>\n",
              "      <td>48.200012</td>\n",
              "      <td>52.153481</td>\n",
              "      <td>...</td>\n",
              "      <td>56.452248</td>\n",
              "      <td>50.422501</td>\n",
              "      <td>49.113426</td>\n",
              "      <td>46.690399</td>\n",
              "      <td>43.202133</td>\n",
              "      <td>42.096836</td>\n",
              "      <td>41.532951</td>\n",
              "      <td>37.530575</td>\n",
              "      <td>29.926565</td>\n",
              "      <td>20.155790</td>\n",
              "      <td>11.573336</td>\n",
              "      <td>10.151033</td>\n",
              "      <td>59.376560</td>\n",
              "      <td>48.787495</td>\n",
              "      <td>35.002579</td>\n",
              "      <td>28.184547</td>\n",
              "      <td>27.038139</td>\n",
              "      <td>27.883009</td>\n",
              "      <td>29.120102</td>\n",
              "      <td>30.610086</td>\n",
              "      <td>36.366646</td>\n",
              "      <td>44.798138</td>\n",
              "      <td>50.030670</td>\n",
              "      <td>53.636330</td>\n",
              "      <td>53.939190</td>\n",
              "      <td>56.924713</td>\n",
              "      <td>58.507641</td>\n",
              "      <td>56.714790</td>\n",
              "      <td>53.686298</td>\n",
              "      <td>51.976738</td>\n",
              "      <td>47.356403</td>\n",
              "      <td>43.366055</td>\n",
              "      <td>41.351910</td>\n",
              "      <td>39.652523</td>\n",
              "      <td>39.981495</td>\n",
              "      <td>35.904823</td>\n",
              "      <td>24.799988</td>\n",
              "      <td>16.398506</td>\n",
              "      <td>9.290436</td>\n",
              "      <td>9.901316</td>\n",
              "    </tr>\n",
              "    <tr>\n",
              "      <th>7</th>\n",
              "      <td>167.0</td>\n",
              "      <td>97.423691</td>\n",
              "      <td>87.658974</td>\n",
              "      <td>76.917931</td>\n",
              "      <td>71.742767</td>\n",
              "      <td>73.053711</td>\n",
              "      <td>81.083908</td>\n",
              "      <td>86.514359</td>\n",
              "      <td>94.943138</td>\n",
              "      <td>109.098030</td>\n",
              "      <td>117.098175</td>\n",
              "      <td>116.671165</td>\n",
              "      <td>118.585686</td>\n",
              "      <td>121.194786</td>\n",
              "      <td>119.774300</td>\n",
              "      <td>120.165306</td>\n",
              "      <td>125.201630</td>\n",
              "      <td>125.296509</td>\n",
              "      <td>123.500175</td>\n",
              "      <td>123.093384</td>\n",
              "      <td>122.895599</td>\n",
              "      <td>126.977280</td>\n",
              "      <td>130.982162</td>\n",
              "      <td>129.934357</td>\n",
              "      <td>123.833305</td>\n",
              "      <td>115.457214</td>\n",
              "      <td>101.210518</td>\n",
              "      <td>92.874939</td>\n",
              "      <td>84.684898</td>\n",
              "      <td>97.289803</td>\n",
              "      <td>88.071686</td>\n",
              "      <td>76.544876</td>\n",
              "      <td>71.917610</td>\n",
              "      <td>74.739113</td>\n",
              "      <td>89.128082</td>\n",
              "      <td>105.299545</td>\n",
              "      <td>112.015961</td>\n",
              "      <td>120.726288</td>\n",
              "      <td>122.380699</td>\n",
              "      <td>123.050529</td>\n",
              "      <td>...</td>\n",
              "      <td>131.762756</td>\n",
              "      <td>209.716125</td>\n",
              "      <td>184.262344</td>\n",
              "      <td>57.778625</td>\n",
              "      <td>89.728546</td>\n",
              "      <td>93.389839</td>\n",
              "      <td>106.122665</td>\n",
              "      <td>86.259293</td>\n",
              "      <td>39.189075</td>\n",
              "      <td>55.030876</td>\n",
              "      <td>62.505760</td>\n",
              "      <td>70.034111</td>\n",
              "      <td>84.135605</td>\n",
              "      <td>84.168526</td>\n",
              "      <td>85.057159</td>\n",
              "      <td>85.625412</td>\n",
              "      <td>87.072502</td>\n",
              "      <td>87.679199</td>\n",
              "      <td>84.295395</td>\n",
              "      <td>85.037971</td>\n",
              "      <td>84.173798</td>\n",
              "      <td>77.764107</td>\n",
              "      <td>64.769699</td>\n",
              "      <td>60.940159</td>\n",
              "      <td>103.215675</td>\n",
              "      <td>234.335190</td>\n",
              "      <td>209.339142</td>\n",
              "      <td>192.290482</td>\n",
              "      <td>154.007858</td>\n",
              "      <td>145.467941</td>\n",
              "      <td>116.190910</td>\n",
              "      <td>73.543549</td>\n",
              "      <td>95.629074</td>\n",
              "      <td>97.699783</td>\n",
              "      <td>116.377754</td>\n",
              "      <td>88.860878</td>\n",
              "      <td>33.451328</td>\n",
              "      <td>52.425552</td>\n",
              "      <td>61.184086</td>\n",
              "      <td>70.082153</td>\n",
              "    </tr>\n",
              "    <tr>\n",
              "      <th>15</th>\n",
              "      <td>108.0</td>\n",
              "      <td>218.030182</td>\n",
              "      <td>193.765427</td>\n",
              "      <td>93.824417</td>\n",
              "      <td>105.836761</td>\n",
              "      <td>119.075439</td>\n",
              "      <td>117.146774</td>\n",
              "      <td>105.367622</td>\n",
              "      <td>94.094650</td>\n",
              "      <td>89.596710</td>\n",
              "      <td>88.747597</td>\n",
              "      <td>90.000000</td>\n",
              "      <td>89.371735</td>\n",
              "      <td>84.485596</td>\n",
              "      <td>76.112480</td>\n",
              "      <td>68.941017</td>\n",
              "      <td>63.094643</td>\n",
              "      <td>62.178326</td>\n",
              "      <td>62.595333</td>\n",
              "      <td>61.554184</td>\n",
              "      <td>60.814812</td>\n",
              "      <td>55.916321</td>\n",
              "      <td>51.038406</td>\n",
              "      <td>50.347050</td>\n",
              "      <td>51.204388</td>\n",
              "      <td>53.203018</td>\n",
              "      <td>59.846367</td>\n",
              "      <td>67.248283</td>\n",
              "      <td>73.640602</td>\n",
              "      <td>215.584351</td>\n",
              "      <td>233.042511</td>\n",
              "      <td>183.179688</td>\n",
              "      <td>90.348419</td>\n",
              "      <td>112.336075</td>\n",
              "      <td>115.396431</td>\n",
              "      <td>108.735245</td>\n",
              "      <td>96.001373</td>\n",
              "      <td>88.485588</td>\n",
              "      <td>88.004112</td>\n",
              "      <td>85.545952</td>\n",
              "      <td>...</td>\n",
              "      <td>0.868313</td>\n",
              "      <td>1.181070</td>\n",
              "      <td>1.834019</td>\n",
              "      <td>1.426612</td>\n",
              "      <td>1.482853</td>\n",
              "      <td>1.042524</td>\n",
              "      <td>1.160494</td>\n",
              "      <td>1.241427</td>\n",
              "      <td>1.200274</td>\n",
              "      <td>1.271605</td>\n",
              "      <td>1.554184</td>\n",
              "      <td>2.679012</td>\n",
              "      <td>1.935528</td>\n",
              "      <td>0.705075</td>\n",
              "      <td>0.000000</td>\n",
              "      <td>0.067215</td>\n",
              "      <td>0.000000</td>\n",
              "      <td>0.000000</td>\n",
              "      <td>0.000000</td>\n",
              "      <td>0.057613</td>\n",
              "      <td>0.633745</td>\n",
              "      <td>0.086420</td>\n",
              "      <td>0.000000</td>\n",
              "      <td>0.016461</td>\n",
              "      <td>0.644719</td>\n",
              "      <td>0.673525</td>\n",
              "      <td>0.259259</td>\n",
              "      <td>0.441701</td>\n",
              "      <td>0.469136</td>\n",
              "      <td>0.780521</td>\n",
              "      <td>0.876543</td>\n",
              "      <td>0.474623</td>\n",
              "      <td>0.289438</td>\n",
              "      <td>0.172840</td>\n",
              "      <td>0.271605</td>\n",
              "      <td>0.035665</td>\n",
              "      <td>0.533608</td>\n",
              "      <td>0.567901</td>\n",
              "      <td>0.587106</td>\n",
              "      <td>1.115226</td>\n",
              "    </tr>\n",
              "    <tr>\n",
              "      <th>23</th>\n",
              "      <td>102.0</td>\n",
              "      <td>94.346413</td>\n",
              "      <td>97.222237</td>\n",
              "      <td>99.785477</td>\n",
              "      <td>99.092667</td>\n",
              "      <td>98.594780</td>\n",
              "      <td>99.333725</td>\n",
              "      <td>97.554794</td>\n",
              "      <td>98.869675</td>\n",
              "      <td>99.618233</td>\n",
              "      <td>100.347183</td>\n",
              "      <td>93.888519</td>\n",
              "      <td>92.098427</td>\n",
              "      <td>91.931190</td>\n",
              "      <td>92.921577</td>\n",
              "      <td>92.049606</td>\n",
              "      <td>90.458672</td>\n",
              "      <td>88.937721</td>\n",
              "      <td>88.640915</td>\n",
              "      <td>90.892357</td>\n",
              "      <td>94.359489</td>\n",
              "      <td>99.519806</td>\n",
              "      <td>102.694748</td>\n",
              "      <td>107.710503</td>\n",
              "      <td>110.543266</td>\n",
              "      <td>111.032303</td>\n",
              "      <td>111.828156</td>\n",
              "      <td>112.424072</td>\n",
              "      <td>109.356033</td>\n",
              "      <td>97.905823</td>\n",
              "      <td>101.250679</td>\n",
              "      <td>104.000786</td>\n",
              "      <td>104.350639</td>\n",
              "      <td>103.011543</td>\n",
              "      <td>100.245682</td>\n",
              "      <td>98.492897</td>\n",
              "      <td>97.188782</td>\n",
              "      <td>99.068451</td>\n",
              "      <td>97.916580</td>\n",
              "      <td>93.567871</td>\n",
              "      <td>...</td>\n",
              "      <td>50.549793</td>\n",
              "      <td>46.350639</td>\n",
              "      <td>55.567863</td>\n",
              "      <td>76.697426</td>\n",
              "      <td>97.567490</td>\n",
              "      <td>109.421394</td>\n",
              "      <td>114.580559</td>\n",
              "      <td>114.019234</td>\n",
              "      <td>111.801239</td>\n",
              "      <td>104.554802</td>\n",
              "      <td>94.151871</td>\n",
              "      <td>72.158791</td>\n",
              "      <td>94.672829</td>\n",
              "      <td>95.124954</td>\n",
              "      <td>95.435226</td>\n",
              "      <td>94.863907</td>\n",
              "      <td>94.826996</td>\n",
              "      <td>95.225311</td>\n",
              "      <td>99.288742</td>\n",
              "      <td>100.658218</td>\n",
              "      <td>100.181091</td>\n",
              "      <td>102.277206</td>\n",
              "      <td>101.772789</td>\n",
              "      <td>99.500587</td>\n",
              "      <td>98.396782</td>\n",
              "      <td>96.416771</td>\n",
              "      <td>91.871216</td>\n",
              "      <td>81.794319</td>\n",
              "      <td>57.606308</td>\n",
              "      <td>44.361404</td>\n",
              "      <td>48.639759</td>\n",
              "      <td>51.341026</td>\n",
              "      <td>60.805470</td>\n",
              "      <td>78.973862</td>\n",
              "      <td>90.958870</td>\n",
              "      <td>93.934647</td>\n",
              "      <td>89.603622</td>\n",
              "      <td>78.223381</td>\n",
              "      <td>59.680515</td>\n",
              "      <td>47.980396</td>\n",
              "    </tr>\n",
              "    <tr>\n",
              "      <th>26</th>\n",
              "      <td>122.0</td>\n",
              "      <td>59.502548</td>\n",
              "      <td>61.048370</td>\n",
              "      <td>60.705727</td>\n",
              "      <td>62.353127</td>\n",
              "      <td>63.745224</td>\n",
              "      <td>64.448799</td>\n",
              "      <td>67.382690</td>\n",
              "      <td>65.985756</td>\n",
              "      <td>62.854336</td>\n",
              "      <td>62.263634</td>\n",
              "      <td>61.737972</td>\n",
              "      <td>59.830421</td>\n",
              "      <td>60.321419</td>\n",
              "      <td>59.653858</td>\n",
              "      <td>59.345329</td>\n",
              "      <td>59.810265</td>\n",
              "      <td>60.091640</td>\n",
              "      <td>57.084923</td>\n",
              "      <td>53.662186</td>\n",
              "      <td>43.755707</td>\n",
              "      <td>34.008598</td>\n",
              "      <td>16.520288</td>\n",
              "      <td>7.384573</td>\n",
              "      <td>4.740661</td>\n",
              "      <td>1.719699</td>\n",
              "      <td>1.270895</td>\n",
              "      <td>1.052674</td>\n",
              "      <td>1.000000</td>\n",
              "      <td>59.541252</td>\n",
              "      <td>59.131683</td>\n",
              "      <td>57.181400</td>\n",
              "      <td>59.163124</td>\n",
              "      <td>61.310398</td>\n",
              "      <td>61.558178</td>\n",
              "      <td>62.936035</td>\n",
              "      <td>63.368717</td>\n",
              "      <td>60.409836</td>\n",
              "      <td>59.476212</td>\n",
              "      <td>60.169037</td>\n",
              "      <td>...</td>\n",
              "      <td>24.588013</td>\n",
              "      <td>22.142433</td>\n",
              "      <td>20.885782</td>\n",
              "      <td>21.580219</td>\n",
              "      <td>21.020155</td>\n",
              "      <td>16.038698</td>\n",
              "      <td>14.990593</td>\n",
              "      <td>15.334049</td>\n",
              "      <td>12.862402</td>\n",
              "      <td>7.694437</td>\n",
              "      <td>1.575652</td>\n",
              "      <td>0.311475</td>\n",
              "      <td>105.037613</td>\n",
              "      <td>104.572693</td>\n",
              "      <td>90.728035</td>\n",
              "      <td>11.607901</td>\n",
              "      <td>10.884171</td>\n",
              "      <td>17.423273</td>\n",
              "      <td>18.204247</td>\n",
              "      <td>20.803009</td>\n",
              "      <td>18.124161</td>\n",
              "      <td>16.436977</td>\n",
              "      <td>59.911316</td>\n",
              "      <td>93.336189</td>\n",
              "      <td>94.113678</td>\n",
              "      <td>92.465195</td>\n",
              "      <td>84.793327</td>\n",
              "      <td>72.632088</td>\n",
              "      <td>41.500130</td>\n",
              "      <td>25.492609</td>\n",
              "      <td>22.899757</td>\n",
              "      <td>23.123352</td>\n",
              "      <td>24.134373</td>\n",
              "      <td>19.158291</td>\n",
              "      <td>16.378391</td>\n",
              "      <td>15.020156</td>\n",
              "      <td>12.452835</td>\n",
              "      <td>5.804622</td>\n",
              "      <td>0.637194</td>\n",
              "      <td>0.943563</td>\n",
              "    </tr>\n",
              "  </tbody>\n",
              "</table>\n",
              "<p>5 rows × 785 columns</p>\n",
              "</div>"
            ],
            "text/plain": [
              "    Width           0           1  ...        781        782        783\n",
              "3   123.0  126.321640  149.682999  ...  16.398506   9.290436   9.901316\n",
              "7   167.0   97.423691   87.658974  ...  52.425552  61.184086  70.082153\n",
              "15  108.0  218.030182  193.765427  ...   0.567901   0.587106   1.115226\n",
              "23  102.0   94.346413   97.222237  ...  78.223381  59.680515  47.980396\n",
              "26  122.0   59.502548   61.048370  ...   5.804622   0.637194   0.943563\n",
              "\n",
              "[5 rows x 785 columns]"
            ]
          },
          "metadata": {
            "tags": []
          },
          "execution_count": 25
        }
      ]
    },
    {
      "cell_type": "code",
      "metadata": {
        "id": "4vmhG2LgCabC"
      },
      "source": [
        "Area = np.array(PSD_new['Area'])\n",
        "diam_teste = []\n",
        "for A in Area:\n",
        "  diam_teste.append((4*A/np.pi)**0.5) \n",
        "\n",
        "Diam1 = [ (4*A/np.pi)**0.5 for A in Area]"
      ],
      "execution_count": 26,
      "outputs": []
    },
    {
      "cell_type": "code",
      "metadata": {
        "colab": {
          "base_uri": "https://localhost:8080/"
        },
        "id": "9J705kDqsE8f",
        "outputId": "2508efc9-f7f4-428e-9ae4-d50cf9bb7965"
      },
      "source": [
        "X.shape"
      ],
      "execution_count": 27,
      "outputs": [
        {
          "output_type": "execute_result",
          "data": {
            "text/plain": [
              "(490, 784)"
            ]
          },
          "metadata": {
            "tags": []
          },
          "execution_count": 27
        }
      ]
    },
    {
      "cell_type": "code",
      "metadata": {
        "id": "3wCFDX8esLoQ"
      },
      "source": [
        ""
      ],
      "execution_count": 27,
      "outputs": []
    },
    {
      "cell_type": "code",
      "metadata": {
        "id": "Hn-F050Hr9Ui"
      },
      "source": [
        ""
      ],
      "execution_count": 27,
      "outputs": []
    },
    {
      "cell_type": "code",
      "metadata": {
        "colab": {
          "base_uri": "https://localhost:8080/",
          "height": 284
        },
        "id": "Vfk_fNXGDK5_",
        "outputId": "383d0a3b-a693-4a9c-d62e-1a0f40d447bc"
      },
      "source": [
        " wt1 = np.ones(len(Diam1)) / len(Diam1)*100\n",
        " wt2 = np.ones(len(Diameter_All)) / len(Diameter_All)*100\n",
        " X = pd.DataFrame([Diam1,Diameter_All])\n",
        " wts = pd.DataFrame([wt1,wt2])\n",
        "plt.hist(X,weights=wts)\n",
        "plt.legend(['Image J','CNN'])"
      ],
      "execution_count": 28,
      "outputs": [
        {
          "output_type": "execute_result",
          "data": {
            "text/plain": [
              "<matplotlib.legend.Legend at 0x7febc7b97d90>"
            ]
          },
          "metadata": {
            "tags": []
          },
          "execution_count": 28
        },
        {
          "output_type": "display_data",
          "data": {
            "image/png": "[encoded data removed]",
            "text/plain": [
              "<Figure size 432x288 with 1 Axes>"
            ]
          },
          "metadata": {
            "tags": [],
            "needs_background": "light"
          }
        }
      ]
    },
    {
      "cell_type": "code",
      "metadata": {
        "id": "-nGDbBEeiUij",
        "colab": {
          "base_uri": "https://localhost:8080/",
          "height": 399
        },
        "outputId": "282c68e4-d0ba-4fee-ae34-8a0ea084aac0"
      },
      "source": [
        "# plt.hist(x, bins=bins, density=True, histtype='step', cumulative=-1,label='Reversed emp.')\n",
        "plt.hist(X, density=True, histtype='step', cumulative=True,label='Reversed emp.')"
      ],
      "execution_count": 29,
      "outputs": [
        {
          "output_type": "execute_result",
          "data": {
            "text/plain": [
              "(array([[0.07368421, 0.17894737, 0.41052632, 0.74736842, 0.88421053,\n",
              "         0.96842105, 0.97894737, 0.97894737, 0.98947368, 1.        ],\n",
              "        [0.20689655, 0.51724138, 0.72413793, 0.86206897, 0.96551724,\n",
              "         0.96551724, 1.        , 1.        , 1.        , 1.        ]]),\n",
              " array([0.74706594, 0.90410327, 1.06114059, 1.21817792, 1.37521524,\n",
              "        1.53225257, 1.68928989, 1.84632722, 2.00336454, 2.16040187,\n",
              "        2.31743919]),\n",
              " <a list of 2 Lists of Patches objects>)"
            ]
          },
          "metadata": {
            "tags": []
          },
          "execution_count": 29
        },
        {
          "output_type": "display_data",
          "data": {
            "image/png": "[encoded data removed]",
            "text/plain": [
              "<Figure size 432x288 with 1 Axes>"
            ]
          },
          "metadata": {
            "tags": [],
            "needs_background": "light"
          }
        }
      ]
    },
    {
      "cell_type": "code",
      "metadata": {
        "colab": {
          "base_uri": "https://localhost:8080/",
          "height": 282
        },
        "id": "9xENlBUUxfTu",
        "outputId": "0bdd028b-2142-47fc-cb9b-cc74c954f104"
      },
      "source": [
        "Obj = plt.hist(X, density=True, histtype='step', cumulative=True,label='Reversed emp.')\n",
        "Y1, Y2 = Obj[0]\n",
        "Rsquared = r2_score(Y1, Y2)\n",
        "print('r_squared =',Rsquared)"
      ],
      "execution_count": 30,
      "outputs": [
        {
          "output_type": "stream",
          "text": [
            "r_squared = 0.7871625525064307\n"
          ],
          "name": "stdout"
        },
        {
          "output_type": "display_data",
          "data": {
            "image/png": "[encoded data removed]",
            "text/plain": [
              "<Figure size 432x288 with 1 Axes>"
            ]
          },
          "metadata": {
            "tags": [],
            "needs_background": "light"
          }
        }
      ]
    },
    {
      "cell_type": "code",
      "metadata": {
        "id": "O2XboMiFbkaa"
      },
      "source": [
        "acc_train = r.history['accuracy'][-1]\n",
        "acc_test = r.history['val_accuracy'][-1]\n",
        "loss_train = r.history['loss'][-1]\n",
        "loss_test = r.history['val_loss'][-1]"
      ],
      "execution_count": 31,
      "outputs": []
    },
    {
      "cell_type": "code",
      "metadata": {
        "id": "euTd_-CYN1v0",
        "colab": {
          "base_uri": "https://localhost:8080/",
          "height": 17
        },
        "outputId": "f78d3774-e997-4f05-e891-4a879d9ba1ad"
      },
      "source": [
        "df = pd.DataFrame({'N1':N1, 'N2':N2,'R^2':Rsquared,\n",
        "                   'acc train':acc_train,'acc test':acc_test,\n",
        "                   'loss train':loss_train,'loss test':loss_test,\n",
        "                   'Details':Description},\n",
        "                  index= [0])\n",
        "Arq = \"output.xlsx\"\n",
        "df.to_excel(Arq)\n",
        "files.download(Arq)"
      ],
      "execution_count": 38,
      "outputs": [
        {
          "output_type": "display_data",
          "data": {
            "application/javascript": [
              "\n",
              "    async function download(id, filename, size) {\n",
              "      if (!google.colab.kernel.accessAllowed) {\n",
              "        return;\n",
              "      }\n",
              "      const div = document.createElement('div');\n",
              "      const label = document.createElement('label');\n",
              "      label.textContent = `Downloading \"${filename}\": `;\n",
              "      div.appendChild(label);\n",
              "      const progress = document.createElement('progress');\n",
              "      progress.max = size;\n",
              "      div.appendChild(progress);\n",
              "      document.body.appendChild(div);\n",
              "\n",
              "      const buffers = [];\n",
              "      let downloaded = 0;\n",
              "\n",
              "      const channel = await google.colab.kernel.comms.open(id);\n",
              "      // Send a message to notify the kernel that we're ready.\n",
              "      channel.send({})\n",
              "\n",
              "      for await (const message of channel.messages) {\n",
              "        // Send a message to notify the kernel that we're ready.\n",
              "        channel.send({})\n",
              "        if (message.buffers) {\n",
              "          for (const buffer of message.buffers) {\n",
              "            buffers.push(buffer);\n",
              "            downloaded += buffer.byteLength;\n",
              "            progress.value = downloaded;\n",
              "          }\n",
              "        }\n",
              "      }\n",
              "      const blob = new Blob(buffers, {type: 'application/binary'});\n",
              "      const a = document.createElement('a');\n",
              "      a.href = window.URL.createObjectURL(blob);\n",
              "      a.download = filename;\n",
              "      div.appendChild(a);\n",
              "      a.click();\n",
              "      div.remove();\n",
              "    }\n",
              "  "
            ],
            "text/plain": [
              "<IPython.core.display.Javascript object>"
            ]
          },
          "metadata": {
            "tags": []
          }
        },
        {
          "output_type": "display_data",
          "data": {
            "application/javascript": [
              "download(\"download_b8d52a59-e478-48e5-be1b-ffbf46ff8374\", \"output.xlsx\", 5153)"
            ],
            "text/plain": [
              "<IPython.core.display.Javascript object>"
            ]
          },
          "metadata": {
            "tags": []
          }
        }
      ]
    },
    {
      "cell_type": "code",
      "metadata": {
        "colab": {
          "base_uri": "https://localhost:8080/",
          "height": 80
        },
        "id": "-KukfpGTTKlj",
        "outputId": "46ac3b5d-f7a7-4b5a-e9e2-473ad57ea340"
      },
      "source": [
        "df"
      ],
      "execution_count": 33,
      "outputs": [
        {
          "output_type": "execute_result",
          "data": {
            "text/html": [
              "<div>\n",
              "<style scoped>\n",
              "    .dataframe tbody tr th:only-of-type {\n",
              "        vertical-align: middle;\n",
              "    }\n",
              "\n",
              "    .dataframe tbody tr th {\n",
              "        vertical-align: top;\n",
              "    }\n",
              "\n",
              "    .dataframe thead th {\n",
              "        text-align: right;\n",
              "    }\n",
              "</style>\n",
              "<table border=\"1\" class=\"dataframe\">\n",
              "  <thead>\n",
              "    <tr style=\"text-align: right;\">\n",
              "      <th></th>\n",
              "      <th>N1</th>\n",
              "      <th>N2</th>\n",
              "      <th>R^2</th>\n",
              "      <th>acc train</th>\n",
              "      <th>acc test</th>\n",
              "      <th>loss train</th>\n",
              "      <th>loss test</th>\n",
              "      <th>Details</th>\n",
              "    </tr>\n",
              "  </thead>\n",
              "  <tbody>\n",
              "    <tr>\n",
              "      <th>0</th>\n",
              "      <td>200</td>\n",
              "      <td>10</td>\n",
              "      <td>0.787163</td>\n",
              "      <td>1.0</td>\n",
              "      <td>0.92517</td>\n",
              "      <td>0.000004</td>\n",
              "      <td>0.39081</td>\n",
              "      <td>3 layers of Convolution: 32, 64, 128</td>\n",
              "    </tr>\n",
              "  </tbody>\n",
              "</table>\n",
              "</div>"
            ],
            "text/plain": [
              "    N1  N2  ...  loss test                                Details\n",
              "0  200  10  ...    0.39081  3 layers of Convolution: 32, 64, 128 \n",
              "\n",
              "[1 rows x 8 columns]"
            ]
          },
          "metadata": {
            "tags": []
          },
          "execution_count": 33
        }
      ]
    },
    {
      "cell_type": "code",
      "metadata": {
        "colab": {
          "base_uri": "https://localhost:8080/",
          "height": 385
        },
        "id": "ZZHa1j4HT9Dq",
        "outputId": "36dff135-a46a-420d-f91f-a2aebd7f954b"
      },
      "source": [
        "counts, bins, bars = plt.hist(X,weights=wts)\n",
        "print(bars)\n",
        "print(bins)\n",
        "print(counts)"
      ],
      "execution_count": 34,
      "outputs": [
        {
          "output_type": "stream",
          "text": [
            "<a list of 2 Lists of Patches objects>\n",
            "[0.74706594 0.90410327 1.06114059 1.21817792 1.37521524 1.53225257\n",
            " 1.68928989 1.84632722 2.00336454 2.16040187 2.31743919]\n",
            "[[ 7.36842105 10.52631579 23.15789474 33.68421053 13.68421053  8.42105263\n",
            "   1.05263158  0.          1.05263158  1.05263158]\n",
            " [20.68965517 31.03448276 20.68965517 13.79310345 10.34482759  0.\n",
            "   3.44827586  0.          0.          0.        ]]\n"
          ],
          "name": "stdout"
        },
        {
          "output_type": "display_data",
          "data": {
            "image/png": "[encoded data removed]",
            "text/plain": [
              "<Figure size 432x288 with 1 Axes>"
            ]
          },
          "metadata": {
            "tags": [],
            "needs_background": "light"
          }
        }
      ]
    },
    {
      "cell_type": "code",
      "metadata": {
        "colab": {
          "base_uri": "https://localhost:8080/"
        },
        "id": "8o_vDGeWUwIZ",
        "outputId": "edb1b971-b220-4e58-da51-b7eadc4717dc"
      },
      "source": [
        "print(counts.sum())"
      ],
      "execution_count": 35,
      "outputs": [
        {
          "output_type": "stream",
          "text": [
            "200.0000000000001\n"
          ],
          "name": "stdout"
        }
      ]
    },
    {
      "cell_type": "code",
      "metadata": {
        "colab": {
          "base_uri": "https://localhost:8080/",
          "height": 335
        },
        "id": "KcH52-6iJQ8t",
        "outputId": "5802e5b1-01ef-41f2-95c9-f7395ffa45a4"
      },
      "source": [
        "\n",
        "plt.hist([Diam1,Diameter_All])\n",
        "plt.legend(['Image J','CNN'])\n"
      ],
      "execution_count": 36,
      "outputs": [
        {
          "output_type": "stream",
          "text": [
            "/usr/local/lib/python3.7/dist-packages/numpy/core/_asarray.py:83: VisibleDeprecationWarning: Creating an ndarray from ragged nested sequences (which is a list-or-tuple of lists-or-tuples-or ndarrays with different lengths or shapes) is deprecated. If you meant to do this, you must specify 'dtype=object' when creating the ndarray\n",
            "  return array(a, dtype, copy=False, order=order)\n"
          ],
          "name": "stderr"
        },
        {
          "output_type": "execute_result",
          "data": {
            "text/plain": [
              "<matplotlib.legend.Legend at 0x7febbdbd1210>"
            ]
          },
          "metadata": {
            "tags": []
          },
          "execution_count": 36
        },
        {
          "output_type": "display_data",
          "data": {
            "image/png": "[encoded data removed]",
            "text/plain": [
              "<Figure size 432x288 with 1 Axes>"
            ]
          },
          "metadata": {
            "tags": [],
            "needs_background": "light"
          }
        }
      ]
    },
    {
      "cell_type": "code",
      "metadata": {
        "colab": {
          "base_uri": "https://localhost:8080/"
        },
        "id": "r11AxFK_JIii",
        "outputId": "82809be8-628b-4914-9290-8d54dfea33bf"
      },
      "source": [
        "[Diam1,Diameter_All]"
      ],
      "execution_count": 37,
      "outputs": [
        {
          "output_type": "execute_result",
          "data": {
            "text/plain": [
              "[[1.59616801403081,\n",
              "  1.0217907939900581,\n",
              "  1.2716187407449044,\n",
              "  1.104429030701514,\n",
              "  1.2163487785097904,\n",
              "  1.6013445735058454,\n",
              "  1.1715597420637607,\n",
              "  1.2534662333717612,\n",
              "  1.2676073151634049,\n",
              "  1.309600575274104,\n",
              "  1.292966945531582,\n",
              "  1.7658322811231006,\n",
              "  1.3564037533648712,\n",
              "  1.2407040781688483,\n",
              "  2.130217298173151,\n",
              "  1.4228319915327,\n",
              "  1.0651086490865755,\n",
              "  1.3008210311003705,\n",
              "  1.336545951796433,\n",
              "  0.8927754224911278,\n",
              "  1.4494292838262302,\n",
              "  1.4052738287907582,\n",
              "  1.6421697097891788,\n",
              "  1.2329833804288621,\n",
              "  1.19042665178928,\n",
              "  1.1682948223612457,\n",
              "  1.1518314137121108,\n",
              "  0.9607802401865855,\n",
              "  2.317439190074449,\n",
              "  1.0591147430338594,\n",
              "  1.4308630919602832,\n",
              "  0.7535680705496237,\n",
              "  0.8608283307581511,\n",
              "  1.2776122636975893,\n",
              "  1.3745862957220916,\n",
              "  1.259546137598783,\n",
              "  1.2978813187979172,\n",
              "  1.2412170838050638,\n",
              "  1.6009469708743893,\n",
              "  1.3149369953539032,\n",
              "  1.417901703622935,\n",
              "  1.2478669653497139,\n",
              "  1.1055812783082735,\n",
              "  0.9561307405997607,\n",
              "  0.9487783503683882,\n",
              "  1.1238565871041026,\n",
              "  1.2058356273089446,\n",
              "  1.2801012827406097,\n",
              "  0.8733100751144249,\n",
              "  0.9194732501297403,\n",
              "  1.6425573339441792,\n",
              "  1.085826790250066,\n",
              "  1.0639125693728595,\n",
              "  1.0875842666474016,\n",
              "  1.417901703622935,\n",
              "  1.550443891425932,\n",
              "  0.7825779328716171,\n",
              "  1.4690612745308145,\n",
              "  1.053086721720641,\n",
              "  1.2676073151634049,\n",
              "  0.7744003006005755,\n",
              "  1.3787482149724068,\n",
              "  1.363892581861956,\n",
              "  1.299352006316543,\n",
              "  1.2870449283923413,\n",
              "  1.11817763925502,\n",
              "  0.9474354220939228,\n",
              "  1.5218484589055707,\n",
              "  1.3526437911676632,\n",
              "  1.1556938532445284,\n",
              "  1.6013445735058454,\n",
              "  1.274619025074578,\n",
              "  1.422384489715834,\n",
              "  1.3408259533459403,\n",
              "  1.172646028567008,\n",
              "  1.1490645795125545,\n",
              "  1.459060149136146,\n",
              "  1.2483770274864237,\n",
              "  1.336545951796433,\n",
              "  0.9601174044814821,\n",
              "  1.4867225193896279,\n",
              "  1.4277452542806772,\n",
              "  1.35028849808504,\n",
              "  0.7560982446653928,\n",
              "  1.259040600296622,\n",
              "  1.13456827900627,\n",
              "  1.6549133695530214,\n",
              "  1.1204526724091788,\n",
              "  1.1176081573544434,\n",
              "  0.9153095762832032,\n",
              "  1.1639273497938836,\n",
              "  1.3066806149514323,\n",
              "  1.1529362882239027,\n",
              "  1.3047303442899274,\n",
              "  1.3066806149514323],\n",
              " [0.9274866865263769,\n",
              "  1.477544755879403,\n",
              "  0.9067533899788442,\n",
              "  0.8176515961023421,\n",
              "  1.0618074752209081,\n",
              "  0.9733319076362458,\n",
              "  1.0127303772822145,\n",
              "  1.117441602613488,\n",
              "  1.3209438876874395,\n",
              "  1.3244585671791516,\n",
              "  1.3203228350753233,\n",
              "  0.7470659425058697,\n",
              "  1.3547364680519196,\n",
              "  1.4364851440556485,\n",
              "  1.7003632853695085,\n",
              "  0.7975317067519331,\n",
              "  1.0793346772936472,\n",
              "  1.1737760234866423,\n",
              "  0.927392204490045,\n",
              "  0.9431348969245509,\n",
              "  1.3945212923063488,\n",
              "  1.0537761465669933,\n",
              "  0.8281340542567222,\n",
              "  0.885447598483792,\n",
              "  1.1694009779493897,\n",
              "  0.9285740068983243,\n",
              "  1.1548386386364586,\n",
              "  0.9167987265357388,\n",
              "  0.8538450542411343]]"
            ]
          },
          "metadata": {
            "tags": []
          },
          "execution_count": 37
        }
      ]
    }
  ]
}