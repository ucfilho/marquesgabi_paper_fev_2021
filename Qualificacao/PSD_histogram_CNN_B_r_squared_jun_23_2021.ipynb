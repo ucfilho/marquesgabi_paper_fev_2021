{
  "nbformat": 4,
  "nbformat_minor": 0,
  "metadata": {
    "colab": {
      "name": "PSD_histogram_CNN_B_r_squared_jun_23_2021.ipynb",
      "provenance": [],
      "collapsed_sections": [],
      "include_colab_link": true
    },
    "kernelspec": {
      "name": "python3",
      "display_name": "Python 3"
    }
  },
  "cells": [
    {
      "cell_type": "markdown",
      "metadata": {
        "id": "view-in-github",
        "colab_type": "text"
      },
      "source": [
        "<a href=\"https://colab.research.google.com/github/ucfilho/marquesgabi_paper_fev_2021/blob/main/Qualificacao/PSD_histogram_CNN_B_r_squared_jun_23_2021.ipynb\" target=\"_parent\"><img src=\"https://colab.research.google.com/assets/colab-badge.svg\" alt=\"Open In Colab\"/></a>"
      ]
    },
    {
      "cell_type": "code",
      "metadata": {
        "id": "Sog7Z9pyhUD_"
      },
      "source": [
        "import matplotlib.pyplot as plt\n",
        "import numpy as np\n",
        "import cv2\n",
        "import zipfile\n",
        "#import random\n",
        "from random import randint\n",
        "from PIL import Image\n",
        "import re\n",
        "from sklearn.model_selection import train_test_split\n",
        "#import scikit-image\n",
        "import skimage\n",
        "import sklearn\n",
        "import pandas as pd\n",
        "from keras.models import Sequential\n",
        "from keras.layers import Dense, Activation, Conv2D, MaxPooling2D, Flatten, Dropout, BatchNormalization\n",
        "from sklearn.metrics import r2_score"
      ],
      "execution_count": 1,
      "outputs": []
    },
    {
      "cell_type": "code",
      "metadata": {
        "id": "uZEvJvfoibE4",
        "colab": {
          "base_uri": "https://localhost:8080/"
        },
        "outputId": "a78b32eb-eb30-493e-87ae-7cff4ccc0523"
      },
      "source": [
        "!pip install mahotas"
      ],
      "execution_count": 2,
      "outputs": [
        {
          "output_type": "stream",
          "text": [
            "Requirement already satisfied: mahotas in /usr/local/lib/python3.7/dist-packages (1.4.11)\n",
            "Requirement already satisfied: numpy in /usr/local/lib/python3.7/dist-packages (from mahotas) (1.19.5)\n"
          ],
          "name": "stdout"
        }
      ]
    },
    {
      "cell_type": "code",
      "metadata": {
        "id": "nf_a6PJ1iUnT"
      },
      "source": [
        "import mahotas.features.texture as mht\n",
        "import mahotas.features"
      ],
      "execution_count": 3,
      "outputs": []
    },
    {
      "cell_type": "code",
      "metadata": {
        "id": "_VcTdaNVh9EE",
        "colab": {
          "base_uri": "https://localhost:8080/"
        },
        "outputId": "11cdfd4f-a9a7-4e86-ade7-547333a185ba"
      },
      "source": [
        "!git clone https://github.com/ucfilho/marquesgabi_fev_2020 #clonar do Github\n",
        "%cd marquesgabi_fev_2020\n",
        "import Go2BlackWhite\n",
        "import Go2Mahotas"
      ],
      "execution_count": 4,
      "outputs": [
        {
          "output_type": "stream",
          "text": [
            "fatal: destination path 'marquesgabi_fev_2020' already exists and is not an empty directory.\n",
            "/content/marquesgabi_fev_2020\n"
          ],
          "name": "stdout"
        }
      ]
    },
    {
      "cell_type": "code",
      "metadata": {
        "id": "1v7SRrc8mH2N",
        "colab": {
          "base_uri": "https://localhost:8080/"
        },
        "outputId": "b0bb9a0c-2011-4538-b1ef-f2bc56034dbb"
      },
      "source": [
        "!git clone https://github.com/marquesgabi/Doutorado\n",
        "%cd Doutorado\n",
        "\n",
        "Transfere='Fotos_Grandes_3cdAmostra.zip'\n",
        "file_name = zipfile.ZipFile(Transfere, 'r')\n",
        "file_name.extractall()"
      ],
      "execution_count": 5,
      "outputs": [
        {
          "output_type": "stream",
          "text": [
            "fatal: destination path 'Doutorado' already exists and is not an empty directory.\n",
            "/content/marquesgabi_fev_2020/Doutorado\n"
          ],
          "name": "stdout"
        }
      ]
    },
    {
      "cell_type": "code",
      "metadata": {
        "id": "0kA4IWSmasoD"
      },
      "source": [
        "Size=1200 # tamanho da foto\n",
        "ww,img_name=Go2BlackWhite.BlackWhite(Transfere,Size) #Pegamos a primeira foto Grande\n",
        "img=ww[4] \n",
        "# this is the big image we want to segment \n",
        "# ww[0], change it if you want to segment another picture"
      ],
      "execution_count": 6,
      "outputs": []
    },
    {
      "cell_type": "code",
      "metadata": {
        "id": "tHgqAnaFyCjp",
        "colab": {
          "base_uri": "https://localhost:8080/"
        },
        "outputId": "391e849b-0481-4d2f-8da6-0ddca2eb650f"
      },
      "source": [
        "!git clone https://github.com/ucfilho/MarquesGabi_Routines\n",
        "%cd MarquesGabi_Routines"
      ],
      "execution_count": 7,
      "outputs": [
        {
          "output_type": "stream",
          "text": [
            "fatal: destination path 'MarquesGabi_Routines' already exists and is not an empty directory.\n",
            "/content/marquesgabi_fev_2020/Doutorado/MarquesGabi_Routines\n"
          ],
          "name": "stdout"
        }
      ]
    },
    {
      "cell_type": "code",
      "metadata": {
        "id": "qc4rFvzkyWCi"
      },
      "source": [
        "from segment_filter_not_conclude import Segmenta  # got image provided segmented"
      ],
      "execution_count": 8,
      "outputs": []
    },
    {
      "cell_type": "code",
      "metadata": {
        "id": "SnTtH3KDP863"
      },
      "source": [
        "df=Segmenta(img)\n",
        "Img_Size = 28"
      ],
      "execution_count": 9,
      "outputs": []
    },
    {
      "cell_type": "code",
      "metadata": {
        "id": "YN5MN5a_v4np",
        "colab": {
          "base_uri": "https://localhost:8080/"
        },
        "outputId": "24d8fc2c-224c-4a4a-ab0b-21fa71e61a29"
      },
      "source": [
        "print(df)"
      ],
      "execution_count": 10,
      "outputs": [
        {
          "output_type": "stream",
          "text": [
            "    Width           0           1  ...         781         782         783\n",
            "0     103  173.743240  179.576965  ...    0.032237    0.920822    1.593835\n",
            "1     102  130.303741  129.710129  ...  142.008087  145.155350  143.438324\n",
            "2     151  178.161407  193.273819  ...    0.002412    0.296785    1.378229\n",
            "3     192  134.317261  138.990860  ...   54.792099   55.437496   69.529945\n",
            "4     136   60.963673   43.102077  ...    1.000000    1.000000    1.000000\n",
            "5     109  139.218414  138.203339  ...  171.498352  160.590942  141.680908\n",
            "6     113  174.241196  173.825348  ...   95.138687  100.554001  111.080269\n",
            "7     199  214.498871  204.427963  ...    1.413878    1.086715    0.305674\n",
            "8     175  205.086395  208.628799  ...  128.734390  137.416000  140.039993\n",
            "9     168  157.305557  157.666672  ...  146.916672  130.916672  124.611115\n",
            "10    193  122.173424  120.602058  ...  173.716064  159.382294  143.834015\n",
            "11    144  176.685959  165.228409  ...    1.000000    1.000000    1.426697\n",
            "12    101   99.802963  134.525253  ...  154.941864  119.309387   86.562599\n",
            "13    125  150.267792  137.083023  ...    0.138176    0.618176    1.498176\n",
            "14    178  141.911392  143.960876  ...  202.909119  204.202271  210.894592\n",
            "15    137    6.497949   14.582875  ...  135.453720  127.870949  120.203201\n",
            "16    119  155.730103  147.155731  ...  135.117661   98.038063   85.747406\n",
            "17    103  161.980011  148.899796  ...  136.000748  139.136108  153.258636\n",
            "18    148  119.990509  136.037262  ...  132.993439  137.466034  146.756042\n",
            "19    144  203.881958  193.757721  ...  196.660492  191.604156  172.309433\n",
            "20    105  128.800018  130.008911  ...  251.942261  252.964478  247.257812\n",
            "21    158  109.610153  112.300102  ...   69.144531  126.258293  146.930283\n",
            "22    193  128.505981  197.018738  ...  110.326790  117.916245  134.511475\n",
            "23    139   94.815849   77.743118  ...    1.220434    0.227628    0.644894\n",
            "24    107  174.669846  173.455383  ...   98.240974  119.651497  132.011703\n",
            "25    149  174.581421  173.146957  ...  223.186890  228.779297  235.970047\n",
            "26    200  183.253616  194.939209  ...  158.296021  159.670807  180.601990\n",
            "27    156  171.294540  174.138062  ...  145.794891  137.432617  142.280090\n",
            "28    151  176.764969  176.818573  ...  160.072418  132.920746  114.860756\n",
            "29    195    0.179698    1.261460  ...    0.495648    0.083918    0.857883\n",
            "30    153  112.350853  141.820801  ...  142.498840  145.985443  147.855408\n",
            "31    177  215.158005  219.757996  ...  129.012314  129.057083  132.598801\n",
            "32    140  190.279999  196.080002  ...   85.959999   88.519997   87.879997\n",
            "33    124  144.575424  158.586884  ...  163.652435  173.214355  222.198730\n",
            "34    189    0.813443    2.393690  ...  117.421120  111.010979  108.034294\n",
            "35    129  124.104797  140.151184  ...   16.451176   19.735353   35.787632\n",
            "36    197    0.446597    0.771367  ...    1.002164    1.000000    1.000000\n",
            "37    137  133.152267  123.049324  ...    1.000000    1.000000    1.000000\n",
            "38    163  183.547150  170.712173  ...  118.403549  117.312202  147.198837\n",
            "39    120  154.125565  162.216660  ...  143.422226  145.423325  140.911133\n",
            "40    126  180.185211  171.913589  ...  166.469147  169.827164  168.814819\n",
            "41    170  125.337181  150.613846  ...  173.230896  196.640305  208.914886\n",
            "42    131   46.190720   44.333023  ...  150.820633  156.208435  162.761902\n",
            "43    123  181.739716  179.374451  ...  147.392563  153.581009  152.991943\n",
            "44    122  125.350975  137.598770  ...    1.002419    1.873690    1.134641\n",
            "45    196  235.530609  198.224487  ...  142.244888  147.877548  181.591827\n",
            "46    116   37.730083   48.140308  ...    1.000000    1.000000    1.000000\n",
            "47    178  139.546921  138.227386  ...    1.000000    1.000000    1.339351\n",
            "48    150    0.420622    0.553956  ...  122.402847  112.851913  101.139557\n",
            "49    172  118.148193  112.201736  ...    1.084370    1.209302    1.000000\n",
            "\n",
            "[50 rows x 785 columns]\n"
          ],
          "name": "stdout"
        }
      ]
    },
    {
      "cell_type": "code",
      "metadata": {
        "id": "xzpQ1Pz0fX5L",
        "colab": {
          "base_uri": "https://localhost:8080/",
          "height": 54
        },
        "outputId": "dcc5bfb8-9842-4a22-e995-f4b0397ec34d"
      },
      "source": [
        "'''\n",
        "!git clone https://github.com/ucfilho/MarquesGabi_Routines\n",
        "%cd MarquesGabi_Routines\n",
        "# filename = 'model_ANN.pkl'\n",
        "filename = 'model_ANN_new.pkl'\n",
        "model = joblib.load(filename)\n",
        "'''"
      ],
      "execution_count": 11,
      "outputs": [
        {
          "output_type": "execute_result",
          "data": {
            "application/vnd.google.colaboratory.intrinsic+json": {
              "type": "string"
            },
            "text/plain": [
              "\"\\n!git clone https://github.com/ucfilho/MarquesGabi_Routines\\n%cd MarquesGabi_Routines\\n# filename = 'model_ANN.pkl'\\nfilename = 'model_ANN_new.pkl'\\nmodel = joblib.load(filename)\\n\""
            ]
          },
          "metadata": {
            "tags": []
          },
          "execution_count": 11
        }
      ]
    },
    {
      "cell_type": "code",
      "metadata": {
        "colab": {
          "base_uri": "https://localhost:8080/"
        },
        "id": "xR2emP4rNjQy",
        "outputId": "a6e92de9-4638-45c8-d0a0-fd94e1db0fa0"
      },
      "source": [
        "!git clone https://github.com/ucfilho/MarquesGabi_Routines\n",
        "%cd MarquesGabi_Routines"
      ],
      "execution_count": 12,
      "outputs": [
        {
          "output_type": "stream",
          "text": [
            "fatal: destination path 'MarquesGabi_Routines' already exists and is not an empty directory.\n",
            "/content/marquesgabi_fev_2020/Doutorado/MarquesGabi_Routines/MarquesGabi_Routines\n"
          ],
          "name": "stdout"
        }
      ]
    },
    {
      "cell_type": "code",
      "metadata": {
        "id": "O6cMHOrlNliO"
      },
      "source": [
        "# leitura dos dados\n",
        "df=pd.read_excel(\"FotosTreinoRede.xlsx\")\n",
        "y = df['y']\n",
        "df.drop(['Unnamed: 0','y'], axis='columns', inplace=True)"
      ],
      "execution_count": 13,
      "outputs": []
    },
    {
      "cell_type": "code",
      "metadata": {
        "id": "zQO8d2QbNqj0"
      },
      "source": [
        "X =np.array(df.copy())/255.0 \n",
        "\n",
        "\n",
        "X_train, X_test, Y_train, Y_test = train_test_split(X, y, test_size=0.30, shuffle=True, random_state=42)"
      ],
      "execution_count": 14,
      "outputs": []
    },
    {
      "cell_type": "code",
      "metadata": {
        "id": "23iKv6bDPWQl"
      },
      "source": [
        "# helper\n",
        "def ynindicator(Y):\n",
        "  N = len(Y)\n",
        "  K = len(set(Y))\n",
        "  I = np.zeros((N, K))\n",
        "  I[np.arange(N), Y] = 1\n",
        "  return I\n",
        "\n",
        "def yback(Y_test):\n",
        "  nrow, ncol = Y_test.shape\n",
        "  y_class = np.zeros(nrow,dtype=int)\n",
        "  y_resp = Y_test\n",
        "  for k in range(nrow):\n",
        "    for kk in range(K):\n",
        "      if(y_resp[k,kk] == 1):\n",
        "        y_class[k] = kk\n",
        "  Y_test = y_class.copy()\n",
        "  return Y_test\n",
        "\n",
        "X_train = np.array(X_train)\n",
        "Y_train = np.array(Y_train)\n",
        "K = len(set(Y_train))\n",
        "\n",
        "X_train = X_train.reshape(-1, Img_Size, Img_Size, 1) / 255.0\n",
        "Y_train = Y_train.astype(np.int32)\n",
        "Y_train = ynindicator(Y_train)\n",
        "\n",
        "X_test = np.array(X_test )\n",
        "Y_test = np.array(Y_test)\n",
        "X_test = X_test.reshape(-1, Img_Size, Img_Size, 1) / 255.0\n",
        "Y_test = Y_test.astype(np.int32)\n",
        "Y_test = ynindicator(Y_test)\n",
        "\n",
        "# the model will be a sequence of layers\n",
        "\n",
        "model = Sequential()\n",
        "\n",
        "\n",
        "# make the CNN\n",
        "# model.add(Input(shape=(28, 28, 1)))\n",
        "model.add(Conv2D(input_shape=(Img_Size, Img_Size, 1), filters=32, kernel_size=(3, 3)))\n",
        "model.add(BatchNormalization())\n",
        "model.add(Activation('relu'))\n",
        "model.add(MaxPooling2D())\n",
        "\n",
        "model.add(Conv2D(filters=64, kernel_size=(3, 3)))\n",
        "model.add(BatchNormalization())\n",
        "model.add(Activation('relu'))\n",
        "model.add(MaxPooling2D())\n",
        "\n",
        "model.add(Conv2D(filters=128, kernel_size=(3, 3)))\n",
        "model.add(BatchNormalization())\n",
        "model.add(Activation('relu'))\n",
        "model.add(MaxPooling2D())\n",
        "\n",
        "model.add(Flatten())\n",
        "model.add(Dense(units=200))\n",
        "model.add(Dropout(0.2))\n",
        "model.add(Dense(units=10))\n",
        "model.add(Activation('relu'))\n",
        "#model.add(Dropout(0.2))\n",
        "model.add(Dense(units=K))\n",
        "model.add(Activation('softmax'))\n",
        "\n",
        "\n",
        "# list of losses: https://keras.io/losses/\n",
        "# list of optimizers: https://keras.io/optimizers/\n",
        "# list of metrics: https://keras.io/metrics/\n",
        "model.compile(\n",
        "  loss='categorical_crossentropy',\n",
        "  optimizer='adam',\n",
        "  metrics=['accuracy']\n",
        ")"
      ],
      "execution_count": 15,
      "outputs": []
    },
    {
      "cell_type": "code",
      "metadata": {
        "colab": {
          "base_uri": "https://localhost:8080/"
        },
        "id": "FpbPQ1FSRG6A",
        "outputId": "18b8c4bb-c695-44b0-c13f-15a94b366752"
      },
      "source": [
        "\n",
        "# gives us back a <keras.callbacks.History object at 0x112e61a90>\n",
        "model.fit(X_train, Y_train, epochs=200, batch_size=32)\n"
      ],
      "execution_count": 16,
      "outputs": [
        {
          "output_type": "stream",
          "text": [
            "Epoch 1/200\n",
            "11/11 [==============================] - 19s 44ms/step - loss: 0.6684 - accuracy: 0.6855\n",
            "Epoch 2/200\n",
            "11/11 [==============================] - 0s 44ms/step - loss: 0.3538 - accuracy: 0.7979\n",
            "Epoch 3/200\n",
            "11/11 [==============================] - 0s 45ms/step - loss: 0.2263 - accuracy: 0.9143\n",
            "Epoch 4/200\n",
            "11/11 [==============================] - 0s 43ms/step - loss: 0.2013 - accuracy: 0.9195\n",
            "Epoch 5/200\n",
            "11/11 [==============================] - 0s 45ms/step - loss: 0.1224 - accuracy: 0.9598\n",
            "Epoch 6/200\n",
            "11/11 [==============================] - 0s 44ms/step - loss: 0.0871 - accuracy: 0.9783\n",
            "Epoch 7/200\n",
            "11/11 [==============================] - 0s 44ms/step - loss: 0.0389 - accuracy: 0.9915\n",
            "Epoch 8/200\n",
            "11/11 [==============================] - 0s 43ms/step - loss: 0.0600 - accuracy: 0.9792\n",
            "Epoch 9/200\n",
            "11/11 [==============================] - 1s 45ms/step - loss: 0.0553 - accuracy: 0.9836\n",
            "Epoch 10/200\n",
            "11/11 [==============================] - 0s 42ms/step - loss: 0.0545 - accuracy: 0.9828\n",
            "Epoch 11/200\n",
            "11/11 [==============================] - 0s 44ms/step - loss: 0.0601 - accuracy: 0.9778\n",
            "Epoch 12/200\n",
            "11/11 [==============================] - 0s 43ms/step - loss: 0.0220 - accuracy: 0.9927\n",
            "Epoch 13/200\n",
            "11/11 [==============================] - 0s 45ms/step - loss: 0.0116 - accuracy: 1.0000\n",
            "Epoch 14/200\n",
            "11/11 [==============================] - 0s 44ms/step - loss: 0.0065 - accuracy: 1.0000\n",
            "Epoch 15/200\n",
            "11/11 [==============================] - 0s 44ms/step - loss: 0.0149 - accuracy: 0.9897\n",
            "Epoch 16/200\n",
            "11/11 [==============================] - 0s 43ms/step - loss: 0.0100 - accuracy: 0.9982\n",
            "Epoch 17/200\n",
            "11/11 [==============================] - 0s 45ms/step - loss: 0.0106 - accuracy: 0.9943\n",
            "Epoch 18/200\n",
            "11/11 [==============================] - 0s 45ms/step - loss: 0.0183 - accuracy: 0.9905\n",
            "Epoch 19/200\n",
            "11/11 [==============================] - 1s 45ms/step - loss: 0.0246 - accuracy: 0.9953\n",
            "Epoch 20/200\n",
            "11/11 [==============================] - 0s 43ms/step - loss: 0.0040 - accuracy: 0.9995\n",
            "Epoch 21/200\n",
            "11/11 [==============================] - 0s 44ms/step - loss: 0.0193 - accuracy: 0.9903\n",
            "Epoch 22/200\n",
            "11/11 [==============================] - 0s 44ms/step - loss: 0.0091 - accuracy: 1.0000\n",
            "Epoch 23/200\n",
            "11/11 [==============================] - 0s 44ms/step - loss: 0.0049 - accuracy: 0.9990\n",
            "Epoch 24/200\n",
            "11/11 [==============================] - 0s 44ms/step - loss: 0.0047 - accuracy: 0.9985\n",
            "Epoch 25/200\n",
            "11/11 [==============================] - 0s 45ms/step - loss: 0.0148 - accuracy: 0.9968\n",
            "Epoch 26/200\n",
            "11/11 [==============================] - 0s 44ms/step - loss: 0.0211 - accuracy: 0.9915\n",
            "Epoch 27/200\n",
            "11/11 [==============================] - 0s 43ms/step - loss: 0.0544 - accuracy: 0.9880\n",
            "Epoch 28/200\n",
            "11/11 [==============================] - 0s 44ms/step - loss: 0.0560 - accuracy: 0.9735\n",
            "Epoch 29/200\n",
            "11/11 [==============================] - 0s 43ms/step - loss: 0.0331 - accuracy: 0.9878\n",
            "Epoch 30/200\n",
            "11/11 [==============================] - 0s 44ms/step - loss: 0.0521 - accuracy: 0.9821\n",
            "Epoch 31/200\n",
            "11/11 [==============================] - 0s 45ms/step - loss: 0.0469 - accuracy: 0.9715\n",
            "Epoch 32/200\n",
            "11/11 [==============================] - 0s 44ms/step - loss: 0.0435 - accuracy: 0.9872\n",
            "Epoch 33/200\n",
            "11/11 [==============================] - 0s 45ms/step - loss: 0.0038 - accuracy: 0.9995\n",
            "Epoch 34/200\n",
            "11/11 [==============================] - 0s 45ms/step - loss: 0.0108 - accuracy: 0.9967\n",
            "Epoch 35/200\n",
            "11/11 [==============================] - 0s 45ms/step - loss: 0.0185 - accuracy: 0.9931\n",
            "Epoch 36/200\n",
            "11/11 [==============================] - 0s 44ms/step - loss: 0.0061 - accuracy: 0.9983\n",
            "Epoch 37/200\n",
            "11/11 [==============================] - 0s 43ms/step - loss: 0.0014 - accuracy: 1.0000\n",
            "Epoch 38/200\n",
            "11/11 [==============================] - 0s 44ms/step - loss: 0.0014 - accuracy: 1.0000\n",
            "Epoch 39/200\n",
            "11/11 [==============================] - 1s 46ms/step - loss: 0.0043 - accuracy: 0.9973\n",
            "Epoch 40/200\n",
            "11/11 [==============================] - 1s 47ms/step - loss: 0.0039 - accuracy: 1.0000\n",
            "Epoch 41/200\n",
            "11/11 [==============================] - 1s 45ms/step - loss: 6.2973e-04 - accuracy: 1.0000\n",
            "Epoch 42/200\n",
            "11/11 [==============================] - 0s 45ms/step - loss: 3.1077e-04 - accuracy: 1.0000\n",
            "Epoch 43/200\n",
            "11/11 [==============================] - 0s 45ms/step - loss: 2.8102e-04 - accuracy: 1.0000\n",
            "Epoch 44/200\n",
            "11/11 [==============================] - 0s 45ms/step - loss: 1.2823e-04 - accuracy: 1.0000\n",
            "Epoch 45/200\n",
            "11/11 [==============================] - 0s 44ms/step - loss: 2.8692e-04 - accuracy: 1.0000\n",
            "Epoch 46/200\n",
            "11/11 [==============================] - 0s 43ms/step - loss: 0.0048 - accuracy: 0.9957\n",
            "Epoch 47/200\n",
            "11/11 [==============================] - 0s 43ms/step - loss: 7.6076e-04 - accuracy: 1.0000\n",
            "Epoch 48/200\n",
            "11/11 [==============================] - 0s 45ms/step - loss: 0.0172 - accuracy: 0.9958\n",
            "Epoch 49/200\n",
            "11/11 [==============================] - 0s 43ms/step - loss: 0.0013 - accuracy: 1.0000\n",
            "Epoch 50/200\n",
            "11/11 [==============================] - 0s 44ms/step - loss: 0.0021 - accuracy: 1.0000\n",
            "Epoch 51/200\n",
            "11/11 [==============================] - 0s 43ms/step - loss: 0.0032 - accuracy: 1.0000\n",
            "Epoch 52/200\n",
            "11/11 [==============================] - 0s 45ms/step - loss: 7.7620e-04 - accuracy: 1.0000\n",
            "Epoch 53/200\n",
            "11/11 [==============================] - 0s 44ms/step - loss: 7.5973e-05 - accuracy: 1.0000\n",
            "Epoch 54/200\n",
            "11/11 [==============================] - 1s 45ms/step - loss: 1.4299e-04 - accuracy: 1.0000\n",
            "Epoch 55/200\n",
            "11/11 [==============================] - 0s 44ms/step - loss: 8.8870e-05 - accuracy: 1.0000\n",
            "Epoch 56/200\n",
            "11/11 [==============================] - 0s 44ms/step - loss: 0.0011 - accuracy: 1.0000\n",
            "Epoch 57/200\n",
            "11/11 [==============================] - 0s 44ms/step - loss: 3.2745e-04 - accuracy: 1.0000\n",
            "Epoch 58/200\n",
            "11/11 [==============================] - 0s 45ms/step - loss: 3.5829e-04 - accuracy: 1.0000\n",
            "Epoch 59/200\n",
            "11/11 [==============================] - 0s 44ms/step - loss: 1.5452e-04 - accuracy: 1.0000\n",
            "Epoch 60/200\n",
            "11/11 [==============================] - 1s 46ms/step - loss: 2.2878e-04 - accuracy: 1.0000\n",
            "Epoch 61/200\n",
            "11/11 [==============================] - 1s 45ms/step - loss: 8.4172e-05 - accuracy: 1.0000\n",
            "Epoch 62/200\n",
            "11/11 [==============================] - 1s 46ms/step - loss: 3.8499e-04 - accuracy: 1.0000\n",
            "Epoch 63/200\n",
            "11/11 [==============================] - 0s 44ms/step - loss: 2.3970e-04 - accuracy: 1.0000\n",
            "Epoch 64/200\n",
            "11/11 [==============================] - 1s 46ms/step - loss: 5.7257e-05 - accuracy: 1.0000\n",
            "Epoch 65/200\n",
            "11/11 [==============================] - 0s 44ms/step - loss: 9.3265e-05 - accuracy: 1.0000\n",
            "Epoch 66/200\n",
            "11/11 [==============================] - 0s 45ms/step - loss: 2.8557e-04 - accuracy: 1.0000\n",
            "Epoch 67/200\n",
            "11/11 [==============================] - 0s 43ms/step - loss: 9.6476e-04 - accuracy: 1.0000\n",
            "Epoch 68/200\n",
            "11/11 [==============================] - 0s 44ms/step - loss: 7.4965e-05 - accuracy: 1.0000\n",
            "Epoch 69/200\n",
            "11/11 [==============================] - 0s 43ms/step - loss: 1.6407e-04 - accuracy: 1.0000\n",
            "Epoch 70/200\n",
            "11/11 [==============================] - 0s 44ms/step - loss: 6.1189e-05 - accuracy: 1.0000\n",
            "Epoch 71/200\n",
            "11/11 [==============================] - 0s 44ms/step - loss: 4.3700e-05 - accuracy: 1.0000\n",
            "Epoch 72/200\n",
            "11/11 [==============================] - 0s 43ms/step - loss: 3.2226e-05 - accuracy: 1.0000\n",
            "Epoch 73/200\n",
            "11/11 [==============================] - 1s 46ms/step - loss: 9.7744e-05 - accuracy: 1.0000\n",
            "Epoch 74/200\n",
            "11/11 [==============================] - 0s 43ms/step - loss: 4.5568e-05 - accuracy: 1.0000\n",
            "Epoch 75/200\n",
            "11/11 [==============================] - 0s 45ms/step - loss: 2.2360e-05 - accuracy: 1.0000\n",
            "Epoch 76/200\n",
            "11/11 [==============================] - 0s 44ms/step - loss: 1.9081e-04 - accuracy: 1.0000\n",
            "Epoch 77/200\n",
            "11/11 [==============================] - 0s 45ms/step - loss: 4.7492e-05 - accuracy: 1.0000\n",
            "Epoch 78/200\n",
            "11/11 [==============================] - 0s 43ms/step - loss: 2.8487e-05 - accuracy: 1.0000\n",
            "Epoch 79/200\n",
            "11/11 [==============================] - 0s 45ms/step - loss: 5.3737e-05 - accuracy: 1.0000\n",
            "Epoch 80/200\n",
            "11/11 [==============================] - 1s 46ms/step - loss: 2.4978e-05 - accuracy: 1.0000\n",
            "Epoch 81/200\n",
            "11/11 [==============================] - 0s 44ms/step - loss: 5.7926e-04 - accuracy: 1.0000\n",
            "Epoch 82/200\n",
            "11/11 [==============================] - 0s 43ms/step - loss: 3.9119e-05 - accuracy: 1.0000\n",
            "Epoch 83/200\n",
            "11/11 [==============================] - 0s 44ms/step - loss: 3.1580e-05 - accuracy: 1.0000\n",
            "Epoch 84/200\n",
            "11/11 [==============================] - 0s 43ms/step - loss: 9.1971e-05 - accuracy: 1.0000\n",
            "Epoch 85/200\n",
            "11/11 [==============================] - 0s 44ms/step - loss: 1.6016e-05 - accuracy: 1.0000\n",
            "Epoch 86/200\n",
            "11/11 [==============================] - 0s 46ms/step - loss: 3.2168e-05 - accuracy: 1.0000\n",
            "Epoch 87/200\n",
            "11/11 [==============================] - 0s 44ms/step - loss: 2.7214e-05 - accuracy: 1.0000\n",
            "Epoch 88/200\n",
            "11/11 [==============================] - 0s 43ms/step - loss: 6.1314e-05 - accuracy: 1.0000\n",
            "Epoch 89/200\n",
            "11/11 [==============================] - 1s 45ms/step - loss: 0.0010 - accuracy: 1.0000\n",
            "Epoch 90/200\n",
            "11/11 [==============================] - 0s 43ms/step - loss: 2.1869e-05 - accuracy: 1.0000\n",
            "Epoch 91/200\n",
            "11/11 [==============================] - 0s 44ms/step - loss: 3.6234e-05 - accuracy: 1.0000\n",
            "Epoch 92/200\n",
            "11/11 [==============================] - 0s 44ms/step - loss: 4.1417e-05 - accuracy: 1.0000\n",
            "Epoch 93/200\n",
            "11/11 [==============================] - 0s 44ms/step - loss: 2.1919e-04 - accuracy: 1.0000\n",
            "Epoch 94/200\n",
            "11/11 [==============================] - 0s 43ms/step - loss: 8.0044e-05 - accuracy: 1.0000\n",
            "Epoch 95/200\n",
            "11/11 [==============================] - 0s 44ms/step - loss: 3.1360e-05 - accuracy: 1.0000\n",
            "Epoch 96/200\n",
            "11/11 [==============================] - 0s 45ms/step - loss: 3.3953e-05 - accuracy: 1.0000\n",
            "Epoch 97/200\n",
            "11/11 [==============================] - 0s 44ms/step - loss: 8.7953e-05 - accuracy: 1.0000\n",
            "Epoch 98/200\n",
            "11/11 [==============================] - 0s 44ms/step - loss: 1.7341e-05 - accuracy: 1.0000\n",
            "Epoch 99/200\n",
            "11/11 [==============================] - 1s 46ms/step - loss: 1.2028e-04 - accuracy: 1.0000\n",
            "Epoch 100/200\n",
            "11/11 [==============================] - 0s 43ms/step - loss: 1.8222e-05 - accuracy: 1.0000\n",
            "Epoch 101/200\n",
            "11/11 [==============================] - 1s 49ms/step - loss: 2.2786e-05 - accuracy: 1.0000\n",
            "Epoch 102/200\n",
            "11/11 [==============================] - 0s 43ms/step - loss: 4.6364e-05 - accuracy: 1.0000\n",
            "Epoch 103/200\n",
            "11/11 [==============================] - 0s 44ms/step - loss: 2.4172e-05 - accuracy: 1.0000\n",
            "Epoch 104/200\n",
            "11/11 [==============================] - 0s 44ms/step - loss: 4.4523e-05 - accuracy: 1.0000\n",
            "Epoch 105/200\n",
            "11/11 [==============================] - 0s 43ms/step - loss: 1.9041e-05 - accuracy: 1.0000\n",
            "Epoch 106/200\n",
            "11/11 [==============================] - 0s 44ms/step - loss: 1.7322e-05 - accuracy: 1.0000\n",
            "Epoch 107/200\n",
            "11/11 [==============================] - 0s 45ms/step - loss: 2.0390e-05 - accuracy: 1.0000\n",
            "Epoch 108/200\n",
            "11/11 [==============================] - 0s 44ms/step - loss: 1.9043e-05 - accuracy: 1.0000\n",
            "Epoch 109/200\n",
            "11/11 [==============================] - 0s 44ms/step - loss: 1.0713e-05 - accuracy: 1.0000\n",
            "Epoch 110/200\n",
            "11/11 [==============================] - 1s 45ms/step - loss: 2.9076e-05 - accuracy: 1.0000\n",
            "Epoch 111/200\n",
            "11/11 [==============================] - 0s 43ms/step - loss: 3.7592e-05 - accuracy: 1.0000\n",
            "Epoch 112/200\n",
            "11/11 [==============================] - 0s 45ms/step - loss: 9.6784e-06 - accuracy: 1.0000\n",
            "Epoch 113/200\n",
            "11/11 [==============================] - 0s 43ms/step - loss: 1.4853e-05 - accuracy: 1.0000\n",
            "Epoch 114/200\n",
            "11/11 [==============================] - 0s 44ms/step - loss: 1.4837e-05 - accuracy: 1.0000\n",
            "Epoch 115/200\n",
            "11/11 [==============================] - 0s 45ms/step - loss: 1.5789e-04 - accuracy: 1.0000\n",
            "Epoch 116/200\n",
            "11/11 [==============================] - 0s 44ms/step - loss: 2.2618e-05 - accuracy: 1.0000\n",
            "Epoch 117/200\n",
            "11/11 [==============================] - 0s 43ms/step - loss: 9.2891e-05 - accuracy: 1.0000\n",
            "Epoch 118/200\n",
            "11/11 [==============================] - 1s 46ms/step - loss: 1.6426e-05 - accuracy: 1.0000\n",
            "Epoch 119/200\n",
            "11/11 [==============================] - 0s 42ms/step - loss: 7.0386e-06 - accuracy: 1.0000\n",
            "Epoch 120/200\n",
            "11/11 [==============================] - 1s 45ms/step - loss: 5.9747e-06 - accuracy: 1.0000\n",
            "Epoch 121/200\n",
            "11/11 [==============================] - 0s 43ms/step - loss: 4.1758e-05 - accuracy: 1.0000\n",
            "Epoch 122/200\n",
            "11/11 [==============================] - 1s 45ms/step - loss: 2.7893e-04 - accuracy: 1.0000\n",
            "Epoch 123/200\n",
            "11/11 [==============================] - 0s 45ms/step - loss: 2.4234e-05 - accuracy: 1.0000\n",
            "Epoch 124/200\n",
            "11/11 [==============================] - 0s 44ms/step - loss: 2.1927e-05 - accuracy: 1.0000\n",
            "Epoch 125/200\n",
            "11/11 [==============================] - 0s 43ms/step - loss: 4.9603e-05 - accuracy: 1.0000\n",
            "Epoch 126/200\n",
            "11/11 [==============================] - 0s 45ms/step - loss: 1.2712e-05 - accuracy: 1.0000\n",
            "Epoch 127/200\n",
            "11/11 [==============================] - 1s 46ms/step - loss: 1.0068e-05 - accuracy: 1.0000\n",
            "Epoch 128/200\n",
            "11/11 [==============================] - 0s 44ms/step - loss: 2.4395e-05 - accuracy: 1.0000\n",
            "Epoch 129/200\n",
            "11/11 [==============================] - 0s 43ms/step - loss: 1.2096e-04 - accuracy: 1.0000\n",
            "Epoch 130/200\n",
            "11/11 [==============================] - 1s 46ms/step - loss: 1.7256e-05 - accuracy: 1.0000\n",
            "Epoch 131/200\n",
            "11/11 [==============================] - 0s 43ms/step - loss: 8.1926e-06 - accuracy: 1.0000\n",
            "Epoch 132/200\n",
            "11/11 [==============================] - 1s 45ms/step - loss: 1.2725e-05 - accuracy: 1.0000\n",
            "Epoch 133/200\n",
            "11/11 [==============================] - 0s 43ms/step - loss: 7.9345e-05 - accuracy: 1.0000\n",
            "Epoch 134/200\n",
            "11/11 [==============================] - 1s 46ms/step - loss: 1.8839e-05 - accuracy: 1.0000\n",
            "Epoch 135/200\n",
            "11/11 [==============================] - 0s 43ms/step - loss: 2.4898e-05 - accuracy: 1.0000\n",
            "Epoch 136/200\n",
            "11/11 [==============================] - 1s 45ms/step - loss: 1.0244e-05 - accuracy: 1.0000\n",
            "Epoch 137/200\n",
            "11/11 [==============================] - 0s 44ms/step - loss: 6.2003e-04 - accuracy: 1.0000\n",
            "Epoch 138/200\n",
            "11/11 [==============================] - 1s 46ms/step - loss: 3.6250e-05 - accuracy: 1.0000\n",
            "Epoch 139/200\n",
            "11/11 [==============================] - 0s 44ms/step - loss: 4.2979e-05 - accuracy: 1.0000\n",
            "Epoch 140/200\n",
            "11/11 [==============================] - 0s 45ms/step - loss: 2.4352e-05 - accuracy: 1.0000\n",
            "Epoch 141/200\n",
            "11/11 [==============================] - 0s 44ms/step - loss: 8.2282e-05 - accuracy: 1.0000\n",
            "Epoch 142/200\n",
            "11/11 [==============================] - 0s 45ms/step - loss: 4.3386e-05 - accuracy: 1.0000\n",
            "Epoch 143/200\n",
            "11/11 [==============================] - 0s 43ms/step - loss: 1.3408e-05 - accuracy: 1.0000\n",
            "Epoch 144/200\n",
            "11/11 [==============================] - 1s 48ms/step - loss: 1.2422e-05 - accuracy: 1.0000\n",
            "Epoch 145/200\n",
            "11/11 [==============================] - 0s 43ms/step - loss: 2.4225e-05 - accuracy: 1.0000\n",
            "Epoch 146/200\n",
            "11/11 [==============================] - 0s 43ms/step - loss: 1.6747e-05 - accuracy: 1.0000\n",
            "Epoch 147/200\n",
            "11/11 [==============================] - 0s 42ms/step - loss: 9.3112e-06 - accuracy: 1.0000\n",
            "Epoch 148/200\n",
            "11/11 [==============================] - 0s 44ms/step - loss: 8.0682e-06 - accuracy: 1.0000\n",
            "Epoch 149/200\n",
            "11/11 [==============================] - 0s 44ms/step - loss: 7.5581e-06 - accuracy: 1.0000\n",
            "Epoch 150/200\n",
            "11/11 [==============================] - 0s 45ms/step - loss: 2.0473e-05 - accuracy: 1.0000\n",
            "Epoch 151/200\n",
            "11/11 [==============================] - 0s 45ms/step - loss: 7.9884e-06 - accuracy: 1.0000\n",
            "Epoch 152/200\n",
            "11/11 [==============================] - 0s 45ms/step - loss: 1.7208e-05 - accuracy: 1.0000\n",
            "Epoch 153/200\n",
            "11/11 [==============================] - 1s 45ms/step - loss: 5.7292e-05 - accuracy: 1.0000\n",
            "Epoch 154/200\n",
            "11/11 [==============================] - 0s 43ms/step - loss: 1.6364e-05 - accuracy: 1.0000\n",
            "Epoch 155/200\n",
            "11/11 [==============================] - 0s 43ms/step - loss: 7.3890e-06 - accuracy: 1.0000\n",
            "Epoch 156/200\n",
            "11/11 [==============================] - 0s 44ms/step - loss: 1.5870e-05 - accuracy: 1.0000\n",
            "Epoch 157/200\n",
            "11/11 [==============================] - 0s 44ms/step - loss: 1.9770e-05 - accuracy: 1.0000\n",
            "Epoch 158/200\n",
            "11/11 [==============================] - 0s 45ms/step - loss: 7.6282e-06 - accuracy: 1.0000\n",
            "Epoch 159/200\n",
            "11/11 [==============================] - 0s 44ms/step - loss: 1.1209e-05 - accuracy: 1.0000\n",
            "Epoch 160/200\n",
            "11/11 [==============================] - 0s 44ms/step - loss: 9.8388e-06 - accuracy: 1.0000\n",
            "Epoch 161/200\n",
            "11/11 [==============================] - 1s 45ms/step - loss: 1.4163e-05 - accuracy: 1.0000\n",
            "Epoch 162/200\n",
            "11/11 [==============================] - 0s 44ms/step - loss: 7.5519e-06 - accuracy: 1.0000\n",
            "Epoch 163/200\n",
            "11/11 [==============================] - 1s 47ms/step - loss: 1.4054e-05 - accuracy: 1.0000\n",
            "Epoch 164/200\n",
            "11/11 [==============================] - 0s 44ms/step - loss: 4.1708e-05 - accuracy: 1.0000\n",
            "Epoch 165/200\n",
            "11/11 [==============================] - 1s 45ms/step - loss: 1.3467e-04 - accuracy: 1.0000\n",
            "Epoch 166/200\n",
            "11/11 [==============================] - 0s 44ms/step - loss: 7.9566e-06 - accuracy: 1.0000\n",
            "Epoch 167/200\n",
            "11/11 [==============================] - 1s 44ms/step - loss: 1.0816e-05 - accuracy: 1.0000\n",
            "Epoch 168/200\n",
            "11/11 [==============================] - 0s 44ms/step - loss: 9.0563e-06 - accuracy: 1.0000\n",
            "Epoch 169/200\n",
            "11/11 [==============================] - 1s 45ms/step - loss: 2.6928e-05 - accuracy: 1.0000\n",
            "Epoch 170/200\n",
            "11/11 [==============================] - 0s 44ms/step - loss: 6.8850e-06 - accuracy: 1.0000\n",
            "Epoch 171/200\n",
            "11/11 [==============================] - 1s 45ms/step - loss: 1.5732e-05 - accuracy: 1.0000\n",
            "Epoch 172/200\n",
            "11/11 [==============================] - 0s 44ms/step - loss: 7.1977e-06 - accuracy: 1.0000\n",
            "Epoch 173/200\n",
            "11/11 [==============================] - 0s 44ms/step - loss: 4.7940e-05 - accuracy: 1.0000\n",
            "Epoch 174/200\n",
            "11/11 [==============================] - 0s 44ms/step - loss: 6.1807e-06 - accuracy: 1.0000\n",
            "Epoch 175/200\n",
            "11/11 [==============================] - 1s 46ms/step - loss: 1.8734e-05 - accuracy: 1.0000\n",
            "Epoch 176/200\n",
            "11/11 [==============================] - 0s 43ms/step - loss: 9.4198e-06 - accuracy: 1.0000\n",
            "Epoch 177/200\n",
            "11/11 [==============================] - 0s 45ms/step - loss: 6.6158e-05 - accuracy: 1.0000\n",
            "Epoch 178/200\n",
            "11/11 [==============================] - 0s 44ms/step - loss: 4.6368e-06 - accuracy: 1.0000\n",
            "Epoch 179/200\n",
            "11/11 [==============================] - 0s 45ms/step - loss: 4.0319e-06 - accuracy: 1.0000\n",
            "Epoch 180/200\n",
            "11/11 [==============================] - 0s 43ms/step - loss: 5.3018e-06 - accuracy: 1.0000\n",
            "Epoch 181/200\n",
            "11/11 [==============================] - 1s 46ms/step - loss: 1.1513e-05 - accuracy: 1.0000\n",
            "Epoch 182/200\n",
            "11/11 [==============================] - 1s 45ms/step - loss: 2.5888e-05 - accuracy: 1.0000\n",
            "Epoch 183/200\n",
            "11/11 [==============================] - 1s 46ms/step - loss: 5.5110e-06 - accuracy: 1.0000\n",
            "Epoch 184/200\n",
            "11/11 [==============================] - 0s 44ms/step - loss: 1.4892e-05 - accuracy: 1.0000\n",
            "Epoch 185/200\n",
            "11/11 [==============================] - 1s 46ms/step - loss: 1.1351e-05 - accuracy: 1.0000\n",
            "Epoch 186/200\n",
            "11/11 [==============================] - 1s 46ms/step - loss: 3.6775e-06 - accuracy: 1.0000\n",
            "Epoch 187/200\n",
            "11/11 [==============================] - 1s 45ms/step - loss: 2.4094e-05 - accuracy: 1.0000\n",
            "Epoch 188/200\n",
            "11/11 [==============================] - 1s 45ms/step - loss: 5.3669e-06 - accuracy: 1.0000\n",
            "Epoch 189/200\n",
            "11/11 [==============================] - 1s 46ms/step - loss: 2.9843e-05 - accuracy: 1.0000\n",
            "Epoch 190/200\n",
            "11/11 [==============================] - 0s 45ms/step - loss: 2.6138e-06 - accuracy: 1.0000\n",
            "Epoch 191/200\n",
            "11/11 [==============================] - 1s 45ms/step - loss: 4.3741e-06 - accuracy: 1.0000\n",
            "Epoch 192/200\n",
            "11/11 [==============================] - 0s 45ms/step - loss: 3.2361e-05 - accuracy: 1.0000\n",
            "Epoch 193/200\n",
            "11/11 [==============================] - 0s 45ms/step - loss: 1.3863e-05 - accuracy: 1.0000\n",
            "Epoch 194/200\n",
            "11/11 [==============================] - 0s 44ms/step - loss: 8.6472e-06 - accuracy: 1.0000\n",
            "Epoch 195/200\n",
            "11/11 [==============================] - 0s 44ms/step - loss: 6.6326e-06 - accuracy: 1.0000\n",
            "Epoch 196/200\n",
            "11/11 [==============================] - 0s 44ms/step - loss: 3.2369e-06 - accuracy: 1.0000\n",
            "Epoch 197/200\n",
            "11/11 [==============================] - 1s 46ms/step - loss: 2.9297e-06 - accuracy: 1.0000\n",
            "Epoch 198/200\n",
            "11/11 [==============================] - 0s 44ms/step - loss: 2.9294e-06 - accuracy: 1.0000\n",
            "Epoch 199/200\n",
            "11/11 [==============================] - 1s 45ms/step - loss: 7.3978e-06 - accuracy: 1.0000\n",
            "Epoch 200/200\n",
            "11/11 [==============================] - 0s 45ms/step - loss: 4.2000e-06 - accuracy: 1.0000\n"
          ],
          "name": "stdout"
        },
        {
          "output_type": "execute_result",
          "data": {
            "text/plain": [
              "<keras.callbacks.History at 0x7f5d39b88cd0>"
            ]
          },
          "metadata": {
            "tags": []
          },
          "execution_count": 16
        }
      ]
    },
    {
      "cell_type": "code",
      "metadata": {
        "id": "cSTlOSUBWMpj"
      },
      "source": [
        "Y_test = yback(Y_test)"
      ],
      "execution_count": 17,
      "outputs": []
    },
    {
      "cell_type": "code",
      "metadata": {
        "colab": {
          "base_uri": "https://localhost:8080/"
        },
        "id": "qpf0XlSARX78",
        "outputId": "0ddb4450-c96a-41e8-e60a-feb13ee1c937"
      },
      "source": [
        "pred_test= model.predict_classes(X_test)\n",
        "\n",
        "data = {'y_true': Y_test,'y_predict': pred_test}  # este dado esta no formato de dicionario\n",
        "\n",
        "df = pd.DataFrame(data, columns=['y_true','y_predict'])\n",
        "\n",
        "\n",
        "confusion_matrix = pd.crosstab(df['y_true'], df['y_predict'], rownames=['Actual'], colnames=['Predict'])\n",
        "print(confusion_matrix)\n",
        "\n",
        "y_true = df['y_true']\n",
        "y_pred = df['y_predict']\n",
        "\n",
        "  \n",
        "METRICS=sklearn.metrics.classification_report(y_true, y_pred)"
      ],
      "execution_count": 18,
      "outputs": [
        {
          "output_type": "stream",
          "text": [
            "/usr/local/lib/python3.7/dist-packages/keras/engine/sequential.py:450: UserWarning: `model.predict_classes()` is deprecated and will be removed after 2021-01-01. Please use instead:* `np.argmax(model.predict(x), axis=-1)`,   if your model does multi-class classification   (e.g. if it uses a `softmax` last-layer activation).* `(model.predict(x) > 0.5).astype(\"int32\")`,   if your model does binary classification   (e.g. if it uses a `sigmoid` last-layer activation).\n",
            "  warnings.warn('`model.predict_classes()` is deprecated and '\n"
          ],
          "name": "stderr"
        },
        {
          "output_type": "stream",
          "text": [
            "Predict   0   1\n",
            "Actual         \n",
            "0        70   2\n",
            "1         4  71\n"
          ],
          "name": "stdout"
        }
      ]
    },
    {
      "cell_type": "code",
      "metadata": {
        "colab": {
          "base_uri": "https://localhost:8080/"
        },
        "id": "_iFNNrlWV9tH",
        "outputId": "413862e1-e2fa-48a6-9598-a925df85af7d"
      },
      "source": [
        "pred_test"
      ],
      "execution_count": 19,
      "outputs": [
        {
          "output_type": "execute_result",
          "data": {
            "text/plain": [
              "array([1, 0, 1, 1, 1, 1, 0, 0, 1, 0, 0, 0, 1, 0, 1, 0, 1, 1, 1, 0, 0, 0,\n",
              "       1, 0, 1, 0, 0, 1, 1, 1, 0, 0, 1, 1, 0, 0, 0, 0, 0, 0, 1, 1, 1, 0,\n",
              "       0, 0, 0, 1, 1, 1, 1, 0, 0, 1, 0, 0, 1, 0, 1, 0, 1, 1, 0, 1, 1, 1,\n",
              "       0, 1, 1, 1, 1, 0, 1, 1, 0, 0, 1, 1, 0, 0, 1, 1, 1, 1, 0, 1, 0, 0,\n",
              "       1, 0, 0, 1, 0, 0, 1, 0, 1, 1, 1, 0, 1, 1, 1, 0, 1, 0, 1, 1, 0, 0,\n",
              "       0, 1, 1, 1, 1, 1, 1, 1, 0, 1, 0, 0, 0, 1, 1, 0, 0, 0, 0, 0, 0, 0,\n",
              "       0, 0, 0, 0, 0, 1, 0, 0, 1, 1, 1, 0, 0, 0, 1])"
            ]
          },
          "metadata": {
            "tags": []
          },
          "execution_count": 19
        }
      ]
    },
    {
      "cell_type": "code",
      "metadata": {
        "id": "QISvYcJBgWbE",
        "colab": {
          "base_uri": "https://localhost:8080/"
        },
        "outputId": "aefe21a8-d136-420e-9f4c-9b7e82cff46f"
      },
      "source": [
        "cont = 0; num =25\n",
        "img_graos = []\n",
        "Width_new = []\n",
        "img=ww[0] \n",
        "while( cont < num):\n",
        "  df=Segmenta(img)\n",
        "  df_ann =df.copy()\n",
        "  Width = df['Width']\n",
        "  del df_ann['Width']\n",
        "  result = np.array(df_ann)\n",
        "  result = result.reshape(-1, Img_Size, Img_Size, 1) / 255.0\n",
        "  prediction = model.predict_classes(result)\n",
        "  loc_grao =[];k=0\n",
        "  for i in prediction:\n",
        "    if( i == 0):\n",
        "      img_graos.append(df.iloc[k,:])\n",
        "      Width_new.append(Width.iloc[k])\n",
        "      cont = cont + 1\n",
        "    k = k +1\n",
        "img_graos = pd.DataFrame(img_graos)\n",
        "print(img_graos)"
      ],
      "execution_count": 20,
      "outputs": [
        {
          "output_type": "stream",
          "text": [
            "/usr/local/lib/python3.7/dist-packages/keras/engine/sequential.py:450: UserWarning: `model.predict_classes()` is deprecated and will be removed after 2021-01-01. Please use instead:* `np.argmax(model.predict(x), axis=-1)`,   if your model does multi-class classification   (e.g. if it uses a `softmax` last-layer activation).* `(model.predict(x) > 0.5).astype(\"int32\")`,   if your model does binary classification   (e.g. if it uses a `sigmoid` last-layer activation).\n",
            "  warnings.warn('`model.predict_classes()` is deprecated and '\n"
          ],
          "name": "stderr"
        },
        {
          "output_type": "stream",
          "text": [
            "    Width           0           1  ...         781         782         783\n",
            "0   117.0  106.801811  106.755936  ...   43.292130   40.190228   37.402004\n",
            "2   114.0  147.666351  153.332703  ...   68.769157   58.743919   60.826408\n",
            "3   108.0   61.751713   56.814816  ...   60.423866   62.969814   66.141289\n",
            "4   130.0   81.817047   82.933723  ...   76.745560   76.627457   75.381546\n",
            "5   102.0  140.507126   67.572861  ...   30.739334   30.867363   32.279892\n",
            "6   111.0   74.736549   76.632011  ...   87.828102   84.300385   82.054619\n",
            "7   101.0   51.125381   52.823059  ...   84.492203   81.918442   79.770416\n",
            "8   140.0   67.919998   63.439999  ...   72.239998   72.959999   76.040001\n",
            "9   111.0  119.955032  131.000565  ...   31.322620   27.438194   27.572601\n",
            "10  113.0  123.827087  125.547028  ...   93.313263   94.190224   94.006821\n",
            "11  177.0   65.921700   55.897945  ...    0.000000    0.000000    0.000000\n",
            "12  187.0  123.463791  132.418396  ...   59.789642   60.760494   56.470642\n",
            "13  140.0  100.879997   99.559998  ...   84.279999   87.839996   91.919998\n",
            "14  168.0   88.333336   92.527779  ...   40.666668   37.333332   36.694447\n",
            "16  129.0   61.387596   60.100414  ...   76.416565   78.033112   77.876022\n",
            "17  186.0   93.506310   91.667717  ...  179.230331  147.844955  149.385025\n",
            "18  145.0  137.277481  139.360703  ...   13.309012    4.654506    0.565850\n",
            "19  159.0   51.935760   48.039871  ...    6.708081    6.483723    6.821289\n",
            "21  176.0   54.249996   63.987087  ...    0.000000    0.000000    0.000000\n",
            "22  115.0   58.632210   55.525211  ...   53.433342   51.876442   50.328163\n",
            "23  175.0   79.494392   75.817604  ...   37.014400   41.715195   55.660797\n",
            "24  190.0   93.750137   94.264267  ...    0.000000    0.000000    0.000000\n",
            "25  158.0  112.869720   95.837517  ...   92.533401   88.279602   84.183472\n",
            "26  192.0   40.869354   39.525604  ...   77.170998   78.318565   84.697472\n",
            "27  139.0   85.923141   86.721848  ...  113.895386   27.459190   15.421924\n",
            "28  120.0   58.954449   56.868889  ...   63.533333   69.180008   74.191116\n",
            "30  148.0  104.327263   94.007309  ...   92.372543  103.845146  109.417099\n",
            "31  119.0   90.089966   85.467125  ...    0.000000    0.000000    0.000000\n",
            "32  163.0   61.416611   55.822353  ...  105.391396   90.365273   87.331970\n",
            "34  188.0   83.830688   84.524666  ...   37.963783   37.983246   35.890900\n",
            "35  157.0  155.178757  179.670792  ...   80.290237   79.087196   82.611549\n",
            "36  116.0   88.934601   79.894165  ...  104.013077  102.111771  100.539833\n",
            "37  143.0   43.452492   39.034473  ...   45.245438   44.178391   45.340500\n",
            "38  144.0   72.124229   73.317131  ...  145.692123  145.365753  145.825607\n",
            "39  149.0   78.315254   69.900414  ...  106.383682  107.925865  108.480530\n",
            "41  114.0   93.385658   99.184982  ...   86.979683   90.306862   96.452751\n",
            "42  175.0   71.193596   82.809593  ...   51.115196   56.601597   58.380791\n",
            "43  167.0   86.886597   88.053360  ...   87.935287   86.710785   83.433800\n",
            "44  126.0   44.617287   37.061729  ...   22.580246   13.382716    1.555555\n",
            "45  107.0   63.460304   62.574463  ...   65.140450   64.861382   66.405975\n",
            "46  112.0   64.187500   66.437500  ...    0.000000    0.000000    0.000000\n",
            "47  185.0   77.733879   77.820709  ...   55.582821   52.854874   51.939980\n",
            "48  110.0    1.847934    4.597024  ...   63.542809   67.203964   68.004631\n",
            "49  128.0   80.676758   82.194336  ...  104.753906  108.799805  107.768555\n",
            "\n",
            "[44 rows x 785 columns]\n"
          ],
          "name": "stdout"
        }
      ]
    },
    {
      "cell_type": "code",
      "metadata": {
        "id": "6LkA4vHp-f6_"
      },
      "source": [
        "Width=np.array(Width_new)"
      ],
      "execution_count": 21,
      "outputs": []
    },
    {
      "cell_type": "code",
      "metadata": {
        "colab": {
          "base_uri": "https://localhost:8080/"
        },
        "id": "MjRbWgmX_LFH",
        "outputId": "5045b004-f31d-43aa-ee60-e32a4044f471"
      },
      "source": [
        "!git clone https://github.com/ucfilho/marquesgabi_paper_fev_2021\n",
        "%cd marquesgabi_paper_fev_2021\n",
        "\n",
        "from Get_PSDArea_New import PSDArea\n",
        "from histogram_fev_2021 import PSD\n",
        "from GetBetterSegm import GetBetter"
      ],
      "execution_count": 22,
      "outputs": [
        {
          "output_type": "stream",
          "text": [
            "fatal: destination path 'marquesgabi_paper_fev_2021' already exists and is not an empty directory.\n",
            "/content/marquesgabi_fev_2020/Doutorado/MarquesGabi_Routines/MarquesGabi_Routines/marquesgabi_paper_fev_2021\n"
          ],
          "name": "stdout"
        }
      ]
    },
    {
      "cell_type": "code",
      "metadata": {
        "colab": {
          "base_uri": "https://localhost:8080/"
        },
        "id": "WAG_I6FwCvFr",
        "outputId": "2ecc497c-90f3-4a14-aa39-18eaa231c8d1"
      },
      "source": [
        "!git clone https://github.com/ucfilho/marquesgabi_out_2020\n",
        "%cd marquesgabi_out_2020\n",
        "PSD_imageJ = 'Areas_ImageJ.csv'\n",
        "PSD_new = pd.read_csv(PSD_imageJ)\n",
        "print(PSD_new.head(3))"
      ],
      "execution_count": 23,
      "outputs": [
        {
          "output_type": "stream",
          "text": [
            "fatal: destination path 'marquesgabi_out_2020' already exists and is not an empty directory.\n",
            "/content/marquesgabi_fev_2020/Doutorado/MarquesGabi_Routines/MarquesGabi_Routines/marquesgabi_paper_fev_2021/marquesgabi_out_2020\n",
            "   Juntas   Area\n",
            "0       1  2.001\n",
            "1       2  0.820\n",
            "2       3  1.270\n"
          ],
          "name": "stdout"
        }
      ]
    },
    {
      "cell_type": "code",
      "metadata": {
        "id": "t_1WIM8w7poO"
      },
      "source": [
        "Area_All, Diameter_All=PSDArea(img_graos) "
      ],
      "execution_count": 24,
      "outputs": []
    },
    {
      "cell_type": "code",
      "metadata": {
        "colab": {
          "base_uri": "https://localhost:8080/",
          "height": 255
        },
        "id": "PekBHQOT_6CP",
        "outputId": "00d0c2f8-6c6b-4d8e-d012-01996f2cfc7e"
      },
      "source": [
        "img_graos.head()"
      ],
      "execution_count": 25,
      "outputs": [
        {
          "output_type": "execute_result",
          "data": {
            "text/html": [
              "<div>\n",
              "<style scoped>\n",
              "    .dataframe tbody tr th:only-of-type {\n",
              "        vertical-align: middle;\n",
              "    }\n",
              "\n",
              "    .dataframe tbody tr th {\n",
              "        vertical-align: top;\n",
              "    }\n",
              "\n",
              "    .dataframe thead th {\n",
              "        text-align: right;\n",
              "    }\n",
              "</style>\n",
              "<table border=\"1\" class=\"dataframe\">\n",
              "  <thead>\n",
              "    <tr style=\"text-align: right;\">\n",
              "      <th></th>\n",
              "      <th>Width</th>\n",
              "      <th>0</th>\n",
              "      <th>1</th>\n",
              "      <th>2</th>\n",
              "      <th>3</th>\n",
              "      <th>4</th>\n",
              "      <th>5</th>\n",
              "      <th>6</th>\n",
              "      <th>7</th>\n",
              "      <th>8</th>\n",
              "      <th>9</th>\n",
              "      <th>10</th>\n",
              "      <th>11</th>\n",
              "      <th>12</th>\n",
              "      <th>13</th>\n",
              "      <th>14</th>\n",
              "      <th>15</th>\n",
              "      <th>16</th>\n",
              "      <th>17</th>\n",
              "      <th>18</th>\n",
              "      <th>19</th>\n",
              "      <th>20</th>\n",
              "      <th>21</th>\n",
              "      <th>22</th>\n",
              "      <th>23</th>\n",
              "      <th>24</th>\n",
              "      <th>25</th>\n",
              "      <th>26</th>\n",
              "      <th>27</th>\n",
              "      <th>28</th>\n",
              "      <th>29</th>\n",
              "      <th>30</th>\n",
              "      <th>31</th>\n",
              "      <th>32</th>\n",
              "      <th>33</th>\n",
              "      <th>34</th>\n",
              "      <th>35</th>\n",
              "      <th>36</th>\n",
              "      <th>37</th>\n",
              "      <th>38</th>\n",
              "      <th>...</th>\n",
              "      <th>744</th>\n",
              "      <th>745</th>\n",
              "      <th>746</th>\n",
              "      <th>747</th>\n",
              "      <th>748</th>\n",
              "      <th>749</th>\n",
              "      <th>750</th>\n",
              "      <th>751</th>\n",
              "      <th>752</th>\n",
              "      <th>753</th>\n",
              "      <th>754</th>\n",
              "      <th>755</th>\n",
              "      <th>756</th>\n",
              "      <th>757</th>\n",
              "      <th>758</th>\n",
              "      <th>759</th>\n",
              "      <th>760</th>\n",
              "      <th>761</th>\n",
              "      <th>762</th>\n",
              "      <th>763</th>\n",
              "      <th>764</th>\n",
              "      <th>765</th>\n",
              "      <th>766</th>\n",
              "      <th>767</th>\n",
              "      <th>768</th>\n",
              "      <th>769</th>\n",
              "      <th>770</th>\n",
              "      <th>771</th>\n",
              "      <th>772</th>\n",
              "      <th>773</th>\n",
              "      <th>774</th>\n",
              "      <th>775</th>\n",
              "      <th>776</th>\n",
              "      <th>777</th>\n",
              "      <th>778</th>\n",
              "      <th>779</th>\n",
              "      <th>780</th>\n",
              "      <th>781</th>\n",
              "      <th>782</th>\n",
              "      <th>783</th>\n",
              "    </tr>\n",
              "  </thead>\n",
              "  <tbody>\n",
              "    <tr>\n",
              "      <th>0</th>\n",
              "      <td>117.0</td>\n",
              "      <td>106.801811</td>\n",
              "      <td>106.755936</td>\n",
              "      <td>108.009567</td>\n",
              "      <td>111.697357</td>\n",
              "      <td>116.175400</td>\n",
              "      <td>120.144722</td>\n",
              "      <td>123.486237</td>\n",
              "      <td>124.622330</td>\n",
              "      <td>96.434654</td>\n",
              "      <td>30.150488</td>\n",
              "      <td>24.978304</td>\n",
              "      <td>28.179998</td>\n",
              "      <td>27.308205</td>\n",
              "      <td>26.475565</td>\n",
              "      <td>27.326029</td>\n",
              "      <td>28.286362</td>\n",
              "      <td>29.363943</td>\n",
              "      <td>29.821096</td>\n",
              "      <td>30.251734</td>\n",
              "      <td>28.253927</td>\n",
              "      <td>25.945578</td>\n",
              "      <td>22.761999</td>\n",
              "      <td>21.616554</td>\n",
              "      <td>23.846373</td>\n",
              "      <td>24.232231</td>\n",
              "      <td>24.312004</td>\n",
              "      <td>26.572943</td>\n",
              "      <td>28.125429</td>\n",
              "      <td>105.484116</td>\n",
              "      <td>106.270447</td>\n",
              "      <td>106.803200</td>\n",
              "      <td>109.783844</td>\n",
              "      <td>114.089485</td>\n",
              "      <td>117.888741</td>\n",
              "      <td>120.301636</td>\n",
              "      <td>107.583099</td>\n",
              "      <td>40.931847</td>\n",
              "      <td>26.364819</td>\n",
              "      <td>28.177660</td>\n",
              "      <td>...</td>\n",
              "      <td>131.838913</td>\n",
              "      <td>119.884796</td>\n",
              "      <td>106.965744</td>\n",
              "      <td>78.188622</td>\n",
              "      <td>42.847321</td>\n",
              "      <td>38.807438</td>\n",
              "      <td>40.177147</td>\n",
              "      <td>40.331871</td>\n",
              "      <td>38.630581</td>\n",
              "      <td>39.672874</td>\n",
              "      <td>33.828037</td>\n",
              "      <td>33.974724</td>\n",
              "      <td>32.908318</td>\n",
              "      <td>20.783401</td>\n",
              "      <td>58.739937</td>\n",
              "      <td>87.111618</td>\n",
              "      <td>95.200012</td>\n",
              "      <td>100.631973</td>\n",
              "      <td>102.541092</td>\n",
              "      <td>105.255531</td>\n",
              "      <td>108.051575</td>\n",
              "      <td>128.293228</td>\n",
              "      <td>147.065750</td>\n",
              "      <td>143.824753</td>\n",
              "      <td>142.002853</td>\n",
              "      <td>142.205643</td>\n",
              "      <td>142.321350</td>\n",
              "      <td>141.314713</td>\n",
              "      <td>133.690933</td>\n",
              "      <td>105.960037</td>\n",
              "      <td>97.630508</td>\n",
              "      <td>65.454163</td>\n",
              "      <td>43.010517</td>\n",
              "      <td>39.974358</td>\n",
              "      <td>43.658924</td>\n",
              "      <td>44.394260</td>\n",
              "      <td>42.926582</td>\n",
              "      <td>43.292130</td>\n",
              "      <td>40.190228</td>\n",
              "      <td>37.402004</td>\n",
              "    </tr>\n",
              "    <tr>\n",
              "      <th>2</th>\n",
              "      <td>114.0</td>\n",
              "      <td>147.666351</td>\n",
              "      <td>153.332703</td>\n",
              "      <td>151.000931</td>\n",
              "      <td>144.096634</td>\n",
              "      <td>140.919662</td>\n",
              "      <td>138.582321</td>\n",
              "      <td>136.400116</td>\n",
              "      <td>131.851028</td>\n",
              "      <td>94.619270</td>\n",
              "      <td>53.218838</td>\n",
              "      <td>51.214527</td>\n",
              "      <td>50.155743</td>\n",
              "      <td>48.185600</td>\n",
              "      <td>48.719910</td>\n",
              "      <td>50.559555</td>\n",
              "      <td>50.742996</td>\n",
              "      <td>51.982769</td>\n",
              "      <td>50.669125</td>\n",
              "      <td>46.564789</td>\n",
              "      <td>42.453983</td>\n",
              "      <td>41.899971</td>\n",
              "      <td>43.360107</td>\n",
              "      <td>45.324097</td>\n",
              "      <td>47.647892</td>\n",
              "      <td>48.143124</td>\n",
              "      <td>50.891045</td>\n",
              "      <td>54.130505</td>\n",
              "      <td>55.123425</td>\n",
              "      <td>148.562637</td>\n",
              "      <td>153.578949</td>\n",
              "      <td>152.018463</td>\n",
              "      <td>146.445084</td>\n",
              "      <td>146.251144</td>\n",
              "      <td>146.027710</td>\n",
              "      <td>146.179749</td>\n",
              "      <td>145.674973</td>\n",
              "      <td>140.293015</td>\n",
              "      <td>86.036942</td>\n",
              "      <td>53.721760</td>\n",
              "      <td>...</td>\n",
              "      <td>91.115723</td>\n",
              "      <td>91.746071</td>\n",
              "      <td>95.786392</td>\n",
              "      <td>102.287476</td>\n",
              "      <td>103.991692</td>\n",
              "      <td>101.957832</td>\n",
              "      <td>96.293015</td>\n",
              "      <td>91.586334</td>\n",
              "      <td>87.728226</td>\n",
              "      <td>79.180984</td>\n",
              "      <td>70.992615</td>\n",
              "      <td>68.264999</td>\n",
              "      <td>110.251160</td>\n",
              "      <td>111.393044</td>\n",
              "      <td>112.224686</td>\n",
              "      <td>110.294861</td>\n",
              "      <td>107.022476</td>\n",
              "      <td>100.456139</td>\n",
              "      <td>86.083107</td>\n",
              "      <td>63.558628</td>\n",
              "      <td>45.695904</td>\n",
              "      <td>42.117577</td>\n",
              "      <td>50.309322</td>\n",
              "      <td>68.315483</td>\n",
              "      <td>77.939674</td>\n",
              "      <td>83.016922</td>\n",
              "      <td>86.262543</td>\n",
              "      <td>88.562943</td>\n",
              "      <td>90.984612</td>\n",
              "      <td>92.000305</td>\n",
              "      <td>96.328720</td>\n",
              "      <td>101.418900</td>\n",
              "      <td>101.345337</td>\n",
              "      <td>98.801788</td>\n",
              "      <td>93.864571</td>\n",
              "      <td>88.287476</td>\n",
              "      <td>80.711914</td>\n",
              "      <td>68.769157</td>\n",
              "      <td>58.743919</td>\n",
              "      <td>60.826408</td>\n",
              "    </tr>\n",
              "    <tr>\n",
              "      <th>3</th>\n",
              "      <td>108.0</td>\n",
              "      <td>61.751713</td>\n",
              "      <td>56.814816</td>\n",
              "      <td>54.174210</td>\n",
              "      <td>53.238686</td>\n",
              "      <td>50.882027</td>\n",
              "      <td>50.668037</td>\n",
              "      <td>50.768173</td>\n",
              "      <td>52.606312</td>\n",
              "      <td>53.082302</td>\n",
              "      <td>55.192043</td>\n",
              "      <td>57.352539</td>\n",
              "      <td>57.272976</td>\n",
              "      <td>54.327847</td>\n",
              "      <td>54.618652</td>\n",
              "      <td>104.997253</td>\n",
              "      <td>117.068581</td>\n",
              "      <td>122.757202</td>\n",
              "      <td>131.943756</td>\n",
              "      <td>139.495193</td>\n",
              "      <td>137.838135</td>\n",
              "      <td>133.123459</td>\n",
              "      <td>128.480103</td>\n",
              "      <td>126.703697</td>\n",
              "      <td>127.042519</td>\n",
              "      <td>127.935516</td>\n",
              "      <td>131.709183</td>\n",
              "      <td>135.331955</td>\n",
              "      <td>132.989029</td>\n",
              "      <td>60.652946</td>\n",
              "      <td>54.122078</td>\n",
              "      <td>52.212620</td>\n",
              "      <td>51.776409</td>\n",
              "      <td>50.067215</td>\n",
              "      <td>50.481480</td>\n",
              "      <td>49.824417</td>\n",
              "      <td>51.503429</td>\n",
              "      <td>53.665295</td>\n",
              "      <td>53.622772</td>\n",
              "      <td>54.165981</td>\n",
              "      <td>...</td>\n",
              "      <td>56.920437</td>\n",
              "      <td>56.255138</td>\n",
              "      <td>54.529491</td>\n",
              "      <td>49.299034</td>\n",
              "      <td>46.203011</td>\n",
              "      <td>43.045265</td>\n",
              "      <td>45.898487</td>\n",
              "      <td>53.282574</td>\n",
              "      <td>57.769550</td>\n",
              "      <td>60.155006</td>\n",
              "      <td>62.392315</td>\n",
              "      <td>66.220848</td>\n",
              "      <td>64.780518</td>\n",
              "      <td>63.742111</td>\n",
              "      <td>62.677639</td>\n",
              "      <td>68.282578</td>\n",
              "      <td>73.798355</td>\n",
              "      <td>75.334702</td>\n",
              "      <td>74.989021</td>\n",
              "      <td>78.308640</td>\n",
              "      <td>80.031548</td>\n",
              "      <td>73.477364</td>\n",
              "      <td>63.554180</td>\n",
              "      <td>58.547325</td>\n",
              "      <td>56.706444</td>\n",
              "      <td>57.452675</td>\n",
              "      <td>57.917694</td>\n",
              "      <td>59.268860</td>\n",
              "      <td>56.744854</td>\n",
              "      <td>51.543209</td>\n",
              "      <td>50.096024</td>\n",
              "      <td>47.229080</td>\n",
              "      <td>44.330585</td>\n",
              "      <td>45.585735</td>\n",
              "      <td>46.765430</td>\n",
              "      <td>51.714680</td>\n",
              "      <td>57.592590</td>\n",
              "      <td>60.423866</td>\n",
              "      <td>62.969814</td>\n",
              "      <td>66.141289</td>\n",
              "    </tr>\n",
              "    <tr>\n",
              "      <th>4</th>\n",
              "      <td>130.0</td>\n",
              "      <td>81.817047</td>\n",
              "      <td>82.933723</td>\n",
              "      <td>83.960709</td>\n",
              "      <td>80.516449</td>\n",
              "      <td>73.207336</td>\n",
              "      <td>70.756218</td>\n",
              "      <td>68.805679</td>\n",
              "      <td>68.885689</td>\n",
              "      <td>70.922134</td>\n",
              "      <td>72.759773</td>\n",
              "      <td>73.838577</td>\n",
              "      <td>74.182243</td>\n",
              "      <td>72.582489</td>\n",
              "      <td>81.432671</td>\n",
              "      <td>104.030060</td>\n",
              "      <td>112.146988</td>\n",
              "      <td>109.338707</td>\n",
              "      <td>108.297752</td>\n",
              "      <td>108.181305</td>\n",
              "      <td>103.877876</td>\n",
              "      <td>98.382256</td>\n",
              "      <td>102.224144</td>\n",
              "      <td>101.258705</td>\n",
              "      <td>104.059647</td>\n",
              "      <td>105.293259</td>\n",
              "      <td>106.396217</td>\n",
              "      <td>104.577049</td>\n",
              "      <td>100.922134</td>\n",
              "      <td>73.379173</td>\n",
              "      <td>76.760475</td>\n",
              "      <td>76.347458</td>\n",
              "      <td>69.745796</td>\n",
              "      <td>64.200951</td>\n",
              "      <td>61.168522</td>\n",
              "      <td>61.873135</td>\n",
              "      <td>63.662960</td>\n",
              "      <td>65.666275</td>\n",
              "      <td>65.715508</td>\n",
              "      <td>65.899170</td>\n",
              "      <td>...</td>\n",
              "      <td>48.942726</td>\n",
              "      <td>54.282368</td>\n",
              "      <td>56.655621</td>\n",
              "      <td>58.317638</td>\n",
              "      <td>63.334911</td>\n",
              "      <td>66.544853</td>\n",
              "      <td>70.037407</td>\n",
              "      <td>72.965210</td>\n",
              "      <td>76.792892</td>\n",
              "      <td>80.398582</td>\n",
              "      <td>79.883789</td>\n",
              "      <td>77.719528</td>\n",
              "      <td>56.913849</td>\n",
              "      <td>56.524261</td>\n",
              "      <td>58.021545</td>\n",
              "      <td>59.702957</td>\n",
              "      <td>60.023197</td>\n",
              "      <td>60.764973</td>\n",
              "      <td>61.614204</td>\n",
              "      <td>60.832191</td>\n",
              "      <td>58.378227</td>\n",
              "      <td>54.609703</td>\n",
              "      <td>54.213730</td>\n",
              "      <td>53.591713</td>\n",
              "      <td>52.732075</td>\n",
              "      <td>54.093491</td>\n",
              "      <td>49.774910</td>\n",
              "      <td>40.057514</td>\n",
              "      <td>39.277397</td>\n",
              "      <td>45.140594</td>\n",
              "      <td>49.239288</td>\n",
              "      <td>53.733967</td>\n",
              "      <td>58.153374</td>\n",
              "      <td>60.920242</td>\n",
              "      <td>64.569466</td>\n",
              "      <td>68.578461</td>\n",
              "      <td>72.174202</td>\n",
              "      <td>76.745560</td>\n",
              "      <td>76.627457</td>\n",
              "      <td>75.381546</td>\n",
              "    </tr>\n",
              "    <tr>\n",
              "      <th>5</th>\n",
              "      <td>102.0</td>\n",
              "      <td>140.507126</td>\n",
              "      <td>67.572861</td>\n",
              "      <td>18.019993</td>\n",
              "      <td>21.102655</td>\n",
              "      <td>23.309113</td>\n",
              "      <td>18.238754</td>\n",
              "      <td>16.017302</td>\n",
              "      <td>17.009228</td>\n",
              "      <td>24.944637</td>\n",
              "      <td>29.322954</td>\n",
              "      <td>30.496737</td>\n",
              "      <td>32.432144</td>\n",
              "      <td>32.922340</td>\n",
              "      <td>32.707039</td>\n",
              "      <td>31.951561</td>\n",
              "      <td>30.199156</td>\n",
              "      <td>29.338333</td>\n",
              "      <td>30.390236</td>\n",
              "      <td>30.984241</td>\n",
              "      <td>29.551712</td>\n",
              "      <td>28.585932</td>\n",
              "      <td>28.456751</td>\n",
              "      <td>29.778164</td>\n",
              "      <td>30.568628</td>\n",
              "      <td>31.524418</td>\n",
              "      <td>32.528645</td>\n",
              "      <td>33.073051</td>\n",
              "      <td>33.710503</td>\n",
              "      <td>140.298752</td>\n",
              "      <td>141.551346</td>\n",
              "      <td>40.241447</td>\n",
              "      <td>22.501348</td>\n",
              "      <td>26.196466</td>\n",
              "      <td>24.958479</td>\n",
              "      <td>25.492889</td>\n",
              "      <td>23.748945</td>\n",
              "      <td>26.128029</td>\n",
              "      <td>29.728184</td>\n",
              "      <td>32.107655</td>\n",
              "      <td>...</td>\n",
              "      <td>36.996159</td>\n",
              "      <td>39.878899</td>\n",
              "      <td>39.175323</td>\n",
              "      <td>36.696274</td>\n",
              "      <td>36.950405</td>\n",
              "      <td>36.422150</td>\n",
              "      <td>34.890812</td>\n",
              "      <td>34.272591</td>\n",
              "      <td>32.394852</td>\n",
              "      <td>33.206074</td>\n",
              "      <td>32.838139</td>\n",
              "      <td>32.898888</td>\n",
              "      <td>108.221848</td>\n",
              "      <td>109.171486</td>\n",
              "      <td>109.634766</td>\n",
              "      <td>110.637459</td>\n",
              "      <td>114.083435</td>\n",
              "      <td>120.089584</td>\n",
              "      <td>126.570564</td>\n",
              "      <td>130.435226</td>\n",
              "      <td>132.831223</td>\n",
              "      <td>131.002701</td>\n",
              "      <td>125.023849</td>\n",
              "      <td>121.847382</td>\n",
              "      <td>120.115341</td>\n",
              "      <td>114.473671</td>\n",
              "      <td>110.185707</td>\n",
              "      <td>89.867371</td>\n",
              "      <td>34.381012</td>\n",
              "      <td>37.620537</td>\n",
              "      <td>37.578243</td>\n",
              "      <td>37.053833</td>\n",
              "      <td>37.250294</td>\n",
              "      <td>36.966553</td>\n",
              "      <td>33.934258</td>\n",
              "      <td>30.418686</td>\n",
              "      <td>29.768167</td>\n",
              "      <td>30.739334</td>\n",
              "      <td>30.867363</td>\n",
              "      <td>32.279892</td>\n",
              "    </tr>\n",
              "  </tbody>\n",
              "</table>\n",
              "<p>5 rows × 785 columns</p>\n",
              "</div>"
            ],
            "text/plain": [
              "   Width           0           1  ...        781        782        783\n",
              "0  117.0  106.801811  106.755936  ...  43.292130  40.190228  37.402004\n",
              "2  114.0  147.666351  153.332703  ...  68.769157  58.743919  60.826408\n",
              "3  108.0   61.751713   56.814816  ...  60.423866  62.969814  66.141289\n",
              "4  130.0   81.817047   82.933723  ...  76.745560  76.627457  75.381546\n",
              "5  102.0  140.507126   67.572861  ...  30.739334  30.867363  32.279892\n",
              "\n",
              "[5 rows x 785 columns]"
            ]
          },
          "metadata": {
            "tags": []
          },
          "execution_count": 25
        }
      ]
    },
    {
      "cell_type": "code",
      "metadata": {
        "id": "4vmhG2LgCabC"
      },
      "source": [
        "Area = np.array(PSD_new['Area'])\n",
        "diam_teste = []\n",
        "for A in Area:\n",
        "  diam_teste.append((4*A/np.pi)**0.5) \n",
        "\n",
        "Diam1 = [ (4*A/np.pi)**0.5 for A in Area]"
      ],
      "execution_count": 26,
      "outputs": []
    },
    {
      "cell_type": "code",
      "metadata": {
        "colab": {
          "base_uri": "https://localhost:8080/"
        },
        "id": "9J705kDqsE8f",
        "outputId": "b55e03e7-6bf5-4d5d-a3e0-5a5e78b7413c"
      },
      "source": [
        "X.shape"
      ],
      "execution_count": 27,
      "outputs": [
        {
          "output_type": "execute_result",
          "data": {
            "text/plain": [
              "(490, 784)"
            ]
          },
          "metadata": {
            "tags": []
          },
          "execution_count": 27
        }
      ]
    },
    {
      "cell_type": "code",
      "metadata": {
        "id": "3wCFDX8esLoQ"
      },
      "source": [
        ""
      ],
      "execution_count": 27,
      "outputs": []
    },
    {
      "cell_type": "code",
      "metadata": {
        "id": "Hn-F050Hr9Ui"
      },
      "source": [
        ""
      ],
      "execution_count": 27,
      "outputs": []
    },
    {
      "cell_type": "code",
      "metadata": {
        "colab": {
          "base_uri": "https://localhost:8080/",
          "height": 283
        },
        "id": "Vfk_fNXGDK5_",
        "outputId": "879db6dc-e724-44b3-d429-2765d78ebcf6"
      },
      "source": [
        " wt1 = np.ones(len(Diam1)) / len(Diam1)*100\n",
        " wt2 = np.ones(len(Diameter_All)) / len(Diameter_All)*100\n",
        " X = pd.DataFrame([Diam1,Diameter_All])\n",
        " wts = pd.DataFrame([wt1,wt2])\n",
        "plt.hist(X,weights=wts)\n",
        "plt.legend(['Image J','CNN'])"
      ],
      "execution_count": 28,
      "outputs": [
        {
          "output_type": "execute_result",
          "data": {
            "text/plain": [
              "<matplotlib.legend.Legend at 0x7f5d354ed7d0>"
            ]
          },
          "metadata": {
            "tags": []
          },
          "execution_count": 28
        },
        {
          "output_type": "display_data",
          "data": {
            "image/png": "[encoded data removed]",
            "text/plain": [
              "<Figure size 432x288 with 1 Axes>"
            ]
          },
          "metadata": {
            "tags": [],
            "needs_background": "light"
          }
        }
      ]
    },
    {
      "cell_type": "code",
      "metadata": {
        "id": "-nGDbBEeiUij",
        "colab": {
          "base_uri": "https://localhost:8080/",
          "height": 410
        },
        "outputId": "a2a2ec26-2390-4386-aa03-841b726bf25e"
      },
      "source": [
        "# plt.hist(x, bins=bins, density=True, histtype='step', cumulative=-1,label='Reversed emp.')\n",
        "plt.hist(X, density=True, histtype='step', cumulative=True,label='Reversed emp.')"
      ],
      "execution_count": 29,
      "outputs": [
        {
          "output_type": "execute_result",
          "data": {
            "text/plain": [
              "(array([[0.07368421, 0.2       , 0.41052632, 0.75789474, 0.88421053,\n",
              "         0.96842105, 0.97894737, 0.97894737, 0.98947368, 1.        ],\n",
              "        [0.18181818, 0.38636364, 0.56818182, 0.79545455, 0.90909091,\n",
              "         0.97727273, 1.        , 1.        , 1.        , 1.        ]]),\n",
              " array([0.75356807, 0.90995518, 1.06634229, 1.22272941, 1.37911652,\n",
              "        1.53550363, 1.69189074, 1.84827785, 2.00466497, 2.16105208,\n",
              "        2.31743919]),\n",
              " <a list of 2 Lists of Patches objects>)"
            ]
          },
          "metadata": {
            "tags": []
          },
          "execution_count": 29
        },
        {
          "output_type": "display_data",
          "data": {
            "image/png": "[encoded data removed]",
            "text/plain": [
              "<Figure size 432x288 with 1 Axes>"
            ]
          },
          "metadata": {
            "tags": [],
            "needs_background": "light"
          }
        }
      ]
    },
    {
      "cell_type": "code",
      "metadata": {
        "colab": {
          "base_uri": "https://localhost:8080/",
          "height": 283
        },
        "id": "9xENlBUUxfTu",
        "outputId": "820aa3dc-9ed5-4520-8cea-3367890acc36"
      },
      "source": [
        "Obj = plt.hist(X, density=True, histtype='step', cumulative=True,label='Reversed emp.')\n",
        "Y1, Y2 = Obj[0]\n",
        "print('r_squared =',r2_score(Y1, Y2))"
      ],
      "execution_count": 30,
      "outputs": [
        {
          "output_type": "stream",
          "text": [
            "r_squared = 0.9358173945308339\n"
          ],
          "name": "stdout"
        },
        {
          "output_type": "display_data",
          "data": {
            "image/png": "[encoded data removed]",
            "text/plain": [
              "<Figure size 432x288 with 1 Axes>"
            ]
          },
          "metadata": {
            "tags": [],
            "needs_background": "light"
          }
        }
      ]
    },
    {
      "cell_type": "code",
      "metadata": {
        "colab": {
          "base_uri": "https://localhost:8080/",
          "height": 392
        },
        "id": "ZZHa1j4HT9Dq",
        "outputId": "b905ccab-9c10-4f21-c51c-ae5637345598"
      },
      "source": [
        "counts, bins, bars = plt.hist(X,weights=wts)\n",
        "print(bars)\n",
        "print(bins)\n",
        "print(counts)"
      ],
      "execution_count": 31,
      "outputs": [
        {
          "output_type": "stream",
          "text": [
            "<a list of 2 Lists of Patches objects>\n",
            "[0.75356807 0.90995518 1.06634229 1.22272941 1.37911652 1.53550363\n",
            " 1.69189074 1.84827785 2.00466497 2.16105208 2.31743919]\n",
            "[[ 7.36842105 12.63157895 21.05263158 34.73684211 12.63157895  8.42105263\n",
            "   1.05263158  0.          1.05263158  1.05263158]\n",
            " [18.18181818 20.45454545 18.18181818 22.72727273 11.36363636  6.81818182\n",
            "   2.27272727  0.          0.          0.        ]]\n"
          ],
          "name": "stdout"
        },
        {
          "output_type": "display_data",
          "data": {
            "image/png": "[encoded data removed]",
            "text/plain": [
              "<Figure size 432x288 with 1 Axes>"
            ]
          },
          "metadata": {
            "tags": [],
            "needs_background": "light"
          }
        }
      ]
    },
    {
      "cell_type": "code",
      "metadata": {
        "colab": {
          "base_uri": "https://localhost:8080/"
        },
        "id": "8o_vDGeWUwIZ",
        "outputId": "839f60b2-50b5-409f-f141-9d1202db1bc2"
      },
      "source": [
        "print(counts.sum())"
      ],
      "execution_count": 32,
      "outputs": [
        {
          "output_type": "stream",
          "text": [
            "200.0\n"
          ],
          "name": "stdout"
        }
      ]
    },
    {
      "cell_type": "code",
      "metadata": {
        "colab": {
          "base_uri": "https://localhost:8080/",
          "height": 339
        },
        "id": "KcH52-6iJQ8t",
        "outputId": "f442f1cf-0940-4df2-b36e-297c037b1264"
      },
      "source": [
        "\n",
        "plt.hist([Diam1,Diameter_All])\n",
        "plt.legend(['Image J','CNN'])\n"
      ],
      "execution_count": 33,
      "outputs": [
        {
          "output_type": "stream",
          "text": [
            "/usr/local/lib/python3.7/dist-packages/numpy/core/_asarray.py:83: VisibleDeprecationWarning: Creating an ndarray from ragged nested sequences (which is a list-or-tuple of lists-or-tuples-or ndarrays with different lengths or shapes) is deprecated. If you meant to do this, you must specify 'dtype=object' when creating the ndarray\n",
            "  return array(a, dtype, copy=False, order=order)\n"
          ],
          "name": "stderr"
        },
        {
          "output_type": "execute_result",
          "data": {
            "text/plain": [
              "<matplotlib.legend.Legend at 0x7f5d390ee890>"
            ]
          },
          "metadata": {
            "tags": []
          },
          "execution_count": 33
        },
        {
          "output_type": "display_data",
          "data": {
            "image/png": "[encoded data removed]",
            "text/plain": [
              "<Figure size 432x288 with 1 Axes>"
            ]
          },
          "metadata": {
            "tags": [],
            "needs_background": "light"
          }
        }
      ]
    },
    {
      "cell_type": "code",
      "metadata": {
        "colab": {
          "base_uri": "https://localhost:8080/"
        },
        "id": "r11AxFK_JIii",
        "outputId": "582fafb9-aac5-47ca-a917-2738409a9eca"
      },
      "source": [
        "[Diam1,Diameter_All]"
      ],
      "execution_count": 34,
      "outputs": [
        {
          "output_type": "execute_result",
          "data": {
            "text/plain": [
              "[[1.59616801403081,\n",
              "  1.0217907939900581,\n",
              "  1.2716187407449044,\n",
              "  1.104429030701514,\n",
              "  1.2163487785097904,\n",
              "  1.6013445735058454,\n",
              "  1.1715597420637607,\n",
              "  1.2534662333717612,\n",
              "  1.2676073151634049,\n",
              "  1.309600575274104,\n",
              "  1.292966945531582,\n",
              "  1.7658322811231006,\n",
              "  1.3564037533648712,\n",
              "  1.2407040781688483,\n",
              "  2.130217298173151,\n",
              "  1.4228319915327,\n",
              "  1.0651086490865755,\n",
              "  1.3008210311003705,\n",
              "  1.336545951796433,\n",
              "  0.8927754224911278,\n",
              "  1.4494292838262302,\n",
              "  1.4052738287907582,\n",
              "  1.6421697097891788,\n",
              "  1.2329833804288621,\n",
              "  1.19042665178928,\n",
              "  1.1682948223612457,\n",
              "  1.1518314137121108,\n",
              "  0.9607802401865855,\n",
              "  2.317439190074449,\n",
              "  1.0591147430338594,\n",
              "  1.4308630919602832,\n",
              "  0.7535680705496237,\n",
              "  0.8608283307581511,\n",
              "  1.2776122636975893,\n",
              "  1.3745862957220916,\n",
              "  1.259546137598783,\n",
              "  1.2978813187979172,\n",
              "  1.2412170838050638,\n",
              "  1.6009469708743893,\n",
              "  1.3149369953539032,\n",
              "  1.417901703622935,\n",
              "  1.2478669653497139,\n",
              "  1.1055812783082735,\n",
              "  0.9561307405997607,\n",
              "  0.9487783503683882,\n",
              "  1.1238565871041026,\n",
              "  1.2058356273089446,\n",
              "  1.2801012827406097,\n",
              "  0.8733100751144249,\n",
              "  0.9194732501297403,\n",
              "  1.6425573339441792,\n",
              "  1.085826790250066,\n",
              "  1.0639125693728595,\n",
              "  1.0875842666474016,\n",
              "  1.417901703622935,\n",
              "  1.550443891425932,\n",
              "  0.7825779328716171,\n",
              "  1.4690612745308145,\n",
              "  1.053086721720641,\n",
              "  1.2676073151634049,\n",
              "  0.7744003006005755,\n",
              "  1.3787482149724068,\n",
              "  1.363892581861956,\n",
              "  1.299352006316543,\n",
              "  1.2870449283923413,\n",
              "  1.11817763925502,\n",
              "  0.9474354220939228,\n",
              "  1.5218484589055707,\n",
              "  1.3526437911676632,\n",
              "  1.1556938532445284,\n",
              "  1.6013445735058454,\n",
              "  1.274619025074578,\n",
              "  1.422384489715834,\n",
              "  1.3408259533459403,\n",
              "  1.172646028567008,\n",
              "  1.1490645795125545,\n",
              "  1.459060149136146,\n",
              "  1.2483770274864237,\n",
              "  1.336545951796433,\n",
              "  0.9601174044814821,\n",
              "  1.4867225193896279,\n",
              "  1.4277452542806772,\n",
              "  1.35028849808504,\n",
              "  0.7560982446653928,\n",
              "  1.259040600296622,\n",
              "  1.13456827900627,\n",
              "  1.6549133695530214,\n",
              "  1.1204526724091788,\n",
              "  1.1176081573544434,\n",
              "  0.9153095762832032,\n",
              "  1.1639273497938836,\n",
              "  1.3066806149514323,\n",
              "  1.1529362882239027,\n",
              "  1.3047303442899274,\n",
              "  1.3066806149514323],\n",
              " [1.0817558911755898,\n",
              "  0.9464934862421213,\n",
              "  1.0804793276691753,\n",
              "  1.1714466828857413,\n",
              "  1.0821195372380175,\n",
              "  0.8803094968855115,\n",
              "  0.8145275053231058,\n",
              "  1.175421061083687,\n",
              "  0.9560852403267116,\n",
              "  0.8462249668366504,\n",
              "  1.4317066830647798,\n",
              "  1.5872802617584583,\n",
              "  0.9550764429943982,\n",
              "  1.344678242497932,\n",
              "  1.1899852435279614,\n",
              "  1.6840893882076644,\n",
              "  1.3512838265345395,\n",
              "  1.4276062546711183,\n",
              "  1.5019643206299018,\n",
              "  0.7959330546045364,\n",
              "  1.3442204869266963,\n",
              "  1.7223482716807585,\n",
              "  1.2394008093470141,\n",
              "  1.4353351624859005,\n",
              "  1.2953686337124204,\n",
              "  0.9835624514702345,\n",
              "  1.281454608569987,\n",
              "  0.8580522594081305,\n",
              "  1.3647402551636887,\n",
              "  1.5070441183062775,\n",
              "  1.3769220265433681,\n",
              "  0.9171104722678894,\n",
              "  1.262051799140363,\n",
              "  0.9885105807295385,\n",
              "  1.1907876928103425,\n",
              "  0.8566728384463677,\n",
              "  1.198830316775261,\n",
              "  1.3162032530050998,\n",
              "  0.9662403370263805,\n",
              "  0.8109721363344612,\n",
              "  1.04140738928508,\n",
              "  1.6590439891190676,\n",
              "  0.8937245367075329,\n",
              "  1.0088264454170826]]"
            ]
          },
          "metadata": {
            "tags": []
          },
          "execution_count": 34
        }
      ]
    }
  ]
}