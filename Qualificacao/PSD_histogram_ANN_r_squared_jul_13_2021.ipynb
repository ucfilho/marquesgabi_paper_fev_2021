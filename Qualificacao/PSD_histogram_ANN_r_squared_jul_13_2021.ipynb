{
  "nbformat": 4,
  "nbformat_minor": 0,
  "metadata": {
    "colab": {
      "name": "PSD_histogram_ANN_r_squared_jul_13_2021.ipynb",
      "provenance": [],
      "collapsed_sections": [],
      "include_colab_link": true
    },
    "kernelspec": {
      "name": "python3",
      "display_name": "Python 3"
    }
  },
  "cells": [
    {
      "cell_type": "markdown",
      "metadata": {
        "id": "view-in-github",
        "colab_type": "text"
      },
      "source": [
        "<a href=\"https://colab.research.google.com/github/ucfilho/marquesgabi_paper_fev_2021/blob/main/Qualificacao/PSD_histogram_ANN_r_squared_jul_13_2021.ipynb\" target=\"_parent\"><img src=\"https://colab.research.google.com/assets/colab-badge.svg\" alt=\"Open In Colab\"/></a>"
      ]
    },
    {
      "cell_type": "code",
      "metadata": {
        "id": "Sog7Z9pyhUD_",
        "colab": {
          "base_uri": "https://localhost:8080/"
        },
        "outputId": "88cfb9df-1758-4fe9-a052-eed88b19c685"
      },
      "source": [
        "import matplotlib.pyplot as plt\n",
        "import numpy as np\n",
        "import cv2\n",
        "import zipfile\n",
        "#import random\n",
        "from random import randint\n",
        "from PIL import Image\n",
        "import re\n",
        "from sklearn.model_selection import train_test_split\n",
        "#import scikit-image\n",
        "import skimage\n",
        "import pandas as pd\n",
        "from sklearn.externals import joblib\n",
        "from sklearn.metrics import r2_score"
      ],
      "execution_count": 1,
      "outputs": [
        {
          "output_type": "stream",
          "text": [
            "/usr/local/lib/python3.7/dist-packages/sklearn/externals/joblib/__init__.py:15: FutureWarning: sklearn.externals.joblib is deprecated in 0.21 and will be removed in 0.23. Please import this functionality directly from joblib, which can be installed with: pip install joblib. If this warning is raised when loading pickled models, you may need to re-serialize those models with scikit-learn 0.21+.\n",
            "  warnings.warn(msg, category=FutureWarning)\n"
          ],
          "name": "stderr"
        }
      ]
    },
    {
      "cell_type": "code",
      "metadata": {
        "id": "uZEvJvfoibE4",
        "colab": {
          "base_uri": "https://localhost:8080/"
        },
        "outputId": "f3741889-a365-4b34-c018-60435505be2e"
      },
      "source": [
        "!pip install mahotas"
      ],
      "execution_count": 2,
      "outputs": [
        {
          "output_type": "stream",
          "text": [
            "Collecting mahotas\n",
            "\u001b[?25l  Downloading https://files.pythonhosted.org/packages/19/ad/553b246b0a35dccc3ed58dc8889a67124bf5ab858e9c6b7255d56086e70c/mahotas-1.4.11-cp37-cp37m-manylinux2010_x86_64.whl (5.7MB)\n",
            "\u001b[K     |████████████████████████████████| 5.7MB 8.4MB/s \n",
            "\u001b[?25hRequirement already satisfied: numpy in /usr/local/lib/python3.7/dist-packages (from mahotas) (1.19.5)\n",
            "Installing collected packages: mahotas\n",
            "Successfully installed mahotas-1.4.11\n"
          ],
          "name": "stdout"
        }
      ]
    },
    {
      "cell_type": "code",
      "metadata": {
        "id": "nf_a6PJ1iUnT"
      },
      "source": [
        "import mahotas.features.texture as mht\n",
        "import mahotas.features"
      ],
      "execution_count": 3,
      "outputs": []
    },
    {
      "cell_type": "code",
      "metadata": {
        "id": "_VcTdaNVh9EE",
        "colab": {
          "base_uri": "https://localhost:8080/"
        },
        "outputId": "3c0e9674-45b1-4a50-cedd-423e43aea6c6"
      },
      "source": [
        "!git clone https://github.com/ucfilho/marquesgabi_fev_2020 #clonar do Github\n",
        "%cd marquesgabi_fev_2020\n",
        "import Go2BlackWhite\n",
        "import Go2Mahotas"
      ],
      "execution_count": 4,
      "outputs": [
        {
          "output_type": "stream",
          "text": [
            "Cloning into 'marquesgabi_fev_2020'...\n",
            "remote: Enumerating objects: 73, done.\u001b[K\n",
            "remote: Counting objects: 100% (73/73), done.\u001b[K\n",
            "remote: Compressing objects: 100% (71/71), done.\u001b[K\n",
            "remote: Total 73 (delta 37), reused 0 (delta 0), pack-reused 0\u001b[K\n",
            "Unpacking objects: 100% (73/73), done.\n",
            "/content/marquesgabi_fev_2020\n"
          ],
          "name": "stdout"
        }
      ]
    },
    {
      "cell_type": "code",
      "metadata": {
        "id": "1v7SRrc8mH2N",
        "colab": {
          "base_uri": "https://localhost:8080/"
        },
        "outputId": "da2a081e-38ec-4050-f5a5-1ab042a05a96"
      },
      "source": [
        "!git clone https://github.com/marquesgabi/Doutorado\n",
        "%cd Doutorado\n",
        "\n",
        "Transfere='Fotos_Grandes_3cdAmostra.zip'\n",
        "file_name = zipfile.ZipFile(Transfere, 'r')\n",
        "file_name.extractall()"
      ],
      "execution_count": 5,
      "outputs": [
        {
          "output_type": "stream",
          "text": [
            "Cloning into 'Doutorado'...\n",
            "remote: Enumerating objects: 361, done.\u001b[K\n",
            "remote: Counting objects: 100% (111/111), done.\u001b[K\n",
            "remote: Compressing objects: 100% (110/110), done.\u001b[K\n",
            "remote: Total 361 (delta 38), reused 0 (delta 0), pack-reused 250\u001b[K\n",
            "Receiving objects: 100% (361/361), 165.33 MiB | 7.81 MiB/s, done.\n",
            "Resolving deltas: 100% (161/161), done.\n",
            "/content/marquesgabi_fev_2020/Doutorado\n"
          ],
          "name": "stdout"
        }
      ]
    },
    {
      "cell_type": "code",
      "metadata": {
        "id": "0kA4IWSmasoD"
      },
      "source": [
        "Size=1200 # tamanho da foto\n",
        "ww,img_name=Go2BlackWhite.BlackWhite(Transfere,Size) #Pegamos a primeira foto Grande\n",
        "img=ww[4] \n",
        "# this is the big image we want to segment \n",
        "# ww[0], change it if you want to segment another picture"
      ],
      "execution_count": 6,
      "outputs": []
    },
    {
      "cell_type": "code",
      "metadata": {
        "id": "tHgqAnaFyCjp",
        "colab": {
          "base_uri": "https://localhost:8080/"
        },
        "outputId": "ba163dc8-720f-4e32-80b1-647c242580c3"
      },
      "source": [
        "!git clone https://github.com/ucfilho/MarquesGabi_Routines\n",
        "%cd MarquesGabi_Routines"
      ],
      "execution_count": 7,
      "outputs": [
        {
          "output_type": "stream",
          "text": [
            "Cloning into 'MarquesGabi_Routines'...\n",
            "remote: Enumerating objects: 163, done.\u001b[K\n",
            "remote: Counting objects: 100% (163/163), done.\u001b[K\n",
            "remote: Compressing objects: 100% (161/161), done.\u001b[K\n",
            "remote: Total 163 (delta 65), reused 0 (delta 0), pack-reused 0\u001b[K\n",
            "Receiving objects: 100% (163/163), 211.71 MiB | 21.89 MiB/s, done.\n",
            "Resolving deltas: 100% (65/65), done.\n",
            "Checking out files: 100% (46/46), done.\n",
            "/content/marquesgabi_fev_2020/Doutorado/MarquesGabi_Routines\n"
          ],
          "name": "stdout"
        }
      ]
    },
    {
      "cell_type": "code",
      "metadata": {
        "id": "qc4rFvzkyWCi"
      },
      "source": [
        "from segment_filter_not_conclude import Segmenta  # got image provided segmented"
      ],
      "execution_count": 8,
      "outputs": []
    },
    {
      "cell_type": "code",
      "metadata": {
        "id": "SnTtH3KDP863"
      },
      "source": [
        "df=Segmenta(img)\n"
      ],
      "execution_count": 9,
      "outputs": []
    },
    {
      "cell_type": "code",
      "metadata": {
        "id": "YN5MN5a_v4np",
        "colab": {
          "base_uri": "https://localhost:8080/"
        },
        "outputId": "0bda9534-ca7b-4972-a38a-f90929a981d1"
      },
      "source": [
        "print(df)"
      ],
      "execution_count": 10,
      "outputs": [
        {
          "output_type": "stream",
          "text": [
            "    Width           0           1  ...         781         782         783\n",
            "0     140  156.039993  171.959991  ...  136.119995  119.759995  152.639999\n",
            "1     160  111.955620  118.146873  ...    0.760000    0.255625    1.380625\n",
            "2     122  197.216324  189.130325  ...  145.066910  144.452026  146.084366\n",
            "3     123   96.264542  102.217072  ...    0.092471    0.645317    1.507106\n",
            "4     135   22.701454   40.158680  ...  159.662857  156.588791  157.535843\n",
            "5     139  160.027573  171.555969  ...  166.158890  176.880112  179.000305\n",
            "6     191  185.573456  167.517365  ...  148.313675  158.257416  138.457352\n",
            "7     176  100.928200   94.346077  ...  162.780975  175.279449  181.319748\n",
            "8     145  173.276581  106.161911  ...    1.000000    1.155815    0.563187\n",
            "9     101  247.234100  252.308304  ...  147.065384  143.124298  142.268311\n",
            "10    104    0.590237    0.365385  ...    1.307693    1.000000    1.000000\n",
            "11    148   45.374001   40.619431  ...    0.576333    0.360117    1.414171\n",
            "12    183   47.640064   43.259995  ...    1.274239    0.153871    1.341963\n",
            "13    111  151.697754  150.052414  ...    0.997809    1.297865    0.559127\n",
            "14    121    0.747763    0.034424  ...   90.131958  107.065292  120.611916\n",
            "15    104  196.007416  197.710083  ...  163.519241  161.742615  161.718948\n",
            "16    175  253.643188  254.222382  ...  173.411194  175.511993  172.206390\n",
            "17    114    1.060326    0.288396  ...   98.767616  104.164673  101.112648\n",
            "18    162  166.864044  133.008224  ...   88.974091   81.794540  153.837524\n",
            "19    171  203.728088  197.569824  ...  181.947037  148.359039  125.296158\n",
            "20    128  161.184570  149.016602  ...  225.984375  219.063477  198.619141\n",
            "21    122  113.630470  112.704918  ...  128.822876  127.406067  128.571884\n",
            "22    137  116.360222  107.544937  ...   80.866585   75.832382   74.569344\n",
            "23    160  132.665619  129.773743  ...    0.785000    0.277500    1.402500\n",
            "24    124  129.994797  145.042648  ...  202.280945  137.784592   91.896973\n",
            "25    197  120.333252  123.886398  ...    3.279368    2.213714    1.090932\n",
            "26    146  150.948013  159.701630  ...  167.807861  162.834503  150.172836\n",
            "27    128  154.007812  167.374023  ...  157.734375  142.996094  129.071289\n",
            "28    173  178.748947  175.819000  ...  130.028351  125.065613  126.462799\n",
            "29    179  180.814133  183.577087  ...  167.204681  132.226440  141.374268\n",
            "30    131   83.863411   74.673851  ...    0.267059    0.541868    1.473166\n",
            "31    179   87.547264   89.931656  ...   60.478485  138.907715  139.037231\n",
            "32    120  150.968887  150.520020  ...  134.567780  135.011108  135.265564\n",
            "33    148    0.657414    2.096421  ...  150.779404  141.910889  137.266617\n",
            "34    153  180.913940  172.368240  ...   57.059681   47.847923   50.062195\n",
            "35    197  155.645554  150.530411  ...  204.304840  217.900253  226.960922\n",
            "36    149  193.449265  187.261902  ...  196.342102  183.767990  188.612457\n",
            "37    134   57.192024   53.203163  ...   99.060150  108.494316  111.112274\n",
            "38    101  139.912277  140.279083  ...    1.000000    1.000000    0.953338\n",
            "39    142  121.386223  144.618927  ...    1.207895    1.658600    0.644515\n",
            "40    185  140.646606  129.799606  ...  197.107742  180.949585  171.758820\n",
            "41    198   46.306492   56.725021  ...  129.834717  177.651566  178.438202\n",
            "42    183  140.015533   97.593597  ...    0.799248    1.637105    0.411389\n",
            "43    165  145.710129  131.421265  ...  152.164093  142.981644  136.339371\n",
            "44    127  145.451370  146.260727  ...  146.239319  136.072662  138.836136\n",
            "45    165  134.337311  141.970581  ...  157.355789  139.269867  132.027100\n",
            "46    155  156.996719  166.002747  ...  126.501480  128.597427  137.489258\n",
            "47    156  113.421432  121.980286  ...  134.758713  139.873123  140.527939\n",
            "48    172  119.097893  136.436996  ...  144.233109  158.940506  168.327744\n",
            "49    183  122.134644  124.621552  ...  168.128555  159.937561  163.877853\n",
            "\n",
            "[50 rows x 785 columns]\n"
          ],
          "name": "stdout"
        }
      ]
    },
    {
      "cell_type": "code",
      "metadata": {
        "id": "xzpQ1Pz0fX5L",
        "colab": {
          "base_uri": "https://localhost:8080/"
        },
        "outputId": "9e760f9f-226f-46db-fa50-4c4972202423"
      },
      "source": [
        "!git clone https://github.com/ucfilho/MarquesGabi_Routines\n",
        "%cd MarquesGabi_Routines\n",
        "# filename = 'model_ANN.pkl'\n",
        "filename = 'model_ANN_new.pkl'\n",
        "model = joblib.load(filename)"
      ],
      "execution_count": 11,
      "outputs": [
        {
          "output_type": "stream",
          "text": [
            "Cloning into 'MarquesGabi_Routines'...\n",
            "remote: Enumerating objects: 163, done.\u001b[K\n",
            "remote: Counting objects: 100% (163/163), done.\u001b[K\n",
            "remote: Compressing objects: 100% (161/161), done.\u001b[K\n",
            "remote: Total 163 (delta 65), reused 0 (delta 0), pack-reused 0\u001b[K\n",
            "Receiving objects: 100% (163/163), 211.71 MiB | 22.41 MiB/s, done.\n",
            "Resolving deltas: 100% (65/65), done.\n",
            "Checking out files: 100% (46/46), done.\n",
            "/content/marquesgabi_fev_2020/Doutorado/MarquesGabi_Routines/MarquesGabi_Routines\n"
          ],
          "name": "stdout"
        }
      ]
    },
    {
      "cell_type": "code",
      "metadata": {
        "id": "QISvYcJBgWbE",
        "colab": {
          "base_uri": "https://localhost:8080/"
        },
        "outputId": "f367b97f-8a4e-44cc-8341-6bf3bf05c883"
      },
      "source": [
        "cont = 0; num =25\n",
        "img_graos = []\n",
        "Width_new = []\n",
        "img=ww[0] \n",
        "while( cont < num):\n",
        "  df=Segmenta(img)\n",
        "  df_ann =df.copy()\n",
        "  Width = df['Width']\n",
        "  del df_ann['Width']\n",
        "  result = np.array(df_ann)/255\n",
        "  prediction = model.predict(result)\n",
        "  loc_grao =[];k=0\n",
        "  for i in prediction:\n",
        "    if( i == 0):\n",
        "      img_graos.append(df.iloc[k,:])\n",
        "      Width_new.append(Width.iloc[k])\n",
        "      cont = cont + 1\n",
        "    k = k +1\n",
        "img_graos = pd.DataFrame(img_graos)\n",
        "print(img_graos)"
      ],
      "execution_count": 12,
      "outputs": [
        {
          "output_type": "stream",
          "text": [
            "    Width           0           1  ...         781         782         783\n",
            "3   141.0   50.641567   36.600327  ...    0.976058    0.371863    0.597203\n",
            "14  199.0   79.184654   96.089134  ...    0.000000    0.000000    0.000000\n",
            "41  147.0   33.097504   60.467121  ...   55.133785   55.340134   58.206352\n",
            "47  191.0   94.236153   99.240181  ...   67.620026   67.555168   66.736664\n",
            "4   198.0   70.166916   76.122437  ...   90.563705   86.661148   85.031517\n",
            "11  144.0   74.601082   75.760796  ...  109.513885  113.733032  123.481476\n",
            "28  129.0  198.478149  162.213028  ...   84.898499   86.812149   87.349380\n",
            "42  124.0   24.646200   26.254940  ...   45.613941   50.053066   52.185219\n",
            "7   196.0   66.102043   68.571426  ...   44.918365   43.387753   39.632652\n",
            "26  127.0   85.680450   87.920395  ...  112.400589  114.940918  115.879715\n",
            "46  168.0  110.027779   42.583332  ...   88.194443   86.277779   86.277779\n",
            "5   196.0   11.857142   11.408163  ...   61.428570   60.551018   55.285713\n",
            "23  199.0   93.497002   99.882294  ...    0.000000    0.000000    0.000000\n",
            "28  184.0   60.783550   60.663986  ...   79.230621   78.227783   85.177216\n",
            "30  160.0    1.050625    3.108750  ...  103.618118   85.314377   81.551247\n",
            "33  114.0   90.016937   98.599266  ...   83.981224   75.042168   67.393044\n",
            "38  167.0   93.294487  108.937447  ...   44.118938   48.175667   46.716881\n",
            "2   112.0   25.187500   21.750000  ...   47.250000   38.687500   30.250000\n",
            "7   195.0  110.717300  117.385498  ...   50.791298   47.004608   45.188484\n",
            "34  134.0   81.590790   94.128098  ...   84.427269   74.689468   52.460014\n",
            "6   164.0   52.232006   86.508621  ...  137.703735  117.761452   94.286140\n",
            "10  197.0    0.000000    0.000000  ...   78.199318   69.764565   59.746128\n",
            "34  145.0   66.505302   65.510765  ...   49.991581   46.745972   47.852459\n",
            "35  185.0   95.746178   94.394302  ...    0.030241    0.000000    0.000000\n",
            "28  172.0  118.684166  124.648476  ...   25.943213    1.240130    1.288264\n",
            "30  143.0    1.229596    1.039269  ...   45.597633   47.634068   50.787769\n",
            "\n",
            "[26 rows x 785 columns]\n"
          ],
          "name": "stdout"
        }
      ]
    },
    {
      "cell_type": "code",
      "metadata": {
        "id": "6LkA4vHp-f6_"
      },
      "source": [
        "Width=np.array(Width_new)"
      ],
      "execution_count": 13,
      "outputs": []
    },
    {
      "cell_type": "code",
      "metadata": {
        "colab": {
          "base_uri": "https://localhost:8080/"
        },
        "id": "MjRbWgmX_LFH",
        "outputId": "ff65d3e2-c004-4bc6-a0d5-3548b4591dba"
      },
      "source": [
        "!git clone https://github.com/ucfilho/marquesgabi_paper_fev_2021\n",
        "%cd marquesgabi_paper_fev_2021\n",
        "\n",
        "from Get_PSDArea_New import PSDArea\n",
        "from histogram_fev_2021 import PSD\n",
        "from GetBetterSegm import GetBetter"
      ],
      "execution_count": 14,
      "outputs": [
        {
          "output_type": "stream",
          "text": [
            "Cloning into 'marquesgabi_paper_fev_2021'...\n",
            "remote: Enumerating objects: 612, done.\u001b[K\n",
            "remote: Counting objects: 100% (373/373), done.\u001b[K\n",
            "remote: Compressing objects: 100% (372/372), done.\u001b[K\n",
            "remote: Total 612 (delta 230), reused 0 (delta 0), pack-reused 239\u001b[K\n",
            "Receiving objects: 100% (612/612), 5.24 MiB | 13.89 MiB/s, done.\n",
            "Resolving deltas: 100% (367/367), done.\n",
            "/content/marquesgabi_fev_2020/Doutorado/MarquesGabi_Routines/MarquesGabi_Routines/marquesgabi_paper_fev_2021\n"
          ],
          "name": "stdout"
        }
      ]
    },
    {
      "cell_type": "code",
      "metadata": {
        "colab": {
          "base_uri": "https://localhost:8080/"
        },
        "id": "WAG_I6FwCvFr",
        "outputId": "986243af-d258-47e8-f6d0-f19edf58c8ab"
      },
      "source": [
        "!git clone https://github.com/ucfilho/marquesgabi_out_2020\n",
        "%cd marquesgabi_out_2020\n",
        "PSD_imageJ = 'Areas_ImageJ.csv'\n",
        "PSD_new = pd.read_csv(PSD_imageJ)\n",
        "print(PSD_new.head(3))"
      ],
      "execution_count": 15,
      "outputs": [
        {
          "output_type": "stream",
          "text": [
            "Cloning into 'marquesgabi_out_2020'...\n",
            "remote: Enumerating objects: 146, done.\u001b[K\n",
            "remote: Counting objects: 100% (146/146), done.\u001b[K\n",
            "remote: Compressing objects: 100% (142/142), done.\u001b[K\n",
            "remote: Total 146 (delta 75), reused 0 (delta 0), pack-reused 0\u001b[K\n",
            "Receiving objects: 100% (146/146), 1.00 MiB | 5.80 MiB/s, done.\n",
            "Resolving deltas: 100% (75/75), done.\n",
            "/content/marquesgabi_fev_2020/Doutorado/MarquesGabi_Routines/MarquesGabi_Routines/marquesgabi_paper_fev_2021/marquesgabi_out_2020\n",
            "   Juntas   Area\n",
            "0       1  2.001\n",
            "1       2  0.820\n",
            "2       3  1.270\n"
          ],
          "name": "stdout"
        }
      ]
    },
    {
      "cell_type": "code",
      "metadata": {
        "id": "t_1WIM8w7poO"
      },
      "source": [
        "Area_All, Diameter_All=PSDArea(img_graos) "
      ],
      "execution_count": 16,
      "outputs": []
    },
    {
      "cell_type": "code",
      "metadata": {
        "colab": {
          "base_uri": "https://localhost:8080/",
          "height": 255
        },
        "id": "PekBHQOT_6CP",
        "outputId": "c401c476-9029-41dd-8566-a82c8776be42"
      },
      "source": [
        "img_graos.head()"
      ],
      "execution_count": 17,
      "outputs": [
        {
          "output_type": "execute_result",
          "data": {
            "text/html": [
              "<div>\n",
              "<style scoped>\n",
              "    .dataframe tbody tr th:only-of-type {\n",
              "        vertical-align: middle;\n",
              "    }\n",
              "\n",
              "    .dataframe tbody tr th {\n",
              "        vertical-align: top;\n",
              "    }\n",
              "\n",
              "    .dataframe thead th {\n",
              "        text-align: right;\n",
              "    }\n",
              "</style>\n",
              "<table border=\"1\" class=\"dataframe\">\n",
              "  <thead>\n",
              "    <tr style=\"text-align: right;\">\n",
              "      <th></th>\n",
              "      <th>Width</th>\n",
              "      <th>0</th>\n",
              "      <th>1</th>\n",
              "      <th>2</th>\n",
              "      <th>3</th>\n",
              "      <th>4</th>\n",
              "      <th>5</th>\n",
              "      <th>6</th>\n",
              "      <th>7</th>\n",
              "      <th>8</th>\n",
              "      <th>9</th>\n",
              "      <th>10</th>\n",
              "      <th>11</th>\n",
              "      <th>12</th>\n",
              "      <th>13</th>\n",
              "      <th>14</th>\n",
              "      <th>15</th>\n",
              "      <th>16</th>\n",
              "      <th>17</th>\n",
              "      <th>18</th>\n",
              "      <th>19</th>\n",
              "      <th>20</th>\n",
              "      <th>21</th>\n",
              "      <th>22</th>\n",
              "      <th>23</th>\n",
              "      <th>24</th>\n",
              "      <th>25</th>\n",
              "      <th>26</th>\n",
              "      <th>27</th>\n",
              "      <th>28</th>\n",
              "      <th>29</th>\n",
              "      <th>30</th>\n",
              "      <th>31</th>\n",
              "      <th>32</th>\n",
              "      <th>33</th>\n",
              "      <th>34</th>\n",
              "      <th>35</th>\n",
              "      <th>36</th>\n",
              "      <th>37</th>\n",
              "      <th>38</th>\n",
              "      <th>...</th>\n",
              "      <th>744</th>\n",
              "      <th>745</th>\n",
              "      <th>746</th>\n",
              "      <th>747</th>\n",
              "      <th>748</th>\n",
              "      <th>749</th>\n",
              "      <th>750</th>\n",
              "      <th>751</th>\n",
              "      <th>752</th>\n",
              "      <th>753</th>\n",
              "      <th>754</th>\n",
              "      <th>755</th>\n",
              "      <th>756</th>\n",
              "      <th>757</th>\n",
              "      <th>758</th>\n",
              "      <th>759</th>\n",
              "      <th>760</th>\n",
              "      <th>761</th>\n",
              "      <th>762</th>\n",
              "      <th>763</th>\n",
              "      <th>764</th>\n",
              "      <th>765</th>\n",
              "      <th>766</th>\n",
              "      <th>767</th>\n",
              "      <th>768</th>\n",
              "      <th>769</th>\n",
              "      <th>770</th>\n",
              "      <th>771</th>\n",
              "      <th>772</th>\n",
              "      <th>773</th>\n",
              "      <th>774</th>\n",
              "      <th>775</th>\n",
              "      <th>776</th>\n",
              "      <th>777</th>\n",
              "      <th>778</th>\n",
              "      <th>779</th>\n",
              "      <th>780</th>\n",
              "      <th>781</th>\n",
              "      <th>782</th>\n",
              "      <th>783</th>\n",
              "    </tr>\n",
              "  </thead>\n",
              "  <tbody>\n",
              "    <tr>\n",
              "      <th>3</th>\n",
              "      <td>141.0</td>\n",
              "      <td>50.641567</td>\n",
              "      <td>36.600327</td>\n",
              "      <td>29.769278</td>\n",
              "      <td>30.565113</td>\n",
              "      <td>34.888893</td>\n",
              "      <td>36.401791</td>\n",
              "      <td>36.882854</td>\n",
              "      <td>38.650871</td>\n",
              "      <td>40.849354</td>\n",
              "      <td>41.548317</td>\n",
              "      <td>41.217945</td>\n",
              "      <td>43.358486</td>\n",
              "      <td>45.357021</td>\n",
              "      <td>46.068562</td>\n",
              "      <td>46.178310</td>\n",
              "      <td>44.664608</td>\n",
              "      <td>44.147079</td>\n",
              "      <td>43.704742</td>\n",
              "      <td>40.192596</td>\n",
              "      <td>40.934010</td>\n",
              "      <td>35.418739</td>\n",
              "      <td>22.912127</td>\n",
              "      <td>5.047684</td>\n",
              "      <td>1.065288</td>\n",
              "      <td>0.221317</td>\n",
              "      <td>0.004225</td>\n",
              "      <td>0.000000</td>\n",
              "      <td>0.000000</td>\n",
              "      <td>47.021030</td>\n",
              "      <td>30.638851</td>\n",
              "      <td>27.677935</td>\n",
              "      <td>35.623508</td>\n",
              "      <td>39.816708</td>\n",
              "      <td>39.551430</td>\n",
              "      <td>36.642830</td>\n",
              "      <td>39.347416</td>\n",
              "      <td>41.228409</td>\n",
              "      <td>42.625927</td>\n",
              "      <td>47.442085</td>\n",
              "      <td>...</td>\n",
              "      <td>57.344353</td>\n",
              "      <td>55.577133</td>\n",
              "      <td>52.953472</td>\n",
              "      <td>51.476688</td>\n",
              "      <td>56.408730</td>\n",
              "      <td>59.039989</td>\n",
              "      <td>55.850159</td>\n",
              "      <td>36.177002</td>\n",
              "      <td>5.697048</td>\n",
              "      <td>0.979176</td>\n",
              "      <td>0.963382</td>\n",
              "      <td>0.766209</td>\n",
              "      <td>54.585884</td>\n",
              "      <td>54.832653</td>\n",
              "      <td>54.919674</td>\n",
              "      <td>53.719227</td>\n",
              "      <td>52.467636</td>\n",
              "      <td>50.822647</td>\n",
              "      <td>49.987125</td>\n",
              "      <td>52.360748</td>\n",
              "      <td>53.759270</td>\n",
              "      <td>53.891148</td>\n",
              "      <td>52.024399</td>\n",
              "      <td>52.849106</td>\n",
              "      <td>54.769577</td>\n",
              "      <td>56.291634</td>\n",
              "      <td>56.382427</td>\n",
              "      <td>54.790249</td>\n",
              "      <td>54.856445</td>\n",
              "      <td>52.491474</td>\n",
              "      <td>50.660633</td>\n",
              "      <td>50.942711</td>\n",
              "      <td>54.714249</td>\n",
              "      <td>58.545849</td>\n",
              "      <td>54.367840</td>\n",
              "      <td>37.051304</td>\n",
              "      <td>10.244404</td>\n",
              "      <td>0.976058</td>\n",
              "      <td>0.371863</td>\n",
              "      <td>0.597203</td>\n",
              "    </tr>\n",
              "    <tr>\n",
              "      <th>14</th>\n",
              "      <td>199.0</td>\n",
              "      <td>79.184654</td>\n",
              "      <td>96.089134</td>\n",
              "      <td>96.979546</td>\n",
              "      <td>98.300011</td>\n",
              "      <td>99.144005</td>\n",
              "      <td>96.438019</td>\n",
              "      <td>96.484482</td>\n",
              "      <td>102.159081</td>\n",
              "      <td>103.594025</td>\n",
              "      <td>104.670250</td>\n",
              "      <td>102.949730</td>\n",
              "      <td>96.597404</td>\n",
              "      <td>74.066101</td>\n",
              "      <td>43.602177</td>\n",
              "      <td>40.487389</td>\n",
              "      <td>40.766670</td>\n",
              "      <td>39.788868</td>\n",
              "      <td>37.814167</td>\n",
              "      <td>35.972198</td>\n",
              "      <td>38.373749</td>\n",
              "      <td>41.772453</td>\n",
              "      <td>41.872807</td>\n",
              "      <td>41.678291</td>\n",
              "      <td>30.126863</td>\n",
              "      <td>13.544255</td>\n",
              "      <td>6.891695</td>\n",
              "      <td>1.542966</td>\n",
              "      <td>0.304967</td>\n",
              "      <td>86.828568</td>\n",
              "      <td>92.354126</td>\n",
              "      <td>92.920403</td>\n",
              "      <td>94.712776</td>\n",
              "      <td>91.390015</td>\n",
              "      <td>93.071281</td>\n",
              "      <td>96.788361</td>\n",
              "      <td>101.137032</td>\n",
              "      <td>104.726570</td>\n",
              "      <td>109.547249</td>\n",
              "      <td>112.546036</td>\n",
              "      <td>...</td>\n",
              "      <td>0.000000</td>\n",
              "      <td>0.000000</td>\n",
              "      <td>0.488877</td>\n",
              "      <td>1.039065</td>\n",
              "      <td>1.187495</td>\n",
              "      <td>0.674276</td>\n",
              "      <td>0.723770</td>\n",
              "      <td>0.209742</td>\n",
              "      <td>0.010303</td>\n",
              "      <td>0.000000</td>\n",
              "      <td>0.000000</td>\n",
              "      <td>0.000000</td>\n",
              "      <td>0.178177</td>\n",
              "      <td>0.000000</td>\n",
              "      <td>0.000000</td>\n",
              "      <td>0.000000</td>\n",
              "      <td>0.000000</td>\n",
              "      <td>0.000000</td>\n",
              "      <td>0.000000</td>\n",
              "      <td>0.000000</td>\n",
              "      <td>0.000000</td>\n",
              "      <td>0.000000</td>\n",
              "      <td>0.000000</td>\n",
              "      <td>0.000000</td>\n",
              "      <td>0.000000</td>\n",
              "      <td>0.000000</td>\n",
              "      <td>0.000000</td>\n",
              "      <td>0.000000</td>\n",
              "      <td>0.000000</td>\n",
              "      <td>0.000000</td>\n",
              "      <td>0.122320</td>\n",
              "      <td>0.604833</td>\n",
              "      <td>0.328477</td>\n",
              "      <td>0.153430</td>\n",
              "      <td>0.002121</td>\n",
              "      <td>0.000000</td>\n",
              "      <td>0.000000</td>\n",
              "      <td>0.000000</td>\n",
              "      <td>0.000000</td>\n",
              "      <td>0.000000</td>\n",
              "    </tr>\n",
              "    <tr>\n",
              "      <th>41</th>\n",
              "      <td>147.0</td>\n",
              "      <td>33.097504</td>\n",
              "      <td>60.467121</td>\n",
              "      <td>79.106583</td>\n",
              "      <td>86.140587</td>\n",
              "      <td>89.532883</td>\n",
              "      <td>88.702942</td>\n",
              "      <td>88.092972</td>\n",
              "      <td>88.219963</td>\n",
              "      <td>89.673470</td>\n",
              "      <td>89.115646</td>\n",
              "      <td>88.870750</td>\n",
              "      <td>88.240372</td>\n",
              "      <td>84.909302</td>\n",
              "      <td>80.396835</td>\n",
              "      <td>80.358276</td>\n",
              "      <td>83.460312</td>\n",
              "      <td>84.507942</td>\n",
              "      <td>85.088440</td>\n",
              "      <td>88.768715</td>\n",
              "      <td>91.503403</td>\n",
              "      <td>92.136047</td>\n",
              "      <td>87.446701</td>\n",
              "      <td>84.077103</td>\n",
              "      <td>76.929703</td>\n",
              "      <td>65.614517</td>\n",
              "      <td>50.104309</td>\n",
              "      <td>44.115646</td>\n",
              "      <td>41.970524</td>\n",
              "      <td>50.013607</td>\n",
              "      <td>71.179146</td>\n",
              "      <td>79.351479</td>\n",
              "      <td>84.952385</td>\n",
              "      <td>88.154198</td>\n",
              "      <td>86.988663</td>\n",
              "      <td>86.632660</td>\n",
              "      <td>87.276649</td>\n",
              "      <td>86.689346</td>\n",
              "      <td>82.548759</td>\n",
              "      <td>83.079376</td>\n",
              "      <td>...</td>\n",
              "      <td>110.498871</td>\n",
              "      <td>112.730164</td>\n",
              "      <td>110.020409</td>\n",
              "      <td>97.616783</td>\n",
              "      <td>75.666672</td>\n",
              "      <td>58.823132</td>\n",
              "      <td>54.643993</td>\n",
              "      <td>50.376419</td>\n",
              "      <td>49.727894</td>\n",
              "      <td>48.952381</td>\n",
              "      <td>47.575970</td>\n",
              "      <td>52.909302</td>\n",
              "      <td>224.294800</td>\n",
              "      <td>105.428574</td>\n",
              "      <td>89.489799</td>\n",
              "      <td>101.049896</td>\n",
              "      <td>98.530609</td>\n",
              "      <td>99.655342</td>\n",
              "      <td>100.043091</td>\n",
              "      <td>102.315193</td>\n",
              "      <td>103.857147</td>\n",
              "      <td>104.804985</td>\n",
              "      <td>103.591843</td>\n",
              "      <td>97.913834</td>\n",
              "      <td>97.526085</td>\n",
              "      <td>100.541962</td>\n",
              "      <td>104.566902</td>\n",
              "      <td>107.451248</td>\n",
              "      <td>110.190483</td>\n",
              "      <td>114.081635</td>\n",
              "      <td>114.913841</td>\n",
              "      <td>109.185936</td>\n",
              "      <td>97.707489</td>\n",
              "      <td>73.426308</td>\n",
              "      <td>63.070297</td>\n",
              "      <td>52.780045</td>\n",
              "      <td>52.852608</td>\n",
              "      <td>55.133785</td>\n",
              "      <td>55.340134</td>\n",
              "      <td>58.206352</td>\n",
              "    </tr>\n",
              "    <tr>\n",
              "      <th>47</th>\n",
              "      <td>191.0</td>\n",
              "      <td>94.236153</td>\n",
              "      <td>99.240181</td>\n",
              "      <td>95.726059</td>\n",
              "      <td>87.705170</td>\n",
              "      <td>77.304131</td>\n",
              "      <td>81.369766</td>\n",
              "      <td>82.132454</td>\n",
              "      <td>87.139069</td>\n",
              "      <td>91.077667</td>\n",
              "      <td>93.550461</td>\n",
              "      <td>86.785736</td>\n",
              "      <td>66.530853</td>\n",
              "      <td>63.345821</td>\n",
              "      <td>55.879585</td>\n",
              "      <td>45.444153</td>\n",
              "      <td>41.794743</td>\n",
              "      <td>38.618980</td>\n",
              "      <td>34.555332</td>\n",
              "      <td>35.067379</td>\n",
              "      <td>48.187469</td>\n",
              "      <td>67.536560</td>\n",
              "      <td>85.389084</td>\n",
              "      <td>95.306244</td>\n",
              "      <td>106.317299</td>\n",
              "      <td>118.036102</td>\n",
              "      <td>124.840797</td>\n",
              "      <td>134.795578</td>\n",
              "      <td>154.790802</td>\n",
              "      <td>95.296867</td>\n",
              "      <td>101.730133</td>\n",
              "      <td>94.320068</td>\n",
              "      <td>84.066223</td>\n",
              "      <td>80.990273</td>\n",
              "      <td>82.265625</td>\n",
              "      <td>84.062782</td>\n",
              "      <td>86.488205</td>\n",
              "      <td>88.851242</td>\n",
              "      <td>95.353752</td>\n",
              "      <td>92.181137</td>\n",
              "      <td>...</td>\n",
              "      <td>55.964314</td>\n",
              "      <td>58.618515</td>\n",
              "      <td>53.212662</td>\n",
              "      <td>47.415180</td>\n",
              "      <td>47.593880</td>\n",
              "      <td>51.546455</td>\n",
              "      <td>58.487274</td>\n",
              "      <td>64.936165</td>\n",
              "      <td>67.716415</td>\n",
              "      <td>68.010704</td>\n",
              "      <td>69.249313</td>\n",
              "      <td>68.447472</td>\n",
              "      <td>84.051506</td>\n",
              "      <td>79.719994</td>\n",
              "      <td>76.817467</td>\n",
              "      <td>85.015930</td>\n",
              "      <td>96.180702</td>\n",
              "      <td>100.849167</td>\n",
              "      <td>106.701736</td>\n",
              "      <td>102.985443</td>\n",
              "      <td>67.527565</td>\n",
              "      <td>63.475864</td>\n",
              "      <td>64.231247</td>\n",
              "      <td>68.517426</td>\n",
              "      <td>76.360573</td>\n",
              "      <td>82.206802</td>\n",
              "      <td>72.002663</td>\n",
              "      <td>59.830685</td>\n",
              "      <td>58.538418</td>\n",
              "      <td>58.281956</td>\n",
              "      <td>55.318413</td>\n",
              "      <td>52.438499</td>\n",
              "      <td>49.600124</td>\n",
              "      <td>52.422470</td>\n",
              "      <td>60.387001</td>\n",
              "      <td>67.678963</td>\n",
              "      <td>68.598076</td>\n",
              "      <td>67.620026</td>\n",
              "      <td>67.555168</td>\n",
              "      <td>66.736664</td>\n",
              "    </tr>\n",
              "    <tr>\n",
              "      <th>4</th>\n",
              "      <td>198.0</td>\n",
              "      <td>70.166916</td>\n",
              "      <td>76.122437</td>\n",
              "      <td>77.155998</td>\n",
              "      <td>72.927864</td>\n",
              "      <td>75.496574</td>\n",
              "      <td>84.919083</td>\n",
              "      <td>85.567894</td>\n",
              "      <td>84.357399</td>\n",
              "      <td>84.206406</td>\n",
              "      <td>88.928368</td>\n",
              "      <td>92.580643</td>\n",
              "      <td>91.143242</td>\n",
              "      <td>88.358833</td>\n",
              "      <td>72.390060</td>\n",
              "      <td>55.661564</td>\n",
              "      <td>58.685333</td>\n",
              "      <td>59.149670</td>\n",
              "      <td>60.731762</td>\n",
              "      <td>61.555962</td>\n",
              "      <td>55.799000</td>\n",
              "      <td>57.104984</td>\n",
              "      <td>58.431992</td>\n",
              "      <td>62.264557</td>\n",
              "      <td>58.754101</td>\n",
              "      <td>59.620850</td>\n",
              "      <td>68.912552</td>\n",
              "      <td>71.138855</td>\n",
              "      <td>70.898270</td>\n",
              "      <td>84.114265</td>\n",
              "      <td>82.286087</td>\n",
              "      <td>81.434341</td>\n",
              "      <td>78.489326</td>\n",
              "      <td>81.556152</td>\n",
              "      <td>91.011322</td>\n",
              "      <td>91.074677</td>\n",
              "      <td>89.855209</td>\n",
              "      <td>89.917465</td>\n",
              "      <td>93.020401</td>\n",
              "      <td>93.314453</td>\n",
              "      <td>...</td>\n",
              "      <td>51.230274</td>\n",
              "      <td>57.916534</td>\n",
              "      <td>61.422504</td>\n",
              "      <td>63.821648</td>\n",
              "      <td>62.444138</td>\n",
              "      <td>58.598000</td>\n",
              "      <td>79.899391</td>\n",
              "      <td>85.999374</td>\n",
              "      <td>84.698593</td>\n",
              "      <td>84.521469</td>\n",
              "      <td>84.800934</td>\n",
              "      <td>86.013870</td>\n",
              "      <td>115.355255</td>\n",
              "      <td>110.326591</td>\n",
              "      <td>83.910309</td>\n",
              "      <td>70.114784</td>\n",
              "      <td>65.797363</td>\n",
              "      <td>67.088867</td>\n",
              "      <td>64.327202</td>\n",
              "      <td>66.813477</td>\n",
              "      <td>66.134369</td>\n",
              "      <td>63.751343</td>\n",
              "      <td>62.010406</td>\n",
              "      <td>63.534737</td>\n",
              "      <td>64.210892</td>\n",
              "      <td>47.255478</td>\n",
              "      <td>36.740124</td>\n",
              "      <td>41.091110</td>\n",
              "      <td>51.912655</td>\n",
              "      <td>58.246704</td>\n",
              "      <td>60.489544</td>\n",
              "      <td>63.313538</td>\n",
              "      <td>63.491577</td>\n",
              "      <td>63.765015</td>\n",
              "      <td>81.603706</td>\n",
              "      <td>96.046524</td>\n",
              "      <td>97.797661</td>\n",
              "      <td>90.563705</td>\n",
              "      <td>86.661148</td>\n",
              "      <td>85.031517</td>\n",
              "    </tr>\n",
              "  </tbody>\n",
              "</table>\n",
              "<p>5 rows × 785 columns</p>\n",
              "</div>"
            ],
            "text/plain": [
              "    Width          0          1  ...        781        782        783\n",
              "3   141.0  50.641567  36.600327  ...   0.976058   0.371863   0.597203\n",
              "14  199.0  79.184654  96.089134  ...   0.000000   0.000000   0.000000\n",
              "41  147.0  33.097504  60.467121  ...  55.133785  55.340134  58.206352\n",
              "47  191.0  94.236153  99.240181  ...  67.620026  67.555168  66.736664\n",
              "4   198.0  70.166916  76.122437  ...  90.563705  86.661148  85.031517\n",
              "\n",
              "[5 rows x 785 columns]"
            ]
          },
          "metadata": {
            "tags": []
          },
          "execution_count": 17
        }
      ]
    },
    {
      "cell_type": "code",
      "metadata": {
        "id": "4vmhG2LgCabC"
      },
      "source": [
        "Area = np.array(PSD_new['Area'])\n",
        "diam_teste = []\n",
        "for A in Area:\n",
        "  diam_teste.append((4*A/np.pi)**0.5) \n",
        "\n",
        "Diam1 = [ (4*A/np.pi)**0.5 for A in Area]"
      ],
      "execution_count": 18,
      "outputs": []
    },
    {
      "cell_type": "code",
      "metadata": {
        "colab": {
          "base_uri": "https://localhost:8080/",
          "height": 285
        },
        "id": "Vfk_fNXGDK5_",
        "outputId": "7227fc43-ec26-427f-a950-841b7b90f14e"
      },
      "source": [
        " wt1 = np.ones(len(Diam1)) / len(Diam1)*100\n",
        " wt2 = np.ones(len(Diameter_All)) / len(Diameter_All)*100\n",
        " X = pd.DataFrame([Diam1,Diameter_All])\n",
        " wts = pd.DataFrame([wt1,wt2])\n",
        "plt.hist(X,weights=wts)\n",
        "plt.legend(['Image J','CNN'])"
      ],
      "execution_count": 19,
      "outputs": [
        {
          "output_type": "execute_result",
          "data": {
            "text/plain": [
              "<matplotlib.legend.Legend at 0x7f73a614fd50>"
            ]
          },
          "metadata": {
            "tags": []
          },
          "execution_count": 19
        },
        {
          "output_type": "display_data",
          "data": {
            "image/png": "[encoded data removed]",
            "text/plain": [
              "<Figure size 432x288 with 1 Axes>"
            ]
          },
          "metadata": {
            "tags": [],
            "needs_background": "light"
          }
        }
      ]
    },
    {
      "cell_type": "code",
      "metadata": {
        "colab": {
          "base_uri": "https://localhost:8080/",
          "height": 283
        },
        "id": "j6UHPeMW374Y",
        "outputId": "e306e53d-7ad3-4e71-8220-25d3247e44da"
      },
      "source": [
        "Obj = plt.hist(X, density=True, histtype='step', cumulative=True,label='Reversed emp.')\n",
        "Y1, Y2 = Obj[0]\n",
        "print('r_squared =',r2_score(Y1, Y2))"
      ],
      "execution_count": 20,
      "outputs": [
        {
          "output_type": "stream",
          "text": [
            "r_squared = 0.9413759272611912\n"
          ],
          "name": "stdout"
        },
        {
          "output_type": "display_data",
          "data": {
            "image/png": "[encoded data removed]",
            "text/plain": [
              "<Figure size 432x288 with 1 Axes>"
            ]
          },
          "metadata": {
            "tags": [],
            "needs_background": "light"
          }
        }
      ]
    },
    {
      "cell_type": "code",
      "metadata": {
        "colab": {
          "base_uri": "https://localhost:8080/",
          "height": 395
        },
        "id": "ZZHa1j4HT9Dq",
        "outputId": "4e4d6feb-64b2-4c47-cdb1-2910e84be588"
      },
      "source": [
        "counts, bins, bars = plt.hist(X,weights=wts)\n",
        "print(bars)\n",
        "print(bins)\n",
        "print(counts)"
      ],
      "execution_count": 21,
      "outputs": [
        {
          "output_type": "stream",
          "text": [
            "<a list of 2 Lists of Patches objects>\n",
            "[0.72804636 0.88698565 1.04592493 1.20486421 1.36380349 1.52274278\n",
            " 1.68168206 1.84062134 1.99956062 2.15849991 2.31743919]\n",
            "[[ 6.31578947  9.47368421 23.15789474 33.68421053 15.78947368  8.42105263\n",
            "   1.05263158  0.          1.05263158  1.05263158]\n",
            " [11.53846154 15.38461538 19.23076923 15.38461538 11.53846154 11.53846154\n",
            "  15.38461538  0.          0.          0.        ]]\n"
          ],
          "name": "stdout"
        },
        {
          "output_type": "display_data",
          "data": {
            "image/png": "[encoded data removed]",
            "text/plain": [
              "<Figure size 432x288 with 1 Axes>"
            ]
          },
          "metadata": {
            "tags": [],
            "needs_background": "light"
          }
        }
      ]
    },
    {
      "cell_type": "code",
      "metadata": {
        "colab": {
          "base_uri": "https://localhost:8080/"
        },
        "id": "8o_vDGeWUwIZ",
        "outputId": "628a2665-af0d-4ca6-a29f-bcfdcfe83620"
      },
      "source": [
        "print(counts.sum())"
      ],
      "execution_count": 22,
      "outputs": [
        {
          "output_type": "stream",
          "text": [
            "200.00000000000006\n"
          ],
          "name": "stdout"
        }
      ]
    },
    {
      "cell_type": "code",
      "metadata": {
        "colab": {
          "base_uri": "https://localhost:8080/",
          "height": 339
        },
        "id": "KcH52-6iJQ8t",
        "outputId": "3041b0d3-13ba-4ba8-9d45-28a6ad286013"
      },
      "source": [
        "\n",
        "plt.hist([Diam1,Diameter_All])\n",
        "plt.legend(['Image J','CNN'])\n"
      ],
      "execution_count": 23,
      "outputs": [
        {
          "output_type": "stream",
          "text": [
            "/usr/local/lib/python3.7/dist-packages/numpy/core/_asarray.py:83: VisibleDeprecationWarning: Creating an ndarray from ragged nested sequences (which is a list-or-tuple of lists-or-tuples-or ndarrays with different lengths or shapes) is deprecated. If you meant to do this, you must specify 'dtype=object' when creating the ndarray\n",
            "  return array(a, dtype, copy=False, order=order)\n"
          ],
          "name": "stderr"
        },
        {
          "output_type": "execute_result",
          "data": {
            "text/plain": [
              "<matplotlib.legend.Legend at 0x7f739d9e0190>"
            ]
          },
          "metadata": {
            "tags": []
          },
          "execution_count": 23
        },
        {
          "output_type": "display_data",
          "data": {
            "image/png": "[encoded data removed]",
            "text/plain": [
              "<Figure size 432x288 with 1 Axes>"
            ]
          },
          "metadata": {
            "tags": [],
            "needs_background": "light"
          }
        }
      ]
    },
    {
      "cell_type": "code",
      "metadata": {
        "colab": {
          "base_uri": "https://localhost:8080/"
        },
        "id": "r11AxFK_JIii",
        "outputId": "a01c1c52-bd1f-43a9-b465-e1c4f8b48ac8"
      },
      "source": [
        "[Diam1,Diameter_All]"
      ],
      "execution_count": 24,
      "outputs": [
        {
          "output_type": "execute_result",
          "data": {
            "text/plain": [
              "[[1.59616801403081,\n",
              "  1.0217907939900581,\n",
              "  1.2716187407449044,\n",
              "  1.104429030701514,\n",
              "  1.2163487785097904,\n",
              "  1.6013445735058454,\n",
              "  1.1715597420637607,\n",
              "  1.2534662333717612,\n",
              "  1.2676073151634049,\n",
              "  1.309600575274104,\n",
              "  1.292966945531582,\n",
              "  1.7658322811231006,\n",
              "  1.3564037533648712,\n",
              "  1.2407040781688483,\n",
              "  2.130217298173151,\n",
              "  1.4228319915327,\n",
              "  1.0651086490865755,\n",
              "  1.3008210311003705,\n",
              "  1.336545951796433,\n",
              "  0.8927754224911278,\n",
              "  1.4494292838262302,\n",
              "  1.4052738287907582,\n",
              "  1.6421697097891788,\n",
              "  1.2329833804288621,\n",
              "  1.19042665178928,\n",
              "  1.1682948223612457,\n",
              "  1.1518314137121108,\n",
              "  0.9607802401865855,\n",
              "  2.317439190074449,\n",
              "  1.0591147430338594,\n",
              "  1.4308630919602832,\n",
              "  0.7535680705496237,\n",
              "  0.8608283307581511,\n",
              "  1.2776122636975893,\n",
              "  1.3745862957220916,\n",
              "  1.259546137598783,\n",
              "  1.2978813187979172,\n",
              "  1.2412170838050638,\n",
              "  1.6009469708743893,\n",
              "  1.3149369953539032,\n",
              "  1.417901703622935,\n",
              "  1.2478669653497139,\n",
              "  1.1055812783082735,\n",
              "  0.9561307405997607,\n",
              "  0.9487783503683882,\n",
              "  1.1238565871041026,\n",
              "  1.2058356273089446,\n",
              "  1.2801012827406097,\n",
              "  0.8733100751144249,\n",
              "  0.9194732501297403,\n",
              "  1.6425573339441792,\n",
              "  1.085826790250066,\n",
              "  1.0639125693728595,\n",
              "  1.0875842666474016,\n",
              "  1.417901703622935,\n",
              "  1.550443891425932,\n",
              "  0.7825779328716171,\n",
              "  1.4690612745308145,\n",
              "  1.053086721720641,\n",
              "  1.2676073151634049,\n",
              "  0.7744003006005755,\n",
              "  1.3787482149724068,\n",
              "  1.363892581861956,\n",
              "  1.299352006316543,\n",
              "  1.2870449283923413,\n",
              "  1.11817763925502,\n",
              "  0.9474354220939228,\n",
              "  1.5218484589055707,\n",
              "  1.3526437911676632,\n",
              "  1.1556938532445284,\n",
              "  1.6013445735058454,\n",
              "  1.274619025074578,\n",
              "  1.422384489715834,\n",
              "  1.3408259533459403,\n",
              "  1.172646028567008,\n",
              "  1.1490645795125545,\n",
              "  1.459060149136146,\n",
              "  1.2483770274864237,\n",
              "  1.336545951796433,\n",
              "  0.9601174044814821,\n",
              "  1.4867225193896279,\n",
              "  1.4277452542806772,\n",
              "  1.35028849808504,\n",
              "  0.7560982446653928,\n",
              "  1.259040600296622,\n",
              "  1.13456827900627,\n",
              "  1.6549133695530214,\n",
              "  1.1204526724091788,\n",
              "  1.1176081573544434,\n",
              "  0.9153095762832032,\n",
              "  1.1639273497938836,\n",
              "  1.3066806149514323,\n",
              "  1.1529362882239027,\n",
              "  1.3047303442899274,\n",
              "  1.3066806149514323],\n",
              " [0.9436135700363483,\n",
              "  1.7910631097137584,\n",
              "  1.162200339856722,\n",
              "  1.6168451332207543,\n",
              "  1.7605134777756097,\n",
              "  0.9925869303151987,\n",
              "  1.015113065115332,\n",
              "  1.0652521938726818,\n",
              "  1.389239335121342,\n",
              "  0.8236481810782502,\n",
              "  1.3282289598362536,\n",
              "  1.6433149999995498,\n",
              "  1.7932145376481734,\n",
              "  1.5211867306460418,\n",
              "  1.1493546753113753,\n",
              "  0.8522302527260035,\n",
              "  1.5012453204015621,\n",
              "  0.7280463631306555,\n",
              "  1.7760310658308083,\n",
              "  1.0887189810800857,\n",
              "  1.3519720355821208,\n",
              "  1.280581549435171,\n",
              "  1.271679578654703,\n",
              "  1.6101178927530166,\n",
              "  1.1880169479931924,\n",
              "  0.9611500150100337]]"
            ]
          },
          "metadata": {
            "tags": []
          },
          "execution_count": 24
        }
      ]
    }
  ]
}