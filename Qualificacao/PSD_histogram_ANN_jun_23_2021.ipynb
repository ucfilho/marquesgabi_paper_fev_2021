{
  "nbformat": 4,
  "nbformat_minor": 0,
  "metadata": {
    "colab": {
      "name": "PSD_histogram_ANN_jun_23_2021.ipynb",
      "provenance": [],
      "collapsed_sections": [],
      "include_colab_link": true
    },
    "kernelspec": {
      "name": "python3",
      "display_name": "Python 3"
    }
  },
  "cells": [
    {
      "cell_type": "markdown",
      "metadata": {
        "id": "view-in-github",
        "colab_type": "text"
      },
      "source": [
        "<a href=\"https://colab.research.google.com/github/ucfilho/marquesgabi_paper_fev_2021/blob/main/Qualificacao/PSD_histogram_ANN_jun_23_2021.ipynb\" target=\"_parent\"><img src=\"https://colab.research.google.com/assets/colab-badge.svg\" alt=\"Open In Colab\"/></a>"
      ]
    },
    {
      "cell_type": "code",
      "metadata": {
        "id": "Sog7Z9pyhUD_",
        "colab": {
          "base_uri": "https://localhost:8080/"
        },
        "outputId": "d14fd5a4-7212-48dd-b334-736217a6d80e"
      },
      "source": [
        "import matplotlib.pyplot as plt\n",
        "import numpy as np\n",
        "import cv2\n",
        "import zipfile\n",
        "#import random\n",
        "from random import randint\n",
        "from PIL import Image\n",
        "import re\n",
        "from sklearn.model_selection import train_test_split\n",
        "#import scikit-image\n",
        "import skimage\n",
        "import pandas as pd\n",
        "from sklearn.externals import joblib"
      ],
      "execution_count": null,
      "outputs": [
        {
          "output_type": "stream",
          "text": [
            "/usr/local/lib/python3.7/dist-packages/sklearn/externals/joblib/__init__.py:15: FutureWarning: sklearn.externals.joblib is deprecated in 0.21 and will be removed in 0.23. Please import this functionality directly from joblib, which can be installed with: pip install joblib. If this warning is raised when loading pickled models, you may need to re-serialize those models with scikit-learn 0.21+.\n",
            "  warnings.warn(msg, category=FutureWarning)\n"
          ],
          "name": "stderr"
        }
      ]
    },
    {
      "cell_type": "code",
      "metadata": {
        "id": "uZEvJvfoibE4",
        "colab": {
          "base_uri": "https://localhost:8080/"
        },
        "outputId": "971d12a2-9387-4901-d0d8-26d8656c398f"
      },
      "source": [
        "!pip install mahotas"
      ],
      "execution_count": null,
      "outputs": [
        {
          "output_type": "stream",
          "text": [
            "Collecting mahotas\n",
            "\u001b[?25l  Downloading https://files.pythonhosted.org/packages/19/ad/553b246b0a35dccc3ed58dc8889a67124bf5ab858e9c6b7255d56086e70c/mahotas-1.4.11-cp37-cp37m-manylinux2010_x86_64.whl (5.7MB)\n",
            "\u001b[K     |████████████████████████████████| 5.7MB 2.9MB/s \n",
            "\u001b[?25hRequirement already satisfied: numpy in /usr/local/lib/python3.7/dist-packages (from mahotas) (1.19.5)\n",
            "Installing collected packages: mahotas\n",
            "Successfully installed mahotas-1.4.11\n"
          ],
          "name": "stdout"
        }
      ]
    },
    {
      "cell_type": "code",
      "metadata": {
        "id": "nf_a6PJ1iUnT"
      },
      "source": [
        "import mahotas.features.texture as mht\n",
        "import mahotas.features"
      ],
      "execution_count": null,
      "outputs": []
    },
    {
      "cell_type": "code",
      "metadata": {
        "id": "_VcTdaNVh9EE",
        "colab": {
          "base_uri": "https://localhost:8080/"
        },
        "outputId": "30fe3588-6706-4a16-c862-ddfcf35baa11"
      },
      "source": [
        "!git clone https://github.com/ucfilho/marquesgabi_fev_2020 #clonar do Github\n",
        "%cd marquesgabi_fev_2020\n",
        "import Go2BlackWhite\n",
        "import Go2Mahotas"
      ],
      "execution_count": null,
      "outputs": [
        {
          "output_type": "stream",
          "text": [
            "Cloning into 'marquesgabi_fev_2020'...\n",
            "remote: Enumerating objects: 73, done.\u001b[K\n",
            "remote: Counting objects: 100% (73/73), done.\u001b[K\n",
            "remote: Compressing objects: 100% (71/71), done.\u001b[K\n",
            "remote: Total 73 (delta 37), reused 0 (delta 0), pack-reused 0\u001b[K\n",
            "Unpacking objects: 100% (73/73), done.\n",
            "/content/marquesgabi_fev_2020\n"
          ],
          "name": "stdout"
        }
      ]
    },
    {
      "cell_type": "code",
      "metadata": {
        "id": "1v7SRrc8mH2N",
        "colab": {
          "base_uri": "https://localhost:8080/"
        },
        "outputId": "beab631e-cde5-44b3-aff6-e5f62c5851bd"
      },
      "source": [
        "!git clone https://github.com/marquesgabi/Doutorado\n",
        "%cd Doutorado\n",
        "\n",
        "Transfere='Fotos_Grandes_3cdAmostra.zip'\n",
        "file_name = zipfile.ZipFile(Transfere, 'r')\n",
        "file_name.extractall()"
      ],
      "execution_count": null,
      "outputs": [
        {
          "output_type": "stream",
          "text": [
            "Cloning into 'Doutorado'...\n",
            "remote: Enumerating objects: 361, done.\u001b[K\n",
            "remote: Counting objects: 100% (111/111), done.\u001b[K\n",
            "remote: Compressing objects: 100% (110/110), done.\u001b[K\n",
            "remote: Total 361 (delta 38), reused 0 (delta 0), pack-reused 250\u001b[K\n",
            "Receiving objects: 100% (361/361), 165.33 MiB | 30.42 MiB/s, done.\n",
            "Resolving deltas: 100% (161/161), done.\n",
            "/content/marquesgabi_fev_2020/Doutorado\n"
          ],
          "name": "stdout"
        }
      ]
    },
    {
      "cell_type": "code",
      "metadata": {
        "id": "0kA4IWSmasoD"
      },
      "source": [
        "Size=1200 # tamanho da foto\n",
        "ww,img_name=Go2BlackWhite.BlackWhite(Transfere,Size) #Pegamos a primeira foto Grande\n",
        "img=ww[4] \n",
        "# this is the big image we want to segment \n",
        "# ww[0], change it if you want to segment another picture"
      ],
      "execution_count": null,
      "outputs": []
    },
    {
      "cell_type": "code",
      "metadata": {
        "id": "tHgqAnaFyCjp",
        "colab": {
          "base_uri": "https://localhost:8080/"
        },
        "outputId": "6926e704-4ebb-4c18-df60-1bf8a4d17863"
      },
      "source": [
        "!git clone https://github.com/ucfilho/MarquesGabi_Routines\n",
        "%cd MarquesGabi_Routines"
      ],
      "execution_count": null,
      "outputs": [
        {
          "output_type": "stream",
          "text": [
            "Cloning into 'MarquesGabi_Routines'...\n",
            "remote: Enumerating objects: 163, done.\u001b[K\n",
            "remote: Counting objects: 100% (163/163), done.\u001b[K\n",
            "remote: Compressing objects: 100% (160/160), done.\u001b[K\n",
            "remote: Total 163 (delta 65), reused 3 (delta 1), pack-reused 0\u001b[K\n",
            "Receiving objects: 100% (163/163), 211.71 MiB | 23.02 MiB/s, done.\n",
            "Resolving deltas: 100% (65/65), done.\n",
            "Checking out files: 100% (46/46), done.\n",
            "/content/marquesgabi_fev_2020/Doutorado/MarquesGabi_Routines\n"
          ],
          "name": "stdout"
        }
      ]
    },
    {
      "cell_type": "code",
      "metadata": {
        "id": "qc4rFvzkyWCi"
      },
      "source": [
        "from segment_filter_not_conclude import Segmenta  # got image provided segmented"
      ],
      "execution_count": null,
      "outputs": []
    },
    {
      "cell_type": "code",
      "metadata": {
        "id": "SnTtH3KDP863"
      },
      "source": [
        "df=Segmenta(img)\n"
      ],
      "execution_count": null,
      "outputs": []
    },
    {
      "cell_type": "code",
      "metadata": {
        "id": "YN5MN5a_v4np",
        "colab": {
          "base_uri": "https://localhost:8080/"
        },
        "outputId": "1f3ddcd7-2858-47ce-81a9-5f12fee9df1b"
      },
      "source": [
        "print(df)"
      ],
      "execution_count": null,
      "outputs": [
        {
          "output_type": "stream",
          "text": [
            "    Width           0           1  ...         781         782         783\n",
            "0     118  251.596649  250.809525  ...  151.072678  144.269455  137.910355\n",
            "1     141    0.842261    1.835169  ...    1.401388    1.000000    1.000000\n",
            "2     156   41.052597   43.404999  ...  130.884293  138.441818  132.468124\n",
            "3     179  125.842705  138.736862  ...  177.770905  182.997803  181.607758\n",
            "4     181  145.465836  143.510895  ...  185.652512  223.665054  121.499588\n",
            "5     167  142.363434  142.535355  ...    1.700778    0.880562    0.195776\n",
            "6     110   25.285286   22.712067  ...    0.212231    0.944463    1.000000\n",
            "7     122  196.332962  198.579666  ...  195.338867  165.879333  158.503357\n",
            "8     157   40.656864   53.032867  ...   17.603231   20.437868   25.865595\n",
            "9     187  110.389717  139.551666  ...    1.349653    0.191284    1.344305\n",
            "10    110  115.407272  108.004951  ...    0.973884    0.004628    1.078347\n",
            "11    145  155.687744  148.938263  ...  165.824509  164.255798  163.066742\n",
            "12    136  153.220596   81.647926  ...    0.365917    0.483564    1.454152\n",
            "13    167    0.055219    1.178816  ...  188.007278  139.487289  125.423836\n",
            "14    182  177.982254  173.781082  ...    1.266272    0.147929    1.343195\n",
            "15    167  186.459152  185.736374  ...    5.765606    1.613217    2.323389\n",
            "16    110  139.464127  136.978836  ...    0.810909    0.828099    1.000000\n",
            "17    116    1.299643    0.506540  ...  158.462540  156.858490  157.418549\n",
            "18    147   95.473923  105.256241  ...  113.827667  122.832207  139.884369\n",
            "19    153   93.518814  118.171997  ...    0.654406    0.314537    1.399504\n",
            "20    122  178.173889  180.456589  ...  141.844391  135.775055  135.829330\n",
            "21    192  103.768669  131.666229  ...  200.901474  208.041656  204.447906\n",
            "22    138  135.231445  144.351807  ...  104.966812  100.174545  104.222855\n",
            "23    108  171.277084  188.669403  ...  167.609055  168.292175  162.054871\n",
            "24    163   32.926193   57.799995  ...  152.784225  146.991364  145.670364\n",
            "25    141  253.552002  253.839203  ...    0.997284    0.601378    0.914039\n",
            "26    173   70.339172   89.652740  ...    2.195697    1.216111    0.081292\n",
            "27    171  183.194595  195.102524  ...    0.971855    0.178756    1.354297\n",
            "28    101   93.903053   98.612198  ...  109.984314  105.234001   99.989609\n",
            "29    138  184.710571  177.419647  ...  107.553032  108.667091  105.508919\n",
            "30    163  229.494751  231.998260  ...    0.305281    0.781136    1.785013\n",
            "31    119  167.757782  174.609009  ...  181.577850  175.397934  177.785477\n",
            "32    155  121.008163  109.055702  ...    0.229636    1.193465    0.671342\n",
            "33    168  117.777779  100.055557  ...  116.638893  102.916664  118.416664\n",
            "34    138  145.943069  137.657410  ...    1.000000    0.703214    0.000000\n",
            "35    172   91.905899   93.028664  ...    0.998919    0.173607    1.352082\n",
            "36    107   90.293472   76.600922  ...  128.730362  137.015289  150.629578\n",
            "37    183  164.631241  164.933594  ...   89.065010   85.257492   78.478668\n",
            "38    125  206.379532  173.364746  ...  182.191818  185.465668  176.582870\n",
            "39    190  144.554779  180.661163  ...    1.390803    0.202659    1.338172\n",
            "40    168  160.333328  143.138885  ...  166.027786  163.388885  169.472229\n",
            "41    173  180.228119  108.356529  ...  172.382263  173.484497  165.981613\n",
            "42    153  195.966660  181.223007  ...  145.730957  155.504349  157.866074\n",
            "43    177  133.210144   99.581108  ...  149.868317  167.004211  176.341827\n",
            "44    176  181.870346  153.987076  ...  125.445251  146.772217  171.276337\n",
            "45    175  150.225601  167.540787  ...  227.415985  247.499176  248.171204\n",
            "46    109  206.299957  216.379929  ...  162.008316  136.131134  115.799850\n",
            "47    113  225.687531  242.972977  ...  185.684387  193.992859  204.973999\n",
            "48    141  129.211304  125.934013  ...  154.805496  145.301804  150.241791\n",
            "49    116  150.781204  139.444702  ...    0.024970    0.747919    1.541023\n",
            "\n",
            "[50 rows x 785 columns]\n"
          ],
          "name": "stdout"
        }
      ]
    },
    {
      "cell_type": "code",
      "metadata": {
        "id": "xzpQ1Pz0fX5L",
        "colab": {
          "base_uri": "https://localhost:8080/"
        },
        "outputId": "0e6efe23-50dc-48cf-9923-cbcecd5b9f56"
      },
      "source": [
        "!git clone https://github.com/ucfilho/MarquesGabi_Routines\n",
        "%cd MarquesGabi_Routines\n",
        "# filename = 'model_ANN.pkl'\n",
        "filename = 'model_ANN_new.pkl'\n",
        "model = joblib.load(filename)"
      ],
      "execution_count": null,
      "outputs": [
        {
          "output_type": "stream",
          "text": [
            "Cloning into 'MarquesGabi_Routines'...\n",
            "remote: Enumerating objects: 163, done.\u001b[K\n",
            "remote: Counting objects: 100% (163/163), done.\u001b[K\n",
            "remote: Compressing objects: 100% (160/160), done.\u001b[K\n",
            "remote: Total 163 (delta 65), reused 3 (delta 1), pack-reused 0\u001b[K\n",
            "Receiving objects: 100% (163/163), 211.71 MiB | 23.41 MiB/s, done.\n",
            "Resolving deltas: 100% (65/65), done.\n",
            "Checking out files: 100% (46/46), done.\n",
            "/content/marquesgabi_fev_2020/Doutorado/MarquesGabi_Routines/MarquesGabi_Routines\n"
          ],
          "name": "stdout"
        }
      ]
    },
    {
      "cell_type": "code",
      "metadata": {
        "id": "QISvYcJBgWbE",
        "colab": {
          "base_uri": "https://localhost:8080/"
        },
        "outputId": "3e40b377-99bf-49ca-8619-02e6ff1c7c89"
      },
      "source": [
        "cont = 0; num =25\n",
        "img_graos = []\n",
        "Width_new = []\n",
        "img=ww[0] \n",
        "while( cont < num):\n",
        "  df=Segmenta(img)\n",
        "  df_ann =df.copy()\n",
        "  Width = df['Width']\n",
        "  del df_ann['Width']\n",
        "  result = np.array(df_ann)/255\n",
        "  prediction = model.predict(result)\n",
        "  loc_grao =[];k=0\n",
        "  for i in prediction:\n",
        "    if( i == 0):\n",
        "      img_graos.append(df.iloc[k,:])\n",
        "      Width_new.append(Width.iloc[k])\n",
        "      cont = cont + 1\n",
        "    k = k +1\n",
        "img_graos = pd.DataFrame(img_graos)\n",
        "print(img_graos)"
      ],
      "execution_count": null,
      "outputs": [
        {
          "output_type": "stream",
          "text": [
            "    Width           0           1  ...         781         782         783\n",
            "12  101.0   85.437416   93.088615  ...   81.488388   87.320267   88.294678\n",
            "27  133.0   97.601105  104.570633  ...   85.013855   88.166206   91.628815\n",
            "29  101.0   77.419968   76.044022  ...   38.198509   37.763065   38.304581\n",
            "38  114.0   68.579872    6.544168  ...    0.000000    0.000000    0.000000\n",
            "13  114.0   65.956596   63.012928  ...   55.815632   57.075409   60.637123\n",
            "17  183.0    3.966526    1.008301  ...   80.980179   78.568245   78.959717\n",
            "38  130.0   47.740593   49.920006  ...   58.952900   77.835976  102.712189\n",
            "42  184.0  121.929100  137.344498  ...   85.265594   84.289215   82.071831\n",
            "17  191.0   81.531052   83.274857  ...   35.537212   29.965981   27.538910\n",
            "32  194.0   56.808266   56.397381  ...  118.537773  125.253151  121.501205\n",
            "30  192.0   67.588539   64.065971  ...    0.034722    0.000000    0.000000\n",
            "47  160.0   39.808750   38.264374  ...   38.240623   33.076874   28.080000\n",
            "48  200.0   94.407196   94.534004  ...    0.000000    0.000000    0.002800\n",
            "31  143.0   76.574646   79.213013  ...   43.366371   48.249790   52.607559\n",
            "21  173.0   87.072662   89.293732  ...   48.199436   48.206985   41.951588\n",
            "44  157.0   66.560753   67.103737  ...  109.213280  113.202591  118.626778\n",
            "4   181.0   99.845459   89.451637  ...    0.427337    0.000000    0.000000\n",
            "9   165.0   82.698326   82.562645  ...    6.165987    5.944867    5.984978\n",
            "12  158.0   76.197884   74.772469  ...   92.795059   89.453934   88.413719\n",
            "13  180.0   32.395561   37.302223  ...   68.625679   66.211357   70.911606\n",
            "17  199.0   87.862144   80.594803  ...   22.552586    6.056640    0.685361\n",
            "30  156.0   98.780411   99.466805  ...   39.674561   64.400398   76.030899\n",
            "30  176.0   66.512390   54.302681  ...   58.054749   58.940598  104.519623\n",
            "8   141.0    3.708314    2.795885  ...    0.000000    0.000000    0.000000\n",
            "12  117.0    3.907079    6.007744  ...   19.058588   20.689970   22.570896\n",
            "13  111.0  104.357040  104.872734  ...  118.660179   92.183098   81.038223\n",
            "22  124.0   86.830383   82.740891  ...   39.672215   43.490108   44.750252\n",
            "35  193.0   61.428497   59.940620  ...    4.886923    5.059357    6.235228\n",
            "45  179.0    0.963578    6.698792  ...   88.977783   92.739029   91.797234\n",
            "46  181.0    2.835841    1.564146  ...   72.722481   74.070694   79.301674\n",
            "47  119.0   62.782009   66.401382  ...   53.197235   53.179935   70.024216\n",
            "\n",
            "[31 rows x 785 columns]\n"
          ],
          "name": "stdout"
        }
      ]
    },
    {
      "cell_type": "code",
      "metadata": {
        "id": "6LkA4vHp-f6_"
      },
      "source": [
        "Width=np.array(Width_new)"
      ],
      "execution_count": null,
      "outputs": []
    },
    {
      "cell_type": "code",
      "metadata": {
        "colab": {
          "base_uri": "https://localhost:8080/"
        },
        "id": "MjRbWgmX_LFH",
        "outputId": "f38845fb-3482-4820-ecf2-798ac6dfd95b"
      },
      "source": [
        "!git clone https://github.com/ucfilho/marquesgabi_paper_fev_2021\n",
        "%cd marquesgabi_paper_fev_2021\n",
        "\n",
        "from Get_PSDArea_New import PSDArea\n",
        "from histogram_fev_2021 import PSD\n",
        "from GetBetterSegm import GetBetter"
      ],
      "execution_count": null,
      "outputs": [
        {
          "output_type": "stream",
          "text": [
            "Cloning into 'marquesgabi_paper_fev_2021'...\n",
            "remote: Enumerating objects: 569, done.\u001b[K\n",
            "remote: Counting objects: 100% (330/330), done.\u001b[K\n",
            "remote: Compressing objects: 100% (329/329), done.\u001b[K\n",
            "remote: Total 569 (delta 200), reused 0 (delta 0), pack-reused 239\u001b[K\n",
            "Receiving objects: 100% (569/569), 4.92 MiB | 15.70 MiB/s, done.\n",
            "Resolving deltas: 100% (337/337), done.\n",
            "/content/marquesgabi_fev_2020/Doutorado/MarquesGabi_Routines/MarquesGabi_Routines/marquesgabi_paper_fev_2021\n"
          ],
          "name": "stdout"
        }
      ]
    },
    {
      "cell_type": "code",
      "metadata": {
        "colab": {
          "base_uri": "https://localhost:8080/"
        },
        "id": "WAG_I6FwCvFr",
        "outputId": "a07007ea-60bb-4abd-b346-d6d3be0a47c3"
      },
      "source": [
        "!git clone https://github.com/ucfilho/marquesgabi_out_2020\n",
        "%cd marquesgabi_out_2020\n",
        "PSD_imageJ = 'Areas_ImageJ.csv'\n",
        "PSD_new = pd.read_csv(PSD_imageJ)\n",
        "print(PSD_new.head(3))"
      ],
      "execution_count": null,
      "outputs": [
        {
          "output_type": "stream",
          "text": [
            "Cloning into 'marquesgabi_out_2020'...\n",
            "remote: Enumerating objects: 146, done.\u001b[K\n",
            "remote: Counting objects: 100% (146/146), done.\u001b[K\n",
            "remote: Compressing objects: 100% (142/142), done.\u001b[K\n",
            "remote: Total 146 (delta 75), reused 0 (delta 0), pack-reused 0\u001b[K\n",
            "Receiving objects: 100% (146/146), 1.00 MiB | 7.39 MiB/s, done.\n",
            "Resolving deltas: 100% (75/75), done.\n",
            "/content/marquesgabi_fev_2020/Doutorado/MarquesGabi_Routines/MarquesGabi_Routines/marquesgabi_paper_fev_2021/marquesgabi_out_2020\n",
            "   Juntas   Area\n",
            "0       1  2.001\n",
            "1       2  0.820\n",
            "2       3  1.270\n"
          ],
          "name": "stdout"
        }
      ]
    },
    {
      "cell_type": "code",
      "metadata": {
        "id": "t_1WIM8w7poO"
      },
      "source": [
        "Area_All, Diameter_All=PSDArea(img_graos) "
      ],
      "execution_count": null,
      "outputs": []
    },
    {
      "cell_type": "code",
      "metadata": {
        "colab": {
          "base_uri": "https://localhost:8080/",
          "height": 252
        },
        "id": "PekBHQOT_6CP",
        "outputId": "a44a676b-b848-4d6d-8661-6369e998412d"
      },
      "source": [
        "img_graos.head()"
      ],
      "execution_count": null,
      "outputs": [
        {
          "output_type": "execute_result",
          "data": {
            "text/html": [
              "<div>\n",
              "<style scoped>\n",
              "    .dataframe tbody tr th:only-of-type {\n",
              "        vertical-align: middle;\n",
              "    }\n",
              "\n",
              "    .dataframe tbody tr th {\n",
              "        vertical-align: top;\n",
              "    }\n",
              "\n",
              "    .dataframe thead th {\n",
              "        text-align: right;\n",
              "    }\n",
              "</style>\n",
              "<table border=\"1\" class=\"dataframe\">\n",
              "  <thead>\n",
              "    <tr style=\"text-align: right;\">\n",
              "      <th></th>\n",
              "      <th>Width</th>\n",
              "      <th>0</th>\n",
              "      <th>1</th>\n",
              "      <th>2</th>\n",
              "      <th>3</th>\n",
              "      <th>4</th>\n",
              "      <th>5</th>\n",
              "      <th>6</th>\n",
              "      <th>7</th>\n",
              "      <th>8</th>\n",
              "      <th>9</th>\n",
              "      <th>10</th>\n",
              "      <th>11</th>\n",
              "      <th>12</th>\n",
              "      <th>13</th>\n",
              "      <th>14</th>\n",
              "      <th>15</th>\n",
              "      <th>16</th>\n",
              "      <th>17</th>\n",
              "      <th>18</th>\n",
              "      <th>19</th>\n",
              "      <th>20</th>\n",
              "      <th>21</th>\n",
              "      <th>22</th>\n",
              "      <th>23</th>\n",
              "      <th>24</th>\n",
              "      <th>25</th>\n",
              "      <th>26</th>\n",
              "      <th>27</th>\n",
              "      <th>28</th>\n",
              "      <th>29</th>\n",
              "      <th>30</th>\n",
              "      <th>31</th>\n",
              "      <th>32</th>\n",
              "      <th>33</th>\n",
              "      <th>34</th>\n",
              "      <th>35</th>\n",
              "      <th>36</th>\n",
              "      <th>37</th>\n",
              "      <th>38</th>\n",
              "      <th>...</th>\n",
              "      <th>744</th>\n",
              "      <th>745</th>\n",
              "      <th>746</th>\n",
              "      <th>747</th>\n",
              "      <th>748</th>\n",
              "      <th>749</th>\n",
              "      <th>750</th>\n",
              "      <th>751</th>\n",
              "      <th>752</th>\n",
              "      <th>753</th>\n",
              "      <th>754</th>\n",
              "      <th>755</th>\n",
              "      <th>756</th>\n",
              "      <th>757</th>\n",
              "      <th>758</th>\n",
              "      <th>759</th>\n",
              "      <th>760</th>\n",
              "      <th>761</th>\n",
              "      <th>762</th>\n",
              "      <th>763</th>\n",
              "      <th>764</th>\n",
              "      <th>765</th>\n",
              "      <th>766</th>\n",
              "      <th>767</th>\n",
              "      <th>768</th>\n",
              "      <th>769</th>\n",
              "      <th>770</th>\n",
              "      <th>771</th>\n",
              "      <th>772</th>\n",
              "      <th>773</th>\n",
              "      <th>774</th>\n",
              "      <th>775</th>\n",
              "      <th>776</th>\n",
              "      <th>777</th>\n",
              "      <th>778</th>\n",
              "      <th>779</th>\n",
              "      <th>780</th>\n",
              "      <th>781</th>\n",
              "      <th>782</th>\n",
              "      <th>783</th>\n",
              "    </tr>\n",
              "  </thead>\n",
              "  <tbody>\n",
              "    <tr>\n",
              "      <th>12</th>\n",
              "      <td>101.0</td>\n",
              "      <td>85.437416</td>\n",
              "      <td>93.088615</td>\n",
              "      <td>104.906776</td>\n",
              "      <td>106.571716</td>\n",
              "      <td>102.366928</td>\n",
              "      <td>92.824921</td>\n",
              "      <td>89.184105</td>\n",
              "      <td>87.462112</td>\n",
              "      <td>84.295769</td>\n",
              "      <td>84.707283</td>\n",
              "      <td>85.634445</td>\n",
              "      <td>83.741104</td>\n",
              "      <td>82.389175</td>\n",
              "      <td>81.075974</td>\n",
              "      <td>79.031769</td>\n",
              "      <td>75.147629</td>\n",
              "      <td>74.294189</td>\n",
              "      <td>74.532990</td>\n",
              "      <td>72.947655</td>\n",
              "      <td>68.816689</td>\n",
              "      <td>59.375946</td>\n",
              "      <td>48.536026</td>\n",
              "      <td>43.467308</td>\n",
              "      <td>42.484070</td>\n",
              "      <td>43.690819</td>\n",
              "      <td>45.969807</td>\n",
              "      <td>48.443977</td>\n",
              "      <td>51.694443</td>\n",
              "      <td>78.920799</td>\n",
              "      <td>80.088333</td>\n",
              "      <td>81.329086</td>\n",
              "      <td>86.045105</td>\n",
              "      <td>87.700722</td>\n",
              "      <td>85.341141</td>\n",
              "      <td>82.424370</td>\n",
              "      <td>81.933632</td>\n",
              "      <td>79.736595</td>\n",
              "      <td>78.090675</td>\n",
              "      <td>79.466431</td>\n",
              "      <td>...</td>\n",
              "      <td>103.726112</td>\n",
              "      <td>94.594650</td>\n",
              "      <td>81.806496</td>\n",
              "      <td>77.812569</td>\n",
              "      <td>81.796982</td>\n",
              "      <td>86.699051</td>\n",
              "      <td>89.094986</td>\n",
              "      <td>87.519455</td>\n",
              "      <td>70.918449</td>\n",
              "      <td>73.546616</td>\n",
              "      <td>80.177628</td>\n",
              "      <td>84.674843</td>\n",
              "      <td>37.010983</td>\n",
              "      <td>34.471230</td>\n",
              "      <td>41.395550</td>\n",
              "      <td>63.001472</td>\n",
              "      <td>78.605042</td>\n",
              "      <td>92.637398</td>\n",
              "      <td>108.250961</td>\n",
              "      <td>121.770416</td>\n",
              "      <td>125.888046</td>\n",
              "      <td>125.854141</td>\n",
              "      <td>127.199402</td>\n",
              "      <td>128.352219</td>\n",
              "      <td>125.969513</td>\n",
              "      <td>119.389175</td>\n",
              "      <td>107.026573</td>\n",
              "      <td>100.303307</td>\n",
              "      <td>99.284981</td>\n",
              "      <td>91.421242</td>\n",
              "      <td>86.127045</td>\n",
              "      <td>85.692772</td>\n",
              "      <td>89.340164</td>\n",
              "      <td>91.826401</td>\n",
              "      <td>93.405945</td>\n",
              "      <td>89.931381</td>\n",
              "      <td>79.118225</td>\n",
              "      <td>81.488388</td>\n",
              "      <td>87.320267</td>\n",
              "      <td>88.294678</td>\n",
              "    </tr>\n",
              "    <tr>\n",
              "      <th>27</th>\n",
              "      <td>133.0</td>\n",
              "      <td>97.601105</td>\n",
              "      <td>104.570633</td>\n",
              "      <td>115.628815</td>\n",
              "      <td>122.254845</td>\n",
              "      <td>115.166206</td>\n",
              "      <td>114.274239</td>\n",
              "      <td>115.800552</td>\n",
              "      <td>123.955673</td>\n",
              "      <td>125.828255</td>\n",
              "      <td>120.282547</td>\n",
              "      <td>103.329636</td>\n",
              "      <td>96.554016</td>\n",
              "      <td>102.418282</td>\n",
              "      <td>100.534630</td>\n",
              "      <td>100.401672</td>\n",
              "      <td>100.490303</td>\n",
              "      <td>97.373962</td>\n",
              "      <td>85.817177</td>\n",
              "      <td>58.495842</td>\n",
              "      <td>46.180058</td>\n",
              "      <td>47.049862</td>\n",
              "      <td>48.927979</td>\n",
              "      <td>47.703602</td>\n",
              "      <td>48.252079</td>\n",
              "      <td>47.132965</td>\n",
              "      <td>46.601109</td>\n",
              "      <td>47.667587</td>\n",
              "      <td>48.903046</td>\n",
              "      <td>57.490303</td>\n",
              "      <td>62.155125</td>\n",
              "      <td>74.193909</td>\n",
              "      <td>83.401672</td>\n",
              "      <td>96.241005</td>\n",
              "      <td>106.894745</td>\n",
              "      <td>112.764542</td>\n",
              "      <td>119.412735</td>\n",
              "      <td>124.277008</td>\n",
              "      <td>124.659279</td>\n",
              "      <td>110.265930</td>\n",
              "      <td>...</td>\n",
              "      <td>114.545700</td>\n",
              "      <td>112.551254</td>\n",
              "      <td>107.116341</td>\n",
              "      <td>97.210533</td>\n",
              "      <td>76.523544</td>\n",
              "      <td>56.628807</td>\n",
              "      <td>64.498619</td>\n",
              "      <td>73.141273</td>\n",
              "      <td>80.781158</td>\n",
              "      <td>84.842110</td>\n",
              "      <td>88.011078</td>\n",
              "      <td>90.686981</td>\n",
              "      <td>64.263161</td>\n",
              "      <td>80.024933</td>\n",
              "      <td>95.390579</td>\n",
              "      <td>106.171738</td>\n",
              "      <td>108.160667</td>\n",
              "      <td>105.534630</td>\n",
              "      <td>103.803322</td>\n",
              "      <td>105.260391</td>\n",
              "      <td>105.997223</td>\n",
              "      <td>105.648201</td>\n",
              "      <td>108.055397</td>\n",
              "      <td>108.963989</td>\n",
              "      <td>110.401665</td>\n",
              "      <td>111.559555</td>\n",
              "      <td>112.723000</td>\n",
              "      <td>112.850410</td>\n",
              "      <td>111.326866</td>\n",
              "      <td>107.072029</td>\n",
              "      <td>97.542931</td>\n",
              "      <td>77.365646</td>\n",
              "      <td>53.022160</td>\n",
              "      <td>44.639893</td>\n",
              "      <td>56.864269</td>\n",
              "      <td>73.717453</td>\n",
              "      <td>81.839340</td>\n",
              "      <td>85.013855</td>\n",
              "      <td>88.166206</td>\n",
              "      <td>91.628815</td>\n",
              "    </tr>\n",
              "    <tr>\n",
              "      <th>29</th>\n",
              "      <td>101.0</td>\n",
              "      <td>77.419968</td>\n",
              "      <td>76.044022</td>\n",
              "      <td>75.398201</td>\n",
              "      <td>74.888443</td>\n",
              "      <td>73.454559</td>\n",
              "      <td>72.946190</td>\n",
              "      <td>74.077347</td>\n",
              "      <td>74.254196</td>\n",
              "      <td>76.387215</td>\n",
              "      <td>80.399178</td>\n",
              "      <td>79.541321</td>\n",
              "      <td>76.580437</td>\n",
              "      <td>71.318985</td>\n",
              "      <td>68.777672</td>\n",
              "      <td>66.713760</td>\n",
              "      <td>61.971867</td>\n",
              "      <td>59.820705</td>\n",
              "      <td>59.950302</td>\n",
              "      <td>59.041180</td>\n",
              "      <td>58.711605</td>\n",
              "      <td>55.773750</td>\n",
              "      <td>49.904518</td>\n",
              "      <td>45.687187</td>\n",
              "      <td>43.949905</td>\n",
              "      <td>42.957947</td>\n",
              "      <td>54.112736</td>\n",
              "      <td>75.069214</td>\n",
              "      <td>82.110878</td>\n",
              "      <td>81.377022</td>\n",
              "      <td>74.197342</td>\n",
              "      <td>72.149498</td>\n",
              "      <td>70.854721</td>\n",
              "      <td>71.273018</td>\n",
              "      <td>72.191940</td>\n",
              "      <td>72.604355</td>\n",
              "      <td>73.206261</td>\n",
              "      <td>72.240364</td>\n",
              "      <td>75.312424</td>\n",
              "      <td>78.019119</td>\n",
              "      <td>...</td>\n",
              "      <td>97.728661</td>\n",
              "      <td>96.196259</td>\n",
              "      <td>87.109505</td>\n",
              "      <td>65.109299</td>\n",
              "      <td>41.980202</td>\n",
              "      <td>39.340458</td>\n",
              "      <td>41.283108</td>\n",
              "      <td>41.394276</td>\n",
              "      <td>39.143326</td>\n",
              "      <td>38.418686</td>\n",
              "      <td>38.642387</td>\n",
              "      <td>40.638664</td>\n",
              "      <td>100.242332</td>\n",
              "      <td>103.075783</td>\n",
              "      <td>105.000793</td>\n",
              "      <td>103.696014</td>\n",
              "      <td>100.076065</td>\n",
              "      <td>99.895897</td>\n",
              "      <td>98.428398</td>\n",
              "      <td>96.998924</td>\n",
              "      <td>96.385551</td>\n",
              "      <td>97.570930</td>\n",
              "      <td>96.826889</td>\n",
              "      <td>94.735718</td>\n",
              "      <td>96.492210</td>\n",
              "      <td>95.589157</td>\n",
              "      <td>94.069504</td>\n",
              "      <td>92.836685</td>\n",
              "      <td>91.612198</td>\n",
              "      <td>85.315948</td>\n",
              "      <td>67.715317</td>\n",
              "      <td>44.504269</td>\n",
              "      <td>37.850800</td>\n",
              "      <td>38.344868</td>\n",
              "      <td>39.945595</td>\n",
              "      <td>38.419273</td>\n",
              "      <td>37.830704</td>\n",
              "      <td>38.198509</td>\n",
              "      <td>37.763065</td>\n",
              "      <td>38.304581</td>\n",
              "    </tr>\n",
              "    <tr>\n",
              "      <th>38</th>\n",
              "      <td>114.0</td>\n",
              "      <td>68.579872</td>\n",
              "      <td>6.544168</td>\n",
              "      <td>6.405663</td>\n",
              "      <td>8.192059</td>\n",
              "      <td>15.395506</td>\n",
              "      <td>16.883963</td>\n",
              "      <td>18.871344</td>\n",
              "      <td>58.844257</td>\n",
              "      <td>85.074791</td>\n",
              "      <td>91.040321</td>\n",
              "      <td>91.857498</td>\n",
              "      <td>91.568176</td>\n",
              "      <td>90.959679</td>\n",
              "      <td>92.614342</td>\n",
              "      <td>94.775009</td>\n",
              "      <td>94.112648</td>\n",
              "      <td>92.997543</td>\n",
              "      <td>81.406891</td>\n",
              "      <td>43.864876</td>\n",
              "      <td>24.701447</td>\n",
              "      <td>21.060326</td>\n",
              "      <td>17.864265</td>\n",
              "      <td>17.256079</td>\n",
              "      <td>13.746693</td>\n",
              "      <td>8.633426</td>\n",
              "      <td>2.371191</td>\n",
              "      <td>0.887042</td>\n",
              "      <td>0.690059</td>\n",
              "      <td>51.431206</td>\n",
              "      <td>7.077255</td>\n",
              "      <td>7.401047</td>\n",
              "      <td>8.056017</td>\n",
              "      <td>11.401664</td>\n",
              "      <td>14.458603</td>\n",
              "      <td>44.916279</td>\n",
              "      <td>76.384430</td>\n",
              "      <td>82.719604</td>\n",
              "      <td>86.066483</td>\n",
              "      <td>86.176369</td>\n",
              "      <td>...</td>\n",
              "      <td>1.010465</td>\n",
              "      <td>1.006771</td>\n",
              "      <td>0.811942</td>\n",
              "      <td>0.320098</td>\n",
              "      <td>0.000000</td>\n",
              "      <td>0.000000</td>\n",
              "      <td>0.000000</td>\n",
              "      <td>0.000000</td>\n",
              "      <td>0.000000</td>\n",
              "      <td>0.000000</td>\n",
              "      <td>0.000000</td>\n",
              "      <td>0.000000</td>\n",
              "      <td>0.000000</td>\n",
              "      <td>0.000000</td>\n",
              "      <td>0.000000</td>\n",
              "      <td>0.000000</td>\n",
              "      <td>0.000000</td>\n",
              "      <td>0.000000</td>\n",
              "      <td>0.000000</td>\n",
              "      <td>0.000000</td>\n",
              "      <td>0.330255</td>\n",
              "      <td>0.612188</td>\n",
              "      <td>0.814712</td>\n",
              "      <td>1.128655</td>\n",
              "      <td>1.448446</td>\n",
              "      <td>0.991690</td>\n",
              "      <td>0.866420</td>\n",
              "      <td>0.754386</td>\n",
              "      <td>0.728532</td>\n",
              "      <td>0.263158</td>\n",
              "      <td>0.046168</td>\n",
              "      <td>0.000000</td>\n",
              "      <td>0.000000</td>\n",
              "      <td>0.000000</td>\n",
              "      <td>0.000000</td>\n",
              "      <td>0.000000</td>\n",
              "      <td>0.000000</td>\n",
              "      <td>0.000000</td>\n",
              "      <td>0.000000</td>\n",
              "      <td>0.000000</td>\n",
              "    </tr>\n",
              "    <tr>\n",
              "      <th>13</th>\n",
              "      <td>114.0</td>\n",
              "      <td>65.956596</td>\n",
              "      <td>63.012928</td>\n",
              "      <td>65.663582</td>\n",
              "      <td>65.039391</td>\n",
              "      <td>60.006767</td>\n",
              "      <td>50.364414</td>\n",
              "      <td>53.409973</td>\n",
              "      <td>63.036324</td>\n",
              "      <td>76.999382</td>\n",
              "      <td>94.997543</td>\n",
              "      <td>107.151428</td>\n",
              "      <td>113.288086</td>\n",
              "      <td>114.806702</td>\n",
              "      <td>112.154823</td>\n",
              "      <td>106.563255</td>\n",
              "      <td>99.224991</td>\n",
              "      <td>93.828560</td>\n",
              "      <td>89.813789</td>\n",
              "      <td>91.654968</td>\n",
              "      <td>93.962135</td>\n",
              "      <td>94.071716</td>\n",
              "      <td>96.015694</td>\n",
              "      <td>96.173286</td>\n",
              "      <td>92.521690</td>\n",
              "      <td>89.655281</td>\n",
              "      <td>86.654358</td>\n",
              "      <td>83.397659</td>\n",
              "      <td>80.973534</td>\n",
              "      <td>63.746696</td>\n",
              "      <td>63.036324</td>\n",
              "      <td>65.889503</td>\n",
              "      <td>69.100334</td>\n",
              "      <td>65.734070</td>\n",
              "      <td>63.025543</td>\n",
              "      <td>65.299164</td>\n",
              "      <td>74.903358</td>\n",
              "      <td>87.494308</td>\n",
              "      <td>101.152664</td>\n",
              "      <td>109.254845</td>\n",
              "      <td>...</td>\n",
              "      <td>54.438904</td>\n",
              "      <td>37.691597</td>\n",
              "      <td>28.330563</td>\n",
              "      <td>29.103107</td>\n",
              "      <td>30.529394</td>\n",
              "      <td>29.352417</td>\n",
              "      <td>33.058479</td>\n",
              "      <td>38.558632</td>\n",
              "      <td>45.974457</td>\n",
              "      <td>51.009232</td>\n",
              "      <td>53.847954</td>\n",
              "      <td>57.004616</td>\n",
              "      <td>39.296089</td>\n",
              "      <td>83.637741</td>\n",
              "      <td>93.387505</td>\n",
              "      <td>94.705444</td>\n",
              "      <td>93.008934</td>\n",
              "      <td>86.851341</td>\n",
              "      <td>83.804550</td>\n",
              "      <td>80.527863</td>\n",
              "      <td>79.701454</td>\n",
              "      <td>80.215454</td>\n",
              "      <td>81.519539</td>\n",
              "      <td>79.016624</td>\n",
              "      <td>74.532471</td>\n",
              "      <td>70.169899</td>\n",
              "      <td>63.461678</td>\n",
              "      <td>52.083412</td>\n",
              "      <td>34.497997</td>\n",
              "      <td>27.863344</td>\n",
              "      <td>28.895044</td>\n",
              "      <td>30.917208</td>\n",
              "      <td>32.745461</td>\n",
              "      <td>36.140968</td>\n",
              "      <td>42.249001</td>\n",
              "      <td>49.414898</td>\n",
              "      <td>54.544476</td>\n",
              "      <td>55.815632</td>\n",
              "      <td>57.075409</td>\n",
              "      <td>60.637123</td>\n",
              "    </tr>\n",
              "  </tbody>\n",
              "</table>\n",
              "<p>5 rows × 785 columns</p>\n",
              "</div>"
            ],
            "text/plain": [
              "    Width          0           1  ...        781        782        783\n",
              "12  101.0  85.437416   93.088615  ...  81.488388  87.320267  88.294678\n",
              "27  133.0  97.601105  104.570633  ...  85.013855  88.166206  91.628815\n",
              "29  101.0  77.419968   76.044022  ...  38.198509  37.763065  38.304581\n",
              "38  114.0  68.579872    6.544168  ...   0.000000   0.000000   0.000000\n",
              "13  114.0  65.956596   63.012928  ...  55.815632  57.075409  60.637123\n",
              "\n",
              "[5 rows x 785 columns]"
            ]
          },
          "metadata": {
            "tags": []
          },
          "execution_count": 17
        }
      ]
    },
    {
      "cell_type": "code",
      "metadata": {
        "id": "4vmhG2LgCabC"
      },
      "source": [
        "Area = np.array(PSD_new['Area'])\n",
        "diam_teste = []\n",
        "for A in Area:\n",
        "  diam_teste.append((4*A/np.pi)**0.5) \n",
        "\n",
        "Diam1 = [ (4*A/np.pi)**0.5 for A in Area]"
      ],
      "execution_count": null,
      "outputs": []
    },
    {
      "cell_type": "code",
      "metadata": {
        "colab": {
          "base_uri": "https://localhost:8080/",
          "height": 284
        },
        "id": "Vfk_fNXGDK5_",
        "outputId": "4f4d5854-22c2-4b92-a38c-6c518ff2455e"
      },
      "source": [
        " wt1 = np.ones(len(Diam1)) / len(Diam1)*100\n",
        " wt2 = np.ones(len(Diameter_All)) / len(Diameter_All)*100\n",
        " X = pd.DataFrame([Diam1,Diameter_All])\n",
        " wts = pd.DataFrame([wt1,wt2])\n",
        "plt.hist(X,weights=wts)\n",
        "plt.legend(['Image J','CNN'])"
      ],
      "execution_count": null,
      "outputs": [
        {
          "output_type": "execute_result",
          "data": {
            "text/plain": [
              "<matplotlib.legend.Legend at 0x7ff561cd2510>"
            ]
          },
          "metadata": {
            "tags": []
          },
          "execution_count": 19
        },
        {
          "output_type": "display_data",
          "data": {
            "image/png": "[encoded data removed]",
            "text/plain": [
              "<Figure size 432x288 with 1 Axes>"
            ]
          },
          "metadata": {
            "tags": [],
            "needs_background": "light"
          }
        }
      ]
    },
    {
      "cell_type": "code",
      "metadata": {
        "colab": {
          "base_uri": "https://localhost:8080/",
          "height": 385
        },
        "id": "ZZHa1j4HT9Dq",
        "outputId": "1e812fbf-1151-4ffe-da78-6c1281d2dbea"
      },
      "source": [
        "counts, bins, bars = plt.hist(X,weights=wts)\n",
        "print(bars)\n",
        "print(bins)\n",
        "print(counts)"
      ],
      "execution_count": null,
      "outputs": [
        {
          "output_type": "stream",
          "text": [
            "<a list of 2 Lists of Patches objects>\n",
            "[0.73909262 0.89692728 1.05476194 1.21259659 1.37043125 1.52826591\n",
            " 1.68610056 1.84393522 2.00176988 2.15960453 2.31743919]\n",
            "[[ 7.36842105  9.47368421 23.15789474 33.68421053 14.73684211  8.42105263\n",
            "   1.05263158  0.          1.05263158  1.05263158]\n",
            " [12.90322581 22.58064516 12.90322581 22.58064516  9.67741935  9.67741935\n",
            "   3.22580645  6.4516129   0.          0.        ]]\n"
          ],
          "name": "stdout"
        },
        {
          "output_type": "display_data",
          "data": {
            "image/png": "[encoded data removed]",
            "text/plain": [
              "<Figure size 432x288 with 1 Axes>"
            ]
          },
          "metadata": {
            "tags": [],
            "needs_background": "light"
          }
        }
      ]
    },
    {
      "cell_type": "code",
      "metadata": {
        "colab": {
          "base_uri": "https://localhost:8080/"
        },
        "id": "8o_vDGeWUwIZ",
        "outputId": "637e5972-13a9-40ac-8c09-8068500043d2"
      },
      "source": [
        "print(counts.sum())"
      ],
      "execution_count": null,
      "outputs": [
        {
          "output_type": "stream",
          "text": [
            "200.00000000000003\n"
          ],
          "name": "stdout"
        }
      ]
    },
    {
      "cell_type": "code",
      "metadata": {
        "colab": {
          "base_uri": "https://localhost:8080/",
          "height": 335
        },
        "id": "KcH52-6iJQ8t",
        "outputId": "7b3886da-6dd6-436c-82e5-ca7f7f9e1801"
      },
      "source": [
        "\n",
        "plt.hist([Diam1,Diameter_All])\n",
        "plt.legend(['Image J','CNN'])\n"
      ],
      "execution_count": null,
      "outputs": [
        {
          "output_type": "stream",
          "text": [
            "/usr/local/lib/python3.7/dist-packages/numpy/core/_asarray.py:83: VisibleDeprecationWarning: Creating an ndarray from ragged nested sequences (which is a list-or-tuple of lists-or-tuples-or ndarrays with different lengths or shapes) is deprecated. If you meant to do this, you must specify 'dtype=object' when creating the ndarray\n",
            "  return array(a, dtype, copy=False, order=order)\n"
          ],
          "name": "stderr"
        },
        {
          "output_type": "execute_result",
          "data": {
            "text/plain": [
              "<matplotlib.legend.Legend at 0x7ff561cd2b90>"
            ]
          },
          "metadata": {
            "tags": []
          },
          "execution_count": 22
        },
        {
          "output_type": "display_data",
          "data": {
            "image/png": "[encoded data removed]",
            "text/plain": [
              "<Figure size 432x288 with 1 Axes>"
            ]
          },
          "metadata": {
            "tags": [],
            "needs_background": "light"
          }
        }
      ]
    },
    {
      "cell_type": "code",
      "metadata": {
        "colab": {
          "base_uri": "https://localhost:8080/"
        },
        "id": "r11AxFK_JIii",
        "outputId": "324fc9ab-8961-46f4-afe5-e74534996e14"
      },
      "source": [
        "[Diam1,Diameter_All]"
      ],
      "execution_count": null,
      "outputs": [
        {
          "output_type": "execute_result",
          "data": {
            "text/plain": [
              "[[1.59616801403081,\n",
              "  1.0217907939900581,\n",
              "  1.2716187407449044,\n",
              "  1.104429030701514,\n",
              "  1.2163487785097904,\n",
              "  1.6013445735058454,\n",
              "  1.1715597420637607,\n",
              "  1.2534662333717612,\n",
              "  1.2676073151634049,\n",
              "  1.309600575274104,\n",
              "  1.292966945531582,\n",
              "  1.7658322811231006,\n",
              "  1.3564037533648712,\n",
              "  1.2407040781688483,\n",
              "  2.130217298173151,\n",
              "  1.4228319915327,\n",
              "  1.0651086490865755,\n",
              "  1.3008210311003705,\n",
              "  1.336545951796433,\n",
              "  0.8927754224911278,\n",
              "  1.4494292838262302,\n",
              "  1.4052738287907582,\n",
              "  1.6421697097891788,\n",
              "  1.2329833804288621,\n",
              "  1.19042665178928,\n",
              "  1.1682948223612457,\n",
              "  1.1518314137121108,\n",
              "  0.9607802401865855,\n",
              "  2.317439190074449,\n",
              "  1.0591147430338594,\n",
              "  1.4308630919602832,\n",
              "  0.7535680705496237,\n",
              "  0.8608283307581511,\n",
              "  1.2776122636975893,\n",
              "  1.3745862957220916,\n",
              "  1.259546137598783,\n",
              "  1.2978813187979172,\n",
              "  1.2412170838050638,\n",
              "  1.6009469708743893,\n",
              "  1.3149369953539032,\n",
              "  1.417901703622935,\n",
              "  1.2478669653497139,\n",
              "  1.1055812783082735,\n",
              "  0.9561307405997607,\n",
              "  0.9487783503683882,\n",
              "  1.1238565871041026,\n",
              "  1.2058356273089446,\n",
              "  1.2801012827406097,\n",
              "  0.8733100751144249,\n",
              "  0.9194732501297403,\n",
              "  1.6425573339441792,\n",
              "  1.085826790250066,\n",
              "  1.0639125693728595,\n",
              "  1.0875842666474016,\n",
              "  1.417901703622935,\n",
              "  1.550443891425932,\n",
              "  0.7825779328716171,\n",
              "  1.4690612745308145,\n",
              "  1.053086721720641,\n",
              "  1.2676073151634049,\n",
              "  0.7744003006005755,\n",
              "  1.3787482149724068,\n",
              "  1.363892581861956,\n",
              "  1.299352006316543,\n",
              "  1.2870449283923413,\n",
              "  1.11817763925502,\n",
              "  0.9474354220939228,\n",
              "  1.5218484589055707,\n",
              "  1.3526437911676632,\n",
              "  1.1556938532445284,\n",
              "  1.6013445735058454,\n",
              "  1.274619025074578,\n",
              "  1.422384489715834,\n",
              "  1.3408259533459403,\n",
              "  1.172646028567008,\n",
              "  1.1490645795125545,\n",
              "  1.459060149136146,\n",
              "  1.2483770274864237,\n",
              "  1.336545951796433,\n",
              "  0.9601174044814821,\n",
              "  1.4867225193896279,\n",
              "  1.4277452542806772,\n",
              "  1.35028849808504,\n",
              "  0.7560982446653928,\n",
              "  1.259040600296622,\n",
              "  1.13456827900627,\n",
              "  1.6549133695530214,\n",
              "  1.1204526724091788,\n",
              "  1.1176081573544434,\n",
              "  0.9153095762832032,\n",
              "  1.1639273497938836,\n",
              "  1.3066806149514323,\n",
              "  1.1529362882239027,\n",
              "  1.3047303442899274,\n",
              "  1.3066806149514323],\n",
              " [0.7457813808907102,\n",
              "  0.9767933013644458,\n",
              "  0.7390926235277934,\n",
              "  0.9571285783110023,\n",
              "  0.7857979864995323,\n",
              "  1.2920586251339101,\n",
              "  0.9461041587011856,\n",
              "  1.5554712997671425,\n",
              "  1.5264459686360765,\n",
              "  1.5145549888412815,\n",
              "  1.7008456316066183,\n",
              "  1.3227710701269926,\n",
              "  1.8721791301695807,\n",
              "  1.1181807429101256,\n",
              "  1.1777299754474957,\n",
              "  1.1128090592553606,\n",
              "  1.603401350629156,\n",
              "  1.3166458290604122,\n",
              "  1.2627144662015712,\n",
              "  1.3267397891264274,\n",
              "  1.9339048068063467,\n",
              "  1.1943152927178515,\n",
              "  1.2571134142342675,\n",
              "  1.0429978657809766,\n",
              "  0.8276821144873187,\n",
              "  0.9124285445137893,\n",
              "  0.989479289718128,\n",
              "  1.5773044049586407,\n",
              "  1.305105144691245,\n",
              "  1.422064690475192,\n",
              "  0.994959339080861]]"
            ]
          },
          "metadata": {
            "tags": []
          },
          "execution_count": 23
        }
      ]
    }
  ]
}