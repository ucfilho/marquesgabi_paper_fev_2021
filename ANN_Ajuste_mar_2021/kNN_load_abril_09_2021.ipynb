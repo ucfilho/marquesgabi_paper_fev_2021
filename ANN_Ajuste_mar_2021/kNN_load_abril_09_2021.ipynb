{
  "nbformat": 4,
  "nbformat_minor": 0,
  "metadata": {
    "colab": {
      "name": "kNN_load_abril_09_2021.ipynb",
      "provenance": [],
      "collapsed_sections": [],
      "include_colab_link": true
    },
    "kernelspec": {
      "name": "python3",
      "display_name": "Python 3"
    }
  },
  "cells": [
    {
      "cell_type": "markdown",
      "metadata": {
        "id": "view-in-github",
        "colab_type": "text"
      },
      "source": [
        "<a href=\"https://colab.research.google.com/github/ucfilho/marquesgabi_paper_fev_2021/blob/main/ANN_Ajuste_mar_2021/kNN_load_abril_09_2021.ipynb\" target=\"_parent\"><img src=\"https://colab.research.google.com/assets/colab-badge.svg\" alt=\"Open In Colab\"/></a>"
      ]
    },
    {
      "cell_type": "code",
      "metadata": {
        "id": "Sog7Z9pyhUD_",
        "colab": {
          "base_uri": "https://localhost:8080/"
        },
        "outputId": "4c0db387-b95b-49a3-a8f5-3ec0a4bf9e2d"
      },
      "source": [
        "import matplotlib.pyplot as plt\n",
        "import numpy as np\n",
        "import cv2\n",
        "import zipfile\n",
        "#import random\n",
        "from random import randint\n",
        "from PIL import Image\n",
        "import re\n",
        "from sklearn.model_selection import train_test_split\n",
        "#import scikit-image\n",
        "import skimage\n",
        "import pandas as pd\n",
        "#import statsmodels.api as sm\n",
        "#import statsmodels.formula.api as smf\n",
        "from sklearn.neural_network import MLPClassifier\n",
        "import sklearn\n",
        "from sklearn.externals import joblib"
      ],
      "execution_count": 1,
      "outputs": [
        {
          "output_type": "stream",
          "text": [
            "/usr/local/lib/python3.7/dist-packages/sklearn/externals/joblib/__init__.py:15: FutureWarning: sklearn.externals.joblib is deprecated in 0.21 and will be removed in 0.23. Please import this functionality directly from joblib, which can be installed with: pip install joblib. If this warning is raised when loading pickled models, you may need to re-serialize those models with scikit-learn 0.21+.\n",
            "  warnings.warn(msg, category=FutureWarning)\n"
          ],
          "name": "stderr"
        }
      ]
    },
    {
      "cell_type": "code",
      "metadata": {
        "id": "uZEvJvfoibE4",
        "colab": {
          "base_uri": "https://localhost:8080/"
        },
        "outputId": "aecc20f7-e925-47aa-a6bc-44ea007f8589"
      },
      "source": [
        "!pip install mahotas"
      ],
      "execution_count": 2,
      "outputs": [
        {
          "output_type": "stream",
          "text": [
            "Requirement already satisfied: mahotas in /usr/local/lib/python3.7/dist-packages (1.4.11)\n",
            "Requirement already satisfied: numpy in /usr/local/lib/python3.7/dist-packages (from mahotas) (1.19.5)\n"
          ],
          "name": "stdout"
        }
      ]
    },
    {
      "cell_type": "code",
      "metadata": {
        "id": "_VcTdaNVh9EE",
        "colab": {
          "base_uri": "https://localhost:8080/"
        },
        "outputId": "29ec1189-02eb-4558-fa91-af2f76863b17"
      },
      "source": [
        "!git clone https://github.com/ucfilho/marquesgabi_fev_2020 #clonar do Github\n",
        "%cd marquesgabi_fev_2020\n",
        "import Go2BlackWhite\n",
        "import Go2Mahotas"
      ],
      "execution_count": 3,
      "outputs": [
        {
          "output_type": "stream",
          "text": [
            "fatal: destination path 'marquesgabi_fev_2020' already exists and is not an empty directory.\n",
            "/content/marquesgabi_fev_2020\n"
          ],
          "name": "stdout"
        }
      ]
    },
    {
      "cell_type": "code",
      "metadata": {
        "id": "nf_a6PJ1iUnT"
      },
      "source": [
        "import mahotas.features.texture as mht\n",
        "import mahotas.features"
      ],
      "execution_count": 4,
      "outputs": []
    },
    {
      "cell_type": "code",
      "metadata": {
        "id": "wj62HANgnpnR",
        "colab": {
          "base_uri": "https://localhost:8080/"
        },
        "outputId": "f97cca94-6bf6-4cbb-b134-6df8f09d17d5"
      },
      "source": [
        "!git clone https://github.com/ucfilho/marquesgabi_paper_fev_2021\n",
        "%cd marquesgabi_paper_fev_2021\n",
        "\n",
        "from Get_PSDArea_New import PSDArea\n",
        "from histogram_fev_2021 import PSD\n",
        "from GetBetterSegm import GetBetter"
      ],
      "execution_count": 5,
      "outputs": [
        {
          "output_type": "stream",
          "text": [
            "fatal: destination path 'marquesgabi_paper_fev_2021' already exists and is not an empty directory.\n",
            "/content/marquesgabi_fev_2020/marquesgabi_paper_fev_2021\n"
          ],
          "name": "stdout"
        }
      ]
    },
    {
      "cell_type": "code",
      "metadata": {
        "id": "1v7SRrc8mH2N",
        "colab": {
          "base_uri": "https://localhost:8080/"
        },
        "outputId": "d60cdca3-8e55-48ac-d154-08599d996dcd"
      },
      "source": [
        "!git clone https://github.com/marquesgabi/Doutorado\n",
        "%cd Doutorado\n",
        "\n",
        "Transfere='Fotos_Grandes_3cdAmostra.zip'\n",
        "file_name = zipfile.ZipFile(Transfere, 'r')\n",
        "file_name.extractall()"
      ],
      "execution_count": 6,
      "outputs": [
        {
          "output_type": "stream",
          "text": [
            "fatal: destination path 'Doutorado' already exists and is not an empty directory.\n",
            "/content/marquesgabi_fev_2020/marquesgabi_paper_fev_2021/Doutorado\n"
          ],
          "name": "stdout"
        }
      ]
    },
    {
      "cell_type": "code",
      "metadata": {
        "id": "0kA4IWSmasoD"
      },
      "source": [
        "Size=1200 # tamanho da foto\n",
        "ww,img_name=Go2BlackWhite.BlackWhite(Transfere,Size) #Pegamos a primeira foto Grande\n",
        "img=ww[0] \n"
      ],
      "execution_count": 7,
      "outputs": []
    },
    {
      "cell_type": "code",
      "metadata": {
        "id": "g_k1Ktz3izJv",
        "colab": {
          "base_uri": "https://localhost:8080/"
        },
        "outputId": "ff5182b5-088f-4a86-ba76-ce1fba2c85a5"
      },
      "source": [
        "!git clone https://github.com/marquesgabi/Doutorado\n",
        "# %cd Doutorado\n",
        "Transfere='FotosTreino882_and_Segm.zip'\n",
        "file_name = zipfile.ZipFile(Transfere, 'r')\n",
        "file_name.extractall()\n",
        "\n",
        "\"\"\"# First step: get the segmented file (photos stored in csv file)\"\"\"\n",
        "\n",
        "labels = [] #name files\n",
        "\n",
        "with zipfile.ZipFile(Transfere, \"r\") as f:\n",
        "  for f in f.namelist():\n",
        "    labels.append(f)\n",
        "\n",
        "Num=len(labels)\n",
        "df=pd.read_csv(labels[0])\n",
        "for i in range(1,Num):\n",
        "  df_new=pd.read_csv(labels[i])\n",
        "  df_new = df_new[~df_new['Type'].isin(['G'])] # drop grain row which is not in 882\n",
        "  frames = [df, df_new]\n",
        "  df= pd.concat(frames, ignore_index=True)"
      ],
      "execution_count": 8,
      "outputs": [
        {
          "output_type": "stream",
          "text": [
            "fatal: destination path 'Doutorado' already exists and is not an empty directory.\n"
          ],
          "name": "stdout"
        }
      ]
    },
    {
      "cell_type": "code",
      "metadata": {
        "id": "tHgqAnaFyCjp",
        "colab": {
          "base_uri": "https://localhost:8080/"
        },
        "outputId": "84011d3b-1c43-481f-b5bb-fbfc8b83a648"
      },
      "source": [
        "!git clone https://github.com/ucfilho/marquesgabi_paper_fev_2021\n",
        "%cd marquesgabi_paper_fev_2021"
      ],
      "execution_count": 9,
      "outputs": [
        {
          "output_type": "stream",
          "text": [
            "fatal: destination path 'marquesgabi_paper_fev_2021' already exists and is not an empty directory.\n",
            "/content/marquesgabi_fev_2020/marquesgabi_paper_fev_2021/Doutorado/marquesgabi_paper_fev_2021\n"
          ],
          "name": "stdout"
        }
      ]
    },
    {
      "cell_type": "code",
      "metadata": {
        "id": "qc4rFvzkyWCi"
      },
      "source": [
        "from big_segment import Segmenta  # got image provided segmented\n",
        "from psd_mahotas import Mahotas"
      ],
      "execution_count": 10,
      "outputs": []
    },
    {
      "cell_type": "code",
      "metadata": {
        "colab": {
          "base_uri": "https://localhost:8080/"
        },
        "id": "N-R1so5EcKXE",
        "outputId": "f3b1fe6a-b62c-4df4-ce72-d02681d90ac7"
      },
      "source": [
        "!git clone https://github.com/ucfilho/marquesgabi_paper_fev_2021/ANN_Ajuste_mar_2021\n",
        "%cd ANN_Ajuste_mar_2021"
      ],
      "execution_count": 11,
      "outputs": [
        {
          "output_type": "stream",
          "text": [
            "fatal: destination path 'ANN_Ajuste_mar_2021' already exists and is not an empty directory.\n",
            "/content/marquesgabi_fev_2020/marquesgabi_paper_fev_2021/Doutorado/marquesgabi_paper_fev_2021/ANN_Ajuste_mar_2021\n"
          ],
          "name": "stdout"
        }
      ]
    },
    {
      "cell_type": "code",
      "metadata": {
        "id": "aPT8qYAVcdPP"
      },
      "source": [
        "from ANN_FIND_GRAIN_change_ann import AnnGrain  # got image provided segmented"
      ],
      "execution_count": 12,
      "outputs": []
    },
    {
      "cell_type": "code",
      "metadata": {
        "id": "YPoCxCp4kuRm",
        "colab": {
          "base_uri": "https://localhost:8080/"
        },
        "outputId": "bd744414-23a4-47da-a98a-e4250a7cb408"
      },
      "source": [
        "!git clone https://github.com/marquesgabi/Doutorado\n",
        "%cd Doutorado\n",
        "Transfere='FotosTreino882_and_Segm.zip'\n",
        "file_name = zipfile.ZipFile(Transfere, 'r')\n",
        "file_name.extractall()\n",
        "\n",
        "\"\"\"# First step: get the segmented file (photos stored in csv file)\"\"\"\n",
        "\n",
        "labels = [] #name files\n",
        "\n",
        "with zipfile.ZipFile(Transfere, \"r\") as f:\n",
        "  for f in f.namelist():\n",
        "    labels.append(f)\n",
        "\n",
        "Num=len(labels)\n"
      ],
      "execution_count": 13,
      "outputs": [
        {
          "output_type": "stream",
          "text": [
            "fatal: destination path 'Doutorado' already exists and is not an empty directory.\n",
            "/content/marquesgabi_fev_2020/marquesgabi_paper_fev_2021/Doutorado/marquesgabi_paper_fev_2021/ANN_Ajuste_mar_2021/Doutorado\n"
          ],
          "name": "stdout"
        }
      ]
    },
    {
      "cell_type": "code",
      "metadata": {
        "id": "h4ELNAEunkox",
        "colab": {
          "base_uri": "https://localhost:8080/"
        },
        "outputId": "a08914ba-187d-4ed2-a2c3-bfc784a63976"
      },
      "source": [
        "!git clone https://github.com/marquesgabi/Doutorado\n",
        "%cd Doutorado"
      ],
      "execution_count": 14,
      "outputs": [
        {
          "output_type": "stream",
          "text": [
            "fatal: destination path 'Doutorado' already exists and is not an empty directory.\n",
            "/content/marquesgabi_fev_2020/marquesgabi_paper_fev_2021/Doutorado/marquesgabi_paper_fev_2021/ANN_Ajuste_mar_2021/Doutorado/Doutorado\n"
          ],
          "name": "stdout"
        }
      ]
    },
    {
      "cell_type": "code",
      "metadata": {
        "id": "QmPJiuSnnxT9",
        "colab": {
          "base_uri": "https://localhost:8080/"
        },
        "outputId": "a4690d37-7c52-47b0-86df-deddfd3161ef"
      },
      "source": [
        "k=0\n",
        "for Item in img_name:\n",
        "  print(k,Item)\n",
        "  k=k+1\n",
        "\n",
        "foto_segmentada=ww[21]\n"
      ],
      "execution_count": 15,
      "outputs": [
        {
          "output_type": "stream",
          "text": [
            "0 Fotos_Grandes-3cdAmostra/Q6-8-4.jpg\n",
            "1 Fotos_Grandes-3cdAmostra/Q6-5-3.jpg\n",
            "2 Fotos_Grandes-3cdAmostra/Q6-7-4.jpg\n",
            "3 Fotos_Grandes-3cdAmostra/Q6-8-2.jpg\n",
            "4 Fotos_Grandes-3cdAmostra/Q6-3-2.jpg\n",
            "5 Fotos_Grandes-3cdAmostra/Q6-7-2.jpg\n",
            "6 Fotos_Grandes-3cdAmostra/Q6-4-4.jpg\n",
            "7 Fotos_Grandes-3cdAmostra/Q6-9-5.jpg\n",
            "8 Fotos_Grandes-3cdAmostra/Q6-2-5.jpg\n",
            "9 Fotos_Grandes-3cdAmostra/Q6-8-3.jpg\n",
            "10 Fotos_Grandes-3cdAmostra/Q6-9-3.jpg\n",
            "11 Fotos_Grandes-3cdAmostra/Q6-1-2.jpg\n",
            "12 Fotos_Grandes-3cdAmostra/Q6-6-3.jpg\n",
            "13 Fotos_Grandes-3cdAmostra/Q6-3-4.jpg\n",
            "14 Fotos_Grandes-3cdAmostra/Q6-1-4.jpg\n",
            "15 Fotos_Grandes-3cdAmostra/Q6-6-2.jpg\n",
            "16 Fotos_Grandes-3cdAmostra/Q6-4-3.jpg\n",
            "17 Fotos_Grandes-3cdAmostra/Q6-7-3.jpg\n",
            "18 Fotos_Grandes-3cdAmostra/Q6-2-2.jpg\n",
            "19 Fotos_Grandes-3cdAmostra/Q6-9-2.jpg\n",
            "20 Fotos_Grandes-3cdAmostra/Q6-1-5.jpg\n",
            "21 Fotos_Grandes-3cdAmostra/Q6-6-5.jpg\n",
            "22 Fotos_Grandes-3cdAmostra/Q6-2-1.jpg\n",
            "23 Fotos_Grandes-3cdAmostra/Q6-5-2.jpg\n",
            "24 Fotos_Grandes-3cdAmostra/Q6-4-1.jpg\n",
            "25 Fotos_Grandes-3cdAmostra/Q6-3-1.jpg\n",
            "26 Fotos_Grandes-3cdAmostra/Q6-5-4.jpg\n"
          ],
          "name": "stdout"
        }
      ]
    },
    {
      "cell_type": "code",
      "metadata": {
        "id": "5IA4MfbZZ-Kk"
      },
      "source": [
        "img = foto_segmentada\n",
        "df=Segmenta(img)\n",
        "del df['Width']"
      ],
      "execution_count": 16,
      "outputs": []
    },
    {
      "cell_type": "code",
      "metadata": {
        "colab": {
          "base_uri": "https://localhost:8080/"
        },
        "id": "Z7cIhXesaDmF",
        "outputId": "831f8f10-0d66-4aba-927e-d8334b644558"
      },
      "source": [
        "print(df)"
      ],
      "execution_count": 17,
      "outputs": [
        {
          "output_type": "stream",
          "text": [
            "           0           1           2    ...         781         782         783\n",
            "0    73.834961   73.653702   73.259735  ...  106.408028   93.151878   86.601006\n",
            "1   112.665405  109.373802  111.444649  ...  172.366669  200.197601  204.867249\n",
            "2     1.511967    1.857440   10.617065  ...   75.607697   71.697189   69.053070\n",
            "3    32.775509   31.591837   34.510204  ...    0.000000    0.000000    0.000000\n",
            "4    74.793564   73.999603   74.225548  ...   42.464565   30.923723    3.623541\n",
            "..         ...         ...         ...  ...         ...         ...         ...\n",
            "45  133.717422  141.780533  144.399185  ...   66.993149   68.310020   67.945137\n",
            "46  116.154213  120.437508  120.731781  ...   51.629387   61.955647   52.247009\n",
            "47   23.074965    7.309479    3.145158  ...    2.464031    2.254299    2.469274\n",
            "48   60.757710   60.977825   63.194702  ...    3.106004    3.132504    3.143862\n",
            "49  102.803848  101.975311  102.126205  ...    3.005487    3.126200    3.038409\n",
            "\n",
            "[150 rows x 784 columns]\n"
          ],
          "name": "stdout"
        }
      ]
    },
    {
      "cell_type": "code",
      "metadata": {
        "colab": {
          "base_uri": "https://localhost:8080/"
        },
        "id": "jjpqjbw3_jQc",
        "outputId": "ba31db9d-9907-4a70-f6b0-bd82f80d8f05"
      },
      "source": [
        "!git clone https://github.com/ucfilho/MarquesGabi_Routines\n",
        "%cd MarquesGabi_Routines\n",
        "filename = 'model_knn.pkl'\n",
        "model = joblib.load(filename)"
      ],
      "execution_count": 18,
      "outputs": [
        {
          "output_type": "stream",
          "text": [
            "fatal: destination path 'MarquesGabi_Routines' already exists and is not an empty directory.\n",
            "/content/marquesgabi_fev_2020/marquesgabi_paper_fev_2021/Doutorado/marquesgabi_paper_fev_2021/ANN_Ajuste_mar_2021/Doutorado/Doutorado/MarquesGabi_Routines\n"
          ],
          "name": "stdout"
        }
      ]
    },
    {
      "cell_type": "code",
      "metadata": {
        "colab": {
          "base_uri": "https://localhost:8080/"
        },
        "id": "sUiXKJ3qY8Km",
        "outputId": "52263e09-4bf0-4b44-9b7f-ddb77ee1d463"
      },
      "source": [
        "test_images = np.array(df)\n",
        "\n",
        "prediction = model.predict(test_images)\n",
        "\n",
        "\n",
        "print(len(prediction))"
      ],
      "execution_count": 19,
      "outputs": [
        {
          "output_type": "stream",
          "text": [
            "150\n"
          ],
          "name": "stdout"
        }
      ]
    },
    {
      "cell_type": "code",
      "metadata": {
        "id": "xcpCq5ESR9P5"
      },
      "source": [
        "y_pred = prediction"
      ],
      "execution_count": 20,
      "outputs": []
    },
    {
      "cell_type": "code",
      "metadata": {
        "colab": {
          "base_uri": "https://localhost:8080/"
        },
        "id": "Xc9YuUgbcitx",
        "outputId": "6b768fc6-9adc-4854-eb70-549ca52dff48"
      },
      "source": [
        "Grao = []\n",
        "for i in range(len(prediction)):\n",
        "  if(prediction[i]==0):\n",
        "    Grao.append(i)\n",
        "\n",
        "print(Grao)\n",
        "    "
      ],
      "execution_count": 21,
      "outputs": [
        {
          "output_type": "stream",
          "text": [
            "[]\n"
          ],
          "name": "stdout"
        }
      ]
    },
    {
      "cell_type": "code",
      "metadata": {
        "id": "jagtxjcNniO7"
      },
      "source": [
        "indice = Grao\n",
        "# grain class is number zero"
      ],
      "execution_count": 22,
      "outputs": []
    },
    {
      "cell_type": "code",
      "metadata": {
        "colab": {
          "base_uri": "https://localhost:8080/",
          "height": 34
        },
        "id": "61OnwiDw4zZi",
        "outputId": "544a940a-7df3-4dc1-e0ee-ed3ad8514ea8"
      },
      "source": [
        "\n",
        "Num = len(Grao)\n",
        "Size=28\n",
        "Picture_Size = 25\n",
        "fig = plt.gcf()\n",
        "fig.set_size_inches(Picture_Size, Picture_Size)\n",
        "\n",
        "\n",
        "for i in range(Num):\n",
        "  ixx = indice[i]\n",
        "  data=np.array(df.iloc[ixx,:]).reshape(Size,Size)\n",
        "  img = Image.fromarray(data.astype('uint8'), mode='L')\n",
        "  img=np.float32(img)\n",
        "\n",
        "  img28=cv2.resize(img,(Size,Size), interpolation = cv2.INTER_AREA)\n",
        "  Foto=np.array(img28).reshape(28,28)\n",
        "  plt.subplot(25,5,i+1)\n",
        "  plt.xticks([])\n",
        "  plt.yticks([])\n",
        "  plt.grid(False)\n",
        "  plt.imshow(Foto, cmap = \"gray\")\n",
        "  #plt.xlabel(i)\n",
        "\n",
        "plt.subplots_adjust(bottom=0.15,left=0.4, right=0.8, top=2,hspace=0.1, wspace=0.01)"
      ],
      "execution_count": 23,
      "outputs": [
        {
          "output_type": "display_data",
          "data": {
            "text/plain": [
              "<Figure size 1800x1800 with 0 Axes>"
            ]
          },
          "metadata": {
            "tags": []
          }
        }
      ]
    },
    {
      "cell_type": "code",
      "metadata": {
        "id": "Fg08LdDEsYLd",
        "colab": {
          "base_uri": "https://localhost:8080/"
        },
        "outputId": "3e90231d-19b7-4e0d-9c0f-361b44c2ed30"
      },
      "source": [
        "img = foto_segmentada\n",
        "df=Segmenta(img)\n",
        "df_size = df.copy()\n",
        "print(df_size)"
      ],
      "execution_count": 24,
      "outputs": [
        {
          "output_type": "stream",
          "text": [
            "    Width           0           1  ...         781         782         783\n",
            "0     152  116.666214  113.858719  ...   48.552631   47.380192   37.150276\n",
            "1     129   87.086899   93.651047  ...   66.939964   67.385918   66.361099\n",
            "2     140  181.399994  181.360001  ...  111.479996  117.479996  121.279999\n",
            "3     104   46.464500   54.421600  ...   77.973373   74.923080   77.322495\n",
            "4     104   56.977814   55.147934  ...    3.000000    3.646450    3.482249\n",
            "..    ...         ...         ...  ...         ...         ...         ...\n",
            "45    170  143.544662  151.095093  ...   35.311005   25.631006   17.518341\n",
            "46    115  133.087311  141.761063  ...  127.165817  127.402260  125.633636\n",
            "47    194  112.774986  137.010300  ...   51.157612   55.186306   65.602287\n",
            "48    158   74.376060   66.624420  ...    3.177215    3.080756    3.148053\n",
            "49    100  112.599998  109.079994  ...   28.566401    2.324800    1.000000\n",
            "\n",
            "[150 rows x 785 columns]\n"
          ],
          "name": "stdout"
        }
      ]
    },
    {
      "cell_type": "code",
      "metadata": {
        "id": "3O2xFH1Ishc2"
      },
      "source": [
        "#y_pred,confusion_matrix,METRICS=AnnGrain(ANN_dat,df.drop('Width',axis=1)) "
      ],
      "execution_count": 25,
      "outputs": []
    },
    {
      "cell_type": "code",
      "metadata": {
        "id": "Fn8llJoA1am9",
        "colab": {
          "base_uri": "https://localhost:8080/"
        },
        "outputId": "819b5372-68f1-49ac-9ec5-a0c3e7b43ae7"
      },
      "source": [
        "indice =[]\n",
        "count = 0\n",
        "for valor in y_pred:\n",
        "  if(valor == 0):\n",
        "    indice.append(count)\n",
        "  count = count +1\n",
        "print(indice)\n",
        "print(len(indice))\n"
      ],
      "execution_count": 26,
      "outputs": [
        {
          "output_type": "stream",
          "text": [
            "[]\n",
            "0\n"
          ],
          "name": "stdout"
        }
      ]
    },
    {
      "cell_type": "code",
      "metadata": {
        "id": "hgujxHKU5f9X",
        "colab": {
          "base_uri": "https://localhost:8080/"
        },
        "outputId": "af9558cb-592b-42e8-afcb-2be7c2b5ad76"
      },
      "source": [
        "del df['Width']\n",
        "print(df_size)"
      ],
      "execution_count": 27,
      "outputs": [
        {
          "output_type": "stream",
          "text": [
            "    Width           0           1  ...         781         782         783\n",
            "0     152  116.666214  113.858719  ...   48.552631   47.380192   37.150276\n",
            "1     129   87.086899   93.651047  ...   66.939964   67.385918   66.361099\n",
            "2     140  181.399994  181.360001  ...  111.479996  117.479996  121.279999\n",
            "3     104   46.464500   54.421600  ...   77.973373   74.923080   77.322495\n",
            "4     104   56.977814   55.147934  ...    3.000000    3.646450    3.482249\n",
            "..    ...         ...         ...  ...         ...         ...         ...\n",
            "45    170  143.544662  151.095093  ...   35.311005   25.631006   17.518341\n",
            "46    115  133.087311  141.761063  ...  127.165817  127.402260  125.633636\n",
            "47    194  112.774986  137.010300  ...   51.157612   55.186306   65.602287\n",
            "48    158   74.376060   66.624420  ...    3.177215    3.080756    3.148053\n",
            "49    100  112.599998  109.079994  ...   28.566401    2.324800    1.000000\n",
            "\n",
            "[150 rows x 785 columns]\n"
          ],
          "name": "stdout"
        }
      ]
    },
    {
      "cell_type": "code",
      "metadata": {
        "id": "6S5a4-cashbB",
        "colab": {
          "base_uri": "https://localhost:8080/"
        },
        "outputId": "213eaf22-df2e-49a5-a750-4433ea48b109"
      },
      "source": [
        "print(y_pred.ravel())"
      ],
      "execution_count": 28,
      "outputs": [
        {
          "output_type": "stream",
          "text": [
            "[1 1 1 1 1 1 1 1 1 1 1 1 1 1 1 1 1 1 1 1 1 1 1 1 1 1 1 1 1 1 1 1 1 1 1 1 1\n",
            " 1 1 1 1 1 1 1 1 1 1 1 1 1 1 1 1 1 1 1 1 1 1 1 1 1 1 1 1 1 1 1 1 1 1 1 1 1\n",
            " 1 1 1 1 1 1 1 1 1 1 1 1 1 1 1 1 1 1 1 1 1 1 1 1 1 1 1 1 1 1 1 1 1 1 1 1 1\n",
            " 1 1 1 1 1 1 1 1 1 1 1 1 1 1 1 1 1 1 1 1 1 1 1 1 1 1 1 1 1 1 1 1 1 1 1 1 1\n",
            " 1 1]\n"
          ],
          "name": "stdout"
        }
      ]
    },
    {
      "cell_type": "code",
      "metadata": {
        "id": "iA2XIpGOyipM"
      },
      "source": [
        "Grain=[]; Ind=[]; Size=[]\n",
        "k=0\n",
        "for item in y_pred:\n",
        "  if(item == 1):\n",
        "    Ind.append(k)\n",
        "  k=k+1\n",
        "\n",
        "Width=np.array(df_size['Width'])\n",
        "\n",
        "df = df.reset_index(drop=True)\n",
        "\n",
        "df_size = df.drop(df.index[Ind])\n",
        "\n",
        "\n",
        "\n",
        "# print(Width)\n",
        "\n",
        "# print(df_size.shape)"
      ],
      "execution_count": 29,
      "outputs": []
    },
    {
      "cell_type": "code",
      "metadata": {
        "id": "06lkGMZo9uKV"
      },
      "source": [
        "# pd.set_option('display.max_rows', None)\n",
        "# print(df_size)"
      ],
      "execution_count": 30,
      "outputs": []
    },
    {
      "cell_type": "code",
      "metadata": {
        "colab": {
          "base_uri": "https://localhost:8080/"
        },
        "id": "k3I0smV4vEYy",
        "outputId": "f4226add-8dad-4b1e-c9ae-1c65e2c3d346"
      },
      "source": [
        "Width"
      ],
      "execution_count": 31,
      "outputs": [
        {
          "output_type": "execute_result",
          "data": {
            "text/plain": [
              "array([152, 129, 140, 104, 104, 104, 179, 194, 137, 121, 159, 123, 119,\n",
              "       167, 192, 160, 194, 181, 110, 196, 175, 168, 135, 175, 189, 199,\n",
              "       176, 175, 120, 141, 108, 149, 164, 139, 105, 108, 139, 137, 110,\n",
              "       168, 106, 136, 184, 179, 104, 131, 103, 172, 163, 159, 132, 113,\n",
              "       122, 130, 167, 111, 107, 124, 177, 100, 181, 134, 171, 148, 187,\n",
              "       131, 173, 196, 178, 112, 102, 128, 173, 103, 121, 148, 106, 134,\n",
              "       199, 143, 112, 118, 136, 140, 117, 174, 187, 190, 156, 121, 191,\n",
              "       117, 145, 120, 131, 148, 182, 147, 192, 168, 126, 168, 131, 136,\n",
              "       186, 131, 195, 163, 140, 173, 130, 146, 196, 103, 109, 180, 164,\n",
              "       163, 190, 112, 126, 143, 175, 173, 124, 152, 162, 132, 153, 165,\n",
              "       149, 124, 159, 124, 116, 186, 132, 194, 178, 156, 128, 197, 142,\n",
              "       133, 111, 170, 115, 194, 158, 100])"
            ]
          },
          "metadata": {
            "tags": []
          },
          "execution_count": 31
        }
      ]
    },
    {
      "cell_type": "code",
      "metadata": {
        "id": "EIqWqspygJtw",
        "colab": {
          "base_uri": "https://localhost:8080/",
          "height": 244
        },
        "outputId": "58cf61c9-18e4-47ff-e9fe-6fa0cd3acab0"
      },
      "source": [
        "df.head()"
      ],
      "execution_count": 32,
      "outputs": [
        {
          "output_type": "execute_result",
          "data": {
            "text/html": [
              "<div>\n",
              "<style scoped>\n",
              "    .dataframe tbody tr th:only-of-type {\n",
              "        vertical-align: middle;\n",
              "    }\n",
              "\n",
              "    .dataframe tbody tr th {\n",
              "        vertical-align: top;\n",
              "    }\n",
              "\n",
              "    .dataframe thead th {\n",
              "        text-align: right;\n",
              "    }\n",
              "</style>\n",
              "<table border=\"1\" class=\"dataframe\">\n",
              "  <thead>\n",
              "    <tr style=\"text-align: right;\">\n",
              "      <th></th>\n",
              "      <th>0</th>\n",
              "      <th>1</th>\n",
              "      <th>2</th>\n",
              "      <th>3</th>\n",
              "      <th>4</th>\n",
              "      <th>5</th>\n",
              "      <th>6</th>\n",
              "      <th>7</th>\n",
              "      <th>8</th>\n",
              "      <th>9</th>\n",
              "      <th>10</th>\n",
              "      <th>11</th>\n",
              "      <th>12</th>\n",
              "      <th>13</th>\n",
              "      <th>14</th>\n",
              "      <th>15</th>\n",
              "      <th>16</th>\n",
              "      <th>17</th>\n",
              "      <th>18</th>\n",
              "      <th>19</th>\n",
              "      <th>20</th>\n",
              "      <th>21</th>\n",
              "      <th>22</th>\n",
              "      <th>23</th>\n",
              "      <th>24</th>\n",
              "      <th>25</th>\n",
              "      <th>26</th>\n",
              "      <th>27</th>\n",
              "      <th>28</th>\n",
              "      <th>29</th>\n",
              "      <th>30</th>\n",
              "      <th>31</th>\n",
              "      <th>32</th>\n",
              "      <th>33</th>\n",
              "      <th>34</th>\n",
              "      <th>35</th>\n",
              "      <th>36</th>\n",
              "      <th>37</th>\n",
              "      <th>38</th>\n",
              "      <th>39</th>\n",
              "      <th>...</th>\n",
              "      <th>744</th>\n",
              "      <th>745</th>\n",
              "      <th>746</th>\n",
              "      <th>747</th>\n",
              "      <th>748</th>\n",
              "      <th>749</th>\n",
              "      <th>750</th>\n",
              "      <th>751</th>\n",
              "      <th>752</th>\n",
              "      <th>753</th>\n",
              "      <th>754</th>\n",
              "      <th>755</th>\n",
              "      <th>756</th>\n",
              "      <th>757</th>\n",
              "      <th>758</th>\n",
              "      <th>759</th>\n",
              "      <th>760</th>\n",
              "      <th>761</th>\n",
              "      <th>762</th>\n",
              "      <th>763</th>\n",
              "      <th>764</th>\n",
              "      <th>765</th>\n",
              "      <th>766</th>\n",
              "      <th>767</th>\n",
              "      <th>768</th>\n",
              "      <th>769</th>\n",
              "      <th>770</th>\n",
              "      <th>771</th>\n",
              "      <th>772</th>\n",
              "      <th>773</th>\n",
              "      <th>774</th>\n",
              "      <th>775</th>\n",
              "      <th>776</th>\n",
              "      <th>777</th>\n",
              "      <th>778</th>\n",
              "      <th>779</th>\n",
              "      <th>780</th>\n",
              "      <th>781</th>\n",
              "      <th>782</th>\n",
              "      <th>783</th>\n",
              "    </tr>\n",
              "  </thead>\n",
              "  <tbody>\n",
              "    <tr>\n",
              "      <th>0</th>\n",
              "      <td>116.666214</td>\n",
              "      <td>113.858719</td>\n",
              "      <td>117.673126</td>\n",
              "      <td>128.701523</td>\n",
              "      <td>96.344177</td>\n",
              "      <td>55.038780</td>\n",
              "      <td>63.214684</td>\n",
              "      <td>63.999306</td>\n",
              "      <td>66.040855</td>\n",
              "      <td>68.671745</td>\n",
              "      <td>71.040855</td>\n",
              "      <td>79.412048</td>\n",
              "      <td>88.827560</td>\n",
              "      <td>78.795708</td>\n",
              "      <td>24.128809</td>\n",
              "      <td>15.596260</td>\n",
              "      <td>14.645428</td>\n",
              "      <td>12.373961</td>\n",
              "      <td>11.554708</td>\n",
              "      <td>21.063019</td>\n",
              "      <td>49.159973</td>\n",
              "      <td>64.343491</td>\n",
              "      <td>70.680054</td>\n",
              "      <td>73.397507</td>\n",
              "      <td>73.807480</td>\n",
              "      <td>70.356651</td>\n",
              "      <td>48.135040</td>\n",
              "      <td>20.816483</td>\n",
              "      <td>115.768692</td>\n",
              "      <td>114.658585</td>\n",
              "      <td>112.177277</td>\n",
              "      <td>121.683517</td>\n",
              "      <td>108.689743</td>\n",
              "      <td>58.647503</td>\n",
              "      <td>56.294319</td>\n",
              "      <td>58.253460</td>\n",
              "      <td>63.573402</td>\n",
              "      <td>69.118416</td>\n",
              "      <td>75.482689</td>\n",
              "      <td>84.746536</td>\n",
              "      <td>...</td>\n",
              "      <td>48.700138</td>\n",
              "      <td>48.545700</td>\n",
              "      <td>47.922440</td>\n",
              "      <td>48.992378</td>\n",
              "      <td>50.415512</td>\n",
              "      <td>49.091415</td>\n",
              "      <td>47.864265</td>\n",
              "      <td>48.721607</td>\n",
              "      <td>50.119804</td>\n",
              "      <td>52.292244</td>\n",
              "      <td>48.088642</td>\n",
              "      <td>41.828945</td>\n",
              "      <td>121.633652</td>\n",
              "      <td>125.027695</td>\n",
              "      <td>148.791534</td>\n",
              "      <td>149.790863</td>\n",
              "      <td>139.464691</td>\n",
              "      <td>109.659966</td>\n",
              "      <td>82.997231</td>\n",
              "      <td>91.868416</td>\n",
              "      <td>95.167587</td>\n",
              "      <td>90.279778</td>\n",
              "      <td>44.378117</td>\n",
              "      <td>48.686977</td>\n",
              "      <td>51.212605</td>\n",
              "      <td>48.400280</td>\n",
              "      <td>48.115650</td>\n",
              "      <td>48.686981</td>\n",
              "      <td>49.833107</td>\n",
              "      <td>50.142654</td>\n",
              "      <td>50.702213</td>\n",
              "      <td>49.103878</td>\n",
              "      <td>48.398201</td>\n",
              "      <td>48.076866</td>\n",
              "      <td>47.747925</td>\n",
              "      <td>47.712601</td>\n",
              "      <td>49.470913</td>\n",
              "      <td>48.552631</td>\n",
              "      <td>47.380192</td>\n",
              "      <td>37.150276</td>\n",
              "    </tr>\n",
              "    <tr>\n",
              "      <th>1</th>\n",
              "      <td>87.086899</td>\n",
              "      <td>93.651047</td>\n",
              "      <td>94.112854</td>\n",
              "      <td>78.501770</td>\n",
              "      <td>72.825729</td>\n",
              "      <td>67.533264</td>\n",
              "      <td>54.332794</td>\n",
              "      <td>71.977524</td>\n",
              "      <td>101.548523</td>\n",
              "      <td>105.100006</td>\n",
              "      <td>107.355148</td>\n",
              "      <td>109.738426</td>\n",
              "      <td>110.219818</td>\n",
              "      <td>109.463020</td>\n",
              "      <td>109.399681</td>\n",
              "      <td>109.580559</td>\n",
              "      <td>110.224869</td>\n",
              "      <td>113.637878</td>\n",
              "      <td>116.539024</td>\n",
              "      <td>120.523415</td>\n",
              "      <td>135.937622</td>\n",
              "      <td>138.625549</td>\n",
              "      <td>140.298065</td>\n",
              "      <td>140.097946</td>\n",
              "      <td>142.234711</td>\n",
              "      <td>150.540100</td>\n",
              "      <td>160.085526</td>\n",
              "      <td>169.047241</td>\n",
              "      <td>84.482361</td>\n",
              "      <td>92.403641</td>\n",
              "      <td>94.229324</td>\n",
              "      <td>86.751877</td>\n",
              "      <td>71.892136</td>\n",
              "      <td>64.841835</td>\n",
              "      <td>53.005711</td>\n",
              "      <td>75.946037</td>\n",
              "      <td>100.477905</td>\n",
              "      <td>102.283333</td>\n",
              "      <td>105.457909</td>\n",
              "      <td>107.253708</td>\n",
              "      <td>...</td>\n",
              "      <td>79.121330</td>\n",
              "      <td>77.357979</td>\n",
              "      <td>67.317291</td>\n",
              "      <td>62.462410</td>\n",
              "      <td>62.485725</td>\n",
              "      <td>62.684875</td>\n",
              "      <td>60.677902</td>\n",
              "      <td>62.916836</td>\n",
              "      <td>67.992188</td>\n",
              "      <td>71.888107</td>\n",
              "      <td>69.722557</td>\n",
              "      <td>81.152756</td>\n",
              "      <td>86.499733</td>\n",
              "      <td>85.506516</td>\n",
              "      <td>82.422035</td>\n",
              "      <td>83.158882</td>\n",
              "      <td>90.092957</td>\n",
              "      <td>87.673996</td>\n",
              "      <td>83.139771</td>\n",
              "      <td>84.829216</td>\n",
              "      <td>84.168793</td>\n",
              "      <td>82.660118</td>\n",
              "      <td>86.021873</td>\n",
              "      <td>92.290482</td>\n",
              "      <td>91.007690</td>\n",
              "      <td>82.501236</td>\n",
              "      <td>77.349686</td>\n",
              "      <td>79.324440</td>\n",
              "      <td>78.137856</td>\n",
              "      <td>71.633430</td>\n",
              "      <td>63.817619</td>\n",
              "      <td>58.981487</td>\n",
              "      <td>60.469025</td>\n",
              "      <td>60.267952</td>\n",
              "      <td>59.538670</td>\n",
              "      <td>62.663120</td>\n",
              "      <td>64.766296</td>\n",
              "      <td>66.939964</td>\n",
              "      <td>67.385918</td>\n",
              "      <td>66.361099</td>\n",
              "    </tr>\n",
              "    <tr>\n",
              "      <th>2</th>\n",
              "      <td>181.399994</td>\n",
              "      <td>181.360001</td>\n",
              "      <td>178.720001</td>\n",
              "      <td>176.800003</td>\n",
              "      <td>186.519989</td>\n",
              "      <td>200.239990</td>\n",
              "      <td>201.839996</td>\n",
              "      <td>205.199997</td>\n",
              "      <td>198.360001</td>\n",
              "      <td>188.039993</td>\n",
              "      <td>181.440002</td>\n",
              "      <td>182.879990</td>\n",
              "      <td>147.720001</td>\n",
              "      <td>112.239998</td>\n",
              "      <td>120.639999</td>\n",
              "      <td>123.239998</td>\n",
              "      <td>130.199997</td>\n",
              "      <td>128.440002</td>\n",
              "      <td>107.279999</td>\n",
              "      <td>102.720001</td>\n",
              "      <td>102.959999</td>\n",
              "      <td>104.360001</td>\n",
              "      <td>107.639999</td>\n",
              "      <td>112.239998</td>\n",
              "      <td>112.639999</td>\n",
              "      <td>114.239998</td>\n",
              "      <td>109.759995</td>\n",
              "      <td>108.879997</td>\n",
              "      <td>173.360001</td>\n",
              "      <td>172.440002</td>\n",
              "      <td>174.919998</td>\n",
              "      <td>172.119995</td>\n",
              "      <td>185.800003</td>\n",
              "      <td>198.959991</td>\n",
              "      <td>204.519989</td>\n",
              "      <td>201.000000</td>\n",
              "      <td>192.479996</td>\n",
              "      <td>188.879990</td>\n",
              "      <td>190.399994</td>\n",
              "      <td>196.679993</td>\n",
              "      <td>...</td>\n",
              "      <td>145.479996</td>\n",
              "      <td>153.959991</td>\n",
              "      <td>150.399994</td>\n",
              "      <td>131.319992</td>\n",
              "      <td>109.879997</td>\n",
              "      <td>104.839996</td>\n",
              "      <td>111.519997</td>\n",
              "      <td>113.320000</td>\n",
              "      <td>114.040001</td>\n",
              "      <td>118.759995</td>\n",
              "      <td>124.079994</td>\n",
              "      <td>122.320000</td>\n",
              "      <td>94.000000</td>\n",
              "      <td>102.559998</td>\n",
              "      <td>108.000000</td>\n",
              "      <td>102.519997</td>\n",
              "      <td>98.759995</td>\n",
              "      <td>93.040001</td>\n",
              "      <td>87.639999</td>\n",
              "      <td>86.119995</td>\n",
              "      <td>86.080002</td>\n",
              "      <td>89.439995</td>\n",
              "      <td>94.959999</td>\n",
              "      <td>96.439995</td>\n",
              "      <td>96.479996</td>\n",
              "      <td>96.079994</td>\n",
              "      <td>97.799995</td>\n",
              "      <td>120.559998</td>\n",
              "      <td>140.520004</td>\n",
              "      <td>143.679993</td>\n",
              "      <td>145.800003</td>\n",
              "      <td>148.479996</td>\n",
              "      <td>148.679993</td>\n",
              "      <td>144.199997</td>\n",
              "      <td>132.919998</td>\n",
              "      <td>113.599998</td>\n",
              "      <td>106.680000</td>\n",
              "      <td>111.479996</td>\n",
              "      <td>117.479996</td>\n",
              "      <td>121.279999</td>\n",
              "    </tr>\n",
              "    <tr>\n",
              "      <th>3</th>\n",
              "      <td>46.464500</td>\n",
              "      <td>54.421600</td>\n",
              "      <td>60.406811</td>\n",
              "      <td>61.337284</td>\n",
              "      <td>60.319530</td>\n",
              "      <td>59.451191</td>\n",
              "      <td>58.431957</td>\n",
              "      <td>63.661247</td>\n",
              "      <td>69.179001</td>\n",
              "      <td>72.671608</td>\n",
              "      <td>73.998520</td>\n",
              "      <td>74.849121</td>\n",
              "      <td>74.569534</td>\n",
              "      <td>70.504440</td>\n",
              "      <td>66.772194</td>\n",
              "      <td>62.264801</td>\n",
              "      <td>56.826927</td>\n",
              "      <td>56.010361</td>\n",
              "      <td>61.605034</td>\n",
              "      <td>63.279594</td>\n",
              "      <td>68.721901</td>\n",
              "      <td>76.113914</td>\n",
              "      <td>76.323967</td>\n",
              "      <td>79.087296</td>\n",
              "      <td>84.927513</td>\n",
              "      <td>84.565094</td>\n",
              "      <td>89.318054</td>\n",
              "      <td>91.906807</td>\n",
              "      <td>54.547340</td>\n",
              "      <td>62.673080</td>\n",
              "      <td>69.205627</td>\n",
              "      <td>70.797340</td>\n",
              "      <td>70.980774</td>\n",
              "      <td>70.170128</td>\n",
              "      <td>69.207108</td>\n",
              "      <td>72.714500</td>\n",
              "      <td>75.474854</td>\n",
              "      <td>75.977821</td>\n",
              "      <td>77.427521</td>\n",
              "      <td>78.034027</td>\n",
              "      <td>...</td>\n",
              "      <td>86.933441</td>\n",
              "      <td>97.238174</td>\n",
              "      <td>106.596161</td>\n",
              "      <td>104.210068</td>\n",
              "      <td>104.068047</td>\n",
              "      <td>95.659775</td>\n",
              "      <td>88.340240</td>\n",
              "      <td>86.602074</td>\n",
              "      <td>81.576927</td>\n",
              "      <td>76.147942</td>\n",
              "      <td>74.973389</td>\n",
              "      <td>78.134613</td>\n",
              "      <td>85.369827</td>\n",
              "      <td>92.572495</td>\n",
              "      <td>96.363914</td>\n",
              "      <td>93.755928</td>\n",
              "      <td>91.412735</td>\n",
              "      <td>91.167175</td>\n",
              "      <td>91.235214</td>\n",
              "      <td>86.961548</td>\n",
              "      <td>80.525154</td>\n",
              "      <td>79.420120</td>\n",
              "      <td>81.989647</td>\n",
              "      <td>79.365387</td>\n",
              "      <td>74.414207</td>\n",
              "      <td>72.374268</td>\n",
              "      <td>82.852074</td>\n",
              "      <td>89.150902</td>\n",
              "      <td>91.622787</td>\n",
              "      <td>106.906815</td>\n",
              "      <td>115.026634</td>\n",
              "      <td>119.661247</td>\n",
              "      <td>117.892029</td>\n",
              "      <td>98.538475</td>\n",
              "      <td>86.831367</td>\n",
              "      <td>83.215988</td>\n",
              "      <td>78.218933</td>\n",
              "      <td>77.973373</td>\n",
              "      <td>74.923080</td>\n",
              "      <td>77.322495</td>\n",
              "    </tr>\n",
              "    <tr>\n",
              "      <th>4</th>\n",
              "      <td>56.977814</td>\n",
              "      <td>55.147934</td>\n",
              "      <td>59.226337</td>\n",
              "      <td>64.825447</td>\n",
              "      <td>66.631660</td>\n",
              "      <td>65.159767</td>\n",
              "      <td>30.326923</td>\n",
              "      <td>6.755918</td>\n",
              "      <td>14.803255</td>\n",
              "      <td>15.556215</td>\n",
              "      <td>16.846155</td>\n",
              "      <td>15.374262</td>\n",
              "      <td>13.800297</td>\n",
              "      <td>30.375742</td>\n",
              "      <td>53.471901</td>\n",
              "      <td>59.739647</td>\n",
              "      <td>68.192314</td>\n",
              "      <td>74.826927</td>\n",
              "      <td>73.146454</td>\n",
              "      <td>70.835800</td>\n",
              "      <td>74.409775</td>\n",
              "      <td>75.899422</td>\n",
              "      <td>76.094681</td>\n",
              "      <td>79.653854</td>\n",
              "      <td>85.424561</td>\n",
              "      <td>90.702667</td>\n",
              "      <td>89.424568</td>\n",
              "      <td>83.479301</td>\n",
              "      <td>57.316574</td>\n",
              "      <td>57.244091</td>\n",
              "      <td>61.742611</td>\n",
              "      <td>64.965981</td>\n",
              "      <td>64.823975</td>\n",
              "      <td>65.732254</td>\n",
              "      <td>28.261837</td>\n",
              "      <td>5.699705</td>\n",
              "      <td>10.624262</td>\n",
              "      <td>12.686391</td>\n",
              "      <td>13.454143</td>\n",
              "      <td>19.093197</td>\n",
              "      <td>...</td>\n",
              "      <td>2.850592</td>\n",
              "      <td>2.963018</td>\n",
              "      <td>2.909764</td>\n",
              "      <td>2.989645</td>\n",
              "      <td>2.927515</td>\n",
              "      <td>2.730769</td>\n",
              "      <td>2.896450</td>\n",
              "      <td>2.979290</td>\n",
              "      <td>3.000000</td>\n",
              "      <td>3.000000</td>\n",
              "      <td>3.068048</td>\n",
              "      <td>3.035503</td>\n",
              "      <td>3.196746</td>\n",
              "      <td>2.968935</td>\n",
              "      <td>3.000000</td>\n",
              "      <td>3.000000</td>\n",
              "      <td>3.000000</td>\n",
              "      <td>3.020710</td>\n",
              "      <td>3.269231</td>\n",
              "      <td>3.269231</td>\n",
              "      <td>3.103550</td>\n",
              "      <td>3.147929</td>\n",
              "      <td>2.610947</td>\n",
              "      <td>3.158284</td>\n",
              "      <td>3.269231</td>\n",
              "      <td>3.269231</td>\n",
              "      <td>3.269231</td>\n",
              "      <td>3.269231</td>\n",
              "      <td>3.142012</td>\n",
              "      <td>3.337278</td>\n",
              "      <td>3.183432</td>\n",
              "      <td>3.331361</td>\n",
              "      <td>3.124260</td>\n",
              "      <td>2.730770</td>\n",
              "      <td>3.144970</td>\n",
              "      <td>3.310651</td>\n",
              "      <td>3.207101</td>\n",
              "      <td>3.000000</td>\n",
              "      <td>3.646450</td>\n",
              "      <td>3.482249</td>\n",
              "    </tr>\n",
              "  </tbody>\n",
              "</table>\n",
              "<p>5 rows × 784 columns</p>\n",
              "</div>"
            ],
            "text/plain": [
              "          0           1           2    ...         781         782         783\n",
              "0  116.666214  113.858719  117.673126  ...   48.552631   47.380192   37.150276\n",
              "1   87.086899   93.651047   94.112854  ...   66.939964   67.385918   66.361099\n",
              "2  181.399994  181.360001  178.720001  ...  111.479996  117.479996  121.279999\n",
              "3   46.464500   54.421600   60.406811  ...   77.973373   74.923080   77.322495\n",
              "4   56.977814   55.147934   59.226337  ...    3.000000    3.646450    3.482249\n",
              "\n",
              "[5 rows x 784 columns]"
            ]
          },
          "metadata": {
            "tags": []
          },
          "execution_count": 32
        }
      ]
    },
    {
      "cell_type": "code",
      "metadata": {
        "id": "ciUjF5tmdqLC",
        "colab": {
          "base_uri": "https://localhost:8080/",
          "height": 282
        },
        "outputId": "cfa30a40-927b-40c0-fe23-d68c795203c0"
      },
      "source": [
        "Size=28\n",
        "qual_img=10\n",
        "L = Width[qual_img]\n",
        "data=np.array(df.iloc[qual_img]).reshape(Size,Size)\n",
        "img = Image.fromarray(data.astype('uint8'), mode='L')\n",
        "img=np.float32(img)\n",
        "img28=cv2.resize(img,(Size,Size), interpolation = cv2.INTER_AREA)\n",
        "Foto=np.array(img28).reshape(28,28)\n",
        "plt.imshow(Foto, cmap = \"gray\")"
      ],
      "execution_count": 33,
      "outputs": [
        {
          "output_type": "execute_result",
          "data": {
            "text/plain": [
              "<matplotlib.image.AxesImage at 0x7ff92c77b910>"
            ]
          },
          "metadata": {
            "tags": []
          },
          "execution_count": 33
        },
        {
          "output_type": "display_data",
          "data": {
            "image/png": "[encoded data removed]",
            "text/plain": [
              "<Figure size 432x288 with 1 Axes>"
            ]
          },
          "metadata": {
            "tags": [],
            "needs_background": "light"
          }
        }
      ]
    },
    {
      "cell_type": "code",
      "metadata": {
        "id": "V-MTA4fXg2W0"
      },
      "source": [
        "mean_value = np.mean(img)\n",
        "img_new = img.copy()"
      ],
      "execution_count": 34,
      "outputs": []
    },
    {
      "cell_type": "code",
      "metadata": {
        "id": "JbcfWPMdewq3",
        "colab": {
          "base_uri": "https://localhost:8080/",
          "height": 282
        },
        "outputId": "d04c06d4-774b-414a-acaf-12d847c6e553"
      },
      "source": [
        "\n",
        "for i in range(28):\n",
        "  for j in range(28):\n",
        "    if img[i,j] < mean_value:\n",
        "      img_new[i,j] = 255\n",
        "    else:\n",
        "      img_new[i,j] = 0\n",
        "\n",
        "img28=cv2.resize(img_new,(Size,Size), interpolation = cv2.INTER_AREA)\n",
        "Foto=np.array(img28).reshape(28,28)\n",
        "plt.imshow(Foto, cmap = \"gray\")\n"
      ],
      "execution_count": 38,
      "outputs": [
        {
          "output_type": "execute_result",
          "data": {
            "text/plain": [
              "<matplotlib.image.AxesImage at 0x7ff929a7a650>"
            ]
          },
          "metadata": {
            "tags": []
          },
          "execution_count": 38
        },
        {
          "output_type": "display_data",
          "data": {
            "image/png": "[encoded data removed]",
            "text/plain": [
              "<Figure size 432x288 with 1 Axes>"
            ]
          },
          "metadata": {
            "tags": [],
            "needs_background": "light"
          }
        }
      ]
    },
    {
      "cell_type": "code",
      "metadata": {
        "id": "spRNBSwifDqQ",
        "colab": {
          "base_uri": "https://localhost:8080/"
        },
        "outputId": "32c315d2-07cf-4351-a84a-afe46b8d0bcf"
      },
      "source": [
        "L = Width[qual_img]\n",
        "Area = np.sum(img_new) / (255.0 * 28 * 28)* L*L\n",
        "print(Area)"
      ],
      "execution_count": 36,
      "outputs": [
        {
          "output_type": "stream",
          "text": [
            "12385.31263505402\n"
          ],
          "name": "stdout"
        }
      ]
    },
    {
      "cell_type": "code",
      "metadata": {
        "id": "6GP_DXsWibOX",
        "colab": {
          "base_uri": "https://localhost:8080/",
          "height": 555
        },
        "outputId": "ba943e47-60b8-47e0-9cdf-b02f130df686"
      },
      "source": [
        "Area_All, Diameter_All=PSDArea(df_size) \n"
      ],
      "execution_count": 37,
      "outputs": [
        {
          "output_type": "error",
          "ename": "KeyError",
          "evalue": "ignored",
          "traceback": [
            "\u001b[0;31m---------------------------------------------------------------------------\u001b[0m",
            "\u001b[0;31mKeyError\u001b[0m                                  Traceback (most recent call last)",
            "\u001b[0;32m/usr/local/lib/python3.7/dist-packages/pandas/core/indexes/base.py\u001b[0m in \u001b[0;36mget_loc\u001b[0;34m(self, key, method, tolerance)\u001b[0m\n\u001b[1;32m   2897\u001b[0m             \u001b[0;32mtry\u001b[0m\u001b[0;34m:\u001b[0m\u001b[0;34m\u001b[0m\u001b[0;34m\u001b[0m\u001b[0m\n\u001b[0;32m-> 2898\u001b[0;31m                 \u001b[0;32mreturn\u001b[0m \u001b[0mself\u001b[0m\u001b[0;34m.\u001b[0m\u001b[0m_engine\u001b[0m\u001b[0;34m.\u001b[0m\u001b[0mget_loc\u001b[0m\u001b[0;34m(\u001b[0m\u001b[0mcasted_key\u001b[0m\u001b[0;34m)\u001b[0m\u001b[0;34m\u001b[0m\u001b[0;34m\u001b[0m\u001b[0m\n\u001b[0m\u001b[1;32m   2899\u001b[0m             \u001b[0;32mexcept\u001b[0m \u001b[0mKeyError\u001b[0m \u001b[0;32mas\u001b[0m \u001b[0merr\u001b[0m\u001b[0;34m:\u001b[0m\u001b[0;34m\u001b[0m\u001b[0;34m\u001b[0m\u001b[0m\n",
            "\u001b[0;32mpandas/_libs/index.pyx\u001b[0m in \u001b[0;36mpandas._libs.index.IndexEngine.get_loc\u001b[0;34m()\u001b[0m\n",
            "\u001b[0;32mpandas/_libs/index.pyx\u001b[0m in \u001b[0;36mpandas._libs.index.IndexEngine.get_loc\u001b[0;34m()\u001b[0m\n",
            "\u001b[0;32mpandas/_libs/hashtable_class_helper.pxi\u001b[0m in \u001b[0;36mpandas._libs.hashtable.PyObjectHashTable.get_item\u001b[0;34m()\u001b[0m\n",
            "\u001b[0;32mpandas/_libs/hashtable_class_helper.pxi\u001b[0m in \u001b[0;36mpandas._libs.hashtable.PyObjectHashTable.get_item\u001b[0;34m()\u001b[0m\n",
            "\u001b[0;31mKeyError\u001b[0m: 'Width'",
            "\nThe above exception was the direct cause of the following exception:\n",
            "\u001b[0;31mKeyError\u001b[0m                                  Traceback (most recent call last)",
            "\u001b[0;32m<ipython-input-37-f8333b283db7>\u001b[0m in \u001b[0;36m<module>\u001b[0;34m()\u001b[0m\n\u001b[0;32m----> 1\u001b[0;31m \u001b[0mArea_All\u001b[0m\u001b[0;34m,\u001b[0m \u001b[0mDiameter_All\u001b[0m\u001b[0;34m=\u001b[0m\u001b[0mPSDArea\u001b[0m\u001b[0;34m(\u001b[0m\u001b[0mdf_size\u001b[0m\u001b[0;34m)\u001b[0m\u001b[0;34m\u001b[0m\u001b[0;34m\u001b[0m\u001b[0m\n\u001b[0m",
            "\u001b[0;32m/content/marquesgabi_fev_2020/marquesgabi_paper_fev_2021/Get_PSDArea_New.py\u001b[0m in \u001b[0;36mPSDArea\u001b[0;34m(df_size)\u001b[0m\n\u001b[1;32m      8\u001b[0m   \u001b[0mSize_foto\u001b[0m\u001b[0;34m=\u001b[0m\u001b[0;36m1200\u001b[0m \u001b[0;31m# tamanho da foto (se mudar no big_segment.py tem q alterar aqui)\u001b[0m\u001b[0;34m\u001b[0m\u001b[0;34m\u001b[0m\u001b[0m\n\u001b[1;32m      9\u001b[0m   \u001b[0mfc\u001b[0m \u001b[0;34m=\u001b[0m \u001b[0mFrame\u001b[0m \u001b[0;34m/\u001b[0m \u001b[0mSize_foto\u001b[0m\u001b[0;34m\u001b[0m\u001b[0;34m\u001b[0m\u001b[0m\n\u001b[0;32m---> 10\u001b[0;31m   \u001b[0mWidth\u001b[0m\u001b[0;34m=\u001b[0m\u001b[0mnp\u001b[0m\u001b[0;34m.\u001b[0m\u001b[0marray\u001b[0m\u001b[0;34m(\u001b[0m\u001b[0mdf_size\u001b[0m\u001b[0;34m[\u001b[0m\u001b[0;34m'Width'\u001b[0m\u001b[0;34m]\u001b[0m\u001b[0;34m)\u001b[0m\u001b[0;34m\u001b[0m\u001b[0;34m\u001b[0m\u001b[0m\n\u001b[0m\u001b[1;32m     11\u001b[0m   \u001b[0mSize\u001b[0m\u001b[0;34m=\u001b[0m\u001b[0;36m28\u001b[0m\u001b[0;34m\u001b[0m\u001b[0;34m\u001b[0m\u001b[0m\n\u001b[1;32m     12\u001b[0m   \u001b[0mNx\u001b[0m\u001b[0;34m,\u001b[0m \u001b[0mNy\u001b[0m \u001b[0;34m=\u001b[0m \u001b[0mdf_size\u001b[0m\u001b[0;34m.\u001b[0m\u001b[0mshape\u001b[0m\u001b[0;34m\u001b[0m\u001b[0;34m\u001b[0m\u001b[0m\n",
            "\u001b[0;32m/usr/local/lib/python3.7/dist-packages/pandas/core/frame.py\u001b[0m in \u001b[0;36m__getitem__\u001b[0;34m(self, key)\u001b[0m\n\u001b[1;32m   2904\u001b[0m             \u001b[0;32mif\u001b[0m \u001b[0mself\u001b[0m\u001b[0;34m.\u001b[0m\u001b[0mcolumns\u001b[0m\u001b[0;34m.\u001b[0m\u001b[0mnlevels\u001b[0m \u001b[0;34m>\u001b[0m \u001b[0;36m1\u001b[0m\u001b[0;34m:\u001b[0m\u001b[0;34m\u001b[0m\u001b[0;34m\u001b[0m\u001b[0m\n\u001b[1;32m   2905\u001b[0m                 \u001b[0;32mreturn\u001b[0m \u001b[0mself\u001b[0m\u001b[0;34m.\u001b[0m\u001b[0m_getitem_multilevel\u001b[0m\u001b[0;34m(\u001b[0m\u001b[0mkey\u001b[0m\u001b[0;34m)\u001b[0m\u001b[0;34m\u001b[0m\u001b[0;34m\u001b[0m\u001b[0m\n\u001b[0;32m-> 2906\u001b[0;31m             \u001b[0mindexer\u001b[0m \u001b[0;34m=\u001b[0m \u001b[0mself\u001b[0m\u001b[0;34m.\u001b[0m\u001b[0mcolumns\u001b[0m\u001b[0;34m.\u001b[0m\u001b[0mget_loc\u001b[0m\u001b[0;34m(\u001b[0m\u001b[0mkey\u001b[0m\u001b[0;34m)\u001b[0m\u001b[0;34m\u001b[0m\u001b[0;34m\u001b[0m\u001b[0m\n\u001b[0m\u001b[1;32m   2907\u001b[0m             \u001b[0;32mif\u001b[0m \u001b[0mis_integer\u001b[0m\u001b[0;34m(\u001b[0m\u001b[0mindexer\u001b[0m\u001b[0;34m)\u001b[0m\u001b[0;34m:\u001b[0m\u001b[0;34m\u001b[0m\u001b[0;34m\u001b[0m\u001b[0m\n\u001b[1;32m   2908\u001b[0m                 \u001b[0mindexer\u001b[0m \u001b[0;34m=\u001b[0m \u001b[0;34m[\u001b[0m\u001b[0mindexer\u001b[0m\u001b[0;34m]\u001b[0m\u001b[0;34m\u001b[0m\u001b[0;34m\u001b[0m\u001b[0m\n",
            "\u001b[0;32m/usr/local/lib/python3.7/dist-packages/pandas/core/indexes/base.py\u001b[0m in \u001b[0;36mget_loc\u001b[0;34m(self, key, method, tolerance)\u001b[0m\n\u001b[1;32m   2898\u001b[0m                 \u001b[0;32mreturn\u001b[0m \u001b[0mself\u001b[0m\u001b[0;34m.\u001b[0m\u001b[0m_engine\u001b[0m\u001b[0;34m.\u001b[0m\u001b[0mget_loc\u001b[0m\u001b[0;34m(\u001b[0m\u001b[0mcasted_key\u001b[0m\u001b[0;34m)\u001b[0m\u001b[0;34m\u001b[0m\u001b[0;34m\u001b[0m\u001b[0m\n\u001b[1;32m   2899\u001b[0m             \u001b[0;32mexcept\u001b[0m \u001b[0mKeyError\u001b[0m \u001b[0;32mas\u001b[0m \u001b[0merr\u001b[0m\u001b[0;34m:\u001b[0m\u001b[0;34m\u001b[0m\u001b[0;34m\u001b[0m\u001b[0m\n\u001b[0;32m-> 2900\u001b[0;31m                 \u001b[0;32mraise\u001b[0m \u001b[0mKeyError\u001b[0m\u001b[0;34m(\u001b[0m\u001b[0mkey\u001b[0m\u001b[0;34m)\u001b[0m \u001b[0;32mfrom\u001b[0m \u001b[0merr\u001b[0m\u001b[0;34m\u001b[0m\u001b[0;34m\u001b[0m\u001b[0m\n\u001b[0m\u001b[1;32m   2901\u001b[0m \u001b[0;34m\u001b[0m\u001b[0m\n\u001b[1;32m   2902\u001b[0m         \u001b[0;32mif\u001b[0m \u001b[0mtolerance\u001b[0m \u001b[0;32mis\u001b[0m \u001b[0;32mnot\u001b[0m \u001b[0;32mNone\u001b[0m\u001b[0;34m:\u001b[0m\u001b[0;34m\u001b[0m\u001b[0;34m\u001b[0m\u001b[0m\n",
            "\u001b[0;31mKeyError\u001b[0m: 'Width'"
          ]
        }
      ]
    },
    {
      "cell_type": "code",
      "metadata": {
        "id": "3ydbrnjewBYL"
      },
      "source": [
        "df_size.shape"
      ],
      "execution_count": null,
      "outputs": []
    },
    {
      "cell_type": "code",
      "metadata": {
        "id": "3L3IfgxMs3dI"
      },
      "source": [
        "# print(Area_All)\n",
        "print(Diameter_All)"
      ],
      "execution_count": null,
      "outputs": []
    },
    {
      "cell_type": "code",
      "metadata": {
        "id": "oeLlypq5gbFa"
      },
      "source": [
        ""
      ],
      "execution_count": null,
      "outputs": []
    },
    {
      "cell_type": "code",
      "metadata": {
        "id": "YJFWGVQJLwRo"
      },
      "source": [
        "diam = Diameter_All.copy()\n",
        "PSD_value, Perc_value = PSD(diam)\n",
        "print(Perc_value)"
      ],
      "execution_count": null,
      "outputs": []
    },
    {
      "cell_type": "code",
      "metadata": {
        "id": "Zvked-F_kPwi"
      },
      "source": [
        "!git clone https://github.com/ucfilho/marquesgabi_out_2020\n",
        "%cd marquesgabi_out_2020\n",
        "PSD_imageJ = 'Areas_ImageJ.csv'\n",
        "PSD_new = pd.read_csv(PSD_imageJ)\n",
        "print(PSD_new.head(3))"
      ],
      "execution_count": null,
      "outputs": []
    },
    {
      "cell_type": "code",
      "metadata": {
        "id": "004Ki_RdzWqi"
      },
      "source": [
        "Area = np.array(PSD_new['Area'])\n",
        "diam_teste = []\n",
        "for A in Area:\n",
        "  diam_teste.append((4*A/np.pi)**0.5) \n",
        "\n",
        "Diam1 = [ (4*A/np.pi)**0.5 for A in Area]"
      ],
      "execution_count": null,
      "outputs": []
    },
    {
      "cell_type": "code",
      "metadata": {
        "id": "0dIK1uV4DqR-"
      },
      "source": [
        "PSD_new"
      ],
      "execution_count": null,
      "outputs": []
    },
    {
      "cell_type": "code",
      "metadata": {
        "id": "40Fdww7M1KSx"
      },
      "source": [
        "PSD_new, Perc_new = PSD(Diam1)  # imageJ\n",
        "print(Perc_new)\n",
        "print(Perc_value)"
      ],
      "execution_count": null,
      "outputs": []
    },
    {
      "cell_type": "code",
      "metadata": {
        "id": "jeTMW3eVbpAY"
      },
      "source": [
        "np.sum(np.array(Perc_value))"
      ],
      "execution_count": null,
      "outputs": []
    },
    {
      "cell_type": "code",
      "metadata": {
        "id": "oAuyxTmrmc9Y"
      },
      "source": [
        "plt.plot( Perc_value,Perc_new )"
      ],
      "execution_count": null,
      "outputs": []
    },
    {
      "cell_type": "code",
      "metadata": {
        "id": "n1r49MHFvsPP"
      },
      "source": [
        "PSD_comparison = pd.DataFrame({ 'CNN':Perc_value,'ImgJ':Perc_new})\n",
        "ax = PSD_comparison.plot.bar(rot=0)"
      ],
      "execution_count": null,
      "outputs": []
    },
    {
      "cell_type": "code",
      "metadata": {
        "id": "enuGx6kH4cFh"
      },
      "source": [
        ""
      ],
      "execution_count": null,
      "outputs": []
    },
    {
      "cell_type": "code",
      "metadata": {
        "id": "sW4TRqxc0Li-"
      },
      "source": [
        "results = smf.ols('ImgJ ~ CNN', data=PSD_comparison).fit()\n",
        "print(results.summary())"
      ],
      "execution_count": null,
      "outputs": []
    },
    {
      "cell_type": "code",
      "metadata": {
        "id": "Ctf4oExeyz1B"
      },
      "source": [
        "#plt.plot(Diam)\n",
        "plt.plot(Diameter_All)"
      ],
      "execution_count": null,
      "outputs": []
    },
    {
      "cell_type": "code",
      "metadata": {
        "id": "WKwv70Nty2jF"
      },
      "source": [
        "plt.plot(Diam1)"
      ],
      "execution_count": null,
      "outputs": []
    },
    {
      "cell_type": "code",
      "metadata": {
        "id": "eDfOaBFQ3BMS"
      },
      "source": [
        "df_diam=pd.DataFrame(Diam1)\n",
        "df_diam.describe()"
      ],
      "execution_count": null,
      "outputs": []
    },
    {
      "cell_type": "code",
      "metadata": {
        "id": "LKMhybhA4gjO"
      },
      "source": [
        "plt.hist([Diam1,Diameter_All])\n",
        "plt.legend(['Image J','CNN'])"
      ],
      "execution_count": null,
      "outputs": []
    },
    {
      "cell_type": "code",
      "metadata": {
        "id": "NHgkMv8i5nNz"
      },
      "source": [
        "plt.hist(Diam1, alpha=0.5)\n",
        "plt.hist(Diameter_All, alpha=0.5)"
      ],
      "execution_count": null,
      "outputs": []
    },
    {
      "cell_type": "markdown",
      "metadata": {
        "id": "9Pq4DTm1np4i"
      },
      "source": [
        ""
      ]
    }
  ]
}