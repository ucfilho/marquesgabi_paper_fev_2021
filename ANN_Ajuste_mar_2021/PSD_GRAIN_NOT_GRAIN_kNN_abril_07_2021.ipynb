{
  "nbformat": 4,
  "nbformat_minor": 0,
  "metadata": {
    "colab": {
      "name": "PSD_GRAIN_NOT_GRAIN_kNN_abril_07_2021.ipynb",
      "provenance": [],
      "collapsed_sections": [],
      "include_colab_link": true
    },
    "kernelspec": {
      "name": "python3",
      "display_name": "Python 3"
    }
  },
  "cells": [
    {
      "cell_type": "markdown",
      "metadata": {
        "id": "view-in-github",
        "colab_type": "text"
      },
      "source": [
        "<a href=\"https://colab.research.google.com/github/ucfilho/marquesgabi_paper_fev_2021/blob/main/ANN_Ajuste_mar_2021/PSD_GRAIN_NOT_GRAIN_kNN_abril_07_2021.ipynb\" target=\"_parent\"><img src=\"https://colab.research.google.com/assets/colab-badge.svg\" alt=\"Open In Colab\"/></a>"
      ]
    },
    {
      "cell_type": "code",
      "metadata": {
        "id": "Sog7Z9pyhUD_",
        "colab": {
          "base_uri": "https://localhost:8080/"
        },
        "outputId": "80c61cc5-49fb-443e-b4c5-2ca358bbd6e4"
      },
      "source": [
        "import matplotlib.pyplot as plt\n",
        "import numpy as np\n",
        "import cv2\n",
        "import zipfile\n",
        "#import random\n",
        "from random import randint\n",
        "from PIL import Image\n",
        "import re\n",
        "from sklearn.model_selection import train_test_split\n",
        "#import scikit-image\n",
        "import skimage\n",
        "import pandas as pd\n",
        "import statsmodels.api as sm\n",
        "import statsmodels.formula.api as smf"
      ],
      "execution_count": 1,
      "outputs": [
        {
          "output_type": "stream",
          "text": [
            "/usr/local/lib/python3.7/dist-packages/statsmodels/tools/_testing.py:19: FutureWarning: pandas.util.testing is deprecated. Use the functions in the public API at pandas.testing instead.\n",
            "  import pandas.util.testing as tm\n"
          ],
          "name": "stderr"
        }
      ]
    },
    {
      "cell_type": "code",
      "metadata": {
        "id": "uZEvJvfoibE4",
        "colab": {
          "base_uri": "https://localhost:8080/"
        },
        "outputId": "a7c42b41-c690-4115-c098-48ec03bf8da4"
      },
      "source": [
        "!pip install mahotas"
      ],
      "execution_count": 2,
      "outputs": [
        {
          "output_type": "stream",
          "text": [
            "Collecting mahotas\n",
            "\u001b[?25l  Downloading https://files.pythonhosted.org/packages/19/ad/553b246b0a35dccc3ed58dc8889a67124bf5ab858e9c6b7255d56086e70c/mahotas-1.4.11-cp37-cp37m-manylinux2010_x86_64.whl (5.7MB)\n",
            "\u001b[K     |████████████████████████████████| 5.7MB 4.6MB/s \n",
            "\u001b[?25hRequirement already satisfied: numpy in /usr/local/lib/python3.7/dist-packages (from mahotas) (1.19.5)\n",
            "Installing collected packages: mahotas\n",
            "Successfully installed mahotas-1.4.11\n"
          ],
          "name": "stdout"
        }
      ]
    },
    {
      "cell_type": "code",
      "metadata": {
        "id": "_VcTdaNVh9EE",
        "colab": {
          "base_uri": "https://localhost:8080/"
        },
        "outputId": "3cb5a127-b3c1-4756-b303-99650278ebd5"
      },
      "source": [
        "!git clone https://github.com/ucfilho/marquesgabi_fev_2020 #clonar do Github\n",
        "%cd marquesgabi_fev_2020\n",
        "import Go2BlackWhite\n",
        "import Go2Mahotas"
      ],
      "execution_count": 3,
      "outputs": [
        {
          "output_type": "stream",
          "text": [
            "Cloning into 'marquesgabi_fev_2020'...\n",
            "remote: Enumerating objects: 73, done.\u001b[K\n",
            "remote: Counting objects: 100% (73/73), done.\u001b[K\n",
            "remote: Compressing objects: 100% (71/71), done.\u001b[K\n",
            "remote: Total 73 (delta 37), reused 0 (delta 0), pack-reused 0\u001b[K\n",
            "Unpacking objects: 100% (73/73), done.\n",
            "/content/marquesgabi_fev_2020\n"
          ],
          "name": "stdout"
        }
      ]
    },
    {
      "cell_type": "code",
      "metadata": {
        "id": "nf_a6PJ1iUnT"
      },
      "source": [
        "import mahotas.features.texture as mht\n",
        "import mahotas.features"
      ],
      "execution_count": 4,
      "outputs": []
    },
    {
      "cell_type": "code",
      "metadata": {
        "id": "wj62HANgnpnR",
        "colab": {
          "base_uri": "https://localhost:8080/"
        },
        "outputId": "acf05bc0-762c-4ec4-a807-e6da83f674ea"
      },
      "source": [
        "!git clone https://github.com/ucfilho/marquesgabi_paper_fev_2021\n",
        "%cd marquesgabi_paper_fev_2021\n",
        "\n",
        "from Get_PSDArea_New import PSDArea\n",
        "from histogram_fev_2021 import PSD\n",
        "from GetBetterSegm import GetBetter"
      ],
      "execution_count": 5,
      "outputs": [
        {
          "output_type": "stream",
          "text": [
            "Cloning into 'marquesgabi_paper_fev_2021'...\n",
            "remote: Enumerating objects: 97, done.\u001b[K\n",
            "remote: Counting objects: 100% (97/97), done.\u001b[K\n",
            "remote: Compressing objects: 100% (97/97), done.\u001b[K\n",
            "remote: Total 336 (delta 55), reused 0 (delta 0), pack-reused 239\u001b[K\n",
            "Receiving objects: 100% (336/336), 1.10 MiB | 8.07 MiB/s, done.\n",
            "Resolving deltas: 100% (192/192), done.\n",
            "/content/marquesgabi_fev_2020/marquesgabi_paper_fev_2021\n"
          ],
          "name": "stdout"
        }
      ]
    },
    {
      "cell_type": "code",
      "metadata": {
        "id": "8L6KJ4jc3ahG",
        "colab": {
          "base_uri": "https://localhost:8080/"
        },
        "outputId": "49d68bd0-f967-40bc-9210-076d50983cf2"
      },
      "source": [
        "!ls"
      ],
      "execution_count": 6,
      "outputs": [
        {
          "output_type": "stream",
          "text": [
            "ANN_Ajuste_mar_2021\n",
            "ANN_FIND_GRAIN_MAR_2021.py\n",
            "ANN_FIND_GRAIN_NOVO.py\n",
            "ANN_FIND_GRAIN_PAPER_STEP_02.py\n",
            "big_segment.py\n",
            "CNN_classify_grain_feb_15_2021.ipynb\n",
            "CNN_DESCRIPTION.ipynb\n",
            "CNN_FIND_GRAIN_PAPER_STEP_02.py\n",
            "EPOCHS_graphic.csv\n",
            "EPOCHS_graphic.txt\n",
            "Fig_05_BIG_Segmentation_jan_25_2021.ipynb\n",
            "GetBetterSegm.py\n",
            "Get_PSDArea_New.py\n",
            "Graphic_Epochs_fev_09_2020.ipynb\n",
            "histogram_fev_2021.py\n",
            "PSD_CNN_GRAIN_NOT_GRAIN_step_02_paper.ipynb\n",
            "PSD_GRAIN_NOT_GRAIN_dez_04_2020.ipynb\n",
            "PSD_GRAIN_NOT_GRAIN_fev_18_2021.ipynb\n",
            "PSD_GRAIN_NOT_GRAIN_mar_11_2021.ipynb\n",
            "PSD_GRAIN_NOT_GRAIN_mar_12_2021.ipynb\n",
            "PSD_GRAIN_NOT_GRAIN_step_02_paper.ipynb\n",
            "psd_mahotas.py\n",
            "__pycache__\n",
            "README.md\n",
            "Segment_Ajuste_mar_2021\n",
            "SEGMENT_NOT_CONCLUDED.ipynb\n"
          ],
          "name": "stdout"
        }
      ]
    },
    {
      "cell_type": "code",
      "metadata": {
        "id": "1v7SRrc8mH2N",
        "colab": {
          "base_uri": "https://localhost:8080/"
        },
        "outputId": "56c1ad4a-f040-43b6-b08e-3702c4cbf820"
      },
      "source": [
        "!git clone https://github.com/marquesgabi/Doutorado\n",
        "%cd Doutorado\n",
        "\n",
        "Transfere='Fotos_Grandes_3cdAmostra.zip'\n",
        "file_name = zipfile.ZipFile(Transfere, 'r')\n",
        "file_name.extractall()"
      ],
      "execution_count": 7,
      "outputs": [
        {
          "output_type": "stream",
          "text": [
            "Cloning into 'Doutorado'...\n",
            "remote: Enumerating objects: 58, done.\u001b[K\n",
            "remote: Counting objects: 100% (58/58), done.\u001b[K\n",
            "remote: Compressing objects: 100% (58/58), done.\u001b[K\n",
            "remote: Total 308 (delta 23), reused 0 (delta 0), pack-reused 250\u001b[K\n",
            "Receiving objects: 100% (308/308), 78.60 MiB | 30.87 MiB/s, done.\n",
            "Resolving deltas: 100% (146/146), done.\n",
            "/content/marquesgabi_fev_2020/marquesgabi_paper_fev_2021/Doutorado\n"
          ],
          "name": "stdout"
        }
      ]
    },
    {
      "cell_type": "code",
      "metadata": {
        "id": "0kA4IWSmasoD"
      },
      "source": [
        "Size=1200 # tamanho da foto\n",
        "ww,img_name=Go2BlackWhite.BlackWhite(Transfere,Size) #Pegamos a primeira foto Grande\n",
        "img=ww[0] \n",
        "# this is the big image we want to segment \n",
        "# ww[0], change it if you want to segment another picture"
      ],
      "execution_count": 8,
      "outputs": []
    },
    {
      "cell_type": "code",
      "metadata": {
        "id": "g_k1Ktz3izJv",
        "colab": {
          "base_uri": "https://localhost:8080/"
        },
        "outputId": "5028b902-beaf-42eb-9126-fd5b66e5afef"
      },
      "source": [
        "!git clone https://github.com/marquesgabi/Doutorado\n",
        "# %cd Doutorado\n",
        "Transfere='FotosTreino882_and_Segm.zip'\n",
        "file_name = zipfile.ZipFile(Transfere, 'r')\n",
        "file_name.extractall()\n",
        "\n",
        "\"\"\"# First step: get the segmented file (photos stored in csv file)\"\"\"\n",
        "\n",
        "labels = [] #name files\n",
        "\n",
        "with zipfile.ZipFile(Transfere, \"r\") as f:\n",
        "  for f in f.namelist():\n",
        "    labels.append(f)\n",
        "\n",
        "Num=len(labels)\n",
        "df=pd.read_csv(labels[0])\n",
        "for i in range(1,Num):\n",
        "  df_new=pd.read_csv(labels[i])\n",
        "  df_new = df_new[~df_new['Type'].isin(['G'])] # drop grain row which is not in 882\n",
        "  frames = [df, df_new]\n",
        "  df= pd.concat(frames, ignore_index=True)"
      ],
      "execution_count": 9,
      "outputs": [
        {
          "output_type": "stream",
          "text": [
            "Cloning into 'Doutorado'...\n",
            "remote: Enumerating objects: 58, done.\u001b[K\n",
            "remote: Counting objects: 100% (58/58), done.\u001b[K\n",
            "remote: Compressing objects: 100% (58/58), done.\u001b[K\n",
            "remote: Total 308 (delta 23), reused 0 (delta 0), pack-reused 250\u001b[K\n",
            "Receiving objects: 100% (308/308), 115.76 MiB | 32.30 MiB/s, done.\n",
            "Resolving deltas: 100% (140/140), done.\n"
          ],
          "name": "stdout"
        }
      ]
    },
    {
      "cell_type": "code",
      "metadata": {
        "id": "tHgqAnaFyCjp",
        "colab": {
          "base_uri": "https://localhost:8080/"
        },
        "outputId": "99894948-1a9c-4a20-cfe4-8651f8455eda"
      },
      "source": [
        "!git clone https://github.com/ucfilho/marquesgabi_paper_fev_2021\n",
        "%cd marquesgabi_paper_fev_2021"
      ],
      "execution_count": 10,
      "outputs": [
        {
          "output_type": "stream",
          "text": [
            "Cloning into 'marquesgabi_paper_fev_2021'...\n",
            "remote: Enumerating objects: 97, done.\u001b[K\n",
            "remote: Counting objects: 100% (97/97), done.\u001b[K\n",
            "remote: Compressing objects: 100% (97/97), done.\u001b[K\n",
            "remote: Total 336 (delta 55), reused 0 (delta 0), pack-reused 239\u001b[K\n",
            "Receiving objects: 100% (336/336), 1.10 MiB | 7.53 MiB/s, done.\n",
            "Resolving deltas: 100% (192/192), done.\n",
            "/content/marquesgabi_fev_2020/marquesgabi_paper_fev_2021/Doutorado/marquesgabi_paper_fev_2021\n"
          ],
          "name": "stdout"
        }
      ]
    },
    {
      "cell_type": "code",
      "metadata": {
        "id": "qc4rFvzkyWCi"
      },
      "source": [
        "from big_segment import Segmenta  # got image provided segmented\n",
        "# from ANN_FIND_GRAIN_NOVO import AnnGrain  # got image provided segmented\n",
        "from psd_mahotas import Mahotas"
      ],
      "execution_count": 11,
      "outputs": []
    },
    {
      "cell_type": "code",
      "metadata": {
        "colab": {
          "base_uri": "https://localhost:8080/"
        },
        "id": "N-R1so5EcKXE",
        "outputId": "3f3c7ddc-73c9-43ed-b23f-21c0880949d7"
      },
      "source": [
        "!git clone https://github.com/ucfilho/marquesgabi_paper_fev_2021/ANN_Ajuste_mar_2021\n",
        "%cd ANN_Ajuste_mar_2021"
      ],
      "execution_count": 12,
      "outputs": [
        {
          "output_type": "stream",
          "text": [
            "fatal: destination path 'ANN_Ajuste_mar_2021' already exists and is not an empty directory.\n",
            "/content/marquesgabi_fev_2020/marquesgabi_paper_fev_2021/Doutorado/marquesgabi_paper_fev_2021/ANN_Ajuste_mar_2021\n"
          ],
          "name": "stdout"
        }
      ]
    },
    {
      "cell_type": "code",
      "metadata": {
        "id": "aPT8qYAVcdPP"
      },
      "source": [
        "from knn_find_grain_change_classification import knnGrain  # got image provided segmented"
      ],
      "execution_count": 13,
      "outputs": []
    },
    {
      "cell_type": "code",
      "metadata": {
        "colab": {
          "base_uri": "https://localhost:8080/"
        },
        "id": "knhoH5ve0gyq",
        "outputId": "cd861b08-91f6-433a-f032-539916508910"
      },
      "source": [
        "!ls"
      ],
      "execution_count": 14,
      "outputs": [
        {
          "output_type": "stream",
          "text": [
            "ANN_deploy_neural_network_mar_22_2021.ipynb\n",
            "ANN_FIND_GRAIN_change_ann.py\n",
            "ANN_load_neural_network_mar_23_2021.ipynb\n",
            "ANN_load_top_okay_neural_network_mar_23_2021.ipynb\n",
            "ANN_neural_network_load_mar_22_2021.ipynb\n",
            "big_segment_new.py\n",
            "knn_find_grain_change_classification.py\n",
            "PSD_find_neural_network_mar_18_2021.ipynb\n",
            "PSD_GRAIN_NOT_GRAIN_mar_18_2021.ipynb\n",
            "__pycache__\n"
          ],
          "name": "stdout"
        }
      ]
    },
    {
      "cell_type": "code",
      "metadata": {
        "id": "YPoCxCp4kuRm",
        "colab": {
          "base_uri": "https://localhost:8080/"
        },
        "outputId": "a4f18416-8cff-4093-fc7f-539599e21e87"
      },
      "source": [
        "!git clone https://github.com/marquesgabi/Doutorado\n",
        "%cd Doutorado\n",
        "Transfere='FotosTreino882_and_Segm.zip'\n",
        "file_name = zipfile.ZipFile(Transfere, 'r')\n",
        "file_name.extractall()\n",
        "\n",
        "\"\"\"# First step: get the segmented file (photos stored in csv file)\"\"\"\n",
        "\n",
        "labels = [] #name files\n",
        "\n",
        "with zipfile.ZipFile(Transfere, \"r\") as f:\n",
        "  for f in f.namelist():\n",
        "    labels.append(f)\n",
        "\n",
        "Num=len(labels)\n",
        "ANN_dat=pd.read_csv(labels[0])\n",
        "for i in range(1,Num):\n",
        "  df_new=pd.read_csv(labels[i])\n",
        "  df_new = df_new[~df_new['Type'].isin(['G'])] # drop grain row which is not in 882\n",
        "  frames = [ANN_dat, df_new]\n",
        "  ANN_dat= pd.concat(frames, ignore_index=True)"
      ],
      "execution_count": 15,
      "outputs": [
        {
          "output_type": "stream",
          "text": [
            "Cloning into 'Doutorado'...\n",
            "remote: Enumerating objects: 58, done.\u001b[K\n",
            "remote: Counting objects: 100% (58/58), done.\u001b[K\n",
            "remote: Compressing objects: 100% (58/58), done.\u001b[K\n",
            "remote: Total 308 (delta 23), reused 0 (delta 0), pack-reused 250\u001b[K\n",
            "Receiving objects: 100% (308/308), 78.60 MiB | 31.93 MiB/s, done.\n",
            "Resolving deltas: 100% (146/146), done.\n",
            "/content/marquesgabi_fev_2020/marquesgabi_paper_fev_2021/Doutorado/marquesgabi_paper_fev_2021/ANN_Ajuste_mar_2021/Doutorado\n"
          ],
          "name": "stdout"
        }
      ]
    },
    {
      "cell_type": "code",
      "metadata": {
        "id": "mv01JmHfmz-1"
      },
      "source": [
        "# open file to get df \n",
        "# use df and ANN to get grains and no grains\n",
        "# use grains to obtain psd"
      ],
      "execution_count": 16,
      "outputs": []
    },
    {
      "cell_type": "code",
      "metadata": {
        "id": "h4ELNAEunkox",
        "colab": {
          "base_uri": "https://localhost:8080/"
        },
        "outputId": "531e2efa-fd1f-4336-82b8-6f6930009511"
      },
      "source": [
        "!git clone https://github.com/marquesgabi/Doutorado\n",
        "%cd Doutorado"
      ],
      "execution_count": 17,
      "outputs": [
        {
          "output_type": "stream",
          "text": [
            "Cloning into 'Doutorado'...\n",
            "remote: Enumerating objects: 58, done.\u001b[K\n",
            "remote: Counting objects: 100% (58/58), done.\u001b[K\n",
            "remote: Compressing objects: 100% (58/58), done.\u001b[K\n",
            "remote: Total 308 (delta 23), reused 0 (delta 0), pack-reused 250\u001b[K\n",
            "Receiving objects: 100% (308/308), 78.60 MiB | 29.06 MiB/s, done.\n",
            "Resolving deltas: 100% (146/146), done.\n",
            "/content/marquesgabi_fev_2020/marquesgabi_paper_fev_2021/Doutorado/marquesgabi_paper_fev_2021/ANN_Ajuste_mar_2021/Doutorado/Doutorado\n"
          ],
          "name": "stdout"
        }
      ]
    },
    {
      "cell_type": "code",
      "metadata": {
        "id": "QmPJiuSnnxT9",
        "colab": {
          "base_uri": "https://localhost:8080/"
        },
        "outputId": "62627ed1-68b4-4212-a0e4-70f2daca0646"
      },
      "source": [
        "k=0\n",
        "for Item in img_name:\n",
        "  print(k,Item)\n",
        "  k=k+1\n",
        "\n",
        "img=ww[21]\n"
      ],
      "execution_count": 18,
      "outputs": [
        {
          "output_type": "stream",
          "text": [
            "0 Fotos_Grandes-3cdAmostra/Q6-8-4.jpg\n",
            "1 Fotos_Grandes-3cdAmostra/Q6-5-3.jpg\n",
            "2 Fotos_Grandes-3cdAmostra/Q6-7-4.jpg\n",
            "3 Fotos_Grandes-3cdAmostra/Q6-8-2.jpg\n",
            "4 Fotos_Grandes-3cdAmostra/Q6-3-2.jpg\n",
            "5 Fotos_Grandes-3cdAmostra/Q6-7-2.jpg\n",
            "6 Fotos_Grandes-3cdAmostra/Q6-4-4.jpg\n",
            "7 Fotos_Grandes-3cdAmostra/Q6-9-5.jpg\n",
            "8 Fotos_Grandes-3cdAmostra/Q6-2-5.jpg\n",
            "9 Fotos_Grandes-3cdAmostra/Q6-8-3.jpg\n",
            "10 Fotos_Grandes-3cdAmostra/Q6-9-3.jpg\n",
            "11 Fotos_Grandes-3cdAmostra/Q6-1-2.jpg\n",
            "12 Fotos_Grandes-3cdAmostra/Q6-6-3.jpg\n",
            "13 Fotos_Grandes-3cdAmostra/Q6-3-4.jpg\n",
            "14 Fotos_Grandes-3cdAmostra/Q6-1-4.jpg\n",
            "15 Fotos_Grandes-3cdAmostra/Q6-6-2.jpg\n",
            "16 Fotos_Grandes-3cdAmostra/Q6-4-3.jpg\n",
            "17 Fotos_Grandes-3cdAmostra/Q6-7-3.jpg\n",
            "18 Fotos_Grandes-3cdAmostra/Q6-2-2.jpg\n",
            "19 Fotos_Grandes-3cdAmostra/Q6-9-2.jpg\n",
            "20 Fotos_Grandes-3cdAmostra/Q6-1-5.jpg\n",
            "21 Fotos_Grandes-3cdAmostra/Q6-6-5.jpg\n",
            "22 Fotos_Grandes-3cdAmostra/Q6-2-1.jpg\n",
            "23 Fotos_Grandes-3cdAmostra/Q6-5-2.jpg\n",
            "24 Fotos_Grandes-3cdAmostra/Q6-4-1.jpg\n",
            "25 Fotos_Grandes-3cdAmostra/Q6-3-1.jpg\n",
            "26 Fotos_Grandes-3cdAmostra/Q6-5-4.jpg\n"
          ],
          "name": "stdout"
        }
      ]
    },
    {
      "cell_type": "code",
      "metadata": {
        "id": "Fg08LdDEsYLd"
      },
      "source": [
        "df=Segmenta(img)"
      ],
      "execution_count": 19,
      "outputs": []
    },
    {
      "cell_type": "code",
      "metadata": {
        "id": "3O2xFH1Ishc2",
        "colab": {
          "base_uri": "https://localhost:8080/"
        },
        "outputId": "c564d2a1-10d5-4550-e39f-8aec991a3b87"
      },
      "source": [
        "y_pred,confusion_matrix,METRICS=knnGrain(ANN_dat,df.drop('Width',axis=1)) "
      ],
      "execution_count": 20,
      "outputs": [
        {
          "output_type": "stream",
          "text": [
            "Predicted   0   1\n",
            "Actual           \n",
            "0          72   0\n",
            "1           0  75\n"
          ],
          "name": "stdout"
        }
      ]
    },
    {
      "cell_type": "code",
      "metadata": {
        "colab": {
          "base_uri": "https://localhost:8080/"
        },
        "id": "jagtxjcNniO7",
        "outputId": "464ec8d4-b046-4c2d-c5f2-d2ce53ffa6d5"
      },
      "source": [
        "print(METRICS)\n",
        "# grain class is number zero"
      ],
      "execution_count": 21,
      "outputs": [
        {
          "output_type": "stream",
          "text": [
            "              precision    recall  f1-score   support\n",
            "\n",
            "           0       1.00      1.00      1.00        72\n",
            "           1       1.00      1.00      1.00        75\n",
            "\n",
            "    accuracy                           1.00       147\n",
            "   macro avg       1.00      1.00      1.00       147\n",
            "weighted avg       1.00      1.00      1.00       147\n",
            "\n"
          ],
          "name": "stdout"
        }
      ]
    },
    {
      "cell_type": "code",
      "metadata": {
        "id": "6S5a4-cashbB"
      },
      "source": [
        "# print(y_pred.ravel())"
      ],
      "execution_count": 22,
      "outputs": []
    },
    {
      "cell_type": "code",
      "metadata": {
        "id": "iA2XIpGOyipM"
      },
      "source": [
        "Grain=[]; Ind=[]; Size=[]\n",
        "k=0\n",
        "for item in y_pred:\n",
        "  if(item == 1):\n",
        "    Ind.append(k)\n",
        "  k=k+1\n",
        "\n",
        "df = df.reset_index(drop=True)\n",
        "\n",
        "df_size = df.drop(df.index[Ind])\n",
        "\n",
        "Width=np.array(df_size['Width'])\n",
        "\n",
        "# print(Width)\n",
        "\n",
        "# print(df_size.shape)"
      ],
      "execution_count": 23,
      "outputs": []
    },
    {
      "cell_type": "code",
      "metadata": {
        "id": "06lkGMZo9uKV"
      },
      "source": [
        "# pd.set_option('display.max_rows', None)\n",
        "# print(df_size)"
      ],
      "execution_count": 24,
      "outputs": []
    },
    {
      "cell_type": "code",
      "metadata": {
        "id": "EIqWqspygJtw",
        "colab": {
          "base_uri": "https://localhost:8080/",
          "height": 251
        },
        "outputId": "a3db4e62-1a22-4f2c-9306-c61ed739ad44"
      },
      "source": [
        "df.head()"
      ],
      "execution_count": 25,
      "outputs": [
        {
          "output_type": "execute_result",
          "data": {
            "text/html": [
              "<div>\n",
              "<style scoped>\n",
              "    .dataframe tbody tr th:only-of-type {\n",
              "        vertical-align: middle;\n",
              "    }\n",
              "\n",
              "    .dataframe tbody tr th {\n",
              "        vertical-align: top;\n",
              "    }\n",
              "\n",
              "    .dataframe thead th {\n",
              "        text-align: right;\n",
              "    }\n",
              "</style>\n",
              "<table border=\"1\" class=\"dataframe\">\n",
              "  <thead>\n",
              "    <tr style=\"text-align: right;\">\n",
              "      <th></th>\n",
              "      <th>Width</th>\n",
              "      <th>0</th>\n",
              "      <th>1</th>\n",
              "      <th>2</th>\n",
              "      <th>3</th>\n",
              "      <th>4</th>\n",
              "      <th>5</th>\n",
              "      <th>6</th>\n",
              "      <th>7</th>\n",
              "      <th>8</th>\n",
              "      <th>9</th>\n",
              "      <th>10</th>\n",
              "      <th>11</th>\n",
              "      <th>12</th>\n",
              "      <th>13</th>\n",
              "      <th>14</th>\n",
              "      <th>15</th>\n",
              "      <th>16</th>\n",
              "      <th>17</th>\n",
              "      <th>18</th>\n",
              "      <th>19</th>\n",
              "      <th>20</th>\n",
              "      <th>21</th>\n",
              "      <th>22</th>\n",
              "      <th>23</th>\n",
              "      <th>24</th>\n",
              "      <th>25</th>\n",
              "      <th>26</th>\n",
              "      <th>27</th>\n",
              "      <th>28</th>\n",
              "      <th>29</th>\n",
              "      <th>30</th>\n",
              "      <th>31</th>\n",
              "      <th>32</th>\n",
              "      <th>33</th>\n",
              "      <th>34</th>\n",
              "      <th>35</th>\n",
              "      <th>36</th>\n",
              "      <th>37</th>\n",
              "      <th>38</th>\n",
              "      <th>...</th>\n",
              "      <th>744</th>\n",
              "      <th>745</th>\n",
              "      <th>746</th>\n",
              "      <th>747</th>\n",
              "      <th>748</th>\n",
              "      <th>749</th>\n",
              "      <th>750</th>\n",
              "      <th>751</th>\n",
              "      <th>752</th>\n",
              "      <th>753</th>\n",
              "      <th>754</th>\n",
              "      <th>755</th>\n",
              "      <th>756</th>\n",
              "      <th>757</th>\n",
              "      <th>758</th>\n",
              "      <th>759</th>\n",
              "      <th>760</th>\n",
              "      <th>761</th>\n",
              "      <th>762</th>\n",
              "      <th>763</th>\n",
              "      <th>764</th>\n",
              "      <th>765</th>\n",
              "      <th>766</th>\n",
              "      <th>767</th>\n",
              "      <th>768</th>\n",
              "      <th>769</th>\n",
              "      <th>770</th>\n",
              "      <th>771</th>\n",
              "      <th>772</th>\n",
              "      <th>773</th>\n",
              "      <th>774</th>\n",
              "      <th>775</th>\n",
              "      <th>776</th>\n",
              "      <th>777</th>\n",
              "      <th>778</th>\n",
              "      <th>779</th>\n",
              "      <th>780</th>\n",
              "      <th>781</th>\n",
              "      <th>782</th>\n",
              "      <th>783</th>\n",
              "    </tr>\n",
              "  </thead>\n",
              "  <tbody>\n",
              "    <tr>\n",
              "      <th>0</th>\n",
              "      <td>173</td>\n",
              "      <td>52.872757</td>\n",
              "      <td>53.728920</td>\n",
              "      <td>59.325806</td>\n",
              "      <td>60.292156</td>\n",
              "      <td>57.998730</td>\n",
              "      <td>58.109722</td>\n",
              "      <td>57.703796</td>\n",
              "      <td>59.248917</td>\n",
              "      <td>60.037991</td>\n",
              "      <td>59.310196</td>\n",
              "      <td>61.620735</td>\n",
              "      <td>63.581570</td>\n",
              "      <td>66.100334</td>\n",
              "      <td>61.298504</td>\n",
              "      <td>39.878212</td>\n",
              "      <td>57.052258</td>\n",
              "      <td>80.894539</td>\n",
              "      <td>80.362946</td>\n",
              "      <td>77.668617</td>\n",
              "      <td>81.454506</td>\n",
              "      <td>106.891350</td>\n",
              "      <td>127.292618</td>\n",
              "      <td>136.956619</td>\n",
              "      <td>138.957153</td>\n",
              "      <td>142.758255</td>\n",
              "      <td>146.882355</td>\n",
              "      <td>157.592987</td>\n",
              "      <td>158.367096</td>\n",
              "      <td>51.519230</td>\n",
              "      <td>53.854221</td>\n",
              "      <td>57.775196</td>\n",
              "      <td>59.743923</td>\n",
              "      <td>59.326939</td>\n",
              "      <td>60.420525</td>\n",
              "      <td>59.693306</td>\n",
              "      <td>59.160713</td>\n",
              "      <td>61.792603</td>\n",
              "      <td>60.705433</td>\n",
              "      <td>61.656685</td>\n",
              "      <td>...</td>\n",
              "      <td>124.970131</td>\n",
              "      <td>110.674019</td>\n",
              "      <td>127.236084</td>\n",
              "      <td>132.699539</td>\n",
              "      <td>135.938980</td>\n",
              "      <td>134.344009</td>\n",
              "      <td>130.533463</td>\n",
              "      <td>117.243607</td>\n",
              "      <td>113.893715</td>\n",
              "      <td>124.189011</td>\n",
              "      <td>134.999619</td>\n",
              "      <td>143.229431</td>\n",
              "      <td>74.362259</td>\n",
              "      <td>76.995224</td>\n",
              "      <td>74.999298</td>\n",
              "      <td>71.013527</td>\n",
              "      <td>71.608070</td>\n",
              "      <td>80.220123</td>\n",
              "      <td>90.344582</td>\n",
              "      <td>103.699646</td>\n",
              "      <td>105.596336</td>\n",
              "      <td>127.365051</td>\n",
              "      <td>130.560715</td>\n",
              "      <td>130.100494</td>\n",
              "      <td>125.727852</td>\n",
              "      <td>123.737953</td>\n",
              "      <td>125.252899</td>\n",
              "      <td>140.074966</td>\n",
              "      <td>154.203094</td>\n",
              "      <td>115.440178</td>\n",
              "      <td>137.557098</td>\n",
              "      <td>141.606430</td>\n",
              "      <td>137.440536</td>\n",
              "      <td>133.375717</td>\n",
              "      <td>133.240402</td>\n",
              "      <td>134.625809</td>\n",
              "      <td>123.142532</td>\n",
              "      <td>124.429451</td>\n",
              "      <td>134.788193</td>\n",
              "      <td>143.010391</td>\n",
              "    </tr>\n",
              "    <tr>\n",
              "      <th>1</th>\n",
              "      <td>176</td>\n",
              "      <td>139.509308</td>\n",
              "      <td>139.611053</td>\n",
              "      <td>131.406494</td>\n",
              "      <td>114.787186</td>\n",
              "      <td>106.336769</td>\n",
              "      <td>91.242249</td>\n",
              "      <td>77.724693</td>\n",
              "      <td>71.632225</td>\n",
              "      <td>84.448875</td>\n",
              "      <td>99.655472</td>\n",
              "      <td>111.201447</td>\n",
              "      <td>116.169426</td>\n",
              "      <td>115.383781</td>\n",
              "      <td>110.696274</td>\n",
              "      <td>110.380157</td>\n",
              "      <td>107.262390</td>\n",
              "      <td>101.577988</td>\n",
              "      <td>97.741219</td>\n",
              "      <td>92.786148</td>\n",
              "      <td>90.730377</td>\n",
              "      <td>88.736046</td>\n",
              "      <td>89.900307</td>\n",
              "      <td>97.038742</td>\n",
              "      <td>97.563011</td>\n",
              "      <td>63.309399</td>\n",
              "      <td>41.708164</td>\n",
              "      <td>52.791836</td>\n",
              "      <td>79.853821</td>\n",
              "      <td>142.072845</td>\n",
              "      <td>151.587296</td>\n",
              "      <td>156.583176</td>\n",
              "      <td>156.475723</td>\n",
              "      <td>160.348633</td>\n",
              "      <td>165.176132</td>\n",
              "      <td>173.155975</td>\n",
              "      <td>161.857941</td>\n",
              "      <td>115.664772</td>\n",
              "      <td>83.572830</td>\n",
              "      <td>88.168907</td>\n",
              "      <td>...</td>\n",
              "      <td>98.462296</td>\n",
              "      <td>95.159607</td>\n",
              "      <td>92.309402</td>\n",
              "      <td>90.399796</td>\n",
              "      <td>89.755157</td>\n",
              "      <td>90.752579</td>\n",
              "      <td>93.795975</td>\n",
              "      <td>93.345558</td>\n",
              "      <td>89.796486</td>\n",
              "      <td>63.925617</td>\n",
              "      <td>53.693184</td>\n",
              "      <td>52.869835</td>\n",
              "      <td>92.371384</td>\n",
              "      <td>103.153923</td>\n",
              "      <td>113.208672</td>\n",
              "      <td>118.799583</td>\n",
              "      <td>127.710739</td>\n",
              "      <td>141.813019</td>\n",
              "      <td>148.380676</td>\n",
              "      <td>159.811462</td>\n",
              "      <td>208.680252</td>\n",
              "      <td>243.037186</td>\n",
              "      <td>148.421997</td>\n",
              "      <td>110.120346</td>\n",
              "      <td>114.518600</td>\n",
              "      <td>112.830048</td>\n",
              "      <td>106.688530</td>\n",
              "      <td>100.241730</td>\n",
              "      <td>96.701447</td>\n",
              "      <td>96.632225</td>\n",
              "      <td>92.920456</td>\n",
              "      <td>89.204025</td>\n",
              "      <td>91.578506</td>\n",
              "      <td>93.764465</td>\n",
              "      <td>97.454536</td>\n",
              "      <td>103.205055</td>\n",
              "      <td>87.322830</td>\n",
              "      <td>61.407539</td>\n",
              "      <td>51.351242</td>\n",
              "      <td>55.185951</td>\n",
              "    </tr>\n",
              "    <tr>\n",
              "      <th>2</th>\n",
              "      <td>160</td>\n",
              "      <td>73.736252</td>\n",
              "      <td>75.952499</td>\n",
              "      <td>82.419365</td>\n",
              "      <td>87.552498</td>\n",
              "      <td>87.341255</td>\n",
              "      <td>73.099998</td>\n",
              "      <td>62.148746</td>\n",
              "      <td>64.527496</td>\n",
              "      <td>63.084999</td>\n",
              "      <td>59.932495</td>\n",
              "      <td>58.886250</td>\n",
              "      <td>59.403751</td>\n",
              "      <td>59.584999</td>\n",
              "      <td>60.805622</td>\n",
              "      <td>62.812500</td>\n",
              "      <td>61.451244</td>\n",
              "      <td>59.957497</td>\n",
              "      <td>61.577496</td>\n",
              "      <td>63.484997</td>\n",
              "      <td>64.253754</td>\n",
              "      <td>66.596245</td>\n",
              "      <td>69.770615</td>\n",
              "      <td>70.141869</td>\n",
              "      <td>57.924377</td>\n",
              "      <td>57.280628</td>\n",
              "      <td>77.406250</td>\n",
              "      <td>84.106873</td>\n",
              "      <td>90.248123</td>\n",
              "      <td>71.189369</td>\n",
              "      <td>75.365623</td>\n",
              "      <td>81.113747</td>\n",
              "      <td>87.931877</td>\n",
              "      <td>90.563744</td>\n",
              "      <td>73.285629</td>\n",
              "      <td>62.135624</td>\n",
              "      <td>60.123116</td>\n",
              "      <td>61.826248</td>\n",
              "      <td>67.082497</td>\n",
              "      <td>61.628750</td>\n",
              "      <td>...</td>\n",
              "      <td>120.720001</td>\n",
              "      <td>123.866249</td>\n",
              "      <td>126.927505</td>\n",
              "      <td>129.731247</td>\n",
              "      <td>128.343735</td>\n",
              "      <td>96.376251</td>\n",
              "      <td>97.352493</td>\n",
              "      <td>93.064987</td>\n",
              "      <td>89.998123</td>\n",
              "      <td>87.064377</td>\n",
              "      <td>80.305618</td>\n",
              "      <td>73.763123</td>\n",
              "      <td>194.708740</td>\n",
              "      <td>170.579987</td>\n",
              "      <td>164.482498</td>\n",
              "      <td>145.838120</td>\n",
              "      <td>156.198746</td>\n",
              "      <td>146.513748</td>\n",
              "      <td>139.958740</td>\n",
              "      <td>147.318115</td>\n",
              "      <td>146.565613</td>\n",
              "      <td>123.839371</td>\n",
              "      <td>114.237503</td>\n",
              "      <td>117.190002</td>\n",
              "      <td>115.821251</td>\n",
              "      <td>116.174988</td>\n",
              "      <td>115.697495</td>\n",
              "      <td>116.161247</td>\n",
              "      <td>117.353745</td>\n",
              "      <td>121.881241</td>\n",
              "      <td>126.333748</td>\n",
              "      <td>130.474365</td>\n",
              "      <td>121.639992</td>\n",
              "      <td>78.961250</td>\n",
              "      <td>95.896866</td>\n",
              "      <td>92.866241</td>\n",
              "      <td>88.253754</td>\n",
              "      <td>84.899376</td>\n",
              "      <td>83.604370</td>\n",
              "      <td>78.401871</td>\n",
              "    </tr>\n",
              "    <tr>\n",
              "      <th>3</th>\n",
              "      <td>170</td>\n",
              "      <td>0.000000</td>\n",
              "      <td>0.068097</td>\n",
              "      <td>0.794602</td>\n",
              "      <td>1.000000</td>\n",
              "      <td>1.000000</td>\n",
              "      <td>1.000000</td>\n",
              "      <td>1.000000</td>\n",
              "      <td>1.284014</td>\n",
              "      <td>1.976747</td>\n",
              "      <td>2.000000</td>\n",
              "      <td>2.021315</td>\n",
              "      <td>2.005813</td>\n",
              "      <td>2.213011</td>\n",
              "      <td>2.118339</td>\n",
              "      <td>1.961107</td>\n",
              "      <td>1.000000</td>\n",
              "      <td>1.000000</td>\n",
              "      <td>0.930242</td>\n",
              "      <td>0.189343</td>\n",
              "      <td>0.000000</td>\n",
              "      <td>0.000000</td>\n",
              "      <td>0.000000</td>\n",
              "      <td>0.000000</td>\n",
              "      <td>0.000000</td>\n",
              "      <td>0.000000</td>\n",
              "      <td>0.000000</td>\n",
              "      <td>0.000000</td>\n",
              "      <td>0.000000</td>\n",
              "      <td>0.025467</td>\n",
              "      <td>0.825467</td>\n",
              "      <td>1.000000</td>\n",
              "      <td>1.000000</td>\n",
              "      <td>1.000000</td>\n",
              "      <td>1.048166</td>\n",
              "      <td>1.517647</td>\n",
              "      <td>1.721938</td>\n",
              "      <td>2.000000</td>\n",
              "      <td>1.988374</td>\n",
              "      <td>1.992249</td>\n",
              "      <td>...</td>\n",
              "      <td>112.879738</td>\n",
              "      <td>114.135368</td>\n",
              "      <td>115.414955</td>\n",
              "      <td>117.901871</td>\n",
              "      <td>120.732330</td>\n",
              "      <td>127.991013</td>\n",
              "      <td>127.894272</td>\n",
              "      <td>108.735786</td>\n",
              "      <td>96.726654</td>\n",
              "      <td>97.653702</td>\n",
              "      <td>98.546173</td>\n",
              "      <td>101.540207</td>\n",
              "      <td>57.589626</td>\n",
              "      <td>57.248310</td>\n",
              "      <td>102.098145</td>\n",
              "      <td>132.421722</td>\n",
              "      <td>132.011078</td>\n",
              "      <td>133.613297</td>\n",
              "      <td>140.680695</td>\n",
              "      <td>150.808029</td>\n",
              "      <td>169.579514</td>\n",
              "      <td>189.728729</td>\n",
              "      <td>203.035431</td>\n",
              "      <td>202.107544</td>\n",
              "      <td>122.844589</td>\n",
              "      <td>112.758217</td>\n",
              "      <td>115.283333</td>\n",
              "      <td>118.143394</td>\n",
              "      <td>120.913498</td>\n",
              "      <td>121.146019</td>\n",
              "      <td>118.872116</td>\n",
              "      <td>118.763603</td>\n",
              "      <td>121.928177</td>\n",
              "      <td>125.199043</td>\n",
              "      <td>120.700905</td>\n",
              "      <td>100.666023</td>\n",
              "      <td>100.127342</td>\n",
              "      <td>104.532875</td>\n",
              "      <td>113.156548</td>\n",
              "      <td>115.419250</td>\n",
              "    </tr>\n",
              "    <tr>\n",
              "      <th>4</th>\n",
              "      <td>184</td>\n",
              "      <td>101.189026</td>\n",
              "      <td>103.021736</td>\n",
              "      <td>102.365784</td>\n",
              "      <td>106.360580</td>\n",
              "      <td>118.102547</td>\n",
              "      <td>106.023621</td>\n",
              "      <td>106.226837</td>\n",
              "      <td>120.102066</td>\n",
              "      <td>133.282135</td>\n",
              "      <td>143.271729</td>\n",
              "      <td>142.543930</td>\n",
              "      <td>66.694702</td>\n",
              "      <td>28.252832</td>\n",
              "      <td>36.896500</td>\n",
              "      <td>58.706520</td>\n",
              "      <td>77.171066</td>\n",
              "      <td>82.917763</td>\n",
              "      <td>84.481094</td>\n",
              "      <td>85.341682</td>\n",
              "      <td>86.325607</td>\n",
              "      <td>85.446594</td>\n",
              "      <td>84.308601</td>\n",
              "      <td>73.397438</td>\n",
              "      <td>46.899338</td>\n",
              "      <td>17.938562</td>\n",
              "      <td>46.032604</td>\n",
              "      <td>76.590263</td>\n",
              "      <td>76.493851</td>\n",
              "      <td>107.200836</td>\n",
              "      <td>106.296295</td>\n",
              "      <td>102.959358</td>\n",
              "      <td>96.704155</td>\n",
              "      <td>97.674370</td>\n",
              "      <td>102.232513</td>\n",
              "      <td>103.155472</td>\n",
              "      <td>112.957939</td>\n",
              "      <td>124.363892</td>\n",
              "      <td>133.900284</td>\n",
              "      <td>137.630890</td>\n",
              "      <td>...</td>\n",
              "      <td>147.199417</td>\n",
              "      <td>145.290161</td>\n",
              "      <td>132.570892</td>\n",
              "      <td>128.023148</td>\n",
              "      <td>120.384201</td>\n",
              "      <td>119.986763</td>\n",
              "      <td>118.848282</td>\n",
              "      <td>113.071823</td>\n",
              "      <td>113.827026</td>\n",
              "      <td>115.311417</td>\n",
              "      <td>110.478722</td>\n",
              "      <td>82.386093</td>\n",
              "      <td>55.026459</td>\n",
              "      <td>69.629013</td>\n",
              "      <td>76.974945</td>\n",
              "      <td>81.310493</td>\n",
              "      <td>84.440445</td>\n",
              "      <td>79.533554</td>\n",
              "      <td>67.932411</td>\n",
              "      <td>60.823246</td>\n",
              "      <td>69.971169</td>\n",
              "      <td>80.400284</td>\n",
              "      <td>108.086945</td>\n",
              "      <td>120.008499</td>\n",
              "      <td>130.084106</td>\n",
              "      <td>142.217377</td>\n",
              "      <td>147.633270</td>\n",
              "      <td>163.128998</td>\n",
              "      <td>182.540146</td>\n",
              "      <td>150.047241</td>\n",
              "      <td>142.721161</td>\n",
              "      <td>136.723999</td>\n",
              "      <td>133.146500</td>\n",
              "      <td>126.371445</td>\n",
              "      <td>119.965973</td>\n",
              "      <td>119.186661</td>\n",
              "      <td>129.820892</td>\n",
              "      <td>145.774094</td>\n",
              "      <td>150.566620</td>\n",
              "      <td>157.042511</td>\n",
              "    </tr>\n",
              "  </tbody>\n",
              "</table>\n",
              "<p>5 rows × 785 columns</p>\n",
              "</div>"
            ],
            "text/plain": [
              "   Width           0           1  ...         781         782         783\n",
              "0    173   52.872757   53.728920  ...  124.429451  134.788193  143.010391\n",
              "1    176  139.509308  139.611053  ...   61.407539   51.351242   55.185951\n",
              "2    160   73.736252   75.952499  ...   84.899376   83.604370   78.401871\n",
              "3    170    0.000000    0.068097  ...  104.532875  113.156548  115.419250\n",
              "4    184  101.189026  103.021736  ...  145.774094  150.566620  157.042511\n",
              "\n",
              "[5 rows x 785 columns]"
            ]
          },
          "metadata": {
            "tags": []
          },
          "execution_count": 25
        }
      ]
    },
    {
      "cell_type": "code",
      "metadata": {
        "id": "ciUjF5tmdqLC",
        "colab": {
          "base_uri": "https://localhost:8080/",
          "height": 283
        },
        "outputId": "f3c5e8c4-3d71-4df1-bb02-f1d9f69e3279"
      },
      "source": [
        "Size=28\n",
        "qual_img=23\n",
        "L = Width[qual_img]\n",
        "data=np.array(df_size.drop('Width',axis=1).iloc[qual_img]).reshape(Size,Size)\n",
        "img = Image.fromarray(data.astype('uint8'), mode='L')\n",
        "img=np.float32(img)\n",
        "img28=cv2.resize(img,(Size,Size), interpolation = cv2.INTER_AREA)\n",
        "Foto=np.array(img28).reshape(28,28)\n",
        "plt.imshow(Foto, cmap = \"gray\")"
      ],
      "execution_count": 30,
      "outputs": [
        {
          "output_type": "execute_result",
          "data": {
            "text/plain": [
              "<matplotlib.image.AxesImage at 0x7f30de2d0610>"
            ]
          },
          "metadata": {
            "tags": []
          },
          "execution_count": 30
        },
        {
          "output_type": "display_data",
          "data": {
            "image/png": "[encoded data removed]",
            "text/plain": [
              "<Figure size 432x288 with 1 Axes>"
            ]
          },
          "metadata": {
            "tags": [],
            "needs_background": "light"
          }
        }
      ]
    }
  ]
}