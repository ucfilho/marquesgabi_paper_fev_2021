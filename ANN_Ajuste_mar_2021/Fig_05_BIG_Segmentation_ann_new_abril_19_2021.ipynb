{
  "nbformat": 4,
  "nbformat_minor": 0,
  "metadata": {
    "colab": {
      "name": "Fig_05_BIG_Segmentation_ann_new_abril_19_2021.ipynb",
      "provenance": [],
      "collapsed_sections": [],
      "include_colab_link": true
    },
    "kernelspec": {
      "name": "python3",
      "display_name": "Python 3"
    }
  },
  "cells": [
    {
      "cell_type": "markdown",
      "metadata": {
        "id": "view-in-github",
        "colab_type": "text"
      },
      "source": [
        "<a href=\"https://colab.research.google.com/github/ucfilho/marquesgabi_paper_fev_2021/blob/main/ANN_Ajuste_mar_2021/Fig_05_BIG_Segmentation_ann_new_abril_19_2021.ipynb\" target=\"_parent\"><img src=\"https://colab.research.google.com/assets/colab-badge.svg\" alt=\"Open In Colab\"/></a>"
      ]
    },
    {
      "cell_type": "code",
      "metadata": {
        "id": "Sog7Z9pyhUD_",
        "colab": {
          "base_uri": "https://localhost:8080/"
        },
        "outputId": "81c299e3-ed0f-4eb0-d047-c0cd04eb54f3"
      },
      "source": [
        "import matplotlib.pyplot as plt\n",
        "import numpy as np\n",
        "import cv2\n",
        "import zipfile\n",
        "#import random\n",
        "from random import randint\n",
        "from PIL import Image\n",
        "import re\n",
        "from sklearn.model_selection import train_test_split\n",
        "#import scikit-image\n",
        "import skimage\n",
        "import pandas as pd\n",
        "from sklearn.externals import joblib"
      ],
      "execution_count": 1,
      "outputs": [
        {
          "output_type": "stream",
          "text": [
            "/usr/local/lib/python3.7/dist-packages/sklearn/externals/joblib/__init__.py:15: FutureWarning: sklearn.externals.joblib is deprecated in 0.21 and will be removed in 0.23. Please import this functionality directly from joblib, which can be installed with: pip install joblib. If this warning is raised when loading pickled models, you may need to re-serialize those models with scikit-learn 0.21+.\n",
            "  warnings.warn(msg, category=FutureWarning)\n"
          ],
          "name": "stderr"
        }
      ]
    },
    {
      "cell_type": "code",
      "metadata": {
        "id": "uZEvJvfoibE4",
        "colab": {
          "base_uri": "https://localhost:8080/"
        },
        "outputId": "3adfd5fc-5a52-4261-b85a-86a2ab35f09f"
      },
      "source": [
        "!pip install mahotas"
      ],
      "execution_count": 2,
      "outputs": [
        {
          "output_type": "stream",
          "text": [
            "Requirement already satisfied: mahotas in /usr/local/lib/python3.7/dist-packages (1.4.11)\n",
            "Requirement already satisfied: numpy in /usr/local/lib/python3.7/dist-packages (from mahotas) (1.19.5)\n"
          ],
          "name": "stdout"
        }
      ]
    },
    {
      "cell_type": "code",
      "metadata": {
        "id": "nf_a6PJ1iUnT"
      },
      "source": [
        "import mahotas.features.texture as mht\n",
        "import mahotas.features"
      ],
      "execution_count": 3,
      "outputs": []
    },
    {
      "cell_type": "code",
      "metadata": {
        "id": "_VcTdaNVh9EE",
        "colab": {
          "base_uri": "https://localhost:8080/"
        },
        "outputId": "eca5deae-f13a-46a5-e98d-d5084341ad12"
      },
      "source": [
        "!git clone https://github.com/ucfilho/marquesgabi_fev_2020 #clonar do Github\n",
        "%cd marquesgabi_fev_2020\n",
        "import Go2BlackWhite\n",
        "import Go2Mahotas"
      ],
      "execution_count": 4,
      "outputs": [
        {
          "output_type": "stream",
          "text": [
            "fatal: destination path 'marquesgabi_fev_2020' already exists and is not an empty directory.\n",
            "/content/marquesgabi_fev_2020\n"
          ],
          "name": "stdout"
        }
      ]
    },
    {
      "cell_type": "code",
      "metadata": {
        "id": "1v7SRrc8mH2N",
        "colab": {
          "base_uri": "https://localhost:8080/"
        },
        "outputId": "bbf72b34-7c6d-418e-bfd3-687946a097fb"
      },
      "source": [
        "!git clone https://github.com/marquesgabi/Doutorado\n",
        "%cd Doutorado\n",
        "\n",
        "Transfere='Fotos_Grandes_3cdAmostra.zip'\n",
        "file_name = zipfile.ZipFile(Transfere, 'r')\n",
        "file_name.extractall()"
      ],
      "execution_count": 5,
      "outputs": [
        {
          "output_type": "stream",
          "text": [
            "fatal: destination path 'Doutorado' already exists and is not an empty directory.\n",
            "/content/marquesgabi_fev_2020/Doutorado\n"
          ],
          "name": "stdout"
        }
      ]
    },
    {
      "cell_type": "code",
      "metadata": {
        "id": "0kA4IWSmasoD"
      },
      "source": [
        "Size=1200 # tamanho da foto\n",
        "ww,img_name=Go2BlackWhite.BlackWhite(Transfere,Size) #Pegamos a primeira foto Grande\n",
        "img=ww[0] \n",
        "# this is the big image we want to segment \n",
        "# ww[0], change it if you want to segment another picture"
      ],
      "execution_count": 6,
      "outputs": []
    },
    {
      "cell_type": "code",
      "metadata": {
        "id": "tHgqAnaFyCjp",
        "colab": {
          "base_uri": "https://localhost:8080/"
        },
        "outputId": "ca50fa67-3175-4274-ce44-b0993b7d6ddf"
      },
      "source": [
        "!git clone https://github.com/ucfilho/MarquesGabi_Routines\n",
        "%cd MarquesGabi_Routines"
      ],
      "execution_count": 7,
      "outputs": [
        {
          "output_type": "stream",
          "text": [
            "fatal: destination path 'MarquesGabi_Routines' already exists and is not an empty directory.\n",
            "/content/marquesgabi_fev_2020/Doutorado/MarquesGabi_Routines\n"
          ],
          "name": "stdout"
        }
      ]
    },
    {
      "cell_type": "code",
      "metadata": {
        "id": "qc4rFvzkyWCi"
      },
      "source": [
        "from segment_filter_not_conclude import Segmenta  # got image provided segmented"
      ],
      "execution_count": 8,
      "outputs": []
    },
    {
      "cell_type": "code",
      "metadata": {
        "id": "SnTtH3KDP863"
      },
      "source": [
        "df=Segmenta(img)\n"
      ],
      "execution_count": 9,
      "outputs": []
    },
    {
      "cell_type": "code",
      "metadata": {
        "id": "YN5MN5a_v4np",
        "colab": {
          "base_uri": "https://localhost:8080/"
        },
        "outputId": "d7ed30e2-f3a2-4d6f-bded-9143aeb6e677"
      },
      "source": [
        "print(df)"
      ],
      "execution_count": 10,
      "outputs": [
        {
          "output_type": "stream",
          "text": [
            "    Width           0           1  ...         781         782         783\n",
            "0     123   27.739044   27.918039  ...   46.047195   36.639637   10.267500\n",
            "1     192   34.341576   42.615879  ...   70.638016   69.814667   66.215706\n",
            "2     128   88.305664   64.293945  ...   14.578125    5.501953    0.357422\n",
            "3     109   56.725784   61.233143  ...   68.439774   69.126419   68.582863\n",
            "4     156  105.980278  109.698891  ...   92.598953   95.643654   99.502304\n",
            "5     180   54.034077   49.392597  ...   89.325439   90.760010   93.530869\n",
            "6     151   95.190781   94.920097  ...   37.152714   41.278278   60.098679\n",
            "7     155   80.867142   82.379066  ...    0.000000    0.000000    0.000000\n",
            "8     173  116.043037  115.965050  ...   57.682182   58.162888   56.649899\n",
            "9     190   56.436005   56.431793  ...   71.992462   63.620163   57.839996\n",
            "10    148   93.847343   95.349892  ...    7.861213    8.775019    8.391527\n",
            "11    146   57.842178   57.309250  ...   83.422218   95.696190  100.771805\n",
            "12    141  119.542374  115.325584  ...   56.195763   44.842964   32.774361\n",
            "13    177   56.760056   51.957611  ...   39.018955   35.876408   21.647800\n",
            "14    123   79.410210   76.675064  ...    0.000000    0.000000    0.000000\n",
            "15    142   83.496529   85.634995  ...   45.822060   39.582027   36.855583\n",
            "16    132   56.311298   54.314053  ...  109.110199   91.545456   90.534447\n",
            "17    161   51.744801   57.763702  ...   80.404541   92.172028   92.327034\n",
            "18    200  115.305595  122.189201  ...  117.287994  122.289207  100.082001\n",
            "19    109   86.973312   84.392891  ...   42.083412   42.904221   41.410740\n",
            "20    194   76.461365   84.847153  ...    0.989266    0.964289    0.544691\n",
            "21    170   42.346161   25.303671  ...   84.866028   83.780487   81.634048\n",
            "22    103   47.257797   55.421814  ...   40.315392   46.200771   50.874725\n",
            "23    135   86.640327   88.477470  ...    8.715555    8.655638    8.388312\n",
            "24    132   20.923784   35.490356  ...    0.242424    0.000000    0.000000\n",
            "25    150  108.531555  110.170662  ...  136.458847  148.900803  161.654221\n",
            "26    190   43.634235   16.603102  ...  104.406418   98.736839   98.475777\n",
            "27    191  107.074890   94.130348  ...    7.993723    4.548889    1.095091\n",
            "28    150   57.970131   55.299194  ...  112.892441  104.458488   92.804443\n",
            "29    147    3.571429    2.809524  ...   86.351486   87.451248   87.492065\n",
            "30    182   94.289948   96.124268  ...   93.355049   91.278107   86.650894\n",
            "31    191   36.185493   46.261482  ...   83.437775   83.634659   79.423264\n",
            "32    132  100.289253  108.831039  ...   46.709827   47.367310   46.807163\n",
            "33    156    1.428008    1.803419  ...   66.372787   50.606842   48.010521\n",
            "34    106   50.318977   48.133858  ...   84.841583   85.480247   87.902466\n",
            "35    190   35.027699   39.891743  ...   45.709583   46.025822   48.299942\n",
            "36    104   55.767754   56.804737  ...    0.000000    0.000000    0.000000\n",
            "37    101  101.506821  104.318306  ...  115.537796  112.474663  111.462021\n",
            "38    192  103.464409   97.950516  ...    4.448350    4.208333    4.484808\n",
            "39    130  136.054199  160.350998  ...   93.341782   88.098709   69.810417\n",
            "40    183  107.167999  104.931320  ...   59.277287   47.668430   54.828220\n",
            "41    123   70.301674   71.626289  ...   75.888237   75.570030   75.856903\n",
            "42    163   39.439121   44.807404  ...    3.692725    0.759155    0.072716\n",
            "43    134   83.995773   86.200272  ...   65.681450   68.285370   68.495651\n",
            "44    180   48.284943   49.015316  ...  103.829643  110.090881  112.979271\n",
            "45    134  124.746490  115.715973  ...    0.000000    0.000000    0.000000\n",
            "46    102  106.054985  100.730881  ...   44.302578   47.301041   50.299118\n",
            "47    192    1.933159    2.009114  ...   45.640190   68.518227   68.470917\n",
            "48    159   40.647682   41.839878  ...    9.308097    4.507377    0.440687\n",
            "49    132   76.440781   12.442609  ...   83.304878   84.252533   84.440781\n",
            "\n",
            "[50 rows x 785 columns]\n"
          ],
          "name": "stdout"
        }
      ]
    },
    {
      "cell_type": "code",
      "metadata": {
        "id": "xzpQ1Pz0fX5L",
        "colab": {
          "base_uri": "https://localhost:8080/"
        },
        "outputId": "c532650c-5a23-438a-a103-74b30e9fea1c"
      },
      "source": [
        "!git clone https://github.com/ucfilho/MarquesGabi_Routines\n",
        "%cd MarquesGabi_Routines\n",
        "# filename = 'model_ANN.pkl'\n",
        "filename = 'model_ANN_new.pkl'\n",
        "model = joblib.load(filename)"
      ],
      "execution_count": 11,
      "outputs": [
        {
          "output_type": "stream",
          "text": [
            "fatal: destination path 'MarquesGabi_Routines' already exists and is not an empty directory.\n",
            "/content/marquesgabi_fev_2020/Doutorado/MarquesGabi_Routines/MarquesGabi_Routines\n"
          ],
          "name": "stdout"
        }
      ]
    },
    {
      "cell_type": "code",
      "metadata": {
        "id": "QISvYcJBgWbE",
        "colab": {
          "base_uri": "https://localhost:8080/"
        },
        "outputId": "23649d36-dbd9-4770-f314-62661a4923c1"
      },
      "source": [
        "cont = 0; num =25\n",
        "img_graos = []\n",
        "img=ww[0] \n",
        "while( cont < num):\n",
        "  df=Segmenta(img)\n",
        "  del df['Width']\n",
        "  result = np.array(df)/255\n",
        "  prediction = model.predict(result)\n",
        "  loc_grao =[];k=0\n",
        "  for i in prediction:\n",
        "    if( i == 0):\n",
        "      img_graos.append(df.iloc[k,:])\n",
        "      cont = cont + 1\n",
        "    k = k +1\n",
        "img_graos = pd.DataFrame(img_graos)\n",
        "print(img_graos)"
      ],
      "execution_count": 12,
      "outputs": [
        {
          "output_type": "stream",
          "text": [
            "           0           1           2    ...         781         782         783\n",
            "10   52.153614   55.836983   56.462997  ...    0.063131    0.000000    0.000000\n",
            "11   58.899529   55.064392   80.251717  ...   83.794121   84.057159   86.121918\n",
            "20   96.367348  100.102036   99.040817  ...   89.448975   78.795914   71.265305\n",
            "34  104.082397   98.405205  103.228394  ...    3.145600    1.654800    1.106000\n",
            "40   45.214096   44.391434   43.818939  ...   79.785614   70.985687   56.098129\n",
            "18   95.080406   93.077591   89.569199  ...   74.548004   76.195999   77.588394\n",
            "22   91.314720   94.006531   96.937073  ...   40.911251   69.399040   91.160248\n",
            "23    0.004309    0.000000    0.000000  ...   50.701141   50.680824   52.625427\n",
            "41    2.914930    1.570312    0.843316  ...   68.068565   33.587669   57.006508\n",
            "1    80.192047   78.666924   78.223969  ...   78.484238   74.669159   71.571884\n",
            "11   85.194443  101.166664  102.888893  ...   11.000000    7.361111    6.750000\n",
            "2   117.720993  112.253777  111.037872  ...   91.412292   92.144226   98.310799\n",
            "36   66.638885   82.197044   85.996956  ...   45.917965   45.794270   46.935326\n",
            "0    93.623459   93.290695   93.172119  ...   80.556732   82.484947   84.017212\n",
            "10   77.503754   82.470673   85.707047  ...  101.613434  107.275764  111.026443\n",
            "13   34.993137   43.787453   61.982964  ...  105.067459   99.220581  103.342720\n",
            "43    3.051821    1.938330    1.868597  ...   35.537048   32.228172   32.407829\n",
            "45    0.893663    1.189236    1.765625  ...  100.922302   93.291664   68.966141\n",
            "0     0.659664    0.717004    1.144405  ...   83.150887   85.237686   89.055092\n",
            "2    82.886909   59.657936   55.423344  ...  103.259148   97.882599  102.383842\n",
            "10  103.921494  103.586678   99.563461  ...    0.000000    0.000000    0.000000\n",
            "33   75.014000   76.427597   78.612389  ...   97.364403   94.874001   73.657600\n",
            "35   18.615387   19.500002   20.106510  ...  110.881668  115.400894  116.392029\n",
            "23   95.663963   96.144531   95.863113  ...   94.515503  100.203407  102.520561\n",
            "1    21.387203   33.357590   37.333004  ...    8.313900    6.224470    2.789609\n",
            "5    46.687500    5.625000    8.437500  ...    0.000000    0.000000    0.000000\n",
            "21   92.279816   99.747955  103.489151  ...   63.786041   62.255608   64.917053\n",
            "38   11.518356   12.451106   34.241707  ...  102.342339  106.023972  108.738258\n",
            "\n",
            "[28 rows x 784 columns]\n"
          ],
          "name": "stdout"
        }
      ]
    },
    {
      "cell_type": "code",
      "metadata": {
        "colab": {
          "base_uri": "https://localhost:8080/"
        },
        "id": "hjMm5kklvYKV",
        "outputId": "25521e5d-4e46-41f7-bb57-9e75384bdf86"
      },
      "source": [
        "np.sum(np.array(img_graos.iloc[[1],:]))/(28*28)"
      ],
      "execution_count": 13,
      "outputs": [
        {
          "output_type": "execute_result",
          "data": {
            "text/plain": [
              "112.21024558495502"
            ]
          },
          "metadata": {
            "tags": []
          },
          "execution_count": 13
        }
      ]
    },
    {
      "cell_type": "code",
      "metadata": {
        "colab": {
          "base_uri": "https://localhost:8080/",
          "height": 269
        },
        "id": "4FO1yItczAZh",
        "outputId": "be20813a-d8e6-4856-d5ef-388c545e95df"
      },
      "source": [
        "Size = 28\n",
        "data=np.array(img_graos.iloc[[4],:]).reshape(Size,Size)\n",
        "img = Image.fromarray(data.astype('uint8'), mode='L')\n",
        "img=np.float32(img)\n",
        "\n",
        "img28=cv2.resize(img,(Size,Size), interpolation = cv2.INTER_AREA)\n",
        "Foto=np.array(img28).reshape(28,28)\n",
        "plt.xticks([])\n",
        "plt.yticks([])\n",
        "plt.grid(False)\n",
        "plt.imshow(Foto, cmap = \"gray\")"
      ],
      "execution_count": 14,
      "outputs": [
        {
          "output_type": "execute_result",
          "data": {
            "text/plain": [
              "<matplotlib.image.AxesImage at 0x7f8392b3e910>"
            ]
          },
          "metadata": {
            "tags": []
          },
          "execution_count": 14
        },
        {
          "output_type": "display_data",
          "data": {
            "image/png": "[encoded data removed]",
            "text/plain": [
              "<Figure size 432x288 with 1 Axes>"
            ]
          },
          "metadata": {
            "tags": []
          }
        }
      ]
    },
    {
      "cell_type": "code",
      "metadata": {
        "colab": {
          "base_uri": "https://localhost:8080/"
        },
        "id": "RhBIKFLBwwYj",
        "outputId": "3d877d84-28aa-43ab-81cf-b271d6ed67d0"
      },
      "source": [
        "np.sum(np.array(img_graos.iloc[[3],:]))/(28*28)"
      ],
      "execution_count": 15,
      "outputs": [
        {
          "output_type": "execute_result",
          "data": {
            "text/plain": [
              "35.99177515442003"
            ]
          },
          "metadata": {
            "tags": []
          },
          "execution_count": 15
        }
      ]
    },
    {
      "cell_type": "code",
      "metadata": {
        "colab": {
          "base_uri": "https://localhost:8080/",
          "height": 126
        },
        "id": "sS0qqr7RwKax",
        "outputId": "7a957d94-fcdd-4cb0-e3b5-ad47a60d522e"
      },
      "source": [
        "img_graos.iloc[[3],:]"
      ],
      "execution_count": 16,
      "outputs": [
        {
          "output_type": "execute_result",
          "data": {
            "text/html": [
              "<div>\n",
              "<style scoped>\n",
              "    .dataframe tbody tr th:only-of-type {\n",
              "        vertical-align: middle;\n",
              "    }\n",
              "\n",
              "    .dataframe tbody tr th {\n",
              "        vertical-align: top;\n",
              "    }\n",
              "\n",
              "    .dataframe thead th {\n",
              "        text-align: right;\n",
              "    }\n",
              "</style>\n",
              "<table border=\"1\" class=\"dataframe\">\n",
              "  <thead>\n",
              "    <tr style=\"text-align: right;\">\n",
              "      <th></th>\n",
              "      <th>0</th>\n",
              "      <th>1</th>\n",
              "      <th>2</th>\n",
              "      <th>3</th>\n",
              "      <th>4</th>\n",
              "      <th>5</th>\n",
              "      <th>6</th>\n",
              "      <th>7</th>\n",
              "      <th>8</th>\n",
              "      <th>9</th>\n",
              "      <th>10</th>\n",
              "      <th>11</th>\n",
              "      <th>12</th>\n",
              "      <th>13</th>\n",
              "      <th>14</th>\n",
              "      <th>15</th>\n",
              "      <th>16</th>\n",
              "      <th>17</th>\n",
              "      <th>18</th>\n",
              "      <th>19</th>\n",
              "      <th>20</th>\n",
              "      <th>21</th>\n",
              "      <th>22</th>\n",
              "      <th>23</th>\n",
              "      <th>24</th>\n",
              "      <th>25</th>\n",
              "      <th>26</th>\n",
              "      <th>27</th>\n",
              "      <th>28</th>\n",
              "      <th>29</th>\n",
              "      <th>30</th>\n",
              "      <th>31</th>\n",
              "      <th>32</th>\n",
              "      <th>33</th>\n",
              "      <th>34</th>\n",
              "      <th>35</th>\n",
              "      <th>36</th>\n",
              "      <th>37</th>\n",
              "      <th>38</th>\n",
              "      <th>39</th>\n",
              "      <th>...</th>\n",
              "      <th>744</th>\n",
              "      <th>745</th>\n",
              "      <th>746</th>\n",
              "      <th>747</th>\n",
              "      <th>748</th>\n",
              "      <th>749</th>\n",
              "      <th>750</th>\n",
              "      <th>751</th>\n",
              "      <th>752</th>\n",
              "      <th>753</th>\n",
              "      <th>754</th>\n",
              "      <th>755</th>\n",
              "      <th>756</th>\n",
              "      <th>757</th>\n",
              "      <th>758</th>\n",
              "      <th>759</th>\n",
              "      <th>760</th>\n",
              "      <th>761</th>\n",
              "      <th>762</th>\n",
              "      <th>763</th>\n",
              "      <th>764</th>\n",
              "      <th>765</th>\n",
              "      <th>766</th>\n",
              "      <th>767</th>\n",
              "      <th>768</th>\n",
              "      <th>769</th>\n",
              "      <th>770</th>\n",
              "      <th>771</th>\n",
              "      <th>772</th>\n",
              "      <th>773</th>\n",
              "      <th>774</th>\n",
              "      <th>775</th>\n",
              "      <th>776</th>\n",
              "      <th>777</th>\n",
              "      <th>778</th>\n",
              "      <th>779</th>\n",
              "      <th>780</th>\n",
              "      <th>781</th>\n",
              "      <th>782</th>\n",
              "      <th>783</th>\n",
              "    </tr>\n",
              "  </thead>\n",
              "  <tbody>\n",
              "    <tr>\n",
              "      <th>34</th>\n",
              "      <td>104.082397</td>\n",
              "      <td>98.405205</td>\n",
              "      <td>103.228394</td>\n",
              "      <td>105.922798</td>\n",
              "      <td>106.683197</td>\n",
              "      <td>121.409599</td>\n",
              "      <td>141.482391</td>\n",
              "      <td>141.834808</td>\n",
              "      <td>131.641205</td>\n",
              "      <td>118.99279</td>\n",
              "      <td>115.920403</td>\n",
              "      <td>115.927193</td>\n",
              "      <td>126.224396</td>\n",
              "      <td>40.207199</td>\n",
              "      <td>35.1884</td>\n",
              "      <td>35.284401</td>\n",
              "      <td>35.2976</td>\n",
              "      <td>33.231602</td>\n",
              "      <td>27.826401</td>\n",
              "      <td>17.562397</td>\n",
              "      <td>13.362</td>\n",
              "      <td>14.053201</td>\n",
              "      <td>12.653199</td>\n",
              "      <td>12.6984</td>\n",
              "      <td>14.191999</td>\n",
              "      <td>15.195201</td>\n",
              "      <td>7.5152</td>\n",
              "      <td>0.3456</td>\n",
              "      <td>98.54921</td>\n",
              "      <td>96.452812</td>\n",
              "      <td>99.931198</td>\n",
              "      <td>106.327614</td>\n",
              "      <td>107.403603</td>\n",
              "      <td>117.533592</td>\n",
              "      <td>128.161194</td>\n",
              "      <td>127.571602</td>\n",
              "      <td>121.410805</td>\n",
              "      <td>109.845207</td>\n",
              "      <td>109.130814</td>\n",
              "      <td>111.75</td>\n",
              "      <td>...</td>\n",
              "      <td>0.386</td>\n",
              "      <td>0.4</td>\n",
              "      <td>0.4</td>\n",
              "      <td>0.4</td>\n",
              "      <td>0.218</td>\n",
              "      <td>0.316</td>\n",
              "      <td>0.288</td>\n",
              "      <td>0.4</td>\n",
              "      <td>0.33</td>\n",
              "      <td>0.1472</td>\n",
              "      <td>0.084</td>\n",
              "      <td>0.0</td>\n",
              "      <td>5.62</td>\n",
              "      <td>5.8496</td>\n",
              "      <td>6.3312</td>\n",
              "      <td>5.102</td>\n",
              "      <td>5.3792</td>\n",
              "      <td>5.4212</td>\n",
              "      <td>5.6312</td>\n",
              "      <td>5.242</td>\n",
              "      <td>5.499599</td>\n",
              "      <td>4.6764</td>\n",
              "      <td>4.4468</td>\n",
              "      <td>4.6764</td>\n",
              "      <td>4.2284</td>\n",
              "      <td>4.08</td>\n",
              "      <td>4.5448</td>\n",
              "      <td>4.696</td>\n",
              "      <td>4.22</td>\n",
              "      <td>4.57</td>\n",
              "      <td>4.64</td>\n",
              "      <td>4.64</td>\n",
              "      <td>4.9984</td>\n",
              "      <td>5.018</td>\n",
              "      <td>4.318</td>\n",
              "      <td>4.1304</td>\n",
              "      <td>3.856</td>\n",
              "      <td>3.1456</td>\n",
              "      <td>1.6548</td>\n",
              "      <td>1.106</td>\n",
              "    </tr>\n",
              "  </tbody>\n",
              "</table>\n",
              "<p>1 rows × 784 columns</p>\n",
              "</div>"
            ],
            "text/plain": [
              "           0          1           2           3    ...    780     781     782    783\n",
              "34  104.082397  98.405205  103.228394  105.922798  ...  3.856  3.1456  1.6548  1.106\n",
              "\n",
              "[1 rows x 784 columns]"
            ]
          },
          "metadata": {
            "tags": []
          },
          "execution_count": 16
        }
      ]
    },
    {
      "cell_type": "code",
      "metadata": {
        "colab": {
          "base_uri": "https://localhost:8080/",
          "height": 269
        },
        "id": "qeQVSq6AyIF0",
        "outputId": "7f714017-b68c-481b-9b47-14686c850313"
      },
      "source": [
        "data=np.array(img_graos.iloc[[3],:]).reshape(Size,Size)\n",
        "img = Image.fromarray(data.astype('uint8'), mode='L')\n",
        "img=np.float32(img)\n",
        "\n",
        "img28=cv2.resize(img,(Size,Size), interpolation = cv2.INTER_AREA)\n",
        "Foto=np.array(img28).reshape(28,28)\n",
        "plt.xticks([])\n",
        "plt.yticks([])\n",
        "plt.grid(False)\n",
        "plt.imshow(Foto, cmap = \"gray\")"
      ],
      "execution_count": 17,
      "outputs": [
        {
          "output_type": "execute_result",
          "data": {
            "text/plain": [
              "<matplotlib.image.AxesImage at 0x7f839516fa10>"
            ]
          },
          "metadata": {
            "tags": []
          },
          "execution_count": 17
        },
        {
          "output_type": "display_data",
          "data": {
            "image/png": "[encoded data removed]",
            "text/plain": [
              "<Figure size 432x288 with 1 Axes>"
            ]
          },
          "metadata": {
            "tags": []
          }
        }
      ]
    },
    {
      "cell_type": "code",
      "metadata": {
        "colab": {
          "base_uri": "https://localhost:8080/",
          "height": 691
        },
        "id": "_tN9BV7KM-y5",
        "outputId": "bf456af5-8dfc-44ee-a233-e1a52e430198"
      },
      "source": [
        "Num = 25\n",
        "Size=28\n",
        "Picture_Size = 25\n",
        "fig = plt.gcf()\n",
        "fig.set_size_inches(Picture_Size, Picture_Size)\n",
        "for i in range(Num):\n",
        "  data=np.array(img_graos.iloc[i,:]).reshape(Size,Size)\n",
        "  img = Image.fromarray(data.astype('uint8'), mode='L')\n",
        "  img=np.float32(img)\n",
        "\n",
        "  img28=cv2.resize(img,(Size,Size), interpolation = cv2.INTER_AREA)\n",
        "  Foto=np.array(img28).reshape(28,28)\n",
        "  plt.subplot(25,5,i+1)\n",
        "  plt.xticks([])\n",
        "  plt.yticks([])\n",
        "  plt.grid(False)\n",
        "  plt.imshow(Foto, cmap = \"gray\")\n",
        "  #plt.xlabel(i)\n",
        "\n",
        "plt.subplots_adjust(bottom=0.15,left=0.4, right=0.8, top=2,hspace=0.1, wspace=0.01)\n",
        "#plt.subplots_adjust(bottom=0.2, right=2, top=3,hspace=0.4, wspace=0.4)"
      ],
      "execution_count": 18,
      "outputs": [
        {
          "output_type": "display_data",
          "data": {
            "image/png": "[encoded data removed]",
            "text/plain": [
              "<Figure size 1800x1800 with 25 Axes>"
            ]
          },
          "metadata": {
            "tags": []
          }
        }
      ]
    },
    {
      "cell_type": "code",
      "metadata": {
        "id": "7_p9olz_sJ0f",
        "colab": {
          "base_uri": "https://localhost:8080/"
        },
        "outputId": "01aacd70-8752-4de7-a613-e0bdcdac29ab"
      },
      "source": [
        "print(np.random.rand(1,3))"
      ],
      "execution_count": 19,
      "outputs": [
        {
          "output_type": "stream",
          "text": [
            "[[0.24882262 0.68330017 0.43261605]]\n"
          ],
          "name": "stdout"
        }
      ]
    }
  ]
}