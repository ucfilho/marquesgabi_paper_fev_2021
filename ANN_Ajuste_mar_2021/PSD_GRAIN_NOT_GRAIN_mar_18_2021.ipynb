{
  "nbformat": 4,
  "nbformat_minor": 0,
  "metadata": {
    "colab": {
      "name": "PSD_GRAIN_NOT_GRAIN_mar_18_2021.ipynb",
      "provenance": [],
      "collapsed_sections": [],
      "include_colab_link": true
    },
    "kernelspec": {
      "name": "python3",
      "display_name": "Python 3"
    }
  },
  "cells": [
    {
      "cell_type": "markdown",
      "metadata": {
        "id": "view-in-github",
        "colab_type": "text"
      },
      "source": [
        "<a href=\"https://colab.research.google.com/github/ucfilho/marquesgabi_paper_fev_2021/blob/main/ANN_Ajuste_mar_2021/PSD_GRAIN_NOT_GRAIN_mar_18_2021.ipynb\" target=\"_parent\"><img src=\"https://colab.research.google.com/assets/colab-badge.svg\" alt=\"Open In Colab\"/></a>"
      ]
    },
    {
      "cell_type": "code",
      "metadata": {
        "id": "Sog7Z9pyhUD_",
        "colab": {
          "base_uri": "https://localhost:8080/"
        },
        "outputId": "40a7f980-4c4a-4382-8293-6ca11946740a"
      },
      "source": [
        "import matplotlib.pyplot as plt\n",
        "import numpy as np\n",
        "import cv2\n",
        "import zipfile\n",
        "#import random\n",
        "from random import randint\n",
        "from PIL import Image\n",
        "import re\n",
        "from sklearn.model_selection import train_test_split\n",
        "#import scikit-image\n",
        "import skimage\n",
        "import pandas as pd\n",
        "import statsmodels.api as sm\n",
        "import statsmodels.formula.api as smf"
      ],
      "execution_count": 1,
      "outputs": [
        {
          "output_type": "stream",
          "text": [
            "/usr/local/lib/python3.7/dist-packages/statsmodels/tools/_testing.py:19: FutureWarning: pandas.util.testing is deprecated. Use the functions in the public API at pandas.testing instead.\n",
            "  import pandas.util.testing as tm\n"
          ],
          "name": "stderr"
        }
      ]
    },
    {
      "cell_type": "code",
      "metadata": {
        "id": "uZEvJvfoibE4",
        "colab": {
          "base_uri": "https://localhost:8080/"
        },
        "outputId": "a7d6b422-72e2-4845-e1f1-d52603168249"
      },
      "source": [
        "!pip install mahotas"
      ],
      "execution_count": 2,
      "outputs": [
        {
          "output_type": "stream",
          "text": [
            "Collecting mahotas\n",
            "\u001b[?25l  Downloading https://files.pythonhosted.org/packages/19/ad/553b246b0a35dccc3ed58dc8889a67124bf5ab858e9c6b7255d56086e70c/mahotas-1.4.11-cp37-cp37m-manylinux2010_x86_64.whl (5.7MB)\n",
            "\u001b[K     |████████████████████████████████| 5.7MB 5.2MB/s \n",
            "\u001b[?25hRequirement already satisfied: numpy in /usr/local/lib/python3.7/dist-packages (from mahotas) (1.19.5)\n",
            "Installing collected packages: mahotas\n",
            "Successfully installed mahotas-1.4.11\n"
          ],
          "name": "stdout"
        }
      ]
    },
    {
      "cell_type": "code",
      "metadata": {
        "id": "_VcTdaNVh9EE",
        "colab": {
          "base_uri": "https://localhost:8080/"
        },
        "outputId": "8cd1734f-943f-4476-b7cd-2f6815d9d835"
      },
      "source": [
        "!git clone https://github.com/ucfilho/marquesgabi_fev_2020 #clonar do Github\n",
        "%cd marquesgabi_fev_2020\n",
        "import Go2BlackWhite\n",
        "import Go2Mahotas"
      ],
      "execution_count": 3,
      "outputs": [
        {
          "output_type": "stream",
          "text": [
            "Cloning into 'marquesgabi_fev_2020'...\n",
            "remote: Enumerating objects: 73, done.\u001b[K\n",
            "remote: Counting objects: 100% (73/73), done.\u001b[K\n",
            "remote: Compressing objects: 100% (71/71), done.\u001b[K\n",
            "remote: Total 73 (delta 37), reused 0 (delta 0), pack-reused 0\u001b[K\n",
            "Unpacking objects: 100% (73/73), done.\n",
            "/content/marquesgabi_fev_2020\n"
          ],
          "name": "stdout"
        }
      ]
    },
    {
      "cell_type": "code",
      "metadata": {
        "id": "nf_a6PJ1iUnT"
      },
      "source": [
        "import mahotas.features.texture as mht\n",
        "import mahotas.features"
      ],
      "execution_count": 4,
      "outputs": []
    },
    {
      "cell_type": "code",
      "metadata": {
        "id": "wj62HANgnpnR",
        "colab": {
          "base_uri": "https://localhost:8080/"
        },
        "outputId": "b0630e4e-d9a4-4574-9188-a01c5490e198"
      },
      "source": [
        "!git clone https://github.com/ucfilho/marquesgabi_paper_fev_2021\n",
        "%cd marquesgabi_paper_fev_2021\n",
        "\n",
        "from Get_PSDArea_New import PSDArea\n",
        "from histogram_fev_2021 import PSD\n",
        "from GetBetterSegm import GetBetter"
      ],
      "execution_count": 5,
      "outputs": [
        {
          "output_type": "stream",
          "text": [
            "Cloning into 'marquesgabi_paper_fev_2021'...\n",
            "remote: Enumerating objects: 231, done.\u001b[K\n",
            "remote: Counting objects: 100% (231/231), done.\u001b[K\n",
            "remote: Compressing objects: 100% (229/229), done.\u001b[K\n",
            "remote: Total 231 (delta 129), reused 0 (delta 0), pack-reused 0\u001b[K\n",
            "Receiving objects: 100% (231/231), 525.53 KiB | 11.68 MiB/s, done.\n",
            "Resolving deltas: 100% (129/129), done.\n",
            "/content/marquesgabi_fev_2020/marquesgabi_paper_fev_2021\n"
          ],
          "name": "stdout"
        }
      ]
    },
    {
      "cell_type": "code",
      "metadata": {
        "id": "8L6KJ4jc3ahG",
        "colab": {
          "base_uri": "https://localhost:8080/"
        },
        "outputId": "20565d68-a957-4d36-8226-78f6c2dc2642"
      },
      "source": [
        "!ls"
      ],
      "execution_count": 6,
      "outputs": [
        {
          "output_type": "stream",
          "text": [
            "ANN_Ajuste_mar_2021\n",
            "ANN_FIND_GRAIN_MAR_2021.py\n",
            "ANN_FIND_GRAIN_NOVO.py\n",
            "ANN_FIND_GRAIN_PAPER_STEP_02.py\n",
            "big_segment.py\n",
            "CNN_classify_grain_feb_15_2021.ipynb\n",
            "CNN_DESCRIPTION.ipynb\n",
            "CNN_FIND_GRAIN_PAPER_STEP_02.py\n",
            "EPOCHS_graphic.csv\n",
            "EPOCHS_graphic.txt\n",
            "Fig_05_BIG_Segmentation_jan_25_2021.ipynb\n",
            "GetBetterSegm.py\n",
            "Get_PSDArea_New.py\n",
            "Graphic_Epochs_fev_09_2020.ipynb\n",
            "histogram_fev_2021.py\n",
            "PSD_CNN_GRAIN_NOT_GRAIN_step_02_paper.ipynb\n",
            "PSD_GRAIN_NOT_GRAIN_dez_04_2020.ipynb\n",
            "PSD_GRAIN_NOT_GRAIN_fev_18_2021.ipynb\n",
            "PSD_GRAIN_NOT_GRAIN_mar_11_2021.ipynb\n",
            "PSD_GRAIN_NOT_GRAIN_mar_12_2021.ipynb\n",
            "PSD_GRAIN_NOT_GRAIN_step_02_paper.ipynb\n",
            "psd_mahotas.py\n",
            "__pycache__\n",
            "README.md\n"
          ],
          "name": "stdout"
        }
      ]
    },
    {
      "cell_type": "code",
      "metadata": {
        "id": "1v7SRrc8mH2N",
        "colab": {
          "base_uri": "https://localhost:8080/"
        },
        "outputId": "2d80a07c-201f-4514-8f04-025e73a53b0f"
      },
      "source": [
        "!git clone https://github.com/marquesgabi/Doutorado\n",
        "%cd Doutorado\n",
        "\n",
        "Transfere='Fotos_Grandes_3cdAmostra.zip'\n",
        "file_name = zipfile.ZipFile(Transfere, 'r')\n",
        "file_name.extractall()"
      ],
      "execution_count": 7,
      "outputs": [
        {
          "output_type": "stream",
          "text": [
            "Cloning into 'Doutorado'...\n",
            "remote: Enumerating objects: 52, done.\u001b[K\n",
            "remote: Counting objects: 100% (52/52), done.\u001b[K\n",
            "remote: Compressing objects: 100% (52/52), done.\u001b[K\n",
            "remote: Total 302 (delta 21), reused 0 (delta 0), pack-reused 250\u001b[K\n",
            "Receiving objects: 100% (302/302), 78.58 MiB | 37.55 MiB/s, done.\n",
            "Resolving deltas: 100% (144/144), done.\n",
            "/content/marquesgabi_fev_2020/marquesgabi_paper_fev_2021/Doutorado\n"
          ],
          "name": "stdout"
        }
      ]
    },
    {
      "cell_type": "code",
      "metadata": {
        "id": "0kA4IWSmasoD"
      },
      "source": [
        "Size=1200 # tamanho da foto\n",
        "ww,img_name=Go2BlackWhite.BlackWhite(Transfere,Size) #Pegamos a primeira foto Grande\n",
        "img=ww[0] \n",
        "# this is the big image we want to segment \n",
        "# ww[0], change it if you want to segment another picture"
      ],
      "execution_count": 8,
      "outputs": []
    },
    {
      "cell_type": "code",
      "metadata": {
        "id": "g_k1Ktz3izJv",
        "colab": {
          "base_uri": "https://localhost:8080/"
        },
        "outputId": "7d4098d1-5f43-4fdc-ff70-9f2ca631a4b1"
      },
      "source": [
        "!git clone https://github.com/marquesgabi/Doutorado\n",
        "# %cd Doutorado\n",
        "Transfere='FotosTreino882_and_Segm.zip'\n",
        "file_name = zipfile.ZipFile(Transfere, 'r')\n",
        "file_name.extractall()\n",
        "\n",
        "\"\"\"# First step: get the segmented file (photos stored in csv file)\"\"\"\n",
        "\n",
        "labels = [] #name files\n",
        "\n",
        "with zipfile.ZipFile(Transfere, \"r\") as f:\n",
        "  for f in f.namelist():\n",
        "    labels.append(f)\n",
        "\n",
        "Num=len(labels)\n",
        "df=pd.read_csv(labels[0])\n",
        "for i in range(1,Num):\n",
        "  df_new=pd.read_csv(labels[i])\n",
        "  df_new = df_new[~df_new['Type'].isin(['G'])] # drop grain row which is not in 882\n",
        "  frames = [df, df_new]\n",
        "  df= pd.concat(frames, ignore_index=True)"
      ],
      "execution_count": 9,
      "outputs": [
        {
          "output_type": "stream",
          "text": [
            "Cloning into 'Doutorado'...\n",
            "remote: Enumerating objects: 52, done.\u001b[K\n",
            "remote: Counting objects: 100% (52/52), done.\u001b[K\n",
            "remote: Compressing objects: 100% (52/52), done.\u001b[K\n",
            "remote: Total 302 (delta 21), reused 0 (delta 0), pack-reused 250\u001b[K\n",
            "Receiving objects: 100% (302/302), 78.58 MiB | 37.08 MiB/s, done.\n",
            "Resolving deltas: 100% (144/144), done.\n"
          ],
          "name": "stdout"
        }
      ]
    },
    {
      "cell_type": "code",
      "metadata": {
        "id": "tHgqAnaFyCjp",
        "colab": {
          "base_uri": "https://localhost:8080/"
        },
        "outputId": "6e83fd94-c041-4fbc-866d-929e3502382d"
      },
      "source": [
        "!git clone https://github.com/ucfilho/marquesgabi_paper_fev_2021\n",
        "%cd marquesgabi_paper_fev_2021"
      ],
      "execution_count": 10,
      "outputs": [
        {
          "output_type": "stream",
          "text": [
            "Cloning into 'marquesgabi_paper_fev_2021'...\n",
            "remote: Enumerating objects: 231, done.\u001b[K\n",
            "remote: Counting objects: 100% (231/231), done.\u001b[K\n",
            "remote: Compressing objects: 100% (229/229), done.\u001b[K\n",
            "remote: Total 231 (delta 129), reused 0 (delta 0), pack-reused 0\u001b[K\n",
            "Receiving objects: 100% (231/231), 525.53 KiB | 7.62 MiB/s, done.\n",
            "Resolving deltas: 100% (129/129), done.\n",
            "/content/marquesgabi_fev_2020/marquesgabi_paper_fev_2021/Doutorado/marquesgabi_paper_fev_2021\n"
          ],
          "name": "stdout"
        }
      ]
    },
    {
      "cell_type": "code",
      "metadata": {
        "id": "qc4rFvzkyWCi"
      },
      "source": [
        "from big_segment import Segmenta  # got image provided segmented\n",
        "# from ANN_FIND_GRAIN_NOVO import AnnGrain  # got image provided segmented\n",
        "from psd_mahotas import Mahotas"
      ],
      "execution_count": 11,
      "outputs": []
    },
    {
      "cell_type": "code",
      "metadata": {
        "colab": {
          "base_uri": "https://localhost:8080/"
        },
        "id": "N-R1so5EcKXE",
        "outputId": "6744cae7-d45d-4d4b-c9ad-5728852db91b"
      },
      "source": [
        "!git clone https://github.com/ucfilho/marquesgabi_paper_fev_2021/ANN_Ajuste_mar_2021\r\n",
        "%cd ANN_Ajuste_mar_2021"
      ],
      "execution_count": 12,
      "outputs": [
        {
          "output_type": "stream",
          "text": [
            "fatal: destination path 'ANN_Ajuste_mar_2021' already exists and is not an empty directory.\n",
            "/content/marquesgabi_fev_2020/marquesgabi_paper_fev_2021/Doutorado/marquesgabi_paper_fev_2021/ANN_Ajuste_mar_2021\n"
          ],
          "name": "stdout"
        }
      ]
    },
    {
      "cell_type": "code",
      "metadata": {
        "id": "aPT8qYAVcdPP"
      },
      "source": [
        "from ANN_FIND_GRAIN_change_ann import AnnGrain  # got image provided segmented"
      ],
      "execution_count": 13,
      "outputs": []
    },
    {
      "cell_type": "code",
      "metadata": {
        "colab": {
          "base_uri": "https://localhost:8080/"
        },
        "id": "knhoH5ve0gyq",
        "outputId": "e088f936-1b50-4c89-85e2-0392145b8d41"
      },
      "source": [
        "!ls"
      ],
      "execution_count": 14,
      "outputs": [
        {
          "output_type": "stream",
          "text": [
            "ANN_FIND_GRAIN_change_ann.py\t       __pycache__\n",
            "PSD_GRAIN_NOT_GRAIN_mar_18_2021.ipynb\n"
          ],
          "name": "stdout"
        }
      ]
    },
    {
      "cell_type": "code",
      "metadata": {
        "id": "YPoCxCp4kuRm",
        "colab": {
          "base_uri": "https://localhost:8080/"
        },
        "outputId": "1ce284d0-0b09-4d59-b5df-cc66f19f7215"
      },
      "source": [
        "!git clone https://github.com/marquesgabi/Doutorado\n",
        "%cd Doutorado\n",
        "Transfere='FotosTreino882_and_Segm.zip'\n",
        "file_name = zipfile.ZipFile(Transfere, 'r')\n",
        "file_name.extractall()\n",
        "\n",
        "\"\"\"# First step: get the segmented file (photos stored in csv file)\"\"\"\n",
        "\n",
        "labels = [] #name files\n",
        "\n",
        "with zipfile.ZipFile(Transfere, \"r\") as f:\n",
        "  for f in f.namelist():\n",
        "    labels.append(f)\n",
        "\n",
        "Num=len(labels)\n",
        "ANN_dat=pd.read_csv(labels[0])\n",
        "for i in range(1,Num):\n",
        "  df_new=pd.read_csv(labels[i])\n",
        "  df_new = df_new[~df_new['Type'].isin(['G'])] # drop grain row which is not in 882\n",
        "  frames = [ANN_dat, df_new]\n",
        "  ANN_dat= pd.concat(frames, ignore_index=True)"
      ],
      "execution_count": 15,
      "outputs": [
        {
          "output_type": "stream",
          "text": [
            "Cloning into 'Doutorado'...\n",
            "remote: Enumerating objects: 52, done.\u001b[K\n",
            "remote: Counting objects: 100% (52/52), done.\u001b[K\n",
            "remote: Compressing objects: 100% (52/52), done.\u001b[K\n",
            "remote: Total 302 (delta 21), reused 0 (delta 0), pack-reused 250\u001b[K\n",
            "Receiving objects: 100% (302/302), 115.75 MiB | 39.48 MiB/s, done.\n",
            "Resolving deltas: 100% (138/138), done.\n",
            "/content/marquesgabi_fev_2020/marquesgabi_paper_fev_2021/Doutorado/marquesgabi_paper_fev_2021/ANN_Ajuste_mar_2021/Doutorado\n"
          ],
          "name": "stdout"
        }
      ]
    },
    {
      "cell_type": "code",
      "metadata": {
        "id": "mv01JmHfmz-1"
      },
      "source": [
        "# open file to get df \n",
        "# use df and ANN to get grains and no grains\n",
        "# use grains to obtain psd"
      ],
      "execution_count": 16,
      "outputs": []
    },
    {
      "cell_type": "code",
      "metadata": {
        "id": "h4ELNAEunkox",
        "colab": {
          "base_uri": "https://localhost:8080/"
        },
        "outputId": "0738b5bb-ad44-4aca-f5e4-eaa60f56c904"
      },
      "source": [
        "!git clone https://github.com/marquesgabi/Doutorado\n",
        "%cd Doutorado"
      ],
      "execution_count": 17,
      "outputs": [
        {
          "output_type": "stream",
          "text": [
            "Cloning into 'Doutorado'...\n",
            "remote: Enumerating objects: 52, done.\u001b[K\n",
            "remote: Counting objects: 100% (52/52), done.\u001b[K\n",
            "remote: Compressing objects: 100% (52/52), done.\u001b[K\n",
            "remote: Total 302 (delta 21), reused 0 (delta 0), pack-reused 250\u001b[K\n",
            "Receiving objects: 100% (302/302), 115.75 MiB | 39.87 MiB/s, done.\n",
            "Resolving deltas: 100% (138/138), done.\n",
            "/content/marquesgabi_fev_2020/marquesgabi_paper_fev_2021/Doutorado/marquesgabi_paper_fev_2021/ANN_Ajuste_mar_2021/Doutorado/Doutorado\n"
          ],
          "name": "stdout"
        }
      ]
    },
    {
      "cell_type": "code",
      "metadata": {
        "id": "QmPJiuSnnxT9",
        "colab": {
          "base_uri": "https://localhost:8080/"
        },
        "outputId": "3c665764-dd87-47d8-b6b8-6564bd8f51ad"
      },
      "source": [
        "k=0\n",
        "for Item in img_name:\n",
        "  print(k,Item)\n",
        "  k=k+1\n",
        "\n",
        "img=ww[21]\n"
      ],
      "execution_count": 18,
      "outputs": [
        {
          "output_type": "stream",
          "text": [
            "0 Fotos_Grandes-3cdAmostra/Q6-8-4.jpg\n",
            "1 Fotos_Grandes-3cdAmostra/Q6-5-3.jpg\n",
            "2 Fotos_Grandes-3cdAmostra/Q6-7-4.jpg\n",
            "3 Fotos_Grandes-3cdAmostra/Q6-8-2.jpg\n",
            "4 Fotos_Grandes-3cdAmostra/Q6-3-2.jpg\n",
            "5 Fotos_Grandes-3cdAmostra/Q6-7-2.jpg\n",
            "6 Fotos_Grandes-3cdAmostra/Q6-4-4.jpg\n",
            "7 Fotos_Grandes-3cdAmostra/Q6-9-5.jpg\n",
            "8 Fotos_Grandes-3cdAmostra/Q6-2-5.jpg\n",
            "9 Fotos_Grandes-3cdAmostra/Q6-8-3.jpg\n",
            "10 Fotos_Grandes-3cdAmostra/Q6-9-3.jpg\n",
            "11 Fotos_Grandes-3cdAmostra/Q6-1-2.jpg\n",
            "12 Fotos_Grandes-3cdAmostra/Q6-6-3.jpg\n",
            "13 Fotos_Grandes-3cdAmostra/Q6-3-4.jpg\n",
            "14 Fotos_Grandes-3cdAmostra/Q6-1-4.jpg\n",
            "15 Fotos_Grandes-3cdAmostra/Q6-6-2.jpg\n",
            "16 Fotos_Grandes-3cdAmostra/Q6-4-3.jpg\n",
            "17 Fotos_Grandes-3cdAmostra/Q6-7-3.jpg\n",
            "18 Fotos_Grandes-3cdAmostra/Q6-2-2.jpg\n",
            "19 Fotos_Grandes-3cdAmostra/Q6-9-2.jpg\n",
            "20 Fotos_Grandes-3cdAmostra/Q6-1-5.jpg\n",
            "21 Fotos_Grandes-3cdAmostra/Q6-6-5.jpg\n",
            "22 Fotos_Grandes-3cdAmostra/Q6-2-1.jpg\n",
            "23 Fotos_Grandes-3cdAmostra/Q6-5-2.jpg\n",
            "24 Fotos_Grandes-3cdAmostra/Q6-4-1.jpg\n",
            "25 Fotos_Grandes-3cdAmostra/Q6-3-1.jpg\n",
            "26 Fotos_Grandes-3cdAmostra/Q6-5-4.jpg\n"
          ],
          "name": "stdout"
        }
      ]
    },
    {
      "cell_type": "code",
      "metadata": {
        "id": "Fg08LdDEsYLd"
      },
      "source": [
        "df=Segmenta(img)"
      ],
      "execution_count": 19,
      "outputs": []
    },
    {
      "cell_type": "code",
      "metadata": {
        "id": "3O2xFH1Ishc2",
        "colab": {
          "base_uri": "https://localhost:8080/"
        },
        "outputId": "63b583d3-cee0-4070-a61c-08b262024c3f"
      },
      "source": [
        "y_pred,confusion_matrix,METRICS=AnnGrain(ANN_dat,df.drop('Width',axis=1)) "
      ],
      "execution_count": 20,
      "outputs": [
        {
          "output_type": "stream",
          "text": [
            "Predicted   0   1\n",
            "Actual           \n",
            "0          72   0\n",
            "1           0  75\n"
          ],
          "name": "stdout"
        },
        {
          "output_type": "stream",
          "text": [
            "/usr/local/lib/python3.7/dist-packages/sklearn/neural_network/_multilayer_perceptron.py:571: ConvergenceWarning: Stochastic Optimizer: Maximum iterations (300) reached and the optimization hasn't converged yet.\n",
            "  % self.max_iter, ConvergenceWarning)\n"
          ],
          "name": "stderr"
        }
      ]
    },
    {
      "cell_type": "code",
      "metadata": {
        "colab": {
          "base_uri": "https://localhost:8080/"
        },
        "id": "jagtxjcNniO7",
        "outputId": "71074511-d2c8-4735-e231-3a07282eb0a5"
      },
      "source": [
        "print(METRICS)\r\n",
        "# grain class is number zero"
      ],
      "execution_count": 21,
      "outputs": [
        {
          "output_type": "stream",
          "text": [
            "              precision    recall  f1-score   support\n",
            "\n",
            "           0       1.00      1.00      1.00        72\n",
            "           1       1.00      1.00      1.00        75\n",
            "\n",
            "    accuracy                           1.00       147\n",
            "   macro avg       1.00      1.00      1.00       147\n",
            "weighted avg       1.00      1.00      1.00       147\n",
            "\n"
          ],
          "name": "stdout"
        }
      ]
    },
    {
      "cell_type": "code",
      "metadata": {
        "id": "6S5a4-cashbB"
      },
      "source": [
        "# print(y_pred.ravel())"
      ],
      "execution_count": 22,
      "outputs": []
    },
    {
      "cell_type": "code",
      "metadata": {
        "id": "iA2XIpGOyipM"
      },
      "source": [
        "Grain=[]; Ind=[]; Size=[]\n",
        "k=0\n",
        "for item in y_pred:\n",
        "  if(item == 0):\n",
        "    Ind.append(k)\n",
        "  k=k+1\n",
        "\n",
        "df = df.reset_index(drop=True)\n",
        "\n",
        "df_size = df.drop(df.index[Ind])\n",
        "\n",
        "Width=np.array(df_size['Width'])\n",
        "\n",
        "# print(Width)\n",
        "\n",
        "# print(df_size.shape)"
      ],
      "execution_count": 23,
      "outputs": []
    },
    {
      "cell_type": "code",
      "metadata": {
        "id": "06lkGMZo9uKV"
      },
      "source": [
        "# pd.set_option('display.max_rows', None)\n",
        "# print(df_size)"
      ],
      "execution_count": 24,
      "outputs": []
    },
    {
      "cell_type": "code",
      "metadata": {
        "id": "EIqWqspygJtw",
        "colab": {
          "base_uri": "https://localhost:8080/",
          "height": 244
        },
        "outputId": "8cdce846-e7fb-436e-ea86-5c559073e0fb"
      },
      "source": [
        "df.head()"
      ],
      "execution_count": 25,
      "outputs": [
        {
          "output_type": "execute_result",
          "data": {
            "text/html": [
              "<div>\n",
              "<style scoped>\n",
              "    .dataframe tbody tr th:only-of-type {\n",
              "        vertical-align: middle;\n",
              "    }\n",
              "\n",
              "    .dataframe tbody tr th {\n",
              "        vertical-align: top;\n",
              "    }\n",
              "\n",
              "    .dataframe thead th {\n",
              "        text-align: right;\n",
              "    }\n",
              "</style>\n",
              "<table border=\"1\" class=\"dataframe\">\n",
              "  <thead>\n",
              "    <tr style=\"text-align: right;\">\n",
              "      <th></th>\n",
              "      <th>Width</th>\n",
              "      <th>0</th>\n",
              "      <th>1</th>\n",
              "      <th>2</th>\n",
              "      <th>3</th>\n",
              "      <th>4</th>\n",
              "      <th>5</th>\n",
              "      <th>6</th>\n",
              "      <th>7</th>\n",
              "      <th>8</th>\n",
              "      <th>9</th>\n",
              "      <th>10</th>\n",
              "      <th>11</th>\n",
              "      <th>12</th>\n",
              "      <th>13</th>\n",
              "      <th>14</th>\n",
              "      <th>15</th>\n",
              "      <th>16</th>\n",
              "      <th>17</th>\n",
              "      <th>18</th>\n",
              "      <th>19</th>\n",
              "      <th>20</th>\n",
              "      <th>21</th>\n",
              "      <th>22</th>\n",
              "      <th>23</th>\n",
              "      <th>24</th>\n",
              "      <th>25</th>\n",
              "      <th>26</th>\n",
              "      <th>27</th>\n",
              "      <th>28</th>\n",
              "      <th>29</th>\n",
              "      <th>30</th>\n",
              "      <th>31</th>\n",
              "      <th>32</th>\n",
              "      <th>33</th>\n",
              "      <th>34</th>\n",
              "      <th>35</th>\n",
              "      <th>36</th>\n",
              "      <th>37</th>\n",
              "      <th>38</th>\n",
              "      <th>...</th>\n",
              "      <th>744</th>\n",
              "      <th>745</th>\n",
              "      <th>746</th>\n",
              "      <th>747</th>\n",
              "      <th>748</th>\n",
              "      <th>749</th>\n",
              "      <th>750</th>\n",
              "      <th>751</th>\n",
              "      <th>752</th>\n",
              "      <th>753</th>\n",
              "      <th>754</th>\n",
              "      <th>755</th>\n",
              "      <th>756</th>\n",
              "      <th>757</th>\n",
              "      <th>758</th>\n",
              "      <th>759</th>\n",
              "      <th>760</th>\n",
              "      <th>761</th>\n",
              "      <th>762</th>\n",
              "      <th>763</th>\n",
              "      <th>764</th>\n",
              "      <th>765</th>\n",
              "      <th>766</th>\n",
              "      <th>767</th>\n",
              "      <th>768</th>\n",
              "      <th>769</th>\n",
              "      <th>770</th>\n",
              "      <th>771</th>\n",
              "      <th>772</th>\n",
              "      <th>773</th>\n",
              "      <th>774</th>\n",
              "      <th>775</th>\n",
              "      <th>776</th>\n",
              "      <th>777</th>\n",
              "      <th>778</th>\n",
              "      <th>779</th>\n",
              "      <th>780</th>\n",
              "      <th>781</th>\n",
              "      <th>782</th>\n",
              "      <th>783</th>\n",
              "    </tr>\n",
              "  </thead>\n",
              "  <tbody>\n",
              "    <tr>\n",
              "      <th>0</th>\n",
              "      <td>164</td>\n",
              "      <td>77.618080</td>\n",
              "      <td>83.084473</td>\n",
              "      <td>89.146339</td>\n",
              "      <td>90.862579</td>\n",
              "      <td>86.917908</td>\n",
              "      <td>75.343246</td>\n",
              "      <td>63.256989</td>\n",
              "      <td>64.183228</td>\n",
              "      <td>87.118980</td>\n",
              "      <td>95.996437</td>\n",
              "      <td>95.095184</td>\n",
              "      <td>93.046997</td>\n",
              "      <td>117.039864</td>\n",
              "      <td>145.957764</td>\n",
              "      <td>147.881027</td>\n",
              "      <td>140.079712</td>\n",
              "      <td>144.727554</td>\n",
              "      <td>149.339081</td>\n",
              "      <td>154.387268</td>\n",
              "      <td>175.675186</td>\n",
              "      <td>176.108276</td>\n",
              "      <td>137.453293</td>\n",
              "      <td>94.723373</td>\n",
              "      <td>96.396797</td>\n",
              "      <td>101.825691</td>\n",
              "      <td>105.301010</td>\n",
              "      <td>111.693634</td>\n",
              "      <td>115.926834</td>\n",
              "      <td>92.925049</td>\n",
              "      <td>93.236168</td>\n",
              "      <td>95.030930</td>\n",
              "      <td>95.661514</td>\n",
              "      <td>92.925636</td>\n",
              "      <td>86.541344</td>\n",
              "      <td>79.850685</td>\n",
              "      <td>79.684113</td>\n",
              "      <td>87.111244</td>\n",
              "      <td>95.860794</td>\n",
              "      <td>94.474716</td>\n",
              "      <td>...</td>\n",
              "      <td>95.922073</td>\n",
              "      <td>92.256989</td>\n",
              "      <td>100.703743</td>\n",
              "      <td>108.936363</td>\n",
              "      <td>124.455681</td>\n",
              "      <td>147.772156</td>\n",
              "      <td>141.451538</td>\n",
              "      <td>137.547287</td>\n",
              "      <td>136.336716</td>\n",
              "      <td>130.418213</td>\n",
              "      <td>119.919685</td>\n",
              "      <td>126.603210</td>\n",
              "      <td>178.039261</td>\n",
              "      <td>179.208801</td>\n",
              "      <td>176.483047</td>\n",
              "      <td>154.563950</td>\n",
              "      <td>105.139801</td>\n",
              "      <td>75.179062</td>\n",
              "      <td>74.508034</td>\n",
              "      <td>86.149910</td>\n",
              "      <td>93.114807</td>\n",
              "      <td>91.476501</td>\n",
              "      <td>89.776924</td>\n",
              "      <td>97.120171</td>\n",
              "      <td>99.743011</td>\n",
              "      <td>102.138611</td>\n",
              "      <td>106.803085</td>\n",
              "      <td>104.144562</td>\n",
              "      <td>85.202858</td>\n",
              "      <td>91.762047</td>\n",
              "      <td>90.747177</td>\n",
              "      <td>95.291489</td>\n",
              "      <td>106.106491</td>\n",
              "      <td>129.123138</td>\n",
              "      <td>139.115402</td>\n",
              "      <td>140.318848</td>\n",
              "      <td>132.390244</td>\n",
              "      <td>121.978592</td>\n",
              "      <td>119.224266</td>\n",
              "      <td>130.206421</td>\n",
              "    </tr>\n",
              "    <tr>\n",
              "      <th>1</th>\n",
              "      <td>146</td>\n",
              "      <td>180.191391</td>\n",
              "      <td>178.418472</td>\n",
              "      <td>173.516037</td>\n",
              "      <td>167.036774</td>\n",
              "      <td>120.640457</td>\n",
              "      <td>42.012573</td>\n",
              "      <td>62.432537</td>\n",
              "      <td>69.838799</td>\n",
              "      <td>69.506287</td>\n",
              "      <td>66.878777</td>\n",
              "      <td>62.835991</td>\n",
              "      <td>66.443047</td>\n",
              "      <td>66.379433</td>\n",
              "      <td>65.499344</td>\n",
              "      <td>64.371933</td>\n",
              "      <td>64.574219</td>\n",
              "      <td>67.098701</td>\n",
              "      <td>68.347717</td>\n",
              "      <td>71.703323</td>\n",
              "      <td>75.884598</td>\n",
              "      <td>76.206787</td>\n",
              "      <td>74.964157</td>\n",
              "      <td>75.271347</td>\n",
              "      <td>69.030022</td>\n",
              "      <td>54.158566</td>\n",
              "      <td>31.142239</td>\n",
              "      <td>5.557328</td>\n",
              "      <td>1.966785</td>\n",
              "      <td>181.002441</td>\n",
              "      <td>176.178268</td>\n",
              "      <td>168.755676</td>\n",
              "      <td>149.859818</td>\n",
              "      <td>58.476822</td>\n",
              "      <td>37.144489</td>\n",
              "      <td>53.272842</td>\n",
              "      <td>65.980675</td>\n",
              "      <td>69.300995</td>\n",
              "      <td>70.908432</td>\n",
              "      <td>68.826981</td>\n",
              "      <td>...</td>\n",
              "      <td>14.938825</td>\n",
              "      <td>13.337398</td>\n",
              "      <td>15.666166</td>\n",
              "      <td>17.566334</td>\n",
              "      <td>23.103397</td>\n",
              "      <td>36.738228</td>\n",
              "      <td>47.319199</td>\n",
              "      <td>44.621132</td>\n",
              "      <td>32.503658</td>\n",
              "      <td>11.508726</td>\n",
              "      <td>2.045224</td>\n",
              "      <td>1.463126</td>\n",
              "      <td>113.214104</td>\n",
              "      <td>119.386742</td>\n",
              "      <td>130.588287</td>\n",
              "      <td>95.478134</td>\n",
              "      <td>55.638390</td>\n",
              "      <td>63.721710</td>\n",
              "      <td>62.129105</td>\n",
              "      <td>64.150124</td>\n",
              "      <td>68.734100</td>\n",
              "      <td>69.705383</td>\n",
              "      <td>73.685867</td>\n",
              "      <td>84.636139</td>\n",
              "      <td>87.933945</td>\n",
              "      <td>54.681549</td>\n",
              "      <td>13.845375</td>\n",
              "      <td>17.285418</td>\n",
              "      <td>13.977669</td>\n",
              "      <td>11.486020</td>\n",
              "      <td>11.150497</td>\n",
              "      <td>22.208107</td>\n",
              "      <td>48.591476</td>\n",
              "      <td>62.674419</td>\n",
              "      <td>70.671043</td>\n",
              "      <td>72.683807</td>\n",
              "      <td>69.676857</td>\n",
              "      <td>61.097015</td>\n",
              "      <td>32.638580</td>\n",
              "      <td>8.776318</td>\n",
              "    </tr>\n",
              "    <tr>\n",
              "      <th>2</th>\n",
              "      <td>173</td>\n",
              "      <td>105.514938</td>\n",
              "      <td>112.817619</td>\n",
              "      <td>126.071594</td>\n",
              "      <td>136.991516</td>\n",
              "      <td>132.996552</td>\n",
              "      <td>101.314774</td>\n",
              "      <td>47.104446</td>\n",
              "      <td>47.974304</td>\n",
              "      <td>48.099834</td>\n",
              "      <td>45.189144</td>\n",
              "      <td>44.776901</td>\n",
              "      <td>46.393459</td>\n",
              "      <td>42.602825</td>\n",
              "      <td>45.367706</td>\n",
              "      <td>47.875137</td>\n",
              "      <td>44.988708</td>\n",
              "      <td>45.788868</td>\n",
              "      <td>48.952557</td>\n",
              "      <td>49.522038</td>\n",
              "      <td>48.795845</td>\n",
              "      <td>49.490490</td>\n",
              "      <td>45.139332</td>\n",
              "      <td>18.719568</td>\n",
              "      <td>2.131912</td>\n",
              "      <td>2.176818</td>\n",
              "      <td>2.199271</td>\n",
              "      <td>2.052391</td>\n",
              "      <td>2.000000</td>\n",
              "      <td>108.502220</td>\n",
              "      <td>106.011993</td>\n",
              "      <td>120.887344</td>\n",
              "      <td>134.175247</td>\n",
              "      <td>134.881882</td>\n",
              "      <td>97.959694</td>\n",
              "      <td>39.981789</td>\n",
              "      <td>48.158005</td>\n",
              "      <td>45.117779</td>\n",
              "      <td>42.560726</td>\n",
              "      <td>47.031971</td>\n",
              "      <td>...</td>\n",
              "      <td>1.000000</td>\n",
              "      <td>1.000000</td>\n",
              "      <td>1.000000</td>\n",
              "      <td>1.000000</td>\n",
              "      <td>1.000000</td>\n",
              "      <td>1.000000</td>\n",
              "      <td>1.000000</td>\n",
              "      <td>0.926092</td>\n",
              "      <td>1.000000</td>\n",
              "      <td>1.026195</td>\n",
              "      <td>1.000000</td>\n",
              "      <td>1.000000</td>\n",
              "      <td>64.811279</td>\n",
              "      <td>74.872421</td>\n",
              "      <td>73.231712</td>\n",
              "      <td>69.376389</td>\n",
              "      <td>65.445351</td>\n",
              "      <td>61.263123</td>\n",
              "      <td>59.468075</td>\n",
              "      <td>57.362354</td>\n",
              "      <td>54.224731</td>\n",
              "      <td>37.459049</td>\n",
              "      <td>18.952152</td>\n",
              "      <td>5.889838</td>\n",
              "      <td>1.222126</td>\n",
              "      <td>0.995322</td>\n",
              "      <td>1.000000</td>\n",
              "      <td>0.977547</td>\n",
              "      <td>0.836279</td>\n",
              "      <td>0.430252</td>\n",
              "      <td>0.352601</td>\n",
              "      <td>0.337632</td>\n",
              "      <td>0.190751</td>\n",
              "      <td>0.190751</td>\n",
              "      <td>0.190751</td>\n",
              "      <td>0.212269</td>\n",
              "      <td>0.190751</td>\n",
              "      <td>0.563099</td>\n",
              "      <td>1.000000</td>\n",
              "      <td>1.000000</td>\n",
              "    </tr>\n",
              "    <tr>\n",
              "      <th>3</th>\n",
              "      <td>120</td>\n",
              "      <td>120.897781</td>\n",
              "      <td>166.594452</td>\n",
              "      <td>172.521118</td>\n",
              "      <td>159.684448</td>\n",
              "      <td>153.772217</td>\n",
              "      <td>153.984436</td>\n",
              "      <td>153.361115</td>\n",
              "      <td>157.393341</td>\n",
              "      <td>161.941116</td>\n",
              "      <td>165.288895</td>\n",
              "      <td>174.563339</td>\n",
              "      <td>178.556671</td>\n",
              "      <td>165.244446</td>\n",
              "      <td>153.248886</td>\n",
              "      <td>111.750000</td>\n",
              "      <td>73.534447</td>\n",
              "      <td>95.832222</td>\n",
              "      <td>88.758888</td>\n",
              "      <td>81.941109</td>\n",
              "      <td>78.110001</td>\n",
              "      <td>77.455566</td>\n",
              "      <td>76.164452</td>\n",
              "      <td>73.434448</td>\n",
              "      <td>72.072227</td>\n",
              "      <td>77.084450</td>\n",
              "      <td>84.811111</td>\n",
              "      <td>84.315552</td>\n",
              "      <td>81.540009</td>\n",
              "      <td>151.869995</td>\n",
              "      <td>174.351105</td>\n",
              "      <td>165.195557</td>\n",
              "      <td>158.550003</td>\n",
              "      <td>151.555557</td>\n",
              "      <td>148.750000</td>\n",
              "      <td>143.602234</td>\n",
              "      <td>142.576660</td>\n",
              "      <td>148.955551</td>\n",
              "      <td>156.182220</td>\n",
              "      <td>164.693329</td>\n",
              "      <td>...</td>\n",
              "      <td>111.388893</td>\n",
              "      <td>114.339996</td>\n",
              "      <td>111.731110</td>\n",
              "      <td>110.952225</td>\n",
              "      <td>90.846664</td>\n",
              "      <td>69.937782</td>\n",
              "      <td>79.050003</td>\n",
              "      <td>99.440002</td>\n",
              "      <td>99.223343</td>\n",
              "      <td>98.968887</td>\n",
              "      <td>91.845558</td>\n",
              "      <td>89.185562</td>\n",
              "      <td>89.361115</td>\n",
              "      <td>88.794449</td>\n",
              "      <td>88.265564</td>\n",
              "      <td>87.836670</td>\n",
              "      <td>89.176666</td>\n",
              "      <td>89.418884</td>\n",
              "      <td>90.037781</td>\n",
              "      <td>91.032219</td>\n",
              "      <td>91.170013</td>\n",
              "      <td>92.115562</td>\n",
              "      <td>92.953331</td>\n",
              "      <td>93.958893</td>\n",
              "      <td>94.923340</td>\n",
              "      <td>94.963333</td>\n",
              "      <td>95.684448</td>\n",
              "      <td>96.954445</td>\n",
              "      <td>98.444443</td>\n",
              "      <td>107.934448</td>\n",
              "      <td>104.958893</td>\n",
              "      <td>105.532227</td>\n",
              "      <td>114.197784</td>\n",
              "      <td>114.426674</td>\n",
              "      <td>112.465561</td>\n",
              "      <td>105.045563</td>\n",
              "      <td>101.818893</td>\n",
              "      <td>102.667778</td>\n",
              "      <td>99.573334</td>\n",
              "      <td>95.906677</td>\n",
              "    </tr>\n",
              "    <tr>\n",
              "      <th>4</th>\n",
              "      <td>133</td>\n",
              "      <td>31.623268</td>\n",
              "      <td>13.783934</td>\n",
              "      <td>17.631580</td>\n",
              "      <td>15.753463</td>\n",
              "      <td>18.772854</td>\n",
              "      <td>19.000000</td>\n",
              "      <td>11.490306</td>\n",
              "      <td>9.905817</td>\n",
              "      <td>11.955679</td>\n",
              "      <td>51.490303</td>\n",
              "      <td>67.839340</td>\n",
              "      <td>71.418282</td>\n",
              "      <td>67.033241</td>\n",
              "      <td>65.792252</td>\n",
              "      <td>66.944603</td>\n",
              "      <td>64.063713</td>\n",
              "      <td>63.889194</td>\n",
              "      <td>67.501381</td>\n",
              "      <td>67.047089</td>\n",
              "      <td>62.049866</td>\n",
              "      <td>60.753464</td>\n",
              "      <td>62.554016</td>\n",
              "      <td>65.434898</td>\n",
              "      <td>65.927979</td>\n",
              "      <td>64.598343</td>\n",
              "      <td>63.213295</td>\n",
              "      <td>61.174515</td>\n",
              "      <td>62.470917</td>\n",
              "      <td>31.313019</td>\n",
              "      <td>14.537397</td>\n",
              "      <td>18.883657</td>\n",
              "      <td>16.983379</td>\n",
              "      <td>16.047092</td>\n",
              "      <td>15.409973</td>\n",
              "      <td>16.171745</td>\n",
              "      <td>16.260387</td>\n",
              "      <td>16.493074</td>\n",
              "      <td>39.041553</td>\n",
              "      <td>64.919670</td>\n",
              "      <td>...</td>\n",
              "      <td>2.000000</td>\n",
              "      <td>2.000000</td>\n",
              "      <td>1.927978</td>\n",
              "      <td>1.894737</td>\n",
              "      <td>1.894737</td>\n",
              "      <td>1.894737</td>\n",
              "      <td>1.695291</td>\n",
              "      <td>1.296399</td>\n",
              "      <td>1.033241</td>\n",
              "      <td>1.000000</td>\n",
              "      <td>1.000000</td>\n",
              "      <td>1.000000</td>\n",
              "      <td>2.000000</td>\n",
              "      <td>2.000000</td>\n",
              "      <td>2.000000</td>\n",
              "      <td>2.000000</td>\n",
              "      <td>2.000000</td>\n",
              "      <td>2.000000</td>\n",
              "      <td>2.000000</td>\n",
              "      <td>2.000000</td>\n",
              "      <td>2.000000</td>\n",
              "      <td>2.000000</td>\n",
              "      <td>2.000000</td>\n",
              "      <td>2.000000</td>\n",
              "      <td>2.000000</td>\n",
              "      <td>2.000000</td>\n",
              "      <td>2.000000</td>\n",
              "      <td>2.000000</td>\n",
              "      <td>2.000000</td>\n",
              "      <td>2.000000</td>\n",
              "      <td>2.000000</td>\n",
              "      <td>2.000000</td>\n",
              "      <td>2.000000</td>\n",
              "      <td>2.000000</td>\n",
              "      <td>2.000000</td>\n",
              "      <td>2.000000</td>\n",
              "      <td>1.941828</td>\n",
              "      <td>1.709141</td>\n",
              "      <td>1.310249</td>\n",
              "      <td>1.000000</td>\n",
              "    </tr>\n",
              "  </tbody>\n",
              "</table>\n",
              "<p>5 rows × 785 columns</p>\n",
              "</div>"
            ],
            "text/plain": [
              "   Width           0           1  ...         781         782         783\n",
              "0    164   77.618080   83.084473  ...  121.978592  119.224266  130.206421\n",
              "1    146  180.191391  178.418472  ...   61.097015   32.638580    8.776318\n",
              "2    173  105.514938  112.817619  ...    0.563099    1.000000    1.000000\n",
              "3    120  120.897781  166.594452  ...  102.667778   99.573334   95.906677\n",
              "4    133   31.623268   13.783934  ...    1.709141    1.310249    1.000000\n",
              "\n",
              "[5 rows x 785 columns]"
            ]
          },
          "metadata": {
            "tags": []
          },
          "execution_count": 25
        }
      ]
    },
    {
      "cell_type": "code",
      "metadata": {
        "id": "ciUjF5tmdqLC",
        "colab": {
          "base_uri": "https://localhost:8080/",
          "height": 282
        },
        "outputId": "d923b24b-d932-47a6-d92f-b4db8d3b83d8"
      },
      "source": [
        "Size=28\n",
        "qual_img=64\n",
        "L = Width[qual_img]\n",
        "data=np.array(df_size.drop('Width',axis=1).iloc[qual_img]).reshape(Size,Size)\n",
        "img = Image.fromarray(data.astype('uint8'), mode='L')\n",
        "img=np.float32(img)\n",
        "img28=cv2.resize(img,(Size,Size), interpolation = cv2.INTER_AREA)\n",
        "Foto=np.array(img28).reshape(28,28)\n",
        "plt.imshow(Foto, cmap = \"gray\")"
      ],
      "execution_count": 49,
      "outputs": [
        {
          "output_type": "execute_result",
          "data": {
            "text/plain": [
              "<matplotlib.image.AxesImage at 0x7f6e81de7a50>"
            ]
          },
          "metadata": {
            "tags": []
          },
          "execution_count": 49
        },
        {
          "output_type": "display_data",
          "data": {
            "image/png": "[encoded data removed]",
            "text/plain": [
              "<Figure size 432x288 with 1 Axes>"
            ]
          },
          "metadata": {
            "tags": [],
            "needs_background": "light"
          }
        }
      ]
    },
    {
      "cell_type": "code",
      "metadata": {
        "id": "V-MTA4fXg2W0"
      },
      "source": [
        "mean_value = np.mean(img)\n",
        "img_new = img.copy()"
      ],
      "execution_count": 27,
      "outputs": []
    },
    {
      "cell_type": "code",
      "metadata": {
        "id": "JbcfWPMdewq3",
        "colab": {
          "base_uri": "https://localhost:8080/",
          "height": 282
        },
        "outputId": "0f4c4457-e90c-43e0-f1b2-bfc273657258"
      },
      "source": [
        "'''\n",
        "for i in range(28):\n",
        "  for j in range(28):\n",
        "    if img[i,j] < mean_value:\n",
        "      img_new[i,j] = 255\n",
        "    else:\n",
        "      img_new[i,j] = 0\n",
        "'''\n",
        "img28=cv2.resize(img_new,(Size,Size), interpolation = cv2.INTER_AREA)\n",
        "Foto=np.array(img28).reshape(28,28)\n",
        "plt.imshow(Foto, cmap = \"gray\")\n"
      ],
      "execution_count": 28,
      "outputs": [
        {
          "output_type": "execute_result",
          "data": {
            "text/plain": [
              "<matplotlib.image.AxesImage at 0x7f6e8b33b790>"
            ]
          },
          "metadata": {
            "tags": []
          },
          "execution_count": 28
        },
        {
          "output_type": "display_data",
          "data": {
            "image/png": "[encoded data removed]",
            "text/plain": [
              "<Figure size 432x288 with 1 Axes>"
            ]
          },
          "metadata": {
            "tags": [],
            "needs_background": "light"
          }
        }
      ]
    },
    {
      "cell_type": "code",
      "metadata": {
        "id": "spRNBSwifDqQ",
        "colab": {
          "base_uri": "https://localhost:8080/"
        },
        "outputId": "ea60198a-ea58-4ae2-8a8e-a29efc386799"
      },
      "source": [
        "L = Width[qual_img]\n",
        "Area = np.sum(img_new) / (255.0 * 28 * 28)* L*L\n",
        "print(Area)"
      ],
      "execution_count": 29,
      "outputs": [
        {
          "output_type": "stream",
          "text": [
            "7259.77818127251\n"
          ],
          "name": "stdout"
        }
      ]
    },
    {
      "cell_type": "code",
      "metadata": {
        "id": "6GP_DXsWibOX"
      },
      "source": [
        "Area_All, Diameter_All=PSDArea(df_size) \n"
      ],
      "execution_count": 30,
      "outputs": []
    },
    {
      "cell_type": "code",
      "metadata": {
        "id": "3ydbrnjewBYL",
        "colab": {
          "base_uri": "https://localhost:8080/"
        },
        "outputId": "da791fdc-af48-44be-aaef-dd3d333fc489"
      },
      "source": [
        "df_size.shape"
      ],
      "execution_count": 31,
      "outputs": [
        {
          "output_type": "execute_result",
          "data": {
            "text/plain": [
              "(78, 785)"
            ]
          },
          "metadata": {
            "tags": []
          },
          "execution_count": 31
        }
      ]
    },
    {
      "cell_type": "code",
      "metadata": {
        "id": "3L3IfgxMs3dI",
        "colab": {
          "base_uri": "https://localhost:8080/"
        },
        "outputId": "7109927e-f4c3-4e29-ee9e-50e027e45cf3"
      },
      "source": [
        "# print(Area_All)\n",
        "print(Diameter_All)"
      ],
      "execution_count": 32,
      "outputs": [
        {
          "output_type": "stream",
          "text": [
            "[1.5436921423314065, 1.384698428286561, 1.0564134678377122, 1.2310880802359003, 0.9044049570658085, 1.1707360160660445, 1.2520453678231513, 1.0598596417563093, 1.3812838151415083, 0.7410298479948897, 1.1766984667339966, 1.5866096817638615, 0.7880310127746768, 1.539770434706567, 1.5093835887457623, 1.39624905428979, 1.4095333175333138, 1.011669892340984, 1.4515883736189794, 1.7319661700126339, 1.1445773135547874, 1.0084329907384075, 1.6379139914027356, 1.590092629876879, 1.527133658976326, 1.5341332341368616, 1.0494524750514034, 0.9971291780731059, 1.362698932048382, 1.0594207179646309, 1.0595690370257704, 1.8294017420926814, 1.7775036971709541, 1.311305233729297, 1.7112381808090265, 0.7326248366160396, 1.3472826222212084, 1.0838201492436879, 1.3219196273027904, 1.3931704983961222, 1.4854358138770107, 0.7910428856047419, 1.6377719163117281, 1.539910297346397, 1.1616482192209856, 1.4001714540812489, 1.4874286783607673, 0.8928259810638252, 1.309869964525514, 1.0484203128949652, 1.7217157655863173, 1.0548836462506423, 0.9473973555309126, 1.0417364270177876, 1.4099727692658848, 1.1697749155716937, 0.8357559922661817, 1.0060168681063282, 1.4628968607449953, 0.9571798456670058, 1.5696777770851216, 1.8237070640465376, 1.0473959645185855, 1.618374961736267, 1.3870672941029718, 1.5390542299550385, 0.9185378824270316, 1.807249337363598, 1.681902281424718, 1.4403596209798946, 1.5296068224157175, 1.437895732824241, 0.9781891603346031, 1.3750617241953467, 0.7780046308894342, 0.8122701110057926, 1.5296068224157175, 1.1128368815750824]\n"
          ],
          "name": "stdout"
        }
      ]
    },
    {
      "cell_type": "code",
      "metadata": {
        "id": "oeLlypq5gbFa"
      },
      "source": [
        ""
      ],
      "execution_count": 32,
      "outputs": []
    },
    {
      "cell_type": "code",
      "metadata": {
        "id": "YJFWGVQJLwRo",
        "colab": {
          "base_uri": "https://localhost:8080/"
        },
        "outputId": "a43dc9ca-4e31-48ea-bd1b-ca23d8b43471"
      },
      "source": [
        "diam = Diameter_All.copy()\n",
        "PSD_value, Perc_value = PSD(diam)\n",
        "print(Perc_value)"
      ],
      "execution_count": 33,
      "outputs": [
        {
          "output_type": "stream",
          "text": [
            "[ 0.          0.          0.          0.          0.          0.\n",
            "  0.          8.97435897  8.97435897 24.35897436 57.69230769]\n"
          ],
          "name": "stdout"
        }
      ]
    },
    {
      "cell_type": "code",
      "metadata": {
        "id": "Zvked-F_kPwi",
        "colab": {
          "base_uri": "https://localhost:8080/"
        },
        "outputId": "0aaa0a52-eb1f-4105-ff13-d93eec2fe181"
      },
      "source": [
        "!git clone https://github.com/ucfilho/marquesgabi_out_2020\n",
        "%cd marquesgabi_out_2020\n",
        "PSD_imageJ = 'Areas_ImageJ.csv'\n",
        "PSD_new = pd.read_csv(PSD_imageJ)\n",
        "print(PSD_new.head(3))"
      ],
      "execution_count": 34,
      "outputs": [
        {
          "output_type": "stream",
          "text": [
            "Cloning into 'marquesgabi_out_2020'...\n",
            "remote: Enumerating objects: 146, done.\u001b[K\n",
            "remote: Counting objects: 100% (146/146), done.\u001b[K\n",
            "remote: Compressing objects: 100% (142/142), done.\u001b[K\n",
            "remote: Total 146 (delta 75), reused 0 (delta 0), pack-reused 0\u001b[K\n",
            "Receiving objects: 100% (146/146), 1.00 MiB | 7.39 MiB/s, done.\n",
            "Resolving deltas: 100% (75/75), done.\n",
            "/content/marquesgabi_fev_2020/marquesgabi_paper_fev_2021/Doutorado/marquesgabi_paper_fev_2021/ANN_Ajuste_mar_2021/Doutorado/Doutorado/marquesgabi_out_2020\n",
            "   Juntas   Area\n",
            "0       1  2.001\n",
            "1       2  0.820\n",
            "2       3  1.270\n"
          ],
          "name": "stdout"
        }
      ]
    },
    {
      "cell_type": "code",
      "metadata": {
        "id": "004Ki_RdzWqi"
      },
      "source": [
        "Area = np.array(PSD_new['Area'])\n",
        "diam_teste = []\n",
        "for A in Area:\n",
        "  diam_teste.append((4*A/np.pi)**0.5) \n",
        "\n",
        "Diam1 = [ (4*A/np.pi)**0.5 for A in Area]"
      ],
      "execution_count": 35,
      "outputs": []
    },
    {
      "cell_type": "code",
      "metadata": {
        "colab": {
          "base_uri": "https://localhost:8080/",
          "height": 402
        },
        "id": "0dIK1uV4DqR-",
        "outputId": "f1bf0b9d-7945-4b3c-d615-6a841c206e83"
      },
      "source": [
        "PSD_new"
      ],
      "execution_count": 36,
      "outputs": [
        {
          "output_type": "execute_result",
          "data": {
            "text/html": [
              "<div>\n",
              "<style scoped>\n",
              "    .dataframe tbody tr th:only-of-type {\n",
              "        vertical-align: middle;\n",
              "    }\n",
              "\n",
              "    .dataframe tbody tr th {\n",
              "        vertical-align: top;\n",
              "    }\n",
              "\n",
              "    .dataframe thead th {\n",
              "        text-align: right;\n",
              "    }\n",
              "</style>\n",
              "<table border=\"1\" class=\"dataframe\">\n",
              "  <thead>\n",
              "    <tr style=\"text-align: right;\">\n",
              "      <th></th>\n",
              "      <th>Juntas</th>\n",
              "      <th>Area</th>\n",
              "    </tr>\n",
              "  </thead>\n",
              "  <tbody>\n",
              "    <tr>\n",
              "      <th>0</th>\n",
              "      <td>1</td>\n",
              "      <td>2.001</td>\n",
              "    </tr>\n",
              "    <tr>\n",
              "      <th>1</th>\n",
              "      <td>2</td>\n",
              "      <td>0.820</td>\n",
              "    </tr>\n",
              "    <tr>\n",
              "      <th>2</th>\n",
              "      <td>3</td>\n",
              "      <td>1.270</td>\n",
              "    </tr>\n",
              "    <tr>\n",
              "      <th>3</th>\n",
              "      <td>4</td>\n",
              "      <td>0.958</td>\n",
              "    </tr>\n",
              "    <tr>\n",
              "      <th>4</th>\n",
              "      <td>5</td>\n",
              "      <td>1.162</td>\n",
              "    </tr>\n",
              "    <tr>\n",
              "      <th>...</th>\n",
              "      <td>...</td>\n",
              "      <td>...</td>\n",
              "    </tr>\n",
              "    <tr>\n",
              "      <th>90</th>\n",
              "      <td>30</td>\n",
              "      <td>1.064</td>\n",
              "    </tr>\n",
              "    <tr>\n",
              "      <th>91</th>\n",
              "      <td>31</td>\n",
              "      <td>1.341</td>\n",
              "    </tr>\n",
              "    <tr>\n",
              "      <th>92</th>\n",
              "      <td>32</td>\n",
              "      <td>1.044</td>\n",
              "    </tr>\n",
              "    <tr>\n",
              "      <th>93</th>\n",
              "      <td>33</td>\n",
              "      <td>1.337</td>\n",
              "    </tr>\n",
              "    <tr>\n",
              "      <th>94</th>\n",
              "      <td>34</td>\n",
              "      <td>1.341</td>\n",
              "    </tr>\n",
              "  </tbody>\n",
              "</table>\n",
              "<p>95 rows × 2 columns</p>\n",
              "</div>"
            ],
            "text/plain": [
              "    Juntas   Area\n",
              "0        1  2.001\n",
              "1        2  0.820\n",
              "2        3  1.270\n",
              "3        4  0.958\n",
              "4        5  1.162\n",
              "..     ...    ...\n",
              "90      30  1.064\n",
              "91      31  1.341\n",
              "92      32  1.044\n",
              "93      33  1.337\n",
              "94      34  1.341\n",
              "\n",
              "[95 rows x 2 columns]"
            ]
          },
          "metadata": {
            "tags": []
          },
          "execution_count": 36
        }
      ]
    },
    {
      "cell_type": "code",
      "metadata": {
        "id": "40Fdww7M1KSx",
        "colab": {
          "base_uri": "https://localhost:8080/"
        },
        "outputId": "e14eecdf-168c-40e5-d252-3a0f353b26b3"
      },
      "source": [
        "PSD_new, Perc_new = PSD(Diam1)  # imageJ\n",
        "print(Perc_new)\n",
        "print(Perc_value)"
      ],
      "execution_count": 37,
      "outputs": [
        {
          "output_type": "stream",
          "text": [
            "[ 0.          0.          0.          0.          0.          0.\n",
            "  0.          4.21052632 10.52631579 23.15789474 62.10526316]\n",
            "[ 0.          0.          0.          0.          0.          0.\n",
            "  0.          8.97435897  8.97435897 24.35897436 57.69230769]\n"
          ],
          "name": "stdout"
        }
      ]
    },
    {
      "cell_type": "code",
      "metadata": {
        "id": "jeTMW3eVbpAY",
        "colab": {
          "base_uri": "https://localhost:8080/"
        },
        "outputId": "d460bba7-f109-4197-b1a3-4cb6e7e0b0d4"
      },
      "source": [
        "np.sum(np.array(Perc_value))"
      ],
      "execution_count": 38,
      "outputs": [
        {
          "output_type": "execute_result",
          "data": {
            "text/plain": [
              "100.0"
            ]
          },
          "metadata": {
            "tags": []
          },
          "execution_count": 38
        }
      ]
    },
    {
      "cell_type": "code",
      "metadata": {
        "id": "oAuyxTmrmc9Y",
        "colab": {
          "base_uri": "https://localhost:8080/",
          "height": 282
        },
        "outputId": "1b9e2691-7b7d-41e2-e30c-ca7b33572de8"
      },
      "source": [
        "plt.plot( Perc_value,Perc_new )"
      ],
      "execution_count": 39,
      "outputs": [
        {
          "output_type": "execute_result",
          "data": {
            "text/plain": [
              "[<matplotlib.lines.Line2D at 0x7f6e82336410>]"
            ]
          },
          "metadata": {
            "tags": []
          },
          "execution_count": 39
        },
        {
          "output_type": "display_data",
          "data": {
            "image/png": "[encoded data removed]",
            "text/plain": [
              "<Figure size 432x288 with 1 Axes>"
            ]
          },
          "metadata": {
            "tags": [],
            "needs_background": "light"
          }
        }
      ]
    },
    {
      "cell_type": "code",
      "metadata": {
        "id": "n1r49MHFvsPP",
        "colab": {
          "base_uri": "https://localhost:8080/",
          "height": 265
        },
        "outputId": "03b2e0e9-4b0d-4188-97b1-0a241878c1d4"
      },
      "source": [
        "PSD_comparison = pd.DataFrame({ 'CNN':Perc_value,'ImgJ':Perc_new})\n",
        "ax = PSD_comparison.plot.bar(rot=0)"
      ],
      "execution_count": 40,
      "outputs": [
        {
          "output_type": "display_data",
          "data": {
            "image/png": "[encoded data removed]",
            "text/plain": [
              "<Figure size 432x288 with 1 Axes>"
            ]
          },
          "metadata": {
            "tags": [],
            "needs_background": "light"
          }
        }
      ]
    },
    {
      "cell_type": "code",
      "metadata": {
        "id": "enuGx6kH4cFh"
      },
      "source": [
        ""
      ],
      "execution_count": 40,
      "outputs": []
    },
    {
      "cell_type": "code",
      "metadata": {
        "id": "sW4TRqxc0Li-",
        "colab": {
          "base_uri": "https://localhost:8080/"
        },
        "outputId": "cbe9086e-c1ce-44d1-c373-1f32de4490ee"
      },
      "source": [
        "results = smf.ols('ImgJ ~ CNN', data=PSD_comparison).fit()\n",
        "print(results.summary())"
      ],
      "execution_count": 41,
      "outputs": [
        {
          "output_type": "stream",
          "text": [
            "                            OLS Regression Results                            \n",
            "==============================================================================\n",
            "Dep. Variable:                   ImgJ   R-squared:                       0.991\n",
            "Model:                            OLS   Adj. R-squared:                  0.990\n",
            "Method:                 Least Squares   F-statistic:                     951.5\n",
            "Date:                Thu, 18 Mar 2021   Prob (F-statistic):           1.94e-10\n",
            "Time:                        14:05:09   Log-Likelihood:                -21.791\n",
            "No. Observations:                  11   AIC:                             47.58\n",
            "Df Residuals:                       9   BIC:                             48.38\n",
            "Df Model:                           1                                         \n",
            "Covariance Type:            nonrobust                                         \n",
            "==============================================================================\n",
            "                 coef    std err          t      P>|t|      [0.025      0.975]\n",
            "------------------------------------------------------------------------------\n",
            "Intercept     -0.5629      0.663     -0.849      0.418      -2.063       0.937\n",
            "CNN            1.0619      0.034     30.847      0.000       0.984       1.140\n",
            "==============================================================================\n",
            "Omnibus:                       14.893   Durbin-Watson:                   2.792\n",
            "Prob(Omnibus):                  0.001   Jarque-Bera (JB):                8.512\n",
            "Skew:                          -1.847   Prob(JB):                       0.0142\n",
            "Kurtosis:                       5.218   Cond. No.                         21.9\n",
            "==============================================================================\n",
            "\n",
            "Warnings:\n",
            "[1] Standard Errors assume that the covariance matrix of the errors is correctly specified.\n"
          ],
          "name": "stdout"
        },
        {
          "output_type": "stream",
          "text": [
            "/usr/local/lib/python3.7/dist-packages/scipy/stats/stats.py:1535: UserWarning: kurtosistest only valid for n>=20 ... continuing anyway, n=11\n",
            "  \"anyway, n=%i\" % int(n))\n"
          ],
          "name": "stderr"
        }
      ]
    },
    {
      "cell_type": "code",
      "metadata": {
        "id": "Ctf4oExeyz1B",
        "colab": {
          "base_uri": "https://localhost:8080/",
          "height": 282
        },
        "outputId": "022e91ab-141c-42bd-8b2d-c5603dc08ae7"
      },
      "source": [
        "#plt.plot(Diam)\n",
        "plt.plot(Diameter_All)"
      ],
      "execution_count": 42,
      "outputs": [
        {
          "output_type": "execute_result",
          "data": {
            "text/plain": [
              "[<matplotlib.lines.Line2D at 0x7f6e820ec810>]"
            ]
          },
          "metadata": {
            "tags": []
          },
          "execution_count": 42
        },
        {
          "output_type": "display_data",
          "data": {
            "image/png": "[encoded data removed]",
            "text/plain": [
              "<Figure size 432x288 with 1 Axes>"
            ]
          },
          "metadata": {
            "tags": [],
            "needs_background": "light"
          }
        }
      ]
    },
    {
      "cell_type": "code",
      "metadata": {
        "id": "WKwv70Nty2jF",
        "colab": {
          "base_uri": "https://localhost:8080/",
          "height": 282
        },
        "outputId": "2d6b8123-d86e-4d04-e20d-f8fde026e007"
      },
      "source": [
        "plt.plot(Diam1)"
      ],
      "execution_count": 43,
      "outputs": [
        {
          "output_type": "execute_result",
          "data": {
            "text/plain": [
              "[<matplotlib.lines.Line2D at 0x7f6e82061110>]"
            ]
          },
          "metadata": {
            "tags": []
          },
          "execution_count": 43
        },
        {
          "output_type": "display_data",
          "data": {
            "image/png": "[encoded data removed]",
            "text/plain": [
              "<Figure size 432x288 with 1 Axes>"
            ]
          },
          "metadata": {
            "tags": [],
            "needs_background": "light"
          }
        }
      ]
    },
    {
      "cell_type": "code",
      "metadata": {
        "id": "eDfOaBFQ3BMS",
        "colab": {
          "base_uri": "https://localhost:8080/",
          "height": 284
        },
        "outputId": "549b5ee2-b461-42e8-e910-98c65c540da2"
      },
      "source": [
        "df_diam=pd.DataFrame(Diam1)\r\n",
        "df_diam.describe()"
      ],
      "execution_count": 44,
      "outputs": [
        {
          "output_type": "execute_result",
          "data": {
            "text/html": [
              "<div>\n",
              "<style scoped>\n",
              "    .dataframe tbody tr th:only-of-type {\n",
              "        vertical-align: middle;\n",
              "    }\n",
              "\n",
              "    .dataframe tbody tr th {\n",
              "        vertical-align: top;\n",
              "    }\n",
              "\n",
              "    .dataframe thead th {\n",
              "        text-align: right;\n",
              "    }\n",
              "</style>\n",
              "<table border=\"1\" class=\"dataframe\">\n",
              "  <thead>\n",
              "    <tr style=\"text-align: right;\">\n",
              "      <th></th>\n",
              "      <th>0</th>\n",
              "    </tr>\n",
              "  </thead>\n",
              "  <tbody>\n",
              "    <tr>\n",
              "      <th>count</th>\n",
              "      <td>95.000000</td>\n",
              "    </tr>\n",
              "    <tr>\n",
              "      <th>mean</th>\n",
              "      <td>1.260307</td>\n",
              "    </tr>\n",
              "    <tr>\n",
              "      <th>std</th>\n",
              "      <td>0.258410</td>\n",
              "    </tr>\n",
              "    <tr>\n",
              "      <th>min</th>\n",
              "      <td>0.753568</td>\n",
              "    </tr>\n",
              "    <tr>\n",
              "      <th>25%</th>\n",
              "      <td>1.117893</td>\n",
              "    </tr>\n",
              "    <tr>\n",
              "      <th>50%</th>\n",
              "      <td>1.267607</td>\n",
              "    </tr>\n",
              "    <tr>\n",
              "      <th>75%</th>\n",
              "      <td>1.376667</td>\n",
              "    </tr>\n",
              "    <tr>\n",
              "      <th>max</th>\n",
              "      <td>2.317439</td>\n",
              "    </tr>\n",
              "  </tbody>\n",
              "</table>\n",
              "</div>"
            ],
            "text/plain": [
              "               0\n",
              "count  95.000000\n",
              "mean    1.260307\n",
              "std     0.258410\n",
              "min     0.753568\n",
              "25%     1.117893\n",
              "50%     1.267607\n",
              "75%     1.376667\n",
              "max     2.317439"
            ]
          },
          "metadata": {
            "tags": []
          },
          "execution_count": 44
        }
      ]
    },
    {
      "cell_type": "code",
      "metadata": {
        "id": "LKMhybhA4gjO",
        "colab": {
          "base_uri": "https://localhost:8080/",
          "height": 335
        },
        "outputId": "eee30519-04e5-46ba-fe8d-4339d22a73d5"
      },
      "source": [
        "plt.hist([Diam1,Diameter_All])\r\n",
        "plt.legend(['Image J','CNN'])"
      ],
      "execution_count": 45,
      "outputs": [
        {
          "output_type": "stream",
          "text": [
            "/usr/local/lib/python3.7/dist-packages/numpy/core/_asarray.py:83: VisibleDeprecationWarning: Creating an ndarray from ragged nested sequences (which is a list-or-tuple of lists-or-tuples-or ndarrays with different lengths or shapes) is deprecated. If you meant to do this, you must specify 'dtype=object' when creating the ndarray\n",
            "  return array(a, dtype, copy=False, order=order)\n"
          ],
          "name": "stderr"
        },
        {
          "output_type": "execute_result",
          "data": {
            "text/plain": [
              "<matplotlib.legend.Legend at 0x7f6e8201eb10>"
            ]
          },
          "metadata": {
            "tags": []
          },
          "execution_count": 45
        },
        {
          "output_type": "display_data",
          "data": {
            "image/png": "[encoded data removed]",
            "text/plain": [
              "<Figure size 432x288 with 1 Axes>"
            ]
          },
          "metadata": {
            "tags": [],
            "needs_background": "light"
          }
        }
      ]
    },
    {
      "cell_type": "code",
      "metadata": {
        "id": "NHgkMv8i5nNz",
        "colab": {
          "base_uri": "https://localhost:8080/",
          "height": 349
        },
        "outputId": "4046222a-9abe-48ba-8cea-e8b71e74b43c"
      },
      "source": [
        "plt.hist(Diam1, alpha=0.5)\r\n",
        "plt.hist(Diameter_All, alpha=0.5)"
      ],
      "execution_count": 46,
      "outputs": [
        {
          "output_type": "execute_result",
          "data": {
            "text/plain": [
              "(array([ 7.,  4., 15.,  6.,  3.,  9., 11., 12.,  5.,  6.]),\n",
              " array([0.73262484, 0.84230253, 0.95198022, 1.06165791, 1.1713356 ,\n",
              "        1.28101329, 1.39069098, 1.50036867, 1.61004636, 1.71972405,\n",
              "        1.82940174]),\n",
              " <a list of 10 Patch objects>)"
            ]
          },
          "metadata": {
            "tags": []
          },
          "execution_count": 46
        },
        {
          "output_type": "display_data",
          "data": {
            "image/png": "[encoded data removed]",
            "text/plain": [
              "<Figure size 432x288 with 1 Axes>"
            ]
          },
          "metadata": {
            "tags": [],
            "needs_background": "light"
          }
        }
      ]
    },
    {
      "cell_type": "markdown",
      "metadata": {
        "id": "9Pq4DTm1np4i"
      },
      "source": [
        ""
      ]
    }
  ]
}