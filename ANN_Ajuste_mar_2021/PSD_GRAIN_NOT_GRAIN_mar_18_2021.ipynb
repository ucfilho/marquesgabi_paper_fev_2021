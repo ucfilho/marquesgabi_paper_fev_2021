{
  "nbformat": 4,
  "nbformat_minor": 0,
  "metadata": {
    "colab": {
      "name": "PSD_GRAIN_NOT_GRAIN_mar_18_2021.ipynb",
      "provenance": [],
      "collapsed_sections": [],
      "include_colab_link": true
    },
    "kernelspec": {
      "name": "python3",
      "display_name": "Python 3"
    }
  },
  "cells": [
    {
      "cell_type": "markdown",
      "metadata": {
        "id": "view-in-github",
        "colab_type": "text"
      },
      "source": [
        "<a href=\"https://colab.research.google.com/github/ucfilho/marquesgabi_paper_fev_2021/blob/main/ANN_Ajuste_mar_2021/PSD_GRAIN_NOT_GRAIN_mar_18_2021.ipynb\" target=\"_parent\"><img src=\"https://colab.research.google.com/assets/colab-badge.svg\" alt=\"Open In Colab\"/></a>"
      ]
    },
    {
      "cell_type": "code",
      "metadata": {
        "id": "Sog7Z9pyhUD_"
      },
      "source": [
        "import matplotlib.pyplot as plt\n",
        "import numpy as np\n",
        "import cv2\n",
        "import zipfile\n",
        "#import random\n",
        "from random import randint\n",
        "from PIL import Image\n",
        "import re\n",
        "from sklearn.model_selection import train_test_split\n",
        "#import scikit-image\n",
        "import skimage\n",
        "import pandas as pd\n",
        "import statsmodels.api as sm\n",
        "import statsmodels.formula.api as smf"
      ],
      "execution_count": null,
      "outputs": []
    },
    {
      "cell_type": "code",
      "metadata": {
        "id": "uZEvJvfoibE4",
        "colab": {
          "base_uri": "https://localhost:8080/"
        },
        "outputId": "8d321321-b877-4e76-c323-2acdac85acd2"
      },
      "source": [
        "!pip install mahotas"
      ],
      "execution_count": null,
      "outputs": [
        {
          "output_type": "stream",
          "text": [
            "Requirement already satisfied: mahotas in /usr/local/lib/python3.7/dist-packages (1.4.11)\n",
            "Requirement already satisfied: numpy in /usr/local/lib/python3.7/dist-packages (from mahotas) (1.19.5)\n"
          ],
          "name": "stdout"
        }
      ]
    },
    {
      "cell_type": "code",
      "metadata": {
        "id": "_VcTdaNVh9EE",
        "colab": {
          "base_uri": "https://localhost:8080/"
        },
        "outputId": "9d11ea0d-12af-441c-bd12-37ddf7adc1ff"
      },
      "source": [
        "!git clone https://github.com/ucfilho/marquesgabi_fev_2020 #clonar do Github\n",
        "%cd marquesgabi_fev_2020\n",
        "import Go2BlackWhite\n",
        "import Go2Mahotas"
      ],
      "execution_count": null,
      "outputs": [
        {
          "output_type": "stream",
          "text": [
            "Cloning into 'marquesgabi_fev_2020'...\n",
            "remote: Enumerating objects: 73, done.\u001b[K\n",
            "remote: Counting objects:   1% (1/73)\u001b[K\rremote: Counting objects:   2% (2/73)\u001b[K\rremote: Counting objects:   4% (3/73)\u001b[K\rremote: Counting objects:   5% (4/73)\u001b[K\rremote: Counting objects:   6% (5/73)\u001b[K\rremote: Counting objects:   8% (6/73)\u001b[K\rremote: Counting objects:   9% (7/73)\u001b[K\rremote: Counting objects:  10% (8/73)\u001b[K\rremote: Counting objects:  12% (9/73)\u001b[K\rremote: Counting objects:  13% (10/73)\u001b[K\rremote: Counting objects:  15% (11/73)\u001b[K\rremote: Counting objects:  16% (12/73)\u001b[K\rremote: Counting objects:  17% (13/73)\u001b[K\rremote: Counting objects:  19% (14/73)\u001b[K\rremote: Counting objects:  20% (15/73)\u001b[K\rremote: Counting objects:  21% (16/73)\u001b[K\rremote: Counting objects:  23% (17/73)\u001b[K\rremote: Counting objects:  24% (18/73)\u001b[K\rremote: Counting objects:  26% (19/73)\u001b[K\rremote: Counting objects:  27% (20/73)\u001b[K\rremote: Counting objects:  28% (21/73)\u001b[K\rremote: Counting objects:  30% (22/73)\u001b[K\rremote: Counting objects:  31% (23/73)\u001b[K\rremote: Counting objects:  32% (24/73)\u001b[K\rremote: Counting objects:  34% (25/73)\u001b[K\rremote: Counting objects:  35% (26/73)\u001b[K\rremote: Counting objects:  36% (27/73)\u001b[K\rremote: Counting objects:  38% (28/73)\u001b[K\rremote: Counting objects:  39% (29/73)\u001b[K\rremote: Counting objects:  41% (30/73)\u001b[K\rremote: Counting objects:  42% (31/73)\u001b[K\rremote: Counting objects:  43% (32/73)\u001b[K\rremote: Counting objects:  45% (33/73)\u001b[K\rremote: Counting objects:  46% (34/73)\u001b[K\rremote: Counting objects:  47% (35/73)\u001b[K\rremote: Counting objects:  49% (36/73)\u001b[K\rremote: Counting objects:  50% (37/73)\u001b[K\rremote: Counting objects:  52% (38/73)\u001b[K\rremote: Counting objects:  53% (39/73)\u001b[K\rremote: Counting objects:  54% (40/73)\u001b[K\rremote: Counting objects:  56% (41/73)\u001b[K\rremote: Counting objects:  57% (42/73)\u001b[K\rremote: Counting objects:  58% (43/73)\u001b[K\rremote: Counting objects:  60% (44/73)\u001b[K\rremote: Counting objects:  61% (45/73)\u001b[K\rremote: Counting objects:  63% (46/73)\u001b[K\rremote: Counting objects:  64% (47/73)\u001b[K\rremote: Counting objects:  65% (48/73)\u001b[K\rremote: Counting objects:  67% (49/73)\u001b[K\rremote: Counting objects:  68% (50/73)\u001b[K\rremote: Counting objects:  69% (51/73)\u001b[K\rremote: Counting objects:  71% (52/73)\u001b[K\rremote: Counting objects:  72% (53/73)\u001b[K\rremote: Counting objects:  73% (54/73)\u001b[K\rremote: Counting objects:  75% (55/73)\u001b[K\rremote: Counting objects:  76% (56/73)\u001b[K\rremote: Counting objects:  78% (57/73)\u001b[K\rremote: Counting objects:  79% (58/73)\u001b[K\rremote: Counting objects:  80% (59/73)\u001b[K\rremote: Counting objects:  82% (60/73)\u001b[K\rremote: Counting objects:  83% (61/73)\u001b[K\rremote: Counting objects:  84% (62/73)\u001b[K\rremote: Counting objects:  86% (63/73)\u001b[K\rremote: Counting objects:  87% (64/73)\u001b[K\rremote: Counting objects:  89% (65/73)\u001b[K\rremote: Counting objects:  90% (66/73)\u001b[K\rremote: Counting objects:  91% (67/73)\u001b[K\rremote: Counting objects:  93% (68/73)\u001b[K\rremote: Counting objects:  94% (69/73)\u001b[K\rremote: Counting objects:  95% (70/73)\u001b[K\rremote: Counting objects:  97% (71/73)\u001b[K\rremote: Counting objects:  98% (72/73)\u001b[K\rremote: Counting objects: 100% (73/73)\u001b[K\rremote: Counting objects: 100% (73/73), done.\u001b[K\n",
            "remote: Compressing objects: 100% (71/71), done.\u001b[K\n",
            "remote: Total 73 (delta 37), reused 0 (delta 0), pack-reused 0\u001b[K\n",
            "Unpacking objects: 100% (73/73), done.\n",
            "/content/marquesgabi_fev_2020/marquesgabi_paper_fev_2021/Doutorado/marquesgabi_paper_fev_2021/Doutorado/Doutorado/marquesgabi_out_2020/marquesgabi_fev_2020\n"
          ],
          "name": "stdout"
        }
      ]
    },
    {
      "cell_type": "code",
      "metadata": {
        "id": "nf_a6PJ1iUnT"
      },
      "source": [
        "import mahotas.features.texture as mht\n",
        "import mahotas.features"
      ],
      "execution_count": null,
      "outputs": []
    },
    {
      "cell_type": "code",
      "metadata": {
        "id": "wj62HANgnpnR",
        "colab": {
          "base_uri": "https://localhost:8080/"
        },
        "outputId": "60ac2f89-2f17-411e-b0f4-036271fc1a46"
      },
      "source": [
        "!git clone https://github.com/ucfilho/marquesgabi_paper_fev_2021\n",
        "%cd marquesgabi_paper_fev_2021\n",
        "\n",
        "from Get_PSDArea_New import PSDArea\n",
        "from histogram_fev_2021 import PSD\n",
        "from GetBetterSegm import GetBetter"
      ],
      "execution_count": null,
      "outputs": [
        {
          "output_type": "stream",
          "text": [
            "Cloning into 'marquesgabi_paper_fev_2021'...\n",
            "remote: Enumerating objects: 152, done.\u001b[K\n",
            "remote: Counting objects: 100% (152/152), done.\u001b[K\n",
            "remote: Compressing objects: 100% (150/150), done.\u001b[K\n",
            "remote: Total 152 (delta 86), reused 0 (delta 0), pack-reused 0\u001b[K\n",
            "Receiving objects: 100% (152/152), 438.64 KiB | 9.97 MiB/s, done.\n",
            "Resolving deltas: 100% (86/86), done.\n",
            "/content/marquesgabi_fev_2020/marquesgabi_paper_fev_2021/Doutorado/marquesgabi_paper_fev_2021/Doutorado/Doutorado/marquesgabi_out_2020/marquesgabi_fev_2020/marquesgabi_paper_fev_2021\n"
          ],
          "name": "stdout"
        }
      ]
    },
    {
      "cell_type": "code",
      "metadata": {
        "id": "8L6KJ4jc3ahG",
        "colab": {
          "base_uri": "https://localhost:8080/"
        },
        "outputId": "caf04af6-4043-441f-8d34-dc20b7d85c1d"
      },
      "source": [
        "!ls"
      ],
      "execution_count": null,
      "outputs": [
        {
          "output_type": "stream",
          "text": [
            "ANN_FIND_GRAIN_MAR_2021.py\n",
            "ANN_FIND_GRAIN_NOVO.py\n",
            "ANN_FIND_GRAIN_PAPER_STEP_02.py\n",
            "big_segment.py\n",
            "CNN_classify_grain_feb_15_2021.ipynb\n",
            "CNN_DESCRIPTION.ipynb\n",
            "CNN_FIND_GRAIN_PAPER_STEP_02.py\n",
            "EPOCHS_graphic.csv\n",
            "EPOCHS_graphic.txt\n",
            "Fig_05_BIG_Segmentation_jan_25_2021.ipynb\n",
            "GetBetterSegm.py\n",
            "Get_PSDArea_New.py\n",
            "Graphic_Epochs_fev_09_2020.ipynb\n",
            "histogram_fev_2021.py\n",
            "PSD_CNN_GRAIN_NOT_GRAIN_step_02_paper.ipynb\n",
            "PSD_GRAIN_NOT_GRAIN_dez_04_2020.ipynb\n",
            "PSD_GRAIN_NOT_GRAIN_fev_18_2021.ipynb\n",
            "PSD_GRAIN_NOT_GRAIN_mar_11_2021.ipynb\n",
            "PSD_GRAIN_NOT_GRAIN_step_02_paper.ipynb\n",
            "psd_mahotas.py\n",
            "README.md\n"
          ],
          "name": "stdout"
        }
      ]
    },
    {
      "cell_type": "code",
      "metadata": {
        "id": "1v7SRrc8mH2N",
        "colab": {
          "base_uri": "https://localhost:8080/"
        },
        "outputId": "f7176aae-e2bc-4819-d655-d8b30ef4b4ce"
      },
      "source": [
        "!git clone https://github.com/marquesgabi/Doutorado\n",
        "%cd Doutorado\n",
        "\n",
        "Transfere='Fotos_Grandes_3cdAmostra.zip'\n",
        "file_name = zipfile.ZipFile(Transfere, 'r')\n",
        "file_name.extractall()"
      ],
      "execution_count": null,
      "outputs": [
        {
          "output_type": "stream",
          "text": [
            "Cloning into 'Doutorado'...\n",
            "remote: Enumerating objects: 52, done.\u001b[K\n",
            "remote: Counting objects: 100% (52/52), done.\u001b[K\n",
            "remote: Compressing objects: 100% (52/52), done.\u001b[K\n",
            "remote: Total 302 (delta 21), reused 0 (delta 0), pack-reused 250\u001b[K\n",
            "Receiving objects: 100% (302/302), 115.75 MiB | 41.54 MiB/s, done.\n",
            "Resolving deltas: 100% (138/138), done.\n",
            "/content/marquesgabi_fev_2020/marquesgabi_paper_fev_2021/Doutorado/marquesgabi_paper_fev_2021/Doutorado/Doutorado/marquesgabi_out_2020/marquesgabi_fev_2020/marquesgabi_paper_fev_2021/Doutorado\n"
          ],
          "name": "stdout"
        }
      ]
    },
    {
      "cell_type": "code",
      "metadata": {
        "id": "0kA4IWSmasoD"
      },
      "source": [
        "Size=1200 # tamanho da foto\n",
        "ww,img_name=Go2BlackWhite.BlackWhite(Transfere,Size) #Pegamos a primeira foto Grande\n",
        "img=ww[0] \n",
        "# this is the big image we want to segment \n",
        "# ww[0], change it if you want to segment another picture"
      ],
      "execution_count": null,
      "outputs": []
    },
    {
      "cell_type": "code",
      "metadata": {
        "id": "g_k1Ktz3izJv",
        "colab": {
          "base_uri": "https://localhost:8080/"
        },
        "outputId": "163f64c0-3a4a-46b8-9936-bf4758ff7134"
      },
      "source": [
        "!git clone https://github.com/marquesgabi/Doutorado\n",
        "# %cd Doutorado\n",
        "Transfere='FotosTreino882_and_Segm.zip'\n",
        "file_name = zipfile.ZipFile(Transfere, 'r')\n",
        "file_name.extractall()\n",
        "\n",
        "\"\"\"# First step: get the segmented file (photos stored in csv file)\"\"\"\n",
        "\n",
        "labels = [] #name files\n",
        "\n",
        "with zipfile.ZipFile(Transfere, \"r\") as f:\n",
        "  for f in f.namelist():\n",
        "    labels.append(f)\n",
        "\n",
        "Num=len(labels)\n",
        "df=pd.read_csv(labels[0])\n",
        "for i in range(1,Num):\n",
        "  df_new=pd.read_csv(labels[i])\n",
        "  df_new = df_new[~df_new['Type'].isin(['G'])] # drop grain row which is not in 882\n",
        "  frames = [df, df_new]\n",
        "  df= pd.concat(frames, ignore_index=True)"
      ],
      "execution_count": null,
      "outputs": [
        {
          "output_type": "stream",
          "text": [
            "Cloning into 'Doutorado'...\n",
            "remote: Enumerating objects: 52, done.\u001b[K\n",
            "remote: Counting objects: 100% (52/52), done.\u001b[K\n",
            "remote: Compressing objects: 100% (52/52), done.\u001b[K\n",
            "remote: Total 302 (delta 21), reused 0 (delta 0), pack-reused 250\u001b[K\n",
            "Receiving objects: 100% (302/302), 115.75 MiB | 36.69 MiB/s, done.\n",
            "Resolving deltas: 100% (138/138), done.\n"
          ],
          "name": "stdout"
        }
      ]
    },
    {
      "cell_type": "code",
      "metadata": {
        "id": "tHgqAnaFyCjp",
        "colab": {
          "base_uri": "https://localhost:8080/"
        },
        "outputId": "5b0407fc-ea72-4c23-8b33-c06186bf5d57"
      },
      "source": [
        "!git clone https://github.com/ucfilho/marquesgabi_paper_fev_2021\n",
        "%cd marquesgabi_paper_fev_2021"
      ],
      "execution_count": null,
      "outputs": [
        {
          "output_type": "stream",
          "text": [
            "Cloning into 'marquesgabi_paper_fev_2021'...\n",
            "remote: Enumerating objects: 152, done.\u001b[K\n",
            "remote: Counting objects: 100% (152/152), done.\u001b[K\n",
            "remote: Compressing objects: 100% (150/150), done.\u001b[K\n",
            "remote: Total 152 (delta 86), reused 0 (delta 0), pack-reused 0\u001b[K\n",
            "Receiving objects: 100% (152/152), 438.64 KiB | 11.54 MiB/s, done.\n",
            "Resolving deltas: 100% (86/86), done.\n",
            "/content/marquesgabi_fev_2020/marquesgabi_paper_fev_2021/Doutorado/marquesgabi_paper_fev_2021/Doutorado/Doutorado/marquesgabi_out_2020/marquesgabi_fev_2020/marquesgabi_paper_fev_2021/Doutorado/marquesgabi_paper_fev_2021\n"
          ],
          "name": "stdout"
        }
      ]
    },
    {
      "cell_type": "code",
      "metadata": {
        "id": "qc4rFvzkyWCi"
      },
      "source": [
        "from big_segment import Segmenta  # got image provided segmented\n",
        "#from ANN_FIND_GRAIN import AnnGrain  # got image provided segmented\n",
        "from ANN_FIND_GRAIN_NOVO import AnnGrain  # got image provided segmented\n",
        "from psd_mahotas import Mahotas"
      ],
      "execution_count": null,
      "outputs": []
    },
    {
      "cell_type": "code",
      "metadata": {
        "colab": {
          "base_uri": "https://localhost:8080/"
        },
        "id": "knhoH5ve0gyq",
        "outputId": "0ee5106c-5077-493e-9e35-004bcdd816dd"
      },
      "source": [
        "!ls"
      ],
      "execution_count": null,
      "outputs": [
        {
          "output_type": "stream",
          "text": [
            "ANN_FIND_GRAIN_MAR_2021.py\n",
            "ANN_FIND_GRAIN_NOVO.py\n",
            "ANN_FIND_GRAIN_PAPER_STEP_02.py\n",
            "big_segment.py\n",
            "CNN_classify_grain_feb_15_2021.ipynb\n",
            "CNN_DESCRIPTION.ipynb\n",
            "CNN_FIND_GRAIN_PAPER_STEP_02.py\n",
            "EPOCHS_graphic.csv\n",
            "EPOCHS_graphic.txt\n",
            "Fig_05_BIG_Segmentation_jan_25_2021.ipynb\n",
            "GetBetterSegm.py\n",
            "Get_PSDArea_New.py\n",
            "Graphic_Epochs_fev_09_2020.ipynb\n",
            "histogram_fev_2021.py\n",
            "PSD_CNN_GRAIN_NOT_GRAIN_step_02_paper.ipynb\n",
            "PSD_GRAIN_NOT_GRAIN_dez_04_2020.ipynb\n",
            "PSD_GRAIN_NOT_GRAIN_fev_18_2021.ipynb\n",
            "PSD_GRAIN_NOT_GRAIN_mar_11_2021.ipynb\n",
            "PSD_GRAIN_NOT_GRAIN_step_02_paper.ipynb\n",
            "psd_mahotas.py\n",
            "README.md\n"
          ],
          "name": "stdout"
        }
      ]
    },
    {
      "cell_type": "code",
      "metadata": {
        "id": "YPoCxCp4kuRm",
        "colab": {
          "base_uri": "https://localhost:8080/"
        },
        "outputId": "acd407a0-e8d4-4c45-9051-ce2925edf942"
      },
      "source": [
        "!git clone https://github.com/marquesgabi/Doutorado\n",
        "%cd Doutorado\n",
        "Transfere='FotosTreino882_and_Segm.zip'\n",
        "file_name = zipfile.ZipFile(Transfere, 'r')\n",
        "file_name.extractall()\n",
        "\n",
        "\"\"\"# First step: get the segmented file (photos stored in csv file)\"\"\"\n",
        "\n",
        "labels = [] #name files\n",
        "\n",
        "with zipfile.ZipFile(Transfere, \"r\") as f:\n",
        "  for f in f.namelist():\n",
        "    labels.append(f)\n",
        "\n",
        "Num=len(labels)\n",
        "ANN_dat=pd.read_csv(labels[0])\n",
        "for i in range(1,Num):\n",
        "  df_new=pd.read_csv(labels[i])\n",
        "  df_new = df_new[~df_new['Type'].isin(['G'])] # drop grain row which is not in 882\n",
        "  frames = [ANN_dat, df_new]\n",
        "  ANN_dat= pd.concat(frames, ignore_index=True)"
      ],
      "execution_count": null,
      "outputs": [
        {
          "output_type": "stream",
          "text": [
            "Cloning into 'Doutorado'...\n",
            "remote: Enumerating objects: 52, done.\u001b[K\n",
            "remote: Counting objects: 100% (52/52), done.\u001b[K\n",
            "remote: Compressing objects: 100% (52/52), done.\u001b[K\n",
            "remote: Total 302 (delta 21), reused 0 (delta 0), pack-reused 250\u001b[K\n",
            "Receiving objects: 100% (302/302), 115.75 MiB | 41.08 MiB/s, done.\n",
            "Resolving deltas: 100% (138/138), done.\n",
            "/content/marquesgabi_fev_2020/marquesgabi_paper_fev_2021/Doutorado/marquesgabi_paper_fev_2021/Doutorado/Doutorado/marquesgabi_out_2020/marquesgabi_fev_2020/marquesgabi_paper_fev_2021/Doutorado/marquesgabi_paper_fev_2021/Doutorado\n"
          ],
          "name": "stdout"
        }
      ]
    },
    {
      "cell_type": "code",
      "metadata": {
        "id": "mv01JmHfmz-1"
      },
      "source": [
        "# open file to get df \n",
        "# use df and ANN to get grains and no grains\n",
        "# use grains to obtain psd"
      ],
      "execution_count": null,
      "outputs": []
    },
    {
      "cell_type": "code",
      "metadata": {
        "id": "h4ELNAEunkox",
        "colab": {
          "base_uri": "https://localhost:8080/"
        },
        "outputId": "00471702-a2ba-4cc4-fadc-6ac840448143"
      },
      "source": [
        "!git clone https://github.com/marquesgabi/Doutorado\n",
        "%cd Doutorado"
      ],
      "execution_count": null,
      "outputs": [
        {
          "output_type": "stream",
          "text": [
            "Cloning into 'Doutorado'...\n",
            "remote: Enumerating objects: 52, done.\u001b[K\n",
            "remote: Counting objects: 100% (52/52), done.\u001b[K\n",
            "remote: Compressing objects: 100% (52/52), done.\u001b[K\n",
            "remote: Total 302 (delta 21), reused 0 (delta 0), pack-reused 250\u001b[K\n",
            "Receiving objects: 100% (302/302), 115.75 MiB | 41.08 MiB/s, done.\n",
            "Resolving deltas: 100% (138/138), done.\n",
            "/content/marquesgabi_fev_2020/marquesgabi_paper_fev_2021/Doutorado/marquesgabi_paper_fev_2021/Doutorado/Doutorado/marquesgabi_out_2020/marquesgabi_fev_2020/marquesgabi_paper_fev_2021/Doutorado/marquesgabi_paper_fev_2021/Doutorado/Doutorado\n"
          ],
          "name": "stdout"
        }
      ]
    },
    {
      "cell_type": "code",
      "metadata": {
        "id": "QmPJiuSnnxT9",
        "colab": {
          "base_uri": "https://localhost:8080/"
        },
        "outputId": "c05e05b0-b848-4bb2-cd28-ed35ce7bd163"
      },
      "source": [
        "k=0\n",
        "for Item in img_name:\n",
        "  print(k,Item)\n",
        "  k=k+1\n",
        "\n",
        "img=ww[21]\n"
      ],
      "execution_count": null,
      "outputs": [
        {
          "output_type": "stream",
          "text": [
            "0 Fotos_Grandes-3cdAmostra/Q6-8-4.jpg\n",
            "1 Fotos_Grandes-3cdAmostra/Q6-5-3.jpg\n",
            "2 Fotos_Grandes-3cdAmostra/Q6-7-4.jpg\n",
            "3 Fotos_Grandes-3cdAmostra/Q6-8-2.jpg\n",
            "4 Fotos_Grandes-3cdAmostra/Q6-3-2.jpg\n",
            "5 Fotos_Grandes-3cdAmostra/Q6-7-2.jpg\n",
            "6 Fotos_Grandes-3cdAmostra/Q6-4-4.jpg\n",
            "7 Fotos_Grandes-3cdAmostra/Q6-9-5.jpg\n",
            "8 Fotos_Grandes-3cdAmostra/Q6-2-5.jpg\n",
            "9 Fotos_Grandes-3cdAmostra/Q6-8-3.jpg\n",
            "10 Fotos_Grandes-3cdAmostra/Q6-9-3.jpg\n",
            "11 Fotos_Grandes-3cdAmostra/Q6-1-2.jpg\n",
            "12 Fotos_Grandes-3cdAmostra/Q6-6-3.jpg\n",
            "13 Fotos_Grandes-3cdAmostra/Q6-3-4.jpg\n",
            "14 Fotos_Grandes-3cdAmostra/Q6-1-4.jpg\n",
            "15 Fotos_Grandes-3cdAmostra/Q6-6-2.jpg\n",
            "16 Fotos_Grandes-3cdAmostra/Q6-4-3.jpg\n",
            "17 Fotos_Grandes-3cdAmostra/Q6-7-3.jpg\n",
            "18 Fotos_Grandes-3cdAmostra/Q6-2-2.jpg\n",
            "19 Fotos_Grandes-3cdAmostra/Q6-9-2.jpg\n",
            "20 Fotos_Grandes-3cdAmostra/Q6-1-5.jpg\n",
            "21 Fotos_Grandes-3cdAmostra/Q6-6-5.jpg\n",
            "22 Fotos_Grandes-3cdAmostra/Q6-2-1.jpg\n",
            "23 Fotos_Grandes-3cdAmostra/Q6-5-2.jpg\n",
            "24 Fotos_Grandes-3cdAmostra/Q6-4-1.jpg\n",
            "25 Fotos_Grandes-3cdAmostra/Q6-3-1.jpg\n",
            "26 Fotos_Grandes-3cdAmostra/Q6-5-4.jpg\n"
          ],
          "name": "stdout"
        }
      ]
    },
    {
      "cell_type": "code",
      "metadata": {
        "id": "Fg08LdDEsYLd"
      },
      "source": [
        "df=Segmenta(img)"
      ],
      "execution_count": null,
      "outputs": []
    },
    {
      "cell_type": "code",
      "metadata": {
        "id": "3O2xFH1Ishc2",
        "colab": {
          "base_uri": "https://localhost:8080/"
        },
        "outputId": "ae4309c2-ca2d-4a22-885c-8ba4168a51f2"
      },
      "source": [
        "y_pred,confusion_matrix,METRICS=AnnGrain(ANN_dat,df.drop('Width',axis=1)) "
      ],
      "execution_count": null,
      "outputs": [
        {
          "output_type": "stream",
          "text": [
            "Epoch 1/200\n",
            "WARNING:tensorflow:Model was constructed with shape (None, 28, 28) for input KerasTensor(type_spec=TensorSpec(shape=(None, 28, 28), dtype=tf.float32, name='flatten_1_input'), name='flatten_1_input', description=\"created by layer 'flatten_1_input'\"), but it was called on an input with incompatible shape (None, 784).\n",
            "WARNING:tensorflow:Model was constructed with shape (None, 28, 28) for input KerasTensor(type_spec=TensorSpec(shape=(None, 28, 28), dtype=tf.float32, name='flatten_1_input'), name='flatten_1_input', description=\"created by layer 'flatten_1_input'\"), but it was called on an input with incompatible shape (None, 784).\n",
            "11/11 [==============================] - 0s 3ms/step - loss: 5.6290 - accuracy: 0.2931\n",
            "Epoch 2/200\n",
            "11/11 [==============================] - 0s 3ms/step - loss: 7.1580 - accuracy: 0.0357\n",
            "Epoch 3/200\n",
            "11/11 [==============================] - 0s 3ms/step - loss: 6.7692 - accuracy: 4.8591e-04\n",
            "Epoch 4/200\n",
            "11/11 [==============================] - 0s 3ms/step - loss: 7.6155 - accuracy: 0.1940\n",
            "Epoch 5/200\n",
            "11/11 [==============================] - 0s 2ms/step - loss: 6.0763 - accuracy: 0.2055\n",
            "Epoch 6/200\n",
            "11/11 [==============================] - 0s 2ms/step - loss: 6.8505 - accuracy: 0.0350\n",
            "Epoch 7/200\n",
            "11/11 [==============================] - 0s 2ms/step - loss: 7.2561 - accuracy: 0.0293\n",
            "Epoch 8/200\n",
            "11/11 [==============================] - 0s 2ms/step - loss: 6.8384 - accuracy: 0.1270\n",
            "Epoch 9/200\n",
            "11/11 [==============================] - 0s 2ms/step - loss: 5.6078 - accuracy: 0.2450\n",
            "Epoch 10/200\n",
            "11/11 [==============================] - 0s 3ms/step - loss: 6.1971 - accuracy: 0.0639\n",
            "Epoch 11/200\n",
            "11/11 [==============================] - 0s 2ms/step - loss: 7.2360 - accuracy: 0.0486\n",
            "Epoch 12/200\n",
            "11/11 [==============================] - 0s 3ms/step - loss: 7.3573 - accuracy: 0.0323\n",
            "Epoch 13/200\n",
            "11/11 [==============================] - 0s 3ms/step - loss: 7.5644 - accuracy: 0.0360\n",
            "Epoch 14/200\n",
            "11/11 [==============================] - 0s 2ms/step - loss: 7.2146 - accuracy: 0.0512\n",
            "Epoch 15/200\n",
            "11/11 [==============================] - 0s 3ms/step - loss: 7.0099 - accuracy: 0.0553\n",
            "Epoch 16/200\n",
            "11/11 [==============================] - 0s 3ms/step - loss: 6.8665 - accuracy: 0.0780\n",
            "Epoch 17/200\n",
            "11/11 [==============================] - 0s 2ms/step - loss: 6.1311 - accuracy: 0.0494\n",
            "Epoch 18/200\n",
            "11/11 [==============================] - 0s 3ms/step - loss: 6.3403 - accuracy: 0.0557\n",
            "Epoch 19/200\n",
            "11/11 [==============================] - 0s 3ms/step - loss: 6.9740 - accuracy: 0.0581\n",
            "Epoch 20/200\n",
            "11/11 [==============================] - 0s 3ms/step - loss: 7.1139 - accuracy: 0.0572\n",
            "Epoch 21/200\n",
            "11/11 [==============================] - 0s 3ms/step - loss: 6.7750 - accuracy: 0.0610\n",
            "Epoch 22/200\n",
            "11/11 [==============================] - 0s 3ms/step - loss: 6.0559 - accuracy: 0.0617\n",
            "Epoch 23/200\n",
            "11/11 [==============================] - 0s 3ms/step - loss: 6.5909 - accuracy: 0.0425\n",
            "Epoch 24/200\n",
            "11/11 [==============================] - 0s 3ms/step - loss: 6.5932 - accuracy: 0.0386\n",
            "Epoch 25/200\n",
            "11/11 [==============================] - 0s 3ms/step - loss: 6.6386 - accuracy: 0.0501\n",
            "Epoch 26/200\n",
            "11/11 [==============================] - 0s 2ms/step - loss: 6.4976 - accuracy: 0.0341\n",
            "Epoch 27/200\n",
            "11/11 [==============================] - 0s 3ms/step - loss: 6.5562 - accuracy: 0.0207\n",
            "Epoch 28/200\n",
            "11/11 [==============================] - 0s 3ms/step - loss: 6.5209 - accuracy: 0.0420\n",
            "Epoch 29/200\n",
            "11/11 [==============================] - 0s 3ms/step - loss: 6.5565 - accuracy: 0.0176\n",
            "Epoch 30/200\n",
            "11/11 [==============================] - 0s 3ms/step - loss: 6.1545 - accuracy: 0.0236\n",
            "Epoch 31/200\n",
            "11/11 [==============================] - 0s 2ms/step - loss: 6.6819 - accuracy: 0.0295\n",
            "Epoch 32/200\n",
            "11/11 [==============================] - 0s 3ms/step - loss: 6.7692 - accuracy: 0.0344\n",
            "Epoch 33/200\n",
            "11/11 [==============================] - 0s 3ms/step - loss: 6.6814 - accuracy: 0.0354\n",
            "Epoch 34/200\n",
            "11/11 [==============================] - 0s 3ms/step - loss: 6.6273 - accuracy: 0.0195\n",
            "Epoch 35/200\n",
            "11/11 [==============================] - 0s 3ms/step - loss: 6.7866 - accuracy: 0.0012\n",
            "Epoch 36/200\n",
            "11/11 [==============================] - 0s 3ms/step - loss: 6.7853 - accuracy: 0.0209\n",
            "Epoch 37/200\n",
            "11/11 [==============================] - 0s 3ms/step - loss: 6.6677 - accuracy: 0.0216\n",
            "Epoch 38/200\n",
            "11/11 [==============================] - 0s 2ms/step - loss: 6.7723 - accuracy: 0.0032\n",
            "Epoch 39/200\n",
            "11/11 [==============================] - 0s 3ms/step - loss: 6.7196 - accuracy: 0.0167\n",
            "Epoch 40/200\n",
            "11/11 [==============================] - 0s 3ms/step - loss: 6.7471 - accuracy: 0.0319\n",
            "Epoch 41/200\n",
            "11/11 [==============================] - 0s 3ms/step - loss: 6.6896 - accuracy: 0.0168\n",
            "Epoch 42/200\n",
            "11/11 [==============================] - 0s 3ms/step - loss: 6.7190 - accuracy: 0.0159\n",
            "Epoch 43/200\n",
            "11/11 [==============================] - 0s 3ms/step - loss: 6.6174 - accuracy: 0.0131\n",
            "Epoch 44/200\n",
            "11/11 [==============================] - 0s 3ms/step - loss: 6.8381 - accuracy: 0.0000e+00\n",
            "Epoch 45/200\n",
            "11/11 [==============================] - 0s 3ms/step - loss: 6.8718 - accuracy: 0.0000e+00\n",
            "Epoch 46/200\n",
            "11/11 [==============================] - 0s 3ms/step - loss: 7.1829 - accuracy: 0.0000e+00\n",
            "Epoch 47/200\n",
            "11/11 [==============================] - 0s 3ms/step - loss: 7.4062 - accuracy: 0.0000e+00\n",
            "Epoch 48/200\n",
            "11/11 [==============================] - 0s 3ms/step - loss: 7.5146 - accuracy: 0.0000e+00\n",
            "Epoch 49/200\n",
            "11/11 [==============================] - 0s 3ms/step - loss: 7.3284 - accuracy: 0.0000e+00\n",
            "Epoch 50/200\n",
            "11/11 [==============================] - 0s 3ms/step - loss: 7.4405 - accuracy: 0.0000e+00\n",
            "Epoch 51/200\n",
            "11/11 [==============================] - 0s 2ms/step - loss: 7.4442 - accuracy: 0.0000e+00\n",
            "Epoch 52/200\n",
            "11/11 [==============================] - 0s 3ms/step - loss: 7.4013 - accuracy: 0.0000e+00\n",
            "Epoch 53/200\n",
            "11/11 [==============================] - 0s 3ms/step - loss: 7.4321 - accuracy: 0.0000e+00\n",
            "Epoch 54/200\n",
            "11/11 [==============================] - 0s 3ms/step - loss: 7.4719 - accuracy: 0.0000e+00\n",
            "Epoch 55/200\n",
            "11/11 [==============================] - 0s 3ms/step - loss: 7.3944 - accuracy: 0.0000e+00\n",
            "Epoch 56/200\n",
            "11/11 [==============================] - 0s 3ms/step - loss: 7.3179 - accuracy: 0.0000e+00\n",
            "Epoch 57/200\n",
            "11/11 [==============================] - 0s 3ms/step - loss: 7.4143 - accuracy: 0.0000e+00\n",
            "Epoch 58/200\n",
            "11/11 [==============================] - 0s 4ms/step - loss: 7.3376 - accuracy: 0.0000e+00\n",
            "Epoch 59/200\n",
            "11/11 [==============================] - 0s 2ms/step - loss: 7.4386 - accuracy: 0.0000e+00\n",
            "Epoch 60/200\n",
            "11/11 [==============================] - 0s 3ms/step - loss: 7.3884 - accuracy: 0.0000e+00\n",
            "Epoch 61/200\n",
            "11/11 [==============================] - 0s 3ms/step - loss: 7.4315 - accuracy: 0.0000e+00\n",
            "Epoch 62/200\n",
            "11/11 [==============================] - 0s 3ms/step - loss: 7.3555 - accuracy: 0.0000e+00\n",
            "Epoch 63/200\n",
            "11/11 [==============================] - 0s 3ms/step - loss: 7.3648 - accuracy: 0.0000e+00\n",
            "Epoch 64/200\n",
            "11/11 [==============================] - 0s 3ms/step - loss: 7.4550 - accuracy: 0.0000e+00\n",
            "Epoch 65/200\n",
            "11/11 [==============================] - 0s 3ms/step - loss: 7.3718 - accuracy: 0.0000e+00\n",
            "Epoch 66/200\n",
            "11/11 [==============================] - 0s 3ms/step - loss: 7.4309 - accuracy: 0.0000e+00\n",
            "Epoch 67/200\n",
            "11/11 [==============================] - 0s 3ms/step - loss: 7.3120 - accuracy: 0.0000e+00\n",
            "Epoch 68/200\n",
            "11/11 [==============================] - 0s 3ms/step - loss: 7.4125 - accuracy: 0.0000e+00\n",
            "Epoch 69/200\n",
            "11/11 [==============================] - 0s 3ms/step - loss: 7.4221 - accuracy: 0.0000e+00\n",
            "Epoch 70/200\n",
            "11/11 [==============================] - 0s 3ms/step - loss: 7.4226 - accuracy: 0.0000e+00\n",
            "Epoch 71/200\n",
            "11/11 [==============================] - 0s 3ms/step - loss: 7.4129 - accuracy: 0.0000e+00\n",
            "Epoch 72/200\n",
            "11/11 [==============================] - 0s 3ms/step - loss: 7.4838 - accuracy: 0.0000e+00\n",
            "Epoch 73/200\n",
            "11/11 [==============================] - 0s 3ms/step - loss: 7.2981 - accuracy: 0.0000e+00\n",
            "Epoch 74/200\n",
            "11/11 [==============================] - 0s 3ms/step - loss: 7.2815 - accuracy: 0.0000e+00\n",
            "Epoch 75/200\n",
            "11/11 [==============================] - 0s 3ms/step - loss: 7.4061 - accuracy: 0.0000e+00\n",
            "Epoch 76/200\n",
            "11/11 [==============================] - 0s 3ms/step - loss: 7.4076 - accuracy: 0.0000e+00\n",
            "Epoch 77/200\n",
            "11/11 [==============================] - 0s 3ms/step - loss: 7.5096 - accuracy: 0.0000e+00\n",
            "Epoch 78/200\n",
            "11/11 [==============================] - 0s 3ms/step - loss: 7.4069 - accuracy: 0.0000e+00\n",
            "Epoch 79/200\n",
            "11/11 [==============================] - 0s 4ms/step - loss: 7.4677 - accuracy: 0.0000e+00\n",
            "Epoch 80/200\n",
            "11/11 [==============================] - 0s 3ms/step - loss: 7.3711 - accuracy: 0.0000e+00\n",
            "Epoch 81/200\n",
            "11/11 [==============================] - 0s 3ms/step - loss: 7.3379 - accuracy: 0.0000e+00\n",
            "Epoch 82/200\n",
            "11/11 [==============================] - 0s 3ms/step - loss: 7.4388 - accuracy: 0.0000e+00\n",
            "Epoch 83/200\n",
            "11/11 [==============================] - 0s 3ms/step - loss: 7.4278 - accuracy: 0.0000e+00\n",
            "Epoch 84/200\n",
            "11/11 [==============================] - 0s 3ms/step - loss: 7.5112 - accuracy: 0.0000e+00\n",
            "Epoch 85/200\n",
            "11/11 [==============================] - 0s 3ms/step - loss: 7.4105 - accuracy: 0.0000e+00\n",
            "Epoch 86/200\n",
            "11/11 [==============================] - 0s 4ms/step - loss: 7.4899 - accuracy: 0.0000e+00\n",
            "Epoch 87/200\n",
            "11/11 [==============================] - 0s 4ms/step - loss: 7.2636 - accuracy: 0.0000e+00\n",
            "Epoch 88/200\n",
            "11/11 [==============================] - 0s 3ms/step - loss: 7.4663 - accuracy: 0.0000e+00\n",
            "Epoch 89/200\n",
            "11/11 [==============================] - 0s 3ms/step - loss: 7.3955 - accuracy: 0.0000e+00\n",
            "Epoch 90/200\n",
            "11/11 [==============================] - 0s 3ms/step - loss: 7.3677 - accuracy: 0.0000e+00\n",
            "Epoch 91/200\n",
            "11/11 [==============================] - 0s 2ms/step - loss: 7.3034 - accuracy: 0.0000e+00\n",
            "Epoch 92/200\n",
            "11/11 [==============================] - 0s 3ms/step - loss: 7.5369 - accuracy: 0.0000e+00\n",
            "Epoch 93/200\n",
            "11/11 [==============================] - 0s 3ms/step - loss: 7.4882 - accuracy: 0.0000e+00\n",
            "Epoch 94/200\n",
            "11/11 [==============================] - 0s 3ms/step - loss: 7.4743 - accuracy: 0.0000e+00\n",
            "Epoch 95/200\n",
            "11/11 [==============================] - 0s 3ms/step - loss: 7.4386 - accuracy: 0.0000e+00\n",
            "Epoch 96/200\n",
            "11/11 [==============================] - 0s 3ms/step - loss: 7.4394 - accuracy: 0.0000e+00\n",
            "Epoch 97/200\n",
            "11/11 [==============================] - 0s 3ms/step - loss: 7.4354 - accuracy: 0.0000e+00\n",
            "Epoch 98/200\n",
            "11/11 [==============================] - 0s 3ms/step - loss: 7.3221 - accuracy: 0.0000e+00\n",
            "Epoch 99/200\n",
            "11/11 [==============================] - 0s 3ms/step - loss: 7.3855 - accuracy: 0.0000e+00\n",
            "Epoch 100/200\n",
            "11/11 [==============================] - 0s 3ms/step - loss: 7.4047 - accuracy: 0.0000e+00\n",
            "Epoch 101/200\n",
            "11/11 [==============================] - 0s 3ms/step - loss: 7.4367 - accuracy: 0.0000e+00\n",
            "Epoch 102/200\n",
            "11/11 [==============================] - 0s 3ms/step - loss: 7.3249 - accuracy: 0.0000e+00\n",
            "Epoch 103/200\n",
            "11/11 [==============================] - 0s 2ms/step - loss: 7.2730 - accuracy: 0.0000e+00\n",
            "Epoch 104/200\n",
            "11/11 [==============================] - 0s 2ms/step - loss: 7.3538 - accuracy: 0.0000e+00\n",
            "Epoch 105/200\n",
            "11/11 [==============================] - 0s 2ms/step - loss: 7.4779 - accuracy: 0.0000e+00\n",
            "Epoch 106/200\n",
            "11/11 [==============================] - 0s 2ms/step - loss: 7.3681 - accuracy: 0.0000e+00\n",
            "Epoch 107/200\n",
            "11/11 [==============================] - 0s 3ms/step - loss: 7.2941 - accuracy: 0.0000e+00\n",
            "Epoch 108/200\n",
            "11/11 [==============================] - 0s 3ms/step - loss: 7.3375 - accuracy: 0.0000e+00\n",
            "Epoch 109/200\n",
            "11/11 [==============================] - 0s 3ms/step - loss: 7.3783 - accuracy: 0.0000e+00\n",
            "Epoch 110/200\n",
            "11/11 [==============================] - 0s 3ms/step - loss: 7.4255 - accuracy: 0.0000e+00\n",
            "Epoch 111/200\n",
            "11/11 [==============================] - 0s 2ms/step - loss: 7.3089 - accuracy: 0.0000e+00\n",
            "Epoch 112/200\n",
            "11/11 [==============================] - 0s 3ms/step - loss: 7.3357 - accuracy: 0.0000e+00\n",
            "Epoch 113/200\n",
            "11/11 [==============================] - 0s 3ms/step - loss: 7.2901 - accuracy: 0.0000e+00\n",
            "Epoch 114/200\n",
            "11/11 [==============================] - 0s 3ms/step - loss: 7.4384 - accuracy: 0.0000e+00\n",
            "Epoch 115/200\n",
            "11/11 [==============================] - 0s 3ms/step - loss: 7.3882 - accuracy: 0.0000e+00\n",
            "Epoch 116/200\n",
            "11/11 [==============================] - 0s 3ms/step - loss: 7.3743 - accuracy: 0.0000e+00\n",
            "Epoch 117/200\n",
            "11/11 [==============================] - 0s 3ms/step - loss: 7.2943 - accuracy: 0.0000e+00\n",
            "Epoch 118/200\n",
            "11/11 [==============================] - 0s 3ms/step - loss: 7.3549 - accuracy: 0.0000e+00\n",
            "Epoch 119/200\n",
            "11/11 [==============================] - 0s 3ms/step - loss: 7.3437 - accuracy: 0.0000e+00\n",
            "Epoch 120/200\n",
            "11/11 [==============================] - 0s 3ms/step - loss: 7.3749 - accuracy: 0.0000e+00\n",
            "Epoch 121/200\n",
            "11/11 [==============================] - 0s 3ms/step - loss: 7.3559 - accuracy: 0.0000e+00\n",
            "Epoch 122/200\n",
            "11/11 [==============================] - 0s 3ms/step - loss: 7.4695 - accuracy: 0.0000e+00\n",
            "Epoch 123/200\n",
            "11/11 [==============================] - 0s 3ms/step - loss: 7.3758 - accuracy: 0.0000e+00\n",
            "Epoch 124/200\n",
            "11/11 [==============================] - 0s 3ms/step - loss: 7.3015 - accuracy: 0.0000e+00\n",
            "Epoch 125/200\n",
            "11/11 [==============================] - 0s 3ms/step - loss: 7.3886 - accuracy: 0.0000e+00\n",
            "Epoch 126/200\n",
            "11/11 [==============================] - 0s 3ms/step - loss: 7.4279 - accuracy: 0.0000e+00\n",
            "Epoch 127/200\n",
            "11/11 [==============================] - 0s 3ms/step - loss: 7.3294 - accuracy: 0.0000e+00\n",
            "Epoch 128/200\n",
            "11/11 [==============================] - 0s 3ms/step - loss: 7.3362 - accuracy: 0.0000e+00\n",
            "Epoch 129/200\n",
            "11/11 [==============================] - 0s 3ms/step - loss: 7.3353 - accuracy: 0.0000e+00\n",
            "Epoch 130/200\n",
            "11/11 [==============================] - 0s 3ms/step - loss: 7.3744 - accuracy: 0.0000e+00\n",
            "Epoch 131/200\n",
            "11/11 [==============================] - 0s 3ms/step - loss: 7.4011 - accuracy: 0.0000e+00\n",
            "Epoch 132/200\n",
            "11/11 [==============================] - 0s 3ms/step - loss: 7.3963 - accuracy: 0.0000e+00\n",
            "Epoch 133/200\n",
            "11/11 [==============================] - 0s 3ms/step - loss: 7.3193 - accuracy: 0.0000e+00\n",
            "Epoch 134/200\n",
            "11/11 [==============================] - 0s 2ms/step - loss: 7.2293 - accuracy: 0.0000e+00\n",
            "Epoch 135/200\n",
            "11/11 [==============================] - 0s 3ms/step - loss: 7.4196 - accuracy: 0.0000e+00\n",
            "Epoch 136/200\n",
            "11/11 [==============================] - 0s 3ms/step - loss: 7.4103 - accuracy: 0.0000e+00\n",
            "Epoch 137/200\n",
            "11/11 [==============================] - 0s 3ms/step - loss: 7.3734 - accuracy: 0.0000e+00\n",
            "Epoch 138/200\n",
            "11/11 [==============================] - 0s 3ms/step - loss: 7.4572 - accuracy: 0.0000e+00\n",
            "Epoch 139/200\n",
            "11/11 [==============================] - 0s 3ms/step - loss: 7.4510 - accuracy: 0.0000e+00\n",
            "Epoch 140/200\n",
            "11/11 [==============================] - 0s 3ms/step - loss: 7.4957 - accuracy: 0.0000e+00\n",
            "Epoch 141/200\n",
            "11/11 [==============================] - 0s 3ms/step - loss: 7.4047 - accuracy: 0.0000e+00\n",
            "Epoch 142/200\n",
            "11/11 [==============================] - 0s 3ms/step - loss: 7.3816 - accuracy: 0.0000e+00\n",
            "Epoch 143/200\n",
            "11/11 [==============================] - 0s 2ms/step - loss: 7.3051 - accuracy: 0.0000e+00\n",
            "Epoch 144/200\n",
            "11/11 [==============================] - 0s 3ms/step - loss: 7.4712 - accuracy: 0.0000e+00\n",
            "Epoch 145/200\n",
            "11/11 [==============================] - 0s 2ms/step - loss: 7.4992 - accuracy: 0.0000e+00\n",
            "Epoch 146/200\n",
            "11/11 [==============================] - 0s 2ms/step - loss: 7.4788 - accuracy: 0.0000e+00\n",
            "Epoch 147/200\n",
            "11/11 [==============================] - 0s 2ms/step - loss: 7.4558 - accuracy: 0.0000e+00\n",
            "Epoch 148/200\n",
            "11/11 [==============================] - 0s 2ms/step - loss: 7.4231 - accuracy: 0.0000e+00\n",
            "Epoch 149/200\n",
            "11/11 [==============================] - 0s 2ms/step - loss: 7.3584 - accuracy: 0.0000e+00\n",
            "Epoch 150/200\n",
            "11/11 [==============================] - 0s 2ms/step - loss: 7.3720 - accuracy: 0.0000e+00\n",
            "Epoch 151/200\n",
            "11/11 [==============================] - 0s 2ms/step - loss: 7.3625 - accuracy: 0.0000e+00\n",
            "Epoch 152/200\n",
            "11/11 [==============================] - 0s 3ms/step - loss: 7.3940 - accuracy: 0.0000e+00\n",
            "Epoch 153/200\n",
            "11/11 [==============================] - 0s 3ms/step - loss: 7.4749 - accuracy: 0.0000e+00\n",
            "Epoch 154/200\n",
            "11/11 [==============================] - 0s 3ms/step - loss: 7.2504 - accuracy: 0.0000e+00\n",
            "Epoch 155/200\n",
            "11/11 [==============================] - 0s 3ms/step - loss: 7.3228 - accuracy: 0.0000e+00\n",
            "Epoch 156/200\n",
            "11/11 [==============================] - 0s 3ms/step - loss: 7.3268 - accuracy: 0.0000e+00\n",
            "Epoch 157/200\n",
            "11/11 [==============================] - 0s 3ms/step - loss: 7.3878 - accuracy: 0.0000e+00\n",
            "Epoch 158/200\n",
            "11/11 [==============================] - 0s 3ms/step - loss: 7.3782 - accuracy: 0.0000e+00\n",
            "Epoch 159/200\n",
            "11/11 [==============================] - 0s 3ms/step - loss: 7.4752 - accuracy: 0.0000e+00\n",
            "Epoch 160/200\n",
            "11/11 [==============================] - 0s 3ms/step - loss: 7.4486 - accuracy: 0.0000e+00\n",
            "Epoch 161/200\n",
            "11/11 [==============================] - 0s 3ms/step - loss: 7.3842 - accuracy: 0.0000e+00\n",
            "Epoch 162/200\n",
            "11/11 [==============================] - 0s 3ms/step - loss: 7.3733 - accuracy: 0.0000e+00\n",
            "Epoch 163/200\n",
            "11/11 [==============================] - 0s 3ms/step - loss: 7.3560 - accuracy: 0.0000e+00\n",
            "Epoch 164/200\n",
            "11/11 [==============================] - 0s 3ms/step - loss: 7.3947 - accuracy: 0.0000e+00\n",
            "Epoch 165/200\n",
            "11/11 [==============================] - 0s 3ms/step - loss: 7.4981 - accuracy: 0.0000e+00\n",
            "Epoch 166/200\n",
            "11/11 [==============================] - 0s 3ms/step - loss: 7.2991 - accuracy: 0.0000e+00\n",
            "Epoch 167/200\n",
            "11/11 [==============================] - 0s 3ms/step - loss: 7.4317 - accuracy: 0.0000e+00\n",
            "Epoch 168/200\n",
            "11/11 [==============================] - 0s 4ms/step - loss: 7.4030 - accuracy: 0.0000e+00\n",
            "Epoch 169/200\n",
            "11/11 [==============================] - 0s 3ms/step - loss: 7.3887 - accuracy: 0.0000e+00\n",
            "Epoch 170/200\n",
            "11/11 [==============================] - 0s 3ms/step - loss: 7.3761 - accuracy: 0.0000e+00\n",
            "Epoch 171/200\n",
            "11/11 [==============================] - 0s 3ms/step - loss: 7.3888 - accuracy: 0.0000e+00\n",
            "Epoch 172/200\n",
            "11/11 [==============================] - 0s 2ms/step - loss: 7.4154 - accuracy: 0.0000e+00\n",
            "Epoch 173/200\n",
            "11/11 [==============================] - 0s 3ms/step - loss: 7.4062 - accuracy: 0.0000e+00\n",
            "Epoch 174/200\n",
            "11/11 [==============================] - 0s 4ms/step - loss: 7.3440 - accuracy: 0.0000e+00\n",
            "Epoch 175/200\n",
            "11/11 [==============================] - 0s 3ms/step - loss: 7.3127 - accuracy: 0.0000e+00\n",
            "Epoch 176/200\n",
            "11/11 [==============================] - 0s 3ms/step - loss: 7.3349 - accuracy: 0.0000e+00\n",
            "Epoch 177/200\n",
            "11/11 [==============================] - 0s 3ms/step - loss: 7.3889 - accuracy: 0.0000e+00\n",
            "Epoch 178/200\n",
            "11/11 [==============================] - 0s 3ms/step - loss: 7.3692 - accuracy: 0.0000e+00\n",
            "Epoch 179/200\n",
            "11/11 [==============================] - 0s 3ms/step - loss: 7.4309 - accuracy: 0.0000e+00\n",
            "Epoch 180/200\n",
            "11/11 [==============================] - 0s 3ms/step - loss: 7.4589 - accuracy: 0.0000e+00\n",
            "Epoch 181/200\n",
            "11/11 [==============================] - 0s 3ms/step - loss: 7.3388 - accuracy: 0.0000e+00\n",
            "Epoch 182/200\n",
            "11/11 [==============================] - 0s 3ms/step - loss: 7.3695 - accuracy: 0.0000e+00\n",
            "Epoch 183/200\n",
            "11/11 [==============================] - 0s 3ms/step - loss: 7.2560 - accuracy: 0.0000e+00\n",
            "Epoch 184/200\n",
            "11/11 [==============================] - 0s 3ms/step - loss: 7.4252 - accuracy: 0.0000e+00\n",
            "Epoch 185/200\n",
            "11/11 [==============================] - 0s 3ms/step - loss: 7.4386 - accuracy: 0.0000e+00\n",
            "Epoch 186/200\n",
            "11/11 [==============================] - 0s 3ms/step - loss: 7.3588 - accuracy: 0.0000e+00\n",
            "Epoch 187/200\n",
            "11/11 [==============================] - 0s 3ms/step - loss: 7.3482 - accuracy: 0.0000e+00\n",
            "Epoch 188/200\n",
            "11/11 [==============================] - 0s 3ms/step - loss: 7.3638 - accuracy: 0.0000e+00\n",
            "Epoch 189/200\n",
            "11/11 [==============================] - 0s 4ms/step - loss: 7.4732 - accuracy: 0.0000e+00\n",
            "Epoch 190/200\n",
            "11/11 [==============================] - 0s 3ms/step - loss: 7.3067 - accuracy: 0.0000e+00\n",
            "Epoch 191/200\n",
            "11/11 [==============================] - 0s 3ms/step - loss: 7.4638 - accuracy: 0.0000e+00\n",
            "Epoch 192/200\n",
            "11/11 [==============================] - 0s 3ms/step - loss: 7.2641 - accuracy: 0.0000e+00\n",
            "Epoch 193/200\n",
            "11/11 [==============================] - 0s 4ms/step - loss: 7.3927 - accuracy: 0.0000e+00\n",
            "Epoch 194/200\n",
            "11/11 [==============================] - 0s 3ms/step - loss: 7.2352 - accuracy: 0.0000e+00\n",
            "Epoch 195/200\n",
            "11/11 [==============================] - 0s 3ms/step - loss: 7.3485 - accuracy: 0.0000e+00\n",
            "Epoch 196/200\n",
            "11/11 [==============================] - 0s 3ms/step - loss: 7.3966 - accuracy: 0.0000e+00\n",
            "Epoch 197/200\n",
            "11/11 [==============================] - 0s 3ms/step - loss: 7.4316 - accuracy: 0.0000e+00\n",
            "Epoch 198/200\n",
            "11/11 [==============================] - 0s 3ms/step - loss: 7.4230 - accuracy: 0.0000e+00\n",
            "Epoch 199/200\n",
            "11/11 [==============================] - 0s 3ms/step - loss: 7.4918 - accuracy: 0.0000e+00\n",
            "Epoch 200/200\n",
            "11/11 [==============================] - 0s 3ms/step - loss: 7.4258 - accuracy: 0.0000e+00\n",
            "Predicted   6\n",
            "Actual       \n",
            "0          72\n",
            "1          75\n"
          ],
          "name": "stdout"
        },
        {
          "output_type": "stream",
          "text": [
            "/usr/local/lib/python3.7/dist-packages/sklearn/metrics/_classification.py:1272: UndefinedMetricWarning: Precision and F-score are ill-defined and being set to 0.0 in labels with no predicted samples. Use `zero_division` parameter to control this behavior.\n",
            "  _warn_prf(average, modifier, msg_start, len(result))\n",
            "/usr/local/lib/python3.7/dist-packages/sklearn/metrics/_classification.py:1272: UndefinedMetricWarning: Recall and F-score are ill-defined and being set to 0.0 in labels with no true samples. Use `zero_division` parameter to control this behavior.\n",
            "  _warn_prf(average, modifier, msg_start, len(result))\n"
          ],
          "name": "stderr"
        }
      ]
    },
    {
      "cell_type": "code",
      "metadata": {
        "id": "6S5a4-cashbB"
      },
      "source": [
        "# print(y_pred.ravel())"
      ],
      "execution_count": null,
      "outputs": []
    },
    {
      "cell_type": "code",
      "metadata": {
        "id": "iA2XIpGOyipM"
      },
      "source": [
        "Grain=[]; Ind=[]; Size=[]\n",
        "k=0\n",
        "for item in y_pred:\n",
        "  if(item == 0):\n",
        "    Ind.append(k)\n",
        "  k=k+1\n",
        "\n",
        "df = df.reset_index(drop=True)\n",
        "\n",
        "df_size = df.drop(df.index[Ind])\n",
        "\n",
        "Width=np.array(df_size['Width'])\n",
        "\n",
        "# print(Width)\n",
        "\n",
        "# print(df_size.shape)"
      ],
      "execution_count": null,
      "outputs": []
    },
    {
      "cell_type": "code",
      "metadata": {
        "id": "06lkGMZo9uKV"
      },
      "source": [
        "# pd.set_option('display.max_rows', None)\n",
        "# print(df_size)"
      ],
      "execution_count": null,
      "outputs": []
    },
    {
      "cell_type": "code",
      "metadata": {
        "id": "EIqWqspygJtw",
        "colab": {
          "base_uri": "https://localhost:8080/",
          "height": 247
        },
        "outputId": "aa760546-e2f8-4eaa-e0ef-25f535e20dcb"
      },
      "source": [
        "df.head()"
      ],
      "execution_count": null,
      "outputs": [
        {
          "output_type": "execute_result",
          "data": {
            "text/html": [
              "<div>\n",
              "<style scoped>\n",
              "    .dataframe tbody tr th:only-of-type {\n",
              "        vertical-align: middle;\n",
              "    }\n",
              "\n",
              "    .dataframe tbody tr th {\n",
              "        vertical-align: top;\n",
              "    }\n",
              "\n",
              "    .dataframe thead th {\n",
              "        text-align: right;\n",
              "    }\n",
              "</style>\n",
              "<table border=\"1\" class=\"dataframe\">\n",
              "  <thead>\n",
              "    <tr style=\"text-align: right;\">\n",
              "      <th></th>\n",
              "      <th>Width</th>\n",
              "      <th>0</th>\n",
              "      <th>1</th>\n",
              "      <th>2</th>\n",
              "      <th>3</th>\n",
              "      <th>4</th>\n",
              "      <th>5</th>\n",
              "      <th>6</th>\n",
              "      <th>7</th>\n",
              "      <th>8</th>\n",
              "      <th>9</th>\n",
              "      <th>10</th>\n",
              "      <th>11</th>\n",
              "      <th>12</th>\n",
              "      <th>13</th>\n",
              "      <th>14</th>\n",
              "      <th>15</th>\n",
              "      <th>16</th>\n",
              "      <th>17</th>\n",
              "      <th>18</th>\n",
              "      <th>19</th>\n",
              "      <th>20</th>\n",
              "      <th>21</th>\n",
              "      <th>22</th>\n",
              "      <th>23</th>\n",
              "      <th>24</th>\n",
              "      <th>25</th>\n",
              "      <th>26</th>\n",
              "      <th>27</th>\n",
              "      <th>28</th>\n",
              "      <th>29</th>\n",
              "      <th>30</th>\n",
              "      <th>31</th>\n",
              "      <th>32</th>\n",
              "      <th>33</th>\n",
              "      <th>34</th>\n",
              "      <th>35</th>\n",
              "      <th>36</th>\n",
              "      <th>37</th>\n",
              "      <th>38</th>\n",
              "      <th>...</th>\n",
              "      <th>744</th>\n",
              "      <th>745</th>\n",
              "      <th>746</th>\n",
              "      <th>747</th>\n",
              "      <th>748</th>\n",
              "      <th>749</th>\n",
              "      <th>750</th>\n",
              "      <th>751</th>\n",
              "      <th>752</th>\n",
              "      <th>753</th>\n",
              "      <th>754</th>\n",
              "      <th>755</th>\n",
              "      <th>756</th>\n",
              "      <th>757</th>\n",
              "      <th>758</th>\n",
              "      <th>759</th>\n",
              "      <th>760</th>\n",
              "      <th>761</th>\n",
              "      <th>762</th>\n",
              "      <th>763</th>\n",
              "      <th>764</th>\n",
              "      <th>765</th>\n",
              "      <th>766</th>\n",
              "      <th>767</th>\n",
              "      <th>768</th>\n",
              "      <th>769</th>\n",
              "      <th>770</th>\n",
              "      <th>771</th>\n",
              "      <th>772</th>\n",
              "      <th>773</th>\n",
              "      <th>774</th>\n",
              "      <th>775</th>\n",
              "      <th>776</th>\n",
              "      <th>777</th>\n",
              "      <th>778</th>\n",
              "      <th>779</th>\n",
              "      <th>780</th>\n",
              "      <th>781</th>\n",
              "      <th>782</th>\n",
              "      <th>783</th>\n",
              "    </tr>\n",
              "  </thead>\n",
              "  <tbody>\n",
              "    <tr>\n",
              "      <th>0</th>\n",
              "      <td>163</td>\n",
              "      <td>69.678574</td>\n",
              "      <td>70.215591</td>\n",
              "      <td>74.665253</td>\n",
              "      <td>79.683655</td>\n",
              "      <td>81.552940</td>\n",
              "      <td>77.526062</td>\n",
              "      <td>79.887497</td>\n",
              "      <td>83.105240</td>\n",
              "      <td>78.659119</td>\n",
              "      <td>63.333054</td>\n",
              "      <td>43.858070</td>\n",
              "      <td>42.193718</td>\n",
              "      <td>41.688244</td>\n",
              "      <td>38.534195</td>\n",
              "      <td>39.046597</td>\n",
              "      <td>43.993713</td>\n",
              "      <td>46.350971</td>\n",
              "      <td>50.685650</td>\n",
              "      <td>58.190968</td>\n",
              "      <td>54.798519</td>\n",
              "      <td>49.963337</td>\n",
              "      <td>49.574165</td>\n",
              "      <td>46.799881</td>\n",
              "      <td>42.971962</td>\n",
              "      <td>33.265347</td>\n",
              "      <td>94.140266</td>\n",
              "      <td>144.348526</td>\n",
              "      <td>151.722076</td>\n",
              "      <td>71.011627</td>\n",
              "      <td>75.375961</td>\n",
              "      <td>80.456581</td>\n",
              "      <td>85.517746</td>\n",
              "      <td>85.100830</td>\n",
              "      <td>81.351120</td>\n",
              "      <td>78.511688</td>\n",
              "      <td>81.165154</td>\n",
              "      <td>84.666794</td>\n",
              "      <td>78.725510</td>\n",
              "      <td>61.990776</td>\n",
              "      <td>...</td>\n",
              "      <td>58.601944</td>\n",
              "      <td>40.368359</td>\n",
              "      <td>9.987090</td>\n",
              "      <td>15.364183</td>\n",
              "      <td>6.778012</td>\n",
              "      <td>86.596680</td>\n",
              "      <td>108.879745</td>\n",
              "      <td>106.114578</td>\n",
              "      <td>104.091690</td>\n",
              "      <td>102.974586</td>\n",
              "      <td>96.175919</td>\n",
              "      <td>89.292854</td>\n",
              "      <td>69.841805</td>\n",
              "      <td>70.188530</td>\n",
              "      <td>68.286873</td>\n",
              "      <td>66.145058</td>\n",
              "      <td>66.078362</td>\n",
              "      <td>67.485413</td>\n",
              "      <td>66.313858</td>\n",
              "      <td>59.404984</td>\n",
              "      <td>49.814861</td>\n",
              "      <td>53.289661</td>\n",
              "      <td>61.330421</td>\n",
              "      <td>64.081146</td>\n",
              "      <td>64.321274</td>\n",
              "      <td>64.784447</td>\n",
              "      <td>61.608269</td>\n",
              "      <td>63.160374</td>\n",
              "      <td>57.892624</td>\n",
              "      <td>32.607662</td>\n",
              "      <td>14.209380</td>\n",
              "      <td>13.617260</td>\n",
              "      <td>9.563364</td>\n",
              "      <td>65.961197</td>\n",
              "      <td>102.456161</td>\n",
              "      <td>104.400696</td>\n",
              "      <td>104.898712</td>\n",
              "      <td>101.131020</td>\n",
              "      <td>96.200607</td>\n",
              "      <td>87.479767</td>\n",
              "    </tr>\n",
              "    <tr>\n",
              "      <th>1</th>\n",
              "      <td>171</td>\n",
              "      <td>94.173035</td>\n",
              "      <td>93.950066</td>\n",
              "      <td>99.633118</td>\n",
              "      <td>111.911499</td>\n",
              "      <td>116.761612</td>\n",
              "      <td>115.416313</td>\n",
              "      <td>105.344551</td>\n",
              "      <td>111.375603</td>\n",
              "      <td>124.662491</td>\n",
              "      <td>112.977531</td>\n",
              "      <td>72.672691</td>\n",
              "      <td>70.265244</td>\n",
              "      <td>105.330528</td>\n",
              "      <td>133.429626</td>\n",
              "      <td>152.625595</td>\n",
              "      <td>146.062622</td>\n",
              "      <td>140.446884</td>\n",
              "      <td>125.338699</td>\n",
              "      <td>125.187988</td>\n",
              "      <td>135.635788</td>\n",
              "      <td>157.948074</td>\n",
              "      <td>176.948593</td>\n",
              "      <td>208.291534</td>\n",
              "      <td>237.001663</td>\n",
              "      <td>147.044556</td>\n",
              "      <td>121.239830</td>\n",
              "      <td>117.600555</td>\n",
              "      <td>109.895889</td>\n",
              "      <td>101.745293</td>\n",
              "      <td>102.214638</td>\n",
              "      <td>111.613708</td>\n",
              "      <td>119.006470</td>\n",
              "      <td>116.957222</td>\n",
              "      <td>103.946930</td>\n",
              "      <td>102.601822</td>\n",
              "      <td>113.700287</td>\n",
              "      <td>115.105438</td>\n",
              "      <td>88.951195</td>\n",
              "      <td>63.504192</td>\n",
              "      <td>...</td>\n",
              "      <td>98.216438</td>\n",
              "      <td>96.985573</td>\n",
              "      <td>81.450363</td>\n",
              "      <td>67.337372</td>\n",
              "      <td>62.787830</td>\n",
              "      <td>87.778969</td>\n",
              "      <td>115.945175</td>\n",
              "      <td>129.606079</td>\n",
              "      <td>139.496704</td>\n",
              "      <td>146.089218</td>\n",
              "      <td>145.030640</td>\n",
              "      <td>142.376419</td>\n",
              "      <td>91.262711</td>\n",
              "      <td>95.378365</td>\n",
              "      <td>90.891930</td>\n",
              "      <td>94.335388</td>\n",
              "      <td>99.865730</td>\n",
              "      <td>100.379257</td>\n",
              "      <td>99.164116</td>\n",
              "      <td>99.257675</td>\n",
              "      <td>101.697380</td>\n",
              "      <td>109.382889</td>\n",
              "      <td>119.454231</td>\n",
              "      <td>121.476730</td>\n",
              "      <td>125.712494</td>\n",
              "      <td>132.409256</td>\n",
              "      <td>108.996475</td>\n",
              "      <td>99.864845</td>\n",
              "      <td>101.163399</td>\n",
              "      <td>102.268700</td>\n",
              "      <td>95.851097</td>\n",
              "      <td>68.769470</td>\n",
              "      <td>61.208744</td>\n",
              "      <td>60.628395</td>\n",
              "      <td>107.055000</td>\n",
              "      <td>133.007111</td>\n",
              "      <td>141.455460</td>\n",
              "      <td>146.388809</td>\n",
              "      <td>147.557922</td>\n",
              "      <td>145.434052</td>\n",
              "    </tr>\n",
              "    <tr>\n",
              "      <th>2</th>\n",
              "      <td>104</td>\n",
              "      <td>65.321014</td>\n",
              "      <td>67.605026</td>\n",
              "      <td>82.784035</td>\n",
              "      <td>91.951187</td>\n",
              "      <td>115.914215</td>\n",
              "      <td>127.778114</td>\n",
              "      <td>133.745575</td>\n",
              "      <td>134.229294</td>\n",
              "      <td>130.616867</td>\n",
              "      <td>126.167168</td>\n",
              "      <td>121.680481</td>\n",
              "      <td>120.352074</td>\n",
              "      <td>121.853561</td>\n",
              "      <td>119.489655</td>\n",
              "      <td>120.715988</td>\n",
              "      <td>120.396461</td>\n",
              "      <td>124.584328</td>\n",
              "      <td>133.309174</td>\n",
              "      <td>140.307709</td>\n",
              "      <td>145.498535</td>\n",
              "      <td>146.602081</td>\n",
              "      <td>142.797348</td>\n",
              "      <td>134.458588</td>\n",
              "      <td>132.869827</td>\n",
              "      <td>132.609482</td>\n",
              "      <td>136.187881</td>\n",
              "      <td>133.501480</td>\n",
              "      <td>139.534042</td>\n",
              "      <td>69.349121</td>\n",
              "      <td>70.803261</td>\n",
              "      <td>96.961548</td>\n",
              "      <td>108.112434</td>\n",
              "      <td>121.288475</td>\n",
              "      <td>126.522194</td>\n",
              "      <td>130.510361</td>\n",
              "      <td>128.915695</td>\n",
              "      <td>125.750000</td>\n",
              "      <td>121.823967</td>\n",
              "      <td>115.745567</td>\n",
              "      <td>...</td>\n",
              "      <td>97.488182</td>\n",
              "      <td>99.168648</td>\n",
              "      <td>100.396454</td>\n",
              "      <td>100.602089</td>\n",
              "      <td>100.661255</td>\n",
              "      <td>100.146454</td>\n",
              "      <td>101.020721</td>\n",
              "      <td>100.218941</td>\n",
              "      <td>99.031067</td>\n",
              "      <td>96.008881</td>\n",
              "      <td>73.488174</td>\n",
              "      <td>74.282555</td>\n",
              "      <td>103.405334</td>\n",
              "      <td>102.618347</td>\n",
              "      <td>105.923088</td>\n",
              "      <td>102.625740</td>\n",
              "      <td>103.244095</td>\n",
              "      <td>100.201187</td>\n",
              "      <td>97.100601</td>\n",
              "      <td>99.349121</td>\n",
              "      <td>96.208588</td>\n",
              "      <td>94.429008</td>\n",
              "      <td>93.886101</td>\n",
              "      <td>91.211548</td>\n",
              "      <td>92.446762</td>\n",
              "      <td>93.016281</td>\n",
              "      <td>94.797348</td>\n",
              "      <td>95.218948</td>\n",
              "      <td>98.424561</td>\n",
              "      <td>102.855042</td>\n",
              "      <td>102.455627</td>\n",
              "      <td>99.113914</td>\n",
              "      <td>100.859474</td>\n",
              "      <td>103.028114</td>\n",
              "      <td>103.108002</td>\n",
              "      <td>103.662735</td>\n",
              "      <td>102.890541</td>\n",
              "      <td>101.773682</td>\n",
              "      <td>73.945267</td>\n",
              "      <td>65.926041</td>\n",
              "    </tr>\n",
              "    <tr>\n",
              "      <th>3</th>\n",
              "      <td>145</td>\n",
              "      <td>106.390808</td>\n",
              "      <td>107.096451</td>\n",
              "      <td>105.565224</td>\n",
              "      <td>105.534981</td>\n",
              "      <td>107.608368</td>\n",
              "      <td>111.650230</td>\n",
              "      <td>118.389488</td>\n",
              "      <td>122.451988</td>\n",
              "      <td>102.537415</td>\n",
              "      <td>50.355911</td>\n",
              "      <td>66.522858</td>\n",
              "      <td>70.556725</td>\n",
              "      <td>71.025543</td>\n",
              "      <td>68.382309</td>\n",
              "      <td>68.556526</td>\n",
              "      <td>68.125984</td>\n",
              "      <td>64.827202</td>\n",
              "      <td>65.540161</td>\n",
              "      <td>67.045616</td>\n",
              "      <td>75.596107</td>\n",
              "      <td>77.936226</td>\n",
              "      <td>105.431877</td>\n",
              "      <td>133.844040</td>\n",
              "      <td>140.222733</td>\n",
              "      <td>138.368317</td>\n",
              "      <td>136.104935</td>\n",
              "      <td>133.587479</td>\n",
              "      <td>133.276703</td>\n",
              "      <td>109.336647</td>\n",
              "      <td>111.015404</td>\n",
              "      <td>109.603760</td>\n",
              "      <td>110.401855</td>\n",
              "      <td>111.490509</td>\n",
              "      <td>111.452652</td>\n",
              "      <td>112.461311</td>\n",
              "      <td>119.308487</td>\n",
              "      <td>105.528610</td>\n",
              "      <td>50.499073</td>\n",
              "      <td>63.586540</td>\n",
              "      <td>...</td>\n",
              "      <td>102.738693</td>\n",
              "      <td>107.422729</td>\n",
              "      <td>111.774216</td>\n",
              "      <td>121.125084</td>\n",
              "      <td>128.162613</td>\n",
              "      <td>130.449036</td>\n",
              "      <td>129.954620</td>\n",
              "      <td>127.221405</td>\n",
              "      <td>132.807510</td>\n",
              "      <td>142.748260</td>\n",
              "      <td>128.665924</td>\n",
              "      <td>91.605186</td>\n",
              "      <td>68.427734</td>\n",
              "      <td>74.137787</td>\n",
              "      <td>74.473770</td>\n",
              "      <td>72.887756</td>\n",
              "      <td>76.533180</td>\n",
              "      <td>40.535748</td>\n",
              "      <td>47.879856</td>\n",
              "      <td>92.057640</td>\n",
              "      <td>120.250137</td>\n",
              "      <td>121.079620</td>\n",
              "      <td>119.149529</td>\n",
              "      <td>120.917526</td>\n",
              "      <td>125.853409</td>\n",
              "      <td>124.310303</td>\n",
              "      <td>111.604042</td>\n",
              "      <td>94.529610</td>\n",
              "      <td>99.488838</td>\n",
              "      <td>106.198669</td>\n",
              "      <td>112.286652</td>\n",
              "      <td>119.154572</td>\n",
              "      <td>122.958435</td>\n",
              "      <td>121.758148</td>\n",
              "      <td>119.579353</td>\n",
              "      <td>116.763191</td>\n",
              "      <td>129.394897</td>\n",
              "      <td>143.852173</td>\n",
              "      <td>125.908913</td>\n",
              "      <td>85.166084</td>\n",
              "    </tr>\n",
              "    <tr>\n",
              "      <th>4</th>\n",
              "      <td>128</td>\n",
              "      <td>107.934570</td>\n",
              "      <td>108.666992</td>\n",
              "      <td>107.218750</td>\n",
              "      <td>100.117188</td>\n",
              "      <td>66.483398</td>\n",
              "      <td>55.961914</td>\n",
              "      <td>54.099609</td>\n",
              "      <td>45.452148</td>\n",
              "      <td>32.543945</td>\n",
              "      <td>26.159180</td>\n",
              "      <td>29.399414</td>\n",
              "      <td>43.476562</td>\n",
              "      <td>60.320312</td>\n",
              "      <td>66.669922</td>\n",
              "      <td>71.115234</td>\n",
              "      <td>73.416016</td>\n",
              "      <td>71.817383</td>\n",
              "      <td>72.103516</td>\n",
              "      <td>73.875977</td>\n",
              "      <td>75.578125</td>\n",
              "      <td>76.224609</td>\n",
              "      <td>83.285156</td>\n",
              "      <td>85.976562</td>\n",
              "      <td>91.696289</td>\n",
              "      <td>87.980469</td>\n",
              "      <td>110.313477</td>\n",
              "      <td>128.863281</td>\n",
              "      <td>141.122070</td>\n",
              "      <td>119.232422</td>\n",
              "      <td>116.900391</td>\n",
              "      <td>113.642578</td>\n",
              "      <td>102.058594</td>\n",
              "      <td>42.012695</td>\n",
              "      <td>21.864258</td>\n",
              "      <td>20.602539</td>\n",
              "      <td>18.702148</td>\n",
              "      <td>19.780273</td>\n",
              "      <td>20.803711</td>\n",
              "      <td>22.891602</td>\n",
              "      <td>...</td>\n",
              "      <td>122.643555</td>\n",
              "      <td>129.758789</td>\n",
              "      <td>131.758789</td>\n",
              "      <td>125.266602</td>\n",
              "      <td>123.417969</td>\n",
              "      <td>121.756836</td>\n",
              "      <td>125.379883</td>\n",
              "      <td>123.454102</td>\n",
              "      <td>119.625000</td>\n",
              "      <td>122.497070</td>\n",
              "      <td>129.478516</td>\n",
              "      <td>137.956055</td>\n",
              "      <td>108.509766</td>\n",
              "      <td>112.099609</td>\n",
              "      <td>113.548828</td>\n",
              "      <td>119.959961</td>\n",
              "      <td>119.871094</td>\n",
              "      <td>107.438477</td>\n",
              "      <td>94.929688</td>\n",
              "      <td>101.958008</td>\n",
              "      <td>101.599609</td>\n",
              "      <td>116.010742</td>\n",
              "      <td>119.406250</td>\n",
              "      <td>118.895508</td>\n",
              "      <td>119.403320</td>\n",
              "      <td>108.025391</td>\n",
              "      <td>87.441406</td>\n",
              "      <td>112.625000</td>\n",
              "      <td>119.553711</td>\n",
              "      <td>128.880859</td>\n",
              "      <td>131.681641</td>\n",
              "      <td>125.133789</td>\n",
              "      <td>120.998047</td>\n",
              "      <td>120.439453</td>\n",
              "      <td>125.163086</td>\n",
              "      <td>122.937500</td>\n",
              "      <td>119.810547</td>\n",
              "      <td>123.425781</td>\n",
              "      <td>130.162109</td>\n",
              "      <td>139.323242</td>\n",
              "    </tr>\n",
              "  </tbody>\n",
              "</table>\n",
              "<p>5 rows × 785 columns</p>\n",
              "</div>"
            ],
            "text/plain": [
              "   Width           0           1  ...         781         782         783\n",
              "0    163   69.678574   70.215591  ...  101.131020   96.200607   87.479767\n",
              "1    171   94.173035   93.950066  ...  146.388809  147.557922  145.434052\n",
              "2    104   65.321014   67.605026  ...  101.773682   73.945267   65.926041\n",
              "3    145  106.390808  107.096451  ...  143.852173  125.908913   85.166084\n",
              "4    128  107.934570  108.666992  ...  123.425781  130.162109  139.323242\n",
              "\n",
              "[5 rows x 785 columns]"
            ]
          },
          "metadata": {
            "tags": []
          },
          "execution_count": 65
        }
      ]
    },
    {
      "cell_type": "code",
      "metadata": {
        "id": "ciUjF5tmdqLC",
        "colab": {
          "base_uri": "https://localhost:8080/",
          "height": 283
        },
        "outputId": "f250102f-8ae3-4908-ae50-ef53f3e04fc1"
      },
      "source": [
        "Size=28\n",
        "qual_img=7\n",
        "L = Width[qual_img]\n",
        "data=np.array(df_size.drop('Width',axis=1).iloc[qual_img]).reshape(Size,Size)\n",
        "img = Image.fromarray(data.astype('uint8'), mode='L')\n",
        "img=np.float32(img)\n",
        "img28=cv2.resize(img,(Size,Size), interpolation = cv2.INTER_AREA)\n",
        "Foto=np.array(img28).reshape(28,28)\n",
        "plt.imshow(Foto, cmap = \"gray\")"
      ],
      "execution_count": null,
      "outputs": [
        {
          "output_type": "execute_result",
          "data": {
            "text/plain": [
              "<matplotlib.image.AxesImage at 0x7f3b4a13a510>"
            ]
          },
          "metadata": {
            "tags": []
          },
          "execution_count": 66
        },
        {
          "output_type": "display_data",
          "data": {
            "image/png": "[encoded data removed]",
            "text/plain": [
              "<Figure size 432x288 with 1 Axes>"
            ]
          },
          "metadata": {
            "tags": [],
            "needs_background": "light"
          }
        }
      ]
    },
    {
      "cell_type": "code",
      "metadata": {
        "id": "V-MTA4fXg2W0"
      },
      "source": [
        "mean_value = np.mean(img)\n",
        "img_new = img.copy()"
      ],
      "execution_count": null,
      "outputs": []
    },
    {
      "cell_type": "code",
      "metadata": {
        "id": "JbcfWPMdewq3",
        "colab": {
          "base_uri": "https://localhost:8080/",
          "height": 283
        },
        "outputId": "4f0a4f86-3edd-4bf3-d503-6742e14c5b0e"
      },
      "source": [
        "'''\n",
        "for i in range(28):\n",
        "  for j in range(28):\n",
        "    if img[i,j] < mean_value:\n",
        "      img_new[i,j] = 255\n",
        "    else:\n",
        "      img_new[i,j] = 0\n",
        "'''\n",
        "img28=cv2.resize(img_new,(Size,Size), interpolation = cv2.INTER_AREA)\n",
        "Foto=np.array(img28).reshape(28,28)\n",
        "plt.imshow(Foto, cmap = \"gray\")\n"
      ],
      "execution_count": null,
      "outputs": [
        {
          "output_type": "execute_result",
          "data": {
            "text/plain": [
              "<matplotlib.image.AxesImage at 0x7f3b4a113a90>"
            ]
          },
          "metadata": {
            "tags": []
          },
          "execution_count": 68
        },
        {
          "output_type": "display_data",
          "data": {
            "image/png": "[encoded data removed]",
            "text/plain": [
              "<Figure size 432x288 with 1 Axes>"
            ]
          },
          "metadata": {
            "tags": [],
            "needs_background": "light"
          }
        }
      ]
    },
    {
      "cell_type": "code",
      "metadata": {
        "id": "spRNBSwifDqQ",
        "colab": {
          "base_uri": "https://localhost:8080/"
        },
        "outputId": "e4b1639f-fa59-4209-b326-2a03d94546f2"
      },
      "source": [
        "L = Width[qual_img]\n",
        "Area = np.sum(img_new) / (255.0 * 28 * 28)* L*L\n",
        "print(Area)"
      ],
      "execution_count": null,
      "outputs": [
        {
          "output_type": "stream",
          "text": [
            "6334.812785114045\n"
          ],
          "name": "stdout"
        }
      ]
    },
    {
      "cell_type": "code",
      "metadata": {
        "id": "6GP_DXsWibOX"
      },
      "source": [
        "Area_All, Diameter_All=PSDArea(df_size) \n"
      ],
      "execution_count": null,
      "outputs": []
    },
    {
      "cell_type": "code",
      "metadata": {
        "id": "3ydbrnjewBYL",
        "colab": {
          "base_uri": "https://localhost:8080/"
        },
        "outputId": "bdbe3bb5-73aa-4374-a036-dd93fde37c24"
      },
      "source": [
        "df_size.shape"
      ],
      "execution_count": null,
      "outputs": [
        {
          "output_type": "execute_result",
          "data": {
            "text/plain": [
              "(150, 785)"
            ]
          },
          "metadata": {
            "tags": []
          },
          "execution_count": 71
        }
      ]
    },
    {
      "cell_type": "code",
      "metadata": {
        "id": "3L3IfgxMs3dI",
        "colab": {
          "base_uri": "https://localhost:8080/"
        },
        "outputId": "d0800fc4-e43f-4ee8-ac91-174853934f36"
      },
      "source": [
        "# print(Area_All)\n",
        "print(Diameter_All)"
      ],
      "execution_count": null,
      "outputs": [
        {
          "output_type": "stream",
          "text": [
            "[1.5610226518698334, 1.6376372605505614, 0.9039831787806819, 1.3252804622009962, 1.147879084363463, 1.242765988028235, 1.3207922639678136, 1.6188212327138436, 1.9389720982401308, 1.6498283444520951, 1.5099224954462946, 0.9523150153084252, 1.6069870766267969, 1.8887474100358312, 1.1064351630174991, 1.1907322560599913, 1.788837523142964, 1.035590093978594, 1.0396834769541736, 1.8172642866279722, 1.8739381521997889, 1.744184817448278, 1.9062498116188078, 1.55518227802078, 1.6394533784211154, 1.8327476683211146, 1.4016552661561672, 1.4892745987966585, 1.8940446092649574, 1.0705057219867886, 1.430293394102697, 1.3029815302240373, 1.5872802617584583, 1.0383185272843123, 1.4652866841942613, 0.9698056557598252, 1.7223482716807585, 1.6872998181630887, 1.519032097000696, 1.6607367443803993, 1.8172874315215417, 1.440561245904694, 1.1896074282236642, 1.5824867194587309, 1.9436229214134135, 1.8800174492254016, 1.7963514580858395, 1.118734734141718, 1.0143437424395565, 1.0316003365271629, 1.4303217116866855, 1.8784093608011747, 1.0055667389345553, 1.4609305789721811, 1.3148078388696165, 0.9836366910032285, 1.3213792023997861, 1.4511566265041524, 1.3430626929728398, 1.782401386855135, 1.5515936720222478, 0.9880840084905405, 1.5695898201297664, 1.635574722337565, 1.0261940414559136, 1.2182751661496534, 1.668011794465657, 1.0104064408181304, 1.1963405314983266, 1.371547805407423, 1.8370662250629906, 1.5610664981060576, 1.4374044668888075, 1.5021049811052836, 1.4300348340768048, 1.5371643390849015, 1.311744415139276, 1.4657832848691945, 1.894197531815702, 1.2056833598292098, 1.06804022626407, 1.6055260218251899, 0.9872624613094254, 1.6382090402106015, 1.420700747695341, 1.381618024331931, 1.951309278702111, 1.4748304249103956, 1.81577537554404, 1.6676803923925745, 1.4155730197411733, 1.5711783648232602, 1.6860093114931045, 1.138190990387661, 1.0258076278997967, 1.2047039926187972, 1.8730684120726184, 1.7828417690982576, 1.598494564575558, 1.6516992602036293, 1.433807503736738, 1.4775935172840193, 1.268040728796629, 1.1302029756533873, 1.0723604982028323, 1.3495242531583453, 1.289652873397569, 1.4712926672331235, 1.2206174014446516, 1.4363409044295408, 1.3671084507569227, 1.477544755879403, 1.6608816619434534, 1.4385683607900062, 1.09296891894741, 1.6742699186127652, 1.8433297252047258, 1.2192587247457563, 1.158795956296011, 1.3209438876874395, 1.5622860900174502, 1.142029269403444, 1.7945475280525234, 1.4667755835505942, 1.2966540195515774, 1.510284324363694, 0.843274870205896, 1.4428555383300194, 1.7289500778607467, 1.6864255032825248, 1.6660579828820672, 1.5543202773734224, 2.0106759341303104, 1.4273447522326093, 1.1808420169736242, 0.8683323873236843, 1.1967330621170609, 1.5767966167617735, 1.9098837395176693, 1.6382090402106015, 1.4724995331198956, 1.2838668497511967, 1.0734643339109606, 1.3865388495572932, 1.4164783520156108, 1.0532598145952252, 1.4994301756854609, 1.2735002268551188, 1.935897496471321, 1.1271140332881013]\n"
          ],
          "name": "stdout"
        }
      ]
    },
    {
      "cell_type": "code",
      "metadata": {
        "id": "oeLlypq5gbFa"
      },
      "source": [
        ""
      ],
      "execution_count": null,
      "outputs": []
    },
    {
      "cell_type": "code",
      "metadata": {
        "id": "YJFWGVQJLwRo",
        "colab": {
          "base_uri": "https://localhost:8080/"
        },
        "outputId": "2d550a60-5cee-46bc-e098-c77defde0b8d"
      },
      "source": [
        "diam = Diameter_All.copy()\n",
        "PSD_value, Perc_value = PSD(diam)\n",
        "print(Perc_value)"
      ],
      "execution_count": null,
      "outputs": [
        {
          "output_type": "stream",
          "text": [
            "[ 0.          0.          0.          0.          0.          0.\n",
            "  0.          0.66666667  4.66666667 16.66666667 78.        ]\n"
          ],
          "name": "stdout"
        }
      ]
    },
    {
      "cell_type": "code",
      "metadata": {
        "id": "Zvked-F_kPwi",
        "colab": {
          "base_uri": "https://localhost:8080/"
        },
        "outputId": "595c5b93-a8b6-4764-e327-68b479cd2790"
      },
      "source": [
        "!git clone https://github.com/ucfilho/marquesgabi_out_2020\n",
        "%cd marquesgabi_out_2020\n",
        "PSD_imageJ = 'Areas_ImageJ.csv'\n",
        "PSD_new = pd.read_csv(PSD_imageJ)\n",
        "print(PSD_new.head(3))"
      ],
      "execution_count": null,
      "outputs": [
        {
          "output_type": "stream",
          "text": [
            "Cloning into 'marquesgabi_out_2020'...\n",
            "remote: Enumerating objects: 146, done.\u001b[K\n",
            "remote: Counting objects: 100% (146/146), done.\u001b[K\n",
            "remote: Compressing objects: 100% (142/142), done.\u001b[K\n",
            "remote: Total 146 (delta 75), reused 0 (delta 0), pack-reused 0\u001b[K\n",
            "Receiving objects: 100% (146/146), 1.00 MiB | 7.90 MiB/s, done.\n",
            "Resolving deltas: 100% (75/75), done.\n",
            "/content/marquesgabi_fev_2020/marquesgabi_paper_fev_2021/Doutorado/marquesgabi_paper_fev_2021/Doutorado/Doutorado/marquesgabi_out_2020/marquesgabi_fev_2020/marquesgabi_paper_fev_2021/Doutorado/marquesgabi_paper_fev_2021/Doutorado/Doutorado/marquesgabi_out_2020\n",
            "   Juntas   Area\n",
            "0       1  2.001\n",
            "1       2  0.820\n",
            "2       3  1.270\n"
          ],
          "name": "stdout"
        }
      ]
    },
    {
      "cell_type": "code",
      "metadata": {
        "id": "004Ki_RdzWqi"
      },
      "source": [
        "Area = np.array(PSD_new['Area'])\n",
        "diam_teste = []\n",
        "for A in Area:\n",
        "  diam_teste.append((4*A/np.pi)**0.5) \n",
        "\n",
        "Diam1 = [ (4*A/np.pi)**0.5 for A in Area]"
      ],
      "execution_count": null,
      "outputs": []
    },
    {
      "cell_type": "code",
      "metadata": {
        "colab": {
          "base_uri": "https://localhost:8080/",
          "height": 407
        },
        "id": "0dIK1uV4DqR-",
        "outputId": "1912c319-cf96-4871-b98e-7e462e710ea2"
      },
      "source": [
        "PSD_new"
      ],
      "execution_count": null,
      "outputs": [
        {
          "output_type": "execute_result",
          "data": {
            "text/html": [
              "<div>\n",
              "<style scoped>\n",
              "    .dataframe tbody tr th:only-of-type {\n",
              "        vertical-align: middle;\n",
              "    }\n",
              "\n",
              "    .dataframe tbody tr th {\n",
              "        vertical-align: top;\n",
              "    }\n",
              "\n",
              "    .dataframe thead th {\n",
              "        text-align: right;\n",
              "    }\n",
              "</style>\n",
              "<table border=\"1\" class=\"dataframe\">\n",
              "  <thead>\n",
              "    <tr style=\"text-align: right;\">\n",
              "      <th></th>\n",
              "      <th>Juntas</th>\n",
              "      <th>Area</th>\n",
              "    </tr>\n",
              "  </thead>\n",
              "  <tbody>\n",
              "    <tr>\n",
              "      <th>0</th>\n",
              "      <td>1</td>\n",
              "      <td>2.001</td>\n",
              "    </tr>\n",
              "    <tr>\n",
              "      <th>1</th>\n",
              "      <td>2</td>\n",
              "      <td>0.820</td>\n",
              "    </tr>\n",
              "    <tr>\n",
              "      <th>2</th>\n",
              "      <td>3</td>\n",
              "      <td>1.270</td>\n",
              "    </tr>\n",
              "    <tr>\n",
              "      <th>3</th>\n",
              "      <td>4</td>\n",
              "      <td>0.958</td>\n",
              "    </tr>\n",
              "    <tr>\n",
              "      <th>4</th>\n",
              "      <td>5</td>\n",
              "      <td>1.162</td>\n",
              "    </tr>\n",
              "    <tr>\n",
              "      <th>...</th>\n",
              "      <td>...</td>\n",
              "      <td>...</td>\n",
              "    </tr>\n",
              "    <tr>\n",
              "      <th>90</th>\n",
              "      <td>30</td>\n",
              "      <td>1.064</td>\n",
              "    </tr>\n",
              "    <tr>\n",
              "      <th>91</th>\n",
              "      <td>31</td>\n",
              "      <td>1.341</td>\n",
              "    </tr>\n",
              "    <tr>\n",
              "      <th>92</th>\n",
              "      <td>32</td>\n",
              "      <td>1.044</td>\n",
              "    </tr>\n",
              "    <tr>\n",
              "      <th>93</th>\n",
              "      <td>33</td>\n",
              "      <td>1.337</td>\n",
              "    </tr>\n",
              "    <tr>\n",
              "      <th>94</th>\n",
              "      <td>34</td>\n",
              "      <td>1.341</td>\n",
              "    </tr>\n",
              "  </tbody>\n",
              "</table>\n",
              "<p>95 rows × 2 columns</p>\n",
              "</div>"
            ],
            "text/plain": [
              "    Juntas   Area\n",
              "0        1  2.001\n",
              "1        2  0.820\n",
              "2        3  1.270\n",
              "3        4  0.958\n",
              "4        5  1.162\n",
              "..     ...    ...\n",
              "90      30  1.064\n",
              "91      31  1.341\n",
              "92      32  1.044\n",
              "93      33  1.337\n",
              "94      34  1.341\n",
              "\n",
              "[95 rows x 2 columns]"
            ]
          },
          "metadata": {
            "tags": []
          },
          "execution_count": 76
        }
      ]
    },
    {
      "cell_type": "code",
      "metadata": {
        "id": "40Fdww7M1KSx",
        "colab": {
          "base_uri": "https://localhost:8080/"
        },
        "outputId": "ef6cc50e-cbb1-44ee-b530-3b94b00ae637"
      },
      "source": [
        "PSD_new, Perc_new = PSD(Diam1)  # imageJ\n",
        "print(Perc_new)\n",
        "print(Perc_value)"
      ],
      "execution_count": null,
      "outputs": [
        {
          "output_type": "stream",
          "text": [
            "[ 0.          0.          0.          0.          0.          0.\n",
            "  0.          4.21052632 10.52631579 23.15789474 62.10526316]\n",
            "[ 0.          0.          0.          0.          0.          0.\n",
            "  0.          0.66666667  4.66666667 16.66666667 78.        ]\n"
          ],
          "name": "stdout"
        }
      ]
    },
    {
      "cell_type": "code",
      "metadata": {
        "id": "jeTMW3eVbpAY",
        "colab": {
          "base_uri": "https://localhost:8080/"
        },
        "outputId": "b22bacda-da76-425a-8312-41fb6d6f6474"
      },
      "source": [
        "np.sum(np.array(Perc_value))"
      ],
      "execution_count": null,
      "outputs": [
        {
          "output_type": "execute_result",
          "data": {
            "text/plain": [
              "100.0"
            ]
          },
          "metadata": {
            "tags": []
          },
          "execution_count": 78
        }
      ]
    },
    {
      "cell_type": "code",
      "metadata": {
        "id": "oAuyxTmrmc9Y",
        "colab": {
          "base_uri": "https://localhost:8080/",
          "height": 283
        },
        "outputId": "23a4c4fd-a619-4753-f27f-5c43bdcc332c"
      },
      "source": [
        "plt.plot( Perc_value,Perc_new )"
      ],
      "execution_count": null,
      "outputs": [
        {
          "output_type": "execute_result",
          "data": {
            "text/plain": [
              "[<matplotlib.lines.Line2D at 0x7f3b48776bd0>]"
            ]
          },
          "metadata": {
            "tags": []
          },
          "execution_count": 79
        },
        {
          "output_type": "display_data",
          "data": {
            "image/png": "[encoded data removed]",
            "text/plain": [
              "<Figure size 432x288 with 1 Axes>"
            ]
          },
          "metadata": {
            "tags": [],
            "needs_background": "light"
          }
        }
      ]
    },
    {
      "cell_type": "code",
      "metadata": {
        "id": "n1r49MHFvsPP",
        "colab": {
          "base_uri": "https://localhost:8080/",
          "height": 265
        },
        "outputId": "5bf97acb-bdf7-4407-9e91-79103e553c6a"
      },
      "source": [
        "PSD_comparison = pd.DataFrame({ 'CNN':Perc_value,'ImgJ':Perc_new})\n",
        "ax = PSD_comparison.plot.bar(rot=0)"
      ],
      "execution_count": null,
      "outputs": [
        {
          "output_type": "display_data",
          "data": {
            "image/png": "[encoded data removed]",
            "text/plain": [
              "<Figure size 432x288 with 1 Axes>"
            ]
          },
          "metadata": {
            "tags": [],
            "needs_background": "light"
          }
        }
      ]
    },
    {
      "cell_type": "code",
      "metadata": {
        "id": "enuGx6kH4cFh"
      },
      "source": [
        ""
      ],
      "execution_count": null,
      "outputs": []
    },
    {
      "cell_type": "code",
      "metadata": {
        "id": "sW4TRqxc0Li-",
        "colab": {
          "base_uri": "https://localhost:8080/"
        },
        "outputId": "62475bd5-597e-4e8e-c0c0-97ee0241d941"
      },
      "source": [
        "results = smf.ols('ImgJ ~ CNN', data=PSD_comparison).fit()\n",
        "print(results.summary())"
      ],
      "execution_count": null,
      "outputs": [
        {
          "output_type": "stream",
          "text": [
            "                            OLS Regression Results                            \n",
            "==============================================================================\n",
            "Dep. Variable:                   ImgJ   R-squared:                       0.967\n",
            "Model:                            OLS   Adj. R-squared:                  0.963\n",
            "Method:                 Least Squares   F-statistic:                     262.2\n",
            "Date:                Fri, 12 Mar 2021   Prob (F-statistic):           5.80e-08\n",
            "Time:                        21:10:15   Log-Likelihood:                -28.747\n",
            "No. Observations:                  11   AIC:                             61.49\n",
            "Df Residuals:                       9   BIC:                             62.29\n",
            "Df Model:                           1                                         \n",
            "Covariance Type:            nonrobust                                         \n",
            "==============================================================================\n",
            "                 coef    std err          t      P>|t|      [0.025      0.975]\n",
            "------------------------------------------------------------------------------\n",
            "Intercept      1.8297      1.188      1.540      0.158      -0.859       4.518\n",
            "CNN            0.7987      0.049     16.192      0.000       0.687       0.910\n",
            "==============================================================================\n",
            "Omnibus:                        8.547   Durbin-Watson:                   1.112\n",
            "Prob(Omnibus):                  0.014   Jarque-Bera (JB):                4.342\n",
            "Skew:                           1.498   Prob(JB):                        0.114\n",
            "Kurtosis:                       3.707   Cond. No.                         26.0\n",
            "==============================================================================\n",
            "\n",
            "Warnings:\n",
            "[1] Standard Errors assume that the covariance matrix of the errors is correctly specified.\n"
          ],
          "name": "stdout"
        },
        {
          "output_type": "stream",
          "text": [
            "/usr/local/lib/python3.7/dist-packages/scipy/stats/stats.py:1535: UserWarning: kurtosistest only valid for n>=20 ... continuing anyway, n=11\n",
            "  \"anyway, n=%i\" % int(n))\n"
          ],
          "name": "stderr"
        }
      ]
    },
    {
      "cell_type": "code",
      "metadata": {
        "id": "Ctf4oExeyz1B",
        "colab": {
          "base_uri": "https://localhost:8080/",
          "height": 283
        },
        "outputId": "965e4aa5-4a76-43df-b8e9-186808a255cc"
      },
      "source": [
        "#plt.plot(Diam)\n",
        "plt.plot(Diameter_All)"
      ],
      "execution_count": null,
      "outputs": [
        {
          "output_type": "execute_result",
          "data": {
            "text/plain": [
              "[<matplotlib.lines.Line2D at 0x7f3b486a1b90>]"
            ]
          },
          "metadata": {
            "tags": []
          },
          "execution_count": 82
        },
        {
          "output_type": "display_data",
          "data": {
            "image/png": "[encoded data removed]",
            "text/plain": [
              "<Figure size 432x288 with 1 Axes>"
            ]
          },
          "metadata": {
            "tags": [],
            "needs_background": "light"
          }
        }
      ]
    },
    {
      "cell_type": "code",
      "metadata": {
        "id": "WKwv70Nty2jF",
        "colab": {
          "base_uri": "https://localhost:8080/",
          "height": 283
        },
        "outputId": "b35bda1e-25bf-4115-b23d-b161d57c3398"
      },
      "source": [
        "plt.plot(Diam1)"
      ],
      "execution_count": null,
      "outputs": [
        {
          "output_type": "execute_result",
          "data": {
            "text/plain": [
              "[<matplotlib.lines.Line2D at 0x7f3b4860dd90>]"
            ]
          },
          "metadata": {
            "tags": []
          },
          "execution_count": 83
        },
        {
          "output_type": "display_data",
          "data": {
            "image/png": "[encoded data removed]",
            "text/plain": [
              "<Figure size 432x288 with 1 Axes>"
            ]
          },
          "metadata": {
            "tags": [],
            "needs_background": "light"
          }
        }
      ]
    },
    {
      "cell_type": "code",
      "metadata": {
        "id": "eDfOaBFQ3BMS",
        "colab": {
          "base_uri": "https://localhost:8080/",
          "height": 288
        },
        "outputId": "820fe1ce-9872-4de9-beaa-30767da7a3d5"
      },
      "source": [
        "df_diam=pd.DataFrame(Diam1)\r\n",
        "df_diam.describe()"
      ],
      "execution_count": null,
      "outputs": [
        {
          "output_type": "execute_result",
          "data": {
            "text/html": [
              "<div>\n",
              "<style scoped>\n",
              "    .dataframe tbody tr th:only-of-type {\n",
              "        vertical-align: middle;\n",
              "    }\n",
              "\n",
              "    .dataframe tbody tr th {\n",
              "        vertical-align: top;\n",
              "    }\n",
              "\n",
              "    .dataframe thead th {\n",
              "        text-align: right;\n",
              "    }\n",
              "</style>\n",
              "<table border=\"1\" class=\"dataframe\">\n",
              "  <thead>\n",
              "    <tr style=\"text-align: right;\">\n",
              "      <th></th>\n",
              "      <th>0</th>\n",
              "    </tr>\n",
              "  </thead>\n",
              "  <tbody>\n",
              "    <tr>\n",
              "      <th>count</th>\n",
              "      <td>95.000000</td>\n",
              "    </tr>\n",
              "    <tr>\n",
              "      <th>mean</th>\n",
              "      <td>1.260307</td>\n",
              "    </tr>\n",
              "    <tr>\n",
              "      <th>std</th>\n",
              "      <td>0.258410</td>\n",
              "    </tr>\n",
              "    <tr>\n",
              "      <th>min</th>\n",
              "      <td>0.753568</td>\n",
              "    </tr>\n",
              "    <tr>\n",
              "      <th>25%</th>\n",
              "      <td>1.117893</td>\n",
              "    </tr>\n",
              "    <tr>\n",
              "      <th>50%</th>\n",
              "      <td>1.267607</td>\n",
              "    </tr>\n",
              "    <tr>\n",
              "      <th>75%</th>\n",
              "      <td>1.376667</td>\n",
              "    </tr>\n",
              "    <tr>\n",
              "      <th>max</th>\n",
              "      <td>2.317439</td>\n",
              "    </tr>\n",
              "  </tbody>\n",
              "</table>\n",
              "</div>"
            ],
            "text/plain": [
              "               0\n",
              "count  95.000000\n",
              "mean    1.260307\n",
              "std     0.258410\n",
              "min     0.753568\n",
              "25%     1.117893\n",
              "50%     1.267607\n",
              "75%     1.376667\n",
              "max     2.317439"
            ]
          },
          "metadata": {
            "tags": []
          },
          "execution_count": 84
        }
      ]
    },
    {
      "cell_type": "code",
      "metadata": {
        "id": "LKMhybhA4gjO",
        "colab": {
          "base_uri": "https://localhost:8080/",
          "height": 339
        },
        "outputId": "6d9d3297-5be9-4d52-a801-d3793b97db7e"
      },
      "source": [
        "plt.hist([Diam1,Diameter_All])\r\n",
        "plt.legend(['Image J','CNN'])"
      ],
      "execution_count": null,
      "outputs": [
        {
          "output_type": "stream",
          "text": [
            "/usr/local/lib/python3.7/dist-packages/numpy/core/_asarray.py:83: VisibleDeprecationWarning: Creating an ndarray from ragged nested sequences (which is a list-or-tuple of lists-or-tuples-or ndarrays with different lengths or shapes) is deprecated. If you meant to do this, you must specify 'dtype=object' when creating the ndarray\n",
            "  return array(a, dtype, copy=False, order=order)\n"
          ],
          "name": "stderr"
        },
        {
          "output_type": "execute_result",
          "data": {
            "text/plain": [
              "<matplotlib.legend.Legend at 0x7f3b486b1c10>"
            ]
          },
          "metadata": {
            "tags": []
          },
          "execution_count": 85
        },
        {
          "output_type": "display_data",
          "data": {
            "image/png": "[encoded data removed]",
            "text/plain": [
              "<Figure size 432x288 with 1 Axes>"
            ]
          },
          "metadata": {
            "tags": [],
            "needs_background": "light"
          }
        }
      ]
    },
    {
      "cell_type": "code",
      "metadata": {
        "id": "NHgkMv8i5nNz",
        "colab": {
          "base_uri": "https://localhost:8080/",
          "height": 355
        },
        "outputId": "b1151487-c97b-4ffb-877f-287b03f5581d"
      },
      "source": [
        "plt.hist(Diam1, alpha=0.5)\r\n",
        "plt.hist(Diameter_All, alpha=0.5)"
      ],
      "execution_count": null,
      "outputs": [
        {
          "output_type": "execute_result",
          "data": {
            "text/plain": [
              "(array([ 4., 18., 12., 14., 16., 27., 22., 12., 16.,  9.]),\n",
              " array([0.84327487, 0.96001498, 1.07675508, 1.19349519, 1.3102353 ,\n",
              "        1.4269754 , 1.54371551, 1.66045561, 1.77719572, 1.89393583,\n",
              "        2.01067593]),\n",
              " <a list of 10 Patch objects>)"
            ]
          },
          "metadata": {
            "tags": []
          },
          "execution_count": 86
        },
        {
          "output_type": "display_data",
          "data": {
            "image/png": "[encoded data removed]",
            "text/plain": [
              "<Figure size 432x288 with 1 Axes>"
            ]
          },
          "metadata": {
            "tags": [],
            "needs_background": "light"
          }
        }
      ]
    },
    {
      "cell_type": "markdown",
      "metadata": {
        "id": "9Pq4DTm1np4i"
      },
      "source": [
        ""
      ]
    }
  ]
}