{
  "nbformat": 4,
  "nbformat_minor": 0,
  "metadata": {
    "colab": {
      "name": "PSD_GRAIN_NOT_GRAIN_mar_18_2021.ipynb",
      "provenance": [],
      "collapsed_sections": [],
      "include_colab_link": true
    },
    "kernelspec": {
      "name": "python3",
      "display_name": "Python 3"
    }
  },
  "cells": [
    {
      "cell_type": "markdown",
      "metadata": {
        "id": "view-in-github",
        "colab_type": "text"
      },
      "source": [
        "<a href=\"https://colab.research.google.com/github/ucfilho/marquesgabi_paper_fev_2021/blob/main/ANN_Ajuste_mar_2021/PSD_GRAIN_NOT_GRAIN_mar_18_2021.ipynb\" target=\"_parent\"><img src=\"https://colab.research.google.com/assets/colab-badge.svg\" alt=\"Open In Colab\"/></a>"
      ]
    },
    {
      "cell_type": "code",
      "metadata": {
        "id": "Sog7Z9pyhUD_",
        "colab": {
          "base_uri": "https://localhost:8080/"
        },
        "outputId": "dd486ac7-a645-4f76-bdce-80b7f64584f8"
      },
      "source": [
        "import matplotlib.pyplot as plt\n",
        "import numpy as np\n",
        "import cv2\n",
        "import zipfile\n",
        "#import random\n",
        "from random import randint\n",
        "from PIL import Image\n",
        "import re\n",
        "from sklearn.model_selection import train_test_split\n",
        "#import scikit-image\n",
        "import skimage\n",
        "import pandas as pd\n",
        "import statsmodels.api as sm\n",
        "import statsmodels.formula.api as smf"
      ],
      "execution_count": 1,
      "outputs": [
        {
          "output_type": "stream",
          "text": [
            "/usr/local/lib/python3.7/dist-packages/statsmodels/tools/_testing.py:19: FutureWarning: pandas.util.testing is deprecated. Use the functions in the public API at pandas.testing instead.\n",
            "  import pandas.util.testing as tm\n"
          ],
          "name": "stderr"
        }
      ]
    },
    {
      "cell_type": "code",
      "metadata": {
        "id": "uZEvJvfoibE4",
        "colab": {
          "base_uri": "https://localhost:8080/"
        },
        "outputId": "674fadec-3bf2-4bd7-a43e-a8b8656938bd"
      },
      "source": [
        "!pip install mahotas"
      ],
      "execution_count": 2,
      "outputs": [
        {
          "output_type": "stream",
          "text": [
            "Collecting mahotas\n",
            "\u001b[?25l  Downloading https://files.pythonhosted.org/packages/19/ad/553b246b0a35dccc3ed58dc8889a67124bf5ab858e9c6b7255d56086e70c/mahotas-1.4.11-cp37-cp37m-manylinux2010_x86_64.whl (5.7MB)\n",
            "\u001b[K     |████████████████████████████████| 5.7MB 4.6MB/s \n",
            "\u001b[?25hRequirement already satisfied: numpy in /usr/local/lib/python3.7/dist-packages (from mahotas) (1.19.5)\n",
            "Installing collected packages: mahotas\n",
            "Successfully installed mahotas-1.4.11\n"
          ],
          "name": "stdout"
        }
      ]
    },
    {
      "cell_type": "code",
      "metadata": {
        "id": "_VcTdaNVh9EE",
        "colab": {
          "base_uri": "https://localhost:8080/"
        },
        "outputId": "711564b1-7cea-4a93-e90b-2e01b7ef6813"
      },
      "source": [
        "!git clone https://github.com/ucfilho/marquesgabi_fev_2020 #clonar do Github\n",
        "%cd marquesgabi_fev_2020\n",
        "import Go2BlackWhite\n",
        "import Go2Mahotas"
      ],
      "execution_count": 3,
      "outputs": [
        {
          "output_type": "stream",
          "text": [
            "Cloning into 'marquesgabi_fev_2020'...\n",
            "remote: Enumerating objects: 73, done.\u001b[K\n",
            "remote: Counting objects: 100% (73/73), done.\u001b[K\n",
            "remote: Compressing objects: 100% (71/71), done.\u001b[K\n",
            "remote: Total 73 (delta 37), reused 0 (delta 0), pack-reused 0\u001b[K\n",
            "Unpacking objects: 100% (73/73), done.\n",
            "/content/marquesgabi_fev_2020\n"
          ],
          "name": "stdout"
        }
      ]
    },
    {
      "cell_type": "code",
      "metadata": {
        "id": "nf_a6PJ1iUnT"
      },
      "source": [
        "import mahotas.features.texture as mht\n",
        "import mahotas.features"
      ],
      "execution_count": 4,
      "outputs": []
    },
    {
      "cell_type": "code",
      "metadata": {
        "id": "wj62HANgnpnR",
        "colab": {
          "base_uri": "https://localhost:8080/"
        },
        "outputId": "e8c44ef2-e0d0-4d6b-eafb-3349c2b5be5f"
      },
      "source": [
        "!git clone https://github.com/ucfilho/marquesgabi_paper_fev_2021\n",
        "%cd marquesgabi_paper_fev_2021\n",
        "\n",
        "from Get_PSDArea_New import PSDArea\n",
        "from histogram_fev_2021 import PSD\n",
        "from GetBetterSegm import GetBetter"
      ],
      "execution_count": 5,
      "outputs": [
        {
          "output_type": "stream",
          "text": [
            "Cloning into 'marquesgabi_paper_fev_2021'...\n",
            "remote: Enumerating objects: 101, done.\u001b[K\n",
            "remote: Counting objects: 100% (101/101), done.\u001b[K\n",
            "remote: Compressing objects: 100% (101/101), done.\u001b[K\n",
            "remote: Total 340 (delta 57), reused 0 (delta 0), pack-reused 239\u001b[K\n",
            "Receiving objects: 100% (340/340), 1.11 MiB | 8.94 MiB/s, done.\n",
            "Resolving deltas: 100% (194/194), done.\n",
            "/content/marquesgabi_fev_2020/marquesgabi_paper_fev_2021\n"
          ],
          "name": "stdout"
        }
      ]
    },
    {
      "cell_type": "code",
      "metadata": {
        "id": "8L6KJ4jc3ahG",
        "colab": {
          "base_uri": "https://localhost:8080/"
        },
        "outputId": "f88581f9-99b5-4561-daba-03346a3a527d"
      },
      "source": [
        "!ls"
      ],
      "execution_count": 6,
      "outputs": [
        {
          "output_type": "stream",
          "text": [
            "ANN_Ajuste_mar_2021\n",
            "ANN_FIND_GRAIN_MAR_2021.py\n",
            "ANN_FIND_GRAIN_NOVO.py\n",
            "ANN_FIND_GRAIN_PAPER_STEP_02.py\n",
            "big_segment.py\n",
            "CNN_classify_grain_feb_15_2021.ipynb\n",
            "CNN_DESCRIPTION.ipynb\n",
            "CNN_FIND_GRAIN_PAPER_STEP_02.py\n",
            "EPOCHS_graphic.csv\n",
            "EPOCHS_graphic.txt\n",
            "Fig_05_BIG_Segmentation_jan_25_2021.ipynb\n",
            "GetBetterSegm.py\n",
            "Get_PSDArea_New.py\n",
            "Graphic_Epochs_fev_09_2020.ipynb\n",
            "histogram_fev_2021.py\n",
            "PSD_CNN_GRAIN_NOT_GRAIN_step_02_paper.ipynb\n",
            "PSD_GRAIN_NOT_GRAIN_dez_04_2020.ipynb\n",
            "PSD_GRAIN_NOT_GRAIN_fev_18_2021.ipynb\n",
            "PSD_GRAIN_NOT_GRAIN_mar_11_2021.ipynb\n",
            "PSD_GRAIN_NOT_GRAIN_mar_12_2021.ipynb\n",
            "PSD_GRAIN_NOT_GRAIN_step_02_paper.ipynb\n",
            "psd_mahotas.py\n",
            "__pycache__\n",
            "README.md\n",
            "Segment_Ajuste_mar_2021\n",
            "SEGMENT_NOT_CONCLUDED.ipynb\n"
          ],
          "name": "stdout"
        }
      ]
    },
    {
      "cell_type": "code",
      "metadata": {
        "id": "1v7SRrc8mH2N",
        "colab": {
          "base_uri": "https://localhost:8080/"
        },
        "outputId": "79679bce-7697-4894-a20a-4137b155fc15"
      },
      "source": [
        "!git clone https://github.com/marquesgabi/Doutorado\n",
        "%cd Doutorado\n",
        "\n",
        "Transfere='Fotos_Grandes_3cdAmostra.zip'\n",
        "file_name = zipfile.ZipFile(Transfere, 'r')\n",
        "file_name.extractall()"
      ],
      "execution_count": 7,
      "outputs": [
        {
          "output_type": "stream",
          "text": [
            "Cloning into 'Doutorado'...\n",
            "remote: Enumerating objects: 58, done.\u001b[K\n",
            "remote: Counting objects: 100% (58/58), done.\u001b[K\n",
            "remote: Compressing objects: 100% (58/58), done.\u001b[K\n",
            "remote: Total 308 (delta 23), reused 0 (delta 0), pack-reused 250\u001b[K\n",
            "Receiving objects: 100% (308/308), 115.76 MiB | 38.89 MiB/s, done.\n",
            "Resolving deltas: 100% (140/140), done.\n",
            "/content/marquesgabi_fev_2020/marquesgabi_paper_fev_2021/Doutorado\n"
          ],
          "name": "stdout"
        }
      ]
    },
    {
      "cell_type": "code",
      "metadata": {
        "id": "0kA4IWSmasoD"
      },
      "source": [
        "Size=1200 # tamanho da foto\n",
        "ww,img_name=Go2BlackWhite.BlackWhite(Transfere,Size) #Pegamos a primeira foto Grande\n",
        "img=ww[0] \n",
        "# this is the big image we want to segment \n",
        "# ww[0], change it if you want to segment another picture"
      ],
      "execution_count": 8,
      "outputs": []
    },
    {
      "cell_type": "code",
      "metadata": {
        "id": "g_k1Ktz3izJv",
        "colab": {
          "base_uri": "https://localhost:8080/"
        },
        "outputId": "a839cff2-ec3f-46bd-9f33-7e2fd10e2340"
      },
      "source": [
        "!git clone https://github.com/marquesgabi/Doutorado\n",
        "# %cd Doutorado\n",
        "Transfere='FotosTreino882_and_Segm.zip'\n",
        "file_name = zipfile.ZipFile(Transfere, 'r')\n",
        "file_name.extractall()\n",
        "\n",
        "\"\"\"# First step: get the segmented file (photos stored in csv file)\"\"\"\n",
        "\n",
        "labels = [] #name files\n",
        "\n",
        "with zipfile.ZipFile(Transfere, \"r\") as f:\n",
        "  for f in f.namelist():\n",
        "    labels.append(f)\n",
        "\n",
        "Num=len(labels)\n",
        "df=pd.read_csv(labels[0])\n",
        "for i in range(1,Num):\n",
        "  df_new=pd.read_csv(labels[i])\n",
        "  df_new = df_new[~df_new['Type'].isin(['G'])] # drop grain row which is not in 882\n",
        "  frames = [df, df_new]\n",
        "  df= pd.concat(frames, ignore_index=True)"
      ],
      "execution_count": 9,
      "outputs": [
        {
          "output_type": "stream",
          "text": [
            "Cloning into 'Doutorado'...\n",
            "remote: Enumerating objects: 58, done.\u001b[K\n",
            "remote: Counting objects: 100% (58/58), done.\u001b[K\n",
            "remote: Compressing objects: 100% (58/58), done.\u001b[K\n",
            "remote: Total 308 (delta 23), reused 0 (delta 0), pack-reused 250\u001b[K\n",
            "Receiving objects: 100% (308/308), 78.60 MiB | 38.14 MiB/s, done.\n",
            "Resolving deltas: 100% (146/146), done.\n"
          ],
          "name": "stdout"
        }
      ]
    },
    {
      "cell_type": "code",
      "metadata": {
        "id": "tHgqAnaFyCjp",
        "colab": {
          "base_uri": "https://localhost:8080/"
        },
        "outputId": "089d6ddb-2539-4e23-c868-01fe09fa496d"
      },
      "source": [
        "!git clone https://github.com/ucfilho/marquesgabi_paper_fev_2021\n",
        "%cd marquesgabi_paper_fev_2021"
      ],
      "execution_count": 10,
      "outputs": [
        {
          "output_type": "stream",
          "text": [
            "Cloning into 'marquesgabi_paper_fev_2021'...\n",
            "remote: Enumerating objects: 101, done.\u001b[K\n",
            "remote: Counting objects: 100% (101/101), done.\u001b[K\n",
            "remote: Compressing objects: 100% (101/101), done.\u001b[K\n",
            "remote: Total 340 (delta 57), reused 0 (delta 0), pack-reused 239\u001b[K\n",
            "Receiving objects: 100% (340/340), 1.11 MiB | 9.30 MiB/s, done.\n",
            "Resolving deltas: 100% (194/194), done.\n",
            "/content/marquesgabi_fev_2020/marquesgabi_paper_fev_2021/Doutorado/marquesgabi_paper_fev_2021\n"
          ],
          "name": "stdout"
        }
      ]
    },
    {
      "cell_type": "code",
      "metadata": {
        "id": "qc4rFvzkyWCi"
      },
      "source": [
        "from big_segment import Segmenta  # got image provided segmented\n",
        "# from ANN_FIND_GRAIN_NOVO import AnnGrain  # got image provided segmented\n",
        "from psd_mahotas import Mahotas"
      ],
      "execution_count": 11,
      "outputs": []
    },
    {
      "cell_type": "code",
      "metadata": {
        "colab": {
          "base_uri": "https://localhost:8080/"
        },
        "id": "N-R1so5EcKXE",
        "outputId": "36e5ab9b-d5e3-4f79-cebb-0eac5e281378"
      },
      "source": [
        "!git clone https://github.com/ucfilho/marquesgabi_paper_fev_2021/ANN_Ajuste_mar_2021\n",
        "%cd ANN_Ajuste_mar_2021"
      ],
      "execution_count": 12,
      "outputs": [
        {
          "output_type": "stream",
          "text": [
            "fatal: destination path 'ANN_Ajuste_mar_2021' already exists and is not an empty directory.\n",
            "/content/marquesgabi_fev_2020/marquesgabi_paper_fev_2021/Doutorado/marquesgabi_paper_fev_2021/ANN_Ajuste_mar_2021\n"
          ],
          "name": "stdout"
        }
      ]
    },
    {
      "cell_type": "code",
      "metadata": {
        "id": "aPT8qYAVcdPP"
      },
      "source": [
        "from ANN_FIND_GRAIN_change_ann import AnnGrain  # got image provided segmented"
      ],
      "execution_count": 13,
      "outputs": []
    },
    {
      "cell_type": "code",
      "metadata": {
        "colab": {
          "base_uri": "https://localhost:8080/"
        },
        "id": "knhoH5ve0gyq",
        "outputId": "3d1976e9-378c-4f1f-8423-17bb62d10495"
      },
      "source": [
        "!ls"
      ],
      "execution_count": 14,
      "outputs": [
        {
          "output_type": "stream",
          "text": [
            "ANN_deploy_neural_network_mar_22_2021.ipynb\n",
            "ANN_FIND_GRAIN_change_ann.py\n",
            "ANN_load_neural_network_mar_23_2021.ipynb\n",
            "ANN_load_top_okay_neural_network_mar_23_2021.ipynb\n",
            "ANN_neural_network_load_mar_22_2021.ipynb\n",
            "big_segment_new.py\n",
            "knn_find_grain_change_classification.py\n",
            "PSD_find_neural_network_mar_18_2021.ipynb\n",
            "PSD_GRAIN_NOT_GRAIN_kNN_abril_07_2021.ipynb\n",
            "PSD_GRAIN_NOT_GRAIN_mar_18_2021.ipynb\n",
            "__pycache__\n"
          ],
          "name": "stdout"
        }
      ]
    },
    {
      "cell_type": "code",
      "metadata": {
        "id": "YPoCxCp4kuRm",
        "colab": {
          "base_uri": "https://localhost:8080/"
        },
        "outputId": "10a3380a-c69b-4da2-c389-a0eebc23f970"
      },
      "source": [
        "!git clone https://github.com/marquesgabi/Doutorado\n",
        "%cd Doutorado\n",
        "Transfere='FotosTreino882_and_Segm.zip'\n",
        "file_name = zipfile.ZipFile(Transfere, 'r')\n",
        "file_name.extractall()\n",
        "\n",
        "\"\"\"# First step: get the segmented file (photos stored in csv file)\"\"\"\n",
        "\n",
        "labels = [] #name files\n",
        "\n",
        "with zipfile.ZipFile(Transfere, \"r\") as f:\n",
        "  for f in f.namelist():\n",
        "    labels.append(f)\n",
        "\n",
        "Num=len(labels)\n",
        "ANN_dat=pd.read_csv(labels[0])\n",
        "for i in range(1,Num):\n",
        "  df_new=pd.read_csv(labels[i])\n",
        "  df_new = df_new[~df_new['Type'].isin(['G'])] # drop grain row which is not in 882\n",
        "  frames = [ANN_dat, df_new]\n",
        "  ANN_dat= pd.concat(frames, ignore_index=True)"
      ],
      "execution_count": 15,
      "outputs": [
        {
          "output_type": "stream",
          "text": [
            "Cloning into 'Doutorado'...\n",
            "remote: Enumerating objects: 58, done.\u001b[K\n",
            "remote: Counting objects: 100% (58/58), done.\u001b[K\n",
            "remote: Compressing objects: 100% (58/58), done.\u001b[K\n",
            "remote: Total 308 (delta 23), reused 0 (delta 0), pack-reused 250\u001b[K\n",
            "Receiving objects: 100% (308/308), 78.60 MiB | 38.23 MiB/s, done.\n",
            "Resolving deltas: 100% (146/146), done.\n",
            "/content/marquesgabi_fev_2020/marquesgabi_paper_fev_2021/Doutorado/marquesgabi_paper_fev_2021/ANN_Ajuste_mar_2021/Doutorado\n"
          ],
          "name": "stdout"
        }
      ]
    },
    {
      "cell_type": "code",
      "metadata": {
        "id": "mv01JmHfmz-1"
      },
      "source": [
        "# open file to get df \n",
        "# use df and ANN to get grains and no grains\n",
        "# use grains to obtain psd"
      ],
      "execution_count": 16,
      "outputs": []
    },
    {
      "cell_type": "code",
      "metadata": {
        "id": "h4ELNAEunkox",
        "colab": {
          "base_uri": "https://localhost:8080/"
        },
        "outputId": "67e122e6-1fe5-4568-982a-f2dcdfb1ec8b"
      },
      "source": [
        "!git clone https://github.com/marquesgabi/Doutorado\n",
        "%cd Doutorado"
      ],
      "execution_count": 17,
      "outputs": [
        {
          "output_type": "stream",
          "text": [
            "Cloning into 'Doutorado'...\n",
            "remote: Enumerating objects: 58, done.\u001b[K\n",
            "remote: Counting objects: 100% (58/58), done.\u001b[K\n",
            "remote: Compressing objects: 100% (58/58), done.\u001b[K\n",
            "remote: Total 308 (delta 23), reused 0 (delta 0), pack-reused 250\u001b[K\n",
            "Receiving objects: 100% (308/308), 78.60 MiB | 38.88 MiB/s, done.\n",
            "Resolving deltas: 100% (146/146), done.\n",
            "/content/marquesgabi_fev_2020/marquesgabi_paper_fev_2021/Doutorado/marquesgabi_paper_fev_2021/ANN_Ajuste_mar_2021/Doutorado/Doutorado\n"
          ],
          "name": "stdout"
        }
      ]
    },
    {
      "cell_type": "code",
      "metadata": {
        "id": "QmPJiuSnnxT9",
        "colab": {
          "base_uri": "https://localhost:8080/"
        },
        "outputId": "be3912a5-0eaa-4039-aac2-8dadb7fc2f3d"
      },
      "source": [
        "k=0\n",
        "for Item in img_name:\n",
        "  print(k,Item)\n",
        "  k=k+1\n",
        "\n",
        "img=ww[21]\n"
      ],
      "execution_count": 18,
      "outputs": [
        {
          "output_type": "stream",
          "text": [
            "0 Fotos_Grandes-3cdAmostra/Q6-8-4.jpg\n",
            "1 Fotos_Grandes-3cdAmostra/Q6-5-3.jpg\n",
            "2 Fotos_Grandes-3cdAmostra/Q6-7-4.jpg\n",
            "3 Fotos_Grandes-3cdAmostra/Q6-8-2.jpg\n",
            "4 Fotos_Grandes-3cdAmostra/Q6-3-2.jpg\n",
            "5 Fotos_Grandes-3cdAmostra/Q6-7-2.jpg\n",
            "6 Fotos_Grandes-3cdAmostra/Q6-4-4.jpg\n",
            "7 Fotos_Grandes-3cdAmostra/Q6-9-5.jpg\n",
            "8 Fotos_Grandes-3cdAmostra/Q6-2-5.jpg\n",
            "9 Fotos_Grandes-3cdAmostra/Q6-8-3.jpg\n",
            "10 Fotos_Grandes-3cdAmostra/Q6-9-3.jpg\n",
            "11 Fotos_Grandes-3cdAmostra/Q6-1-2.jpg\n",
            "12 Fotos_Grandes-3cdAmostra/Q6-6-3.jpg\n",
            "13 Fotos_Grandes-3cdAmostra/Q6-3-4.jpg\n",
            "14 Fotos_Grandes-3cdAmostra/Q6-1-4.jpg\n",
            "15 Fotos_Grandes-3cdAmostra/Q6-6-2.jpg\n",
            "16 Fotos_Grandes-3cdAmostra/Q6-4-3.jpg\n",
            "17 Fotos_Grandes-3cdAmostra/Q6-7-3.jpg\n",
            "18 Fotos_Grandes-3cdAmostra/Q6-2-2.jpg\n",
            "19 Fotos_Grandes-3cdAmostra/Q6-9-2.jpg\n",
            "20 Fotos_Grandes-3cdAmostra/Q6-1-5.jpg\n",
            "21 Fotos_Grandes-3cdAmostra/Q6-6-5.jpg\n",
            "22 Fotos_Grandes-3cdAmostra/Q6-2-1.jpg\n",
            "23 Fotos_Grandes-3cdAmostra/Q6-5-2.jpg\n",
            "24 Fotos_Grandes-3cdAmostra/Q6-4-1.jpg\n",
            "25 Fotos_Grandes-3cdAmostra/Q6-3-1.jpg\n",
            "26 Fotos_Grandes-3cdAmostra/Q6-5-4.jpg\n"
          ],
          "name": "stdout"
        }
      ]
    },
    {
      "cell_type": "code",
      "metadata": {
        "id": "Fg08LdDEsYLd"
      },
      "source": [
        "df=Segmenta(img)"
      ],
      "execution_count": 19,
      "outputs": []
    },
    {
      "cell_type": "code",
      "metadata": {
        "id": "3O2xFH1Ishc2",
        "colab": {
          "base_uri": "https://localhost:8080/"
        },
        "outputId": "c074aa04-d55d-48ee-8e11-a084c9d8e02b"
      },
      "source": [
        "y_pred,confusion_matrix,METRICS=AnnGrain(ANN_dat,df.drop('Width',axis=1)) "
      ],
      "execution_count": 20,
      "outputs": [
        {
          "output_type": "stream",
          "text": [
            "Predicted   0   1\n",
            "Actual           \n",
            "0          72   0\n",
            "1           0  75\n"
          ],
          "name": "stdout"
        },
        {
          "output_type": "stream",
          "text": [
            "/usr/local/lib/python3.7/dist-packages/sklearn/neural_network/_multilayer_perceptron.py:571: ConvergenceWarning: Stochastic Optimizer: Maximum iterations (300) reached and the optimization hasn't converged yet.\n",
            "  % self.max_iter, ConvergenceWarning)\n"
          ],
          "name": "stderr"
        }
      ]
    },
    {
      "cell_type": "code",
      "metadata": {
        "colab": {
          "base_uri": "https://localhost:8080/"
        },
        "id": "jagtxjcNniO7",
        "outputId": "be2824c2-4479-4cfa-d49c-f306dbc74540"
      },
      "source": [
        "print(METRICS)\n",
        "# grain class is number zero"
      ],
      "execution_count": 21,
      "outputs": [
        {
          "output_type": "stream",
          "text": [
            "              precision    recall  f1-score   support\n",
            "\n",
            "           0       1.00      1.00      1.00        72\n",
            "           1       1.00      1.00      1.00        75\n",
            "\n",
            "    accuracy                           1.00       147\n",
            "   macro avg       1.00      1.00      1.00       147\n",
            "weighted avg       1.00      1.00      1.00       147\n",
            "\n"
          ],
          "name": "stdout"
        }
      ]
    },
    {
      "cell_type": "code",
      "metadata": {
        "id": "6S5a4-cashbB"
      },
      "source": [
        "# print(y_pred.ravel())"
      ],
      "execution_count": 22,
      "outputs": []
    },
    {
      "cell_type": "code",
      "metadata": {
        "id": "iA2XIpGOyipM"
      },
      "source": [
        "Grain=[]; Ind=[]; Size=[]\n",
        "k=0\n",
        "for item in y_pred:\n",
        "  if(item == 1):\n",
        "    Ind.append(k)\n",
        "  k=k+1\n",
        "\n",
        "df = df.reset_index(drop=True)\n",
        "\n",
        "df_size = df.drop(df.index[Ind])\n",
        "\n",
        "Width=np.array(df_size['Width'])\n",
        "\n",
        "# print(Width)\n",
        "\n",
        "# print(df_size.shape)"
      ],
      "execution_count": 23,
      "outputs": []
    },
    {
      "cell_type": "code",
      "metadata": {
        "id": "06lkGMZo9uKV"
      },
      "source": [
        "# pd.set_option('display.max_rows', None)\n",
        "# print(df_size)"
      ],
      "execution_count": 24,
      "outputs": []
    },
    {
      "cell_type": "code",
      "metadata": {
        "id": "EIqWqspygJtw",
        "colab": {
          "base_uri": "https://localhost:8080/",
          "height": 251
        },
        "outputId": "744e792c-9e39-4f3f-f0e6-df014dba8b4d"
      },
      "source": [
        "df.head()"
      ],
      "execution_count": 25,
      "outputs": [
        {
          "output_type": "execute_result",
          "data": {
            "text/html": [
              "<div>\n",
              "<style scoped>\n",
              "    .dataframe tbody tr th:only-of-type {\n",
              "        vertical-align: middle;\n",
              "    }\n",
              "\n",
              "    .dataframe tbody tr th {\n",
              "        vertical-align: top;\n",
              "    }\n",
              "\n",
              "    .dataframe thead th {\n",
              "        text-align: right;\n",
              "    }\n",
              "</style>\n",
              "<table border=\"1\" class=\"dataframe\">\n",
              "  <thead>\n",
              "    <tr style=\"text-align: right;\">\n",
              "      <th></th>\n",
              "      <th>Width</th>\n",
              "      <th>0</th>\n",
              "      <th>1</th>\n",
              "      <th>2</th>\n",
              "      <th>3</th>\n",
              "      <th>4</th>\n",
              "      <th>5</th>\n",
              "      <th>6</th>\n",
              "      <th>7</th>\n",
              "      <th>8</th>\n",
              "      <th>9</th>\n",
              "      <th>10</th>\n",
              "      <th>11</th>\n",
              "      <th>12</th>\n",
              "      <th>13</th>\n",
              "      <th>14</th>\n",
              "      <th>15</th>\n",
              "      <th>16</th>\n",
              "      <th>17</th>\n",
              "      <th>18</th>\n",
              "      <th>19</th>\n",
              "      <th>20</th>\n",
              "      <th>21</th>\n",
              "      <th>22</th>\n",
              "      <th>23</th>\n",
              "      <th>24</th>\n",
              "      <th>25</th>\n",
              "      <th>26</th>\n",
              "      <th>27</th>\n",
              "      <th>28</th>\n",
              "      <th>29</th>\n",
              "      <th>30</th>\n",
              "      <th>31</th>\n",
              "      <th>32</th>\n",
              "      <th>33</th>\n",
              "      <th>34</th>\n",
              "      <th>35</th>\n",
              "      <th>36</th>\n",
              "      <th>37</th>\n",
              "      <th>38</th>\n",
              "      <th>...</th>\n",
              "      <th>744</th>\n",
              "      <th>745</th>\n",
              "      <th>746</th>\n",
              "      <th>747</th>\n",
              "      <th>748</th>\n",
              "      <th>749</th>\n",
              "      <th>750</th>\n",
              "      <th>751</th>\n",
              "      <th>752</th>\n",
              "      <th>753</th>\n",
              "      <th>754</th>\n",
              "      <th>755</th>\n",
              "      <th>756</th>\n",
              "      <th>757</th>\n",
              "      <th>758</th>\n",
              "      <th>759</th>\n",
              "      <th>760</th>\n",
              "      <th>761</th>\n",
              "      <th>762</th>\n",
              "      <th>763</th>\n",
              "      <th>764</th>\n",
              "      <th>765</th>\n",
              "      <th>766</th>\n",
              "      <th>767</th>\n",
              "      <th>768</th>\n",
              "      <th>769</th>\n",
              "      <th>770</th>\n",
              "      <th>771</th>\n",
              "      <th>772</th>\n",
              "      <th>773</th>\n",
              "      <th>774</th>\n",
              "      <th>775</th>\n",
              "      <th>776</th>\n",
              "      <th>777</th>\n",
              "      <th>778</th>\n",
              "      <th>779</th>\n",
              "      <th>780</th>\n",
              "      <th>781</th>\n",
              "      <th>782</th>\n",
              "      <th>783</th>\n",
              "    </tr>\n",
              "  </thead>\n",
              "  <tbody>\n",
              "    <tr>\n",
              "      <th>0</th>\n",
              "      <td>153</td>\n",
              "      <td>49.137897</td>\n",
              "      <td>57.055367</td>\n",
              "      <td>60.793457</td>\n",
              "      <td>69.099243</td>\n",
              "      <td>81.562263</td>\n",
              "      <td>35.413174</td>\n",
              "      <td>46.590797</td>\n",
              "      <td>55.873981</td>\n",
              "      <td>58.178139</td>\n",
              "      <td>53.562733</td>\n",
              "      <td>71.069847</td>\n",
              "      <td>75.639626</td>\n",
              "      <td>68.557648</td>\n",
              "      <td>65.720284</td>\n",
              "      <td>66.272339</td>\n",
              "      <td>67.335602</td>\n",
              "      <td>66.515488</td>\n",
              "      <td>71.575760</td>\n",
              "      <td>76.027000</td>\n",
              "      <td>82.276306</td>\n",
              "      <td>90.343712</td>\n",
              "      <td>92.528168</td>\n",
              "      <td>85.156013</td>\n",
              "      <td>77.374992</td>\n",
              "      <td>77.651848</td>\n",
              "      <td>61.327015</td>\n",
              "      <td>41.663166</td>\n",
              "      <td>27.451281</td>\n",
              "      <td>51.589088</td>\n",
              "      <td>62.236279</td>\n",
              "      <td>62.270153</td>\n",
              "      <td>81.385277</td>\n",
              "      <td>67.797394</td>\n",
              "      <td>16.972149</td>\n",
              "      <td>9.332138</td>\n",
              "      <td>17.800421</td>\n",
              "      <td>20.818317</td>\n",
              "      <td>44.071510</td>\n",
              "      <td>79.459618</td>\n",
              "      <td>...</td>\n",
              "      <td>1.821180</td>\n",
              "      <td>1.996668</td>\n",
              "      <td>2.014738</td>\n",
              "      <td>2.141100</td>\n",
              "      <td>2.281046</td>\n",
              "      <td>2.320774</td>\n",
              "      <td>2.331027</td>\n",
              "      <td>2.386304</td>\n",
              "      <td>2.343244</td>\n",
              "      <td>2.234397</td>\n",
              "      <td>2.526251</td>\n",
              "      <td>2.464052</td>\n",
              "      <td>2.714084</td>\n",
              "      <td>2.915033</td>\n",
              "      <td>2.915033</td>\n",
              "      <td>2.915033</td>\n",
              "      <td>2.915033</td>\n",
              "      <td>2.915033</td>\n",
              "      <td>2.906660</td>\n",
              "      <td>2.732026</td>\n",
              "      <td>2.692554</td>\n",
              "      <td>2.549020</td>\n",
              "      <td>2.541117</td>\n",
              "      <td>2.712931</td>\n",
              "      <td>2.692597</td>\n",
              "      <td>2.721304</td>\n",
              "      <td>2.783502</td>\n",
              "      <td>2.816993</td>\n",
              "      <td>2.904780</td>\n",
              "      <td>2.915033</td>\n",
              "      <td>2.927805</td>\n",
              "      <td>3.000000</td>\n",
              "      <td>2.882780</td>\n",
              "      <td>2.668418</td>\n",
              "      <td>2.767013</td>\n",
              "      <td>2.946175</td>\n",
              "      <td>3.043061</td>\n",
              "      <td>2.953351</td>\n",
              "      <td>3.000000</td>\n",
              "      <td>3.000000</td>\n",
              "    </tr>\n",
              "    <tr>\n",
              "      <th>1</th>\n",
              "      <td>158</td>\n",
              "      <td>67.677612</td>\n",
              "      <td>67.630829</td>\n",
              "      <td>70.665604</td>\n",
              "      <td>68.699249</td>\n",
              "      <td>72.931732</td>\n",
              "      <td>75.403145</td>\n",
              "      <td>81.679375</td>\n",
              "      <td>85.278473</td>\n",
              "      <td>87.190353</td>\n",
              "      <td>89.126266</td>\n",
              "      <td>74.779205</td>\n",
              "      <td>61.984776</td>\n",
              "      <td>60.995037</td>\n",
              "      <td>54.730335</td>\n",
              "      <td>51.999840</td>\n",
              "      <td>58.790737</td>\n",
              "      <td>66.739784</td>\n",
              "      <td>72.727600</td>\n",
              "      <td>82.028679</td>\n",
              "      <td>92.092453</td>\n",
              "      <td>100.143074</td>\n",
              "      <td>107.376534</td>\n",
              "      <td>114.397369</td>\n",
              "      <td>118.650864</td>\n",
              "      <td>117.933510</td>\n",
              "      <td>112.562561</td>\n",
              "      <td>114.505997</td>\n",
              "      <td>108.345772</td>\n",
              "      <td>70.070496</td>\n",
              "      <td>70.110237</td>\n",
              "      <td>70.417564</td>\n",
              "      <td>71.571861</td>\n",
              "      <td>74.132195</td>\n",
              "      <td>74.916679</td>\n",
              "      <td>78.993584</td>\n",
              "      <td>84.846176</td>\n",
              "      <td>90.671524</td>\n",
              "      <td>92.585640</td>\n",
              "      <td>81.924850</td>\n",
              "      <td>...</td>\n",
              "      <td>2.594937</td>\n",
              "      <td>2.545586</td>\n",
              "      <td>2.568018</td>\n",
              "      <td>2.675693</td>\n",
              "      <td>2.846179</td>\n",
              "      <td>3.000000</td>\n",
              "      <td>2.849704</td>\n",
              "      <td>2.993270</td>\n",
              "      <td>3.000000</td>\n",
              "      <td>2.984618</td>\n",
              "      <td>2.794103</td>\n",
              "      <td>2.660471</td>\n",
              "      <td>3.116648</td>\n",
              "      <td>3.444160</td>\n",
              "      <td>3.495754</td>\n",
              "      <td>3.493831</td>\n",
              "      <td>3.645570</td>\n",
              "      <td>3.392725</td>\n",
              "      <td>3.408268</td>\n",
              "      <td>3.412754</td>\n",
              "      <td>3.302836</td>\n",
              "      <td>3.235539</td>\n",
              "      <td>3.435186</td>\n",
              "      <td>3.340971</td>\n",
              "      <td>3.000000</td>\n",
              "      <td>3.314052</td>\n",
              "      <td>3.448646</td>\n",
              "      <td>3.367890</td>\n",
              "      <td>3.000000</td>\n",
              "      <td>3.049351</td>\n",
              "      <td>3.107675</td>\n",
              "      <td>3.031405</td>\n",
              "      <td>3.219836</td>\n",
              "      <td>3.287133</td>\n",
              "      <td>3.352187</td>\n",
              "      <td>3.352187</td>\n",
              "      <td>3.141323</td>\n",
              "      <td>3.266944</td>\n",
              "      <td>3.155264</td>\n",
              "      <td>3.427976</td>\n",
              "    </tr>\n",
              "    <tr>\n",
              "      <th>2</th>\n",
              "      <td>124</td>\n",
              "      <td>97.776268</td>\n",
              "      <td>96.070747</td>\n",
              "      <td>92.506760</td>\n",
              "      <td>89.646194</td>\n",
              "      <td>89.277832</td>\n",
              "      <td>87.391258</td>\n",
              "      <td>87.754417</td>\n",
              "      <td>89.918823</td>\n",
              "      <td>91.116539</td>\n",
              "      <td>92.037460</td>\n",
              "      <td>90.700310</td>\n",
              "      <td>87.370438</td>\n",
              "      <td>87.573349</td>\n",
              "      <td>86.395409</td>\n",
              "      <td>86.572311</td>\n",
              "      <td>91.167534</td>\n",
              "      <td>101.694069</td>\n",
              "      <td>109.705505</td>\n",
              "      <td>112.762733</td>\n",
              "      <td>113.735687</td>\n",
              "      <td>114.044739</td>\n",
              "      <td>124.214355</td>\n",
              "      <td>137.284073</td>\n",
              "      <td>156.483871</td>\n",
              "      <td>170.796051</td>\n",
              "      <td>203.886581</td>\n",
              "      <td>231.170624</td>\n",
              "      <td>239.704453</td>\n",
              "      <td>100.785637</td>\n",
              "      <td>100.327774</td>\n",
              "      <td>97.285118</td>\n",
              "      <td>91.380844</td>\n",
              "      <td>87.778351</td>\n",
              "      <td>86.379807</td>\n",
              "      <td>86.232048</td>\n",
              "      <td>86.683655</td>\n",
              "      <td>88.663879</td>\n",
              "      <td>91.268463</td>\n",
              "      <td>90.118622</td>\n",
              "      <td>...</td>\n",
              "      <td>2.568158</td>\n",
              "      <td>2.552549</td>\n",
              "      <td>2.475546</td>\n",
              "      <td>2.831425</td>\n",
              "      <td>2.580645</td>\n",
              "      <td>2.409989</td>\n",
              "      <td>2.831425</td>\n",
              "      <td>2.806451</td>\n",
              "      <td>2.777315</td>\n",
              "      <td>2.777315</td>\n",
              "      <td>2.777315</td>\n",
              "      <td>2.930281</td>\n",
              "      <td>2.830385</td>\n",
              "      <td>2.677419</td>\n",
              "      <td>2.633715</td>\n",
              "      <td>2.438085</td>\n",
              "      <td>2.999999</td>\n",
              "      <td>2.470343</td>\n",
              "      <td>2.837668</td>\n",
              "      <td>2.881373</td>\n",
              "      <td>2.761706</td>\n",
              "      <td>2.839750</td>\n",
              "      <td>3.000000</td>\n",
              "      <td>2.999999</td>\n",
              "      <td>3.000000</td>\n",
              "      <td>2.999999</td>\n",
              "      <td>3.000000</td>\n",
              "      <td>2.791883</td>\n",
              "      <td>2.677419</td>\n",
              "      <td>2.714880</td>\n",
              "      <td>2.748178</td>\n",
              "      <td>3.127992</td>\n",
              "      <td>2.999999</td>\n",
              "      <td>3.000000</td>\n",
              "      <td>3.000000</td>\n",
              "      <td>3.000000</td>\n",
              "      <td>3.116545</td>\n",
              "      <td>3.094693</td>\n",
              "      <td>2.883454</td>\n",
              "      <td>3.116545</td>\n",
              "    </tr>\n",
              "    <tr>\n",
              "      <th>3</th>\n",
              "      <td>174</td>\n",
              "      <td>134.938721</td>\n",
              "      <td>24.595984</td>\n",
              "      <td>49.242836</td>\n",
              "      <td>52.060646</td>\n",
              "      <td>58.559650</td>\n",
              "      <td>67.335182</td>\n",
              "      <td>68.912544</td>\n",
              "      <td>68.593079</td>\n",
              "      <td>71.414337</td>\n",
              "      <td>69.196861</td>\n",
              "      <td>71.895760</td>\n",
              "      <td>73.424110</td>\n",
              "      <td>95.602463</td>\n",
              "      <td>95.965004</td>\n",
              "      <td>99.223160</td>\n",
              "      <td>98.503113</td>\n",
              "      <td>90.752548</td>\n",
              "      <td>83.823502</td>\n",
              "      <td>78.850853</td>\n",
              "      <td>74.177834</td>\n",
              "      <td>74.067520</td>\n",
              "      <td>77.518700</td>\n",
              "      <td>84.526489</td>\n",
              "      <td>85.115211</td>\n",
              "      <td>47.718853</td>\n",
              "      <td>39.897480</td>\n",
              "      <td>41.074387</td>\n",
              "      <td>52.676712</td>\n",
              "      <td>138.135162</td>\n",
              "      <td>75.041504</td>\n",
              "      <td>53.126308</td>\n",
              "      <td>57.087200</td>\n",
              "      <td>57.078346</td>\n",
              "      <td>66.215363</td>\n",
              "      <td>71.557541</td>\n",
              "      <td>72.258568</td>\n",
              "      <td>77.918488</td>\n",
              "      <td>73.271111</td>\n",
              "      <td>73.924568</td>\n",
              "      <td>...</td>\n",
              "      <td>95.713043</td>\n",
              "      <td>95.393318</td>\n",
              "      <td>92.235832</td>\n",
              "      <td>97.344841</td>\n",
              "      <td>103.153931</td>\n",
              "      <td>97.416832</td>\n",
              "      <td>56.704453</td>\n",
              "      <td>46.854279</td>\n",
              "      <td>50.114288</td>\n",
              "      <td>52.488441</td>\n",
              "      <td>56.339016</td>\n",
              "      <td>58.253403</td>\n",
              "      <td>78.273621</td>\n",
              "      <td>78.850182</td>\n",
              "      <td>98.592422</td>\n",
              "      <td>101.474968</td>\n",
              "      <td>89.459908</td>\n",
              "      <td>95.469688</td>\n",
              "      <td>97.531647</td>\n",
              "      <td>98.908318</td>\n",
              "      <td>93.998413</td>\n",
              "      <td>89.401245</td>\n",
              "      <td>86.672485</td>\n",
              "      <td>86.008194</td>\n",
              "      <td>87.608536</td>\n",
              "      <td>89.945175</td>\n",
              "      <td>92.350647</td>\n",
              "      <td>95.637215</td>\n",
              "      <td>101.010452</td>\n",
              "      <td>100.458710</td>\n",
              "      <td>98.151283</td>\n",
              "      <td>100.379059</td>\n",
              "      <td>103.021545</td>\n",
              "      <td>98.184441</td>\n",
              "      <td>56.065533</td>\n",
              "      <td>49.700626</td>\n",
              "      <td>49.609863</td>\n",
              "      <td>49.777649</td>\n",
              "      <td>53.017311</td>\n",
              "      <td>55.842781</td>\n",
              "    </tr>\n",
              "    <tr>\n",
              "      <th>4</th>\n",
              "      <td>139</td>\n",
              "      <td>83.265045</td>\n",
              "      <td>83.036064</td>\n",
              "      <td>78.858650</td>\n",
              "      <td>80.709900</td>\n",
              "      <td>83.966202</td>\n",
              "      <td>91.265305</td>\n",
              "      <td>106.365189</td>\n",
              "      <td>117.549088</td>\n",
              "      <td>125.253967</td>\n",
              "      <td>133.027573</td>\n",
              "      <td>136.952850</td>\n",
              "      <td>146.164276</td>\n",
              "      <td>149.182693</td>\n",
              "      <td>135.524307</td>\n",
              "      <td>117.129639</td>\n",
              "      <td>102.377411</td>\n",
              "      <td>101.931213</td>\n",
              "      <td>129.981308</td>\n",
              "      <td>152.119247</td>\n",
              "      <td>122.085503</td>\n",
              "      <td>100.737228</td>\n",
              "      <td>99.316284</td>\n",
              "      <td>108.116295</td>\n",
              "      <td>120.188950</td>\n",
              "      <td>115.778221</td>\n",
              "      <td>96.446808</td>\n",
              "      <td>66.463898</td>\n",
              "      <td>59.176796</td>\n",
              "      <td>73.223740</td>\n",
              "      <td>77.755386</td>\n",
              "      <td>82.342926</td>\n",
              "      <td>83.976601</td>\n",
              "      <td>81.975716</td>\n",
              "      <td>79.956474</td>\n",
              "      <td>82.220474</td>\n",
              "      <td>82.775322</td>\n",
              "      <td>90.280312</td>\n",
              "      <td>105.835716</td>\n",
              "      <td>119.976501</td>\n",
              "      <td>...</td>\n",
              "      <td>179.938568</td>\n",
              "      <td>149.604919</td>\n",
              "      <td>69.716667</td>\n",
              "      <td>92.654305</td>\n",
              "      <td>93.965622</td>\n",
              "      <td>94.708336</td>\n",
              "      <td>100.200768</td>\n",
              "      <td>100.963654</td>\n",
              "      <td>98.925003</td>\n",
              "      <td>100.343666</td>\n",
              "      <td>103.934212</td>\n",
              "      <td>108.978256</td>\n",
              "      <td>153.544632</td>\n",
              "      <td>151.610382</td>\n",
              "      <td>128.581390</td>\n",
              "      <td>129.533401</td>\n",
              "      <td>132.613159</td>\n",
              "      <td>133.896637</td>\n",
              "      <td>135.457367</td>\n",
              "      <td>137.337189</td>\n",
              "      <td>135.755142</td>\n",
              "      <td>136.056366</td>\n",
              "      <td>164.942444</td>\n",
              "      <td>165.286926</td>\n",
              "      <td>153.931213</td>\n",
              "      <td>158.897827</td>\n",
              "      <td>157.819366</td>\n",
              "      <td>160.827576</td>\n",
              "      <td>160.232437</td>\n",
              "      <td>114.428177</td>\n",
              "      <td>84.135498</td>\n",
              "      <td>90.946632</td>\n",
              "      <td>93.772881</td>\n",
              "      <td>94.192841</td>\n",
              "      <td>95.912476</td>\n",
              "      <td>98.590385</td>\n",
              "      <td>102.179382</td>\n",
              "      <td>106.957085</td>\n",
              "      <td>105.991348</td>\n",
              "      <td>111.051750</td>\n",
              "    </tr>\n",
              "  </tbody>\n",
              "</table>\n",
              "<p>5 rows × 785 columns</p>\n",
              "</div>"
            ],
            "text/plain": [
              "   Width           0          1  ...         781         782         783\n",
              "0    153   49.137897  57.055367  ...    2.953351    3.000000    3.000000\n",
              "1    158   67.677612  67.630829  ...    3.266944    3.155264    3.427976\n",
              "2    124   97.776268  96.070747  ...    3.094693    2.883454    3.116545\n",
              "3    174  134.938721  24.595984  ...   49.777649   53.017311   55.842781\n",
              "4    139   83.265045  83.036064  ...  106.957085  105.991348  111.051750\n",
              "\n",
              "[5 rows x 785 columns]"
            ]
          },
          "metadata": {
            "tags": []
          },
          "execution_count": 25
        }
      ]
    },
    {
      "cell_type": "code",
      "metadata": {
        "id": "ciUjF5tmdqLC",
        "colab": {
          "base_uri": "https://localhost:8080/",
          "height": 283
        },
        "outputId": "70ef7bcd-dac7-4d8f-95b7-b0b09bf38e13"
      },
      "source": [
        "Size=28\n",
        "qual_img=9\n",
        "L = Width[qual_img]\n",
        "data=np.array(df_size.drop('Width',axis=1).iloc[qual_img]).reshape(Size,Size)\n",
        "img = Image.fromarray(data.astype('uint8'), mode='L')\n",
        "img=np.float32(img)\n",
        "img28=cv2.resize(img,(Size,Size), interpolation = cv2.INTER_AREA)\n",
        "Foto=np.array(img28).reshape(28,28)\n",
        "plt.imshow(Foto, cmap = \"gray\")"
      ],
      "execution_count": 53,
      "outputs": [
        {
          "output_type": "execute_result",
          "data": {
            "text/plain": [
              "<matplotlib.image.AxesImage at 0x7f454480ffd0>"
            ]
          },
          "metadata": {
            "tags": []
          },
          "execution_count": 53
        },
        {
          "output_type": "display_data",
          "data": {
            "image/png": "[encoded data removed]",
            "text/plain": [
              "<Figure size 432x288 with 1 Axes>"
            ]
          },
          "metadata": {
            "tags": [],
            "needs_background": "light"
          }
        }
      ]
    },
    {
      "cell_type": "code",
      "metadata": {
        "id": "V-MTA4fXg2W0"
      },
      "source": [
        "mean_value = np.mean(img)\n",
        "img_new = img.copy()"
      ],
      "execution_count": 27,
      "outputs": []
    },
    {
      "cell_type": "code",
      "metadata": {
        "id": "JbcfWPMdewq3",
        "colab": {
          "base_uri": "https://localhost:8080/",
          "height": 283
        },
        "outputId": "b2126f0c-a01d-4430-c4d9-4231c380336b"
      },
      "source": [
        "'''\n",
        "for i in range(28):\n",
        "  for j in range(28):\n",
        "    if img[i,j] < mean_value:\n",
        "      img_new[i,j] = 255\n",
        "    else:\n",
        "      img_new[i,j] = 0\n",
        "'''\n",
        "img28=cv2.resize(img_new,(Size,Size), interpolation = cv2.INTER_AREA)\n",
        "Foto=np.array(img28).reshape(28,28)\n",
        "plt.imshow(Foto, cmap = \"gray\")\n"
      ],
      "execution_count": 28,
      "outputs": [
        {
          "output_type": "execute_result",
          "data": {
            "text/plain": [
              "<matplotlib.image.AxesImage at 0x7f454e74c6d0>"
            ]
          },
          "metadata": {
            "tags": []
          },
          "execution_count": 28
        },
        {
          "output_type": "display_data",
          "data": {
            "image/png": "[encoded data removed]",
            "text/plain": [
              "<Figure size 432x288 with 1 Axes>"
            ]
          },
          "metadata": {
            "tags": [],
            "needs_background": "light"
          }
        }
      ]
    },
    {
      "cell_type": "code",
      "metadata": {
        "id": "spRNBSwifDqQ",
        "colab": {
          "base_uri": "https://localhost:8080/"
        },
        "outputId": "f37f67f6-25ce-481e-a8ed-fc41b036882c"
      },
      "source": [
        "L = Width[qual_img]\n",
        "Area = np.sum(img_new) / (255.0 * 28 * 28)* L*L\n",
        "print(Area)"
      ],
      "execution_count": 29,
      "outputs": [
        {
          "output_type": "stream",
          "text": [
            "7959.509163665466\n"
          ],
          "name": "stdout"
        }
      ]
    },
    {
      "cell_type": "code",
      "metadata": {
        "id": "6GP_DXsWibOX"
      },
      "source": [
        "Area_All, Diameter_All=PSDArea(df_size) \n"
      ],
      "execution_count": 30,
      "outputs": []
    },
    {
      "cell_type": "code",
      "metadata": {
        "id": "3ydbrnjewBYL",
        "colab": {
          "base_uri": "https://localhost:8080/"
        },
        "outputId": "818637e8-afb8-4bf9-960b-27a730573081"
      },
      "source": [
        "df_size.shape"
      ],
      "execution_count": 31,
      "outputs": [
        {
          "output_type": "execute_result",
          "data": {
            "text/plain": [
              "(75, 785)"
            ]
          },
          "metadata": {
            "tags": []
          },
          "execution_count": 31
        }
      ]
    },
    {
      "cell_type": "code",
      "metadata": {
        "id": "3L3IfgxMs3dI",
        "colab": {
          "base_uri": "https://localhost:8080/"
        },
        "outputId": "f8fe9369-506f-4e95-fa1e-7ed465004d69"
      },
      "source": [
        "# print(Area_All)\n",
        "print(Diameter_All)"
      ],
      "execution_count": 32,
      "outputs": [
        {
          "output_type": "stream",
          "text": [
            "[1.366261549715103, 1.5768069902417352, 1.4752581475564666, 1.0948869289367549, 0.8122701110057926, 1.0087276135338752, 1.103900771653503, 1.1487530719471553, 1.053235317888192, 0.8427135586621359, 1.5137231742460562, 1.802633605667018, 1.2060670373609623, 1.362565174117361, 1.7672022333732185, 1.408313488869508, 1.6311235247354994, 1.575003449094711, 1.3776247787400184, 1.5871191766319839, 1.3509611393876975, 1.46678753166474, 1.2449216982139166, 1.3668471984366675, 0.9322662561689766, 0.872768867755353, 1.289701793373818, 0.9696953165206389, 1.1951034291715024, 0.8524335837035956, 0.9411079069535098, 1.283501346652191, 1.5607932966496725, 1.6687356646911529, 1.3730425537155335, 1.2645873654262298, 1.139058137001797, 1.4422050278741445, 0.9338234616131159, 1.5950173276571817, 1.5192233449683203, 1.495928270808543, 0.8786760717595897, 1.2585399191444375, 1.3925201304736234, 1.7264248413399403, 1.642815584514893, 1.6914188971073871, 0.9799510094095192, 1.348472677814382, 0.8779067409312391, 1.2944869828612273, 0.8421057426512121, 1.5099224954462946, 0.9838463131964658, 1.077459466495405, 1.2558959403346828, 1.2440531318387402, 1.2294985987932574, 1.4911909057016044, 1.1163840416212836, 1.4919563216314315, 1.2238776720677136, 1.269101181473077, 1.216673667169231, 1.5569745736418361, 1.475986047023996, 1.6061429983075324, 1.4189734599020345, 1.5629169588715195, 1.7682976077649468, 1.6931436322302864, 0.961983539204892, 1.2113442654128077, 1.7097042026045697]\n"
          ],
          "name": "stdout"
        }
      ]
    },
    {
      "cell_type": "code",
      "metadata": {
        "id": "oeLlypq5gbFa"
      },
      "source": [
        ""
      ],
      "execution_count": 32,
      "outputs": []
    },
    {
      "cell_type": "code",
      "metadata": {
        "id": "YJFWGVQJLwRo",
        "colab": {
          "base_uri": "https://localhost:8080/"
        },
        "outputId": "1abfa352-e47e-4e60-b0be-6f510d53083e"
      },
      "source": [
        "diam = Diameter_All.copy()\n",
        "PSD_value, Perc_value = PSD(diam)\n",
        "print(Perc_value)"
      ],
      "execution_count": 33,
      "outputs": [
        {
          "output_type": "stream",
          "text": [
            "[ 0.          0.          0.          0.          0.          0.\n",
            "  0.          4.         14.66666667 10.66666667 70.66666667]\n"
          ],
          "name": "stdout"
        }
      ]
    },
    {
      "cell_type": "code",
      "metadata": {
        "id": "Zvked-F_kPwi",
        "colab": {
          "base_uri": "https://localhost:8080/"
        },
        "outputId": "75f155eb-650b-4afc-ec19-0529a0728048"
      },
      "source": [
        "!git clone https://github.com/ucfilho/marquesgabi_out_2020\n",
        "%cd marquesgabi_out_2020\n",
        "PSD_imageJ = 'Areas_ImageJ.csv'\n",
        "PSD_new = pd.read_csv(PSD_imageJ)\n",
        "print(PSD_new.head(3))"
      ],
      "execution_count": 34,
      "outputs": [
        {
          "output_type": "stream",
          "text": [
            "Cloning into 'marquesgabi_out_2020'...\n",
            "remote: Enumerating objects: 146, done.\u001b[K\n",
            "remote: Counting objects: 100% (146/146), done.\u001b[K\n",
            "remote: Compressing objects: 100% (142/142), done.\u001b[K\n",
            "remote: Total 146 (delta 75), reused 0 (delta 0), pack-reused 0\u001b[K\n",
            "Receiving objects: 100% (146/146), 1.00 MiB | 9.60 MiB/s, done.\n",
            "Resolving deltas: 100% (75/75), done.\n",
            "/content/marquesgabi_fev_2020/marquesgabi_paper_fev_2021/Doutorado/marquesgabi_paper_fev_2021/ANN_Ajuste_mar_2021/Doutorado/Doutorado/marquesgabi_out_2020\n",
            "   Juntas   Area\n",
            "0       1  2.001\n",
            "1       2  0.820\n",
            "2       3  1.270\n"
          ],
          "name": "stdout"
        }
      ]
    },
    {
      "cell_type": "code",
      "metadata": {
        "id": "004Ki_RdzWqi"
      },
      "source": [
        "Area = np.array(PSD_new['Area'])\n",
        "diam_teste = []\n",
        "for A in Area:\n",
        "  diam_teste.append((4*A/np.pi)**0.5) \n",
        "\n",
        "Diam1 = [ (4*A/np.pi)**0.5 for A in Area]"
      ],
      "execution_count": 35,
      "outputs": []
    },
    {
      "cell_type": "code",
      "metadata": {
        "colab": {
          "base_uri": "https://localhost:8080/",
          "height": 415
        },
        "id": "0dIK1uV4DqR-",
        "outputId": "2b7302c3-b094-4c8e-d946-1edfe22de96f"
      },
      "source": [
        "PSD_new"
      ],
      "execution_count": 36,
      "outputs": [
        {
          "output_type": "execute_result",
          "data": {
            "text/html": [
              "<div>\n",
              "<style scoped>\n",
              "    .dataframe tbody tr th:only-of-type {\n",
              "        vertical-align: middle;\n",
              "    }\n",
              "\n",
              "    .dataframe tbody tr th {\n",
              "        vertical-align: top;\n",
              "    }\n",
              "\n",
              "    .dataframe thead th {\n",
              "        text-align: right;\n",
              "    }\n",
              "</style>\n",
              "<table border=\"1\" class=\"dataframe\">\n",
              "  <thead>\n",
              "    <tr style=\"text-align: right;\">\n",
              "      <th></th>\n",
              "      <th>Juntas</th>\n",
              "      <th>Area</th>\n",
              "    </tr>\n",
              "  </thead>\n",
              "  <tbody>\n",
              "    <tr>\n",
              "      <th>0</th>\n",
              "      <td>1</td>\n",
              "      <td>2.001</td>\n",
              "    </tr>\n",
              "    <tr>\n",
              "      <th>1</th>\n",
              "      <td>2</td>\n",
              "      <td>0.820</td>\n",
              "    </tr>\n",
              "    <tr>\n",
              "      <th>2</th>\n",
              "      <td>3</td>\n",
              "      <td>1.270</td>\n",
              "    </tr>\n",
              "    <tr>\n",
              "      <th>3</th>\n",
              "      <td>4</td>\n",
              "      <td>0.958</td>\n",
              "    </tr>\n",
              "    <tr>\n",
              "      <th>4</th>\n",
              "      <td>5</td>\n",
              "      <td>1.162</td>\n",
              "    </tr>\n",
              "    <tr>\n",
              "      <th>...</th>\n",
              "      <td>...</td>\n",
              "      <td>...</td>\n",
              "    </tr>\n",
              "    <tr>\n",
              "      <th>90</th>\n",
              "      <td>30</td>\n",
              "      <td>1.064</td>\n",
              "    </tr>\n",
              "    <tr>\n",
              "      <th>91</th>\n",
              "      <td>31</td>\n",
              "      <td>1.341</td>\n",
              "    </tr>\n",
              "    <tr>\n",
              "      <th>92</th>\n",
              "      <td>32</td>\n",
              "      <td>1.044</td>\n",
              "    </tr>\n",
              "    <tr>\n",
              "      <th>93</th>\n",
              "      <td>33</td>\n",
              "      <td>1.337</td>\n",
              "    </tr>\n",
              "    <tr>\n",
              "      <th>94</th>\n",
              "      <td>34</td>\n",
              "      <td>1.341</td>\n",
              "    </tr>\n",
              "  </tbody>\n",
              "</table>\n",
              "<p>95 rows × 2 columns</p>\n",
              "</div>"
            ],
            "text/plain": [
              "    Juntas   Area\n",
              "0        1  2.001\n",
              "1        2  0.820\n",
              "2        3  1.270\n",
              "3        4  0.958\n",
              "4        5  1.162\n",
              "..     ...    ...\n",
              "90      30  1.064\n",
              "91      31  1.341\n",
              "92      32  1.044\n",
              "93      33  1.337\n",
              "94      34  1.341\n",
              "\n",
              "[95 rows x 2 columns]"
            ]
          },
          "metadata": {
            "tags": []
          },
          "execution_count": 36
        }
      ]
    },
    {
      "cell_type": "code",
      "metadata": {
        "id": "40Fdww7M1KSx",
        "colab": {
          "base_uri": "https://localhost:8080/"
        },
        "outputId": "bb44a742-6b76-4aca-bb20-fab84ae0fc02"
      },
      "source": [
        "PSD_new, Perc_new = PSD(Diam1)  # imageJ\n",
        "print(Perc_new)\n",
        "print(Perc_value)"
      ],
      "execution_count": 37,
      "outputs": [
        {
          "output_type": "stream",
          "text": [
            "[ 0.          0.          0.          0.          0.          0.\n",
            "  0.          4.21052632 10.52631579 23.15789474 62.10526316]\n",
            "[ 0.          0.          0.          0.          0.          0.\n",
            "  0.          4.         14.66666667 10.66666667 70.66666667]\n"
          ],
          "name": "stdout"
        }
      ]
    },
    {
      "cell_type": "code",
      "metadata": {
        "id": "jeTMW3eVbpAY",
        "colab": {
          "base_uri": "https://localhost:8080/"
        },
        "outputId": "87b6de0b-1e4b-4158-ba4e-6d68e3e52042"
      },
      "source": [
        "np.sum(np.array(Perc_value))"
      ],
      "execution_count": 38,
      "outputs": [
        {
          "output_type": "execute_result",
          "data": {
            "text/plain": [
              "100.0"
            ]
          },
          "metadata": {
            "tags": []
          },
          "execution_count": 38
        }
      ]
    },
    {
      "cell_type": "code",
      "metadata": {
        "id": "oAuyxTmrmc9Y",
        "colab": {
          "base_uri": "https://localhost:8080/",
          "height": 283
        },
        "outputId": "0d2c5980-59b8-429b-d464-43cfdd7081d9"
      },
      "source": [
        "plt.plot( Perc_value,Perc_new )"
      ],
      "execution_count": 39,
      "outputs": [
        {
          "output_type": "execute_result",
          "data": {
            "text/plain": [
              "[<matplotlib.lines.Line2D at 0x7f4544f59e10>]"
            ]
          },
          "metadata": {
            "tags": []
          },
          "execution_count": 39
        },
        {
          "output_type": "display_data",
          "data": {
            "image/png": "[encoded data removed]",
            "text/plain": [
              "<Figure size 432x288 with 1 Axes>"
            ]
          },
          "metadata": {
            "tags": [],
            "needs_background": "light"
          }
        }
      ]
    },
    {
      "cell_type": "code",
      "metadata": {
        "id": "n1r49MHFvsPP",
        "colab": {
          "base_uri": "https://localhost:8080/",
          "height": 265
        },
        "outputId": "64cf1975-2489-4e9c-9699-37a691b9e224"
      },
      "source": [
        "PSD_comparison = pd.DataFrame({ 'CNN':Perc_value,'ImgJ':Perc_new})\n",
        "ax = PSD_comparison.plot.bar(rot=0)"
      ],
      "execution_count": 40,
      "outputs": [
        {
          "output_type": "display_data",
          "data": {
            "image/png": "[encoded data removed]",
            "text/plain": [
              "<Figure size 432x288 with 1 Axes>"
            ]
          },
          "metadata": {
            "tags": [],
            "needs_background": "light"
          }
        }
      ]
    },
    {
      "cell_type": "code",
      "metadata": {
        "id": "enuGx6kH4cFh"
      },
      "source": [
        ""
      ],
      "execution_count": 40,
      "outputs": []
    },
    {
      "cell_type": "code",
      "metadata": {
        "id": "sW4TRqxc0Li-",
        "colab": {
          "base_uri": "https://localhost:8080/"
        },
        "outputId": "67a3b1c6-d662-4dee-ec5a-dacb8119931a"
      },
      "source": [
        "results = smf.ols('ImgJ ~ CNN', data=PSD_comparison).fit()\n",
        "print(results.summary())"
      ],
      "execution_count": 41,
      "outputs": [
        {
          "output_type": "stream",
          "text": [
            "                            OLS Regression Results                            \n",
            "==============================================================================\n",
            "Dep. Variable:                   ImgJ   R-squared:                       0.949\n",
            "Model:                            OLS   Adj. R-squared:                  0.944\n",
            "Method:                 Least Squares   F-statistic:                     169.0\n",
            "Date:                Wed, 07 Apr 2021   Prob (F-statistic):           3.89e-07\n",
            "Time:                        20:57:28   Log-Likelihood:                -31.063\n",
            "No. Observations:                  11   AIC:                             66.13\n",
            "Df Residuals:                       9   BIC:                             66.92\n",
            "Df Model:                           1                                         \n",
            "Covariance Type:            nonrobust                                         \n",
            "==============================================================================\n",
            "                 coef    std err          t      P>|t|      [0.025      0.975]\n",
            "------------------------------------------------------------------------------\n",
            "Intercept      1.0911      1.491      0.732      0.483      -2.283       4.465\n",
            "CNN            0.8800      0.068     12.999      0.000       0.727       1.033\n",
            "==============================================================================\n",
            "Omnibus:                       28.713   Durbin-Watson:                   2.532\n",
            "Prob(Omnibus):                  0.000   Jarque-Bera (JB):               27.272\n",
            "Skew:                           2.668   Prob(JB):                     1.20e-06\n",
            "Kurtosis:                       8.571   Cond. No.                         24.2\n",
            "==============================================================================\n",
            "\n",
            "Warnings:\n",
            "[1] Standard Errors assume that the covariance matrix of the errors is correctly specified.\n"
          ],
          "name": "stdout"
        },
        {
          "output_type": "stream",
          "text": [
            "/usr/local/lib/python3.7/dist-packages/scipy/stats/stats.py:1535: UserWarning: kurtosistest only valid for n>=20 ... continuing anyway, n=11\n",
            "  \"anyway, n=%i\" % int(n))\n"
          ],
          "name": "stderr"
        }
      ]
    },
    {
      "cell_type": "code",
      "metadata": {
        "id": "Ctf4oExeyz1B",
        "colab": {
          "base_uri": "https://localhost:8080/",
          "height": 283
        },
        "outputId": "6a5a85d5-3b55-4f44-fbdd-1a0382d5b222"
      },
      "source": [
        "#plt.plot(Diam)\n",
        "plt.plot(Diameter_All)"
      ],
      "execution_count": 42,
      "outputs": [
        {
          "output_type": "execute_result",
          "data": {
            "text/plain": [
              "[<matplotlib.lines.Line2D at 0x7f4544d2a1d0>]"
            ]
          },
          "metadata": {
            "tags": []
          },
          "execution_count": 42
        },
        {
          "output_type": "display_data",
          "data": {
            "image/png": "[encoded data removed]",
            "text/plain": [
              "<Figure size 432x288 with 1 Axes>"
            ]
          },
          "metadata": {
            "tags": [],
            "needs_background": "light"
          }
        }
      ]
    },
    {
      "cell_type": "code",
      "metadata": {
        "id": "WKwv70Nty2jF",
        "colab": {
          "base_uri": "https://localhost:8080/",
          "height": 283
        },
        "outputId": "25f817d1-f545-414e-dedd-846d1391ff75"
      },
      "source": [
        "plt.plot(Diam1)"
      ],
      "execution_count": 43,
      "outputs": [
        {
          "output_type": "execute_result",
          "data": {
            "text/plain": [
              "[<matplotlib.lines.Line2D at 0x7f4544c91390>]"
            ]
          },
          "metadata": {
            "tags": []
          },
          "execution_count": 43
        },
        {
          "output_type": "display_data",
          "data": {
            "image/png": "[encoded data removed]",
            "text/plain": [
              "<Figure size 432x288 with 1 Axes>"
            ]
          },
          "metadata": {
            "tags": [],
            "needs_background": "light"
          }
        }
      ]
    },
    {
      "cell_type": "code",
      "metadata": {
        "id": "eDfOaBFQ3BMS",
        "colab": {
          "base_uri": "https://localhost:8080/",
          "height": 294
        },
        "outputId": "8719c051-5c20-456f-af61-ec2e6e3896f3"
      },
      "source": [
        "df_diam=pd.DataFrame(Diam1)\n",
        "df_diam.describe()"
      ],
      "execution_count": 44,
      "outputs": [
        {
          "output_type": "execute_result",
          "data": {
            "text/html": [
              "<div>\n",
              "<style scoped>\n",
              "    .dataframe tbody tr th:only-of-type {\n",
              "        vertical-align: middle;\n",
              "    }\n",
              "\n",
              "    .dataframe tbody tr th {\n",
              "        vertical-align: top;\n",
              "    }\n",
              "\n",
              "    .dataframe thead th {\n",
              "        text-align: right;\n",
              "    }\n",
              "</style>\n",
              "<table border=\"1\" class=\"dataframe\">\n",
              "  <thead>\n",
              "    <tr style=\"text-align: right;\">\n",
              "      <th></th>\n",
              "      <th>0</th>\n",
              "    </tr>\n",
              "  </thead>\n",
              "  <tbody>\n",
              "    <tr>\n",
              "      <th>count</th>\n",
              "      <td>95.000000</td>\n",
              "    </tr>\n",
              "    <tr>\n",
              "      <th>mean</th>\n",
              "      <td>1.260307</td>\n",
              "    </tr>\n",
              "    <tr>\n",
              "      <th>std</th>\n",
              "      <td>0.258410</td>\n",
              "    </tr>\n",
              "    <tr>\n",
              "      <th>min</th>\n",
              "      <td>0.753568</td>\n",
              "    </tr>\n",
              "    <tr>\n",
              "      <th>25%</th>\n",
              "      <td>1.117893</td>\n",
              "    </tr>\n",
              "    <tr>\n",
              "      <th>50%</th>\n",
              "      <td>1.267607</td>\n",
              "    </tr>\n",
              "    <tr>\n",
              "      <th>75%</th>\n",
              "      <td>1.376667</td>\n",
              "    </tr>\n",
              "    <tr>\n",
              "      <th>max</th>\n",
              "      <td>2.317439</td>\n",
              "    </tr>\n",
              "  </tbody>\n",
              "</table>\n",
              "</div>"
            ],
            "text/plain": [
              "               0\n",
              "count  95.000000\n",
              "mean    1.260307\n",
              "std     0.258410\n",
              "min     0.753568\n",
              "25%     1.117893\n",
              "50%     1.267607\n",
              "75%     1.376667\n",
              "max     2.317439"
            ]
          },
          "metadata": {
            "tags": []
          },
          "execution_count": 44
        }
      ]
    },
    {
      "cell_type": "code",
      "metadata": {
        "id": "LKMhybhA4gjO",
        "colab": {
          "base_uri": "https://localhost:8080/",
          "height": 337
        },
        "outputId": "1ee01860-fbe3-4687-f0d4-aa8b6ed20ea1"
      },
      "source": [
        "plt.hist([Diam1,Diameter_All])\n",
        "plt.legend(['Image J','CNN'])"
      ],
      "execution_count": 45,
      "outputs": [
        {
          "output_type": "stream",
          "text": [
            "/usr/local/lib/python3.7/dist-packages/numpy/core/_asarray.py:83: VisibleDeprecationWarning: Creating an ndarray from ragged nested sequences (which is a list-or-tuple of lists-or-tuples-or ndarrays with different lengths or shapes) is deprecated. If you meant to do this, you must specify 'dtype=object' when creating the ndarray\n",
            "  return array(a, dtype, copy=False, order=order)\n"
          ],
          "name": "stderr"
        },
        {
          "output_type": "execute_result",
          "data": {
            "text/plain": [
              "<matplotlib.legend.Legend at 0x7f4544c54f90>"
            ]
          },
          "metadata": {
            "tags": []
          },
          "execution_count": 45
        },
        {
          "output_type": "display_data",
          "data": {
            "image/png": "[encoded data removed]",
            "text/plain": [
              "<Figure size 432x288 with 1 Axes>"
            ]
          },
          "metadata": {
            "tags": [],
            "needs_background": "light"
          }
        }
      ]
    },
    {
      "cell_type": "code",
      "metadata": {
        "id": "NHgkMv8i5nNz",
        "colab": {
          "base_uri": "https://localhost:8080/",
          "height": 352
        },
        "outputId": "3c836e4d-51d5-4cc3-95a3-78d7605f0e1d"
      },
      "source": [
        "plt.hist(Diam1, alpha=0.5)\n",
        "plt.hist(Diameter_All, alpha=0.5)"
      ],
      "execution_count": 46,
      "outputs": [
        {
          "output_type": "execute_result",
          "data": {
            "text/plain": [
              "(array([ 7.,  8.,  4.,  5., 13.,  8.,  9., 10.,  6.,  5.]),\n",
              " array([0.81227011, 0.91130646, 1.01034281, 1.10937916, 1.20841551,\n",
              "        1.30745186, 1.40648821, 1.50552456, 1.60456091, 1.70359726,\n",
              "        1.80263361]),\n",
              " <a list of 10 Patch objects>)"
            ]
          },
          "metadata": {
            "tags": []
          },
          "execution_count": 46
        },
        {
          "output_type": "display_data",
          "data": {
            "image/png": "[encoded data removed]",
            "text/plain": [
              "<Figure size 432x288 with 1 Axes>"
            ]
          },
          "metadata": {
            "tags": [],
            "needs_background": "light"
          }
        }
      ]
    },
    {
      "cell_type": "markdown",
      "metadata": {
        "id": "9Pq4DTm1np4i"
      },
      "source": [
        ""
      ]
    }
  ]
}