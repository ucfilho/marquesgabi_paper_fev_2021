{
  "nbformat": 4,
  "nbformat_minor": 0,
  "metadata": {
    "colab": {
      "name": "PSD_histogram_BEST_sample_07.ipynb",
      "provenance": [],
      "collapsed_sections": [],
      "include_colab_link": true
    },
    "kernelspec": {
      "display_name": "Python 3",
      "name": "python3"
    }
  },
  "cells": [
    {
      "cell_type": "markdown",
      "metadata": {
        "id": "view-in-github",
        "colab_type": "text"
      },
      "source": [
        "<a href=\"https://colab.research.google.com/github/ucfilho/marquesgabi_paper_fev_2021/blob/main/defesa/PSD_histogram_BEST_sample_07.ipynb\" target=\"_parent\"><img src=\"https://colab.research.google.com/assets/colab-badge.svg\" alt=\"Open In Colab\"/></a>"
      ]
    },
    {
      "cell_type": "code",
      "metadata": {
        "id": "Sog7Z9pyhUD_"
      },
      "source": [
        "import matplotlib.pyplot as plt\n",
        "import numpy as np\n",
        "import cv2\n",
        "import zipfile\n",
        "#import random\n",
        "from random import randint\n",
        "from PIL import Image\n",
        "import re\n",
        "from sklearn.model_selection import train_test_split\n",
        "#import scikit-image\n",
        "import skimage\n",
        "import sklearn\n",
        "import pandas as pd\n",
        "from keras.models import Sequential\n",
        "from keras.layers import Dense, Activation, Conv2D, MaxPooling2D, Flatten, Dropout, BatchNormalization\n",
        "from sklearn.metrics import r2_score\n",
        "from google.colab import files"
      ],
      "execution_count": 1,
      "outputs": []
    },
    {
      "cell_type": "code",
      "metadata": {
        "id": "rsqQZIu-mEfi"
      },
      "source": [
        "Repetir = 40"
      ],
      "execution_count": 2,
      "outputs": []
    },
    {
      "cell_type": "code",
      "metadata": {
        "id": "dwc7AZrXRyqk"
      },
      "source": [
        "# New version change routine inside MarquesGabi_Routines\n",
        "# Try to improve segmentation \n",
        "# New routine is called Segment_Filter_revisited_One... Two,Three, etc\n",
        "# this exemple threshold 0.4\n"
      ],
      "execution_count": 3,
      "outputs": []
    },
    {
      "cell_type": "code",
      "metadata": {
        "id": "uZEvJvfoibE4"
      },
      "source": [
        "#!pip install mahotas"
      ],
      "execution_count": 4,
      "outputs": []
    },
    {
      "cell_type": "code",
      "metadata": {
        "id": "3UZ30b1EVQhq"
      },
      "source": [
        "def BlackWhite(Transfere,Size):\n",
        "\n",
        "  img_name=[]\n",
        "  xw=[]\n",
        "  ww=[]\n",
        "\n",
        "  with zipfile.ZipFile(Transfere, \"r\") as f:\n",
        "    for name in f.namelist():\n",
        "      img_name.append(name)\n",
        "      #xw.append(cv2.imread(name))\n",
        "      xw.append(cv2.resize(cv2.imread(name),(Size,Size)))\n",
        "\n",
        "  nrow=len(img_name)\n",
        "  ncol=Size*Size\n",
        "  pw=np.zeros((nrow,ncol))\n",
        "  #pw=[]\n",
        "  for i in range(nrow):\n",
        "    ww.append(cv2.cvtColor(np.array(xw[i]), cv2.COLOR_BGR2GRAY))\n",
        "    pw[i,:]=ww[i].ravel()\n",
        "  return ww,img_name"
      ],
      "execution_count": 5,
      "outputs": []
    },
    {
      "cell_type": "code",
      "metadata": {
        "colab": {
          "base_uri": "https://localhost:8080/"
        },
        "id": "1v7SRrc8mH2N",
        "outputId": "5c970477-a416-4082-bf2e-b22bc9813e12"
      },
      "source": [
        "!git clone https://github.com/marquesgabi/Doutorado\n",
        "%cd Doutorado\n",
        "\n",
        "Transfere='Fotos_Grandes_3cdAmostra.zip' \n",
        "file_name = zipfile.ZipFile(Transfere, 'r')\n",
        "file_name.extractall()"
      ],
      "execution_count": 6,
      "outputs": [
        {
          "output_type": "stream",
          "name": "stdout",
          "text": [
            "fatal: destination path 'Doutorado' already exists and is not an empty directory.\n",
            "/content/Doutorado\n"
          ]
        }
      ]
    },
    {
      "cell_type": "code",
      "metadata": {
        "colab": {
          "base_uri": "https://localhost:8080/"
        },
        "id": "NqIYzUcnrdMp",
        "outputId": "74309131-3070-4d42-e014-e2780d2c3375"
      },
      "source": [
        "labels =[]\n",
        "with zipfile.ZipFile(Transfere, \"r\") as f:\n",
        "  for f in f.namelist():\n",
        "    labels.append(f)\n",
        "print(labels)"
      ],
      "execution_count": 7,
      "outputs": [
        {
          "output_type": "stream",
          "name": "stdout",
          "text": [
            "['Fotos_Grandes-3cdAmostra/Q6-8-4.jpg', 'Fotos_Grandes-3cdAmostra/Q6-5-3.jpg', 'Fotos_Grandes-3cdAmostra/Q6-7-4.jpg', 'Fotos_Grandes-3cdAmostra/Q6-8-2.jpg', 'Fotos_Grandes-3cdAmostra/Q6-3-2.jpg', 'Fotos_Grandes-3cdAmostra/Q6-7-2.jpg', 'Fotos_Grandes-3cdAmostra/Q6-4-4.jpg', 'Fotos_Grandes-3cdAmostra/Q6-9-5.jpg', 'Fotos_Grandes-3cdAmostra/Q6-2-5.jpg', 'Fotos_Grandes-3cdAmostra/Q6-8-3.jpg', 'Fotos_Grandes-3cdAmostra/Q6-9-3.jpg', 'Fotos_Grandes-3cdAmostra/Q6-1-2.jpg', 'Fotos_Grandes-3cdAmostra/Q6-6-3.jpg', 'Fotos_Grandes-3cdAmostra/Q6-3-4.jpg', 'Fotos_Grandes-3cdAmostra/Q6-1-4.jpg', 'Fotos_Grandes-3cdAmostra/Q6-6-2.jpg', 'Fotos_Grandes-3cdAmostra/Q6-4-3.jpg', 'Fotos_Grandes-3cdAmostra/Q6-7-3.jpg', 'Fotos_Grandes-3cdAmostra/Q6-2-2.jpg', 'Fotos_Grandes-3cdAmostra/Q6-9-2.jpg', 'Fotos_Grandes-3cdAmostra/Q6-1-5.jpg', 'Fotos_Grandes-3cdAmostra/Q6-6-5.jpg', 'Fotos_Grandes-3cdAmostra/Q6-2-1.jpg', 'Fotos_Grandes-3cdAmostra/Q6-5-2.jpg', 'Fotos_Grandes-3cdAmostra/Q6-4-1.jpg', 'Fotos_Grandes-3cdAmostra/Q6-3-1.jpg', 'Fotos_Grandes-3cdAmostra/Q6-5-4.jpg']\n"
          ]
        }
      ]
    },
    {
      "cell_type": "code",
      "metadata": {
        "id": "0kA4IWSmasoD"
      },
      "source": [
        "Size=1200 # tamanho da foto\n",
        "ww,img_name=BlackWhite(Transfere,Size) #Pegamos a primeira foto Grande\n",
        "# this is the big image we want to segment \n",
        "# ww[0], change it if you want to segment another picture"
      ],
      "execution_count": 8,
      "outputs": []
    },
    {
      "cell_type": "code",
      "metadata": {
        "colab": {
          "base_uri": "https://localhost:8080/"
        },
        "id": "tHgqAnaFyCjp",
        "outputId": "ac4392da-b189-4c0a-9751-bbd6f461acee"
      },
      "source": [
        "!git clone https://github.com/ucfilho/MarquesGabi_Routines\n",
        "%cd MarquesGabi_Routines"
      ],
      "execution_count": 9,
      "outputs": [
        {
          "output_type": "stream",
          "name": "stdout",
          "text": [
            "fatal: destination path 'MarquesGabi_Routines' already exists and is not an empty directory.\n",
            "/content/Doutorado/MarquesGabi_Routines\n"
          ]
        }
      ]
    },
    {
      "cell_type": "code",
      "metadata": {
        "id": "XDEGUiuubwuZ",
        "colab": {
          "base_uri": "https://localhost:8080/",
          "height": 105
        },
        "outputId": "357ecaf2-8d8a-44a5-f5fd-98635387dd7f"
      },
      "source": [
        "'''\n",
        "FILE='SugarSample03.zip'\n",
        "img_name=[]\n",
        "x_original = [] \n",
        "\n",
        "data_file ='xls'\n",
        "\n",
        "\n",
        "file_name = zipfile.ZipFile(FILE, 'r')\n",
        "file_name.extractall()\n",
        "\n",
        "k = 0\n",
        "with zipfile.ZipFile(FILE, \"r\") as f:\n",
        "    for name in f.namelist():\n",
        "      if(name[-3:] == data_file):\n",
        "        #df =pd.read_csv(name)\n",
        "        if( k > 0):\n",
        "          df_old = df_ImgJ.copy()\n",
        "        df_ImgJ = pd.read_excel(name)\n",
        "        df_ImgJ = df_ImgJ.drop(labels=[0], axis=0)\n",
        "        if(k > 0):\n",
        "          df_ImgJ = pd.concat( [df_ImgJ, df_old], ignore_index = True)\n",
        "        k = k + 1\n",
        "'''"
      ],
      "execution_count": 10,
      "outputs": [
        {
          "output_type": "execute_result",
          "data": {
            "application/vnd.google.colaboratory.intrinsic+json": {
              "type": "string"
            },
            "text/plain": [
              "'\\nFILE=\\'SugarSample03.zip\\'\\nimg_name=[]\\nx_original = [] \\n\\ndata_file =\\'xls\\'\\n\\n\\nfile_name = zipfile.ZipFile(FILE, \\'r\\')\\nfile_name.extractall()\\n\\nk = 0\\nwith zipfile.ZipFile(FILE, \"r\") as f:\\n    for name in f.namelist():\\n      if(name[-3:] == data_file):\\n        #df =pd.read_csv(name)\\n        if( k > 0):\\n          df_old = df_ImgJ.copy()\\n        df_ImgJ = pd.read_excel(name)\\n        df_ImgJ = df_ImgJ.drop(labels=[0], axis=0)\\n        if(k > 0):\\n          df_ImgJ = pd.concat( [df_ImgJ, df_old], ignore_index = True)\\n        k = k + 1\\n'"
            ]
          },
          "metadata": {},
          "execution_count": 10
        }
      ]
    },
    {
      "cell_type": "code",
      "metadata": {
        "id": "XbQ0tal0etXx"
      },
      "source": [
        "#f.namelist()"
      ],
      "execution_count": 11,
      "outputs": []
    },
    {
      "cell_type": "code",
      "metadata": {
        "id": "QSYrykxxGJ5d"
      },
      "source": [
        "#df_ImgJ.shape"
      ],
      "execution_count": 12,
      "outputs": []
    },
    {
      "cell_type": "code",
      "metadata": {
        "id": "1KDJn09lGTBD"
      },
      "source": [
        "#df_ImgJ.head()"
      ],
      "execution_count": 13,
      "outputs": []
    },
    {
      "cell_type": "code",
      "metadata": {
        "id": "qc4rFvzkyWCi"
      },
      "source": [
        "from Segment_Filter_Revival import Segmenta  # got image provided segmented"
      ],
      "execution_count": 14,
      "outputs": []
    },
    {
      "cell_type": "code",
      "metadata": {
        "id": "xR2emP4rNjQy",
        "colab": {
          "base_uri": "https://localhost:8080/"
        },
        "outputId": "1c7e9ea2-ad87-4432-c782-4129adc4b352"
      },
      "source": [
        "!git clone https://github.com/ucfilho/MarquesGabi_Routines\n",
        "%cd MarquesGabi_Routines"
      ],
      "execution_count": 15,
      "outputs": [
        {
          "output_type": "stream",
          "name": "stdout",
          "text": [
            "fatal: destination path 'MarquesGabi_Routines' already exists and is not an empty directory.\n",
            "/content/Doutorado/MarquesGabi_Routines/MarquesGabi_Routines\n"
          ]
        }
      ]
    },
    {
      "cell_type": "code",
      "metadata": {
        "id": "O6cMHOrlNliO"
      },
      "source": [
        "# leitura dos dados\n",
        "df=pd.read_excel(\"FotosTreinoRede.xlsx\")\n",
        "y = df['y']\n",
        "df.drop(['Unnamed: 0','y'], axis='columns', inplace=True)"
      ],
      "execution_count": 16,
      "outputs": []
    },
    {
      "cell_type": "code",
      "metadata": {
        "id": "zQO8d2QbNqj0"
      },
      "source": [
        "X =np.array(df.copy())/255.0 \n",
        "\n",
        "\n",
        "X_train, X_test, Y_train, Y_test = train_test_split(X, y, test_size=0.30, shuffle=True, random_state=42)"
      ],
      "execution_count": 17,
      "outputs": []
    },
    {
      "cell_type": "code",
      "metadata": {
        "id": "gIFPGE_-vx3T"
      },
      "source": [
        "Img_Size = 28"
      ],
      "execution_count": 18,
      "outputs": []
    },
    {
      "cell_type": "code",
      "metadata": {
        "id": "23iKv6bDPWQl"
      },
      "source": [
        "# helper\n",
        "def ynindicator(Y):\n",
        "  N = len(Y)\n",
        "  K = len(set(Y))\n",
        "  I = np.zeros((N, K))\n",
        "  I[np.arange(N), Y] = 1\n",
        "  return I\n",
        "\n",
        "def yback(Y_test):\n",
        "  nrow, ncol = Y_test.shape\n",
        "  y_class = np.zeros(nrow,dtype=int)\n",
        "  y_resp = Y_test\n",
        "  for k in range(nrow):\n",
        "    for kk in range(K):\n",
        "      if(y_resp[k,kk] == 1):\n",
        "        y_class[k] = kk\n",
        "  Y_test = y_class.copy()\n",
        "  return Y_test\n",
        "\n",
        "X_train = np.array(X_train)\n",
        "Y_train = np.array(Y_train)\n",
        "K = len(set(Y_train))\n",
        "\n",
        "X_train = X_train.reshape(-1, Img_Size, Img_Size, 1) / 255.0\n",
        "Y_train = Y_train.astype(np.int32)\n",
        "Y_train = ynindicator(Y_train)\n",
        "\n",
        "X_test = np.array(X_test )\n",
        "Y_test = np.array(Y_test)\n",
        "X_test = X_test.reshape(-1, Img_Size, Img_Size, 1) / 255.0\n",
        "Y_test = Y_test.astype(np.int32)\n",
        "Y_test = ynindicator(Y_test)\n",
        "\n",
        "# the model will be a sequence of layers\n",
        "\n",
        "Description = '3 layers of Convolution: 64, 128, 256 '\n",
        "N1 = 20\n",
        "N2 = 20\n",
        "\n",
        "# make the CNN\n",
        "model = Sequential()\n",
        "model.add(Conv2D(input_shape=(Img_Size, Img_Size, 1), filters=64, kernel_size=(3, 3)))\n",
        "model.add(BatchNormalization())\n",
        "model.add(Activation('relu'))\n",
        "model.add(MaxPooling2D())\n",
        "\n",
        "model.add(Conv2D(filters=128, kernel_size=(3, 3)))\n",
        "model.add(BatchNormalization())\n",
        "model.add(Activation('relu'))\n",
        "model.add(MaxPooling2D())\n",
        "\n",
        "model.add(Conv2D(filters=256, kernel_size=(3, 3)))\n",
        "model.add(BatchNormalization())\n",
        "model.add(Activation('relu'))\n",
        "model.add(MaxPooling2D())\n",
        "\n",
        "model.add(Flatten())\n",
        "model.add(Dense(units=N1))\n",
        "model.add(Dropout(0.2))\n",
        "model.add(Dense(units=N2))\n",
        "model.add(Activation('relu'))\n",
        "#model.add(Dropout(0.2))\n",
        "model.add(Dense(units=K))\n",
        "model.add(Activation('softmax'))\n",
        "\n",
        "\n",
        "# list of losses: https://keras.io/losses/\n",
        "# list of optimizers: https://keras.io/optimizers/\n",
        "# list of metrics: https://keras.io/metrics/\n",
        "model.compile(\n",
        "  loss='categorical_crossentropy',\n",
        "  optimizer='adam',\n",
        "  metrics=['accuracy']\n",
        ")"
      ],
      "execution_count": 19,
      "outputs": []
    },
    {
      "cell_type": "code",
      "metadata": {
        "id": "FpbPQ1FSRG6A",
        "colab": {
          "base_uri": "https://localhost:8080/"
        },
        "outputId": "f9cb0024-760e-4e8f-cfee-88e2495652eb"
      },
      "source": [
        "# training the model\n",
        "r = model.fit(X_train, Y_train, validation_data=(X_test,Y_test), \n",
        "              epochs=200, batch_size=32)"
      ],
      "execution_count": 20,
      "outputs": [
        {
          "output_type": "stream",
          "name": "stdout",
          "text": [
            "Epoch 1/200\n",
            "11/11 [==============================] - 3s 156ms/step - loss: 0.6055 - accuracy: 0.7085 - val_loss: 0.6929 - val_accuracy: 0.5102\n",
            "Epoch 2/200\n",
            "11/11 [==============================] - 1s 134ms/step - loss: 0.2956 - accuracy: 0.8980 - val_loss: 0.6929 - val_accuracy: 0.5102\n",
            "Epoch 3/200\n",
            "11/11 [==============================] - 1s 135ms/step - loss: 0.1970 - accuracy: 0.9359 - val_loss: 0.6941 - val_accuracy: 0.5102\n",
            "Epoch 4/200\n",
            "11/11 [==============================] - 2s 138ms/step - loss: 0.1434 - accuracy: 0.9446 - val_loss: 0.6962 - val_accuracy: 0.5102\n",
            "Epoch 5/200\n",
            "11/11 [==============================] - 1s 135ms/step - loss: 0.1022 - accuracy: 0.9563 - val_loss: 0.6956 - val_accuracy: 0.5102\n",
            "Epoch 6/200\n",
            "11/11 [==============================] - 1s 135ms/step - loss: 0.0693 - accuracy: 0.9825 - val_loss: 0.6967 - val_accuracy: 0.5102\n",
            "Epoch 7/200\n",
            "11/11 [==============================] - 1s 136ms/step - loss: 0.0489 - accuracy: 0.9796 - val_loss: 0.6950 - val_accuracy: 0.5102\n",
            "Epoch 8/200\n",
            "11/11 [==============================] - 2s 139ms/step - loss: 0.0419 - accuracy: 0.9883 - val_loss: 0.6963 - val_accuracy: 0.5102\n",
            "Epoch 9/200\n",
            "11/11 [==============================] - 1s 136ms/step - loss: 0.0308 - accuracy: 0.9942 - val_loss: 0.6959 - val_accuracy: 0.5102\n",
            "Epoch 10/200\n",
            "11/11 [==============================] - 2s 139ms/step - loss: 0.0168 - accuracy: 1.0000 - val_loss: 0.6948 - val_accuracy: 0.5102\n",
            "Epoch 11/200\n",
            "11/11 [==============================] - 2s 138ms/step - loss: 0.0093 - accuracy: 0.9971 - val_loss: 0.6950 - val_accuracy: 0.5102\n",
            "Epoch 12/200\n",
            "11/11 [==============================] - 2s 141ms/step - loss: 0.0169 - accuracy: 0.9942 - val_loss: 0.6973 - val_accuracy: 0.5102\n",
            "Epoch 13/200\n",
            "11/11 [==============================] - 2s 138ms/step - loss: 0.0264 - accuracy: 0.9913 - val_loss: 0.7070 - val_accuracy: 0.5102\n",
            "Epoch 14/200\n",
            "11/11 [==============================] - 1s 136ms/step - loss: 0.0557 - accuracy: 0.9854 - val_loss: 0.7028 - val_accuracy: 0.5102\n",
            "Epoch 15/200\n",
            "11/11 [==============================] - 1s 137ms/step - loss: 0.0368 - accuracy: 0.9883 - val_loss: 0.7040 - val_accuracy: 0.5102\n",
            "Epoch 16/200\n",
            "11/11 [==============================] - 2s 140ms/step - loss: 0.0115 - accuracy: 1.0000 - val_loss: 0.7141 - val_accuracy: 0.5102\n",
            "Epoch 17/200\n",
            "11/11 [==============================] - 1s 137ms/step - loss: 0.0090 - accuracy: 1.0000 - val_loss: 0.7242 - val_accuracy: 0.5102\n",
            "Epoch 18/200\n",
            "11/11 [==============================] - 2s 143ms/step - loss: 0.0045 - accuracy: 1.0000 - val_loss: 0.7327 - val_accuracy: 0.5102\n",
            "Epoch 19/200\n",
            "11/11 [==============================] - 2s 140ms/step - loss: 0.0058 - accuracy: 1.0000 - val_loss: 0.7441 - val_accuracy: 0.5102\n",
            "Epoch 20/200\n",
            "11/11 [==============================] - 2s 138ms/step - loss: 0.0055 - accuracy: 0.9971 - val_loss: 0.7584 - val_accuracy: 0.5102\n",
            "Epoch 21/200\n",
            "11/11 [==============================] - 2s 141ms/step - loss: 0.0028 - accuracy: 1.0000 - val_loss: 0.7582 - val_accuracy: 0.5102\n",
            "Epoch 22/200\n",
            "11/11 [==============================] - 2s 139ms/step - loss: 0.0037 - accuracy: 1.0000 - val_loss: 0.7717 - val_accuracy: 0.5102\n",
            "Epoch 23/200\n",
            "11/11 [==============================] - 2s 139ms/step - loss: 0.0027 - accuracy: 1.0000 - val_loss: 0.7908 - val_accuracy: 0.5102\n",
            "Epoch 24/200\n",
            "11/11 [==============================] - 2s 141ms/step - loss: 0.0020 - accuracy: 1.0000 - val_loss: 0.8012 - val_accuracy: 0.5102\n",
            "Epoch 25/200\n",
            "11/11 [==============================] - 2s 141ms/step - loss: 0.0026 - accuracy: 1.0000 - val_loss: 0.7946 - val_accuracy: 0.5102\n",
            "Epoch 26/200\n",
            "11/11 [==============================] - 2s 142ms/step - loss: 0.0036 - accuracy: 1.0000 - val_loss: 0.8158 - val_accuracy: 0.5102\n",
            "Epoch 27/200\n",
            "11/11 [==============================] - 2s 142ms/step - loss: 0.0018 - accuracy: 1.0000 - val_loss: 0.9100 - val_accuracy: 0.5102\n",
            "Epoch 28/200\n",
            "11/11 [==============================] - 2s 142ms/step - loss: 9.2069e-04 - accuracy: 1.0000 - val_loss: 0.9364 - val_accuracy: 0.5102\n",
            "Epoch 29/200\n",
            "11/11 [==============================] - 2s 140ms/step - loss: 0.0017 - accuracy: 1.0000 - val_loss: 0.9354 - val_accuracy: 0.5102\n",
            "Epoch 30/200\n",
            "11/11 [==============================] - 2s 140ms/step - loss: 5.7071e-04 - accuracy: 1.0000 - val_loss: 0.9349 - val_accuracy: 0.5102\n",
            "Epoch 31/200\n",
            "11/11 [==============================] - 2s 139ms/step - loss: 0.0018 - accuracy: 1.0000 - val_loss: 0.9449 - val_accuracy: 0.5102\n",
            "Epoch 32/200\n",
            "11/11 [==============================] - 2s 141ms/step - loss: 8.2734e-04 - accuracy: 1.0000 - val_loss: 0.8601 - val_accuracy: 0.5102\n",
            "Epoch 33/200\n",
            "11/11 [==============================] - 2s 142ms/step - loss: 0.0098 - accuracy: 0.9971 - val_loss: 1.2841 - val_accuracy: 0.5102\n",
            "Epoch 34/200\n",
            "11/11 [==============================] - 2s 141ms/step - loss: 0.0081 - accuracy: 0.9971 - val_loss: 1.6132 - val_accuracy: 0.5102\n",
            "Epoch 35/200\n",
            "11/11 [==============================] - 2s 141ms/step - loss: 0.0055 - accuracy: 0.9971 - val_loss: 1.3072 - val_accuracy: 0.5102\n",
            "Epoch 36/200\n",
            "11/11 [==============================] - 2s 145ms/step - loss: 0.0024 - accuracy: 1.0000 - val_loss: 0.8017 - val_accuracy: 0.5102\n",
            "Epoch 37/200\n",
            "11/11 [==============================] - 2s 145ms/step - loss: 0.0261 - accuracy: 0.9942 - val_loss: 1.2980 - val_accuracy: 0.5102\n",
            "Epoch 38/200\n",
            "11/11 [==============================] - 2s 145ms/step - loss: 0.0156 - accuracy: 0.9942 - val_loss: 4.7529 - val_accuracy: 0.5102\n",
            "Epoch 39/200\n",
            "11/11 [==============================] - 2s 146ms/step - loss: 0.0018 - accuracy: 1.0000 - val_loss: 5.9104 - val_accuracy: 0.5102\n",
            "Epoch 40/200\n",
            "11/11 [==============================] - 2s 144ms/step - loss: 0.0088 - accuracy: 0.9971 - val_loss: 7.6046 - val_accuracy: 0.5102\n",
            "Epoch 41/200\n",
            "11/11 [==============================] - 2s 146ms/step - loss: 0.0130 - accuracy: 0.9913 - val_loss: 14.4149 - val_accuracy: 0.5102\n",
            "Epoch 42/200\n",
            "11/11 [==============================] - 2s 141ms/step - loss: 0.0055 - accuracy: 1.0000 - val_loss: 16.9681 - val_accuracy: 0.5102\n",
            "Epoch 43/200\n",
            "11/11 [==============================] - 2s 144ms/step - loss: 0.0062 - accuracy: 1.0000 - val_loss: 19.6726 - val_accuracy: 0.5102\n",
            "Epoch 44/200\n",
            "11/11 [==============================] - 2s 138ms/step - loss: 0.0014 - accuracy: 1.0000 - val_loss: 23.8218 - val_accuracy: 0.5102\n",
            "Epoch 45/200\n",
            "11/11 [==============================] - 2s 142ms/step - loss: 0.0015 - accuracy: 1.0000 - val_loss: 26.5343 - val_accuracy: 0.5102\n",
            "Epoch 46/200\n",
            "11/11 [==============================] - 2s 146ms/step - loss: 0.0013 - accuracy: 1.0000 - val_loss: 26.0127 - val_accuracy: 0.5102\n",
            "Epoch 47/200\n",
            "11/11 [==============================] - 2s 145ms/step - loss: 0.0011 - accuracy: 1.0000 - val_loss: 24.4089 - val_accuracy: 0.5102\n",
            "Epoch 48/200\n",
            "11/11 [==============================] - 2s 147ms/step - loss: 7.7496e-04 - accuracy: 1.0000 - val_loss: 22.3556 - val_accuracy: 0.5102\n",
            "Epoch 49/200\n",
            "11/11 [==============================] - 2s 145ms/step - loss: 2.2721e-04 - accuracy: 1.0000 - val_loss: 21.7442 - val_accuracy: 0.5102\n",
            "Epoch 50/200\n",
            "11/11 [==============================] - 2s 144ms/step - loss: 0.0022 - accuracy: 1.0000 - val_loss: 18.0227 - val_accuracy: 0.5102\n",
            "Epoch 51/200\n",
            "11/11 [==============================] - 2s 143ms/step - loss: 7.5486e-04 - accuracy: 1.0000 - val_loss: 17.4388 - val_accuracy: 0.5102\n",
            "Epoch 52/200\n",
            "11/11 [==============================] - 2s 145ms/step - loss: 9.3040e-04 - accuracy: 1.0000 - val_loss: 17.9576 - val_accuracy: 0.5102\n",
            "Epoch 53/200\n",
            "11/11 [==============================] - 2s 141ms/step - loss: 2.0592e-04 - accuracy: 1.0000 - val_loss: 19.5004 - val_accuracy: 0.5102\n",
            "Epoch 54/200\n",
            "11/11 [==============================] - 2s 141ms/step - loss: 9.3562e-04 - accuracy: 1.0000 - val_loss: 18.9900 - val_accuracy: 0.5102\n",
            "Epoch 55/200\n",
            "11/11 [==============================] - 2s 142ms/step - loss: 6.3490e-04 - accuracy: 1.0000 - val_loss: 15.7714 - val_accuracy: 0.5102\n",
            "Epoch 56/200\n",
            "11/11 [==============================] - 2s 143ms/step - loss: 2.7642e-04 - accuracy: 1.0000 - val_loss: 14.9663 - val_accuracy: 0.5102\n",
            "Epoch 57/200\n",
            "11/11 [==============================] - 2s 143ms/step - loss: 2.2959e-04 - accuracy: 1.0000 - val_loss: 14.9209 - val_accuracy: 0.5102\n",
            "Epoch 58/200\n",
            "11/11 [==============================] - 2s 142ms/step - loss: 6.1223e-04 - accuracy: 1.0000 - val_loss: 14.4451 - val_accuracy: 0.5102\n",
            "Epoch 59/200\n",
            "11/11 [==============================] - 2s 147ms/step - loss: 3.6321e-04 - accuracy: 1.0000 - val_loss: 14.1775 - val_accuracy: 0.5102\n",
            "Epoch 60/200\n",
            "11/11 [==============================] - 2s 145ms/step - loss: 5.0796e-04 - accuracy: 1.0000 - val_loss: 13.5712 - val_accuracy: 0.5102\n",
            "Epoch 61/200\n",
            "11/11 [==============================] - 2s 144ms/step - loss: 1.0653e-04 - accuracy: 1.0000 - val_loss: 12.8728 - val_accuracy: 0.5102\n",
            "Epoch 62/200\n",
            "11/11 [==============================] - 2s 146ms/step - loss: 4.7531e-05 - accuracy: 1.0000 - val_loss: 12.4087 - val_accuracy: 0.5102\n",
            "Epoch 63/200\n",
            "11/11 [==============================] - 2s 143ms/step - loss: 1.1212e-04 - accuracy: 1.0000 - val_loss: 11.5227 - val_accuracy: 0.5102\n",
            "Epoch 64/200\n",
            "11/11 [==============================] - 2s 142ms/step - loss: 9.4011e-05 - accuracy: 1.0000 - val_loss: 10.7118 - val_accuracy: 0.5102\n",
            "Epoch 65/200\n",
            "11/11 [==============================] - 2s 146ms/step - loss: 2.1709e-04 - accuracy: 1.0000 - val_loss: 10.1432 - val_accuracy: 0.5102\n",
            "Epoch 66/200\n",
            "11/11 [==============================] - 2s 144ms/step - loss: 8.5427e-05 - accuracy: 1.0000 - val_loss: 9.5850 - val_accuracy: 0.5102\n",
            "Epoch 67/200\n",
            "11/11 [==============================] - 2s 143ms/step - loss: 1.0224e-04 - accuracy: 1.0000 - val_loss: 8.9762 - val_accuracy: 0.5102\n",
            "Epoch 68/200\n",
            "11/11 [==============================] - 2s 139ms/step - loss: 2.8408e-04 - accuracy: 1.0000 - val_loss: 8.1987 - val_accuracy: 0.5102\n",
            "Epoch 69/200\n",
            "11/11 [==============================] - 2s 142ms/step - loss: 1.7690e-04 - accuracy: 1.0000 - val_loss: 7.7300 - val_accuracy: 0.5102\n",
            "Epoch 70/200\n",
            "11/11 [==============================] - 2s 139ms/step - loss: 6.3175e-05 - accuracy: 1.0000 - val_loss: 7.2246 - val_accuracy: 0.5102\n",
            "Epoch 71/200\n",
            "11/11 [==============================] - 2s 146ms/step - loss: 6.1445e-05 - accuracy: 1.0000 - val_loss: 6.7917 - val_accuracy: 0.5102\n",
            "Epoch 72/200\n",
            "11/11 [==============================] - 2s 148ms/step - loss: 1.1249e-04 - accuracy: 1.0000 - val_loss: 6.5432 - val_accuracy: 0.5102\n",
            "Epoch 73/200\n",
            "11/11 [==============================] - 2s 141ms/step - loss: 1.8750e-04 - accuracy: 1.0000 - val_loss: 7.7231 - val_accuracy: 0.5102\n",
            "Epoch 74/200\n",
            "11/11 [==============================] - 2s 145ms/step - loss: 1.4463e-04 - accuracy: 1.0000 - val_loss: 8.9373 - val_accuracy: 0.5102\n",
            "Epoch 75/200\n",
            "11/11 [==============================] - 2s 144ms/step - loss: 7.9333e-05 - accuracy: 1.0000 - val_loss: 8.4700 - val_accuracy: 0.5102\n",
            "Epoch 76/200\n",
            "11/11 [==============================] - 2s 144ms/step - loss: 1.3598e-04 - accuracy: 1.0000 - val_loss: 8.0337 - val_accuracy: 0.5102\n",
            "Epoch 77/200\n",
            "11/11 [==============================] - 2s 141ms/step - loss: 1.7647e-04 - accuracy: 1.0000 - val_loss: 8.2838 - val_accuracy: 0.5102\n",
            "Epoch 78/200\n",
            "11/11 [==============================] - 2s 141ms/step - loss: 3.0932e-05 - accuracy: 1.0000 - val_loss: 8.0609 - val_accuracy: 0.5102\n",
            "Epoch 79/200\n",
            "11/11 [==============================] - 2s 143ms/step - loss: 2.7629e-05 - accuracy: 1.0000 - val_loss: 7.3933 - val_accuracy: 0.5102\n",
            "Epoch 80/200\n",
            "11/11 [==============================] - 2s 144ms/step - loss: 2.7808e-05 - accuracy: 1.0000 - val_loss: 6.6717 - val_accuracy: 0.5102\n",
            "Epoch 81/200\n",
            "11/11 [==============================] - 2s 143ms/step - loss: 2.3573e-05 - accuracy: 1.0000 - val_loss: 5.5791 - val_accuracy: 0.5102\n",
            "Epoch 82/200\n",
            "11/11 [==============================] - 2s 142ms/step - loss: 4.3154e-04 - accuracy: 1.0000 - val_loss: 4.5764 - val_accuracy: 0.5238\n",
            "Epoch 83/200\n",
            "11/11 [==============================] - 2s 146ms/step - loss: 2.3482e-05 - accuracy: 1.0000 - val_loss: 3.8658 - val_accuracy: 0.5306\n",
            "Epoch 84/200\n",
            "11/11 [==============================] - 2s 143ms/step - loss: 1.5500e-04 - accuracy: 1.0000 - val_loss: 3.6341 - val_accuracy: 0.5374\n",
            "Epoch 85/200\n",
            "11/11 [==============================] - 2s 147ms/step - loss: 8.1790e-05 - accuracy: 1.0000 - val_loss: 3.6227 - val_accuracy: 0.5374\n",
            "Epoch 86/200\n",
            "11/11 [==============================] - 2s 143ms/step - loss: 7.7785e-05 - accuracy: 1.0000 - val_loss: 3.3798 - val_accuracy: 0.5442\n",
            "Epoch 87/200\n",
            "11/11 [==============================] - 2s 143ms/step - loss: 1.0265e-04 - accuracy: 1.0000 - val_loss: 2.7831 - val_accuracy: 0.5714\n",
            "Epoch 88/200\n",
            "11/11 [==============================] - 2s 145ms/step - loss: 7.2888e-05 - accuracy: 1.0000 - val_loss: 2.1132 - val_accuracy: 0.6327\n",
            "Epoch 89/200\n",
            "11/11 [==============================] - 2s 142ms/step - loss: 3.2286e-05 - accuracy: 1.0000 - val_loss: 1.8535 - val_accuracy: 0.6735\n",
            "Epoch 90/200\n",
            "11/11 [==============================] - 2s 142ms/step - loss: 2.0948e-04 - accuracy: 1.0000 - val_loss: 1.5096 - val_accuracy: 0.7007\n",
            "Epoch 91/200\n",
            "11/11 [==============================] - 2s 144ms/step - loss: 6.1456e-05 - accuracy: 1.0000 - val_loss: 1.9996 - val_accuracy: 0.6327\n",
            "Epoch 92/200\n",
            "11/11 [==============================] - 2s 142ms/step - loss: 6.1483e-05 - accuracy: 1.0000 - val_loss: 1.9803 - val_accuracy: 0.6395\n",
            "Epoch 93/200\n",
            "11/11 [==============================] - 2s 143ms/step - loss: 7.2617e-05 - accuracy: 1.0000 - val_loss: 1.5711 - val_accuracy: 0.6871\n",
            "Epoch 94/200\n",
            "11/11 [==============================] - 2s 143ms/step - loss: 1.6208e-04 - accuracy: 1.0000 - val_loss: 1.5876 - val_accuracy: 0.6939\n",
            "Epoch 95/200\n",
            "11/11 [==============================] - 2s 144ms/step - loss: 2.4353e-05 - accuracy: 1.0000 - val_loss: 2.4292 - val_accuracy: 0.6327\n",
            "Epoch 96/200\n",
            "11/11 [==============================] - 2s 146ms/step - loss: 3.4770e-05 - accuracy: 1.0000 - val_loss: 2.6311 - val_accuracy: 0.6190\n",
            "Epoch 97/200\n",
            "11/11 [==============================] - 2s 147ms/step - loss: 4.0102e-05 - accuracy: 1.0000 - val_loss: 2.2368 - val_accuracy: 0.6735\n",
            "Epoch 98/200\n",
            "11/11 [==============================] - 2s 144ms/step - loss: 3.8384e-05 - accuracy: 1.0000 - val_loss: 1.8189 - val_accuracy: 0.6871\n",
            "Epoch 99/200\n",
            "11/11 [==============================] - 2s 144ms/step - loss: 5.0599e-05 - accuracy: 1.0000 - val_loss: 1.4523 - val_accuracy: 0.7347\n",
            "Epoch 100/200\n",
            "11/11 [==============================] - 2s 146ms/step - loss: 7.3211e-05 - accuracy: 1.0000 - val_loss: 1.3531 - val_accuracy: 0.7483\n",
            "Epoch 101/200\n",
            "11/11 [==============================] - 2s 144ms/step - loss: 2.8554e-05 - accuracy: 1.0000 - val_loss: 1.3500 - val_accuracy: 0.7483\n",
            "Epoch 102/200\n",
            "11/11 [==============================] - 2s 142ms/step - loss: 4.5306e-05 - accuracy: 1.0000 - val_loss: 1.1578 - val_accuracy: 0.7619\n",
            "Epoch 103/200\n",
            "11/11 [==============================] - 2s 144ms/step - loss: 4.0902e-04 - accuracy: 1.0000 - val_loss: 4.0062 - val_accuracy: 0.5374\n",
            "Epoch 104/200\n",
            "11/11 [==============================] - 2s 142ms/step - loss: 3.3573e-05 - accuracy: 1.0000 - val_loss: 6.0293 - val_accuracy: 0.5170\n",
            "Epoch 105/200\n",
            "11/11 [==============================] - 2s 144ms/step - loss: 1.8949e-04 - accuracy: 1.0000 - val_loss: 5.5761 - val_accuracy: 0.5170\n",
            "Epoch 106/200\n",
            "11/11 [==============================] - 2s 140ms/step - loss: 1.0336e-04 - accuracy: 1.0000 - val_loss: 3.9756 - val_accuracy: 0.5374\n",
            "Epoch 107/200\n",
            "11/11 [==============================] - 2s 140ms/step - loss: 1.0508e-04 - accuracy: 1.0000 - val_loss: 3.3509 - val_accuracy: 0.5782\n",
            "Epoch 108/200\n",
            "11/11 [==============================] - 2s 141ms/step - loss: 1.7877e-05 - accuracy: 1.0000 - val_loss: 2.5621 - val_accuracy: 0.6463\n",
            "Epoch 109/200\n",
            "11/11 [==============================] - 2s 146ms/step - loss: 2.3217e-05 - accuracy: 1.0000 - val_loss: 1.9458 - val_accuracy: 0.6939\n",
            "Epoch 110/200\n",
            "11/11 [==============================] - 2s 145ms/step - loss: 7.5824e-05 - accuracy: 1.0000 - val_loss: 1.2130 - val_accuracy: 0.7755\n",
            "Epoch 111/200\n",
            "11/11 [==============================] - 2s 146ms/step - loss: 1.4771e-04 - accuracy: 1.0000 - val_loss: 0.6112 - val_accuracy: 0.8571\n",
            "Epoch 112/200\n",
            "11/11 [==============================] - 2s 145ms/step - loss: 3.9359e-05 - accuracy: 1.0000 - val_loss: 0.4231 - val_accuracy: 0.9048\n",
            "Epoch 113/200\n",
            "11/11 [==============================] - 2s 146ms/step - loss: 5.5158e-05 - accuracy: 1.0000 - val_loss: 0.3497 - val_accuracy: 0.9184\n",
            "Epoch 114/200\n",
            "11/11 [==============================] - 2s 145ms/step - loss: 4.3718e-05 - accuracy: 1.0000 - val_loss: 0.2763 - val_accuracy: 0.9388\n",
            "Epoch 115/200\n",
            "11/11 [==============================] - 2s 149ms/step - loss: 2.1010e-05 - accuracy: 1.0000 - val_loss: 0.2449 - val_accuracy: 0.9524\n",
            "Epoch 116/200\n",
            "11/11 [==============================] - 2s 149ms/step - loss: 1.4051e-05 - accuracy: 1.0000 - val_loss: 0.2373 - val_accuracy: 0.9524\n",
            "Epoch 117/200\n",
            "11/11 [==============================] - 2s 142ms/step - loss: 2.5015e-05 - accuracy: 1.0000 - val_loss: 0.2347 - val_accuracy: 0.9592\n",
            "Epoch 118/200\n",
            "11/11 [==============================] - 2s 148ms/step - loss: 7.7120e-05 - accuracy: 1.0000 - val_loss: 0.2446 - val_accuracy: 0.9592\n",
            "Epoch 119/200\n",
            "11/11 [==============================] - 2s 147ms/step - loss: 4.1505e-05 - accuracy: 1.0000 - val_loss: 0.2733 - val_accuracy: 0.9592\n",
            "Epoch 120/200\n",
            "11/11 [==============================] - 2s 142ms/step - loss: 3.7109e-05 - accuracy: 1.0000 - val_loss: 0.2639 - val_accuracy: 0.9728\n",
            "Epoch 121/200\n",
            "11/11 [==============================] - 2s 140ms/step - loss: 1.1360e-05 - accuracy: 1.0000 - val_loss: 0.2743 - val_accuracy: 0.9660\n",
            "Epoch 122/200\n",
            "11/11 [==============================] - 2s 149ms/step - loss: 1.6236e-05 - accuracy: 1.0000 - val_loss: 0.2665 - val_accuracy: 0.9728\n",
            "Epoch 123/200\n",
            "11/11 [==============================] - 2s 146ms/step - loss: 1.7670e-05 - accuracy: 1.0000 - val_loss: 0.2484 - val_accuracy: 0.9728\n",
            "Epoch 124/200\n",
            "11/11 [==============================] - 2s 147ms/step - loss: 3.7585e-05 - accuracy: 1.0000 - val_loss: 0.2357 - val_accuracy: 0.9728\n",
            "Epoch 125/200\n",
            "11/11 [==============================] - 2s 147ms/step - loss: 8.9484e-06 - accuracy: 1.0000 - val_loss: 0.2283 - val_accuracy: 0.9728\n",
            "Epoch 126/200\n",
            "11/11 [==============================] - 2s 149ms/step - loss: 6.4909e-05 - accuracy: 1.0000 - val_loss: 0.2162 - val_accuracy: 0.9796\n",
            "Epoch 127/200\n",
            "11/11 [==============================] - 2s 146ms/step - loss: 5.1964e-05 - accuracy: 1.0000 - val_loss: 0.2043 - val_accuracy: 0.9524\n",
            "Epoch 128/200\n",
            "11/11 [==============================] - 2s 147ms/step - loss: 1.1545e-05 - accuracy: 1.0000 - val_loss: 0.2092 - val_accuracy: 0.9524\n",
            "Epoch 129/200\n",
            "11/11 [==============================] - 2s 144ms/step - loss: 5.0213e-05 - accuracy: 1.0000 - val_loss: 0.2788 - val_accuracy: 0.9252\n",
            "Epoch 130/200\n",
            "11/11 [==============================] - 2s 149ms/step - loss: 1.1434e-04 - accuracy: 1.0000 - val_loss: 6.3181 - val_accuracy: 0.5102\n",
            "Epoch 131/200\n",
            "11/11 [==============================] - 2s 146ms/step - loss: 1.6052e-05 - accuracy: 1.0000 - val_loss: 8.0564 - val_accuracy: 0.5102\n",
            "Epoch 132/200\n",
            "11/11 [==============================] - 2s 147ms/step - loss: 2.7991e-04 - accuracy: 1.0000 - val_loss: 5.8270 - val_accuracy: 0.5102\n",
            "Epoch 133/200\n",
            "11/11 [==============================] - 2s 142ms/step - loss: 2.7926e-05 - accuracy: 1.0000 - val_loss: 5.5408 - val_accuracy: 0.5102\n",
            "Epoch 134/200\n",
            "11/11 [==============================] - 2s 144ms/step - loss: 1.5214e-04 - accuracy: 1.0000 - val_loss: 4.9304 - val_accuracy: 0.5102\n",
            "Epoch 135/200\n",
            "11/11 [==============================] - 2s 146ms/step - loss: 1.8568e-05 - accuracy: 1.0000 - val_loss: 5.1025 - val_accuracy: 0.5102\n",
            "Epoch 136/200\n",
            "11/11 [==============================] - 2s 147ms/step - loss: 1.9511e-05 - accuracy: 1.0000 - val_loss: 4.6186 - val_accuracy: 0.5102\n",
            "Epoch 137/200\n",
            "11/11 [==============================] - 2s 147ms/step - loss: 2.0291e-04 - accuracy: 1.0000 - val_loss: 5.2413 - val_accuracy: 0.5102\n",
            "Epoch 138/200\n",
            "11/11 [==============================] - 2s 147ms/step - loss: 3.2799e-05 - accuracy: 1.0000 - val_loss: 5.9378 - val_accuracy: 0.5102\n",
            "Epoch 139/200\n",
            "11/11 [==============================] - 2s 147ms/step - loss: 1.2506e-05 - accuracy: 1.0000 - val_loss: 5.7395 - val_accuracy: 0.5102\n",
            "Epoch 140/200\n",
            "11/11 [==============================] - 2s 144ms/step - loss: 4.1655e-05 - accuracy: 1.0000 - val_loss: 4.9804 - val_accuracy: 0.5102\n",
            "Epoch 141/200\n",
            "11/11 [==============================] - 2s 144ms/step - loss: 2.9597e-05 - accuracy: 1.0000 - val_loss: 4.0059 - val_accuracy: 0.5102\n",
            "Epoch 142/200\n",
            "11/11 [==============================] - 2s 142ms/step - loss: 4.5401e-05 - accuracy: 1.0000 - val_loss: 2.9992 - val_accuracy: 0.5102\n",
            "Epoch 143/200\n",
            "11/11 [==============================] - 2s 141ms/step - loss: 8.8949e-05 - accuracy: 1.0000 - val_loss: 1.4968 - val_accuracy: 0.6054\n",
            "Epoch 144/200\n",
            "11/11 [==============================] - 2s 146ms/step - loss: 6.1299e-04 - accuracy: 1.0000 - val_loss: 1.6420 - val_accuracy: 0.6803\n",
            "Epoch 145/200\n",
            "11/11 [==============================] - 2s 142ms/step - loss: 3.4184e-05 - accuracy: 1.0000 - val_loss: 23.6650 - val_accuracy: 0.5102\n",
            "Epoch 146/200\n",
            "11/11 [==============================] - 2s 144ms/step - loss: 2.7641e-04 - accuracy: 1.0000 - val_loss: 31.0290 - val_accuracy: 0.5102\n",
            "Epoch 147/200\n",
            "11/11 [==============================] - 2s 149ms/step - loss: 0.0218 - accuracy: 0.9942 - val_loss: 85.1555 - val_accuracy: 0.5102\n",
            "Epoch 148/200\n",
            "11/11 [==============================] - 2s 145ms/step - loss: 0.0677 - accuracy: 0.9796 - val_loss: 120.9219 - val_accuracy: 0.5102\n",
            "Epoch 149/200\n",
            "11/11 [==============================] - 2s 147ms/step - loss: 0.0834 - accuracy: 0.9854 - val_loss: 779.7140 - val_accuracy: 0.5102\n",
            "Epoch 150/200\n",
            "11/11 [==============================] - 2s 153ms/step - loss: 0.0747 - accuracy: 0.9738 - val_loss: 703.2835 - val_accuracy: 0.5102\n",
            "Epoch 151/200\n",
            "11/11 [==============================] - 2s 148ms/step - loss: 0.1204 - accuracy: 0.9563 - val_loss: 525.6835 - val_accuracy: 0.5102\n",
            "Epoch 152/200\n",
            "11/11 [==============================] - 2s 148ms/step - loss: 0.0569 - accuracy: 0.9796 - val_loss: 352.7471 - val_accuracy: 0.5102\n",
            "Epoch 153/200\n",
            "11/11 [==============================] - 2s 145ms/step - loss: 0.0153 - accuracy: 1.0000 - val_loss: 359.7945 - val_accuracy: 0.5102\n",
            "Epoch 154/200\n",
            "11/11 [==============================] - 2s 144ms/step - loss: 0.0119 - accuracy: 0.9942 - val_loss: 379.8871 - val_accuracy: 0.5102\n",
            "Epoch 155/200\n",
            "11/11 [==============================] - 2s 149ms/step - loss: 0.0051 - accuracy: 0.9971 - val_loss: 251.2949 - val_accuracy: 0.5102\n",
            "Epoch 156/200\n",
            "11/11 [==============================] - 2s 146ms/step - loss: 0.0031 - accuracy: 1.0000 - val_loss: 249.8981 - val_accuracy: 0.5102\n",
            "Epoch 157/200\n",
            "11/11 [==============================] - 2s 147ms/step - loss: 0.0050 - accuracy: 0.9971 - val_loss: 254.3479 - val_accuracy: 0.5102\n",
            "Epoch 158/200\n",
            "11/11 [==============================] - 2s 146ms/step - loss: 6.0429e-04 - accuracy: 1.0000 - val_loss: 176.0828 - val_accuracy: 0.5102\n",
            "Epoch 159/200\n",
            "11/11 [==============================] - 2s 146ms/step - loss: 0.0010 - accuracy: 1.0000 - val_loss: 152.6552 - val_accuracy: 0.5102\n",
            "Epoch 160/200\n",
            "11/11 [==============================] - 2s 152ms/step - loss: 0.0172 - accuracy: 0.9942 - val_loss: 125.2431 - val_accuracy: 0.5102\n",
            "Epoch 161/200\n",
            "11/11 [==============================] - 2s 150ms/step - loss: 0.0030 - accuracy: 1.0000 - val_loss: 148.2642 - val_accuracy: 0.5102\n",
            "Epoch 162/200\n",
            "11/11 [==============================] - 2s 149ms/step - loss: 0.0042 - accuracy: 0.9971 - val_loss: 134.4413 - val_accuracy: 0.5102\n",
            "Epoch 163/200\n",
            "11/11 [==============================] - 2s 154ms/step - loss: 0.0295 - accuracy: 0.9971 - val_loss: 101.3029 - val_accuracy: 0.5102\n",
            "Epoch 164/200\n",
            "11/11 [==============================] - 2s 147ms/step - loss: 0.0213 - accuracy: 0.9971 - val_loss: 73.7132 - val_accuracy: 0.5102\n",
            "Epoch 165/200\n",
            "11/11 [==============================] - 2s 151ms/step - loss: 0.0040 - accuracy: 1.0000 - val_loss: 85.0664 - val_accuracy: 0.5102\n",
            "Epoch 166/200\n",
            "11/11 [==============================] - 2s 149ms/step - loss: 8.3468e-04 - accuracy: 1.0000 - val_loss: 96.3005 - val_accuracy: 0.5102\n",
            "Epoch 167/200\n",
            "11/11 [==============================] - 2s 154ms/step - loss: 6.1661e-04 - accuracy: 1.0000 - val_loss: 90.9126 - val_accuracy: 0.5102\n",
            "Epoch 168/200\n",
            "11/11 [==============================] - 2s 149ms/step - loss: 7.7258e-04 - accuracy: 1.0000 - val_loss: 76.9608 - val_accuracy: 0.5102\n",
            "Epoch 169/200\n",
            "11/11 [==============================] - 2s 153ms/step - loss: 0.0010 - accuracy: 1.0000 - val_loss: 64.9064 - val_accuracy: 0.5102\n",
            "Epoch 170/200\n",
            "11/11 [==============================] - 2s 151ms/step - loss: 3.2800e-04 - accuracy: 1.0000 - val_loss: 53.8149 - val_accuracy: 0.5102\n",
            "Epoch 171/200\n",
            "11/11 [==============================] - 2s 155ms/step - loss: 6.8913e-04 - accuracy: 1.0000 - val_loss: 43.8608 - val_accuracy: 0.5102\n",
            "Epoch 172/200\n",
            "11/11 [==============================] - 2s 150ms/step - loss: 2.9353e-04 - accuracy: 1.0000 - val_loss: 33.0485 - val_accuracy: 0.5102\n",
            "Epoch 173/200\n",
            "11/11 [==============================] - 2s 152ms/step - loss: 4.6766e-04 - accuracy: 1.0000 - val_loss: 28.4539 - val_accuracy: 0.5102\n",
            "Epoch 174/200\n",
            "11/11 [==============================] - 2s 152ms/step - loss: 2.8870e-04 - accuracy: 1.0000 - val_loss: 25.1969 - val_accuracy: 0.5102\n",
            "Epoch 175/200\n",
            "11/11 [==============================] - 2s 150ms/step - loss: 1.6183e-04 - accuracy: 1.0000 - val_loss: 21.8555 - val_accuracy: 0.5102\n",
            "Epoch 176/200\n",
            "11/11 [==============================] - 2s 149ms/step - loss: 5.9913e-04 - accuracy: 1.0000 - val_loss: 21.8506 - val_accuracy: 0.5102\n",
            "Epoch 177/200\n",
            "11/11 [==============================] - 2s 145ms/step - loss: 9.8690e-05 - accuracy: 1.0000 - val_loss: 19.3773 - val_accuracy: 0.5102\n",
            "Epoch 178/200\n",
            "11/11 [==============================] - 2s 150ms/step - loss: 1.2775e-04 - accuracy: 1.0000 - val_loss: 16.3853 - val_accuracy: 0.5102\n",
            "Epoch 179/200\n",
            "11/11 [==============================] - 2s 146ms/step - loss: 2.9219e-04 - accuracy: 1.0000 - val_loss: 13.4381 - val_accuracy: 0.5102\n",
            "Epoch 180/200\n",
            "11/11 [==============================] - 2s 143ms/step - loss: 4.5011e-04 - accuracy: 1.0000 - val_loss: 12.7880 - val_accuracy: 0.5102\n",
            "Epoch 181/200\n",
            "11/11 [==============================] - 2s 150ms/step - loss: 0.0014 - accuracy: 1.0000 - val_loss: 7.9461 - val_accuracy: 0.5170\n",
            "Epoch 182/200\n",
            "11/11 [==============================] - 2s 156ms/step - loss: 3.8874e-04 - accuracy: 1.0000 - val_loss: 6.1214 - val_accuracy: 0.5238\n",
            "Epoch 183/200\n",
            "11/11 [==============================] - 2s 154ms/step - loss: 2.3845e-04 - accuracy: 1.0000 - val_loss: 5.5216 - val_accuracy: 0.5374\n",
            "Epoch 184/200\n",
            "11/11 [==============================] - 2s 158ms/step - loss: 8.3731e-04 - accuracy: 1.0000 - val_loss: 11.7647 - val_accuracy: 0.5102\n",
            "Epoch 185/200\n",
            "11/11 [==============================] - 2s 151ms/step - loss: 7.1455e-05 - accuracy: 1.0000 - val_loss: 13.5828 - val_accuracy: 0.5102\n",
            "Epoch 186/200\n",
            "11/11 [==============================] - 2s 152ms/step - loss: 8.1801e-05 - accuracy: 1.0000 - val_loss: 12.8216 - val_accuracy: 0.5102\n",
            "Epoch 187/200\n",
            "11/11 [==============================] - 2s 151ms/step - loss: 3.6402e-04 - accuracy: 1.0000 - val_loss: 11.0227 - val_accuracy: 0.5102\n",
            "Epoch 188/200\n",
            "11/11 [==============================] - 2s 151ms/step - loss: 2.9210e-04 - accuracy: 1.0000 - val_loss: 9.0180 - val_accuracy: 0.5170\n",
            "Epoch 189/200\n",
            "11/11 [==============================] - 2s 150ms/step - loss: 1.5175e-04 - accuracy: 1.0000 - val_loss: 7.1563 - val_accuracy: 0.5306\n",
            "Epoch 190/200\n",
            "11/11 [==============================] - 2s 151ms/step - loss: 3.4949e-04 - accuracy: 1.0000 - val_loss: 5.8713 - val_accuracy: 0.5306\n",
            "Epoch 191/200\n",
            "11/11 [==============================] - 2s 151ms/step - loss: 7.1858e-05 - accuracy: 1.0000 - val_loss: 6.6140 - val_accuracy: 0.5306\n",
            "Epoch 192/200\n",
            "11/11 [==============================] - 2s 153ms/step - loss: 5.0190e-04 - accuracy: 1.0000 - val_loss: 6.0153 - val_accuracy: 0.5306\n",
            "Epoch 193/200\n",
            "11/11 [==============================] - 2s 150ms/step - loss: 0.0014 - accuracy: 1.0000 - val_loss: 0.4239 - val_accuracy: 0.8912\n",
            "Epoch 194/200\n",
            "11/11 [==============================] - 2s 154ms/step - loss: 1.7825e-04 - accuracy: 1.0000 - val_loss: 0.2633 - val_accuracy: 0.9252\n",
            "Epoch 195/200\n",
            "11/11 [==============================] - 2s 152ms/step - loss: 1.0416e-04 - accuracy: 1.0000 - val_loss: 0.2816 - val_accuracy: 0.9252\n",
            "Epoch 196/200\n",
            "11/11 [==============================] - 2s 154ms/step - loss: 4.6814e-05 - accuracy: 1.0000 - val_loss: 0.2874 - val_accuracy: 0.9252\n",
            "Epoch 197/200\n",
            "11/11 [==============================] - 2s 169ms/step - loss: 1.3576e-04 - accuracy: 1.0000 - val_loss: 0.2861 - val_accuracy: 0.9252\n",
            "Epoch 198/200\n",
            "11/11 [==============================] - 2s 162ms/step - loss: 4.5025e-05 - accuracy: 1.0000 - val_loss: 0.2737 - val_accuracy: 0.9252\n",
            "Epoch 199/200\n",
            "11/11 [==============================] - 2s 163ms/step - loss: 7.2461e-04 - accuracy: 1.0000 - val_loss: 0.2546 - val_accuracy: 0.9320\n",
            "Epoch 200/200\n",
            "11/11 [==============================] - 2s 163ms/step - loss: 5.2881e-05 - accuracy: 1.0000 - val_loss: 0.2472 - val_accuracy: 0.9456\n"
          ]
        }
      ]
    },
    {
      "cell_type": "code",
      "metadata": {
        "id": "cSTlOSUBWMpj"
      },
      "source": [
        "Y_test = yback(Y_test)"
      ],
      "execution_count": 21,
      "outputs": []
    },
    {
      "cell_type": "code",
      "metadata": {
        "id": "FDVY6HbxMOlH",
        "colab": {
          "base_uri": "https://localhost:8080/"
        },
        "outputId": "12ed191c-cc06-40e7-e428-859c44a482fa"
      },
      "source": [
        "# pred_test= model.predict_classes(X_test)\n",
        "pred_test = np.argmax(model.predict(X_test), axis=-1)\n",
        "\n",
        "data = {'y_true': Y_test,'y_predict': pred_test}  # este dado esta no formato de dicionario\n",
        "\n",
        "df = pd.DataFrame(data, columns=['y_true','y_predict'])\n",
        "\n",
        "\n",
        "confusion_matrix = pd.crosstab(df['y_true'], df['y_predict'], rownames=['Actual'], colnames=['Predict'])\n",
        "print(confusion_matrix)\n",
        "\n",
        "y_true = df['y_true']\n",
        "y_pred = df['y_predict']\n",
        "\n",
        "  \n",
        "METRICS=sklearn.metrics.classification_report(y_true, y_pred)"
      ],
      "execution_count": 22,
      "outputs": [
        {
          "output_type": "stream",
          "name": "stdout",
          "text": [
            "Predict   0   1\n",
            "Actual         \n",
            "0        70   2\n",
            "1         6  69\n"
          ]
        }
      ]
    },
    {
      "cell_type": "code",
      "metadata": {
        "id": "m7pT2q7traXg",
        "colab": {
          "base_uri": "https://localhost:8080/"
        },
        "outputId": "7be75caf-4204-4f13-bb62-21756f7e4bb8"
      },
      "source": [
        "print(METRICS)"
      ],
      "execution_count": 23,
      "outputs": [
        {
          "output_type": "stream",
          "name": "stdout",
          "text": [
            "              precision    recall  f1-score   support\n",
            "\n",
            "           0       0.92      0.97      0.95        72\n",
            "           1       0.97      0.92      0.95        75\n",
            "\n",
            "    accuracy                           0.95       147\n",
            "   macro avg       0.95      0.95      0.95       147\n",
            "weighted avg       0.95      0.95      0.95       147\n",
            "\n"
          ]
        }
      ]
    },
    {
      "cell_type": "code",
      "metadata": {
        "id": "_iFNNrlWV9tH",
        "colab": {
          "base_uri": "https://localhost:8080/"
        },
        "outputId": "7691a184-3292-4777-e1bd-a0643cfaf907"
      },
      "source": [
        "pred_test"
      ],
      "execution_count": 24,
      "outputs": [
        {
          "output_type": "execute_result",
          "data": {
            "text/plain": [
              "array([1, 0, 1, 1, 1, 1, 0, 0, 1, 0, 0, 0, 1, 0, 1, 0, 1, 0, 1, 0, 0, 0,\n",
              "       1, 0, 0, 0, 0, 1, 0, 1, 0, 0, 1, 1, 0, 0, 0, 0, 0, 0, 1, 1, 1, 0,\n",
              "       0, 0, 0, 1, 1, 1, 1, 0, 0, 1, 0, 0, 1, 0, 1, 0, 0, 1, 0, 1, 1, 1,\n",
              "       0, 1, 1, 1, 1, 0, 1, 1, 0, 0, 1, 1, 0, 0, 1, 1, 1, 1, 0, 0, 0, 0,\n",
              "       1, 0, 0, 1, 0, 1, 1, 0, 1, 1, 1, 0, 1, 1, 1, 0, 1, 0, 1, 1, 0, 0,\n",
              "       0, 1, 1, 1, 1, 1, 1, 1, 0, 1, 0, 0, 0, 1, 1, 0, 0, 0, 0, 0, 0, 1,\n",
              "       0, 1, 0, 0, 0, 1, 0, 0, 1, 1, 1, 0, 0, 0, 1])"
            ]
          },
          "metadata": {},
          "execution_count": 24
        }
      ]
    },
    {
      "cell_type": "code",
      "metadata": {
        "id": "C5pq5z8DHeJ0",
        "colab": {
          "base_uri": "https://localhost:8080/",
          "height": 35
        },
        "outputId": "f5669d7b-0024-412e-9b8b-5fbf6899cfb7"
      },
      "source": [
        "'''\n",
        "img=ww[4] \n",
        "df=Segmenta(img)\n",
        "df.shape\n",
        "'''"
      ],
      "execution_count": 25,
      "outputs": [
        {
          "output_type": "execute_result",
          "data": {
            "application/vnd.google.colaboratory.intrinsic+json": {
              "type": "string"
            },
            "text/plain": [
              "'\\nimg=ww[4] \\ndf=Segmenta(img)\\ndf.shape\\n'"
            ]
          },
          "metadata": {},
          "execution_count": 25
        }
      ]
    },
    {
      "cell_type": "code",
      "metadata": {
        "id": "A8ofkAXlS-0F"
      },
      "source": [
        "Sample3 =[2, 5, 17] # \n",
        "# [2, 5, 17] sample 7---  [4,13,25] sample 3----[0, 3, 9] sample 8\n",
        "\n",
        "for i in range(Repetir):\n",
        "  k = 0\n",
        "  for i in Sample3:\n",
        "    img=ww[i]\n",
        "    if( k > 0):\n",
        "      df_old = df_ann.copy()\n",
        "    df_ann=Segmenta(img)\n",
        "    if(k > 0):\n",
        "      df_ann = pd.concat( [df_ann, df_old], ignore_index = True)\n",
        "    k = k + 1\n",
        "#df_ann = df.copy\n",
        "\n",
        "df_teste = np.array(df_ann)\n",
        "names = df_ann.columns\n",
        "df_teste = pd.DataFrame(df_teste,columns=names)\n",
        "Width = df_ann['Width']\n",
        "#del df_ann['Width']\n",
        "names = df_ann.columns\n",
        "del df_ann['Width']\n",
        "result = np.array(df_ann)\n",
        "result = result.reshape(-1, Img_Size, Img_Size, 1) / 255.0\n",
        "prediction= np.argmax(model.predict(result), axis=-1)"
      ],
      "execution_count": null,
      "outputs": []
    },
    {
      "cell_type": "code",
      "metadata": {
        "id": "_kfx72YkUYiz"
      },
      "source": [
        "df_ann"
      ],
      "execution_count": null,
      "outputs": []
    },
    {
      "cell_type": "code",
      "metadata": {
        "id": "31usb3UnY7lD"
      },
      "source": [
        "df_teste.shape # por que esta saindo 100 ???????"
      ],
      "execution_count": null,
      "outputs": []
    },
    {
      "cell_type": "code",
      "metadata": {
        "id": "zVHUUaL8XXs-"
      },
      "source": [
        "#df_ann"
      ],
      "execution_count": null,
      "outputs": []
    },
    {
      "cell_type": "code",
      "metadata": {
        "id": "-QBV18nYTaNE"
      },
      "source": [
        "img_graos = []\n",
        "Width_new = []\n",
        "k = 0\n",
        "for i in prediction:\n",
        "  if( i == 0):\n",
        "    img_graos.append(df_teste.iloc[k,:])\n",
        "    Width_new.append(Width.iloc[k])\n",
        "\n",
        "  k = k +1\n",
        "\n",
        "img_graos = pd.DataFrame(img_graos, columns=names )\n"
      ],
      "execution_count": null,
      "outputs": []
    },
    {
      "cell_type": "code",
      "metadata": {
        "id": "UMCLCNQobH-d"
      },
      "source": [
        "img_graos.shape"
      ],
      "execution_count": null,
      "outputs": []
    },
    {
      "cell_type": "code",
      "metadata": {
        "id": "touLevDmbBx5"
      },
      "source": [
        "prediction"
      ],
      "execution_count": null,
      "outputs": []
    },
    {
      "cell_type": "code",
      "metadata": {
        "id": "r4RSVgX4UhbC"
      },
      "source": [
        "img_graos.shape"
      ],
      "execution_count": null,
      "outputs": []
    },
    {
      "cell_type": "code",
      "metadata": {
        "id": "6LkA4vHp-f6_"
      },
      "source": [
        "Width=np.array(Width_new)"
      ],
      "execution_count": null,
      "outputs": []
    },
    {
      "cell_type": "code",
      "metadata": {
        "id": "MjRbWgmX_LFH"
      },
      "source": [
        "!git clone https://github.com/ucfilho/marquesgabi_paper_fev_2021\n",
        "%cd marquesgabi_paper_fev_2021\n",
        "\n",
        "from Get_PSDArea_Revival import PSDArea\n",
        "from histogram_fev_2021 import PSD\n",
        "#from GetBetterSegm import GetBetter"
      ],
      "execution_count": null,
      "outputs": []
    },
    {
      "cell_type": "code",
      "metadata": {
        "id": "WAG_I6FwCvFr"
      },
      "source": [
        "#https://github.com/marquesgabi/Doutorado/blob/master/Amostra7.csv\n",
        "#!git clone https://github.com/ucfilho/marquesgabi_out_2020\n",
        "!git clone https://github.com/marquesgabi/Doutorado\n",
        "#%cd marquesgabi_out_2020\n",
        "%cd Doutorado\n",
        "PSD_imageJ = 'Amostra7.csv' \n",
        "#PSD_new = pd.read_csv(PSD_imageJ,sep=';')\n",
        "#encoding='utf8'\n",
        "\n",
        "#PSD_imageJ = 'Areas_ImageJ.csv'\n",
        "PSD_new = pd.read_csv(PSD_imageJ)\n",
        "print(PSD_new.head(3))\n",
        "''''''"
      ],
      "execution_count": null,
      "outputs": []
    },
    {
      "cell_type": "code",
      "metadata": {
        "id": "t_1WIM8w7poO"
      },
      "source": [
        "Area_All, Diameter_All=PSDArea(img_graos) "
      ],
      "execution_count": null,
      "outputs": []
    },
    {
      "cell_type": "code",
      "metadata": {
        "id": "bB3gOFPeDtoH"
      },
      "source": [
        "Width.shape"
      ],
      "execution_count": null,
      "outputs": []
    },
    {
      "cell_type": "code",
      "metadata": {
        "id": "3nO6cSz2dIqb"
      },
      "source": [
        "img_graos.shape"
      ],
      "execution_count": null,
      "outputs": []
    },
    {
      "cell_type": "code",
      "metadata": {
        "id": "PekBHQOT_6CP"
      },
      "source": [
        "img_graos.head()"
      ],
      "execution_count": null,
      "outputs": []
    },
    {
      "cell_type": "code",
      "metadata": {
        "id": "VaZPe_AxNBK9"
      },
      "source": [
        "PSD_new.shape"
      ],
      "execution_count": null,
      "outputs": []
    },
    {
      "cell_type": "code",
      "metadata": {
        "id": "4vmhG2LgCabC"
      },
      "source": [
        "Diam1 =[]\n",
        "'''\n",
        "# \n",
        "Area = df_ImgJ['Area'].values\n",
        "# Area = np.concatenate( (Area, [lost_value] ) )\n",
        "\n",
        "Diam1 = [ (4*A/np.pi)**0.5 for A in Area]\n",
        "'''\n"
      ],
      "execution_count": null,
      "outputs": []
    },
    {
      "cell_type": "code",
      "metadata": {
        "id": "79MY9ZHxBW37"
      },
      "source": [
        "len(Diameter_All)"
      ],
      "execution_count": null,
      "outputs": []
    },
    {
      "cell_type": "code",
      "metadata": {
        "id": "KooHVpH5k2mZ"
      },
      "source": [
        "A=PSD_new[';Area'].values\n",
        "k = 0\n",
        "Area2 = []\n",
        "for i in A:\n",
        "  if(A[k][2] == ';'):\n",
        "    Area2.append(float(A[k][3:]))\n",
        "  else:\n",
        "      Area2.append(float(A[k][2:]))  \n",
        "  k = k +1\n",
        "print(Area2)"
      ],
      "execution_count": null,
      "outputs": []
    },
    {
      "cell_type": "code",
      "metadata": {
        "id": "lvda6sN-9voL"
      },
      "source": [
        "len(Area2)"
      ],
      "execution_count": null,
      "outputs": []
    },
    {
      "cell_type": "code",
      "metadata": {
        "id": "tPWCPPf7bzsf"
      },
      "source": [
        "#lost_value = float(PSD_new.columns[1])\n",
        "#Area2 = np.array(PSD_new.iloc[:,1])\n",
        "#Area2 = np.concatenate( (Area2, [lost_value] ) )\n",
        "Area2 = PSD_new[';Area'].values\n",
        "for A in Area2:\n",
        "  Diam1.append((4*A/np.pi)**0.5) \n"
      ],
      "execution_count": null,
      "outputs": []
    },
    {
      "cell_type": "code",
      "metadata": {
        "id": "Vfk_fNXGDK5_"
      },
      "source": [
        "wt1 = np.ones(len(Diam1)) / len(Diam1)*100\n",
        "wt2 = np.ones(len(Diameter_All)) / len(Diameter_All)*100\n",
        "X = pd.DataFrame([Diam1,Diameter_All])\n",
        "wts = pd.DataFrame([wt1,wt2])\n"
      ],
      "execution_count": null,
      "outputs": []
    },
    {
      "cell_type": "code",
      "metadata": {
        "id": "xWf2nmnEp6yX"
      },
      "source": [
        "X"
      ],
      "execution_count": null,
      "outputs": []
    },
    {
      "cell_type": "code",
      "metadata": {
        "id": "VzFRjY4BLtbh"
      },
      "source": [
        "Diameter_All"
      ],
      "execution_count": null,
      "outputs": []
    },
    {
      "cell_type": "code",
      "metadata": {
        "id": "OieAXw_by3nz"
      },
      "source": [
        "A = plt.hist(X,weights=wts,bins=7)\n",
        "plt.legend(['True','CNN'])"
      ],
      "execution_count": null,
      "outputs": []
    },
    {
      "cell_type": "code",
      "metadata": {
        "id": "WryLryB9ovi3"
      },
      "source": [
        "print('ImgJ:','media=',np.mean(np.array(Diam1)),'desvio=',np.std(np.array(Diam1)),'pontos=',len(Diam1))"
      ],
      "execution_count": null,
      "outputs": []
    },
    {
      "cell_type": "code",
      "metadata": {
        "id": "s_Nyv-Nopbkc"
      },
      "source": [
        "print('Software:','media=',np.mean(np.array(Diameter_All)),'desvio=',np.std(np.array(Diameter_All)),'pontos=',len(Diameter_All))"
      ],
      "execution_count": null,
      "outputs": []
    },
    {
      "cell_type": "code",
      "metadata": {
        "id": "eE6PjA0SZ8ZQ"
      },
      "source": [
        "# Software: media= 1.3185563233999378 desvio= 0.2728642468732428 pontos= 66 theshold =0.8 e repete=80\n",
        "# Software: media= 1.2650227960747715 desvio= 0.22942393421076387 pontos= 20 theshold =0.5 e repete=40"
      ],
      "execution_count": null,
      "outputs": []
    },
    {
      "cell_type": "code",
      "metadata": {
        "id": "HpdrvEySy8Ij"
      },
      "source": [
        "np.mean(np.array(Diameter_All))"
      ],
      "execution_count": null,
      "outputs": []
    },
    {
      "cell_type": "code",
      "metadata": {
        "id": "yMK89w-fzCVe"
      },
      "source": [
        "# Freq1 = [19.12043703, 29.22484843, 19.35872174, 20.82190224, 11.47409056] # avarage 4 samples\n",
        "Freq1 = [20.69301557, 28.55598044, 18.50768331, 22.7106327, 8.905907357] # avarage 10 samples\n",
        "#Freq2 = [16.93792791, 31.38008965, 24.93810752, 18.56158392, 6.233810752, 0.4]\n",
        "Freq2 = [16.93792791, 31.38008965, 24.93810752, 18.56158392, 6.633810752]\n",
        "Freq3 = [22.22489, 30.15078, 25.10463, 19.30926, 2.810434]\n",
        "barWidth = 0.25\n",
        "\n",
        "br1 = range(len(Freq1))\n",
        "# Set position of bar on X axis\n",
        "br2 = [x + barWidth for x in br1]\n",
        "br3 = [x + barWidth for x in br2]\n",
        "# labels = [0.8, 1.0, 1.2, 1.4, 1.6, 1.8]\n",
        "labels = [0.8, 1.0, 1.2, 1.4, 1.6]\n",
        "\n",
        "xx=[]\n",
        "for a in labels:\n",
        "  xx.append(str(a))\n",
        "plt.bar(br1, Freq1 , color=\"green\", align=\"center\", width=0.3, tick_label= xx) \n",
        "plt.bar(br2, Freq2 , color=\"red\", align=\"center\", width=0.3, tick_label= xx)\n",
        "plt.bar(br3, Freq3 , color=\"blue\", align=\"center\", width=0.3, tick_label= xx)\n",
        "plt.legend(['CNN 1','CNN 2','True'])"
      ],
      "execution_count": null,
      "outputs": []
    }
  ]
}