{
  "nbformat": 4,
  "nbformat_minor": 0,
  "metadata": {
    "colab": {
      "name": "PSD_histogram_final_amostra_03_nov_25_2021.ipynb",
      "provenance": [],
      "collapsed_sections": [],
      "include_colab_link": true
    },
    "kernelspec": {
      "display_name": "Python 3",
      "name": "python3"
    }
  },
  "cells": [
    {
      "cell_type": "markdown",
      "metadata": {
        "id": "view-in-github",
        "colab_type": "text"
      },
      "source": [
        "<a href=\"https://colab.research.google.com/github/ucfilho/marquesgabi_paper_fev_2021/blob/main/defesa/PSD_histogram_final_amostra_03_nov_25_2021.ipynb\" target=\"_parent\"><img src=\"https://colab.research.google.com/assets/colab-badge.svg\" alt=\"Open In Colab\"/></a>"
      ]
    },
    {
      "cell_type": "code",
      "metadata": {
        "id": "Sog7Z9pyhUD_"
      },
      "source": [
        "import matplotlib.pyplot as plt\n",
        "import numpy as np\n",
        "import cv2\n",
        "import zipfile\n",
        "#import random\n",
        "from random import randint\n",
        "from PIL import Image\n",
        "import re\n",
        "from sklearn.model_selection import train_test_split\n",
        "#import scikit-image\n",
        "import skimage\n",
        "import sklearn\n",
        "import pandas as pd\n",
        "from keras.models import Sequential\n",
        "from keras.layers import Dense, Activation, Conv2D, MaxPooling2D, Flatten, Dropout, BatchNormalization\n",
        "from sklearn.metrics import r2_score\n",
        "from google.colab import files"
      ],
      "execution_count": 1,
      "outputs": []
    },
    {
      "cell_type": "code",
      "metadata": {
        "id": "uZEvJvfoibE4"
      },
      "source": [
        "#!pip install mahotas"
      ],
      "execution_count": 2,
      "outputs": []
    },
    {
      "cell_type": "code",
      "metadata": {
        "id": "3UZ30b1EVQhq"
      },
      "source": [
        "def BlackWhite(Transfere,Size):\n",
        "\n",
        "  img_name=[]\n",
        "  xw=[]\n",
        "  ww=[]\n",
        "\n",
        "  with zipfile.ZipFile(Transfere, \"r\") as f:\n",
        "    for name in f.namelist():\n",
        "      img_name.append(name)\n",
        "      #xw.append(cv2.imread(name))\n",
        "      xw.append(cv2.resize(cv2.imread(name),(Size,Size)))\n",
        "\n",
        "  nrow=len(img_name)\n",
        "  ncol=Size*Size\n",
        "  pw=np.zeros((nrow,ncol))\n",
        "  #pw=[]\n",
        "  for i in range(nrow):\n",
        "    ww.append(cv2.cvtColor(np.array(xw[i]), cv2.COLOR_BGR2GRAY))\n",
        "    pw[i,:]=ww[i].ravel()\n",
        "  return ww,img_name"
      ],
      "execution_count": 3,
      "outputs": []
    },
    {
      "cell_type": "code",
      "metadata": {
        "colab": {
          "base_uri": "https://localhost:8080/"
        },
        "id": "1v7SRrc8mH2N",
        "outputId": "064ecd7b-8c44-46ae-bdbe-3dea3785a3c4"
      },
      "source": [
        "!git clone https://github.com/marquesgabi/Doutorado\n",
        "%cd Doutorado\n",
        "\n",
        "Transfere='Fotos_Grandes_3cdAmostra.zip' \n",
        "file_name = zipfile.ZipFile(Transfere, 'r')\n",
        "file_name.extractall()"
      ],
      "execution_count": 4,
      "outputs": [
        {
          "output_type": "stream",
          "name": "stdout",
          "text": [
            "fatal: destination path 'Doutorado' already exists and is not an empty directory.\n",
            "/content/Doutorado\n"
          ]
        }
      ]
    },
    {
      "cell_type": "code",
      "metadata": {
        "colab": {
          "base_uri": "https://localhost:8080/"
        },
        "id": "NqIYzUcnrdMp",
        "outputId": "ad888d63-db24-4506-ad78-a5ad41c1f616"
      },
      "source": [
        "labels =[]\n",
        "with zipfile.ZipFile(Transfere, \"r\") as f:\n",
        "  for f in f.namelist():\n",
        "    labels.append(f)\n",
        "print(labels)"
      ],
      "execution_count": 5,
      "outputs": [
        {
          "output_type": "stream",
          "name": "stdout",
          "text": [
            "['Fotos_Grandes-3cdAmostra/Q6-8-4.jpg', 'Fotos_Grandes-3cdAmostra/Q6-5-3.jpg', 'Fotos_Grandes-3cdAmostra/Q6-7-4.jpg', 'Fotos_Grandes-3cdAmostra/Q6-8-2.jpg', 'Fotos_Grandes-3cdAmostra/Q6-3-2.jpg', 'Fotos_Grandes-3cdAmostra/Q6-7-2.jpg', 'Fotos_Grandes-3cdAmostra/Q6-4-4.jpg', 'Fotos_Grandes-3cdAmostra/Q6-9-5.jpg', 'Fotos_Grandes-3cdAmostra/Q6-2-5.jpg', 'Fotos_Grandes-3cdAmostra/Q6-8-3.jpg', 'Fotos_Grandes-3cdAmostra/Q6-9-3.jpg', 'Fotos_Grandes-3cdAmostra/Q6-1-2.jpg', 'Fotos_Grandes-3cdAmostra/Q6-6-3.jpg', 'Fotos_Grandes-3cdAmostra/Q6-3-4.jpg', 'Fotos_Grandes-3cdAmostra/Q6-1-4.jpg', 'Fotos_Grandes-3cdAmostra/Q6-6-2.jpg', 'Fotos_Grandes-3cdAmostra/Q6-4-3.jpg', 'Fotos_Grandes-3cdAmostra/Q6-7-3.jpg', 'Fotos_Grandes-3cdAmostra/Q6-2-2.jpg', 'Fotos_Grandes-3cdAmostra/Q6-9-2.jpg', 'Fotos_Grandes-3cdAmostra/Q6-1-5.jpg', 'Fotos_Grandes-3cdAmostra/Q6-6-5.jpg', 'Fotos_Grandes-3cdAmostra/Q6-2-1.jpg', 'Fotos_Grandes-3cdAmostra/Q6-5-2.jpg', 'Fotos_Grandes-3cdAmostra/Q6-4-1.jpg', 'Fotos_Grandes-3cdAmostra/Q6-3-1.jpg', 'Fotos_Grandes-3cdAmostra/Q6-5-4.jpg']\n"
          ]
        }
      ]
    },
    {
      "cell_type": "code",
      "metadata": {
        "id": "0kA4IWSmasoD"
      },
      "source": [
        "Size=1200 # tamanho da foto\n",
        "ww,img_name=BlackWhite(Transfere,Size) #Pegamos a primeira foto Grande\n",
        "# this is the big image we want to segment \n",
        "# ww[0], change it if you want to segment another picture"
      ],
      "execution_count": 6,
      "outputs": []
    },
    {
      "cell_type": "code",
      "metadata": {
        "colab": {
          "base_uri": "https://localhost:8080/"
        },
        "id": "tHgqAnaFyCjp",
        "outputId": "81b6202b-6ce3-498d-b03a-f9149b54c042"
      },
      "source": [
        "!git clone https://github.com/ucfilho/MarquesGabi_Routines\n",
        "%cd MarquesGabi_Routines"
      ],
      "execution_count": 7,
      "outputs": [
        {
          "output_type": "stream",
          "name": "stdout",
          "text": [
            "fatal: destination path 'MarquesGabi_Routines' already exists and is not an empty directory.\n",
            "/content/Doutorado/MarquesGabi_Routines\n"
          ]
        }
      ]
    },
    {
      "cell_type": "code",
      "metadata": {
        "id": "XDEGUiuubwuZ"
      },
      "source": [
        "FILE='SugarSample03.zip'\n",
        "img_name=[]\n",
        "x_original = [] \n",
        "\n",
        "data_file ='xls'\n",
        "\n",
        "\n",
        "file_name = zipfile.ZipFile(FILE, 'r')\n",
        "file_name.extractall()\n",
        "\n",
        "k = 0\n",
        "with zipfile.ZipFile(FILE, \"r\") as f:\n",
        "    for name in f.namelist():\n",
        "      if(name[-3:] == data_file):\n",
        "        #df =pd.read_csv(name)\n",
        "        if( k > 0):\n",
        "          df_old = df_ImgJ.copy()\n",
        "        df_ImgJ = pd.read_excel(name)\n",
        "        df_ImgJ = df_ImgJ.drop(labels=[0], axis=0)\n",
        "        if(k > 0):\n",
        "          df_ImgJ = pd.concat( [df_ImgJ, df_old], ignore_index = True)\n",
        "        k = k + 1"
      ],
      "execution_count": 8,
      "outputs": []
    },
    {
      "cell_type": "code",
      "metadata": {
        "id": "XbQ0tal0etXx",
        "colab": {
          "base_uri": "https://localhost:8080/"
        },
        "outputId": "7bf67eb2-4f1f-484d-83c8-18b3f937394c"
      },
      "source": [
        "f.namelist()"
      ],
      "execution_count": 9,
      "outputs": [
        {
          "output_type": "execute_result",
          "data": {
            "text/plain": [
              "['Results_03_02.xls', 'Results_03_03.xls', 'Results_03_01.xls']"
            ]
          },
          "metadata": {},
          "execution_count": 9
        }
      ]
    },
    {
      "cell_type": "code",
      "metadata": {
        "id": "QSYrykxxGJ5d",
        "colab": {
          "base_uri": "https://localhost:8080/"
        },
        "outputId": "92ad20f3-6297-499b-a045-76ecb2340467"
      },
      "source": [
        "df_ImgJ.shape"
      ],
      "execution_count": 10,
      "outputs": [
        {
          "output_type": "execute_result",
          "data": {
            "text/plain": [
              "(174, 13)"
            ]
          },
          "metadata": {},
          "execution_count": 10
        }
      ]
    },
    {
      "cell_type": "code",
      "metadata": {
        "id": "1KDJn09lGTBD",
        "colab": {
          "base_uri": "https://localhost:8080/",
          "height": 206
        },
        "outputId": "5b625686-242f-4229-c19b-0014d53cff84"
      },
      "source": [
        "df_ImgJ.head()"
      ],
      "execution_count": 11,
      "outputs": [
        {
          "output_type": "execute_result",
          "data": {
            "text/html": [
              "<div>\n",
              "<style scoped>\n",
              "    .dataframe tbody tr th:only-of-type {\n",
              "        vertical-align: middle;\n",
              "    }\n",
              "\n",
              "    .dataframe tbody tr th {\n",
              "        vertical-align: top;\n",
              "    }\n",
              "\n",
              "    .dataframe thead th {\n",
              "        text-align: right;\n",
              "    }\n",
              "</style>\n",
              "<table border=\"1\" class=\"dataframe\">\n",
              "  <thead>\n",
              "    <tr style=\"text-align: right;\">\n",
              "      <th></th>\n",
              "      <th></th>\n",
              "      <th>Area</th>\n",
              "      <th>Mean</th>\n",
              "      <th>Min</th>\n",
              "      <th>Max</th>\n",
              "      <th>Major</th>\n",
              "      <th>Minor</th>\n",
              "      <th>Angle</th>\n",
              "      <th>Feret</th>\n",
              "      <th>FeretX</th>\n",
              "      <th>FeretY</th>\n",
              "      <th>FeretAngle</th>\n",
              "      <th>MinFeret</th>\n",
              "    </tr>\n",
              "  </thead>\n",
              "  <tbody>\n",
              "    <tr>\n",
              "      <th>0</th>\n",
              "      <td>2</td>\n",
              "      <td>1.288</td>\n",
              "      <td>255</td>\n",
              "      <td>255</td>\n",
              "      <td>255</td>\n",
              "      <td>1.383</td>\n",
              "      <td>1.185</td>\n",
              "      <td>5.847</td>\n",
              "      <td>1.636</td>\n",
              "      <td>767</td>\n",
              "      <td>213</td>\n",
              "      <td>18.157</td>\n",
              "      <td>1.161</td>\n",
              "    </tr>\n",
              "    <tr>\n",
              "      <th>1</th>\n",
              "      <td>3</td>\n",
              "      <td>0.407</td>\n",
              "      <td>255</td>\n",
              "      <td>255</td>\n",
              "      <td>255</td>\n",
              "      <td>0.814</td>\n",
              "      <td>0.637</td>\n",
              "      <td>62.186</td>\n",
              "      <td>0.877</td>\n",
              "      <td>283</td>\n",
              "      <td>234</td>\n",
              "      <td>59.036</td>\n",
              "      <td>0.667</td>\n",
              "    </tr>\n",
              "    <tr>\n",
              "      <th>2</th>\n",
              "      <td>4</td>\n",
              "      <td>0.592</td>\n",
              "      <td>255</td>\n",
              "      <td>255</td>\n",
              "      <td>255</td>\n",
              "      <td>0.925</td>\n",
              "      <td>0.815</td>\n",
              "      <td>117.923</td>\n",
              "      <td>1.078</td>\n",
              "      <td>633</td>\n",
              "      <td>154</td>\n",
              "      <td>122.335</td>\n",
              "      <td>0.802</td>\n",
              "    </tr>\n",
              "    <tr>\n",
              "      <th>3</th>\n",
              "      <td>5</td>\n",
              "      <td>1.391</td>\n",
              "      <td>255</td>\n",
              "      <td>255</td>\n",
              "      <td>255</td>\n",
              "      <td>1.435</td>\n",
              "      <td>1.235</td>\n",
              "      <td>29.966</td>\n",
              "      <td>1.564</td>\n",
              "      <td>1321</td>\n",
              "      <td>333</td>\n",
              "      <td>53.253</td>\n",
              "      <td>1.165</td>\n",
              "    </tr>\n",
              "    <tr>\n",
              "      <th>4</th>\n",
              "      <td>6</td>\n",
              "      <td>0.549</td>\n",
              "      <td>255</td>\n",
              "      <td>255</td>\n",
              "      <td>255</td>\n",
              "      <td>0.923</td>\n",
              "      <td>0.758</td>\n",
              "      <td>136.396</td>\n",
              "      <td>1.024</td>\n",
              "      <td>370</td>\n",
              "      <td>254</td>\n",
              "      <td>118.237</td>\n",
              "      <td>0.738</td>\n",
              "    </tr>\n",
              "  </tbody>\n",
              "</table>\n",
              "</div>"
            ],
            "text/plain": [
              "       Area  Mean  Min  Max  ...  Feret  FeretX  FeretY  FeretAngle  MinFeret\n",
              "0  2  1.288   255  255  255  ...  1.636     767     213      18.157     1.161\n",
              "1  3  0.407   255  255  255  ...  0.877     283     234      59.036     0.667\n",
              "2  4  0.592   255  255  255  ...  1.078     633     154     122.335     0.802\n",
              "3  5  1.391   255  255  255  ...  1.564    1321     333      53.253     1.165\n",
              "4  6  0.549   255  255  255  ...  1.024     370     254     118.237     0.738\n",
              "\n",
              "[5 rows x 13 columns]"
            ]
          },
          "metadata": {},
          "execution_count": 11
        }
      ]
    },
    {
      "cell_type": "code",
      "metadata": {
        "id": "MMBJ6C-YdF3q",
        "colab": {
          "base_uri": "https://localhost:8080/",
          "height": 206
        },
        "outputId": "f4a9f8ce-35dc-42bd-87dd-eae6f4369730"
      },
      "source": [
        "df_ImgJ.head()"
      ],
      "execution_count": 12,
      "outputs": [
        {
          "output_type": "execute_result",
          "data": {
            "text/html": [
              "<div>\n",
              "<style scoped>\n",
              "    .dataframe tbody tr th:only-of-type {\n",
              "        vertical-align: middle;\n",
              "    }\n",
              "\n",
              "    .dataframe tbody tr th {\n",
              "        vertical-align: top;\n",
              "    }\n",
              "\n",
              "    .dataframe thead th {\n",
              "        text-align: right;\n",
              "    }\n",
              "</style>\n",
              "<table border=\"1\" class=\"dataframe\">\n",
              "  <thead>\n",
              "    <tr style=\"text-align: right;\">\n",
              "      <th></th>\n",
              "      <th></th>\n",
              "      <th>Area</th>\n",
              "      <th>Mean</th>\n",
              "      <th>Min</th>\n",
              "      <th>Max</th>\n",
              "      <th>Major</th>\n",
              "      <th>Minor</th>\n",
              "      <th>Angle</th>\n",
              "      <th>Feret</th>\n",
              "      <th>FeretX</th>\n",
              "      <th>FeretY</th>\n",
              "      <th>FeretAngle</th>\n",
              "      <th>MinFeret</th>\n",
              "    </tr>\n",
              "  </thead>\n",
              "  <tbody>\n",
              "    <tr>\n",
              "      <th>0</th>\n",
              "      <td>2</td>\n",
              "      <td>1.288</td>\n",
              "      <td>255</td>\n",
              "      <td>255</td>\n",
              "      <td>255</td>\n",
              "      <td>1.383</td>\n",
              "      <td>1.185</td>\n",
              "      <td>5.847</td>\n",
              "      <td>1.636</td>\n",
              "      <td>767</td>\n",
              "      <td>213</td>\n",
              "      <td>18.157</td>\n",
              "      <td>1.161</td>\n",
              "    </tr>\n",
              "    <tr>\n",
              "      <th>1</th>\n",
              "      <td>3</td>\n",
              "      <td>0.407</td>\n",
              "      <td>255</td>\n",
              "      <td>255</td>\n",
              "      <td>255</td>\n",
              "      <td>0.814</td>\n",
              "      <td>0.637</td>\n",
              "      <td>62.186</td>\n",
              "      <td>0.877</td>\n",
              "      <td>283</td>\n",
              "      <td>234</td>\n",
              "      <td>59.036</td>\n",
              "      <td>0.667</td>\n",
              "    </tr>\n",
              "    <tr>\n",
              "      <th>2</th>\n",
              "      <td>4</td>\n",
              "      <td>0.592</td>\n",
              "      <td>255</td>\n",
              "      <td>255</td>\n",
              "      <td>255</td>\n",
              "      <td>0.925</td>\n",
              "      <td>0.815</td>\n",
              "      <td>117.923</td>\n",
              "      <td>1.078</td>\n",
              "      <td>633</td>\n",
              "      <td>154</td>\n",
              "      <td>122.335</td>\n",
              "      <td>0.802</td>\n",
              "    </tr>\n",
              "    <tr>\n",
              "      <th>3</th>\n",
              "      <td>5</td>\n",
              "      <td>1.391</td>\n",
              "      <td>255</td>\n",
              "      <td>255</td>\n",
              "      <td>255</td>\n",
              "      <td>1.435</td>\n",
              "      <td>1.235</td>\n",
              "      <td>29.966</td>\n",
              "      <td>1.564</td>\n",
              "      <td>1321</td>\n",
              "      <td>333</td>\n",
              "      <td>53.253</td>\n",
              "      <td>1.165</td>\n",
              "    </tr>\n",
              "    <tr>\n",
              "      <th>4</th>\n",
              "      <td>6</td>\n",
              "      <td>0.549</td>\n",
              "      <td>255</td>\n",
              "      <td>255</td>\n",
              "      <td>255</td>\n",
              "      <td>0.923</td>\n",
              "      <td>0.758</td>\n",
              "      <td>136.396</td>\n",
              "      <td>1.024</td>\n",
              "      <td>370</td>\n",
              "      <td>254</td>\n",
              "      <td>118.237</td>\n",
              "      <td>0.738</td>\n",
              "    </tr>\n",
              "  </tbody>\n",
              "</table>\n",
              "</div>"
            ],
            "text/plain": [
              "       Area  Mean  Min  Max  ...  Feret  FeretX  FeretY  FeretAngle  MinFeret\n",
              "0  2  1.288   255  255  255  ...  1.636     767     213      18.157     1.161\n",
              "1  3  0.407   255  255  255  ...  0.877     283     234      59.036     0.667\n",
              "2  4  0.592   255  255  255  ...  1.078     633     154     122.335     0.802\n",
              "3  5  1.391   255  255  255  ...  1.564    1321     333      53.253     1.165\n",
              "4  6  0.549   255  255  255  ...  1.024     370     254     118.237     0.738\n",
              "\n",
              "[5 rows x 13 columns]"
            ]
          },
          "metadata": {},
          "execution_count": 12
        }
      ]
    },
    {
      "cell_type": "code",
      "metadata": {
        "id": "qc4rFvzkyWCi"
      },
      "source": [
        "from Segment_Filter import Segmenta  # got image provided segmented"
      ],
      "execution_count": 13,
      "outputs": []
    },
    {
      "cell_type": "code",
      "metadata": {
        "id": "xR2emP4rNjQy",
        "colab": {
          "base_uri": "https://localhost:8080/"
        },
        "outputId": "7e646fbc-8853-499c-f435-737991298edd"
      },
      "source": [
        "!git clone https://github.com/ucfilho/MarquesGabi_Routines\n",
        "%cd MarquesGabi_Routines"
      ],
      "execution_count": 14,
      "outputs": [
        {
          "output_type": "stream",
          "name": "stdout",
          "text": [
            "fatal: destination path 'MarquesGabi_Routines' already exists and is not an empty directory.\n",
            "/content/Doutorado/MarquesGabi_Routines/MarquesGabi_Routines\n"
          ]
        }
      ]
    },
    {
      "cell_type": "code",
      "metadata": {
        "id": "O6cMHOrlNliO"
      },
      "source": [
        "# leitura dos dados\n",
        "df=pd.read_excel(\"FotosTreinoRede.xlsx\")\n",
        "y = df['y']\n",
        "df.drop(['Unnamed: 0','y'], axis='columns', inplace=True)"
      ],
      "execution_count": 15,
      "outputs": []
    },
    {
      "cell_type": "code",
      "metadata": {
        "id": "zQO8d2QbNqj0"
      },
      "source": [
        "X =np.array(df.copy())/255.0 \n",
        "\n",
        "\n",
        "X_train, X_test, Y_train, Y_test = train_test_split(X, y, test_size=0.30, shuffle=True, random_state=42)"
      ],
      "execution_count": 16,
      "outputs": []
    },
    {
      "cell_type": "code",
      "metadata": {
        "id": "gIFPGE_-vx3T"
      },
      "source": [
        "Img_Size = 28"
      ],
      "execution_count": 17,
      "outputs": []
    },
    {
      "cell_type": "code",
      "metadata": {
        "id": "23iKv6bDPWQl"
      },
      "source": [
        "# helper\n",
        "def ynindicator(Y):\n",
        "  N = len(Y)\n",
        "  K = len(set(Y))\n",
        "  I = np.zeros((N, K))\n",
        "  I[np.arange(N), Y] = 1\n",
        "  return I\n",
        "\n",
        "def yback(Y_test):\n",
        "  nrow, ncol = Y_test.shape\n",
        "  y_class = np.zeros(nrow,dtype=int)\n",
        "  y_resp = Y_test\n",
        "  for k in range(nrow):\n",
        "    for kk in range(K):\n",
        "      if(y_resp[k,kk] == 1):\n",
        "        y_class[k] = kk\n",
        "  Y_test = y_class.copy()\n",
        "  return Y_test\n",
        "\n",
        "X_train = np.array(X_train)\n",
        "Y_train = np.array(Y_train)\n",
        "K = len(set(Y_train))\n",
        "\n",
        "X_train = X_train.reshape(-1, Img_Size, Img_Size, 1) / 255.0\n",
        "Y_train = Y_train.astype(np.int32)\n",
        "Y_train = ynindicator(Y_train)\n",
        "\n",
        "X_test = np.array(X_test )\n",
        "Y_test = np.array(Y_test)\n",
        "X_test = X_test.reshape(-1, Img_Size, Img_Size, 1) / 255.0\n",
        "Y_test = Y_test.astype(np.int32)\n",
        "Y_test = ynindicator(Y_test)\n",
        "\n",
        "# the model will be a sequence of layers\n",
        "\n",
        "Description = '3 layers of Convolution: 64, 128, 256 '\n",
        "N1 = 20\n",
        "N2 = 20\n",
        "\n",
        "# make the CNN\n",
        "model = Sequential()\n",
        "model.add(Conv2D(input_shape=(Img_Size, Img_Size, 1), filters=64, kernel_size=(3, 3)))\n",
        "model.add(BatchNormalization())\n",
        "model.add(Activation('relu'))\n",
        "model.add(MaxPooling2D())\n",
        "\n",
        "model.add(Conv2D(filters=128, kernel_size=(3, 3)))\n",
        "model.add(BatchNormalization())\n",
        "model.add(Activation('relu'))\n",
        "model.add(MaxPooling2D())\n",
        "\n",
        "model.add(Conv2D(filters=256, kernel_size=(3, 3)))\n",
        "model.add(BatchNormalization())\n",
        "model.add(Activation('relu'))\n",
        "model.add(MaxPooling2D())\n",
        "\n",
        "model.add(Flatten())\n",
        "model.add(Dense(units=N1))\n",
        "model.add(Dropout(0.2))\n",
        "model.add(Dense(units=N2))\n",
        "model.add(Activation('relu'))\n",
        "#model.add(Dropout(0.2))\n",
        "model.add(Dense(units=K))\n",
        "model.add(Activation('softmax'))\n",
        "\n",
        "\n",
        "# list of losses: https://keras.io/losses/\n",
        "# list of optimizers: https://keras.io/optimizers/\n",
        "# list of metrics: https://keras.io/metrics/\n",
        "model.compile(\n",
        "  loss='categorical_crossentropy',\n",
        "  optimizer='adam',\n",
        "  metrics=['accuracy']\n",
        ")"
      ],
      "execution_count": 18,
      "outputs": []
    },
    {
      "cell_type": "code",
      "metadata": {
        "id": "FpbPQ1FSRG6A",
        "colab": {
          "base_uri": "https://localhost:8080/"
        },
        "outputId": "b8f2d6bb-02d7-4610-8664-a9b9c4ac8f3f"
      },
      "source": [
        "# training the model\n",
        "r = model.fit(X_train, Y_train, validation_data=(X_test,Y_test), \n",
        "              epochs=200, batch_size=32)"
      ],
      "execution_count": 19,
      "outputs": [
        {
          "output_type": "stream",
          "name": "stdout",
          "text": [
            "Epoch 1/200\n",
            "11/11 [==============================] - 2s 144ms/step - loss: 0.5836 - accuracy: 0.7609 - val_loss: 0.6932 - val_accuracy: 0.4898\n",
            "Epoch 2/200\n",
            "11/11 [==============================] - 1s 123ms/step - loss: 0.2992 - accuracy: 0.8950 - val_loss: 0.6930 - val_accuracy: 0.5102\n",
            "Epoch 3/200\n",
            "11/11 [==============================] - 1s 121ms/step - loss: 0.1826 - accuracy: 0.9300 - val_loss: 0.6928 - val_accuracy: 0.5102\n",
            "Epoch 4/200\n",
            "11/11 [==============================] - 1s 124ms/step - loss: 0.1322 - accuracy: 0.9388 - val_loss: 0.6929 - val_accuracy: 0.5102\n",
            "Epoch 5/200\n",
            "11/11 [==============================] - 1s 128ms/step - loss: 0.0653 - accuracy: 0.9825 - val_loss: 0.6930 - val_accuracy: 0.5102\n",
            "Epoch 6/200\n",
            "11/11 [==============================] - 1s 127ms/step - loss: 0.0727 - accuracy: 0.9767 - val_loss: 0.6927 - val_accuracy: 0.5102\n",
            "Epoch 7/200\n",
            "11/11 [==============================] - 1s 129ms/step - loss: 0.0411 - accuracy: 0.9913 - val_loss: 0.6929 - val_accuracy: 0.5102\n",
            "Epoch 8/200\n",
            "11/11 [==============================] - 1s 126ms/step - loss: 0.0279 - accuracy: 0.9913 - val_loss: 0.6926 - val_accuracy: 0.5102\n",
            "Epoch 9/200\n",
            "11/11 [==============================] - 1s 126ms/step - loss: 0.0270 - accuracy: 0.9913 - val_loss: 0.6924 - val_accuracy: 0.5102\n",
            "Epoch 10/200\n",
            "11/11 [==============================] - 1s 127ms/step - loss: 0.0259 - accuracy: 0.9913 - val_loss: 0.6921 - val_accuracy: 0.5102\n",
            "Epoch 11/200\n",
            "11/11 [==============================] - 1s 127ms/step - loss: 0.0107 - accuracy: 0.9971 - val_loss: 0.6920 - val_accuracy: 0.5102\n",
            "Epoch 12/200\n",
            "11/11 [==============================] - 1s 128ms/step - loss: 0.0088 - accuracy: 0.9971 - val_loss: 0.6922 - val_accuracy: 0.5102\n",
            "Epoch 13/200\n",
            "11/11 [==============================] - 1s 130ms/step - loss: 0.0051 - accuracy: 1.0000 - val_loss: 0.6928 - val_accuracy: 0.5102\n",
            "Epoch 14/200\n",
            "11/11 [==============================] - 1s 131ms/step - loss: 0.0042 - accuracy: 1.0000 - val_loss: 0.6926 - val_accuracy: 0.5102\n",
            "Epoch 15/200\n",
            "11/11 [==============================] - 1s 129ms/step - loss: 0.0079 - accuracy: 0.9971 - val_loss: 0.6917 - val_accuracy: 0.5102\n",
            "Epoch 16/200\n",
            "11/11 [==============================] - 1s 130ms/step - loss: 0.0138 - accuracy: 0.9971 - val_loss: 0.6953 - val_accuracy: 0.5102\n",
            "Epoch 17/200\n",
            "11/11 [==============================] - 1s 129ms/step - loss: 0.0049 - accuracy: 1.0000 - val_loss: 0.7091 - val_accuracy: 0.5102\n",
            "Epoch 18/200\n",
            "11/11 [==============================] - 1s 129ms/step - loss: 0.0056 - accuracy: 1.0000 - val_loss: 0.7168 - val_accuracy: 0.5102\n",
            "Epoch 19/200\n",
            "11/11 [==============================] - 1s 128ms/step - loss: 0.0039 - accuracy: 1.0000 - val_loss: 0.7168 - val_accuracy: 0.5102\n",
            "Epoch 20/200\n",
            "11/11 [==============================] - 1s 130ms/step - loss: 0.0082 - accuracy: 0.9971 - val_loss: 0.7715 - val_accuracy: 0.5102\n",
            "Epoch 21/200\n",
            "11/11 [==============================] - 1s 130ms/step - loss: 0.1173 - accuracy: 0.9825 - val_loss: 0.6998 - val_accuracy: 0.5102\n",
            "Epoch 22/200\n",
            "11/11 [==============================] - 1s 130ms/step - loss: 0.0366 - accuracy: 0.9825 - val_loss: 0.7217 - val_accuracy: 0.5102\n",
            "Epoch 23/200\n",
            "11/11 [==============================] - 1s 133ms/step - loss: 0.0399 - accuracy: 0.9767 - val_loss: 0.7119 - val_accuracy: 0.5102\n",
            "Epoch 24/200\n",
            "11/11 [==============================] - 1s 130ms/step - loss: 0.0449 - accuracy: 0.9767 - val_loss: 0.7006 - val_accuracy: 0.4898\n",
            "Epoch 25/200\n",
            "11/11 [==============================] - 1s 130ms/step - loss: 0.0056 - accuracy: 1.0000 - val_loss: 0.6916 - val_accuracy: 0.4898\n",
            "Epoch 26/200\n",
            "11/11 [==============================] - 1s 133ms/step - loss: 0.0473 - accuracy: 0.9883 - val_loss: 0.6894 - val_accuracy: 0.4898\n",
            "Epoch 27/200\n",
            "11/11 [==============================] - 1s 132ms/step - loss: 0.0329 - accuracy: 0.9942 - val_loss: 0.6912 - val_accuracy: 0.5102\n",
            "Epoch 28/200\n",
            "11/11 [==============================] - 1s 132ms/step - loss: 0.0166 - accuracy: 0.9971 - val_loss: 0.7062 - val_accuracy: 0.5102\n",
            "Epoch 29/200\n",
            "11/11 [==============================] - 1s 133ms/step - loss: 0.0207 - accuracy: 0.9854 - val_loss: 0.7090 - val_accuracy: 0.5102\n",
            "Epoch 30/200\n",
            "11/11 [==============================] - 1s 131ms/step - loss: 0.0070 - accuracy: 0.9971 - val_loss: 0.8127 - val_accuracy: 0.5102\n",
            "Epoch 31/200\n",
            "11/11 [==============================] - 1s 131ms/step - loss: 0.0131 - accuracy: 0.9942 - val_loss: 0.7490 - val_accuracy: 0.5102\n",
            "Epoch 32/200\n",
            "11/11 [==============================] - 1s 134ms/step - loss: 0.0044 - accuracy: 1.0000 - val_loss: 0.7354 - val_accuracy: 0.5102\n",
            "Epoch 33/200\n",
            "11/11 [==============================] - 1s 136ms/step - loss: 0.0040 - accuracy: 1.0000 - val_loss: 0.6907 - val_accuracy: 0.5102\n",
            "Epoch 34/200\n",
            "11/11 [==============================] - 1s 132ms/step - loss: 0.0053 - accuracy: 0.9971 - val_loss: 0.7298 - val_accuracy: 0.4898\n",
            "Epoch 35/200\n",
            "11/11 [==============================] - 1s 133ms/step - loss: 0.0118 - accuracy: 0.9942 - val_loss: 1.5977 - val_accuracy: 0.5102\n",
            "Epoch 36/200\n",
            "11/11 [==============================] - 1s 134ms/step - loss: 0.0020 - accuracy: 1.0000 - val_loss: 1.5234 - val_accuracy: 0.5102\n",
            "Epoch 37/200\n",
            "11/11 [==============================] - 1s 133ms/step - loss: 0.0011 - accuracy: 1.0000 - val_loss: 1.2909 - val_accuracy: 0.5102\n",
            "Epoch 38/200\n",
            "11/11 [==============================] - 1s 133ms/step - loss: 0.0030 - accuracy: 1.0000 - val_loss: 0.7671 - val_accuracy: 0.5102\n",
            "Epoch 39/200\n",
            "11/11 [==============================] - 1s 131ms/step - loss: 6.4619e-04 - accuracy: 1.0000 - val_loss: 0.6718 - val_accuracy: 0.5102\n",
            "Epoch 40/200\n",
            "11/11 [==============================] - 1s 133ms/step - loss: 0.0017 - accuracy: 1.0000 - val_loss: 0.6822 - val_accuracy: 0.5102\n",
            "Epoch 41/200\n",
            "11/11 [==============================] - 1s 133ms/step - loss: 9.3664e-04 - accuracy: 1.0000 - val_loss: 0.9268 - val_accuracy: 0.5102\n",
            "Epoch 42/200\n",
            "11/11 [==============================] - 1s 134ms/step - loss: 0.0010 - accuracy: 1.0000 - val_loss: 1.2922 - val_accuracy: 0.5102\n",
            "Epoch 43/200\n",
            "11/11 [==============================] - 1s 134ms/step - loss: 5.5700e-04 - accuracy: 1.0000 - val_loss: 1.3834 - val_accuracy: 0.5102\n",
            "Epoch 44/200\n",
            "11/11 [==============================] - 1s 133ms/step - loss: 6.0971e-04 - accuracy: 1.0000 - val_loss: 1.1725 - val_accuracy: 0.5102\n",
            "Epoch 45/200\n",
            "11/11 [==============================] - 1s 133ms/step - loss: 8.9150e-04 - accuracy: 1.0000 - val_loss: 1.0723 - val_accuracy: 0.5102\n",
            "Epoch 46/200\n",
            "11/11 [==============================] - 1s 133ms/step - loss: 6.1611e-04 - accuracy: 1.0000 - val_loss: 1.0932 - val_accuracy: 0.5102\n",
            "Epoch 47/200\n",
            "11/11 [==============================] - 1s 131ms/step - loss: 5.7280e-04 - accuracy: 1.0000 - val_loss: 1.0863 - val_accuracy: 0.5102\n",
            "Epoch 48/200\n",
            "11/11 [==============================] - 1s 132ms/step - loss: 1.4991e-04 - accuracy: 1.0000 - val_loss: 1.0638 - val_accuracy: 0.5102\n",
            "Epoch 49/200\n",
            "11/11 [==============================] - 1s 131ms/step - loss: 0.0012 - accuracy: 1.0000 - val_loss: 0.9377 - val_accuracy: 0.5102\n",
            "Epoch 50/200\n",
            "11/11 [==============================] - 1s 131ms/step - loss: 2.9767e-04 - accuracy: 1.0000 - val_loss: 0.7913 - val_accuracy: 0.5102\n",
            "Epoch 51/200\n",
            "11/11 [==============================] - 1s 133ms/step - loss: 0.0024 - accuracy: 1.0000 - val_loss: 1.0742 - val_accuracy: 0.5102\n",
            "Epoch 52/200\n",
            "11/11 [==============================] - 1s 132ms/step - loss: 2.3950e-04 - accuracy: 1.0000 - val_loss: 2.1053 - val_accuracy: 0.5102\n",
            "Epoch 53/200\n",
            "11/11 [==============================] - 1s 131ms/step - loss: 5.2460e-04 - accuracy: 1.0000 - val_loss: 2.4154 - val_accuracy: 0.5102\n",
            "Epoch 54/200\n",
            "11/11 [==============================] - 1s 134ms/step - loss: 6.8156e-04 - accuracy: 1.0000 - val_loss: 2.5398 - val_accuracy: 0.5102\n",
            "Epoch 55/200\n",
            "11/11 [==============================] - 1s 134ms/step - loss: 0.0015 - accuracy: 1.0000 - val_loss: 2.3841 - val_accuracy: 0.5102\n",
            "Epoch 56/200\n",
            "11/11 [==============================] - 1s 136ms/step - loss: 9.4213e-04 - accuracy: 1.0000 - val_loss: 3.7684 - val_accuracy: 0.5102\n",
            "Epoch 57/200\n",
            "11/11 [==============================] - 1s 138ms/step - loss: 1.4186e-04 - accuracy: 1.0000 - val_loss: 4.9268 - val_accuracy: 0.5102\n",
            "Epoch 58/200\n",
            "11/11 [==============================] - 1s 134ms/step - loss: 4.7317e-04 - accuracy: 1.0000 - val_loss: 4.9032 - val_accuracy: 0.5102\n",
            "Epoch 59/200\n",
            "11/11 [==============================] - 1s 137ms/step - loss: 2.6673e-04 - accuracy: 1.0000 - val_loss: 4.3839 - val_accuracy: 0.5102\n",
            "Epoch 60/200\n",
            "11/11 [==============================] - 1s 136ms/step - loss: 2.2039e-04 - accuracy: 1.0000 - val_loss: 3.9571 - val_accuracy: 0.5102\n",
            "Epoch 61/200\n",
            "11/11 [==============================] - 1s 133ms/step - loss: 2.9725e-04 - accuracy: 1.0000 - val_loss: 3.6584 - val_accuracy: 0.5102\n",
            "Epoch 62/200\n",
            "11/11 [==============================] - 1s 135ms/step - loss: 1.3841e-04 - accuracy: 1.0000 - val_loss: 3.1441 - val_accuracy: 0.5238\n",
            "Epoch 63/200\n",
            "11/11 [==============================] - 1s 135ms/step - loss: 3.7645e-04 - accuracy: 1.0000 - val_loss: 2.2759 - val_accuracy: 0.5306\n",
            "Epoch 64/200\n",
            "11/11 [==============================] - 2s 139ms/step - loss: 2.2250e-04 - accuracy: 1.0000 - val_loss: 1.4479 - val_accuracy: 0.6122\n",
            "Epoch 65/200\n",
            "11/11 [==============================] - 2s 146ms/step - loss: 1.3402e-04 - accuracy: 1.0000 - val_loss: 0.8561 - val_accuracy: 0.7211\n",
            "Epoch 66/200\n",
            "11/11 [==============================] - 2s 142ms/step - loss: 7.7876e-04 - accuracy: 1.0000 - val_loss: 0.4708 - val_accuracy: 0.8095\n",
            "Epoch 67/200\n",
            "11/11 [==============================] - 2s 140ms/step - loss: 9.8375e-05 - accuracy: 1.0000 - val_loss: 0.3819 - val_accuracy: 0.8435\n",
            "Epoch 68/200\n",
            "11/11 [==============================] - 2s 139ms/step - loss: 1.4715e-04 - accuracy: 1.0000 - val_loss: 0.3248 - val_accuracy: 0.8571\n",
            "Epoch 69/200\n",
            "11/11 [==============================] - 1s 135ms/step - loss: 7.9927e-05 - accuracy: 1.0000 - val_loss: 0.2420 - val_accuracy: 0.9116\n",
            "Epoch 70/200\n",
            "11/11 [==============================] - 1s 136ms/step - loss: 1.6571e-04 - accuracy: 1.0000 - val_loss: 0.1828 - val_accuracy: 0.9320\n",
            "Epoch 71/200\n",
            "11/11 [==============================] - 2s 138ms/step - loss: 2.1478e-04 - accuracy: 1.0000 - val_loss: 0.1211 - val_accuracy: 0.9524\n",
            "Epoch 72/200\n",
            "11/11 [==============================] - 2s 136ms/step - loss: 5.2164e-05 - accuracy: 1.0000 - val_loss: 0.1184 - val_accuracy: 0.9524\n",
            "Epoch 73/200\n",
            "11/11 [==============================] - 2s 137ms/step - loss: 3.0310e-04 - accuracy: 1.0000 - val_loss: 0.1164 - val_accuracy: 0.9592\n",
            "Epoch 74/200\n",
            "11/11 [==============================] - 2s 138ms/step - loss: 3.2585e-04 - accuracy: 1.0000 - val_loss: 0.1235 - val_accuracy: 0.9592\n",
            "Epoch 75/200\n",
            "11/11 [==============================] - 1s 136ms/step - loss: 1.2258e-04 - accuracy: 1.0000 - val_loss: 0.1322 - val_accuracy: 0.9592\n",
            "Epoch 76/200\n",
            "11/11 [==============================] - 2s 138ms/step - loss: 1.6469e-04 - accuracy: 1.0000 - val_loss: 0.1210 - val_accuracy: 0.9660\n",
            "Epoch 77/200\n",
            "11/11 [==============================] - 2s 141ms/step - loss: 2.6930e-04 - accuracy: 1.0000 - val_loss: 0.1065 - val_accuracy: 0.9660\n",
            "Epoch 78/200\n",
            "11/11 [==============================] - 2s 140ms/step - loss: 2.0811e-04 - accuracy: 1.0000 - val_loss: 0.0984 - val_accuracy: 0.9660\n",
            "Epoch 79/200\n",
            "11/11 [==============================] - 2s 139ms/step - loss: 0.0012 - accuracy: 1.0000 - val_loss: 0.2532 - val_accuracy: 0.8639\n",
            "Epoch 80/200\n",
            "11/11 [==============================] - 2s 143ms/step - loss: 1.2412e-04 - accuracy: 1.0000 - val_loss: 0.4945 - val_accuracy: 0.7279\n",
            "Epoch 81/200\n",
            "11/11 [==============================] - 2s 140ms/step - loss: 1.3145e-04 - accuracy: 1.0000 - val_loss: 0.5786 - val_accuracy: 0.7075\n",
            "Epoch 82/200\n",
            "11/11 [==============================] - 2s 137ms/step - loss: 1.3064e-04 - accuracy: 1.0000 - val_loss: 0.5279 - val_accuracy: 0.7211\n",
            "Epoch 83/200\n",
            "11/11 [==============================] - 2s 137ms/step - loss: 9.8978e-05 - accuracy: 1.0000 - val_loss: 0.3499 - val_accuracy: 0.7959\n",
            "Epoch 84/200\n",
            "11/11 [==============================] - 2s 141ms/step - loss: 2.3030e-04 - accuracy: 1.0000 - val_loss: 0.2532 - val_accuracy: 0.8707\n",
            "Epoch 85/200\n",
            "11/11 [==============================] - 2s 139ms/step - loss: 1.7685e-04 - accuracy: 1.0000 - val_loss: 0.1957 - val_accuracy: 0.9252\n",
            "Epoch 86/200\n",
            "11/11 [==============================] - 2s 141ms/step - loss: 1.1872e-04 - accuracy: 1.0000 - val_loss: 0.2787 - val_accuracy: 0.9048\n",
            "Epoch 87/200\n",
            "11/11 [==============================] - 2s 140ms/step - loss: 6.6925e-05 - accuracy: 1.0000 - val_loss: 0.2903 - val_accuracy: 0.9048\n",
            "Epoch 88/200\n",
            "11/11 [==============================] - 2s 141ms/step - loss: 1.6698e-04 - accuracy: 1.0000 - val_loss: 0.1226 - val_accuracy: 0.9524\n",
            "Epoch 89/200\n",
            "11/11 [==============================] - 2s 142ms/step - loss: 5.1428e-05 - accuracy: 1.0000 - val_loss: 0.1085 - val_accuracy: 0.9728\n",
            "Epoch 90/200\n",
            "11/11 [==============================] - 2s 142ms/step - loss: 2.2908e-04 - accuracy: 1.0000 - val_loss: 0.1109 - val_accuracy: 0.9660\n",
            "Epoch 91/200\n",
            "11/11 [==============================] - 2s 142ms/step - loss: 2.7131e-04 - accuracy: 1.0000 - val_loss: 0.1212 - val_accuracy: 0.9660\n",
            "Epoch 92/200\n",
            "11/11 [==============================] - 2s 138ms/step - loss: 1.6119e-04 - accuracy: 1.0000 - val_loss: 0.1439 - val_accuracy: 0.9388\n",
            "Epoch 93/200\n",
            "11/11 [==============================] - 2s 140ms/step - loss: 4.4691e-05 - accuracy: 1.0000 - val_loss: 0.1285 - val_accuracy: 0.9728\n",
            "Epoch 94/200\n",
            "11/11 [==============================] - 2s 139ms/step - loss: 5.5313e-05 - accuracy: 1.0000 - val_loss: 0.1304 - val_accuracy: 0.9728\n",
            "Epoch 95/200\n",
            "11/11 [==============================] - 2s 140ms/step - loss: 0.0032 - accuracy: 0.9971 - val_loss: 0.1781 - val_accuracy: 0.9524\n",
            "Epoch 96/200\n",
            "11/11 [==============================] - 2s 138ms/step - loss: 0.0215 - accuracy: 0.9913 - val_loss: 68.4407 - val_accuracy: 0.5102\n",
            "Epoch 97/200\n",
            "11/11 [==============================] - 1s 136ms/step - loss: 0.0647 - accuracy: 0.9825 - val_loss: 287.0520 - val_accuracy: 0.5102\n",
            "Epoch 98/200\n",
            "11/11 [==============================] - 2s 139ms/step - loss: 0.0718 - accuracy: 0.9767 - val_loss: 456.8453 - val_accuracy: 0.5102\n",
            "Epoch 99/200\n",
            "11/11 [==============================] - 2s 139ms/step - loss: 0.0651 - accuracy: 0.9825 - val_loss: 399.7875 - val_accuracy: 0.5102\n",
            "Epoch 100/200\n",
            "11/11 [==============================] - 2s 141ms/step - loss: 0.0219 - accuracy: 0.9913 - val_loss: 348.3932 - val_accuracy: 0.5102\n",
            "Epoch 101/200\n",
            "11/11 [==============================] - 2s 138ms/step - loss: 0.0100 - accuracy: 0.9971 - val_loss: 262.3502 - val_accuracy: 0.5102\n",
            "Epoch 102/200\n",
            "11/11 [==============================] - 2s 138ms/step - loss: 0.0153 - accuracy: 0.9971 - val_loss: 263.4074 - val_accuracy: 0.5102\n",
            "Epoch 103/200\n",
            "11/11 [==============================] - 2s 139ms/step - loss: 0.0027 - accuracy: 1.0000 - val_loss: 246.0906 - val_accuracy: 0.5102\n",
            "Epoch 104/200\n",
            "11/11 [==============================] - 1s 137ms/step - loss: 0.0011 - accuracy: 1.0000 - val_loss: 219.5323 - val_accuracy: 0.5102\n",
            "Epoch 105/200\n",
            "11/11 [==============================] - 2s 140ms/step - loss: 0.0013 - accuracy: 1.0000 - val_loss: 188.2296 - val_accuracy: 0.5102\n",
            "Epoch 106/200\n",
            "11/11 [==============================] - 2s 140ms/step - loss: 0.0029 - accuracy: 1.0000 - val_loss: 169.9865 - val_accuracy: 0.5102\n",
            "Epoch 107/200\n",
            "11/11 [==============================] - 2s 140ms/step - loss: 0.0032 - accuracy: 1.0000 - val_loss: 152.9788 - val_accuracy: 0.5102\n",
            "Epoch 108/200\n",
            "11/11 [==============================] - 2s 139ms/step - loss: 8.2960e-04 - accuracy: 1.0000 - val_loss: 132.3735 - val_accuracy: 0.5102\n",
            "Epoch 109/200\n",
            "11/11 [==============================] - 2s 139ms/step - loss: 0.0023 - accuracy: 1.0000 - val_loss: 109.5278 - val_accuracy: 0.5102\n",
            "Epoch 110/200\n",
            "11/11 [==============================] - 1s 138ms/step - loss: 3.0872e-04 - accuracy: 1.0000 - val_loss: 95.3067 - val_accuracy: 0.5102\n",
            "Epoch 111/200\n",
            "11/11 [==============================] - 1s 138ms/step - loss: 0.0018 - accuracy: 1.0000 - val_loss: 86.6053 - val_accuracy: 0.5102\n",
            "Epoch 112/200\n",
            "11/11 [==============================] - 2s 139ms/step - loss: 1.8602e-04 - accuracy: 1.0000 - val_loss: 81.9206 - val_accuracy: 0.5102\n",
            "Epoch 113/200\n",
            "11/11 [==============================] - 2s 139ms/step - loss: 0.0142 - accuracy: 0.9971 - val_loss: 72.4233 - val_accuracy: 0.5102\n",
            "Epoch 114/200\n",
            "11/11 [==============================] - 1s 137ms/step - loss: 0.0033 - accuracy: 0.9971 - val_loss: 51.4915 - val_accuracy: 0.5102\n",
            "Epoch 115/200\n",
            "11/11 [==============================] - 2s 137ms/step - loss: 8.9826e-04 - accuracy: 1.0000 - val_loss: 25.5531 - val_accuracy: 0.5102\n",
            "Epoch 116/200\n",
            "11/11 [==============================] - 1s 137ms/step - loss: 0.0023 - accuracy: 1.0000 - val_loss: 22.6579 - val_accuracy: 0.5102\n",
            "Epoch 117/200\n",
            "11/11 [==============================] - 2s 137ms/step - loss: 0.0012 - accuracy: 1.0000 - val_loss: 23.0393 - val_accuracy: 0.5102\n",
            "Epoch 118/200\n",
            "11/11 [==============================] - 2s 140ms/step - loss: 0.0011 - accuracy: 1.0000 - val_loss: 22.3690 - val_accuracy: 0.5102\n",
            "Epoch 119/200\n",
            "11/11 [==============================] - 2s 139ms/step - loss: 5.3778e-04 - accuracy: 1.0000 - val_loss: 21.3321 - val_accuracy: 0.5102\n",
            "Epoch 120/200\n",
            "11/11 [==============================] - 2s 140ms/step - loss: 5.5956e-04 - accuracy: 1.0000 - val_loss: 20.1431 - val_accuracy: 0.5102\n",
            "Epoch 121/200\n",
            "11/11 [==============================] - 2s 141ms/step - loss: 0.0012 - accuracy: 1.0000 - val_loss: 18.2681 - val_accuracy: 0.5102\n",
            "Epoch 122/200\n",
            "11/11 [==============================] - 2s 139ms/step - loss: 1.4542e-04 - accuracy: 1.0000 - val_loss: 15.4932 - val_accuracy: 0.5102\n",
            "Epoch 123/200\n",
            "11/11 [==============================] - 2s 140ms/step - loss: 0.0019 - accuracy: 1.0000 - val_loss: 21.3815 - val_accuracy: 0.5102\n",
            "Epoch 124/200\n",
            "11/11 [==============================] - 2s 139ms/step - loss: 6.1735e-04 - accuracy: 1.0000 - val_loss: 28.2098 - val_accuracy: 0.5102\n",
            "Epoch 125/200\n",
            "11/11 [==============================] - 2s 143ms/step - loss: 2.9830e-04 - accuracy: 1.0000 - val_loss: 31.0133 - val_accuracy: 0.5102\n",
            "Epoch 126/200\n",
            "11/11 [==============================] - 1s 138ms/step - loss: 2.0528e-04 - accuracy: 1.0000 - val_loss: 30.5277 - val_accuracy: 0.5102\n",
            "Epoch 127/200\n",
            "11/11 [==============================] - 2s 138ms/step - loss: 0.0026 - accuracy: 1.0000 - val_loss: 24.8358 - val_accuracy: 0.5102\n",
            "Epoch 128/200\n",
            "11/11 [==============================] - 2s 139ms/step - loss: 0.0016 - accuracy: 1.0000 - val_loss: 20.8795 - val_accuracy: 0.5102\n",
            "Epoch 129/200\n",
            "11/11 [==============================] - 2s 140ms/step - loss: 0.0012 - accuracy: 1.0000 - val_loss: 2.1591 - val_accuracy: 0.5510\n",
            "Epoch 130/200\n",
            "11/11 [==============================] - 2s 137ms/step - loss: 3.7169e-04 - accuracy: 1.0000 - val_loss: 1.9545 - val_accuracy: 0.5510\n",
            "Epoch 131/200\n",
            "11/11 [==============================] - 2s 139ms/step - loss: 1.9646e-04 - accuracy: 1.0000 - val_loss: 2.6086 - val_accuracy: 0.5306\n",
            "Epoch 132/200\n",
            "11/11 [==============================] - 2s 141ms/step - loss: 1.3238e-04 - accuracy: 1.0000 - val_loss: 2.5274 - val_accuracy: 0.5306\n",
            "Epoch 133/200\n",
            "11/11 [==============================] - 2s 142ms/step - loss: 1.7304e-04 - accuracy: 1.0000 - val_loss: 2.1954 - val_accuracy: 0.5442\n",
            "Epoch 134/200\n",
            "11/11 [==============================] - 2s 140ms/step - loss: 4.3061e-04 - accuracy: 1.0000 - val_loss: 2.0552 - val_accuracy: 0.5510\n",
            "Epoch 135/200\n",
            "11/11 [==============================] - 2s 139ms/step - loss: 2.6981e-04 - accuracy: 1.0000 - val_loss: 2.2779 - val_accuracy: 0.5646\n",
            "Epoch 136/200\n",
            "11/11 [==============================] - 2s 140ms/step - loss: 2.3413e-04 - accuracy: 1.0000 - val_loss: 1.8124 - val_accuracy: 0.6122\n",
            "Epoch 137/200\n",
            "11/11 [==============================] - 2s 139ms/step - loss: 2.7055e-04 - accuracy: 1.0000 - val_loss: 0.8075 - val_accuracy: 0.7483\n",
            "Epoch 138/200\n",
            "11/11 [==============================] - 2s 155ms/step - loss: 1.2037e-04 - accuracy: 1.0000 - val_loss: 0.6294 - val_accuracy: 0.8231\n",
            "Epoch 139/200\n",
            "11/11 [==============================] - 2s 160ms/step - loss: 2.1318e-04 - accuracy: 1.0000 - val_loss: 0.6179 - val_accuracy: 0.8367\n",
            "Epoch 140/200\n",
            "11/11 [==============================] - 2s 146ms/step - loss: 1.3234e-04 - accuracy: 1.0000 - val_loss: 0.5931 - val_accuracy: 0.8435\n",
            "Epoch 141/200\n",
            "11/11 [==============================] - 2s 144ms/step - loss: 7.2342e-05 - accuracy: 1.0000 - val_loss: 0.5488 - val_accuracy: 0.8571\n",
            "Epoch 142/200\n",
            "11/11 [==============================] - 2s 145ms/step - loss: 1.3938e-04 - accuracy: 1.0000 - val_loss: 0.3939 - val_accuracy: 0.8776\n",
            "Epoch 143/200\n",
            "11/11 [==============================] - 2s 146ms/step - loss: 1.0826e-04 - accuracy: 1.0000 - val_loss: 0.3208 - val_accuracy: 0.8844\n",
            "Epoch 144/200\n",
            "11/11 [==============================] - 2s 166ms/step - loss: 2.1944e-04 - accuracy: 1.0000 - val_loss: 0.2943 - val_accuracy: 0.9048\n",
            "Epoch 145/200\n",
            "11/11 [==============================] - 2s 150ms/step - loss: 3.0065e-05 - accuracy: 1.0000 - val_loss: 0.2701 - val_accuracy: 0.9116\n",
            "Epoch 146/200\n",
            "11/11 [==============================] - 2s 180ms/step - loss: 6.5703e-05 - accuracy: 1.0000 - val_loss: 0.2449 - val_accuracy: 0.9116\n",
            "Epoch 147/200\n",
            "11/11 [==============================] - 2s 161ms/step - loss: 1.2080e-04 - accuracy: 1.0000 - val_loss: 0.2066 - val_accuracy: 0.9592\n",
            "Epoch 148/200\n",
            "11/11 [==============================] - 2s 171ms/step - loss: 5.6287e-05 - accuracy: 1.0000 - val_loss: 0.2004 - val_accuracy: 0.9660\n",
            "Epoch 149/200\n",
            "11/11 [==============================] - 2s 175ms/step - loss: 8.2536e-05 - accuracy: 1.0000 - val_loss: 0.1838 - val_accuracy: 0.9592\n",
            "Epoch 150/200\n",
            "11/11 [==============================] - 2s 181ms/step - loss: 3.8985e-05 - accuracy: 1.0000 - val_loss: 0.1787 - val_accuracy: 0.9592\n",
            "Epoch 151/200\n",
            "11/11 [==============================] - 2s 152ms/step - loss: 9.1335e-05 - accuracy: 1.0000 - val_loss: 0.1808 - val_accuracy: 0.9592\n",
            "Epoch 152/200\n",
            "11/11 [==============================] - 2s 173ms/step - loss: 5.8226e-05 - accuracy: 1.0000 - val_loss: 0.1716 - val_accuracy: 0.9592\n",
            "Epoch 153/200\n",
            "11/11 [==============================] - 2s 168ms/step - loss: 5.5952e-05 - accuracy: 1.0000 - val_loss: 0.1722 - val_accuracy: 0.9660\n",
            "Epoch 154/200\n",
            "11/11 [==============================] - 2s 196ms/step - loss: 1.8689e-05 - accuracy: 1.0000 - val_loss: 0.1726 - val_accuracy: 0.9660\n",
            "Epoch 155/200\n",
            "11/11 [==============================] - 2s 194ms/step - loss: 2.9114e-04 - accuracy: 1.0000 - val_loss: 0.1772 - val_accuracy: 0.9728\n",
            "Epoch 156/200\n",
            "11/11 [==============================] - 2s 153ms/step - loss: 1.7281e-04 - accuracy: 1.0000 - val_loss: 0.5797 - val_accuracy: 0.8776\n",
            "Epoch 157/200\n",
            "11/11 [==============================] - 2s 186ms/step - loss: 5.4471e-05 - accuracy: 1.0000 - val_loss: 1.8100 - val_accuracy: 0.7075\n",
            "Epoch 158/200\n",
            "11/11 [==============================] - 2s 206ms/step - loss: 2.0753e-04 - accuracy: 1.0000 - val_loss: 1.7250 - val_accuracy: 0.7075\n",
            "Epoch 159/200\n",
            "11/11 [==============================] - 2s 146ms/step - loss: 2.9097e-05 - accuracy: 1.0000 - val_loss: 1.0579 - val_accuracy: 0.7891\n",
            "Epoch 160/200\n",
            "11/11 [==============================] - 2s 174ms/step - loss: 4.1786e-04 - accuracy: 1.0000 - val_loss: 0.6377 - val_accuracy: 0.8776\n",
            "Epoch 161/200\n",
            "11/11 [==============================] - 2s 166ms/step - loss: 8.2749e-05 - accuracy: 1.0000 - val_loss: 0.4159 - val_accuracy: 0.9252\n",
            "Epoch 162/200\n",
            "11/11 [==============================] - 2s 172ms/step - loss: 8.1915e-05 - accuracy: 1.0000 - val_loss: 0.3348 - val_accuracy: 0.9388\n",
            "Epoch 163/200\n",
            "11/11 [==============================] - 2s 146ms/step - loss: 9.7573e-04 - accuracy: 1.0000 - val_loss: 0.1996 - val_accuracy: 0.9728\n",
            "Epoch 164/200\n",
            "11/11 [==============================] - 2s 150ms/step - loss: 2.4658e-04 - accuracy: 1.0000 - val_loss: 0.1453 - val_accuracy: 0.9524\n",
            "Epoch 165/200\n",
            "11/11 [==============================] - 2s 151ms/step - loss: 9.2584e-05 - accuracy: 1.0000 - val_loss: 0.4267 - val_accuracy: 0.8571\n",
            "Epoch 166/200\n",
            "11/11 [==============================] - 2s 151ms/step - loss: 2.2994e-04 - accuracy: 1.0000 - val_loss: 1.3084 - val_accuracy: 0.6871\n",
            "Epoch 167/200\n",
            "11/11 [==============================] - 2s 157ms/step - loss: 1.5614e-04 - accuracy: 1.0000 - val_loss: 3.7519 - val_accuracy: 0.5442\n",
            "Epoch 168/200\n",
            "11/11 [==============================] - 2s 145ms/step - loss: 1.4868e-04 - accuracy: 1.0000 - val_loss: 4.2757 - val_accuracy: 0.5374\n",
            "Epoch 169/200\n",
            "11/11 [==============================] - 2s 173ms/step - loss: 2.9712e-05 - accuracy: 1.0000 - val_loss: 4.1876 - val_accuracy: 0.5510\n",
            "Epoch 170/200\n",
            "11/11 [==============================] - 2s 166ms/step - loss: 1.9640e-04 - accuracy: 1.0000 - val_loss: 4.0482 - val_accuracy: 0.5714\n",
            "Epoch 171/200\n",
            "11/11 [==============================] - 2s 159ms/step - loss: 8.4490e-05 - accuracy: 1.0000 - val_loss: 3.9678 - val_accuracy: 0.5782\n",
            "Epoch 172/200\n",
            "11/11 [==============================] - 2s 160ms/step - loss: 6.6529e-05 - accuracy: 1.0000 - val_loss: 5.1210 - val_accuracy: 0.5510\n",
            "Epoch 173/200\n",
            "11/11 [==============================] - 2s 151ms/step - loss: 5.5068e-05 - accuracy: 1.0000 - val_loss: 4.4761 - val_accuracy: 0.5782\n",
            "Epoch 174/200\n",
            "11/11 [==============================] - 2s 154ms/step - loss: 4.8743e-05 - accuracy: 1.0000 - val_loss: 3.8496 - val_accuracy: 0.6190\n",
            "Epoch 175/200\n",
            "11/11 [==============================] - 2s 147ms/step - loss: 8.0459e-05 - accuracy: 1.0000 - val_loss: 3.1897 - val_accuracy: 0.6395\n",
            "Epoch 176/200\n",
            "11/11 [==============================] - 2s 162ms/step - loss: 7.0134e-05 - accuracy: 1.0000 - val_loss: 2.6916 - val_accuracy: 0.6803\n",
            "Epoch 177/200\n",
            "11/11 [==============================] - 2s 174ms/step - loss: 1.6077e-04 - accuracy: 1.0000 - val_loss: 1.9449 - val_accuracy: 0.7279\n",
            "Epoch 178/200\n",
            "11/11 [==============================] - 2s 174ms/step - loss: 3.4072e-05 - accuracy: 1.0000 - val_loss: 0.7213 - val_accuracy: 0.8503\n",
            "Epoch 179/200\n",
            "11/11 [==============================] - 2s 162ms/step - loss: 3.4918e-04 - accuracy: 1.0000 - val_loss: 0.5968 - val_accuracy: 0.8503\n",
            "Epoch 180/200\n",
            "11/11 [==============================] - 2s 160ms/step - loss: 7.0941e-05 - accuracy: 1.0000 - val_loss: 0.5519 - val_accuracy: 0.8571\n",
            "Epoch 181/200\n",
            "11/11 [==============================] - 2s 166ms/step - loss: 1.0540e-04 - accuracy: 1.0000 - val_loss: 0.4371 - val_accuracy: 0.9116\n",
            "Epoch 182/200\n",
            "11/11 [==============================] - 2s 149ms/step - loss: 5.0275e-05 - accuracy: 1.0000 - val_loss: 0.5317 - val_accuracy: 0.8707\n",
            "Epoch 183/200\n",
            "11/11 [==============================] - 2s 158ms/step - loss: 4.9048e-05 - accuracy: 1.0000 - val_loss: 0.5665 - val_accuracy: 0.8707\n",
            "Epoch 184/200\n",
            "11/11 [==============================] - 2s 162ms/step - loss: 2.7009e-05 - accuracy: 1.0000 - val_loss: 0.4935 - val_accuracy: 0.8844\n",
            "Epoch 185/200\n",
            "11/11 [==============================] - 2s 156ms/step - loss: 3.4508e-05 - accuracy: 1.0000 - val_loss: 0.5131 - val_accuracy: 0.8776\n",
            "Epoch 186/200\n",
            "11/11 [==============================] - 2s 171ms/step - loss: 8.6167e-06 - accuracy: 1.0000 - val_loss: 0.5076 - val_accuracy: 0.8844\n",
            "Epoch 187/200\n",
            "11/11 [==============================] - 2s 175ms/step - loss: 2.5678e-05 - accuracy: 1.0000 - val_loss: 0.4116 - val_accuracy: 0.9184\n",
            "Epoch 188/200\n",
            "11/11 [==============================] - 2s 166ms/step - loss: 3.4668e-05 - accuracy: 1.0000 - val_loss: 0.3530 - val_accuracy: 0.9252\n",
            "Epoch 189/200\n",
            "11/11 [==============================] - 2s 168ms/step - loss: 5.2564e-05 - accuracy: 1.0000 - val_loss: 0.2211 - val_accuracy: 0.9592\n",
            "Epoch 190/200\n",
            "11/11 [==============================] - 2s 172ms/step - loss: 1.9343e-05 - accuracy: 1.0000 - val_loss: 0.1978 - val_accuracy: 0.9728\n",
            "Epoch 191/200\n",
            "11/11 [==============================] - 2s 167ms/step - loss: 6.0165e-05 - accuracy: 1.0000 - val_loss: 0.1929 - val_accuracy: 0.9796\n",
            "Epoch 192/200\n",
            "11/11 [==============================] - 2s 178ms/step - loss: 1.9767e-05 - accuracy: 1.0000 - val_loss: 0.2694 - val_accuracy: 0.9592\n",
            "Epoch 193/200\n",
            "11/11 [==============================] - 2s 156ms/step - loss: 2.1909e-05 - accuracy: 1.0000 - val_loss: 0.3028 - val_accuracy: 0.9524\n",
            "Epoch 194/200\n",
            "11/11 [==============================] - 2s 154ms/step - loss: 2.4645e-05 - accuracy: 1.0000 - val_loss: 0.3303 - val_accuracy: 0.9456\n",
            "Epoch 195/200\n",
            "11/11 [==============================] - 2s 160ms/step - loss: 8.4318e-05 - accuracy: 1.0000 - val_loss: 0.2741 - val_accuracy: 0.9592\n",
            "Epoch 196/200\n",
            "11/11 [==============================] - 2s 168ms/step - loss: 4.2961e-05 - accuracy: 1.0000 - val_loss: 0.2329 - val_accuracy: 0.9660\n",
            "Epoch 197/200\n",
            "11/11 [==============================] - 2s 156ms/step - loss: 1.0570e-04 - accuracy: 1.0000 - val_loss: 0.2444 - val_accuracy: 0.9660\n",
            "Epoch 198/200\n",
            "11/11 [==============================] - 2s 160ms/step - loss: 1.3083e-04 - accuracy: 1.0000 - val_loss: 0.2399 - val_accuracy: 0.9660\n",
            "Epoch 199/200\n",
            "11/11 [==============================] - 2s 158ms/step - loss: 2.4531e-04 - accuracy: 1.0000 - val_loss: 0.2096 - val_accuracy: 0.9388\n",
            "Epoch 200/200\n",
            "11/11 [==============================] - 2s 156ms/step - loss: 1.6048e-05 - accuracy: 1.0000 - val_loss: 0.6240 - val_accuracy: 0.8367\n"
          ]
        }
      ]
    },
    {
      "cell_type": "code",
      "metadata": {
        "id": "cSTlOSUBWMpj"
      },
      "source": [
        "Y_test = yback(Y_test)"
      ],
      "execution_count": 20,
      "outputs": []
    },
    {
      "cell_type": "code",
      "metadata": {
        "id": "FDVY6HbxMOlH",
        "colab": {
          "base_uri": "https://localhost:8080/"
        },
        "outputId": "5cfd3a1c-4e7b-4036-ac0b-d52fb09ab1d4"
      },
      "source": [
        "# pred_test= model.predict_classes(X_test)\n",
        "pred_test = np.argmax(model.predict(X_test), axis=-1)\n",
        "\n",
        "data = {'y_true': Y_test,'y_predict': pred_test}  # este dado esta no formato de dicionario\n",
        "\n",
        "df = pd.DataFrame(data, columns=['y_true','y_predict'])\n",
        "\n",
        "\n",
        "confusion_matrix = pd.crosstab(df['y_true'], df['y_predict'], rownames=['Actual'], colnames=['Predict'])\n",
        "print(confusion_matrix)\n",
        "\n",
        "y_true = df['y_true']\n",
        "y_pred = df['y_predict']\n",
        "\n",
        "  \n",
        "METRICS=sklearn.metrics.classification_report(y_true, y_pred)"
      ],
      "execution_count": 21,
      "outputs": [
        {
          "output_type": "stream",
          "name": "stdout",
          "text": [
            "Predict   0   1\n",
            "Actual         \n",
            "0        48  24\n",
            "1         0  75\n"
          ]
        }
      ]
    },
    {
      "cell_type": "code",
      "metadata": {
        "id": "m7pT2q7traXg",
        "colab": {
          "base_uri": "https://localhost:8080/"
        },
        "outputId": "751e2baa-e237-4867-c34d-40f4d228a263"
      },
      "source": [
        "print(METRICS)"
      ],
      "execution_count": 22,
      "outputs": [
        {
          "output_type": "stream",
          "name": "stdout",
          "text": [
            "              precision    recall  f1-score   support\n",
            "\n",
            "           0       1.00      0.67      0.80        72\n",
            "           1       0.76      1.00      0.86        75\n",
            "\n",
            "    accuracy                           0.84       147\n",
            "   macro avg       0.88      0.83      0.83       147\n",
            "weighted avg       0.88      0.84      0.83       147\n",
            "\n"
          ]
        }
      ]
    },
    {
      "cell_type": "code",
      "metadata": {
        "id": "_iFNNrlWV9tH",
        "colab": {
          "base_uri": "https://localhost:8080/"
        },
        "outputId": "41495e33-0281-40ac-da29-91c66942fff5"
      },
      "source": [
        "pred_test"
      ],
      "execution_count": 23,
      "outputs": [
        {
          "output_type": "execute_result",
          "data": {
            "text/plain": [
              "array([1, 1, 1, 1, 1, 1, 0, 1, 1, 0, 0, 0, 1, 1, 1, 0, 1, 1, 1, 1, 1, 0,\n",
              "       1, 0, 1, 0, 0, 1, 1, 1, 0, 1, 1, 1, 0, 1, 0, 0, 0, 0, 1, 1, 1, 0,\n",
              "       0, 1, 1, 1, 1, 1, 1, 0, 1, 1, 0, 0, 1, 1, 1, 0, 1, 1, 0, 1, 1, 1,\n",
              "       1, 1, 1, 1, 1, 0, 1, 1, 1, 1, 1, 1, 0, 0, 1, 1, 1, 1, 0, 1, 1, 0,\n",
              "       1, 0, 0, 1, 0, 1, 1, 0, 1, 1, 1, 0, 1, 1, 1, 1, 1, 0, 1, 1, 0, 0,\n",
              "       0, 1, 1, 1, 1, 1, 1, 1, 0, 1, 0, 0, 0, 1, 1, 0, 0, 0, 0, 1, 1, 1,\n",
              "       0, 1, 1, 1, 1, 1, 1, 0, 1, 1, 1, 0, 1, 0, 1])"
            ]
          },
          "metadata": {},
          "execution_count": 23
        }
      ]
    },
    {
      "cell_type": "code",
      "metadata": {
        "id": "C5pq5z8DHeJ0",
        "colab": {
          "base_uri": "https://localhost:8080/",
          "height": 35
        },
        "outputId": "dd842ad8-5e43-48d2-e012-6fa59a12dfde"
      },
      "source": [
        "'''\n",
        "img=ww[4] \n",
        "df=Segmenta(img)\n",
        "df.shape\n",
        "'''"
      ],
      "execution_count": 24,
      "outputs": [
        {
          "output_type": "execute_result",
          "data": {
            "application/vnd.google.colaboratory.intrinsic+json": {
              "type": "string"
            },
            "text/plain": [
              "'\\nimg=ww[4] \\ndf=Segmenta(img)\\ndf.shape\\n'"
            ]
          },
          "metadata": {},
          "execution_count": 24
        }
      ]
    },
    {
      "cell_type": "code",
      "metadata": {
        "id": "A8ofkAXlS-0F",
        "outputId": "5934ea85-0f81-4f1a-b169-53fc26bc8fcc",
        "colab": {
          "base_uri": "https://localhost:8080/",
          "height": 218
        }
      },
      "source": [
        "Sample3 =[4,13,25]\n",
        "k = 0\n",
        "\n",
        "for i in Sample3:\n",
        "  img=ww[i]\n",
        "  if( k > 0):\n",
        "    df_old = df.copy()\n",
        "  df_ann=Segmenta(img)\n",
        "  if(k > 0):\n",
        "    df_ann = pd.concat( [df_ann, df_old], ignore_index = True)\n",
        "  k = k + 1\n",
        "#df_ann = df.copy\n",
        "\n",
        "df_teste = np.array(df_ann)\n",
        "names = df_ann.columns\n",
        "df_teste = pd.DataFrame(df_teste,columns=names)\n",
        "Width = df_ann['Width']\n",
        "#del df_ann['Width']\n",
        "names = df_ann.columns\n",
        "del df_ann['Width']\n",
        "result = np.array(df_ann)\n",
        "result = result.reshape(-1, Img_Size, Img_Size, 1) / 255.0\n",
        "prediction= np.argmax(model.predict(result), axis=-1)"
      ],
      "execution_count": 25,
      "outputs": [
        {
          "output_type": "error",
          "ename": "ValueError",
          "evalue": "ignored",
          "traceback": [
            "\u001b[0;31m---------------------------------------------------------------------------\u001b[0m",
            "\u001b[0;31mValueError\u001b[0m                                Traceback (most recent call last)",
            "\u001b[0;32m<ipython-input-25-911facde29e4>\u001b[0m in \u001b[0;36m<module>\u001b[0;34m()\u001b[0m\n\u001b[1;32m     20\u001b[0m \u001b[0;32mdel\u001b[0m \u001b[0mdf_ann\u001b[0m\u001b[0;34m[\u001b[0m\u001b[0;34m'Width'\u001b[0m\u001b[0;34m]\u001b[0m\u001b[0;34m\u001b[0m\u001b[0;34m\u001b[0m\u001b[0m\n\u001b[1;32m     21\u001b[0m \u001b[0mresult\u001b[0m \u001b[0;34m=\u001b[0m \u001b[0mnp\u001b[0m\u001b[0;34m.\u001b[0m\u001b[0marray\u001b[0m\u001b[0;34m(\u001b[0m\u001b[0mdf_ann\u001b[0m\u001b[0;34m)\u001b[0m\u001b[0;34m\u001b[0m\u001b[0;34m\u001b[0m\u001b[0m\n\u001b[0;32m---> 22\u001b[0;31m \u001b[0mresult\u001b[0m \u001b[0;34m=\u001b[0m \u001b[0mresult\u001b[0m\u001b[0;34m.\u001b[0m\u001b[0mreshape\u001b[0m\u001b[0;34m(\u001b[0m\u001b[0;34m-\u001b[0m\u001b[0;36m1\u001b[0m\u001b[0;34m,\u001b[0m \u001b[0mImg_Size\u001b[0m\u001b[0;34m,\u001b[0m \u001b[0mImg_Size\u001b[0m\u001b[0;34m,\u001b[0m \u001b[0;36m1\u001b[0m\u001b[0;34m)\u001b[0m \u001b[0;34m/\u001b[0m \u001b[0;36m255.0\u001b[0m\u001b[0;34m\u001b[0m\u001b[0;34m\u001b[0m\u001b[0m\n\u001b[0m\u001b[1;32m     23\u001b[0m \u001b[0mprediction\u001b[0m\u001b[0;34m=\u001b[0m \u001b[0mnp\u001b[0m\u001b[0;34m.\u001b[0m\u001b[0margmax\u001b[0m\u001b[0;34m(\u001b[0m\u001b[0mmodel\u001b[0m\u001b[0;34m.\u001b[0m\u001b[0mpredict\u001b[0m\u001b[0;34m(\u001b[0m\u001b[0mresult\u001b[0m\u001b[0;34m)\u001b[0m\u001b[0;34m,\u001b[0m \u001b[0maxis\u001b[0m\u001b[0;34m=\u001b[0m\u001b[0;34m-\u001b[0m\u001b[0;36m1\u001b[0m\u001b[0;34m)\u001b[0m\u001b[0;34m\u001b[0m\u001b[0;34m\u001b[0m\u001b[0m\n",
            "\u001b[0;31mValueError\u001b[0m: cannot reshape array of size 154842 into shape (28,28,1)"
          ]
        }
      ]
    },
    {
      "cell_type": "code",
      "metadata": {
        "id": "tpPmHbSRkdWR"
      },
      "source": [
        "result[0].shape"
      ],
      "execution_count": null,
      "outputs": []
    },
    {
      "cell_type": "code",
      "metadata": {
        "id": "mVJrBaVfPfCA"
      },
      "source": [
        "28*28"
      ],
      "execution_count": null,
      "outputs": []
    },
    {
      "cell_type": "code",
      "metadata": {
        "id": "31usb3UnY7lD"
      },
      "source": [
        "df_teste.shape # por que esta saindo 100 ???????"
      ],
      "execution_count": null,
      "outputs": []
    },
    {
      "cell_type": "code",
      "metadata": {
        "id": "zVHUUaL8XXs-"
      },
      "source": [
        "#df_ann"
      ],
      "execution_count": null,
      "outputs": []
    },
    {
      "cell_type": "code",
      "metadata": {
        "id": "-QBV18nYTaNE"
      },
      "source": [
        "img_graos = []\n",
        "Width_new = []\n",
        "k = 0\n",
        "for i in prediction:\n",
        "  if( i == 0):\n",
        "    img_graos.append(df_ann.iloc[k,:])\n",
        "    Width_new.append(Width.iloc[k])\n",
        "\n",
        "  k = k +1\n",
        "\n",
        "img_graos = pd.DataFrame(img_graos, columns=names )\n"
      ],
      "execution_count": null,
      "outputs": []
    },
    {
      "cell_type": "code",
      "metadata": {
        "id": "UMCLCNQobH-d"
      },
      "source": [
        "img_graos.shape"
      ],
      "execution_count": null,
      "outputs": []
    },
    {
      "cell_type": "code",
      "metadata": {
        "id": "touLevDmbBx5"
      },
      "source": [
        "k"
      ],
      "execution_count": null,
      "outputs": []
    },
    {
      "cell_type": "code",
      "metadata": {
        "id": "r4RSVgX4UhbC"
      },
      "source": [
        "img_graos.shape"
      ],
      "execution_count": null,
      "outputs": []
    },
    {
      "cell_type": "code",
      "metadata": {
        "id": "6LkA4vHp-f6_"
      },
      "source": [
        "Width=np.array(Width_new)"
      ],
      "execution_count": null,
      "outputs": []
    },
    {
      "cell_type": "code",
      "metadata": {
        "id": "MjRbWgmX_LFH"
      },
      "source": [
        "!git clone https://github.com/ucfilho/marquesgabi_paper_fev_2021\n",
        "%cd marquesgabi_paper_fev_2021\n",
        "\n",
        "from Get_PSDArea_New import PSDArea\n",
        "from histogram_fev_2021 import PSD\n",
        "#from GetBetterSegm import GetBetter"
      ],
      "execution_count": null,
      "outputs": []
    },
    {
      "cell_type": "code",
      "metadata": {
        "id": "WAG_I6FwCvFr"
      },
      "source": [
        "\n",
        "!git clone https://github.com/ucfilho/marquesgabi_out_2020\n",
        "#!git clone https://github.com/marquesgabi/Doutorado\n",
        "%cd marquesgabi_out_2020\n",
        "#%cd Doutorado\n",
        "#PSD_imageJ = 'Amostra7.csv' \n",
        "#PSD_new = pd.read_csv(PSD_imageJ,sep=';')\n",
        "#encoding='utf8'\n",
        "\n",
        "PSD_imageJ = 'Areas_ImageJ.csv'\n",
        "PSD_new = pd.read_csv(PSD_imageJ)\n",
        "print(PSD_new.head(3))\n",
        "''''''"
      ],
      "execution_count": null,
      "outputs": []
    },
    {
      "cell_type": "code",
      "metadata": {
        "id": "t_1WIM8w7poO"
      },
      "source": [
        "Area_All, Diameter_All=PSDArea(img_graos) "
      ],
      "execution_count": null,
      "outputs": []
    },
    {
      "cell_type": "code",
      "metadata": {
        "id": "bB3gOFPeDtoH"
      },
      "source": [
        "Width.shape"
      ],
      "execution_count": null,
      "outputs": []
    },
    {
      "cell_type": "code",
      "metadata": {
        "id": "3nO6cSz2dIqb"
      },
      "source": [
        "img_graos.shape"
      ],
      "execution_count": null,
      "outputs": []
    },
    {
      "cell_type": "code",
      "metadata": {
        "id": "PekBHQOT_6CP"
      },
      "source": [
        "img_graos.head()"
      ],
      "execution_count": null,
      "outputs": []
    },
    {
      "cell_type": "code",
      "metadata": {
        "id": "VaZPe_AxNBK9"
      },
      "source": [
        "PSD_new.head()"
      ],
      "execution_count": null,
      "outputs": []
    },
    {
      "cell_type": "code",
      "metadata": {
        "id": "4vmhG2LgCabC"
      },
      "source": [
        "# \n",
        "Area = df_ImgJ['Area'].values\n",
        "# Area = np.concatenate( (Area, [lost_value] ) )\n",
        "\n",
        "Diam1 = [ (4*A/np.pi)**0.5 for A in Area]\n",
        "\n"
      ],
      "execution_count": null,
      "outputs": []
    },
    {
      "cell_type": "code",
      "metadata": {
        "id": "79MY9ZHxBW37"
      },
      "source": [
        "len(Diameter_All)"
      ],
      "execution_count": null,
      "outputs": []
    },
    {
      "cell_type": "code",
      "metadata": {
        "id": "KooHVpH5k2mZ"
      },
      "source": [
        "#\n",
        "\n",
        "PSD_new['Area'].shape"
      ],
      "execution_count": null,
      "outputs": []
    },
    {
      "cell_type": "code",
      "metadata": {
        "id": "NFcOxMmjJjpL"
      },
      "source": [
        "#PSD_new.shape"
      ],
      "execution_count": null,
      "outputs": []
    },
    {
      "cell_type": "code",
      "metadata": {
        "id": "tPWCPPf7bzsf"
      },
      "source": [
        "#lost_value = float(PSD_new.columns[1])\n",
        "#Area2 = np.array(PSD_new.iloc[:,1])\n",
        "#Area2 = np.concatenate( (Area2, [lost_value] ) )\n",
        "Area2 = PSD_new['Area'].values\n",
        "for A in Area2:\n",
        "  Diam1.append((4*A/np.pi)**0.5) \n"
      ],
      "execution_count": null,
      "outputs": []
    },
    {
      "cell_type": "code",
      "metadata": {
        "id": "Vfk_fNXGDK5_"
      },
      "source": [
        "wt1 = np.ones(len(Diam1)) / len(Diam1)*100\n",
        "wt2 = np.ones(len(Diameter_All)) / len(Diameter_All)*100\n",
        "X = pd.DataFrame([Diam1,Diameter_All])\n",
        "wts = pd.DataFrame([wt1,wt2])\n"
      ],
      "execution_count": null,
      "outputs": []
    },
    {
      "cell_type": "code",
      "metadata": {
        "id": "xWf2nmnEp6yX"
      },
      "source": [
        "X"
      ],
      "execution_count": null,
      "outputs": []
    },
    {
      "cell_type": "code",
      "metadata": {
        "id": "VzFRjY4BLtbh"
      },
      "source": [
        "Diameter_All"
      ],
      "execution_count": null,
      "outputs": []
    },
    {
      "cell_type": "code",
      "metadata": {
        "id": "OieAXw_by3nz"
      },
      "source": [
        "A = plt.hist(X,weights=wts,bins=7)\n",
        "plt.legend(['True','CNN'])"
      ],
      "execution_count": null,
      "outputs": []
    },
    {
      "cell_type": "code",
      "metadata": {
        "id": "WryLryB9ovi3"
      },
      "source": [
        "print('ImgJ:','media=',np.mean(np.array(Diam1)),'desvio=',np.std(np.array(Diam1)),'pontos=',len(Diam1))"
      ],
      "execution_count": null,
      "outputs": []
    },
    {
      "cell_type": "code",
      "metadata": {
        "id": "s_Nyv-Nopbkc"
      },
      "source": [
        "print('Software:','media=',np.mean(np.array(Diameter_All)),'desvio=',np.std(np.array(Diameter_All)),'pontos=',len(Diameter_All))"
      ],
      "execution_count": null,
      "outputs": []
    },
    {
      "cell_type": "code",
      "metadata": {
        "id": "HpdrvEySy8Ij"
      },
      "source": [
        "np.mean(np.array(Diameter_All))"
      ],
      "execution_count": null,
      "outputs": []
    },
    {
      "cell_type": "code",
      "metadata": {
        "id": "yMK89w-fzCVe"
      },
      "source": [
        "# Freq1 = [19.12043703, 29.22484843, 19.35872174, 20.82190224, 11.47409056] # avarage 4 samples\n",
        "Freq1 = [20.69301557, 28.55598044, 18.50768331, 22.7106327, 8.905907357] # avarage 10 samples\n",
        "#Freq2 = [16.93792791, 31.38008965, 24.93810752, 18.56158392, 6.233810752, 0.4]\n",
        "Freq2 = [16.93792791, 31.38008965, 24.93810752, 18.56158392, 6.633810752]\n",
        "Freq3 = [22.22489, 30.15078, 25.10463, 19.30926, 2.810434]\n",
        "barWidth = 0.25\n",
        "\n",
        "br1 = range(len(Freq1))\n",
        "# Set position of bar on X axis\n",
        "br2 = [x + barWidth for x in br1]\n",
        "br3 = [x + barWidth for x in br2]\n",
        "# labels = [0.8, 1.0, 1.2, 1.4, 1.6, 1.8]\n",
        "labels = [0.8, 1.0, 1.2, 1.4, 1.6]\n",
        "\n",
        "xx=[]\n",
        "for a in labels:\n",
        "  xx.append(str(a))\n",
        "plt.bar(br1, Freq1 , color=\"green\", align=\"center\", width=0.3, tick_label= xx) \n",
        "plt.bar(br2, Freq2 , color=\"red\", align=\"center\", width=0.3, tick_label= xx)\n",
        "plt.bar(br3, Freq3 , color=\"blue\", align=\"center\", width=0.3, tick_label= xx)\n",
        "plt.legend(['CNN 1','CNN 2','True'])"
      ],
      "execution_count": null,
      "outputs": []
    }
  ]
}