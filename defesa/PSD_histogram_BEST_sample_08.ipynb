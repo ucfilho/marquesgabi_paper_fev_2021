{
  "nbformat": 4,
  "nbformat_minor": 0,
  "metadata": {
    "colab": {
      "name": "PSD_histogram_BEST_sample_08.ipynb",
      "provenance": [],
      "collapsed_sections": [],
      "include_colab_link": true
    },
    "kernelspec": {
      "display_name": "Python 3",
      "name": "python3"
    }
  },
  "cells": [
    {
      "cell_type": "markdown",
      "metadata": {
        "id": "view-in-github",
        "colab_type": "text"
      },
      "source": [
        "<a href=\"https://colab.research.google.com/github/ucfilho/marquesgabi_paper_fev_2021/blob/main/defesa/PSD_histogram_BEST_sample_08.ipynb\" target=\"_parent\"><img src=\"https://colab.research.google.com/assets/colab-badge.svg\" alt=\"Open In Colab\"/></a>"
      ]
    },
    {
      "cell_type": "code",
      "metadata": {
        "id": "Sog7Z9pyhUD_"
      },
      "source": [
        "import matplotlib.pyplot as plt\n",
        "import numpy as np\n",
        "import cv2\n",
        "import zipfile\n",
        "#import random\n",
        "from random import randint\n",
        "from PIL import Image\n",
        "import re\n",
        "from sklearn.model_selection import train_test_split\n",
        "#import scikit-image\n",
        "import skimage\n",
        "import sklearn\n",
        "import pandas as pd\n",
        "from keras.models import Sequential\n",
        "from keras.layers import Dense, Activation, Conv2D, MaxPooling2D, Flatten, Dropout, BatchNormalization\n",
        "from sklearn.metrics import r2_score\n",
        "from google.colab import files"
      ],
      "execution_count": 1,
      "outputs": []
    },
    {
      "cell_type": "code",
      "metadata": {
        "id": "rsqQZIu-mEfi"
      },
      "source": [
        "Repetir = 40"
      ],
      "execution_count": 2,
      "outputs": []
    },
    {
      "cell_type": "code",
      "metadata": {
        "id": "dwc7AZrXRyqk"
      },
      "source": [
        "# New version change routine inside MarquesGabi_Routines\n",
        "# Try to improve segmentation \n",
        "# New routine is called Segment_Filter_revisited_One... Two,Three, etc\n",
        "# this exemple threshold 0.4\n"
      ],
      "execution_count": 3,
      "outputs": []
    },
    {
      "cell_type": "code",
      "metadata": {
        "id": "uZEvJvfoibE4"
      },
      "source": [
        "#!pip install mahotas"
      ],
      "execution_count": 4,
      "outputs": []
    },
    {
      "cell_type": "code",
      "metadata": {
        "id": "3UZ30b1EVQhq"
      },
      "source": [
        "def BlackWhite(Transfere,Size):\n",
        "\n",
        "  img_name=[]\n",
        "  xw=[]\n",
        "  ww=[]\n",
        "\n",
        "  with zipfile.ZipFile(Transfere, \"r\") as f:\n",
        "    for name in f.namelist():\n",
        "      img_name.append(name)\n",
        "      #xw.append(cv2.imread(name))\n",
        "      xw.append(cv2.resize(cv2.imread(name),(Size,Size)))\n",
        "\n",
        "  nrow=len(img_name)\n",
        "  ncol=Size*Size\n",
        "  pw=np.zeros((nrow,ncol))\n",
        "  #pw=[]\n",
        "  for i in range(nrow):\n",
        "    ww.append(cv2.cvtColor(np.array(xw[i]), cv2.COLOR_BGR2GRAY))\n",
        "    pw[i,:]=ww[i].ravel()\n",
        "  return ww,img_name"
      ],
      "execution_count": 5,
      "outputs": []
    },
    {
      "cell_type": "code",
      "metadata": {
        "colab": {
          "base_uri": "https://localhost:8080/"
        },
        "id": "1v7SRrc8mH2N",
        "outputId": "6e20fb31-219b-4c06-ee7f-8f6961924161"
      },
      "source": [
        "!git clone https://github.com/marquesgabi/Doutorado\n",
        "%cd Doutorado\n",
        "\n",
        "Transfere='Fotos_Grandes_3cdAmostra.zip' \n",
        "file_name = zipfile.ZipFile(Transfere, 'r')\n",
        "file_name.extractall()"
      ],
      "execution_count": 6,
      "outputs": [
        {
          "output_type": "stream",
          "name": "stdout",
          "text": [
            "Cloning into 'Doutorado'...\n",
            "remote: Enumerating objects: 464, done.\u001b[K\n",
            "remote: Counting objects: 100% (214/214), done.\u001b[K\n",
            "remote: Compressing objects: 100% (210/210), done.\u001b[K\n",
            "remote: Total 464 (delta 102), reused 4 (delta 3), pack-reused 250\u001b[K\n",
            "Receiving objects: 100% (464/464), 166.12 MiB | 25.65 MiB/s, done.\n",
            "Resolving deltas: 100% (225/225), done.\n",
            "/content/Doutorado\n"
          ]
        }
      ]
    },
    {
      "cell_type": "code",
      "metadata": {
        "colab": {
          "base_uri": "https://localhost:8080/"
        },
        "id": "NqIYzUcnrdMp",
        "outputId": "2a24312b-9310-4c67-a845-59c310bf6e05"
      },
      "source": [
        "labels =[]\n",
        "with zipfile.ZipFile(Transfere, \"r\") as f:\n",
        "  for f in f.namelist():\n",
        "    labels.append(f)\n",
        "print(labels)"
      ],
      "execution_count": 7,
      "outputs": [
        {
          "output_type": "stream",
          "name": "stdout",
          "text": [
            "['Fotos_Grandes-3cdAmostra/Q6-8-4.jpg', 'Fotos_Grandes-3cdAmostra/Q6-5-3.jpg', 'Fotos_Grandes-3cdAmostra/Q6-7-4.jpg', 'Fotos_Grandes-3cdAmostra/Q6-8-2.jpg', 'Fotos_Grandes-3cdAmostra/Q6-3-2.jpg', 'Fotos_Grandes-3cdAmostra/Q6-7-2.jpg', 'Fotos_Grandes-3cdAmostra/Q6-4-4.jpg', 'Fotos_Grandes-3cdAmostra/Q6-9-5.jpg', 'Fotos_Grandes-3cdAmostra/Q6-2-5.jpg', 'Fotos_Grandes-3cdAmostra/Q6-8-3.jpg', 'Fotos_Grandes-3cdAmostra/Q6-9-3.jpg', 'Fotos_Grandes-3cdAmostra/Q6-1-2.jpg', 'Fotos_Grandes-3cdAmostra/Q6-6-3.jpg', 'Fotos_Grandes-3cdAmostra/Q6-3-4.jpg', 'Fotos_Grandes-3cdAmostra/Q6-1-4.jpg', 'Fotos_Grandes-3cdAmostra/Q6-6-2.jpg', 'Fotos_Grandes-3cdAmostra/Q6-4-3.jpg', 'Fotos_Grandes-3cdAmostra/Q6-7-3.jpg', 'Fotos_Grandes-3cdAmostra/Q6-2-2.jpg', 'Fotos_Grandes-3cdAmostra/Q6-9-2.jpg', 'Fotos_Grandes-3cdAmostra/Q6-1-5.jpg', 'Fotos_Grandes-3cdAmostra/Q6-6-5.jpg', 'Fotos_Grandes-3cdAmostra/Q6-2-1.jpg', 'Fotos_Grandes-3cdAmostra/Q6-5-2.jpg', 'Fotos_Grandes-3cdAmostra/Q6-4-1.jpg', 'Fotos_Grandes-3cdAmostra/Q6-3-1.jpg', 'Fotos_Grandes-3cdAmostra/Q6-5-4.jpg']\n"
          ]
        }
      ]
    },
    {
      "cell_type": "code",
      "metadata": {
        "id": "0kA4IWSmasoD"
      },
      "source": [
        "Size=1200 # tamanho da foto\n",
        "ww,img_name=BlackWhite(Transfere,Size) #Pegamos a primeira foto Grande\n",
        "# this is the big image we want to segment \n",
        "# ww[0], change it if you want to segment another picture"
      ],
      "execution_count": 8,
      "outputs": []
    },
    {
      "cell_type": "code",
      "metadata": {
        "colab": {
          "base_uri": "https://localhost:8080/"
        },
        "id": "tHgqAnaFyCjp",
        "outputId": "c44c2839-2408-403e-d17d-8b64277b6f0a"
      },
      "source": [
        "!git clone https://github.com/ucfilho/MarquesGabi_Routines\n",
        "%cd MarquesGabi_Routines"
      ],
      "execution_count": 9,
      "outputs": [
        {
          "output_type": "stream",
          "name": "stdout",
          "text": [
            "Cloning into 'MarquesGabi_Routines'...\n",
            "remote: Enumerating objects: 216, done.\u001b[K\n",
            "remote: Counting objects: 100% (216/216), done.\u001b[K\n",
            "remote: Compressing objects: 100% (214/214), done.\u001b[K\n",
            "remote: Total 216 (delta 90), reused 0 (delta 0), pack-reused 0\u001b[K\n",
            "Receiving objects: 100% (216/216), 211.76 MiB | 20.98 MiB/s, done.\n",
            "Resolving deltas: 100% (90/90), done.\n",
            "Checking out files: 100% (56/56), done.\n",
            "/content/Doutorado/MarquesGabi_Routines\n"
          ]
        }
      ]
    },
    {
      "cell_type": "code",
      "source": [
        "# Sample7 =[2, 5, 17] # \n",
        "# [2, 5, 17] sample 7---  [4,13,25] sample 3----[0, 3, 9] sample 8"
      ],
      "metadata": {
        "id": "yTmAAni65HgX"
      },
      "execution_count": 10,
      "outputs": []
    },
    {
      "cell_type": "code",
      "metadata": {
        "id": "XDEGUiuubwuZ"
      },
      "source": [
        "FILE='SugarSample08.zip'\n",
        "\n",
        "img_name=[]\n",
        "x_original = [] \n",
        "\n",
        "data_file ='txt'\n",
        "\n",
        "\n",
        "file_name = zipfile.ZipFile(FILE, 'r')\n",
        "file_name.extractall()\n",
        "\n",
        "k = 0\n",
        "with zipfile.ZipFile(FILE, \"r\") as f:\n",
        "    for name in f.namelist():\n",
        "      if(name[-3:] == data_file):\n",
        "        df_ImgJ =pd.read_csv(name,sep=';' )\n",
        "        if( k > 0):\n",
        "          df_old = df_ImgJ.copy()\n",
        "        #df_ImgJ = pd.read_excel(name)\n",
        "        df_ImgJ =pd.read_csv(name,sep=';' )\n",
        "        df_ImgJ = df_ImgJ.drop(labels=[0], axis=0)\n",
        "        if(k > 0):\n",
        "          df_ImgJ = pd.concat( [df_ImgJ, df_old], ignore_index = True)\n",
        "        k = k + 1"
      ],
      "execution_count": 11,
      "outputs": []
    },
    {
      "cell_type": "code",
      "source": [
        "df_ImgJ.head()"
      ],
      "metadata": {
        "colab": {
          "base_uri": "https://localhost:8080/",
          "height": 206
        },
        "id": "qBhZzo-Q1CCR",
        "outputId": "4bf1f687-5d89-4722-c294-793b142f8086"
      },
      "execution_count": 12,
      "outputs": [
        {
          "output_type": "execute_result",
          "data": {
            "text/html": [
              "\n",
              "  <div id=\"df-418c00eb-3ddf-44d0-925e-283ab94c5011\">\n",
              "    <div class=\"colab-df-container\">\n",
              "      <div>\n",
              "<style scoped>\n",
              "    .dataframe tbody tr th:only-of-type {\n",
              "        vertical-align: middle;\n",
              "    }\n",
              "\n",
              "    .dataframe tbody tr th {\n",
              "        vertical-align: top;\n",
              "    }\n",
              "\n",
              "    .dataframe thead th {\n",
              "        text-align: right;\n",
              "    }\n",
              "</style>\n",
              "<table border=\"1\" class=\"dataframe\">\n",
              "  <thead>\n",
              "    <tr style=\"text-align: right;\">\n",
              "      <th></th>\n",
              "      <th>Id \\tArea</th>\n",
              "    </tr>\n",
              "  </thead>\n",
              "  <tbody>\n",
              "    <tr>\n",
              "      <th>0</th>\n",
              "      <td>3\\t1.553</td>\n",
              "    </tr>\n",
              "    <tr>\n",
              "      <th>1</th>\n",
              "      <td>4\\t1.566</td>\n",
              "    </tr>\n",
              "    <tr>\n",
              "      <th>2</th>\n",
              "      <td>5\\t1.179</td>\n",
              "    </tr>\n",
              "    <tr>\n",
              "      <th>3</th>\n",
              "      <td>6\\t1.413</td>\n",
              "    </tr>\n",
              "    <tr>\n",
              "      <th>4</th>\n",
              "      <td>7\\t2.148</td>\n",
              "    </tr>\n",
              "  </tbody>\n",
              "</table>\n",
              "</div>\n",
              "      <button class=\"colab-df-convert\" onclick=\"convertToInteractive('df-418c00eb-3ddf-44d0-925e-283ab94c5011')\"\n",
              "              title=\"Convert this dataframe to an interactive table.\"\n",
              "              style=\"display:none;\">\n",
              "        \n",
              "  <svg xmlns=\"http://www.w3.org/2000/svg\" height=\"24px\"viewBox=\"0 0 24 24\"\n",
              "       width=\"24px\">\n",
              "    <path d=\"M0 0h24v24H0V0z\" fill=\"none\"/>\n",
              "    <path d=\"M18.56 5.44l.94 2.06.94-2.06 2.06-.94-2.06-.94-.94-2.06-.94 2.06-2.06.94zm-11 1L8.5 8.5l.94-2.06 2.06-.94-2.06-.94L8.5 2.5l-.94 2.06-2.06.94zm10 10l.94 2.06.94-2.06 2.06-.94-2.06-.94-.94-2.06-.94 2.06-2.06.94z\"/><path d=\"M17.41 7.96l-1.37-1.37c-.4-.4-.92-.59-1.43-.59-.52 0-1.04.2-1.43.59L10.3 9.45l-7.72 7.72c-.78.78-.78 2.05 0 2.83L4 21.41c.39.39.9.59 1.41.59.51 0 1.02-.2 1.41-.59l7.78-7.78 2.81-2.81c.8-.78.8-2.07 0-2.86zM5.41 20L4 18.59l7.72-7.72 1.47 1.35L5.41 20z\"/>\n",
              "  </svg>\n",
              "      </button>\n",
              "      \n",
              "  <style>\n",
              "    .colab-df-container {\n",
              "      display:flex;\n",
              "      flex-wrap:wrap;\n",
              "      gap: 12px;\n",
              "    }\n",
              "\n",
              "    .colab-df-convert {\n",
              "      background-color: #E8F0FE;\n",
              "      border: none;\n",
              "      border-radius: 50%;\n",
              "      cursor: pointer;\n",
              "      display: none;\n",
              "      fill: #1967D2;\n",
              "      height: 32px;\n",
              "      padding: 0 0 0 0;\n",
              "      width: 32px;\n",
              "    }\n",
              "\n",
              "    .colab-df-convert:hover {\n",
              "      background-color: #E2EBFA;\n",
              "      box-shadow: 0px 1px 2px rgba(60, 64, 67, 0.3), 0px 1px 3px 1px rgba(60, 64, 67, 0.15);\n",
              "      fill: #174EA6;\n",
              "    }\n",
              "\n",
              "    [theme=dark] .colab-df-convert {\n",
              "      background-color: #3B4455;\n",
              "      fill: #D2E3FC;\n",
              "    }\n",
              "\n",
              "    [theme=dark] .colab-df-convert:hover {\n",
              "      background-color: #434B5C;\n",
              "      box-shadow: 0px 1px 3px 1px rgba(0, 0, 0, 0.15);\n",
              "      filter: drop-shadow(0px 1px 2px rgba(0, 0, 0, 0.3));\n",
              "      fill: #FFFFFF;\n",
              "    }\n",
              "  </style>\n",
              "\n",
              "      <script>\n",
              "        const buttonEl =\n",
              "          document.querySelector('#df-418c00eb-3ddf-44d0-925e-283ab94c5011 button.colab-df-convert');\n",
              "        buttonEl.style.display =\n",
              "          google.colab.kernel.accessAllowed ? 'block' : 'none';\n",
              "\n",
              "        async function convertToInteractive(key) {\n",
              "          const element = document.querySelector('#df-418c00eb-3ddf-44d0-925e-283ab94c5011');\n",
              "          const dataTable =\n",
              "            await google.colab.kernel.invokeFunction('convertToInteractive',\n",
              "                                                     [key], {});\n",
              "          if (!dataTable) return;\n",
              "\n",
              "          const docLinkHtml = 'Like what you see? Visit the ' +\n",
              "            '<a target=\"_blank\" href=https://colab.research.google.com/notebooks/data_table.ipynb>data table notebook</a>'\n",
              "            + ' to learn more about interactive tables.';\n",
              "          element.innerHTML = '';\n",
              "          dataTable['output_type'] = 'display_data';\n",
              "          await google.colab.output.renderOutput(dataTable, element);\n",
              "          const docLink = document.createElement('div');\n",
              "          docLink.innerHTML = docLinkHtml;\n",
              "          element.appendChild(docLink);\n",
              "        }\n",
              "      </script>\n",
              "    </div>\n",
              "  </div>\n",
              "  "
            ],
            "text/plain": [
              "  Id \\tArea\n",
              "0  3\\t1.553\n",
              "1  4\\t1.566\n",
              "2  5\\t1.179\n",
              "3  6\\t1.413\n",
              "4  7\\t2.148"
            ]
          },
          "metadata": {},
          "execution_count": 12
        }
      ]
    },
    {
      "cell_type": "code",
      "source": [
        "name"
      ],
      "metadata": {
        "colab": {
          "base_uri": "https://localhost:8080/",
          "height": 35
        },
        "id": "kyI1NeKV19-O",
        "outputId": "ec8ce4d8-1047-4030-de8d-fe778887b251"
      },
      "execution_count": 13,
      "outputs": [
        {
          "output_type": "execute_result",
          "data": {
            "application/vnd.google.colaboratory.intrinsic+json": {
              "type": "string"
            },
            "text/plain": [
              "'Resultado8_4.txt'"
            ]
          },
          "metadata": {},
          "execution_count": 13
        }
      ]
    },
    {
      "cell_type": "code",
      "metadata": {
        "id": "XbQ0tal0etXx",
        "colab": {
          "base_uri": "https://localhost:8080/"
        },
        "outputId": "9770d1b6-7ce8-40ed-ca8d-e9a62221b5e0"
      },
      "source": [
        "f.namelist()"
      ],
      "execution_count": 14,
      "outputs": [
        {
          "output_type": "execute_result",
          "data": {
            "text/plain": [
              "['Resultado8_2.txt', 'Resultado8_3.txt', 'Resultado8_4.txt']"
            ]
          },
          "metadata": {},
          "execution_count": 14
        }
      ]
    },
    {
      "cell_type": "code",
      "metadata": {
        "id": "1KDJn09lGTBD"
      },
      "source": [
        "#df_ImgJ.head()"
      ],
      "execution_count": 15,
      "outputs": []
    },
    {
      "cell_type": "code",
      "metadata": {
        "id": "MMBJ6C-YdF3q"
      },
      "source": [
        "#df_ImgJ.head()"
      ],
      "execution_count": 16,
      "outputs": []
    },
    {
      "cell_type": "code",
      "metadata": {
        "id": "qc4rFvzkyWCi"
      },
      "source": [
        "from Segment_Filter_Revival import Segmenta  # got image provided segmented"
      ],
      "execution_count": 17,
      "outputs": []
    },
    {
      "cell_type": "code",
      "metadata": {
        "id": "xR2emP4rNjQy",
        "colab": {
          "base_uri": "https://localhost:8080/"
        },
        "outputId": "20f17e75-766c-4d90-ecfb-ea401dcdba8f"
      },
      "source": [
        "!git clone https://github.com/ucfilho/MarquesGabi_Routines\n",
        "%cd MarquesGabi_Routines"
      ],
      "execution_count": 18,
      "outputs": [
        {
          "output_type": "stream",
          "name": "stdout",
          "text": [
            "Cloning into 'MarquesGabi_Routines'...\n",
            "remote: Enumerating objects: 216, done.\u001b[K\n",
            "remote: Counting objects: 100% (216/216), done.\u001b[K\n",
            "remote: Compressing objects: 100% (213/213), done.\u001b[K\n",
            "remote: Total 216 (delta 90), reused 3 (delta 1), pack-reused 0\u001b[K\n",
            "Receiving objects: 100% (216/216), 211.76 MiB | 20.72 MiB/s, done.\n",
            "Resolving deltas: 100% (90/90), done.\n",
            "Checking out files: 100% (56/56), done.\n",
            "/content/Doutorado/MarquesGabi_Routines/MarquesGabi_Routines\n"
          ]
        }
      ]
    },
    {
      "cell_type": "code",
      "metadata": {
        "id": "O6cMHOrlNliO"
      },
      "source": [
        "# leitura dos dados\n",
        "df=pd.read_excel(\"FotosTreinoRede.xlsx\")\n",
        "y = df['y']\n",
        "df.drop(['Unnamed: 0','y'], axis='columns', inplace=True)"
      ],
      "execution_count": 19,
      "outputs": []
    },
    {
      "cell_type": "code",
      "metadata": {
        "id": "zQO8d2QbNqj0"
      },
      "source": [
        "X =np.array(df.copy())/255.0 \n",
        "\n",
        "\n",
        "X_train, X_test, Y_train, Y_test = train_test_split(X, y, test_size=0.30, shuffle=True, random_state=42)"
      ],
      "execution_count": 20,
      "outputs": []
    },
    {
      "cell_type": "code",
      "metadata": {
        "id": "gIFPGE_-vx3T"
      },
      "source": [
        "Img_Size = 28"
      ],
      "execution_count": 21,
      "outputs": []
    },
    {
      "cell_type": "code",
      "metadata": {
        "id": "23iKv6bDPWQl"
      },
      "source": [
        "# helper\n",
        "def ynindicator(Y):\n",
        "  N = len(Y)\n",
        "  K = len(set(Y))\n",
        "  I = np.zeros((N, K))\n",
        "  I[np.arange(N), Y] = 1\n",
        "  return I\n",
        "\n",
        "def yback(Y_test):\n",
        "  nrow, ncol = Y_test.shape\n",
        "  y_class = np.zeros(nrow,dtype=int)\n",
        "  y_resp = Y_test\n",
        "  for k in range(nrow):\n",
        "    for kk in range(K):\n",
        "      if(y_resp[k,kk] == 1):\n",
        "        y_class[k] = kk\n",
        "  Y_test = y_class.copy()\n",
        "  return Y_test\n",
        "\n",
        "X_train = np.array(X_train)\n",
        "Y_train = np.array(Y_train)\n",
        "K = len(set(Y_train))\n",
        "\n",
        "X_train = X_train.reshape(-1, Img_Size, Img_Size, 1) / 255.0\n",
        "Y_train = Y_train.astype(np.int32)\n",
        "Y_train = ynindicator(Y_train)\n",
        "\n",
        "X_test = np.array(X_test )\n",
        "Y_test = np.array(Y_test)\n",
        "X_test = X_test.reshape(-1, Img_Size, Img_Size, 1) / 255.0\n",
        "Y_test = Y_test.astype(np.int32)\n",
        "Y_test = ynindicator(Y_test)\n",
        "\n",
        "# the model will be a sequence of layers\n",
        "\n",
        "Description = '3 layers of Convolution: 64, 128, 256 '\n",
        "N1 = 20\n",
        "N2 = 20\n",
        "\n",
        "# make the CNN\n",
        "model = Sequential()\n",
        "model.add(Conv2D(input_shape=(Img_Size, Img_Size, 1), filters=64, kernel_size=(3, 3)))\n",
        "model.add(BatchNormalization())\n",
        "model.add(Activation('relu'))\n",
        "model.add(MaxPooling2D())\n",
        "\n",
        "model.add(Conv2D(filters=128, kernel_size=(3, 3)))\n",
        "model.add(BatchNormalization())\n",
        "model.add(Activation('relu'))\n",
        "model.add(MaxPooling2D())\n",
        "\n",
        "model.add(Conv2D(filters=256, kernel_size=(3, 3)))\n",
        "model.add(BatchNormalization())\n",
        "model.add(Activation('relu'))\n",
        "model.add(MaxPooling2D())\n",
        "\n",
        "model.add(Flatten())\n",
        "model.add(Dense(units=N1))\n",
        "model.add(Dropout(0.2))\n",
        "model.add(Dense(units=N2))\n",
        "model.add(Activation('relu'))\n",
        "#model.add(Dropout(0.2))\n",
        "model.add(Dense(units=K))\n",
        "model.add(Activation('softmax'))\n",
        "\n",
        "\n",
        "# list of losses: https://keras.io/losses/\n",
        "# list of optimizers: https://keras.io/optimizers/\n",
        "# list of metrics: https://keras.io/metrics/\n",
        "model.compile(\n",
        "  loss='categorical_crossentropy',\n",
        "  optimizer='adam',\n",
        "  metrics=['accuracy']\n",
        ")"
      ],
      "execution_count": 22,
      "outputs": []
    },
    {
      "cell_type": "code",
      "metadata": {
        "id": "FpbPQ1FSRG6A",
        "colab": {
          "base_uri": "https://localhost:8080/"
        },
        "outputId": "0e6d4acb-6beb-48e5-9ab3-41272c712e31"
      },
      "source": [
        "# training the model\n",
        "r = model.fit(X_train, Y_train, validation_data=(X_test,Y_test), \n",
        "              epochs=200, batch_size=32)"
      ],
      "execution_count": null,
      "outputs": [
        {
          "output_type": "stream",
          "name": "stdout",
          "text": [
            "Epoch 1/200\n",
            "11/11 [==============================] - 3s 166ms/step - loss: 0.5318 - accuracy: 0.7347 - val_loss: 0.6929 - val_accuracy: 0.5102\n",
            "Epoch 2/200\n",
            "11/11 [==============================] - 2s 139ms/step - loss: 0.3277 - accuracy: 0.8717 - val_loss: 0.6928 - val_accuracy: 0.5102\n",
            "Epoch 3/200\n",
            "11/11 [==============================] - 2s 140ms/step - loss: 0.1768 - accuracy: 0.9359 - val_loss: 0.6927 - val_accuracy: 0.5102\n",
            "Epoch 4/200\n",
            "11/11 [==============================] - 1s 134ms/step - loss: 0.1178 - accuracy: 0.9563 - val_loss: 0.6931 - val_accuracy: 0.5102\n",
            "Epoch 5/200\n",
            "11/11 [==============================] - 1s 137ms/step - loss: 0.0816 - accuracy: 0.9708 - val_loss: 0.6930 - val_accuracy: 0.5102\n",
            "Epoch 6/200\n",
            "11/11 [==============================] - 1s 135ms/step - loss: 0.0611 - accuracy: 0.9738 - val_loss: 0.6948 - val_accuracy: 0.5102\n",
            "Epoch 7/200\n",
            "11/11 [==============================] - 2s 140ms/step - loss: 0.0648 - accuracy: 0.9738 - val_loss: 0.6941 - val_accuracy: 0.5102\n",
            "Epoch 8/200\n",
            "11/11 [==============================] - 1s 135ms/step - loss: 0.0474 - accuracy: 0.9913 - val_loss: 0.6941 - val_accuracy: 0.5102\n",
            "Epoch 9/200\n",
            "11/11 [==============================] - 1s 136ms/step - loss: 0.0243 - accuracy: 0.9913 - val_loss: 0.6974 - val_accuracy: 0.5102\n",
            "Epoch 10/200\n",
            "11/11 [==============================] - 2s 210ms/step - loss: 0.0146 - accuracy: 0.9971 - val_loss: 0.6989 - val_accuracy: 0.5102\n",
            "Epoch 11/200\n",
            "11/11 [==============================] - 2s 139ms/step - loss: 0.0162 - accuracy: 1.0000 - val_loss: 0.6975 - val_accuracy: 0.5102\n",
            "Epoch 12/200\n",
            "11/11 [==============================] - 2s 139ms/step - loss: 0.0147 - accuracy: 0.9942 - val_loss: 0.7053 - val_accuracy: 0.5102\n",
            "Epoch 13/200\n",
            "11/11 [==============================] - 1s 137ms/step - loss: 0.0080 - accuracy: 1.0000 - val_loss: 0.7150 - val_accuracy: 0.5102\n",
            "Epoch 14/200\n",
            "11/11 [==============================] - 2s 137ms/step - loss: 0.0100 - accuracy: 0.9971 - val_loss: 0.7146 - val_accuracy: 0.5102\n",
            "Epoch 15/200\n",
            "11/11 [==============================] - 2s 140ms/step - loss: 0.0055 - accuracy: 0.9971 - val_loss: 0.7080 - val_accuracy: 0.5102\n",
            "Epoch 16/200\n",
            "11/11 [==============================] - 2s 141ms/step - loss: 0.0063 - accuracy: 1.0000 - val_loss: 0.7228 - val_accuracy: 0.5102\n",
            "Epoch 17/200\n",
            "11/11 [==============================] - 2s 138ms/step - loss: 0.0090 - accuracy: 0.9971 - val_loss: 0.7265 - val_accuracy: 0.5102\n",
            "Epoch 18/200\n",
            "11/11 [==============================] - 2s 140ms/step - loss: 0.0037 - accuracy: 1.0000 - val_loss: 0.7307 - val_accuracy: 0.5102\n",
            "Epoch 19/200\n",
            "11/11 [==============================] - 2s 142ms/step - loss: 0.0052 - accuracy: 1.0000 - val_loss: 0.7484 - val_accuracy: 0.5102\n",
            "Epoch 20/200\n",
            "11/11 [==============================] - 2s 138ms/step - loss: 0.0029 - accuracy: 1.0000 - val_loss: 0.7552 - val_accuracy: 0.5102\n",
            "Epoch 21/200\n",
            "11/11 [==============================] - 2s 139ms/step - loss: 0.0021 - accuracy: 1.0000 - val_loss: 0.7413 - val_accuracy: 0.5102\n",
            "Epoch 22/200\n",
            "11/11 [==============================] - 1s 138ms/step - loss: 0.0030 - accuracy: 1.0000 - val_loss: 0.7469 - val_accuracy: 0.5102\n",
            "Epoch 23/200\n",
            "11/11 [==============================] - 2s 142ms/step - loss: 8.0553e-04 - accuracy: 1.0000 - val_loss: 0.7627 - val_accuracy: 0.5102\n",
            "Epoch 24/200\n",
            "11/11 [==============================] - 1s 137ms/step - loss: 9.5062e-04 - accuracy: 1.0000 - val_loss: 0.7875 - val_accuracy: 0.5102\n",
            "Epoch 25/200\n",
            "11/11 [==============================] - 2s 140ms/step - loss: 0.0011 - accuracy: 1.0000 - val_loss: 0.8315 - val_accuracy: 0.5102\n",
            "Epoch 26/200\n",
            "11/11 [==============================] - 1s 138ms/step - loss: 3.7635e-04 - accuracy: 1.0000 - val_loss: 0.8607 - val_accuracy: 0.5102\n",
            "Epoch 27/200\n",
            "11/11 [==============================] - 2s 141ms/step - loss: 0.0019 - accuracy: 1.0000 - val_loss: 0.8567 - val_accuracy: 0.5102\n",
            "Epoch 28/200\n",
            "11/11 [==============================] - 2s 140ms/step - loss: 0.0029 - accuracy: 1.0000 - val_loss: 0.9466 - val_accuracy: 0.5102\n",
            "Epoch 29/200\n",
            "11/11 [==============================] - 2s 141ms/step - loss: 8.2135e-04 - accuracy: 1.0000 - val_loss: 1.0463 - val_accuracy: 0.5102\n",
            "Epoch 30/200\n",
            "11/11 [==============================] - 2s 142ms/step - loss: 0.0012 - accuracy: 1.0000 - val_loss: 0.9793 - val_accuracy: 0.5102\n",
            "Epoch 31/200\n",
            "11/11 [==============================] - 2s 141ms/step - loss: 0.0017 - accuracy: 1.0000 - val_loss: 0.8886 - val_accuracy: 0.5102\n",
            "Epoch 32/200\n",
            "11/11 [==============================] - 2s 138ms/step - loss: 3.6655e-04 - accuracy: 1.0000 - val_loss: 0.8689 - val_accuracy: 0.5102\n",
            "Epoch 33/200\n",
            "11/11 [==============================] - 2s 141ms/step - loss: 2.4257e-04 - accuracy: 1.0000 - val_loss: 0.8645 - val_accuracy: 0.5102\n",
            "Epoch 34/200\n",
            "11/11 [==============================] - 1s 138ms/step - loss: 7.8380e-04 - accuracy: 1.0000 - val_loss: 0.8496 - val_accuracy: 0.5102\n",
            "Epoch 35/200\n",
            "11/11 [==============================] - 2s 141ms/step - loss: 0.0013 - accuracy: 1.0000 - val_loss: 0.8369 - val_accuracy: 0.5102\n",
            "Epoch 36/200\n",
            "11/11 [==============================] - 2s 139ms/step - loss: 4.3234e-04 - accuracy: 1.0000 - val_loss: 0.8201 - val_accuracy: 0.5102\n",
            "Epoch 37/200\n",
            "11/11 [==============================] - 2s 142ms/step - loss: 0.0010 - accuracy: 1.0000 - val_loss: 0.8299 - val_accuracy: 0.5102\n",
            "Epoch 38/200\n",
            "11/11 [==============================] - 2s 139ms/step - loss: 2.8565e-04 - accuracy: 1.0000 - val_loss: 0.8256 - val_accuracy: 0.5102\n",
            "Epoch 39/200\n",
            "11/11 [==============================] - 2s 140ms/step - loss: 3.3993e-04 - accuracy: 1.0000 - val_loss: 0.8707 - val_accuracy: 0.5102\n",
            "Epoch 40/200\n",
            "11/11 [==============================] - 2s 140ms/step - loss: 2.8497e-04 - accuracy: 1.0000 - val_loss: 0.9728 - val_accuracy: 0.5102\n",
            "Epoch 41/200\n",
            "11/11 [==============================] - 2s 141ms/step - loss: 5.5185e-04 - accuracy: 1.0000 - val_loss: 1.0844 - val_accuracy: 0.5102\n",
            "Epoch 42/200\n",
            "11/11 [==============================] - 2s 141ms/step - loss: 2.3613e-04 - accuracy: 1.0000 - val_loss: 1.1665 - val_accuracy: 0.5102\n",
            "Epoch 43/200\n",
            "11/11 [==============================] - 2s 144ms/step - loss: 2.5323e-04 - accuracy: 1.0000 - val_loss: 1.1876 - val_accuracy: 0.5102\n",
            "Epoch 44/200\n",
            "11/11 [==============================] - 2s 138ms/step - loss: 3.4136e-04 - accuracy: 1.0000 - val_loss: 1.1294 - val_accuracy: 0.5102\n",
            "Epoch 45/200\n",
            "11/11 [==============================] - 2s 141ms/step - loss: 1.3184e-04 - accuracy: 1.0000 - val_loss: 1.1219 - val_accuracy: 0.5102\n",
            "Epoch 46/200\n",
            "11/11 [==============================] - 1s 136ms/step - loss: 3.2413e-04 - accuracy: 1.0000 - val_loss: 1.0718 - val_accuracy: 0.5102\n",
            "Epoch 47/200\n",
            "11/11 [==============================] - 2s 142ms/step - loss: 8.5236e-05 - accuracy: 1.0000 - val_loss: 1.0547 - val_accuracy: 0.5102\n",
            "Epoch 48/200\n",
            "11/11 [==============================] - 2s 138ms/step - loss: 1.9194e-04 - accuracy: 1.0000 - val_loss: 1.0527 - val_accuracy: 0.5102\n",
            "Epoch 49/200\n",
            "11/11 [==============================] - 2s 142ms/step - loss: 4.0521e-04 - accuracy: 1.0000 - val_loss: 1.0201 - val_accuracy: 0.5102\n",
            "Epoch 50/200\n",
            "11/11 [==============================] - 2s 140ms/step - loss: 9.2418e-05 - accuracy: 1.0000 - val_loss: 0.9276 - val_accuracy: 0.5238\n",
            "Epoch 51/200\n",
            "11/11 [==============================] - 1s 137ms/step - loss: 1.3997e-04 - accuracy: 1.0000 - val_loss: 0.7263 - val_accuracy: 0.5714\n",
            "Epoch 52/200\n",
            "11/11 [==============================] - 1s 137ms/step - loss: 2.9711e-04 - accuracy: 1.0000 - val_loss: 0.4595 - val_accuracy: 0.7143\n",
            "Epoch 53/200\n",
            "11/11 [==============================] - 2s 142ms/step - loss: 7.4751e-05 - accuracy: 1.0000 - val_loss: 0.3415 - val_accuracy: 0.8163\n",
            "Epoch 54/200\n",
            "11/11 [==============================] - 2s 138ms/step - loss: 2.5631e-04 - accuracy: 1.0000 - val_loss: 0.2721 - val_accuracy: 0.8844\n",
            "Epoch 55/200\n",
            "11/11 [==============================] - 2s 137ms/step - loss: 1.0954e-04 - accuracy: 1.0000 - val_loss: 0.2416 - val_accuracy: 0.8912\n",
            "Epoch 56/200\n",
            "11/11 [==============================] - 2s 137ms/step - loss: 1.0120e-04 - accuracy: 1.0000 - val_loss: 0.1864 - val_accuracy: 0.9252\n",
            "Epoch 57/200\n",
            "11/11 [==============================] - 2s 138ms/step - loss: 7.4722e-05 - accuracy: 1.0000 - val_loss: 0.1508 - val_accuracy: 0.9456\n",
            "Epoch 58/200\n",
            "11/11 [==============================] - 2s 208ms/step - loss: 9.5962e-04 - accuracy: 1.0000 - val_loss: 1.0148 - val_accuracy: 0.5714\n",
            "Epoch 59/200\n",
            "11/11 [==============================] - 2s 210ms/step - loss: 6.8283e-04 - accuracy: 1.0000 - val_loss: 1.8862 - val_accuracy: 0.5102\n",
            "Epoch 60/200\n",
            "11/11 [==============================] - 2s 142ms/step - loss: 1.7608e-04 - accuracy: 1.0000 - val_loss: 1.7744 - val_accuracy: 0.5102\n",
            "Epoch 61/200\n",
            "11/11 [==============================] - 2s 145ms/step - loss: 7.9434e-04 - accuracy: 1.0000 - val_loss: 2.8618 - val_accuracy: 0.5102\n",
            "Epoch 62/200\n",
            "11/11 [==============================] - 2s 142ms/step - loss: 1.4427e-04 - accuracy: 1.0000 - val_loss: 4.3861 - val_accuracy: 0.5102\n",
            "Epoch 63/200\n",
            "11/11 [==============================] - 2s 147ms/step - loss: 2.4175e-04 - accuracy: 1.0000 - val_loss: 4.8170 - val_accuracy: 0.5102\n",
            "Epoch 64/200\n",
            "11/11 [==============================] - 2s 142ms/step - loss: 1.1962e-04 - accuracy: 1.0000 - val_loss: 4.6261 - val_accuracy: 0.5102\n",
            "Epoch 65/200\n",
            "11/11 [==============================] - 2s 142ms/step - loss: 1.3529e-04 - accuracy: 1.0000 - val_loss: 3.9996 - val_accuracy: 0.5102\n",
            "Epoch 66/200\n",
            "11/11 [==============================] - 2s 141ms/step - loss: 1.1547e-04 - accuracy: 1.0000 - val_loss: 3.5908 - val_accuracy: 0.5102\n",
            "Epoch 67/200\n",
            "11/11 [==============================] - 2s 138ms/step - loss: 2.4104e-04 - accuracy: 1.0000 - val_loss: 3.0525 - val_accuracy: 0.5102\n",
            "Epoch 68/200\n",
            "11/11 [==============================] - 2s 140ms/step - loss: 4.3149e-04 - accuracy: 1.0000 - val_loss: 1.9275 - val_accuracy: 0.5102\n",
            "Epoch 69/200\n",
            "11/11 [==============================] - 2s 141ms/step - loss: 1.5846e-04 - accuracy: 1.0000 - val_loss: 1.7985 - val_accuracy: 0.5102\n",
            "Epoch 70/200\n",
            "11/11 [==============================] - 1s 136ms/step - loss: 3.7109e-05 - accuracy: 1.0000 - val_loss: 1.5509 - val_accuracy: 0.5170\n",
            "Epoch 71/200\n",
            "11/11 [==============================] - 1s 136ms/step - loss: 1.0953e-04 - accuracy: 1.0000 - val_loss: 1.3905 - val_accuracy: 0.5306\n",
            "Epoch 72/200\n",
            "11/11 [==============================] - 1s 135ms/step - loss: 2.2794e-04 - accuracy: 1.0000 - val_loss: 0.9787 - val_accuracy: 0.5442\n",
            "Epoch 73/200\n",
            "11/11 [==============================] - 2s 138ms/step - loss: 9.6618e-05 - accuracy: 1.0000 - val_loss: 0.6944 - val_accuracy: 0.6122\n",
            "Epoch 74/200\n",
            "11/11 [==============================] - 1s 138ms/step - loss: 0.0012 - accuracy: 1.0000 - val_loss: 0.9112 - val_accuracy: 0.5646\n",
            "Epoch 75/200\n",
            "11/11 [==============================] - 2s 138ms/step - loss: 2.9927e-04 - accuracy: 1.0000 - val_loss: 1.3590 - val_accuracy: 0.5306\n",
            "Epoch 76/200\n",
            "11/11 [==============================] - 2s 139ms/step - loss: 0.0011 - accuracy: 1.0000 - val_loss: 2.0226 - val_accuracy: 0.5102\n",
            "Epoch 77/200\n",
            "11/11 [==============================] - 2s 139ms/step - loss: 0.0010 - accuracy: 1.0000 - val_loss: 4.5809 - val_accuracy: 0.5102\n",
            "Epoch 78/200\n",
            "11/11 [==============================] - 2s 138ms/step - loss: 5.7014e-04 - accuracy: 1.0000 - val_loss: 9.3449 - val_accuracy: 0.5102\n",
            "Epoch 79/200\n",
            "11/11 [==============================] - 2s 140ms/step - loss: 0.0091 - accuracy: 0.9942 - val_loss: 5.1612 - val_accuracy: 0.5102\n",
            "Epoch 80/200\n",
            "11/11 [==============================] - 2s 139ms/step - loss: 0.0146 - accuracy: 0.9971 - val_loss: 30.0001 - val_accuracy: 0.5102\n",
            "Epoch 81/200\n",
            "11/11 [==============================] - 2s 139ms/step - loss: 0.3184 - accuracy: 0.9271 - val_loss: 274.8394 - val_accuracy: 0.5102\n",
            "Epoch 82/200\n",
            "11/11 [==============================] - 2s 140ms/step - loss: 0.1354 - accuracy: 0.9592 - val_loss: 819.1108 - val_accuracy: 0.5102\n",
            "Epoch 83/200\n",
            "11/11 [==============================] - 2s 141ms/step - loss: 0.0940 - accuracy: 0.9708 - val_loss: 816.9324 - val_accuracy: 0.5102\n",
            "Epoch 84/200\n",
            "11/11 [==============================] - 2s 138ms/step - loss: 0.0494 - accuracy: 0.9767 - val_loss: 725.7940 - val_accuracy: 0.5102\n",
            "Epoch 85/200\n",
            "11/11 [==============================] - 2s 139ms/step - loss: 0.0192 - accuracy: 0.9942 - val_loss: 597.0928 - val_accuracy: 0.5102\n",
            "Epoch 86/200\n",
            "11/11 [==============================] - 2s 141ms/step - loss: 0.0228 - accuracy: 0.9913 - val_loss: 306.1708 - val_accuracy: 0.5102\n",
            "Epoch 87/200\n",
            "11/11 [==============================] - 2s 139ms/step - loss: 0.0182 - accuracy: 0.9942 - val_loss: 266.7569 - val_accuracy: 0.5102\n",
            "Epoch 88/200\n",
            "11/11 [==============================] - 2s 145ms/step - loss: 0.0149 - accuracy: 0.9971 - val_loss: 205.5797 - val_accuracy: 0.5102\n",
            "Epoch 89/200\n",
            "11/11 [==============================] - 2s 143ms/step - loss: 0.0037 - accuracy: 1.0000 - val_loss: 156.5599 - val_accuracy: 0.5102\n",
            "Epoch 90/200\n",
            "11/11 [==============================] - 2s 139ms/step - loss: 0.0105 - accuracy: 0.9942 - val_loss: 140.8353 - val_accuracy: 0.5102\n",
            "Epoch 91/200\n",
            "11/11 [==============================] - 2s 141ms/step - loss: 0.0027 - accuracy: 1.0000 - val_loss: 134.8431 - val_accuracy: 0.5102\n",
            "Epoch 92/200\n",
            "11/11 [==============================] - 2s 143ms/step - loss: 0.0022 - accuracy: 1.0000 - val_loss: 123.9462 - val_accuracy: 0.5102\n",
            "Epoch 93/200\n",
            "11/11 [==============================] - 2s 141ms/step - loss: 0.0029 - accuracy: 1.0000 - val_loss: 116.3192 - val_accuracy: 0.5102\n",
            "Epoch 94/200\n",
            "11/11 [==============================] - 2s 139ms/step - loss: 0.0013 - accuracy: 1.0000 - val_loss: 107.5468 - val_accuracy: 0.5102\n",
            "Epoch 95/200\n",
            "11/11 [==============================] - 2s 141ms/step - loss: 7.6252e-04 - accuracy: 1.0000 - val_loss: 98.0435 - val_accuracy: 0.5102\n",
            "Epoch 96/200\n",
            "11/11 [==============================] - 2s 146ms/step - loss: 7.9463e-04 - accuracy: 1.0000 - val_loss: 88.2391 - val_accuracy: 0.5102\n",
            "Epoch 97/200\n",
            "11/11 [==============================] - 2s 139ms/step - loss: 0.0010 - accuracy: 1.0000 - val_loss: 77.3545 - val_accuracy: 0.5102\n",
            "Epoch 98/200\n",
            "11/11 [==============================] - 2s 139ms/step - loss: 0.0012 - accuracy: 1.0000 - val_loss: 67.2087 - val_accuracy: 0.5102\n",
            "Epoch 99/200\n",
            "11/11 [==============================] - 2s 141ms/step - loss: 0.0010 - accuracy: 1.0000 - val_loss: 65.8064 - val_accuracy: 0.5102\n",
            "Epoch 100/200\n",
            "11/11 [==============================] - 2s 141ms/step - loss: 7.7456e-04 - accuracy: 1.0000 - val_loss: 59.4648 - val_accuracy: 0.5102\n",
            "Epoch 101/200\n",
            "11/11 [==============================] - 2s 141ms/step - loss: 8.1089e-04 - accuracy: 1.0000 - val_loss: 49.8982 - val_accuracy: 0.5102\n",
            "Epoch 102/200\n",
            "11/11 [==============================] - 2s 142ms/step - loss: 0.0016 - accuracy: 1.0000 - val_loss: 45.2006 - val_accuracy: 0.5102\n",
            "Epoch 103/200\n",
            "11/11 [==============================] - 2s 142ms/step - loss: 5.7765e-04 - accuracy: 1.0000 - val_loss: 41.6123 - val_accuracy: 0.5102\n",
            "Epoch 104/200\n",
            "11/11 [==============================] - 2s 142ms/step - loss: 5.2857e-04 - accuracy: 1.0000 - val_loss: 36.6446 - val_accuracy: 0.5102\n",
            "Epoch 105/200\n",
            "11/11 [==============================] - 1s 136ms/step - loss: 0.0012 - accuracy: 1.0000 - val_loss: 30.5127 - val_accuracy: 0.5102\n",
            "Epoch 106/200\n",
            "11/11 [==============================] - 2s 141ms/step - loss: 8.4603e-04 - accuracy: 1.0000 - val_loss: 22.7350 - val_accuracy: 0.5102\n",
            "Epoch 107/200\n",
            "11/11 [==============================] - 1s 136ms/step - loss: 0.0011 - accuracy: 1.0000 - val_loss: 21.1267 - val_accuracy: 0.5102\n",
            "Epoch 108/200\n",
            "11/11 [==============================] - 2s 140ms/step - loss: 3.8405e-04 - accuracy: 1.0000 - val_loss: 20.7206 - val_accuracy: 0.5102\n",
            "Epoch 109/200\n",
            "11/11 [==============================] - 2s 140ms/step - loss: 3.2371e-04 - accuracy: 1.0000 - val_loss: 17.7384 - val_accuracy: 0.5102\n",
            "Epoch 110/200\n",
            "11/11 [==============================] - 2s 139ms/step - loss: 3.8178e-04 - accuracy: 1.0000 - val_loss: 15.4928 - val_accuracy: 0.5102\n",
            "Epoch 111/200\n",
            "11/11 [==============================] - 1s 136ms/step - loss: 2.2628e-04 - accuracy: 1.0000 - val_loss: 14.6693 - val_accuracy: 0.5102\n",
            "Epoch 112/200\n",
            "11/11 [==============================] - 2s 137ms/step - loss: 0.0041 - accuracy: 0.9971 - val_loss: 49.8222 - val_accuracy: 0.5102\n",
            "Epoch 113/200\n",
            "11/11 [==============================] - 2s 139ms/step - loss: 0.0060 - accuracy: 0.9971 - val_loss: 73.3293 - val_accuracy: 0.5102\n",
            "Epoch 114/200\n",
            "11/11 [==============================] - 2s 139ms/step - loss: 0.0035 - accuracy: 1.0000 - val_loss: 150.3212 - val_accuracy: 0.5102\n",
            "Epoch 115/200\n",
            "11/11 [==============================] - 1s 137ms/step - loss: 0.0354 - accuracy: 0.9883 - val_loss: 107.9254 - val_accuracy: 0.5102\n",
            "Epoch 116/200\n",
            "11/11 [==============================] - 2s 141ms/step - loss: 0.0167 - accuracy: 0.9971 - val_loss: 158.3887 - val_accuracy: 0.5102\n",
            "Epoch 117/200\n",
            "11/11 [==============================] - 2s 138ms/step - loss: 0.0195 - accuracy: 0.9913 - val_loss: 113.6420 - val_accuracy: 0.5102\n",
            "Epoch 118/200\n",
            "11/11 [==============================] - 2s 139ms/step - loss: 0.0052 - accuracy: 0.9971 - val_loss: 113.6681 - val_accuracy: 0.5102\n",
            "Epoch 119/200\n",
            "11/11 [==============================] - 2s 138ms/step - loss: 0.0050 - accuracy: 0.9971 - val_loss: 106.3762 - val_accuracy: 0.5102\n",
            "Epoch 120/200\n",
            "11/11 [==============================] - 2s 140ms/step - loss: 0.0029 - accuracy: 1.0000 - val_loss: 115.9106 - val_accuracy: 0.5102\n",
            "Epoch 121/200\n",
            "11/11 [==============================] - 2s 145ms/step - loss: 6.2243e-04 - accuracy: 1.0000 - val_loss: 138.3690 - val_accuracy: 0.5102\n",
            "Epoch 122/200\n",
            "11/11 [==============================] - 1s 135ms/step - loss: 0.0044 - accuracy: 0.9971 - val_loss: 137.3543 - val_accuracy: 0.5102\n",
            "Epoch 123/200\n",
            "11/11 [==============================] - 2s 139ms/step - loss: 8.6220e-04 - accuracy: 1.0000 - val_loss: 157.3221 - val_accuracy: 0.5102\n",
            "Epoch 124/200\n",
            "11/11 [==============================] - 2s 139ms/step - loss: 5.9162e-04 - accuracy: 1.0000 - val_loss: 154.7556 - val_accuracy: 0.5102\n",
            "Epoch 125/200\n",
            "11/11 [==============================] - 2s 138ms/step - loss: 1.6191e-04 - accuracy: 1.0000 - val_loss: 143.2834 - val_accuracy: 0.5102\n",
            "Epoch 126/200\n",
            "11/11 [==============================] - 2s 139ms/step - loss: 3.4458e-04 - accuracy: 1.0000 - val_loss: 128.8671 - val_accuracy: 0.5102\n",
            "Epoch 127/200\n",
            "11/11 [==============================] - 2s 139ms/step - loss: 5.2490e-04 - accuracy: 1.0000 - val_loss: 113.2441 - val_accuracy: 0.5102\n",
            "Epoch 128/200\n",
            "11/11 [==============================] - 2s 141ms/step - loss: 4.6642e-04 - accuracy: 1.0000 - val_loss: 100.5295 - val_accuracy: 0.5102\n",
            "Epoch 129/200\n",
            "11/11 [==============================] - 2s 139ms/step - loss: 2.7139e-04 - accuracy: 1.0000 - val_loss: 88.5236 - val_accuracy: 0.5102\n",
            "Epoch 130/200\n",
            "11/11 [==============================] - 2s 142ms/step - loss: 3.2376e-04 - accuracy: 1.0000 - val_loss: 74.7921 - val_accuracy: 0.5102\n",
            "Epoch 131/200\n",
            "11/11 [==============================] - 2s 140ms/step - loss: 1.3822e-04 - accuracy: 1.0000 - val_loss: 65.5810 - val_accuracy: 0.5102\n",
            "Epoch 132/200\n",
            "11/11 [==============================] - 2s 141ms/step - loss: 2.3261e-04 - accuracy: 1.0000 - val_loss: 56.6917 - val_accuracy: 0.5102\n",
            "Epoch 133/200\n",
            "11/11 [==============================] - 2s 139ms/step - loss: 3.9952e-04 - accuracy: 1.0000 - val_loss: 48.9370 - val_accuracy: 0.5102\n",
            "Epoch 134/200\n",
            "11/11 [==============================] - 2s 139ms/step - loss: 1.4666e-04 - accuracy: 1.0000 - val_loss: 41.2159 - val_accuracy: 0.5102\n",
            "Epoch 135/200\n",
            "11/11 [==============================] - 1s 136ms/step - loss: 7.0965e-05 - accuracy: 1.0000 - val_loss: 36.1657 - val_accuracy: 0.5102\n",
            "Epoch 136/200\n",
            "11/11 [==============================] - 1s 137ms/step - loss: 2.7057e-04 - accuracy: 1.0000 - val_loss: 32.6131 - val_accuracy: 0.5102\n",
            "Epoch 137/200\n",
            "11/11 [==============================] - 2s 138ms/step - loss: 5.7098e-04 - accuracy: 1.0000 - val_loss: 28.2570 - val_accuracy: 0.5102\n",
            "Epoch 138/200\n",
            "11/11 [==============================] - 2s 138ms/step - loss: 1.1888e-04 - accuracy: 1.0000 - val_loss: 24.8295 - val_accuracy: 0.5102\n",
            "Epoch 139/200\n",
            "11/11 [==============================] - 2s 141ms/step - loss: 3.1250e-04 - accuracy: 1.0000 - val_loss: 21.4343 - val_accuracy: 0.5102\n",
            "Epoch 140/200\n",
            "11/11 [==============================] - 2s 140ms/step - loss: 4.5218e-04 - accuracy: 1.0000 - val_loss: 18.6966 - val_accuracy: 0.5102\n",
            "Epoch 141/200\n",
            "11/11 [==============================] - 2s 139ms/step - loss: 8.0554e-05 - accuracy: 1.0000 - val_loss: 15.9902 - val_accuracy: 0.5102\n",
            "Epoch 142/200\n",
            "11/11 [==============================] - 2s 139ms/step - loss: 1.6987e-04 - accuracy: 1.0000 - val_loss: 13.9548 - val_accuracy: 0.5102\n",
            "Epoch 143/200\n",
            "11/11 [==============================] - 2s 142ms/step - loss: 0.0015 - accuracy: 1.0000 - val_loss: 11.2982 - val_accuracy: 0.5102\n",
            "Epoch 144/200\n",
            "11/11 [==============================] - 2s 142ms/step - loss: 6.2665e-05 - accuracy: 1.0000 - val_loss: 7.8185 - val_accuracy: 0.5102\n",
            "Epoch 145/200\n",
            "11/11 [==============================] - 2s 142ms/step - loss: 7.6401e-04 - accuracy: 1.0000 - val_loss: 8.8230 - val_accuracy: 0.5102\n",
            "Epoch 146/200\n",
            "11/11 [==============================] - 2s 141ms/step - loss: 1.1821e-04 - accuracy: 1.0000 - val_loss: 9.1673 - val_accuracy: 0.5102\n",
            "Epoch 147/200\n",
            "11/11 [==============================] - 2s 141ms/step - loss: 2.4899e-04 - accuracy: 1.0000 - val_loss: 7.9909 - val_accuracy: 0.5102\n",
            "Epoch 148/200\n",
            "11/11 [==============================] - 2s 152ms/step - loss: 1.0184e-04 - accuracy: 1.0000 - val_loss: 6.9340 - val_accuracy: 0.5238\n",
            "Epoch 149/200\n",
            "11/11 [==============================] - 2s 151ms/step - loss: 6.7633e-05 - accuracy: 1.0000 - val_loss: 5.6708 - val_accuracy: 0.5442\n",
            "Epoch 150/200\n",
            "11/11 [==============================] - 2s 155ms/step - loss: 1.6709e-04 - accuracy: 1.0000 - val_loss: 4.1696 - val_accuracy: 0.5918\n",
            "Epoch 151/200\n",
            "11/11 [==============================] - 2s 142ms/step - loss: 1.6887e-04 - accuracy: 1.0000 - val_loss: 3.1483 - val_accuracy: 0.6190\n",
            "Epoch 152/200\n",
            "11/11 [==============================] - 2s 142ms/step - loss: 1.3360e-04 - accuracy: 1.0000 - val_loss: 2.4172 - val_accuracy: 0.6735\n",
            "Epoch 153/200\n",
            "11/11 [==============================] - 2s 143ms/step - loss: 1.6005e-04 - accuracy: 1.0000 - val_loss: 1.8380 - val_accuracy: 0.7143\n",
            "Epoch 154/200\n",
            "11/11 [==============================] - 2s 143ms/step - loss: 8.6461e-05 - accuracy: 1.0000 - val_loss: 1.3206 - val_accuracy: 0.7415\n",
            "Epoch 155/200\n",
            "11/11 [==============================] - 2s 140ms/step - loss: 6.5338e-05 - accuracy: 1.0000 - val_loss: 0.9535 - val_accuracy: 0.8231\n",
            "Epoch 156/200\n",
            "11/11 [==============================] - 2s 142ms/step - loss: 3.9572e-04 - accuracy: 1.0000 - val_loss: 0.8244 - val_accuracy: 0.8299\n",
            "Epoch 157/200\n",
            "11/11 [==============================] - 2s 140ms/step - loss: 1.3501e-04 - accuracy: 1.0000 - val_loss: 2.1564 - val_accuracy: 0.7007\n",
            "Epoch 158/200\n",
            "11/11 [==============================] - 2s 143ms/step - loss: 9.4196e-05 - accuracy: 1.0000 - val_loss: 2.9625 - val_accuracy: 0.6190\n",
            "Epoch 159/200\n",
            "11/11 [==============================] - 2s 141ms/step - loss: 1.5646e-04 - accuracy: 1.0000 - val_loss: 2.4298 - val_accuracy: 0.6871\n",
            "Epoch 160/200\n",
            "11/11 [==============================] - 2s 144ms/step - loss: 1.2972e-04 - accuracy: 1.0000 - val_loss: 1.9496 - val_accuracy: 0.7007\n",
            "Epoch 161/200\n",
            "11/11 [==============================] - 2s 143ms/step - loss: 3.0597e-04 - accuracy: 1.0000 - val_loss: 1.4677 - val_accuracy: 0.7347\n",
            "Epoch 162/200\n",
            "11/11 [==============================] - 2s 142ms/step - loss: 2.9041e-05 - accuracy: 1.0000 - val_loss: 1.4496 - val_accuracy: 0.7279\n",
            "Epoch 163/200\n",
            "11/11 [==============================] - 2s 145ms/step - loss: 2.2866e-04 - accuracy: 1.0000 - val_loss: 1.6435 - val_accuracy: 0.7211\n",
            "Epoch 164/200\n",
            "11/11 [==============================] - 2s 141ms/step - loss: 1.7713e-04 - accuracy: 1.0000 - val_loss: 1.6392 - val_accuracy: 0.7347\n",
            "Epoch 165/200\n",
            "11/11 [==============================] - 2s 142ms/step - loss: 8.0719e-05 - accuracy: 1.0000 - val_loss: 1.7268 - val_accuracy: 0.7347\n",
            "Epoch 166/200\n",
            "11/11 [==============================] - 2s 143ms/step - loss: 2.5431e-05 - accuracy: 1.0000 - val_loss: 1.5064 - val_accuracy: 0.7347\n",
            "Epoch 167/200\n",
            "11/11 [==============================] - 2s 139ms/step - loss: 6.5802e-05 - accuracy: 1.0000 - val_loss: 0.9570 - val_accuracy: 0.8095\n",
            "Epoch 168/200\n",
            "11/11 [==============================] - 2s 142ms/step - loss: 1.7424e-04 - accuracy: 1.0000 - val_loss: 0.3815 - val_accuracy: 0.8980\n",
            "Epoch 169/200\n",
            "11/11 [==============================] - 2s 141ms/step - loss: 6.9125e-05 - accuracy: 1.0000 - val_loss: 0.2660 - val_accuracy: 0.9456\n",
            "Epoch 170/200\n",
            "11/11 [==============================] - 2s 151ms/step - loss: 1.4873e-04 - accuracy: 1.0000 - val_loss: 0.2214 - val_accuracy: 0.9456\n",
            "Epoch 171/200\n",
            "11/11 [==============================] - 2s 138ms/step - loss: 3.9368e-05 - accuracy: 1.0000 - val_loss: 0.2563 - val_accuracy: 0.9456\n",
            "Epoch 172/200\n",
            "11/11 [==============================] - 2s 143ms/step - loss: 1.4844e-04 - accuracy: 1.0000 - val_loss: 0.1886 - val_accuracy: 0.9660\n",
            "Epoch 173/200\n",
            "11/11 [==============================] - 2s 142ms/step - loss: 5.0980e-05 - accuracy: 1.0000 - val_loss: 0.1711 - val_accuracy: 0.9728\n",
            "Epoch 174/200\n",
            "11/11 [==============================] - 2s 143ms/step - loss: 3.0210e-05 - accuracy: 1.0000 - val_loss: 0.1789 - val_accuracy: 0.9660\n",
            "Epoch 175/200\n",
            "11/11 [==============================] - 2s 140ms/step - loss: 2.4771e-04 - accuracy: 1.0000 - val_loss: 0.3816 - val_accuracy: 0.9320\n",
            "Epoch 176/200\n",
            "11/11 [==============================] - 2s 156ms/step - loss: 6.5082e-05 - accuracy: 1.0000 - val_loss: 0.3903 - val_accuracy: 0.9320\n",
            "Epoch 177/200\n",
            "11/11 [==============================] - 2s 148ms/step - loss: 3.3440e-05 - accuracy: 1.0000 - val_loss: 0.3693 - val_accuracy: 0.9388\n",
            "Epoch 178/200\n",
            "11/11 [==============================] - 2s 156ms/step - loss: 4.2862e-05 - accuracy: 1.0000 - val_loss: 0.3532 - val_accuracy: 0.9388\n",
            "Epoch 179/200\n",
            "11/11 [==============================] - 2s 141ms/step - loss: 2.0198e-04 - accuracy: 1.0000 - val_loss: 0.3877 - val_accuracy: 0.9184\n",
            "Epoch 180/200\n",
            "11/11 [==============================] - 2s 143ms/step - loss: 3.3298e-05 - accuracy: 1.0000 - val_loss: 0.5571 - val_accuracy: 0.9048\n",
            "Epoch 181/200\n",
            "11/11 [==============================] - 2s 146ms/step - loss: 2.2010e-05 - accuracy: 1.0000 - val_loss: 0.5883 - val_accuracy: 0.8912\n",
            "Epoch 182/200\n",
            "11/11 [==============================] - 2s 146ms/step - loss: 6.8856e-05 - accuracy: 1.0000 - val_loss: 0.4567 - val_accuracy: 0.9048\n",
            "Epoch 183/200\n",
            "11/11 [==============================] - 2s 137ms/step - loss: 2.6627e-05 - accuracy: 1.0000 - val_loss: 0.3749 - val_accuracy: 0.9184\n",
            "Epoch 184/200\n",
            "11/11 [==============================] - 2s 141ms/step - loss: 1.1801e-05 - accuracy: 1.0000 - val_loss: 0.3307 - val_accuracy: 0.9388\n",
            "Epoch 185/200\n",
            "11/11 [==============================] - 2s 144ms/step - loss: 1.5351e-05 - accuracy: 1.0000 - val_loss: 0.3075 - val_accuracy: 0.9456\n",
            "Epoch 186/200\n",
            "11/11 [==============================] - 2s 147ms/step - loss: 4.4927e-04 - accuracy: 1.0000 - val_loss: 0.5043 - val_accuracy: 0.8912\n",
            "Epoch 187/200\n",
            "11/11 [==============================] - 2s 145ms/step - loss: 2.1779e-05 - accuracy: 1.0000 - val_loss: 0.8689 - val_accuracy: 0.8639\n",
            "Epoch 188/200\n",
            "11/11 [==============================] - 2s 140ms/step - loss: 6.4930e-05 - accuracy: 1.0000 - val_loss: 0.9453 - val_accuracy: 0.8435\n",
            "Epoch 189/200\n",
            "11/11 [==============================] - 2s 144ms/step - loss: 2.9934e-05 - accuracy: 1.0000 - val_loss: 0.7684 - val_accuracy: 0.8639\n",
            "Epoch 190/200\n",
            "11/11 [==============================] - 2s 156ms/step - loss: 4.8653e-05 - accuracy: 1.0000 - val_loss: 0.5453 - val_accuracy: 0.8912\n",
            "Epoch 191/200\n",
            "11/11 [==============================] - 2s 163ms/step - loss: 2.4580e-05 - accuracy: 1.0000 - val_loss: 0.4015 - val_accuracy: 0.8980\n",
            "Epoch 192/200\n",
            "11/11 [==============================] - 2s 164ms/step - loss: 7.8306e-05 - accuracy: 1.0000 - val_loss: 0.2742 - val_accuracy: 0.9388\n",
            "Epoch 193/200\n",
            "11/11 [==============================] - 2s 178ms/step - loss: 1.5347e-04 - accuracy: 1.0000 - val_loss: 0.1899 - val_accuracy: 0.9592\n",
            "Epoch 194/200\n",
            "11/11 [==============================] - 2s 177ms/step - loss: 6.4491e-05 - accuracy: 1.0000 - val_loss: 0.1987 - val_accuracy: 0.9524\n",
            "Epoch 195/200\n",
            "11/11 [==============================] - 2s 174ms/step - loss: 1.1760e-04 - accuracy: 1.0000 - val_loss: 0.1975 - val_accuracy: 0.9524\n",
            "Epoch 196/200\n",
            "11/11 [==============================] - 2s 159ms/step - loss: 2.7956e-05 - accuracy: 1.0000 - val_loss: 0.2037 - val_accuracy: 0.9524\n",
            "Epoch 197/200\n",
            "11/11 [==============================] - 2s 153ms/step - loss: 6.1872e-05 - accuracy: 1.0000 - val_loss: 0.2043 - val_accuracy: 0.9592\n",
            "Epoch 198/200\n",
            "11/11 [==============================] - 2s 141ms/step - loss: 4.1521e-05 - accuracy: 1.0000 - val_loss: 0.1959 - val_accuracy: 0.9592\n",
            "Epoch 199/200\n",
            "11/11 [==============================] - 2s 151ms/step - loss: 4.4511e-05 - accuracy: 1.0000 - val_loss: 0.2004 - val_accuracy: 0.9660\n",
            "Epoch 200/200\n",
            "11/11 [==============================] - 2s 147ms/step - loss: 4.8139e-05 - accuracy: 1.0000 - val_loss: 0.2065 - val_accuracy: 0.9660\n"
          ]
        }
      ]
    },
    {
      "cell_type": "code",
      "metadata": {
        "id": "cSTlOSUBWMpj"
      },
      "source": [
        "Y_test = yback(Y_test)"
      ],
      "execution_count": null,
      "outputs": []
    },
    {
      "cell_type": "code",
      "metadata": {
        "id": "FDVY6HbxMOlH"
      },
      "source": [
        "# pred_test= model.predict_classes(X_test)\n",
        "pred_test = np.argmax(model.predict(X_test), axis=-1)\n",
        "\n",
        "data = {'y_true': Y_test,'y_predict': pred_test}  # este dado esta no formato de dicionario\n",
        "\n",
        "df = pd.DataFrame(data, columns=['y_true','y_predict'])\n",
        "\n",
        "\n",
        "confusion_matrix = pd.crosstab(df['y_true'], df['y_predict'], rownames=['Actual'], colnames=['Predict'])\n",
        "print(confusion_matrix)\n",
        "\n",
        "y_true = df['y_true']\n",
        "y_pred = df['y_predict']\n",
        "\n",
        "  \n",
        "METRICS=sklearn.metrics.classification_report(y_true, y_pred)"
      ],
      "execution_count": null,
      "outputs": []
    },
    {
      "cell_type": "code",
      "metadata": {
        "id": "m7pT2q7traXg"
      },
      "source": [
        "print(METRICS)"
      ],
      "execution_count": null,
      "outputs": []
    },
    {
      "cell_type": "code",
      "metadata": {
        "id": "_iFNNrlWV9tH"
      },
      "source": [
        "pred_test"
      ],
      "execution_count": null,
      "outputs": []
    },
    {
      "cell_type": "code",
      "metadata": {
        "id": "C5pq5z8DHeJ0"
      },
      "source": [
        "'''\n",
        "img=ww[4] \n",
        "df=Segmenta(img)\n",
        "df.shape\n",
        "'''"
      ],
      "execution_count": null,
      "outputs": []
    },
    {
      "cell_type": "code",
      "metadata": {
        "id": "A8ofkAXlS-0F"
      },
      "source": [
        "Sample3 =[4,13,25]\n",
        "Sample7 =[2, 5, 17]\n",
        "Sample8 =[0, 3, 9]\n",
        "\n",
        "for i in range(Repetir):\n",
        "  k = 0\n",
        "  for i in Sample8:\n",
        "    img=ww[i]\n",
        "    if( k > 0):\n",
        "      df_old = df_ann.copy()\n",
        "    df_ann=Segmenta(img)\n",
        "    if(k > 0):\n",
        "      df_ann = pd.concat( [df_ann, df_old], ignore_index = True)\n",
        "    k = k + 1\n",
        "#df_ann = df.copy\n",
        "\n",
        "df_teste = np.array(df_ann)\n",
        "names = df_ann.columns\n",
        "df_teste = pd.DataFrame(df_teste,columns=names)\n",
        "Width = df_ann['Width']\n",
        "#del df_ann['Width']\n",
        "names = df_ann.columns\n",
        "del df_ann['Width']\n",
        "result = np.array(df_ann)\n",
        "result = result.reshape(-1, Img_Size, Img_Size, 1) / 255.0\n",
        "prediction= np.argmax(model.predict(result), axis=-1)"
      ],
      "execution_count": null,
      "outputs": []
    },
    {
      "cell_type": "code",
      "metadata": {
        "id": "_kfx72YkUYiz"
      },
      "source": [
        "df_ann"
      ],
      "execution_count": null,
      "outputs": []
    },
    {
      "cell_type": "code",
      "metadata": {
        "id": "31usb3UnY7lD"
      },
      "source": [
        "df_teste.shape # por que esta saindo 100 ???????"
      ],
      "execution_count": null,
      "outputs": []
    },
    {
      "cell_type": "code",
      "metadata": {
        "id": "zVHUUaL8XXs-"
      },
      "source": [
        "#df_ann"
      ],
      "execution_count": null,
      "outputs": []
    },
    {
      "cell_type": "code",
      "metadata": {
        "id": "-QBV18nYTaNE"
      },
      "source": [
        "img_graos = []\n",
        "Width_new = []\n",
        "k = 0\n",
        "for i in prediction:\n",
        "  if( i == 0):\n",
        "    img_graos.append(df_teste.iloc[k,:])\n",
        "    Width_new.append(Width.iloc[k])\n",
        "\n",
        "  k = k +1\n",
        "\n",
        "img_graos = pd.DataFrame(img_graos, columns=names )\n"
      ],
      "execution_count": null,
      "outputs": []
    },
    {
      "cell_type": "code",
      "metadata": {
        "id": "UMCLCNQobH-d"
      },
      "source": [
        "img_graos.shape"
      ],
      "execution_count": null,
      "outputs": []
    },
    {
      "cell_type": "code",
      "metadata": {
        "id": "touLevDmbBx5"
      },
      "source": [
        "prediction"
      ],
      "execution_count": null,
      "outputs": []
    },
    {
      "cell_type": "code",
      "metadata": {
        "id": "r4RSVgX4UhbC"
      },
      "source": [
        "img_graos.shape"
      ],
      "execution_count": null,
      "outputs": []
    },
    {
      "cell_type": "code",
      "metadata": {
        "id": "6LkA4vHp-f6_"
      },
      "source": [
        "Width=np.array(Width_new)"
      ],
      "execution_count": null,
      "outputs": []
    },
    {
      "cell_type": "code",
      "metadata": {
        "id": "MjRbWgmX_LFH"
      },
      "source": [
        "!git clone https://github.com/ucfilho/marquesgabi_paper_fev_2021\n",
        "%cd marquesgabi_paper_fev_2021\n",
        "\n",
        "from Get_PSDArea_Revival import PSDArea\n",
        "from histogram_fev_2021 import PSD\n",
        "#from GetBetterSegm import GetBetter"
      ],
      "execution_count": null,
      "outputs": []
    },
    {
      "cell_type": "code",
      "metadata": {
        "id": "WAG_I6FwCvFr"
      },
      "source": [
        "\n",
        "#!git clone https://github.com/ucfilho/marquesgabi_out_2020\n",
        "#%cd marquesgabi_out_2020\n",
        "!git clone https://github.com/ucfilho/MarquesGabi_Routines\n",
        "%cd MarquesGabi_Routines\n",
        "\n",
        "PSD_imageJ = 'Amostra8.csv' \n",
        "PSD_new = pd.read_csv(PSD_imageJ, sep=';')\n",
        "print(PSD_new.head(3))\n",
        "''''''"
      ],
      "execution_count": null,
      "outputs": []
    },
    {
      "cell_type": "code",
      "metadata": {
        "id": "t_1WIM8w7poO"
      },
      "source": [
        "Area_All, Diameter_All=PSDArea(img_graos) "
      ],
      "execution_count": null,
      "outputs": []
    },
    {
      "cell_type": "code",
      "metadata": {
        "id": "bB3gOFPeDtoH"
      },
      "source": [
        "Width.shape"
      ],
      "execution_count": null,
      "outputs": []
    },
    {
      "cell_type": "code",
      "metadata": {
        "id": "CkB2l0K0YEjz"
      },
      "source": [
        "Width"
      ],
      "execution_count": null,
      "outputs": []
    },
    {
      "cell_type": "code",
      "metadata": {
        "id": "3nO6cSz2dIqb"
      },
      "source": [
        "img_graos.shape"
      ],
      "execution_count": null,
      "outputs": []
    },
    {
      "cell_type": "code",
      "metadata": {
        "id": "PekBHQOT_6CP"
      },
      "source": [
        "img_graos.head()"
      ],
      "execution_count": null,
      "outputs": []
    },
    {
      "cell_type": "code",
      "metadata": {
        "id": "VaZPe_AxNBK9"
      },
      "source": [
        "PSD_new['Area']"
      ],
      "execution_count": null,
      "outputs": []
    },
    {
      "cell_type": "code",
      "source": [
        " df_ImgJ"
      ],
      "metadata": {
        "id": "BWbrHZCc_AOY"
      },
      "execution_count": null,
      "outputs": []
    },
    {
      "cell_type": "code",
      "metadata": {
        "id": "4vmhG2LgCabC"
      },
      "source": [
        "# \n",
        "Area = df_ImgJ['Area'].values\n",
        "# Area = np.concatenate( (Area, [lost_value] ) )\n",
        "\n",
        "Diam1 = [ (4*A/np.pi)**0.5 for A in Area]\n",
        "\n"
      ],
      "execution_count": null,
      "outputs": []
    },
    {
      "cell_type": "code",
      "metadata": {
        "id": "79MY9ZHxBW37"
      },
      "source": [
        "len(Diameter_All)"
      ],
      "execution_count": null,
      "outputs": []
    },
    {
      "cell_type": "code",
      "metadata": {
        "id": "KooHVpH5k2mZ"
      },
      "source": [
        "#\n",
        "\n",
        "#PSD_new['Area'].shape"
      ],
      "execution_count": null,
      "outputs": []
    },
    {
      "cell_type": "code",
      "metadata": {
        "id": "NFcOxMmjJjpL"
      },
      "source": [
        "#PSD_new.iloc[:,0]"
      ],
      "execution_count": null,
      "outputs": []
    },
    {
      "cell_type": "code",
      "metadata": {
        "id": "tPWCPPf7bzsf"
      },
      "source": [
        "Area2 = PSD_new['Area'].values\n",
        "#k = 0\n",
        "for A in Area2:\n",
        "  Diam1.append((4*A/np.pi)**0.5)\n",
        "  #k = k + 1 \n"
      ],
      "execution_count": null,
      "outputs": []
    },
    {
      "cell_type": "code",
      "metadata": {
        "id": "Vfk_fNXGDK5_"
      },
      "source": [
        "wt1 = np.ones(len(Diam1)) / len(Diam1)*100\n",
        "wt2 = np.ones(len(Diameter_All)) / len(Diameter_All)*100\n",
        "X = pd.DataFrame([Diam1,Diameter_All])\n",
        "wts = pd.DataFrame([wt1,wt2])\n"
      ],
      "execution_count": null,
      "outputs": []
    },
    {
      "cell_type": "code",
      "metadata": {
        "id": "xWf2nmnEp6yX"
      },
      "source": [
        "X"
      ],
      "execution_count": null,
      "outputs": []
    },
    {
      "cell_type": "code",
      "metadata": {
        "id": "VzFRjY4BLtbh"
      },
      "source": [
        "len(Diameter_All)"
      ],
      "execution_count": null,
      "outputs": []
    },
    {
      "cell_type": "code",
      "metadata": {
        "id": "OieAXw_by3nz"
      },
      "source": [
        "A = plt.hist(X,weights=wts,bins=7)\n",
        "plt.legend(['True','CNN'])"
      ],
      "execution_count": null,
      "outputs": []
    },
    {
      "cell_type": "code",
      "metadata": {
        "id": "WryLryB9ovi3"
      },
      "source": [
        "print('ImgJ:','media=',np.mean(np.array(Diam1)),'desvio=',np.std(np.array(Diam1)),'pontos=',len(Diam1))"
      ],
      "execution_count": null,
      "outputs": []
    },
    {
      "cell_type": "code",
      "metadata": {
        "id": "s_Nyv-Nopbkc"
      },
      "source": [
        "print('Software:','media=',np.mean(np.array(Diameter_All)),'desvio=',np.std(np.array(Diameter_All)),'pontos=',len(Diameter_All))"
      ],
      "execution_count": null,
      "outputs": []
    }
  ]
}