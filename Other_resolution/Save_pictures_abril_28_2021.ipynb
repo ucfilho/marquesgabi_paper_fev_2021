{
  "nbformat": 4,
  "nbformat_minor": 0,
  "metadata": {
    "colab": {
      "name": "Save_pictures_abril_28_2021.ipynb",
      "provenance": [],
      "collapsed_sections": [],
      "include_colab_link": true
    },
    "kernelspec": {
      "name": "python3",
      "display_name": "Python 3"
    }
  },
  "cells": [
    {
      "cell_type": "markdown",
      "metadata": {
        "id": "view-in-github",
        "colab_type": "text"
      },
      "source": [
        "<a href=\"https://colab.research.google.com/github/ucfilho/marquesgabi_paper_fev_2021/blob/main/Other_resolution/Save_pictures_abril_28_2021.ipynb\" target=\"_parent\"><img src=\"https://colab.research.google.com/assets/colab-badge.svg\" alt=\"Open In Colab\"/></a>"
      ]
    },
    {
      "cell_type": "code",
      "metadata": {
        "id": "Sog7Z9pyhUD_",
        "colab": {
          "base_uri": "https://localhost:8080/"
        },
        "outputId": "bc8dcfe5-2fe1-47e6-9c98-719b7a72b3e8"
      },
      "source": [
        "import matplotlib.pyplot as plt\n",
        "import numpy as np\n",
        "import cv2\n",
        "import zipfile\n",
        "#import random\n",
        "from random import randint\n",
        "from skimage import filters\n",
        "from PIL import Image\n",
        "import re\n",
        "from sklearn.model_selection import train_test_split\n",
        "#import scikit-image\n",
        "import skimage\n",
        "import pandas as pd\n",
        "#import statsmodels.api as sm\n",
        "#import statsmodels.formula.api as smf\n",
        "from sklearn.neural_network import MLPClassifier\n",
        "import sklearn\n",
        "from scipy import ndimage as ndi\n",
        "from skimage import feature\n",
        "from sklearn.externals import joblib\n",
        "from skimage import measure"
      ],
      "execution_count": 1,
      "outputs": [
        {
          "output_type": "stream",
          "text": [
            "/usr/local/lib/python3.7/dist-packages/sklearn/externals/joblib/__init__.py:15: FutureWarning: sklearn.externals.joblib is deprecated in 0.21 and will be removed in 0.23. Please import this functionality directly from joblib, which can be installed with: pip install joblib. If this warning is raised when loading pickled models, you may need to re-serialize those models with scikit-learn 0.21+.\n",
            "  warnings.warn(msg, category=FutureWarning)\n"
          ],
          "name": "stderr"
        }
      ]
    },
    {
      "cell_type": "code",
      "metadata": {
        "id": "uZEvJvfoibE4",
        "colab": {
          "base_uri": "https://localhost:8080/"
        },
        "outputId": "7cf7889c-ef0b-4119-ff85-395abd5faa6f"
      },
      "source": [
        "!pip install mahotas"
      ],
      "execution_count": 2,
      "outputs": [
        {
          "output_type": "stream",
          "text": [
            "Requirement already satisfied: mahotas in /usr/local/lib/python3.7/dist-packages (1.4.11)\n",
            "Requirement already satisfied: numpy in /usr/local/lib/python3.7/dist-packages (from mahotas) (1.19.5)\n"
          ],
          "name": "stdout"
        }
      ]
    },
    {
      "cell_type": "code",
      "metadata": {
        "id": "_VcTdaNVh9EE",
        "colab": {
          "base_uri": "https://localhost:8080/"
        },
        "outputId": "aec905e2-9084-48c9-e39f-63e02374fc53"
      },
      "source": [
        "!git clone https://github.com/ucfilho/marquesgabi_fev_2020 #clonar do Github\n",
        "%cd marquesgabi_fev_2020\n",
        "import Go2BlackWhite\n",
        "import Go2Mahotas"
      ],
      "execution_count": 3,
      "outputs": [
        {
          "output_type": "stream",
          "text": [
            "fatal: destination path 'marquesgabi_fev_2020' already exists and is not an empty directory.\n",
            "/content/marquesgabi_fev_2020\n"
          ],
          "name": "stdout"
        }
      ]
    },
    {
      "cell_type": "code",
      "metadata": {
        "id": "nf_a6PJ1iUnT"
      },
      "source": [
        "import mahotas.features.texture as mht\n",
        "import mahotas.features"
      ],
      "execution_count": 4,
      "outputs": []
    },
    {
      "cell_type": "code",
      "metadata": {
        "id": "wj62HANgnpnR",
        "colab": {
          "base_uri": "https://localhost:8080/"
        },
        "outputId": "fdb0b528-0e0b-4ca4-c5cf-598f0afd8ead"
      },
      "source": [
        "!git clone https://github.com/ucfilho/marquesgabi_paper_fev_2021\n",
        "%cd marquesgabi_paper_fev_2021\n",
        "\n",
        "from Get_PSDArea_New import PSDArea\n",
        "from histogram_fev_2021 import PSD\n",
        "from GetBetterSegm import GetBetter"
      ],
      "execution_count": 5,
      "outputs": [
        {
          "output_type": "stream",
          "text": [
            "fatal: destination path 'marquesgabi_paper_fev_2021' already exists and is not an empty directory.\n",
            "/content/marquesgabi_fev_2020/marquesgabi_paper_fev_2021\n"
          ],
          "name": "stdout"
        }
      ]
    },
    {
      "cell_type": "code",
      "metadata": {
        "id": "8L6KJ4jc3ahG",
        "colab": {
          "base_uri": "https://localhost:8080/"
        },
        "outputId": "ff41925c-bc5f-4f91-90f7-1d8d89499e4f"
      },
      "source": [
        "!ls"
      ],
      "execution_count": 6,
      "outputs": [
        {
          "output_type": "stream",
          "text": [
            "ANN_Ajuste_mar_2021\n",
            "ANN_FIND_GRAIN_MAR_2021.py\n",
            "ANN_FIND_GRAIN_NOVO.py\n",
            "ANN_FIND_GRAIN_PAPER_STEP_02.py\n",
            "big_segment.py\n",
            "CNN_classify_grain_feb_15_2021.ipynb\n",
            "CNN_DESCRIPTION.ipynb\n",
            "CNN_FIND_GRAIN_PAPER_STEP_02.py\n",
            "Codes_in_Evaluation\n",
            "Doutorado\n",
            "EPOCHS_graphic.csv\n",
            "EPOCHS_graphic.txt\n",
            "Fig_05_BIG_Segmentation_jan_25_2021.ipynb\n",
            "Filter_Grain_abril_26_2021.ipynb\n",
            "GetBetterSegm.py\n",
            "Get_PSDArea_New.py\n",
            "Graphic_Epochs_fev_09_2020.ipynb\n",
            "histogram_fev_2021.py\n",
            "PSD_CNN_GRAIN_NOT_GRAIN_step_02_paper.ipynb\n",
            "PSD_GRAIN_NOT_GRAIN_dez_04_2020.ipynb\n",
            "PSD_GRAIN_NOT_GRAIN_fev_18_2021.ipynb\n",
            "PSD_GRAIN_NOT_GRAIN_mar_11_2021.ipynb\n",
            "PSD_GRAIN_NOT_GRAIN_mar_12_2021.ipynb\n",
            "PSD_GRAIN_NOT_GRAIN_step_02_paper.ipynb\n",
            "PSD_histogram_abril_22_2021.ipynb\n",
            "psd_mahotas.py\n",
            "__pycache__\n",
            "README.md\n",
            "regionprops_Grain_abril_26_2021.ipynb\n",
            "Segment_Ajuste_mar_2021\n",
            "SEGMENT_NOT_CONCLUDED.ipynb\n",
            "Size_Grain_regionprops_abril_26_2021.ipynb\n"
          ],
          "name": "stdout"
        }
      ]
    },
    {
      "cell_type": "code",
      "metadata": {
        "id": "1v7SRrc8mH2N",
        "colab": {
          "base_uri": "https://localhost:8080/"
        },
        "outputId": "6d228de9-a7f4-42b0-cbb8-b4eb6bacec58"
      },
      "source": [
        "!git clone https://github.com/marquesgabi/Doutorado\n",
        "%cd Doutorado\n",
        "\n",
        "Transfere='Fotos_Grandes_3cdAmostra.zip'\n",
        "file_name = zipfile.ZipFile(Transfere, 'r')\n",
        "file_name.extractall()"
      ],
      "execution_count": 7,
      "outputs": [
        {
          "output_type": "stream",
          "text": [
            "fatal: destination path 'Doutorado' already exists and is not an empty directory.\n",
            "/content/marquesgabi_fev_2020/marquesgabi_paper_fev_2021/Doutorado\n"
          ],
          "name": "stdout"
        }
      ]
    },
    {
      "cell_type": "code",
      "metadata": {
        "id": "0kA4IWSmasoD"
      },
      "source": [
        "Size=5000 # tamanho da foto\n",
        "ww,img_name=Go2BlackWhite.BlackWhite(Transfere,Size) #Pegamos a primeira foto Grande\n",
        "img=ww[0] \n",
        "# this is the big image we want to segment \n",
        "# ww[0], change it if you want to segment another picture"
      ],
      "execution_count": 8,
      "outputs": []
    },
    {
      "cell_type": "code",
      "metadata": {
        "colab": {
          "base_uri": "https://localhost:8080/"
        },
        "id": "zoqL8B1_4R4V",
        "outputId": "ceda5967-7ac6-4105-a270-9bc9b488ed0e"
      },
      "source": [
        "ww[6].shape"
      ],
      "execution_count": 9,
      "outputs": [
        {
          "output_type": "execute_result",
          "data": {
            "text/plain": [
              "(5000, 5000)"
            ]
          },
          "metadata": {
            "tags": []
          },
          "execution_count": 9
        }
      ]
    },
    {
      "cell_type": "code",
      "metadata": {
        "id": "g_k1Ktz3izJv",
        "colab": {
          "base_uri": "https://localhost:8080/"
        },
        "outputId": "5208eaa8-55ee-4a70-d614-5cf822c71d7f"
      },
      "source": [
        "!git clone https://github.com/marquesgabi/Doutorado\n",
        "# %cd Doutorado\n",
        "Transfere='FotosTreino882_and_Segm.zip'\n",
        "file_name = zipfile.ZipFile(Transfere, 'r')\n",
        "file_name.extractall()\n",
        "\n",
        "\"\"\"# First step: get the segmented file (photos stored in csv file)\"\"\"\n",
        "\n",
        "labels = [] #name files\n",
        "\n",
        "with zipfile.ZipFile(Transfere, \"r\") as f:\n",
        "  for f in f.namelist():\n",
        "    labels.append(f)\n",
        "\n",
        "Num=len(labels)\n",
        "df=pd.read_csv(labels[0])\n",
        "for i in range(1,Num):\n",
        "  df_new=pd.read_csv(labels[i])\n",
        "  df_new = df_new[~df_new['Type'].isin(['G'])] # drop grain row which is not in 882\n",
        "  frames = [df, df_new]\n",
        "  df= pd.concat(frames, ignore_index=True)"
      ],
      "execution_count": 10,
      "outputs": [
        {
          "output_type": "stream",
          "text": [
            "fatal: destination path 'Doutorado' already exists and is not an empty directory.\n"
          ],
          "name": "stdout"
        }
      ]
    },
    {
      "cell_type": "code",
      "metadata": {
        "colab": {
          "base_uri": "https://localhost:8080/"
        },
        "id": "bNrC1PdG334h",
        "outputId": "179b4a0c-6096-4b34-eb03-fd75380e813e"
      },
      "source": [
        "df.shape"
      ],
      "execution_count": 11,
      "outputs": [
        {
          "output_type": "execute_result",
          "data": {
            "text/plain": [
              "(1632, 787)"
            ]
          },
          "metadata": {
            "tags": []
          },
          "execution_count": 11
        }
      ]
    },
    {
      "cell_type": "code",
      "metadata": {
        "colab": {
          "base_uri": "https://localhost:8080/"
        },
        "id": "BuW6g5R56VsI",
        "outputId": "32ab8c06-04ef-4313-99ab-d3f68fdff526"
      },
      "source": [
        "labels"
      ],
      "execution_count": 12,
      "outputs": [
        {
          "output_type": "execute_result",
          "data": {
            "text/plain": [
              "['Fotos882.csv',\n",
              " 'img28_all00.csv',\n",
              " 'img28_all03.csv',\n",
              " 'img28_all01.csv',\n",
              " 'img28_all04.csv',\n",
              " 'img28_all02.csv']"
            ]
          },
          "metadata": {
            "tags": []
          },
          "execution_count": 12
        }
      ]
    },
    {
      "cell_type": "code",
      "metadata": {
        "id": "tHgqAnaFyCjp",
        "colab": {
          "base_uri": "https://localhost:8080/"
        },
        "outputId": "12e9ff85-44ee-43fe-f4df-0f54e3407d8e"
      },
      "source": [
        "!git clone https://github.com/ucfilho/marquesgabi_paper_fev_2021\n",
        "%cd marquesgabi_paper_fev_2021"
      ],
      "execution_count": 13,
      "outputs": [
        {
          "output_type": "stream",
          "text": [
            "fatal: destination path 'marquesgabi_paper_fev_2021' already exists and is not an empty directory.\n",
            "/content/marquesgabi_fev_2020/marquesgabi_paper_fev_2021/Doutorado/marquesgabi_paper_fev_2021\n"
          ],
          "name": "stdout"
        }
      ]
    },
    {
      "cell_type": "code",
      "metadata": {
        "id": "qc4rFvzkyWCi"
      },
      "source": [
        "from big_segment import Segmenta  # got image provided segmented\n",
        "# from ANN_FIND_GRAIN_NOVO import AnnGrain  # got image provided segmented\n",
        "from psd_mahotas import Mahotas"
      ],
      "execution_count": 14,
      "outputs": []
    },
    {
      "cell_type": "code",
      "metadata": {
        "colab": {
          "base_uri": "https://localhost:8080/"
        },
        "id": "N-R1so5EcKXE",
        "outputId": "772f00b5-a60e-475e-95d4-ebf699f38dda"
      },
      "source": [
        "!git clone https://github.com/ucfilho/marquesgabi_paper_fev_2021/ANN_Ajuste_mar_2021\n",
        "%cd ANN_Ajuste_mar_2021"
      ],
      "execution_count": 15,
      "outputs": [
        {
          "output_type": "stream",
          "text": [
            "fatal: destination path 'ANN_Ajuste_mar_2021' already exists and is not an empty directory.\n",
            "/content/marquesgabi_fev_2020/marquesgabi_paper_fev_2021/Doutorado/marquesgabi_paper_fev_2021/ANN_Ajuste_mar_2021\n"
          ],
          "name": "stdout"
        }
      ]
    },
    {
      "cell_type": "code",
      "metadata": {
        "id": "aPT8qYAVcdPP"
      },
      "source": [
        "from ANN_FIND_GRAIN_change_ann import AnnGrain  # got image provided segmented"
      ],
      "execution_count": 16,
      "outputs": []
    },
    {
      "cell_type": "code",
      "metadata": {
        "colab": {
          "base_uri": "https://localhost:8080/"
        },
        "id": "knhoH5ve0gyq",
        "outputId": "9d84540e-6156-4df4-b407-16acc1a8321c"
      },
      "source": [
        "!ls"
      ],
      "execution_count": 17,
      "outputs": [
        {
          "output_type": "stream",
          "text": [
            "ANN_Ajuste_mar_2021\n",
            "ANN_deploy_neural_network_mar_22_2021.ipynb\n",
            "ANN_deploy_neural_network_photos_excel_april_19_2021.ipynb\n",
            "ANN_FIND_GRAIN_change_ann.py\n",
            "ANN_load_neural_network_mar_23_2021.ipynb\n",
            "ANN_load_top_okay_neural_network_mar_23_2021.ipynb\n",
            "ANN_neural_network_load_mar_22_2021.ipynb\n",
            "big_segment_new.py\n",
            "Doutorado\n",
            "Fig_05_BIG_Segmentation_ann_new_abril_19_2021.ipynb\n",
            "kNN_deploy_abril_09_2021.ipynb\n",
            "knn_find_grain_change_classification.py\n",
            "kNN_load_abril_09_2021.ipynb\n",
            "PSD_find_neural_network_mar_18_2021.ipynb\n",
            "PSD_GRAIN_NOT_GRAIN_kNN_abril_07_2021.ipynb\n",
            "PSD_GRAIN_NOT_GRAIN_kNN_abril_09_2021.ipynb\n",
            "PSD_GRAIN_NOT_GRAIN_mar_18_2021.ipynb\n",
            "__pycache__\n"
          ],
          "name": "stdout"
        }
      ]
    },
    {
      "cell_type": "code",
      "metadata": {
        "id": "YPoCxCp4kuRm",
        "colab": {
          "base_uri": "https://localhost:8080/"
        },
        "outputId": "2a25d4da-e098-4eeb-d162-c87e509701b9"
      },
      "source": [
        "!git clone https://github.com/marquesgabi/Doutorado\n",
        "%cd Doutorado\n",
        "Transfere='FotosTreino882_and_Segm.zip'\n",
        "file_name = zipfile.ZipFile(Transfere, 'r')\n",
        "file_name.extractall()\n",
        "\n",
        "\"\"\"# First step: get the segmented file (photos stored in csv file)\"\"\"\n",
        "\n",
        "labels = [] #name files\n",
        "\n",
        "with zipfile.ZipFile(Transfere, \"r\") as f:\n",
        "  for f in f.namelist():\n",
        "    labels.append(f)\n",
        "\n",
        "Num=len(labels)\n",
        "ANN_dat=pd.read_csv(labels[0])\n",
        "for i in range(1,Num):\n",
        "  df_new=pd.read_csv(labels[i])\n",
        "  df_new = df_new[~df_new['Type'].isin(['G'])] # drop grain row which is not in 882\n",
        "  frames = [ANN_dat, df_new]\n",
        "  ANN_dat= pd.concat(frames, ignore_index=True)"
      ],
      "execution_count": 18,
      "outputs": [
        {
          "output_type": "stream",
          "text": [
            "fatal: destination path 'Doutorado' already exists and is not an empty directory.\n",
            "/content/marquesgabi_fev_2020/marquesgabi_paper_fev_2021/Doutorado/marquesgabi_paper_fev_2021/ANN_Ajuste_mar_2021/Doutorado\n"
          ],
          "name": "stdout"
        }
      ]
    },
    {
      "cell_type": "code",
      "metadata": {
        "id": "mv01JmHfmz-1"
      },
      "source": [
        "# open file to get df \n",
        "# use df and ANN to get grains and no grains\n",
        "# use grains to obtain psd"
      ],
      "execution_count": 19,
      "outputs": []
    },
    {
      "cell_type": "code",
      "metadata": {
        "id": "h4ELNAEunkox",
        "colab": {
          "base_uri": "https://localhost:8080/"
        },
        "outputId": "8f8b03f4-f7c2-4238-9023-2bfea10c0581"
      },
      "source": [
        "!git clone https://github.com/marquesgabi/Doutorado\n",
        "%cd Doutorado"
      ],
      "execution_count": 20,
      "outputs": [
        {
          "output_type": "stream",
          "text": [
            "fatal: destination path 'Doutorado' already exists and is not an empty directory.\n",
            "/content/marquesgabi_fev_2020/marquesgabi_paper_fev_2021/Doutorado/marquesgabi_paper_fev_2021/ANN_Ajuste_mar_2021/Doutorado/Doutorado\n"
          ],
          "name": "stdout"
        }
      ]
    },
    {
      "cell_type": "code",
      "metadata": {
        "id": "aobZmEXHAxIP"
      },
      "source": [
        "y_valor=df['Type']\n",
        "\n",
        "quantidade= df.groupby('Type').size()\n",
        "\n",
        "df_G = df[df[\"Type\"] == \"G\"] \n",
        "Cut=['Unnamed: 0','Type','Width']\n",
        "FotosG= df_G.drop(Cut,axis=1)\n",
        "\n",
        "\n",
        "Size=28\n",
        "img_G=[]\n",
        "\n",
        "Num,cols=FotosG.shape\n",
        "for i in range(Num):\n",
        "  data=np.array(FotosG.iloc[i]).reshape(Size,Size)\n",
        "  img = Image.fromarray(data.astype('uint8'), mode='L')\n",
        "  img=np.float32(img)\n",
        "  img28=cv2.resize(img,(Size,Size), interpolation = cv2.INTER_AREA)\n",
        "  img_G.append(img28)\n",
        "\n",
        "df_Z = df[df[\"Type\"] == \"Z\"] \n",
        "Cut=['Unnamed: 0','Type','Width']\n",
        "FotosZ= df_Z.drop(Cut,axis=1)\n",
        "\n",
        "# We'll choose which is grain and withdraw from 750 segmented photos\n",
        "\n",
        "Size=28\n",
        "img_Z=[]\n",
        "\n",
        "Num,cols=FotosZ.shape\n",
        "for i in range(Num):\n",
        "  data=np.array(FotosZ.iloc[i]).reshape(Size,Size)\n",
        "  img = Image.fromarray(data.astype('uint8'), mode='L')\n",
        "  img=np.float32(img)\n",
        "  img28=cv2.resize(img,(Size,Size), interpolation = cv2.INTER_AREA)\n",
        "  img_Z.append(img28)\n",
        "\n",
        "GRAO=[0,146,149,166,217,222,223,257,268,286,455,482,538,612,644,647,651,677] # 0 ate 749\n",
        "GRAO=np.array(GRAO)\n",
        "Ind=FotosZ.index\n",
        "FotosNG=FotosZ.copy()\n",
        "for i in GRAO:\n",
        "  FotosNG=FotosNG.drop(Ind[i])\n",
        "\n",
        "PERCENT=245.0/(len(FotosNG.index))\n",
        "FotosNG=FotosNG.sample(frac=PERCENT, replace=True)\n",
        "\n",
        "rows,col=FotosG.shape\n",
        "y_total=[] # grao-->zero, nao grao-->1\n",
        "for i in range(rows):\n",
        "  y_total.append(0) #  # grao-->zero\n",
        "for i in range(rows,(2*rows)):\n",
        "  y_total.append(1) #  # nao grao-->zero\n",
        "\n",
        "frames = [FotosG,FotosNG]\n",
        "result = np.array(pd.concat(frames))/255\n",
        "\n"
      ],
      "execution_count": 21,
      "outputs": []
    },
    {
      "cell_type": "code",
      "metadata": {
        "colab": {
          "base_uri": "https://localhost:8080/"
        },
        "id": "CsSK3GZmMO66",
        "outputId": "fb425700-02f3-4a18-a077-981700edbedb"
      },
      "source": [
        "FotosNG.shape"
      ],
      "execution_count": 22,
      "outputs": [
        {
          "output_type": "execute_result",
          "data": {
            "text/plain": [
              "(245, 784)"
            ]
          },
          "metadata": {
            "tags": []
          },
          "execution_count": 22
        }
      ]
    },
    {
      "cell_type": "code",
      "metadata": {
        "colab": {
          "base_uri": "https://localhost:8080/"
        },
        "id": "7U1RIZXNMoYC",
        "outputId": "a5f731c0-dfa5-4411-cf90-5a89534f6358"
      },
      "source": [
        "FotosG.shape"
      ],
      "execution_count": 23,
      "outputs": [
        {
          "output_type": "execute_result",
          "data": {
            "text/plain": [
              "(245, 784)"
            ]
          },
          "metadata": {
            "tags": []
          },
          "execution_count": 23
        }
      ]
    },
    {
      "cell_type": "code",
      "metadata": {
        "colab": {
          "base_uri": "https://localhost:8080/"
        },
        "id": "bKoFHuDtObVX",
        "outputId": "bcece9c9-63fc-4aca-f687-caafbc8209d1"
      },
      "source": [
        "len(y_total)"
      ],
      "execution_count": 24,
      "outputs": [
        {
          "output_type": "execute_result",
          "data": {
            "text/plain": [
              "490"
            ]
          },
          "metadata": {
            "tags": []
          },
          "execution_count": 24
        }
      ]
    },
    {
      "cell_type": "code",
      "metadata": {
        "id": "fUJ2GlgBNf3d"
      },
      "source": [
        "FotosG = pd.DataFrame((np.array(FotosG)*255.0))\n",
        "FotosG =FotosG.reset_index(drop=True)\n",
        "FotosNG =FotosNG.reset_index(drop=True)\n",
        "frames = [FotosG,FotosNG]\n",
        "result_fotos = pd.concat(frames, axis=1)\n"
      ],
      "execution_count": 25,
      "outputs": []
    },
    {
      "cell_type": "code",
      "metadata": {
        "id": "N4lY8FhqVOcc"
      },
      "source": [
        "FotosLista = FotosG.values.tolist()\n",
        "for i in range(FotosNG.shape[0]):\n",
        "  FotosLista.append(FotosNG.iloc[i,:])\n",
        "\n",
        "FotosLista = pd.DataFrame(FotosLista)\n",
        "\n",
        "FotosLista['y']=y_total"
      ],
      "execution_count": 26,
      "outputs": []
    },
    {
      "cell_type": "code",
      "metadata": {
        "colab": {
          "base_uri": "https://localhost:8080/"
        },
        "id": "xPgFTzmoVvr1",
        "outputId": "7b4bd48a-f670-4d9c-8065-91e514b01b09"
      },
      "source": [
        "FotosLista.shape\n"
      ],
      "execution_count": 27,
      "outputs": [
        {
          "output_type": "execute_result",
          "data": {
            "text/plain": [
              "(490, 785)"
            ]
          },
          "metadata": {
            "tags": []
          },
          "execution_count": 27
        }
      ]
    },
    {
      "cell_type": "code",
      "metadata": {
        "colab": {
          "base_uri": "https://localhost:8080/"
        },
        "id": "e9u0ExlGWLWr",
        "outputId": "b9131e84-39c2-4cbc-bace-ced11e70c1ed"
      },
      "source": [
        "FotosNG.shape[0]"
      ],
      "execution_count": 28,
      "outputs": [
        {
          "output_type": "execute_result",
          "data": {
            "text/plain": [
              "245"
            ]
          },
          "metadata": {
            "tags": []
          },
          "execution_count": 28
        }
      ]
    },
    {
      "cell_type": "code",
      "metadata": {
        "colab": {
          "base_uri": "https://localhost:8080/",
          "height": 17
        },
        "id": "E-WgUqQhHeQp",
        "outputId": "31a21bd4-5972-497f-fa40-a34b1f5f18a0"
      },
      "source": [
        "df = FotosLista\n",
        "\n",
        "Arq = \"output.xlsx\"\n",
        "df.to_excel(Arq)\n",
        "from google.colab import files\n",
        "files.download(Arq)\n"
      ],
      "execution_count": 29,
      "outputs": [
        {
          "output_type": "display_data",
          "data": {
            "application/javascript": [
              "\n",
              "    async function download(id, filename, size) {\n",
              "      if (!google.colab.kernel.accessAllowed) {\n",
              "        return;\n",
              "      }\n",
              "      const div = document.createElement('div');\n",
              "      const label = document.createElement('label');\n",
              "      label.textContent = `Downloading \"${filename}\": `;\n",
              "      div.appendChild(label);\n",
              "      const progress = document.createElement('progress');\n",
              "      progress.max = size;\n",
              "      div.appendChild(progress);\n",
              "      document.body.appendChild(div);\n",
              "\n",
              "      const buffers = [];\n",
              "      let downloaded = 0;\n",
              "\n",
              "      const channel = await google.colab.kernel.comms.open(id);\n",
              "      // Send a message to notify the kernel that we're ready.\n",
              "      channel.send({})\n",
              "\n",
              "      for await (const message of channel.messages) {\n",
              "        // Send a message to notify the kernel that we're ready.\n",
              "        channel.send({})\n",
              "        if (message.buffers) {\n",
              "          for (const buffer of message.buffers) {\n",
              "            buffers.push(buffer);\n",
              "            downloaded += buffer.byteLength;\n",
              "            progress.value = downloaded;\n",
              "          }\n",
              "        }\n",
              "      }\n",
              "      const blob = new Blob(buffers, {type: 'application/binary'});\n",
              "      const a = document.createElement('a');\n",
              "      a.href = window.URL.createObjectURL(blob);\n",
              "      a.download = filename;\n",
              "      div.appendChild(a);\n",
              "      a.click();\n",
              "      div.remove();\n",
              "    }\n",
              "  "
            ],
            "text/plain": [
              "<IPython.core.display.Javascript object>"
            ]
          },
          "metadata": {
            "tags": []
          }
        },
        {
          "output_type": "display_data",
          "data": {
            "application/javascript": [
              "download(\"download_b2b3eba9-6d0b-487e-b2c9-2615df8ac0eb\", \"output.xlsx\", 2922419)"
            ],
            "text/plain": [
              "<IPython.core.display.Javascript object>"
            ]
          },
          "metadata": {
            "tags": []
          }
        }
      ]
    },
    {
      "cell_type": "code",
      "metadata": {
        "colab": {
          "base_uri": "https://localhost:8080/",
          "height": 244
        },
        "id": "pTcG1wXMA8ml",
        "outputId": "b62a74e1-12b8-4499-cc4b-b2ed9f46ea33"
      },
      "source": [
        "FotosG.head()"
      ],
      "execution_count": 30,
      "outputs": [
        {
          "output_type": "execute_result",
          "data": {
            "text/html": [
              "<div>\n",
              "<style scoped>\n",
              "    .dataframe tbody tr th:only-of-type {\n",
              "        vertical-align: middle;\n",
              "    }\n",
              "\n",
              "    .dataframe tbody tr th {\n",
              "        vertical-align: top;\n",
              "    }\n",
              "\n",
              "    .dataframe thead th {\n",
              "        text-align: right;\n",
              "    }\n",
              "</style>\n",
              "<table border=\"1\" class=\"dataframe\">\n",
              "  <thead>\n",
              "    <tr style=\"text-align: right;\">\n",
              "      <th></th>\n",
              "      <th>0</th>\n",
              "      <th>1</th>\n",
              "      <th>2</th>\n",
              "      <th>3</th>\n",
              "      <th>4</th>\n",
              "      <th>5</th>\n",
              "      <th>6</th>\n",
              "      <th>7</th>\n",
              "      <th>8</th>\n",
              "      <th>9</th>\n",
              "      <th>10</th>\n",
              "      <th>11</th>\n",
              "      <th>12</th>\n",
              "      <th>13</th>\n",
              "      <th>14</th>\n",
              "      <th>15</th>\n",
              "      <th>16</th>\n",
              "      <th>17</th>\n",
              "      <th>18</th>\n",
              "      <th>19</th>\n",
              "      <th>20</th>\n",
              "      <th>21</th>\n",
              "      <th>22</th>\n",
              "      <th>23</th>\n",
              "      <th>24</th>\n",
              "      <th>25</th>\n",
              "      <th>26</th>\n",
              "      <th>27</th>\n",
              "      <th>28</th>\n",
              "      <th>29</th>\n",
              "      <th>30</th>\n",
              "      <th>31</th>\n",
              "      <th>32</th>\n",
              "      <th>33</th>\n",
              "      <th>34</th>\n",
              "      <th>35</th>\n",
              "      <th>36</th>\n",
              "      <th>37</th>\n",
              "      <th>38</th>\n",
              "      <th>39</th>\n",
              "      <th>...</th>\n",
              "      <th>744</th>\n",
              "      <th>745</th>\n",
              "      <th>746</th>\n",
              "      <th>747</th>\n",
              "      <th>748</th>\n",
              "      <th>749</th>\n",
              "      <th>750</th>\n",
              "      <th>751</th>\n",
              "      <th>752</th>\n",
              "      <th>753</th>\n",
              "      <th>754</th>\n",
              "      <th>755</th>\n",
              "      <th>756</th>\n",
              "      <th>757</th>\n",
              "      <th>758</th>\n",
              "      <th>759</th>\n",
              "      <th>760</th>\n",
              "      <th>761</th>\n",
              "      <th>762</th>\n",
              "      <th>763</th>\n",
              "      <th>764</th>\n",
              "      <th>765</th>\n",
              "      <th>766</th>\n",
              "      <th>767</th>\n",
              "      <th>768</th>\n",
              "      <th>769</th>\n",
              "      <th>770</th>\n",
              "      <th>771</th>\n",
              "      <th>772</th>\n",
              "      <th>773</th>\n",
              "      <th>774</th>\n",
              "      <th>775</th>\n",
              "      <th>776</th>\n",
              "      <th>777</th>\n",
              "      <th>778</th>\n",
              "      <th>779</th>\n",
              "      <th>780</th>\n",
              "      <th>781</th>\n",
              "      <th>782</th>\n",
              "      <th>783</th>\n",
              "    </tr>\n",
              "  </thead>\n",
              "  <tbody>\n",
              "    <tr>\n",
              "      <th>0</th>\n",
              "      <td>0.00000</td>\n",
              "      <td>0.00000</td>\n",
              "      <td>0.80325</td>\n",
              "      <td>2.17005</td>\n",
              "      <td>11.75040</td>\n",
              "      <td>41.06265</td>\n",
              "      <td>63.55875</td>\n",
              "      <td>87.11565</td>\n",
              "      <td>102.38505</td>\n",
              "      <td>108.02565</td>\n",
              "      <td>118.61070</td>\n",
              "      <td>133.63020</td>\n",
              "      <td>138.24315</td>\n",
              "      <td>134.91285</td>\n",
              "      <td>125.88840</td>\n",
              "      <td>121.52280</td>\n",
              "      <td>118.66425</td>\n",
              "      <td>112.94715</td>\n",
              "      <td>110.8179</td>\n",
              "      <td>140.14800</td>\n",
              "      <td>158.56410</td>\n",
              "      <td>166.77510</td>\n",
              "      <td>170.86275</td>\n",
              "      <td>174.43020</td>\n",
              "      <td>178.75755</td>\n",
              "      <td>184.07940</td>\n",
              "      <td>186.03780</td>\n",
              "      <td>184.98210</td>\n",
              "      <td>0.0000</td>\n",
              "      <td>0.00000</td>\n",
              "      <td>0.22950</td>\n",
              "      <td>2.08080</td>\n",
              "      <td>10.51365</td>\n",
              "      <td>42.64110</td>\n",
              "      <td>71.46120</td>\n",
              "      <td>94.16895</td>\n",
              "      <td>111.11625</td>\n",
              "      <td>123.91980</td>\n",
              "      <td>134.53035</td>\n",
              "      <td>141.10170</td>\n",
              "      <td>...</td>\n",
              "      <td>175.53435</td>\n",
              "      <td>145.97985</td>\n",
              "      <td>128.97135</td>\n",
              "      <td>102.08670</td>\n",
              "      <td>107.11275</td>\n",
              "      <td>126.09240</td>\n",
              "      <td>137.75355</td>\n",
              "      <td>161.25945</td>\n",
              "      <td>170.62815</td>\n",
              "      <td>172.5228</td>\n",
              "      <td>172.52025</td>\n",
              "      <td>173.6550</td>\n",
              "      <td>0.33150</td>\n",
              "      <td>2.6469</td>\n",
              "      <td>4.05450</td>\n",
              "      <td>23.30190</td>\n",
              "      <td>125.50590</td>\n",
              "      <td>170.41905</td>\n",
              "      <td>178.16085</td>\n",
              "      <td>180.87150</td>\n",
              "      <td>180.41250</td>\n",
              "      <td>177.13320</td>\n",
              "      <td>172.41825</td>\n",
              "      <td>166.84395</td>\n",
              "      <td>165.92085</td>\n",
              "      <td>189.9903</td>\n",
              "      <td>185.18610</td>\n",
              "      <td>151.52100</td>\n",
              "      <td>136.87125</td>\n",
              "      <td>102.90270</td>\n",
              "      <td>73.34565</td>\n",
              "      <td>82.93365</td>\n",
              "      <td>103.59630</td>\n",
              "      <td>120.76800</td>\n",
              "      <td>129.28755</td>\n",
              "      <td>161.33850</td>\n",
              "      <td>171.75780</td>\n",
              "      <td>175.03710</td>\n",
              "      <td>175.00905</td>\n",
              "      <td>175.36095</td>\n",
              "    </tr>\n",
              "    <tr>\n",
              "      <th>1</th>\n",
              "      <td>0.00000</td>\n",
              "      <td>0.00000</td>\n",
              "      <td>0.00000</td>\n",
              "      <td>0.78795</td>\n",
              "      <td>1.99155</td>\n",
              "      <td>21.13440</td>\n",
              "      <td>64.03050</td>\n",
              "      <td>97.49415</td>\n",
              "      <td>131.09805</td>\n",
              "      <td>145.15620</td>\n",
              "      <td>147.96885</td>\n",
              "      <td>153.23460</td>\n",
              "      <td>155.00940</td>\n",
              "      <td>153.33150</td>\n",
              "      <td>151.51845</td>\n",
              "      <td>150.91665</td>\n",
              "      <td>155.02725</td>\n",
              "      <td>164.73255</td>\n",
              "      <td>173.0124</td>\n",
              "      <td>177.67635</td>\n",
              "      <td>179.88975</td>\n",
              "      <td>186.65490</td>\n",
              "      <td>189.57720</td>\n",
              "      <td>190.42890</td>\n",
              "      <td>190.72725</td>\n",
              "      <td>179.81835</td>\n",
              "      <td>163.10820</td>\n",
              "      <td>159.16845</td>\n",
              "      <td>0.0000</td>\n",
              "      <td>0.00000</td>\n",
              "      <td>0.00000</td>\n",
              "      <td>0.78795</td>\n",
              "      <td>3.46800</td>\n",
              "      <td>10.59780</td>\n",
              "      <td>50.71695</td>\n",
              "      <td>97.69050</td>\n",
              "      <td>138.08760</td>\n",
              "      <td>152.76540</td>\n",
              "      <td>155.69280</td>\n",
              "      <td>156.80460</td>\n",
              "      <td>...</td>\n",
              "      <td>212.42010</td>\n",
              "      <td>222.98220</td>\n",
              "      <td>224.37195</td>\n",
              "      <td>213.82515</td>\n",
              "      <td>174.09870</td>\n",
              "      <td>134.84145</td>\n",
              "      <td>129.83835</td>\n",
              "      <td>132.25830</td>\n",
              "      <td>126.98745</td>\n",
              "      <td>117.1419</td>\n",
              "      <td>123.70050</td>\n",
              "      <td>133.7067</td>\n",
              "      <td>1.99920</td>\n",
              "      <td>0.9996</td>\n",
              "      <td>1.78755</td>\n",
              "      <td>2.62905</td>\n",
              "      <td>12.43380</td>\n",
              "      <td>85.18530</td>\n",
              "      <td>96.63990</td>\n",
              "      <td>92.71035</td>\n",
              "      <td>88.75530</td>\n",
              "      <td>80.89365</td>\n",
              "      <td>76.10475</td>\n",
              "      <td>77.49705</td>\n",
              "      <td>80.95740</td>\n",
              "      <td>99.5928</td>\n",
              "      <td>124.77660</td>\n",
              "      <td>128.69085</td>\n",
              "      <td>137.03445</td>\n",
              "      <td>137.89380</td>\n",
              "      <td>134.19885</td>\n",
              "      <td>127.33680</td>\n",
              "      <td>123.71070</td>\n",
              "      <td>124.90410</td>\n",
              "      <td>127.20420</td>\n",
              "      <td>128.90505</td>\n",
              "      <td>125.11575</td>\n",
              "      <td>120.55635</td>\n",
              "      <td>125.61810</td>\n",
              "      <td>129.81795</td>\n",
              "    </tr>\n",
              "    <tr>\n",
              "      <th>2</th>\n",
              "      <td>115.56855</td>\n",
              "      <td>133.25535</td>\n",
              "      <td>144.43710</td>\n",
              "      <td>145.32195</td>\n",
              "      <td>111.35850</td>\n",
              "      <td>92.05500</td>\n",
              "      <td>95.71170</td>\n",
              "      <td>94.19445</td>\n",
              "      <td>90.15015</td>\n",
              "      <td>90.50970</td>\n",
              "      <td>90.50970</td>\n",
              "      <td>79.32030</td>\n",
              "      <td>62.48520</td>\n",
              "      <td>61.89870</td>\n",
              "      <td>70.23210</td>\n",
              "      <td>68.27370</td>\n",
              "      <td>66.62895</td>\n",
              "      <td>65.81805</td>\n",
              "      <td>65.8155</td>\n",
              "      <td>67.94220</td>\n",
              "      <td>74.86545</td>\n",
              "      <td>78.65220</td>\n",
              "      <td>80.35050</td>\n",
              "      <td>82.64805</td>\n",
              "      <td>86.53170</td>\n",
              "      <td>91.11915</td>\n",
              "      <td>96.05850</td>\n",
              "      <td>101.96940</td>\n",
              "      <td>11.0313</td>\n",
              "      <td>14.15760</td>\n",
              "      <td>19.25505</td>\n",
              "      <td>24.73245</td>\n",
              "      <td>48.40665</td>\n",
              "      <td>83.89755</td>\n",
              "      <td>91.27980</td>\n",
              "      <td>92.80725</td>\n",
              "      <td>91.90200</td>\n",
              "      <td>92.15700</td>\n",
              "      <td>91.12680</td>\n",
              "      <td>81.76575</td>\n",
              "      <td>...</td>\n",
              "      <td>134.45130</td>\n",
              "      <td>138.88065</td>\n",
              "      <td>140.83395</td>\n",
              "      <td>139.67115</td>\n",
              "      <td>135.41520</td>\n",
              "      <td>134.74710</td>\n",
              "      <td>135.09900</td>\n",
              "      <td>134.76240</td>\n",
              "      <td>135.74670</td>\n",
              "      <td>135.5427</td>\n",
              "      <td>134.72160</td>\n",
              "      <td>133.3548</td>\n",
              "      <td>89.81865</td>\n",
              "      <td>100.1640</td>\n",
              "      <td>114.96165</td>\n",
              "      <td>127.65555</td>\n",
              "      <td>140.02305</td>\n",
              "      <td>146.78565</td>\n",
              "      <td>137.30730</td>\n",
              "      <td>114.69135</td>\n",
              "      <td>107.68395</td>\n",
              "      <td>98.43510</td>\n",
              "      <td>85.52445</td>\n",
              "      <td>82.17375</td>\n",
              "      <td>89.10210</td>\n",
              "      <td>103.1985</td>\n",
              "      <td>113.15880</td>\n",
              "      <td>123.85605</td>\n",
              "      <td>135.80790</td>\n",
              "      <td>140.40300</td>\n",
              "      <td>145.00065</td>\n",
              "      <td>140.30355</td>\n",
              "      <td>133.69395</td>\n",
              "      <td>132.56685</td>\n",
              "      <td>132.54135</td>\n",
              "      <td>133.47465</td>\n",
              "      <td>136.34340</td>\n",
              "      <td>139.34475</td>\n",
              "      <td>140.04345</td>\n",
              "      <td>141.36945</td>\n",
              "    </tr>\n",
              "    <tr>\n",
              "      <th>3</th>\n",
              "      <td>192.18585</td>\n",
              "      <td>164.70450</td>\n",
              "      <td>159.36735</td>\n",
              "      <td>160.94835</td>\n",
              "      <td>154.96860</td>\n",
              "      <td>152.44155</td>\n",
              "      <td>151.14360</td>\n",
              "      <td>148.59360</td>\n",
              "      <td>146.05125</td>\n",
              "      <td>143.50635</td>\n",
              "      <td>141.00480</td>\n",
              "      <td>140.47185</td>\n",
              "      <td>136.89675</td>\n",
              "      <td>129.75420</td>\n",
              "      <td>122.26995</td>\n",
              "      <td>121.04085</td>\n",
              "      <td>119.64855</td>\n",
              "      <td>119.10030</td>\n",
              "      <td>118.2027</td>\n",
              "      <td>107.72730</td>\n",
              "      <td>90.72135</td>\n",
              "      <td>85.15215</td>\n",
              "      <td>84.13470</td>\n",
              "      <td>82.12785</td>\n",
              "      <td>120.93375</td>\n",
              "      <td>169.44240</td>\n",
              "      <td>181.96800</td>\n",
              "      <td>181.62630</td>\n",
              "      <td>194.6109</td>\n",
              "      <td>162.86595</td>\n",
              "      <td>150.00120</td>\n",
              "      <td>144.03165</td>\n",
              "      <td>138.91125</td>\n",
              "      <td>139.20450</td>\n",
              "      <td>137.89635</td>\n",
              "      <td>136.75905</td>\n",
              "      <td>134.92050</td>\n",
              "      <td>134.93580</td>\n",
              "      <td>137.43735</td>\n",
              "      <td>136.95795</td>\n",
              "      <td>...</td>\n",
              "      <td>124.91685</td>\n",
              "      <td>125.99805</td>\n",
              "      <td>125.05965</td>\n",
              "      <td>118.50615</td>\n",
              "      <td>106.20240</td>\n",
              "      <td>98.76150</td>\n",
              "      <td>96.00750</td>\n",
              "      <td>103.17810</td>\n",
              "      <td>108.27555</td>\n",
              "      <td>105.3558</td>\n",
              "      <td>122.14245</td>\n",
              "      <td>156.5088</td>\n",
              "      <td>118.52655</td>\n",
              "      <td>119.2635</td>\n",
              "      <td>120.69150</td>\n",
              "      <td>122.10930</td>\n",
              "      <td>118.53675</td>\n",
              "      <td>114.75000</td>\n",
              "      <td>112.51365</td>\n",
              "      <td>111.64665</td>\n",
              "      <td>111.72060</td>\n",
              "      <td>112.76355</td>\n",
              "      <td>114.94380</td>\n",
              "      <td>116.71860</td>\n",
              "      <td>116.56305</td>\n",
              "      <td>116.8665</td>\n",
              "      <td>120.07695</td>\n",
              "      <td>123.34860</td>\n",
              "      <td>125.66910</td>\n",
              "      <td>129.30285</td>\n",
              "      <td>129.76695</td>\n",
              "      <td>131.29695</td>\n",
              "      <td>128.79285</td>\n",
              "      <td>117.53205</td>\n",
              "      <td>108.08685</td>\n",
              "      <td>107.10510</td>\n",
              "      <td>111.59820</td>\n",
              "      <td>110.55780</td>\n",
              "      <td>123.73620</td>\n",
              "      <td>157.78380</td>\n",
              "    </tr>\n",
              "    <tr>\n",
              "      <th>4</th>\n",
              "      <td>241.02855</td>\n",
              "      <td>228.82680</td>\n",
              "      <td>157.72260</td>\n",
              "      <td>130.33560</td>\n",
              "      <td>122.93805</td>\n",
              "      <td>112.64880</td>\n",
              "      <td>122.25465</td>\n",
              "      <td>140.27805</td>\n",
              "      <td>147.75210</td>\n",
              "      <td>148.16265</td>\n",
              "      <td>150.11850</td>\n",
              "      <td>149.04750</td>\n",
              "      <td>144.50595</td>\n",
              "      <td>140.05620</td>\n",
              "      <td>141.73665</td>\n",
              "      <td>172.73190</td>\n",
              "      <td>178.12515</td>\n",
              "      <td>179.72910</td>\n",
              "      <td>182.6055</td>\n",
              "      <td>186.49425</td>\n",
              "      <td>187.92990</td>\n",
              "      <td>190.82925</td>\n",
              "      <td>191.01795</td>\n",
              "      <td>186.65235</td>\n",
              "      <td>182.82735</td>\n",
              "      <td>182.50350</td>\n",
              "      <td>181.27695</td>\n",
              "      <td>179.05080</td>\n",
              "      <td>241.5003</td>\n",
              "      <td>226.96785</td>\n",
              "      <td>164.25315</td>\n",
              "      <td>143.90670</td>\n",
              "      <td>154.27500</td>\n",
              "      <td>168.09600</td>\n",
              "      <td>179.15790</td>\n",
              "      <td>182.88855</td>\n",
              "      <td>178.26030</td>\n",
              "      <td>168.29235</td>\n",
              "      <td>166.55325</td>\n",
              "      <td>167.08875</td>\n",
              "      <td>...</td>\n",
              "      <td>178.35720</td>\n",
              "      <td>175.30485</td>\n",
              "      <td>170.87295</td>\n",
              "      <td>145.76055</td>\n",
              "      <td>130.81245</td>\n",
              "      <td>158.22495</td>\n",
              "      <td>197.89530</td>\n",
              "      <td>242.40045</td>\n",
              "      <td>251.19030</td>\n",
              "      <td>252.0777</td>\n",
              "      <td>251.16990</td>\n",
              "      <td>248.0691</td>\n",
              "      <td>158.51820</td>\n",
              "      <td>162.1545</td>\n",
              "      <td>168.01695</td>\n",
              "      <td>169.90905</td>\n",
              "      <td>172.71150</td>\n",
              "      <td>171.88785</td>\n",
              "      <td>161.74650</td>\n",
              "      <td>144.70740</td>\n",
              "      <td>135.42540</td>\n",
              "      <td>139.46205</td>\n",
              "      <td>150.96255</td>\n",
              "      <td>162.98070</td>\n",
              "      <td>170.21760</td>\n",
              "      <td>173.2470</td>\n",
              "      <td>174.29760</td>\n",
              "      <td>178.34955</td>\n",
              "      <td>180.43800</td>\n",
              "      <td>178.39800</td>\n",
              "      <td>175.02435</td>\n",
              "      <td>157.28145</td>\n",
              "      <td>133.64295</td>\n",
              "      <td>173.83860</td>\n",
              "      <td>235.89030</td>\n",
              "      <td>249.46395</td>\n",
              "      <td>252.21795</td>\n",
              "      <td>252.30210</td>\n",
              "      <td>250.17540</td>\n",
              "      <td>244.38690</td>\n",
              "    </tr>\n",
              "  </tbody>\n",
              "</table>\n",
              "<p>5 rows × 784 columns</p>\n",
              "</div>"
            ],
            "text/plain": [
              "         0          1          2    ...        781        782        783\n",
              "0    0.00000    0.00000    0.80325  ...  175.03710  175.00905  175.36095\n",
              "1    0.00000    0.00000    0.00000  ...  120.55635  125.61810  129.81795\n",
              "2  115.56855  133.25535  144.43710  ...  139.34475  140.04345  141.36945\n",
              "3  192.18585  164.70450  159.36735  ...  110.55780  123.73620  157.78380\n",
              "4  241.02855  228.82680  157.72260  ...  252.30210  250.17540  244.38690\n",
              "\n",
              "[5 rows x 784 columns]"
            ]
          },
          "metadata": {
            "tags": []
          },
          "execution_count": 30
        }
      ]
    },
    {
      "cell_type": "code",
      "metadata": {
        "colab": {
          "base_uri": "https://localhost:8080/"
        },
        "id": "jjpqjbw3_jQc",
        "outputId": "86fa3a12-e513-40b2-ab99-b504263bf9da"
      },
      "source": [
        "df.shape"
      ],
      "execution_count": 31,
      "outputs": [
        {
          "output_type": "execute_result",
          "data": {
            "text/plain": [
              "(490, 785)"
            ]
          },
          "metadata": {
            "tags": []
          },
          "execution_count": 31
        }
      ]
    },
    {
      "cell_type": "code",
      "metadata": {
        "colab": {
          "base_uri": "https://localhost:8080/",
          "height": 244
        },
        "id": "qY1otkdMS5xk",
        "outputId": "01fd4488-99ad-4fbc-e817-0b0796ab75ac"
      },
      "source": [
        "df.tail()"
      ],
      "execution_count": 32,
      "outputs": [
        {
          "output_type": "execute_result",
          "data": {
            "text/html": [
              "<div>\n",
              "<style scoped>\n",
              "    .dataframe tbody tr th:only-of-type {\n",
              "        vertical-align: middle;\n",
              "    }\n",
              "\n",
              "    .dataframe tbody tr th {\n",
              "        vertical-align: top;\n",
              "    }\n",
              "\n",
              "    .dataframe thead th {\n",
              "        text-align: right;\n",
              "    }\n",
              "</style>\n",
              "<table border=\"1\" class=\"dataframe\">\n",
              "  <thead>\n",
              "    <tr style=\"text-align: right;\">\n",
              "      <th></th>\n",
              "      <th>0</th>\n",
              "      <th>1</th>\n",
              "      <th>2</th>\n",
              "      <th>3</th>\n",
              "      <th>4</th>\n",
              "      <th>5</th>\n",
              "      <th>6</th>\n",
              "      <th>7</th>\n",
              "      <th>8</th>\n",
              "      <th>9</th>\n",
              "      <th>10</th>\n",
              "      <th>11</th>\n",
              "      <th>12</th>\n",
              "      <th>13</th>\n",
              "      <th>14</th>\n",
              "      <th>15</th>\n",
              "      <th>16</th>\n",
              "      <th>17</th>\n",
              "      <th>18</th>\n",
              "      <th>19</th>\n",
              "      <th>20</th>\n",
              "      <th>21</th>\n",
              "      <th>22</th>\n",
              "      <th>23</th>\n",
              "      <th>24</th>\n",
              "      <th>25</th>\n",
              "      <th>26</th>\n",
              "      <th>27</th>\n",
              "      <th>28</th>\n",
              "      <th>29</th>\n",
              "      <th>30</th>\n",
              "      <th>31</th>\n",
              "      <th>32</th>\n",
              "      <th>33</th>\n",
              "      <th>34</th>\n",
              "      <th>35</th>\n",
              "      <th>36</th>\n",
              "      <th>37</th>\n",
              "      <th>38</th>\n",
              "      <th>39</th>\n",
              "      <th>...</th>\n",
              "      <th>745</th>\n",
              "      <th>746</th>\n",
              "      <th>747</th>\n",
              "      <th>748</th>\n",
              "      <th>749</th>\n",
              "      <th>750</th>\n",
              "      <th>751</th>\n",
              "      <th>752</th>\n",
              "      <th>753</th>\n",
              "      <th>754</th>\n",
              "      <th>755</th>\n",
              "      <th>756</th>\n",
              "      <th>757</th>\n",
              "      <th>758</th>\n",
              "      <th>759</th>\n",
              "      <th>760</th>\n",
              "      <th>761</th>\n",
              "      <th>762</th>\n",
              "      <th>763</th>\n",
              "      <th>764</th>\n",
              "      <th>765</th>\n",
              "      <th>766</th>\n",
              "      <th>767</th>\n",
              "      <th>768</th>\n",
              "      <th>769</th>\n",
              "      <th>770</th>\n",
              "      <th>771</th>\n",
              "      <th>772</th>\n",
              "      <th>773</th>\n",
              "      <th>774</th>\n",
              "      <th>775</th>\n",
              "      <th>776</th>\n",
              "      <th>777</th>\n",
              "      <th>778</th>\n",
              "      <th>779</th>\n",
              "      <th>780</th>\n",
              "      <th>781</th>\n",
              "      <th>782</th>\n",
              "      <th>783</th>\n",
              "      <th>y</th>\n",
              "    </tr>\n",
              "  </thead>\n",
              "  <tbody>\n",
              "    <tr>\n",
              "      <th>485</th>\n",
              "      <td>32.04931</td>\n",
              "      <td>63.07274</td>\n",
              "      <td>79.38016</td>\n",
              "      <td>83.66464</td>\n",
              "      <td>86.49211</td>\n",
              "      <td>90.07647</td>\n",
              "      <td>92.57368</td>\n",
              "      <td>93.84100</td>\n",
              "      <td>95.56299</td>\n",
              "      <td>94.36292</td>\n",
              "      <td>93.46584</td>\n",
              "      <td>96.18753</td>\n",
              "      <td>95.13029</td>\n",
              "      <td>93.67239</td>\n",
              "      <td>92.63779</td>\n",
              "      <td>88.68993</td>\n",
              "      <td>83.43613</td>\n",
              "      <td>75.28674</td>\n",
              "      <td>67.45515</td>\n",
              "      <td>63.14891</td>\n",
              "      <td>61.65347</td>\n",
              "      <td>62.57063</td>\n",
              "      <td>61.66346</td>\n",
              "      <td>58.66964</td>\n",
              "      <td>57.68464</td>\n",
              "      <td>51.82561</td>\n",
              "      <td>42.13665</td>\n",
              "      <td>19.36143</td>\n",
              "      <td>67.70778</td>\n",
              "      <td>82.78963</td>\n",
              "      <td>88.23282</td>\n",
              "      <td>90.26889</td>\n",
              "      <td>90.23743</td>\n",
              "      <td>91.78316</td>\n",
              "      <td>92.34585</td>\n",
              "      <td>93.65710</td>\n",
              "      <td>95.31536</td>\n",
              "      <td>95.77551</td>\n",
              "      <td>95.89679</td>\n",
              "      <td>98.61769</td>\n",
              "      <td>...</td>\n",
              "      <td>104.42202</td>\n",
              "      <td>103.95041</td>\n",
              "      <td>103.17950</td>\n",
              "      <td>102.16813</td>\n",
              "      <td>99.52799</td>\n",
              "      <td>95.67827</td>\n",
              "      <td>85.46731</td>\n",
              "      <td>69.95275</td>\n",
              "      <td>41.95412</td>\n",
              "      <td>9.05754</td>\n",
              "      <td>1.28164</td>\n",
              "      <td>79.46114</td>\n",
              "      <td>77.18645</td>\n",
              "      <td>76.49035</td>\n",
              "      <td>76.26625</td>\n",
              "      <td>75.99991</td>\n",
              "      <td>79.10391</td>\n",
              "      <td>81.86188</td>\n",
              "      <td>83.16175</td>\n",
              "      <td>84.59328</td>\n",
              "      <td>85.21322</td>\n",
              "      <td>85.20096</td>\n",
              "      <td>86.69865</td>\n",
              "      <td>89.21939</td>\n",
              "      <td>94.40908</td>\n",
              "      <td>97.70719</td>\n",
              "      <td>98.75062</td>\n",
              "      <td>101.32684</td>\n",
              "      <td>101.76151</td>\n",
              "      <td>99.43143</td>\n",
              "      <td>95.23850</td>\n",
              "      <td>90.21185</td>\n",
              "      <td>87.58034</td>\n",
              "      <td>77.13126</td>\n",
              "      <td>54.52465</td>\n",
              "      <td>26.49917</td>\n",
              "      <td>12.00510</td>\n",
              "      <td>6.06254</td>\n",
              "      <td>1.33850</td>\n",
              "      <td>1</td>\n",
              "    </tr>\n",
              "    <tr>\n",
              "      <th>486</th>\n",
              "      <td>107.42361</td>\n",
              "      <td>78.37065</td>\n",
              "      <td>127.78297</td>\n",
              "      <td>104.29297</td>\n",
              "      <td>113.81683</td>\n",
              "      <td>118.62976</td>\n",
              "      <td>116.38975</td>\n",
              "      <td>89.04774</td>\n",
              "      <td>60.10069</td>\n",
              "      <td>42.97179</td>\n",
              "      <td>33.56163</td>\n",
              "      <td>24.82161</td>\n",
              "      <td>55.24956</td>\n",
              "      <td>66.97569</td>\n",
              "      <td>67.35112</td>\n",
              "      <td>65.82161</td>\n",
              "      <td>56.84939</td>\n",
              "      <td>46.46658</td>\n",
              "      <td>35.11545</td>\n",
              "      <td>40.71223</td>\n",
              "      <td>70.97308</td>\n",
              "      <td>79.86632</td>\n",
              "      <td>89.69661</td>\n",
              "      <td>90.29903</td>\n",
              "      <td>89.65190</td>\n",
              "      <td>86.82204</td>\n",
              "      <td>80.98437</td>\n",
              "      <td>77.35460</td>\n",
              "      <td>88.52821</td>\n",
              "      <td>65.90798</td>\n",
              "      <td>157.31726</td>\n",
              "      <td>127.14930</td>\n",
              "      <td>115.52603</td>\n",
              "      <td>121.43011</td>\n",
              "      <td>124.39843</td>\n",
              "      <td>101.13584</td>\n",
              "      <td>93.51736</td>\n",
              "      <td>87.75780</td>\n",
              "      <td>80.34592</td>\n",
              "      <td>80.89452</td>\n",
              "      <td>...</td>\n",
              "      <td>156.65408</td>\n",
              "      <td>164.39148</td>\n",
              "      <td>188.34590</td>\n",
              "      <td>175.74956</td>\n",
              "      <td>169.34071</td>\n",
              "      <td>170.47092</td>\n",
              "      <td>177.71440</td>\n",
              "      <td>174.16666</td>\n",
              "      <td>161.32465</td>\n",
              "      <td>157.06598</td>\n",
              "      <td>160.75172</td>\n",
              "      <td>221.44789</td>\n",
              "      <td>223.06161</td>\n",
              "      <td>216.47351</td>\n",
              "      <td>205.92532</td>\n",
              "      <td>98.68142</td>\n",
              "      <td>105.35546</td>\n",
              "      <td>95.52083</td>\n",
              "      <td>112.01170</td>\n",
              "      <td>104.80077</td>\n",
              "      <td>109.71266</td>\n",
              "      <td>110.87283</td>\n",
              "      <td>125.26605</td>\n",
              "      <td>176.89886</td>\n",
              "      <td>179.03818</td>\n",
              "      <td>166.06206</td>\n",
              "      <td>160.85199</td>\n",
              "      <td>162.26953</td>\n",
              "      <td>162.53082</td>\n",
              "      <td>168.44052</td>\n",
              "      <td>185.96135</td>\n",
              "      <td>175.63800</td>\n",
              "      <td>166.43010</td>\n",
              "      <td>166.40581</td>\n",
              "      <td>173.46136</td>\n",
              "      <td>178.98956</td>\n",
              "      <td>162.94443</td>\n",
              "      <td>156.47523</td>\n",
              "      <td>164.67317</td>\n",
              "      <td>1</td>\n",
              "    </tr>\n",
              "    <tr>\n",
              "      <th>487</th>\n",
              "      <td>138.71077</td>\n",
              "      <td>138.39752</td>\n",
              "      <td>139.18227</td>\n",
              "      <td>138.85233</td>\n",
              "      <td>137.84929</td>\n",
              "      <td>138.25217</td>\n",
              "      <td>135.42763</td>\n",
              "      <td>139.79762</td>\n",
              "      <td>149.01624</td>\n",
              "      <td>155.59428</td>\n",
              "      <td>155.98845</td>\n",
              "      <td>156.03436</td>\n",
              "      <td>157.12921</td>\n",
              "      <td>166.75925</td>\n",
              "      <td>176.77956</td>\n",
              "      <td>177.03931</td>\n",
              "      <td>171.55060</td>\n",
              "      <td>159.97006</td>\n",
              "      <td>149.14644</td>\n",
              "      <td>148.82187</td>\n",
              "      <td>146.86717</td>\n",
              "      <td>147.95076</td>\n",
              "      <td>145.34686</td>\n",
              "      <td>146.99251</td>\n",
              "      <td>150.18887</td>\n",
              "      <td>150.82460</td>\n",
              "      <td>154.19073</td>\n",
              "      <td>177.99365</td>\n",
              "      <td>147.02831</td>\n",
              "      <td>144.60255</td>\n",
              "      <td>143.93596</td>\n",
              "      <td>139.72304</td>\n",
              "      <td>135.19878</td>\n",
              "      <td>133.98410</td>\n",
              "      <td>132.96117</td>\n",
              "      <td>138.43669</td>\n",
              "      <td>141.90948</td>\n",
              "      <td>145.63438</td>\n",
              "      <td>144.88873</td>\n",
              "      <td>127.19414</td>\n",
              "      <td>...</td>\n",
              "      <td>148.03798</td>\n",
              "      <td>165.67453</td>\n",
              "      <td>186.31253</td>\n",
              "      <td>183.75241</td>\n",
              "      <td>177.76192</td>\n",
              "      <td>168.45854</td>\n",
              "      <td>156.45503</td>\n",
              "      <td>153.98387</td>\n",
              "      <td>153.65071</td>\n",
              "      <td>152.84088</td>\n",
              "      <td>157.98407</td>\n",
              "      <td>153.11664</td>\n",
              "      <td>156.75339</td>\n",
              "      <td>150.80119</td>\n",
              "      <td>134.91673</td>\n",
              "      <td>140.91095</td>\n",
              "      <td>147.93492</td>\n",
              "      <td>146.28545</td>\n",
              "      <td>152.92950</td>\n",
              "      <td>161.18454</td>\n",
              "      <td>170.57153</td>\n",
              "      <td>180.99541</td>\n",
              "      <td>177.34262</td>\n",
              "      <td>172.60153</td>\n",
              "      <td>153.53722</td>\n",
              "      <td>152.18579</td>\n",
              "      <td>156.25523</td>\n",
              "      <td>144.95610</td>\n",
              "      <td>156.91241</td>\n",
              "      <td>177.85625</td>\n",
              "      <td>191.56958</td>\n",
              "      <td>188.39447</td>\n",
              "      <td>184.59172</td>\n",
              "      <td>170.47099</td>\n",
              "      <td>163.77310</td>\n",
              "      <td>159.05679</td>\n",
              "      <td>160.44153</td>\n",
              "      <td>163.63867</td>\n",
              "      <td>168.37375</td>\n",
              "      <td>1</td>\n",
              "    </tr>\n",
              "    <tr>\n",
              "      <th>488</th>\n",
              "      <td>143.79509</td>\n",
              "      <td>144.19853</td>\n",
              "      <td>148.13728</td>\n",
              "      <td>150.81483</td>\n",
              "      <td>150.37828</td>\n",
              "      <td>162.94373</td>\n",
              "      <td>179.32594</td>\n",
              "      <td>187.52002</td>\n",
              "      <td>195.42371</td>\n",
              "      <td>201.50223</td>\n",
              "      <td>203.79556</td>\n",
              "      <td>198.01431</td>\n",
              "      <td>193.14026</td>\n",
              "      <td>198.87111</td>\n",
              "      <td>199.12595</td>\n",
              "      <td>192.25433</td>\n",
              "      <td>228.43307</td>\n",
              "      <td>244.47458</td>\n",
              "      <td>249.28447</td>\n",
              "      <td>218.69336</td>\n",
              "      <td>129.99112</td>\n",
              "      <td>185.22124</td>\n",
              "      <td>173.91063</td>\n",
              "      <td>171.20198</td>\n",
              "      <td>182.81187</td>\n",
              "      <td>146.47804</td>\n",
              "      <td>157.11853</td>\n",
              "      <td>158.06174</td>\n",
              "      <td>146.82027</td>\n",
              "      <td>146.04149</td>\n",
              "      <td>147.85037</td>\n",
              "      <td>151.36151</td>\n",
              "      <td>148.79854</td>\n",
              "      <td>159.21481</td>\n",
              "      <td>181.01730</td>\n",
              "      <td>195.04791</td>\n",
              "      <td>204.57927</td>\n",
              "      <td>211.07013</td>\n",
              "      <td>211.87262</td>\n",
              "      <td>207.15410</td>\n",
              "      <td>...</td>\n",
              "      <td>157.93532</td>\n",
              "      <td>150.72052</td>\n",
              "      <td>168.08148</td>\n",
              "      <td>180.84990</td>\n",
              "      <td>180.95111</td>\n",
              "      <td>172.78174</td>\n",
              "      <td>154.18272</td>\n",
              "      <td>167.58173</td>\n",
              "      <td>183.00940</td>\n",
              "      <td>176.30667</td>\n",
              "      <td>172.96840</td>\n",
              "      <td>167.52740</td>\n",
              "      <td>157.36101</td>\n",
              "      <td>149.55754</td>\n",
              "      <td>147.38322</td>\n",
              "      <td>142.91063</td>\n",
              "      <td>139.52495</td>\n",
              "      <td>152.60744</td>\n",
              "      <td>161.83507</td>\n",
              "      <td>162.83063</td>\n",
              "      <td>126.01829</td>\n",
              "      <td>119.93433</td>\n",
              "      <td>123.04049</td>\n",
              "      <td>125.52544</td>\n",
              "      <td>133.26173</td>\n",
              "      <td>132.13037</td>\n",
              "      <td>126.46075</td>\n",
              "      <td>119.00050</td>\n",
              "      <td>106.15606</td>\n",
              "      <td>123.01631</td>\n",
              "      <td>166.99805</td>\n",
              "      <td>179.34766</td>\n",
              "      <td>180.18767</td>\n",
              "      <td>175.47458</td>\n",
              "      <td>166.56544</td>\n",
              "      <td>170.17334</td>\n",
              "      <td>182.71756</td>\n",
              "      <td>177.46025</td>\n",
              "      <td>170.88297</td>\n",
              "      <td>1</td>\n",
              "    </tr>\n",
              "    <tr>\n",
              "      <th>489</th>\n",
              "      <td>152.18491</td>\n",
              "      <td>156.17082</td>\n",
              "      <td>163.85355</td>\n",
              "      <td>164.76106</td>\n",
              "      <td>151.75331</td>\n",
              "      <td>141.74086</td>\n",
              "      <td>142.54668</td>\n",
              "      <td>136.09061</td>\n",
              "      <td>118.37772</td>\n",
              "      <td>111.65223</td>\n",
              "      <td>112.74654</td>\n",
              "      <td>115.56986</td>\n",
              "      <td>121.18731</td>\n",
              "      <td>121.15675</td>\n",
              "      <td>127.58134</td>\n",
              "      <td>132.86609</td>\n",
              "      <td>143.19492</td>\n",
              "      <td>156.32646</td>\n",
              "      <td>139.66936</td>\n",
              "      <td>57.25115</td>\n",
              "      <td>51.27647</td>\n",
              "      <td>49.90354</td>\n",
              "      <td>55.84732</td>\n",
              "      <td>59.05450</td>\n",
              "      <td>57.55172</td>\n",
              "      <td>63.79919</td>\n",
              "      <td>61.45561</td>\n",
              "      <td>28.75074</td>\n",
              "      <td>156.19360</td>\n",
              "      <td>158.19417</td>\n",
              "      <td>162.15384</td>\n",
              "      <td>156.04546</td>\n",
              "      <td>138.31004</td>\n",
              "      <td>138.28282</td>\n",
              "      <td>136.78888</td>\n",
              "      <td>127.14272</td>\n",
              "      <td>110.94274</td>\n",
              "      <td>112.16763</td>\n",
              "      <td>114.00441</td>\n",
              "      <td>116.86809</td>\n",
              "      <td>...</td>\n",
              "      <td>53.27657</td>\n",
              "      <td>52.88475</td>\n",
              "      <td>56.61124</td>\n",
              "      <td>57.19410</td>\n",
              "      <td>59.70032</td>\n",
              "      <td>59.85674</td>\n",
              "      <td>59.90732</td>\n",
              "      <td>57.73618</td>\n",
              "      <td>33.38315</td>\n",
              "      <td>2.78437</td>\n",
              "      <td>0.99774</td>\n",
              "      <td>119.51941</td>\n",
              "      <td>118.64090</td>\n",
              "      <td>119.43886</td>\n",
              "      <td>110.80888</td>\n",
              "      <td>97.41418</td>\n",
              "      <td>96.98760</td>\n",
              "      <td>98.17523</td>\n",
              "      <td>98.87844</td>\n",
              "      <td>102.32605</td>\n",
              "      <td>105.10819</td>\n",
              "      <td>92.47440</td>\n",
              "      <td>66.53996</td>\n",
              "      <td>62.45338</td>\n",
              "      <td>59.39102</td>\n",
              "      <td>60.19732</td>\n",
              "      <td>59.67333</td>\n",
              "      <td>57.17295</td>\n",
              "      <td>54.65331</td>\n",
              "      <td>53.05931</td>\n",
              "      <td>53.91871</td>\n",
              "      <td>55.21429</td>\n",
              "      <td>56.63548</td>\n",
              "      <td>58.23002</td>\n",
              "      <td>59.89159</td>\n",
              "      <td>61.61156</td>\n",
              "      <td>58.73734</td>\n",
              "      <td>31.31282</td>\n",
              "      <td>1.82236</td>\n",
              "      <td>1</td>\n",
              "    </tr>\n",
              "  </tbody>\n",
              "</table>\n",
              "<p>5 rows × 785 columns</p>\n",
              "</div>"
            ],
            "text/plain": [
              "             0          1          2  ...        782        783  y\n",
              "485   32.04931   63.07274   79.38016  ...    6.06254    1.33850  1\n",
              "486  107.42361   78.37065  127.78297  ...  156.47523  164.67317  1\n",
              "487  138.71077  138.39752  139.18227  ...  163.63867  168.37375  1\n",
              "488  143.79509  144.19853  148.13728  ...  177.46025  170.88297  1\n",
              "489  152.18491  156.17082  163.85355  ...   31.31282    1.82236  1\n",
              "\n",
              "[5 rows x 785 columns]"
            ]
          },
          "metadata": {
            "tags": []
          },
          "execution_count": 32
        }
      ]
    }
  ]
}