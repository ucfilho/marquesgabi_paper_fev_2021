{
  "nbformat": 4,
  "nbformat_minor": 0,
  "metadata": {
    "colab": {
      "name": "Graphic_Epochs_fev_09_2020.ipynb",
      "provenance": [],
      "authorship_tag": "ABX9TyMM2w1gzuLchKWZwM4YtG+9",
      "include_colab_link": true
    },
    "kernelspec": {
      "name": "python3",
      "display_name": "Python 3"
    }
  },
  "cells": [
    {
      "cell_type": "markdown",
      "metadata": {
        "id": "view-in-github",
        "colab_type": "text"
      },
      "source": [
        "<a href=\"https://colab.research.google.com/github/ucfilho/marquesgabi_paper_fev_2021/blob/main/Graphic_Epochs_fev_09_2020.ipynb\" target=\"_parent\"><img src=\"https://colab.research.google.com/assets/colab-badge.svg\" alt=\"Open In Colab\"/></a>"
      ]
    },
    {
      "cell_type": "code",
      "metadata": {
        "id": "ZEN4Fc-mE3bd"
      },
      "source": [
        "import pandas as pd\r\n",
        "import matplotlib.pyplot as plt\r\n",
        "import numpy as np\r\n"
      ],
      "execution_count": 1,
      "outputs": []
    },
    {
      "cell_type": "code",
      "metadata": {
        "colab": {
          "base_uri": "https://localhost:8080/"
        },
        "id": "p9TTZJkGE9KL",
        "outputId": "5a1f3edc-dfb9-49eb-f1be-ad52b3580632"
      },
      "source": [
        "!git clone https://github.com/ucfilho/marquesgabi_paper_fev_2021\r\n",
        "%cd marquesgabi_paper_fev_2021"
      ],
      "execution_count": 2,
      "outputs": [
        {
          "output_type": "stream",
          "text": [
            "fatal: destination path 'marquesgabi_paper_fev_2021' already exists and is not an empty directory.\n",
            "/content/marquesgabi_paper_fev_2021\n"
          ],
          "name": "stdout"
        }
      ]
    },
    {
      "cell_type": "code",
      "metadata": {
        "colab": {
          "base_uri": "https://localhost:8080/"
        },
        "id": "LKP4fLDKFyOZ",
        "outputId": "ff3b9dc5-7c1a-4c37-f2e7-9cdd087cb816"
      },
      "source": [
        "#df = pd.read_csv('EPOCHS_graphic.txt', sep=\" \",header=None)\r\n",
        "df = pd.read_csv('EPOCHS_graphic.csv', header=0)\r\n",
        "df = df.drop(['Unnamed: 0'], axis=1)\r\n",
        "print(df)"
      ],
      "execution_count": 3,
      "outputs": [
        {
          "output_type": "stream",
          "text": [
            "        Loss  accuracy\n",
            "0    10.9553    0.3654\n",
            "1     2.0277    0.5010\n",
            "2     2.2247    0.4898\n",
            "3     3.7476    0.4941\n",
            "4     4.0644    0.4892\n",
            "..       ...       ...\n",
            "194   0.0046    1.0000\n",
            "195   0.0051    1.0000\n",
            "196   0.0059    1.0000\n",
            "197   0.0062    1.0000\n",
            "198   0.0061    1.0000\n",
            "\n",
            "[199 rows x 2 columns]\n"
          ],
          "name": "stdout"
        }
      ]
    },
    {
      "cell_type": "code",
      "metadata": {
        "colab": {
          "base_uri": "https://localhost:8080/",
          "height": 290
        },
        "id": "TZTI1r-VPWWs",
        "outputId": "a114b253-3018-4c54-c945-9f7531a5009d"
      },
      "source": [
        "#file_selected=labels[Seq[i]]\r\n",
        "#df=pd.read_csv(file_selected)\r\n",
        "fig = plt.figure()\r\n",
        "ax1 = fig.add_subplot(111)\r\n",
        "X=[i+1 for i in range(199)]\r\n",
        "#X = range(1,199)\r\n",
        "Y_loss=np.array(df['Loss'])\r\n",
        "Y_accuracy=np.array(df['accuracy'])\r\n",
        "plt.xlim(0, 200)\r\n",
        "plt.ylim(0, 20)\r\n",
        "plt.setp(ax1.spines.values(), linewidth=2.0)\r\n",
        "plt.plot(X, Y_loss, 'ko--', X, Y_accuracy, 'k^-', linewidth=2, markersize=6)\r\n",
        "plt.legend( ('Loss', 'Accuracy'), loc=[0.7,0.8], fontsize=10)\r\n",
        "#plt.text(-0.2,1.6,Legends[i],fontsize=16)\r\n",
        "plt.xlabel('Epochs', fontsize=11, fontweight='bold')\r\n",
        "plt.ylabel('Loss and Accuracy', fontsize=15, fontweight='normal')\r\n",
        "plt.grid(True, linewidth=1,color='gray')\r\n",
        "plt.tick_params(axis='both', which='major', labelsize=15)"
      ],
      "execution_count": 4,
      "outputs": [
        {
          "output_type": "display_data",
          "data": {
            "image/png": "[encoded data removed]",
            "text/plain": [
              "<Figure size 432x288 with 1 Axes>"
            ]
          },
          "metadata": {
            "tags": [],
            "needs_background": "light"
          }
        }
      ]
    },
    {
      "cell_type": "code",
      "metadata": {
        "colab": {
          "base_uri": "https://localhost:8080/",
          "height": 35
        },
        "id": "p9wapTbTYYvH",
        "outputId": "8d337c38-a7dc-43b6-88aa-2bb4a055f211"
      },
      "source": [
        "left_choice = 0.1  # the left side of the subplots of the figure\r\n",
        "right_choice = 0.2   # the right side of the subplots of the figure\r\n",
        "bottom_choice = 0.1  # the bottom of the subplots of the figure\r\n",
        "top_choice = 0.9     # the top of the subplots of the figure\r\n",
        "wspace_choice = 0.2  # the amount of width reserved for space between subplots,\r\n",
        "              # expressed as a fraction of the average axis width\r\n",
        "hspace_choice = 0.2  # the amount of height reserved for space between subplots,\r\n",
        "              # expressed as a fraction of the average axis height\r\n",
        "\r\n",
        "plt.subplots_adjust(left=left_choice, bottom=bottom_choice,right=right_choice,\r\n",
        "                    top=top_choice,wspace=wspace_choice, hspace=hspace_choice)"
      ],
      "execution_count": 5,
      "outputs": [
        {
          "output_type": "display_data",
          "data": {
            "text/plain": [
              "<Figure size 432x288 with 0 Axes>"
            ]
          },
          "metadata": {
            "tags": []
          }
        }
      ]
    },
    {
      "cell_type": "code",
      "metadata": {
        "id": "HV3u6cGKUV7M",
        "colab": {
          "base_uri": "https://localhost:8080/",
          "height": 303
        },
        "outputId": "c2c75bed-8a3e-406e-b405-a55fcff3302c"
      },
      "source": [
        "\r\n",
        "Num=2\r\n",
        "Y = np.zeros((199,2))\r\n",
        "Y_lim=[12,2]\r\n",
        "Y_label=['Loss','Accuracy']\r\n",
        "Y[:,0]=np.array(df['Loss'])\r\n",
        "Y[:,1]=np.array(df['accuracy'])\r\n",
        "X=[i+1 for i in range(199)]\r\n",
        "fig = plt.figure()\r\n",
        "ax1 = fig.add_subplot(111)\r\n",
        "for i in range(Num):\r\n",
        "  plt.subplot(1,2,i+1)\r\n",
        "  plt.xlim(0, 200)\r\n",
        "  plt.ylim(0, Y_lim[i])\r\n",
        "  plt.setp(ax1.spines.values(), linewidth=2.0)\r\n",
        "  plt.plot(X, Y[:,i], 'ko-', linewidth=2, markersize=6)\r\n",
        "  plt.xlabel('Epochs', fontsize=11, fontweight='bold')\r\n",
        "  plt.ylabel(Y_label[i], fontsize=15, fontweight='normal')\r\n",
        "  plt.grid(True, linewidth=1,color='gray')\r\n",
        "  plt.tick_params(axis='both', which='major', labelsize=15)\r\n",
        "\r\n",
        "plt.subplots_adjust(left=left_choice, bottom=bottom_choice,right=right_choice,\r\n",
        "                    top=top_choice,wspace=wspace_choice, hspace=hspace_choice)\r\n",
        "\r\n"
      ],
      "execution_count": 6,
      "outputs": [
        {
          "output_type": "display_data",
          "data": {
            "image/png": "[encoded data removed]",
            "text/plain": [
              "<Figure size 432x288 with 2 Axes>"
            ]
          },
          "metadata": {
            "tags": [],
            "needs_background": "light"
          }
        }
      ]
    },
    {
      "cell_type": "code",
      "metadata": {
        "colab": {
          "base_uri": "https://localhost:8080/",
          "height": 297
        },
        "id": "dpOootQvakXY",
        "outputId": "9a91df68-f1d9-4239-85e2-8bbfa41794f2"
      },
      "source": [
        "Num=2\r\n",
        "Y = np.zeros((199,2))\r\n",
        "Y_lim=[12,2]\r\n",
        "Y_label=['Loss','Accuracy']\r\n",
        "Y[:,0]=np.array(df['Loss'])\r\n",
        "Y[:,1]=np.array(df['accuracy'])\r\n",
        "X=[i+1 for i in range(199)]\r\n",
        "fig = plt.figure()\r\n",
        "ax1 = fig.add_subplot(111)\r\n",
        "for i in range(Num):\r\n",
        "  plt.subplot(1,2,i+1)\r\n",
        "  plt.xlim(0, 200)\r\n",
        "  plt.ylim(0, Y_lim[i])\r\n",
        "  plt.setp(ax1.spines.values(), linewidth=2.0)\r\n",
        "  plt.plot(X, Y[:,i], 'ko-', linewidth=2, markersize=6)\r\n",
        "  plt.xlabel('Epochs', fontsize=11, fontweight='bold')\r\n",
        "  plt.ylabel(Y_label[i], fontsize=15, fontweight='normal')\r\n",
        "  plt.grid(True, linewidth=1,color='gray')\r\n",
        "  plt.tick_params(axis='both', which='major', labelsize=15)\r\n",
        "\r\n",
        "plt.tight_layout()"
      ],
      "execution_count": 7,
      "outputs": [
        {
          "output_type": "display_data",
          "data": {
            "image/png": "[encoded data removed]",
            "text/plain": [
              "<Figure size 432x288 with 2 Axes>"
            ]
          },
          "metadata": {
            "tags": [],
            "needs_background": "light"
          }
        }
      ]
    }
  ]
}