{
  "nbformat": 4,
  "nbformat_minor": 0,
  "metadata": {
    "colab": {
      "name": "PSD_GRAIN_NOT_GRAIN_fev_18_2021.ipynb",
      "provenance": [],
      "collapsed_sections": [],
      "include_colab_link": true
    },
    "kernelspec": {
      "name": "python3",
      "display_name": "Python 3"
    }
  },
  "cells": [
    {
      "cell_type": "markdown",
      "metadata": {
        "id": "view-in-github",
        "colab_type": "text"
      },
      "source": [
        "<a href=\"https://colab.research.google.com/github/ucfilho/marquesgabi_paper_fev_2021/blob/main/PSD_GRAIN_NOT_GRAIN_fev_18_2021.ipynb\" target=\"_parent\"><img src=\"https://colab.research.google.com/assets/colab-badge.svg\" alt=\"Open In Colab\"/></a>"
      ]
    },
    {
      "cell_type": "code",
      "metadata": {
        "id": "Sog7Z9pyhUD_",
        "colab": {
          "base_uri": "https://localhost:8080/"
        },
        "outputId": "736917cf-1f08-405a-c3b9-d57cfee7f42a"
      },
      "source": [
        "import matplotlib.pyplot as plt\n",
        "import numpy as np\n",
        "import cv2\n",
        "import zipfile\n",
        "#import random\n",
        "from random import randint\n",
        "from PIL import Image\n",
        "import re\n",
        "from sklearn.model_selection import train_test_split\n",
        "#import scikit-image\n",
        "import skimage\n",
        "import pandas as pd\n",
        "import statsmodels.api as sm\n",
        "import statsmodels.formula.api as smf"
      ],
      "execution_count": 1,
      "outputs": [
        {
          "output_type": "stream",
          "text": [
            "/usr/local/lib/python3.6/dist-packages/statsmodels/tools/_testing.py:19: FutureWarning: pandas.util.testing is deprecated. Use the functions in the public API at pandas.testing instead.\n",
            "  import pandas.util.testing as tm\n"
          ],
          "name": "stderr"
        }
      ]
    },
    {
      "cell_type": "code",
      "metadata": {
        "id": "uZEvJvfoibE4",
        "colab": {
          "base_uri": "https://localhost:8080/"
        },
        "outputId": "c624b93a-0711-47b3-c0de-65a7a825d81a"
      },
      "source": [
        "!pip install mahotas"
      ],
      "execution_count": 2,
      "outputs": [
        {
          "output_type": "stream",
          "text": [
            "Collecting mahotas\n",
            "\u001b[?25l  Downloading https://files.pythonhosted.org/packages/ce/3b/1f3fe2f86ffdb4a2fbc6baaf4ef0e6cebdd3e127de44ddd188dc2ed0d412/mahotas-1.4.11-cp36-cp36m-manylinux2010_x86_64.whl (5.7MB)\n",
            "\u001b[K     |████████████████████████████████| 5.7MB 4.7MB/s \n",
            "\u001b[?25hRequirement already satisfied: numpy in /usr/local/lib/python3.6/dist-packages (from mahotas) (1.19.5)\n",
            "Installing collected packages: mahotas\n",
            "Successfully installed mahotas-1.4.11\n"
          ],
          "name": "stdout"
        }
      ]
    },
    {
      "cell_type": "code",
      "metadata": {
        "id": "_VcTdaNVh9EE",
        "colab": {
          "base_uri": "https://localhost:8080/"
        },
        "outputId": "1dc04cd7-eb19-46ff-c192-49ddb2e60082"
      },
      "source": [
        "!git clone https://github.com/ucfilho/marquesgabi_fev_2020 #clonar do Github\n",
        "%cd marquesgabi_fev_2020\n",
        "import Go2BlackWhite\n",
        "import Go2Mahotas"
      ],
      "execution_count": 3,
      "outputs": [
        {
          "output_type": "stream",
          "text": [
            "Cloning into 'marquesgabi_fev_2020'...\n",
            "remote: Enumerating objects: 73, done.\u001b[K\n",
            "remote: Counting objects: 100% (73/73), done.\u001b[K\n",
            "remote: Compressing objects: 100% (71/71), done.\u001b[K\n",
            "remote: Total 73 (delta 37), reused 0 (delta 0), pack-reused 0\u001b[K\n",
            "Unpacking objects: 100% (73/73), done.\n",
            "/content/marquesgabi_fev_2020\n"
          ],
          "name": "stdout"
        }
      ]
    },
    {
      "cell_type": "code",
      "metadata": {
        "id": "nf_a6PJ1iUnT"
      },
      "source": [
        "import mahotas.features.texture as mht\n",
        "import mahotas.features"
      ],
      "execution_count": 4,
      "outputs": []
    },
    {
      "cell_type": "code",
      "metadata": {
        "id": "wj62HANgnpnR",
        "colab": {
          "base_uri": "https://localhost:8080/"
        },
        "outputId": "ad7c4a14-616a-49a7-9648-91405d323297"
      },
      "source": [
        "!git clone https://github.com/ucfilho/marquesgabi_out_2020/\n",
        "%cd marquesgabi_out_2020\n",
        "\n",
        "from Get_PSDArea import PSDArea\n",
        "from histogram_fev_2021 import PSD\n",
        "from GetBetterSegm import GetBetter"
      ],
      "execution_count": 5,
      "outputs": [
        {
          "output_type": "stream",
          "text": [
            "Cloning into 'marquesgabi_out_2020'...\n",
            "remote: Enumerating objects: 146, done.\u001b[K\n",
            "remote: Counting objects: 100% (146/146), done.\u001b[K\n",
            "remote: Compressing objects: 100% (142/142), done.\u001b[K\n",
            "remote: Total 146 (delta 75), reused 0 (delta 0), pack-reused 0\u001b[K\n",
            "Receiving objects: 100% (146/146), 1.00 MiB | 13.17 MiB/s, done.\n",
            "Resolving deltas: 100% (75/75), done.\n",
            "/content/marquesgabi_fev_2020/marquesgabi_out_2020\n"
          ],
          "name": "stdout"
        }
      ]
    },
    {
      "cell_type": "code",
      "metadata": {
        "id": "8L6KJ4jc3ahG",
        "colab": {
          "base_uri": "https://localhost:8080/"
        },
        "outputId": "b8fce97e-f411-4676-8753-b00f64759276"
      },
      "source": [
        "!ls"
      ],
      "execution_count": 6,
      "outputs": [
        {
          "output_type": "stream",
          "text": [
            "Areas_ImageJ.csv\t\t PSD_GRAIN_NOT_GRAIN_nov_13_2020.ipynb\n",
            "Areas_ImageJ.xlsx\t\t PSD_GRAIN_NOT_GRAIN_out_09_2020.ipynb\n",
            "GetBetterSegm.py\t\t PSD_GRAIN_NOT_GRAIN_out_19_2020.ipynb\n",
            "Get_PSDArea.py\t\t\t PSD_GRAIN_NOT_GRAIN_out_28_2020.ipynb\n",
            "histogram_fev_2021.py\t\t PSD_USA_ROTINAS_out_05_2020.ipynb\n",
            "Histogram_PSD_out_19_2020.ipynb  __pycache__\n",
            "Histogram_PSD_out_23_2020.ipynb  README.md\n",
            "imageJ_jpg.zip\t\t\t Teste\n",
            "IMAGEJ_Zuados.zip\n"
          ],
          "name": "stdout"
        }
      ]
    },
    {
      "cell_type": "code",
      "metadata": {
        "id": "1v7SRrc8mH2N",
        "colab": {
          "base_uri": "https://localhost:8080/"
        },
        "outputId": "ea915707-b103-4258-c838-62407ca4321f"
      },
      "source": [
        "!git clone https://github.com/marquesgabi/Doutorado\n",
        "%cd Doutorado\n",
        "\n",
        "Transfere='Fotos_Grandes_3cdAmostra.zip'\n",
        "file_name = zipfile.ZipFile(Transfere, 'r')\n",
        "file_name.extractall()"
      ],
      "execution_count": 7,
      "outputs": [
        {
          "output_type": "stream",
          "text": [
            "Cloning into 'Doutorado'...\n",
            "remote: Enumerating objects: 52, done.\u001b[K\n",
            "remote: Counting objects: 100% (52/52), done.\u001b[K\n",
            "remote: Compressing objects: 100% (52/52), done.\u001b[K\n",
            "remote: Total 302 (delta 21), reused 0 (delta 0), pack-reused 250\u001b[K\n",
            "Receiving objects: 100% (302/302), 78.58 MiB | 37.31 MiB/s, done.\n",
            "Resolving deltas: 100% (144/144), done.\n",
            "/content/marquesgabi_fev_2020/marquesgabi_out_2020/Doutorado\n"
          ],
          "name": "stdout"
        }
      ]
    },
    {
      "cell_type": "code",
      "metadata": {
        "id": "0kA4IWSmasoD"
      },
      "source": [
        "Size=1200 # tamanho da foto\n",
        "ww,img_name=Go2BlackWhite.BlackWhite(Transfere,Size) #Pegamos a primeira foto Grande\n",
        "img=ww[0] \n",
        "# this is the big image we want to segment \n",
        "# ww[0], change it if you want to segment another picture"
      ],
      "execution_count": 8,
      "outputs": []
    },
    {
      "cell_type": "code",
      "metadata": {
        "id": "g_k1Ktz3izJv",
        "colab": {
          "base_uri": "https://localhost:8080/"
        },
        "outputId": "036fab43-733f-4262-e67a-036c1b66d32d"
      },
      "source": [
        "!git clone https://github.com/marquesgabi/Doutorado\n",
        "# %cd Doutorado\n",
        "Transfere='FotosTreino882_and_Segm.zip'\n",
        "file_name = zipfile.ZipFile(Transfere, 'r')\n",
        "file_name.extractall()\n",
        "\n",
        "\"\"\"# First step: get the segmented file (photos stored in csv file)\"\"\"\n",
        "\n",
        "labels = [] #name files\n",
        "\n",
        "with zipfile.ZipFile(Transfere, \"r\") as f:\n",
        "  for f in f.namelist():\n",
        "    labels.append(f)\n",
        "\n",
        "Num=len(labels)\n",
        "df=pd.read_csv(labels[0])\n",
        "for i in range(1,Num):\n",
        "  df_new=pd.read_csv(labels[i])\n",
        "  df_new = df_new[~df_new['Type'].isin(['G'])] # drop grain row which is not in 882\n",
        "  frames = [df, df_new]\n",
        "  df= pd.concat(frames, ignore_index=True)"
      ],
      "execution_count": 9,
      "outputs": [
        {
          "output_type": "stream",
          "text": [
            "Cloning into 'Doutorado'...\n",
            "remote: Enumerating objects: 52, done.\u001b[K\n",
            "remote: Counting objects: 100% (52/52), done.\u001b[K\n",
            "remote: Compressing objects: 100% (52/52), done.\u001b[K\n",
            "remote: Total 302 (delta 21), reused 0 (delta 0), pack-reused 250\u001b[K\n",
            "Receiving objects: 100% (302/302), 115.75 MiB | 39.93 MiB/s, done.\n",
            "Resolving deltas: 100% (138/138), done.\n"
          ],
          "name": "stdout"
        }
      ]
    },
    {
      "cell_type": "code",
      "metadata": {
        "id": "tHgqAnaFyCjp",
        "colab": {
          "base_uri": "https://localhost:8080/"
        },
        "outputId": "9500005f-0a0f-4a76-88f1-33517a0923d9"
      },
      "source": [
        "!git clone https://github.com/ucfilho/marquesgabi_set_2020\n",
        "%cd marquesgabi_set_2020"
      ],
      "execution_count": 10,
      "outputs": [
        {
          "output_type": "stream",
          "text": [
            "Cloning into 'marquesgabi_set_2020'...\n",
            "remote: Enumerating objects: 72, done.\u001b[K\n",
            "remote: Counting objects: 100% (72/72), done.\u001b[K\n",
            "remote: Compressing objects: 100% (72/72), done.\u001b[K\n",
            "remote: Total 266 (delta 44), reused 0 (delta 0), pack-reused 194\u001b[K\n",
            "Receiving objects: 100% (266/266), 7.00 MiB | 28.45 MiB/s, done.\n",
            "Resolving deltas: 100% (162/162), done.\n",
            "/content/marquesgabi_fev_2020/marquesgabi_out_2020/Doutorado/marquesgabi_set_2020\n"
          ],
          "name": "stdout"
        }
      ]
    },
    {
      "cell_type": "code",
      "metadata": {
        "id": "qc4rFvzkyWCi"
      },
      "source": [
        "from big_segment import Segmenta  # got image provided segmented\n",
        "from ANN_FIND_GRAIN import AnnGrain  # got image provided segmented\n",
        "from psd_mahotas import Mahotas"
      ],
      "execution_count": 11,
      "outputs": []
    },
    {
      "cell_type": "code",
      "metadata": {
        "id": "YPoCxCp4kuRm",
        "colab": {
          "base_uri": "https://localhost:8080/"
        },
        "outputId": "e645c7d2-e399-4340-c82b-27be135f674a"
      },
      "source": [
        "!git clone https://github.com/marquesgabi/Doutorado\n",
        "%cd Doutorado\n",
        "Transfere='FotosTreino882_and_Segm.zip'\n",
        "file_name = zipfile.ZipFile(Transfere, 'r')\n",
        "file_name.extractall()\n",
        "\n",
        "\"\"\"# First step: get the segmented file (photos stored in csv file)\"\"\"\n",
        "\n",
        "labels = [] #name files\n",
        "\n",
        "with zipfile.ZipFile(Transfere, \"r\") as f:\n",
        "  for f in f.namelist():\n",
        "    labels.append(f)\n",
        "\n",
        "Num=len(labels)\n",
        "ANN_dat=pd.read_csv(labels[0])\n",
        "for i in range(1,Num):\n",
        "  df_new=pd.read_csv(labels[i])\n",
        "  df_new = df_new[~df_new['Type'].isin(['G'])] # drop grain row which is not in 882\n",
        "  frames = [ANN_dat, df_new]\n",
        "  ANN_dat= pd.concat(frames, ignore_index=True)"
      ],
      "execution_count": 12,
      "outputs": [
        {
          "output_type": "stream",
          "text": [
            "Cloning into 'Doutorado'...\n",
            "remote: Enumerating objects: 52, done.\u001b[K\n",
            "remote: Counting objects: 100% (52/52), done.\u001b[K\n",
            "remote: Compressing objects: 100% (52/52), done.\u001b[K\n",
            "remote: Total 302 (delta 21), reused 0 (delta 0), pack-reused 250\u001b[K\n",
            "Receiving objects: 100% (302/302), 78.58 MiB | 41.42 MiB/s, done.\n",
            "Resolving deltas: 100% (144/144), done.\n",
            "/content/marquesgabi_fev_2020/marquesgabi_out_2020/Doutorado/marquesgabi_set_2020/Doutorado\n"
          ],
          "name": "stdout"
        }
      ]
    },
    {
      "cell_type": "code",
      "metadata": {
        "id": "mv01JmHfmz-1"
      },
      "source": [
        "# open file to get df \n",
        "# use df and ANN to get grains and no grains\n",
        "# use grains to obtain psd"
      ],
      "execution_count": 13,
      "outputs": []
    },
    {
      "cell_type": "code",
      "metadata": {
        "id": "h4ELNAEunkox",
        "colab": {
          "base_uri": "https://localhost:8080/"
        },
        "outputId": "0770492b-6a62-45d1-f8d5-3ed541816e40"
      },
      "source": [
        "!git clone https://github.com/marquesgabi/Doutorado\n",
        "%cd Doutorado"
      ],
      "execution_count": 14,
      "outputs": [
        {
          "output_type": "stream",
          "text": [
            "Cloning into 'Doutorado'...\n",
            "remote: Enumerating objects: 52, done.\u001b[K\n",
            "remote: Counting objects: 100% (52/52), done.\u001b[K\n",
            "remote: Compressing objects: 100% (52/52), done.\u001b[K\n",
            "remote: Total 302 (delta 21), reused 0 (delta 0), pack-reused 250\u001b[K\n",
            "Receiving objects: 100% (302/302), 115.75 MiB | 40.53 MiB/s, done.\n",
            "Resolving deltas: 100% (138/138), done.\n",
            "/content/marquesgabi_fev_2020/marquesgabi_out_2020/Doutorado/marquesgabi_set_2020/Doutorado/Doutorado\n"
          ],
          "name": "stdout"
        }
      ]
    },
    {
      "cell_type": "code",
      "metadata": {
        "id": "QmPJiuSnnxT9",
        "colab": {
          "base_uri": "https://localhost:8080/"
        },
        "outputId": "53d9ee0b-9713-4196-bf26-88d6994e67cb"
      },
      "source": [
        "k=0\n",
        "for Item in img_name:\n",
        "  print(k,Item)\n",
        "  k=k+1\n",
        "\n",
        "img=ww[21]\n"
      ],
      "execution_count": 15,
      "outputs": [
        {
          "output_type": "stream",
          "text": [
            "0 Fotos_Grandes-3cdAmostra/Q6-8-4.jpg\n",
            "1 Fotos_Grandes-3cdAmostra/Q6-5-3.jpg\n",
            "2 Fotos_Grandes-3cdAmostra/Q6-7-4.jpg\n",
            "3 Fotos_Grandes-3cdAmostra/Q6-8-2.jpg\n",
            "4 Fotos_Grandes-3cdAmostra/Q6-3-2.jpg\n",
            "5 Fotos_Grandes-3cdAmostra/Q6-7-2.jpg\n",
            "6 Fotos_Grandes-3cdAmostra/Q6-4-4.jpg\n",
            "7 Fotos_Grandes-3cdAmostra/Q6-9-5.jpg\n",
            "8 Fotos_Grandes-3cdAmostra/Q6-2-5.jpg\n",
            "9 Fotos_Grandes-3cdAmostra/Q6-8-3.jpg\n",
            "10 Fotos_Grandes-3cdAmostra/Q6-9-3.jpg\n",
            "11 Fotos_Grandes-3cdAmostra/Q6-1-2.jpg\n",
            "12 Fotos_Grandes-3cdAmostra/Q6-6-3.jpg\n",
            "13 Fotos_Grandes-3cdAmostra/Q6-3-4.jpg\n",
            "14 Fotos_Grandes-3cdAmostra/Q6-1-4.jpg\n",
            "15 Fotos_Grandes-3cdAmostra/Q6-6-2.jpg\n",
            "16 Fotos_Grandes-3cdAmostra/Q6-4-3.jpg\n",
            "17 Fotos_Grandes-3cdAmostra/Q6-7-3.jpg\n",
            "18 Fotos_Grandes-3cdAmostra/Q6-2-2.jpg\n",
            "19 Fotos_Grandes-3cdAmostra/Q6-9-2.jpg\n",
            "20 Fotos_Grandes-3cdAmostra/Q6-1-5.jpg\n",
            "21 Fotos_Grandes-3cdAmostra/Q6-6-5.jpg\n",
            "22 Fotos_Grandes-3cdAmostra/Q6-2-1.jpg\n",
            "23 Fotos_Grandes-3cdAmostra/Q6-5-2.jpg\n",
            "24 Fotos_Grandes-3cdAmostra/Q6-4-1.jpg\n",
            "25 Fotos_Grandes-3cdAmostra/Q6-3-1.jpg\n",
            "26 Fotos_Grandes-3cdAmostra/Q6-5-4.jpg\n"
          ],
          "name": "stdout"
        }
      ]
    },
    {
      "cell_type": "code",
      "metadata": {
        "id": "Fg08LdDEsYLd"
      },
      "source": [
        "df=Segmenta(img)"
      ],
      "execution_count": 16,
      "outputs": []
    },
    {
      "cell_type": "code",
      "metadata": {
        "id": "3O2xFH1Ishc2",
        "colab": {
          "base_uri": "https://localhost:8080/"
        },
        "outputId": "512c1ada-aaf9-4d9d-be08-02e36281e147"
      },
      "source": [
        "y_pred,confusion_matrix,METRICS=AnnGrain(ANN_dat,df.drop('Width',axis=1)) "
      ],
      "execution_count": 17,
      "outputs": [
        {
          "output_type": "stream",
          "text": [
            "Epoch 1/200\n",
            "WARNING:tensorflow:Model was constructed with shape (None, 28, 28) for input KerasTensor(type_spec=TensorSpec(shape=(None, 28, 28), dtype=tf.float32, name='flatten_input'), name='flatten_input', description=\"created by layer 'flatten_input'\"), but it was called on an input with incompatible shape (None, 784).\n",
            "WARNING:tensorflow:Model was constructed with shape (None, 28, 28) for input KerasTensor(type_spec=TensorSpec(shape=(None, 28, 28), dtype=tf.float32, name='flatten_input'), name='flatten_input', description=\"created by layer 'flatten_input'\"), but it was called on an input with incompatible shape (None, 784).\n",
            "11/11 [==============================] - 1s 3ms/step - loss: 24.7848 - accuracy: 0.3726\n",
            "Epoch 2/200\n",
            "11/11 [==============================] - 0s 2ms/step - loss: 0.9338 - accuracy: 0.5843\n",
            "Epoch 3/200\n",
            "11/11 [==============================] - 0s 3ms/step - loss: 0.7907 - accuracy: 0.5389\n",
            "Epoch 4/200\n",
            "11/11 [==============================] - 0s 2ms/step - loss: 1.1169 - accuracy: 0.4969\n",
            "Epoch 5/200\n",
            "11/11 [==============================] - 0s 2ms/step - loss: 0.8682 - accuracy: 0.5320\n",
            "Epoch 6/200\n",
            "11/11 [==============================] - 0s 3ms/step - loss: 1.3446 - accuracy: 0.4988\n",
            "Epoch 7/200\n",
            "11/11 [==============================] - 0s 2ms/step - loss: 0.9936 - accuracy: 0.5390\n",
            "Epoch 8/200\n",
            "11/11 [==============================] - 0s 2ms/step - loss: 0.3584 - accuracy: 0.8990\n",
            "Epoch 9/200\n",
            "11/11 [==============================] - 0s 2ms/step - loss: 0.7302 - accuracy: 0.5347\n",
            "Epoch 10/200\n",
            "11/11 [==============================] - 0s 2ms/step - loss: 0.4215 - accuracy: 0.7418\n",
            "Epoch 11/200\n",
            "11/11 [==============================] - 0s 3ms/step - loss: 0.3564 - accuracy: 0.8385\n",
            "Epoch 12/200\n",
            "11/11 [==============================] - 0s 2ms/step - loss: 0.4335 - accuracy: 0.6959\n",
            "Epoch 13/200\n",
            "11/11 [==============================] - 0s 2ms/step - loss: 1.3584 - accuracy: 0.8355\n",
            "Epoch 14/200\n",
            "11/11 [==============================] - 0s 3ms/step - loss: 5.1961 - accuracy: 0.4860\n",
            "Epoch 15/200\n",
            "11/11 [==============================] - 0s 2ms/step - loss: 5.7153 - accuracy: 0.4604\n",
            "Epoch 16/200\n",
            "11/11 [==============================] - 0s 3ms/step - loss: 3.5193 - accuracy: 0.5184\n",
            "Epoch 17/200\n",
            "11/11 [==============================] - 0s 2ms/step - loss: 1.6774 - accuracy: 0.5316\n",
            "Epoch 18/200\n",
            "11/11 [==============================] - 0s 2ms/step - loss: 0.5457 - accuracy: 0.8700\n",
            "Epoch 19/200\n",
            "11/11 [==============================] - 0s 3ms/step - loss: 0.5643 - accuracy: 0.6676\n",
            "Epoch 20/200\n",
            "11/11 [==============================] - 0s 3ms/step - loss: 0.4516 - accuracy: 0.7309\n",
            "Epoch 21/200\n",
            "11/11 [==============================] - 0s 2ms/step - loss: 0.2730 - accuracy: 0.9959\n",
            "Epoch 22/200\n",
            "11/11 [==============================] - 0s 3ms/step - loss: 0.4934 - accuracy: 0.7019\n",
            "Epoch 23/200\n",
            "11/11 [==============================] - 0s 3ms/step - loss: 0.3894 - accuracy: 0.7644\n",
            "Epoch 24/200\n",
            "11/11 [==============================] - 0s 3ms/step - loss: 0.1737 - accuracy: 0.9929\n",
            "Epoch 25/200\n",
            "11/11 [==============================] - 0s 2ms/step - loss: 0.6646 - accuracy: 0.6496\n",
            "Epoch 26/200\n",
            "11/11 [==============================] - 0s 3ms/step - loss: 0.5932 - accuracy: 0.6671\n",
            "Epoch 27/200\n",
            "11/11 [==============================] - 0s 3ms/step - loss: 0.1872 - accuracy: 0.9929\n",
            "Epoch 28/200\n",
            "11/11 [==============================] - 0s 3ms/step - loss: 0.2796 - accuracy: 0.8525\n",
            "Epoch 29/200\n",
            "11/11 [==============================] - 0s 3ms/step - loss: 0.1374 - accuracy: 0.9850\n",
            "Epoch 30/200\n",
            "11/11 [==============================] - 0s 2ms/step - loss: 0.1701 - accuracy: 0.9986\n",
            "Epoch 31/200\n",
            "11/11 [==============================] - 0s 2ms/step - loss: 0.1817 - accuracy: 0.9421\n",
            "Epoch 32/200\n",
            "11/11 [==============================] - 0s 3ms/step - loss: 0.2030 - accuracy: 0.9197\n",
            "Epoch 33/200\n",
            "11/11 [==============================] - 0s 3ms/step - loss: 0.0600 - accuracy: 0.9993\n",
            "Epoch 34/200\n",
            "11/11 [==============================] - 0s 3ms/step - loss: 0.2341 - accuracy: 0.9038\n",
            "Epoch 35/200\n",
            "11/11 [==============================] - 0s 2ms/step - loss: 0.4245 - accuracy: 0.7339\n",
            "Epoch 36/200\n",
            "11/11 [==============================] - 0s 3ms/step - loss: 0.1068 - accuracy: 0.9993\n",
            "Epoch 37/200\n",
            "11/11 [==============================] - 0s 3ms/step - loss: 0.7306 - accuracy: 0.6926\n",
            "Epoch 38/200\n",
            "11/11 [==============================] - 0s 2ms/step - loss: 1.4629 - accuracy: 0.5291\n",
            "Epoch 39/200\n",
            "11/11 [==============================] - 0s 3ms/step - loss: 0.2751 - accuracy: 0.8510\n",
            "Epoch 40/200\n",
            "11/11 [==============================] - 0s 3ms/step - loss: 0.0798 - accuracy: 0.9919\n",
            "Epoch 41/200\n",
            "11/11 [==============================] - 0s 3ms/step - loss: 0.1122 - accuracy: 1.0000\n",
            "Epoch 42/200\n",
            "11/11 [==============================] - 0s 3ms/step - loss: 0.0588 - accuracy: 1.0000\n",
            "Epoch 43/200\n",
            "11/11 [==============================] - 0s 3ms/step - loss: 0.0920 - accuracy: 0.9977\n",
            "Epoch 44/200\n",
            "11/11 [==============================] - 0s 3ms/step - loss: 0.8605 - accuracy: 0.6400\n",
            "Epoch 45/200\n",
            "11/11 [==============================] - 0s 4ms/step - loss: 0.9520 - accuracy: 0.6019\n",
            "Epoch 46/200\n",
            "11/11 [==============================] - 0s 3ms/step - loss: 0.1233 - accuracy: 0.9827\n",
            "Epoch 47/200\n",
            "11/11 [==============================] - 0s 3ms/step - loss: 0.1334 - accuracy: 0.9699\n",
            "Epoch 48/200\n",
            "11/11 [==============================] - 0s 3ms/step - loss: 0.1977 - accuracy: 0.9137\n",
            "Epoch 49/200\n",
            "11/11 [==============================] - 0s 3ms/step - loss: 0.0491 - accuracy: 1.0000\n",
            "Epoch 50/200\n",
            "11/11 [==============================] - 0s 3ms/step - loss: 0.0200 - accuracy: 1.0000\n",
            "Epoch 51/200\n",
            "11/11 [==============================] - 0s 2ms/step - loss: 0.1202 - accuracy: 0.9928\n",
            "Epoch 52/200\n",
            "11/11 [==============================] - 0s 2ms/step - loss: 0.2511 - accuracy: 0.8608\n",
            "Epoch 53/200\n",
            "11/11 [==============================] - 0s 2ms/step - loss: 0.1308 - accuracy: 0.9720\n",
            "Epoch 54/200\n",
            "11/11 [==============================] - 0s 3ms/step - loss: 0.0323 - accuracy: 1.0000\n",
            "Epoch 55/200\n",
            "11/11 [==============================] - 0s 2ms/step - loss: 0.0478 - accuracy: 0.9919\n",
            "Epoch 56/200\n",
            "11/11 [==============================] - 0s 3ms/step - loss: 0.9771 - accuracy: 0.6314\n",
            "Epoch 57/200\n",
            "11/11 [==============================] - 0s 2ms/step - loss: 0.8315 - accuracy: 0.6455\n",
            "Epoch 58/200\n",
            "11/11 [==============================] - 0s 2ms/step - loss: 0.0771 - accuracy: 1.0000\n",
            "Epoch 59/200\n",
            "11/11 [==============================] - 0s 3ms/step - loss: 0.1410 - accuracy: 0.9967\n",
            "Epoch 60/200\n",
            "11/11 [==============================] - 0s 3ms/step - loss: 0.1065 - accuracy: 0.9871\n",
            "Epoch 61/200\n",
            "11/11 [==============================] - 0s 2ms/step - loss: 0.1065 - accuracy: 0.9783\n",
            "Epoch 62/200\n",
            "11/11 [==============================] - 0s 4ms/step - loss: 0.0395 - accuracy: 1.0000\n",
            "Epoch 63/200\n",
            "11/11 [==============================] - 0s 3ms/step - loss: 0.0162 - accuracy: 1.0000\n",
            "Epoch 64/200\n",
            "11/11 [==============================] - 0s 2ms/step - loss: 0.0107 - accuracy: 1.0000\n",
            "Epoch 65/200\n",
            "11/11 [==============================] - 0s 3ms/step - loss: 0.0113 - accuracy: 1.0000\n",
            "Epoch 66/200\n",
            "11/11 [==============================] - 0s 2ms/step - loss: 0.0106 - accuracy: 1.0000\n",
            "Epoch 67/200\n",
            "11/11 [==============================] - 0s 2ms/step - loss: 0.0095 - accuracy: 1.0000\n",
            "Epoch 68/200\n",
            "11/11 [==============================] - 0s 2ms/step - loss: 0.0106 - accuracy: 1.0000\n",
            "Epoch 69/200\n",
            "11/11 [==============================] - 0s 3ms/step - loss: 0.0102 - accuracy: 1.0000\n",
            "Epoch 70/200\n",
            "11/11 [==============================] - 0s 3ms/step - loss: 0.0107 - accuracy: 1.0000\n",
            "Epoch 71/200\n",
            "11/11 [==============================] - 0s 2ms/step - loss: 0.0105 - accuracy: 1.0000\n",
            "Epoch 72/200\n",
            "11/11 [==============================] - 0s 3ms/step - loss: 0.0097 - accuracy: 1.0000\n",
            "Epoch 73/200\n",
            "11/11 [==============================] - 0s 3ms/step - loss: 0.0301 - accuracy: 0.9942\n",
            "Epoch 74/200\n",
            "11/11 [==============================] - 0s 3ms/step - loss: 1.4178 - accuracy: 0.6058\n",
            "Epoch 75/200\n",
            "11/11 [==============================] - 0s 2ms/step - loss: 2.2023 - accuracy: 0.5439\n",
            "Epoch 76/200\n",
            "11/11 [==============================] - 0s 2ms/step - loss: 0.2370 - accuracy: 0.8808\n",
            "Epoch 77/200\n",
            "11/11 [==============================] - 0s 3ms/step - loss: 0.2034 - accuracy: 0.9933\n",
            "Epoch 78/200\n",
            "11/11 [==============================] - 0s 3ms/step - loss: 1.0864 - accuracy: 0.6398\n",
            "Epoch 79/200\n",
            "11/11 [==============================] - 0s 2ms/step - loss: 1.1914 - accuracy: 0.6355\n",
            "Epoch 80/200\n",
            "11/11 [==============================] - 0s 3ms/step - loss: 0.1639 - accuracy: 0.9078\n",
            "Epoch 81/200\n",
            "11/11 [==============================] - 0s 2ms/step - loss: 0.0569 - accuracy: 0.9986\n",
            "Epoch 82/200\n",
            "11/11 [==============================] - 0s 2ms/step - loss: 0.0961 - accuracy: 0.9731\n",
            "Epoch 83/200\n",
            "11/11 [==============================] - 0s 3ms/step - loss: 0.1385 - accuracy: 0.9308\n",
            "Epoch 84/200\n",
            "11/11 [==============================] - 0s 4ms/step - loss: 0.0292 - accuracy: 1.0000\n",
            "Epoch 85/200\n",
            "11/11 [==============================] - 0s 4ms/step - loss: 0.0108 - accuracy: 1.0000\n",
            "Epoch 86/200\n",
            "11/11 [==============================] - 0s 3ms/step - loss: 0.0099 - accuracy: 1.0000\n",
            "Epoch 87/200\n",
            "11/11 [==============================] - 0s 3ms/step - loss: 0.0073 - accuracy: 1.0000\n",
            "Epoch 88/200\n",
            "11/11 [==============================] - 0s 3ms/step - loss: 0.0066 - accuracy: 1.0000\n",
            "Epoch 89/200\n",
            "11/11 [==============================] - 0s 3ms/step - loss: 0.0177 - accuracy: 1.0000\n",
            "Epoch 90/200\n",
            "11/11 [==============================] - 0s 3ms/step - loss: 0.0286 - accuracy: 1.0000\n",
            "Epoch 91/200\n",
            "11/11 [==============================] - 0s 3ms/step - loss: 0.0248 - accuracy: 1.0000\n",
            "Epoch 92/200\n",
            "11/11 [==============================] - 0s 3ms/step - loss: 0.0162 - accuracy: 1.0000\n",
            "Epoch 93/200\n",
            "11/11 [==============================] - 0s 3ms/step - loss: 0.0115 - accuracy: 1.0000\n",
            "Epoch 94/200\n",
            "11/11 [==============================] - 0s 3ms/step - loss: 0.0087 - accuracy: 1.0000\n",
            "Epoch 95/200\n",
            "11/11 [==============================] - 0s 3ms/step - loss: 0.0072 - accuracy: 1.0000\n",
            "Epoch 96/200\n",
            "11/11 [==============================] - 0s 3ms/step - loss: 0.0066 - accuracy: 1.0000\n",
            "Epoch 97/200\n",
            "11/11 [==============================] - 0s 2ms/step - loss: 0.0055 - accuracy: 1.0000\n",
            "Epoch 98/200\n",
            "11/11 [==============================] - 0s 4ms/step - loss: 0.0100 - accuracy: 0.9993\n",
            "Epoch 99/200\n",
            "11/11 [==============================] - 0s 2ms/step - loss: 0.3140 - accuracy: 0.8624\n",
            "Epoch 100/200\n",
            "11/11 [==============================] - 0s 2ms/step - loss: 0.7234 - accuracy: 0.6879\n",
            "Epoch 101/200\n",
            "11/11 [==============================] - 0s 3ms/step - loss: 0.0723 - accuracy: 1.0000\n",
            "Epoch 102/200\n",
            "11/11 [==============================] - 0s 3ms/step - loss: 0.0227 - accuracy: 0.9993\n",
            "Epoch 103/200\n",
            "11/11 [==============================] - 0s 3ms/step - loss: 0.0674 - accuracy: 0.9873\n",
            "Epoch 104/200\n",
            "11/11 [==============================] - 0s 3ms/step - loss: 0.2032 - accuracy: 0.8932\n",
            "Epoch 105/200\n",
            "11/11 [==============================] - 0s 3ms/step - loss: 0.0468 - accuracy: 0.9919\n",
            "Epoch 106/200\n",
            "11/11 [==============================] - 0s 3ms/step - loss: 0.0531 - accuracy: 0.9979\n",
            "Epoch 107/200\n",
            "11/11 [==============================] - 0s 3ms/step - loss: 0.1159 - accuracy: 0.9685\n",
            "Epoch 108/200\n",
            "11/11 [==============================] - 0s 3ms/step - loss: 0.1729 - accuracy: 0.9362\n",
            "Epoch 109/200\n",
            "11/11 [==============================] - 0s 3ms/step - loss: 0.0356 - accuracy: 1.0000\n",
            "Epoch 110/200\n",
            "11/11 [==============================] - 0s 3ms/step - loss: 0.0103 - accuracy: 1.0000\n",
            "Epoch 111/200\n",
            "11/11 [==============================] - 0s 3ms/step - loss: 0.0070 - accuracy: 1.0000\n",
            "Epoch 112/200\n",
            "11/11 [==============================] - 0s 3ms/step - loss: 0.0052 - accuracy: 1.0000\n",
            "Epoch 113/200\n",
            "11/11 [==============================] - 0s 4ms/step - loss: 0.0045 - accuracy: 1.0000\n",
            "Epoch 114/200\n",
            "11/11 [==============================] - 0s 3ms/step - loss: 0.0040 - accuracy: 1.0000\n",
            "Epoch 115/200\n",
            "11/11 [==============================] - 0s 3ms/step - loss: 0.0039 - accuracy: 1.0000\n",
            "Epoch 116/200\n",
            "11/11 [==============================] - 0s 3ms/step - loss: 0.0035 - accuracy: 1.0000\n",
            "Epoch 117/200\n",
            "11/11 [==============================] - 0s 3ms/step - loss: 0.0038 - accuracy: 1.0000\n",
            "Epoch 118/200\n",
            "11/11 [==============================] - 0s 3ms/step - loss: 0.0038 - accuracy: 1.0000\n",
            "Epoch 119/200\n",
            "11/11 [==============================] - 0s 3ms/step - loss: 0.0036 - accuracy: 1.0000\n",
            "Epoch 120/200\n",
            "11/11 [==============================] - 0s 3ms/step - loss: 0.0081 - accuracy: 0.9995\n",
            "Epoch 121/200\n",
            "11/11 [==============================] - 0s 3ms/step - loss: 0.2678 - accuracy: 0.8953\n",
            "Epoch 122/200\n",
            "11/11 [==============================] - 0s 3ms/step - loss: 0.9339 - accuracy: 0.6555\n",
            "Epoch 123/200\n",
            "11/11 [==============================] - 0s 3ms/step - loss: 0.0915 - accuracy: 0.9725\n",
            "Epoch 124/200\n",
            "11/11 [==============================] - 0s 2ms/step - loss: 0.0066 - accuracy: 1.0000\n",
            "Epoch 125/200\n",
            "11/11 [==============================] - 0s 2ms/step - loss: 0.0425 - accuracy: 0.9978\n",
            "Epoch 126/200\n",
            "11/11 [==============================] - 0s 4ms/step - loss: 0.1689 - accuracy: 0.9210\n",
            "Epoch 127/200\n",
            "11/11 [==============================] - 0s 3ms/step - loss: 0.1648 - accuracy: 0.9239\n",
            "Epoch 128/200\n",
            "11/11 [==============================] - 0s 3ms/step - loss: 0.0328 - accuracy: 1.0000\n",
            "Epoch 129/200\n",
            "11/11 [==============================] - 0s 3ms/step - loss: 0.0085 - accuracy: 1.0000\n",
            "Epoch 130/200\n",
            "11/11 [==============================] - 0s 3ms/step - loss: 0.0053 - accuracy: 1.0000\n",
            "Epoch 131/200\n",
            "11/11 [==============================] - 0s 3ms/step - loss: 0.0042 - accuracy: 1.0000\n",
            "Epoch 132/200\n",
            "11/11 [==============================] - 0s 3ms/step - loss: 0.0032 - accuracy: 1.0000\n",
            "Epoch 133/200\n",
            "11/11 [==============================] - 0s 3ms/step - loss: 0.0030 - accuracy: 1.0000\n",
            "Epoch 134/200\n",
            "11/11 [==============================] - 0s 3ms/step - loss: 0.0031 - accuracy: 1.0000\n",
            "Epoch 135/200\n",
            "11/11 [==============================] - 0s 3ms/step - loss: 0.0027 - accuracy: 1.0000\n",
            "Epoch 136/200\n",
            "11/11 [==============================] - 0s 2ms/step - loss: 0.0025 - accuracy: 1.0000\n",
            "Epoch 137/200\n",
            "11/11 [==============================] - 0s 3ms/step - loss: 0.0023 - accuracy: 1.0000\n",
            "Epoch 138/200\n",
            "11/11 [==============================] - 0s 3ms/step - loss: 0.0023 - accuracy: 1.0000\n",
            "Epoch 139/200\n",
            "11/11 [==============================] - 0s 3ms/step - loss: 0.0019 - accuracy: 1.0000\n",
            "Epoch 140/200\n",
            "11/11 [==============================] - 0s 3ms/step - loss: 0.0021 - accuracy: 1.0000\n",
            "Epoch 141/200\n",
            "11/11 [==============================] - 0s 4ms/step - loss: 0.0019 - accuracy: 1.0000\n",
            "Epoch 142/200\n",
            "11/11 [==============================] - 0s 3ms/step - loss: 0.0020 - accuracy: 1.0000\n",
            "Epoch 143/200\n",
            "11/11 [==============================] - 0s 2ms/step - loss: 0.0019 - accuracy: 1.0000\n",
            "Epoch 144/200\n",
            "11/11 [==============================] - 0s 3ms/step - loss: 0.0019 - accuracy: 1.0000\n",
            "Epoch 145/200\n",
            "11/11 [==============================] - 0s 3ms/step - loss: 0.0018 - accuracy: 1.0000\n",
            "Epoch 146/200\n",
            "11/11 [==============================] - 0s 3ms/step - loss: 0.0017 - accuracy: 1.0000\n",
            "Epoch 147/200\n",
            "11/11 [==============================] - 0s 3ms/step - loss: 0.0017 - accuracy: 1.0000\n",
            "Epoch 148/200\n",
            "11/11 [==============================] - 0s 3ms/step - loss: 0.0019 - accuracy: 1.0000\n",
            "Epoch 149/200\n",
            "11/11 [==============================] - 0s 3ms/step - loss: 0.0018 - accuracy: 1.0000\n",
            "Epoch 150/200\n",
            "11/11 [==============================] - 0s 3ms/step - loss: 0.0019 - accuracy: 1.0000\n",
            "Epoch 151/200\n",
            "11/11 [==============================] - 0s 2ms/step - loss: 0.0019 - accuracy: 1.0000\n",
            "Epoch 152/200\n",
            "11/11 [==============================] - 0s 3ms/step - loss: 0.0018 - accuracy: 1.0000\n",
            "Epoch 153/200\n",
            "11/11 [==============================] - 0s 3ms/step - loss: 0.0017 - accuracy: 1.0000\n",
            "Epoch 154/200\n",
            "11/11 [==============================] - 0s 3ms/step - loss: 0.0019 - accuracy: 1.0000\n",
            "Epoch 155/200\n",
            "11/11 [==============================] - 0s 2ms/step - loss: 0.0018 - accuracy: 1.0000\n",
            "Epoch 156/200\n",
            "11/11 [==============================] - 0s 2ms/step - loss: 0.0016 - accuracy: 1.0000\n",
            "Epoch 157/200\n",
            "11/11 [==============================] - 0s 3ms/step - loss: 0.0017 - accuracy: 1.0000\n",
            "Epoch 158/200\n",
            "11/11 [==============================] - 0s 2ms/step - loss: 0.0026 - accuracy: 1.0000\n",
            "Epoch 159/200\n",
            "11/11 [==============================] - 0s 3ms/step - loss: 0.0511 - accuracy: 0.9944\n",
            "Epoch 160/200\n",
            "11/11 [==============================] - 0s 3ms/step - loss: 0.0939 - accuracy: 0.9733\n",
            "Epoch 161/200\n",
            "11/11 [==============================] - 0s 2ms/step - loss: 0.0236 - accuracy: 1.0000\n",
            "Epoch 162/200\n",
            "11/11 [==============================] - 0s 3ms/step - loss: 0.0099 - accuracy: 1.0000\n",
            "Epoch 163/200\n",
            "11/11 [==============================] - 0s 2ms/step - loss: 0.0053 - accuracy: 1.0000\n",
            "Epoch 164/200\n",
            "11/11 [==============================] - 0s 3ms/step - loss: 0.0042 - accuracy: 1.0000\n",
            "Epoch 165/200\n",
            "11/11 [==============================] - 0s 3ms/step - loss: 0.0032 - accuracy: 1.0000\n",
            "Epoch 166/200\n",
            "11/11 [==============================] - 0s 3ms/step - loss: 0.0033 - accuracy: 1.0000\n",
            "Epoch 167/200\n",
            "11/11 [==============================] - 0s 3ms/step - loss: 0.0029 - accuracy: 1.0000\n",
            "Epoch 168/200\n",
            "11/11 [==============================] - 0s 3ms/step - loss: 0.0027 - accuracy: 1.0000\n",
            "Epoch 169/200\n",
            "11/11 [==============================] - 0s 3ms/step - loss: 0.0025 - accuracy: 1.0000\n",
            "Epoch 170/200\n",
            "11/11 [==============================] - 0s 3ms/step - loss: 0.0025 - accuracy: 1.0000\n",
            "Epoch 171/200\n",
            "11/11 [==============================] - 0s 3ms/step - loss: 0.0018 - accuracy: 1.0000\n",
            "Epoch 172/200\n",
            "11/11 [==============================] - 0s 3ms/step - loss: 0.0019 - accuracy: 1.0000\n",
            "Epoch 173/200\n",
            "11/11 [==============================] - 0s 3ms/step - loss: 0.0019 - accuracy: 1.0000\n",
            "Epoch 174/200\n",
            "11/11 [==============================] - 0s 3ms/step - loss: 0.0018 - accuracy: 1.0000\n",
            "Epoch 175/200\n",
            "11/11 [==============================] - 0s 3ms/step - loss: 0.0016 - accuracy: 1.0000\n",
            "Epoch 176/200\n",
            "11/11 [==============================] - 0s 3ms/step - loss: 0.0015 - accuracy: 1.0000\n",
            "Epoch 177/200\n",
            "11/11 [==============================] - 0s 3ms/step - loss: 0.0017 - accuracy: 1.0000\n",
            "Epoch 178/200\n",
            "11/11 [==============================] - 0s 3ms/step - loss: 0.0014 - accuracy: 1.0000\n",
            "Epoch 179/200\n",
            "11/11 [==============================] - 0s 3ms/step - loss: 0.0013 - accuracy: 1.0000\n",
            "Epoch 180/200\n",
            "11/11 [==============================] - 0s 3ms/step - loss: 0.0015 - accuracy: 1.0000\n",
            "Epoch 181/200\n",
            "11/11 [==============================] - 0s 3ms/step - loss: 0.0022 - accuracy: 1.0000\n",
            "Epoch 182/200\n",
            "11/11 [==============================] - 0s 2ms/step - loss: 0.0033 - accuracy: 1.0000\n",
            "Epoch 183/200\n",
            "11/11 [==============================] - 0s 3ms/step - loss: 0.0037 - accuracy: 1.0000\n",
            "Epoch 184/200\n",
            "11/11 [==============================] - 0s 3ms/step - loss: 0.0036 - accuracy: 1.0000\n",
            "Epoch 185/200\n",
            "11/11 [==============================] - 0s 3ms/step - loss: 0.0034 - accuracy: 1.0000\n",
            "Epoch 186/200\n",
            "11/11 [==============================] - 0s 3ms/step - loss: 0.0029 - accuracy: 1.0000\n",
            "Epoch 187/200\n",
            "11/11 [==============================] - 0s 3ms/step - loss: 0.0028 - accuracy: 1.0000\n",
            "Epoch 188/200\n",
            "11/11 [==============================] - 0s 3ms/step - loss: 0.0025 - accuracy: 1.0000\n",
            "Epoch 189/200\n",
            "11/11 [==============================] - 0s 2ms/step - loss: 0.0021 - accuracy: 1.0000\n",
            "Epoch 190/200\n",
            "11/11 [==============================] - 0s 3ms/step - loss: 0.0020 - accuracy: 1.0000\n",
            "Epoch 191/200\n",
            "11/11 [==============================] - 0s 3ms/step - loss: 0.0020 - accuracy: 1.0000\n",
            "Epoch 192/200\n",
            "11/11 [==============================] - 0s 2ms/step - loss: 0.0017 - accuracy: 1.0000\n",
            "Epoch 193/200\n",
            "11/11 [==============================] - 0s 3ms/step - loss: 0.0016 - accuracy: 1.0000\n",
            "Epoch 194/200\n",
            "11/11 [==============================] - 0s 3ms/step - loss: 0.0015 - accuracy: 1.0000\n",
            "Epoch 195/200\n",
            "11/11 [==============================] - 0s 3ms/step - loss: 0.0015 - accuracy: 1.0000\n",
            "Epoch 196/200\n",
            "11/11 [==============================] - 0s 3ms/step - loss: 0.0014 - accuracy: 1.0000\n",
            "Epoch 197/200\n",
            "11/11 [==============================] - 0s 3ms/step - loss: 0.0015 - accuracy: 1.0000\n",
            "Epoch 198/200\n",
            "11/11 [==============================] - 0s 3ms/step - loss: 0.0013 - accuracy: 1.0000\n",
            "Epoch 199/200\n",
            "11/11 [==============================] - 0s 3ms/step - loss: 0.0012 - accuracy: 1.0000\n",
            "Epoch 200/200\n",
            "11/11 [==============================] - 0s 3ms/step - loss: 0.0012 - accuracy: 1.0000\n",
            "Predicted   0   1\n",
            "Actual           \n",
            "0          72   0\n",
            "1           7  68\n"
          ],
          "name": "stdout"
        }
      ]
    },
    {
      "cell_type": "code",
      "metadata": {
        "id": "6S5a4-cashbB"
      },
      "source": [
        "# print(y_pred.ravel())"
      ],
      "execution_count": 18,
      "outputs": []
    },
    {
      "cell_type": "code",
      "metadata": {
        "id": "iA2XIpGOyipM"
      },
      "source": [
        "Grain=[]; Ind=[]; Size=[]\n",
        "k=0\n",
        "for item in y_pred:\n",
        "  if(item == 0):\n",
        "    Ind.append(k)\n",
        "  k=k+1\n",
        "\n",
        "df = df.reset_index(drop=True)\n",
        "\n",
        "df_size = df.drop(df.index[Ind])\n",
        "\n",
        "Width=np.array(df_size['Width'])\n",
        "\n",
        "# print(Width)\n",
        "\n",
        "# print(df_size.shape)"
      ],
      "execution_count": 19,
      "outputs": []
    },
    {
      "cell_type": "code",
      "metadata": {
        "id": "06lkGMZo9uKV"
      },
      "source": [
        "# pd.set_option('display.max_rows', None)\n",
        "# print(df_size)"
      ],
      "execution_count": 20,
      "outputs": []
    },
    {
      "cell_type": "code",
      "metadata": {
        "id": "EIqWqspygJtw",
        "colab": {
          "base_uri": "https://localhost:8080/",
          "height": 247
        },
        "outputId": "7ef8d40e-ef33-4ac5-9e89-7606b3c004b3"
      },
      "source": [
        "df.head()"
      ],
      "execution_count": 21,
      "outputs": [
        {
          "output_type": "execute_result",
          "data": {
            "text/html": [
              "<div>\n",
              "<style scoped>\n",
              "    .dataframe tbody tr th:only-of-type {\n",
              "        vertical-align: middle;\n",
              "    }\n",
              "\n",
              "    .dataframe tbody tr th {\n",
              "        vertical-align: top;\n",
              "    }\n",
              "\n",
              "    .dataframe thead th {\n",
              "        text-align: right;\n",
              "    }\n",
              "</style>\n",
              "<table border=\"1\" class=\"dataframe\">\n",
              "  <thead>\n",
              "    <tr style=\"text-align: right;\">\n",
              "      <th></th>\n",
              "      <th>Width</th>\n",
              "      <th>0</th>\n",
              "      <th>1</th>\n",
              "      <th>2</th>\n",
              "      <th>3</th>\n",
              "      <th>4</th>\n",
              "      <th>5</th>\n",
              "      <th>6</th>\n",
              "      <th>7</th>\n",
              "      <th>8</th>\n",
              "      <th>9</th>\n",
              "      <th>10</th>\n",
              "      <th>11</th>\n",
              "      <th>12</th>\n",
              "      <th>13</th>\n",
              "      <th>14</th>\n",
              "      <th>15</th>\n",
              "      <th>16</th>\n",
              "      <th>17</th>\n",
              "      <th>18</th>\n",
              "      <th>19</th>\n",
              "      <th>20</th>\n",
              "      <th>21</th>\n",
              "      <th>22</th>\n",
              "      <th>23</th>\n",
              "      <th>24</th>\n",
              "      <th>25</th>\n",
              "      <th>26</th>\n",
              "      <th>27</th>\n",
              "      <th>28</th>\n",
              "      <th>29</th>\n",
              "      <th>30</th>\n",
              "      <th>31</th>\n",
              "      <th>32</th>\n",
              "      <th>33</th>\n",
              "      <th>34</th>\n",
              "      <th>35</th>\n",
              "      <th>36</th>\n",
              "      <th>37</th>\n",
              "      <th>38</th>\n",
              "      <th>...</th>\n",
              "      <th>744</th>\n",
              "      <th>745</th>\n",
              "      <th>746</th>\n",
              "      <th>747</th>\n",
              "      <th>748</th>\n",
              "      <th>749</th>\n",
              "      <th>750</th>\n",
              "      <th>751</th>\n",
              "      <th>752</th>\n",
              "      <th>753</th>\n",
              "      <th>754</th>\n",
              "      <th>755</th>\n",
              "      <th>756</th>\n",
              "      <th>757</th>\n",
              "      <th>758</th>\n",
              "      <th>759</th>\n",
              "      <th>760</th>\n",
              "      <th>761</th>\n",
              "      <th>762</th>\n",
              "      <th>763</th>\n",
              "      <th>764</th>\n",
              "      <th>765</th>\n",
              "      <th>766</th>\n",
              "      <th>767</th>\n",
              "      <th>768</th>\n",
              "      <th>769</th>\n",
              "      <th>770</th>\n",
              "      <th>771</th>\n",
              "      <th>772</th>\n",
              "      <th>773</th>\n",
              "      <th>774</th>\n",
              "      <th>775</th>\n",
              "      <th>776</th>\n",
              "      <th>777</th>\n",
              "      <th>778</th>\n",
              "      <th>779</th>\n",
              "      <th>780</th>\n",
              "      <th>781</th>\n",
              "      <th>782</th>\n",
              "      <th>783</th>\n",
              "    </tr>\n",
              "  </thead>\n",
              "  <tbody>\n",
              "    <tr>\n",
              "      <th>0</th>\n",
              "      <td>165</td>\n",
              "      <td>93.391846</td>\n",
              "      <td>91.568451</td>\n",
              "      <td>96.815247</td>\n",
              "      <td>100.688232</td>\n",
              "      <td>102.083755</td>\n",
              "      <td>103.884232</td>\n",
              "      <td>105.079414</td>\n",
              "      <td>112.856674</td>\n",
              "      <td>114.098038</td>\n",
              "      <td>113.896523</td>\n",
              "      <td>119.081406</td>\n",
              "      <td>124.331207</td>\n",
              "      <td>118.344688</td>\n",
              "      <td>113.706665</td>\n",
              "      <td>114.476044</td>\n",
              "      <td>117.811432</td>\n",
              "      <td>130.208267</td>\n",
              "      <td>153.781754</td>\n",
              "      <td>163.689102</td>\n",
              "      <td>148.662918</td>\n",
              "      <td>74.029579</td>\n",
              "      <td>75.378845</td>\n",
              "      <td>72.875153</td>\n",
              "      <td>73.393349</td>\n",
              "      <td>71.527718</td>\n",
              "      <td>72.047241</td>\n",
              "      <td>76.681618</td>\n",
              "      <td>80.054916</td>\n",
              "      <td>96.313789</td>\n",
              "      <td>94.309097</td>\n",
              "      <td>96.368370</td>\n",
              "      <td>100.108543</td>\n",
              "      <td>100.425865</td>\n",
              "      <td>96.712433</td>\n",
              "      <td>98.999710</td>\n",
              "      <td>115.182045</td>\n",
              "      <td>116.723999</td>\n",
              "      <td>121.432831</td>\n",
              "      <td>125.994453</td>\n",
              "      <td>...</td>\n",
              "      <td>77.933815</td>\n",
              "      <td>84.307076</td>\n",
              "      <td>68.776863</td>\n",
              "      <td>73.717758</td>\n",
              "      <td>102.448265</td>\n",
              "      <td>136.626999</td>\n",
              "      <td>144.036545</td>\n",
              "      <td>140.381912</td>\n",
              "      <td>133.699066</td>\n",
              "      <td>132.302200</td>\n",
              "      <td>130.724304</td>\n",
              "      <td>130.984726</td>\n",
              "      <td>125.777596</td>\n",
              "      <td>124.364342</td>\n",
              "      <td>123.281769</td>\n",
              "      <td>119.286682</td>\n",
              "      <td>115.017715</td>\n",
              "      <td>112.544395</td>\n",
              "      <td>109.121727</td>\n",
              "      <td>110.095390</td>\n",
              "      <td>114.214912</td>\n",
              "      <td>119.314713</td>\n",
              "      <td>120.021530</td>\n",
              "      <td>119.089294</td>\n",
              "      <td>123.063362</td>\n",
              "      <td>126.009842</td>\n",
              "      <td>127.340240</td>\n",
              "      <td>113.917358</td>\n",
              "      <td>78.114609</td>\n",
              "      <td>81.282860</td>\n",
              "      <td>87.318199</td>\n",
              "      <td>91.564880</td>\n",
              "      <td>127.156662</td>\n",
              "      <td>138.779068</td>\n",
              "      <td>139.736908</td>\n",
              "      <td>136.634094</td>\n",
              "      <td>134.652603</td>\n",
              "      <td>130.265671</td>\n",
              "      <td>125.194382</td>\n",
              "      <td>118.375290</td>\n",
              "    </tr>\n",
              "    <tr>\n",
              "      <th>1</th>\n",
              "      <td>193</td>\n",
              "      <td>85.042847</td>\n",
              "      <td>97.334885</td>\n",
              "      <td>62.594673</td>\n",
              "      <td>30.625441</td>\n",
              "      <td>34.233025</td>\n",
              "      <td>17.248140</td>\n",
              "      <td>96.624611</td>\n",
              "      <td>107.495285</td>\n",
              "      <td>107.265007</td>\n",
              "      <td>106.357864</td>\n",
              "      <td>105.104996</td>\n",
              "      <td>100.203117</td>\n",
              "      <td>97.167702</td>\n",
              "      <td>100.404358</td>\n",
              "      <td>103.423073</td>\n",
              "      <td>109.085022</td>\n",
              "      <td>120.230339</td>\n",
              "      <td>132.363403</td>\n",
              "      <td>136.761200</td>\n",
              "      <td>127.246742</td>\n",
              "      <td>54.659828</td>\n",
              "      <td>53.811485</td>\n",
              "      <td>68.698357</td>\n",
              "      <td>78.824104</td>\n",
              "      <td>84.793900</td>\n",
              "      <td>86.823692</td>\n",
              "      <td>88.033310</td>\n",
              "      <td>91.613174</td>\n",
              "      <td>85.883408</td>\n",
              "      <td>90.913284</td>\n",
              "      <td>89.277481</td>\n",
              "      <td>34.634460</td>\n",
              "      <td>31.393862</td>\n",
              "      <td>22.449892</td>\n",
              "      <td>83.082062</td>\n",
              "      <td>106.826118</td>\n",
              "      <td>109.342911</td>\n",
              "      <td>111.409912</td>\n",
              "      <td>108.973663</td>\n",
              "      <td>...</td>\n",
              "      <td>64.132538</td>\n",
              "      <td>74.738724</td>\n",
              "      <td>101.017960</td>\n",
              "      <td>111.985443</td>\n",
              "      <td>120.343857</td>\n",
              "      <td>126.777466</td>\n",
              "      <td>140.438644</td>\n",
              "      <td>146.170547</td>\n",
              "      <td>191.787064</td>\n",
              "      <td>149.284149</td>\n",
              "      <td>143.321320</td>\n",
              "      <td>140.681091</td>\n",
              "      <td>78.496140</td>\n",
              "      <td>81.297607</td>\n",
              "      <td>80.215271</td>\n",
              "      <td>77.391907</td>\n",
              "      <td>75.116463</td>\n",
              "      <td>70.581093</td>\n",
              "      <td>58.590645</td>\n",
              "      <td>30.975462</td>\n",
              "      <td>49.535099</td>\n",
              "      <td>61.064644</td>\n",
              "      <td>64.174042</td>\n",
              "      <td>64.326637</td>\n",
              "      <td>64.423637</td>\n",
              "      <td>65.349510</td>\n",
              "      <td>57.753281</td>\n",
              "      <td>50.389221</td>\n",
              "      <td>58.364063</td>\n",
              "      <td>82.805588</td>\n",
              "      <td>102.455582</td>\n",
              "      <td>107.956291</td>\n",
              "      <td>117.856323</td>\n",
              "      <td>119.688576</td>\n",
              "      <td>129.394592</td>\n",
              "      <td>140.498566</td>\n",
              "      <td>133.006348</td>\n",
              "      <td>141.080231</td>\n",
              "      <td>143.502228</td>\n",
              "      <td>137.722565</td>\n",
              "    </tr>\n",
              "    <tr>\n",
              "      <th>2</th>\n",
              "      <td>126</td>\n",
              "      <td>63.395065</td>\n",
              "      <td>63.395065</td>\n",
              "      <td>64.592590</td>\n",
              "      <td>65.629631</td>\n",
              "      <td>62.753086</td>\n",
              "      <td>64.333336</td>\n",
              "      <td>61.283955</td>\n",
              "      <td>59.530865</td>\n",
              "      <td>55.395061</td>\n",
              "      <td>35.444443</td>\n",
              "      <td>47.259262</td>\n",
              "      <td>76.962967</td>\n",
              "      <td>52.419754</td>\n",
              "      <td>21.777781</td>\n",
              "      <td>34.716049</td>\n",
              "      <td>35.407410</td>\n",
              "      <td>35.481483</td>\n",
              "      <td>36.370369</td>\n",
              "      <td>36.790123</td>\n",
              "      <td>33.481483</td>\n",
              "      <td>32.148148</td>\n",
              "      <td>28.469137</td>\n",
              "      <td>27.098766</td>\n",
              "      <td>29.567900</td>\n",
              "      <td>31.271605</td>\n",
              "      <td>15.000000</td>\n",
              "      <td>2.000000</td>\n",
              "      <td>2.000000</td>\n",
              "      <td>62.259262</td>\n",
              "      <td>63.444443</td>\n",
              "      <td>63.827164</td>\n",
              "      <td>62.049381</td>\n",
              "      <td>62.555553</td>\n",
              "      <td>60.530865</td>\n",
              "      <td>58.419754</td>\n",
              "      <td>59.481483</td>\n",
              "      <td>55.740742</td>\n",
              "      <td>46.901237</td>\n",
              "      <td>42.567902</td>\n",
              "      <td>...</td>\n",
              "      <td>0.000000</td>\n",
              "      <td>0.000000</td>\n",
              "      <td>0.000000</td>\n",
              "      <td>0.000000</td>\n",
              "      <td>0.000000</td>\n",
              "      <td>0.000000</td>\n",
              "      <td>0.000000</td>\n",
              "      <td>0.000000</td>\n",
              "      <td>0.000000</td>\n",
              "      <td>0.000000</td>\n",
              "      <td>0.000000</td>\n",
              "      <td>0.000000</td>\n",
              "      <td>1.913580</td>\n",
              "      <td>1.592593</td>\n",
              "      <td>1.320988</td>\n",
              "      <td>1.123457</td>\n",
              "      <td>1.000000</td>\n",
              "      <td>1.000000</td>\n",
              "      <td>1.000000</td>\n",
              "      <td>1.000000</td>\n",
              "      <td>1.000000</td>\n",
              "      <td>1.000000</td>\n",
              "      <td>1.000000</td>\n",
              "      <td>1.000000</td>\n",
              "      <td>1.000000</td>\n",
              "      <td>1.000000</td>\n",
              "      <td>1.000000</td>\n",
              "      <td>0.975309</td>\n",
              "      <td>0.814815</td>\n",
              "      <td>0.222222</td>\n",
              "      <td>0.000000</td>\n",
              "      <td>0.000000</td>\n",
              "      <td>0.000000</td>\n",
              "      <td>0.000000</td>\n",
              "      <td>0.000000</td>\n",
              "      <td>0.000000</td>\n",
              "      <td>0.000000</td>\n",
              "      <td>0.000000</td>\n",
              "      <td>0.000000</td>\n",
              "      <td>0.000000</td>\n",
              "    </tr>\n",
              "    <tr>\n",
              "      <th>3</th>\n",
              "      <td>162</td>\n",
              "      <td>0.000000</td>\n",
              "      <td>0.000000</td>\n",
              "      <td>0.000000</td>\n",
              "      <td>0.000000</td>\n",
              "      <td>0.000000</td>\n",
              "      <td>0.000000</td>\n",
              "      <td>0.000000</td>\n",
              "      <td>0.000000</td>\n",
              "      <td>0.000000</td>\n",
              "      <td>0.000000</td>\n",
              "      <td>0.000000</td>\n",
              "      <td>0.000000</td>\n",
              "      <td>0.000000</td>\n",
              "      <td>0.000000</td>\n",
              "      <td>0.000000</td>\n",
              "      <td>0.000000</td>\n",
              "      <td>0.000000</td>\n",
              "      <td>0.000000</td>\n",
              "      <td>0.156226</td>\n",
              "      <td>0.722603</td>\n",
              "      <td>1.000000</td>\n",
              "      <td>1.000000</td>\n",
              "      <td>1.000000</td>\n",
              "      <td>1.000000</td>\n",
              "      <td>1.537875</td>\n",
              "      <td>1.827160</td>\n",
              "      <td>1.953056</td>\n",
              "      <td>2.000000</td>\n",
              "      <td>0.192654</td>\n",
              "      <td>0.020729</td>\n",
              "      <td>0.000000</td>\n",
              "      <td>0.000000</td>\n",
              "      <td>0.000000</td>\n",
              "      <td>0.000000</td>\n",
              "      <td>0.000000</td>\n",
              "      <td>0.000000</td>\n",
              "      <td>0.000000</td>\n",
              "      <td>0.000000</td>\n",
              "      <td>0.000000</td>\n",
              "      <td>...</td>\n",
              "      <td>115.388962</td>\n",
              "      <td>104.649742</td>\n",
              "      <td>50.482395</td>\n",
              "      <td>36.739368</td>\n",
              "      <td>42.486969</td>\n",
              "      <td>85.194489</td>\n",
              "      <td>121.554039</td>\n",
              "      <td>130.953812</td>\n",
              "      <td>137.422043</td>\n",
              "      <td>141.999084</td>\n",
              "      <td>153.343231</td>\n",
              "      <td>178.551285</td>\n",
              "      <td>78.605400</td>\n",
              "      <td>76.791039</td>\n",
              "      <td>74.204544</td>\n",
              "      <td>72.370674</td>\n",
              "      <td>72.897270</td>\n",
              "      <td>75.206375</td>\n",
              "      <td>76.622162</td>\n",
              "      <td>79.364426</td>\n",
              "      <td>86.207893</td>\n",
              "      <td>92.361832</td>\n",
              "      <td>96.237473</td>\n",
              "      <td>103.236092</td>\n",
              "      <td>107.346443</td>\n",
              "      <td>113.118111</td>\n",
              "      <td>115.437286</td>\n",
              "      <td>117.194031</td>\n",
              "      <td>113.791336</td>\n",
              "      <td>96.672607</td>\n",
              "      <td>56.076355</td>\n",
              "      <td>54.828987</td>\n",
              "      <td>83.189301</td>\n",
              "      <td>122.733879</td>\n",
              "      <td>133.958847</td>\n",
              "      <td>131.262314</td>\n",
              "      <td>136.588638</td>\n",
              "      <td>143.942688</td>\n",
              "      <td>155.956253</td>\n",
              "      <td>174.796982</td>\n",
              "    </tr>\n",
              "    <tr>\n",
              "      <th>4</th>\n",
              "      <td>171</td>\n",
              "      <td>103.058060</td>\n",
              "      <td>98.733856</td>\n",
              "      <td>89.611679</td>\n",
              "      <td>80.434845</td>\n",
              "      <td>86.073868</td>\n",
              "      <td>85.712868</td>\n",
              "      <td>85.898666</td>\n",
              "      <td>81.894638</td>\n",
              "      <td>82.500969</td>\n",
              "      <td>82.095856</td>\n",
              "      <td>83.514931</td>\n",
              "      <td>84.727341</td>\n",
              "      <td>77.792961</td>\n",
              "      <td>89.374382</td>\n",
              "      <td>120.472450</td>\n",
              "      <td>158.776688</td>\n",
              "      <td>189.112015</td>\n",
              "      <td>189.785248</td>\n",
              "      <td>162.453308</td>\n",
              "      <td>140.808640</td>\n",
              "      <td>142.137009</td>\n",
              "      <td>103.731544</td>\n",
              "      <td>88.808632</td>\n",
              "      <td>87.656136</td>\n",
              "      <td>78.144211</td>\n",
              "      <td>74.388123</td>\n",
              "      <td>75.642418</td>\n",
              "      <td>77.793304</td>\n",
              "      <td>101.431992</td>\n",
              "      <td>99.751480</td>\n",
              "      <td>95.443832</td>\n",
              "      <td>78.524841</td>\n",
              "      <td>79.779556</td>\n",
              "      <td>86.756340</td>\n",
              "      <td>88.146057</td>\n",
              "      <td>84.454872</td>\n",
              "      <td>81.763176</td>\n",
              "      <td>80.003113</td>\n",
              "      <td>80.112923</td>\n",
              "      <td>...</td>\n",
              "      <td>170.207657</td>\n",
              "      <td>141.593857</td>\n",
              "      <td>98.173347</td>\n",
              "      <td>85.310799</td>\n",
              "      <td>85.242645</td>\n",
              "      <td>92.605659</td>\n",
              "      <td>100.259186</td>\n",
              "      <td>88.202293</td>\n",
              "      <td>80.135185</td>\n",
              "      <td>82.467461</td>\n",
              "      <td>83.581276</td>\n",
              "      <td>83.638458</td>\n",
              "      <td>42.431862</td>\n",
              "      <td>43.410210</td>\n",
              "      <td>42.819874</td>\n",
              "      <td>49.204063</td>\n",
              "      <td>49.742966</td>\n",
              "      <td>45.769909</td>\n",
              "      <td>44.745152</td>\n",
              "      <td>43.055542</td>\n",
              "      <td>42.701244</td>\n",
              "      <td>43.235561</td>\n",
              "      <td>66.597351</td>\n",
              "      <td>84.954178</td>\n",
              "      <td>132.078110</td>\n",
              "      <td>149.401596</td>\n",
              "      <td>160.450989</td>\n",
              "      <td>164.833923</td>\n",
              "      <td>152.094055</td>\n",
              "      <td>97.124107</td>\n",
              "      <td>83.961319</td>\n",
              "      <td>84.569031</td>\n",
              "      <td>87.049629</td>\n",
              "      <td>93.350708</td>\n",
              "      <td>97.175713</td>\n",
              "      <td>83.558815</td>\n",
              "      <td>81.317368</td>\n",
              "      <td>80.464653</td>\n",
              "      <td>82.926239</td>\n",
              "      <td>84.402527</td>\n",
              "    </tr>\n",
              "  </tbody>\n",
              "</table>\n",
              "<p>5 rows × 785 columns</p>\n",
              "</div>"
            ],
            "text/plain": [
              "   Width           0          1  ...         781         782         783\n",
              "0    165   93.391846  91.568451  ...  130.265671  125.194382  118.375290\n",
              "1    193   85.042847  97.334885  ...  141.080231  143.502228  137.722565\n",
              "2    126   63.395065  63.395065  ...    0.000000    0.000000    0.000000\n",
              "3    162    0.000000   0.000000  ...  143.942688  155.956253  174.796982\n",
              "4    171  103.058060  98.733856  ...   80.464653   82.926239   84.402527\n",
              "\n",
              "[5 rows x 785 columns]"
            ]
          },
          "metadata": {
            "tags": []
          },
          "execution_count": 21
        }
      ]
    },
    {
      "cell_type": "code",
      "metadata": {
        "id": "ciUjF5tmdqLC",
        "colab": {
          "base_uri": "https://localhost:8080/",
          "height": 283
        },
        "outputId": "8db149aa-87cc-4d90-b22c-7d8e75e52aef"
      },
      "source": [
        "Size=28\n",
        "qual_img=7\n",
        "L = Width[qual_img]\n",
        "data=np.array(df_size.drop('Width',axis=1).iloc[qual_img]).reshape(Size,Size)\n",
        "img = Image.fromarray(data.astype('uint8'), mode='L')\n",
        "img=np.float32(img)\n",
        "img28=cv2.resize(img,(Size,Size), interpolation = cv2.INTER_AREA)\n",
        "Foto=np.array(img28).reshape(28,28)\n",
        "plt.imshow(Foto, cmap = \"gray\")"
      ],
      "execution_count": 22,
      "outputs": [
        {
          "output_type": "execute_result",
          "data": {
            "text/plain": [
              "<matplotlib.image.AxesImage at 0x7f20b2055358>"
            ]
          },
          "metadata": {
            "tags": []
          },
          "execution_count": 22
        },
        {
          "output_type": "display_data",
          "data": {
            "image/png": "[encoded data removed]",
            "text/plain": [
              "<Figure size 432x288 with 1 Axes>"
            ]
          },
          "metadata": {
            "tags": [],
            "needs_background": "light"
          }
        }
      ]
    },
    {
      "cell_type": "code",
      "metadata": {
        "id": "V-MTA4fXg2W0"
      },
      "source": [
        "mean_value = np.mean(img)\n",
        "img_new = img.copy()"
      ],
      "execution_count": 23,
      "outputs": []
    },
    {
      "cell_type": "code",
      "metadata": {
        "id": "JbcfWPMdewq3",
        "colab": {
          "base_uri": "https://localhost:8080/",
          "height": 283
        },
        "outputId": "11f84aed-d377-4296-d024-4bb076dc3336"
      },
      "source": [
        "'''\n",
        "for i in range(28):\n",
        "  for j in range(28):\n",
        "    if img[i,j] < mean_value:\n",
        "      img_new[i,j] = 255\n",
        "    else:\n",
        "      img_new[i,j] = 0\n",
        "'''\n",
        "img28=cv2.resize(img_new,(Size,Size), interpolation = cv2.INTER_AREA)\n",
        "Foto=np.array(img28).reshape(28,28)\n",
        "plt.imshow(Foto, cmap = \"gray\")\n"
      ],
      "execution_count": 24,
      "outputs": [
        {
          "output_type": "execute_result",
          "data": {
            "text/plain": [
              "<matplotlib.image.AxesImage at 0x7f20b1b93518>"
            ]
          },
          "metadata": {
            "tags": []
          },
          "execution_count": 24
        },
        {
          "output_type": "display_data",
          "data": {
            "image/png": "[encoded data removed]",
            "text/plain": [
              "<Figure size 432x288 with 1 Axes>"
            ]
          },
          "metadata": {
            "tags": [],
            "needs_background": "light"
          }
        }
      ]
    },
    {
      "cell_type": "code",
      "metadata": {
        "id": "spRNBSwifDqQ",
        "colab": {
          "base_uri": "https://localhost:8080/"
        },
        "outputId": "f3509ca2-d8f8-4e18-d2d4-a9bf550ed774"
      },
      "source": [
        "L = Width[qual_img]\n",
        "Area = np.sum(img_new) / (255.0 * 28 * 28)* L*L\n",
        "print(Area)"
      ],
      "execution_count": 25,
      "outputs": [
        {
          "output_type": "stream",
          "text": [
            "4383.43287314926\n"
          ],
          "name": "stdout"
        }
      ]
    },
    {
      "cell_type": "code",
      "metadata": {
        "id": "6GP_DXsWibOX"
      },
      "source": [
        "Area_All, Diameter_All=PSDArea(df_size) \n"
      ],
      "execution_count": 26,
      "outputs": []
    },
    {
      "cell_type": "code",
      "metadata": {
        "id": "3ydbrnjewBYL",
        "colab": {
          "base_uri": "https://localhost:8080/"
        },
        "outputId": "5874b3bc-e97d-4384-c579-2778f8a9b020"
      },
      "source": [
        "df_size.shape"
      ],
      "execution_count": 27,
      "outputs": [
        {
          "output_type": "execute_result",
          "data": {
            "text/plain": [
              "(134, 785)"
            ]
          },
          "metadata": {
            "tags": []
          },
          "execution_count": 27
        }
      ]
    },
    {
      "cell_type": "code",
      "metadata": {
        "id": "3L3IfgxMs3dI",
        "colab": {
          "base_uri": "https://localhost:8080/"
        },
        "outputId": "568a8603-e657-40c3-b736-792d09db2bda"
      },
      "source": [
        "# print(Area_All)\n",
        "print(Diameter_All)"
      ],
      "execution_count": 28,
      "outputs": [
        {
          "output_type": "stream",
          "text": [
            "[1.3246742316847593, 1.2407845115923206, 1.3582501530608524, 1.4651359766197085, 1.5787921320164344, 0.9686532515566046, 1.061859831879401, 1.3967248911329992, 1.183292746729187, 1.0895496348895501, 1.2911760714282177, 1.0480325255099168, 1.5207313992658635, 1.0503934380095117, 1.4771196727733984, 1.740891042911505, 1.3628268186467185, 1.5027357818161167, 1.6060400034850042, 1.6667126623605446, 1.8126181953354348, 1.6093582801888149, 1.7288781081531763, 1.6544962236493914, 1.008271162571067, 1.1808420169736242, 1.5337275169389843, 1.0206656339667002, 1.0600039498080278, 1.7259834899643236, 1.1081571501687841, 1.1894539601938412, 1.0234163513780297, 1.0716851501565594, 1.1215798443886207, 1.2747803204356156, 1.6749481277160505, 1.018575569042861, 0.8328913271881813, 1.6175100403399518, 1.1635931760725964, 1.3944348549942474, 0.9702585275691916, 1.3368606613591665, 1.4341038782234086, 1.6675323872819912, 1.4199775572170321, 1.2637725315640373, 0.9969903201354603, 1.459849609102404, 1.538591909916794, 1.4275602189837804, 1.8494695728834911, 1.6342161438970217, 1.4509307734757246, 1.6040034231918985, 1.6322412648049156, 1.721156680335901, 1.0535317359997336, 1.1912091893507042, 1.3296918604535817, 1.3989776340679705, 1.6140225560391466, 1.0075037666431605, 1.4606730428703194, 1.4502954320067287, 1.5198886798070053, 1.390877760103445, 1.551227231021082, 1.6669671028875381, 0.9977269642854409, 1.5640714902665114, 1.4323104365495531, 1.1004306956642833, 1.4642480953295132, 1.3267397891264274, 1.4707036589869433, 0.9321929388587953, 1.070605580567782, 1.0037901016866861, 0.9369672056762681, 1.6834220336083598, 1.1216365288872072, 1.3364416086997413, 1.7988149030073834, 1.437511619707672, 1.0709097371582945, 1.4486505472030498, 1.5651477246736305, 0.7717648310890691, 1.0875451342665576, 1.0612274364552277, 0.9654322716823881, 1.3838762224273684, 0.8983575252568179, 1.0192668111873524, 1.577506610400255, 1.8279525983519664, 1.3664029263535176, 1.5923954444504098, 1.195623407466917, 1.6124455464718563, 1.5357130615548447, 1.003027528245903, 1.4832390933906525, 1.5471179047118997, 1.7946939012525833, 1.6245547855248954, 1.2180054915421485, 1.6049473303021426, 1.3787026344732185, 1.3191766153337432, 0.8641548393544307, 1.1511596288624142, 1.3664188873130703, 0.936329173347519, 1.4716298558344385, 1.4804064349752801, 1.6229773916276375, 1.067326842725561, 1.0148765158749946, 1.45433550572759, 1.6211184926250584, 1.3802900130571651, 1.5830385032756316, 1.6872998181630887, 1.160699725626082, 0.8592843327792493, 1.4653985087651198, 1.8499308833597006, 1.745219102405719, 1.5172452903949216, 1.2276391045066188, 1.6290574012974381]\n"
          ],
          "name": "stdout"
        }
      ]
    },
    {
      "cell_type": "code",
      "metadata": {
        "id": "oeLlypq5gbFa"
      },
      "source": [
        ""
      ],
      "execution_count": 28,
      "outputs": []
    },
    {
      "cell_type": "code",
      "metadata": {
        "id": "YJFWGVQJLwRo",
        "colab": {
          "base_uri": "https://localhost:8080/"
        },
        "outputId": "f16e3a15-3d1d-49eb-d6c3-7fb096ac59e0"
      },
      "source": [
        "diam = Diameter_All.copy()\n",
        "PSD_value, Perc_value = PSD(diam)\n",
        "print(Perc_value)"
      ],
      "execution_count": 29,
      "outputs": [
        {
          "output_type": "stream",
          "text": [
            "[ 0.          0.          0.          0.          0.          0.\n",
            "  0.          1.49253731  8.20895522 23.13432836 67.1641791 ]\n"
          ],
          "name": "stdout"
        }
      ]
    },
    {
      "cell_type": "code",
      "metadata": {
        "id": "Zvked-F_kPwi",
        "colab": {
          "base_uri": "https://localhost:8080/"
        },
        "outputId": "76087195-815c-4367-faa9-cb124ccfbb7e"
      },
      "source": [
        "!git clone https://github.com/ucfilho/marquesgabi_out_2020\n",
        "%cd marquesgabi_out_2020\n",
        "PSD_imageJ = 'Areas_ImageJ.csv'\n",
        "PSD_new = pd.read_csv(PSD_imageJ)\n",
        "print(PSD_new.head(3))"
      ],
      "execution_count": 30,
      "outputs": [
        {
          "output_type": "stream",
          "text": [
            "Cloning into 'marquesgabi_out_2020'...\n",
            "remote: Enumerating objects: 146, done.\u001b[K\n",
            "remote: Counting objects: 100% (146/146), done.\u001b[K\n",
            "remote: Compressing objects: 100% (142/142), done.\u001b[K\n",
            "remote: Total 146 (delta 75), reused 0 (delta 0), pack-reused 0\u001b[K\n",
            "Receiving objects: 100% (146/146), 1.00 MiB | 12.53 MiB/s, done.\n",
            "Resolving deltas: 100% (75/75), done.\n",
            "/content/marquesgabi_fev_2020/marquesgabi_out_2020/Doutorado/marquesgabi_set_2020/Doutorado/Doutorado/marquesgabi_out_2020\n",
            "   Juntas   Area\n",
            "0       1  2.001\n",
            "1       2  0.820\n",
            "2       3  1.270\n"
          ],
          "name": "stdout"
        }
      ]
    },
    {
      "cell_type": "code",
      "metadata": {
        "id": "004Ki_RdzWqi"
      },
      "source": [
        "Area = np.array(PSD_new['Area'])\n",
        "diam_teste = []\n",
        "for A in Area:\n",
        "  diam_teste.append((4*A/np.pi)**0.5) \n",
        "\n",
        "Diam1 = [ (4*A/np.pi)**0.5 for A in Area]"
      ],
      "execution_count": 31,
      "outputs": []
    },
    {
      "cell_type": "code",
      "metadata": {
        "id": "40Fdww7M1KSx",
        "colab": {
          "base_uri": "https://localhost:8080/"
        },
        "outputId": "c4636fe7-ae71-46db-bd79-145001076004"
      },
      "source": [
        "PSD_new, Perc_new = PSD(Diam1)  # imageJ\n",
        "print(Perc_new)\n",
        "print(Perc_value)"
      ],
      "execution_count": 32,
      "outputs": [
        {
          "output_type": "stream",
          "text": [
            "[ 0.          0.          0.          0.          0.          0.\n",
            "  0.          4.21052632 10.52631579 23.15789474 62.10526316]\n",
            "[ 0.          0.          0.          0.          0.          0.\n",
            "  0.          1.49253731  8.20895522 23.13432836 67.1641791 ]\n"
          ],
          "name": "stdout"
        }
      ]
    },
    {
      "cell_type": "code",
      "metadata": {
        "id": "jeTMW3eVbpAY",
        "colab": {
          "base_uri": "https://localhost:8080/"
        },
        "outputId": "0e4648c5-a093-4b86-c809-20e1f4ae019b"
      },
      "source": [
        "np.sum(np.array(Perc_value))"
      ],
      "execution_count": 33,
      "outputs": [
        {
          "output_type": "execute_result",
          "data": {
            "text/plain": [
              "100.0"
            ]
          },
          "metadata": {
            "tags": []
          },
          "execution_count": 33
        }
      ]
    },
    {
      "cell_type": "code",
      "metadata": {
        "colab": {
          "base_uri": "https://localhost:8080/",
          "height": 283
        },
        "id": "oAuyxTmrmc9Y",
        "outputId": "1a33ce46-5679-4493-dd91-72459e48157c"
      },
      "source": [
        "plt.plot( Perc_value,Perc_new )"
      ],
      "execution_count": 34,
      "outputs": [
        {
          "output_type": "execute_result",
          "data": {
            "text/plain": [
              "[<matplotlib.lines.Line2D at 0x7f20b1afd898>]"
            ]
          },
          "metadata": {
            "tags": []
          },
          "execution_count": 34
        },
        {
          "output_type": "display_data",
          "data": {
            "image/png": "[encoded data removed]",
            "text/plain": [
              "<Figure size 432x288 with 1 Axes>"
            ]
          },
          "metadata": {
            "tags": [],
            "needs_background": "light"
          }
        }
      ]
    },
    {
      "cell_type": "code",
      "metadata": {
        "colab": {
          "base_uri": "https://localhost:8080/",
          "height": 268
        },
        "id": "n1r49MHFvsPP",
        "outputId": "3aac73b0-897e-408c-f3a7-016f9f6e566e"
      },
      "source": [
        "PSD_comparison = pd.DataFrame({ 'CNN':Perc_value,'ImgJ':Perc_new})\n",
        "ax = PSD_comparison.plot.bar(rot=0)"
      ],
      "execution_count": 35,
      "outputs": [
        {
          "output_type": "display_data",
          "data": {
            "image/png": "[encoded data removed]",
            "text/plain": [
              "<Figure size 432x288 with 1 Axes>"
            ]
          },
          "metadata": {
            "tags": [],
            "needs_background": "light"
          }
        }
      ]
    },
    {
      "cell_type": "code",
      "metadata": {
        "id": "enuGx6kH4cFh"
      },
      "source": [
        ""
      ],
      "execution_count": 35,
      "outputs": []
    },
    {
      "cell_type": "code",
      "metadata": {
        "colab": {
          "base_uri": "https://localhost:8080/"
        },
        "id": "sW4TRqxc0Li-",
        "outputId": "7a3ba3d4-1033-4730-c9bb-8448a01b9a3e"
      },
      "source": [
        "results = smf.ols('ImgJ ~ CNN', data=PSD_comparison).fit()\n",
        "print(results.summary())"
      ],
      "execution_count": 36,
      "outputs": [
        {
          "output_type": "stream",
          "text": [
            "                            OLS Regression Results                            \n",
            "==============================================================================\n",
            "Dep. Variable:                   ImgJ   R-squared:                       0.996\n",
            "Model:                            OLS   Adj. R-squared:                  0.996\n",
            "Method:                 Least Squares   F-statistic:                     2219.\n",
            "Date:                Thu, 18 Feb 2021   Prob (F-statistic):           4.38e-12\n",
            "Time:                        20:55:10   Log-Likelihood:                -17.162\n",
            "No. Observations:                  11   AIC:                             38.32\n",
            "Df Residuals:                       9   BIC:                             39.12\n",
            "Df Model:                           1                                         \n",
            "Covariance Type:            nonrobust                                         \n",
            "==============================================================================\n",
            "                 coef    std err          t      P>|t|      [0.025      0.975]\n",
            "------------------------------------------------------------------------------\n",
            "Intercept      0.6832      0.423      1.614      0.141      -0.274       1.641\n",
            "CNN            0.9248      0.020     47.111      0.000       0.880       0.969\n",
            "==============================================================================\n",
            "Omnibus:                        4.367   Durbin-Watson:                   0.859\n",
            "Prob(Omnibus):                  0.113   Jarque-Bera (JB):                2.674\n",
            "Skew:                           1.190   Prob(JB):                        0.263\n",
            "Kurtosis:                       2.585   Cond. No.                         23.8\n",
            "==============================================================================\n",
            "\n",
            "Warnings:\n",
            "[1] Standard Errors assume that the covariance matrix of the errors is correctly specified.\n"
          ],
          "name": "stdout"
        },
        {
          "output_type": "stream",
          "text": [
            "/usr/local/lib/python3.6/dist-packages/scipy/stats/stats.py:1535: UserWarning: kurtosistest only valid for n>=20 ... continuing anyway, n=11\n",
            "  \"anyway, n=%i\" % int(n))\n"
          ],
          "name": "stderr"
        }
      ]
    },
    {
      "cell_type": "code",
      "metadata": {
        "id": "Ctf4oExeyz1B",
        "colab": {
          "base_uri": "https://localhost:8080/",
          "height": 283
        },
        "outputId": "6c47c4fe-d509-4943-ba95-cdb130c39588"
      },
      "source": [
        "#plt.plot(Diam)\n",
        "plt.plot(Diameter_All)"
      ],
      "execution_count": 37,
      "outputs": [
        {
          "output_type": "execute_result",
          "data": {
            "text/plain": [
              "[<matplotlib.lines.Line2D at 0x7f20b18af5c0>]"
            ]
          },
          "metadata": {
            "tags": []
          },
          "execution_count": 37
        },
        {
          "output_type": "display_data",
          "data": {
            "image/png": "[encoded data removed]",
            "text/plain": [
              "<Figure size 432x288 with 1 Axes>"
            ]
          },
          "metadata": {
            "tags": [],
            "needs_background": "light"
          }
        }
      ]
    },
    {
      "cell_type": "code",
      "metadata": {
        "id": "WKwv70Nty2jF",
        "colab": {
          "base_uri": "https://localhost:8080/",
          "height": 283
        },
        "outputId": "49861d28-c822-4bd3-9a7d-6f630f072b96"
      },
      "source": [
        "plt.plot(Diam1)"
      ],
      "execution_count": 38,
      "outputs": [
        {
          "output_type": "execute_result",
          "data": {
            "text/plain": [
              "[<matplotlib.lines.Line2D at 0x7f20b188c588>]"
            ]
          },
          "metadata": {
            "tags": []
          },
          "execution_count": 38
        },
        {
          "output_type": "display_data",
          "data": {
            "image/png": "[encoded data removed]",
            "text/plain": [
              "<Figure size 432x288 with 1 Axes>"
            ]
          },
          "metadata": {
            "tags": [],
            "needs_background": "light"
          }
        }
      ]
    },
    {
      "cell_type": "code",
      "metadata": {
        "colab": {
          "base_uri": "https://localhost:8080/",
          "height": 288
        },
        "id": "eDfOaBFQ3BMS",
        "outputId": "80b997ab-e56c-4429-83d2-879b531714d0"
      },
      "source": [
        "df_diam=pd.DataFrame(Diam1)\r\n",
        "df_diam.describe()"
      ],
      "execution_count": 39,
      "outputs": [
        {
          "output_type": "execute_result",
          "data": {
            "text/html": [
              "<div>\n",
              "<style scoped>\n",
              "    .dataframe tbody tr th:only-of-type {\n",
              "        vertical-align: middle;\n",
              "    }\n",
              "\n",
              "    .dataframe tbody tr th {\n",
              "        vertical-align: top;\n",
              "    }\n",
              "\n",
              "    .dataframe thead th {\n",
              "        text-align: right;\n",
              "    }\n",
              "</style>\n",
              "<table border=\"1\" class=\"dataframe\">\n",
              "  <thead>\n",
              "    <tr style=\"text-align: right;\">\n",
              "      <th></th>\n",
              "      <th>0</th>\n",
              "    </tr>\n",
              "  </thead>\n",
              "  <tbody>\n",
              "    <tr>\n",
              "      <th>count</th>\n",
              "      <td>95.000000</td>\n",
              "    </tr>\n",
              "    <tr>\n",
              "      <th>mean</th>\n",
              "      <td>1.260307</td>\n",
              "    </tr>\n",
              "    <tr>\n",
              "      <th>std</th>\n",
              "      <td>0.258410</td>\n",
              "    </tr>\n",
              "    <tr>\n",
              "      <th>min</th>\n",
              "      <td>0.753568</td>\n",
              "    </tr>\n",
              "    <tr>\n",
              "      <th>25%</th>\n",
              "      <td>1.117893</td>\n",
              "    </tr>\n",
              "    <tr>\n",
              "      <th>50%</th>\n",
              "      <td>1.267607</td>\n",
              "    </tr>\n",
              "    <tr>\n",
              "      <th>75%</th>\n",
              "      <td>1.376667</td>\n",
              "    </tr>\n",
              "    <tr>\n",
              "      <th>max</th>\n",
              "      <td>2.317439</td>\n",
              "    </tr>\n",
              "  </tbody>\n",
              "</table>\n",
              "</div>"
            ],
            "text/plain": [
              "               0\n",
              "count  95.000000\n",
              "mean    1.260307\n",
              "std     0.258410\n",
              "min     0.753568\n",
              "25%     1.117893\n",
              "50%     1.267607\n",
              "75%     1.376667\n",
              "max     2.317439"
            ]
          },
          "metadata": {
            "tags": []
          },
          "execution_count": 39
        }
      ]
    },
    {
      "cell_type": "code",
      "metadata": {
        "colab": {
          "base_uri": "https://localhost:8080/",
          "height": 339
        },
        "id": "LKMhybhA4gjO",
        "outputId": "223ad21b-2b6a-48c9-9fd2-c99d71cfb5ec"
      },
      "source": [
        "plt.hist([Diam1,Diameter_All])\r\n",
        "plt.legend(['Image J','CNN'])"
      ],
      "execution_count": 40,
      "outputs": [
        {
          "output_type": "stream",
          "text": [
            "/usr/local/lib/python3.6/dist-packages/numpy/core/_asarray.py:83: VisibleDeprecationWarning: Creating an ndarray from ragged nested sequences (which is a list-or-tuple of lists-or-tuples-or ndarrays with different lengths or shapes) is deprecated. If you meant to do this, you must specify 'dtype=object' when creating the ndarray\n",
            "  return array(a, dtype, copy=False, order=order)\n"
          ],
          "name": "stderr"
        },
        {
          "output_type": "execute_result",
          "data": {
            "text/plain": [
              "<matplotlib.legend.Legend at 0x7f20b182d470>"
            ]
          },
          "metadata": {
            "tags": []
          },
          "execution_count": 40
        },
        {
          "output_type": "display_data",
          "data": {
            "image/png": "[encoded data removed]",
            "text/plain": [
              "<Figure size 432x288 with 1 Axes>"
            ]
          },
          "metadata": {
            "tags": [],
            "needs_background": "light"
          }
        }
      ]
    },
    {
      "cell_type": "code",
      "metadata": {
        "colab": {
          "base_uri": "https://localhost:8080/",
          "height": 355
        },
        "id": "NHgkMv8i5nNz",
        "outputId": "cee3c0b9-cde9-4a9d-b344-0b0b61434b60"
      },
      "source": [
        "plt.hist(Diam1, alpha=0.5)\r\n",
        "plt.hist(Diameter_All, alpha=0.5)"
      ],
      "execution_count": 41,
      "outputs": [
        {
          "output_type": "execute_result",
          "data": {
            "text/plain": [
              "(array([ 4.,  7., 23., 12.,  6., 17., 23., 24., 11.,  7.]),\n",
              " array([0.77176483, 0.87958144, 0.98739804, 1.09521465, 1.20303125,\n",
              "        1.31084786, 1.41866446, 1.52648107, 1.63429767, 1.74211428,\n",
              "        1.84993088]),\n",
              " <a list of 10 Patch objects>)"
            ]
          },
          "metadata": {
            "tags": []
          },
          "execution_count": 41
        },
        {
          "output_type": "display_data",
          "data": {
            "image/png": "[encoded data removed]",
            "text/plain": [
              "<Figure size 432x288 with 1 Axes>"
            ]
          },
          "metadata": {
            "tags": [],
            "needs_background": "light"
          }
        }
      ]
    },
    {
      "cell_type": "markdown",
      "metadata": {
        "id": "9Pq4DTm1np4i"
      },
      "source": [
        ""
      ]
    }
  ]
}