{
  "nbformat": 4,
  "nbformat_minor": 0,
  "metadata": {
    "colab": {
      "name": "PSD_GRAIN_NOT_GRAIN_dez_04_2020.ipynb",
      "provenance": [],
      "collapsed_sections": [],
      "include_colab_link": true
    },
    "kernelspec": {
      "name": "python3",
      "display_name": "Python 3"
    }
  },
  "cells": [
    {
      "cell_type": "markdown",
      "metadata": {
        "id": "view-in-github",
        "colab_type": "text"
      },
      "source": [
        "<a href=\"https://colab.research.google.com/github/ucfilho/marquesgabi_paper_fev_2021/blob/main/PSD_GRAIN_NOT_GRAIN_dez_04_2020.ipynb\" target=\"_parent\"><img src=\"https://colab.research.google.com/assets/colab-badge.svg\" alt=\"Open In Colab\"/></a>"
      ]
    },
    {
      "cell_type": "code",
      "metadata": {
        "id": "Sog7Z9pyhUD_",
        "colab": {
          "base_uri": "https://localhost:8080/"
        },
        "outputId": "ffd55612-dedb-464d-f314-8562f23afb1d"
      },
      "source": [
        "import matplotlib.pyplot as plt\n",
        "import numpy as np\n",
        "import cv2\n",
        "import zipfile\n",
        "#import random\n",
        "from random import randint\n",
        "from PIL import Image\n",
        "import re\n",
        "from sklearn.model_selection import train_test_split\n",
        "#import scikit-image\n",
        "import skimage\n",
        "import pandas as pd\n",
        "import statsmodels.api as sm\n",
        "import statsmodels.formula.api as smf"
      ],
      "execution_count": null,
      "outputs": [
        {
          "output_type": "stream",
          "text": [
            "/usr/local/lib/python3.6/dist-packages/statsmodels/tools/_testing.py:19: FutureWarning: pandas.util.testing is deprecated. Use the functions in the public API at pandas.testing instead.\n",
            "  import pandas.util.testing as tm\n"
          ],
          "name": "stderr"
        }
      ]
    },
    {
      "cell_type": "code",
      "metadata": {
        "id": "uZEvJvfoibE4",
        "colab": {
          "base_uri": "https://localhost:8080/"
        },
        "outputId": "25d6dc13-ef7f-4dd1-898b-2db5bf566b11"
      },
      "source": [
        "!pip install mahotas"
      ],
      "execution_count": null,
      "outputs": [
        {
          "output_type": "stream",
          "text": [
            "Requirement already satisfied: mahotas in /usr/local/lib/python3.6/dist-packages (1.4.11)\n",
            "Requirement already satisfied: numpy in /usr/local/lib/python3.6/dist-packages (from mahotas) (1.18.5)\n"
          ],
          "name": "stdout"
        }
      ]
    },
    {
      "cell_type": "code",
      "metadata": {
        "id": "_VcTdaNVh9EE",
        "colab": {
          "base_uri": "https://localhost:8080/"
        },
        "outputId": "72b8dfe8-2c31-457c-8feb-b27b17458c60"
      },
      "source": [
        "!git clone https://github.com/ucfilho/marquesgabi_fev_2020 #clonar do Github\n",
        "%cd marquesgabi_fev_2020\n",
        "import Go2BlackWhite\n",
        "import Go2Mahotas"
      ],
      "execution_count": null,
      "outputs": [
        {
          "output_type": "stream",
          "text": [
            "fatal: destination path 'marquesgabi_fev_2020' already exists and is not an empty directory.\n",
            "/content/marquesgabi_fev_2020\n"
          ],
          "name": "stdout"
        }
      ]
    },
    {
      "cell_type": "code",
      "metadata": {
        "id": "nf_a6PJ1iUnT"
      },
      "source": [
        "import mahotas.features.texture as mht\n",
        "import mahotas.features"
      ],
      "execution_count": null,
      "outputs": []
    },
    {
      "cell_type": "code",
      "metadata": {
        "id": "wj62HANgnpnR",
        "colab": {
          "base_uri": "https://localhost:8080/"
        },
        "outputId": "6717f6c1-2dbe-4a75-f2c8-8e9db796a1bd"
      },
      "source": [
        "!git clone https://github.com/ucfilho/marquesgabi_out_2020/\n",
        "%cd marquesgabi_out_2020\n",
        "\n",
        "from Get_PSDArea import PSDArea\n",
        "from histogram import PSD\n",
        "from GetBetterSegm import GetBetter"
      ],
      "execution_count": null,
      "outputs": [
        {
          "output_type": "stream",
          "text": [
            "fatal: destination path 'marquesgabi_out_2020' already exists and is not an empty directory.\n",
            "/content/marquesgabi_fev_2020/marquesgabi_out_2020\n"
          ],
          "name": "stdout"
        }
      ]
    },
    {
      "cell_type": "code",
      "metadata": {
        "id": "8L6KJ4jc3ahG",
        "colab": {
          "base_uri": "https://localhost:8080/"
        },
        "outputId": "6e6837b1-9e70-497f-91be-5047a91e0204"
      },
      "source": [
        "!ls"
      ],
      "execution_count": null,
      "outputs": [
        {
          "output_type": "stream",
          "text": [
            "Areas_ImageJ.csv\t\t IMAGEJ_Zuados.zip\n",
            "Areas_ImageJ.xlsx\t\t PSD_GRAIN_NOT_GRAIN_nov_13_2020.ipynb\n",
            "Doutorado\t\t\t PSD_GRAIN_NOT_GRAIN_out_09_2020.ipynb\n",
            "GetBetterSegm.py\t\t PSD_GRAIN_NOT_GRAIN_out_19_2020.ipynb\n",
            "Get_PSDArea.py\t\t\t PSD_GRAIN_NOT_GRAIN_out_28_2020.ipynb\n",
            "Histogram_PSD_out_19_2020.ipynb  PSD_USA_ROTINAS_out_05_2020.ipynb\n",
            "Histogram_PSD_out_23_2020.ipynb  __pycache__\n",
            "histogram.py\t\t\t README.md\n",
            "imageJ_jpg.zip\t\t\t Teste\n"
          ],
          "name": "stdout"
        }
      ]
    },
    {
      "cell_type": "code",
      "metadata": {
        "id": "1v7SRrc8mH2N",
        "colab": {
          "base_uri": "https://localhost:8080/"
        },
        "outputId": "76eea328-53c0-46f1-bdc5-1959e19254be"
      },
      "source": [
        "!git clone https://github.com/marquesgabi/Doutorado\n",
        "%cd Doutorado\n",
        "\n",
        "Transfere='Fotos_Grandes_3cdAmostra.zip'\n",
        "file_name = zipfile.ZipFile(Transfere, 'r')\n",
        "file_name.extractall()"
      ],
      "execution_count": null,
      "outputs": [
        {
          "output_type": "stream",
          "text": [
            "fatal: destination path 'Doutorado' already exists and is not an empty directory.\n",
            "/content/marquesgabi_fev_2020/marquesgabi_out_2020/Doutorado\n"
          ],
          "name": "stdout"
        }
      ]
    },
    {
      "cell_type": "code",
      "metadata": {
        "id": "0kA4IWSmasoD"
      },
      "source": [
        "Size=1200 # tamanho da foto\n",
        "ww,img_name=Go2BlackWhite.BlackWhite(Transfere,Size) #Pegamos a primeira foto Grande\n",
        "img=ww[0] \n",
        "# this is the big image we want to segment \n",
        "# ww[0], change it if you want to segment another picture"
      ],
      "execution_count": null,
      "outputs": []
    },
    {
      "cell_type": "code",
      "metadata": {
        "id": "g_k1Ktz3izJv",
        "colab": {
          "base_uri": "https://localhost:8080/"
        },
        "outputId": "f1a6ec57-dc84-4eea-82ad-6c54ff69e67d"
      },
      "source": [
        "!git clone https://github.com/marquesgabi/Doutorado\n",
        "# %cd Doutorado\n",
        "Transfere='FotosTreino882_and_Segm.zip'\n",
        "file_name = zipfile.ZipFile(Transfere, 'r')\n",
        "file_name.extractall()\n",
        "\n",
        "\"\"\"# First step: get the segmented file (photos stored in csv file)\"\"\"\n",
        "\n",
        "labels = [] #name files\n",
        "\n",
        "with zipfile.ZipFile(Transfere, \"r\") as f:\n",
        "  for f in f.namelist():\n",
        "    labels.append(f)\n",
        "\n",
        "Num=len(labels)\n",
        "df=pd.read_csv(labels[0])\n",
        "for i in range(1,Num):\n",
        "  df_new=pd.read_csv(labels[i])\n",
        "  df_new = df_new[~df_new['Type'].isin(['G'])] # drop grain row which is not in 882\n",
        "  frames = [df, df_new]\n",
        "  df= pd.concat(frames, ignore_index=True)"
      ],
      "execution_count": null,
      "outputs": [
        {
          "output_type": "stream",
          "text": [
            "fatal: destination path 'Doutorado' already exists and is not an empty directory.\n"
          ],
          "name": "stdout"
        }
      ]
    },
    {
      "cell_type": "code",
      "metadata": {
        "id": "tHgqAnaFyCjp",
        "colab": {
          "base_uri": "https://localhost:8080/"
        },
        "outputId": "1526a3fb-6335-4fb6-aeb0-d131a141dc72"
      },
      "source": [
        "!git clone https://github.com/ucfilho/marquesgabi_set_2020\n",
        "%cd marquesgabi_set_2020"
      ],
      "execution_count": null,
      "outputs": [
        {
          "output_type": "stream",
          "text": [
            "fatal: destination path 'marquesgabi_set_2020' already exists and is not an empty directory.\n",
            "/content/marquesgabi_fev_2020/marquesgabi_out_2020/Doutorado/marquesgabi_set_2020\n"
          ],
          "name": "stdout"
        }
      ]
    },
    {
      "cell_type": "code",
      "metadata": {
        "id": "qc4rFvzkyWCi"
      },
      "source": [
        "from big_segment import Segmenta  # got image provided segmented\n",
        "from ANN_FIND_GRAIN import AnnGrain  # got image provided segmented\n",
        "from psd_mahotas import Mahotas"
      ],
      "execution_count": null,
      "outputs": []
    },
    {
      "cell_type": "code",
      "metadata": {
        "id": "YPoCxCp4kuRm",
        "colab": {
          "base_uri": "https://localhost:8080/"
        },
        "outputId": "4a36f3a3-cf0d-48ee-a64f-3edb629c789b"
      },
      "source": [
        "!git clone https://github.com/marquesgabi/Doutorado\n",
        "%cd Doutorado\n",
        "Transfere='FotosTreino882_and_Segm.zip'\n",
        "file_name = zipfile.ZipFile(Transfere, 'r')\n",
        "file_name.extractall()\n",
        "\n",
        "\"\"\"# First step: get the segmented file (photos stored in csv file)\"\"\"\n",
        "\n",
        "labels = [] #name files\n",
        "\n",
        "with zipfile.ZipFile(Transfere, \"r\") as f:\n",
        "  for f in f.namelist():\n",
        "    labels.append(f)\n",
        "\n",
        "Num=len(labels)\n",
        "ANN_dat=pd.read_csv(labels[0])\n",
        "for i in range(1,Num):\n",
        "  df_new=pd.read_csv(labels[i])\n",
        "  df_new = df_new[~df_new['Type'].isin(['G'])] # drop grain row which is not in 882\n",
        "  frames = [ANN_dat, df_new]\n",
        "  ANN_dat= pd.concat(frames, ignore_index=True)"
      ],
      "execution_count": null,
      "outputs": [
        {
          "output_type": "stream",
          "text": [
            "fatal: destination path 'Doutorado' already exists and is not an empty directory.\n",
            "/content/marquesgabi_fev_2020/marquesgabi_out_2020/Doutorado/marquesgabi_set_2020/Doutorado\n"
          ],
          "name": "stdout"
        }
      ]
    },
    {
      "cell_type": "code",
      "metadata": {
        "id": "mv01JmHfmz-1"
      },
      "source": [
        "# open file to get df \n",
        "# use df and ANN to get grains and no grains\n",
        "# use grains to obtain psd"
      ],
      "execution_count": null,
      "outputs": []
    },
    {
      "cell_type": "code",
      "metadata": {
        "id": "h4ELNAEunkox",
        "colab": {
          "base_uri": "https://localhost:8080/"
        },
        "outputId": "9e3156eb-97a7-448c-8bc0-754792c49e7f"
      },
      "source": [
        "!git clone https://github.com/marquesgabi/Doutorado\n",
        "%cd Doutorado"
      ],
      "execution_count": null,
      "outputs": [
        {
          "output_type": "stream",
          "text": [
            "fatal: destination path 'Doutorado' already exists and is not an empty directory.\n",
            "/content/marquesgabi_fev_2020/marquesgabi_out_2020/Doutorado/marquesgabi_set_2020/Doutorado/Doutorado\n"
          ],
          "name": "stdout"
        }
      ]
    },
    {
      "cell_type": "code",
      "metadata": {
        "id": "QmPJiuSnnxT9",
        "colab": {
          "base_uri": "https://localhost:8080/"
        },
        "outputId": "f7d4b0ab-ba30-4c12-9777-838faa55e02e"
      },
      "source": [
        "k=0\n",
        "for Item in img_name:\n",
        "  print(k,Item)\n",
        "  k=k+1\n",
        "\n",
        "img=ww[21]\n"
      ],
      "execution_count": null,
      "outputs": [
        {
          "output_type": "stream",
          "text": [
            "0 Fotos_Grandes-3cdAmostra/Q6-8-4.jpg\n",
            "1 Fotos_Grandes-3cdAmostra/Q6-5-3.jpg\n",
            "2 Fotos_Grandes-3cdAmostra/Q6-7-4.jpg\n",
            "3 Fotos_Grandes-3cdAmostra/Q6-8-2.jpg\n",
            "4 Fotos_Grandes-3cdAmostra/Q6-3-2.jpg\n",
            "5 Fotos_Grandes-3cdAmostra/Q6-7-2.jpg\n",
            "6 Fotos_Grandes-3cdAmostra/Q6-4-4.jpg\n",
            "7 Fotos_Grandes-3cdAmostra/Q6-9-5.jpg\n",
            "8 Fotos_Grandes-3cdAmostra/Q6-2-5.jpg\n",
            "9 Fotos_Grandes-3cdAmostra/Q6-8-3.jpg\n",
            "10 Fotos_Grandes-3cdAmostra/Q6-9-3.jpg\n",
            "11 Fotos_Grandes-3cdAmostra/Q6-1-2.jpg\n",
            "12 Fotos_Grandes-3cdAmostra/Q6-6-3.jpg\n",
            "13 Fotos_Grandes-3cdAmostra/Q6-3-4.jpg\n",
            "14 Fotos_Grandes-3cdAmostra/Q6-1-4.jpg\n",
            "15 Fotos_Grandes-3cdAmostra/Q6-6-2.jpg\n",
            "16 Fotos_Grandes-3cdAmostra/Q6-4-3.jpg\n",
            "17 Fotos_Grandes-3cdAmostra/Q6-7-3.jpg\n",
            "18 Fotos_Grandes-3cdAmostra/Q6-2-2.jpg\n",
            "19 Fotos_Grandes-3cdAmostra/Q6-9-2.jpg\n",
            "20 Fotos_Grandes-3cdAmostra/Q6-1-5.jpg\n",
            "21 Fotos_Grandes-3cdAmostra/Q6-6-5.jpg\n",
            "22 Fotos_Grandes-3cdAmostra/Q6-2-1.jpg\n",
            "23 Fotos_Grandes-3cdAmostra/Q6-5-2.jpg\n",
            "24 Fotos_Grandes-3cdAmostra/Q6-4-1.jpg\n",
            "25 Fotos_Grandes-3cdAmostra/Q6-3-1.jpg\n",
            "26 Fotos_Grandes-3cdAmostra/Q6-5-4.jpg\n"
          ],
          "name": "stdout"
        }
      ]
    },
    {
      "cell_type": "code",
      "metadata": {
        "id": "Fg08LdDEsYLd"
      },
      "source": [
        "df=Segmenta(img)"
      ],
      "execution_count": null,
      "outputs": []
    },
    {
      "cell_type": "code",
      "metadata": {
        "id": "3O2xFH1Ishc2",
        "colab": {
          "base_uri": "https://localhost:8080/"
        },
        "outputId": "c649df37-d33a-4492-b066-39f94aa4e15e"
      },
      "source": [
        "y_pred,confusion_matrix,METRICS=AnnGrain(ANN_dat,df.drop('Width',axis=1)) "
      ],
      "execution_count": null,
      "outputs": [
        {
          "output_type": "stream",
          "text": [
            "Epoch 1/200\n",
            "WARNING:tensorflow:Model was constructed with shape (None, 28, 28) for input Tensor(\"flatten_input:0\", shape=(None, 28, 28), dtype=float32), but it was called on an input with incompatible shape (None, 784).\n",
            "WARNING:tensorflow:Model was constructed with shape (None, 28, 28) for input Tensor(\"flatten_input:0\", shape=(None, 28, 28), dtype=float32), but it was called on an input with incompatible shape (None, 784).\n",
            "11/11 [==============================] - 0s 3ms/step - loss: 6.5618 - accuracy: 0.4490 \n",
            "Epoch 2/200\n",
            "11/11 [==============================] - 0s 2ms/step - loss: 1.0239 - accuracy: 0.4927\n",
            "Epoch 3/200\n",
            "11/11 [==============================] - 0s 2ms/step - loss: 0.8429 - accuracy: 0.4985\n",
            "Epoch 4/200\n",
            "11/11 [==============================] - 0s 3ms/step - loss: 0.9335 - accuracy: 0.4956\n",
            "Epoch 5/200\n",
            "11/11 [==============================] - 0s 3ms/step - loss: 1.0149 - accuracy: 0.5627\n",
            "Epoch 6/200\n",
            "11/11 [==============================] - 0s 3ms/step - loss: 2.5192 - accuracy: 0.4956\n",
            "Epoch 7/200\n",
            "11/11 [==============================] - 0s 3ms/step - loss: 2.1728 - accuracy: 0.4956\n",
            "Epoch 8/200\n",
            "11/11 [==============================] - 0s 3ms/step - loss: 0.9290 - accuracy: 0.5335\n",
            "Epoch 9/200\n",
            "11/11 [==============================] - 0s 5ms/step - loss: 0.4018 - accuracy: 0.7464\n",
            "Epoch 10/200\n",
            "11/11 [==============================] - 0s 3ms/step - loss: 0.3988 - accuracy: 0.7172\n",
            "Epoch 11/200\n",
            "11/11 [==============================] - 0s 3ms/step - loss: 0.3575 - accuracy: 0.8222\n",
            "Epoch 12/200\n",
            "11/11 [==============================] - 0s 2ms/step - loss: 0.4446 - accuracy: 0.7638\n",
            "Epoch 13/200\n",
            "11/11 [==============================] - 0s 2ms/step - loss: 0.7052 - accuracy: 0.5394\n",
            "Epoch 14/200\n",
            "11/11 [==============================] - 0s 3ms/step - loss: 0.3993 - accuracy: 0.7434\n",
            "Epoch 15/200\n",
            "11/11 [==============================] - 0s 3ms/step - loss: 2.7830 - accuracy: 0.5656\n",
            "Epoch 16/200\n",
            "11/11 [==============================] - 0s 3ms/step - loss: 5.9492 - accuracy: 0.4956\n",
            "Epoch 17/200\n",
            "11/11 [==============================] - 0s 3ms/step - loss: 5.9991 - accuracy: 0.4956\n",
            "Epoch 18/200\n",
            "11/11 [==============================] - 0s 4ms/step - loss: 4.9402 - accuracy: 0.4956\n",
            "Epoch 19/200\n",
            "11/11 [==============================] - 0s 3ms/step - loss: 3.4354 - accuracy: 0.4956\n",
            "Epoch 20/200\n",
            "11/11 [==============================] - 0s 4ms/step - loss: 2.0240 - accuracy: 0.4985\n",
            "Epoch 21/200\n",
            "11/11 [==============================] - 0s 3ms/step - loss: 0.6867 - accuracy: 0.6210\n",
            "Epoch 22/200\n",
            "11/11 [==============================] - 0s 2ms/step - loss: 0.3819 - accuracy: 0.8746\n",
            "Epoch 23/200\n",
            "11/11 [==============================] - 0s 3ms/step - loss: 0.6509 - accuracy: 0.6035\n",
            "Epoch 24/200\n",
            "11/11 [==============================] - 0s 3ms/step - loss: 0.3816 - accuracy: 0.7609\n",
            "Epoch 25/200\n",
            "11/11 [==============================] - 0s 2ms/step - loss: 0.1320 - accuracy: 0.9971\n",
            "Epoch 26/200\n",
            "11/11 [==============================] - 0s 3ms/step - loss: 0.1022 - accuracy: 1.0000\n",
            "Epoch 27/200\n",
            "11/11 [==============================] - 0s 2ms/step - loss: 0.0885 - accuracy: 1.0000\n",
            "Epoch 28/200\n",
            "11/11 [==============================] - 0s 2ms/step - loss: 0.2256 - accuracy: 0.9359\n",
            "Epoch 29/200\n",
            "11/11 [==============================] - 0s 3ms/step - loss: 0.2717 - accuracy: 0.8776\n",
            "Epoch 30/200\n",
            "11/11 [==============================] - 0s 2ms/step - loss: 0.1341 - accuracy: 1.0000\n",
            "Epoch 31/200\n",
            "11/11 [==============================] - 0s 3ms/step - loss: 0.1407 - accuracy: 0.9971\n",
            "Epoch 32/200\n",
            "11/11 [==============================] - 0s 3ms/step - loss: 0.2278 - accuracy: 0.9213\n",
            "Epoch 33/200\n",
            "11/11 [==============================] - 0s 4ms/step - loss: 0.1434 - accuracy: 1.0000\n",
            "Epoch 34/200\n",
            "11/11 [==============================] - 0s 3ms/step - loss: 0.0969 - accuracy: 0.9971\n",
            "Epoch 35/200\n",
            "11/11 [==============================] - 0s 6ms/step - loss: 0.3284 - accuracy: 0.8105\n",
            "Epoch 36/200\n",
            "11/11 [==============================] - 0s 6ms/step - loss: 0.3191 - accuracy: 0.8192\n",
            "Epoch 37/200\n",
            "11/11 [==============================] - 0s 5ms/step - loss: 0.1131 - accuracy: 1.0000\n",
            "Epoch 38/200\n",
            "11/11 [==============================] - 0s 3ms/step - loss: 0.1131 - accuracy: 0.9971\n",
            "Epoch 39/200\n",
            "11/11 [==============================] - 0s 3ms/step - loss: 0.2569 - accuracy: 0.8863\n",
            "Epoch 40/200\n",
            "11/11 [==============================] - 0s 3ms/step - loss: 0.1805 - accuracy: 0.9504\n",
            "Epoch 41/200\n",
            "11/11 [==============================] - 0s 3ms/step - loss: 0.0718 - accuracy: 1.0000\n",
            "Epoch 42/200\n",
            "11/11 [==============================] - 0s 2ms/step - loss: 0.2851 - accuracy: 0.8746\n",
            "Epoch 43/200\n",
            "11/11 [==============================] - 0s 3ms/step - loss: 0.8538 - accuracy: 0.6006\n",
            "Epoch 44/200\n",
            "11/11 [==============================] - 0s 3ms/step - loss: 0.4254 - accuracy: 0.7522\n",
            "Epoch 45/200\n",
            "11/11 [==============================] - 0s 2ms/step - loss: 0.0756 - accuracy: 1.0000\n",
            "Epoch 46/200\n",
            "11/11 [==============================] - 0s 3ms/step - loss: 0.0425 - accuracy: 1.0000\n",
            "Epoch 47/200\n",
            "11/11 [==============================] - 0s 3ms/step - loss: 0.0381 - accuracy: 1.0000\n",
            "Epoch 48/200\n",
            "11/11 [==============================] - 0s 3ms/step - loss: 0.2848 - accuracy: 0.8717\n",
            "Epoch 49/200\n",
            "11/11 [==============================] - 0s 3ms/step - loss: 0.4520 - accuracy: 0.7230\n",
            "Epoch 50/200\n",
            "11/11 [==============================] - 0s 3ms/step - loss: 0.1507 - accuracy: 0.9592\n",
            "Epoch 51/200\n",
            "11/11 [==============================] - 0s 3ms/step - loss: 0.1341 - accuracy: 0.9592\n",
            "Epoch 52/200\n",
            "11/11 [==============================] - 0s 3ms/step - loss: 0.9669 - accuracy: 0.6064\n",
            "Epoch 53/200\n",
            "11/11 [==============================] - 0s 4ms/step - loss: 0.9083 - accuracy: 0.6239\n",
            "Epoch 54/200\n",
            "11/11 [==============================] - 0s 3ms/step - loss: 0.2201 - accuracy: 0.8863\n",
            "Epoch 55/200\n",
            "11/11 [==============================] - 0s 4ms/step - loss: 0.1256 - accuracy: 0.9971\n",
            "Epoch 56/200\n",
            "11/11 [==============================] - 0s 3ms/step - loss: 0.3417 - accuracy: 0.8047\n",
            "Epoch 57/200\n",
            "11/11 [==============================] - 0s 3ms/step - loss: 0.1465 - accuracy: 0.9679\n",
            "Epoch 58/200\n",
            "11/11 [==============================] - 0s 4ms/step - loss: 0.1455 - accuracy: 0.9971\n",
            "Epoch 59/200\n",
            "11/11 [==============================] - 0s 3ms/step - loss: 0.2808 - accuracy: 0.8484\n",
            "Epoch 60/200\n",
            "11/11 [==============================] - 0s 3ms/step - loss: 0.4060 - accuracy: 0.7493\n",
            "Epoch 61/200\n",
            "11/11 [==============================] - 0s 2ms/step - loss: 0.1228 - accuracy: 0.9854\n",
            "Epoch 62/200\n",
            "11/11 [==============================] - 0s 2ms/step - loss: 0.0323 - accuracy: 1.0000\n",
            "Epoch 63/200\n",
            "11/11 [==============================] - 0s 2ms/step - loss: 0.1429 - accuracy: 0.9913\n",
            "Epoch 64/200\n",
            "11/11 [==============================] - 0s 3ms/step - loss: 0.2151 - accuracy: 0.8980\n",
            "Epoch 65/200\n",
            "11/11 [==============================] - 0s 3ms/step - loss: 0.1138 - accuracy: 0.9883\n",
            "Epoch 66/200\n",
            "11/11 [==============================] - 0s 3ms/step - loss: 0.0423 - accuracy: 1.0000\n",
            "Epoch 67/200\n",
            "11/11 [==============================] - 0s 3ms/step - loss: 0.0224 - accuracy: 1.0000\n",
            "Epoch 68/200\n",
            "11/11 [==============================] - 0s 3ms/step - loss: 0.0156 - accuracy: 1.0000\n",
            "Epoch 69/200\n",
            "11/11 [==============================] - 0s 2ms/step - loss: 1.2974 - accuracy: 0.7172\n",
            "Epoch 70/200\n",
            "11/11 [==============================] - 0s 2ms/step - loss: 3.9103 - accuracy: 0.4956\n",
            "Epoch 71/200\n",
            "11/11 [==============================] - 0s 3ms/step - loss: 3.2809 - accuracy: 0.5102\n",
            "Epoch 72/200\n",
            "11/11 [==============================] - 0s 3ms/step - loss: 1.4630 - accuracy: 0.5860\n",
            "Epoch 73/200\n",
            "11/11 [==============================] - 0s 4ms/step - loss: 0.2025 - accuracy: 0.9329\n",
            "Epoch 74/200\n",
            "11/11 [==============================] - 0s 4ms/step - loss: 0.0228 - accuracy: 1.0000\n",
            "Epoch 75/200\n",
            "11/11 [==============================] - 0s 3ms/step - loss: 0.0586 - accuracy: 0.9971\n",
            "Epoch 76/200\n",
            "11/11 [==============================] - 0s 3ms/step - loss: 0.1451 - accuracy: 0.9563\n",
            "Epoch 77/200\n",
            "11/11 [==============================] - 0s 3ms/step - loss: 0.1122 - accuracy: 0.9913\n",
            "Epoch 78/200\n",
            "11/11 [==============================] - 0s 3ms/step - loss: 0.0531 - accuracy: 1.0000\n",
            "Epoch 79/200\n",
            "11/11 [==============================] - 0s 4ms/step - loss: 0.0271 - accuracy: 1.0000\n",
            "Epoch 80/200\n",
            "11/11 [==============================] - 0s 4ms/step - loss: 0.0185 - accuracy: 1.0000\n",
            "Epoch 81/200\n",
            "11/11 [==============================] - 0s 3ms/step - loss: 0.0145 - accuracy: 1.0000\n",
            "Epoch 82/200\n",
            "11/11 [==============================] - 0s 3ms/step - loss: 0.0121 - accuracy: 1.0000\n",
            "Epoch 83/200\n",
            "11/11 [==============================] - 0s 2ms/step - loss: 0.0107 - accuracy: 1.0000\n",
            "Epoch 84/200\n",
            "11/11 [==============================] - 0s 3ms/step - loss: 0.0218 - accuracy: 1.0000\n",
            "Epoch 85/200\n",
            "11/11 [==============================] - 0s 3ms/step - loss: 0.0353 - accuracy: 1.0000\n",
            "Epoch 86/200\n",
            "11/11 [==============================] - 0s 3ms/step - loss: 0.0332 - accuracy: 1.0000\n",
            "Epoch 87/200\n",
            "11/11 [==============================] - 0s 3ms/step - loss: 0.0253 - accuracy: 1.0000\n",
            "Epoch 88/200\n",
            "11/11 [==============================] - 0s 3ms/step - loss: 0.0191 - accuracy: 1.0000\n",
            "Epoch 89/200\n",
            "11/11 [==============================] - 0s 2ms/step - loss: 0.0151 - accuracy: 1.0000\n",
            "Epoch 90/200\n",
            "11/11 [==============================] - 0s 3ms/step - loss: 0.0125 - accuracy: 1.0000\n",
            "Epoch 91/200\n",
            "11/11 [==============================] - 0s 3ms/step - loss: 0.0108 - accuracy: 1.0000\n",
            "Epoch 92/200\n",
            "11/11 [==============================] - 0s 3ms/step - loss: 0.0096 - accuracy: 1.0000\n",
            "Epoch 93/200\n",
            "11/11 [==============================] - 0s 4ms/step - loss: 0.0092 - accuracy: 1.0000\n",
            "Epoch 94/200\n",
            "11/11 [==============================] - 0s 3ms/step - loss: 0.0093 - accuracy: 1.0000\n",
            "Epoch 95/200\n",
            "11/11 [==============================] - 0s 3ms/step - loss: 0.0088 - accuracy: 1.0000\n",
            "Epoch 96/200\n",
            "11/11 [==============================] - 0s 3ms/step - loss: 0.0129 - accuracy: 0.9971\n",
            "Epoch 97/200\n",
            "11/11 [==============================] - 0s 3ms/step - loss: 0.0922 - accuracy: 0.9971\n",
            "Epoch 98/200\n",
            "11/11 [==============================] - 0s 4ms/step - loss: 0.1400 - accuracy: 0.9708\n",
            "Epoch 99/200\n",
            "11/11 [==============================] - 0s 3ms/step - loss: 0.0619 - accuracy: 1.0000\n",
            "Epoch 100/200\n",
            "11/11 [==============================] - 0s 3ms/step - loss: 0.0282 - accuracy: 1.0000\n",
            "Epoch 101/200\n",
            "11/11 [==============================] - 0s 3ms/step - loss: 0.0164 - accuracy: 1.0000\n",
            "Epoch 102/200\n",
            "11/11 [==============================] - 0s 3ms/step - loss: 0.0123 - accuracy: 1.0000\n",
            "Epoch 103/200\n",
            "11/11 [==============================] - 0s 3ms/step - loss: 0.0101 - accuracy: 1.0000\n",
            "Epoch 104/200\n",
            "11/11 [==============================] - 0s 3ms/step - loss: 0.0088 - accuracy: 1.0000\n",
            "Epoch 105/200\n",
            "11/11 [==============================] - 0s 3ms/step - loss: 0.0079 - accuracy: 1.0000\n",
            "Epoch 106/200\n",
            "11/11 [==============================] - 0s 3ms/step - loss: 0.0841 - accuracy: 0.9883\n",
            "Epoch 107/200\n",
            "11/11 [==============================] - 0s 3ms/step - loss: 0.2814 - accuracy: 0.8484\n",
            "Epoch 108/200\n",
            "11/11 [==============================] - 0s 3ms/step - loss: 0.1366 - accuracy: 0.9563\n",
            "Epoch 109/200\n",
            "11/11 [==============================] - 0s 3ms/step - loss: 0.0344 - accuracy: 1.0000\n",
            "Epoch 110/200\n",
            "11/11 [==============================] - 0s 3ms/step - loss: 0.0149 - accuracy: 1.0000\n",
            "Epoch 111/200\n",
            "11/11 [==============================] - 0s 3ms/step - loss: 0.0103 - accuracy: 1.0000\n",
            "Epoch 112/200\n",
            "11/11 [==============================] - 0s 3ms/step - loss: 0.0083 - accuracy: 1.0000\n",
            "Epoch 113/200\n",
            "11/11 [==============================] - 0s 2ms/step - loss: 0.0073 - accuracy: 1.0000\n",
            "Epoch 114/200\n",
            "11/11 [==============================] - 0s 3ms/step - loss: 0.0069 - accuracy: 1.0000\n",
            "Epoch 115/200\n",
            "11/11 [==============================] - 0s 2ms/step - loss: 0.0067 - accuracy: 1.0000\n",
            "Epoch 116/200\n",
            "11/11 [==============================] - 0s 3ms/step - loss: 0.0066 - accuracy: 1.0000\n",
            "Epoch 117/200\n",
            "11/11 [==============================] - 0s 3ms/step - loss: 0.0069 - accuracy: 1.0000\n",
            "Epoch 118/200\n",
            "11/11 [==============================] - 0s 4ms/step - loss: 0.0073 - accuracy: 1.0000\n",
            "Epoch 119/200\n",
            "11/11 [==============================] - 0s 3ms/step - loss: 0.0072 - accuracy: 1.0000\n",
            "Epoch 120/200\n",
            "11/11 [==============================] - 0s 4ms/step - loss: 0.0067 - accuracy: 1.0000\n",
            "Epoch 121/200\n",
            "11/11 [==============================] - 0s 3ms/step - loss: 0.0069 - accuracy: 1.0000\n",
            "Epoch 122/200\n",
            "11/11 [==============================] - 0s 3ms/step - loss: 0.0135 - accuracy: 1.0000\n",
            "Epoch 123/200\n",
            "11/11 [==============================] - 0s 3ms/step - loss: 0.0242 - accuracy: 1.0000\n",
            "Epoch 124/200\n",
            "11/11 [==============================] - 0s 3ms/step - loss: 0.0227 - accuracy: 1.0000\n",
            "Epoch 125/200\n",
            "11/11 [==============================] - 0s 3ms/step - loss: 0.0173 - accuracy: 1.0000\n",
            "Epoch 126/200\n",
            "11/11 [==============================] - 0s 3ms/step - loss: 0.0133 - accuracy: 1.0000\n",
            "Epoch 127/200\n",
            "11/11 [==============================] - 0s 3ms/step - loss: 0.0105 - accuracy: 1.0000\n",
            "Epoch 128/200\n",
            "11/11 [==============================] - 0s 3ms/step - loss: 0.0089 - accuracy: 1.0000\n",
            "Epoch 129/200\n",
            "11/11 [==============================] - 0s 3ms/step - loss: 0.0077 - accuracy: 1.0000\n",
            "Epoch 130/200\n",
            "11/11 [==============================] - 0s 3ms/step - loss: 0.0067 - accuracy: 1.0000\n",
            "Epoch 131/200\n",
            "11/11 [==============================] - 0s 2ms/step - loss: 0.0061 - accuracy: 1.0000\n",
            "Epoch 132/200\n",
            "11/11 [==============================] - 0s 3ms/step - loss: 0.0056 - accuracy: 1.0000\n",
            "Epoch 133/200\n",
            "11/11 [==============================] - 0s 2ms/step - loss: 0.0133 - accuracy: 0.9971\n",
            "Epoch 134/200\n",
            "11/11 [==============================] - 0s 4ms/step - loss: 0.1562 - accuracy: 0.9271\n",
            "Epoch 135/200\n",
            "11/11 [==============================] - 0s 3ms/step - loss: 0.1306 - accuracy: 0.9679\n",
            "Epoch 136/200\n",
            "11/11 [==============================] - 0s 4ms/step - loss: 0.0366 - accuracy: 1.0000\n",
            "Epoch 137/200\n",
            "11/11 [==============================] - 0s 2ms/step - loss: 0.0146 - accuracy: 1.0000\n",
            "Epoch 138/200\n",
            "11/11 [==============================] - 0s 2ms/step - loss: 0.0091 - accuracy: 1.0000\n",
            "Epoch 139/200\n",
            "11/11 [==============================] - 0s 4ms/step - loss: 0.0071 - accuracy: 1.0000\n",
            "Epoch 140/200\n",
            "11/11 [==============================] - 0s 3ms/step - loss: 0.0061 - accuracy: 1.0000\n",
            "Epoch 141/200\n",
            "11/11 [==============================] - 0s 3ms/step - loss: 0.0054 - accuracy: 1.0000\n",
            "Epoch 142/200\n",
            "11/11 [==============================] - 0s 3ms/step - loss: 0.0050 - accuracy: 1.0000\n",
            "Epoch 143/200\n",
            "11/11 [==============================] - 0s 3ms/step - loss: 0.0046 - accuracy: 1.0000\n",
            "Epoch 144/200\n",
            "11/11 [==============================] - 0s 2ms/step - loss: 0.2913 - accuracy: 0.9242\n",
            "Epoch 145/200\n",
            "11/11 [==============================] - 0s 3ms/step - loss: 4.7675 - accuracy: 0.4985\n",
            "Epoch 146/200\n",
            "11/11 [==============================] - 0s 2ms/step - loss: 5.2349 - accuracy: 0.4985\n",
            "Epoch 147/200\n",
            "11/11 [==============================] - 0s 2ms/step - loss: 2.7560 - accuracy: 0.5277\n",
            "Epoch 148/200\n",
            "11/11 [==============================] - 0s 2ms/step - loss: 0.5634 - accuracy: 0.7638\n",
            "Epoch 149/200\n",
            "11/11 [==============================] - 0s 2ms/step - loss: 0.0189 - accuracy: 1.0000\n",
            "Epoch 150/200\n",
            "11/11 [==============================] - 0s 3ms/step - loss: 0.0060 - accuracy: 1.0000\n",
            "Epoch 151/200\n",
            "11/11 [==============================] - 0s 3ms/step - loss: 0.0070 - accuracy: 1.0000\n",
            "Epoch 152/200\n",
            "11/11 [==============================] - 0s 2ms/step - loss: 0.0088 - accuracy: 1.0000\n",
            "Epoch 153/200\n",
            "11/11 [==============================] - 0s 2ms/step - loss: 0.0089 - accuracy: 1.0000\n",
            "Epoch 154/200\n",
            "11/11 [==============================] - 0s 3ms/step - loss: 0.0084 - accuracy: 1.0000\n",
            "Epoch 155/200\n",
            "11/11 [==============================] - 0s 3ms/step - loss: 0.0077 - accuracy: 1.0000\n",
            "Epoch 156/200\n",
            "11/11 [==============================] - 0s 2ms/step - loss: 0.0071 - accuracy: 1.0000\n",
            "Epoch 157/200\n",
            "11/11 [==============================] - 0s 2ms/step - loss: 0.0065 - accuracy: 1.0000\n",
            "Epoch 158/200\n",
            "11/11 [==============================] - 0s 2ms/step - loss: 0.0060 - accuracy: 1.0000\n",
            "Epoch 159/200\n",
            "11/11 [==============================] - 0s 2ms/step - loss: 0.0056 - accuracy: 1.0000\n",
            "Epoch 160/200\n",
            "11/11 [==============================] - 0s 2ms/step - loss: 0.0053 - accuracy: 1.0000\n",
            "Epoch 161/200\n",
            "11/11 [==============================] - 0s 3ms/step - loss: 0.0050 - accuracy: 1.0000\n",
            "Epoch 162/200\n",
            "11/11 [==============================] - 0s 2ms/step - loss: 0.0047 - accuracy: 1.0000\n",
            "Epoch 163/200\n",
            "11/11 [==============================] - 0s 3ms/step - loss: 0.0045 - accuracy: 1.0000\n",
            "Epoch 164/200\n",
            "11/11 [==============================] - 0s 3ms/step - loss: 0.0043 - accuracy: 1.0000\n",
            "Epoch 165/200\n",
            "11/11 [==============================] - 0s 3ms/step - loss: 0.0041 - accuracy: 1.0000\n",
            "Epoch 166/200\n",
            "11/11 [==============================] - 0s 2ms/step - loss: 0.0039 - accuracy: 1.0000\n",
            "Epoch 167/200\n",
            "11/11 [==============================] - 0s 2ms/step - loss: 0.0048 - accuracy: 1.0000\n",
            "Epoch 168/200\n",
            "11/11 [==============================] - 0s 3ms/step - loss: 0.0069 - accuracy: 1.0000\n",
            "Epoch 169/200\n",
            "11/11 [==============================] - 0s 2ms/step - loss: 0.0082 - accuracy: 1.0000\n",
            "Epoch 170/200\n",
            "11/11 [==============================] - 0s 2ms/step - loss: 0.0081 - accuracy: 1.0000\n",
            "Epoch 171/200\n",
            "11/11 [==============================] - 0s 2ms/step - loss: 0.0074 - accuracy: 1.0000\n",
            "Epoch 172/200\n",
            "11/11 [==============================] - 0s 3ms/step - loss: 0.0068 - accuracy: 1.0000\n",
            "Epoch 173/200\n",
            "11/11 [==============================] - 0s 2ms/step - loss: 0.0062 - accuracy: 1.0000\n",
            "Epoch 174/200\n",
            "11/11 [==============================] - 0s 3ms/step - loss: 0.0057 - accuracy: 1.0000\n",
            "Epoch 175/200\n",
            "11/11 [==============================] - 0s 2ms/step - loss: 0.0052 - accuracy: 1.0000\n",
            "Epoch 176/200\n",
            "11/11 [==============================] - 0s 2ms/step - loss: 0.0049 - accuracy: 1.0000\n",
            "Epoch 177/200\n",
            "11/11 [==============================] - 0s 3ms/step - loss: 0.0046 - accuracy: 1.0000\n",
            "Epoch 178/200\n",
            "11/11 [==============================] - 0s 3ms/step - loss: 0.0043 - accuracy: 1.0000\n",
            "Epoch 179/200\n",
            "11/11 [==============================] - 0s 3ms/step - loss: 0.0041 - accuracy: 1.0000\n",
            "Epoch 180/200\n",
            "11/11 [==============================] - 0s 3ms/step - loss: 0.0039 - accuracy: 1.0000\n",
            "Epoch 181/200\n",
            "11/11 [==============================] - 0s 3ms/step - loss: 0.0037 - accuracy: 1.0000\n",
            "Epoch 182/200\n",
            "11/11 [==============================] - 0s 3ms/step - loss: 0.0035 - accuracy: 1.0000\n",
            "Epoch 183/200\n",
            "11/11 [==============================] - 0s 3ms/step - loss: 0.0034 - accuracy: 1.0000\n",
            "Epoch 184/200\n",
            "11/11 [==============================] - 0s 3ms/step - loss: 0.0711 - accuracy: 0.9650\n",
            "Epoch 185/200\n",
            "11/11 [==============================] - 0s 3ms/step - loss: 0.8525 - accuracy: 0.6501\n",
            "Epoch 186/200\n",
            "11/11 [==============================] - 0s 4ms/step - loss: 0.3574 - accuracy: 0.8222\n",
            "Epoch 187/200\n",
            "11/11 [==============================] - 0s 3ms/step - loss: 0.0313 - accuracy: 1.0000\n",
            "Epoch 188/200\n",
            "11/11 [==============================] - 0s 3ms/step - loss: 0.0065 - accuracy: 1.0000\n",
            "Epoch 189/200\n",
            "11/11 [==============================] - 0s 3ms/step - loss: 0.0041 - accuracy: 1.0000\n",
            "Epoch 190/200\n",
            "11/11 [==============================] - 0s 2ms/step - loss: 0.0035 - accuracy: 1.0000\n",
            "Epoch 191/200\n",
            "11/11 [==============================] - 0s 3ms/step - loss: 0.0032 - accuracy: 1.0000\n",
            "Epoch 192/200\n",
            "11/11 [==============================] - 0s 3ms/step - loss: 0.0247 - accuracy: 0.9971\n",
            "Epoch 193/200\n",
            "11/11 [==============================] - 0s 3ms/step - loss: 0.1346 - accuracy: 0.9475\n",
            "Epoch 194/200\n",
            "11/11 [==============================] - 0s 3ms/step - loss: 0.1037 - accuracy: 0.9679\n",
            "Epoch 195/200\n",
            "11/11 [==============================] - 0s 4ms/step - loss: 0.0312 - accuracy: 1.0000\n",
            "Epoch 196/200\n",
            "11/11 [==============================] - 0s 3ms/step - loss: 0.0144 - accuracy: 1.0000\n",
            "Epoch 197/200\n",
            "11/11 [==============================] - 0s 3ms/step - loss: 0.0096 - accuracy: 1.0000\n",
            "Epoch 198/200\n",
            "11/11 [==============================] - 0s 3ms/step - loss: 0.0074 - accuracy: 1.0000\n",
            "Epoch 199/200\n",
            "11/11 [==============================] - 0s 3ms/step - loss: 0.0064 - accuracy: 1.0000\n",
            "Epoch 200/200\n",
            "11/11 [==============================] - 0s 3ms/step - loss: 0.0056 - accuracy: 1.0000\n",
            "Predicted   0   1\n",
            "Actual           \n",
            "0          72   0\n",
            "1           0  75\n"
          ],
          "name": "stdout"
        }
      ]
    },
    {
      "cell_type": "code",
      "metadata": {
        "id": "6S5a4-cashbB"
      },
      "source": [
        "# print(y_pred.ravel())"
      ],
      "execution_count": null,
      "outputs": []
    },
    {
      "cell_type": "code",
      "metadata": {
        "id": "iA2XIpGOyipM"
      },
      "source": [
        "Grain=[]; Ind=[]; Size=[]\n",
        "k=0\n",
        "for item in y_pred:\n",
        "  if(item == 0):\n",
        "    Ind.append(k)\n",
        "  k=k+1\n",
        "\n",
        "df = df.reset_index(drop=True)\n",
        "\n",
        "df_size = df.drop(df.index[Ind])\n",
        "\n",
        "Width=np.array(df_size['Width'])\n",
        "\n",
        "# print(Width)\n",
        "\n",
        "# print(df_size.shape)"
      ],
      "execution_count": null,
      "outputs": []
    },
    {
      "cell_type": "code",
      "metadata": {
        "id": "06lkGMZo9uKV"
      },
      "source": [
        "# pd.set_option('display.max_rows', None)\n",
        "# print(df_size)"
      ],
      "execution_count": null,
      "outputs": []
    },
    {
      "cell_type": "code",
      "metadata": {
        "id": "EIqWqspygJtw",
        "colab": {
          "base_uri": "https://localhost:8080/",
          "height": 252
        },
        "outputId": "9437d800-ec8e-4b6e-bd17-51e6d92b4fb5"
      },
      "source": [
        "df.head()"
      ],
      "execution_count": null,
      "outputs": [
        {
          "output_type": "execute_result",
          "data": {
            "text/html": [
              "<div>\n",
              "<style scoped>\n",
              "    .dataframe tbody tr th:only-of-type {\n",
              "        vertical-align: middle;\n",
              "    }\n",
              "\n",
              "    .dataframe tbody tr th {\n",
              "        vertical-align: top;\n",
              "    }\n",
              "\n",
              "    .dataframe thead th {\n",
              "        text-align: right;\n",
              "    }\n",
              "</style>\n",
              "<table border=\"1\" class=\"dataframe\">\n",
              "  <thead>\n",
              "    <tr style=\"text-align: right;\">\n",
              "      <th></th>\n",
              "      <th>Width</th>\n",
              "      <th>0</th>\n",
              "      <th>1</th>\n",
              "      <th>2</th>\n",
              "      <th>3</th>\n",
              "      <th>4</th>\n",
              "      <th>5</th>\n",
              "      <th>6</th>\n",
              "      <th>7</th>\n",
              "      <th>8</th>\n",
              "      <th>9</th>\n",
              "      <th>10</th>\n",
              "      <th>11</th>\n",
              "      <th>12</th>\n",
              "      <th>13</th>\n",
              "      <th>14</th>\n",
              "      <th>15</th>\n",
              "      <th>16</th>\n",
              "      <th>17</th>\n",
              "      <th>18</th>\n",
              "      <th>19</th>\n",
              "      <th>20</th>\n",
              "      <th>21</th>\n",
              "      <th>22</th>\n",
              "      <th>23</th>\n",
              "      <th>24</th>\n",
              "      <th>25</th>\n",
              "      <th>26</th>\n",
              "      <th>27</th>\n",
              "      <th>28</th>\n",
              "      <th>29</th>\n",
              "      <th>30</th>\n",
              "      <th>31</th>\n",
              "      <th>32</th>\n",
              "      <th>33</th>\n",
              "      <th>34</th>\n",
              "      <th>35</th>\n",
              "      <th>36</th>\n",
              "      <th>37</th>\n",
              "      <th>38</th>\n",
              "      <th>...</th>\n",
              "      <th>744</th>\n",
              "      <th>745</th>\n",
              "      <th>746</th>\n",
              "      <th>747</th>\n",
              "      <th>748</th>\n",
              "      <th>749</th>\n",
              "      <th>750</th>\n",
              "      <th>751</th>\n",
              "      <th>752</th>\n",
              "      <th>753</th>\n",
              "      <th>754</th>\n",
              "      <th>755</th>\n",
              "      <th>756</th>\n",
              "      <th>757</th>\n",
              "      <th>758</th>\n",
              "      <th>759</th>\n",
              "      <th>760</th>\n",
              "      <th>761</th>\n",
              "      <th>762</th>\n",
              "      <th>763</th>\n",
              "      <th>764</th>\n",
              "      <th>765</th>\n",
              "      <th>766</th>\n",
              "      <th>767</th>\n",
              "      <th>768</th>\n",
              "      <th>769</th>\n",
              "      <th>770</th>\n",
              "      <th>771</th>\n",
              "      <th>772</th>\n",
              "      <th>773</th>\n",
              "      <th>774</th>\n",
              "      <th>775</th>\n",
              "      <th>776</th>\n",
              "      <th>777</th>\n",
              "      <th>778</th>\n",
              "      <th>779</th>\n",
              "      <th>780</th>\n",
              "      <th>781</th>\n",
              "      <th>782</th>\n",
              "      <th>783</th>\n",
              "    </tr>\n",
              "  </thead>\n",
              "  <tbody>\n",
              "    <tr>\n",
              "      <th>0</th>\n",
              "      <td>185</td>\n",
              "      <td>21.265011</td>\n",
              "      <td>19.509159</td>\n",
              "      <td>26.137560</td>\n",
              "      <td>38.287392</td>\n",
              "      <td>66.783897</td>\n",
              "      <td>81.217972</td>\n",
              "      <td>82.228775</td>\n",
              "      <td>80.804443</td>\n",
              "      <td>80.220009</td>\n",
              "      <td>77.606369</td>\n",
              "      <td>75.204674</td>\n",
              "      <td>74.775391</td>\n",
              "      <td>72.728500</td>\n",
              "      <td>69.286980</td>\n",
              "      <td>67.433655</td>\n",
              "      <td>77.340858</td>\n",
              "      <td>80.805817</td>\n",
              "      <td>84.028015</td>\n",
              "      <td>84.376480</td>\n",
              "      <td>85.834824</td>\n",
              "      <td>90.715408</td>\n",
              "      <td>89.097122</td>\n",
              "      <td>90.602020</td>\n",
              "      <td>77.465538</td>\n",
              "      <td>46.323505</td>\n",
              "      <td>37.027023</td>\n",
              "      <td>30.434595</td>\n",
              "      <td>85.547760</td>\n",
              "      <td>31.023140</td>\n",
              "      <td>28.835791</td>\n",
              "      <td>37.017849</td>\n",
              "      <td>58.238132</td>\n",
              "      <td>71.437218</td>\n",
              "      <td>77.399582</td>\n",
              "      <td>82.928085</td>\n",
              "      <td>78.021034</td>\n",
              "      <td>75.005577</td>\n",
              "      <td>78.071991</td>\n",
              "      <td>72.169991</td>\n",
              "      <td>...</td>\n",
              "      <td>59.809525</td>\n",
              "      <td>60.516373</td>\n",
              "      <td>63.323009</td>\n",
              "      <td>67.847244</td>\n",
              "      <td>79.814171</td>\n",
              "      <td>81.091019</td>\n",
              "      <td>78.803154</td>\n",
              "      <td>75.640083</td>\n",
              "      <td>74.572975</td>\n",
              "      <td>72.915413</td>\n",
              "      <td>62.398510</td>\n",
              "      <td>38.782089</td>\n",
              "      <td>95.622612</td>\n",
              "      <td>90.869423</td>\n",
              "      <td>89.735428</td>\n",
              "      <td>88.634354</td>\n",
              "      <td>89.601830</td>\n",
              "      <td>89.774872</td>\n",
              "      <td>95.360413</td>\n",
              "      <td>98.030853</td>\n",
              "      <td>86.398567</td>\n",
              "      <td>85.811859</td>\n",
              "      <td>86.295273</td>\n",
              "      <td>89.411301</td>\n",
              "      <td>104.432510</td>\n",
              "      <td>113.348450</td>\n",
              "      <td>90.545799</td>\n",
              "      <td>64.515175</td>\n",
              "      <td>46.428658</td>\n",
              "      <td>54.526718</td>\n",
              "      <td>59.668663</td>\n",
              "      <td>72.707146</td>\n",
              "      <td>82.325668</td>\n",
              "      <td>78.983665</td>\n",
              "      <td>76.230705</td>\n",
              "      <td>74.118454</td>\n",
              "      <td>73.254288</td>\n",
              "      <td>69.295372</td>\n",
              "      <td>48.479618</td>\n",
              "      <td>45.377094</td>\n",
              "    </tr>\n",
              "    <tr>\n",
              "      <th>1</th>\n",
              "      <td>150</td>\n",
              "      <td>41.017246</td>\n",
              "      <td>59.856709</td>\n",
              "      <td>98.864532</td>\n",
              "      <td>127.018845</td>\n",
              "      <td>136.791306</td>\n",
              "      <td>142.623108</td>\n",
              "      <td>152.653152</td>\n",
              "      <td>178.524811</td>\n",
              "      <td>175.439835</td>\n",
              "      <td>173.187744</td>\n",
              "      <td>117.270584</td>\n",
              "      <td>104.097954</td>\n",
              "      <td>110.848183</td>\n",
              "      <td>113.696884</td>\n",
              "      <td>116.929085</td>\n",
              "      <td>117.441780</td>\n",
              "      <td>115.256706</td>\n",
              "      <td>114.307373</td>\n",
              "      <td>115.019379</td>\n",
              "      <td>121.012985</td>\n",
              "      <td>119.028984</td>\n",
              "      <td>124.956802</td>\n",
              "      <td>127.439468</td>\n",
              "      <td>127.672356</td>\n",
              "      <td>110.408363</td>\n",
              "      <td>97.307915</td>\n",
              "      <td>98.009064</td>\n",
              "      <td>99.918411</td>\n",
              "      <td>57.375645</td>\n",
              "      <td>105.003738</td>\n",
              "      <td>126.809074</td>\n",
              "      <td>131.487473</td>\n",
              "      <td>137.919113</td>\n",
              "      <td>141.824524</td>\n",
              "      <td>152.313599</td>\n",
              "      <td>173.716614</td>\n",
              "      <td>185.710754</td>\n",
              "      <td>188.885864</td>\n",
              "      <td>172.815094</td>\n",
              "      <td>...</td>\n",
              "      <td>114.572624</td>\n",
              "      <td>119.777245</td>\n",
              "      <td>127.737427</td>\n",
              "      <td>130.573700</td>\n",
              "      <td>140.842484</td>\n",
              "      <td>145.337418</td>\n",
              "      <td>140.561783</td>\n",
              "      <td>133.516083</td>\n",
              "      <td>117.162842</td>\n",
              "      <td>102.947037</td>\n",
              "      <td>114.055290</td>\n",
              "      <td>126.673592</td>\n",
              "      <td>48.491913</td>\n",
              "      <td>59.928711</td>\n",
              "      <td>58.801067</td>\n",
              "      <td>53.385601</td>\n",
              "      <td>55.266129</td>\n",
              "      <td>76.068260</td>\n",
              "      <td>99.970848</td>\n",
              "      <td>96.730316</td>\n",
              "      <td>91.716980</td>\n",
              "      <td>86.769073</td>\n",
              "      <td>93.418312</td>\n",
              "      <td>105.281059</td>\n",
              "      <td>110.380089</td>\n",
              "      <td>109.783104</td>\n",
              "      <td>112.833252</td>\n",
              "      <td>118.751823</td>\n",
              "      <td>122.487289</td>\n",
              "      <td>122.963730</td>\n",
              "      <td>123.935822</td>\n",
              "      <td>127.547913</td>\n",
              "      <td>132.587189</td>\n",
              "      <td>136.406586</td>\n",
              "      <td>138.574585</td>\n",
              "      <td>141.545593</td>\n",
              "      <td>142.508972</td>\n",
              "      <td>131.225769</td>\n",
              "      <td>102.125679</td>\n",
              "      <td>94.228439</td>\n",
              "    </tr>\n",
              "    <tr>\n",
              "      <th>2</th>\n",
              "      <td>119</td>\n",
              "      <td>98.816612</td>\n",
              "      <td>100.214539</td>\n",
              "      <td>97.062279</td>\n",
              "      <td>87.020760</td>\n",
              "      <td>86.224915</td>\n",
              "      <td>89.768158</td>\n",
              "      <td>95.865059</td>\n",
              "      <td>101.885826</td>\n",
              "      <td>106.837364</td>\n",
              "      <td>108.456749</td>\n",
              "      <td>108.062286</td>\n",
              "      <td>80.325256</td>\n",
              "      <td>40.318340</td>\n",
              "      <td>47.550175</td>\n",
              "      <td>51.698963</td>\n",
              "      <td>53.373707</td>\n",
              "      <td>54.653980</td>\n",
              "      <td>54.432526</td>\n",
              "      <td>52.456749</td>\n",
              "      <td>55.425610</td>\n",
              "      <td>50.757790</td>\n",
              "      <td>51.484428</td>\n",
              "      <td>44.546715</td>\n",
              "      <td>69.958481</td>\n",
              "      <td>109.972321</td>\n",
              "      <td>116.685127</td>\n",
              "      <td>118.816620</td>\n",
              "      <td>117.709335</td>\n",
              "      <td>95.224915</td>\n",
              "      <td>96.290665</td>\n",
              "      <td>94.903122</td>\n",
              "      <td>87.145325</td>\n",
              "      <td>86.141876</td>\n",
              "      <td>89.366783</td>\n",
              "      <td>96.550171</td>\n",
              "      <td>104.093430</td>\n",
              "      <td>99.910042</td>\n",
              "      <td>93.501732</td>\n",
              "      <td>71.979240</td>\n",
              "      <td>...</td>\n",
              "      <td>82.910034</td>\n",
              "      <td>84.280281</td>\n",
              "      <td>88.166092</td>\n",
              "      <td>100.477509</td>\n",
              "      <td>103.737022</td>\n",
              "      <td>105.321808</td>\n",
              "      <td>95.775093</td>\n",
              "      <td>56.467125</td>\n",
              "      <td>38.740486</td>\n",
              "      <td>46.394463</td>\n",
              "      <td>42.480965</td>\n",
              "      <td>48.564011</td>\n",
              "      <td>219.166077</td>\n",
              "      <td>204.038071</td>\n",
              "      <td>185.391006</td>\n",
              "      <td>181.051910</td>\n",
              "      <td>187.505188</td>\n",
              "      <td>141.712814</td>\n",
              "      <td>88.380630</td>\n",
              "      <td>106.609001</td>\n",
              "      <td>104.128021</td>\n",
              "      <td>100.633224</td>\n",
              "      <td>100.788925</td>\n",
              "      <td>100.207611</td>\n",
              "      <td>101.124573</td>\n",
              "      <td>98.217987</td>\n",
              "      <td>93.681656</td>\n",
              "      <td>88.138412</td>\n",
              "      <td>86.294121</td>\n",
              "      <td>84.508652</td>\n",
              "      <td>93.169556</td>\n",
              "      <td>102.906578</td>\n",
              "      <td>107.861588</td>\n",
              "      <td>108.477509</td>\n",
              "      <td>95.567467</td>\n",
              "      <td>55.595161</td>\n",
              "      <td>38.013840</td>\n",
              "      <td>41.944637</td>\n",
              "      <td>43.505188</td>\n",
              "      <td>54.626297</td>\n",
              "    </tr>\n",
              "    <tr>\n",
              "      <th>3</th>\n",
              "      <td>195</td>\n",
              "      <td>46.351986</td>\n",
              "      <td>44.446400</td>\n",
              "      <td>45.705040</td>\n",
              "      <td>37.589855</td>\n",
              "      <td>36.727997</td>\n",
              "      <td>48.421623</td>\n",
              "      <td>76.307411</td>\n",
              "      <td>81.242897</td>\n",
              "      <td>80.739944</td>\n",
              "      <td>78.935760</td>\n",
              "      <td>79.347229</td>\n",
              "      <td>85.567863</td>\n",
              "      <td>91.244240</td>\n",
              "      <td>87.952568</td>\n",
              "      <td>85.748940</td>\n",
              "      <td>84.796089</td>\n",
              "      <td>81.730743</td>\n",
              "      <td>83.459297</td>\n",
              "      <td>87.530952</td>\n",
              "      <td>87.412552</td>\n",
              "      <td>90.966026</td>\n",
              "      <td>94.916435</td>\n",
              "      <td>99.475853</td>\n",
              "      <td>102.587547</td>\n",
              "      <td>104.892372</td>\n",
              "      <td>108.324951</td>\n",
              "      <td>115.230171</td>\n",
              "      <td>123.220016</td>\n",
              "      <td>47.826385</td>\n",
              "      <td>48.267670</td>\n",
              "      <td>43.410126</td>\n",
              "      <td>38.094364</td>\n",
              "      <td>34.073532</td>\n",
              "      <td>61.938839</td>\n",
              "      <td>85.674400</td>\n",
              "      <td>87.074326</td>\n",
              "      <td>82.547012</td>\n",
              "      <td>79.716980</td>\n",
              "      <td>77.859146</td>\n",
              "      <td>...</td>\n",
              "      <td>97.744621</td>\n",
              "      <td>104.732506</td>\n",
              "      <td>96.193481</td>\n",
              "      <td>101.134712</td>\n",
              "      <td>101.107170</td>\n",
              "      <td>97.888710</td>\n",
              "      <td>81.435745</td>\n",
              "      <td>62.375393</td>\n",
              "      <td>59.149696</td>\n",
              "      <td>60.196060</td>\n",
              "      <td>68.497574</td>\n",
              "      <td>84.430824</td>\n",
              "      <td>110.807030</td>\n",
              "      <td>102.770790</td>\n",
              "      <td>90.167976</td>\n",
              "      <td>84.460938</td>\n",
              "      <td>75.843002</td>\n",
              "      <td>69.646759</td>\n",
              "      <td>66.263832</td>\n",
              "      <td>58.528492</td>\n",
              "      <td>61.636353</td>\n",
              "      <td>65.515327</td>\n",
              "      <td>62.029724</td>\n",
              "      <td>60.089787</td>\n",
              "      <td>58.218044</td>\n",
              "      <td>58.600376</td>\n",
              "      <td>59.888424</td>\n",
              "      <td>73.570099</td>\n",
              "      <td>101.113098</td>\n",
              "      <td>104.629349</td>\n",
              "      <td>96.619247</td>\n",
              "      <td>95.363297</td>\n",
              "      <td>102.828201</td>\n",
              "      <td>112.420990</td>\n",
              "      <td>117.660294</td>\n",
              "      <td>111.883926</td>\n",
              "      <td>93.690918</td>\n",
              "      <td>63.540550</td>\n",
              "      <td>63.035007</td>\n",
              "      <td>80.690704</td>\n",
              "    </tr>\n",
              "    <tr>\n",
              "      <th>4</th>\n",
              "      <td>194</td>\n",
              "      <td>83.578583</td>\n",
              "      <td>81.590500</td>\n",
              "      <td>76.761292</td>\n",
              "      <td>71.965027</td>\n",
              "      <td>77.507172</td>\n",
              "      <td>89.694016</td>\n",
              "      <td>89.975128</td>\n",
              "      <td>84.144958</td>\n",
              "      <td>87.347633</td>\n",
              "      <td>82.389191</td>\n",
              "      <td>58.009243</td>\n",
              "      <td>43.565842</td>\n",
              "      <td>43.078217</td>\n",
              "      <td>43.898499</td>\n",
              "      <td>34.682640</td>\n",
              "      <td>17.115208</td>\n",
              "      <td>21.755873</td>\n",
              "      <td>50.718353</td>\n",
              "      <td>73.767029</td>\n",
              "      <td>79.920502</td>\n",
              "      <td>83.481865</td>\n",
              "      <td>85.368149</td>\n",
              "      <td>86.109993</td>\n",
              "      <td>95.705276</td>\n",
              "      <td>93.618973</td>\n",
              "      <td>70.123810</td>\n",
              "      <td>48.116165</td>\n",
              "      <td>12.285577</td>\n",
              "      <td>81.709312</td>\n",
              "      <td>80.217339</td>\n",
              "      <td>75.438934</td>\n",
              "      <td>73.120316</td>\n",
              "      <td>77.205109</td>\n",
              "      <td>87.846207</td>\n",
              "      <td>84.935905</td>\n",
              "      <td>81.298538</td>\n",
              "      <td>87.902214</td>\n",
              "      <td>89.625465</td>\n",
              "      <td>77.457642</td>\n",
              "      <td>...</td>\n",
              "      <td>65.684013</td>\n",
              "      <td>66.300240</td>\n",
              "      <td>69.477409</td>\n",
              "      <td>72.426720</td>\n",
              "      <td>67.710693</td>\n",
              "      <td>67.621208</td>\n",
              "      <td>57.410881</td>\n",
              "      <td>50.086189</td>\n",
              "      <td>50.483681</td>\n",
              "      <td>49.647457</td>\n",
              "      <td>44.330853</td>\n",
              "      <td>35.804546</td>\n",
              "      <td>144.410553</td>\n",
              "      <td>147.677216</td>\n",
              "      <td>142.897751</td>\n",
              "      <td>142.342316</td>\n",
              "      <td>140.133484</td>\n",
              "      <td>139.517044</td>\n",
              "      <td>142.964386</td>\n",
              "      <td>149.896255</td>\n",
              "      <td>156.003708</td>\n",
              "      <td>136.324036</td>\n",
              "      <td>105.232117</td>\n",
              "      <td>91.168343</td>\n",
              "      <td>75.869164</td>\n",
              "      <td>70.840996</td>\n",
              "      <td>67.453178</td>\n",
              "      <td>64.441597</td>\n",
              "      <td>62.683487</td>\n",
              "      <td>63.993084</td>\n",
              "      <td>66.353592</td>\n",
              "      <td>69.175362</td>\n",
              "      <td>67.430969</td>\n",
              "      <td>65.186943</td>\n",
              "      <td>57.698261</td>\n",
              "      <td>50.304703</td>\n",
              "      <td>48.281319</td>\n",
              "      <td>38.966412</td>\n",
              "      <td>22.459877</td>\n",
              "      <td>7.732277</td>\n",
              "    </tr>\n",
              "  </tbody>\n",
              "</table>\n",
              "<p>5 rows × 785 columns</p>\n",
              "</div>"
            ],
            "text/plain": [
              "   Width          0           1  ...         781         782        783\n",
              "0    185  21.265011   19.509159  ...   69.295372   48.479618  45.377094\n",
              "1    150  41.017246   59.856709  ...  131.225769  102.125679  94.228439\n",
              "2    119  98.816612  100.214539  ...   41.944637   43.505188  54.626297\n",
              "3    195  46.351986   44.446400  ...   63.540550   63.035007  80.690704\n",
              "4    194  83.578583   81.590500  ...   38.966412   22.459877   7.732277\n",
              "\n",
              "[5 rows x 785 columns]"
            ]
          },
          "metadata": {
            "tags": []
          },
          "execution_count": 21
        }
      ]
    },
    {
      "cell_type": "code",
      "metadata": {
        "id": "ciUjF5tmdqLC",
        "colab": {
          "base_uri": "https://localhost:8080/",
          "height": 282
        },
        "outputId": "c726f496-7086-4fa0-d762-112dba664b52"
      },
      "source": [
        "Size=28\n",
        "qual_img=7\n",
        "L = Width[qual_img]\n",
        "data=np.array(df_size.drop('Width',axis=1).iloc[qual_img]).reshape(Size,Size)\n",
        "img = Image.fromarray(data.astype('uint8'), mode='L')\n",
        "img=np.float32(img)\n",
        "img28=cv2.resize(img,(Size,Size), interpolation = cv2.INTER_AREA)\n",
        "Foto=np.array(img28).reshape(28,28)\n",
        "plt.imshow(Foto, cmap = \"gray\")"
      ],
      "execution_count": null,
      "outputs": [
        {
          "output_type": "execute_result",
          "data": {
            "text/plain": [
              "<matplotlib.image.AxesImage at 0x7f637ef08160>"
            ]
          },
          "metadata": {
            "tags": []
          },
          "execution_count": 22
        },
        {
          "output_type": "display_data",
          "data": {
            "image/png": "[encoded data removed]",
            "text/plain": [
              "<Figure size 432x288 with 1 Axes>"
            ]
          },
          "metadata": {
            "tags": [],
            "needs_background": "light"
          }
        }
      ]
    },
    {
      "cell_type": "code",
      "metadata": {
        "id": "V-MTA4fXg2W0"
      },
      "source": [
        "mean_value = np.mean(img)\n",
        "img_new = img.copy()"
      ],
      "execution_count": null,
      "outputs": []
    },
    {
      "cell_type": "code",
      "metadata": {
        "id": "JbcfWPMdewq3",
        "colab": {
          "base_uri": "https://localhost:8080/",
          "height": 282
        },
        "outputId": "56122f58-6277-4fda-c0f3-aec089d5683d"
      },
      "source": [
        "'''\n",
        "for i in range(28):\n",
        "  for j in range(28):\n",
        "    if img[i,j] < mean_value:\n",
        "      img_new[i,j] = 255\n",
        "    else:\n",
        "      img_new[i,j] = 0\n",
        "'''\n",
        "img28=cv2.resize(img_new,(Size,Size), interpolation = cv2.INTER_AREA)\n",
        "Foto=np.array(img28).reshape(28,28)\n",
        "plt.imshow(Foto, cmap = \"gray\")\n"
      ],
      "execution_count": null,
      "outputs": [
        {
          "output_type": "execute_result",
          "data": {
            "text/plain": [
              "<matplotlib.image.AxesImage at 0x7f637e9c94e0>"
            ]
          },
          "metadata": {
            "tags": []
          },
          "execution_count": 24
        },
        {
          "output_type": "display_data",
          "data": {
            "image/png": "[encoded data removed]",
            "text/plain": [
              "<Figure size 432x288 with 1 Axes>"
            ]
          },
          "metadata": {
            "tags": [],
            "needs_background": "light"
          }
        }
      ]
    },
    {
      "cell_type": "code",
      "metadata": {
        "id": "spRNBSwifDqQ",
        "colab": {
          "base_uri": "https://localhost:8080/"
        },
        "outputId": "61a3a904-cd3e-4969-8cf0-a3617f66eea2"
      },
      "source": [
        "L = Width[qual_img]\n",
        "Area = np.sum(img_new) / (255.0 * 28 * 28)* L*L\n",
        "print(Area)"
      ],
      "execution_count": null,
      "outputs": [
        {
          "output_type": "stream",
          "text": [
            "3425.8170468187272\n"
          ],
          "name": "stdout"
        }
      ]
    },
    {
      "cell_type": "code",
      "metadata": {
        "id": "6GP_DXsWibOX"
      },
      "source": [
        "Area_All, Diameter_All=PSDArea(df_size) \n"
      ],
      "execution_count": null,
      "outputs": []
    },
    {
      "cell_type": "code",
      "metadata": {
        "id": "3ydbrnjewBYL",
        "colab": {
          "base_uri": "https://localhost:8080/"
        },
        "outputId": "2bddfe6d-dc37-4979-f36e-1a8224126c09"
      },
      "source": [
        "df_size.shape"
      ],
      "execution_count": null,
      "outputs": [
        {
          "output_type": "execute_result",
          "data": {
            "text/plain": [
              "(150, 785)"
            ]
          },
          "metadata": {
            "tags": []
          },
          "execution_count": 27
        }
      ]
    },
    {
      "cell_type": "code",
      "metadata": {
        "id": "3L3IfgxMs3dI",
        "colab": {
          "base_uri": "https://localhost:8080/"
        },
        "outputId": "5e7b1418-2b2d-44c0-c879-a9cc498219e3"
      },
      "source": [
        "# print(Area_All)\n",
        "print(Diameter_All)"
      ],
      "execution_count": null,
      "outputs": [
        {
          "output_type": "stream",
          "text": [
            "[1.585088629676293, 1.2869103867778027, 1.0774550386920005, 1.7634794522566408, 1.7397542372383736, 1.2050552603680136, 1.29919249891873, 1.1331494680357193, 1.512516243394313, 1.1854752971435893, 0.9992702397078779, 1.3733590600706513, 1.2594214550056733, 1.3253124193865229, 1.411331764843972, 1.52593484670065, 1.5283486038045824, 0.8181773854647396, 1.6592009667020158, 1.8119736761627019, 1.5070050963629775, 1.0788925765943418, 1.6538156912437545, 1.420408156961758, 1.4260634208295577, 1.5697657291120817, 1.0426281388830223, 1.5202094536976993, 1.7316954169864684, 1.652437111185523, 1.7213839561129372, 0.8838362275424637, 0.9462276414397899, 0.9360895650847904, 1.4882399276557912, 1.6081407249411852, 1.6708777738798315, 1.2218837329111802, 1.3914779579236944, 1.081474951422342, 1.0140753305336476, 1.297083749729528, 1.474551348228922, 1.772339904279168, 1.3466883929735725, 0.8120075645658011, 1.5637879804585268, 1.5659387936216265, 1.850233220389157, 1.3293922024703908, 1.7171044030941316, 1.098481239743152, 1.565887125139415, 1.6008074315451573, 1.6700299582945157, 1.3909276698165756, 1.1955016596466184, 1.375177982744564, 0.8913062761645945, 1.7211345054825442, 1.6055260218251899, 1.2777784482635899, 1.3374436784602772, 1.3671084507569227, 1.0652423227709218, 1.158314670872753, 1.5777951835318402, 1.299157426113022, 1.423376093683649, 0.855667564434794, 1.712150549642977, 1.0030388852255956, 1.6304863829427352, 1.4571893785043841, 0.9292584367336201, 1.6071870015049186, 1.3606762992081003, 1.6897098607086396, 1.5738785887625606, 1.4288787072719893, 1.6630982861516004, 1.728136611937081, 1.7130439041051662, 1.2208150432829288, 1.130743844030981, 0.9373680144794702, 1.2572250138096335, 1.317558985521923, 0.9732018596281543, 1.2349093108898122, 0.9698056557598252, 1.7243175208337242, 1.1784627800467802, 1.2177116908748056, 1.0725889086048508, 1.0043290552622761, 1.4085423736155425, 1.5976522763875252, 1.07410955732419, 1.1739052496980034, 1.4821644744320333, 1.6188212327138436, 0.9544818327065054, 1.3368249016930327, 1.2685922870987159, 1.1118075174804605, 1.2023063824481781, 1.3133680204568483, 1.5607654124419048, 1.3688019612010522, 1.4273477535756471, 1.2353474366032413, 1.3115306332289045, 1.7078684396709678, 1.3372438342397777, 1.5046171496862526, 1.3335698975278392, 1.0738314225402679, 1.1192828840460955, 1.091627250098969, 1.435608637797992, 0.9728632531352773, 1.5957688796044753, 1.702207943103845, 1.3623109121046273, 1.108550692859305, 0.9048268615529547, 1.13251312181283, 1.4950491033680506, 1.0002150950903927, 1.215042813122399, 1.5615023986797163, 0.79754916399364, 1.5748680631528966, 1.5869405284614069, 1.392552781933632, 1.2763127241028802, 1.9439224567105404, 1.193813013337031, 1.2706015082317617, 1.5621200590758342, 1.5790884240584568, 1.2732882821171885, 1.1786969797492983, 1.2441190270659075, 0.8275031755349546, 1.8653623368092902, 1.3209830991566787, 1.6129919710503666, 1.7334055214014714]\n"
          ],
          "name": "stdout"
        }
      ]
    },
    {
      "cell_type": "code",
      "metadata": {
        "id": "oeLlypq5gbFa"
      },
      "source": [
        ""
      ],
      "execution_count": null,
      "outputs": []
    },
    {
      "cell_type": "code",
      "metadata": {
        "id": "YJFWGVQJLwRo",
        "colab": {
          "base_uri": "https://localhost:8080/"
        },
        "outputId": "15656a4d-1b3d-4d51-947e-1ed653e0c4d5"
      },
      "source": [
        "diam = Diameter_All.copy()\n",
        "PSD_value, Perc_value = PSD(diam)\n",
        "print(Perc_value)"
      ],
      "execution_count": null,
      "outputs": [
        {
          "output_type": "stream",
          "text": [
            "[ 0.          0.          0.          0.          0.          2.66666667\n",
            "  8.66666667 16.66666667 72.        ]\n"
          ],
          "name": "stdout"
        }
      ]
    },
    {
      "cell_type": "code",
      "metadata": {
        "id": "Zvked-F_kPwi",
        "colab": {
          "base_uri": "https://localhost:8080/"
        },
        "outputId": "8569b819-6c72-4c47-befe-ad2e7da3a2db"
      },
      "source": [
        "!git clone https://github.com/ucfilho/marquesgabi_out_2020\n",
        "%cd marquesgabi_out_2020\n",
        "PSD_imageJ = 'Areas_ImageJ.csv'\n",
        "PSD_new = pd.read_csv(PSD_imageJ)\n",
        "print(PSD_new.head(3))"
      ],
      "execution_count": null,
      "outputs": [
        {
          "output_type": "stream",
          "text": [
            "fatal: destination path 'marquesgabi_out_2020' already exists and is not an empty directory.\n",
            "/content/marquesgabi_fev_2020/marquesgabi_out_2020/Doutorado/marquesgabi_set_2020/Doutorado/Doutorado/marquesgabi_out_2020\n",
            "   Juntas   Area\n",
            "0       1  2.001\n",
            "1       2  0.820\n",
            "2       3  1.270\n"
          ],
          "name": "stdout"
        }
      ]
    },
    {
      "cell_type": "code",
      "metadata": {
        "id": "004Ki_RdzWqi"
      },
      "source": [
        "Area = np.array(PSD_new['Area'])\n",
        "diam_teste = []\n",
        "for A in Area:\n",
        "  diam_teste.append((4*A/np.pi)**0.5) \n",
        "\n",
        "Diam1 = [ (4*A/np.pi)**0.5 for A in Area]"
      ],
      "execution_count": null,
      "outputs": []
    },
    {
      "cell_type": "code",
      "metadata": {
        "id": "40Fdww7M1KSx",
        "colab": {
          "base_uri": "https://localhost:8080/"
        },
        "outputId": "d9518d80-a1f3-4a54-ea64-ca2b8cc0f83d"
      },
      "source": [
        "PSD_new, Perc_new = PSD(Diam1)  # imageJ\n",
        "print(Perc_new)\n",
        "print(Perc_value)"
      ],
      "execution_count": null,
      "outputs": [
        {
          "output_type": "stream",
          "text": [
            "[ 0.          0.          0.          0.          0.          4.21052632\n",
            " 10.52631579 23.15789474 62.10526316]\n",
            "[ 0.          0.          0.          0.          0.          2.66666667\n",
            "  8.66666667 16.66666667 72.        ]\n"
          ],
          "name": "stdout"
        }
      ]
    },
    {
      "cell_type": "code",
      "metadata": {
        "colab": {
          "base_uri": "https://localhost:8080/",
          "height": 282
        },
        "id": "oAuyxTmrmc9Y",
        "outputId": "a39e1151-c365-49d8-f1dc-553a0d021c68"
      },
      "source": [
        "plt.plot( Perc_value,Perc_new )"
      ],
      "execution_count": null,
      "outputs": [
        {
          "output_type": "execute_result",
          "data": {
            "text/plain": [
              "[<matplotlib.lines.Line2D at 0x7f637e9b3588>]"
            ]
          },
          "metadata": {
            "tags": []
          },
          "execution_count": 33
        },
        {
          "output_type": "display_data",
          "data": {
            "image/png": "[encoded data removed]",
            "text/plain": [
              "<Figure size 432x288 with 1 Axes>"
            ]
          },
          "metadata": {
            "tags": [],
            "needs_background": "light"
          }
        }
      ]
    },
    {
      "cell_type": "code",
      "metadata": {
        "colab": {
          "base_uri": "https://localhost:8080/",
          "height": 265
        },
        "id": "n1r49MHFvsPP",
        "outputId": "220e6df0-76ed-458f-8149-74c0e42f5227"
      },
      "source": [
        "PSD_comparison = pd.DataFrame({ 'CNN':Perc_value,'ImgJ':Perc_new})\n",
        "ax = PSD_comparison.plot.bar(rot=0)"
      ],
      "execution_count": null,
      "outputs": [
        {
          "output_type": "display_data",
          "data": {
            "image/png": "[encoded data removed]",
            "text/plain": [
              "<Figure size 432x288 with 1 Axes>"
            ]
          },
          "metadata": {
            "tags": [],
            "needs_background": "light"
          }
        }
      ]
    },
    {
      "cell_type": "code",
      "metadata": {
        "colab": {
          "base_uri": "https://localhost:8080/"
        },
        "id": "sW4TRqxc0Li-",
        "outputId": "47d4c526-5828-4fd7-d586-099e55aa3ee7"
      },
      "source": [
        "results = smf.ols('ImgJ ~ CNN', data=PSD_comparison).fit()\n",
        "print(results.summary())"
      ],
      "execution_count": null,
      "outputs": [
        {
          "output_type": "stream",
          "text": [
            "                            OLS Regression Results                            \n",
            "==============================================================================\n",
            "Dep. Variable:                   ImgJ   R-squared:                       0.980\n",
            "Model:                            OLS   Adj. R-squared:                  0.977\n",
            "Method:                 Least Squares   F-statistic:                     339.3\n",
            "Date:                Fri, 04 Dec 2020   Prob (F-statistic):           3.44e-07\n",
            "Time:                        14:46:34   Log-Likelihood:                -21.933\n",
            "No. Observations:                   9   AIC:                             47.87\n",
            "Df Residuals:                       7   BIC:                             48.26\n",
            "Df Model:                           1                                         \n",
            "Covariance Type:            nonrobust                                         \n",
            "==============================================================================\n",
            "                 coef    std err          t      P>|t|      [0.025      0.975]\n",
            "------------------------------------------------------------------------------\n",
            "Intercept      1.4638      1.170      1.251      0.251      -1.303       4.230\n",
            "CNN            0.8683      0.047     18.420      0.000       0.757       0.980\n",
            "==============================================================================\n",
            "Omnibus:                       15.750   Durbin-Watson:                   1.739\n",
            "Prob(Omnibus):                  0.000   Jarque-Bera (JB):                7.155\n",
            "Skew:                           1.878   Prob(JB):                       0.0279\n",
            "Kurtosis:                       5.231   Cond. No.                         27.8\n",
            "==============================================================================\n",
            "\n",
            "Warnings:\n",
            "[1] Standard Errors assume that the covariance matrix of the errors is correctly specified.\n"
          ],
          "name": "stdout"
        },
        {
          "output_type": "stream",
          "text": [
            "/usr/local/lib/python3.6/dist-packages/scipy/stats/stats.py:1535: UserWarning: kurtosistest only valid for n>=20 ... continuing anyway, n=9\n",
            "  \"anyway, n=%i\" % int(n))\n"
          ],
          "name": "stderr"
        }
      ]
    },
    {
      "cell_type": "code",
      "metadata": {
        "id": "Ctf4oExeyz1B",
        "colab": {
          "base_uri": "https://localhost:8080/",
          "height": 286
        },
        "outputId": "f210a8a7-b1fc-4dd3-ae52-f72c1cb9debe"
      },
      "source": [
        "#plt.plot(Diam)\n",
        "plt.plot(Diameter_All)"
      ],
      "execution_count": null,
      "outputs": [
        {
          "output_type": "execute_result",
          "data": {
            "text/plain": [
              "[<matplotlib.lines.Line2D at 0x7f637e7bfcc0>]"
            ]
          },
          "metadata": {
            "tags": []
          },
          "execution_count": 36
        },
        {
          "output_type": "display_data",
          "data": {
            "image/png": "[encoded data removed]",
            "text/plain": [
              "<Figure size 432x288 with 1 Axes>"
            ]
          },
          "metadata": {
            "tags": [],
            "needs_background": "light"
          }
        }
      ]
    },
    {
      "cell_type": "code",
      "metadata": {
        "id": "WKwv70Nty2jF",
        "colab": {
          "base_uri": "https://localhost:8080/",
          "height": 282
        },
        "outputId": "3dc4376d-133a-4054-c747-f3bb018da4d6"
      },
      "source": [
        "plt.plot(Diam1)"
      ],
      "execution_count": null,
      "outputs": [
        {
          "output_type": "execute_result",
          "data": {
            "text/plain": [
              "[<matplotlib.lines.Line2D at 0x7f637e724470>]"
            ]
          },
          "metadata": {
            "tags": []
          },
          "execution_count": 37
        },
        {
          "output_type": "display_data",
          "data": {
            "image/png": "[encoded data removed]",
            "text/plain": [
              "<Figure size 432x288 with 1 Axes>"
            ]
          },
          "metadata": {
            "tags": [],
            "needs_background": "light"
          }
        }
      ]
    },
    {
      "cell_type": "markdown",
      "metadata": {
        "id": "9Pq4DTm1np4i"
      },
      "source": [
        ""
      ]
    }
  ]
}