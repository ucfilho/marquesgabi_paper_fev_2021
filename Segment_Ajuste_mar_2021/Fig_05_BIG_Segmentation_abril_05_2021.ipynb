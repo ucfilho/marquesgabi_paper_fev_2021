{
  "nbformat": 4,
  "nbformat_minor": 0,
  "metadata": {
    "colab": {
      "name": "Fig_05_BIG_Segmentation_abril_05_2021.ipynb",
      "provenance": [],
      "collapsed_sections": [],
      "include_colab_link": true
    },
    "kernelspec": {
      "name": "python3",
      "display_name": "Python 3"
    }
  },
  "cells": [
    {
      "cell_type": "markdown",
      "metadata": {
        "id": "view-in-github",
        "colab_type": "text"
      },
      "source": [
        "<a href=\"https://colab.research.google.com/github/ucfilho/marquesgabi_paper_fev_2021/blob/main/Segment_Ajuste_mar_2021/Fig_05_BIG_Segmentation_abril_05_2021.ipynb\" target=\"_parent\"><img src=\"https://colab.research.google.com/assets/colab-badge.svg\" alt=\"Open In Colab\"/></a>"
      ]
    },
    {
      "cell_type": "code",
      "metadata": {
        "id": "Sog7Z9pyhUD_",
        "colab": {
          "base_uri": "https://localhost:8080/"
        },
        "outputId": "5208546d-a2ae-4926-cda4-c2f70c6104a1"
      },
      "source": [
        "import matplotlib.pyplot as plt\n",
        "import numpy as np\n",
        "import cv2\n",
        "import zipfile\n",
        "#import random\n",
        "from random import randint\n",
        "from PIL import Image\n",
        "import re\n",
        "from sklearn.model_selection import train_test_split\n",
        "#import scikit-image\n",
        "import skimage\n",
        "import pandas as pd\n",
        "from sklearn.externals import joblib"
      ],
      "execution_count": 1,
      "outputs": [
        {
          "output_type": "stream",
          "text": [
            "/usr/local/lib/python3.7/dist-packages/sklearn/externals/joblib/__init__.py:15: FutureWarning: sklearn.externals.joblib is deprecated in 0.21 and will be removed in 0.23. Please import this functionality directly from joblib, which can be installed with: pip install joblib. If this warning is raised when loading pickled models, you may need to re-serialize those models with scikit-learn 0.21+.\n",
            "  warnings.warn(msg, category=FutureWarning)\n"
          ],
          "name": "stderr"
        }
      ]
    },
    {
      "cell_type": "code",
      "metadata": {
        "id": "uZEvJvfoibE4",
        "colab": {
          "base_uri": "https://localhost:8080/"
        },
        "outputId": "ef334d0d-5b12-4307-c9e4-aab0c8ccb631"
      },
      "source": [
        "!pip install mahotas"
      ],
      "execution_count": 2,
      "outputs": [
        {
          "output_type": "stream",
          "text": [
            "Collecting mahotas\n",
            "\u001b[?25l  Downloading https://files.pythonhosted.org/packages/19/ad/553b246b0a35dccc3ed58dc8889a67124bf5ab858e9c6b7255d56086e70c/mahotas-1.4.11-cp37-cp37m-manylinux2010_x86_64.whl (5.7MB)\n",
            "\u001b[K     |████████████████████████████████| 5.7MB 4.7MB/s \n",
            "\u001b[?25hRequirement already satisfied: numpy in /usr/local/lib/python3.7/dist-packages (from mahotas) (1.19.5)\n",
            "Installing collected packages: mahotas\n",
            "Successfully installed mahotas-1.4.11\n"
          ],
          "name": "stdout"
        }
      ]
    },
    {
      "cell_type": "code",
      "metadata": {
        "id": "nf_a6PJ1iUnT"
      },
      "source": [
        "import mahotas.features.texture as mht\n",
        "import mahotas.features"
      ],
      "execution_count": 3,
      "outputs": []
    },
    {
      "cell_type": "code",
      "metadata": {
        "id": "_VcTdaNVh9EE",
        "colab": {
          "base_uri": "https://localhost:8080/"
        },
        "outputId": "e49053dd-22f6-4da6-e7de-3ed2d4b642ca"
      },
      "source": [
        "!git clone https://github.com/ucfilho/marquesgabi_fev_2020 #clonar do Github\n",
        "%cd marquesgabi_fev_2020\n",
        "import Go2BlackWhite\n",
        "import Go2Mahotas"
      ],
      "execution_count": 4,
      "outputs": [
        {
          "output_type": "stream",
          "text": [
            "Cloning into 'marquesgabi_fev_2020'...\n",
            "remote: Enumerating objects: 73, done.\u001b[K\n",
            "remote: Counting objects: 100% (73/73), done.\u001b[K\n",
            "remote: Compressing objects: 100% (71/71), done.\u001b[K\n",
            "remote: Total 73 (delta 37), reused 0 (delta 0), pack-reused 0\u001b[K\n",
            "Unpacking objects: 100% (73/73), done.\n",
            "/content/marquesgabi_fev_2020\n"
          ],
          "name": "stdout"
        }
      ]
    },
    {
      "cell_type": "code",
      "metadata": {
        "id": "1v7SRrc8mH2N",
        "colab": {
          "base_uri": "https://localhost:8080/"
        },
        "outputId": "3d4c1e22-6137-4b5f-dc09-d48385e7e033"
      },
      "source": [
        "!git clone https://github.com/marquesgabi/Doutorado\n",
        "%cd Doutorado\n",
        "\n",
        "Transfere='Fotos_Grandes_3cdAmostra.zip'\n",
        "file_name = zipfile.ZipFile(Transfere, 'r')\n",
        "file_name.extractall()"
      ],
      "execution_count": 5,
      "outputs": [
        {
          "output_type": "stream",
          "text": [
            "Cloning into 'Doutorado'...\n",
            "remote: Enumerating objects: 52, done.\u001b[K\n",
            "remote: Counting objects: 100% (52/52), done.\u001b[K\n",
            "remote: Compressing objects: 100% (52/52), done.\u001b[K\n",
            "remote: Total 302 (delta 21), reused 0 (delta 0), pack-reused 250\u001b[K\n",
            "Receiving objects: 100% (302/302), 78.58 MiB | 33.27 MiB/s, done.\n",
            "Resolving deltas: 100% (144/144), done.\n",
            "/content/marquesgabi_fev_2020/Doutorado\n"
          ],
          "name": "stdout"
        }
      ]
    },
    {
      "cell_type": "code",
      "metadata": {
        "id": "0kA4IWSmasoD"
      },
      "source": [
        "Size=1200 # tamanho da foto\n",
        "ww,img_name=Go2BlackWhite.BlackWhite(Transfere,Size) #Pegamos a primeira foto Grande\n",
        "img=ww[0] \n",
        "# this is the big image we want to segment \n",
        "# ww[0], change it if you want to segment another picture"
      ],
      "execution_count": 6,
      "outputs": []
    },
    {
      "cell_type": "code",
      "metadata": {
        "id": "tHgqAnaFyCjp",
        "colab": {
          "base_uri": "https://localhost:8080/"
        },
        "outputId": "78509c10-ea39-49f3-d72f-efabca8562f4"
      },
      "source": [
        "!git clone https://github.com/ucfilho/MarquesGabi_Routines\n",
        "%cd MarquesGabi_Routines"
      ],
      "execution_count": 7,
      "outputs": [
        {
          "output_type": "stream",
          "text": [
            "Cloning into 'MarquesGabi_Routines'...\n",
            "remote: Enumerating objects: 42, done.\u001b[K\n",
            "remote: Counting objects: 100% (42/42), done.\u001b[K\n",
            "remote: Compressing objects: 100% (40/40), done.\u001b[K\n",
            "remote: Total 42 (delta 21), reused 0 (delta 0), pack-reused 0\u001b[K\n",
            "Unpacking objects: 100% (42/42), done.\n",
            "/content/marquesgabi_fev_2020/Doutorado/MarquesGabi_Routines\n"
          ],
          "name": "stdout"
        }
      ]
    },
    {
      "cell_type": "code",
      "metadata": {
        "id": "qc4rFvzkyWCi"
      },
      "source": [
        "from segment_filter_not_conclude import Segmenta  # got image provided segmented"
      ],
      "execution_count": 8,
      "outputs": []
    },
    {
      "cell_type": "code",
      "metadata": {
        "id": "SnTtH3KDP863"
      },
      "source": [
        "df=Segmenta(img)\n"
      ],
      "execution_count": 9,
      "outputs": []
    },
    {
      "cell_type": "code",
      "metadata": {
        "id": "YN5MN5a_v4np",
        "colab": {
          "base_uri": "https://localhost:8080/"
        },
        "outputId": "d233e9a1-0268-4bbb-ce71-2f2d15bfefe8"
      },
      "source": [
        "print(df)"
      ],
      "execution_count": 10,
      "outputs": [
        {
          "output_type": "stream",
          "text": [
            "    Width           0           1  ...         781         782         783\n",
            "0     285  118.305832  111.386368  ...   15.672601    8.802352    2.324691\n",
            "1     111  110.749863  115.541031  ...  175.065750  172.109558  155.259476\n",
            "2     198   96.262512   98.196404  ...  137.657776  134.477905  115.869591\n",
            "3     218   53.292652   56.634453  ...    0.000000    0.000000    0.000000\n",
            "4      75   68.196449   81.868271  ...   75.970673   75.746666   77.195198\n",
            "5     120   73.858887   72.147766  ...   26.795555   29.507780   31.712223\n",
            "6     193   59.374340   52.322132  ...   56.688530   53.715351   55.290638\n",
            "7     104   70.491135   77.707108  ...   49.744087   49.335804   47.665688\n",
            "8     198    2.878278    1.478624  ...   79.064682   77.790733   79.890915\n",
            "9     149   55.830509   77.875366  ...   81.701767   82.438774   80.944244\n",
            "10    166  106.284950  112.563934  ...    0.067063    0.000000    0.000000\n",
            "11    117   77.724083   76.510994  ...   61.076630   59.646801   59.365253\n",
            "12    249  125.917801  127.201126  ...  126.278397  134.134857  140.907761\n",
            "13    228   51.199135   49.919052  ...   62.863956   66.268700  105.220688\n",
            "14    258   85.526352   87.498817  ...   66.119888   78.138573   86.784439\n",
            "15    199   55.045982   55.486576  ...    5.788161    5.724526    5.680690\n",
            "16    283    0.000000    0.000000  ...  137.935287  118.130066   35.814011\n",
            "17    116   78.818077   80.990486  ...   81.736023   81.129608   82.375740\n",
            "18    224   83.890625   46.468750  ...   69.453125   67.109375   67.859375\n",
            "19    159   86.417664   85.930344  ...   60.510979   60.354649   59.048374\n",
            "20    260  155.866043  111.629349  ...    1.538462    0.900828    0.389586\n",
            "21     65   80.779877   81.966156  ...   73.024612   71.223198   72.927811\n",
            "22     89  101.084473  101.865685  ...  111.254021  114.983086  119.820877\n",
            "23    206   94.447922   36.608917  ...   80.119240   82.939011   82.080498\n",
            "24     52   83.082848   81.136101  ...   69.230774   68.455620   69.171600\n",
            "25    141   77.190628   64.747002  ...  127.051102  120.406525   99.926666\n",
            "26    227   80.746300   80.774170  ...   47.216049   60.267597   67.946419\n",
            "27    216   44.835041   48.172497  ...  105.087097  110.588821  107.132027\n",
            "28    129   36.387054   38.527794  ...    2.123370    1.720750    1.434108\n",
            "29    115   63.084454   46.594933  ...    8.458903    8.578903    8.667069\n",
            "30    106   95.202209  101.482735  ...    0.000000    0.000000    0.543254\n",
            "31    246   64.301407   62.814331  ...    6.391698    4.212968    0.695221\n",
            "32     85  145.985748  153.100235  ...   75.843048   75.783539   77.960693\n",
            "33    100   71.667206   72.526398  ...  138.895996  140.124802  140.608002\n",
            "34    213    0.789129    1.885340  ...  111.596901  104.893616  106.294800\n",
            "35    252   96.234566  102.222221  ...    4.172840    4.345679    4.222222\n",
            "36    225   85.076408   93.158379  ...   42.698273   42.332981   43.128319\n",
            "37    296   46.762241   47.583092  ...   95.829086   93.841858   93.493431\n",
            "38    284   46.426899   32.595318  ...   36.196983   34.745487   27.811152\n",
            "39    216    0.985597    1.170782  ...   91.590179   89.287369   92.551086\n",
            "40     63   46.839508   47.530865  ...   86.975311   87.148148   89.395065\n",
            "41    147   53.814064   64.049889  ...    6.850340    6.775510    6.888889\n",
            "42    161   75.449913   75.011345  ...   23.797733   32.485821   35.306240\n",
            "43     53   33.305801   31.561411  ...   83.228912   83.003204   81.192596\n",
            "44     63   60.296299   58.716053  ...   64.185181   55.987656   41.888889\n",
            "45    300  231.279831  187.027222  ...    2.853511    1.947556    0.780267\n",
            "46    288  104.762924  106.511383  ...   33.549965   26.298420    7.220294\n",
            "47    200  159.394394  169.982803  ...    0.154000    0.523600    0.781200\n",
            "48     58   81.785957   82.737221  ...   82.896545   82.550537   83.965515\n",
            "49    267   47.539646   33.815174  ...   77.100769   71.367729   45.146065\n",
            "\n",
            "[50 rows x 785 columns]\n"
          ],
          "name": "stdout"
        }
      ]
    },
    {
      "cell_type": "code",
      "metadata": {
        "id": "xzpQ1Pz0fX5L",
        "colab": {
          "base_uri": "https://localhost:8080/"
        },
        "outputId": "6247ff24-8a18-45fd-b2d7-eda0dfa56f9c"
      },
      "source": [
        "!git clone https://github.com/ucfilho/MarquesGabi_Routines\n",
        "%cd MarquesGabi_Routines\n",
        "filename = 'model_ANN.pkl'\n",
        "model = joblib.load(filename)"
      ],
      "execution_count": 11,
      "outputs": [
        {
          "output_type": "stream",
          "text": [
            "Cloning into 'MarquesGabi_Routines'...\n",
            "remote: Enumerating objects: 42, done.\u001b[K\n",
            "remote: Counting objects: 100% (42/42), done.\u001b[K\n",
            "remote: Compressing objects: 100% (40/40), done.\u001b[K\n",
            "remote: Total 42 (delta 21), reused 0 (delta 0), pack-reused 0\u001b[K\n",
            "Unpacking objects: 100% (42/42), done.\n",
            "/content/marquesgabi_fev_2020/Doutorado/MarquesGabi_Routines/MarquesGabi_Routines\n"
          ],
          "name": "stdout"
        }
      ]
    },
    {
      "cell_type": "code",
      "metadata": {
        "id": "QISvYcJBgWbE",
        "colab": {
          "base_uri": "https://localhost:8080/"
        },
        "outputId": "b775b0f0-4c77-4f25-aeff-391db310a6be"
      },
      "source": [
        "cont = 0; num =25\n",
        "img_graos = []\n",
        "img=ww[0] \n",
        "while( cont < num):\n",
        "  df=Segmenta(img)\n",
        "  del df['Width']\n",
        "  result = np.array(df)/255\n",
        "  prediction = model.predict(result)\n",
        "  loc_grao =[];k=0\n",
        "  for i in prediction:\n",
        "    if( i == 0):\n",
        "      img_graos.append(df.iloc[k,:])\n",
        "      cont = cont + 1\n",
        "    k = k +1\n",
        "img_graos = pd.DataFrame(img_graos)\n",
        "print(img_graos)"
      ],
      "execution_count": 12,
      "outputs": [
        {
          "output_type": "stream",
          "text": [
            "           0           1           2    ...        781        782        783\n",
            "6     0.417274    0.096774    0.096774  ...   0.000000   0.000000   0.000000\n",
            "48    1.000000    1.179200    1.448000  ...  16.936001  16.760000  16.760000\n",
            "49    0.951088    0.715668    0.413867  ...   0.577264   0.852459   0.511690\n",
            "34  136.015442  136.812119  135.881104  ...   4.678954   4.901308   5.362663\n",
            "44    1.203977    0.918033    1.166353  ...  13.131954  13.164472  13.299919\n",
            "17   97.726562   97.328125   95.914062  ...  13.726562  13.953125  14.171875\n",
            "14   26.824219   52.773438   67.460938  ...   2.449219   2.640625   2.175781\n",
            "43   69.205788   68.269562   68.447739  ...   0.000000   0.000000   0.000000\n",
            "26    0.000000    0.000000    0.925926  ...   0.000000   0.000000   0.000000\n",
            "34    3.457619    3.103189    3.744752  ...   1.310527   1.371896   1.668002\n",
            "44    0.000000    0.000000    0.000000  ...   1.000000   1.000000   1.000000\n",
            "10   15.724432    9.664989    4.654626  ...  12.345984  12.091602  12.259259\n",
            "24    0.500000    0.750000    0.500000  ...   0.000000   0.000000   0.000000\n",
            "35    0.000000    0.159091    0.989669  ...   0.000000   0.000000   0.000000\n",
            "39    0.991074    0.982456    0.982456  ...  14.066175  14.325023  14.582949\n",
            "2     0.961219    0.282548    0.282548  ...  29.476456  29.542936  29.060944\n",
            "12   26.836546   28.771360   30.008398  ...  10.088890  10.337778  10.400002\n",
            "21    1.544167    3.104032    3.931364  ...  16.496767  16.754387  16.513081\n",
            "8     0.481481    0.267490    0.460905  ...   1.249657   1.518518   1.518518\n",
            "8     0.000000    0.000000    0.000000  ...  55.568413  50.080811  39.750229\n",
            "16    3.012856    6.856750   22.997246  ...   6.334252   4.614325   3.738292\n",
            "32    0.249199    0.528302    0.946600  ...   0.053400   0.780705   1.000000\n",
            "33    1.240000    1.240000    0.600000  ...  39.520004  27.160000  25.880001\n",
            "43    0.000000    0.000000    0.000000  ...  10.833334  10.984568  11.135802\n",
            "11    1.000000    0.098039    0.000000  ...  77.350258  78.612457  77.053833\n",
            "\n",
            "[25 rows x 784 columns]\n"
          ],
          "name": "stdout"
        }
      ]
    },
    {
      "cell_type": "code",
      "metadata": {
        "colab": {
          "base_uri": "https://localhost:8080/"
        },
        "id": "hjMm5kklvYKV",
        "outputId": "a6531635-1130-4935-b1b7-7433ccae3afa"
      },
      "source": [
        "np.sum(np.array(img_graos.iloc[[1],:]))/(28*28)"
      ],
      "execution_count": 33,
      "outputs": [
        {
          "output_type": "execute_result",
          "data": {
            "text/plain": [
              "1.013200000672107"
            ]
          },
          "metadata": {
            "tags": []
          },
          "execution_count": 33
        }
      ]
    },
    {
      "cell_type": "code",
      "metadata": {
        "colab": {
          "base_uri": "https://localhost:8080/",
          "height": 269
        },
        "id": "4FO1yItczAZh",
        "outputId": "0356017e-fd5d-446d-f27e-e2d1c5bff6bb"
      },
      "source": [
        "data=np.array(img_graos.iloc[[1],:]).reshape(Size,Size)\n",
        "img = Image.fromarray(data.astype('uint8'), mode='L')\n",
        "img=np.float32(img)\n",
        "\n",
        "img28=cv2.resize(img,(Size,Size), interpolation = cv2.INTER_AREA)\n",
        "Foto=np.array(img28).reshape(28,28)\n",
        "plt.xticks([])\n",
        "plt.yticks([])\n",
        "plt.grid(False)\n",
        "plt.imshow(Foto, cmap = \"gray\")"
      ],
      "execution_count": 34,
      "outputs": [
        {
          "output_type": "execute_result",
          "data": {
            "text/plain": [
              "<matplotlib.image.AxesImage at 0x7fc5ff0cd610>"
            ]
          },
          "metadata": {
            "tags": []
          },
          "execution_count": 34
        },
        {
          "output_type": "display_data",
          "data": {
            "image/png": "[encoded data removed]",
            "text/plain": [
              "<Figure size 432x288 with 1 Axes>"
            ]
          },
          "metadata": {
            "tags": []
          }
        }
      ]
    },
    {
      "cell_type": "code",
      "metadata": {
        "colab": {
          "base_uri": "https://localhost:8080/"
        },
        "id": "RhBIKFLBwwYj",
        "outputId": "35db49bf-e01d-4c11-9766-138865e49b1d"
      },
      "source": [
        "np.sum(np.array(img_graos.iloc[[3],:]))/(28*28)"
      ],
      "execution_count": 35,
      "outputs": [
        {
          "output_type": "execute_result",
          "data": {
            "text/plain": [
              "5.850772760974776"
            ]
          },
          "metadata": {
            "tags": []
          },
          "execution_count": 35
        }
      ]
    },
    {
      "cell_type": "code",
      "metadata": {
        "colab": {
          "base_uri": "https://localhost:8080/",
          "height": 129
        },
        "id": "sS0qqr7RwKax",
        "outputId": "8388fd43-25e7-4a01-94f2-1ec7955acba4"
      },
      "source": [
        "img_graos.iloc[[3],:]"
      ],
      "execution_count": 36,
      "outputs": [
        {
          "output_type": "execute_result",
          "data": {
            "text/html": [
              "<div>\n",
              "<style scoped>\n",
              "    .dataframe tbody tr th:only-of-type {\n",
              "        vertical-align: middle;\n",
              "    }\n",
              "\n",
              "    .dataframe tbody tr th {\n",
              "        vertical-align: top;\n",
              "    }\n",
              "\n",
              "    .dataframe thead th {\n",
              "        text-align: right;\n",
              "    }\n",
              "</style>\n",
              "<table border=\"1\" class=\"dataframe\">\n",
              "  <thead>\n",
              "    <tr style=\"text-align: right;\">\n",
              "      <th></th>\n",
              "      <th>0</th>\n",
              "      <th>1</th>\n",
              "      <th>2</th>\n",
              "      <th>3</th>\n",
              "      <th>4</th>\n",
              "      <th>5</th>\n",
              "      <th>6</th>\n",
              "      <th>7</th>\n",
              "      <th>8</th>\n",
              "      <th>9</th>\n",
              "      <th>10</th>\n",
              "      <th>11</th>\n",
              "      <th>12</th>\n",
              "      <th>13</th>\n",
              "      <th>14</th>\n",
              "      <th>15</th>\n",
              "      <th>16</th>\n",
              "      <th>17</th>\n",
              "      <th>18</th>\n",
              "      <th>19</th>\n",
              "      <th>20</th>\n",
              "      <th>21</th>\n",
              "      <th>22</th>\n",
              "      <th>23</th>\n",
              "      <th>24</th>\n",
              "      <th>25</th>\n",
              "      <th>26</th>\n",
              "      <th>27</th>\n",
              "      <th>28</th>\n",
              "      <th>29</th>\n",
              "      <th>30</th>\n",
              "      <th>31</th>\n",
              "      <th>32</th>\n",
              "      <th>33</th>\n",
              "      <th>34</th>\n",
              "      <th>35</th>\n",
              "      <th>36</th>\n",
              "      <th>37</th>\n",
              "      <th>38</th>\n",
              "      <th>39</th>\n",
              "      <th>...</th>\n",
              "      <th>744</th>\n",
              "      <th>745</th>\n",
              "      <th>746</th>\n",
              "      <th>747</th>\n",
              "      <th>748</th>\n",
              "      <th>749</th>\n",
              "      <th>750</th>\n",
              "      <th>751</th>\n",
              "      <th>752</th>\n",
              "      <th>753</th>\n",
              "      <th>754</th>\n",
              "      <th>755</th>\n",
              "      <th>756</th>\n",
              "      <th>757</th>\n",
              "      <th>758</th>\n",
              "      <th>759</th>\n",
              "      <th>760</th>\n",
              "      <th>761</th>\n",
              "      <th>762</th>\n",
              "      <th>763</th>\n",
              "      <th>764</th>\n",
              "      <th>765</th>\n",
              "      <th>766</th>\n",
              "      <th>767</th>\n",
              "      <th>768</th>\n",
              "      <th>769</th>\n",
              "      <th>770</th>\n",
              "      <th>771</th>\n",
              "      <th>772</th>\n",
              "      <th>773</th>\n",
              "      <th>774</th>\n",
              "      <th>775</th>\n",
              "      <th>776</th>\n",
              "      <th>777</th>\n",
              "      <th>778</th>\n",
              "      <th>779</th>\n",
              "      <th>780</th>\n",
              "      <th>781</th>\n",
              "      <th>782</th>\n",
              "      <th>783</th>\n",
              "    </tr>\n",
              "  </thead>\n",
              "  <tbody>\n",
              "    <tr>\n",
              "      <th>34</th>\n",
              "      <td>136.015442</td>\n",
              "      <td>136.812119</td>\n",
              "      <td>135.881104</td>\n",
              "      <td>135.14386</td>\n",
              "      <td>133.992874</td>\n",
              "      <td>130.722946</td>\n",
              "      <td>125.469673</td>\n",
              "      <td>119.181915</td>\n",
              "      <td>104.300827</td>\n",
              "      <td>43.746731</td>\n",
              "      <td>8.328181</td>\n",
              "      <td>1.726516</td>\n",
              "      <td>1.0</td>\n",
              "      <td>1.0</td>\n",
              "      <td>0.466112</td>\n",
              "      <td>0.0</td>\n",
              "      <td>0.0</td>\n",
              "      <td>0.0</td>\n",
              "      <td>0.0</td>\n",
              "      <td>0.0</td>\n",
              "      <td>0.0</td>\n",
              "      <td>0.0</td>\n",
              "      <td>0.0</td>\n",
              "      <td>0.0</td>\n",
              "      <td>0.0</td>\n",
              "      <td>0.0</td>\n",
              "      <td>0.0</td>\n",
              "      <td>0.0</td>\n",
              "      <td>131.653976</td>\n",
              "      <td>132.193817</td>\n",
              "      <td>132.551727</td>\n",
              "      <td>131.89537</td>\n",
              "      <td>131.816879</td>\n",
              "      <td>129.407837</td>\n",
              "      <td>123.726509</td>\n",
              "      <td>108.073715</td>\n",
              "      <td>51.651604</td>\n",
              "      <td>8.29132</td>\n",
              "      <td>2.713436</td>\n",
              "      <td>1.067777</td>\n",
              "      <td>...</td>\n",
              "      <td>2.023781</td>\n",
              "      <td>1.448276</td>\n",
              "      <td>1.525565</td>\n",
              "      <td>2.036861</td>\n",
              "      <td>1.673008</td>\n",
              "      <td>1.332937</td>\n",
              "      <td>1.0</td>\n",
              "      <td>1.309156</td>\n",
              "      <td>1.896552</td>\n",
              "      <td>2.731272</td>\n",
              "      <td>1.60761</td>\n",
              "      <td>1.517241</td>\n",
              "      <td>5.612366</td>\n",
              "      <td>5.36742</td>\n",
              "      <td>5.2283</td>\n",
              "      <td>5.463734</td>\n",
              "      <td>5.269917</td>\n",
              "      <td>4.63258</td>\n",
              "      <td>4.715815</td>\n",
              "      <td>4.615933</td>\n",
              "      <td>4.732461</td>\n",
              "      <td>5.365042</td>\n",
              "      <td>5.498216</td>\n",
              "      <td>4.765755</td>\n",
              "      <td>4.482759</td>\n",
              "      <td>4.482759</td>\n",
              "      <td>4.499405</td>\n",
              "      <td>4.699168</td>\n",
              "      <td>5.008324</td>\n",
              "      <td>5.37931</td>\n",
              "      <td>5.46849</td>\n",
              "      <td>6.222354</td>\n",
              "      <td>5.770511</td>\n",
              "      <td>5.711058</td>\n",
              "      <td>5.195005</td>\n",
              "      <td>4.386445</td>\n",
              "      <td>4.082045</td>\n",
              "      <td>4.678954</td>\n",
              "      <td>4.901308</td>\n",
              "      <td>5.362663</td>\n",
              "    </tr>\n",
              "  </tbody>\n",
              "</table>\n",
              "<p>1 rows × 784 columns</p>\n",
              "</div>"
            ],
            "text/plain": [
              "           0           1           2    ...       781       782       783\n",
              "34  136.015442  136.812119  135.881104  ...  4.678954  4.901308  5.362663\n",
              "\n",
              "[1 rows x 784 columns]"
            ]
          },
          "metadata": {
            "tags": []
          },
          "execution_count": 36
        }
      ]
    },
    {
      "cell_type": "code",
      "metadata": {
        "colab": {
          "base_uri": "https://localhost:8080/",
          "height": 269
        },
        "id": "qeQVSq6AyIF0",
        "outputId": "056d15d2-c437-49dd-efe6-077c6e055341"
      },
      "source": [
        "data=np.array(img_graos.iloc[[3],:]).reshape(Size,Size)\n",
        "img = Image.fromarray(data.astype('uint8'), mode='L')\n",
        "img=np.float32(img)\n",
        "\n",
        "img28=cv2.resize(img,(Size,Size), interpolation = cv2.INTER_AREA)\n",
        "Foto=np.array(img28).reshape(28,28)\n",
        "plt.xticks([])\n",
        "plt.yticks([])\n",
        "plt.grid(False)\n",
        "plt.imshow(Foto, cmap = \"gray\")"
      ],
      "execution_count": 30,
      "outputs": [
        {
          "output_type": "execute_result",
          "data": {
            "text/plain": [
              "<matplotlib.image.AxesImage at 0x7fc5ff176510>"
            ]
          },
          "metadata": {
            "tags": []
          },
          "execution_count": 30
        },
        {
          "output_type": "display_data",
          "data": {
            "image/png": "[encoded data removed]",
            "text/plain": [
              "<Figure size 432x288 with 1 Axes>"
            ]
          },
          "metadata": {
            "tags": []
          }
        }
      ]
    },
    {
      "cell_type": "code",
      "metadata": {
        "colab": {
          "base_uri": "https://localhost:8080/",
          "height": 691
        },
        "id": "_tN9BV7KM-y5",
        "outputId": "ef2be37a-e6a4-425c-a3af-cc37807f45e4"
      },
      "source": [
        "Num = 25\n",
        "Size=28\n",
        "Picture_Size = 25\n",
        "fig = plt.gcf()\n",
        "fig.set_size_inches(Picture_Size, Picture_Size)\n",
        "for i in range(Num):\n",
        "  data=np.array(img_graos.iloc[i,:]).reshape(Size,Size)\n",
        "  img = Image.fromarray(data.astype('uint8'), mode='L')\n",
        "  img=np.float32(img)\n",
        "\n",
        "  img28=cv2.resize(img,(Size,Size), interpolation = cv2.INTER_AREA)\n",
        "  Foto=np.array(img28).reshape(28,28)\n",
        "  plt.subplot(25,5,i+1)\n",
        "  plt.xticks([])\n",
        "  plt.yticks([])\n",
        "  plt.grid(False)\n",
        "  plt.imshow(Foto, cmap = \"gray\")\n",
        "  #plt.xlabel(i)\n",
        "\n",
        "plt.subplots_adjust(bottom=0.15,left=0.4, right=0.8, top=2,hspace=0.1, wspace=0.01)\n",
        "#plt.subplots_adjust(bottom=0.2, right=2, top=3,hspace=0.4, wspace=0.4)"
      ],
      "execution_count": 13,
      "outputs": [
        {
          "output_type": "display_data",
          "data": {
            "image/png": "[encoded data removed]",
            "text/plain": [
              "<Figure size 1800x1800 with 25 Axes>"
            ]
          },
          "metadata": {
            "tags": []
          }
        }
      ]
    },
    {
      "cell_type": "code",
      "metadata": {
        "id": "7_p9olz_sJ0f",
        "colab": {
          "base_uri": "https://localhost:8080/"
        },
        "outputId": "5f55c320-dd24-4bda-ee0d-58ba494b00cc"
      },
      "source": [
        "print(np.random.rand(1,3))"
      ],
      "execution_count": 14,
      "outputs": [
        {
          "output_type": "stream",
          "text": [
            "[[0.83571335 0.06003775 0.41114159]]\n"
          ],
          "name": "stdout"
        }
      ]
    }
  ]
}