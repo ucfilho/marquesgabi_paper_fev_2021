{
  "nbformat": 4,
  "nbformat_minor": 0,
  "metadata": {
    "colab": {
      "name": "Fig_05_BIG_Segmentation_abril_05_2021.ipynb",
      "provenance": [],
      "collapsed_sections": [],
      "include_colab_link": true
    },
    "kernelspec": {
      "name": "python3",
      "display_name": "Python 3"
    }
  },
  "cells": [
    {
      "cell_type": "markdown",
      "metadata": {
        "id": "view-in-github",
        "colab_type": "text"
      },
      "source": [
        "<a href=\"https://colab.research.google.com/github/ucfilho/marquesgabi_paper_fev_2021/blob/main/Segment_Ajuste_mar_2021/Fig_05_BIG_Segmentation_abril_05_2021.ipynb\" target=\"_parent\"><img src=\"https://colab.research.google.com/assets/colab-badge.svg\" alt=\"Open In Colab\"/></a>"
      ]
    },
    {
      "cell_type": "code",
      "metadata": {
        "id": "0co1-JoACw9M"
      },
      "source": [
        ""
      ],
      "execution_count": null,
      "outputs": []
    },
    {
      "cell_type": "code",
      "metadata": {
        "id": "Sog7Z9pyhUD_",
        "colab": {
          "base_uri": "https://localhost:8080/"
        },
        "outputId": "5a04179e-4c3f-4129-9ceb-6f74d2af249c"
      },
      "source": [
        "import matplotlib.pyplot as plt\n",
        "import numpy as np\n",
        "import cv2\n",
        "import zipfile\n",
        "#import random\n",
        "from random import randint\n",
        "from PIL import Image\n",
        "import re\n",
        "from sklearn.model_selection import train_test_split\n",
        "#import scikit-image\n",
        "import skimage\n",
        "import pandas as pd\n",
        "from sklearn.externals import joblib"
      ],
      "execution_count": 1,
      "outputs": [
        {
          "output_type": "stream",
          "text": [
            "/usr/local/lib/python3.7/dist-packages/sklearn/externals/joblib/__init__.py:15: FutureWarning: sklearn.externals.joblib is deprecated in 0.21 and will be removed in 0.23. Please import this functionality directly from joblib, which can be installed with: pip install joblib. If this warning is raised when loading pickled models, you may need to re-serialize those models with scikit-learn 0.21+.\n",
            "  warnings.warn(msg, category=FutureWarning)\n"
          ],
          "name": "stderr"
        }
      ]
    },
    {
      "cell_type": "code",
      "metadata": {
        "id": "uZEvJvfoibE4",
        "colab": {
          "base_uri": "https://localhost:8080/"
        },
        "outputId": "e44823b2-8b38-4fef-980d-844af5f56f31"
      },
      "source": [
        "!pip install mahotas"
      ],
      "execution_count": 2,
      "outputs": [
        {
          "output_type": "stream",
          "text": [
            "Requirement already satisfied: mahotas in /usr/local/lib/python3.7/dist-packages (1.4.11)\n",
            "Requirement already satisfied: numpy in /usr/local/lib/python3.7/dist-packages (from mahotas) (1.19.5)\n"
          ],
          "name": "stdout"
        }
      ]
    },
    {
      "cell_type": "code",
      "metadata": {
        "id": "nf_a6PJ1iUnT"
      },
      "source": [
        "import mahotas.features.texture as mht\n",
        "import mahotas.features"
      ],
      "execution_count": 3,
      "outputs": []
    },
    {
      "cell_type": "code",
      "metadata": {
        "id": "_VcTdaNVh9EE",
        "colab": {
          "base_uri": "https://localhost:8080/"
        },
        "outputId": "68083f5b-e126-431f-a79b-e75a0c182e2d"
      },
      "source": [
        "!git clone https://github.com/ucfilho/marquesgabi_fev_2020 #clonar do Github\n",
        "%cd marquesgabi_fev_2020\n",
        "import Go2BlackWhite\n",
        "import Go2Mahotas"
      ],
      "execution_count": 4,
      "outputs": [
        {
          "output_type": "stream",
          "text": [
            "fatal: destination path 'marquesgabi_fev_2020' already exists and is not an empty directory.\n",
            "/content/marquesgabi_fev_2020\n"
          ],
          "name": "stdout"
        }
      ]
    },
    {
      "cell_type": "code",
      "metadata": {
        "id": "1v7SRrc8mH2N",
        "colab": {
          "base_uri": "https://localhost:8080/"
        },
        "outputId": "ccde105e-a5de-46cb-fed4-8faa1feefbb9"
      },
      "source": [
        "!git clone https://github.com/marquesgabi/Doutorado\n",
        "%cd Doutorado\n",
        "\n",
        "Transfere='Fotos_Grandes_3cdAmostra.zip'\n",
        "file_name = zipfile.ZipFile(Transfere, 'r')\n",
        "file_name.extractall()"
      ],
      "execution_count": 5,
      "outputs": [
        {
          "output_type": "stream",
          "text": [
            "fatal: destination path 'Doutorado' already exists and is not an empty directory.\n",
            "/content/marquesgabi_fev_2020/Doutorado\n"
          ],
          "name": "stdout"
        }
      ]
    },
    {
      "cell_type": "code",
      "metadata": {
        "id": "0kA4IWSmasoD"
      },
      "source": [
        "Size=1200 # tamanho da foto\n",
        "ww,img_name=Go2BlackWhite.BlackWhite(Transfere,Size) #Pegamos a primeira foto Grande\n",
        "img=ww[0] \n",
        "# this is the big image we want to segment \n",
        "# ww[0], change it if you want to segment another picture"
      ],
      "execution_count": 6,
      "outputs": []
    },
    {
      "cell_type": "code",
      "metadata": {
        "id": "tHgqAnaFyCjp",
        "colab": {
          "base_uri": "https://localhost:8080/"
        },
        "outputId": "0ede2ae3-4a28-4efc-9d86-dc254d77f002"
      },
      "source": [
        "!git clone https://github.com/ucfilho/MarquesGabi_Routines\n",
        "%cd MarquesGabi_Routines"
      ],
      "execution_count": 7,
      "outputs": [
        {
          "output_type": "stream",
          "text": [
            "fatal: destination path 'MarquesGabi_Routines' already exists and is not an empty directory.\n",
            "/content/marquesgabi_fev_2020/Doutorado/MarquesGabi_Routines\n"
          ],
          "name": "stdout"
        }
      ]
    },
    {
      "cell_type": "code",
      "metadata": {
        "id": "qc4rFvzkyWCi"
      },
      "source": [
        "from segment_filter_not_conclude import Segmenta  # got image provided segmented"
      ],
      "execution_count": 8,
      "outputs": []
    },
    {
      "cell_type": "code",
      "metadata": {
        "id": "SnTtH3KDP863"
      },
      "source": [
        "df=Segmenta(img)\n"
      ],
      "execution_count": 9,
      "outputs": []
    },
    {
      "cell_type": "code",
      "metadata": {
        "id": "YN5MN5a_v4np",
        "colab": {
          "base_uri": "https://localhost:8080/"
        },
        "outputId": "e9afb2b8-83d5-4b95-d5a0-b51377ae03fe"
      },
      "source": [
        "print(df)"
      ],
      "execution_count": 10,
      "outputs": [
        {
          "output_type": "stream",
          "text": [
            "    Width           0           1  ...         781         782         783\n",
            "0      89   58.013390   60.974880  ...   59.576569   59.775417   59.877419\n",
            "1      99   87.042847   88.037033  ...  105.442711  105.828575  105.208847\n",
            "2     158   87.664154   75.287300  ...   54.147888   65.614647   82.432465\n",
            "3      72  102.475319  102.361107  ...   80.459885   80.049385   78.527786\n",
            "4     157   50.605503   45.003571  ...  100.392685  108.841423  105.002228\n",
            "5     123   71.876198  105.196182  ...  116.306435  107.299561   98.018845\n",
            "6     191   61.804966   58.446182  ...   62.144707   30.105808   27.131931\n",
            "7      91   37.692307   38.508877  ...    0.000000    0.000000    0.000000\n",
            "8     147    8.512472    8.412699  ...   58.551022   56.378685   45.204082\n",
            "9      70  116.120010  117.400002  ...   43.040001   44.240002   44.720001\n",
            "10     93  109.405724  104.962891  ...   68.273445   67.398895   69.394966\n",
            "11    120   73.264450   70.571114  ...  117.772217  132.252228  156.742218\n",
            "12    123   92.804947   98.435318  ...  103.774872  103.642677  100.303528\n",
            "13     59   78.396729   77.970985  ...   95.473999   94.182129   93.646065\n",
            "14     34   50.705887   45.114189  ...   46.000000   46.000000   46.823532\n",
            "15    161   77.155014   77.117203  ...    1.657845    0.826087    1.151229\n",
            "16     30   22.000000   24.142223  ...   66.626671   67.724449   67.991112\n",
            "17     76   82.961220   83.700829  ...   77.108032   78.861496   78.551247\n",
            "18    144   77.527771   78.617279  ...   66.150459   64.291664   73.864967\n",
            "19    160   79.060623   79.156242  ...   56.485001   57.543125   57.011253\n",
            "20    178   66.695114   63.096081  ...   80.305275   84.495270   84.919716\n",
            "21    124   77.261185   80.277832  ...   82.389175   85.083244   82.237244\n",
            "22    110   82.406937   80.916031  ...   99.466110   95.744133   80.731232\n",
            "23    153   96.798882   93.321587  ...    2.640993    1.581400    1.319364\n",
            "24    154   49.363640   48.884296  ...   81.528931   85.859512   85.991737\n",
            "25     59  207.678528  183.419403  ...   91.694046   87.210861   86.895432\n",
            "26    162   10.048927   13.880963  ...    7.027892    6.402835    6.191586\n",
            "27     98   39.795921   40.408165  ...   53.000004   54.326538   54.244904\n",
            "28    164  109.346230   94.918503  ...   85.486015   83.541344   94.336708\n",
            "29    163   25.979862   27.736647  ...   46.625992   43.655544   29.301216\n",
            "30    158   56.593971   57.086205  ...   19.039257   16.326389   13.904022\n",
            "31    147   91.154198   97.000000  ...   80.131531   72.759644   68.242630\n",
            "32    156   85.971733   89.361603  ...   63.982254   65.882973   64.584488\n",
            "33     55    1.490909    1.018182  ...    3.773553    0.750083    1.000000\n",
            "34    184   60.337425   59.501884  ...    5.919187    5.813326    5.694234\n",
            "35     89   71.649673   73.847626  ...   76.901413   78.119812   79.162613\n",
            "36     84   65.111115   65.111115  ...   72.000000   71.666664   68.888893\n",
            "37     32   76.515625   74.093750  ...   73.421875   74.500000   75.609375\n",
            "38     45   60.133339   61.612843  ...   55.000004   55.152103   56.092346\n",
            "39     82   57.469955   55.667461  ...    0.000000    0.000000    0.000000\n",
            "40    120   59.338890   60.873333  ...    7.584445    1.576667    0.280000\n",
            "41     49   70.244896   67.755104  ...   22.632656   22.489798   19.755104\n",
            "42    112    0.000000    0.000000  ...    0.000000    0.000000    0.000000\n",
            "43    166   40.385681  102.109001  ...    5.714327    6.543910    6.371172\n",
            "44     49   98.632660   93.285721  ...   78.489807   78.326538   78.081635\n",
            "45    198   44.972446   60.796951  ...   76.547493   76.903885   77.589729\n",
            "46     86   65.955658   69.105469  ...   54.157921   67.154678   77.429428\n",
            "47     38   89.279778   88.210533  ...   88.182823   89.335182   90.736847\n",
            "48     85    0.337163    0.662699  ...   75.934677   76.422424   78.418549\n",
            "49     84   93.333336   97.222221  ...   11.222222   13.666667   28.444445\n",
            "\n",
            "[50 rows x 785 columns]\n"
          ],
          "name": "stdout"
        }
      ]
    },
    {
      "cell_type": "code",
      "metadata": {
        "id": "xzpQ1Pz0fX5L",
        "colab": {
          "base_uri": "https://localhost:8080/"
        },
        "outputId": "0537ebd5-4fc3-4f47-e8a2-54a556922119"
      },
      "source": [
        "!git clone https://github.com/ucfilho/MarquesGabi_Routines\n",
        "%cd MarquesGabi_Routines\n",
        "filename = 'model_ANN.pkl'\n",
        "model = joblib.load(filename)"
      ],
      "execution_count": 11,
      "outputs": [
        {
          "output_type": "stream",
          "text": [
            "fatal: destination path 'MarquesGabi_Routines' already exists and is not an empty directory.\n",
            "/content/marquesgabi_fev_2020/Doutorado/MarquesGabi_Routines/MarquesGabi_Routines\n"
          ],
          "name": "stdout"
        }
      ]
    },
    {
      "cell_type": "code",
      "metadata": {
        "id": "QISvYcJBgWbE",
        "colab": {
          "base_uri": "https://localhost:8080/"
        },
        "outputId": "eae22ee5-953e-4952-f861-f0a3c339bb0a"
      },
      "source": [
        "cont = 0; num =25\n",
        "img_graos = []\n",
        "img=ww[0] \n",
        "while( cont < num):\n",
        "  df=Segmenta(img)\n",
        "  del df['Width']\n",
        "  result = np.array(df)/255\n",
        "  prediction = model.predict(result)\n",
        "  loc_grao =[];k=0\n",
        "  for i in prediction:\n",
        "    if( i == 0):\n",
        "      img_graos.append(df.iloc[k,:])\n",
        "      cont = cont + 1\n",
        "    k = k +1\n",
        "img_graos = pd.DataFrame(img_graos)\n",
        "print(img_graos)"
      ],
      "execution_count": 12,
      "outputs": [
        {
          "output_type": "stream",
          "text": [
            "          0          1          2    ...        781        782        783\n",
            "5    1.000000   0.186441   0.000000  ...   2.508187   2.484056   2.242746\n",
            "12   1.991074   3.186446   3.277355  ...  30.767605  31.499834  30.231735\n",
            "11   1.000000   1.133333   1.488889  ...  55.806915  58.180252  59.488892\n",
            "31  29.515171  26.463415  23.195122  ...   0.000000   0.000000   0.000000\n",
            "27   1.272727   1.570248   1.991736  ...  37.876034  44.487602  47.165291\n",
            "43   0.000000   0.000000   0.000000  ...  11.412656  10.955112  10.928070\n",
            "48   0.000000   0.000000   0.000000  ...  18.823530  18.937716  18.854671\n",
            "6    0.000000   0.000000   0.117160  ...  87.470535  86.217278  85.443314\n",
            "47   0.363636   0.363636   0.363636  ...  26.727274  27.008265  26.636364\n",
            "7   10.764938  10.161482   9.888889  ...   0.000000   0.000000   0.000000\n",
            "11   1.000000   0.333333   0.666667  ...  17.333334  17.333334  17.333334\n",
            "29   0.000000   0.000000   0.224866  ...  66.172516  66.782272  65.791199\n",
            "9    0.827160   0.654321   0.222222  ...  24.370373  20.901236  22.975307\n",
            "28  83.120010  83.759995  84.760002  ...   2.440000   1.800000   1.800000\n",
            "31  77.091553  75.217590  74.594528  ...  14.239000  13.722948  14.388823\n",
            "19   0.000000   0.000000   0.000000  ...  17.315790  17.315790  17.315790\n",
            "34   1.052583   1.850937   1.142204  ...   0.000000   0.000000   0.000000\n",
            "18  72.958687  70.438942  64.975212  ...  13.168963  13.212122  12.183656\n",
            "26   0.000000   0.000000   0.000000  ...   3.647059   3.114187   3.501730\n",
            "30   1.107180   0.674298   0.548387  ...  13.565035  13.571280  13.837668\n",
            "40   0.000000   0.000000   0.000000  ...  12.404537  12.492754  12.492754\n",
            "28  39.948483  37.737793  33.653984  ...   0.000000   0.000000   0.000000\n",
            "24   1.880408   1.332706   1.261758  ...  15.345068  15.355818  15.309056\n",
            "3   56.694580  55.876091  56.457596  ...   0.860622   0.955200   0.905422\n",
            "44  38.265316  35.865555  34.481857  ...   0.317073   0.317073   0.317073\n",
            "\n",
            "[25 rows x 784 columns]\n"
          ],
          "name": "stdout"
        }
      ]
    },
    {
      "cell_type": "code",
      "metadata": {
        "colab": {
          "base_uri": "https://localhost:8080/",
          "height": 691
        },
        "id": "_tN9BV7KM-y5",
        "outputId": "81e62dc4-781c-4563-d99a-d545d25f1de4"
      },
      "source": [
        "Num = 25\n",
        "Size=28\n",
        "Picture_Size = 25\n",
        "fig = plt.gcf()\n",
        "fig.set_size_inches(Picture_Size, Picture_Size)\n",
        "for i in range(Num):\n",
        "  data=np.array(img_graos.iloc[i,:]).reshape(Size,Size)\n",
        "  img = Image.fromarray(data.astype('uint8'), mode='L')\n",
        "  img=np.float32(img)\n",
        "\n",
        "  img28=cv2.resize(img,(Size,Size), interpolation = cv2.INTER_AREA)\n",
        "  Foto=np.array(img28).reshape(28,28)\n",
        "  plt.subplot(25,5,i+1)\n",
        "  plt.xticks([])\n",
        "  plt.yticks([])\n",
        "  plt.grid(False)\n",
        "  plt.imshow(Foto, cmap = \"gray\")\n",
        "  #plt.xlabel(i)\n",
        "\n",
        "plt.subplots_adjust(bottom=0.15,left=0.4, right=0.8, top=2,hspace=0.1, wspace=0.01)\n",
        "#plt.subplots_adjust(bottom=0.2, right=2, top=3,hspace=0.4, wspace=0.4)"
      ],
      "execution_count": 13,
      "outputs": [
        {
          "output_type": "display_data",
          "data": {
            "image/png": "[encoded data removed]",
            "text/plain": [
              "<Figure size 1800x1800 with 25 Axes>"
            ]
          },
          "metadata": {
            "tags": []
          }
        }
      ]
    },
    {
      "cell_type": "code",
      "metadata": {
        "id": "7_p9olz_sJ0f"
      },
      "source": [
        ""
      ],
      "execution_count": 13,
      "outputs": []
    }
  ]
}