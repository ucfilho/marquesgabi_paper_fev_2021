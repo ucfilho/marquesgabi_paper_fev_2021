{
  "nbformat": 4,
  "nbformat_minor": 0,
  "metadata": {
    "colab": {
      "name": "Fig_05_BIG_Segmentation_mar_31_2021.ipynb",
      "provenance": [],
      "collapsed_sections": [],
      "include_colab_link": true
    },
    "kernelspec": {
      "name": "python3",
      "display_name": "Python 3"
    }
  },
  "cells": [
    {
      "cell_type": "markdown",
      "metadata": {
        "id": "view-in-github",
        "colab_type": "text"
      },
      "source": [
        "<a href=\"https://colab.research.google.com/github/ucfilho/marquesgabi_paper_fev_2021/blob/main/Segment_Ajuste_mar_2021/Fig_05_BIG_Segmentation_mar_31_2021.ipynb\" target=\"_parent\"><img src=\"https://colab.research.google.com/assets/colab-badge.svg\" alt=\"Open In Colab\"/></a>"
      ]
    },
    {
      "cell_type": "code",
      "metadata": {
        "id": "Sog7Z9pyhUD_",
        "outputId": "45cadd75-d1d1-4640-8f06-f105573eb920",
        "colab": {
          "base_uri": "https://localhost:8080/"
        }
      },
      "source": [
        "import matplotlib.pyplot as plt\n",
        "import numpy as np\n",
        "import cv2\n",
        "import zipfile\n",
        "#import random\n",
        "from random import randint\n",
        "from PIL import Image\n",
        "import re\n",
        "from sklearn.model_selection import train_test_split\n",
        "#import scikit-image\n",
        "import skimage\n",
        "import pandas as pd\n",
        "from sklearn.externals import joblib"
      ],
      "execution_count": 1,
      "outputs": [
        {
          "output_type": "stream",
          "text": [
            "/usr/local/lib/python3.7/dist-packages/sklearn/externals/joblib/__init__.py:15: FutureWarning: sklearn.externals.joblib is deprecated in 0.21 and will be removed in 0.23. Please import this functionality directly from joblib, which can be installed with: pip install joblib. If this warning is raised when loading pickled models, you may need to re-serialize those models with scikit-learn 0.21+.\n",
            "  warnings.warn(msg, category=FutureWarning)\n"
          ],
          "name": "stderr"
        }
      ]
    },
    {
      "cell_type": "code",
      "metadata": {
        "id": "uZEvJvfoibE4",
        "colab": {
          "base_uri": "https://localhost:8080/"
        },
        "outputId": "8483ae8c-1c81-497d-b6fb-e5ed5e55255a"
      },
      "source": [
        "!pip install mahotas"
      ],
      "execution_count": 2,
      "outputs": [
        {
          "output_type": "stream",
          "text": [
            "Requirement already satisfied: mahotas in /usr/local/lib/python3.7/dist-packages (1.4.11)\n",
            "Requirement already satisfied: numpy in /usr/local/lib/python3.7/dist-packages (from mahotas) (1.19.5)\n"
          ],
          "name": "stdout"
        }
      ]
    },
    {
      "cell_type": "code",
      "metadata": {
        "id": "nf_a6PJ1iUnT"
      },
      "source": [
        "import mahotas.features.texture as mht\n",
        "import mahotas.features"
      ],
      "execution_count": 3,
      "outputs": []
    },
    {
      "cell_type": "code",
      "metadata": {
        "id": "_VcTdaNVh9EE",
        "colab": {
          "base_uri": "https://localhost:8080/"
        },
        "outputId": "85c65d07-fd09-47c5-cf32-385da068a720"
      },
      "source": [
        "!git clone https://github.com/ucfilho/marquesgabi_fev_2020 #clonar do Github\n",
        "%cd marquesgabi_fev_2020\n",
        "import Go2BlackWhite\n",
        "import Go2Mahotas"
      ],
      "execution_count": 4,
      "outputs": [
        {
          "output_type": "stream",
          "text": [
            "fatal: destination path 'marquesgabi_fev_2020' already exists and is not an empty directory.\n",
            "/content/marquesgabi_fev_2020\n"
          ],
          "name": "stdout"
        }
      ]
    },
    {
      "cell_type": "code",
      "metadata": {
        "id": "1v7SRrc8mH2N",
        "colab": {
          "base_uri": "https://localhost:8080/"
        },
        "outputId": "ca65f157-7ede-4982-cb0c-36bccb30cd88"
      },
      "source": [
        "!git clone https://github.com/marquesgabi/Doutorado\n",
        "%cd Doutorado\n",
        "\n",
        "Transfere='Fotos_Grandes_3cdAmostra.zip'\n",
        "file_name = zipfile.ZipFile(Transfere, 'r')\n",
        "file_name.extractall()"
      ],
      "execution_count": 5,
      "outputs": [
        {
          "output_type": "stream",
          "text": [
            "fatal: destination path 'Doutorado' already exists and is not an empty directory.\n",
            "/content/marquesgabi_fev_2020/Doutorado\n"
          ],
          "name": "stdout"
        }
      ]
    },
    {
      "cell_type": "code",
      "metadata": {
        "id": "0kA4IWSmasoD"
      },
      "source": [
        "Size=1200 # tamanho da foto\n",
        "ww,img_name=Go2BlackWhite.BlackWhite(Transfere,Size) #Pegamos a primeira foto Grande\n",
        "img=ww[0] \n",
        "# this is the big image we want to segment \n",
        "# ww[0], change it if you want to segment another picture"
      ],
      "execution_count": 6,
      "outputs": []
    },
    {
      "cell_type": "code",
      "metadata": {
        "id": "tHgqAnaFyCjp",
        "colab": {
          "base_uri": "https://localhost:8080/"
        },
        "outputId": "44505c06-799a-4de3-ee7c-4f84038c7e3c"
      },
      "source": [
        "!git clone https://github.com/ucfilho/MarquesGabi_Routines\n",
        "%cd MarquesGabi_Routines"
      ],
      "execution_count": 7,
      "outputs": [
        {
          "output_type": "stream",
          "text": [
            "fatal: destination path 'MarquesGabi_Routines' already exists and is not an empty directory.\n",
            "/content/marquesgabi_fev_2020/Doutorado/MarquesGabi_Routines\n"
          ],
          "name": "stdout"
        }
      ]
    },
    {
      "cell_type": "code",
      "metadata": {
        "id": "qc4rFvzkyWCi"
      },
      "source": [
        "from segment_not_conclude import Segmenta  # got image provided segmented"
      ],
      "execution_count": 8,
      "outputs": []
    },
    {
      "cell_type": "code",
      "metadata": {
        "id": "SnTtH3KDP863"
      },
      "source": [
        "df=Segmenta(img)\n"
      ],
      "execution_count": 9,
      "outputs": []
    },
    {
      "cell_type": "code",
      "metadata": {
        "id": "YN5MN5a_v4np",
        "colab": {
          "base_uri": "https://localhost:8080/"
        },
        "outputId": "b9befb2f-fd84-44d0-cfc7-23de40bccdec"
      },
      "source": [
        "print(df)"
      ],
      "execution_count": 10,
      "outputs": [
        {
          "output_type": "stream",
          "text": [
            "    Width           0           1  ...         781         782         783\n",
            "0     119  152.674728  155.000000  ...   39.806229   38.923874   37.636681\n",
            "1     162   73.568359   74.152718  ...   58.321140   57.419601   58.403294\n",
            "2     149   93.470757   52.097652  ...   83.379456   89.032066   93.460884\n",
            "3     140   93.919998   97.119995  ...   46.919998   57.239998   70.879997\n",
            "4     123  103.036354   88.712471  ...    7.918766    8.528192    8.169806\n",
            "5     146   91.340782   91.987053  ...   74.215797   76.681366   77.213554\n",
            "6     171   73.724289   71.752602  ...  103.501862  100.987320  102.441429\n",
            "7     184    0.000000    0.145558  ...    6.283081    6.781663    6.300567\n",
            "8     114   85.762085   82.796860  ...  138.173279  136.533081  131.830719\n",
            "9     101   42.455544   40.375942  ...    0.000000    0.000000    0.000000\n",
            "10    101   50.875599   49.812569  ...  124.096657  126.936874  124.719040\n",
            "11    155   76.768044   77.085373  ...    5.967118    2.112216    2.019813\n",
            "12    114    6.244690    3.705448  ...   76.705139   78.863342   78.941521\n",
            "13    187   94.997597   92.813606  ...  100.200974  122.762955  122.580803\n",
            "14    147   89.798195   88.002274  ...    2.473923    1.603175    1.353742\n",
            "15    196    4.183673    1.102041  ...   91.020409   93.632652   91.387756\n",
            "16    158   36.660789   33.676655  ...   87.342567   86.681625   84.923248\n",
            "17    196   97.571426   97.877548  ...    3.102041    1.653061    1.122449\n",
            "18    125   66.207878   62.200325  ...  250.405457  216.172043   55.021568\n",
            "19    132   64.191925   60.322319  ...    0.745638    0.000000    0.000000\n",
            "20    133   62.213299   66.944603  ...   95.675903   98.598343  101.783936\n",
            "21    126   38.679012   43.197533  ...   79.382721   79.703712   76.345680\n",
            "22    125  101.752838  107.136261  ...    0.000000    0.000000    0.000000\n",
            "23    113  130.759186  144.684921  ...   65.242775   67.050591   65.976112\n",
            "24    193   43.195709   28.820454  ...   91.095810   88.771324   80.144997\n",
            "25    194   59.349445   57.503773  ...   58.003399   59.991707   61.089378\n",
            "26    156   55.746223   64.178841  ...   84.567390   85.356346   75.554245\n",
            "27    147   68.714287   73.829933  ...   74.217690   61.854881   59.705215\n",
            "28    154   77.495865   74.537201  ...  146.338852  155.074387  149.190094\n",
            "29    174   75.227379   86.501526  ...    6.236360   11.369799   14.745937\n",
            "30    110   73.218178   69.863472  ...   54.127934   56.683968   63.173882\n",
            "31    196   57.081631   57.265305  ...   12.877551    3.408163    0.714286\n",
            "32    123   60.807190   58.518082  ...   62.606522   62.331947   60.561966\n",
            "33    127   66.230888   68.078369  ...   72.643814   69.116623   66.142471\n",
            "34    193   59.420471   56.920906  ...   74.250977   83.931404   86.845146\n",
            "35    107   80.400826   81.670624  ...    0.000000    0.000000    0.000000\n",
            "36    167   60.752701   66.778801  ...   85.875046   86.868591   86.029121\n",
            "37    161   79.680527   78.663521  ...  115.387527  106.013229   94.618149\n",
            "38    111   30.661552   31.457266  ...   83.709518   83.170601   82.638992\n",
            "39    101   20.569063   20.019312  ...   45.298698   43.985592   46.891186\n",
            "40    140  166.919998  152.800003  ...    0.000000    0.000000    0.000000\n",
            "41    178   32.711910   57.295166  ...   42.911884   81.714050   91.984222\n",
            "42    145  110.042900  107.616745  ...   37.779213   39.547779   39.742210\n",
            "43    154   76.818184   78.834724  ...   72.966942   78.859505   81.338852\n",
            "44    136    2.000000    2.643599  ...  115.486160  107.552765  103.727516\n",
            "45    181   34.607616   32.484966  ...  109.904251  109.581223  115.192093\n",
            "46    195   42.804813   44.890285  ...   49.253391   29.075689    1.574569\n",
            "47    176  125.225212  121.678711  ...   34.252064   23.692663   16.508265\n",
            "48    166   84.316582   80.583969  ...   73.750031   57.830597   51.841339\n",
            "49    152  102.259697  101.988228  ...   84.153740   75.952911   70.645424\n",
            "\n",
            "[50 rows x 785 columns]\n"
          ],
          "name": "stdout"
        }
      ]
    },
    {
      "cell_type": "code",
      "metadata": {
        "colab": {
          "base_uri": "https://localhost:8080/"
        },
        "id": "Rvy8kWb5wsIE",
        "outputId": "06d0c0de-aede-4879-dc09-21d6fe66b8ac"
      },
      "source": [
        "del df['Width']\n",
        "print(df)"
      ],
      "execution_count": 11,
      "outputs": [
        {
          "output_type": "stream",
          "text": [
            "           0           1           2    ...         781         782         783\n",
            "0   152.674728  155.000000  155.584793  ...   39.806229   38.923874   37.636681\n",
            "1    73.568359   74.152718   71.945892  ...   58.321140   57.419601   58.403294\n",
            "2    93.470757   52.097652   44.862793  ...   83.379456   89.032066   93.460884\n",
            "3    93.919998   97.119995  100.559998  ...   46.919998   57.239998   70.879997\n",
            "4   103.036354   88.712471   76.601295  ...    7.918766    8.528192    8.169806\n",
            "5    91.340782   91.987053   97.362930  ...   74.215797   76.681366   77.213554\n",
            "6    73.724289   71.752602   72.170074  ...  103.501862  100.987320  102.441429\n",
            "7     0.000000    0.145558    1.173440  ...    6.283081    6.781663    6.300567\n",
            "8    85.762085   82.796860   81.630348  ...  138.173279  136.533081  131.830719\n",
            "9    42.455544   40.375942   43.113224  ...    0.000000    0.000000    0.000000\n",
            "10   50.875599   49.812569   50.958633  ...  124.096657  126.936874  124.719040\n",
            "11   76.768044   77.085373   79.223190  ...    5.967118    2.112216    2.019813\n",
            "12    6.244690    3.705448    1.214528  ...   76.705139   78.863342   78.941521\n",
            "13   94.997597   92.813606   92.789665  ...  100.200974  122.762955  122.580803\n",
            "14   89.798195   88.002274   86.496597  ...    2.473923    1.603175    1.353742\n",
            "15    4.183673    1.102041    5.306122  ...   91.020409   93.632652   91.387756\n",
            "16   36.660789   33.676655   62.237782  ...   87.342567   86.681625   84.923248\n",
            "17   97.571426   97.877548  105.591835  ...    3.102041    1.653061    1.122449\n",
            "18   66.207878   62.200325   47.928898  ...  250.405457  216.172043   55.021568\n",
            "19   64.191925   60.322319   61.064278  ...    0.745638    0.000000    0.000000\n",
            "20   62.213299   66.944603   71.612190  ...   95.675903   98.598343  101.783936\n",
            "21   38.679012   43.197533   45.444443  ...   79.382721   79.703712   76.345680\n",
            "22  101.752838  107.136261  108.031937  ...    0.000000    0.000000    0.000000\n",
            "23  130.759186  144.684921  159.456406  ...   65.242775   67.050591   65.976112\n",
            "24   43.195709   28.820454   23.031116  ...   91.095810   88.771324   80.144997\n",
            "25   59.349445   57.503773   54.230946  ...   58.003399   59.991707   61.089378\n",
            "26   55.746223   64.178841   72.278770  ...   84.567390   85.356346   75.554245\n",
            "27   68.714287   73.829933   70.040817  ...   74.217690   61.854881   59.705215\n",
            "28   77.495865   74.537201   68.743805  ...  146.338852  155.074387  149.190094\n",
            "29   75.227379   86.501526   90.309822  ...    6.236360   11.369799   14.745937\n",
            "30   73.218178   69.863472   65.078682  ...   54.127934   56.683968   63.173882\n",
            "31   57.081631   57.265305   53.428570  ...   12.877551    3.408163    0.714286\n",
            "32   60.807190   58.518082   52.660789  ...   62.606522   62.331947   60.561966\n",
            "33   66.230888   68.078369   67.209618  ...   72.643814   69.116623   66.142471\n",
            "34   59.420471   56.920906   54.545864  ...   74.250977   83.931404   86.845146\n",
            "35   80.400826   81.670624   83.329376  ...    0.000000    0.000000    0.000000\n",
            "36   60.752701   66.778801   78.604759  ...   85.875046   86.868591   86.029121\n",
            "37   79.680527   78.663521   82.601143  ...  115.387527  106.013229   94.618149\n",
            "38   30.661552   31.457266   32.133835  ...   83.709518   83.170601   82.638992\n",
            "39   20.569063   20.019312   20.619352  ...   45.298698   43.985592   46.891186\n",
            "40  166.919998  152.800003  120.159996  ...    0.000000    0.000000    0.000000\n",
            "41   32.711910   57.295166   77.454491  ...   42.911884   81.714050   91.984222\n",
            "42  110.042900  107.616745  110.100883  ...   37.779213   39.547779   39.742210\n",
            "43   76.818184   78.834724   81.033066  ...   72.966942   78.859505   81.338852\n",
            "44    2.000000    2.643599    1.662630  ...  115.486160  107.552765  103.727516\n",
            "45   34.607616   32.484966   38.364826  ...  109.904251  109.581223  115.192093\n",
            "46   42.804813   44.890285   54.014313  ...   49.253391   29.075689    1.574569\n",
            "47  125.225212  121.678711   88.040283  ...   34.252064   23.692663   16.508265\n",
            "48   84.316582   80.583969   82.615463  ...   73.750031   57.830597   51.841339\n",
            "49  102.259697  101.988228   96.725075  ...   84.153740   75.952911   70.645424\n",
            "\n",
            "[50 rows x 784 columns]\n"
          ],
          "name": "stdout"
        }
      ]
    },
    {
      "cell_type": "code",
      "metadata": {
        "colab": {
          "base_uri": "https://localhost:8080/",
          "height": 265
        },
        "id": "EiPlZYBKzTOZ",
        "outputId": "aa1b4908-7950-4fa0-d239-e063b3fafe29"
      },
      "source": [
        "Size=28\n",
        "#qual_img=7\n",
        "#L = Width[qual_img]\n",
        "data=np.array(df.iloc[0,:]).reshape(Size,Size)\n",
        "img = Image.fromarray(data.astype('uint8'), mode='L')\n",
        "img=np.float32(img)\n",
        "\n",
        "img28=cv2.resize(img,(Size,Size), interpolation = cv2.INTER_AREA)\n",
        "Foto=np.array(img28).reshape(28,28)\n",
        "plt.axis('off')\n",
        "plt.imshow(Foto, cmap = \"gray\")"
      ],
      "execution_count": 12,
      "outputs": [
        {
          "output_type": "execute_result",
          "data": {
            "text/plain": [
              "<matplotlib.image.AxesImage at 0x7f88a1b72e50>"
            ]
          },
          "metadata": {
            "tags": []
          },
          "execution_count": 12
        },
        {
          "output_type": "display_data",
          "data": {
            "image/png": "[encoded data removed]",
            "text/plain": [
              "<Figure size 432x288 with 1 Axes>"
            ]
          },
          "metadata": {
            "tags": [],
            "needs_background": "light"
          }
        }
      ]
    },
    {
      "cell_type": "code",
      "metadata": {
        "colab": {
          "base_uri": "https://localhost:8080/",
          "height": 691
        },
        "id": "yGujT4xXx8JT",
        "outputId": "faf11ad0-cba0-4b82-8a3d-fc804d3ca125"
      },
      "source": [
        "Num = 25\n",
        "Size=28\n",
        "Picture_Size = 25\n",
        "fig = plt.gcf()\n",
        "fig.set_size_inches(Picture_Size, Picture_Size)\n",
        "for i in range(Num):\n",
        "  data=np.array(df.iloc[i,:]).reshape(Size,Size)\n",
        "  img = Image.fromarray(data.astype('uint8'), mode='L')\n",
        "  img=np.float32(img)\n",
        "\n",
        "  img28=cv2.resize(img,(Size,Size), interpolation = cv2.INTER_AREA)\n",
        "  Foto=np.array(img28).reshape(28,28)\n",
        "  plt.subplot(25,5,i+1)\n",
        "  plt.xticks([])\n",
        "  plt.yticks([])\n",
        "  plt.grid(False)\n",
        "  plt.imshow(Foto, cmap = \"gray\")\n",
        "  #plt.xlabel(i)\n",
        "\n",
        "plt.subplots_adjust(bottom=0.15,left=0.4, right=0.8, top=2,hspace=0.1, wspace=0.01)\n",
        "#plt.subplots_adjust(bottom=0.2, right=2, top=3,hspace=0.4, wspace=0.4)\n"
      ],
      "execution_count": 13,
      "outputs": [
        {
          "output_type": "display_data",
          "data": {
            "image/png": "[encoded data removed]",
            "text/plain": [
              "<Figure size 1800x1800 with 25 Axes>"
            ]
          },
          "metadata": {
            "tags": []
          }
        }
      ]
    },
    {
      "cell_type": "code",
      "metadata": {
        "id": "xzpQ1Pz0fX5L",
        "outputId": "06d836f1-b598-4b57-eff8-a8a9d71a2d42",
        "colab": {
          "base_uri": "https://localhost:8080/"
        }
      },
      "source": [
        "!git clone https://github.com/ucfilho/MarquesGabi_Routines\n",
        "%cd MarquesGabi_Routines\n",
        "filename = 'model_ANN.pkl'\n",
        "model = joblib.load(filename)"
      ],
      "execution_count": 14,
      "outputs": [
        {
          "output_type": "stream",
          "text": [
            "fatal: destination path 'MarquesGabi_Routines' already exists and is not an empty directory.\n",
            "/content/marquesgabi_fev_2020/Doutorado/MarquesGabi_Routines/MarquesGabi_Routines\n"
          ],
          "name": "stdout"
        }
      ]
    },
    {
      "cell_type": "code",
      "metadata": {
        "id": "QISvYcJBgWbE",
        "outputId": "b14d517c-95e2-4357-87bf-50066efff208",
        "colab": {
          "base_uri": "https://localhost:8080/"
        }
      },
      "source": [
        "prediction = model.predict(np.array(df))\n",
        "print(prediction)"
      ],
      "execution_count": 15,
      "outputs": [
        {
          "output_type": "stream",
          "text": [
            "[1 1 1 1 1 1 1 1 1 1 1 1 1 1 1 1 1 1 1 1 1 1 1 1 1 1 1 1 1 1 1 1 1 1 1 1 1\n",
            " 1 1 1 1 1 1 1 1 1 1 1 1 1]\n"
          ],
          "name": "stdout"
        }
      ]
    }
  ]
}