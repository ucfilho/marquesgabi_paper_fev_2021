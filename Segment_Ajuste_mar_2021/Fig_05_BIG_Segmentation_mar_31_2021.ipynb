{
  "nbformat": 4,
  "nbformat_minor": 0,
  "metadata": {
    "colab": {
      "name": "Fig_05_BIG_Segmentation_mar_31_2021.ipynb",
      "provenance": [],
      "collapsed_sections": [],
      "include_colab_link": true
    },
    "kernelspec": {
      "name": "python3",
      "display_name": "Python 3"
    }
  },
  "cells": [
    {
      "cell_type": "markdown",
      "metadata": {
        "id": "view-in-github",
        "colab_type": "text"
      },
      "source": [
        "<a href=\"https://colab.research.google.com/github/ucfilho/marquesgabi_paper_fev_2021/blob/main/Segment_Ajuste_mar_2021/Fig_05_BIG_Segmentation_mar_31_2021.ipynb\" target=\"_parent\"><img src=\"https://colab.research.google.com/assets/colab-badge.svg\" alt=\"Open In Colab\"/></a>"
      ]
    },
    {
      "cell_type": "code",
      "metadata": {
        "id": "Sog7Z9pyhUD_"
      },
      "source": [
        "import matplotlib.pyplot as plt\n",
        "import numpy as np\n",
        "import cv2\n",
        "import zipfile\n",
        "#import random\n",
        "from random import randint\n",
        "from PIL import Image\n",
        "import re\n",
        "from sklearn.model_selection import train_test_split\n",
        "#import scikit-image\n",
        "import skimage\n",
        "import pandas as pd\n",
        "from sklearn.externals import joblib"
      ],
      "execution_count": 17,
      "outputs": []
    },
    {
      "cell_type": "code",
      "metadata": {
        "id": "uZEvJvfoibE4",
        "colab": {
          "base_uri": "https://localhost:8080/"
        },
        "outputId": "241cd756-9a9e-41d5-bb0b-54f8605b801c"
      },
      "source": [
        "!pip install mahotas"
      ],
      "execution_count": 18,
      "outputs": [
        {
          "output_type": "stream",
          "text": [
            "Requirement already satisfied: mahotas in /usr/local/lib/python3.7/dist-packages (1.4.11)\n",
            "Requirement already satisfied: numpy in /usr/local/lib/python3.7/dist-packages (from mahotas) (1.19.5)\n"
          ],
          "name": "stdout"
        }
      ]
    },
    {
      "cell_type": "code",
      "metadata": {
        "id": "nf_a6PJ1iUnT"
      },
      "source": [
        "import mahotas.features.texture as mht\n",
        "import mahotas.features"
      ],
      "execution_count": 19,
      "outputs": []
    },
    {
      "cell_type": "code",
      "metadata": {
        "id": "_VcTdaNVh9EE",
        "colab": {
          "base_uri": "https://localhost:8080/"
        },
        "outputId": "7162f274-7307-43a0-8fd8-b8abfd13cb15"
      },
      "source": [
        "!git clone https://github.com/ucfilho/marquesgabi_fev_2020 #clonar do Github\n",
        "%cd marquesgabi_fev_2020\n",
        "import Go2BlackWhite\n",
        "import Go2Mahotas"
      ],
      "execution_count": 20,
      "outputs": [
        {
          "output_type": "stream",
          "text": [
            "fatal: destination path 'marquesgabi_fev_2020' already exists and is not an empty directory.\n",
            "/content/marquesgabi_fev_2020/Doutorado/MarquesGabi_Routines/MarquesGabi_Routines/marquesgabi_fev_2020\n"
          ],
          "name": "stdout"
        }
      ]
    },
    {
      "cell_type": "code",
      "metadata": {
        "id": "1v7SRrc8mH2N",
        "colab": {
          "base_uri": "https://localhost:8080/"
        },
        "outputId": "fca8b404-d6f9-4ff4-f4ba-cf6c1e4b34a9"
      },
      "source": [
        "!git clone https://github.com/marquesgabi/Doutorado\n",
        "%cd Doutorado\n",
        "\n",
        "Transfere='Fotos_Grandes_3cdAmostra.zip'\n",
        "file_name = zipfile.ZipFile(Transfere, 'r')\n",
        "file_name.extractall()"
      ],
      "execution_count": 21,
      "outputs": [
        {
          "output_type": "stream",
          "text": [
            "fatal: destination path 'Doutorado' already exists and is not an empty directory.\n",
            "/content/marquesgabi_fev_2020/Doutorado/MarquesGabi_Routines/MarquesGabi_Routines/marquesgabi_fev_2020/Doutorado\n"
          ],
          "name": "stdout"
        }
      ]
    },
    {
      "cell_type": "code",
      "metadata": {
        "id": "0kA4IWSmasoD"
      },
      "source": [
        "Size=1200 # tamanho da foto\n",
        "ww,img_name=Go2BlackWhite.BlackWhite(Transfere,Size) #Pegamos a primeira foto Grande\n",
        "img=ww[0] \n",
        "# this is the big image we want to segment \n",
        "# ww[0], change it if you want to segment another picture"
      ],
      "execution_count": 22,
      "outputs": []
    },
    {
      "cell_type": "code",
      "metadata": {
        "id": "tHgqAnaFyCjp",
        "colab": {
          "base_uri": "https://localhost:8080/"
        },
        "outputId": "9793be86-9f12-4a8d-e521-fb6758156afe"
      },
      "source": [
        "!git clone https://github.com/ucfilho/MarquesGabi_Routines\n",
        "%cd MarquesGabi_Routines"
      ],
      "execution_count": 23,
      "outputs": [
        {
          "output_type": "stream",
          "text": [
            "fatal: destination path 'MarquesGabi_Routines' already exists and is not an empty directory.\n",
            "/content/marquesgabi_fev_2020/Doutorado/MarquesGabi_Routines/MarquesGabi_Routines/marquesgabi_fev_2020/Doutorado/MarquesGabi_Routines\n"
          ],
          "name": "stdout"
        }
      ]
    },
    {
      "cell_type": "code",
      "metadata": {
        "id": "qc4rFvzkyWCi"
      },
      "source": [
        "from segment_not_conclude import Segmenta  # got image provided segmented"
      ],
      "execution_count": 24,
      "outputs": []
    },
    {
      "cell_type": "code",
      "metadata": {
        "id": "SnTtH3KDP863"
      },
      "source": [
        "df=Segmenta(img)\n"
      ],
      "execution_count": 25,
      "outputs": []
    },
    {
      "cell_type": "code",
      "metadata": {
        "id": "YN5MN5a_v4np",
        "colab": {
          "base_uri": "https://localhost:8080/"
        },
        "outputId": "6ef6d7c7-efe5-448f-daad-88615cd3f516"
      },
      "source": [
        "print(df)"
      ],
      "execution_count": 26,
      "outputs": [
        {
          "output_type": "stream",
          "text": [
            "    Width           0           1  ...         781         782         783\n",
            "0     172   87.137375   84.548950  ...   55.378044   55.151974   54.775021\n",
            "1     170  120.708374   95.566513  ...   28.960415   15.384084   10.845952\n",
            "2     154   57.487606   53.669426  ...    5.016529    1.016529    0.074380\n",
            "3     196   99.040817  106.530609  ...  110.734688  107.632652  105.714287\n",
            "4     152   93.245850   97.137802  ...    6.608726    6.807479    6.928670\n",
            "5     131  100.436745  108.097252  ...    7.625954    7.807062    8.541285\n",
            "6     191   34.278172   30.919714  ...  118.762924  119.547592  118.266113\n",
            "7     121  102.880615  110.120689  ...   82.246231   49.594704   42.859097\n",
            "8     109   64.809525   62.845047  ...  116.393234  121.029953  121.292900\n",
            "9     119  113.159180  119.858139  ...  156.179947  163.979248  171.024231\n",
            "10    182  108.597649   90.727821  ...    2.082840    1.142012    1.000000\n",
            "11    117  102.955452   80.374237  ...    8.216305    8.866755    8.449485\n",
            "12    190   76.241219   77.406433  ...   43.806534   36.850307   31.246315\n",
            "13    123   52.861858   50.174042  ...   32.617821   34.689804   35.107277\n",
            "14    180   56.668152   78.876053  ...   85.694321   81.914078   81.906174\n",
            "15    123   59.209927   94.391762  ...   28.181311   27.980370   28.178928\n",
            "16    146  104.433846   92.653038  ...   44.048409   20.493338   14.600300\n",
            "17    190   75.249748   71.981270  ...    2.535734    0.060942    0.000000\n",
            "18    147  102.623589  101.104317  ...   86.117920   90.251701   94.102051\n",
            "19    153    0.837370    1.039429  ...   31.794565   30.320475   30.272802\n",
            "20    141   28.935368   30.361855  ...    5.872994    6.356070    6.164529\n",
            "21    142   86.930367   85.643715  ...    2.341004    1.628050    1.386035\n",
            "22    161   13.495275   10.194707  ...   81.678650   87.139877   97.102081\n",
            "23    113   94.349518  108.858253  ...   26.649307   24.963270   21.135876\n",
            "24    127   41.256432   32.519001  ...    0.859508    0.833282    0.810714\n",
            "25    105   64.844452   64.631119  ...   69.000008   70.506676   72.008896\n",
            "26    137   85.753365   86.187485  ...   59.280834   44.661461   33.428577\n",
            "27    187  128.533966  127.656754  ...   40.130371   39.209358   41.646259\n",
            "28    189   35.919067   38.530865  ...  104.171478  110.237305  111.899857\n",
            "29    121   87.461105   88.623741  ...    0.051636    0.000000    0.000000\n",
            "30    176   90.274277   90.790802  ...   24.195763   12.517044    7.393079\n",
            "31    160   82.658752   84.813751  ...   51.141876   33.046249    2.206250\n",
            "32    113   67.754562   69.816422  ...  118.726440  109.403168   94.761925\n",
            "33    170   49.620209   51.785751  ...   75.212318   71.575920   68.284019\n",
            "34    181   38.049633   40.330029  ...   81.694847   79.043190   74.117279\n",
            "35    188   71.581253   73.195564  ...  105.533730   96.613396   73.134903\n",
            "36    104   68.502960   69.846161  ...   58.215981   57.337288   56.075447\n",
            "37    120    0.696667    0.766667  ...   51.688889   48.956665   49.334446\n",
            "38    100   56.979202   59.324799  ...   67.593597   68.820801   69.179199\n",
            "39    184  107.541100  105.894608  ...   20.561909    7.087429    0.847826\n",
            "40    168   60.166668   62.611111  ...  100.916664   97.083336   97.638893\n",
            "41    200    0.568800    0.531600  ...   94.708008   87.185204   74.114403\n",
            "42    142   68.518753   63.706207  ...    7.859949    7.426900    7.304306\n",
            "43    120  124.624443  121.230003  ...    7.771111    5.316667   68.204445\n",
            "44    118   25.613041   53.163174  ...    9.334387    9.525136    9.811836\n",
            "45    145   84.650032   83.926895  ...    0.324946    0.193103    0.193103\n",
            "46    102    0.920415    0.758939  ...    0.687812    0.504806    0.450980\n",
            "47    150   59.539909   71.851021  ...    6.635911    6.783112    6.761778\n",
            "48    190   73.711464   74.499496  ...   34.252186   36.488308   46.421162\n",
            "49    152   93.282547   89.878815  ...    6.885041    6.763850    6.734765\n",
            "\n",
            "[50 rows x 785 columns]\n"
          ],
          "name": "stdout"
        }
      ]
    },
    {
      "cell_type": "code",
      "metadata": {
        "colab": {
          "base_uri": "https://localhost:8080/"
        },
        "id": "Rvy8kWb5wsIE",
        "outputId": "3c0c77ef-82ba-4930-b9fc-303464be5c6a"
      },
      "source": [
        "del df['Width']\n",
        "print(df)"
      ],
      "execution_count": 27,
      "outputs": [
        {
          "output_type": "stream",
          "text": [
            "           0           1           2    ...         781         782         783\n",
            "0    87.137375   84.548950   79.955116  ...   55.378044   55.151974   54.775021\n",
            "1   120.708374   95.566513   53.979515  ...   28.960415   15.384084   10.845952\n",
            "2    57.487606   53.669426   46.413227  ...    5.016529    1.016529    0.074380\n",
            "3    99.040817  106.530609  124.489792  ...  110.734688  107.632652  105.714287\n",
            "4    93.245850   97.137802   98.520775  ...    6.608726    6.807479    6.928670\n",
            "5   100.436745  108.097252  115.084381  ...    7.625954    7.807062    8.541285\n",
            "6    34.278172   30.919714   59.730907  ...  118.762924  119.547592  118.266113\n",
            "7   102.880615  110.120689  113.622772  ...   82.246231   49.594704   42.859097\n",
            "8    64.809525   62.845047   58.837723  ...  116.393234  121.029953  121.292900\n",
            "9   113.159180  119.858139  104.584770  ...  156.179947  163.979248  171.024231\n",
            "10  108.597649   90.727821   70.970413  ...    2.082840    1.142012    1.000000\n",
            "11  102.955452   80.374237   71.078163  ...    8.216305    8.866755    8.449485\n",
            "12   76.241219   77.406433   63.925758  ...   43.806534   36.850307   31.246315\n",
            "13   52.861858   50.174042   49.727345  ...   32.617821   34.689804   35.107277\n",
            "14   56.668152   78.876053   88.536308  ...   85.694321   81.914078   81.906174\n",
            "15   59.209927   94.391762  110.296326  ...   28.181311   27.980370   28.178928\n",
            "16  104.433846   92.653038   93.855888  ...   44.048409   20.493338   14.600300\n",
            "17   75.249748   71.981270   67.502487  ...    2.535734    0.060942    0.000000\n",
            "18  102.623589  101.104317  100.975067  ...   86.117920   90.251701   94.102051\n",
            "19    0.837370    1.039429    1.459567  ...   31.794565   30.320475   30.272802\n",
            "20   28.935368   30.361855   29.873549  ...    5.872994    6.356070    6.164529\n",
            "21   86.930367   85.643715   83.358261  ...    2.341004    1.628050    1.386035\n",
            "22   13.495275   10.194707   10.640832  ...   81.678650   87.139877   97.102081\n",
            "23   94.349518  108.858253  109.194458  ...   26.649307   24.963270   21.135876\n",
            "24   41.256432   32.519001   29.518074  ...    0.859508    0.833282    0.810714\n",
            "25   64.844452   64.631119   65.497787  ...   69.000008   70.506676   72.008896\n",
            "26   85.753365   86.187485   90.746071  ...   59.280834   44.661461   33.428577\n",
            "27  128.533966  127.656754  114.796501  ...   40.130371   39.209358   41.646259\n",
            "28   35.919067   38.530865   37.425240  ...  104.171478  110.237305  111.899857\n",
            "29   87.461105   88.623741   92.350861  ...    0.051636    0.000000    0.000000\n",
            "30   90.274277   90.790802   90.119827  ...   24.195763   12.517044    7.393079\n",
            "31   82.658752   84.813751   83.170006  ...   51.141876   33.046249    2.206250\n",
            "32   67.754562   69.816422   72.930374  ...  118.726440  109.403168   94.761925\n",
            "33   49.620209   51.785751   59.321941  ...   75.212318   71.575920   68.284019\n",
            "34   38.049633   40.330029   41.497452  ...   81.694847   79.043190   74.117279\n",
            "35   71.581253   73.195564   86.688538  ...  105.533730   96.613396   73.134903\n",
            "36   68.502960   69.846161   67.072487  ...   58.215981   57.337288   56.075447\n",
            "37    0.696667    0.766667    0.766667  ...   51.688889   48.956665   49.334446\n",
            "38   56.979202   59.324799   65.639999  ...   67.593597   68.820801   69.179199\n",
            "39  107.541100  105.894608  101.650749  ...   20.561909    7.087429    0.847826\n",
            "40   60.166668   62.611111   66.750000  ...  100.916664   97.083336   97.638893\n",
            "41    0.568800    0.531600    0.762800  ...   94.708008   87.185204   74.114403\n",
            "42   68.518753   63.706207   57.551281  ...    7.859949    7.426900    7.304306\n",
            "43  124.624443  121.230003  114.191109  ...    7.771111    5.316667   68.204445\n",
            "44   25.613041   53.163174   56.992527  ...    9.334387    9.525136    9.811836\n",
            "45   84.650032   83.926895   81.495125  ...    0.324946    0.193103    0.193103\n",
            "46    0.920415    0.758939    0.000000  ...    0.687812    0.504806    0.450980\n",
            "47   59.539909   71.851021   75.911293  ...    6.635911    6.783112    6.761778\n",
            "48   73.711464   74.499496   79.196228  ...   34.252186   36.488308   46.421162\n",
            "49   93.282547   89.878815   86.083786  ...    6.885041    6.763850    6.734765\n",
            "\n",
            "[50 rows x 784 columns]\n"
          ],
          "name": "stdout"
        }
      ]
    },
    {
      "cell_type": "code",
      "metadata": {
        "colab": {
          "base_uri": "https://localhost:8080/",
          "height": 265
        },
        "id": "EiPlZYBKzTOZ",
        "outputId": "15e5d2bd-954e-4321-b2bb-f100c75ff599"
      },
      "source": [
        "Size=28\n",
        "#qual_img=7\n",
        "#L = Width[qual_img]\n",
        "data=np.array(df.iloc[0,:]).reshape(Size,Size)\n",
        "img = Image.fromarray(data.astype('uint8'), mode='L')\n",
        "img=np.float32(img)\n",
        "\n",
        "img28=cv2.resize(img,(Size,Size), interpolation = cv2.INTER_AREA)\n",
        "Foto=np.array(img28).reshape(28,28)\n",
        "plt.axis('off')\n",
        "plt.imshow(Foto, cmap = \"gray\")"
      ],
      "execution_count": 28,
      "outputs": [
        {
          "output_type": "execute_result",
          "data": {
            "text/plain": [
              "<matplotlib.image.AxesImage at 0x7f81bab96550>"
            ]
          },
          "metadata": {
            "tags": []
          },
          "execution_count": 28
        },
        {
          "output_type": "display_data",
          "data": {
            "image/png": "[encoded data removed]",
            "text/plain": [
              "<Figure size 432x288 with 1 Axes>"
            ]
          },
          "metadata": {
            "tags": [],
            "needs_background": "light"
          }
        }
      ]
    },
    {
      "cell_type": "code",
      "metadata": {
        "colab": {
          "base_uri": "https://localhost:8080/",
          "height": 691
        },
        "id": "yGujT4xXx8JT",
        "outputId": "84d82d2b-da2b-4c06-bb92-ca52d66143b0"
      },
      "source": [
        "Num = 25\n",
        "Size=28\n",
        "Picture_Size = 25\n",
        "fig = plt.gcf()\n",
        "fig.set_size_inches(Picture_Size, Picture_Size)\n",
        "for i in range(Num):\n",
        "  data=np.array(df.iloc[i,:]).reshape(Size,Size)\n",
        "  img = Image.fromarray(data.astype('uint8'), mode='L')\n",
        "  img=np.float32(img)\n",
        "\n",
        "  img28=cv2.resize(img,(Size,Size), interpolation = cv2.INTER_AREA)\n",
        "  Foto=np.array(img28).reshape(28,28)\n",
        "  plt.subplot(25,5,i+1)\n",
        "  plt.xticks([])\n",
        "  plt.yticks([])\n",
        "  plt.grid(False)\n",
        "  plt.imshow(Foto, cmap = \"gray\")\n",
        "  #plt.xlabel(i)\n",
        "\n",
        "plt.subplots_adjust(bottom=0.15,left=0.4, right=0.8, top=2,hspace=0.1, wspace=0.01)\n",
        "#plt.subplots_adjust(bottom=0.2, right=2, top=3,hspace=0.4, wspace=0.4)\n"
      ],
      "execution_count": 29,
      "outputs": [
        {
          "output_type": "display_data",
          "data": {
            "image/png": "[encoded data removed]",
            "text/plain": [
              "<Figure size 1800x1800 with 25 Axes>"
            ]
          },
          "metadata": {
            "tags": []
          }
        }
      ]
    },
    {
      "cell_type": "code",
      "metadata": {
        "id": "xzpQ1Pz0fX5L",
        "colab": {
          "base_uri": "https://localhost:8080/"
        },
        "outputId": "83a5ea9e-9240-4bc4-e94f-aabece5006d5"
      },
      "source": [
        "!git clone https://github.com/ucfilho/MarquesGabi_Routines\n",
        "%cd MarquesGabi_Routines\n",
        "filename = 'model_ANN.pkl'\n",
        "model = joblib.load(filename)"
      ],
      "execution_count": 30,
      "outputs": [
        {
          "output_type": "stream",
          "text": [
            "fatal: destination path 'MarquesGabi_Routines' already exists and is not an empty directory.\n",
            "/content/marquesgabi_fev_2020/Doutorado/MarquesGabi_Routines/MarquesGabi_Routines/marquesgabi_fev_2020/Doutorado/MarquesGabi_Routines/MarquesGabi_Routines\n"
          ],
          "name": "stdout"
        }
      ]
    },
    {
      "cell_type": "code",
      "metadata": {
        "id": "QISvYcJBgWbE",
        "colab": {
          "base_uri": "https://localhost:8080/"
        },
        "outputId": "7d125643-658c-4efe-8e25-d9019c30a339"
      },
      "source": [
        "result = np.array(df)/255\n",
        "prediction = model.predict(result)\n",
        "print(prediction)"
      ],
      "execution_count": 31,
      "outputs": [
        {
          "output_type": "stream",
          "text": [
            "[1 1 1 1 1 1 1 1 1 1 1 1 1 1 1 1 1 1 1 1 1 1 1 1 1 1 1 1 1 1 1 1 1 1 1 1 1\n",
            " 1 1 1 1 1 1 1 1 1 0 1 1 1]\n"
          ],
          "name": "stdout"
        }
      ]
    },
    {
      "cell_type": "code",
      "metadata": {
        "id": "7_p9olz_sJ0f",
        "outputId": "c8b955f2-c1ff-4114-df13-bf9a9d61ebd9",
        "colab": {
          "base_uri": "https://localhost:8080/"
        }
      },
      "source": [
        "result"
      ],
      "execution_count": 32,
      "outputs": [
        {
          "output_type": "execute_result",
          "data": {
            "text/plain": [
              "array([[3.41715196e-01, 3.31564511e-01, 3.13549476e-01, ...,\n",
              "        2.17168801e-01, 2.16282250e-01, 2.14804002e-01],\n",
              "       [4.73366173e-01, 3.74770639e-01, 2.11684373e-01, ...,\n",
              "        1.13570254e-01, 6.03297402e-02, 4.25331452e-02],\n",
              "       [2.25441592e-01, 2.10468337e-01, 1.82012655e-01, ...,\n",
              "        1.96726631e-02, 3.98638856e-03, 2.91686958e-04],\n",
              "       ...,\n",
              "       [2.33489841e-01, 2.81768709e-01, 2.97691345e-01, ...,\n",
              "        2.60231822e-02, 2.66004375e-02, 2.65167760e-02],\n",
              "       [2.89064564e-01, 2.92154888e-01, 3.10573443e-01, ...,\n",
              "        1.34322297e-01, 1.43091404e-01, 1.82043771e-01],\n",
              "       [3.65813910e-01, 3.52465940e-01, 3.37583475e-01, ...,\n",
              "        2.70001617e-02, 2.65249028e-02, 2.64108415e-02]])"
            ]
          },
          "metadata": {
            "tags": []
          },
          "execution_count": 32
        }
      ]
    }
  ]
}