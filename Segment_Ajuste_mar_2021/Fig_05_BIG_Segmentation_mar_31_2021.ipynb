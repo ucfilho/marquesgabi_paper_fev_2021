{
  "nbformat": 4,
  "nbformat_minor": 0,
  "metadata": {
    "colab": {
      "name": "Fig_05_BIG_Segmentation_mar_31_2021.ipynb",
      "provenance": [],
      "collapsed_sections": [],
      "include_colab_link": true
    },
    "kernelspec": {
      "name": "python3",
      "display_name": "Python 3"
    }
  },
  "cells": [
    {
      "cell_type": "markdown",
      "metadata": {
        "id": "view-in-github",
        "colab_type": "text"
      },
      "source": [
        "<a href=\"https://colab.research.google.com/github/ucfilho/marquesgabi_paper_fev_2021/blob/main/Segment_Ajuste_mar_2021/Fig_05_BIG_Segmentation_mar_31_2021.ipynb\" target=\"_parent\"><img src=\"https://colab.research.google.com/assets/colab-badge.svg\" alt=\"Open In Colab\"/></a>"
      ]
    },
    {
      "cell_type": "code",
      "metadata": {
        "id": "Sog7Z9pyhUD_"
      },
      "source": [
        "import matplotlib.pyplot as plt\n",
        "import numpy as np\n",
        "import cv2\n",
        "import zipfile\n",
        "#import random\n",
        "from random import randint\n",
        "from PIL import Image\n",
        "import re\n",
        "from sklearn.model_selection import train_test_split\n",
        "#import scikit-image\n",
        "import skimage\n",
        "import pandas as pd"
      ],
      "execution_count": 1,
      "outputs": []
    },
    {
      "cell_type": "code",
      "metadata": {
        "id": "uZEvJvfoibE4",
        "colab": {
          "base_uri": "https://localhost:8080/"
        },
        "outputId": "5296badb-a351-4b05-8f3c-e5b500ba95de"
      },
      "source": [
        "!pip install mahotas"
      ],
      "execution_count": 2,
      "outputs": [
        {
          "output_type": "stream",
          "text": [
            "Collecting mahotas\n",
            "\u001b[?25l  Downloading https://files.pythonhosted.org/packages/19/ad/553b246b0a35dccc3ed58dc8889a67124bf5ab858e9c6b7255d56086e70c/mahotas-1.4.11-cp37-cp37m-manylinux2010_x86_64.whl (5.7MB)\n",
            "\u001b[K     |████████████████████████████████| 5.7MB 4.2MB/s \n",
            "\u001b[?25hRequirement already satisfied: numpy in /usr/local/lib/python3.7/dist-packages (from mahotas) (1.19.5)\n",
            "Installing collected packages: mahotas\n",
            "Successfully installed mahotas-1.4.11\n"
          ],
          "name": "stdout"
        }
      ]
    },
    {
      "cell_type": "code",
      "metadata": {
        "id": "nf_a6PJ1iUnT"
      },
      "source": [
        "import mahotas.features.texture as mht\n",
        "import mahotas.features"
      ],
      "execution_count": 3,
      "outputs": []
    },
    {
      "cell_type": "code",
      "metadata": {
        "id": "_VcTdaNVh9EE",
        "colab": {
          "base_uri": "https://localhost:8080/"
        },
        "outputId": "d3f630a3-3460-4cea-beee-97f9240dddd7"
      },
      "source": [
        "!git clone https://github.com/ucfilho/marquesgabi_fev_2020 #clonar do Github\n",
        "%cd marquesgabi_fev_2020\n",
        "import Go2BlackWhite\n",
        "import Go2Mahotas"
      ],
      "execution_count": 4,
      "outputs": [
        {
          "output_type": "stream",
          "text": [
            "Cloning into 'marquesgabi_fev_2020'...\n",
            "remote: Enumerating objects: 73, done.\u001b[K\n",
            "remote: Counting objects: 100% (73/73), done.\u001b[K\n",
            "remote: Compressing objects: 100% (71/71), done.\u001b[K\n",
            "remote: Total 73 (delta 37), reused 0 (delta 0), pack-reused 0\u001b[K\n",
            "Unpacking objects: 100% (73/73), done.\n",
            "/content/marquesgabi_fev_2020\n"
          ],
          "name": "stdout"
        }
      ]
    },
    {
      "cell_type": "code",
      "metadata": {
        "id": "1v7SRrc8mH2N",
        "colab": {
          "base_uri": "https://localhost:8080/"
        },
        "outputId": "c7f4e09e-5570-4790-d4e0-1671b8918e8b"
      },
      "source": [
        "!git clone https://github.com/marquesgabi/Doutorado\n",
        "%cd Doutorado\n",
        "\n",
        "Transfere='Fotos_Grandes_3cdAmostra.zip'\n",
        "file_name = zipfile.ZipFile(Transfere, 'r')\n",
        "file_name.extractall()"
      ],
      "execution_count": 5,
      "outputs": [
        {
          "output_type": "stream",
          "text": [
            "Cloning into 'Doutorado'...\n",
            "remote: Enumerating objects: 52, done.\u001b[K\n",
            "remote: Counting objects: 100% (52/52), done.\u001b[K\n",
            "remote: Compressing objects: 100% (52/52), done.\u001b[K\n",
            "remote: Total 302 (delta 21), reused 0 (delta 0), pack-reused 250\u001b[K\n",
            "Receiving objects: 100% (302/302), 78.58 MiB | 41.52 MiB/s, done.\n",
            "Resolving deltas: 100% (144/144), done.\n",
            "/content/marquesgabi_fev_2020/Doutorado\n"
          ],
          "name": "stdout"
        }
      ]
    },
    {
      "cell_type": "code",
      "metadata": {
        "id": "0kA4IWSmasoD"
      },
      "source": [
        "Size=1200 # tamanho da foto\n",
        "ww,img_name=Go2BlackWhite.BlackWhite(Transfere,Size) #Pegamos a primeira foto Grande\n",
        "img=ww[0] \n",
        "# this is the big image we want to segment \n",
        "# ww[0], change it if you want to segment another picture"
      ],
      "execution_count": 6,
      "outputs": []
    },
    {
      "cell_type": "code",
      "metadata": {
        "id": "tHgqAnaFyCjp",
        "colab": {
          "base_uri": "https://localhost:8080/"
        },
        "outputId": "d926ddb7-5fa4-46a1-b10b-b1516bcc5edb"
      },
      "source": [
        "!git clone https://github.com/ucfilho/MarquesGabi_Routines\n",
        "%cd MarquesGabi_Routines"
      ],
      "execution_count": 7,
      "outputs": [
        {
          "output_type": "stream",
          "text": [
            "Cloning into 'MarquesGabi_Routines'...\n",
            "remote: Enumerating objects: 15, done.\u001b[K\n",
            "remote: Counting objects:   6% (1/15)\u001b[K\rremote: Counting objects:  13% (2/15)\u001b[K\rremote: Counting objects:  20% (3/15)\u001b[K\rremote: Counting objects:  26% (4/15)\u001b[K\rremote: Counting objects:  33% (5/15)\u001b[K\rremote: Counting objects:  40% (6/15)\u001b[K\rremote: Counting objects:  46% (7/15)\u001b[K\rremote: Counting objects:  53% (8/15)\u001b[K\rremote: Counting objects:  60% (9/15)\u001b[K\rremote: Counting objects:  66% (10/15)\u001b[K\rremote: Counting objects:  73% (11/15)\u001b[K\rremote: Counting objects:  80% (12/15)\u001b[K\rremote: Counting objects:  86% (13/15)\u001b[K\rremote: Counting objects:  93% (14/15)\u001b[K\rremote: Counting objects: 100% (15/15)\u001b[K\rremote: Counting objects: 100% (15/15), done.\u001b[K\n",
            "remote: Compressing objects: 100% (13/13), done.\u001b[K\n",
            "remote: Total 15 (delta 5), reused 0 (delta 0), pack-reused 0\u001b[K\n",
            "Unpacking objects: 100% (15/15), done.\n",
            "/content/marquesgabi_fev_2020/Doutorado/MarquesGabi_Routines\n"
          ],
          "name": "stdout"
        }
      ]
    },
    {
      "cell_type": "code",
      "metadata": {
        "id": "qc4rFvzkyWCi"
      },
      "source": [
        "from segment_not_conclude import Segmenta  # got image provided segmented"
      ],
      "execution_count": 8,
      "outputs": []
    },
    {
      "cell_type": "code",
      "metadata": {
        "id": "SnTtH3KDP863"
      },
      "source": [
        "df=Segmenta(img)\n"
      ],
      "execution_count": 9,
      "outputs": []
    },
    {
      "cell_type": "code",
      "metadata": {
        "id": "YN5MN5a_v4np",
        "colab": {
          "base_uri": "https://localhost:8080/"
        },
        "outputId": "168f47de-8e16-4eb0-e280-acb429a344ed"
      },
      "source": [
        "print(df)"
      ],
      "execution_count": 10,
      "outputs": [
        {
          "output_type": "stream",
          "text": [
            "    Width           0           1  ...         781         782         783\n",
            "0     166   89.440842   87.931770  ...   80.023659   44.078236   64.499496\n",
            "1     140   45.200001   18.160000  ...    2.800000    1.080000    0.000000\n",
            "2     111   70.809105   74.150230  ...   91.059822   89.783707   92.583969\n",
            "3     109   65.410065   63.933254  ...  166.189468  182.586731  196.330185\n",
            "4     134   27.521721   30.510361  ...    0.900200    0.549788    0.520829\n",
            "5     168  104.027779  112.861115  ...    2.972222    1.638889    1.250000\n",
            "6     126   79.037048   82.888893  ...   80.271606   84.148148   85.358032\n",
            "7     112   91.937500   83.875000  ...   67.562500   71.125000   72.625000\n",
            "8     193  113.915024  122.194443  ...   18.625360   15.980350   10.310559\n",
            "9     113  125.002197  125.911743  ...   40.342312   41.296108   40.374813\n",
            "10    100   65.409599   74.249596  ...   55.643200   69.859200   79.708801\n",
            "11    110  139.074707  141.177185  ...   34.265781   34.851238   35.263802\n",
            "12    171   54.971924   54.635136  ...    6.713758    6.388495    6.630142\n",
            "13    166   90.631294  111.320801  ...    0.000000    0.000000    0.000000\n",
            "14    124   49.015610   54.123829  ...    0.640999    0.298647    0.000000\n",
            "15    199   52.353249   54.951466  ...   28.606979   31.753967   41.543068\n",
            "16    122   50.431873   50.644180  ...  100.585861  105.277336  108.732330\n",
            "17    114   61.081566   60.916592  ...    1.549708    1.514004    0.767313\n",
            "18    188   50.674507   55.196468  ...   96.878220  100.099136  103.471245\n",
            "19    164    0.129685    0.028554  ...   30.741226   22.907196   22.732302\n",
            "20    175  106.335991  108.908798  ...    0.000000    0.000000    0.204800\n",
            "21    109   50.812302   54.508286  ...    1.676374    1.051847    0.868025\n",
            "22    153   52.335812   46.767868  ...    7.334785    8.330984    8.575078\n",
            "23    159   97.250183   98.939590  ...   72.917168   71.217239   68.319962\n",
            "24    154   77.793388   76.768600  ...   68.256203   67.223145   65.520660\n",
            "25    168   27.527779   37.694447  ...    3.638889    1.000000    0.361111\n",
            "26    176   83.683884   85.404961  ...   80.812500   80.670448   78.018074\n",
            "27    175   41.155197   83.075195  ...   65.734398   68.334396   71.873596\n",
            "28    168    7.972222   39.166668  ...   67.527779   70.027779   64.055557\n",
            "29    110  116.525948   45.442314  ...    1.703471    1.115703    0.116033\n",
            "30    110  127.842636   85.896194  ...  112.272392  108.238014  111.879669\n",
            "31    162    1.374790    2.229233  ...    0.000000    0.000000    0.000000\n",
            "32    137  138.127075   99.597687  ...   16.003517    6.439394    0.358517\n",
            "33    189  102.923187  107.471886  ...   66.244171   63.008224   57.307266\n",
            "34    154  114.000015  115.057854  ...  107.768600  105.454559  102.909096\n",
            "35    183   81.806084   77.321091  ...  109.115494  103.492165   57.317959\n",
            "36    101    0.769434    0.783159  ...    0.000000    0.000000    0.000000\n",
            "37    187   72.068459   64.775833  ...   40.434269   35.120136   17.051731\n",
            "38    184  132.444214  101.853973  ...    5.956994    6.714083    6.307183\n",
            "39    114   96.917206   94.821182  ...   92.247772   90.408737   89.059402\n",
            "40    109   78.549026   84.256630  ...   78.799599   77.763481   76.018005\n",
            "41    167   80.108650   81.978355  ...    9.037579    4.587616    0.475887\n",
            "42    136   32.392735   29.559690  ...    0.965398    0.017301    0.691176\n",
            "43    119   69.356400   70.546715  ...    0.000000    0.000000    0.000000\n",
            "44    186   82.350563   83.662621  ...   25.795931   38.514858   67.181763\n",
            "45    167   85.804298   88.069420  ...   46.381443   22.792751   36.748791\n",
            "46    154   57.190086   58.975212  ...   58.330585   55.619835   52.545448\n",
            "47    155   83.818153   95.970085  ...    7.799251    7.492737    7.749136\n",
            "48    168   82.611115   83.333336  ...   68.583336   70.250000   71.916664\n",
            "49    170   74.447899   75.470734  ...   57.867687   66.630310   77.768311\n",
            "\n",
            "[50 rows x 785 columns]\n"
          ],
          "name": "stdout"
        }
      ]
    },
    {
      "cell_type": "code",
      "metadata": {
        "colab": {
          "base_uri": "https://localhost:8080/"
        },
        "id": "Rvy8kWb5wsIE",
        "outputId": "2e59bfbf-c79b-4908-c207-d1e72cde299a"
      },
      "source": [
        "del df['Width']\n",
        "print(df)"
      ],
      "execution_count": 11,
      "outputs": [
        {
          "output_type": "stream",
          "text": [
            "           0           1           2    ...         781         782         783\n",
            "0    89.440842   87.931770   85.730293  ...   80.023659   44.078236   64.499496\n",
            "1    45.200001   18.160000   13.000000  ...    2.800000    1.080000    0.000000\n",
            "2    70.809105   74.150230   78.191544  ...   91.059822   89.783707   92.583969\n",
            "3    65.410065   63.933254   64.049408  ...  166.189468  182.586731  196.330185\n",
            "4    27.521721   30.510361   37.993984  ...    0.900200    0.549788    0.520829\n",
            "5   104.027779  112.861115  112.305557  ...    2.972222    1.638889    1.250000\n",
            "6    79.037048   82.888893   86.148155  ...   80.271606   84.148148   85.358032\n",
            "7    91.937500   83.875000   89.375000  ...   67.562500   71.125000   72.625000\n",
            "8   113.915024  122.194443  129.750946  ...   18.625360   15.980350   10.310559\n",
            "9   125.002197  125.911743  119.781815  ...   40.342312   41.296108   40.374813\n",
            "10   65.409599   74.249596   79.161606  ...   55.643200   69.859200   79.708801\n",
            "11  139.074707  141.177185  147.135193  ...   34.265781   34.851238   35.263802\n",
            "12   54.971924   54.635136   59.799389  ...    6.713758    6.388495    6.630142\n",
            "13   90.631294  111.320801  118.161407  ...    0.000000    0.000000    0.000000\n",
            "14   49.015610   54.123829   50.043701  ...    0.640999    0.298647    0.000000\n",
            "15   52.353249   54.951466   53.246555  ...   28.606979   31.753967   41.543068\n",
            "16   50.431873   50.644180   50.858097  ...  100.585861  105.277336  108.732330\n",
            "17   61.081566   60.916592   59.465988  ...    1.549708    1.514004    0.767313\n",
            "18   50.674507   55.196468   58.665005  ...   96.878220  100.099136  103.471245\n",
            "19    0.129685    0.028554    0.403926  ...   30.741226   22.907196   22.732302\n",
            "20  106.335991  108.908798  117.095993  ...    0.000000    0.000000    0.204800\n",
            "21   50.812302   54.508286   56.910191  ...    1.676374    1.051847    0.868025\n",
            "22   52.335812   46.767868   42.130123  ...    7.334785    8.330984    8.575078\n",
            "23   97.250183   98.939590  100.997467  ...   72.917168   71.217239   68.319962\n",
            "24   77.793388   76.768600   75.603310  ...   68.256203   67.223145   65.520660\n",
            "25   27.527779   37.694447   43.638889  ...    3.638889    1.000000    0.361111\n",
            "26   83.683884   85.404961   85.764458  ...   80.812500   80.670448   78.018074\n",
            "27   41.155197   83.075195   92.337601  ...   65.734398   68.334396   71.873596\n",
            "28    7.972222   39.166668   56.527779  ...   67.527779   70.027779   64.055557\n",
            "29  116.525948   45.442314   32.709419  ...    1.703471    1.115703    0.116033\n",
            "30  127.842636   85.896194   60.322311  ...  112.272392  108.238014  111.879669\n",
            "31    1.374790    2.229233    1.322817  ...    0.000000    0.000000    0.000000\n",
            "32  138.127075   99.597687   85.766418  ...   16.003517    6.439394    0.358517\n",
            "33  102.923187  107.471886  107.434837  ...   66.244171   63.008224   57.307266\n",
            "34  114.000015  115.057854  110.471077  ...  107.768600  105.454559  102.909096\n",
            "35   81.806084   77.321091   83.437187  ...  109.115494  103.492165   57.317959\n",
            "36    0.769434    0.783159    0.522400  ...    0.000000    0.000000    0.000000\n",
            "37   72.068459   64.775833   54.769650  ...   40.434269   35.120136   17.051731\n",
            "38  132.444214  101.853973   22.975897  ...    5.956994    6.714083    6.307183\n",
            "39   96.917206   94.821182   93.365646  ...   92.247772   90.408737   89.059402\n",
            "40   78.549026   84.256630   87.911629  ...   78.799599   77.763481   76.018005\n",
            "41   80.108650   81.978355   79.367645  ...    9.037579    4.587616    0.475887\n",
            "42   32.392735   29.559690   37.366783  ...    0.965398    0.017301    0.691176\n",
            "43   69.356400   70.546715   62.726646  ...    0.000000    0.000000    0.000000\n",
            "44   82.350563   83.662621   86.005783  ...   25.795931   38.514858   67.181763\n",
            "45   85.804298   88.069420   88.417732  ...   46.381443   22.792751   36.748791\n",
            "46   57.190086   58.975212   62.330582  ...   58.330585   55.619835   52.545448\n",
            "47   83.818153   95.970085   97.913971  ...    7.799251    7.492737    7.749136\n",
            "48   82.611115   83.333336   85.277779  ...   68.583336   70.250000   71.916664\n",
            "49   74.447899   75.470734   66.422981  ...   57.867687   66.630310   77.768311\n",
            "\n",
            "[50 rows x 784 columns]\n"
          ],
          "name": "stdout"
        }
      ]
    },
    {
      "cell_type": "code",
      "metadata": {
        "colab": {
          "base_uri": "https://localhost:8080/",
          "height": 266
        },
        "id": "EiPlZYBKzTOZ",
        "outputId": "07fcbfc2-cc06-468d-caff-bb514d6e4f39"
      },
      "source": [
        "Size=28\n",
        "#qual_img=7\n",
        "#L = Width[qual_img]\n",
        "data=np.array(df.iloc[0,:]).reshape(Size,Size)\n",
        "img = Image.fromarray(data.astype('uint8'), mode='L')\n",
        "img=np.float32(img)\n",
        "\n",
        "img28=cv2.resize(img,(Size,Size), interpolation = cv2.INTER_AREA)\n",
        "Foto=np.array(img28).reshape(28,28)\n",
        "plt.axis('off')\n",
        "plt.imshow(Foto, cmap = \"gray\")"
      ],
      "execution_count": 12,
      "outputs": [
        {
          "output_type": "execute_result",
          "data": {
            "text/plain": [
              "<matplotlib.image.AxesImage at 0x7fb4e7ff6e10>"
            ]
          },
          "metadata": {
            "tags": []
          },
          "execution_count": 12
        },
        {
          "output_type": "display_data",
          "data": {
            "image/png": "[encoded data removed]",
            "text/plain": [
              "<Figure size 432x288 with 1 Axes>"
            ]
          },
          "metadata": {
            "tags": [],
            "needs_background": "light"
          }
        }
      ]
    },
    {
      "cell_type": "code",
      "metadata": {
        "colab": {
          "base_uri": "https://localhost:8080/",
          "height": 691
        },
        "id": "yGujT4xXx8JT",
        "outputId": "9ee987fa-f731-46d9-8583-49675e8c62e2"
      },
      "source": [
        "Num = 25\n",
        "Size=28\n",
        "Picture_Size = 25\n",
        "fig = plt.gcf()\n",
        "fig.set_size_inches(Picture_Size, Picture_Size)\n",
        "for i in range(Num):\n",
        "  data=np.array(df.iloc[i,:]).reshape(Size,Size)\n",
        "  img = Image.fromarray(data.astype('uint8'), mode='L')\n",
        "  img=np.float32(img)\n",
        "\n",
        "  img28=cv2.resize(img,(Size,Size), interpolation = cv2.INTER_AREA)\n",
        "  Foto=np.array(img28).reshape(28,28)\n",
        "  plt.subplot(25,5,i+1)\n",
        "  plt.xticks([])\n",
        "  plt.yticks([])\n",
        "  plt.grid(False)\n",
        "  plt.imshow(Foto, cmap = \"gray\")\n",
        "  #plt.xlabel(i)\n",
        "\n",
        "plt.subplots_adjust(bottom=0.15,left=0.4, right=0.8, top=2,hspace=0.1, wspace=0.01)\n",
        "#plt.subplots_adjust(bottom=0.2, right=2, top=3,hspace=0.4, wspace=0.4)\n"
      ],
      "execution_count": 13,
      "outputs": [
        {
          "output_type": "display_data",
          "data": {
            "image/png": "[encoded data removed]",
            "text/plain": [
              "<Figure size 1800x1800 with 25 Axes>"
            ]
          },
          "metadata": {
            "tags": []
          }
        }
      ]
    }
  ]
}