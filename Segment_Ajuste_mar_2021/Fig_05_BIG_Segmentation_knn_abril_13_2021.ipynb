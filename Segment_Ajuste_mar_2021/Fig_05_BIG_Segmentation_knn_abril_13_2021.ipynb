{
  "nbformat": 4,
  "nbformat_minor": 0,
  "metadata": {
    "colab": {
      "name": "Fig_05_BIG_Segmentation_knn_abril_13_2021.ipynb",
      "provenance": [],
      "collapsed_sections": [],
      "include_colab_link": true
    },
    "kernelspec": {
      "name": "python3",
      "display_name": "Python 3"
    }
  },
  "cells": [
    {
      "cell_type": "markdown",
      "metadata": {
        "id": "view-in-github",
        "colab_type": "text"
      },
      "source": [
        "<a href=\"https://colab.research.google.com/github/ucfilho/marquesgabi_paper_fev_2021/blob/main/Segment_Ajuste_mar_2021/Fig_05_BIG_Segmentation_knn_abril_13_2021.ipynb\" target=\"_parent\"><img src=\"https://colab.research.google.com/assets/colab-badge.svg\" alt=\"Open In Colab\"/></a>"
      ]
    },
    {
      "cell_type": "code",
      "metadata": {
        "id": "Sog7Z9pyhUD_",
        "colab": {
          "base_uri": "https://localhost:8080/"
        },
        "outputId": "b105b06d-a446-409c-90b8-5fdf364fe7c8"
      },
      "source": [
        "import matplotlib.pyplot as plt\n",
        "import numpy as np\n",
        "import cv2\n",
        "import zipfile\n",
        "#import random\n",
        "from random import randint\n",
        "from PIL import Image\n",
        "import re\n",
        "from sklearn.model_selection import train_test_split\n",
        "#import scikit-image\n",
        "import skimage\n",
        "import pandas as pd\n",
        "from sklearn.externals import joblib"
      ],
      "execution_count": 1,
      "outputs": [
        {
          "output_type": "stream",
          "text": [
            "/usr/local/lib/python3.7/dist-packages/sklearn/externals/joblib/__init__.py:15: FutureWarning: sklearn.externals.joblib is deprecated in 0.21 and will be removed in 0.23. Please import this functionality directly from joblib, which can be installed with: pip install joblib. If this warning is raised when loading pickled models, you may need to re-serialize those models with scikit-learn 0.21+.\n",
            "  warnings.warn(msg, category=FutureWarning)\n"
          ],
          "name": "stderr"
        }
      ]
    },
    {
      "cell_type": "code",
      "metadata": {
        "id": "uZEvJvfoibE4",
        "colab": {
          "base_uri": "https://localhost:8080/"
        },
        "outputId": "c869a0ed-e453-47ec-a23f-4c4e4b9544a1"
      },
      "source": [
        "!pip install mahotas"
      ],
      "execution_count": 2,
      "outputs": [
        {
          "output_type": "stream",
          "text": [
            "Collecting mahotas\n",
            "\u001b[?25l  Downloading https://files.pythonhosted.org/packages/19/ad/553b246b0a35dccc3ed58dc8889a67124bf5ab858e9c6b7255d56086e70c/mahotas-1.4.11-cp37-cp37m-manylinux2010_x86_64.whl (5.7MB)\n",
            "\u001b[K     |████████████████████████████████| 5.7MB 11.0MB/s \n",
            "\u001b[?25hRequirement already satisfied: numpy in /usr/local/lib/python3.7/dist-packages (from mahotas) (1.19.5)\n",
            "Installing collected packages: mahotas\n",
            "Successfully installed mahotas-1.4.11\n"
          ],
          "name": "stdout"
        }
      ]
    },
    {
      "cell_type": "code",
      "metadata": {
        "id": "nf_a6PJ1iUnT"
      },
      "source": [
        "import mahotas.features.texture as mht\n",
        "import mahotas.features"
      ],
      "execution_count": 3,
      "outputs": []
    },
    {
      "cell_type": "code",
      "metadata": {
        "id": "_VcTdaNVh9EE",
        "colab": {
          "base_uri": "https://localhost:8080/"
        },
        "outputId": "85f37429-2290-4292-f2ce-d6646572a647"
      },
      "source": [
        "!git clone https://github.com/ucfilho/marquesgabi_fev_2020 #clonar do Github\n",
        "%cd marquesgabi_fev_2020\n",
        "import Go2BlackWhite\n",
        "import Go2Mahotas"
      ],
      "execution_count": 4,
      "outputs": [
        {
          "output_type": "stream",
          "text": [
            "Cloning into 'marquesgabi_fev_2020'...\n",
            "remote: Enumerating objects: 73, done.\u001b[K\n",
            "remote: Counting objects: 100% (73/73), done.\u001b[K\n",
            "remote: Compressing objects: 100% (71/71), done.\u001b[K\n",
            "remote: Total 73 (delta 37), reused 0 (delta 0), pack-reused 0\u001b[K\n",
            "Unpacking objects: 100% (73/73), done.\n",
            "/content/marquesgabi_fev_2020\n"
          ],
          "name": "stdout"
        }
      ]
    },
    {
      "cell_type": "code",
      "metadata": {
        "id": "1v7SRrc8mH2N",
        "colab": {
          "base_uri": "https://localhost:8080/"
        },
        "outputId": "82bc9991-54df-4236-f3e4-f8c0dac6da3b"
      },
      "source": [
        "!git clone https://github.com/marquesgabi/Doutorado\n",
        "%cd Doutorado\n",
        "\n",
        "Transfere='Fotos_Grandes_3cdAmostra.zip'\n",
        "file_name = zipfile.ZipFile(Transfere, 'r')\n",
        "file_name.extractall()"
      ],
      "execution_count": 5,
      "outputs": [
        {
          "output_type": "stream",
          "text": [
            "Cloning into 'Doutorado'...\n",
            "remote: Enumerating objects: 58, done.\u001b[K\n",
            "remote: Counting objects: 100% (58/58), done.\u001b[K\n",
            "remote: Compressing objects: 100% (58/58), done.\u001b[K\n",
            "remote: Total 308 (delta 23), reused 0 (delta 0), pack-reused 250\u001b[K\n",
            "Receiving objects: 100% (308/308), 78.60 MiB | 42.58 MiB/s, done.\n",
            "Resolving deltas: 100% (146/146), done.\n",
            "/content/marquesgabi_fev_2020/Doutorado\n"
          ],
          "name": "stdout"
        }
      ]
    },
    {
      "cell_type": "code",
      "metadata": {
        "id": "0kA4IWSmasoD"
      },
      "source": [
        "Size=1200 # tamanho da foto\n",
        "ww,img_name=Go2BlackWhite.BlackWhite(Transfere,Size) #Pegamos a primeira foto Grande\n",
        "img=ww[0] \n",
        "# this is the big image we want to segment \n",
        "# ww[0], change it if you want to segment another picture"
      ],
      "execution_count": 6,
      "outputs": []
    },
    {
      "cell_type": "code",
      "metadata": {
        "id": "tHgqAnaFyCjp",
        "colab": {
          "base_uri": "https://localhost:8080/"
        },
        "outputId": "942eb500-0e10-45e0-cae5-b07f8aa2beb3"
      },
      "source": [
        "!git clone https://github.com/ucfilho/MarquesGabi_Routines\n",
        "%cd MarquesGabi_Routines"
      ],
      "execution_count": 7,
      "outputs": [
        {
          "output_type": "stream",
          "text": [
            "Cloning into 'MarquesGabi_Routines'...\n",
            "remote: Enumerating objects: 63, done.\u001b[K\n",
            "remote: Counting objects: 100% (63/63), done.\u001b[K\n",
            "remote: Compressing objects: 100% (61/61), done.\u001b[K\n",
            "remote: Total 63 (delta 32), reused 0 (delta 0), pack-reused 0\u001b[K\n",
            "Unpacking objects: 100% (63/63), done.\n",
            "/content/marquesgabi_fev_2020/Doutorado/MarquesGabi_Routines\n"
          ],
          "name": "stdout"
        }
      ]
    },
    {
      "cell_type": "code",
      "metadata": {
        "id": "qc4rFvzkyWCi"
      },
      "source": [
        "from segment_filter_not_conclude import Segmenta  # got image provided segmented"
      ],
      "execution_count": 8,
      "outputs": []
    },
    {
      "cell_type": "code",
      "metadata": {
        "id": "SnTtH3KDP863"
      },
      "source": [
        "df=Segmenta(img)\n"
      ],
      "execution_count": 9,
      "outputs": []
    },
    {
      "cell_type": "code",
      "metadata": {
        "id": "YN5MN5a_v4np",
        "colab": {
          "base_uri": "https://localhost:8080/"
        },
        "outputId": "4e4e9a1b-c8aa-4cb7-b48b-4424bd759a80"
      },
      "source": [
        "print(df)"
      ],
      "execution_count": 10,
      "outputs": [
        {
          "output_type": "stream",
          "text": [
            "    Width           0           1  ...         781         782         783\n",
            "0     103   79.167122   77.378075  ...    9.506080    9.868225    9.191441\n",
            "1     111   61.513432   60.558960  ...   10.574629   10.433406   10.819901\n",
            "2     160  110.973122   92.983749  ...    5.130000    5.624375    5.571875\n",
            "3     111   54.486404   56.068092  ...  101.016800  101.059410  103.392990\n",
            "4     127   85.958099   62.180298  ...    4.865459    0.998326    0.347201\n",
            "5     111  102.136192   97.560593  ...   21.069801   20.881260   23.356871\n",
            "6     102   64.058060   64.913887  ...   83.569016   82.682823   81.897743\n",
            "7     193   45.525650   55.717705  ...  107.404167  123.317413   99.583130\n",
            "8     182  108.147942  108.905334  ...   27.289944   16.562130    2.739645\n",
            "9     148   42.807896   43.269543  ...   86.040184   86.372543   87.549316\n",
            "10    187  107.617012  112.618118  ...    7.155395   10.413052    7.325345\n",
            "11    170   71.377586   68.801796  ...   46.624920   37.119587    6.856609\n",
            "12    120   29.715555   31.432224  ...    7.665555    7.611112    7.268888\n",
            "13    178   78.058586  102.061867  ...   80.511688   74.561432   62.613689\n",
            "14    138   59.266747   53.485611  ...  142.056702  149.072876  158.481827\n",
            "15    154   86.057861   98.570259  ...   81.429756   84.826454   88.314049\n",
            "16    162   92.652344   91.439720  ...  122.680229  114.828232   81.090378\n",
            "17    156  144.399734  145.159119  ...   11.416175    1.571992    0.345168\n",
            "18    200    3.324000    1.392000  ...   63.986794   51.253998   52.875202\n",
            "19    140   95.720001  102.119995  ...  101.599998   74.439995   48.200001\n",
            "20    126  118.814812  125.975296  ...   75.419754   71.592590   74.925926\n",
            "21    169   67.097015   63.735020  ...   83.469551   87.607613   90.546997\n",
            "22    111  105.629333  102.807159  ...  112.361092  112.214188  107.704323\n",
            "23    199   86.389427  100.306107  ...    5.544002    5.419560    6.270144\n",
            "24    136  120.249138   94.712807  ...   86.596886   86.964531   87.326126\n",
            "25    101   58.880207   59.293503  ...   52.866585   54.197628   55.402611\n",
            "26    163   52.744743   58.257778  ...   35.046181   59.497765   78.996208\n",
            "27    161   44.727787   96.398865  ...    7.434783    7.835539    7.623819\n",
            "28    187   68.263863   57.924534  ...    0.232206    0.000000    0.352312\n",
            "29    128   61.548828   60.006836  ...   17.116211   14.929688    7.099609\n",
            "30    150   75.972984   80.731018  ...   47.355022   39.839821   18.368177\n",
            "31    136  127.533737  127.414368  ...   53.137543   55.754326   47.125435\n",
            "32    178   33.623913   50.870224  ...   74.565712   76.150368   78.740189\n",
            "33    190   66.090965   71.651962  ...   52.191692   55.361217   61.678558\n",
            "34    131   69.670593   64.280228  ...   79.455971   78.370605   77.729492\n",
            "35    122   49.760818   46.665413  ...  106.894646  110.307976  115.395859\n",
            "36    172   70.278526   68.070305  ...   77.979996   79.352623   80.447266\n",
            "37    101   24.217529   59.595627  ...    1.892069    1.817959    1.554455\n",
            "38    107   70.498383   71.813606  ...   43.984364   43.358112   43.522839\n",
            "39    102   68.751251   68.858902  ...    9.291042    9.417917    9.411766\n",
            "40    138   79.373024   79.750259  ...   53.273468   50.101448   44.476158\n",
            "41    113   59.105492   60.028973  ...   69.059128   65.568649   60.033047\n",
            "42    146   47.775379   41.945770  ...    8.746670    9.898855    7.494276\n",
            "43    157   59.998501   54.946697  ...   39.112743   33.090717   17.866568\n",
            "44    139   49.005692   49.317474  ...   22.760725   23.261110   17.188448\n",
            "45    177   71.338913   71.675285  ...   92.388542   95.060066   96.438019\n",
            "46    172   87.140617   85.692261  ...  107.657112   61.036781   45.283939\n",
            "47    175   91.779198   87.641586  ...   11.121599    7.323199    6.465600\n",
            "48    171   85.968086   82.351181  ...   52.936459   53.082420   52.969013\n",
            "49    185   59.232903   59.488148  ...    1.181622    0.724558    0.224982\n",
            "\n",
            "[50 rows x 785 columns]\n"
          ],
          "name": "stdout"
        }
      ]
    },
    {
      "cell_type": "code",
      "metadata": {
        "id": "xzpQ1Pz0fX5L",
        "colab": {
          "base_uri": "https://localhost:8080/"
        },
        "outputId": "268e0d32-b4ae-43f7-fa62-a27a31977040"
      },
      "source": [
        "!git clone https://github.com/ucfilho/MarquesGabi_Routines\n",
        "%cd MarquesGabi_Routines\n",
        "filename = 'model_knn.pkl'\n",
        "model = joblib.load(filename)"
      ],
      "execution_count": 11,
      "outputs": [
        {
          "output_type": "stream",
          "text": [
            "Cloning into 'MarquesGabi_Routines'...\n",
            "remote: Enumerating objects: 63, done.\u001b[K\n",
            "remote: Counting objects: 100% (63/63), done.\u001b[K\n",
            "remote: Compressing objects: 100% (61/61), done.\u001b[K\n",
            "remote: Total 63 (delta 32), reused 0 (delta 0), pack-reused 0\u001b[K\n",
            "Unpacking objects: 100% (63/63), done.\n",
            "/content/marquesgabi_fev_2020/Doutorado/MarquesGabi_Routines/MarquesGabi_Routines\n"
          ],
          "name": "stdout"
        }
      ]
    },
    {
      "cell_type": "code",
      "metadata": {
        "id": "QISvYcJBgWbE",
        "colab": {
          "base_uri": "https://localhost:8080/"
        },
        "outputId": "9e77aa04-1a98-4208-b0c2-3ec7bfacc6d6"
      },
      "source": [
        "cont = 0; num =25\n",
        "img_graos = []\n",
        "img=ww[0] \n",
        "while( cont < num):\n",
        "  df=Segmenta(img)\n",
        "  del df['Width']\n",
        "  result = np.array(df)/255\n",
        "  prediction = model.predict(result)\n",
        "  loc_grao =[];k=0\n",
        "  for i in prediction:\n",
        "    if( i == 0):\n",
        "      img_graos.append(df.iloc[k,:])\n",
        "      cont = cont + 1\n",
        "    k = k +1\n",
        "img_graos = pd.DataFrame(img_graos)\n",
        "print(img_graos)"
      ],
      "execution_count": 12,
      "outputs": [
        {
          "output_type": "stream",
          "text": [
            "          0          1          2    ...        781        782        783\n",
            "10   2.881666   0.684117   0.756594  ...  14.228472   6.907881   2.313611\n",
            "5   14.820973  15.638577  16.169628  ...   0.000000   0.000000   0.000000\n",
            "8    0.067215   0.000000   0.000000  ...   0.038409   0.065844   0.491084\n",
            "42  41.662228  40.035561  39.422226  ...   8.222223  13.471113  12.911112\n",
            "7    0.000000   0.068478   0.000000  ...  55.951263  59.952400  61.242115\n",
            "23   1.172077   3.442463   2.111111  ...   0.000000   0.000000   0.000000\n",
            "25  29.500340  26.899204  25.089830  ...  47.177086  41.204159  31.328014\n",
            "9   33.966080  35.676899  37.135380  ...   9.594747   9.214391   9.344182\n",
            "6   70.495613  77.313599  79.776512  ...   9.241587   9.206711   9.017815\n",
            "12  80.620789  82.531433  81.006317  ...   9.507210  10.576775  10.931002\n",
            "19  38.619823  43.763317  49.349121  ...   2.258876   1.136095   0.803254\n",
            "17   1.629657   2.392988   5.444851  ...   0.000000   0.000000   0.000000\n",
            "26   2.154941   1.767397   0.568627  ...  50.739723  51.177624  49.632835\n",
            "31   0.511634   0.729657   1.189969  ...   1.880125   1.019938   0.940604\n",
            "35   7.323424   4.852556   0.778835  ...   9.913198   7.791914   1.751486\n",
            "5    0.400237   0.842840   0.042604  ...   1.001183   0.784615   0.784615\n",
            "37   0.000000   0.000000   0.000000  ...   7.416667   7.967593   7.962192\n",
            "44  51.315094  50.321014  50.455627  ...   9.053255   9.278107   9.165682\n",
            "28   0.622144   0.342129   0.998233  ...   0.000000   0.000000   0.000000\n",
            "18   0.014033   0.961342   3.265495  ...   0.092619   0.000000   0.000000\n",
            "20   0.773992   0.980350   1.886545  ...   8.070249   8.028183   8.549788\n",
            "33  49.411522  53.984909  56.067215  ...   1.672153   1.048011   0.865569\n",
            "41  28.539825  27.527994  27.521254  ...   0.000000   0.000000   0.000000\n",
            "39  34.048447  34.588234  35.608997  ...   6.705883   6.968858   6.650519\n",
            "47   0.913694   3.084442   3.462441  ...   0.000000   0.000000   0.000000\n",
            "\n",
            "[25 rows x 784 columns]\n"
          ],
          "name": "stdout"
        }
      ]
    },
    {
      "cell_type": "code",
      "metadata": {
        "colab": {
          "base_uri": "https://localhost:8080/"
        },
        "id": "hjMm5kklvYKV",
        "outputId": "7794b9a5-1005-47f6-9e05-5dbae73517b6"
      },
      "source": [
        "np.sum(np.array(img_graos.iloc[[1],:]))/(28*28)"
      ],
      "execution_count": 13,
      "outputs": [
        {
          "output_type": "execute_result",
          "data": {
            "text/plain": [
              "23.677186762117568"
            ]
          },
          "metadata": {
            "tags": []
          },
          "execution_count": 13
        }
      ]
    },
    {
      "cell_type": "code",
      "metadata": {
        "id": "baJSBO7Pz5qF"
      },
      "source": [
        "Size = 28"
      ],
      "execution_count": 14,
      "outputs": []
    },
    {
      "cell_type": "code",
      "metadata": {
        "colab": {
          "base_uri": "https://localhost:8080/",
          "height": 269
        },
        "id": "4FO1yItczAZh",
        "outputId": "e61069da-0c35-4613-8278-f2b151c362c9"
      },
      "source": [
        "data=np.array(img_graos.iloc[[1],:]).reshape(Size,Size)\n",
        "img = Image.fromarray(data.astype('uint8'), mode='L')\n",
        "img=np.float32(img)\n",
        "\n",
        "img28=cv2.resize(img,(Size,Size), interpolation = cv2.INTER_AREA)\n",
        "Foto=np.array(img28).reshape(28,28)\n",
        "plt.xticks([])\n",
        "plt.yticks([])\n",
        "plt.grid(False)\n",
        "plt.imshow(Foto, cmap = \"gray\")"
      ],
      "execution_count": 15,
      "outputs": [
        {
          "output_type": "execute_result",
          "data": {
            "text/plain": [
              "<matplotlib.image.AxesImage at 0x7f108bde9150>"
            ]
          },
          "metadata": {
            "tags": []
          },
          "execution_count": 15
        },
        {
          "output_type": "display_data",
          "data": {
            "image/png": "[encoded data removed]",
            "text/plain": [
              "<Figure size 432x288 with 1 Axes>"
            ]
          },
          "metadata": {
            "tags": []
          }
        }
      ]
    },
    {
      "cell_type": "code",
      "metadata": {
        "colab": {
          "base_uri": "https://localhost:8080/"
        },
        "id": "RhBIKFLBwwYj",
        "outputId": "faf34734-655f-4e6d-bcd5-a93d2cb60a3c"
      },
      "source": [
        "np.sum(np.array(img_graos.iloc[[3],:]))/(28*28)"
      ],
      "execution_count": 16,
      "outputs": [
        {
          "output_type": "execute_result",
          "data": {
            "text/plain": [
              "9.830749336345008"
            ]
          },
          "metadata": {
            "tags": []
          },
          "execution_count": 16
        }
      ]
    },
    {
      "cell_type": "code",
      "metadata": {
        "colab": {
          "base_uri": "https://localhost:8080/",
          "height": 126
        },
        "id": "sS0qqr7RwKax",
        "outputId": "d027648b-3a93-4cbf-f347-42616ddaa772"
      },
      "source": [
        "img_graos.iloc[[3],:]"
      ],
      "execution_count": 17,
      "outputs": [
        {
          "output_type": "execute_result",
          "data": {
            "text/html": [
              "<div>\n",
              "<style scoped>\n",
              "    .dataframe tbody tr th:only-of-type {\n",
              "        vertical-align: middle;\n",
              "    }\n",
              "\n",
              "    .dataframe tbody tr th {\n",
              "        vertical-align: top;\n",
              "    }\n",
              "\n",
              "    .dataframe thead th {\n",
              "        text-align: right;\n",
              "    }\n",
              "</style>\n",
              "<table border=\"1\" class=\"dataframe\">\n",
              "  <thead>\n",
              "    <tr style=\"text-align: right;\">\n",
              "      <th></th>\n",
              "      <th>0</th>\n",
              "      <th>1</th>\n",
              "      <th>2</th>\n",
              "      <th>3</th>\n",
              "      <th>4</th>\n",
              "      <th>5</th>\n",
              "      <th>6</th>\n",
              "      <th>7</th>\n",
              "      <th>8</th>\n",
              "      <th>9</th>\n",
              "      <th>10</th>\n",
              "      <th>11</th>\n",
              "      <th>12</th>\n",
              "      <th>13</th>\n",
              "      <th>14</th>\n",
              "      <th>15</th>\n",
              "      <th>16</th>\n",
              "      <th>17</th>\n",
              "      <th>18</th>\n",
              "      <th>19</th>\n",
              "      <th>20</th>\n",
              "      <th>21</th>\n",
              "      <th>22</th>\n",
              "      <th>23</th>\n",
              "      <th>24</th>\n",
              "      <th>25</th>\n",
              "      <th>26</th>\n",
              "      <th>27</th>\n",
              "      <th>28</th>\n",
              "      <th>29</th>\n",
              "      <th>30</th>\n",
              "      <th>31</th>\n",
              "      <th>32</th>\n",
              "      <th>33</th>\n",
              "      <th>34</th>\n",
              "      <th>35</th>\n",
              "      <th>36</th>\n",
              "      <th>37</th>\n",
              "      <th>38</th>\n",
              "      <th>39</th>\n",
              "      <th>...</th>\n",
              "      <th>744</th>\n",
              "      <th>745</th>\n",
              "      <th>746</th>\n",
              "      <th>747</th>\n",
              "      <th>748</th>\n",
              "      <th>749</th>\n",
              "      <th>750</th>\n",
              "      <th>751</th>\n",
              "      <th>752</th>\n",
              "      <th>753</th>\n",
              "      <th>754</th>\n",
              "      <th>755</th>\n",
              "      <th>756</th>\n",
              "      <th>757</th>\n",
              "      <th>758</th>\n",
              "      <th>759</th>\n",
              "      <th>760</th>\n",
              "      <th>761</th>\n",
              "      <th>762</th>\n",
              "      <th>763</th>\n",
              "      <th>764</th>\n",
              "      <th>765</th>\n",
              "      <th>766</th>\n",
              "      <th>767</th>\n",
              "      <th>768</th>\n",
              "      <th>769</th>\n",
              "      <th>770</th>\n",
              "      <th>771</th>\n",
              "      <th>772</th>\n",
              "      <th>773</th>\n",
              "      <th>774</th>\n",
              "      <th>775</th>\n",
              "      <th>776</th>\n",
              "      <th>777</th>\n",
              "      <th>778</th>\n",
              "      <th>779</th>\n",
              "      <th>780</th>\n",
              "      <th>781</th>\n",
              "      <th>782</th>\n",
              "      <th>783</th>\n",
              "    </tr>\n",
              "  </thead>\n",
              "  <tbody>\n",
              "    <tr>\n",
              "      <th>42</th>\n",
              "      <td>41.662228</td>\n",
              "      <td>40.035561</td>\n",
              "      <td>39.422226</td>\n",
              "      <td>39.804451</td>\n",
              "      <td>41.057785</td>\n",
              "      <td>42.26667</td>\n",
              "      <td>42.506676</td>\n",
              "      <td>42.933334</td>\n",
              "      <td>44.471115</td>\n",
              "      <td>46.017784</td>\n",
              "      <td>47.51556</td>\n",
              "      <td>47.453335</td>\n",
              "      <td>46.564445</td>\n",
              "      <td>46.511116</td>\n",
              "      <td>44.24445</td>\n",
              "      <td>45.382229</td>\n",
              "      <td>45.617783</td>\n",
              "      <td>44.275558</td>\n",
              "      <td>43.822224</td>\n",
              "      <td>39.653339</td>\n",
              "      <td>33.137779</td>\n",
              "      <td>23.751114</td>\n",
              "      <td>14.795557</td>\n",
              "      <td>40.884445</td>\n",
              "      <td>89.711121</td>\n",
              "      <td>94.146675</td>\n",
              "      <td>95.066673</td>\n",
              "      <td>97.448898</td>\n",
              "      <td>42.240005</td>\n",
              "      <td>41.520004</td>\n",
              "      <td>41.928898</td>\n",
              "      <td>42.631115</td>\n",
              "      <td>43.982227</td>\n",
              "      <td>45.564449</td>\n",
              "      <td>45.404449</td>\n",
              "      <td>46.044449</td>\n",
              "      <td>47.67112</td>\n",
              "      <td>48.702229</td>\n",
              "      <td>47.986671</td>\n",
              "      <td>46.608891</td>\n",
              "      <td>...</td>\n",
              "      <td>1.066667</td>\n",
              "      <td>0.995556</td>\n",
              "      <td>0.995556</td>\n",
              "      <td>0.995556</td>\n",
              "      <td>1.208889</td>\n",
              "      <td>1.084445</td>\n",
              "      <td>1.422222</td>\n",
              "      <td>1.333333</td>\n",
              "      <td>1.315556</td>\n",
              "      <td>1.12</td>\n",
              "      <td>1.595556</td>\n",
              "      <td>1.871111</td>\n",
              "      <td>9.404446</td>\n",
              "      <td>9.306667</td>\n",
              "      <td>9.053333</td>\n",
              "      <td>8.85778</td>\n",
              "      <td>9.68</td>\n",
              "      <td>9.235558</td>\n",
              "      <td>9.217779</td>\n",
              "      <td>9.057779</td>\n",
              "      <td>9.680001</td>\n",
              "      <td>9.644445</td>\n",
              "      <td>9.36889</td>\n",
              "      <td>9.208889</td>\n",
              "      <td>9.137779</td>\n",
              "      <td>8.906668</td>\n",
              "      <td>8.906668</td>\n",
              "      <td>9.155557</td>\n",
              "      <td>8.933334</td>\n",
              "      <td>8.968889</td>\n",
              "      <td>8.800001</td>\n",
              "      <td>9.20889</td>\n",
              "      <td>8.462223</td>\n",
              "      <td>8.533334</td>\n",
              "      <td>8.435556</td>\n",
              "      <td>8.666668</td>\n",
              "      <td>8.311112</td>\n",
              "      <td>8.222223</td>\n",
              "      <td>13.471113</td>\n",
              "      <td>12.911112</td>\n",
              "    </tr>\n",
              "  </tbody>\n",
              "</table>\n",
              "<p>1 rows × 784 columns</p>\n",
              "</div>"
            ],
            "text/plain": [
              "          0          1          2    ...       781        782        783\n",
              "42  41.662228  40.035561  39.422226  ...  8.222223  13.471113  12.911112\n",
              "\n",
              "[1 rows x 784 columns]"
            ]
          },
          "metadata": {
            "tags": []
          },
          "execution_count": 17
        }
      ]
    },
    {
      "cell_type": "code",
      "metadata": {
        "colab": {
          "base_uri": "https://localhost:8080/",
          "height": 269
        },
        "id": "qeQVSq6AyIF0",
        "outputId": "336a5c2f-dc6a-4f3d-d354-a32590842436"
      },
      "source": [
        "data=np.array(img_graos.iloc[[3],:]).reshape(Size,Size)\n",
        "img = Image.fromarray(data.astype('uint8'), mode='L')\n",
        "img=np.float32(img)\n",
        "\n",
        "img28=cv2.resize(img,(Size,Size), interpolation = cv2.INTER_AREA)\n",
        "Foto=np.array(img28).reshape(28,28)\n",
        "plt.xticks([])\n",
        "plt.yticks([])\n",
        "plt.grid(False)\n",
        "plt.imshow(Foto, cmap = \"gray\")"
      ],
      "execution_count": 18,
      "outputs": [
        {
          "output_type": "execute_result",
          "data": {
            "text/plain": [
              "<matplotlib.image.AxesImage at 0x7f108979e550>"
            ]
          },
          "metadata": {
            "tags": []
          },
          "execution_count": 18
        },
        {
          "output_type": "display_data",
          "data": {
            "image/png": "[encoded data removed]",
            "text/plain": [
              "<Figure size 432x288 with 1 Axes>"
            ]
          },
          "metadata": {
            "tags": []
          }
        }
      ]
    },
    {
      "cell_type": "code",
      "metadata": {
        "colab": {
          "base_uri": "https://localhost:8080/",
          "height": 691
        },
        "id": "_tN9BV7KM-y5",
        "outputId": "76fcff07-2243-435b-d4bf-a4ee0cbcf763"
      },
      "source": [
        "Num = 25\n",
        "Size=28\n",
        "Picture_Size = 25\n",
        "fig = plt.gcf()\n",
        "fig.set_size_inches(Picture_Size, Picture_Size)\n",
        "for i in range(Num):\n",
        "  data=np.array(img_graos.iloc[i,:]).reshape(Size,Size)\n",
        "  img = Image.fromarray(data.astype('uint8'), mode='L')\n",
        "  img=np.float32(img)\n",
        "\n",
        "  img28=cv2.resize(img,(Size,Size), interpolation = cv2.INTER_AREA)\n",
        "  Foto=np.array(img28).reshape(28,28)\n",
        "  plt.subplot(25,5,i+1)\n",
        "  plt.xticks([])\n",
        "  plt.yticks([])\n",
        "  plt.grid(False)\n",
        "  plt.imshow(Foto, cmap = \"gray\")\n",
        "  #plt.xlabel(i)\n",
        "\n",
        "plt.subplots_adjust(bottom=0.15,left=0.4, right=0.8, top=2,hspace=0.1, wspace=0.01)\n",
        "#plt.subplots_adjust(bottom=0.2, right=2, top=3,hspace=0.4, wspace=0.4)"
      ],
      "execution_count": 19,
      "outputs": [
        {
          "output_type": "display_data",
          "data": {
            "image/png": "[encoded data removed]",
            "text/plain": [
              "<Figure size 1800x1800 with 25 Axes>"
            ]
          },
          "metadata": {
            "tags": []
          }
        }
      ]
    }
  ]
}