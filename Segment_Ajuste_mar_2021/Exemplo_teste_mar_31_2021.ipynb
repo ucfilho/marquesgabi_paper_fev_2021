{
  "nbformat": 4,
  "nbformat_minor": 0,
  "metadata": {
    "colab": {
      "name": "Exemplo_teste_mar_31_2021.ipynb",
      "provenance": [],
      "authorship_tag": "ABX9TyPU2nS6xHb1oVrGw3GIquVT",
      "include_colab_link": true
    },
    "kernelspec": {
      "name": "python3",
      "display_name": "Python 3"
    },
    "language_info": {
      "name": "python"
    }
  },
  "cells": [
    {
      "cell_type": "markdown",
      "metadata": {
        "id": "view-in-github",
        "colab_type": "text"
      },
      "source": [
        "<a href=\"https://colab.research.google.com/github/ucfilho/marquesgabi_paper_fev_2021/blob/main/Segment_Ajuste_mar_2021/Exemplo_teste_mar_31_2021.ipynb\" target=\"_parent\"><img src=\"https://colab.research.google.com/assets/colab-badge.svg\" alt=\"Open In Colab\"/></a>"
      ]
    },
    {
      "cell_type": "code",
      "metadata": {
        "id": "C4OiQkl5-mRz"
      },
      "source": [
        "# https://github.com/bnsreenu/python_for_microscopists/032-grain_analysis_saving_to_csv.py"
      ],
      "execution_count": 1,
      "outputs": []
    },
    {
      "cell_type": "code",
      "metadata": {
        "id": "MB0ThBB--ySw"
      },
      "source": [
        "import cv2\n",
        "import numpy as np\n",
        "from matplotlib import pyplot as plt\n",
        "from scipy import ndimage\n",
        "from skimage import measure, color, io\n",
        "import zipfile"
      ],
      "execution_count": 2,
      "outputs": []
    },
    {
      "cell_type": "code",
      "metadata": {
        "id": "gqu77EYjAaU1"
      },
      "source": [
        "from google.colab.patches import cv2_imshow"
      ],
      "execution_count": 3,
      "outputs": []
    },
    {
      "cell_type": "code",
      "metadata": {
        "colab": {
          "base_uri": "https://localhost:8080/",
          "height": 105
        },
        "id": "oUAtGjUy_SJV",
        "outputId": "769017ba-b83d-447c-fefb-e2bd893f26a8"
      },
      "source": [
        "#!/usr/bin/env python\n",
        "__author__ = \"Sreenivas Bhattiprolu\"\n",
        "__license__ = \"Feel free to copy, I appreciate if you acknowledge Python for Microscopists\"\n",
        "\n",
        "# https://www.youtube.com/watch?v=g3OZJ6skE_U\n",
        "\n",
        "\n",
        "\"\"\"\n",
        "This code performs grain size distribution analysis and dumps results into a csv file.\n",
        "Step 1: Read image and define pixel size (if needed to convert results into microns, not pixels)\n",
        "Step 2: Denoising, if required and threshold image to separate grains from boundaries.\n",
        "Step 3: Clean up image, if needed (erode, etc.) and create a mask for grains\n",
        "Step 4: Label grains in the masked image\n",
        "Step 5: Measure the properties of each grain (object)\n",
        "Step 6: Output results into a csv file\n",
        "\"\"\""
      ],
      "execution_count": 4,
      "outputs": [
        {
          "output_type": "execute_result",
          "data": {
            "application/vnd.google.colaboratory.intrinsic+json": {
              "type": "string"
            },
            "text/plain": [
              "'\\nThis code performs grain size distribution analysis and dumps results into a csv file.\\nStep 1: Read image and define pixel size (if needed to convert results into microns, not pixels)\\nStep 2: Denoising, if required and threshold image to separate grains from boundaries.\\nStep 3: Clean up image, if needed (erode, etc.) and create a mask for grains\\nStep 4: Label grains in the masked image\\nStep 5: Measure the properties of each grain (object)\\nStep 6: Output results into a csv file\\n'"
            ]
          },
          "metadata": {
            "tags": []
          },
          "execution_count": 4
        }
      ]
    },
    {
      "cell_type": "code",
      "metadata": {
        "colab": {
          "base_uri": "https://localhost:8080/"
        },
        "id": "vqVt0FLo_tKi",
        "outputId": "07607df3-b8ab-4511-ca3a-69d56c5c4931"
      },
      "source": [
        "!pip install mahotas"
      ],
      "execution_count": 5,
      "outputs": [
        {
          "output_type": "stream",
          "text": [
            "Requirement already satisfied: mahotas in /usr/local/lib/python3.7/dist-packages (1.4.11)\n",
            "Requirement already satisfied: numpy in /usr/local/lib/python3.7/dist-packages (from mahotas) (1.19.5)\n"
          ],
          "name": "stdout"
        }
      ]
    },
    {
      "cell_type": "code",
      "metadata": {
        "id": "k45hfSru_t82"
      },
      "source": [
        "import mahotas.features.texture as mht\n",
        "import mahotas.features"
      ],
      "execution_count": 6,
      "outputs": []
    },
    {
      "cell_type": "code",
      "metadata": {
        "colab": {
          "base_uri": "https://localhost:8080/"
        },
        "id": "2ClBJkuA_xap",
        "outputId": "5a66cdc5-69a1-45c1-b616-b4be3bbadcc7"
      },
      "source": [
        "!git clone https://github.com/ucfilho/marquesgabi_fev_2020 #clonar do Github\n",
        "%cd marquesgabi_fev_2020\n",
        "import Go2BlackWhite\n",
        "import Go2Mahotas"
      ],
      "execution_count": 7,
      "outputs": [
        {
          "output_type": "stream",
          "text": [
            "fatal: destination path 'marquesgabi_fev_2020' already exists and is not an empty directory.\n",
            "/content/marquesgabi_fev_2020\n"
          ],
          "name": "stdout"
        }
      ]
    },
    {
      "cell_type": "code",
      "metadata": {
        "colab": {
          "base_uri": "https://localhost:8080/"
        },
        "id": "etiNYF2p_UU0",
        "outputId": "0da2e8ea-a6bc-4bc5-ef92-edce270e3ff1"
      },
      "source": [
        "#STEP1 - Read image and define pixel size\n",
        "#    img = cv2.imread(\"images/grains2.jpg\", 0)\n",
        "!git clone https://github.com/marquesgabi/Doutorado\n",
        "%cd Doutorado\n",
        "\n",
        "Transfere='Fotos_Grandes_3cdAmostra.zip'\n",
        "file_name = zipfile.ZipFile(Transfere, 'r')\n",
        "file_name.extractall()\n",
        "\n",
        "Size=1200 # tamanho da foto\n",
        "ww,img_name=Go2BlackWhite.BlackWhite(Transfere,Size) #Pegamos a primeira foto Grande\n",
        "img=ww[0] "
      ],
      "execution_count": 8,
      "outputs": [
        {
          "output_type": "stream",
          "text": [
            "fatal: destination path 'Doutorado' already exists and is not an empty directory.\n",
            "/content/marquesgabi_fev_2020/Doutorado\n"
          ],
          "name": "stdout"
        }
      ]
    },
    {
      "cell_type": "code",
      "metadata": {
        "colab": {
          "base_uri": "https://localhost:8080/",
          "height": 1000
        },
        "id": "EvRptRED-j7n",
        "outputId": "a5374463-2cb0-417a-8bcb-a01427803225"
      },
      "source": [
        "\n",
        "\n",
        "pixels_to_um = 0.5 # (1 px = 500 nm)\n",
        "\n",
        "#cropped_img = img[0:450, :]   #Crop the scalebar region\n",
        "\n",
        "#Step 2: Denoising, if required and threshold image\n",
        "\n",
        "#No need for any denoising or smoothing as the image looks good.\n",
        "#Otherwise, try Median or NLM\n",
        "#plt.hist(img.flat, bins=100, range=(0,255))\n",
        "\n",
        "#Change the grey image to binary by thresholding. \n",
        "ret, thresh = cv2.threshold(img, 0, 255, cv2.THRESH_BINARY+cv2.THRESH_OTSU)\n",
        "#print(ret)  #Gives 157 on grains2.jpg. OTSU determined this to be the best threshold. \n",
        "\n",
        "#View the thresh image. Some boundaries are ambiguous / faint.\n",
        "#Some pixles in the middle. \n",
        "#Need to perform morphological operations to enhance.\n",
        "\n",
        "#Step 3: Clean up image, if needed (erode, etc.) and create a mask for grains\n",
        "\n",
        "kernel = np.ones((3,3),np.uint8) \n",
        "eroded = cv2.erode(thresh,kernel,iterations = 1)\n",
        "dilated = cv2.dilate(eroded,kernel,iterations = 1)\n",
        "\n",
        "# Now, we need to apply threshold, meaning convert uint8 image to boolean.\n",
        "mask = dilated == 255  #Sets TRUE for all 255 valued pixels and FALSE for 0\n",
        "#print(mask)   #Just to confirm the image is not inverted. \n",
        "\n",
        "#from skimage.segmentation import clear_border\n",
        "#mask = clear_border(mask)   #Removes edge touching grains. \n",
        "\n",
        "io.imshow(mask)  #cv2.imshow() not working on boolean arrays so using io\n",
        "#io.imshow(mask[250:280, 250:280])   #Zoom in to see pixelated binary image\n",
        "\n",
        "#Step 4: Label grains in the masked image\n",
        "\n",
        "#Now we have well separated grains and background. Each grain is like an object.\n",
        "#The scipy ndimage package has a function 'label' that will number each object with a unique ID.\n",
        "\n",
        "#The 'structure' parameter defines the connectivity for the labeling. \n",
        "#This specifies when to consider a pixel to be connected to another nearby pixel, \n",
        "#i.e. to be part of the same object.\n",
        "\n",
        "#use 8-connectivity, diagonal pixels will be included as part of a structure\n",
        "#this is ImageJ default but we have to specify this for Python, or 4-connectivity will be used\n",
        "# 4 connectivity would be [[0,1,0],[1,1,1],[0,1,0]]\n",
        "s = [[1,1,1],[1,1,1],[1,1,1]]\n",
        "#label_im, nb_labels = ndimage.label(mask)\n",
        "labeled_mask, num_labels = ndimage.label(mask, structure=s)\n",
        "\n",
        "#The function outputs a new image that contains a different integer label \n",
        "#for each object, and also the number of objects found.\n",
        "\n",
        "\n",
        "#Let's color the labels to see the effect\n",
        "img2 = color.label2rgb(labeled_mask, bg_label=0)\n",
        "\n",
        "#    cv2.imshow('Colored Grains', img2)\n",
        "cv2_imshow(img2) # new line\n"
      ],
      "execution_count": 9,
      "outputs": [
        {
          "output_type": "display_data",
          "data": {
            "image/png": "[encoded data removed]",
            "text/plain": [
              "<PIL.Image.Image image mode=RGB size=1200x1200 at 0x7FF6248FD210>"
            ]
          },
          "metadata": {
            "tags": []
          }
        },
        {
          "output_type": "display_data",
          "data": {
            "image/png": "[encoded data removed]",
            "text/plain": [
              "<Figure size 432x288 with 1 Axes>"
            ]
          },
          "metadata": {
            "tags": [],
            "needs_background": "light"
          }
        }
      ]
    },
    {
      "cell_type": "code",
      "metadata": {
        "id": "xUBl549EBGjE"
      },
      "source": [
        "#   cv2.waitKey(0)\n",
        "\n",
        "#View just by making mask=threshold and also mask = dilation (after morph operations)\n",
        "#Some grains are well separated after morph operations\n",
        "\n",
        "#Now each object had a unique number in the image. \n",
        "#Total number of labels found are...\n",
        "#print(num_labels) \n",
        "\n",
        "#Step 5: Measure the properties of each grain (object)\n",
        "\n",
        "# regionprops function in skimage measure module calculates useful parameters for each object.\n",
        "\n",
        "clusters = measure.regionprops(labeled_mask, img)  #send in original image for Intensity measurements\n",
        "\n",
        "#The output of the function is a list of object properties. \n",
        "\n",
        "#Test a few measurements\n",
        "#print(clusters[0].perimeter)\n",
        "\n",
        "#Can print various parameters for all objects\n",
        "#for prop in clusters:\n",
        "#    print('Label: {} Area: {}'.format(prop.label, prop.area))\n",
        "    \n",
        "#Step 6: Output results into a csv file   \n",
        "#Best way is to output all properties to a csv file\n",
        "    \n",
        "propList = ['Area',\n",
        "            'equivalent_diameter', #Added... verify if it works\n",
        "            'orientation', #Added, verify if it works. Angle btwn x-axis and major axis.\n",
        "            'MajorAxisLength',\n",
        "            'MinorAxisLength',\n",
        "            'Perimeter',\n",
        "            'MinIntensity',\n",
        "            'MeanIntensity',\n",
        "            'MaxIntensity']    \n",
        "    \n",
        "\n",
        "output_file = open('image_measurements.csv', 'w')\n",
        "output_file.write(',' + \",\".join(propList) + '\\n') #join strings in array by commas, leave first cell blank\n",
        "#First cell blank to leave room for header (column names)\n",
        "\n",
        "for cluster_props in clusters:\n",
        "    #output cluster properties to the excel file\n",
        "    output_file.write(str(cluster_props['Label']))\n",
        "    for i,prop in enumerate(propList):\n",
        "        if(prop == 'Area'): \n",
        "            to_print = cluster_props[prop]*pixels_to_um**2   #Convert pixel square to um square\n",
        "        elif(prop == 'orientation'): \n",
        "            to_print = cluster_props[prop]*57.2958  #Convert to degrees from radians\n",
        "        elif(prop.find('Intensity') < 0):          # Any prop without Intensity in its name\n",
        "            to_print = cluster_props[prop]*pixels_to_um\n",
        "        else: \n",
        "            to_print = cluster_props[prop]     #Reamining props, basically the ones with Intensity in its name\n",
        "        output_file.write(',' + str(to_print))\n",
        "    output_file.write('\\n')\n",
        "output_file.close()   #Closes the file, otherwise it would be read only. "
      ],
      "execution_count": 10,
      "outputs": []
    },
    {
      "cell_type": "code",
      "metadata": {
        "colab": {
          "base_uri": "https://localhost:8080/"
        },
        "id": "aUfLrQ33BRup",
        "outputId": "81bca679-83e2-4af7-ed34-ac0880f3c565"
      },
      "source": [
        "!ls"
      ],
      "execution_count": 13,
      "outputs": [
        {
          "output_type": "stream",
          "text": [
            " 01_Features_Mahotas_Completo_mar_20_2020.ipynb\n",
            " 01_Fotos_convert_to_CSV_jul_23_2020.ipynb\n",
            " 02_Mahotas_fracionado_B_mar_20_2020.ipynb\n",
            " 02_Segmentacao_e_salva_TODAS_calcula_entrada_FotoS_v02_julho_02_2020.ipynb\n",
            " 03_ANN_CLASSIFICA_julho_23_2020.ipynb\n",
            " 04_ANN_fotos_testa_variaveis_duas_classes_mar_20_2020.ipynb\n",
            " 04_ANN_fotos_testa_variaveis_duas_classes_TensorFlow_abr_03_2020.ipynb\n",
            " 05_ANN_build_PSD_FIND_BUG_set_08_2020.ipynb\n",
            " 2A_Mahotas_Fracionado_Fotos_Grandes_Fev_2020.ipynb\n",
            " ANN_CLASSIFICA_julho_23_2020.ipynb\n",
            " ANN_segmentacao_placas_v_01_junho_01_2020.ipynb\n",
            " ANN_segmentacao_tensor_OUR_v13_junho_08_2020.ipynb\n",
            " Calculo_008_out_23_2019.ipynb\n",
            " Calculo_013_out_30_2019.ipynb\n",
            " Calculo_024_NOV_12_2019.ipynb\n",
            " Contraste_Completo_mar_2020.csv\n",
            " Contraste_Fracionado_mar_2020.csv\n",
            " Cristais_Virtuais_jun_23_2019.ipynb\n",
            "'Dados Granulometria.xlsx'\n",
            " Doutorado-master.zip\n",
            " Features_Determination_versao_nova_002_jan_29_2020.ipynb\n",
            " Features_Mahotas_Completo_fev_11_2020.ipynb\n",
            " Fotos9Amostras720_e_varios_graos.zip\n",
            " Fotos9Amostras720.zip\n",
            " Fotos9Amostras.zip\n",
            " Fotos_Grandes-3cdAmostra\n",
            " Fotos_Grandes_3cdAmostra.zip\n",
            " FotosTreino882_and_Segm.zip\n",
            " Fotos_varios_graos.zip\n",
            " Gabi_Sugar_09_maio_06_2019.ipynb\n",
            " Gabi_Sugar_11_maio_24_2019.ipynb\n",
            " Histogram_PSD_out_23_2020.ipynb\n",
            " imageJ_jpg.zip\n",
            " image_measurements.csv\n",
            " Imagem_Segmentacao_v_04_maio_12_2020.ipynb\n",
            " Incompleto_01_Features_Mahotas_Completo_mar_04_2020.ipynb\n",
            " Mahotas_Fracionado_teste_008_nov_16_2019.ipynb\n",
            " Matriz_rede_teste_007_dez_16_2019.ipynb\n",
            " Q6-1-4.jpg\n",
            " Q6-6-2.txt\n",
            " Q6-6-3.txt\n",
            " Q6-6-5.txt\n",
            " quadrada.zip\n",
            " Segmentacao_e_salva_TODAS_FotoS_v01_junho_19_2020.ipynb\n",
            " sugar_ANN_abril_5_2018.ipynb\n"
          ],
          "name": "stdout"
        }
      ]
    }
  ]
}