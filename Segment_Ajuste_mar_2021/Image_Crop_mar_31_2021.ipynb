{
  "nbformat": 4,
  "nbformat_minor": 0,
  "metadata": {
    "colab": {
      "name": "Image_Crop_mar_31_2021.ipynb",
      "provenance": [],
      "collapsed_sections": [],
      "authorship_tag": "ABX9TyNS5JoAIUSThwx9t6scb24y",
      "include_colab_link": true
    },
    "kernelspec": {
      "name": "python3",
      "display_name": "Python 3"
    },
    "language_info": {
      "name": "python"
    }
  },
  "cells": [
    {
      "cell_type": "markdown",
      "metadata": {
        "id": "view-in-github",
        "colab_type": "text"
      },
      "source": [
        "<a href=\"https://colab.research.google.com/github/ucfilho/marquesgabi_paper_fev_2021/blob/main/Segment_Ajuste_mar_2021/Image_Crop_mar_31_2021.ipynb\" target=\"_parent\"><img src=\"https://colab.research.google.com/assets/colab-badge.svg\" alt=\"Open In Colab\"/></a>"
      ]
    },
    {
      "cell_type": "code",
      "metadata": {
        "id": "69OkwSJb0UJu"
      },
      "source": [
        "import os\n",
        "import sys\n",
        "import shutil\n",
        "import glob\n",
        "import matplotlib.pyplot as plt\n",
        "import matplotlib.image as mpimg\n",
        "from PIL import Image"
      ],
      "execution_count": 1,
      "outputs": []
    },
    {
      "cell_type": "code",
      "metadata": {
        "id": "u7CXBsVP8C6C"
      },
      "source": [
        "# https://towardsdatascience.com/images-and-masks-splitting-into-multiple-pieces-in-python-with-google-colab-2f6b2ddcb322"
      ],
      "execution_count": null,
      "outputs": []
    },
    {
      "cell_type": "code",
      "metadata": {
        "colab": {
          "base_uri": "https://localhost:8080/"
        },
        "id": "xvmRbPIR0VR8",
        "outputId": "1a80c142-1966-49f0-b79d-3d2257a5f3f2"
      },
      "source": [
        "from google.colab import drive\n",
        "drive.mount('/content/gdrive')\n",
        "%cd \"gdrive/My Drive/ANNMariaGabriela\""
      ],
      "execution_count": 2,
      "outputs": [
        {
          "output_type": "stream",
          "text": [
            "Mounted at /content/gdrive\n",
            "/content/gdrive/My Drive/ANNMariaGabriela\n"
          ],
          "name": "stdout"
        }
      ]
    },
    {
      "cell_type": "code",
      "metadata": {
        "id": "N5Tomq7x0ZEh"
      },
      "source": [
        "def dir_create(path):\n",
        "    if (os.path.exists(path)) and (os.listdir(path) != []):\n",
        "        shutil.rmtree(path)\n",
        "        os.makedirs(path)\n",
        "    if not os.path.exists(path):\n",
        "        os.makedirs(path)"
      ],
      "execution_count": 3,
      "outputs": []
    },
    {
      "cell_type": "code",
      "metadata": {
        "id": "xkjyhsGc0eY9"
      },
      "source": [
        "def crop(input_file, height, width):\n",
        "    img = Image.open(input_file)\n",
        "    img_width, img_height = img.size\n",
        "    for i in range(img_height//height):\n",
        "        for j in range(img_width//width):\n",
        "            box = (j*width, i*height, (j+1)*width, (i+1)*height)\n",
        "            yield img.crop(box)"
      ],
      "execution_count": 4,
      "outputs": []
    },
    {
      "cell_type": "code",
      "metadata": {
        "id": "GmtHW9pA0iYg"
      },
      "source": [
        "def split(inp_img_dir, inp_msk_dir, out_dir, height, width, \n",
        "          start_num):\n",
        "    image_dir = os.path.join(out_dir, 'images')\n",
        "    mask_dir = os.path.join(out_dir, 'masks')\n",
        "    dir_create(out_dir)\n",
        "    dir_create(image_dir)\n",
        "    dir_create(mask_dir)\n",
        "    img_list = [f for f in\n",
        "                os.listdir(inp_img_dir)\n",
        "                if os.path.isfile(os.path.join(inp_img_dir, f))]\n",
        "    file_num = 0\n",
        "    for infile in img_list:\n",
        "        infile_path = os.path.join(inp_img_dir, infile)\n",
        "        for k, piece in enumerate(crop(infile_path,\n",
        "                                       height, width), start_num):\n",
        "            img = Image.new('RGB', (height, width), 255)\n",
        "            img.paste(piece)\n",
        "            img_path = os.path.join(image_dir, \n",
        "                                    infile.split('.')[0]+ '_'\n",
        "                                    + str(k).zfill(5) + '.png')\n",
        "            img.save(img_path)\n",
        "        infile_path = os.path.join(inp_msk_dir,\n",
        "                                   infile.split('.')[0] + '.png')\n",
        "        for k, piece in enumerate(crop(infile_path,\n",
        "                                       height, width), start_num):\n",
        "            msk = Image.new('RGB', (height, width), 255)\n",
        "            msk.paste(piece)\n",
        "            msk_path = os.path.join(mask_dir,\n",
        "                                    infile.split('.')[0] + '_'\n",
        "                                    + str(k).zfill(5) + '.png')\n",
        "            msk.save(msk_path)\n",
        "        file_num += 1\n",
        "        sys.stdout.write(\"\\rFile %s was processed.\" % file_num)\n",
        "        sys.stdout.flush()"
      ],
      "execution_count": 5,
      "outputs": []
    },
    {
      "cell_type": "code",
      "metadata": {
        "id": "90O_pznd0mjM"
      },
      "source": [
        "inp_img_dir = './input_dir/images'\n",
        "inp_msk_dir = './input_dir/masks'\n",
        "out_dir = './output_dir'\n",
        "height = 512\n",
        "width = 512\n",
        "start_num = 1"
      ],
      "execution_count": 6,
      "outputs": []
    },
    {
      "cell_type": "code",
      "metadata": {
        "colab": {
          "base_uri": "https://localhost:8080/",
          "height": 322
        },
        "id": "HBYWFolM0tGE",
        "outputId": "e6d99d22-5c5a-45ef-e5e0-abd90a060a33"
      },
      "source": [
        "input_images_list = glob.glob(inp_img_dir + '/*.jpg')\n",
        "input_masks_list = glob.glob(inp_msk_dir + '/*.png')\n",
        "split(inp_img_dir, inp_msk_dir, out_dir, height, width, start_num)"
      ],
      "execution_count": 7,
      "outputs": [
        {
          "output_type": "error",
          "ename": "FileNotFoundError",
          "evalue": "ignored",
          "traceback": [
            "\u001b[0;31m---------------------------------------------------------------------------\u001b[0m",
            "\u001b[0;31mFileNotFoundError\u001b[0m                         Traceback (most recent call last)",
            "\u001b[0;32m<ipython-input-7-09523a650071>\u001b[0m in \u001b[0;36m<module>\u001b[0;34m()\u001b[0m\n\u001b[1;32m      1\u001b[0m \u001b[0minput_images_list\u001b[0m \u001b[0;34m=\u001b[0m \u001b[0mglob\u001b[0m\u001b[0;34m.\u001b[0m\u001b[0mglob\u001b[0m\u001b[0;34m(\u001b[0m\u001b[0minp_img_dir\u001b[0m \u001b[0;34m+\u001b[0m \u001b[0;34m'/*.jpg'\u001b[0m\u001b[0;34m)\u001b[0m\u001b[0;34m\u001b[0m\u001b[0;34m\u001b[0m\u001b[0m\n\u001b[1;32m      2\u001b[0m \u001b[0minput_masks_list\u001b[0m \u001b[0;34m=\u001b[0m \u001b[0mglob\u001b[0m\u001b[0;34m.\u001b[0m\u001b[0mglob\u001b[0m\u001b[0;34m(\u001b[0m\u001b[0minp_msk_dir\u001b[0m \u001b[0;34m+\u001b[0m \u001b[0;34m'/*.png'\u001b[0m\u001b[0;34m)\u001b[0m\u001b[0;34m\u001b[0m\u001b[0;34m\u001b[0m\u001b[0m\n\u001b[0;32m----> 3\u001b[0;31m \u001b[0msplit\u001b[0m\u001b[0;34m(\u001b[0m\u001b[0minp_img_dir\u001b[0m\u001b[0;34m,\u001b[0m \u001b[0minp_msk_dir\u001b[0m\u001b[0;34m,\u001b[0m \u001b[0mout_dir\u001b[0m\u001b[0;34m,\u001b[0m \u001b[0mheight\u001b[0m\u001b[0;34m,\u001b[0m \u001b[0mwidth\u001b[0m\u001b[0;34m,\u001b[0m \u001b[0mstart_num\u001b[0m\u001b[0;34m)\u001b[0m\u001b[0;34m\u001b[0m\u001b[0;34m\u001b[0m\u001b[0m\n\u001b[0m",
            "\u001b[0;32m<ipython-input-5-5457480f7125>\u001b[0m in \u001b[0;36msplit\u001b[0;34m(inp_img_dir, inp_msk_dir, out_dir, height, width, start_num)\u001b[0m\n\u001b[1;32m      7\u001b[0m     \u001b[0mdir_create\u001b[0m\u001b[0;34m(\u001b[0m\u001b[0mmask_dir\u001b[0m\u001b[0;34m)\u001b[0m\u001b[0;34m\u001b[0m\u001b[0;34m\u001b[0m\u001b[0m\n\u001b[1;32m      8\u001b[0m     img_list = [f for f in\n\u001b[0;32m----> 9\u001b[0;31m                 \u001b[0mos\u001b[0m\u001b[0;34m.\u001b[0m\u001b[0mlistdir\u001b[0m\u001b[0;34m(\u001b[0m\u001b[0minp_img_dir\u001b[0m\u001b[0;34m)\u001b[0m\u001b[0;34m\u001b[0m\u001b[0;34m\u001b[0m\u001b[0m\n\u001b[0m\u001b[1;32m     10\u001b[0m                 if os.path.isfile(os.path.join(inp_img_dir, f))]\n\u001b[1;32m     11\u001b[0m     \u001b[0mfile_num\u001b[0m \u001b[0;34m=\u001b[0m \u001b[0;36m0\u001b[0m\u001b[0;34m\u001b[0m\u001b[0;34m\u001b[0m\u001b[0m\n",
            "\u001b[0;31mFileNotFoundError\u001b[0m: [Errno 2] No such file or directory: './input_dir/images'"
          ]
        }
      ]
    },
    {
      "cell_type": "code",
      "metadata": {
        "id": "B8vkETio0t79"
      },
      "source": [
        "for i, (image_path, mask_path) in enumerate(zip(input_images_list,\n",
        "                                                input_masks_list)):\n",
        "    fig, [ax1, ax2] = plt.subplots(1, 2, figsize=(18, 9))\n",
        "    image = mpimg.imread(image_path)\n",
        "    mask = mpimg.imread(mask_path)\n",
        "    ax1.set_title('Image ' + str(i+1))\n",
        "    ax1.imshow(image)\n",
        "    ax2.imshow(mask)\n",
        "    ax2.set_title('Mask ' + str(i+1))"
      ],
      "execution_count": null,
      "outputs": []
    }
  ]
}