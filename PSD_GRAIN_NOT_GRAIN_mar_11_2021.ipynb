{
  "nbformat": 4,
  "nbformat_minor": 0,
  "metadata": {
    "colab": {
      "name": "PSD_GRAIN_NOT_GRAIN_mar_11_2021.ipynb",
      "provenance": [],
      "collapsed_sections": [],
      "include_colab_link": true
    },
    "kernelspec": {
      "name": "python3",
      "display_name": "Python 3"
    }
  },
  "cells": [
    {
      "cell_type": "markdown",
      "metadata": {
        "id": "view-in-github",
        "colab_type": "text"
      },
      "source": [
        "<a href=\"https://colab.research.google.com/github/ucfilho/marquesgabi_paper_fev_2021/blob/main/PSD_GRAIN_NOT_GRAIN_mar_11_2021.ipynb\" target=\"_parent\"><img src=\"https://colab.research.google.com/assets/colab-badge.svg\" alt=\"Open In Colab\"/></a>"
      ]
    },
    {
      "cell_type": "code",
      "metadata": {
        "id": "Sog7Z9pyhUD_"
      },
      "source": [
        "import matplotlib.pyplot as plt\n",
        "import numpy as np\n",
        "import cv2\n",
        "import zipfile\n",
        "#import random\n",
        "from random import randint\n",
        "from PIL import Image\n",
        "import re\n",
        "from sklearn.model_selection import train_test_split\n",
        "#import scikit-image\n",
        "import skimage\n",
        "import pandas as pd\n",
        "import statsmodels.api as sm\n",
        "import statsmodels.formula.api as smf"
      ],
      "execution_count": 36,
      "outputs": []
    },
    {
      "cell_type": "code",
      "metadata": {
        "id": "uZEvJvfoibE4",
        "colab": {
          "base_uri": "https://localhost:8080/"
        },
        "outputId": "ba9fb3fa-2ce0-4c55-a37a-d7a4ea97ad4d"
      },
      "source": [
        "!pip install mahotas"
      ],
      "execution_count": 37,
      "outputs": [
        {
          "output_type": "stream",
          "text": [
            "Requirement already satisfied: mahotas in /usr/local/lib/python3.7/dist-packages (1.4.11)\n",
            "Requirement already satisfied: numpy in /usr/local/lib/python3.7/dist-packages (from mahotas) (1.19.5)\n"
          ],
          "name": "stdout"
        }
      ]
    },
    {
      "cell_type": "code",
      "metadata": {
        "id": "_VcTdaNVh9EE",
        "colab": {
          "base_uri": "https://localhost:8080/"
        },
        "outputId": "b677589a-26e5-4090-f90d-bdd41e813ead"
      },
      "source": [
        "!git clone https://github.com/ucfilho/marquesgabi_fev_2020 #clonar do Github\n",
        "%cd marquesgabi_fev_2020\n",
        "import Go2BlackWhite\n",
        "import Go2Mahotas"
      ],
      "execution_count": 38,
      "outputs": [
        {
          "output_type": "stream",
          "text": [
            "Cloning into 'marquesgabi_fev_2020'...\n",
            "remote: Enumerating objects: 73, done.\u001b[K\n",
            "remote: Counting objects: 100% (73/73), done.\u001b[K\n",
            "remote: Compressing objects: 100% (71/71), done.\u001b[K\n",
            "remote: Total 73 (delta 37), reused 0 (delta 0), pack-reused 0\u001b[K\n",
            "Unpacking objects: 100% (73/73), done.\n",
            "/content/marquesgabi_fev_2020/marquesgabi_out_2020/Doutorado/marquesgabi_fev_2020/marquesgabi_out_2020/Doutorado/marquesgabi_fev_2020/marquesgabi_out_2020/Doutorado/marquesgabi_fev_2020\n"
          ],
          "name": "stdout"
        }
      ]
    },
    {
      "cell_type": "code",
      "metadata": {
        "id": "nf_a6PJ1iUnT"
      },
      "source": [
        "import mahotas.features.texture as mht\n",
        "import mahotas.features"
      ],
      "execution_count": 39,
      "outputs": []
    },
    {
      "cell_type": "code",
      "metadata": {
        "id": "wj62HANgnpnR",
        "colab": {
          "base_uri": "https://localhost:8080/"
        },
        "outputId": "a547e3ea-5a01-45d1-bb58-b54ad932c4c9"
      },
      "source": [
        "!git clone https://github.com/ucfilho/marquesgabi_out_2020/\n",
        "%cd marquesgabi_out_2020\n",
        "\n",
        "from Get_PSDArea import PSDArea\n",
        "from histogram_fev_2021 import PSD\n",
        "from GetBetterSegm import GetBetter"
      ],
      "execution_count": 40,
      "outputs": [
        {
          "output_type": "stream",
          "text": [
            "Cloning into 'marquesgabi_out_2020'...\n",
            "remote: Enumerating objects: 146, done.\u001b[K\n",
            "remote: Counting objects: 100% (146/146), done.\u001b[K\n",
            "remote: Compressing objects: 100% (142/142), done.\u001b[K\n",
            "remote: Total 146 (delta 75), reused 0 (delta 0), pack-reused 0\u001b[K\n",
            "Receiving objects: 100% (146/146), 1.00 MiB | 7.18 MiB/s, done.\n",
            "Resolving deltas: 100% (75/75), done.\n",
            "/content/marquesgabi_fev_2020/marquesgabi_out_2020/Doutorado/marquesgabi_fev_2020/marquesgabi_out_2020/Doutorado/marquesgabi_fev_2020/marquesgabi_out_2020/Doutorado/marquesgabi_fev_2020/marquesgabi_out_2020\n"
          ],
          "name": "stdout"
        }
      ]
    },
    {
      "cell_type": "code",
      "metadata": {
        "id": "8L6KJ4jc3ahG",
        "colab": {
          "base_uri": "https://localhost:8080/"
        },
        "outputId": "aa284a32-5b14-4130-c18c-552324291462"
      },
      "source": [
        "!ls"
      ],
      "execution_count": 41,
      "outputs": [
        {
          "output_type": "stream",
          "text": [
            "Areas_ImageJ.csv\t\t IMAGEJ_Zuados.zip\n",
            "Areas_ImageJ.xlsx\t\t PSD_GRAIN_NOT_GRAIN_nov_13_2020.ipynb\n",
            "GetBetterSegm.py\t\t PSD_GRAIN_NOT_GRAIN_out_09_2020.ipynb\n",
            "Get_PSDArea.py\t\t\t PSD_GRAIN_NOT_GRAIN_out_19_2020.ipynb\n",
            "histogram_fev_2021.py\t\t PSD_GRAIN_NOT_GRAIN_out_28_2020.ipynb\n",
            "Histogram_PSD_out_19_2020.ipynb  PSD_USA_ROTINAS_out_05_2020.ipynb\n",
            "Histogram_PSD_out_23_2020.ipynb  README.md\n",
            "imageJ_jpg.zip\t\t\t Teste\n"
          ],
          "name": "stdout"
        }
      ]
    },
    {
      "cell_type": "code",
      "metadata": {
        "id": "1v7SRrc8mH2N",
        "colab": {
          "base_uri": "https://localhost:8080/"
        },
        "outputId": "f00a2860-4a5b-4bbd-c78b-3b33c6824768"
      },
      "source": [
        "!git clone https://github.com/marquesgabi/Doutorado\n",
        "%cd Doutorado\n",
        "\n",
        "Transfere='Fotos_Grandes_3cdAmostra.zip'\n",
        "file_name = zipfile.ZipFile(Transfere, 'r')\n",
        "file_name.extractall()"
      ],
      "execution_count": 42,
      "outputs": [
        {
          "output_type": "stream",
          "text": [
            "Cloning into 'Doutorado'...\n",
            "remote: Enumerating objects: 52, done.\u001b[K\n",
            "remote: Counting objects: 100% (52/52), done.\u001b[K\n",
            "remote: Compressing objects: 100% (52/52), done.\u001b[K\n",
            "remote: Total 302 (delta 21), reused 0 (delta 0), pack-reused 250\u001b[K\n",
            "Receiving objects: 100% (302/302), 78.58 MiB | 42.60 MiB/s, done.\n",
            "Resolving deltas: 100% (144/144), done.\n",
            "/content/marquesgabi_fev_2020/marquesgabi_out_2020/Doutorado/marquesgabi_fev_2020/marquesgabi_out_2020/Doutorado/marquesgabi_fev_2020/marquesgabi_out_2020/Doutorado/marquesgabi_fev_2020/marquesgabi_out_2020/Doutorado\n"
          ],
          "name": "stdout"
        }
      ]
    },
    {
      "cell_type": "code",
      "metadata": {
        "id": "0kA4IWSmasoD"
      },
      "source": [
        "Size=1200 # tamanho da foto\n",
        "ww,img_name=Go2BlackWhite.BlackWhite(Transfere,Size) #Pegamos a primeira foto Grande\n",
        "img=ww[0] \n",
        "# this is the big image we want to segment \n",
        "# ww[0], change it if you want to segment another picture"
      ],
      "execution_count": 43,
      "outputs": []
    },
    {
      "cell_type": "code",
      "metadata": {
        "id": "g_k1Ktz3izJv",
        "colab": {
          "base_uri": "https://localhost:8080/"
        },
        "outputId": "25d1ec09-e725-41ae-f8d6-cbba13ecbd07"
      },
      "source": [
        "!git clone https://github.com/marquesgabi/Doutorado\n",
        "# %cd Doutorado\n",
        "Transfere='FotosTreino882_and_Segm.zip'\n",
        "file_name = zipfile.ZipFile(Transfere, 'r')\n",
        "file_name.extractall()\n",
        "\n",
        "\"\"\"# First step: get the segmented file (photos stored in csv file)\"\"\"\n",
        "\n",
        "labels = [] #name files\n",
        "\n",
        "with zipfile.ZipFile(Transfere, \"r\") as f:\n",
        "  for f in f.namelist():\n",
        "    labels.append(f)\n",
        "\n",
        "Num=len(labels)\n",
        "df=pd.read_csv(labels[0])\n",
        "for i in range(1,Num):\n",
        "  df_new=pd.read_csv(labels[i])\n",
        "  df_new = df_new[~df_new['Type'].isin(['G'])] # drop grain row which is not in 882\n",
        "  frames = [df, df_new]\n",
        "  df= pd.concat(frames, ignore_index=True)"
      ],
      "execution_count": 44,
      "outputs": [
        {
          "output_type": "stream",
          "text": [
            "Cloning into 'Doutorado'...\n",
            "remote: Enumerating objects: 52, done.\u001b[K\n",
            "remote: Counting objects: 100% (52/52), done.\u001b[K\n",
            "remote: Compressing objects: 100% (52/52), done.\u001b[K\n",
            "remote: Total 302 (delta 21), reused 0 (delta 0), pack-reused 250\u001b[K\n",
            "Receiving objects: 100% (302/302), 78.58 MiB | 41.27 MiB/s, done.\n",
            "Resolving deltas: 100% (144/144), done.\n"
          ],
          "name": "stdout"
        }
      ]
    },
    {
      "cell_type": "code",
      "metadata": {
        "id": "tHgqAnaFyCjp",
        "colab": {
          "base_uri": "https://localhost:8080/"
        },
        "outputId": "f7367b86-6b81-49b2-abf5-ee17ae681edf"
      },
      "source": [
        "!git clone https://github.com/ucfilho/marquesgabi_paper_fev_2021\n",
        "%cd marquesgabi_paper_fev_2021"
      ],
      "execution_count": 45,
      "outputs": [
        {
          "output_type": "stream",
          "text": [
            "Cloning into 'marquesgabi_paper_fev_2021'...\n",
            "remote: Enumerating objects: 111, done.\u001b[K\n",
            "remote: Counting objects: 100% (111/111), done.\u001b[K\n",
            "remote: Compressing objects: 100% (109/109), done.\u001b[K\n",
            "remote: Total 111 (delta 60), reused 0 (delta 0), pack-reused 0\u001b[K\n",
            "Receiving objects: 100% (111/111), 361.53 KiB | 7.09 MiB/s, done.\n",
            "Resolving deltas: 100% (60/60), done.\n",
            "/content/marquesgabi_fev_2020/marquesgabi_out_2020/Doutorado/marquesgabi_fev_2020/marquesgabi_out_2020/Doutorado/marquesgabi_fev_2020/marquesgabi_out_2020/Doutorado/marquesgabi_fev_2020/marquesgabi_out_2020/Doutorado/marquesgabi_paper_fev_2021\n"
          ],
          "name": "stdout"
        }
      ]
    },
    {
      "cell_type": "code",
      "metadata": {
        "id": "qc4rFvzkyWCi"
      },
      "source": [
        "from big_segment import Segmenta  # got image provided segmented\n",
        "from ANN_FIND_GRAIN import AnnGrain  # got image provided segmented\n",
        "from psd_mahotas import Mahotas"
      ],
      "execution_count": 46,
      "outputs": []
    },
    {
      "cell_type": "code",
      "metadata": {
        "colab": {
          "base_uri": "https://localhost:8080/"
        },
        "id": "knhoH5ve0gyq",
        "outputId": "b34c761c-8125-48fd-d4c7-db88b17ebcb0"
      },
      "source": [
        "!ls"
      ],
      "execution_count": 47,
      "outputs": [
        {
          "output_type": "stream",
          "text": [
            "ANN_FIND_GRAIN_MAR_2021.py\n",
            "ANN_FIND_GRAIN_PAPER_STEP_02.py\n",
            "ANN_FIND_GRAIN.py\n",
            "big_segment.py\n",
            "CNN_classify_grain_feb_15_2021.ipynb\n",
            "CNN_DESCRIPTION.ipynb\n",
            "CNN_FIND_GRAIN_PAPER_STEP_02.py\n",
            "EPOCHS_graphic.csv\n",
            "EPOCHS_graphic.txt\n",
            "Fig_05_BIG_Segmentation_jan_25_2021.ipynb\n",
            "Graphic_Epochs_fev_09_2020.ipynb\n",
            "PSD_CNN_GRAIN_NOT_GRAIN_step_02_paper.ipynb\n",
            "PSD_GRAIN_NOT_GRAIN_dez_04_2020.ipynb\n",
            "PSD_GRAIN_NOT_GRAIN_fev_18_2021.ipynb\n",
            "PSD_GRAIN_NOT_GRAIN_step_02_paper.ipynb\n",
            "psd_mahotas.py\n",
            "__pycache__\n",
            "README.md\n"
          ],
          "name": "stdout"
        }
      ]
    },
    {
      "cell_type": "code",
      "metadata": {
        "id": "YPoCxCp4kuRm",
        "colab": {
          "base_uri": "https://localhost:8080/"
        },
        "outputId": "fd7d9c2e-3a5e-40c8-9489-65555facad62"
      },
      "source": [
        "!git clone https://github.com/marquesgabi/Doutorado\n",
        "%cd Doutorado\n",
        "Transfere='FotosTreino882_and_Segm.zip'\n",
        "file_name = zipfile.ZipFile(Transfere, 'r')\n",
        "file_name.extractall()\n",
        "\n",
        "\"\"\"# First step: get the segmented file (photos stored in csv file)\"\"\"\n",
        "\n",
        "labels = [] #name files\n",
        "\n",
        "with zipfile.ZipFile(Transfere, \"r\") as f:\n",
        "  for f in f.namelist():\n",
        "    labels.append(f)\n",
        "\n",
        "Num=len(labels)\n",
        "ANN_dat=pd.read_csv(labels[0])\n",
        "for i in range(1,Num):\n",
        "  df_new=pd.read_csv(labels[i])\n",
        "  df_new = df_new[~df_new['Type'].isin(['G'])] # drop grain row which is not in 882\n",
        "  frames = [ANN_dat, df_new]\n",
        "  ANN_dat= pd.concat(frames, ignore_index=True)"
      ],
      "execution_count": 48,
      "outputs": [
        {
          "output_type": "stream",
          "text": [
            "Cloning into 'Doutorado'...\n",
            "remote: Enumerating objects: 52, done.\u001b[K\n",
            "remote: Counting objects: 100% (52/52), done.\u001b[K\n",
            "remote: Compressing objects: 100% (52/52), done.\u001b[K\n",
            "remote: Total 302 (delta 21), reused 0 (delta 0), pack-reused 250\u001b[K\n",
            "Receiving objects: 100% (302/302), 115.75 MiB | 41.18 MiB/s, done.\n",
            "Resolving deltas: 100% (138/138), done.\n",
            "/content/marquesgabi_fev_2020/marquesgabi_out_2020/Doutorado/marquesgabi_fev_2020/marquesgabi_out_2020/Doutorado/marquesgabi_fev_2020/marquesgabi_out_2020/Doutorado/marquesgabi_fev_2020/marquesgabi_out_2020/Doutorado/marquesgabi_paper_fev_2021/Doutorado\n"
          ],
          "name": "stdout"
        }
      ]
    },
    {
      "cell_type": "code",
      "metadata": {
        "id": "mv01JmHfmz-1"
      },
      "source": [
        "# open file to get df \n",
        "# use df and ANN to get grains and no grains\n",
        "# use grains to obtain psd"
      ],
      "execution_count": 49,
      "outputs": []
    },
    {
      "cell_type": "code",
      "metadata": {
        "id": "h4ELNAEunkox",
        "colab": {
          "base_uri": "https://localhost:8080/"
        },
        "outputId": "d657c48e-f058-44bc-aa47-bd3defeafc50"
      },
      "source": [
        "!git clone https://github.com/marquesgabi/Doutorado\n",
        "%cd Doutorado"
      ],
      "execution_count": 50,
      "outputs": [
        {
          "output_type": "stream",
          "text": [
            "Cloning into 'Doutorado'...\n",
            "remote: Enumerating objects: 52, done.\u001b[K\n",
            "remote: Counting objects: 100% (52/52), done.\u001b[K\n",
            "remote: Compressing objects: 100% (52/52), done.\u001b[K\n",
            "remote: Total 302 (delta 21), reused 0 (delta 0), pack-reused 250\u001b[K\n",
            "Receiving objects: 100% (302/302), 115.75 MiB | 41.73 MiB/s, done.\n",
            "Resolving deltas: 100% (138/138), done.\n",
            "/content/marquesgabi_fev_2020/marquesgabi_out_2020/Doutorado/marquesgabi_fev_2020/marquesgabi_out_2020/Doutorado/marquesgabi_fev_2020/marquesgabi_out_2020/Doutorado/marquesgabi_fev_2020/marquesgabi_out_2020/Doutorado/marquesgabi_paper_fev_2021/Doutorado/Doutorado\n"
          ],
          "name": "stdout"
        }
      ]
    },
    {
      "cell_type": "code",
      "metadata": {
        "id": "QmPJiuSnnxT9",
        "colab": {
          "base_uri": "https://localhost:8080/"
        },
        "outputId": "c7e1bbd9-2bc4-4e2f-e67d-b54d842ab6de"
      },
      "source": [
        "k=0\n",
        "for Item in img_name:\n",
        "  print(k,Item)\n",
        "  k=k+1\n",
        "\n",
        "img=ww[21]\n"
      ],
      "execution_count": 51,
      "outputs": [
        {
          "output_type": "stream",
          "text": [
            "0 Fotos_Grandes-3cdAmostra/Q6-8-4.jpg\n",
            "1 Fotos_Grandes-3cdAmostra/Q6-5-3.jpg\n",
            "2 Fotos_Grandes-3cdAmostra/Q6-7-4.jpg\n",
            "3 Fotos_Grandes-3cdAmostra/Q6-8-2.jpg\n",
            "4 Fotos_Grandes-3cdAmostra/Q6-3-2.jpg\n",
            "5 Fotos_Grandes-3cdAmostra/Q6-7-2.jpg\n",
            "6 Fotos_Grandes-3cdAmostra/Q6-4-4.jpg\n",
            "7 Fotos_Grandes-3cdAmostra/Q6-9-5.jpg\n",
            "8 Fotos_Grandes-3cdAmostra/Q6-2-5.jpg\n",
            "9 Fotos_Grandes-3cdAmostra/Q6-8-3.jpg\n",
            "10 Fotos_Grandes-3cdAmostra/Q6-9-3.jpg\n",
            "11 Fotos_Grandes-3cdAmostra/Q6-1-2.jpg\n",
            "12 Fotos_Grandes-3cdAmostra/Q6-6-3.jpg\n",
            "13 Fotos_Grandes-3cdAmostra/Q6-3-4.jpg\n",
            "14 Fotos_Grandes-3cdAmostra/Q6-1-4.jpg\n",
            "15 Fotos_Grandes-3cdAmostra/Q6-6-2.jpg\n",
            "16 Fotos_Grandes-3cdAmostra/Q6-4-3.jpg\n",
            "17 Fotos_Grandes-3cdAmostra/Q6-7-3.jpg\n",
            "18 Fotos_Grandes-3cdAmostra/Q6-2-2.jpg\n",
            "19 Fotos_Grandes-3cdAmostra/Q6-9-2.jpg\n",
            "20 Fotos_Grandes-3cdAmostra/Q6-1-5.jpg\n",
            "21 Fotos_Grandes-3cdAmostra/Q6-6-5.jpg\n",
            "22 Fotos_Grandes-3cdAmostra/Q6-2-1.jpg\n",
            "23 Fotos_Grandes-3cdAmostra/Q6-5-2.jpg\n",
            "24 Fotos_Grandes-3cdAmostra/Q6-4-1.jpg\n",
            "25 Fotos_Grandes-3cdAmostra/Q6-3-1.jpg\n",
            "26 Fotos_Grandes-3cdAmostra/Q6-5-4.jpg\n"
          ],
          "name": "stdout"
        }
      ]
    },
    {
      "cell_type": "code",
      "metadata": {
        "id": "Fg08LdDEsYLd"
      },
      "source": [
        "df=Segmenta(img)"
      ],
      "execution_count": 52,
      "outputs": []
    },
    {
      "cell_type": "code",
      "metadata": {
        "id": "3O2xFH1Ishc2",
        "colab": {
          "base_uri": "https://localhost:8080/"
        },
        "outputId": "b508efff-85e9-4b8f-ff36-5bca93f2c68d"
      },
      "source": [
        "y_pred,confusion_matrix,METRICS=AnnGrain(ANN_dat,df.drop('Width',axis=1)) "
      ],
      "execution_count": 53,
      "outputs": [
        {
          "output_type": "stream",
          "text": [
            "Epoch 1/200\n",
            "WARNING:tensorflow:Model was constructed with shape (None, 28, 28) for input KerasTensor(type_spec=TensorSpec(shape=(None, 28, 28), dtype=tf.float32, name='flatten_input'), name='flatten_input', description=\"created by layer 'flatten_input'\"), but it was called on an input with incompatible shape (None, 784).\n",
            "WARNING:tensorflow:Model was constructed with shape (None, 28, 28) for input KerasTensor(type_spec=TensorSpec(shape=(None, 28, 28), dtype=tf.float32, name='flatten_input'), name='flatten_input', description=\"created by layer 'flatten_input'\"), but it was called on an input with incompatible shape (None, 784).\n",
            "11/11 [==============================] - 1s 2ms/step - loss: 17.7897 - accuracy: 0.3651\n",
            "Epoch 2/200\n",
            "11/11 [==============================] - 0s 3ms/step - loss: 1.7005 - accuracy: 0.5009\n",
            "Epoch 3/200\n",
            "11/11 [==============================] - 0s 2ms/step - loss: 5.1243 - accuracy: 0.4853\n",
            "Epoch 4/200\n",
            "11/11 [==============================] - 0s 2ms/step - loss: 3.8669 - accuracy: 0.5199\n",
            "Epoch 5/200\n",
            "11/11 [==============================] - 0s 2ms/step - loss: 4.5957 - accuracy: 0.4955\n",
            "Epoch 6/200\n",
            "11/11 [==============================] - 0s 2ms/step - loss: 4.6349 - accuracy: 0.4916\n",
            "Epoch 7/200\n",
            "11/11 [==============================] - 0s 2ms/step - loss: 4.1904 - accuracy: 0.4959\n",
            "Epoch 8/200\n",
            "11/11 [==============================] - 0s 2ms/step - loss: 3.5982 - accuracy: 0.5120\n",
            "Epoch 9/200\n",
            "11/11 [==============================] - 0s 2ms/step - loss: 3.3117 - accuracy: 0.4864\n",
            "Epoch 10/200\n",
            "11/11 [==============================] - 0s 2ms/step - loss: 2.6190 - accuracy: 0.5015\n",
            "Epoch 11/200\n",
            "11/11 [==============================] - 0s 3ms/step - loss: 2.1002 - accuracy: 0.4947\n",
            "Epoch 12/200\n",
            "11/11 [==============================] - 0s 3ms/step - loss: 1.4688 - accuracy: 0.4864\n",
            "Epoch 13/200\n",
            "11/11 [==============================] - 0s 3ms/step - loss: 1.0062 - accuracy: 0.4833\n",
            "Epoch 14/200\n",
            "11/11 [==============================] - 0s 2ms/step - loss: 0.5312 - accuracy: 0.6053\n",
            "Epoch 15/200\n",
            "11/11 [==============================] - 0s 3ms/step - loss: 0.2814 - accuracy: 0.9281\n",
            "Epoch 16/200\n",
            "11/11 [==============================] - 0s 2ms/step - loss: 0.2306 - accuracy: 0.9925\n",
            "Epoch 17/200\n",
            "11/11 [==============================] - 0s 2ms/step - loss: 0.2159 - accuracy: 1.0000\n",
            "Epoch 18/200\n",
            "11/11 [==============================] - 0s 2ms/step - loss: 0.1983 - accuracy: 0.9973\n",
            "Epoch 19/200\n",
            "11/11 [==============================] - 0s 2ms/step - loss: 0.2010 - accuracy: 1.0000\n",
            "Epoch 20/200\n",
            "11/11 [==============================] - 0s 2ms/step - loss: 0.1813 - accuracy: 1.0000\n",
            "Epoch 21/200\n",
            "11/11 [==============================] - 0s 2ms/step - loss: 0.1596 - accuracy: 0.9945\n",
            "Epoch 22/200\n",
            "11/11 [==============================] - 0s 2ms/step - loss: 0.2107 - accuracy: 1.0000\n",
            "Epoch 23/200\n",
            "11/11 [==============================] - 0s 2ms/step - loss: 0.1501 - accuracy: 1.0000\n",
            "Epoch 24/200\n",
            "11/11 [==============================] - 0s 2ms/step - loss: 0.2469 - accuracy: 0.9792\n",
            "Epoch 25/200\n",
            "11/11 [==============================] - 0s 2ms/step - loss: 0.3007 - accuracy: 0.8665\n",
            "Epoch 26/200\n",
            "11/11 [==============================] - 0s 3ms/step - loss: 0.2242 - accuracy: 0.9767\n",
            "Epoch 27/200\n",
            "11/11 [==============================] - 0s 2ms/step - loss: 0.1297 - accuracy: 1.0000\n",
            "Epoch 28/200\n",
            "11/11 [==============================] - 0s 3ms/step - loss: 0.3428 - accuracy: 0.9819\n",
            "Epoch 29/200\n",
            "11/11 [==============================] - 0s 3ms/step - loss: 0.3061 - accuracy: 0.8441\n",
            "Epoch 30/200\n",
            "11/11 [==============================] - 0s 3ms/step - loss: 0.2090 - accuracy: 0.9685\n",
            "Epoch 31/200\n",
            "11/11 [==============================] - 0s 2ms/step - loss: 0.1486 - accuracy: 1.0000\n",
            "Epoch 32/200\n",
            "11/11 [==============================] - 0s 2ms/step - loss: 0.1725 - accuracy: 0.9958\n",
            "Epoch 33/200\n",
            "11/11 [==============================] - 0s 3ms/step - loss: 0.2249 - accuracy: 0.9774\n",
            "Epoch 34/200\n",
            "11/11 [==============================] - 0s 2ms/step - loss: 0.1349 - accuracy: 1.0000\n",
            "Epoch 35/200\n",
            "11/11 [==============================] - 0s 3ms/step - loss: 0.3469 - accuracy: 0.9720\n",
            "Epoch 36/200\n",
            "11/11 [==============================] - 0s 2ms/step - loss: 0.3144 - accuracy: 0.8009\n",
            "Epoch 37/200\n",
            "11/11 [==============================] - 0s 2ms/step - loss: 0.2426 - accuracy: 0.9402\n",
            "Epoch 38/200\n",
            "11/11 [==============================] - 0s 2ms/step - loss: 0.1361 - accuracy: 1.0000\n",
            "Epoch 39/200\n",
            "11/11 [==============================] - 0s 2ms/step - loss: 0.1852 - accuracy: 0.9958\n",
            "Epoch 40/200\n",
            "11/11 [==============================] - 0s 2ms/step - loss: 0.1604 - accuracy: 1.0000\n",
            "Epoch 41/200\n",
            "11/11 [==============================] - 0s 2ms/step - loss: 0.1251 - accuracy: 1.0000\n",
            "Epoch 42/200\n",
            "11/11 [==============================] - 0s 3ms/step - loss: 0.0805 - accuracy: 1.0000\n",
            "Epoch 43/200\n",
            "11/11 [==============================] - 0s 2ms/step - loss: 0.4633 - accuracy: 0.8945\n",
            "Epoch 44/200\n",
            "11/11 [==============================] - 0s 3ms/step - loss: 0.8048 - accuracy: 0.5611\n",
            "Epoch 45/200\n",
            "11/11 [==============================] - 0s 4ms/step - loss: 0.4999 - accuracy: 0.6474\n",
            "Epoch 46/200\n",
            "11/11 [==============================] - 0s 3ms/step - loss: 0.2057 - accuracy: 0.9517\n",
            "Epoch 47/200\n",
            "11/11 [==============================] - 0s 3ms/step - loss: 0.0803 - accuracy: 1.0000\n",
            "Epoch 48/200\n",
            "11/11 [==============================] - 0s 3ms/step - loss: 0.1330 - accuracy: 0.9967\n",
            "Epoch 49/200\n",
            "11/11 [==============================] - 0s 3ms/step - loss: 0.1492 - accuracy: 0.9986\n",
            "Epoch 50/200\n",
            "11/11 [==============================] - 0s 4ms/step - loss: 0.1538 - accuracy: 1.0000\n",
            "Epoch 51/200\n",
            "11/11 [==============================] - 0s 3ms/step - loss: 0.0927 - accuracy: 1.0000\n",
            "Epoch 52/200\n",
            "11/11 [==============================] - 0s 3ms/step - loss: 0.0570 - accuracy: 1.0000\n",
            "Epoch 53/200\n",
            "11/11 [==============================] - 0s 3ms/step - loss: 0.0545 - accuracy: 0.9958\n",
            "Epoch 54/200\n",
            "11/11 [==============================] - 0s 3ms/step - loss: 0.0753 - accuracy: 1.0000\n",
            "Epoch 55/200\n",
            "11/11 [==============================] - 0s 3ms/step - loss: 0.0675 - accuracy: 1.0000\n",
            "Epoch 56/200\n",
            "11/11 [==============================] - 0s 2ms/step - loss: 0.0537 - accuracy: 1.0000\n",
            "Epoch 57/200\n",
            "11/11 [==============================] - 0s 2ms/step - loss: 0.1221 - accuracy: 0.9983\n",
            "Epoch 58/200\n",
            "11/11 [==============================] - 0s 2ms/step - loss: 0.2226 - accuracy: 0.9224\n",
            "Epoch 59/200\n",
            "11/11 [==============================] - 0s 2ms/step - loss: 0.2738 - accuracy: 0.8433\n",
            "Epoch 60/200\n",
            "11/11 [==============================] - 0s 3ms/step - loss: 0.1664 - accuracy: 0.9945\n",
            "Epoch 61/200\n",
            "11/11 [==============================] - 0s 3ms/step - loss: 0.0678 - accuracy: 1.0000\n",
            "Epoch 62/200\n",
            "11/11 [==============================] - 0s 2ms/step - loss: 0.0414 - accuracy: 1.0000\n",
            "Epoch 63/200\n",
            "11/11 [==============================] - 0s 3ms/step - loss: 0.0951 - accuracy: 0.9919\n",
            "Epoch 64/200\n",
            "11/11 [==============================] - 0s 2ms/step - loss: 0.0692 - accuracy: 1.0000\n",
            "Epoch 65/200\n",
            "11/11 [==============================] - 0s 2ms/step - loss: 0.0590 - accuracy: 1.0000\n",
            "Epoch 66/200\n",
            "11/11 [==============================] - 0s 3ms/step - loss: 0.0515 - accuracy: 1.0000\n",
            "Epoch 67/200\n",
            "11/11 [==============================] - 0s 2ms/step - loss: 0.0376 - accuracy: 0.9995\n",
            "Epoch 68/200\n",
            "11/11 [==============================] - 0s 3ms/step - loss: 0.0979 - accuracy: 0.9895\n",
            "Epoch 69/200\n",
            "11/11 [==============================] - 0s 2ms/step - loss: 0.2680 - accuracy: 0.8327\n",
            "Epoch 70/200\n",
            "11/11 [==============================] - 0s 3ms/step - loss: 0.1726 - accuracy: 0.9719\n",
            "Epoch 71/200\n",
            "11/11 [==============================] - 0s 3ms/step - loss: 0.0820 - accuracy: 1.0000\n",
            "Epoch 72/200\n",
            "11/11 [==============================] - 0s 3ms/step - loss: 0.0405 - accuracy: 1.0000\n",
            "Epoch 73/200\n",
            "11/11 [==============================] - 0s 3ms/step - loss: 0.0273 - accuracy: 1.0000\n",
            "Epoch 74/200\n",
            "11/11 [==============================] - 0s 3ms/step - loss: 0.0336 - accuracy: 1.0000\n",
            "Epoch 75/200\n",
            "11/11 [==============================] - 0s 3ms/step - loss: 0.0377 - accuracy: 1.0000\n",
            "Epoch 76/200\n",
            "11/11 [==============================] - 0s 2ms/step - loss: 0.0316 - accuracy: 1.0000\n",
            "Epoch 77/200\n",
            "11/11 [==============================] - 0s 2ms/step - loss: 0.0284 - accuracy: 1.0000\n",
            "Epoch 78/200\n",
            "11/11 [==============================] - 0s 3ms/step - loss: 0.0449 - accuracy: 0.9983\n",
            "Epoch 79/200\n",
            "11/11 [==============================] - 0s 2ms/step - loss: 0.1435 - accuracy: 0.9625\n",
            "Epoch 80/200\n",
            "11/11 [==============================] - 0s 2ms/step - loss: 0.2033 - accuracy: 0.9286\n",
            "Epoch 81/200\n",
            "11/11 [==============================] - 0s 2ms/step - loss: 0.1034 - accuracy: 0.9958\n",
            "Epoch 82/200\n",
            "11/11 [==============================] - 0s 3ms/step - loss: 0.0519 - accuracy: 1.0000\n",
            "Epoch 83/200\n",
            "11/11 [==============================] - 0s 4ms/step - loss: 0.0362 - accuracy: 0.9978\n",
            "Epoch 84/200\n",
            "11/11 [==============================] - 0s 3ms/step - loss: 0.0617 - accuracy: 1.0000\n",
            "Epoch 85/200\n",
            "11/11 [==============================] - 0s 3ms/step - loss: 0.0580 - accuracy: 1.0000\n",
            "Epoch 86/200\n",
            "11/11 [==============================] - 0s 3ms/step - loss: 0.0512 - accuracy: 1.0000\n",
            "Epoch 87/200\n",
            "11/11 [==============================] - 0s 3ms/step - loss: 0.0355 - accuracy: 1.0000\n",
            "Epoch 88/200\n",
            "11/11 [==============================] - 0s 3ms/step - loss: 0.0244 - accuracy: 1.0000\n",
            "Epoch 89/200\n",
            "11/11 [==============================] - 0s 3ms/step - loss: 0.0199 - accuracy: 1.0000\n",
            "Epoch 90/200\n",
            "11/11 [==============================] - 0s 3ms/step - loss: 0.0215 - accuracy: 1.0000\n",
            "Epoch 91/200\n",
            "11/11 [==============================] - 0s 3ms/step - loss: 0.0236 - accuracy: 1.0000\n",
            "Epoch 92/200\n",
            "11/11 [==============================] - 0s 4ms/step - loss: 0.0243 - accuracy: 1.0000\n",
            "Epoch 93/200\n",
            "11/11 [==============================] - 0s 3ms/step - loss: 0.0191 - accuracy: 1.0000\n",
            "Epoch 94/200\n",
            "11/11 [==============================] - 0s 3ms/step - loss: 0.0846 - accuracy: 0.9933\n",
            "Epoch 95/200\n",
            "11/11 [==============================] - 0s 3ms/step - loss: 0.2639 - accuracy: 0.8799\n",
            "Epoch 96/200\n",
            "11/11 [==============================] - 0s 3ms/step - loss: 0.1771 - accuracy: 0.9517\n",
            "Epoch 97/200\n",
            "11/11 [==============================] - 0s 3ms/step - loss: 0.0637 - accuracy: 1.0000\n",
            "Epoch 98/200\n",
            "11/11 [==============================] - 0s 2ms/step - loss: 0.0353 - accuracy: 1.0000\n",
            "Epoch 99/200\n",
            "11/11 [==============================] - 0s 3ms/step - loss: 0.0217 - accuracy: 1.0000\n",
            "Epoch 100/200\n",
            "11/11 [==============================] - 0s 2ms/step - loss: 0.0165 - accuracy: 1.0000\n",
            "Epoch 101/200\n",
            "11/11 [==============================] - 0s 3ms/step - loss: 0.0292 - accuracy: 0.9990\n",
            "Epoch 102/200\n",
            "11/11 [==============================] - 0s 3ms/step - loss: 0.1888 - accuracy: 0.9148\n",
            "Epoch 103/200\n",
            "11/11 [==============================] - 0s 3ms/step - loss: 0.4558 - accuracy: 0.7196\n",
            "Epoch 104/200\n",
            "11/11 [==============================] - 0s 4ms/step - loss: 0.1644 - accuracy: 0.9545\n",
            "Epoch 105/200\n",
            "11/11 [==============================] - 0s 2ms/step - loss: 0.0460 - accuracy: 1.0000\n",
            "Epoch 106/200\n",
            "11/11 [==============================] - 0s 3ms/step - loss: 0.0196 - accuracy: 1.0000\n",
            "Epoch 107/200\n",
            "11/11 [==============================] - 0s 2ms/step - loss: 0.0142 - accuracy: 1.0000\n",
            "Epoch 108/200\n",
            "11/11 [==============================] - 0s 3ms/step - loss: 0.0120 - accuracy: 1.0000\n",
            "Epoch 109/200\n",
            "11/11 [==============================] - 0s 3ms/step - loss: 0.0102 - accuracy: 1.0000\n",
            "Epoch 110/200\n",
            "11/11 [==============================] - 0s 3ms/step - loss: 0.0616 - accuracy: 0.9780\n",
            "Epoch 111/200\n",
            "11/11 [==============================] - 0s 4ms/step - loss: 0.9961 - accuracy: 0.5931\n",
            "Epoch 112/200\n",
            "11/11 [==============================] - 0s 4ms/step - loss: 0.8883 - accuracy: 0.6383\n",
            "Epoch 113/200\n",
            "11/11 [==============================] - 0s 3ms/step - loss: 0.1865 - accuracy: 0.9128\n",
            "Epoch 114/200\n",
            "11/11 [==============================] - 0s 4ms/step - loss: 0.0363 - accuracy: 1.0000\n",
            "Epoch 115/200\n",
            "11/11 [==============================] - 0s 3ms/step - loss: 0.0161 - accuracy: 1.0000\n",
            "Epoch 116/200\n",
            "11/11 [==============================] - 0s 3ms/step - loss: 0.0105 - accuracy: 1.0000\n",
            "Epoch 117/200\n",
            "11/11 [==============================] - 0s 2ms/step - loss: 0.0086 - accuracy: 1.0000\n",
            "Epoch 118/200\n",
            "11/11 [==============================] - 0s 3ms/step - loss: 0.0467 - accuracy: 0.9942\n",
            "Epoch 119/200\n",
            "11/11 [==============================] - 0s 3ms/step - loss: 0.3417 - accuracy: 0.8021\n",
            "Epoch 120/200\n",
            "11/11 [==============================] - 0s 3ms/step - loss: 0.3271 - accuracy: 0.8353\n",
            "Epoch 121/200\n",
            "11/11 [==============================] - 0s 4ms/step - loss: 0.0870 - accuracy: 0.9919\n",
            "Epoch 122/200\n",
            "11/11 [==============================] - 0s 3ms/step - loss: 0.0268 - accuracy: 1.0000\n",
            "Epoch 123/200\n",
            "11/11 [==============================] - 0s 3ms/step - loss: 0.0162 - accuracy: 1.0000\n",
            "Epoch 124/200\n",
            "11/11 [==============================] - 0s 3ms/step - loss: 0.0116 - accuracy: 1.0000\n",
            "Epoch 125/200\n",
            "11/11 [==============================] - 0s 3ms/step - loss: 0.0104 - accuracy: 1.0000\n",
            "Epoch 126/200\n",
            "11/11 [==============================] - 0s 3ms/step - loss: 0.0088 - accuracy: 1.0000\n",
            "Epoch 127/200\n",
            "11/11 [==============================] - 0s 3ms/step - loss: 0.0084 - accuracy: 1.0000\n",
            "Epoch 128/200\n",
            "11/11 [==============================] - 0s 3ms/step - loss: 0.0072 - accuracy: 1.0000\n",
            "Epoch 129/200\n",
            "11/11 [==============================] - 0s 3ms/step - loss: 0.0064 - accuracy: 1.0000\n",
            "Epoch 130/200\n",
            "11/11 [==============================] - 0s 3ms/step - loss: 0.0066 - accuracy: 1.0000\n",
            "Epoch 131/200\n",
            "11/11 [==============================] - 0s 3ms/step - loss: 0.0062 - accuracy: 1.0000\n",
            "Epoch 132/200\n",
            "11/11 [==============================] - 0s 2ms/step - loss: 0.0067 - accuracy: 1.0000\n",
            "Epoch 133/200\n",
            "11/11 [==============================] - 0s 3ms/step - loss: 0.0070 - accuracy: 1.0000\n",
            "Epoch 134/200\n",
            "11/11 [==============================] - 0s 4ms/step - loss: 0.0063 - accuracy: 1.0000\n",
            "Epoch 135/200\n",
            "11/11 [==============================] - 0s 3ms/step - loss: 0.0074 - accuracy: 0.9990\n",
            "Epoch 136/200\n",
            "11/11 [==============================] - 0s 3ms/step - loss: 0.0245 - accuracy: 1.0000\n",
            "Epoch 137/200\n",
            "11/11 [==============================] - 0s 3ms/step - loss: 0.0694 - accuracy: 1.0000\n",
            "Epoch 138/200\n",
            "11/11 [==============================] - 0s 3ms/step - loss: 0.0558 - accuracy: 1.0000\n",
            "Epoch 139/200\n",
            "11/11 [==============================] - 0s 2ms/step - loss: 0.0313 - accuracy: 1.0000\n",
            "Epoch 140/200\n",
            "11/11 [==============================] - 0s 2ms/step - loss: 0.0204 - accuracy: 1.0000\n",
            "Epoch 141/200\n",
            "11/11 [==============================] - 0s 2ms/step - loss: 0.0143 - accuracy: 1.0000\n",
            "Epoch 142/200\n",
            "11/11 [==============================] - 0s 3ms/step - loss: 0.0115 - accuracy: 1.0000\n",
            "Epoch 143/200\n",
            "11/11 [==============================] - 0s 2ms/step - loss: 0.0106 - accuracy: 1.0000\n",
            "Epoch 144/200\n",
            "11/11 [==============================] - 0s 2ms/step - loss: 0.0087 - accuracy: 1.0000\n",
            "Epoch 145/200\n",
            "11/11 [==============================] - 0s 2ms/step - loss: 0.0082 - accuracy: 1.0000\n",
            "Epoch 146/200\n",
            "11/11 [==============================] - 0s 3ms/step - loss: 0.0070 - accuracy: 1.0000\n",
            "Epoch 147/200\n",
            "11/11 [==============================] - 0s 3ms/step - loss: 0.0061 - accuracy: 1.0000\n",
            "Epoch 148/200\n",
            "11/11 [==============================] - 0s 3ms/step - loss: 0.0058 - accuracy: 1.0000\n",
            "Epoch 149/200\n",
            "11/11 [==============================] - 0s 3ms/step - loss: 0.0054 - accuracy: 1.0000\n",
            "Epoch 150/200\n",
            "11/11 [==============================] - 0s 3ms/step - loss: 0.0048 - accuracy: 1.0000\n",
            "Epoch 151/200\n",
            "11/11 [==============================] - 0s 2ms/step - loss: 0.0050 - accuracy: 1.0000\n",
            "Epoch 152/200\n",
            "11/11 [==============================] - 0s 2ms/step - loss: 0.0044 - accuracy: 1.0000\n",
            "Epoch 153/200\n",
            "11/11 [==============================] - 0s 2ms/step - loss: 0.0045 - accuracy: 1.0000\n",
            "Epoch 154/200\n",
            "11/11 [==============================] - 0s 3ms/step - loss: 0.0044 - accuracy: 1.0000\n",
            "Epoch 155/200\n",
            "11/11 [==============================] - 0s 2ms/step - loss: 0.0045 - accuracy: 1.0000\n",
            "Epoch 156/200\n",
            "11/11 [==============================] - 0s 3ms/step - loss: 0.0046 - accuracy: 1.0000\n",
            "Epoch 157/200\n",
            "11/11 [==============================] - 0s 2ms/step - loss: 0.0043 - accuracy: 1.0000\n",
            "Epoch 158/200\n",
            "11/11 [==============================] - 0s 3ms/step - loss: 0.0049 - accuracy: 1.0000\n",
            "Epoch 159/200\n",
            "11/11 [==============================] - 0s 3ms/step - loss: 0.0043 - accuracy: 1.0000\n",
            "Epoch 160/200\n",
            "11/11 [==============================] - 0s 2ms/step - loss: 0.0049 - accuracy: 1.0000\n",
            "Epoch 161/200\n",
            "11/11 [==============================] - 0s 3ms/step - loss: 0.0044 - accuracy: 1.0000\n",
            "Epoch 162/200\n",
            "11/11 [==============================] - 0s 2ms/step - loss: 0.0046 - accuracy: 1.0000\n",
            "Epoch 163/200\n",
            "11/11 [==============================] - 0s 3ms/step - loss: 0.0052 - accuracy: 1.0000\n",
            "Epoch 164/200\n",
            "11/11 [==============================] - 0s 3ms/step - loss: 0.0050 - accuracy: 1.0000\n",
            "Epoch 165/200\n",
            "11/11 [==============================] - 0s 2ms/step - loss: 0.0045 - accuracy: 1.0000\n",
            "Epoch 166/200\n",
            "11/11 [==============================] - 0s 2ms/step - loss: 0.0043 - accuracy: 1.0000\n",
            "Epoch 167/200\n",
            "11/11 [==============================] - 0s 3ms/step - loss: 0.0046 - accuracy: 1.0000\n",
            "Epoch 168/200\n",
            "11/11 [==============================] - 0s 3ms/step - loss: 0.0101 - accuracy: 0.9986\n",
            "Epoch 169/200\n",
            "11/11 [==============================] - 0s 2ms/step - loss: 0.5463 - accuracy: 0.7373\n",
            "Epoch 170/200\n",
            "11/11 [==============================] - 0s 2ms/step - loss: 0.8943 - accuracy: 0.6447\n",
            "Epoch 171/200\n",
            "11/11 [==============================] - 0s 3ms/step - loss: 0.1466 - accuracy: 0.9500\n",
            "Epoch 172/200\n",
            "11/11 [==============================] - 0s 3ms/step - loss: 0.0152 - accuracy: 1.0000\n",
            "Epoch 173/200\n",
            "11/11 [==============================] - 0s 2ms/step - loss: 0.0059 - accuracy: 1.0000\n",
            "Epoch 174/200\n",
            "11/11 [==============================] - 0s 2ms/step - loss: 0.0041 - accuracy: 1.0000\n",
            "Epoch 175/200\n",
            "11/11 [==============================] - 0s 2ms/step - loss: 0.0036 - accuracy: 1.0000\n",
            "Epoch 176/200\n",
            "11/11 [==============================] - 0s 2ms/step - loss: 0.0033 - accuracy: 1.0000\n",
            "Epoch 177/200\n",
            "11/11 [==============================] - 0s 3ms/step - loss: 0.0034 - accuracy: 1.0000\n",
            "Epoch 178/200\n",
            "11/11 [==============================] - 0s 3ms/step - loss: 0.0032 - accuracy: 1.0000\n",
            "Epoch 179/200\n",
            "11/11 [==============================] - 0s 2ms/step - loss: 0.0036 - accuracy: 1.0000\n",
            "Epoch 180/200\n",
            "11/11 [==============================] - 0s 2ms/step - loss: 0.0035 - accuracy: 1.0000\n",
            "Epoch 181/200\n",
            "11/11 [==============================] - 0s 3ms/step - loss: 0.0036 - accuracy: 1.0000\n",
            "Epoch 182/200\n",
            "11/11 [==============================] - 0s 2ms/step - loss: 0.0265 - accuracy: 0.9990\n",
            "Epoch 183/200\n",
            "11/11 [==============================] - 0s 2ms/step - loss: 0.1438 - accuracy: 0.9538\n",
            "Epoch 184/200\n",
            "11/11 [==============================] - 0s 3ms/step - loss: 0.0792 - accuracy: 1.0000\n",
            "Epoch 185/200\n",
            "11/11 [==============================] - 0s 2ms/step - loss: 0.0274 - accuracy: 1.0000\n",
            "Epoch 186/200\n",
            "11/11 [==============================] - 0s 2ms/step - loss: 0.0126 - accuracy: 1.0000\n",
            "Epoch 187/200\n",
            "11/11 [==============================] - 0s 3ms/step - loss: 0.0089 - accuracy: 1.0000\n",
            "Epoch 188/200\n",
            "11/11 [==============================] - 0s 2ms/step - loss: 0.0075 - accuracy: 1.0000\n",
            "Epoch 189/200\n",
            "11/11 [==============================] - 0s 3ms/step - loss: 0.0069 - accuracy: 1.0000\n",
            "Epoch 190/200\n",
            "11/11 [==============================] - 0s 3ms/step - loss: 0.0057 - accuracy: 1.0000\n",
            "Epoch 191/200\n",
            "11/11 [==============================] - 0s 2ms/step - loss: 0.0058 - accuracy: 1.0000\n",
            "Epoch 192/200\n",
            "11/11 [==============================] - 0s 2ms/step - loss: 0.0047 - accuracy: 1.0000\n",
            "Epoch 193/200\n",
            "11/11 [==============================] - 0s 2ms/step - loss: 0.0041 - accuracy: 1.0000\n",
            "Epoch 194/200\n",
            "11/11 [==============================] - 0s 3ms/step - loss: 0.0049 - accuracy: 0.9995\n",
            "Epoch 195/200\n",
            "11/11 [==============================] - 0s 3ms/step - loss: 0.0354 - accuracy: 0.9961\n",
            "Epoch 196/200\n",
            "11/11 [==============================] - 0s 2ms/step - loss: 0.1697 - accuracy: 0.9238\n",
            "Epoch 197/200\n",
            "11/11 [==============================] - 0s 3ms/step - loss: 0.0784 - accuracy: 0.9973\n",
            "Epoch 198/200\n",
            "11/11 [==============================] - 0s 3ms/step - loss: 0.0264 - accuracy: 1.0000\n",
            "Epoch 199/200\n",
            "11/11 [==============================] - 0s 2ms/step - loss: 0.0127 - accuracy: 1.0000\n",
            "Epoch 200/200\n",
            "11/11 [==============================] - 0s 3ms/step - loss: 0.0075 - accuracy: 1.0000\n",
            "Predicted   0   1\n",
            "Actual           \n",
            "0          72   0\n",
            "1           0  75\n"
          ],
          "name": "stdout"
        }
      ]
    },
    {
      "cell_type": "code",
      "metadata": {
        "id": "6S5a4-cashbB"
      },
      "source": [
        "# print(y_pred.ravel())"
      ],
      "execution_count": 54,
      "outputs": []
    },
    {
      "cell_type": "code",
      "metadata": {
        "id": "iA2XIpGOyipM"
      },
      "source": [
        "Grain=[]; Ind=[]; Size=[]\n",
        "k=0\n",
        "for item in y_pred:\n",
        "  if(item == 0):\n",
        "    Ind.append(k)\n",
        "  k=k+1\n",
        "\n",
        "df = df.reset_index(drop=True)\n",
        "\n",
        "df_size = df.drop(df.index[Ind])\n",
        "\n",
        "Width=np.array(df_size['Width'])\n",
        "\n",
        "# print(Width)\n",
        "\n",
        "# print(df_size.shape)"
      ],
      "execution_count": 55,
      "outputs": []
    },
    {
      "cell_type": "code",
      "metadata": {
        "id": "06lkGMZo9uKV"
      },
      "source": [
        "# pd.set_option('display.max_rows', None)\n",
        "# print(df_size)"
      ],
      "execution_count": 56,
      "outputs": []
    },
    {
      "cell_type": "code",
      "metadata": {
        "id": "EIqWqspygJtw",
        "colab": {
          "base_uri": "https://localhost:8080/",
          "height": 247
        },
        "outputId": "18b156b4-c4eb-40cc-ec2a-d018774c4ed9"
      },
      "source": [
        "df.head()"
      ],
      "execution_count": 57,
      "outputs": [
        {
          "output_type": "execute_result",
          "data": {
            "text/html": [
              "<div>\n",
              "<style scoped>\n",
              "    .dataframe tbody tr th:only-of-type {\n",
              "        vertical-align: middle;\n",
              "    }\n",
              "\n",
              "    .dataframe tbody tr th {\n",
              "        vertical-align: top;\n",
              "    }\n",
              "\n",
              "    .dataframe thead th {\n",
              "        text-align: right;\n",
              "    }\n",
              "</style>\n",
              "<table border=\"1\" class=\"dataframe\">\n",
              "  <thead>\n",
              "    <tr style=\"text-align: right;\">\n",
              "      <th></th>\n",
              "      <th>Width</th>\n",
              "      <th>0</th>\n",
              "      <th>1</th>\n",
              "      <th>2</th>\n",
              "      <th>3</th>\n",
              "      <th>4</th>\n",
              "      <th>5</th>\n",
              "      <th>6</th>\n",
              "      <th>7</th>\n",
              "      <th>8</th>\n",
              "      <th>9</th>\n",
              "      <th>10</th>\n",
              "      <th>11</th>\n",
              "      <th>12</th>\n",
              "      <th>13</th>\n",
              "      <th>14</th>\n",
              "      <th>15</th>\n",
              "      <th>16</th>\n",
              "      <th>17</th>\n",
              "      <th>18</th>\n",
              "      <th>19</th>\n",
              "      <th>20</th>\n",
              "      <th>21</th>\n",
              "      <th>22</th>\n",
              "      <th>23</th>\n",
              "      <th>24</th>\n",
              "      <th>25</th>\n",
              "      <th>26</th>\n",
              "      <th>27</th>\n",
              "      <th>28</th>\n",
              "      <th>29</th>\n",
              "      <th>30</th>\n",
              "      <th>31</th>\n",
              "      <th>32</th>\n",
              "      <th>33</th>\n",
              "      <th>34</th>\n",
              "      <th>35</th>\n",
              "      <th>36</th>\n",
              "      <th>37</th>\n",
              "      <th>38</th>\n",
              "      <th>...</th>\n",
              "      <th>744</th>\n",
              "      <th>745</th>\n",
              "      <th>746</th>\n",
              "      <th>747</th>\n",
              "      <th>748</th>\n",
              "      <th>749</th>\n",
              "      <th>750</th>\n",
              "      <th>751</th>\n",
              "      <th>752</th>\n",
              "      <th>753</th>\n",
              "      <th>754</th>\n",
              "      <th>755</th>\n",
              "      <th>756</th>\n",
              "      <th>757</th>\n",
              "      <th>758</th>\n",
              "      <th>759</th>\n",
              "      <th>760</th>\n",
              "      <th>761</th>\n",
              "      <th>762</th>\n",
              "      <th>763</th>\n",
              "      <th>764</th>\n",
              "      <th>765</th>\n",
              "      <th>766</th>\n",
              "      <th>767</th>\n",
              "      <th>768</th>\n",
              "      <th>769</th>\n",
              "      <th>770</th>\n",
              "      <th>771</th>\n",
              "      <th>772</th>\n",
              "      <th>773</th>\n",
              "      <th>774</th>\n",
              "      <th>775</th>\n",
              "      <th>776</th>\n",
              "      <th>777</th>\n",
              "      <th>778</th>\n",
              "      <th>779</th>\n",
              "      <th>780</th>\n",
              "      <th>781</th>\n",
              "      <th>782</th>\n",
              "      <th>783</th>\n",
              "    </tr>\n",
              "  </thead>\n",
              "  <tbody>\n",
              "    <tr>\n",
              "      <th>0</th>\n",
              "      <td>109</td>\n",
              "      <td>73.903709</td>\n",
              "      <td>81.662819</td>\n",
              "      <td>85.912048</td>\n",
              "      <td>90.922394</td>\n",
              "      <td>94.908844</td>\n",
              "      <td>100.605339</td>\n",
              "      <td>112.030708</td>\n",
              "      <td>110.889565</td>\n",
              "      <td>94.413101</td>\n",
              "      <td>36.851612</td>\n",
              "      <td>37.598434</td>\n",
              "      <td>46.560478</td>\n",
              "      <td>41.500290</td>\n",
              "      <td>40.355274</td>\n",
              "      <td>42.645905</td>\n",
              "      <td>46.843365</td>\n",
              "      <td>44.398113</td>\n",
              "      <td>44.882080</td>\n",
              "      <td>50.315125</td>\n",
              "      <td>58.980892</td>\n",
              "      <td>72.651039</td>\n",
              "      <td>76.243835</td>\n",
              "      <td>76.877281</td>\n",
              "      <td>80.164719</td>\n",
              "      <td>94.046799</td>\n",
              "      <td>91.604408</td>\n",
              "      <td>89.568550</td>\n",
              "      <td>91.006317</td>\n",
              "      <td>83.493637</td>\n",
              "      <td>87.509964</td>\n",
              "      <td>94.049408</td>\n",
              "      <td>93.897232</td>\n",
              "      <td>101.230362</td>\n",
              "      <td>102.845047</td>\n",
              "      <td>108.880646</td>\n",
              "      <td>111.823326</td>\n",
              "      <td>100.526382</td>\n",
              "      <td>45.969364</td>\n",
              "      <td>37.911034</td>\n",
              "      <td>...</td>\n",
              "      <td>3.000000</td>\n",
              "      <td>3.000000</td>\n",
              "      <td>3.073058</td>\n",
              "      <td>3.146116</td>\n",
              "      <td>3.073057</td>\n",
              "      <td>3.000000</td>\n",
              "      <td>3.017928</td>\n",
              "      <td>3.076340</td>\n",
              "      <td>3.080128</td>\n",
              "      <td>2.949667</td>\n",
              "      <td>3.026766</td>\n",
              "      <td>3.124906</td>\n",
              "      <td>3.190893</td>\n",
              "      <td>3.697584</td>\n",
              "      <td>3.424123</td>\n",
              "      <td>3.256965</td>\n",
              "      <td>3.444491</td>\n",
              "      <td>3.488764</td>\n",
              "      <td>3.447774</td>\n",
              "      <td>3.000000</td>\n",
              "      <td>3.256881</td>\n",
              "      <td>3.256881</td>\n",
              "      <td>3.609292</td>\n",
              "      <td>3.455601</td>\n",
              "      <td>3.396263</td>\n",
              "      <td>3.000000</td>\n",
              "      <td>3.000000</td>\n",
              "      <td>3.150829</td>\n",
              "      <td>3.179110</td>\n",
              "      <td>2.990573</td>\n",
              "      <td>2.875095</td>\n",
              "      <td>3.433634</td>\n",
              "      <td>3.381786</td>\n",
              "      <td>3.256881</td>\n",
              "      <td>3.573605</td>\n",
              "      <td>3.411498</td>\n",
              "      <td>3.381786</td>\n",
              "      <td>3.196448</td>\n",
              "      <td>3.230115</td>\n",
              "      <td>3.461914</td>\n",
              "    </tr>\n",
              "    <tr>\n",
              "      <th>1</th>\n",
              "      <td>181</td>\n",
              "      <td>77.604202</td>\n",
              "      <td>101.409821</td>\n",
              "      <td>124.097923</td>\n",
              "      <td>133.153275</td>\n",
              "      <td>133.677658</td>\n",
              "      <td>136.779648</td>\n",
              "      <td>139.396118</td>\n",
              "      <td>142.733627</td>\n",
              "      <td>145.097076</td>\n",
              "      <td>148.737625</td>\n",
              "      <td>149.548599</td>\n",
              "      <td>163.068680</td>\n",
              "      <td>176.129272</td>\n",
              "      <td>101.261108</td>\n",
              "      <td>107.422546</td>\n",
              "      <td>105.602638</td>\n",
              "      <td>111.924667</td>\n",
              "      <td>119.056076</td>\n",
              "      <td>119.153450</td>\n",
              "      <td>124.605667</td>\n",
              "      <td>125.227043</td>\n",
              "      <td>124.384628</td>\n",
              "      <td>125.242516</td>\n",
              "      <td>124.012886</td>\n",
              "      <td>117.665268</td>\n",
              "      <td>111.047592</td>\n",
              "      <td>112.379105</td>\n",
              "      <td>109.543488</td>\n",
              "      <td>95.891548</td>\n",
              "      <td>124.908241</td>\n",
              "      <td>125.742935</td>\n",
              "      <td>128.856567</td>\n",
              "      <td>129.124878</td>\n",
              "      <td>132.691574</td>\n",
              "      <td>136.042252</td>\n",
              "      <td>136.451263</td>\n",
              "      <td>143.073029</td>\n",
              "      <td>151.904022</td>\n",
              "      <td>158.542572</td>\n",
              "      <td>...</td>\n",
              "      <td>113.036957</td>\n",
              "      <td>117.356300</td>\n",
              "      <td>91.846039</td>\n",
              "      <td>41.227741</td>\n",
              "      <td>51.146244</td>\n",
              "      <td>57.846039</td>\n",
              "      <td>57.135342</td>\n",
              "      <td>52.462284</td>\n",
              "      <td>49.542351</td>\n",
              "      <td>48.305332</td>\n",
              "      <td>48.325386</td>\n",
              "      <td>46.248772</td>\n",
              "      <td>64.220512</td>\n",
              "      <td>64.386192</td>\n",
              "      <td>73.707947</td>\n",
              "      <td>84.193710</td>\n",
              "      <td>88.657791</td>\n",
              "      <td>92.675255</td>\n",
              "      <td>97.478104</td>\n",
              "      <td>100.032730</td>\n",
              "      <td>101.962265</td>\n",
              "      <td>115.713631</td>\n",
              "      <td>117.915459</td>\n",
              "      <td>119.989136</td>\n",
              "      <td>106.594238</td>\n",
              "      <td>105.980225</td>\n",
              "      <td>107.166359</td>\n",
              "      <td>114.695740</td>\n",
              "      <td>117.336472</td>\n",
              "      <td>115.954765</td>\n",
              "      <td>102.685211</td>\n",
              "      <td>58.158791</td>\n",
              "      <td>50.457985</td>\n",
              "      <td>56.787586</td>\n",
              "      <td>56.013523</td>\n",
              "      <td>52.379993</td>\n",
              "      <td>47.873665</td>\n",
              "      <td>47.831970</td>\n",
              "      <td>48.811337</td>\n",
              "      <td>46.684658</td>\n",
              "    </tr>\n",
              "    <tr>\n",
              "      <th>2</th>\n",
              "      <td>117</td>\n",
              "      <td>23.247717</td>\n",
              "      <td>24.992477</td>\n",
              "      <td>18.388926</td>\n",
              "      <td>41.907372</td>\n",
              "      <td>61.475929</td>\n",
              "      <td>67.428741</td>\n",
              "      <td>67.177223</td>\n",
              "      <td>66.640884</td>\n",
              "      <td>67.911819</td>\n",
              "      <td>68.619408</td>\n",
              "      <td>65.336037</td>\n",
              "      <td>61.940460</td>\n",
              "      <td>61.059830</td>\n",
              "      <td>58.905689</td>\n",
              "      <td>57.109432</td>\n",
              "      <td>58.117104</td>\n",
              "      <td>60.021332</td>\n",
              "      <td>61.784645</td>\n",
              "      <td>61.564465</td>\n",
              "      <td>60.578423</td>\n",
              "      <td>62.611294</td>\n",
              "      <td>65.248886</td>\n",
              "      <td>63.530865</td>\n",
              "      <td>57.056030</td>\n",
              "      <td>53.417561</td>\n",
              "      <td>51.670177</td>\n",
              "      <td>54.031120</td>\n",
              "      <td>50.867268</td>\n",
              "      <td>22.816132</td>\n",
              "      <td>21.905035</td>\n",
              "      <td>18.322304</td>\n",
              "      <td>37.549129</td>\n",
              "      <td>57.073563</td>\n",
              "      <td>64.159836</td>\n",
              "      <td>66.487175</td>\n",
              "      <td>65.393311</td>\n",
              "      <td>61.806633</td>\n",
              "      <td>68.140335</td>\n",
              "      <td>67.064873</td>\n",
              "      <td>...</td>\n",
              "      <td>2.000000</td>\n",
              "      <td>2.000000</td>\n",
              "      <td>1.991964</td>\n",
              "      <td>1.914530</td>\n",
              "      <td>1.699759</td>\n",
              "      <td>1.339762</td>\n",
              "      <td>1.097450</td>\n",
              "      <td>1.000000</td>\n",
              "      <td>1.000000</td>\n",
              "      <td>1.000000</td>\n",
              "      <td>1.000000</td>\n",
              "      <td>1.000000</td>\n",
              "      <td>2.000000</td>\n",
              "      <td>2.000000</td>\n",
              "      <td>2.000000</td>\n",
              "      <td>2.155453</td>\n",
              "      <td>2.130908</td>\n",
              "      <td>2.000000</td>\n",
              "      <td>2.000000</td>\n",
              "      <td>2.000000</td>\n",
              "      <td>2.000000</td>\n",
              "      <td>2.159544</td>\n",
              "      <td>2.126817</td>\n",
              "      <td>2.000000</td>\n",
              "      <td>2.000000</td>\n",
              "      <td>2.000000</td>\n",
              "      <td>2.000000</td>\n",
              "      <td>2.000000</td>\n",
              "      <td>2.000000</td>\n",
              "      <td>2.000000</td>\n",
              "      <td>2.000000</td>\n",
              "      <td>2.000000</td>\n",
              "      <td>2.000000</td>\n",
              "      <td>2.000000</td>\n",
              "      <td>1.495727</td>\n",
              "      <td>1.000000</td>\n",
              "      <td>1.000000</td>\n",
              "      <td>1.000000</td>\n",
              "      <td>1.000000</td>\n",
              "      <td>1.000000</td>\n",
              "    </tr>\n",
              "    <tr>\n",
              "      <th>3</th>\n",
              "      <td>172</td>\n",
              "      <td>77.722549</td>\n",
              "      <td>116.150352</td>\n",
              "      <td>119.931335</td>\n",
              "      <td>120.849655</td>\n",
              "      <td>109.817207</td>\n",
              "      <td>95.088699</td>\n",
              "      <td>89.208771</td>\n",
              "      <td>95.209305</td>\n",
              "      <td>104.654945</td>\n",
              "      <td>111.622498</td>\n",
              "      <td>123.172531</td>\n",
              "      <td>120.203903</td>\n",
              "      <td>101.215805</td>\n",
              "      <td>128.057343</td>\n",
              "      <td>139.049759</td>\n",
              "      <td>119.110336</td>\n",
              "      <td>101.419693</td>\n",
              "      <td>122.972961</td>\n",
              "      <td>133.882660</td>\n",
              "      <td>142.769073</td>\n",
              "      <td>143.341278</td>\n",
              "      <td>142.654953</td>\n",
              "      <td>125.527863</td>\n",
              "      <td>129.380219</td>\n",
              "      <td>143.070862</td>\n",
              "      <td>166.042206</td>\n",
              "      <td>196.758255</td>\n",
              "      <td>224.693893</td>\n",
              "      <td>65.259064</td>\n",
              "      <td>102.246620</td>\n",
              "      <td>114.551117</td>\n",
              "      <td>119.643593</td>\n",
              "      <td>110.392097</td>\n",
              "      <td>95.283943</td>\n",
              "      <td>93.657112</td>\n",
              "      <td>98.109787</td>\n",
              "      <td>110.447815</td>\n",
              "      <td>115.802063</td>\n",
              "      <td>116.200119</td>\n",
              "      <td>...</td>\n",
              "      <td>76.313683</td>\n",
              "      <td>70.300163</td>\n",
              "      <td>94.806389</td>\n",
              "      <td>100.608986</td>\n",
              "      <td>96.713898</td>\n",
              "      <td>95.798820</td>\n",
              "      <td>91.905365</td>\n",
              "      <td>63.853977</td>\n",
              "      <td>64.907516</td>\n",
              "      <td>74.424019</td>\n",
              "      <td>109.799889</td>\n",
              "      <td>123.775574</td>\n",
              "      <td>71.451591</td>\n",
              "      <td>39.266090</td>\n",
              "      <td>83.294754</td>\n",
              "      <td>108.360741</td>\n",
              "      <td>109.535973</td>\n",
              "      <td>98.303955</td>\n",
              "      <td>90.242294</td>\n",
              "      <td>87.864250</td>\n",
              "      <td>92.872368</td>\n",
              "      <td>97.767433</td>\n",
              "      <td>96.834511</td>\n",
              "      <td>94.286102</td>\n",
              "      <td>93.365074</td>\n",
              "      <td>98.621971</td>\n",
              "      <td>113.035164</td>\n",
              "      <td>103.898331</td>\n",
              "      <td>89.197403</td>\n",
              "      <td>106.076263</td>\n",
              "      <td>111.579773</td>\n",
              "      <td>102.897781</td>\n",
              "      <td>99.657120</td>\n",
              "      <td>98.839920</td>\n",
              "      <td>98.776642</td>\n",
              "      <td>87.660904</td>\n",
              "      <td>67.967010</td>\n",
              "      <td>62.190376</td>\n",
              "      <td>77.303413</td>\n",
              "      <td>112.805305</td>\n",
              "    </tr>\n",
              "    <tr>\n",
              "      <th>4</th>\n",
              "      <td>133</td>\n",
              "      <td>78.448753</td>\n",
              "      <td>83.966759</td>\n",
              "      <td>88.157890</td>\n",
              "      <td>89.393356</td>\n",
              "      <td>92.393349</td>\n",
              "      <td>89.412743</td>\n",
              "      <td>83.479233</td>\n",
              "      <td>80.044327</td>\n",
              "      <td>81.368423</td>\n",
              "      <td>84.083107</td>\n",
              "      <td>84.019394</td>\n",
              "      <td>78.108032</td>\n",
              "      <td>60.254845</td>\n",
              "      <td>48.670361</td>\n",
              "      <td>45.916893</td>\n",
              "      <td>43.684212</td>\n",
              "      <td>41.606651</td>\n",
              "      <td>41.279778</td>\n",
              "      <td>41.590027</td>\n",
              "      <td>41.650967</td>\n",
              "      <td>43.174515</td>\n",
              "      <td>45.612186</td>\n",
              "      <td>48.157894</td>\n",
              "      <td>47.554016</td>\n",
              "      <td>46.221607</td>\n",
              "      <td>46.060940</td>\n",
              "      <td>43.008308</td>\n",
              "      <td>42.947372</td>\n",
              "      <td>81.152359</td>\n",
              "      <td>86.060944</td>\n",
              "      <td>88.252075</td>\n",
              "      <td>91.083099</td>\n",
              "      <td>96.382271</td>\n",
              "      <td>95.229919</td>\n",
              "      <td>87.573410</td>\n",
              "      <td>82.786697</td>\n",
              "      <td>81.429367</td>\n",
              "      <td>84.686981</td>\n",
              "      <td>85.265930</td>\n",
              "      <td>...</td>\n",
              "      <td>59.495846</td>\n",
              "      <td>61.789474</td>\n",
              "      <td>61.268700</td>\n",
              "      <td>57.058170</td>\n",
              "      <td>46.252079</td>\n",
              "      <td>23.664820</td>\n",
              "      <td>12.121884</td>\n",
              "      <td>11.379501</td>\n",
              "      <td>82.609421</td>\n",
              "      <td>105.778397</td>\n",
              "      <td>109.678680</td>\n",
              "      <td>106.853180</td>\n",
              "      <td>77.365654</td>\n",
              "      <td>75.304710</td>\n",
              "      <td>73.382271</td>\n",
              "      <td>68.108032</td>\n",
              "      <td>66.072021</td>\n",
              "      <td>65.135735</td>\n",
              "      <td>64.423820</td>\n",
              "      <td>58.739613</td>\n",
              "      <td>28.498615</td>\n",
              "      <td>24.742382</td>\n",
              "      <td>43.016617</td>\n",
              "      <td>51.620502</td>\n",
              "      <td>56.110802</td>\n",
              "      <td>56.836567</td>\n",
              "      <td>61.346260</td>\n",
              "      <td>58.903046</td>\n",
              "      <td>59.224380</td>\n",
              "      <td>60.565098</td>\n",
              "      <td>60.598339</td>\n",
              "      <td>55.900276</td>\n",
              "      <td>46.296402</td>\n",
              "      <td>27.343491</td>\n",
              "      <td>14.288088</td>\n",
              "      <td>5.313019</td>\n",
              "      <td>73.700829</td>\n",
              "      <td>103.584488</td>\n",
              "      <td>110.387817</td>\n",
              "      <td>106.232697</td>\n",
              "    </tr>\n",
              "  </tbody>\n",
              "</table>\n",
              "<p>5 rows × 785 columns</p>\n",
              "</div>"
            ],
            "text/plain": [
              "   Width          0           1  ...         781         782         783\n",
              "0    109  73.903709   81.662819  ...    3.196448    3.230115    3.461914\n",
              "1    181  77.604202  101.409821  ...   47.831970   48.811337   46.684658\n",
              "2    117  23.247717   24.992477  ...    1.000000    1.000000    1.000000\n",
              "3    172  77.722549  116.150352  ...   62.190376   77.303413  112.805305\n",
              "4    133  78.448753   83.966759  ...  103.584488  110.387817  106.232697\n",
              "\n",
              "[5 rows x 785 columns]"
            ]
          },
          "metadata": {
            "tags": []
          },
          "execution_count": 57
        }
      ]
    },
    {
      "cell_type": "code",
      "metadata": {
        "id": "ciUjF5tmdqLC",
        "colab": {
          "base_uri": "https://localhost:8080/",
          "height": 283
        },
        "outputId": "a2bd0491-cd77-4cac-dd95-079d64561378"
      },
      "source": [
        "Size=28\n",
        "qual_img=7\n",
        "L = Width[qual_img]\n",
        "data=np.array(df_size.drop('Width',axis=1).iloc[qual_img]).reshape(Size,Size)\n",
        "img = Image.fromarray(data.astype('uint8'), mode='L')\n",
        "img=np.float32(img)\n",
        "img28=cv2.resize(img,(Size,Size), interpolation = cv2.INTER_AREA)\n",
        "Foto=np.array(img28).reshape(28,28)\n",
        "plt.imshow(Foto, cmap = \"gray\")"
      ],
      "execution_count": 58,
      "outputs": [
        {
          "output_type": "execute_result",
          "data": {
            "text/plain": [
              "<matplotlib.image.AxesImage at 0x7fd472b33310>"
            ]
          },
          "metadata": {
            "tags": []
          },
          "execution_count": 58
        },
        {
          "output_type": "display_data",
          "data": {
            "image/png": "[encoded data removed]",
            "text/plain": [
              "<Figure size 432x288 with 1 Axes>"
            ]
          },
          "metadata": {
            "tags": [],
            "needs_background": "light"
          }
        }
      ]
    },
    {
      "cell_type": "code",
      "metadata": {
        "id": "V-MTA4fXg2W0"
      },
      "source": [
        "mean_value = np.mean(img)\n",
        "img_new = img.copy()"
      ],
      "execution_count": 59,
      "outputs": []
    },
    {
      "cell_type": "code",
      "metadata": {
        "id": "JbcfWPMdewq3",
        "colab": {
          "base_uri": "https://localhost:8080/",
          "height": 283
        },
        "outputId": "9f676661-4ed7-490a-82b7-eba67ff459c4"
      },
      "source": [
        "'''\n",
        "for i in range(28):\n",
        "  for j in range(28):\n",
        "    if img[i,j] < mean_value:\n",
        "      img_new[i,j] = 255\n",
        "    else:\n",
        "      img_new[i,j] = 0\n",
        "'''\n",
        "img28=cv2.resize(img_new,(Size,Size), interpolation = cv2.INTER_AREA)\n",
        "Foto=np.array(img28).reshape(28,28)\n",
        "plt.imshow(Foto, cmap = \"gray\")\n"
      ],
      "execution_count": 60,
      "outputs": [
        {
          "output_type": "execute_result",
          "data": {
            "text/plain": [
              "<matplotlib.image.AxesImage at 0x7fd472686c50>"
            ]
          },
          "metadata": {
            "tags": []
          },
          "execution_count": 60
        },
        {
          "output_type": "display_data",
          "data": {
            "image/png": "[encoded data removed]",
            "text/plain": [
              "<Figure size 432x288 with 1 Axes>"
            ]
          },
          "metadata": {
            "tags": [],
            "needs_background": "light"
          }
        }
      ]
    },
    {
      "cell_type": "code",
      "metadata": {
        "id": "spRNBSwifDqQ",
        "colab": {
          "base_uri": "https://localhost:8080/"
        },
        "outputId": "6e34991a-7c41-4c85-e3ba-b4a3f1bdac5f"
      },
      "source": [
        "L = Width[qual_img]\n",
        "Area = np.sum(img_new) / (255.0 * 28 * 28)* L*L\n",
        "print(Area)"
      ],
      "execution_count": 61,
      "outputs": [
        {
          "output_type": "stream",
          "text": [
            "5836.903401360544\n"
          ],
          "name": "stdout"
        }
      ]
    },
    {
      "cell_type": "code",
      "metadata": {
        "id": "6GP_DXsWibOX"
      },
      "source": [
        "Area_All, Diameter_All=PSDArea(df_size) \n"
      ],
      "execution_count": 62,
      "outputs": []
    },
    {
      "cell_type": "code",
      "metadata": {
        "id": "3ydbrnjewBYL",
        "colab": {
          "base_uri": "https://localhost:8080/"
        },
        "outputId": "5bd8bc63-0217-4465-e000-2364251d7afe"
      },
      "source": [
        "df_size.shape"
      ],
      "execution_count": 63,
      "outputs": [
        {
          "output_type": "execute_result",
          "data": {
            "text/plain": [
              "(150, 785)"
            ]
          },
          "metadata": {
            "tags": []
          },
          "execution_count": 63
        }
      ]
    },
    {
      "cell_type": "code",
      "metadata": {
        "id": "3L3IfgxMs3dI",
        "colab": {
          "base_uri": "https://localhost:8080/"
        },
        "outputId": "a82042a7-d84d-48a1-b6cd-a586bd0dc7bf"
      },
      "source": [
        "# print(Area_All)\n",
        "print(Diameter_All)"
      ],
      "execution_count": 64,
      "outputs": [
        {
          "output_type": "stream",
          "text": [
            "[1.1146147552512575, 1.538426233047422, 1.0817558911755898, 1.5517713700794433, 1.1410605429429852, 0.8825088046305847, 1.0804793276691753, 1.1102736081525164, 1.4090295371759576, 1.7759715299415204, 1.3713734492388465, 0.9355069280341154, 1.010823785571352, 1.1455754477735218, 1.401389685444793, 1.1451844263443154, 1.286827540673557, 1.6900246720688243, 1.591564426802095, 1.169612435549301, 1.160226278973822, 1.2665260681759665, 1.016378904131099, 1.5375618039908077, 1.2962936992123606, 1.194256595640949, 1.3394344475439088, 1.266671428128682, 1.240842184677054, 1.262770597988654, 1.0736511585316106, 0.8974473351377856, 1.65037542964509, 1.6020603393961048, 1.656242595912655, 0.9261879751344708, 0.9243617843579981, 1.236754646608383, 1.587750173773158, 1.3979650698170176, 1.135666939846854, 1.73430089543582, 0.930320034684403, 1.4921106496831662, 1.1900999473279645, 1.14811825068445, 0.8507442354617034, 1.5822608447505258, 1.375177982744564, 1.7627706274734127, 1.7751891547496856, 1.0157926696018262, 1.0805450162929813, 1.5428306637018572, 1.5345394785417674, 1.0377435609305434, 1.0333409375360445, 0.9941473910395118, 1.3441201668701932, 1.1515550470743563, 1.4878410657992758, 1.6118620303445683, 1.2162569128065572, 1.4056936311144488, 1.334641823195981, 1.5363308870642862, 1.4364391895815554, 0.942547524803457, 1.5709455961327596, 1.3507224252494456, 1.1488967227845939, 1.5319834627055169, 1.6534468789683097, 1.3004571852048876, 1.5895848230672485, 1.5312171993903427, 1.2347869421554065, 0.9150511579627928, 1.527722642952165, 0.760482757692781, 1.5076476668502499, 1.084675379683258, 1.6777631461212763, 1.1043746498399216, 1.5154477680038505, 1.6797446124396336, 1.3016820478214877, 1.321601999742558, 1.3115627027368923, 1.267926318540793, 1.5853074686109017, 1.4307390587461817, 1.4065680129840286, 1.0262912861912066, 1.0544568707377766, 1.1584095655589879, 1.2700688375666358, 1.1400639215591482, 1.7110429025490046, 1.555347109002277, 1.0731359516550534, 1.7948799700364255, 1.1767272606704229, 1.5185214289862157, 0.976306662679409, 1.1941352792057325, 1.527133658976326, 1.7101897781908078, 1.7859433743457862, 1.580653686895378, 0.7011617033320542, 1.689691191428627, 1.356019285105559, 1.6129111449638691, 0.9710628775664093, 1.424153755651615, 0.8092412327013524, 1.2823961645623063, 1.0781411311878404, 1.682276025291638, 1.0680591873920022, 1.0282429609210009, 0.913126035837497, 1.438645108118002, 0.9067548932273696, 1.4998220605894121, 1.5308952340748474, 1.6709958254358745, 1.474937367200373, 1.32197258235975, 1.5311683652389327, 1.749778796312601, 1.254139170673259, 1.0553866374575653, 1.5497979805764837, 1.67634588955105, 1.4649104843557152, 1.3092338426095511, 1.086482399234698, 1.503496809787209, 0.7728812595839656, 1.5185542563978076, 1.4741672095530145, 1.6590439891190676, 0.9739203077550551, 1.5368939839627782, 1.3540515335777794, 1.5560359797986694, 1.7490727690310461, 1.7566976010543764]\n"
          ],
          "name": "stdout"
        }
      ]
    },
    {
      "cell_type": "code",
      "metadata": {
        "id": "oeLlypq5gbFa"
      },
      "source": [
        ""
      ],
      "execution_count": 64,
      "outputs": []
    },
    {
      "cell_type": "code",
      "metadata": {
        "id": "YJFWGVQJLwRo",
        "colab": {
          "base_uri": "https://localhost:8080/"
        },
        "outputId": "a09552e4-1bed-4741-cfd3-0e7bd4edbdeb"
      },
      "source": [
        "diam = Diameter_All.copy()\n",
        "PSD_value, Perc_value = PSD(diam)\n",
        "print(Perc_value)"
      ],
      "execution_count": 65,
      "outputs": [
        {
          "output_type": "stream",
          "text": [
            "[ 0.          0.          0.          0.          0.          0.\n",
            "  0.66666667  2.         10.         22.         65.33333333]\n"
          ],
          "name": "stdout"
        }
      ]
    },
    {
      "cell_type": "code",
      "metadata": {
        "id": "Zvked-F_kPwi",
        "colab": {
          "base_uri": "https://localhost:8080/"
        },
        "outputId": "291f4221-dbb5-4a12-b77e-63339b291013"
      },
      "source": [
        "!git clone https://github.com/ucfilho/marquesgabi_out_2020\n",
        "%cd marquesgabi_out_2020\n",
        "PSD_imageJ = 'Areas_ImageJ.csv'\n",
        "PSD_new = pd.read_csv(PSD_imageJ)\n",
        "print(PSD_new.head(3))"
      ],
      "execution_count": 66,
      "outputs": [
        {
          "output_type": "stream",
          "text": [
            "Cloning into 'marquesgabi_out_2020'...\n",
            "remote: Enumerating objects: 146, done.\u001b[K\n",
            "remote: Counting objects: 100% (146/146), done.\u001b[K\n",
            "remote: Compressing objects: 100% (142/142), done.\u001b[K\n",
            "remote: Total 146 (delta 75), reused 0 (delta 0), pack-reused 0\u001b[K\n",
            "Receiving objects: 100% (146/146), 1.00 MiB | 5.74 MiB/s, done.\n",
            "Resolving deltas: 100% (75/75), done.\n",
            "/content/marquesgabi_fev_2020/marquesgabi_out_2020/Doutorado/marquesgabi_fev_2020/marquesgabi_out_2020/Doutorado/marquesgabi_fev_2020/marquesgabi_out_2020/Doutorado/marquesgabi_fev_2020/marquesgabi_out_2020/Doutorado/marquesgabi_paper_fev_2021/Doutorado/Doutorado/marquesgabi_out_2020\n",
            "   Juntas   Area\n",
            "0       1  2.001\n",
            "1       2  0.820\n",
            "2       3  1.270\n"
          ],
          "name": "stdout"
        }
      ]
    },
    {
      "cell_type": "code",
      "metadata": {
        "id": "004Ki_RdzWqi"
      },
      "source": [
        "Area = np.array(PSD_new['Area'])\n",
        "diam_teste = []\n",
        "for A in Area:\n",
        "  diam_teste.append((4*A/np.pi)**0.5) \n",
        "\n",
        "Diam1 = [ (4*A/np.pi)**0.5 for A in Area]"
      ],
      "execution_count": 67,
      "outputs": []
    },
    {
      "cell_type": "code",
      "metadata": {
        "id": "40Fdww7M1KSx",
        "colab": {
          "base_uri": "https://localhost:8080/"
        },
        "outputId": "2c42d59c-6bb0-4c46-f861-9346b63c0c81"
      },
      "source": [
        "PSD_new, Perc_new = PSD(Diam1)  # imageJ\n",
        "print(Perc_new)\n",
        "print(Perc_value)"
      ],
      "execution_count": 68,
      "outputs": [
        {
          "output_type": "stream",
          "text": [
            "[ 0.          0.          0.          0.          0.          0.\n",
            "  0.          4.21052632 10.52631579 23.15789474 62.10526316]\n",
            "[ 0.          0.          0.          0.          0.          0.\n",
            "  0.66666667  2.         10.         22.         65.33333333]\n"
          ],
          "name": "stdout"
        }
      ]
    },
    {
      "cell_type": "code",
      "metadata": {
        "id": "jeTMW3eVbpAY",
        "colab": {
          "base_uri": "https://localhost:8080/"
        },
        "outputId": "6f5bf0ee-b5d2-4789-a68d-5bb5f4e1a8fd"
      },
      "source": [
        "np.sum(np.array(Perc_value))"
      ],
      "execution_count": 69,
      "outputs": [
        {
          "output_type": "execute_result",
          "data": {
            "text/plain": [
              "100.0"
            ]
          },
          "metadata": {
            "tags": []
          },
          "execution_count": 69
        }
      ]
    },
    {
      "cell_type": "code",
      "metadata": {
        "id": "oAuyxTmrmc9Y",
        "colab": {
          "base_uri": "https://localhost:8080/",
          "height": 283
        },
        "outputId": "8933dede-2d32-479b-ad05-cb2acbf37195"
      },
      "source": [
        "plt.plot( Perc_value,Perc_new )"
      ],
      "execution_count": 70,
      "outputs": [
        {
          "output_type": "execute_result",
          "data": {
            "text/plain": [
              "[<matplotlib.lines.Line2D at 0x7fd472610150>]"
            ]
          },
          "metadata": {
            "tags": []
          },
          "execution_count": 70
        },
        {
          "output_type": "display_data",
          "data": {
            "image/png": "[encoded data removed]",
            "text/plain": [
              "<Figure size 432x288 with 1 Axes>"
            ]
          },
          "metadata": {
            "tags": [],
            "needs_background": "light"
          }
        }
      ]
    },
    {
      "cell_type": "code",
      "metadata": {
        "id": "n1r49MHFvsPP",
        "colab": {
          "base_uri": "https://localhost:8080/",
          "height": 265
        },
        "outputId": "02c8c2ca-dd49-4f03-a0f6-a01dad0a7596"
      },
      "source": [
        "PSD_comparison = pd.DataFrame({ 'CNN':Perc_value,'ImgJ':Perc_new})\n",
        "ax = PSD_comparison.plot.bar(rot=0)"
      ],
      "execution_count": 71,
      "outputs": [
        {
          "output_type": "display_data",
          "data": {
            "image/png": "[encoded data removed]",
            "text/plain": [
              "<Figure size 432x288 with 1 Axes>"
            ]
          },
          "metadata": {
            "tags": [],
            "needs_background": "light"
          }
        }
      ]
    },
    {
      "cell_type": "code",
      "metadata": {
        "id": "enuGx6kH4cFh"
      },
      "source": [
        ""
      ],
      "execution_count": 71,
      "outputs": []
    },
    {
      "cell_type": "code",
      "metadata": {
        "id": "sW4TRqxc0Li-",
        "colab": {
          "base_uri": "https://localhost:8080/"
        },
        "outputId": "af16abe2-8231-4687-d5df-11987051fd95"
      },
      "source": [
        "results = smf.ols('ImgJ ~ CNN', data=PSD_comparison).fit()\n",
        "print(results.summary())"
      ],
      "execution_count": 72,
      "outputs": [
        {
          "output_type": "stream",
          "text": [
            "                            OLS Regression Results                            \n",
            "==============================================================================\n",
            "Dep. Variable:                   ImgJ   R-squared:                       0.997\n",
            "Model:                            OLS   Adj. R-squared:                  0.997\n",
            "Method:                 Least Squares   F-statistic:                     3412.\n",
            "Date:                Thu, 11 Mar 2021   Prob (F-statistic):           6.37e-13\n",
            "Time:                        15:09:47   Log-Likelihood:                -14.805\n",
            "No. Observations:                  11   AIC:                             33.61\n",
            "Df Residuals:                       9   BIC:                             34.41\n",
            "Df Model:                           1                                         \n",
            "Covariance Type:            nonrobust                                         \n",
            "==============================================================================\n",
            "                 coef    std err          t      P>|t|      [0.025      0.975]\n",
            "------------------------------------------------------------------------------\n",
            "Intercept      0.4057      0.344      1.180      0.268      -0.372       1.183\n",
            "CNN            0.9554      0.016     58.408      0.000       0.918       0.992\n",
            "==============================================================================\n",
            "Omnibus:                        4.563   Durbin-Watson:                   1.911\n",
            "Prob(Omnibus):                  0.102   Jarque-Bera (JB):                2.491\n",
            "Skew:                           1.164   Prob(JB):                        0.288\n",
            "Kurtosis:                       2.876   Cond. No.                         23.3\n",
            "==============================================================================\n",
            "\n",
            "Warnings:\n",
            "[1] Standard Errors assume that the covariance matrix of the errors is correctly specified.\n"
          ],
          "name": "stdout"
        },
        {
          "output_type": "stream",
          "text": [
            "/usr/local/lib/python3.7/dist-packages/scipy/stats/stats.py:1535: UserWarning: kurtosistest only valid for n>=20 ... continuing anyway, n=11\n",
            "  \"anyway, n=%i\" % int(n))\n"
          ],
          "name": "stderr"
        }
      ]
    },
    {
      "cell_type": "code",
      "metadata": {
        "id": "Ctf4oExeyz1B",
        "colab": {
          "base_uri": "https://localhost:8080/",
          "height": 283
        },
        "outputId": "6f82ff02-6b88-46c0-a370-dc53af31aaca"
      },
      "source": [
        "#plt.plot(Diam)\n",
        "plt.plot(Diameter_All)"
      ],
      "execution_count": 73,
      "outputs": [
        {
          "output_type": "execute_result",
          "data": {
            "text/plain": [
              "[<matplotlib.lines.Line2D at 0x7fd4723c7f10>]"
            ]
          },
          "metadata": {
            "tags": []
          },
          "execution_count": 73
        },
        {
          "output_type": "display_data",
          "data": {
            "image/png": "[encoded data removed]",
            "text/plain": [
              "<Figure size 432x288 with 1 Axes>"
            ]
          },
          "metadata": {
            "tags": [],
            "needs_background": "light"
          }
        }
      ]
    },
    {
      "cell_type": "code",
      "metadata": {
        "id": "WKwv70Nty2jF",
        "colab": {
          "base_uri": "https://localhost:8080/",
          "height": 283
        },
        "outputId": "fd80322f-bcf5-4f7e-c028-a8ef2ab84ddf"
      },
      "source": [
        "plt.plot(Diam1)"
      ],
      "execution_count": 74,
      "outputs": [
        {
          "output_type": "execute_result",
          "data": {
            "text/plain": [
              "[<matplotlib.lines.Line2D at 0x7fd472337f50>]"
            ]
          },
          "metadata": {
            "tags": []
          },
          "execution_count": 74
        },
        {
          "output_type": "display_data",
          "data": {
            "image/png": "[encoded data removed]",
            "text/plain": [
              "<Figure size 432x288 with 1 Axes>"
            ]
          },
          "metadata": {
            "tags": [],
            "needs_background": "light"
          }
        }
      ]
    },
    {
      "cell_type": "code",
      "metadata": {
        "id": "eDfOaBFQ3BMS",
        "colab": {
          "base_uri": "https://localhost:8080/",
          "height": 288
        },
        "outputId": "f23506e5-986d-47a7-c50c-387181f05f0d"
      },
      "source": [
        "df_diam=pd.DataFrame(Diam1)\r\n",
        "df_diam.describe()"
      ],
      "execution_count": 75,
      "outputs": [
        {
          "output_type": "execute_result",
          "data": {
            "text/html": [
              "<div>\n",
              "<style scoped>\n",
              "    .dataframe tbody tr th:only-of-type {\n",
              "        vertical-align: middle;\n",
              "    }\n",
              "\n",
              "    .dataframe tbody tr th {\n",
              "        vertical-align: top;\n",
              "    }\n",
              "\n",
              "    .dataframe thead th {\n",
              "        text-align: right;\n",
              "    }\n",
              "</style>\n",
              "<table border=\"1\" class=\"dataframe\">\n",
              "  <thead>\n",
              "    <tr style=\"text-align: right;\">\n",
              "      <th></th>\n",
              "      <th>0</th>\n",
              "    </tr>\n",
              "  </thead>\n",
              "  <tbody>\n",
              "    <tr>\n",
              "      <th>count</th>\n",
              "      <td>95.000000</td>\n",
              "    </tr>\n",
              "    <tr>\n",
              "      <th>mean</th>\n",
              "      <td>1.260307</td>\n",
              "    </tr>\n",
              "    <tr>\n",
              "      <th>std</th>\n",
              "      <td>0.258410</td>\n",
              "    </tr>\n",
              "    <tr>\n",
              "      <th>min</th>\n",
              "      <td>0.753568</td>\n",
              "    </tr>\n",
              "    <tr>\n",
              "      <th>25%</th>\n",
              "      <td>1.117893</td>\n",
              "    </tr>\n",
              "    <tr>\n",
              "      <th>50%</th>\n",
              "      <td>1.267607</td>\n",
              "    </tr>\n",
              "    <tr>\n",
              "      <th>75%</th>\n",
              "      <td>1.376667</td>\n",
              "    </tr>\n",
              "    <tr>\n",
              "      <th>max</th>\n",
              "      <td>2.317439</td>\n",
              "    </tr>\n",
              "  </tbody>\n",
              "</table>\n",
              "</div>"
            ],
            "text/plain": [
              "               0\n",
              "count  95.000000\n",
              "mean    1.260307\n",
              "std     0.258410\n",
              "min     0.753568\n",
              "25%     1.117893\n",
              "50%     1.267607\n",
              "75%     1.376667\n",
              "max     2.317439"
            ]
          },
          "metadata": {
            "tags": []
          },
          "execution_count": 75
        }
      ]
    },
    {
      "cell_type": "code",
      "metadata": {
        "id": "LKMhybhA4gjO",
        "colab": {
          "base_uri": "https://localhost:8080/",
          "height": 339
        },
        "outputId": "f64c14c6-6927-4d35-8fdd-f24ebcedf378"
      },
      "source": [
        "plt.hist([Diam1,Diameter_All])\r\n",
        "plt.legend(['Image J','CNN'])"
      ],
      "execution_count": 76,
      "outputs": [
        {
          "output_type": "stream",
          "text": [
            "/usr/local/lib/python3.7/dist-packages/numpy/core/_asarray.py:83: VisibleDeprecationWarning: Creating an ndarray from ragged nested sequences (which is a list-or-tuple of lists-or-tuples-or ndarrays with different lengths or shapes) is deprecated. If you meant to do this, you must specify 'dtype=object' when creating the ndarray\n",
            "  return array(a, dtype, copy=False, order=order)\n"
          ],
          "name": "stderr"
        },
        {
          "output_type": "execute_result",
          "data": {
            "text/plain": [
              "<matplotlib.legend.Legend at 0x7fd472352410>"
            ]
          },
          "metadata": {
            "tags": []
          },
          "execution_count": 76
        },
        {
          "output_type": "display_data",
          "data": {
            "image/png": "[encoded data removed]",
            "text/plain": [
              "<Figure size 432x288 with 1 Axes>"
            ]
          },
          "metadata": {
            "tags": [],
            "needs_background": "light"
          }
        }
      ]
    },
    {
      "cell_type": "code",
      "metadata": {
        "id": "NHgkMv8i5nNz",
        "colab": {
          "base_uri": "https://localhost:8080/",
          "height": 355
        },
        "outputId": "17671722-aecb-49f0-cb0d-bfc230cb750f"
      },
      "source": [
        "plt.hist(Diam1, alpha=0.5)\r\n",
        "plt.hist(Diameter_All, alpha=0.5)"
      ],
      "execution_count": 77,
      "outputs": [
        {
          "output_type": "execute_result",
          "data": {
            "text/plain": [
              "(array([ 4.,  6., 14., 17., 18., 21., 12., 27., 18., 13.]),\n",
              " array([0.7011617 , 0.81053353, 0.91990536, 1.02927718, 1.13864901,\n",
              "        1.24802084, 1.35739266, 1.46676449, 1.57613632, 1.68550814,\n",
              "        1.79487997]),\n",
              " <a list of 10 Patch objects>)"
            ]
          },
          "metadata": {
            "tags": []
          },
          "execution_count": 77
        },
        {
          "output_type": "display_data",
          "data": {
            "image/png": "[encoded data removed]",
            "text/plain": [
              "<Figure size 432x288 with 1 Axes>"
            ]
          },
          "metadata": {
            "tags": [],
            "needs_background": "light"
          }
        }
      ]
    },
    {
      "cell_type": "markdown",
      "metadata": {
        "id": "9Pq4DTm1np4i"
      },
      "source": [
        ""
      ]
    }
  ]
}